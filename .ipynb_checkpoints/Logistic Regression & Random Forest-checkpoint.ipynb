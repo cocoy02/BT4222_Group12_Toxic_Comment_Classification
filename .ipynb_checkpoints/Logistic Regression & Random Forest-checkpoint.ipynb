{
 "cells": [
  {
   "cell_type": "markdown",
   "id": "9aa47893",
   "metadata": {},
   "source": [
    "## Read Data"
   ]
  },
  {
   "cell_type": "code",
   "execution_count": 190,
   "id": "897304a2",
   "metadata": {},
   "outputs": [],
   "source": [
    "import pandas as pd\n",
    "import numpy as np\n",
    "\n",
    "# for reg model training\n",
    "from sklearn.linear_model import LogisticRegression\n",
    "from sklearn.linear_model import LogisticRegressionCV\n",
    "\n",
    "# for random forest\n",
    "from sklearn.ensemble import RandomForestClassifier\n",
    "\n",
    "# for multi label classification\n",
    "from sklearn.datasets import make_multilabel_classification\n",
    "from skmultilearn.problem_transform import ClassifierChain\n",
    "from sklearn.multioutput import MultiOutputClassifier\n",
    "from skmultilearn.problem_transform import LabelPowerset\n",
    "from skmultilearn.problem_transform import BinaryRelevance\n",
    "\n",
    "# for evaluation metrics\n",
    "%run -i helper_functions.py\n",
    "\n",
    "import warnings\n",
    "warnings.filterwarnings(\"ignore\")"
   ]
  },
  {
   "cell_type": "code",
   "execution_count": 4,
   "id": "61c8dce6",
   "metadata": {},
   "outputs": [],
   "source": [
    "selected_train = pd.read_csv('Data/selected_train.csv')\n",
    "selected_test = pd.read_csv('Data/selected_test.csv')"
   ]
  },
  {
   "cell_type": "code",
   "execution_count": 5,
   "id": "9f0a7ccb",
   "metadata": {},
   "outputs": [
    {
     "data": {
      "text/html": [
       "<div>\n",
       "<style scoped>\n",
       "    .dataframe tbody tr th:only-of-type {\n",
       "        vertical-align: middle;\n",
       "    }\n",
       "\n",
       "    .dataframe tbody tr th {\n",
       "        vertical-align: top;\n",
       "    }\n",
       "\n",
       "    .dataframe thead th {\n",
       "        text-align: right;\n",
       "    }\n",
       "</style>\n",
       "<table border=\"1\" class=\"dataframe\">\n",
       "  <thead>\n",
       "    <tr style=\"text-align: right;\">\n",
       "      <th></th>\n",
       "      <th>toxic</th>\n",
       "      <th>severe_toxic</th>\n",
       "      <th>obscene</th>\n",
       "      <th>threat</th>\n",
       "      <th>insult</th>\n",
       "      <th>identity_hate</th>\n",
       "      <th>none</th>\n",
       "      <th>min_length_scaled</th>\n",
       "      <th>num_words_vs_length</th>\n",
       "      <th>exclamation_marks_vs_length</th>\n",
       "      <th>...</th>\n",
       "      <th>105</th>\n",
       "      <th>114</th>\n",
       "      <th>132</th>\n",
       "      <th>135</th>\n",
       "      <th>139</th>\n",
       "      <th>143</th>\n",
       "      <th>156</th>\n",
       "      <th>157</th>\n",
       "      <th>170</th>\n",
       "      <th>198</th>\n",
       "    </tr>\n",
       "  </thead>\n",
       "  <tbody>\n",
       "    <tr>\n",
       "      <th>0</th>\n",
       "      <td>0</td>\n",
       "      <td>0</td>\n",
       "      <td>0</td>\n",
       "      <td>0</td>\n",
       "      <td>0</td>\n",
       "      <td>0</td>\n",
       "      <td>1</td>\n",
       "      <td>0.009393</td>\n",
       "      <td>0.181132</td>\n",
       "      <td>0.000000</td>\n",
       "      <td>...</td>\n",
       "      <td>-0.091320</td>\n",
       "      <td>-0.017755</td>\n",
       "      <td>0.003997</td>\n",
       "      <td>-0.199211</td>\n",
       "      <td>-0.109984</td>\n",
       "      <td>0.089084</td>\n",
       "      <td>0.012651</td>\n",
       "      <td>-0.019501</td>\n",
       "      <td>-0.091946</td>\n",
       "      <td>-0.113697</td>\n",
       "    </tr>\n",
       "    <tr>\n",
       "      <th>1</th>\n",
       "      <td>0</td>\n",
       "      <td>0</td>\n",
       "      <td>0</td>\n",
       "      <td>0</td>\n",
       "      <td>0</td>\n",
       "      <td>0</td>\n",
       "      <td>1</td>\n",
       "      <td>0.000723</td>\n",
       "      <td>0.160714</td>\n",
       "      <td>0.008929</td>\n",
       "      <td>...</td>\n",
       "      <td>-0.118445</td>\n",
       "      <td>0.039541</td>\n",
       "      <td>0.017522</td>\n",
       "      <td>0.001397</td>\n",
       "      <td>0.000094</td>\n",
       "      <td>0.021135</td>\n",
       "      <td>0.039308</td>\n",
       "      <td>-0.067295</td>\n",
       "      <td>-0.079366</td>\n",
       "      <td>-0.044959</td>\n",
       "    </tr>\n",
       "    <tr>\n",
       "      <th>2</th>\n",
       "      <td>0</td>\n",
       "      <td>0</td>\n",
       "      <td>0</td>\n",
       "      <td>0</td>\n",
       "      <td>0</td>\n",
       "      <td>0</td>\n",
       "      <td>1</td>\n",
       "      <td>0.007225</td>\n",
       "      <td>0.188841</td>\n",
       "      <td>0.000000</td>\n",
       "      <td>...</td>\n",
       "      <td>-0.131555</td>\n",
       "      <td>-0.060714</td>\n",
       "      <td>0.026459</td>\n",
       "      <td>-0.029582</td>\n",
       "      <td>-0.146134</td>\n",
       "      <td>0.109907</td>\n",
       "      <td>0.036539</td>\n",
       "      <td>-0.053628</td>\n",
       "      <td>0.027530</td>\n",
       "      <td>-0.211230</td>\n",
       "    </tr>\n",
       "    <tr>\n",
       "      <th>3</th>\n",
       "      <td>0</td>\n",
       "      <td>0</td>\n",
       "      <td>0</td>\n",
       "      <td>0</td>\n",
       "      <td>0</td>\n",
       "      <td>0</td>\n",
       "      <td>1</td>\n",
       "      <td>0.007948</td>\n",
       "      <td>0.175719</td>\n",
       "      <td>0.000000</td>\n",
       "      <td>...</td>\n",
       "      <td>-0.145382</td>\n",
       "      <td>-0.004285</td>\n",
       "      <td>-0.000706</td>\n",
       "      <td>-0.134984</td>\n",
       "      <td>-0.214832</td>\n",
       "      <td>0.177560</td>\n",
       "      <td>0.007675</td>\n",
       "      <td>-0.087473</td>\n",
       "      <td>0.106848</td>\n",
       "      <td>-0.015987</td>\n",
       "    </tr>\n",
       "    <tr>\n",
       "      <th>4</th>\n",
       "      <td>0</td>\n",
       "      <td>0</td>\n",
       "      <td>0</td>\n",
       "      <td>0</td>\n",
       "      <td>0</td>\n",
       "      <td>0</td>\n",
       "      <td>1</td>\n",
       "      <td>0.003613</td>\n",
       "      <td>0.208955</td>\n",
       "      <td>0.000000</td>\n",
       "      <td>...</td>\n",
       "      <td>0.007073</td>\n",
       "      <td>-0.204627</td>\n",
       "      <td>0.162032</td>\n",
       "      <td>0.013798</td>\n",
       "      <td>-0.221076</td>\n",
       "      <td>0.163578</td>\n",
       "      <td>-0.068310</td>\n",
       "      <td>-0.031184</td>\n",
       "      <td>-0.017280</td>\n",
       "      <td>0.038566</td>\n",
       "    </tr>\n",
       "  </tbody>\n",
       "</table>\n",
       "<p>5 rows × 48 columns</p>\n",
       "</div>"
      ],
      "text/plain": [
       "   toxic  severe_toxic  obscene  threat  insult  identity_hate  none  \\\n",
       "0      0             0        0       0       0              0     1   \n",
       "1      0             0        0       0       0              0     1   \n",
       "2      0             0        0       0       0              0     1   \n",
       "3      0             0        0       0       0              0     1   \n",
       "4      0             0        0       0       0              0     1   \n",
       "\n",
       "   min_length_scaled  num_words_vs_length  exclamation_marks_vs_length  ...  \\\n",
       "0           0.009393             0.181132                     0.000000  ...   \n",
       "1           0.000723             0.160714                     0.008929  ...   \n",
       "2           0.007225             0.188841                     0.000000  ...   \n",
       "3           0.007948             0.175719                     0.000000  ...   \n",
       "4           0.003613             0.208955                     0.000000  ...   \n",
       "\n",
       "        105       114       132       135       139       143       156  \\\n",
       "0 -0.091320 -0.017755  0.003997 -0.199211 -0.109984  0.089084  0.012651   \n",
       "1 -0.118445  0.039541  0.017522  0.001397  0.000094  0.021135  0.039308   \n",
       "2 -0.131555 -0.060714  0.026459 -0.029582 -0.146134  0.109907  0.036539   \n",
       "3 -0.145382 -0.004285 -0.000706 -0.134984 -0.214832  0.177560  0.007675   \n",
       "4  0.007073 -0.204627  0.162032  0.013798 -0.221076  0.163578 -0.068310   \n",
       "\n",
       "        157       170       198  \n",
       "0 -0.019501 -0.091946 -0.113697  \n",
       "1 -0.067295 -0.079366 -0.044959  \n",
       "2 -0.053628  0.027530 -0.211230  \n",
       "3 -0.087473  0.106848 -0.015987  \n",
       "4 -0.031184 -0.017280  0.038566  \n",
       "\n",
       "[5 rows x 48 columns]"
      ]
     },
     "execution_count": 5,
     "metadata": {},
     "output_type": "execute_result"
    }
   ],
   "source": [
    "selected_train.head()"
   ]
  },
  {
   "cell_type": "code",
   "execution_count": 7,
   "id": "ce42bcb4",
   "metadata": {},
   "outputs": [
    {
     "data": {
      "text/plain": [
       "(159571, 48)"
      ]
     },
     "execution_count": 7,
     "metadata": {},
     "output_type": "execute_result"
    }
   ],
   "source": [
    "selected_train.shape"
   ]
  },
  {
   "cell_type": "code",
   "execution_count": 8,
   "id": "400224e4",
   "metadata": {},
   "outputs": [
    {
     "data": {
      "text/html": [
       "<div>\n",
       "<style scoped>\n",
       "    .dataframe tbody tr th:only-of-type {\n",
       "        vertical-align: middle;\n",
       "    }\n",
       "\n",
       "    .dataframe tbody tr th {\n",
       "        vertical-align: top;\n",
       "    }\n",
       "\n",
       "    .dataframe thead th {\n",
       "        text-align: right;\n",
       "    }\n",
       "</style>\n",
       "<table border=\"1\" class=\"dataframe\">\n",
       "  <thead>\n",
       "    <tr style=\"text-align: right;\">\n",
       "      <th></th>\n",
       "      <th>toxic</th>\n",
       "      <th>severe_toxic</th>\n",
       "      <th>obscene</th>\n",
       "      <th>threat</th>\n",
       "      <th>insult</th>\n",
       "      <th>identity_hate</th>\n",
       "      <th>min_length_scaled</th>\n",
       "      <th>num_words_vs_length</th>\n",
       "      <th>exclamation_marks_vs_length</th>\n",
       "      <th>num_unique_words_scaled</th>\n",
       "      <th>...</th>\n",
       "      <th>114</th>\n",
       "      <th>132</th>\n",
       "      <th>135</th>\n",
       "      <th>139</th>\n",
       "      <th>143</th>\n",
       "      <th>156</th>\n",
       "      <th>157</th>\n",
       "      <th>170</th>\n",
       "      <th>198</th>\n",
       "      <th>none</th>\n",
       "    </tr>\n",
       "  </thead>\n",
       "  <tbody>\n",
       "    <tr>\n",
       "      <th>0</th>\n",
       "      <td>0</td>\n",
       "      <td>0</td>\n",
       "      <td>0</td>\n",
       "      <td>0</td>\n",
       "      <td>0</td>\n",
       "      <td>0</td>\n",
       "      <td>0.002890</td>\n",
       "      <td>0.166667</td>\n",
       "      <td>0.000000</td>\n",
       "      <td>0.032911</td>\n",
       "      <td>...</td>\n",
       "      <td>0.040738</td>\n",
       "      <td>-0.010083</td>\n",
       "      <td>-0.158238</td>\n",
       "      <td>-0.204194</td>\n",
       "      <td>0.116565</td>\n",
       "      <td>0.098296</td>\n",
       "      <td>-0.206160</td>\n",
       "      <td>0.046779</td>\n",
       "      <td>-0.036748</td>\n",
       "      <td>1</td>\n",
       "    </tr>\n",
       "    <tr>\n",
       "      <th>1</th>\n",
       "      <td>0</td>\n",
       "      <td>0</td>\n",
       "      <td>0</td>\n",
       "      <td>0</td>\n",
       "      <td>0</td>\n",
       "      <td>0</td>\n",
       "      <td>0.005058</td>\n",
       "      <td>0.187500</td>\n",
       "      <td>0.000000</td>\n",
       "      <td>0.015190</td>\n",
       "      <td>...</td>\n",
       "      <td>-0.013467</td>\n",
       "      <td>0.003550</td>\n",
       "      <td>-0.117174</td>\n",
       "      <td>-0.075475</td>\n",
       "      <td>0.043945</td>\n",
       "      <td>-0.148617</td>\n",
       "      <td>-0.350740</td>\n",
       "      <td>0.113815</td>\n",
       "      <td>-0.070907</td>\n",
       "      <td>1</td>\n",
       "    </tr>\n",
       "    <tr>\n",
       "      <th>2</th>\n",
       "      <td>0</td>\n",
       "      <td>0</td>\n",
       "      <td>0</td>\n",
       "      <td>0</td>\n",
       "      <td>0</td>\n",
       "      <td>0</td>\n",
       "      <td>0.000723</td>\n",
       "      <td>0.149554</td>\n",
       "      <td>0.002232</td>\n",
       "      <td>0.118987</td>\n",
       "      <td>...</td>\n",
       "      <td>-0.125080</td>\n",
       "      <td>0.045087</td>\n",
       "      <td>-0.119656</td>\n",
       "      <td>-0.274707</td>\n",
       "      <td>0.102546</td>\n",
       "      <td>0.100782</td>\n",
       "      <td>-0.107205</td>\n",
       "      <td>-0.050780</td>\n",
       "      <td>-0.098343</td>\n",
       "      <td>1</td>\n",
       "    </tr>\n",
       "    <tr>\n",
       "      <th>3</th>\n",
       "      <td>0</td>\n",
       "      <td>0</td>\n",
       "      <td>0</td>\n",
       "      <td>0</td>\n",
       "      <td>0</td>\n",
       "      <td>0</td>\n",
       "      <td>0.007225</td>\n",
       "      <td>0.169661</td>\n",
       "      <td>0.000000</td>\n",
       "      <td>0.070886</td>\n",
       "      <td>...</td>\n",
       "      <td>-0.023304</td>\n",
       "      <td>-0.005002</td>\n",
       "      <td>-0.281848</td>\n",
       "      <td>-0.157011</td>\n",
       "      <td>0.184323</td>\n",
       "      <td>0.067625</td>\n",
       "      <td>-0.066242</td>\n",
       "      <td>0.023737</td>\n",
       "      <td>-0.111269</td>\n",
       "      <td>1</td>\n",
       "    </tr>\n",
       "    <tr>\n",
       "      <th>4</th>\n",
       "      <td>0</td>\n",
       "      <td>0</td>\n",
       "      <td>0</td>\n",
       "      <td>0</td>\n",
       "      <td>0</td>\n",
       "      <td>0</td>\n",
       "      <td>0.003613</td>\n",
       "      <td>0.167665</td>\n",
       "      <td>0.000000</td>\n",
       "      <td>0.060759</td>\n",
       "      <td>...</td>\n",
       "      <td>0.055657</td>\n",
       "      <td>0.024936</td>\n",
       "      <td>-0.181419</td>\n",
       "      <td>-0.165707</td>\n",
       "      <td>0.194511</td>\n",
       "      <td>0.143557</td>\n",
       "      <td>-0.059017</td>\n",
       "      <td>0.136676</td>\n",
       "      <td>-0.004530</td>\n",
       "      <td>1</td>\n",
       "    </tr>\n",
       "  </tbody>\n",
       "</table>\n",
       "<p>5 rows × 48 columns</p>\n",
       "</div>"
      ],
      "text/plain": [
       "   toxic  severe_toxic  obscene  threat  insult  identity_hate  \\\n",
       "0      0             0        0       0       0              0   \n",
       "1      0             0        0       0       0              0   \n",
       "2      0             0        0       0       0              0   \n",
       "3      0             0        0       0       0              0   \n",
       "4      0             0        0       0       0              0   \n",
       "\n",
       "   min_length_scaled  num_words_vs_length  exclamation_marks_vs_length  \\\n",
       "0           0.002890             0.166667                     0.000000   \n",
       "1           0.005058             0.187500                     0.000000   \n",
       "2           0.000723             0.149554                     0.002232   \n",
       "3           0.007225             0.169661                     0.000000   \n",
       "4           0.003613             0.167665                     0.000000   \n",
       "\n",
       "   num_unique_words_scaled  ...       114       132       135       139  \\\n",
       "0                 0.032911  ...  0.040738 -0.010083 -0.158238 -0.204194   \n",
       "1                 0.015190  ... -0.013467  0.003550 -0.117174 -0.075475   \n",
       "2                 0.118987  ... -0.125080  0.045087 -0.119656 -0.274707   \n",
       "3                 0.070886  ... -0.023304 -0.005002 -0.281848 -0.157011   \n",
       "4                 0.060759  ...  0.055657  0.024936 -0.181419 -0.165707   \n",
       "\n",
       "        143       156       157       170       198  none  \n",
       "0  0.116565  0.098296 -0.206160  0.046779 -0.036748     1  \n",
       "1  0.043945 -0.148617 -0.350740  0.113815 -0.070907     1  \n",
       "2  0.102546  0.100782 -0.107205 -0.050780 -0.098343     1  \n",
       "3  0.184323  0.067625 -0.066242  0.023737 -0.111269     1  \n",
       "4  0.194511  0.143557 -0.059017  0.136676 -0.004530     1  \n",
       "\n",
       "[5 rows x 48 columns]"
      ]
     },
     "execution_count": 8,
     "metadata": {},
     "output_type": "execute_result"
    }
   ],
   "source": [
    "selected_test.head()"
   ]
  },
  {
   "cell_type": "code",
   "execution_count": 10,
   "id": "0b03a28f",
   "metadata": {},
   "outputs": [
    {
     "data": {
      "text/plain": [
       "(63978, 48)"
      ]
     },
     "execution_count": 10,
     "metadata": {},
     "output_type": "execute_result"
    }
   ],
   "source": [
    "selected_test.shape"
   ]
  },
  {
   "cell_type": "code",
   "execution_count": 11,
   "id": "faf20dfd",
   "metadata": {},
   "outputs": [
    {
     "data": {
      "text/plain": [
       "Index(['toxic', 'severe_toxic', 'obscene', 'threat', 'insult', 'identity_hate',\n",
       "       'min_length_scaled', 'num_words_vs_length',\n",
       "       'exclamation_marks_vs_length', 'num_unique_words_scaled',\n",
       "       'verbs_vs_length', 'num_uppercase_scaled', 'uppercase_vs_length',\n",
       "       'sentiment', 'bad_toxic_vs_length', 'bad_severe_toxic_vs_length',\n",
       "       'bad_obscene_vs_length', 'bad_threat_vs_length', 'bad_insult_vs_length',\n",
       "       'bad_identity_hate_vs_length', '29', '34', '46', '47', '53', '54', '65',\n",
       "       '72', '82', '86', '87', '93', '95', '96', '98', '100', '103', '105',\n",
       "       '114', '132', '135', '139', '143', '156', '157', '170', '198', 'none'],\n",
       "      dtype='object')"
      ]
     },
     "execution_count": 11,
     "metadata": {},
     "output_type": "execute_result"
    }
   ],
   "source": [
    "selected_test.columns"
   ]
  },
  {
   "cell_type": "code",
   "execution_count": 42,
   "id": "e1daa181",
   "metadata": {},
   "outputs": [],
   "source": [
    "features = selected_test.columns[7:-1]\n",
    "labels = ['toxic', 'severe_toxic', 'obscene', 'threat', 'insult', 'identity_hate']"
   ]
  },
  {
   "cell_type": "markdown",
   "id": "dcfe68fd",
   "metadata": {},
   "source": [
    "## Model Building"
   ]
  },
  {
   "cell_type": "markdown",
   "id": "dce72f7b",
   "metadata": {},
   "source": [
    "### Logistic Regression Using OneVsRest"
   ]
  },
  {
   "cell_type": "code",
   "execution_count": 117,
   "id": "699a107d",
   "metadata": {},
   "outputs": [],
   "source": [
    "# with reweight\n",
    "classifier_log_ovr = MultiOutputClassifier(LogisticRegression(max_iter=10000, class_weight='balanced'))\n",
    "# train\n",
    "classifier_log_ovr.fit(selected_train[features], selected_train[labels])\n",
    "# predict\n",
    "predictions_log_ovr = classifier_log_ovr.predict(selected_train[features])"
   ]
  },
  {
   "cell_type": "code",
   "execution_count": 118,
   "id": "1ce2d9d1",
   "metadata": {},
   "outputs": [],
   "source": [
    "# predict probability\n",
    "predictions_proba_log_ovr = classifier_log_ovr.predict_proba(selected_train[features])"
   ]
  },
  {
   "cell_type": "code",
   "execution_count": 191,
   "id": "038bd8a2",
   "metadata": {},
   "outputs": [
    {
     "name": "stdout",
     "output_type": "stream",
     "text": [
      "Accuracy score:  0.9071573155523247\n",
      "Precision score:  0.7835665408904706\n",
      "Recall score:  0.4539005071514046\n",
      "F1 score:  0.5705580253670303\n"
     ]
    }
   ],
   "source": [
    "# model evaluation overall score\n",
    "get_overall_evaluation_score(selected_train[labels], predictions_log_ovr)"
   ]
  },
  {
   "cell_type": "code",
   "execution_count": 201,
   "id": "0c7fec78",
   "metadata": {},
   "outputs": [
    {
     "name": "stdout",
     "output_type": "stream",
     "text": [
      "fitting for label toxic\n",
      "Accuracy score:  0.9446954647147665\n",
      "Precision score:  0.8416605049117989\n",
      "Recall score:  0.5209886229894076\n",
      "F1 score:  0.643592746658051\n",
      "Confusion matrix:\n",
      "[[142778   1499]\n",
      " [  7326   7968]]\n",
      "Logarithmic Loss:  0.15238669789000686\n",
      "ROC AUC score:  0.941303466965538\n",
      "\n",
      "\n",
      "fitting for label severe_toxic\n",
      "Accuracy score:  0.990236321136046\n",
      "Precision score:  0.5300813008130081\n",
      "Recall score:  0.2043887147335423\n",
      "F1 score:  0.2950226244343891\n",
      "Confusion matrix:\n",
      "[[157687    289]\n",
      " [  1269    326]]\n",
      "Logarithmic Loss:  0.029947837509383204\n",
      "ROC AUC score:  0.9689319896693167\n",
      "\n",
      "\n",
      "fitting for label obscene\n",
      "Accuracy score:  0.9676883644271203\n",
      "Precision score:  0.8245614035087719\n",
      "Recall score:  0.49508817611551664\n",
      "F1 score:  0.61869545925159\n",
      "Confusion matrix:\n",
      "[[150232    890]\n",
      " [  4266   4183]]\n",
      "Logarithmic Loss:  0.09489150128336714\n",
      "ROC AUC score:  0.9569661176088267\n",
      "\n",
      "\n",
      "fitting for label threat\n",
      "Accuracy score:  0.996973134216117\n",
      "Precision score:  0.41379310344827586\n",
      "Recall score:  0.02510460251046025\n",
      "F1 score:  0.04733727810650887\n",
      "Confusion matrix:\n",
      "[[159076     17]\n",
      " [   466     12]]\n",
      "Logarithmic Loss:  0.013347073234720477\n",
      "ROC AUC score:  0.9467331704907636\n",
      "\n",
      "\n",
      "fitting for label insult\n",
      "Accuracy score:  0.9651064416466651\n",
      "Precision score:  0.7629241630608062\n",
      "Recall score:  0.42528881553891074\n",
      "F1 score:  0.5461362895337464\n",
      "Confusion matrix:\n",
      "[[150653   1041]\n",
      " [  4527   3350]]\n",
      "Logarithmic Loss:  0.10151716878913138\n",
      "ROC AUC score:  0.9512037555931819\n",
      "\n",
      "\n",
      "fitting for label identity_hate\n",
      "Accuracy score:  0.9910196714941938\n",
      "Precision score:  0.4339622641509434\n",
      "Recall score:  0.06548042704626335\n",
      "F1 score:  0.11379097093382809\n",
      "Confusion matrix:\n",
      "[[158046    120]\n",
      " [  1313     92]]\n",
      "Logarithmic Loss:  0.035251481189237134\n",
      "ROC AUC score:  0.9290127746770669\n",
      "\n",
      "\n"
     ]
    }
   ],
   "source": [
    "# model evaluation on each label\n",
    "i = 0\n",
    "for label in labels:\n",
    "    print(f'fitting for label {label}')\n",
    "    get_evaluation_score_single_class(selected_train[label], predictions_log_ovr[:,i], np.array(predictions_proba_log_ovr[i][:,1]).T)\n",
    "    i += 1\n",
    "    print(\"\\n\")"
   ]
  },
  {
   "cell_type": "code",
   "execution_count": 230,
   "id": "5ab27f18",
   "metadata": {},
   "outputs": [],
   "source": [
    "# using crosee validation\n",
    "# with reweight\n",
    "classifier_log_ovr_cv = MultiOutputClassifier(LogisticRegressionCV(max_iter=10000, class_weight='balanced',cv = 5))\n",
    "# train\n",
    "classifier_log_ovr_cv.fit(selected_train[features], selected_train[labels])\n",
    "# predict\n",
    "predictions_log_ovr_cv = classifier_log_ovr.predict(selected_train[features])"
   ]
  },
  {
   "cell_type": "code",
   "execution_count": 231,
   "id": "e3b1a070",
   "metadata": {},
   "outputs": [],
   "source": [
    "# predict probability\n",
    "predictions_proba_log_ovr_cv = classifier_log_ovr_cv.predict_proba(selected_train[features])"
   ]
  },
  {
   "cell_type": "code",
   "execution_count": 232,
   "id": "eacd8d36",
   "metadata": {},
   "outputs": [
    {
     "name": "stdout",
     "output_type": "stream",
     "text": [
      "Accuracy score:  0.9071573155523247\n",
      "Precision score:  0.7835665408904706\n",
      "Recall score:  0.4539005071514046\n",
      "F1 score:  0.5705580253670303\n"
     ]
    }
   ],
   "source": [
    "# model evaluation overall score\n",
    "get_overall_evaluation_score(selected_train[labels], predictions_log_ovr_cv)"
   ]
  },
  {
   "cell_type": "markdown",
   "id": "2bb76ddf",
   "metadata": {},
   "source": [
    "The F1 score does not have obvious improve, hence wouldn't use cross validation for logistic regression for saving CPU"
   ]
  },
  {
   "cell_type": "markdown",
   "id": "d1d9ee7c",
   "metadata": {},
   "source": [
    "### Logistic Regression Using Binary Relevance"
   ]
  },
  {
   "cell_type": "code",
   "execution_count": 111,
   "id": "d69ea6ae",
   "metadata": {},
   "outputs": [],
   "source": [
    "classifier_log_br = BinaryRelevance(LogisticRegression(max_iter=10000, class_weight='balanced'))\n",
    "# train\n",
    "classifier_log_br.fit(selected_train[features], selected_train[labels])\n",
    "# predict\n",
    "predictions_log_br = classifier_log_br.predict(selected_train[features])"
   ]
  },
  {
   "cell_type": "code",
   "execution_count": 112,
   "id": "59b1be0b",
   "metadata": {},
   "outputs": [],
   "source": [
    "# predict probability\n",
    "predictions_proba_log_br = classifier_log_br.predict_proba(selected_train[features])"
   ]
  },
  {
   "cell_type": "code",
   "execution_count": 204,
   "id": "93719aef",
   "metadata": {},
   "outputs": [
    {
     "name": "stdout",
     "output_type": "stream",
     "text": [
      "Accuracy score:  0.7823790037036805\n",
      "Precision score:  0.3823137948352328\n",
      "Recall score:  0.8699071172146561\n",
      "F1 score:  0.5202510172396128\n"
     ]
    }
   ],
   "source": [
    "# model evaluation overall score\n",
    "get_overall_evaluation_score(selected_train[labels], predictions_log_br)"
   ]
  },
  {
   "cell_type": "code",
   "execution_count": 227,
   "id": "44fda35e",
   "metadata": {},
   "outputs": [
    {
     "name": "stdout",
     "output_type": "stream",
     "text": [
      "fitting for label toxic\n",
      "Accuracy score:  0.8878743631361589\n",
      "Precision score:  0.4545263600084016\n",
      "Recall score:  0.8489603766182817\n",
      "F1 score:  0.5920656634746921\n",
      "Confusion matrix:\n",
      "[[128695  15582]\n",
      " [  2310  12984]]\n",
      "Logarithmic Loss:  0.2976558490655549\n",
      "ROC AUC score:  0.9450675196913704\n",
      "\n",
      "\n",
      "fitting for label severe_toxic\n",
      "Accuracy score:  0.9482738091507855\n",
      "Precision score:  0.15543826968850252\n",
      "Recall score:  0.941692789968652\n",
      "F1 score:  0.26683247468466864\n",
      "Confusion matrix:\n",
      "[[149815   8161]\n",
      " [    93   1502]]\n",
      "Logarithmic Loss:  0.20756119824661315\n",
      "ROC AUC score:  0.9819963287943583\n",
      "\n",
      "\n",
      "fitting for label obscene\n",
      "Accuracy score:  0.9228180559124152\n",
      "Precision score:  0.39690749133564385\n",
      "Recall score:  0.8810510119540774\n",
      "F1 score:  0.547272459932363\n",
      "Confusion matrix:\n",
      "[[139811  11311]\n",
      " [  1005   7444]]\n",
      "Logarithmic Loss:  0.2478629532743535\n",
      "ROC AUC score:  0.9652468745132916\n",
      "\n",
      "\n",
      "fitting for label threat\n",
      "Accuracy score:  0.9027517531381015\n",
      "Precision score:  0.02757884156301043\n",
      "Recall score:  0.9184100418410042\n",
      "F1 score:  0.05354964625518419\n",
      "Confusion matrix:\n",
      "[[143614  15479]\n",
      " [    39    439]]\n",
      "Logarithmic Loss:  0.2682307099272033\n",
      "ROC AUC score:  0.9637541087714623\n",
      "\n",
      "\n",
      "fitting for label insult\n",
      "Accuracy score:  0.9128977069768316\n",
      "Precision score:  0.3485869455898622\n",
      "Recall score:  0.8800304684524565\n",
      "F1 score:  0.49936966466159993\n",
      "Confusion matrix:\n",
      "[[138740  12954]\n",
      " [   945   6932]]\n",
      "Logarithmic Loss:  0.2793370177777969\n",
      "ROC AUC score:  0.961079018649859\n",
      "\n",
      "\n",
      "fitting for label identity_hate\n",
      "Accuracy score:  0.9048761993093983\n",
      "Precision score:  0.07581916728258192\n",
      "Recall score:  0.8761565836298932\n",
      "F1 score:  0.13956124936228106\n",
      "Confusion matrix:\n",
      "[[143161  15005]\n",
      " [   174   1231]]\n",
      "Logarithmic Loss:  0.3333753240751199\n",
      "ROC AUC score:  0.9512407748730859\n",
      "\n",
      "\n"
     ]
    }
   ],
   "source": [
    "# model evaluation on each label\n",
    "i = 0\n",
    "for label in labels:\n",
    "    print(f'fitting for label {label}')\n",
    "    get_evaluation_score_single_class(selected_train[label], predictions_log_br[:,i].toarray(), predictions_proba_log_br[:,i].toarray())\n",
    "    i += 1\n",
    "    print(\"\\n\")"
   ]
  },
  {
   "cell_type": "markdown",
   "id": "47119df7",
   "metadata": {},
   "source": [
    "### Logistic Regression Using ClassifierChain"
   ]
  },
  {
   "cell_type": "code",
   "execution_count": 124,
   "id": "fb64a2f5",
   "metadata": {},
   "outputs": [],
   "source": [
    "classifier_log_chain = ClassifierChain(LogisticRegression(max_iter=10000, class_weight='balanced'))\n",
    "# train\n",
    "classifier_log_chain.fit(selected_train[features], selected_train[labels])\n",
    "# predict\n",
    "predictions_log_chain = classifier_log_chain.predict(selected_train[features])"
   ]
  },
  {
   "cell_type": "code",
   "execution_count": 125,
   "id": "be3e9e4f",
   "metadata": {},
   "outputs": [],
   "source": [
    "# predict probability\n",
    "predictions_proba_log_chain = classifier_log_chain.predict_proba(selected_train[features])"
   ]
  },
  {
   "cell_type": "code",
   "execution_count": 234,
   "id": "199580c9",
   "metadata": {},
   "outputs": [
    {
     "name": "stdout",
     "output_type": "stream",
     "text": [
      "Accuracy score:  0.7989922980992787\n",
      "Precision score:  0.3265042142598098\n",
      "Recall score:  0.8962903869166334\n",
      "F1 score:  0.4593230547737794\n"
     ]
    }
   ],
   "source": [
    "# model evaluation overall score\n",
    "get_overall_evaluation_score(selected_train[labels], predictions_log_chain)"
   ]
  },
  {
   "cell_type": "code",
   "execution_count": 235,
   "id": "0a5c969a",
   "metadata": {},
   "outputs": [
    {
     "name": "stdout",
     "output_type": "stream",
     "text": [
      "fitting for label toxic\n",
      "Accuracy score:  0.8878743631361589\n",
      "Precision score:  0.4545263600084016\n",
      "Recall score:  0.8489603766182817\n",
      "F1 score:  0.5920656634746921\n",
      "Confusion matrix:\n",
      "[[128695  15582]\n",
      " [  2310  12984]]\n",
      "Logarithmic Loss:  0.2976558490655549\n",
      "ROC AUC score:  0.9450675196913704\n",
      "\n",
      "\n",
      "fitting for label severe_toxic\n",
      "Accuracy score:  0.8495403300098389\n",
      "Precision score:  0.06133552528573665\n",
      "Recall score:  0.9824451410658307\n",
      "F1 score:  0.11546255019710422\n",
      "Confusion matrix:\n",
      "[[133995  23981]\n",
      " [    28   1567]]\n",
      "Logarithmic Loss:  0.2573653047966825\n",
      "ROC AUC score:  0.9804797379642446\n",
      "\n",
      "\n",
      "fitting for label obscene\n",
      "Accuracy score:  0.8663353616885273\n",
      "Precision score:  0.27425687044307345\n",
      "Recall score:  0.9260267487276601\n",
      "F1 score:  0.4231819779863158\n",
      "Confusion matrix:\n",
      "[[130418  20704]\n",
      " [   625   7824]]\n",
      "Logarithmic Loss:  0.540121157439039\n",
      "ROC AUC score:  0.9608222001382551\n",
      "\n",
      "\n",
      "fitting for label threat\n",
      "Accuracy score:  0.8502798127479304\n",
      "Precision score:  0.018151883103519242\n",
      "Recall score:  0.9225941422594143\n",
      "F1 score:  0.03560327776207968\n",
      "Confusion matrix:\n",
      "[[135239  23854]\n",
      " [    37    441]]\n",
      "Logarithmic Loss:  0.383325990402291\n",
      "ROC AUC score:  0.9584251423478601\n",
      "\n",
      "\n",
      "fitting for label insult\n",
      "Accuracy score:  0.8634275651590828\n",
      "Precision score:  0.2564066657330906\n",
      "Recall score:  0.9297956074647709\n",
      "F1 score:  0.40196481984577814\n",
      "Confusion matrix:\n",
      "[[130454  21240]\n",
      " [   553   7324]]\n",
      "Logarithmic Loss:  0.6350578212559438\n",
      "ROC AUC score:  0.9491658068397884\n",
      "\n",
      "\n",
      "fitting for label identity_hate\n",
      "Accuracy score:  0.8283522695226576\n",
      "Precision score:  0.046050103071171515\n",
      "Recall score:  0.9380782918149466\n",
      "F1 score:  0.08779058149603676\n",
      "Confusion matrix:\n",
      "[[130863  27303]\n",
      " [    87   1318]]\n",
      "Logarithmic Loss:  0.695063381490699\n",
      "ROC AUC score:  0.9358324757497225\n",
      "\n",
      "\n"
     ]
    }
   ],
   "source": [
    "# model evaluation on each label\n",
    "i = 0\n",
    "for label in labels:\n",
    "    print(f'fitting for label {label}')\n",
    "    get_evaluation_score_single_class(selected_train[label], predictions_log_chain[:,i].toarray(), predictions_proba_log_chain[:,i].toarray())\n",
    "    i += 1\n",
    "    print(\"\\n\")"
   ]
  },
  {
   "cell_type": "markdown",
   "id": "7a31d1fa",
   "metadata": {},
   "source": [
    "### Logistic Regression Using LabelPowerSet"
   ]
  },
  {
   "cell_type": "code",
   "execution_count": 132,
   "id": "1d13d37f",
   "metadata": {},
   "outputs": [],
   "source": [
    "classifier_log_lps = LabelPowerset(LogisticRegression(max_iter=10000, class_weight='balanced'))\n",
    "# train\n",
    "classifier_log_lps.fit(selected_train[features], selected_train[labels])\n",
    "# predict\n",
    "predictions_log_lps = classifier_log_lps.predict(selected_train[features])"
   ]
  },
  {
   "cell_type": "code",
   "execution_count": 133,
   "id": "5463719e",
   "metadata": {},
   "outputs": [],
   "source": [
    "# predict probability\n",
    "predictions_proba_log_lps = classifier_log_lps.predict_proba(selected_train[features])"
   ]
  },
  {
   "cell_type": "code",
   "execution_count": 237,
   "id": "7bed546c",
   "metadata": {},
   "outputs": [
    {
     "name": "stdout",
     "output_type": "stream",
     "text": [
      "Accuracy score:  0.5402924090216894\n",
      "Precision score:  0.2638933873790623\n",
      "Recall score:  0.6392102114080574\n",
      "F1 score:  0.35461867971907374\n"
     ]
    }
   ],
   "source": [
    "# model evaluation overall score\n",
    "get_overall_evaluation_score(selected_train[labels], predictions_log_lps)"
   ]
  },
  {
   "cell_type": "code",
   "execution_count": 238,
   "id": "2a3003da",
   "metadata": {},
   "outputs": [
    {
     "name": "stdout",
     "output_type": "stream",
     "text": [
      "fitting for label toxic\n",
      "Accuracy score:  0.8733792481089923\n",
      "Precision score:  0.39722931402502826\n",
      "Recall score:  0.6205701582319864\n",
      "F1 score:  0.48439533518768985\n",
      "Confusion matrix:\n",
      "[[129875  14402]\n",
      " [  5803   9491]]\n",
      "Logarithmic Loss:  0.3694693161758654\n",
      "ROC AUC score:  0.9004981145332336\n",
      "\n",
      "\n",
      "fitting for label severe_toxic\n",
      "Accuracy score:  0.9586641683012578\n",
      "Precision score:  0.1504263945197819\n",
      "Recall score:  0.6746081504702194\n",
      "F1 score:  0.24599908550525834\n",
      "Confusion matrix:\n",
      "[[151899   6077]\n",
      " [   519   1076]]\n",
      "Logarithmic Loss:  0.08433989644240165\n",
      "ROC AUC score:  0.967695061175913\n",
      "\n",
      "\n",
      "fitting for label obscene\n",
      "Accuracy score:  0.8141015598072332\n",
      "Precision score:  0.17512480475330006\n",
      "Recall score:  0.6767664812403835\n",
      "F1 score:  0.2782481751824818\n",
      "Confusion matrix:\n",
      "[[124189  26933]\n",
      " [  2731   5718]]\n",
      "Logarithmic Loss:  0.39331131867579655\n",
      "ROC AUC score:  0.8822640557964808\n",
      "\n",
      "\n",
      "fitting for label threat\n",
      "Accuracy score:  0.8439879426712874\n",
      "Precision score:  0.014900464894504709\n",
      "Recall score:  0.7845188284518828\n",
      "F1 score:  0.029245466952622343\n",
      "Confusion matrix:\n",
      "[[134301  24792]\n",
      " [   103    375]]\n",
      "Logarithmic Loss:  0.28792736178872347\n",
      "ROC AUC score:  0.8984373354213202\n",
      "\n",
      "\n",
      "fitting for label insult\n",
      "Accuracy score:  0.8413120178478546\n",
      "Precision score:  0.17994349245954575\n",
      "Recall score:  0.6225720451948712\n",
      "F1 score:  0.2791915741531455\n",
      "Confusion matrix:\n",
      "[[129345  22349]\n",
      " [  2973   4904]]\n",
      "Logarithmic Loss:  0.39273549442441974\n",
      "ROC AUC score:  0.8918246110872673\n",
      "\n",
      "\n",
      "fitting for label identity_hate\n",
      "Accuracy score:  0.8229628190586009\n",
      "Precision score:  0.030468394724874944\n",
      "Recall score:  0.6199288256227758\n",
      "F1 score:  0.058082155241397704\n",
      "Confusion matrix:\n",
      "[[130450  27716]\n",
      " [   534    871]]\n",
      "Logarithmic Loss:  0.3583503006010329\n",
      "ROC AUC score:  0.8317833266126138\n",
      "\n",
      "\n"
     ]
    }
   ],
   "source": [
    "# model evaluation on each label\n",
    "i = 0\n",
    "for label in labels:\n",
    "    print(f'fitting for label {label}')\n",
    "    get_evaluation_score_single_class(selected_train[label], predictions_log_lps[:,i].toarray(), predictions_proba_log_lps[:,i].toarray())\n",
    "    i += 1\n",
    "    print(\"\\n\")"
   ]
  },
  {
   "cell_type": "markdown",
   "id": "fcea266f",
   "metadata": {},
   "source": [
    "### Random Forest Using Power Set Labelling"
   ]
  },
  {
   "cell_type": "code",
   "execution_count": 144,
   "id": "b38c21a4",
   "metadata": {},
   "outputs": [],
   "source": [
    "rf = RandomForestClassifier(random_state = 0,class_weight='balanced')\n",
    "rf.fit(selected_train[features], selected_train[labels])\n",
    "predictions_rf = rf.predict(selected_train[features])"
   ]
  },
  {
   "cell_type": "code",
   "execution_count": 239,
   "id": "b3d9a9ed",
   "metadata": {},
   "outputs": [],
   "source": [
    "# predict probability\n",
    "predictions_proba_rf = rf.predict_proba(selected_train[features])"
   ]
  },
  {
   "cell_type": "code",
   "execution_count": 240,
   "id": "677c1627",
   "metadata": {},
   "outputs": [
    {
     "name": "stdout",
     "output_type": "stream",
     "text": [
      "Accuracy score:  0.9999059979570223\n",
      "Precision score:  0.9996013162921309\n",
      "Recall score:  0.9997150834805402\n",
      "F1 score:  0.9996581498223711\n"
     ]
    }
   ],
   "source": [
    "# model evaluation overall score\n",
    "get_overall_evaluation_score(selected_train[labels], predictions_rf)"
   ]
  },
  {
   "cell_type": "code",
   "execution_count": 168,
   "id": "549d034b",
   "metadata": {},
   "outputs": [
    {
     "ename": "ValueError",
     "evalue": "Found input variables with inconsistent numbers of samples: [6, 159571]",
     "output_type": "error",
     "traceback": [
      "\u001b[0;31m---------------------------------------------------------------------------\u001b[0m",
      "\u001b[0;31mValueError\u001b[0m                                Traceback (most recent call last)",
      "Input \u001b[0;32mIn [168]\u001b[0m, in \u001b[0;36m<cell line: 6>\u001b[0;34m()\u001b[0m\n\u001b[1;32m      4\u001b[0m \u001b[38;5;28;01mfor\u001b[39;00m i \u001b[38;5;129;01min\u001b[39;00m \u001b[38;5;28mrange\u001b[39m(\u001b[38;5;241m1\u001b[39m,\u001b[38;5;241m6\u001b[39m):\n\u001b[1;32m      5\u001b[0m     prob \u001b[38;5;241m+\u001b[39m\u001b[38;5;241m=\u001b[39m [predictions_proba_rf[i][:,\u001b[38;5;241m1\u001b[39m]] \n\u001b[0;32m----> 6\u001b[0m \u001b[43mlog_loss\u001b[49m\u001b[43m(\u001b[49m\u001b[43mselected_train\u001b[49m\u001b[43m[\u001b[49m\u001b[43mlabels\u001b[49m\u001b[43m]\u001b[49m\u001b[43m,\u001b[49m\u001b[43m \u001b[49m\u001b[43mprob\u001b[49m\u001b[43m)\u001b[49m\n\u001b[1;32m      7\u001b[0m prob\n",
      "File \u001b[0;32m/Library/Frameworks/Python.framework/Versions/3.8/lib/python3.8/site-packages/sklearn/metrics/_classification.py:2403\u001b[0m, in \u001b[0;36mlog_loss\u001b[0;34m(y_true, y_pred, eps, normalize, sample_weight, labels)\u001b[0m\n\u001b[1;32m   2334\u001b[0m \u001b[38;5;124mr\u001b[39m\u001b[38;5;124;03m\"\"\"Log loss, aka logistic loss or cross-entropy loss.\u001b[39;00m\n\u001b[1;32m   2335\u001b[0m \n\u001b[1;32m   2336\u001b[0m \u001b[38;5;124;03mThis is the loss function used in (multinomial) logistic regression\u001b[39;00m\n\u001b[0;32m   (...)\u001b[0m\n\u001b[1;32m   2400\u001b[0m \u001b[38;5;124;03m0.21616...\u001b[39;00m\n\u001b[1;32m   2401\u001b[0m \u001b[38;5;124;03m\"\"\"\u001b[39;00m\n\u001b[1;32m   2402\u001b[0m y_pred \u001b[38;5;241m=\u001b[39m check_array(y_pred, ensure_2d\u001b[38;5;241m=\u001b[39m\u001b[38;5;28;01mFalse\u001b[39;00m)\n\u001b[0;32m-> 2403\u001b[0m \u001b[43mcheck_consistent_length\u001b[49m\u001b[43m(\u001b[49m\u001b[43my_pred\u001b[49m\u001b[43m,\u001b[49m\u001b[43m \u001b[49m\u001b[43my_true\u001b[49m\u001b[43m,\u001b[49m\u001b[43m \u001b[49m\u001b[43msample_weight\u001b[49m\u001b[43m)\u001b[49m\n\u001b[1;32m   2405\u001b[0m lb \u001b[38;5;241m=\u001b[39m LabelBinarizer()\n\u001b[1;32m   2407\u001b[0m \u001b[38;5;28;01mif\u001b[39;00m labels \u001b[38;5;129;01mis\u001b[39;00m \u001b[38;5;129;01mnot\u001b[39;00m \u001b[38;5;28;01mNone\u001b[39;00m:\n",
      "File \u001b[0;32m/Library/Frameworks/Python.framework/Versions/3.8/lib/python3.8/site-packages/sklearn/utils/validation.py:387\u001b[0m, in \u001b[0;36mcheck_consistent_length\u001b[0;34m(*arrays)\u001b[0m\n\u001b[1;32m    385\u001b[0m uniques \u001b[38;5;241m=\u001b[39m np\u001b[38;5;241m.\u001b[39munique(lengths)\n\u001b[1;32m    386\u001b[0m \u001b[38;5;28;01mif\u001b[39;00m \u001b[38;5;28mlen\u001b[39m(uniques) \u001b[38;5;241m>\u001b[39m \u001b[38;5;241m1\u001b[39m:\n\u001b[0;32m--> 387\u001b[0m     \u001b[38;5;28;01mraise\u001b[39;00m \u001b[38;5;167;01mValueError\u001b[39;00m(\n\u001b[1;32m    388\u001b[0m         \u001b[38;5;124m\"\u001b[39m\u001b[38;5;124mFound input variables with inconsistent numbers of samples: \u001b[39m\u001b[38;5;132;01m%r\u001b[39;00m\u001b[38;5;124m\"\u001b[39m\n\u001b[1;32m    389\u001b[0m         \u001b[38;5;241m%\u001b[39m [\u001b[38;5;28mint\u001b[39m(l) \u001b[38;5;28;01mfor\u001b[39;00m l \u001b[38;5;129;01min\u001b[39;00m lengths]\n\u001b[1;32m    390\u001b[0m     )\n",
      "\u001b[0;31mValueError\u001b[0m: Found input variables with inconsistent numbers of samples: [6, 159571]"
     ]
    }
   ],
   "source": [
    "# log_loss(selected_train[labels], predictions_proba_rf[0][:,1])\n",
    "# predictions_proba_rf\n",
    "prob = [predictions_proba_rf[0][:,1]]\n",
    "for i in range(1,6):\n",
    "    prob += [predictions_proba_rf[i][:,1]] \n",
    "log_loss(selected_train[labels], prob)\n",
    "prob"
   ]
  },
  {
   "cell_type": "markdown",
   "id": "e4fbdf1e",
   "metadata": {},
   "source": [
    "### Random Forest Using ClassificationChain"
   ]
  },
  {
   "cell_type": "code",
   "execution_count": 148,
   "id": "4d5ec6b1",
   "metadata": {},
   "outputs": [],
   "source": [
    "classifier_chain = ClassifierChain(RandomForestClassifier(random_state = 0,class_weight='balanced'))\n",
    "# train\n",
    "classifier_chain.fit(selected_train[features], selected_train[labels])\n",
    "# predict\n",
    "predictions_chain = classifier_chain.predict(selected_train[features])"
   ]
  },
  {
   "cell_type": "code",
   "execution_count": 149,
   "id": "a5d615f3",
   "metadata": {},
   "outputs": [],
   "source": [
    "# predict probability\n",
    "predictions_proba_chain = classifier_chain.predict_proba(selected_train[features])"
   ]
  },
  {
   "cell_type": "code",
   "execution_count": 150,
   "id": "00297c85",
   "metadata": {},
   "outputs": [
    {
     "name": "stdout",
     "output_type": "stream",
     "text": [
      "Accuracy score:  0.9999122647598875\n",
      "Precision score:  0.9995727771644273\n",
      "Recall score:  0.9996865918285942\n",
      "F1 score:  0.9996296310756612\n",
      "Confusion matrix for label toxic:\n",
      "[[144276      1]\n",
      " [     2  15292]]\n",
      "Confusion matrix for label severe_toxic:\n",
      "[[157976      0]\n",
      " [     0   1595]]\n",
      "Confusion matrix for label obscene:\n",
      "[[151117      5]\n",
      " [     3   8446]]\n",
      "Confusion matrix for label threat:\n",
      "[[159092      1]\n",
      " [     0    478]]\n",
      "Confusion matrix for label insult:\n",
      "[[151687      7]\n",
      " [     3   7874]]\n",
      "Confusion matrix for label identity_hate:\n",
      "[[158165      1]\n",
      " [     3   1402]]\n",
      "Logarithmic Loss:  0.216918194528461\n",
      "ROC AUC score:  0.9999924697369612\n"
     ]
    }
   ],
   "source": [
    "# model evaluation\n",
    "get_evaluation_score(selected_train[labels], predictions_chain, predictions_proba_chain)"
   ]
  },
  {
   "cell_type": "markdown",
   "id": "8cc6e1f0",
   "metadata": {},
   "source": [
    "### Random Forest Using BinaryRelevance"
   ]
  },
  {
   "cell_type": "code",
   "execution_count": 152,
   "id": "0b14c89f",
   "metadata": {},
   "outputs": [],
   "source": [
    "classifier_br = BinaryRelevance(RandomForestClassifier(random_state = 0,class_weight='balanced'))\n",
    "# train\n",
    "classifier_br.fit(selected_train[features], selected_train[labels])\n",
    "# predict\n",
    "predictions = classifier_br.predict(selected_train[features])"
   ]
  },
  {
   "cell_type": "code",
   "execution_count": 153,
   "id": "75afafbf",
   "metadata": {},
   "outputs": [],
   "source": [
    "# predict probability\n",
    "predictions_proba = classifier_br.predict_proba(selected_train[features])"
   ]
  },
  {
   "cell_type": "code",
   "execution_count": 154,
   "id": "386193fb",
   "metadata": {},
   "outputs": [
    {
     "name": "stdout",
     "output_type": "stream",
     "text": [
      "Accuracy score:  0.9999122647598875\n",
      "Precision score:  0.999572856475121\n",
      "Recall score:  0.9998005584363782\n",
      "F1 score:  0.9996866510102697\n",
      "Confusion matrix for label toxic:\n",
      "[[144276      1]\n",
      " [     2  15292]]\n",
      "Confusion matrix for label severe_toxic:\n",
      "[[157976      0]\n",
      " [     0   1595]]\n",
      "Confusion matrix for label obscene:\n",
      "[[151117      5]\n",
      " [     1   8448]]\n",
      "Confusion matrix for label threat:\n",
      "[[159092      1]\n",
      " [     0    478]]\n",
      "Confusion matrix for label insult:\n",
      "[[151687      7]\n",
      " [     2   7875]]\n",
      "Confusion matrix for label identity_hate:\n",
      "[[158165      1]\n",
      " [     2   1403]]\n",
      "Logarithmic Loss:  0.2132783906506098\n",
      "ROC AUC score:  0.9999963922466324\n"
     ]
    }
   ],
   "source": [
    "# model evaluation\n",
    "get_evaluation_score(selected_train[labels], predictions, predictions_proba)"
   ]
  }
 ],
 "metadata": {
  "kernelspec": {
   "display_name": "Python 3 (ipykernel)",
   "language": "python",
   "name": "python3"
  },
  "language_info": {
   "codemirror_mode": {
    "name": "ipython",
    "version": 3
   },
   "file_extension": ".py",
   "mimetype": "text/x-python",
   "name": "python",
   "nbconvert_exporter": "python",
   "pygments_lexer": "ipython3",
   "version": "3.8.5"
  }
 },
 "nbformat": 4,
 "nbformat_minor": 5
}
