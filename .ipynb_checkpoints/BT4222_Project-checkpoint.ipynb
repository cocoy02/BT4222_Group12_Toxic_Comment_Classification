{
 "cells": [
  {
   "cell_type": "markdown",
   "metadata": {
    "id": "Rg2_TL3e6lOf"
   },
   "source": [
    "# Table of Content\n",
    "1. [Text Cleaning](#textcleaning)\n",
    "2. [Text Preprocessing](#textpreprocessing)\n",
    "3. [EDA](#EDA)\n",
    "4. [Feature Engineering](#featureengineering)"
   ]
  },
  {
   "cell_type": "code",
   "execution_count": 3,
   "metadata": {
    "ExecuteTime": {
     "end_time": "2023-03-21T07:45:41.145019Z",
     "start_time": "2023-03-21T07:45:36.917475Z"
    },
    "colab": {
     "base_uri": "https://localhost:8080/"
    },
    "id": "-J8voFUP6lOk",
    "outputId": "5045820d-18ed-4e80-caff-e1bb780b7617"
   },
   "outputs": [
    {
     "name": "stdout",
     "output_type": "stream",
     "text": [
      "CPU times: user 3 µs, sys: 1e+03 ns, total: 4 µs\n",
      "Wall time: 5.01 µs\n"
     ]
    }
   ],
   "source": [
    "%time\n",
    "import os\n",
    "import sys\n",
    "import time\n",
    "import random\n",
    "import string\n",
    "from ast import literal_eval\n",
    "import warnings\n",
    "if not sys.warnoptions:\n",
    "    warnings.simplefilter(\"ignore\")\n",
    "    \n",
    "import numpy as np\n",
    "import pandas as pd\n",
    "import sklearn\n",
    "\n",
    "# libraries for text cleaning\n",
    "import contractions\n",
    "from bs4 import BeautifulSoup\n",
    "from textblob import TextBlob\n",
    "from spellchecker import SpellChecker\n",
    "#from profanity_check import predict\n",
    "\n",
    "#for oversampling\n",
    "from imblearn.over_sampling import RandomOverSampler\n",
    "from collections import Counter\n",
    "\n",
    "# libraries and packages for text (pre-)processing \n",
    "import string\n",
    "import re\n",
    "import nltk\n",
    "\n",
    "from nltk.corpus import stopwords\n",
    "from nltk.corpus import wordnet\n",
    "from nltk.stem import *\n",
    "from nltk.tokenize import word_tokenize\n",
    "from nltk.stem.snowball import SnowballStemmer\n",
    "from nltk import pos_tag_sents\n",
    "from nltk.tokenize import sent_tokenize\n",
    "\n",
    "##libraries and packages for EDA\n",
    "from sklearn.feature_extraction.text import CountVectorizer\n",
    "from sklearn.feature_extraction.text import TfidfVectorizer\n",
    "import matplotlib.pyplot as plt\n",
    "import seaborn as sns\n",
    "import plotly.express as px\n",
    "from wordcloud import WordCloud"
   ]
  },
  {
   "cell_type": "code",
   "execution_count": 4,
   "metadata": {
    "ExecuteTime": {
     "end_time": "2023-03-21T07:45:51.436844Z",
     "start_time": "2023-03-21T07:45:50.417353Z"
    },
    "id": "gBVdsuOL6lOm",
    "outputId": "1ea0c0a0-68f4-45c9-b3b1-bbf67992a36a"
   },
   "outputs": [
    {
     "name": "stdout",
     "output_type": "stream",
     "text": [
      "(159571, 8)\n"
     ]
    },
    {
     "data": {
      "text/html": [
       "<div>\n",
       "<style scoped>\n",
       "    .dataframe tbody tr th:only-of-type {\n",
       "        vertical-align: middle;\n",
       "    }\n",
       "\n",
       "    .dataframe tbody tr th {\n",
       "        vertical-align: top;\n",
       "    }\n",
       "\n",
       "    .dataframe thead th {\n",
       "        text-align: right;\n",
       "    }\n",
       "</style>\n",
       "<table border=\"1\" class=\"dataframe\">\n",
       "  <thead>\n",
       "    <tr style=\"text-align: right;\">\n",
       "      <th></th>\n",
       "      <th>id</th>\n",
       "      <th>comment_text</th>\n",
       "      <th>toxic</th>\n",
       "      <th>severe_toxic</th>\n",
       "      <th>obscene</th>\n",
       "      <th>threat</th>\n",
       "      <th>insult</th>\n",
       "      <th>identity_hate</th>\n",
       "    </tr>\n",
       "  </thead>\n",
       "  <tbody>\n",
       "    <tr>\n",
       "      <th>0</th>\n",
       "      <td>0000997932d777bf</td>\n",
       "      <td>Explanation\\nWhy the edits made under my usern...</td>\n",
       "      <td>0</td>\n",
       "      <td>0</td>\n",
       "      <td>0</td>\n",
       "      <td>0</td>\n",
       "      <td>0</td>\n",
       "      <td>0</td>\n",
       "    </tr>\n",
       "    <tr>\n",
       "      <th>1</th>\n",
       "      <td>000103f0d9cfb60f</td>\n",
       "      <td>D'aww! He matches this background colour I'm s...</td>\n",
       "      <td>0</td>\n",
       "      <td>0</td>\n",
       "      <td>0</td>\n",
       "      <td>0</td>\n",
       "      <td>0</td>\n",
       "      <td>0</td>\n",
       "    </tr>\n",
       "    <tr>\n",
       "      <th>2</th>\n",
       "      <td>000113f07ec002fd</td>\n",
       "      <td>Hey man, I'm really not trying to edit war. It...</td>\n",
       "      <td>0</td>\n",
       "      <td>0</td>\n",
       "      <td>0</td>\n",
       "      <td>0</td>\n",
       "      <td>0</td>\n",
       "      <td>0</td>\n",
       "    </tr>\n",
       "    <tr>\n",
       "      <th>3</th>\n",
       "      <td>0001b41b1c6bb37e</td>\n",
       "      <td>\"\\nMore\\nI can't make any real suggestions on ...</td>\n",
       "      <td>0</td>\n",
       "      <td>0</td>\n",
       "      <td>0</td>\n",
       "      <td>0</td>\n",
       "      <td>0</td>\n",
       "      <td>0</td>\n",
       "    </tr>\n",
       "    <tr>\n",
       "      <th>4</th>\n",
       "      <td>0001d958c54c6e35</td>\n",
       "      <td>You, sir, are my hero. Any chance you remember...</td>\n",
       "      <td>0</td>\n",
       "      <td>0</td>\n",
       "      <td>0</td>\n",
       "      <td>0</td>\n",
       "      <td>0</td>\n",
       "      <td>0</td>\n",
       "    </tr>\n",
       "  </tbody>\n",
       "</table>\n",
       "</div>"
      ],
      "text/plain": [
       "                 id                                       comment_text  toxic  \\\n",
       "0  0000997932d777bf  Explanation\\nWhy the edits made under my usern...      0   \n",
       "1  000103f0d9cfb60f  D'aww! He matches this background colour I'm s...      0   \n",
       "2  000113f07ec002fd  Hey man, I'm really not trying to edit war. It...      0   \n",
       "3  0001b41b1c6bb37e  \"\\nMore\\nI can't make any real suggestions on ...      0   \n",
       "4  0001d958c54c6e35  You, sir, are my hero. Any chance you remember...      0   \n",
       "\n",
       "   severe_toxic  obscene  threat  insult  identity_hate  \n",
       "0             0        0       0       0              0  \n",
       "1             0        0       0       0              0  \n",
       "2             0        0       0       0              0  \n",
       "3             0        0       0       0              0  \n",
       "4             0        0       0       0              0  "
      ]
     },
     "execution_count": 4,
     "metadata": {},
     "output_type": "execute_result"
    }
   ],
   "source": [
    "train_df = pd.read_csv(\"Data/train.csv\")\n",
    "print(train_df.shape)\n",
    "train_df.head()"
   ]
  },
  {
   "cell_type": "markdown",
   "metadata": {
    "id": "Y_pY2Oud6lOm"
   },
   "source": [
    "<a id=\"textcleaning\"></a>\n",
    "# 1. Text Cleaning"
   ]
  },
  {
   "cell_type": "markdown",
   "metadata": {
    "id": "JBzMaVSL6lOn"
   },
   "source": [
    "## Convert to Lower Case"
   ]
  },
  {
   "cell_type": "markdown",
   "metadata": {
    "id": "mvCX9VN26lOn"
   },
   "source": [
    "We convert all letters to lower case to prepare for the following steps of text cleaning. Exceptional cases such as capital abbreviation will be solved by replacing typos, slang, acronyms or informal abbreviations technique in the subsquent steps."
   ]
  },
  {
   "cell_type": "code",
   "execution_count": 3,
   "metadata": {
    "ExecuteTime": {
     "end_time": "2023-03-15T01:25:51.326552Z",
     "start_time": "2023-03-15T01:25:51.101840Z"
    },
    "id": "wtvId9rN6lOo",
    "outputId": "5032f3d0-98e3-45e2-98fd-d116f032911c"
   },
   "outputs": [
    {
     "data": {
      "text/html": [
       "<div>\n",
       "<style scoped>\n",
       "    .dataframe tbody tr th:only-of-type {\n",
       "        vertical-align: middle;\n",
       "    }\n",
       "\n",
       "    .dataframe tbody tr th {\n",
       "        vertical-align: top;\n",
       "    }\n",
       "\n",
       "    .dataframe thead th {\n",
       "        text-align: right;\n",
       "    }\n",
       "</style>\n",
       "<table border=\"1\" class=\"dataframe\">\n",
       "  <thead>\n",
       "    <tr style=\"text-align: right;\">\n",
       "      <th></th>\n",
       "      <th>id</th>\n",
       "      <th>comment_text</th>\n",
       "      <th>toxic</th>\n",
       "      <th>severe_toxic</th>\n",
       "      <th>obscene</th>\n",
       "      <th>threat</th>\n",
       "      <th>insult</th>\n",
       "      <th>identity_hate</th>\n",
       "      <th>clean_text</th>\n",
       "    </tr>\n",
       "  </thead>\n",
       "  <tbody>\n",
       "    <tr>\n",
       "      <th>0</th>\n",
       "      <td>0000997932d777bf</td>\n",
       "      <td>Explanation\\nWhy the edits made under my usern...</td>\n",
       "      <td>0</td>\n",
       "      <td>0</td>\n",
       "      <td>0</td>\n",
       "      <td>0</td>\n",
       "      <td>0</td>\n",
       "      <td>0</td>\n",
       "      <td>explanation\\nwhy the edits made under my usern...</td>\n",
       "    </tr>\n",
       "    <tr>\n",
       "      <th>1</th>\n",
       "      <td>000103f0d9cfb60f</td>\n",
       "      <td>D'aww! He matches this background colour I'm s...</td>\n",
       "      <td>0</td>\n",
       "      <td>0</td>\n",
       "      <td>0</td>\n",
       "      <td>0</td>\n",
       "      <td>0</td>\n",
       "      <td>0</td>\n",
       "      <td>d'aww! he matches this background colour i'm s...</td>\n",
       "    </tr>\n",
       "    <tr>\n",
       "      <th>2</th>\n",
       "      <td>000113f07ec002fd</td>\n",
       "      <td>Hey man, I'm really not trying to edit war. It...</td>\n",
       "      <td>0</td>\n",
       "      <td>0</td>\n",
       "      <td>0</td>\n",
       "      <td>0</td>\n",
       "      <td>0</td>\n",
       "      <td>0</td>\n",
       "      <td>hey man, i'm really not trying to edit war. it...</td>\n",
       "    </tr>\n",
       "    <tr>\n",
       "      <th>3</th>\n",
       "      <td>0001b41b1c6bb37e</td>\n",
       "      <td>\"\\nMore\\nI can't make any real suggestions on ...</td>\n",
       "      <td>0</td>\n",
       "      <td>0</td>\n",
       "      <td>0</td>\n",
       "      <td>0</td>\n",
       "      <td>0</td>\n",
       "      <td>0</td>\n",
       "      <td>\"\\nmore\\ni can't make any real suggestions on ...</td>\n",
       "    </tr>\n",
       "    <tr>\n",
       "      <th>4</th>\n",
       "      <td>0001d958c54c6e35</td>\n",
       "      <td>You, sir, are my hero. Any chance you remember...</td>\n",
       "      <td>0</td>\n",
       "      <td>0</td>\n",
       "      <td>0</td>\n",
       "      <td>0</td>\n",
       "      <td>0</td>\n",
       "      <td>0</td>\n",
       "      <td>you, sir, are my hero. any chance you remember...</td>\n",
       "    </tr>\n",
       "  </tbody>\n",
       "</table>\n",
       "</div>"
      ],
      "text/plain": [
       "                 id                                       comment_text  toxic  \\\n",
       "0  0000997932d777bf  Explanation\\nWhy the edits made under my usern...      0   \n",
       "1  000103f0d9cfb60f  D'aww! He matches this background colour I'm s...      0   \n",
       "2  000113f07ec002fd  Hey man, I'm really not trying to edit war. It...      0   \n",
       "3  0001b41b1c6bb37e  \"\\nMore\\nI can't make any real suggestions on ...      0   \n",
       "4  0001d958c54c6e35  You, sir, are my hero. Any chance you remember...      0   \n",
       "\n",
       "   severe_toxic  obscene  threat  insult  identity_hate  \\\n",
       "0             0        0       0       0              0   \n",
       "1             0        0       0       0              0   \n",
       "2             0        0       0       0              0   \n",
       "3             0        0       0       0              0   \n",
       "4             0        0       0       0              0   \n",
       "\n",
       "                                          clean_text  \n",
       "0  explanation\\nwhy the edits made under my usern...  \n",
       "1  d'aww! he matches this background colour i'm s...  \n",
       "2  hey man, i'm really not trying to edit war. it...  \n",
       "3  \"\\nmore\\ni can't make any real suggestions on ...  \n",
       "4  you, sir, are my hero. any chance you remember...  "
      ]
     },
     "execution_count": 3,
     "metadata": {},
     "output_type": "execute_result"
    }
   ],
   "source": [
    "train_df[\"clean_text\"] = train_df[\"comment_text\"].apply(lambda x: x.lower())\n",
    "train_df.head()"
   ]
  },
  {
   "cell_type": "markdown",
   "metadata": {
    "id": "geAQ_vKu6lOo"
   },
   "source": [
    "## Expand Contractions\n"
   ]
  },
  {
   "cell_type": "markdown",
   "metadata": {
    "id": "BjaEJT1X6lOp"
   },
   "source": [
    "Contractions are words or combinations of words that are shortened by dropping letters and replacing them by an apostrophe. Removing contractions helps contribute to text standardization. We use contractions package to expand contractions."
   ]
  },
  {
   "cell_type": "code",
   "execution_count": 4,
   "metadata": {
    "ExecuteTime": {
     "end_time": "2023-03-15T01:26:08.373658Z",
     "start_time": "2023-03-15T01:26:04.863712Z"
    },
    "id": "S-5332zZ6lOp"
   },
   "outputs": [],
   "source": [
    "train_df[\"clean_text\"] = train_df[\"clean_text\"].apply(lambda x: contractions.fix(x))"
   ]
  },
  {
   "cell_type": "code",
   "execution_count": 5,
   "metadata": {
    "ExecuteTime": {
     "end_time": "2023-03-15T01:26:08.546470Z",
     "start_time": "2023-03-15T01:26:08.542617Z"
    },
    "id": "vZuu_RWz6lOq",
    "outputId": "5758de09-ffe5-4a9d-a433-9b3148d2054a"
   },
   "outputs": [
    {
     "name": "stdout",
     "output_type": "stream",
     "text": [
      "Original text: \n",
      " Hey man, I'm really not trying to edit war. It's just that this guy is constantly removing relevant information and talking to me through edits instead of my talk page. He seems to care more about the formatting than the actual info.\n",
      "Clean text: \n",
      " hey man, i am really not trying to edit war. it is just that this guy is constantly removing relevant information and talking to me through edits instead of my talk page. he seems to care more about the formatting than the actual info.\n"
     ]
    }
   ],
   "source": [
    "# check if expand contractions works\n",
    "print(\"Original text: \\n\", train_df[\"comment_text\"][2])\n",
    "print(\"Clean text: \\n\", train_df[\"clean_text\"][2])"
   ]
  },
  {
   "cell_type": "markdown",
   "metadata": {
    "id": "MDDjj6Yd6lOq"
   },
   "source": [
    "## Remove Noise"
   ]
  },
  {
   "cell_type": "markdown",
   "metadata": {
    "id": "s537aUzz6lOr"
   },
   "source": [
    "Remove unnecessary characters or punctuation such as URLs, HTML tags, non-ASCII characters, or other special characters "
   ]
  },
  {
   "cell_type": "markdown",
   "metadata": {
    "id": "FY2PrjNg6lOr"
   },
   "source": [
    "### Remove URL"
   ]
  },
  {
   "cell_type": "code",
   "execution_count": 6,
   "metadata": {
    "ExecuteTime": {
     "end_time": "2023-03-15T01:26:18.828708Z",
     "start_time": "2023-03-15T01:26:18.161707Z"
    },
    "id": "5dEkw9uT6lOr"
   },
   "outputs": [],
   "source": [
    "# replace URL with space\n",
    "train_df[\"clean_text\"] = train_df[\"clean_text\"].apply(lambda x: re.sub(r'https?://\\S+|www\\.\\S+', ' ', x))"
   ]
  },
  {
   "cell_type": "markdown",
   "metadata": {
    "id": "Oz_zbwDL6lOr"
   },
   "source": [
    "###  Remove Non-ASCI Characters"
   ]
  },
  {
   "cell_type": "code",
   "execution_count": 7,
   "metadata": {
    "ExecuteTime": {
     "end_time": "2023-03-15T01:26:21.601432Z",
     "start_time": "2023-03-15T01:26:20.963405Z"
    },
    "id": "yvhlq6co6lOr"
   },
   "outputs": [],
   "source": [
    "# replace Non_ASCI characters with space\n",
    "train_df[\"clean_text\"] = train_df[\"clean_text\"].apply(lambda x: re.sub(r'[^\\x00-\\x7f]', ' ', x))"
   ]
  },
  {
   "cell_type": "markdown",
   "metadata": {
    "id": "TULwYdZ_6lOs"
   },
   "source": [
    "###  Remove Special Characters"
   ]
  },
  {
   "cell_type": "code",
   "execution_count": 8,
   "metadata": {
    "ExecuteTime": {
     "end_time": "2023-03-15T01:26:23.370112Z",
     "start_time": "2023-03-15T01:26:23.363373Z"
    },
    "id": "qRe8qOFS6lOs"
   },
   "outputs": [],
   "source": [
    "regrex_pattern = re.compile(pattern = \"[\"\n",
    "        u\"\\U0001F600-\\U0001F64F\"  # emoticons\n",
    "        u\"\\U0001F300-\\U0001F5FF\"  # symbols & pictographs\n",
    "        u\"\\U0001F680-\\U0001F6FF\"  # transport & map symbols\n",
    "        u\"\\U0001F1E0-\\U0001F1FF\"  # flags (iOS)\n",
    "        u'\\U00002702-\\U000027B0'\n",
    "        u'\\U000024C2-\\U0001F251'\n",
    "        u\"\\ufe0f\"  # dingbats\n",
    "        \"]+\", flags = re.UNICODE)"
   ]
  },
  {
   "cell_type": "code",
   "execution_count": 9,
   "metadata": {
    "ExecuteTime": {
     "end_time": "2023-03-15T01:26:35.728951Z",
     "start_time": "2023-03-15T01:26:34.194567Z"
    },
    "id": "wABsaJiH6lOs"
   },
   "outputs": [],
   "source": [
    "# replace special characters with space\n",
    "train_df[\"clean_text\"] = train_df[\"clean_text\"].apply(lambda x: regrex_pattern.sub(' ', x))"
   ]
  },
  {
   "cell_type": "code",
   "execution_count": 10,
   "metadata": {
    "ExecuteTime": {
     "end_time": "2023-03-15T01:26:37.959138Z",
     "start_time": "2023-03-15T01:26:37.954781Z"
    },
    "id": "zNOJbfEO6lOs",
    "outputId": "7eff2ec8-4539-4dea-df02-53aef089518b"
   },
   "outputs": [
    {
     "name": "stdout",
     "output_type": "stream",
     "text": [
      "Original text: \n",
      " \"P.S. It's not polite to talk to people behind their backs, please remove your comments from Mrph's talk page.\n",
      "\n",
      "Vaughan\n",
      "You're right; I went to check your previous edit and found a page on the Marvel site that spelled it \"\"Vaughn\"\", but now I am finding many more that spell it correctly. Thanks for the edits.   (☎☓) \n",
      "\n",
      "\"\n",
      "Clean text: \n",
      " \"p.s. it is not polite to talk to people behind their backs, please remove your comments from mrph's talk page.\n",
      "\n",
      "vaughan\n",
      "you are right; i went to check your previous edit and found a page on the marvel site that spelled it \"\"vaughn\"\", but now i am finding many more that spell it correctly. thanks for the edits.   (  ) \n",
      "\n",
      "\"\n"
     ]
    }
   ],
   "source": [
    "# check if special characters are removed\n",
    "print(\"Original text: \\n\", train_df[\"comment_text\"][143])\n",
    "print(\"Clean text: \\n\", train_df[\"clean_text\"][143])"
   ]
  },
  {
   "cell_type": "markdown",
   "metadata": {
    "id": "2vGfsmkh6lOt"
   },
   "source": [
    "### Remove HTML Tag (BeautifulSoup not really useful? merely remove space?)"
   ]
  },
  {
   "cell_type": "code",
   "execution_count": 11,
   "metadata": {
    "ExecuteTime": {
     "end_time": "2023-03-15T01:27:26.914767Z",
     "start_time": "2023-03-15T01:27:02.048340Z"
    },
    "id": "V0eV01hG6lOt"
   },
   "outputs": [],
   "source": [
    "cleaned_text = train_df[\"clean_text\"].apply(lambda x: BeautifulSoup(str(x)).get_text())"
   ]
  },
  {
   "cell_type": "code",
   "execution_count": 12,
   "metadata": {
    "ExecuteTime": {
     "end_time": "2023-03-15T01:27:27.193504Z",
     "start_time": "2023-03-15T01:27:27.149444Z"
    },
    "id": "mZsyFPAE6lOt"
   },
   "outputs": [],
   "source": [
    "text_changed = cleaned_text!=train_df[\"clean_text\"]"
   ]
  },
  {
   "cell_type": "code",
   "execution_count": 13,
   "metadata": {
    "ExecuteTime": {
     "end_time": "2023-03-15T01:27:27.388076Z",
     "start_time": "2023-03-15T01:27:27.370097Z"
    },
    "id": "dkgNWgJj6lOt",
    "outputId": "3b3c64cf-6db7-4b14-c755-bc0d5692f6b4"
   },
   "outputs": [
    {
     "data": {
      "text/plain": [
       "[569, 1403, 2028, 2189, 3458, 3500, 3687, 4001, 4030, 4090]"
      ]
     },
     "execution_count": 13,
     "metadata": {},
     "output_type": "execute_result"
    }
   ],
   "source": [
    "[i for i, x in enumerate(text_changed) if x][:10]"
   ]
  },
  {
   "cell_type": "code",
   "execution_count": 14,
   "metadata": {
    "ExecuteTime": {
     "end_time": "2023-03-15T01:27:27.576620Z",
     "start_time": "2023-03-15T01:27:27.570473Z"
    },
    "id": "d4WcMVMS6lOt",
    "outputId": "fabe66a0-f4d1-47ee-a7f8-b892a15d48e8"
   },
   "outputs": [
    {
     "data": {
      "text/plain": [
       "'   heritage from village           in macedonian          . sources claim that the village was pure slavic.'"
      ]
     },
     "execution_count": 14,
     "metadata": {},
     "output_type": "execute_result"
    }
   ],
   "source": [
    "train_df[\"clean_text\"][228]"
   ]
  },
  {
   "cell_type": "code",
   "execution_count": 15,
   "metadata": {
    "ExecuteTime": {
     "end_time": "2023-03-15T01:27:27.840265Z",
     "start_time": "2023-03-15T01:27:27.836305Z"
    },
    "id": "rin-KW5_6lOt",
    "outputId": "85575126-ad60-4557-8a0a-5d74c72341fb"
   },
   "outputs": [
    {
     "data": {
      "text/plain": [
       "'   heritage from village           in macedonian          . sources claim that the village was pure slavic.'"
      ]
     },
     "execution_count": 15,
     "metadata": {},
     "output_type": "execute_result"
    }
   ],
   "source": [
    "cleaned_text[228]"
   ]
  },
  {
   "cell_type": "code",
   "execution_count": 16,
   "metadata": {
    "ExecuteTime": {
     "end_time": "2023-03-15T01:27:28.686819Z",
     "start_time": "2023-03-15T01:27:28.031132Z"
    },
    "id": "QqsIpux16lOt"
   },
   "outputs": [],
   "source": [
    "# replace HTML tag with space\n",
    "html = re.compile(r\"<.*?>|&([a-z0-9]+|#[0-9]{1,6}|#x[0-9a-f]{1,6});\")\n",
    "train_df[\"clean_text\"] = train_df[\"clean_text\"].apply(lambda x: re.sub(html, \" \", x))"
   ]
  },
  {
   "cell_type": "markdown",
   "metadata": {
    "id": "LMbjXAwP6lOu"
   },
   "source": [
    "###  Remove Extra Space"
   ]
  },
  {
   "cell_type": "code",
   "execution_count": 17,
   "metadata": {
    "ExecuteTime": {
     "end_time": "2023-03-15T01:28:14.254269Z",
     "start_time": "2023-03-15T01:28:13.975957Z"
    }
   },
   "outputs": [],
   "source": [
    "# replace \\n with space\n",
    "train_df[\"clean_text\"] = train_df[\"clean_text\"].apply(lambda x: re.sub('\\n', ' ', x))"
   ]
  },
  {
   "cell_type": "code",
   "execution_count": 18,
   "metadata": {
    "ExecuteTime": {
     "end_time": "2023-03-15T01:28:15.911226Z",
     "start_time": "2023-03-15T01:28:15.746354Z"
    },
    "id": "dOC4PGmJ6lOu"
   },
   "outputs": [],
   "source": [
    "# replace \\r\\n with space\n",
    "train_df[\"clean_text\"] = train_df[\"clean_text\"].apply(lambda x: re.sub('\\r\\n', ' ', x))"
   ]
  },
  {
   "cell_type": "code",
   "execution_count": 19,
   "metadata": {
    "ExecuteTime": {
     "end_time": "2023-03-15T01:28:21.187191Z",
     "start_time": "2023-03-15T01:28:18.220731Z"
    },
    "id": "CLii6lnk6lOu"
   },
   "outputs": [],
   "source": [
    "# remove extra space\n",
    "train_df[\"clean_text\"] = train_df[\"clean_text\"].apply(lambda x: re.sub(' +', ' ', x))"
   ]
  },
  {
   "cell_type": "markdown",
   "metadata": {
    "id": "68yB3AkH6lOu"
   },
   "source": [
    "## Replace Common Slangs"
   ]
  },
  {
   "cell_type": "markdown",
   "metadata": {
    "id": "QbEb5Lkj6lOu"
   },
   "source": [
    "Slang, acronyms or informal abbreviations should be replaced with formal English. The list of common slangs used in Tweets takes reference from https://www.kaggle.com/code/nmaguette/up-to-date-list-of-slangs-for-text-preprocessing."
   ]
  },
  {
   "cell_type": "code",
   "execution_count": 20,
   "metadata": {
    "ExecuteTime": {
     "end_time": "2023-03-15T01:28:24.182681Z",
     "start_time": "2023-03-15T01:28:24.171969Z"
    },
    "id": "IeiaTG9q6lOu",
    "outputId": "65762560-59ce-4895-e0c4-c63595c36c8b"
   },
   "outputs": [
    {
     "data": {
      "text/html": [
       "<div>\n",
       "<style scoped>\n",
       "    .dataframe tbody tr th:only-of-type {\n",
       "        vertical-align: middle;\n",
       "    }\n",
       "\n",
       "    .dataframe tbody tr th {\n",
       "        vertical-align: top;\n",
       "    }\n",
       "\n",
       "    .dataframe thead th {\n",
       "        text-align: right;\n",
       "    }\n",
       "</style>\n",
       "<table border=\"1\" class=\"dataframe\">\n",
       "  <thead>\n",
       "    <tr style=\"text-align: right;\">\n",
       "      <th></th>\n",
       "      <th>abbreviation</th>\n",
       "      <th>translation</th>\n",
       "    </tr>\n",
       "  </thead>\n",
       "  <tbody>\n",
       "    <tr>\n",
       "      <th>0</th>\n",
       "      <td>$</td>\n",
       "      <td>dollar</td>\n",
       "    </tr>\n",
       "    <tr>\n",
       "      <th>1</th>\n",
       "      <td>€</td>\n",
       "      <td>euro</td>\n",
       "    </tr>\n",
       "    <tr>\n",
       "      <th>2</th>\n",
       "      <td>4ao</td>\n",
       "      <td>for adults only</td>\n",
       "    </tr>\n",
       "    <tr>\n",
       "      <th>3</th>\n",
       "      <td>a.m</td>\n",
       "      <td>before midday</td>\n",
       "    </tr>\n",
       "    <tr>\n",
       "      <th>4</th>\n",
       "      <td>a3</td>\n",
       "      <td>anytime anywhere anyplace</td>\n",
       "    </tr>\n",
       "  </tbody>\n",
       "</table>\n",
       "</div>"
      ],
      "text/plain": [
       "  abbreviation                translation\n",
       "0            $                    dollar \n",
       "1            €                      euro \n",
       "2          4ao            for adults only\n",
       "3          a.m              before midday\n",
       "4           a3  anytime anywhere anyplace"
      ]
     },
     "execution_count": 20,
     "metadata": {},
     "output_type": "execute_result"
    }
   ],
   "source": [
    "# read abbreviation.csv\n",
    "abbreviations = pd.read_csv('Data/abbreviations.csv')\n",
    "abbreviations.head()"
   ]
  },
  {
   "cell_type": "code",
   "execution_count": 21,
   "metadata": {
    "ExecuteTime": {
     "end_time": "2023-03-15T01:28:25.761324Z",
     "start_time": "2023-03-15T01:28:25.757622Z"
    },
    "id": "tDR-y7Bw6lOv"
   },
   "outputs": [],
   "source": [
    "# convert the data frame to a dictionary\n",
    "abbreviations_dict = dict(zip(abbreviations.abbreviation, abbreviations.translation))"
   ]
  },
  {
   "cell_type": "code",
   "execution_count": 22,
   "metadata": {
    "ExecuteTime": {
     "end_time": "2023-03-15T01:28:32.216476Z",
     "start_time": "2023-03-15T01:28:32.212116Z"
    },
    "id": "_TAqz0A16lOv"
   },
   "outputs": [],
   "source": [
    "# define a helper function to replace the abbreviations\n",
    "def convert_abbrev(text):\n",
    "    # create a pattern of all abbreviations and make sure they are not part of a longer word\n",
    "    abbreviations_pattern = re.compile(r'(?<!\\w)(' + '|'.join(re.escape(key) for key in abbreviations_dict.keys()) + r')(?!\\w)')\n",
    "    # replace an abbreviation with its translation\n",
    "    text = abbreviations_pattern.sub(lambda x: abbreviations_dict[x.group()], text)\n",
    "    return text"
   ]
  },
  {
   "cell_type": "code",
   "execution_count": 23,
   "metadata": {
    "ExecuteTime": {
     "end_time": "2023-03-15T01:29:02.918480Z",
     "start_time": "2023-03-15T01:28:35.208812Z"
    },
    "id": "vt7rxipN6lOv"
   },
   "outputs": [],
   "source": [
    "# replace the slangs\n",
    "train_df[\"clean_text\"] = train_df[\"clean_text\"].apply(convert_abbrev)"
   ]
  },
  {
   "cell_type": "code",
   "execution_count": 24,
   "metadata": {
    "ExecuteTime": {
     "end_time": "2023-03-15T01:29:03.135434Z",
     "start_time": "2023-03-15T01:29:03.132156Z"
    },
    "id": "Ap-nXTcz6lOv",
    "outputId": "f2e4517b-f415-4a02-b0fc-5aec91b38368"
   },
   "outputs": [
    {
     "name": "stdout",
     "output_type": "stream",
     "text": [
      "Original text: \n",
      " D'aww! He matches this background colour I'm seemingly stuck with. Thanks.  (talk) 21:51, January 11, 2016 (UTC)\n",
      "Clean text: \n",
      " d'aww! he matches this background colour i am seemingly stuck with. thanks. (talk) 21:51, january 11, 2016 (coordinated universal time)\n"
     ]
    }
   ],
   "source": [
    "# check if slangs are replaced\n",
    "print(\"Original text: \\n\", train_df[\"comment_text\"][1])\n",
    "print(\"Clean text: \\n\", train_df[\"clean_text\"][1])"
   ]
  },
  {
   "cell_type": "markdown",
   "metadata": {
    "id": "emHZdEXQ6lOv"
   },
   "source": [
    "## Spelling Correction"
   ]
  },
  {
   "cell_type": "markdown",
   "metadata": {
    "id": "2STK8pdp6lOv"
   },
   "source": [
    "We should correct the misspellings in the text. Both SpellChecker and TextBlob provide such functions, and we would like to compare their performance."
   ]
  },
  {
   "cell_type": "code",
   "execution_count": 25,
   "metadata": {
    "ExecuteTime": {
     "end_time": "2023-03-15T01:29:28.104592Z",
     "start_time": "2023-03-15T01:29:28.094770Z"
    },
    "id": "IZqlFmW-6lOw"
   },
   "outputs": [],
   "source": [
    "# select random texts from clean_text\n",
    "length = len(train_df[\"clean_text\"])\n",
    "random_num = random.sample(range(length), 100)\n",
    "random_text = train_df[\"clean_text\"][random_num]"
   ]
  },
  {
   "cell_type": "code",
   "execution_count": 26,
   "metadata": {
    "ExecuteTime": {
     "end_time": "2023-03-15T01:30:42.627950Z",
     "start_time": "2023-03-15T01:29:29.954546Z"
    },
    "id": "BQIDnE316lOw",
    "outputId": "bc74cb63-5169-4496-882f-2050b46a2ebd"
   },
   "outputs": [
    {
     "name": "stdout",
     "output_type": "stream",
     "text": [
      "--- 30.84517478942871 seconds ---\n"
     ]
    }
   ],
   "source": [
    "# using TextBlob package\n",
    "start_time1 = time.time()\n",
    "random_text.apply(lambda x: TextBlob(x).correct())\n",
    "print(\"--- %s seconds ---\" % (time.time() - start_time1))"
   ]
  },
  {
   "cell_type": "code",
   "execution_count": 27,
   "metadata": {
    "ExecuteTime": {
     "end_time": "2023-03-15T01:30:57.379143Z",
     "start_time": "2023-03-15T01:30:42.839902Z"
    },
    "id": "WkNiuhEN6lOw",
    "outputId": "b5d9ab68-5f20-46f4-f43f-2cb89d61aa40"
   },
   "outputs": [
    {
     "name": "stdout",
     "output_type": "stream",
     "text": [
      "--- 16.331270933151245 seconds ---\n"
     ]
    }
   ],
   "source": [
    "# using SpellChecker package\n",
    "start_time2 = time.time()\n",
    "random_text.apply(lambda x: SpellChecker().correction(x))\n",
    "print(\"--- %s seconds ---\" % (time.time() - start_time2))"
   ]
  },
  {
   "cell_type": "markdown",
   "metadata": {
    "id": "Fq8ZyOhp6lOw"
   },
   "source": [
    "Randomly select 100 texts and apply spelling correction functions on them. Comparing the execution time of 2 different packages, SpellChecker is much faster than TextBlob. Considering we are using a large-scale dataset, SpellChecker is preferred."
   ]
  },
  {
   "cell_type": "code",
   "execution_count": 28,
   "metadata": {
    "ExecuteTime": {
     "end_time": "2023-03-15T01:30:57.595335Z",
     "start_time": "2023-03-15T01:30:57.590891Z"
    },
    "id": "z86lgIkR6lOw"
   },
   "outputs": [],
   "source": [
    "def correct_spelling(text):\n",
    "    start_time = time.time()\n",
    "    cleaned_text = []\n",
    "    spellchecker = SpellChecker()\n",
    "    for i in range(text.shape[0]):\n",
    "        if i%100==0:\n",
    "            print(f'{i}-th text is being processed')\n",
    "        cleaned_text.append(spellchecker.correction(text[i]))\n",
    "    print(\"--- %s seconds ---\" % (time.time() - start_time))\n",
    "    return cleaned_text"
   ]
  },
  {
   "cell_type": "code",
   "execution_count": 29,
   "metadata": {
    "ExecuteTime": {
     "end_time": "2023-03-15T01:32:28.939270Z",
     "start_time": "2023-03-15T01:30:57.798630Z"
    },
    "id": "VG5votHY6lOx",
    "outputId": "90e75b6c-ae9b-4f09-ae26-84b028ac1f4c"
   },
   "outputs": [
    {
     "name": "stdout",
     "output_type": "stream",
     "text": [
      "0-th text is being processed\n",
      "100-th text is being processed\n",
      "200-th text is being processed\n",
      "300-th text is being processed\n",
      "400-th text is being processed\n",
      "500-th text is being processed\n",
      "600-th text is being processed\n",
      "700-th text is being processed\n",
      "800-th text is being processed\n",
      "900-th text is being processed\n",
      "1000-th text is being processed\n",
      "--- 67.02877187728882 seconds ---\n"
     ]
    }
   ],
   "source": [
    "cleaned_text = correct_spelling(train_df[\"clean_text\"][:1001])"
   ]
  },
  {
   "cell_type": "code",
   "execution_count": 30,
   "metadata": {
    "ExecuteTime": {
     "end_time": "2023-03-15T01:32:29.172738Z",
     "start_time": "2023-03-15T01:32:29.168067Z"
    },
    "id": "1EHbF5xg6lOx",
    "outputId": "eea78c40-2a6a-4195-cae3-f74430fbd843"
   },
   "outputs": [
    {
     "data": {
      "text/plain": [
       "Int64Index([ 62,  89, 101, 173, 175, 211, 217, 223, 226, 241, 250, 254, 259,\n",
       "            268, 276, 299, 320, 323, 376, 381, 397, 408, 423, 448, 465, 470,\n",
       "            504, 545, 592, 627, 632, 646, 715, 743, 758, 787, 806, 807, 814,\n",
       "            823, 831, 844, 852, 874, 877, 883, 897, 899, 913, 923, 947, 971],\n",
       "           dtype='int64')"
      ]
     },
     "execution_count": 30,
     "metadata": {},
     "output_type": "execute_result"
    }
   ],
   "source": [
    "train_df[\"clean_text\"][:1001].index[cleaned_text!=train_df[\"clean_text\"][:1001]]"
   ]
  },
  {
   "cell_type": "code",
   "execution_count": 31,
   "metadata": {
    "ExecuteTime": {
     "end_time": "2023-03-15T01:32:29.399573Z",
     "start_time": "2023-03-15T01:32:29.395943Z"
    },
    "id": "fxxHMgpT6lOx",
    "outputId": "c11d4091-10dd-4924-aade-edbb2b114cf1"
   },
   "outputs": [
    {
     "data": {
      "text/plain": [
       "'. fu ck ing trollreasons'"
      ]
     },
     "execution_count": 31,
     "metadata": {},
     "output_type": "execute_result"
    }
   ],
   "source": [
    "train_df[\"clean_text\"][971]"
   ]
  },
  {
   "cell_type": "code",
   "execution_count": 32,
   "metadata": {
    "ExecuteTime": {
     "end_time": "2023-03-15T01:32:43.104301Z",
     "start_time": "2023-03-15T01:32:43.101099Z"
    },
    "id": "3Cv-gPsz6lOx"
   },
   "outputs": [],
   "source": [
    "cleaned_text[971]"
   ]
  },
  {
   "cell_type": "markdown",
   "metadata": {
    "id": "B_rHvPza6lOx"
   },
   "source": [
    "However, many corrections do not make sense, and may omit some useful information. We decided not to use established package to perform spelling correction."
   ]
  },
  {
   "cell_type": "markdown",
   "metadata": {
    "id": "pOQbOAg56lOx"
   },
   "source": [
    "## Remove Punctuations"
   ]
  },
  {
   "cell_type": "markdown",
   "metadata": {
    "id": "-DIYDhBP6lOx"
   },
   "source": [
    "We remove punctuations from the text as the final step of text cleaning."
   ]
  },
  {
   "cell_type": "code",
   "execution_count": 33,
   "metadata": {
    "ExecuteTime": {
     "end_time": "2023-03-15T02:04:55.594368Z",
     "start_time": "2023-03-15T02:04:53.563284Z"
    },
    "id": "5IDueq1s6lOy"
   },
   "outputs": [],
   "source": [
    "# # remove punctuations\n",
    "#train_df[\"clean_text\"] = train_df[\"clean_text\"].apply(lambda x: x.translate(str.maketrans('', '', string.punctuation)))\n",
    "r = re.compile(r'''([!#$%&'()*+,./:;<=>?@[\\]^_`{|}~-])[!\"#$%&'()*+,./:;<=>?@[\\]^_`{|}~-]+''')\n",
    "train_df[\"clean_text\"] = train_df[\"clean_text\"].apply(lambda x: r.sub(r'\\1', x))"
   ]
  },
  {
   "cell_type": "code",
   "execution_count": 34,
   "metadata": {
    "ExecuteTime": {
     "end_time": "2023-03-15T02:04:57.702546Z",
     "start_time": "2023-03-15T02:04:57.684242Z"
    }
   },
   "outputs": [
    {
     "data": {
      "text/html": [
       "<div>\n",
       "<style scoped>\n",
       "    .dataframe tbody tr th:only-of-type {\n",
       "        vertical-align: middle;\n",
       "    }\n",
       "\n",
       "    .dataframe tbody tr th {\n",
       "        vertical-align: top;\n",
       "    }\n",
       "\n",
       "    .dataframe thead th {\n",
       "        text-align: right;\n",
       "    }\n",
       "</style>\n",
       "<table border=\"1\" class=\"dataframe\">\n",
       "  <thead>\n",
       "    <tr style=\"text-align: right;\">\n",
       "      <th></th>\n",
       "      <th>id</th>\n",
       "      <th>comment_text</th>\n",
       "      <th>toxic</th>\n",
       "      <th>severe_toxic</th>\n",
       "      <th>obscene</th>\n",
       "      <th>threat</th>\n",
       "      <th>insult</th>\n",
       "      <th>identity_hate</th>\n",
       "      <th>clean_text</th>\n",
       "    </tr>\n",
       "  </thead>\n",
       "  <tbody>\n",
       "    <tr>\n",
       "      <th>0</th>\n",
       "      <td>0000997932d777bf</td>\n",
       "      <td>Explanation\\nWhy the edits made under my usern...</td>\n",
       "      <td>0</td>\n",
       "      <td>0</td>\n",
       "      <td>0</td>\n",
       "      <td>0</td>\n",
       "      <td>0</td>\n",
       "      <td>0</td>\n",
       "      <td>explanation why the edits made under my userna...</td>\n",
       "    </tr>\n",
       "    <tr>\n",
       "      <th>1</th>\n",
       "      <td>000103f0d9cfb60f</td>\n",
       "      <td>D'aww! He matches this background colour I'm s...</td>\n",
       "      <td>0</td>\n",
       "      <td>0</td>\n",
       "      <td>0</td>\n",
       "      <td>0</td>\n",
       "      <td>0</td>\n",
       "      <td>0</td>\n",
       "      <td>d'aww! he matches this background colour i am ...</td>\n",
       "    </tr>\n",
       "    <tr>\n",
       "      <th>2</th>\n",
       "      <td>000113f07ec002fd</td>\n",
       "      <td>Hey man, I'm really not trying to edit war. It...</td>\n",
       "      <td>0</td>\n",
       "      <td>0</td>\n",
       "      <td>0</td>\n",
       "      <td>0</td>\n",
       "      <td>0</td>\n",
       "      <td>0</td>\n",
       "      <td>hey man, i am really not trying to edit war. i...</td>\n",
       "    </tr>\n",
       "    <tr>\n",
       "      <th>3</th>\n",
       "      <td>0001b41b1c6bb37e</td>\n",
       "      <td>\"\\nMore\\nI can't make any real suggestions on ...</td>\n",
       "      <td>0</td>\n",
       "      <td>0</td>\n",
       "      <td>0</td>\n",
       "      <td>0</td>\n",
       "      <td>0</td>\n",
       "      <td>0</td>\n",
       "      <td>\" more i cannot make any real suggestions on i...</td>\n",
       "    </tr>\n",
       "    <tr>\n",
       "      <th>4</th>\n",
       "      <td>0001d958c54c6e35</td>\n",
       "      <td>You, sir, are my hero. Any chance you remember...</td>\n",
       "      <td>0</td>\n",
       "      <td>0</td>\n",
       "      <td>0</td>\n",
       "      <td>0</td>\n",
       "      <td>0</td>\n",
       "      <td>0</td>\n",
       "      <td>you, sir, are my hero. any chance you remember...</td>\n",
       "    </tr>\n",
       "    <tr>\n",
       "      <th>...</th>\n",
       "      <td>...</td>\n",
       "      <td>...</td>\n",
       "      <td>...</td>\n",
       "      <td>...</td>\n",
       "      <td>...</td>\n",
       "      <td>...</td>\n",
       "      <td>...</td>\n",
       "      <td>...</td>\n",
       "      <td>...</td>\n",
       "    </tr>\n",
       "    <tr>\n",
       "      <th>159566</th>\n",
       "      <td>ffe987279560d7ff</td>\n",
       "      <td>\":::::And for the second time of asking, when ...</td>\n",
       "      <td>0</td>\n",
       "      <td>0</td>\n",
       "      <td>0</td>\n",
       "      <td>0</td>\n",
       "      <td>0</td>\n",
       "      <td>0</td>\n",
       "      <td>\":and for the second time of asking, when your...</td>\n",
       "    </tr>\n",
       "    <tr>\n",
       "      <th>159567</th>\n",
       "      <td>ffea4adeee384e90</td>\n",
       "      <td>You should be ashamed of yourself \\n\\nThat is ...</td>\n",
       "      <td>0</td>\n",
       "      <td>0</td>\n",
       "      <td>0</td>\n",
       "      <td>0</td>\n",
       "      <td>0</td>\n",
       "      <td>0</td>\n",
       "      <td>you should be ashamed of yourself that is a ho...</td>\n",
       "    </tr>\n",
       "    <tr>\n",
       "      <th>159568</th>\n",
       "      <td>ffee36eab5c267c9</td>\n",
       "      <td>Spitzer \\n\\nUmm, theres no actual article for ...</td>\n",
       "      <td>0</td>\n",
       "      <td>0</td>\n",
       "      <td>0</td>\n",
       "      <td>0</td>\n",
       "      <td>0</td>\n",
       "      <td>0</td>\n",
       "      <td>spitzer umm, there is no actual article for pr...</td>\n",
       "    </tr>\n",
       "    <tr>\n",
       "      <th>159569</th>\n",
       "      <td>fff125370e4aaaf3</td>\n",
       "      <td>And it looks like it was actually you who put ...</td>\n",
       "      <td>0</td>\n",
       "      <td>0</td>\n",
       "      <td>0</td>\n",
       "      <td>0</td>\n",
       "      <td>0</td>\n",
       "      <td>0</td>\n",
       "      <td>and it looks like it was actually you who put ...</td>\n",
       "    </tr>\n",
       "    <tr>\n",
       "      <th>159570</th>\n",
       "      <td>fff46fc426af1f9a</td>\n",
       "      <td>\"\\nAnd ... I really don't think you understand...</td>\n",
       "      <td>0</td>\n",
       "      <td>0</td>\n",
       "      <td>0</td>\n",
       "      <td>0</td>\n",
       "      <td>0</td>\n",
       "      <td>0</td>\n",
       "      <td>\" and . i really do not think you understand. ...</td>\n",
       "    </tr>\n",
       "  </tbody>\n",
       "</table>\n",
       "<p>159571 rows × 9 columns</p>\n",
       "</div>"
      ],
      "text/plain": [
       "                      id                                       comment_text  \\\n",
       "0       0000997932d777bf  Explanation\\nWhy the edits made under my usern...   \n",
       "1       000103f0d9cfb60f  D'aww! He matches this background colour I'm s...   \n",
       "2       000113f07ec002fd  Hey man, I'm really not trying to edit war. It...   \n",
       "3       0001b41b1c6bb37e  \"\\nMore\\nI can't make any real suggestions on ...   \n",
       "4       0001d958c54c6e35  You, sir, are my hero. Any chance you remember...   \n",
       "...                  ...                                                ...   \n",
       "159566  ffe987279560d7ff  \":::::And for the second time of asking, when ...   \n",
       "159567  ffea4adeee384e90  You should be ashamed of yourself \\n\\nThat is ...   \n",
       "159568  ffee36eab5c267c9  Spitzer \\n\\nUmm, theres no actual article for ...   \n",
       "159569  fff125370e4aaaf3  And it looks like it was actually you who put ...   \n",
       "159570  fff46fc426af1f9a  \"\\nAnd ... I really don't think you understand...   \n",
       "\n",
       "        toxic  severe_toxic  obscene  threat  insult  identity_hate  \\\n",
       "0           0             0        0       0       0              0   \n",
       "1           0             0        0       0       0              0   \n",
       "2           0             0        0       0       0              0   \n",
       "3           0             0        0       0       0              0   \n",
       "4           0             0        0       0       0              0   \n",
       "...       ...           ...      ...     ...     ...            ...   \n",
       "159566      0             0        0       0       0              0   \n",
       "159567      0             0        0       0       0              0   \n",
       "159568      0             0        0       0       0              0   \n",
       "159569      0             0        0       0       0              0   \n",
       "159570      0             0        0       0       0              0   \n",
       "\n",
       "                                               clean_text  \n",
       "0       explanation why the edits made under my userna...  \n",
       "1       d'aww! he matches this background colour i am ...  \n",
       "2       hey man, i am really not trying to edit war. i...  \n",
       "3       \" more i cannot make any real suggestions on i...  \n",
       "4       you, sir, are my hero. any chance you remember...  \n",
       "...                                                   ...  \n",
       "159566  \":and for the second time of asking, when your...  \n",
       "159567  you should be ashamed of yourself that is a ho...  \n",
       "159568  spitzer umm, there is no actual article for pr...  \n",
       "159569  and it looks like it was actually you who put ...  \n",
       "159570  \" and . i really do not think you understand. ...  \n",
       "\n",
       "[159571 rows x 9 columns]"
      ]
     },
     "execution_count": 34,
     "metadata": {},
     "output_type": "execute_result"
    }
   ],
   "source": [
    "train_df"
   ]
  },
  {
   "cell_type": "code",
   "execution_count": 35,
   "metadata": {
    "ExecuteTime": {
     "end_time": "2023-03-15T02:05:29.561246Z",
     "start_time": "2023-03-15T02:05:26.651119Z"
    }
   },
   "outputs": [],
   "source": [
    "train_df.drop('comment_text', axis=1).to_csv('Data/cleaned_train.csv', index=False)"
   ]
  },
  {
   "cell_type": "markdown",
   "metadata": {
    "id": "VP1_2vo36lOy"
   },
   "source": [
    "<a id=\"textpreprocessing\"></a>\n",
    "# 2. Text Preprocessing"
   ]
  },
  {
   "cell_type": "code",
   "execution_count": 36,
   "metadata": {
    "ExecuteTime": {
     "end_time": "2023-03-15T02:26:04.941821Z",
     "start_time": "2023-03-15T02:26:03.711748Z"
    },
    "colab": {
     "base_uri": "https://localhost:8080/",
     "height": 206
    },
    "id": "WeV9pWgO6lOy",
    "outputId": "a4bcd494-6401-492a-eda6-bf797c534e76",
    "scrolled": true
   },
   "outputs": [
    {
     "data": {
      "text/html": [
       "<div>\n",
       "<style scoped>\n",
       "    .dataframe tbody tr th:only-of-type {\n",
       "        vertical-align: middle;\n",
       "    }\n",
       "\n",
       "    .dataframe tbody tr th {\n",
       "        vertical-align: top;\n",
       "    }\n",
       "\n",
       "    .dataframe thead th {\n",
       "        text-align: right;\n",
       "    }\n",
       "</style>\n",
       "<table border=\"1\" class=\"dataframe\">\n",
       "  <thead>\n",
       "    <tr style=\"text-align: right;\">\n",
       "      <th></th>\n",
       "      <th>id</th>\n",
       "      <th>toxic</th>\n",
       "      <th>severe_toxic</th>\n",
       "      <th>obscene</th>\n",
       "      <th>threat</th>\n",
       "      <th>insult</th>\n",
       "      <th>identity_hate</th>\n",
       "      <th>clean_text</th>\n",
       "    </tr>\n",
       "  </thead>\n",
       "  <tbody>\n",
       "    <tr>\n",
       "      <th>0</th>\n",
       "      <td>0000997932d777bf</td>\n",
       "      <td>0</td>\n",
       "      <td>0</td>\n",
       "      <td>0</td>\n",
       "      <td>0</td>\n",
       "      <td>0</td>\n",
       "      <td>0</td>\n",
       "      <td>explanation why the edits made under my userna...</td>\n",
       "    </tr>\n",
       "    <tr>\n",
       "      <th>1</th>\n",
       "      <td>000103f0d9cfb60f</td>\n",
       "      <td>0</td>\n",
       "      <td>0</td>\n",
       "      <td>0</td>\n",
       "      <td>0</td>\n",
       "      <td>0</td>\n",
       "      <td>0</td>\n",
       "      <td>d'aww! he matches this background colour i am ...</td>\n",
       "    </tr>\n",
       "    <tr>\n",
       "      <th>2</th>\n",
       "      <td>000113f07ec002fd</td>\n",
       "      <td>0</td>\n",
       "      <td>0</td>\n",
       "      <td>0</td>\n",
       "      <td>0</td>\n",
       "      <td>0</td>\n",
       "      <td>0</td>\n",
       "      <td>hey man, i am really not trying to edit war. i...</td>\n",
       "    </tr>\n",
       "    <tr>\n",
       "      <th>3</th>\n",
       "      <td>0001b41b1c6bb37e</td>\n",
       "      <td>0</td>\n",
       "      <td>0</td>\n",
       "      <td>0</td>\n",
       "      <td>0</td>\n",
       "      <td>0</td>\n",
       "      <td>0</td>\n",
       "      <td>\" more i cannot make any real suggestions on i...</td>\n",
       "    </tr>\n",
       "    <tr>\n",
       "      <th>4</th>\n",
       "      <td>0001d958c54c6e35</td>\n",
       "      <td>0</td>\n",
       "      <td>0</td>\n",
       "      <td>0</td>\n",
       "      <td>0</td>\n",
       "      <td>0</td>\n",
       "      <td>0</td>\n",
       "      <td>you, sir, are my hero. any chance you remember...</td>\n",
       "    </tr>\n",
       "  </tbody>\n",
       "</table>\n",
       "</div>"
      ],
      "text/plain": [
       "                 id  toxic  severe_toxic  obscene  threat  insult  \\\n",
       "0  0000997932d777bf      0             0        0       0       0   \n",
       "1  000103f0d9cfb60f      0             0        0       0       0   \n",
       "2  000113f07ec002fd      0             0        0       0       0   \n",
       "3  0001b41b1c6bb37e      0             0        0       0       0   \n",
       "4  0001d958c54c6e35      0             0        0       0       0   \n",
       "\n",
       "   identity_hate                                         clean_text  \n",
       "0              0  explanation why the edits made under my userna...  \n",
       "1              0  d'aww! he matches this background colour i am ...  \n",
       "2              0  hey man, i am really not trying to edit war. i...  \n",
       "3              0  \" more i cannot make any real suggestions on i...  \n",
       "4              0  you, sir, are my hero. any chance you remember...  "
      ]
     },
     "execution_count": 36,
     "metadata": {},
     "output_type": "execute_result"
    }
   ],
   "source": [
    "#cleaned_df = pd.read_csv(\"/cleaned_train.csv\")\n",
    "cleaned_df = pd.read_csv(\"Data/cleaned_train.csv\")\n",
    "cleaned_df.head()"
   ]
  },
  {
   "cell_type": "markdown",
   "metadata": {
    "id": "qnWPmf9h6lOz"
   },
   "source": [
    "## Tokenization (NLTK has a package specially catered to tokenizing tweets)"
   ]
  },
  {
   "cell_type": "code",
   "execution_count": 37,
   "metadata": {
    "ExecuteTime": {
     "end_time": "2023-03-15T02:27:05.516093Z",
     "start_time": "2023-03-15T02:26:05.762781Z"
    }
   },
   "outputs": [],
   "source": [
    "from nltk.tokenize import TweetTokenizer\n",
    "tt = TweetTokenizer()\n",
    "cleaned_df['text_tokenized'] = cleaned_df['clean_text'].apply(tt.tokenize)"
   ]
  },
  {
   "cell_type": "code",
   "execution_count": 38,
   "metadata": {
    "ExecuteTime": {
     "end_time": "2023-03-15T02:27:05.977056Z",
     "start_time": "2023-03-15T02:27:05.964852Z"
    }
   },
   "outputs": [
    {
     "data": {
      "text/html": [
       "<div>\n",
       "<style scoped>\n",
       "    .dataframe tbody tr th:only-of-type {\n",
       "        vertical-align: middle;\n",
       "    }\n",
       "\n",
       "    .dataframe tbody tr th {\n",
       "        vertical-align: top;\n",
       "    }\n",
       "\n",
       "    .dataframe thead th {\n",
       "        text-align: right;\n",
       "    }\n",
       "</style>\n",
       "<table border=\"1\" class=\"dataframe\">\n",
       "  <thead>\n",
       "    <tr style=\"text-align: right;\">\n",
       "      <th></th>\n",
       "      <th>id</th>\n",
       "      <th>toxic</th>\n",
       "      <th>severe_toxic</th>\n",
       "      <th>obscene</th>\n",
       "      <th>threat</th>\n",
       "      <th>insult</th>\n",
       "      <th>identity_hate</th>\n",
       "      <th>clean_text</th>\n",
       "      <th>text_tokenized</th>\n",
       "    </tr>\n",
       "  </thead>\n",
       "  <tbody>\n",
       "    <tr>\n",
       "      <th>0</th>\n",
       "      <td>0000997932d777bf</td>\n",
       "      <td>0</td>\n",
       "      <td>0</td>\n",
       "      <td>0</td>\n",
       "      <td>0</td>\n",
       "      <td>0</td>\n",
       "      <td>0</td>\n",
       "      <td>explanation why the edits made under my userna...</td>\n",
       "      <td>[explanation, why, the, edits, made, under, my...</td>\n",
       "    </tr>\n",
       "    <tr>\n",
       "      <th>1</th>\n",
       "      <td>000103f0d9cfb60f</td>\n",
       "      <td>0</td>\n",
       "      <td>0</td>\n",
       "      <td>0</td>\n",
       "      <td>0</td>\n",
       "      <td>0</td>\n",
       "      <td>0</td>\n",
       "      <td>d'aww! he matches this background colour i am ...</td>\n",
       "      <td>[d'aww, !, he, matches, this, background, colo...</td>\n",
       "    </tr>\n",
       "    <tr>\n",
       "      <th>2</th>\n",
       "      <td>000113f07ec002fd</td>\n",
       "      <td>0</td>\n",
       "      <td>0</td>\n",
       "      <td>0</td>\n",
       "      <td>0</td>\n",
       "      <td>0</td>\n",
       "      <td>0</td>\n",
       "      <td>hey man, i am really not trying to edit war. i...</td>\n",
       "      <td>[hey, man, ,, i, am, really, not, trying, to, ...</td>\n",
       "    </tr>\n",
       "    <tr>\n",
       "      <th>3</th>\n",
       "      <td>0001b41b1c6bb37e</td>\n",
       "      <td>0</td>\n",
       "      <td>0</td>\n",
       "      <td>0</td>\n",
       "      <td>0</td>\n",
       "      <td>0</td>\n",
       "      <td>0</td>\n",
       "      <td>\" more i cannot make any real suggestions on i...</td>\n",
       "      <td>[\", more, i, cannot, make, any, real, suggesti...</td>\n",
       "    </tr>\n",
       "    <tr>\n",
       "      <th>4</th>\n",
       "      <td>0001d958c54c6e35</td>\n",
       "      <td>0</td>\n",
       "      <td>0</td>\n",
       "      <td>0</td>\n",
       "      <td>0</td>\n",
       "      <td>0</td>\n",
       "      <td>0</td>\n",
       "      <td>you, sir, are my hero. any chance you remember...</td>\n",
       "      <td>[you, ,, sir, ,, are, my, hero, ., any, chance...</td>\n",
       "    </tr>\n",
       "  </tbody>\n",
       "</table>\n",
       "</div>"
      ],
      "text/plain": [
       "                 id  toxic  severe_toxic  obscene  threat  insult  \\\n",
       "0  0000997932d777bf      0             0        0       0       0   \n",
       "1  000103f0d9cfb60f      0             0        0       0       0   \n",
       "2  000113f07ec002fd      0             0        0       0       0   \n",
       "3  0001b41b1c6bb37e      0             0        0       0       0   \n",
       "4  0001d958c54c6e35      0             0        0       0       0   \n",
       "\n",
       "   identity_hate                                         clean_text  \\\n",
       "0              0  explanation why the edits made under my userna...   \n",
       "1              0  d'aww! he matches this background colour i am ...   \n",
       "2              0  hey man, i am really not trying to edit war. i...   \n",
       "3              0  \" more i cannot make any real suggestions on i...   \n",
       "4              0  you, sir, are my hero. any chance you remember...   \n",
       "\n",
       "                                      text_tokenized  \n",
       "0  [explanation, why, the, edits, made, under, my...  \n",
       "1  [d'aww, !, he, matches, this, background, colo...  \n",
       "2  [hey, man, ,, i, am, really, not, trying, to, ...  \n",
       "3  [\", more, i, cannot, make, any, real, suggesti...  \n",
       "4  [you, ,, sir, ,, are, my, hero, ., any, chance...  "
      ]
     },
     "execution_count": 38,
     "metadata": {},
     "output_type": "execute_result"
    }
   ],
   "source": [
    "cleaned_df.head()"
   ]
  },
  {
   "cell_type": "markdown",
   "metadata": {
    "id": "Qi9Zr5yH6lOz"
   },
   "source": [
    "## Remove Stop Words (or/and Frequent words/ Rare words)"
   ]
  },
  {
   "cell_type": "markdown",
   "metadata": {},
   "source": [
    "### Stop Words Removal"
   ]
  },
  {
   "cell_type": "code",
   "execution_count": 39,
   "metadata": {
    "ExecuteTime": {
     "end_time": "2023-03-15T02:27:06.348584Z",
     "start_time": "2023-03-15T02:27:06.340783Z"
    },
    "id": "J2zjB4hb6lOz"
   },
   "outputs": [
    {
     "name": "stdout",
     "output_type": "stream",
     "text": [
      "['i', 'me', 'my', 'myself', 'we', 'our', 'ours', 'ourselves', 'you', \"you're\", \"you've\", \"you'll\", \"you'd\", 'your', 'yours', 'yourself', 'yourselves', 'he', 'him', 'his', 'himself', 'she', \"she's\", 'her', 'hers', 'herself', 'it', \"it's\", 'its', 'itself', 'they', 'them', 'their', 'theirs', 'themselves', 'what', 'which', 'who', 'whom', 'this', 'that', \"that'll\", 'these', 'those', 'am', 'is', 'are', 'was', 'were', 'be', 'been', 'being', 'have', 'has', 'had', 'having', 'do', 'does', 'did', 'doing', 'a', 'an', 'the', 'and', 'but', 'if', 'or', 'because', 'as', 'until', 'while', 'of', 'at', 'by', 'for', 'with', 'about', 'against', 'between', 'into', 'through', 'during', 'before', 'after', 'above', 'below', 'to', 'from', 'up', 'down', 'in', 'out', 'on', 'off', 'over', 'under', 'again', 'further', 'then', 'once', 'here', 'there', 'when', 'where', 'why', 'how', 'all', 'any', 'both', 'each', 'few', 'more', 'most', 'other', 'some', 'such', 'no', 'nor', 'not', 'only', 'own', 'same', 'so', 'than', 'too', 'very', 's', 't', 'can', 'will', 'just', 'don', \"don't\", 'should', \"should've\", 'now', 'd', 'll', 'm', 'o', 're', 've', 'y', 'ain', 'aren', \"aren't\", 'couldn', \"couldn't\", 'didn', \"didn't\", 'doesn', \"doesn't\", 'hadn', \"hadn't\", 'hasn', \"hasn't\", 'haven', \"haven't\", 'isn', \"isn't\", 'ma', 'mightn', \"mightn't\", 'mustn', \"mustn't\", 'needn', \"needn't\", 'shan', \"shan't\", 'shouldn', \"shouldn't\", 'wasn', \"wasn't\", 'weren', \"weren't\", 'won', \"won't\", 'wouldn', \"wouldn't\"]\n"
     ]
    }
   ],
   "source": [
    "from nltk.corpus import stopwords\n",
    "\n",
    "#review all stop words in the library\n",
    "print(stopwords.words('english'))"
   ]
  },
  {
   "cell_type": "code",
   "execution_count": 40,
   "metadata": {
    "ExecuteTime": {
     "end_time": "2023-03-15T02:28:17.186718Z",
     "start_time": "2023-03-15T02:27:06.671121Z"
    }
   },
   "outputs": [
    {
     "data": {
      "text/html": [
       "<div>\n",
       "<style scoped>\n",
       "    .dataframe tbody tr th:only-of-type {\n",
       "        vertical-align: middle;\n",
       "    }\n",
       "\n",
       "    .dataframe tbody tr th {\n",
       "        vertical-align: top;\n",
       "    }\n",
       "\n",
       "    .dataframe thead th {\n",
       "        text-align: right;\n",
       "    }\n",
       "</style>\n",
       "<table border=\"1\" class=\"dataframe\">\n",
       "  <thead>\n",
       "    <tr style=\"text-align: right;\">\n",
       "      <th></th>\n",
       "      <th>id</th>\n",
       "      <th>toxic</th>\n",
       "      <th>severe_toxic</th>\n",
       "      <th>obscene</th>\n",
       "      <th>threat</th>\n",
       "      <th>insult</th>\n",
       "      <th>identity_hate</th>\n",
       "      <th>clean_text</th>\n",
       "      <th>text_tokenized</th>\n",
       "      <th>text_no_stop_words</th>\n",
       "    </tr>\n",
       "  </thead>\n",
       "  <tbody>\n",
       "    <tr>\n",
       "      <th>0</th>\n",
       "      <td>0000997932d777bf</td>\n",
       "      <td>0</td>\n",
       "      <td>0</td>\n",
       "      <td>0</td>\n",
       "      <td>0</td>\n",
       "      <td>0</td>\n",
       "      <td>0</td>\n",
       "      <td>explanation why the edits made under my userna...</td>\n",
       "      <td>[explanation, why, the, edits, made, under, my...</td>\n",
       "      <td>explanation edits made username hardcore metal...</td>\n",
       "    </tr>\n",
       "    <tr>\n",
       "      <th>1</th>\n",
       "      <td>000103f0d9cfb60f</td>\n",
       "      <td>0</td>\n",
       "      <td>0</td>\n",
       "      <td>0</td>\n",
       "      <td>0</td>\n",
       "      <td>0</td>\n",
       "      <td>0</td>\n",
       "      <td>d'aww! he matches this background colour i am ...</td>\n",
       "      <td>[d'aww, !, he, matches, this, background, colo...</td>\n",
       "      <td>d'aww ! matches background colour seemingly st...</td>\n",
       "    </tr>\n",
       "    <tr>\n",
       "      <th>2</th>\n",
       "      <td>000113f07ec002fd</td>\n",
       "      <td>0</td>\n",
       "      <td>0</td>\n",
       "      <td>0</td>\n",
       "      <td>0</td>\n",
       "      <td>0</td>\n",
       "      <td>0</td>\n",
       "      <td>hey man, i am really not trying to edit war. i...</td>\n",
       "      <td>[hey, man, ,, i, am, really, not, trying, to, ...</td>\n",
       "      <td>hey man , really trying edit war . guy constan...</td>\n",
       "    </tr>\n",
       "    <tr>\n",
       "      <th>3</th>\n",
       "      <td>0001b41b1c6bb37e</td>\n",
       "      <td>0</td>\n",
       "      <td>0</td>\n",
       "      <td>0</td>\n",
       "      <td>0</td>\n",
       "      <td>0</td>\n",
       "      <td>0</td>\n",
       "      <td>\" more i cannot make any real suggestions on i...</td>\n",
       "      <td>[\", more, i, cannot, make, any, real, suggesti...</td>\n",
       "      <td>\" cannot make real suggestions improvement - w...</td>\n",
       "    </tr>\n",
       "    <tr>\n",
       "      <th>4</th>\n",
       "      <td>0001d958c54c6e35</td>\n",
       "      <td>0</td>\n",
       "      <td>0</td>\n",
       "      <td>0</td>\n",
       "      <td>0</td>\n",
       "      <td>0</td>\n",
       "      <td>0</td>\n",
       "      <td>you, sir, are my hero. any chance you remember...</td>\n",
       "      <td>[you, ,, sir, ,, are, my, hero, ., any, chance...</td>\n",
       "      <td>, sir , hero . chance remember page ?</td>\n",
       "    </tr>\n",
       "  </tbody>\n",
       "</table>\n",
       "</div>"
      ],
      "text/plain": [
       "                 id  toxic  severe_toxic  obscene  threat  insult  \\\n",
       "0  0000997932d777bf      0             0        0       0       0   \n",
       "1  000103f0d9cfb60f      0             0        0       0       0   \n",
       "2  000113f07ec002fd      0             0        0       0       0   \n",
       "3  0001b41b1c6bb37e      0             0        0       0       0   \n",
       "4  0001d958c54c6e35      0             0        0       0       0   \n",
       "\n",
       "   identity_hate                                         clean_text  \\\n",
       "0              0  explanation why the edits made under my userna...   \n",
       "1              0  d'aww! he matches this background colour i am ...   \n",
       "2              0  hey man, i am really not trying to edit war. i...   \n",
       "3              0  \" more i cannot make any real suggestions on i...   \n",
       "4              0  you, sir, are my hero. any chance you remember...   \n",
       "\n",
       "                                      text_tokenized  \\\n",
       "0  [explanation, why, the, edits, made, under, my...   \n",
       "1  [d'aww, !, he, matches, this, background, colo...   \n",
       "2  [hey, man, ,, i, am, really, not, trying, to, ...   \n",
       "3  [\", more, i, cannot, make, any, real, suggesti...   \n",
       "4  [you, ,, sir, ,, are, my, hero, ., any, chance...   \n",
       "\n",
       "                                  text_no_stop_words  \n",
       "0  explanation edits made username hardcore metal...  \n",
       "1  d'aww ! matches background colour seemingly st...  \n",
       "2  hey man , really trying edit war . guy constan...  \n",
       "3  \" cannot make real suggestions improvement - w...  \n",
       "4              , sir , hero . chance remember page ?  "
      ]
     },
     "execution_count": 40,
     "metadata": {},
     "output_type": "execute_result"
    }
   ],
   "source": [
    "#remove stop words from tokenized text\n",
    "stop_words = stopwords.words('english')\n",
    "\n",
    "def remove_stopwords(row):\n",
    "    # check in lowercase \n",
    "    t = [token for token in row['text_tokenized'] if token.lower() not in stop_words]\n",
    "    text = ' '.join(t)    \n",
    "    return pd.Series([text])    #for stemming\n",
    "\n",
    "cleaned_df[['text_no_stop_words']] = cleaned_df.apply(remove_stopwords, axis = 1)\n",
    "\n",
    "\n",
    "cleaned_df.head()"
   ]
  },
  {
   "cell_type": "code",
   "execution_count": 41,
   "metadata": {
    "ExecuteTime": {
     "end_time": "2023-03-15T02:16:18.847481Z",
     "start_time": "2023-03-15T02:16:18.824175Z"
    },
    "scrolled": true
   },
   "outputs": [
    {
     "data": {
      "text/html": [
       "<div>\n",
       "<style scoped>\n",
       "    .dataframe tbody tr th:only-of-type {\n",
       "        vertical-align: middle;\n",
       "    }\n",
       "\n",
       "    .dataframe tbody tr th {\n",
       "        vertical-align: top;\n",
       "    }\n",
       "\n",
       "    .dataframe thead th {\n",
       "        text-align: right;\n",
       "    }\n",
       "</style>\n",
       "<table border=\"1\" class=\"dataframe\">\n",
       "  <thead>\n",
       "    <tr style=\"text-align: right;\">\n",
       "      <th></th>\n",
       "      <th>id</th>\n",
       "      <th>toxic</th>\n",
       "      <th>severe_toxic</th>\n",
       "      <th>obscene</th>\n",
       "      <th>threat</th>\n",
       "      <th>insult</th>\n",
       "      <th>identity_hate</th>\n",
       "      <th>clean_text</th>\n",
       "      <th>text_tokenized</th>\n",
       "      <th>text_no_stop_words</th>\n",
       "    </tr>\n",
       "  </thead>\n",
       "  <tbody>\n",
       "    <tr>\n",
       "      <th>0</th>\n",
       "      <td>0000997932d777bf</td>\n",
       "      <td>0</td>\n",
       "      <td>0</td>\n",
       "      <td>0</td>\n",
       "      <td>0</td>\n",
       "      <td>0</td>\n",
       "      <td>0</td>\n",
       "      <td>explanation why the edits made under my userna...</td>\n",
       "      <td>[explanation, why, the, edits, made, under, my...</td>\n",
       "      <td>explanation edits made username hardcore metal...</td>\n",
       "    </tr>\n",
       "    <tr>\n",
       "      <th>1</th>\n",
       "      <td>000103f0d9cfb60f</td>\n",
       "      <td>0</td>\n",
       "      <td>0</td>\n",
       "      <td>0</td>\n",
       "      <td>0</td>\n",
       "      <td>0</td>\n",
       "      <td>0</td>\n",
       "      <td>d'aww! he matches this background colour i am ...</td>\n",
       "      <td>[d'aww, !, he, matches, this, background, colo...</td>\n",
       "      <td>d'aww ! matches background colour seemingly st...</td>\n",
       "    </tr>\n",
       "    <tr>\n",
       "      <th>2</th>\n",
       "      <td>000113f07ec002fd</td>\n",
       "      <td>0</td>\n",
       "      <td>0</td>\n",
       "      <td>0</td>\n",
       "      <td>0</td>\n",
       "      <td>0</td>\n",
       "      <td>0</td>\n",
       "      <td>hey man, i am really not trying to edit war. i...</td>\n",
       "      <td>[hey, man, ,, i, am, really, not, trying, to, ...</td>\n",
       "      <td>hey man , really trying edit war . guy constan...</td>\n",
       "    </tr>\n",
       "    <tr>\n",
       "      <th>3</th>\n",
       "      <td>0001b41b1c6bb37e</td>\n",
       "      <td>0</td>\n",
       "      <td>0</td>\n",
       "      <td>0</td>\n",
       "      <td>0</td>\n",
       "      <td>0</td>\n",
       "      <td>0</td>\n",
       "      <td>\" more i cannot make any real suggestions on i...</td>\n",
       "      <td>[\", more, i, cannot, make, any, real, suggesti...</td>\n",
       "      <td>\" cannot make real suggestions improvement - w...</td>\n",
       "    </tr>\n",
       "    <tr>\n",
       "      <th>4</th>\n",
       "      <td>0001d958c54c6e35</td>\n",
       "      <td>0</td>\n",
       "      <td>0</td>\n",
       "      <td>0</td>\n",
       "      <td>0</td>\n",
       "      <td>0</td>\n",
       "      <td>0</td>\n",
       "      <td>you, sir, are my hero. any chance you remember...</td>\n",
       "      <td>[you, ,, sir, ,, are, my, hero, ., any, chance...</td>\n",
       "      <td>, sir , hero . chance remember page ?</td>\n",
       "    </tr>\n",
       "  </tbody>\n",
       "</table>\n",
       "</div>"
      ],
      "text/plain": [
       "                 id  toxic  severe_toxic  obscene  threat  insult  \\\n",
       "0  0000997932d777bf      0             0        0       0       0   \n",
       "1  000103f0d9cfb60f      0             0        0       0       0   \n",
       "2  000113f07ec002fd      0             0        0       0       0   \n",
       "3  0001b41b1c6bb37e      0             0        0       0       0   \n",
       "4  0001d958c54c6e35      0             0        0       0       0   \n",
       "\n",
       "   identity_hate                                         clean_text  \\\n",
       "0              0  explanation why the edits made under my userna...   \n",
       "1              0  d'aww! he matches this background colour i am ...   \n",
       "2              0  hey man, i am really not trying to edit war. i...   \n",
       "3              0  \" more i cannot make any real suggestions on i...   \n",
       "4              0  you, sir, are my hero. any chance you remember...   \n",
       "\n",
       "                                      text_tokenized  \\\n",
       "0  [explanation, why, the, edits, made, under, my...   \n",
       "1  [d'aww, !, he, matches, this, background, colo...   \n",
       "2  [hey, man, ,, i, am, really, not, trying, to, ...   \n",
       "3  [\", more, i, cannot, make, any, real, suggesti...   \n",
       "4  [you, ,, sir, ,, are, my, hero, ., any, chance...   \n",
       "\n",
       "                                  text_no_stop_words  \n",
       "0  explanation edits made username hardcore metal...  \n",
       "1  d'aww ! matches background colour seemingly st...  \n",
       "2  hey man , really trying edit war . guy constan...  \n",
       "3  \" cannot make real suggestions improvement - w...  \n",
       "4              , sir , hero . chance remember page ?  "
      ]
     },
     "execution_count": 41,
     "metadata": {},
     "output_type": "execute_result"
    }
   ],
   "source": [
    "#drop clean_text and tokenized column\n",
    "#del cleaned_df['clean_text']\n",
    "#del cleaned_df['text_tokenized']\n",
    "cleaned_df.head()"
   ]
  },
  {
   "cell_type": "markdown",
   "metadata": {
    "id": "e7E0_XHB6lOz"
   },
   "source": [
    "## Stemming"
   ]
  },
  {
   "cell_type": "markdown",
   "metadata": {
    "id": "br2k1Vb_6lOz"
   },
   "source": [
    "We will use Snowball Stemmer to realise stemming. Comparing with Poster Stemmer, it is more efficient and has higher performance. Comparing with Lancaster Stemmer, it is less aggressive and can keep more word meanings for the Semantic Analysis in our later stage. "
   ]
  },
  {
   "cell_type": "code",
   "execution_count": 42,
   "metadata": {
    "ExecuteTime": {
     "end_time": "2023-03-15T02:29:50.193076Z",
     "start_time": "2023-03-15T02:28:17.620473Z"
    }
   },
   "outputs": [
    {
     "data": {
      "text/html": [
       "<div>\n",
       "<style scoped>\n",
       "    .dataframe tbody tr th:only-of-type {\n",
       "        vertical-align: middle;\n",
       "    }\n",
       "\n",
       "    .dataframe tbody tr th {\n",
       "        vertical-align: top;\n",
       "    }\n",
       "\n",
       "    .dataframe thead th {\n",
       "        text-align: right;\n",
       "    }\n",
       "</style>\n",
       "<table border=\"1\" class=\"dataframe\">\n",
       "  <thead>\n",
       "    <tr style=\"text-align: right;\">\n",
       "      <th></th>\n",
       "      <th>id</th>\n",
       "      <th>toxic</th>\n",
       "      <th>severe_toxic</th>\n",
       "      <th>obscene</th>\n",
       "      <th>threat</th>\n",
       "      <th>insult</th>\n",
       "      <th>identity_hate</th>\n",
       "      <th>clean_text</th>\n",
       "      <th>text_tokenized</th>\n",
       "      <th>text_no_stop_words</th>\n",
       "      <th>stemmed</th>\n",
       "    </tr>\n",
       "  </thead>\n",
       "  <tbody>\n",
       "    <tr>\n",
       "      <th>0</th>\n",
       "      <td>0000997932d777bf</td>\n",
       "      <td>0</td>\n",
       "      <td>0</td>\n",
       "      <td>0</td>\n",
       "      <td>0</td>\n",
       "      <td>0</td>\n",
       "      <td>0</td>\n",
       "      <td>explanation why the edits made under my userna...</td>\n",
       "      <td>[explanation, why, the, edits, made, under, my...</td>\n",
       "      <td>explanation edits made username hardcore metal...</td>\n",
       "      <td>explan whi the edit made under my usernam hard...</td>\n",
       "    </tr>\n",
       "    <tr>\n",
       "      <th>1</th>\n",
       "      <td>000103f0d9cfb60f</td>\n",
       "      <td>0</td>\n",
       "      <td>0</td>\n",
       "      <td>0</td>\n",
       "      <td>0</td>\n",
       "      <td>0</td>\n",
       "      <td>0</td>\n",
       "      <td>d'aww! he matches this background colour i am ...</td>\n",
       "      <td>[d'aww, !, he, matches, this, background, colo...</td>\n",
       "      <td>d'aww ! matches background colour seemingly st...</td>\n",
       "      <td>d'aww ! he match this background colour i am s...</td>\n",
       "    </tr>\n",
       "    <tr>\n",
       "      <th>2</th>\n",
       "      <td>000113f07ec002fd</td>\n",
       "      <td>0</td>\n",
       "      <td>0</td>\n",
       "      <td>0</td>\n",
       "      <td>0</td>\n",
       "      <td>0</td>\n",
       "      <td>0</td>\n",
       "      <td>hey man, i am really not trying to edit war. i...</td>\n",
       "      <td>[hey, man, ,, i, am, really, not, trying, to, ...</td>\n",
       "      <td>hey man , really trying edit war . guy constan...</td>\n",
       "      <td>hey man , i am realli not tri to edit war . it...</td>\n",
       "    </tr>\n",
       "    <tr>\n",
       "      <th>3</th>\n",
       "      <td>0001b41b1c6bb37e</td>\n",
       "      <td>0</td>\n",
       "      <td>0</td>\n",
       "      <td>0</td>\n",
       "      <td>0</td>\n",
       "      <td>0</td>\n",
       "      <td>0</td>\n",
       "      <td>\" more i cannot make any real suggestions on i...</td>\n",
       "      <td>[\", more, i, cannot, make, any, real, suggesti...</td>\n",
       "      <td>\" cannot make real suggestions improvement - w...</td>\n",
       "      <td>\" more i cannot make ani real suggest on impro...</td>\n",
       "    </tr>\n",
       "    <tr>\n",
       "      <th>4</th>\n",
       "      <td>0001d958c54c6e35</td>\n",
       "      <td>0</td>\n",
       "      <td>0</td>\n",
       "      <td>0</td>\n",
       "      <td>0</td>\n",
       "      <td>0</td>\n",
       "      <td>0</td>\n",
       "      <td>you, sir, are my hero. any chance you remember...</td>\n",
       "      <td>[you, ,, sir, ,, are, my, hero, ., any, chance...</td>\n",
       "      <td>, sir , hero . chance remember page ?</td>\n",
       "      <td>you , sir , are my hero . ani chanc you rememb...</td>\n",
       "    </tr>\n",
       "  </tbody>\n",
       "</table>\n",
       "</div>"
      ],
      "text/plain": [
       "                 id  toxic  severe_toxic  obscene  threat  insult  \\\n",
       "0  0000997932d777bf      0             0        0       0       0   \n",
       "1  000103f0d9cfb60f      0             0        0       0       0   \n",
       "2  000113f07ec002fd      0             0        0       0       0   \n",
       "3  0001b41b1c6bb37e      0             0        0       0       0   \n",
       "4  0001d958c54c6e35      0             0        0       0       0   \n",
       "\n",
       "   identity_hate                                         clean_text  \\\n",
       "0              0  explanation why the edits made under my userna...   \n",
       "1              0  d'aww! he matches this background colour i am ...   \n",
       "2              0  hey man, i am really not trying to edit war. i...   \n",
       "3              0  \" more i cannot make any real suggestions on i...   \n",
       "4              0  you, sir, are my hero. any chance you remember...   \n",
       "\n",
       "                                      text_tokenized  \\\n",
       "0  [explanation, why, the, edits, made, under, my...   \n",
       "1  [d'aww, !, he, matches, this, background, colo...   \n",
       "2  [hey, man, ,, i, am, really, not, trying, to, ...   \n",
       "3  [\", more, i, cannot, make, any, real, suggesti...   \n",
       "4  [you, ,, sir, ,, are, my, hero, ., any, chance...   \n",
       "\n",
       "                                  text_no_stop_words  \\\n",
       "0  explanation edits made username hardcore metal...   \n",
       "1  d'aww ! matches background colour seemingly st...   \n",
       "2  hey man , really trying edit war . guy constan...   \n",
       "3  \" cannot make real suggestions improvement - w...   \n",
       "4              , sir , hero . chance remember page ?   \n",
       "\n",
       "                                             stemmed  \n",
       "0  explan whi the edit made under my usernam hard...  \n",
       "1  d'aww ! he match this background colour i am s...  \n",
       "2  hey man , i am realli not tri to edit war . it...  \n",
       "3  \" more i cannot make ani real suggest on impro...  \n",
       "4  you , sir , are my hero . ani chanc you rememb...  "
      ]
     },
     "execution_count": 42,
     "metadata": {},
     "output_type": "execute_result"
    }
   ],
   "source": [
    "stemmer = SnowballStemmer(language = 'english')\n",
    "def stem_list_of_words(words):\n",
    "    stemmed_words = []\n",
    "    for word in words:\n",
    "        stemmed_words.append(stemmer.stem(word))\n",
    "    stemmed_sent = ' '.join(stemmed_words)  \n",
    "    return stemmed_sent\n",
    "        \n",
    "\n",
    "cleaned_df['stemmed'] = cleaned_df['text_tokenized'].apply(stem_list_of_words)\n",
    "#del cleaned_df['for_stemming_use']\n",
    "cleaned_df.head()"
   ]
  },
  {
   "cell_type": "markdown",
   "metadata": {
    "id": "ekkah21N6lOz"
   },
   "source": [
    "## Part of Speech Tagging (POS Tagging)"
   ]
  },
  {
   "cell_type": "code",
   "execution_count": 43,
   "metadata": {
    "ExecuteTime": {
     "end_time": "2023-03-15T02:30:33.828701Z",
     "start_time": "2023-03-15T02:30:33.819975Z"
    },
    "id": "5xYltEgL6lO0"
   },
   "outputs": [],
   "source": [
    "def to_word_tokens(sent_tokens):\n",
    "    word_tokens = [] \n",
    "    for sent_token in sent_tokens:\n",
    "        word_tokens.append(tt.tokenize(sent_token))\n",
    "    return word_tokens"
   ]
  },
  {
   "cell_type": "code",
   "execution_count": 45,
   "metadata": {
    "ExecuteTime": {
     "end_time": "2023-03-15T02:39:58.588745Z",
     "start_time": "2023-03-15T02:30:37.465488Z"
    }
   },
   "outputs": [
    {
     "data": {
      "text/html": [
       "<div>\n",
       "<style scoped>\n",
       "    .dataframe tbody tr th:only-of-type {\n",
       "        vertical-align: middle;\n",
       "    }\n",
       "\n",
       "    .dataframe tbody tr th {\n",
       "        vertical-align: top;\n",
       "    }\n",
       "\n",
       "    .dataframe thead th {\n",
       "        text-align: right;\n",
       "    }\n",
       "</style>\n",
       "<table border=\"1\" class=\"dataframe\">\n",
       "  <thead>\n",
       "    <tr style=\"text-align: right;\">\n",
       "      <th></th>\n",
       "      <th>id</th>\n",
       "      <th>toxic</th>\n",
       "      <th>severe_toxic</th>\n",
       "      <th>obscene</th>\n",
       "      <th>threat</th>\n",
       "      <th>insult</th>\n",
       "      <th>identity_hate</th>\n",
       "      <th>clean_text</th>\n",
       "      <th>text_tokenized</th>\n",
       "      <th>text_no_stop_words</th>\n",
       "      <th>stemmed</th>\n",
       "      <th>for_tagging_use_sent_token</th>\n",
       "      <th>for_tagging_use_word_token</th>\n",
       "      <th>POS_tagging</th>\n",
       "    </tr>\n",
       "  </thead>\n",
       "  <tbody>\n",
       "    <tr>\n",
       "      <th>0</th>\n",
       "      <td>0000997932d777bf</td>\n",
       "      <td>0</td>\n",
       "      <td>0</td>\n",
       "      <td>0</td>\n",
       "      <td>0</td>\n",
       "      <td>0</td>\n",
       "      <td>0</td>\n",
       "      <td>explanation why the edits made under my userna...</td>\n",
       "      <td>[explanation, why, the, edits, made, under, my...</td>\n",
       "      <td>explanation edits made username hardcore metal...</td>\n",
       "      <td>explan whi the edit made under my usernam hard...</td>\n",
       "      <td>[explanation why the edits made under my usern...</td>\n",
       "      <td>[[explanation, why, the, edits, made, under, m...</td>\n",
       "      <td>[[(explanation, NN), (why, WRB), (the, DT), (e...</td>\n",
       "    </tr>\n",
       "    <tr>\n",
       "      <th>1</th>\n",
       "      <td>000103f0d9cfb60f</td>\n",
       "      <td>0</td>\n",
       "      <td>0</td>\n",
       "      <td>0</td>\n",
       "      <td>0</td>\n",
       "      <td>0</td>\n",
       "      <td>0</td>\n",
       "      <td>d'aww! he matches this background colour i am ...</td>\n",
       "      <td>[d'aww, !, he, matches, this, background, colo...</td>\n",
       "      <td>d'aww ! matches background colour seemingly st...</td>\n",
       "      <td>d'aww ! he match this background colour i am s...</td>\n",
       "      <td>[d'aww!, he matches this background colour i a...</td>\n",
       "      <td>[[d'aww, !], [he, matches, this, background, c...</td>\n",
       "      <td>[[(d'aww, NN), (!, .)], [(he, PRP), (matches, ...</td>\n",
       "    </tr>\n",
       "    <tr>\n",
       "      <th>2</th>\n",
       "      <td>000113f07ec002fd</td>\n",
       "      <td>0</td>\n",
       "      <td>0</td>\n",
       "      <td>0</td>\n",
       "      <td>0</td>\n",
       "      <td>0</td>\n",
       "      <td>0</td>\n",
       "      <td>hey man, i am really not trying to edit war. i...</td>\n",
       "      <td>[hey, man, ,, i, am, really, not, trying, to, ...</td>\n",
       "      <td>hey man , really trying edit war . guy constan...</td>\n",
       "      <td>hey man , i am realli not tri to edit war . it...</td>\n",
       "      <td>[hey man, i am really not trying to edit war.,...</td>\n",
       "      <td>[[hey, man, ,, i, am, really, not, trying, to,...</td>\n",
       "      <td>[[(hey, NN), (man, NN), (,, ,), (i, JJ), (am, ...</td>\n",
       "    </tr>\n",
       "    <tr>\n",
       "      <th>3</th>\n",
       "      <td>0001b41b1c6bb37e</td>\n",
       "      <td>0</td>\n",
       "      <td>0</td>\n",
       "      <td>0</td>\n",
       "      <td>0</td>\n",
       "      <td>0</td>\n",
       "      <td>0</td>\n",
       "      <td>\" more i cannot make any real suggestions on i...</td>\n",
       "      <td>[\", more, i, cannot, make, any, real, suggesti...</td>\n",
       "      <td>\" cannot make real suggestions improvement - w...</td>\n",
       "      <td>\" more i cannot make ani real suggest on impro...</td>\n",
       "      <td>[\" more i cannot make any real suggestions on ...</td>\n",
       "      <td>[[\", more, i, cannot, make, any, real, suggest...</td>\n",
       "      <td>[[(\", IN), (more, JJR), (i, JJ), (cannot, NNS)...</td>\n",
       "    </tr>\n",
       "    <tr>\n",
       "      <th>4</th>\n",
       "      <td>0001d958c54c6e35</td>\n",
       "      <td>0</td>\n",
       "      <td>0</td>\n",
       "      <td>0</td>\n",
       "      <td>0</td>\n",
       "      <td>0</td>\n",
       "      <td>0</td>\n",
       "      <td>you, sir, are my hero. any chance you remember...</td>\n",
       "      <td>[you, ,, sir, ,, are, my, hero, ., any, chance...</td>\n",
       "      <td>, sir , hero . chance remember page ?</td>\n",
       "      <td>you , sir , are my hero . ani chanc you rememb...</td>\n",
       "      <td>[you, sir, are my hero., any chance you rememb...</td>\n",
       "      <td>[[you, ,, sir, ,, are, my, hero, .], [any, cha...</td>\n",
       "      <td>[[(you, PRP), (,, ,), (sir, VB), (,, ,), (are,...</td>\n",
       "    </tr>\n",
       "  </tbody>\n",
       "</table>\n",
       "</div>"
      ],
      "text/plain": [
       "                 id  toxic  severe_toxic  obscene  threat  insult  \\\n",
       "0  0000997932d777bf      0             0        0       0       0   \n",
       "1  000103f0d9cfb60f      0             0        0       0       0   \n",
       "2  000113f07ec002fd      0             0        0       0       0   \n",
       "3  0001b41b1c6bb37e      0             0        0       0       0   \n",
       "4  0001d958c54c6e35      0             0        0       0       0   \n",
       "\n",
       "   identity_hate                                         clean_text  \\\n",
       "0              0  explanation why the edits made under my userna...   \n",
       "1              0  d'aww! he matches this background colour i am ...   \n",
       "2              0  hey man, i am really not trying to edit war. i...   \n",
       "3              0  \" more i cannot make any real suggestions on i...   \n",
       "4              0  you, sir, are my hero. any chance you remember...   \n",
       "\n",
       "                                      text_tokenized  \\\n",
       "0  [explanation, why, the, edits, made, under, my...   \n",
       "1  [d'aww, !, he, matches, this, background, colo...   \n",
       "2  [hey, man, ,, i, am, really, not, trying, to, ...   \n",
       "3  [\", more, i, cannot, make, any, real, suggesti...   \n",
       "4  [you, ,, sir, ,, are, my, hero, ., any, chance...   \n",
       "\n",
       "                                  text_no_stop_words  \\\n",
       "0  explanation edits made username hardcore metal...   \n",
       "1  d'aww ! matches background colour seemingly st...   \n",
       "2  hey man , really trying edit war . guy constan...   \n",
       "3  \" cannot make real suggestions improvement - w...   \n",
       "4              , sir , hero . chance remember page ?   \n",
       "\n",
       "                                             stemmed  \\\n",
       "0  explan whi the edit made under my usernam hard...   \n",
       "1  d'aww ! he match this background colour i am s...   \n",
       "2  hey man , i am realli not tri to edit war . it...   \n",
       "3  \" more i cannot make ani real suggest on impro...   \n",
       "4  you , sir , are my hero . ani chanc you rememb...   \n",
       "\n",
       "                          for_tagging_use_sent_token  \\\n",
       "0  [explanation why the edits made under my usern...   \n",
       "1  [d'aww!, he matches this background colour i a...   \n",
       "2  [hey man, i am really not trying to edit war.,...   \n",
       "3  [\" more i cannot make any real suggestions on ...   \n",
       "4  [you, sir, are my hero., any chance you rememb...   \n",
       "\n",
       "                          for_tagging_use_word_token  \\\n",
       "0  [[explanation, why, the, edits, made, under, m...   \n",
       "1  [[d'aww, !], [he, matches, this, background, c...   \n",
       "2  [[hey, man, ,, i, am, really, not, trying, to,...   \n",
       "3  [[\", more, i, cannot, make, any, real, suggest...   \n",
       "4  [[you, ,, sir, ,, are, my, hero, .], [any, cha...   \n",
       "\n",
       "                                         POS_tagging  \n",
       "0  [[(explanation, NN), (why, WRB), (the, DT), (e...  \n",
       "1  [[(d'aww, NN), (!, .)], [(he, PRP), (matches, ...  \n",
       "2  [[(hey, NN), (man, NN), (,, ,), (i, JJ), (am, ...  \n",
       "3  [[(\", IN), (more, JJR), (i, JJ), (cannot, NNS)...  \n",
       "4  [[(you, PRP), (,, ,), (sir, VB), (,, ,), (are,...  "
      ]
     },
     "execution_count": 45,
     "metadata": {},
     "output_type": "execute_result"
    }
   ],
   "source": [
    "cleaned_df['for_tagging_use_sent_token'] = cleaned_df['clean_text'].apply(sent_tokenize)\n",
    "cleaned_df['for_tagging_use_word_token'] = cleaned_df['for_tagging_use_sent_token'].apply(to_word_tokens)\n",
    "cleaned_df['POS_tagging'] = cleaned_df['for_tagging_use_word_token'].apply(pos_tag_sents)\n",
    "cleaned_df.head()"
   ]
  },
  {
   "cell_type": "code",
   "execution_count": null,
   "metadata": {
    "ExecuteTime": {
     "end_time": "2023-03-15T02:40:29.637451Z",
     "start_time": "2023-03-15T02:40:24.863216Z"
    }
   },
   "outputs": [],
   "source": [
    "cleaned_df = cleaned_df.drop(columns=['for_tagging_use_sent_token','for_tagging_use_word_token'])\n",
    "cleaned_df.head()"
   ]
  },
  {
   "cell_type": "markdown",
   "metadata": {
    "id": "NO6wgTNa6lO0"
   },
   "source": [
    "## Lemmatization"
   ]
  },
  {
   "cell_type": "code",
   "execution_count": null,
   "metadata": {
    "ExecuteTime": {
     "end_time": "2023-03-15T02:45:20.578303Z",
     "start_time": "2023-03-15T02:45:15.636379Z"
    }
   },
   "outputs": [],
   "source": [
    "cleaned_df['POS_tagging_flat'] = cleaned_df['POS_tagging'].apply(lambda x: [element for innerList in x for element in innerList])"
   ]
  },
  {
   "cell_type": "code",
   "execution_count": null,
   "metadata": {
    "ExecuteTime": {
     "end_time": "2023-03-15T03:17:23.191088Z",
     "start_time": "2023-03-15T03:16:46.816337Z"
    },
    "id": "dXoxUGix6lO0"
   },
   "outputs": [],
   "source": [
    "lemmatizer = WordNetLemmatizer()\n",
    "cleaned_df['lemmatization'] = cleaned_df['POS_tagging_flat'].apply(lambda x: [lemmatizer.lemmatize(word) for word, tag in x \n",
    "                                                                              if ((tag.startswith('JJ') or tag.startswith('NN') or tag.startswith('RB') or tag.startswith('VB')) and (word not in string.punctuation))])"
   ]
  },
  {
   "cell_type": "markdown",
   "metadata": {},
   "source": [
    "Stemming might not be useful for creating features. Lemmatization based on tagging result has achieved same result as text without stop words. Text_tokenized column, POS tagging result, and lemmatization for future analysis."
   ]
  },
  {
   "cell_type": "code",
   "execution_count": null,
   "metadata": {
    "ExecuteTime": {
     "end_time": "2023-03-15T03:04:17.204271Z",
     "start_time": "2023-03-15T03:04:17.105571Z"
    }
   },
   "outputs": [],
   "source": [
    "del cleaned_df['clean_text']\n",
    "del cleaned_df['text_no_stop_words']\n",
    "del cleaned_df['stemmed']\n",
    "del cleaned_df['POS_tagging']\n",
    "cleaned_df.head()"
   ]
  },
  {
   "cell_type": "code",
   "execution_count": null,
   "metadata": {
    "ExecuteTime": {
     "end_time": "2023-03-15T03:20:09.263987Z",
     "start_time": "2023-03-15T03:19:43.025834Z"
    }
   },
   "outputs": [],
   "source": [
    "cleaned_df.to_csv('Data/processed_train.csv', index=False)"
   ]
  },
  {
   "cell_type": "markdown",
   "metadata": {},
   "source": [
    "<a id=\"EDA\"></a>\n",
    "# 3. EDA"
   ]
  },
  {
   "cell_type": "code",
   "execution_count": 5,
   "metadata": {
    "ExecuteTime": {
     "end_time": "2023-03-21T07:49:03.282262Z",
     "start_time": "2023-03-21T07:46:15.494890Z"
    }
   },
   "outputs": [
    {
     "data": {
      "text/html": [
       "<div>\n",
       "<style scoped>\n",
       "    .dataframe tbody tr th:only-of-type {\n",
       "        vertical-align: middle;\n",
       "    }\n",
       "\n",
       "    .dataframe tbody tr th {\n",
       "        vertical-align: top;\n",
       "    }\n",
       "\n",
       "    .dataframe thead th {\n",
       "        text-align: right;\n",
       "    }\n",
       "</style>\n",
       "<table border=\"1\" class=\"dataframe\">\n",
       "  <thead>\n",
       "    <tr style=\"text-align: right;\">\n",
       "      <th></th>\n",
       "      <th>id</th>\n",
       "      <th>toxic</th>\n",
       "      <th>severe_toxic</th>\n",
       "      <th>obscene</th>\n",
       "      <th>threat</th>\n",
       "      <th>insult</th>\n",
       "      <th>identity_hate</th>\n",
       "      <th>text_tokenized</th>\n",
       "      <th>POS_tagging_flat</th>\n",
       "      <th>lemmatization</th>\n",
       "    </tr>\n",
       "  </thead>\n",
       "  <tbody>\n",
       "    <tr>\n",
       "      <th>0</th>\n",
       "      <td>0000997932d777bf</td>\n",
       "      <td>0</td>\n",
       "      <td>0</td>\n",
       "      <td>0</td>\n",
       "      <td>0</td>\n",
       "      <td>0</td>\n",
       "      <td>0</td>\n",
       "      <td>[explanation, why, the, edits, made, under, my...</td>\n",
       "      <td>[(explanation, NN), (why, WRB), (the, DT), (ed...</td>\n",
       "      <td>[explanation, edits, made, username, hardcore,...</td>\n",
       "    </tr>\n",
       "    <tr>\n",
       "      <th>1</th>\n",
       "      <td>000103f0d9cfb60f</td>\n",
       "      <td>0</td>\n",
       "      <td>0</td>\n",
       "      <td>0</td>\n",
       "      <td>0</td>\n",
       "      <td>0</td>\n",
       "      <td>0</td>\n",
       "      <td>[d'aww, !, he, matches, this, background, colo...</td>\n",
       "      <td>[(d'aww, NN), (!, .), (he, PRP), (matches, VBZ...</td>\n",
       "      <td>[d'aww, match, colour, i, am, seemingly, stuck...</td>\n",
       "    </tr>\n",
       "    <tr>\n",
       "      <th>2</th>\n",
       "      <td>000113f07ec002fd</td>\n",
       "      <td>0</td>\n",
       "      <td>0</td>\n",
       "      <td>0</td>\n",
       "      <td>0</td>\n",
       "      <td>0</td>\n",
       "      <td>0</td>\n",
       "      <td>[hey, man, ,, i, am, really, not, trying, to, ...</td>\n",
       "      <td>[(hey, NN), (man, NN), (,, ,), (i, JJ), (am, V...</td>\n",
       "      <td>[hey, man, i, am, really, not, trying, edit, w...</td>\n",
       "    </tr>\n",
       "    <tr>\n",
       "      <th>3</th>\n",
       "      <td>0001b41b1c6bb37e</td>\n",
       "      <td>0</td>\n",
       "      <td>0</td>\n",
       "      <td>0</td>\n",
       "      <td>0</td>\n",
       "      <td>0</td>\n",
       "      <td>0</td>\n",
       "      <td>[\", more, i, cannot, make, any, real, suggesti...</td>\n",
       "      <td>[(\", IN), (more, JJR), (i, JJ), (cannot, NNS),...</td>\n",
       "      <td>[more, i, cannot, make, real, suggestion, impr...</td>\n",
       "    </tr>\n",
       "    <tr>\n",
       "      <th>4</th>\n",
       "      <td>0001d958c54c6e35</td>\n",
       "      <td>0</td>\n",
       "      <td>0</td>\n",
       "      <td>0</td>\n",
       "      <td>0</td>\n",
       "      <td>0</td>\n",
       "      <td>0</td>\n",
       "      <td>[you, ,, sir, ,, are, my, hero, ., any, chance...</td>\n",
       "      <td>[(you, PRP), (,, ,), (sir, VB), (,, ,), (are, ...</td>\n",
       "      <td>[sir, are, hero, chance, remember, page, is]</td>\n",
       "    </tr>\n",
       "  </tbody>\n",
       "</table>\n",
       "</div>"
      ],
      "text/plain": [
       "                 id  toxic  severe_toxic  obscene  threat  insult  \\\n",
       "0  0000997932d777bf      0             0        0       0       0   \n",
       "1  000103f0d9cfb60f      0             0        0       0       0   \n",
       "2  000113f07ec002fd      0             0        0       0       0   \n",
       "3  0001b41b1c6bb37e      0             0        0       0       0   \n",
       "4  0001d958c54c6e35      0             0        0       0       0   \n",
       "\n",
       "   identity_hate                                     text_tokenized  \\\n",
       "0              0  [explanation, why, the, edits, made, under, my...   \n",
       "1              0  [d'aww, !, he, matches, this, background, colo...   \n",
       "2              0  [hey, man, ,, i, am, really, not, trying, to, ...   \n",
       "3              0  [\", more, i, cannot, make, any, real, suggesti...   \n",
       "4              0  [you, ,, sir, ,, are, my, hero, ., any, chance...   \n",
       "\n",
       "                                    POS_tagging_flat  \\\n",
       "0  [(explanation, NN), (why, WRB), (the, DT), (ed...   \n",
       "1  [(d'aww, NN), (!, .), (he, PRP), (matches, VBZ...   \n",
       "2  [(hey, NN), (man, NN), (,, ,), (i, JJ), (am, V...   \n",
       "3  [(\", IN), (more, JJR), (i, JJ), (cannot, NNS),...   \n",
       "4  [(you, PRP), (,, ,), (sir, VB), (,, ,), (are, ...   \n",
       "\n",
       "                                       lemmatization  \n",
       "0  [explanation, edits, made, username, hardcore,...  \n",
       "1  [d'aww, match, colour, i, am, seemingly, stuck...  \n",
       "2  [hey, man, i, am, really, not, trying, edit, w...  \n",
       "3  [more, i, cannot, make, real, suggestion, impr...  \n",
       "4       [sir, are, hero, chance, remember, page, is]  "
      ]
     },
     "execution_count": 5,
     "metadata": {},
     "output_type": "execute_result"
    }
   ],
   "source": [
    "# prevent lists from being converted to strings\n",
    "processed_df = pd.read_csv('Data/processed_train.csv', \n",
    "                           converters={'text_tokenized': literal_eval, 'POS_tagging_flat': literal_eval, 'lemmatization': literal_eval})\n",
    "processed_df.head()"
   ]
  },
  {
   "cell_type": "code",
   "execution_count": null,
   "metadata": {},
   "outputs": [],
   "source": [
    "colors_ = [\"deep blue\",\"blue\", \"teal\", \"lightblue\",\"darkblue\",\"purple\"]\n",
    "\n",
    "palette= sns.xkcd_palette(colors_)\n",
    "\n",
    "x = processed_df.iloc[:,1:7].sum()\n",
    "\n",
    "plt.figure(figsize=(15,8))\n",
    "\n",
    "ax= sns.barplot(x=x.index,y=x.values,palette=palette)\n",
    "plt.title(\"Comment Category Distribution in Training set\")\n",
    "plt.xlabel('Label ')\n",
    "plt.ylabel('No. of tweets', fontsize=11)\n",
    "\n",
    "patch = ax.patches\n",
    "labels = x.values\n",
    "for rect, label in zip(patch, labels):\n",
    "    height = rect.get_height()\n",
    "    ax.text(rect.get_x() + rect.get_width()/2, height + 10, label, va='bottom',ha='center')\n",
    "\n",
    "plt.show()"
   ]
  },
  {
   "cell_type": "code",
   "execution_count": null,
   "metadata": {},
   "outputs": [],
   "source": [
    "# Obtain counts of each class\n",
    "counts = {\n",
    "    '0': [],\n",
    "    '1': [],\n",
    "}\n",
    "\n",
    "categories = list(processed_df.columns.values)\n",
    "categories = categories[1:7]\n",
    "\n",
    "for c in categories:\n",
    "    count_occurence_1 = len(processed_df.loc[processed_df[c] == 1])\n",
    "    count_occurence_0 = len(processed_df.loc[processed_df[c] == 0])\n",
    "    counts['0'].append(count_occurence_0)\n",
    "    counts['1'].append(count_occurence_1)\n",
    "\n",
    "# Plot distribution of comment category\n",
    "x = np.arange(len(categories))  # the label locations\n",
    "width = 0.25  # the width of the bars\n",
    "multiplier = 0\n",
    "\n",
    "fig, ax = plt.subplots(figsize=(15,8))\n",
    "\n",
    "for attribute, measurement in counts.items():\n",
    "    offset = width * multiplier\n",
    "    rects = ax.bar(x + offset, measurement, width, label=attribute)\n",
    "    multiplier += 1\n",
    "\n",
    "# Add some text for labels, title and custom x-axis tick labels, etc.\n",
    "ax.set_ylabel('Number of Tweets')\n",
    "ax.set_xlabel('Comment Category')\n",
    "ax.set_title('Distribution of Comment Category')\n",
    "ax.set_xticks(x + width)\n",
    "ax.set_xticklabels(categories)\n",
    "ax.legend(loc='center left', bbox_to_anchor=(1, 0.5))\n",
    "\n",
    "plt.show()"
   ]
  },
  {
   "cell_type": "code",
   "execution_count": null,
   "metadata": {},
   "outputs": [],
   "source": [
    "toxic_comments_count= len(processed_df[processed_df[categories].sum(axis=1) > 0])\n",
    "nontoxic_comments_count = len(processed_df[processed_df[categories].sum(axis=1) == 0])\n",
    "\n",
    "print(\"Total number of comments = \",len(processed_df))\n",
    "print(\"Number of non-toxic comments = \",nontoxic_comments_count)\n",
    "print(\"Number of comments with toxic labels =\",(len(processed_df)-nontoxic_comments_count))\n",
    "\n",
    "print(f\"{round(nontoxic_comments_count/len(processed_df) * 100,3)} % percentage of rows contains only zeros in training data\")\n",
    "\n",
    "count = pd.DataFrame(dict(\n",
    "    types = ['toxic', 'non-toxic'],\n",
    "    counts = [toxic_comments_count, nontoxic_comments_count]\n",
    "))\n",
    "\n",
    "sns.barplot(data=count, x='types',y='counts').set(title='Toxic vs Non-Toxic Tweets Distribution')"
   ]
  },
  {
   "cell_type": "markdown",
   "metadata": {},
   "source": [
    "From the plot above, we also observe that the dataset is highly imbalanced. This fact is also supported by the the big number of difference in toxic and non-toxic comment (about 90% of training data is non-toxic). Therefore, in the later part of the project, we will perform oversampling on the training set. "
   ]
  },
  {
   "cell_type": "code",
   "execution_count": null,
   "metadata": {},
   "outputs": [],
   "source": [
    "# Oversampling\n",
    "ros = RandomOverSampler(random_state=0)\n",
    "\n",
    "toxic_comments = processed_df[processed_df[categories].sum(axis=1) > 0]\n",
    "nontoxic_comments = processed_df[processed_df[categories].sum(axis=1) == 0]\n",
    "\n",
    "toxic_comments['class'] = 1 #1 for toxic\n",
    "nontoxic_comments['class'] = 0\n",
    "\n",
    "processed_df_new = pd.concat([toxic_comments, nontoxic_comments], ignore_index=True, axis=0)\n",
    "\n",
    "X_train = processed_df_new.drop('class', axis = 1)\n",
    "y_train = processed_df_new['class']\n",
    "X_train_ros, y_train_ros= ros.fit_resample(X_train, y_train)\n",
    "                              \n",
    "# Check the number of records after over sampling\n",
    "print(X_train_ros.shape)\n",
    "print(sorted(Counter(y_train_ros).items()))\n",
    "                              \n",
    "#Concatenate X_train and y_train\n",
    "train_oversampled = pd.concat([X_train_ros,  y_train_ros], axis=1)"
   ]
  },
  {
   "cell_type": "code",
   "execution_count": null,
   "metadata": {},
   "outputs": [],
   "source": [
    "train_toxic_comments = train_oversampled[train_oversampled['class']== 1]\n",
    "train_clean_comments = train_oversampled[train_oversampled['class']== 0]\n",
    "\n",
    "count = pd.DataFrame(dict(\n",
    "    types = ['toxic', 'non-toxic'],\n",
    "    counts = [len(train_toxic_comments), len(train_clean_comments)]\n",
    "))\n",
    "\n",
    "sns.barplot(data=count, x='types',y='counts').set(title='Toxic vs Non-Toxic Tweets Distribution')"
   ]
  },
  {
   "cell_type": "code",
   "execution_count": null,
   "metadata": {},
   "outputs": [],
   "source": [
    "train_oversampled.to_csv('Data/train_oversampled.csv', index=False)"
   ]
  },
  {
   "cell_type": "markdown",
   "metadata": {},
   "source": [
    "## Word Length Distribution"
   ]
  },
  {
   "cell_type": "code",
   "execution_count": null,
   "metadata": {},
   "outputs": [],
   "source": [
    "train_oversampled['words length'] = train_oversampled['text_tokenized'].apply(len)"
   ]
  },
  {
   "cell_type": "code",
   "execution_count": null,
   "metadata": {},
   "outputs": [],
   "source": [
    "px.histogram(train_oversampled, x='words length', title='Word Length Distribution')"
   ]
  },
  {
   "cell_type": "markdown",
   "metadata": {},
   "source": [
    "## Characters Length Distribution"
   ]
  },
  {
   "cell_type": "code",
   "execution_count": null,
   "metadata": {},
   "outputs": [],
   "source": [
    "train_oversampled['characters length'] = train_oversampled['text_tokenized'].apply(lambda x: ''.join(word for word in x)).apply(lambda x: len(x))"
   ]
  },
  {
   "cell_type": "code",
   "execution_count": null,
   "metadata": {},
   "outputs": [],
   "source": [
    "px.histogram(train_oversampled, x='words length', title='Characters Length Distribution')"
   ]
  },
  {
   "cell_type": "markdown",
   "metadata": {},
   "source": [
    "## Top frequent tags (using POS result) "
   ]
  },
  {
   "cell_type": "code",
   "execution_count": 51,
   "metadata": {},
   "outputs": [
    {
     "data": {
      "text/html": [
       "<div>\n",
       "<style scoped>\n",
       "    .dataframe tbody tr th:only-of-type {\n",
       "        vertical-align: middle;\n",
       "    }\n",
       "\n",
       "    .dataframe tbody tr th {\n",
       "        vertical-align: top;\n",
       "    }\n",
       "\n",
       "    .dataframe thead th {\n",
       "        text-align: right;\n",
       "    }\n",
       "</style>\n",
       "<table border=\"1\" class=\"dataframe\">\n",
       "  <thead>\n",
       "    <tr style=\"text-align: right;\">\n",
       "      <th></th>\n",
       "      <th>id</th>\n",
       "      <th>toxic</th>\n",
       "      <th>severe_toxic</th>\n",
       "      <th>obscene</th>\n",
       "      <th>threat</th>\n",
       "      <th>insult</th>\n",
       "      <th>identity_hate</th>\n",
       "      <th>text_tokenized</th>\n",
       "      <th>POS_tagging_flat</th>\n",
       "      <th>lemmatization</th>\n",
       "      <th>class</th>\n",
       "    </tr>\n",
       "  </thead>\n",
       "  <tbody>\n",
       "    <tr>\n",
       "      <th>0</th>\n",
       "      <td>0002bcb3da6cb337</td>\n",
       "      <td>1</td>\n",
       "      <td>1</td>\n",
       "      <td>1</td>\n",
       "      <td>0</td>\n",
       "      <td>1</td>\n",
       "      <td>0</td>\n",
       "      <td>[cocksucker, before, you, piss, around, on, my...</td>\n",
       "      <td>[(cocksucker, NN), (before, IN), (you, PRP), (...</td>\n",
       "      <td>[cocksucker, piss, around, work]</td>\n",
       "      <td>1</td>\n",
       "    </tr>\n",
       "    <tr>\n",
       "      <th>1</th>\n",
       "      <td>0005c987bdfc9d4b</td>\n",
       "      <td>1</td>\n",
       "      <td>0</td>\n",
       "      <td>0</td>\n",
       "      <td>0</td>\n",
       "      <td>0</td>\n",
       "      <td>0</td>\n",
       "      <td>[hey, ., what, is, it, ., @, |, talk, ., what,...</td>\n",
       "      <td>[(hey, NN), (., .), (what, WP), (is, VBZ), (it...</td>\n",
       "      <td>[hey, is, talk, is, exclusive, group, wp, tali...</td>\n",
       "      <td>1</td>\n",
       "    </tr>\n",
       "    <tr>\n",
       "      <th>2</th>\n",
       "      <td>0007e25b2121310b</td>\n",
       "      <td>1</td>\n",
       "      <td>0</td>\n",
       "      <td>0</td>\n",
       "      <td>0</td>\n",
       "      <td>0</td>\n",
       "      <td>0</td>\n",
       "      <td>[bye, !, do, not, look, ,, come, or, think, of...</td>\n",
       "      <td>[(bye, NN), (!, .), (do, VB), (not, RB), (look...</td>\n",
       "      <td>[bye, do, not, look, come, think, comming, bac...</td>\n",
       "      <td>1</td>\n",
       "    </tr>\n",
       "    <tr>\n",
       "      <th>3</th>\n",
       "      <td>001810bf8c45bf5f</td>\n",
       "      <td>1</td>\n",
       "      <td>0</td>\n",
       "      <td>1</td>\n",
       "      <td>0</td>\n",
       "      <td>1</td>\n",
       "      <td>1</td>\n",
       "      <td>[you, are, gay, or, antisemmitian, ?, archange...</td>\n",
       "      <td>[(you, PRP), (are, VBP), (gay, JJ), (or, CC), ...</td>\n",
       "      <td>[are, gay, antisemmitian, archangel, white, ti...</td>\n",
       "      <td>1</td>\n",
       "    </tr>\n",
       "    <tr>\n",
       "      <th>4</th>\n",
       "      <td>00190820581d90ce</td>\n",
       "      <td>1</td>\n",
       "      <td>0</td>\n",
       "      <td>1</td>\n",
       "      <td>0</td>\n",
       "      <td>1</td>\n",
       "      <td>0</td>\n",
       "      <td>[fuck, your, filthy, mother, in, the, ass, ,, ...</td>\n",
       "      <td>[(fuck, VB), (your, PRP$), (filthy, JJ), (moth...</td>\n",
       "      <td>[fuck, filthy, mother, as, dry]</td>\n",
       "      <td>1</td>\n",
       "    </tr>\n",
       "  </tbody>\n",
       "</table>\n",
       "</div>"
      ],
      "text/plain": [
       "                 id  toxic  severe_toxic  obscene  threat  insult  \\\n",
       "0  0002bcb3da6cb337      1             1        1       0       1   \n",
       "1  0005c987bdfc9d4b      1             0        0       0       0   \n",
       "2  0007e25b2121310b      1             0        0       0       0   \n",
       "3  001810bf8c45bf5f      1             0        1       0       1   \n",
       "4  00190820581d90ce      1             0        1       0       1   \n",
       "\n",
       "   identity_hate                                     text_tokenized  \\\n",
       "0              0  [cocksucker, before, you, piss, around, on, my...   \n",
       "1              0  [hey, ., what, is, it, ., @, |, talk, ., what,...   \n",
       "2              0  [bye, !, do, not, look, ,, come, or, think, of...   \n",
       "3              1  [you, are, gay, or, antisemmitian, ?, archange...   \n",
       "4              0  [fuck, your, filthy, mother, in, the, ass, ,, ...   \n",
       "\n",
       "                                    POS_tagging_flat  \\\n",
       "0  [(cocksucker, NN), (before, IN), (you, PRP), (...   \n",
       "1  [(hey, NN), (., .), (what, WP), (is, VBZ), (it...   \n",
       "2  [(bye, NN), (!, .), (do, VB), (not, RB), (look...   \n",
       "3  [(you, PRP), (are, VBP), (gay, JJ), (or, CC), ...   \n",
       "4  [(fuck, VB), (your, PRP$), (filthy, JJ), (moth...   \n",
       "\n",
       "                                       lemmatization  class  \n",
       "0                   [cocksucker, piss, around, work]      1  \n",
       "1  [hey, is, talk, is, exclusive, group, wp, tali...      1  \n",
       "2  [bye, do, not, look, come, think, comming, bac...      1  \n",
       "3  [are, gay, antisemmitian, archangel, white, ti...      1  \n",
       "4                    [fuck, filthy, mother, as, dry]      1  "
      ]
     },
     "execution_count": 51,
     "metadata": {},
     "output_type": "execute_result"
    }
   ],
   "source": [
    "processed_df= pd.read_csv(\"Data/train_oversampled.csv\",\n",
    "                           converters={'text_tokenized': literal_eval, 'POS_tagging_flat': literal_eval, 'lemmatization': literal_eval})\n",
    "processed_df.head()"
   ]
  },
  {
   "cell_type": "markdown",
   "metadata": {},
   "source": [
    "### Overall data"
   ]
  },
  {
   "cell_type": "code",
   "execution_count": null,
   "metadata": {},
   "outputs": [],
   "source": [
    "POS_list = []\n",
    "\n",
    "for x in processed_df['POS_tagging_flat']:\n",
    "    POS_list.append(x)"
   ]
  },
  {
   "cell_type": "code",
   "execution_count": null,
   "metadata": {},
   "outputs": [],
   "source": [
    "from collections import Counter\n",
    "from itertools import chain\n",
    "\n",
    "POS_count = Counter(chain(*POS_list))"
   ]
  },
  {
   "cell_type": "code",
   "execution_count": null,
   "metadata": {},
   "outputs": [],
   "source": [
    "POS_frequent_df = pd.DataFrame.from_dict(POS_count, orient='index').reset_index()\n",
    "POS_frequent_df.columns = ['POS_tags', 'Count']\n",
    "POS_frequent_df = POS_frequent_df.sort_values(by=['Count'], ascending=False)\n",
    "POS_frequent_df['Word'] = POS_frequent_df['POS_tags'].apply(lambda x: x[0])\n",
    "POS_frequent_df['Tag'] = POS_frequent_df['POS_tags'].apply(lambda x: x[1])\n",
    "POS_frequent_df"
   ]
  },
  {
   "cell_type": "code",
   "execution_count": null,
   "metadata": {},
   "outputs": [],
   "source": [
    "list_punctuations = []\n",
    "punctuations = string.punctuation \n",
    "for x in punctuations:\n",
    "    list_punctuations.append(x)\n",
    "    \n",
    "POS_frequent_df = POS_frequent_df.query(\"Word not in @stop_words & Word not in @list_punctuations\")\n",
    "POS_frequent_df"
   ]
  },
  {
   "cell_type": "code",
   "execution_count": null,
   "metadata": {},
   "outputs": [],
   "source": [
    "fig, ax = plt.subplots()\n",
    "fig.suptitle(\"Top frequent tags\", fontsize=12)\n",
    "sns.barplot(x='Count', y='Word', hue='Tag', \n",
    "            data=POS_frequent_df.iloc[:20,:], dodge=False, ax=ax)\n",
    "ax.grid(axis=\"x\")\n",
    "plt.show()"
   ]
  },
  {
   "cell_type": "markdown",
   "metadata": {},
   "source": [
    "### Toxic Comments Data"
   ]
  },
  {
   "cell_type": "code",
   "execution_count": null,
   "metadata": {},
   "outputs": [],
   "source": [
    "toxic_POS_list = []\n",
    "\n",
    "for x in processed_df['POS_tagging_flat'][((processed_df.toxic == 1) | (processed_df.severe_toxic == 1) | (processed_df.obscene == 1) | (processed_df.threat == 1) | (processed_df.identity_hate == 1))]:\n",
    "    toxic_POS_list.append(x)"
   ]
  },
  {
   "cell_type": "code",
   "execution_count": null,
   "metadata": {},
   "outputs": [],
   "source": [
    "toxic_POS_count = Counter(chain(*toxic_POS_list))"
   ]
  },
  {
   "cell_type": "code",
   "execution_count": null,
   "metadata": {},
   "outputs": [],
   "source": [
    "toxic_POS_frequent_df = pd.DataFrame.from_dict(toxic_POS_count, orient='index').reset_index()\n",
    "toxic_POS_frequent_df.columns = ['toxic_POS_tags', 'Count']\n",
    "toxic_POS_frequent_df = toxic_POS_frequent_df.sort_values(by=['Count'], ascending=False)\n",
    "toxic_POS_frequent_df['Word'] = toxic_POS_frequent_df['toxic_POS_tags'].apply(lambda x: x[0])\n",
    "toxic_POS_frequent_df['Tag'] = toxic_POS_frequent_df['toxic_POS_tags'].apply(lambda x: x[1])"
   ]
  },
  {
   "cell_type": "code",
   "execution_count": null,
   "metadata": {},
   "outputs": [],
   "source": [
    "toxic_POS_frequent_df = toxic_POS_frequent_df.query(\"Word not in @stop_words & Word not in @list_punctuations\")\n",
    "toxic_POS_frequent_df"
   ]
  },
  {
   "cell_type": "code",
   "execution_count": null,
   "metadata": {},
   "outputs": [],
   "source": [
    "fig, ax = plt.subplots()\n",
    "fig.suptitle(\"Top frequent toxic tags\", fontsize=12)\n",
    "sns.barplot(x='Count', y='Word', hue='Tag', \n",
    "            data=toxic_POS_frequent_df.iloc[:20,:], dodge=False, ax=ax)\n",
    "ax.grid(axis=\"x\")\n",
    "plt.show()"
   ]
  },
  {
   "cell_type": "markdown",
   "metadata": {},
   "source": [
    "### Non-Toxic Comments Data"
   ]
  },
  {
   "cell_type": "code",
   "execution_count": null,
   "metadata": {},
   "outputs": [],
   "source": [
    "nontoxic_POS_list = []\n",
    "\n",
    "for x in processed_df['POS_tagging_flat'][((processed_df.toxic == 0) &(processed_df.severe_toxic == 0) & (processed_df.obscene == 0) & (processed_df.threat == 0) & (processed_df.identity_hate == 0))]:\n",
    "    nontoxic_POS_list.append(x)"
   ]
  },
  {
   "cell_type": "code",
   "execution_count": null,
   "metadata": {},
   "outputs": [],
   "source": [
    "nontoxic_POS_count = Counter(chain(*nontoxic_POS_list))"
   ]
  },
  {
   "cell_type": "code",
   "execution_count": null,
   "metadata": {},
   "outputs": [],
   "source": [
    "nontoxic_POS_frequent_df = pd.DataFrame.from_dict(nontoxic_POS_count, orient='index').reset_index()\n",
    "nontoxic_POS_frequent_df.columns = ['nontoxic_POS_tags', 'Count']\n",
    "nontoxic_POS_frequent_df = nontoxic_POS_frequent_df.sort_values(by=['Count'], ascending=False)\n",
    "nontoxic_POS_frequent_df['Word'] = nontoxic_POS_frequent_df['nontoxic_POS_tags'].apply(lambda x: x[0])\n",
    "nontoxic_POS_frequent_df['Tag'] = nontoxic_POS_frequent_df['nontoxic_POS_tags'].apply(lambda x: x[1])"
   ]
  },
  {
   "cell_type": "code",
   "execution_count": null,
   "metadata": {},
   "outputs": [],
   "source": [
    "nontoxic_POS_frequent_df = nontoxic_POS_frequent_df.query(\"Word not in @stop_words & Word not in @list_punctuations\")\n",
    "nontoxic_POS_frequent_df"
   ]
  },
  {
   "cell_type": "code",
   "execution_count": null,
   "metadata": {},
   "outputs": [],
   "source": [
    "fig, ax = plt.subplots()\n",
    "fig.suptitle(\"Top frequent non-toxic tags\", fontsize=12)\n",
    "sns.barplot(x='Count', y='Word', hue='Tag', \n",
    "            data=nontoxic_POS_frequent_df.iloc[:20,:], dodge=False, ax=ax)\n",
    "ax.grid(axis=\"x\")\n",
    "plt.show()"
   ]
  },
  {
   "cell_type": "markdown",
   "metadata": {
    "id": "Uba5KcyE6lO1"
   },
   "source": [
    "## Weighted Words - Bag of Words (BoW) - Bag of n-grams"
   ]
  },
  {
   "cell_type": "markdown",
   "metadata": {},
   "source": [
    "### Frequent Words Identification"
   ]
  },
  {
   "cell_type": "code",
   "execution_count": null,
   "metadata": {
    "ExecuteTime": {
     "end_time": "2023-03-15T04:24:33.386108Z",
     "start_time": "2023-03-15T04:24:33.382199Z"
    }
   },
   "outputs": [],
   "source": [
    "from nltk.probability import FreqDist\n",
    "def most_frequent_words(text):\n",
    "    words = word_tokenize(text)\n",
    "    fdist = FreqDist(words) \n",
    "    \n",
    "    df_fdist = pd.DataFrame({'Word': fdist.keys(),\n",
    "                             'Frequency': fdist.values()})\n",
    "    df_fdist = df_fdist.sort_values(by='Frequency', ascending=False)\n",
    "    \n",
    "    return df_fdist.head(50)"
   ]
  },
  {
   "cell_type": "markdown",
   "metadata": {},
   "source": [
    "Remove stopwords & punctuaion"
   ]
  },
  {
   "cell_type": "code",
   "execution_count": null,
   "metadata": {},
   "outputs": [],
   "source": [
    "stop_words = stopwords.words('english')\n",
    "processed_df['lemmatization'] = processed_df['lemmatization'].apply(lambda x: [ i for i in x if (i not in string.punctuation) & (i not in stop_words)])"
   ]
  },
  {
   "cell_type": "code",
   "execution_count": null,
   "metadata": {},
   "outputs": [],
   "source": [
    "processed_df"
   ]
  },
  {
   "cell_type": "code",
   "execution_count": null,
   "metadata": {
    "ExecuteTime": {
     "end_time": "2023-03-15T04:24:40.139486Z",
     "start_time": "2023-03-15T04:24:35.827534Z"
    }
   },
   "outputs": [],
   "source": [
    "#identify frequent words\n",
    "\n",
    "combined_toxic = processed_df['lemmatization'][((processed_df.toxic == 1) | (processed_df.severe_toxic == 1) | (processed_df.obscene == 1) | (processed_df.threat == 1) | (processed_df.identity_hate == 1))].str.join(' ')\n",
    "combined_toxic = ' '.join(combined_toxic)\n",
    "toxic_frequent = most_frequent_words(combined_toxic)"
   ]
  },
  {
   "cell_type": "code",
   "execution_count": null,
   "metadata": {
    "ExecuteTime": {
     "end_time": "2023-03-15T04:25:29.951118Z",
     "start_time": "2023-03-15T04:24:40.160729Z"
    }
   },
   "outputs": [],
   "source": [
    "#identify frequent words\n",
    "combined_nontoxic = processed_df['lemmatization'][((processed_df.toxic == 0) &(processed_df.severe_toxic == 0) & (processed_df.obscene == 0) & (processed_df.threat == 0) & (processed_df.identity_hate == 0))].str.join(' ')\n",
    "combined_nontoxic = ' '.join(combined_nontoxic)\n",
    "nontoxic_frequent = most_frequent_words(combined_nontoxic)"
   ]
  },
  {
   "cell_type": "code",
   "execution_count": null,
   "metadata": {
    "ExecuteTime": {
     "end_time": "2023-03-15T04:25:29.981812Z",
     "start_time": "2023-03-15T04:25:29.974130Z"
    }
   },
   "outputs": [],
   "source": [
    "toxic_frequent.head()"
   ]
  },
  {
   "cell_type": "code",
   "execution_count": null,
   "metadata": {
    "ExecuteTime": {
     "end_time": "2023-03-15T04:25:30.009772Z",
     "start_time": "2023-03-15T04:25:29.998300Z"
    }
   },
   "outputs": [],
   "source": [
    "nontoxic_frequent.head()"
   ]
  },
  {
   "cell_type": "markdown",
   "metadata": {},
   "source": [
    "For toxic comments"
   ]
  },
  {
   "cell_type": "code",
   "execution_count": null,
   "metadata": {
    "ExecuteTime": {
     "end_time": "2023-03-15T04:25:30.408822Z",
     "start_time": "2023-03-15T04:25:30.027849Z"
    }
   },
   "outputs": [],
   "source": [
    "plt.figure(figsize=(12,8))\n",
    "word_cloud = WordCloud(\n",
    "                          background_color='black',\n",
    "                          max_font_size = 80\n",
    "                         ).generate(\" \".join(toxic_frequent['Word']))\n",
    "plt.imshow(word_cloud)\n",
    "plt.axis('off')\n",
    "plt.title(\"Wordcloud for toxic comments\")\n",
    "plt.show()"
   ]
  },
  {
   "cell_type": "markdown",
   "metadata": {},
   "source": [
    "For non toxic comment"
   ]
  },
  {
   "cell_type": "code",
   "execution_count": null,
   "metadata": {
    "ExecuteTime": {
     "end_time": "2023-03-15T04:25:30.687489Z",
     "start_time": "2023-03-15T04:25:30.428328Z"
    }
   },
   "outputs": [],
   "source": [
    "plt.figure(figsize=(12,8))\n",
    "word_cloud = WordCloud(\n",
    "                          background_color='white',\n",
    "                          max_font_size = 80,\n",
    "                          colormap='rainbow'\n",
    "                         ).generate(\" \".join(nontoxic_frequent['Word']))\n",
    "plt.imshow(word_cloud)\n",
    "plt.title(\"Wordcloud for non-toxic comments\")\n",
    "plt.axis('off')\n",
    "plt.show()"
   ]
  },
  {
   "cell_type": "markdown",
   "metadata": {},
   "source": [
    "### Frequency Vector"
   ]
  },
  {
   "cell_type": "markdown",
   "metadata": {},
   "source": [
    "Bigrams frequency"
   ]
  },
  {
   "cell_type": "code",
   "execution_count": null,
   "metadata": {
    "ExecuteTime": {
     "end_time": "2023-03-15T04:32:43.156963Z",
     "start_time": "2023-03-15T04:32:18.070416Z"
    }
   },
   "outputs": [],
   "source": [
    "vec = CountVectorizer(ngram_range=(2, 2))\n",
    "bow = vec.fit_transform(processed_df['text_tokenized'].str.join(' '))\n",
    "sum_of_words = bow.sum(axis=0)\n",
    "bigrams_freq = [(word, sum_of_words[0, idx]) for word, idx in vec.vocabulary_.items()]\n",
    "bigrams_freq =sorted(bigrams_freq, key = lambda x: x[1], reverse=True)\n",
    "bigrams_freq = pd.DataFrame(bigrams_freq[:50], columns=[\"bigrams\", \"frequency\"])"
   ]
  },
  {
   "cell_type": "code",
   "execution_count": null,
   "metadata": {
    "ExecuteTime": {
     "end_time": "2023-03-15T04:34:00.192829Z",
     "start_time": "2023-03-15T04:33:59.470751Z"
    }
   },
   "outputs": [],
   "source": [
    "plt.figure(figsize=(20,10))\n",
    "sns.barplot(data = bigrams_freq, x = \"frequency\", y=\"bigrams\")\n",
    "plt.title(\"Bigrams frequency\")"
   ]
  },
  {
   "cell_type": "markdown",
   "metadata": {},
   "source": [
    "Trigrams frequency"
   ]
  },
  {
   "cell_type": "code",
   "execution_count": null,
   "metadata": {
    "ExecuteTime": {
     "end_time": "2023-03-15T04:36:36.846090Z",
     "start_time": "2023-03-15T04:35:51.957877Z"
    }
   },
   "outputs": [],
   "source": [
    "vec = CountVectorizer(ngram_range=(3, 3))\n",
    "bow = vec.fit_transform(processed_df['text_tokenized'].str.join(' '))\n",
    "sum_of_words = bow.sum(axis=0)\n",
    "trigrams_freq = [(word, sum_of_words[0, idx]) for word, idx in vec.vocabulary_.items()]\n",
    "trigrams_freq =sorted(trigrams_freq, key = lambda x: x[1], reverse=True)\n",
    "trigrams_freq = pd.DataFrame(trigrams_freq[:50], columns=[\"trigrams\", \"frequency\"])"
   ]
  },
  {
   "cell_type": "code",
   "execution_count": null,
   "metadata": {
    "ExecuteTime": {
     "end_time": "2023-03-15T04:36:40.109311Z",
     "start_time": "2023-03-15T04:36:39.322480Z"
    }
   },
   "outputs": [],
   "source": [
    "plt.figure(figsize=(20,10))\n",
    "sns.barplot(data = trigrams_freq, x = \"frequency\", y=\"trigrams\")\n",
    "plt.title(\"Trigrams frequency\")"
   ]
  },
  {
   "cell_type": "markdown",
   "metadata": {
    "id": "XcKLU4DFQ-tA"
   },
   "source": [
    "### Term Frequency-Inverse Document Frequency (TF-IDF)"
   ]
  },
  {
   "cell_type": "code",
   "execution_count": null,
   "metadata": {},
   "outputs": [],
   "source": [
    "tfidf =  TfidfVectorizer(ngram_range=(2, 2))\n",
    "bow = tfidf.fit_transform(processed_df['text_tokenized'].str.join(' '))\n",
    "sum_of_words = bow.sum(axis=0)\n",
    "bigrams_freq = [(word, sum_of_words[0, idx]) for word, idx in tfidf.vocabulary_.items()]\n",
    "bigrams_freq =sorted(bigrams_freq, key = lambda x: x[1], reverse=True)\n",
    "bigrams_freq = pd.DataFrame(bigrams_freq[:50], columns=[\"bigrams\", \"frequency\"])"
   ]
  },
  {
   "cell_type": "code",
   "execution_count": null,
   "metadata": {},
   "outputs": [],
   "source": [
    "plt.figure(figsize=(20,10))\n",
    "sns.barplot(data = bigrams_freq, x = \"frequency\", y=\"bigrams\")\n",
    "plt.title(\"Bigrams frequency in TF-IDF\")"
   ]
  },
  {
   "cell_type": "code",
   "execution_count": null,
   "metadata": {},
   "outputs": [],
   "source": [
    "tfidf =  TfidfVectorizer(ngram_range=(3, 3))\n",
    "bow = tfidf.fit_transform(processed_df['text_tokenized'].str.join(' '))\n",
    "sum_of_words = bow.sum(axis=0)\n",
    "trigrams_freq = [(word, sum_of_words[0, idx]) for word, idx in tfidf.vocabulary_.items()]\n",
    "trigrams_freq =sorted(trigrams_freq, key = lambda x: x[1], reverse=True)\n",
    "trigrams_freq = pd.DataFrame(trigrams_freq[:50], columns=[\"trigrams\", \"frequency\"])"
   ]
  },
  {
   "cell_type": "code",
   "execution_count": null,
   "metadata": {},
   "outputs": [],
   "source": [
    "plt.figure(figsize=(20,10))\n",
    "sns.barplot(data = trigrams_freq, x = \"frequency\", y=\"trigrams\")\n",
    "plt.title(\"Trigrams frequency in TF-IDF\")"
   ]
  },
  {
   "cell_type": "markdown",
   "metadata": {},
   "source": [
    "## Sentiment Analysis"
   ]
  },
  {
   "cell_type": "code",
   "execution_count": null,
   "metadata": {},
   "outputs": [],
   "source": [
    "train_oversampled= pd.read_csv(\"Data/train_oversampled.csv\")\n",
    "train_oversampled.head()"
   ]
  },
  {
   "cell_type": "code",
   "execution_count": null,
   "metadata": {},
   "outputs": [],
   "source": [
    "from nltk.sentiment.vader import SentimentIntensityAnalyzer\n",
    "#calculate VADER score\n",
    "sentiments = SentimentIntensityAnalyzer()\n",
    "semtiment_df = processed_df[['id','toxic','severe_toxic','obscene','threat','insult','identity_hate','lemmatization']]\n",
    "semtiment_df[\"Positive\"] = [sentiments.polarity_scores(\" \".join(i))[\"pos\"] for i in semtiment_df[\"lemmatization\"]]\n",
    "semtiment_df[\"Negative\"] = [sentiments.polarity_scores(\" \".join(i))[\"neg\"] for i in semtiment_df[\"lemmatization\"]]\n",
    "semtiment_df[\"Neutral\"] = [sentiments.polarity_scores(\" \".join(i))[\"neu\"] for i in semtiment_df[\"lemmatization\"]]\n",
    "semtiment_df[\"compound\"] = [sentiments.polarity_scores(\" \".join(i))[\"compound\"] for i in semtiment_df[\"lemmatization\"]]\n",
    "# semtiment_df = processed_df[[\"content\", \"Positive\", \"Negative\", \"Neutral\"]]\n",
    "semtiment_df"
   ]
  },
  {
   "cell_type": "code",
   "execution_count": null,
   "metadata": {},
   "outputs": [],
   "source": [
    "senti_pie_count_list = []\n",
    "senti_pie_count_list.append(len(semtiment_df[semtiment_df['compound'] < -0.05]))\n",
    "senti_pie_count_list.append(len(semtiment_df[semtiment_df['compound'] > 0.05]))\n",
    "senti_pie_count_list.append(len(semtiment_df[(semtiment_df['compound'] < 0.05) & (semtiment_df['compound'] > -0.05)]))\n",
    "\n",
    "colors = ['pink', 'silver', 'steelblue']\n",
    "labels = [\"Negative\",\"Positive\",\"Neutral\"]\n",
    "\n",
    "plt.pie(np.array(senti_pie_count_list),labels = labels, colors = colors,autopct='%1.1f%%')\n",
    "plt.title(\"Number of tweets in each sentiment category\")\n",
    "plt.legend()"
   ]
  },
  {
   "cell_type": "code",
   "execution_count": null,
   "metadata": {},
   "outputs": [],
   "source": [
    "positive_words =' '.join([\" \".join(i) for i in semtiment_df['lemmatization'][semtiment_df['compound'] > 0.05]])\n",
    "# stopwords = set(STOPWORDS)\n",
    "wordcloud = WordCloud(background_color=\"white\",stopwords=set(STOPWORDS),collocations=False).generate(positive_words)\n",
    "plt.figure( figsize=(15,10))\n",
    "plt.imshow(wordcloud, interpolation='bilinear')\n",
    "plt.axis(\"off\")\n",
    "plt.title(\"Frequent words in positive tweets\")\n",
    "plt.show()"
   ]
  },
  {
   "cell_type": "code",
   "execution_count": null,
   "metadata": {},
   "outputs": [],
   "source": [
    "from wordcloud import WordCloud, STOPWORDS\n",
    "negative_words =' '.join([\" \".join(i) for i in semtiment_df['lemmatization'][semtiment_df['compound'] < -0.05]])\n",
    "# stopwords = set(STOPWORDS)\n",
    "wordcloud = WordCloud(background_color=\"white\",colormap = 'inferno',stopwords=set(STOPWORDS),collocations=False).generate(negative_words)\n",
    "plt.figure( figsize=(15,10))\n",
    "plt.imshow(wordcloud, interpolation='bilinear')\n",
    "plt.axis(\"off\")\n",
    "plt.title(\"Frequent words in negative tweets\")\n",
    "plt.show()"
   ]
  },
  {
   "cell_type": "code",
   "execution_count": null,
   "metadata": {},
   "outputs": [],
   "source": [
    "# test relationship between negative VADER score with toxic comments\n",
    "semtiment_df['negative']= np.where(semtiment_df['compound'] < -0.05, 1, 0)\n",
    "contigency= pd.crosstab(semtiment_df['negative'], semtiment_df['toxic'])\n",
    "contigency"
   ]
  },
  {
   "cell_type": "code",
   "execution_count": null,
   "metadata": {},
   "outputs": [],
   "source": [
    "plt.figure(figsize=(12,8))\n",
    "sns.heatmap(contigency, annot=True, cmap=\"YlGnBu\")"
   ]
  },
  {
   "cell_type": "code",
   "execution_count": null,
   "metadata": {},
   "outputs": [],
   "source": [
    "from scipy.stats import chi2_contingency\n",
    "# Chi-square test of independence\n",
    "# H0 : the variables are independent, there is no relationship between the two categorical variables\n",
    "# H1 : the variables are dependent, there is a relationship between the two categorical variables.\n",
    "c, p, dof, expected = chi2_contingency(contigency)\n",
    "if p < 0.05:\n",
    "    print(\"p < alpha, reject H0\")\n"
   ]
  },
  {
   "cell_type": "markdown",
   "metadata": {},
   "source": [
    "<a id=\"featureengineering\"></a>\n",
    "# 4. Feature Engineering"
   ]
  },
  {
   "cell_type": "markdown",
   "metadata": {},
   "source": [
    "## Word Embedding"
   ]
  },
  {
   "cell_type": "markdown",
   "metadata": {},
   "source": [
    "There are some decisions we need to make:\n",
    "- should stop words and punctuations be removed before embedding\n",
    "- custom embeddings or pre-trained embeddings or embedding layer\n",
    "- for pre-trained embeddings, which package to use: Word2Vec/GloVe, FastText, BERT\n",
    "- the size of vector to represent each text\n",
    "- word embedding or sentence embedding"
   ]
  },
  {
   "cell_type": "code",
   "execution_count": null,
   "metadata": {},
   "outputs": [],
   "source": [
    "# for word embeddings\n",
    "import gensim\n",
    "from gensim.scripts.glove2word2vec import glove2word2vec\n",
    "\n",
    "# for BERT\n",
    "import torch\n",
    "from transformers import BertTokenizer, BertModel"
   ]
  },
  {
   "cell_type": "code",
   "execution_count": null,
   "metadata": {},
   "outputs": [],
   "source": [
    "# define a helper function to calculate the embedding vector of each text\n",
    "def get_embeddings(vectors, text_df, generate_missing=False, k=25):\n",
    "    embeddings = []\n",
    "    for i in range(len(text_df)):\n",
    "        text = text_df[i]\n",
    "        # dealing with empty text\n",
    "        if len(text)<1:\n",
    "            return np.zeros(k)\n",
    "        # generate randomized vectors for unseen words if generate_missing is True\n",
    "        if generate_missing:\n",
    "            vectorized = [vectors[word][:k] if word in vectors else np.random.rand(k) for word in text]\n",
    "        # represent unseen words with 0 vector if generate_missing is False\n",
    "        else:\n",
    "            vectorized = [vectors[word][:k] if word in vectors else np.zeros(k) for word in text]\n",
    "        # each text is represented by averaging the vectors of its constituent words\n",
    "        length = len(vectorized)\n",
    "        summed = np.sum(vectorized, axis=0)\n",
    "        averaged = np.divide(summed, length)\n",
    "        embeddings.append(averaged)\n",
    "    return embeddings"
   ]
  },
  {
   "cell_type": "code",
   "execution_count": null,
   "metadata": {},
   "outputs": [],
   "source": [
    "# define a helper function to calculate the embedding vector of each text\n",
    "def get_embeddings(vectors, text, generate_missing=False, k=25):\n",
    "    # dealing with empty text\n",
    "    if len(text)<1:\n",
    "        return np.zeros(k)\n",
    "    # generate randomized vectors for unseen words if generate_missing is True\n",
    "    if generate_missing:\n",
    "        vectorized = [vectors[word][:k] if word in vectors else np.random.rand(k) for word in text]\n",
    "    # represent unseen words with 0 vector if generate_missing is False\n",
    "    else:\n",
    "        vectorized = [vectors[word][:k] if word in vectors else np.zeros(k) for word in text]\n",
    "    # each text is represented by averaging the vectors of its constituent words\n",
    "    length = len(vectorized)\n",
    "    summed = np.sum(vectorized, axis=0)\n",
    "    averaged = np.divide(summed, length)\n",
    "    return averaged"
   ]
  },
  {
   "cell_type": "markdown",
   "metadata": {},
   "source": [
    "### Global Vectors for Word Representation (GloVe)"
   ]
  },
  {
   "cell_type": "markdown",
   "metadata": {},
   "source": [
    "Similar to Word2Vec method, each word is presented by a high dimension vector and trained based on the surrounding words over a huge corpus. Since our project works on Tweets, we apply a pre-trained word embedding trained over Twitter content (https://github.com/stanfordnlp/GloVe)."
   ]
  },
  {
   "cell_type": "markdown",
   "metadata": {},
   "source": [
    "Advantages:\n",
    "- It captures the position of the words in the text (syntactic)\n",
    "- It captures meaning in the words (semantics)\n",
    "\n",
    "Limitations:\n",
    "- It cannot capture the meaning of the word from the text (fails to capture polysemy)\n",
    "- It cannot capture out-of-vocabulary words from corpus"
   ]
  },
  {
   "cell_type": "code",
   "execution_count": null,
   "metadata": {},
   "outputs": [],
   "source": [
    "# generate a word2vec file used for model building\n",
    "glove_input_file = \"D:/GoogleDownloads/BT4222/glove.twitter.27B/glove.twitter.27B.25d.txt\"\n",
    "word2vec_output_file = \"glove.twitter.27B.25d.txt.word2vec\"\n",
    "glove2word2vec(glove_input_file, word2vec_output_file)"
   ]
  },
  {
   "cell_type": "code",
   "execution_count": null,
   "metadata": {},
   "outputs": [],
   "source": [
    "# build a GloVe model\n",
    "glove_model = gensim.models.KeyedVectors.load_word2vec_format(word2vec_output_file, binary=False) "
   ]
  },
  {
   "cell_type": "code",
   "execution_count": null,
   "metadata": {},
   "outputs": [],
   "source": [
    "# generate embedding vectors of size 25 using tokenized text (stop words and punctuation kept)\n",
    "# side note: map function outperforms for loop\n",
    "embeddings_glove = processed_df[\"text_tokenized\"].map(lambda x: get_embeddings(glove_model, x))"
   ]
  },
  {
   "cell_type": "code",
   "execution_count": null,
   "metadata": {},
   "outputs": [],
   "source": [
    "# plot the result of embeddings\n",
    "fig, axes = plt.subplots(nrows = 5, ncols=5, figsize=(15,15))\n",
    "labels = ['toxic', 'severe_toxic', 'obscene', 'threat', 'insult', 'identity_hate']\n",
    "for dim in range(25):\n",
    "    for label in labels:\n",
    "        idx = processed_df[processed_df[label]==1].index.values\n",
    "        li = list(map(lambda x: embeddings_glove[x][dim], idx))\n",
    "        sns.kdeplot(li, fill=True, ax=axes[dim//5,dim%5])\n",
    "    idx = processed_df[processed_df[labels].sum(axis=1)==0].index.values\n",
    "    li = list(map(lambda x: embeddings_glove[x][dim], idx))\n",
    "    sns.kdeplot(li, fill=True, ax=axes[dim//5,dim%5])"
   ]
  },
  {
   "cell_type": "markdown",
   "metadata": {},
   "source": [
    "The difference among different labels is not very obvious."
   ]
  },
  {
   "cell_type": "code",
   "execution_count": null,
   "metadata": {},
   "outputs": [],
   "source": [
    "pd.DataFrame(embeddings_glove).to_csv('embeddings_glove.csv', index=False)"
   ]
  },
  {
   "cell_type": "markdown",
   "metadata": {},
   "source": [
    "### FastText"
   ]
  },
  {
   "cell_type": "markdown",
   "metadata": {},
   "source": [
    "Using FastText, each word, w, is represented as a bag of character n-gram. For example, given the word \"introduce\" and n = 3, FastText will produce the following representation composed of character tri-grams: < in, int, ntr, tro, rod, odu, duc, uce, ce > Note that the sequence, corresponding to the word here is different from the tri-gram \"int\" from the word introduce. Again, FastText is pre-trained on huge corpus (https://fasttext.cc/docs/en/english-vectors.html)."
   ]
  },
  {
   "cell_type": "markdown",
   "metadata": {},
   "source": [
    "Advantages:\n",
    "- Works for rare words, if their character n-grams which are still shared with other words\n",
    "- Solves out of vocabulary words with n-gram in character level\n",
    "\n",
    "Limitations:\n",
    "- It cannot capture the meaning of the word from the text (fails to capture polysemy)"
   ]
  },
  {
   "cell_type": "code",
   "execution_count": null,
   "metadata": {},
   "outputs": [],
   "source": [
    "# build a FastText model\n",
    "start_time3 = time.time()\n",
    "fasttext_path = \"D:/GoogleDownloads/BT4222/crawl-300d-2M-subword/crawl-300d-2M-subword.vec\"\n",
    "fasttext_model = gensim.models.KeyedVectors.load_word2vec_format(fasttext_path, binary=False, limit=30000000000) # load 30B most common words\n",
    "print(\"--- %s seconds ---\" % (time.time() - start_time3))"
   ]
  },
  {
   "cell_type": "code",
   "execution_count": null,
   "metadata": {},
   "outputs": [],
   "source": [
    "# generate embedding vectors of size 25 using tokenized text (stop words and punctuation kept)\n",
    "embeddings_fasttext = processed_df[\"text_tokenized\"].map(lambda x: get_embeddings(fasttext_model, x))"
   ]
  },
  {
   "cell_type": "code",
   "execution_count": null,
   "metadata": {},
   "outputs": [],
   "source": [
    "# plot the result of embeddings\n",
    "fig, axes = plt.subplots(nrows = 5, ncols=5, figsize=(15,15))\n",
    "labels = ['toxic', 'severe_toxic', 'obscene', 'threat', 'insult', 'identity_hate']\n",
    "for dim in range(25):\n",
    "    for label in labels:\n",
    "        idx = processed_df[processed_df[label]==1].index.values\n",
    "        li = list(map(lambda x: embeddings_fasttext[x][dim], idx))\n",
    "        sns.kdeplot(li, fill=True, ax=axes[dim//5,dim%5])\n",
    "    idx = processed_df[processed_df[labels].sum(axis=1)==0].index.values\n",
    "    li = list(map(lambda x: embeddings_fasttext[x][dim], idx))\n",
    "    sns.kdeplot(li, fill=True, ax=axes[dim//5,dim%5])"
   ]
  },
  {
   "cell_type": "markdown",
   "metadata": {},
   "source": [
    "Difference in distribution among different labels is very slight."
   ]
  },
  {
   "cell_type": "code",
   "execution_count": null,
   "metadata": {},
   "outputs": [],
   "source": [
    "pd.DataFrame(embeddings_fasttext).to_csv('embeddings_fasttext.csv', index=False)"
   ]
  },
  {
   "cell_type": "markdown",
   "metadata": {},
   "source": [
    "### Bidirectional Encoder Representations from Transformers (BERT)"
   ]
  },
  {
   "cell_type": "markdown",
   "metadata": {},
   "source": [
    "While each word has a fixed representation under forementioned models regardless of the context within which the word appears, BERT produces word representations that are dynamically informed by the words around them. We use the BERT base model to create sentence embeddings."
   ]
  },
  {
   "cell_type": "markdown",
   "metadata": {},
   "source": [
    "Advantages:\n",
    "-  It captures the meaning of the word from the text (incorporates context, handling polysemy)\n",
    "\n",
    "Limitations:\n",
    "- Computationally expensive\n",
    "- It cannot capture out-of-vocabulary words from a corpus"
   ]
  },
  {
   "cell_type": "code",
   "execution_count": null,
   "metadata": {},
   "outputs": [],
   "source": [
    "# define a helper function to calculate the embedding vector of each text\n",
    "def get_BERT_embeddings(text, max_len=512): # BERT can only take up to 512 tokens\n",
    "    # tokenize sentence with BERT tokenizer\n",
    "    tokenized_text = tokenizer.tokenize(text)\n",
    "    tokenized_text = tokenized_text[:max_len-2] # truncate overlength text\n",
    "    # add special tokens\n",
    "    tokenized_text = [\"[CLS]\"] + tokenized_text + [\"[SEP]\"]\n",
    "    # map the token strings to their vocabulary indeces\n",
    "    indexed_tokens = tokenizer.convert_tokens_to_ids(tokenized_text)\n",
    "    # create segment ID\n",
    "    segments_ids = [1] * len(tokenized_text)\n",
    "    # convert inputs to PyTorch tensors\n",
    "    tokens_tensor = torch.tensor([indexed_tokens])\n",
    "    segments_tensors = torch.tensor([segments_ids])\n",
    "    # fead the inputs into BERT model\n",
    "    with torch.no_grad():\n",
    "        outputs = model(tokens_tensor, segments_tensors)\n",
    "        hidden_states = outputs[2]\n",
    "    # use the average of the second last hidden layer of each token as sentence embedding\n",
    "    token_vecs = hidden_states[-2][0]\n",
    "    sentence_embedding = torch.mean(token_vecs, dim=0).numpy()\n",
    "    return sentence_embedding"
   ]
  },
  {
   "cell_type": "code",
   "execution_count": null,
   "metadata": {},
   "outputs": [],
   "source": [
    "# load pre-trained model tokenizer (vocabulary)\n",
    "tokenizer = BertTokenizer.from_pretrained('bert-base-uncased')\n",
    "\n",
    "# load pre-trained model (weights)\n",
    "model = BertModel.from_pretrained('bert-base-uncased',\n",
    "                                  output_hidden_states = True)# whether the model returns all hidden-states\n",
    "# put the model in \"evaluation\" mode, meaning feed-forward operation.\n",
    "model.eval()"
   ]
  },
  {
   "cell_type": "code",
   "execution_count": null,
   "metadata": {},
   "outputs": [],
   "source": [
    "# prepare the input used for BERT model\n",
    "sentence_tokenized = processed_df['text_tokenized'].map(lambda x: ' '.join(x))"
   ]
  },
  {
   "cell_type": "code",
   "execution_count": null,
   "metadata": {
    "scrolled": true
   },
   "outputs": [],
   "source": [
    "# generate embedding vectors (stop words and punctuation kept)\n",
    "start_time4 = time.time()\n",
    "embeddings_bert = sentence_tokenized.map(get_BERT_embeddings)\n",
    "print(\"--- %s seconds ---\" % (time.time() - start_time4))"
   ]
  },
  {
   "cell_type": "code",
   "execution_count": null,
   "metadata": {},
   "outputs": [],
   "source": [
    "# plot the result of embeddings\n",
    "fig, axes = plt.subplots(nrows = 5, ncols=5, figsize=(15,15))\n",
    "labels = ['toxic', 'severe_toxic', 'obscene', 'threat', 'insult', 'identity_hate']\n",
    "for dim in range(25):\n",
    "    for label in labels:\n",
    "        idx = processed_df[processed_df[label]==1].index.values\n",
    "        li = list(map(lambda x: embeddings_bert[x][dim], idx))\n",
    "        sns.kdeplot(li, fill=True, ax=axes[dim//5,dim%5])\n",
    "    idx = processed_df[processed_df[labels].sum(axis=1)==0].index.values\n",
    "    li = list(map(lambda x: embeddings_bert[x][dim], idx))\n",
    "    sns.kdeplot(li, fill=True, ax=axes[dim//5,dim%5])"
   ]
  },
  {
   "cell_type": "code",
   "execution_count": null,
   "metadata": {},
   "outputs": [],
   "source": [
    "pd.DataFrame(embeddings_bert).to_csv('embeddings_bert.csv', index=False)"
   ]
  },
  {
   "cell_type": "markdown",
   "metadata": {},
   "source": [
    "## Curseword Detection"
   ]
  },
  {
   "cell_type": "markdown",
   "metadata": {},
   "source": [
    "Refer to https://github.com/vzhou842/profanity-check to use as an indicator for curseword"
   ]
  },
  {
   "cell_type": "code",
   "execution_count": null,
   "metadata": {},
   "outputs": [],
   "source": [
    "featured_df['curseWord'] =  featured_df['clean_text'].apply(lambda x: predict([x])[0])"
   ]
  },
  {
   "cell_type": "markdown",
   "metadata": {},
   "source": [
    "## Unique, Repated words"
   ]
  },
  {
   "cell_type": "code",
   "execution_count": 95,
   "metadata": {
    "ExecuteTime": {
     "end_time": "2023-03-21T08:38:05.535613Z",
     "start_time": "2023-03-21T08:38:04.187139Z"
    }
   },
   "outputs": [],
   "source": [
    "clean_df = processed_df.iloc[:,1:8]\n",
    "#clean_df['text_tokenized'] = clean_df['text_tokenized'].apply(lambda x: [c for c in x if c not in string.punctuation])"
   ]
  },
  {
   "cell_type": "code",
   "execution_count": 152,
   "metadata": {
    "ExecuteTime": {
     "end_time": "2023-03-21T10:03:14.977551Z",
     "start_time": "2023-03-21T10:03:14.921536Z"
    },
    "run_control": {
     "marked": true
    }
   },
   "outputs": [],
   "source": [
    "#Without removing stopwords but punctuation\n",
    "\n",
    "def freq(text):\n",
    "    text = [c for c in text if c not in string.punctuation]\n",
    "    if len(text) == 0:\n",
    "        return [0,0,0,0,0,0,0,0]\n",
    "    try:\n",
    "        #get frequency vectore\n",
    "        vec = CountVectorizer(ngram_range=(1, 1), stop_words=None)\n",
    "        bow = vec.fit_transform([' '.join(text)])\n",
    "    except:\n",
    "        print(text)\n",
    "        #get frequency vectore\n",
    "        vec = CountVectorizer(ngram_range=(1, 1), stop_words=None)\n",
    "        bow = vec.fit_transform([''.join(text)])\n",
    "        print(bow)\n",
    "    finally:          \n",
    "        sum_of_words = bow.sum(axis=0)\n",
    "        unigrams_freq = [(word, sum_of_words[0, idx]) for word, idx in vec.vocabulary_.items()]\n",
    "\n",
    "        #how many words\n",
    "        words = len(unigrams_freq)\n",
    "        unigrams_freq = pd.DataFrame(unigrams_freq,columns=['word','freq'])\n",
    "\n",
    "        # length of text\n",
    "        total_length = len(''.join(unigrams_freq.word))\n",
    "\n",
    "        #length of repeated text\n",
    "        repeated_length = len(''.join(unigrams_freq['word'][unigrams_freq.freq>1]))\n",
    "        #length of repeated text\n",
    "        unique_length = total_length-repeated_length\n",
    "\n",
    "        #how many repeated words\n",
    "        repeated_words = unigrams_freq[unigrams_freq.freq>1]\n",
    "        repeated_words_length = len(unigrams_freq[unigrams_freq.freq>1])\n",
    "\n",
    "        #how many unqiue words\n",
    "        unique_words_length = words - repeated_words_length\n",
    "\n",
    "\n",
    "        repeated_words_vs_length = repeated_length / total_length\n",
    "        repeated_words_vs_words = repeated_words_length / words\n",
    "        unique_words_vs_length = unique_length / total_length\n",
    "        unique_words_vs_words = unique_words_length / words\n",
    "        return [words, total_length, repeated_words_length, repeated_words_vs_length, repeated_words_vs_words,\n",
    "                 unique_words_length,unique_words_vs_length, unique_words_vs_words]\n",
    "\n"
   ]
  },
  {
   "cell_type": "code",
   "execution_count": 153,
   "metadata": {
    "ExecuteTime": {
     "end_time": "2023-03-21T10:09:02.762594Z",
     "start_time": "2023-03-21T10:03:17.541419Z"
    }
   },
   "outputs": [
    {
     "name": "stdout",
     "output_type": "stream",
     "text": [
      "['n', 'i', 'g', 'g', 'e', 'r', 'f', 'a', 'g', 'g', 'o', 't']\n",
      "  (0, 0)\t1\n",
      "['p', 'e', 'n', 'i', 's']\n",
      "  (0, 0)\t1\n",
      "['p', 'e', 'n', 'i', 's']\n",
      "  (0, 0)\t1\n"
     ]
    }
   ],
   "source": [
    "clean_df['words'],clean_df['total_length'],clean_df['repeated_words_length'],\\\n",
    "clean_df['repeated_words_vs_length'],clean_df['repeated_words_vs_words'],\\\n",
    "clean_df['unique_words_length'],clean_df['unique_words_vs_length'],\\\n",
    "clean_df['unique_words_vs_words'] = zip(*clean_df['text_tokenized'].apply(\n",
    "    lambda comment: freq(comment)))"
   ]
  },
  {
   "cell_type": "code",
   "execution_count": 154,
   "metadata": {
    "ExecuteTime": {
     "end_time": "2023-03-21T10:09:12.899061Z",
     "start_time": "2023-03-21T10:09:12.889061Z"
    }
   },
   "outputs": [
    {
     "data": {
      "text/plain": [
       "Index(['toxic', 'severe_toxic', 'obscene', 'threat', 'insult', 'identity_hate',\n",
       "       'text_tokenized', 'words', 'total_length', 'repeated_words_vs_length',\n",
       "       'repeated_words_vs_words', 'unique_words_vs_length',\n",
       "       'unique_words_vs_words', 'repeated_words_length',\n",
       "       'unique_words_length'],\n",
       "      dtype='object')"
      ]
     },
     "execution_count": 154,
     "metadata": {},
     "output_type": "execute_result"
    }
   ],
   "source": [
    "clean_df.columns"
   ]
  },
  {
   "cell_type": "code",
   "execution_count": 156,
   "metadata": {
    "ExecuteTime": {
     "end_time": "2023-03-21T10:09:39.854036Z",
     "start_time": "2023-03-21T10:09:39.764434Z"
    }
   },
   "outputs": [],
   "source": [
    "LABELS = ['toxic', 'severe_toxic', 'obscene', 'threat', 'insult', 'identity_hate']\n",
    "features = ('words', 'total_length', 'repeated_words_vs_length',\n",
    "       'repeated_words_vs_words', 'unique_words_vs_length',\n",
    "       'unique_words_vs_words', 'repeated_words_length',\n",
    "       'unique_words_length'\n",
    "           )\n",
    "clean_df['none'] = 1 - clean_df[LABELS].max(axis=1)"
   ]
  },
  {
   "cell_type": "code",
   "execution_count": 157,
   "metadata": {
    "ExecuteTime": {
     "end_time": "2023-03-21T10:09:49.797057Z",
     "start_time": "2023-03-21T10:09:49.553062Z"
    }
   },
   "outputs": [
    {
     "data": {
      "text/html": [
       "<div>\n",
       "<style scoped>\n",
       "    .dataframe tbody tr th:only-of-type {\n",
       "        vertical-align: middle;\n",
       "    }\n",
       "\n",
       "    .dataframe tbody tr th {\n",
       "        vertical-align: top;\n",
       "    }\n",
       "\n",
       "    .dataframe thead th {\n",
       "        text-align: right;\n",
       "    }\n",
       "</style>\n",
       "<table border=\"1\" class=\"dataframe\">\n",
       "  <thead>\n",
       "    <tr style=\"text-align: right;\">\n",
       "      <th></th>\n",
       "      <th>toxic</th>\n",
       "      <th>severe_toxic</th>\n",
       "      <th>obscene</th>\n",
       "      <th>threat</th>\n",
       "      <th>insult</th>\n",
       "      <th>identity_hate</th>\n",
       "      <th>none</th>\n",
       "    </tr>\n",
       "  </thead>\n",
       "  <tbody>\n",
       "    <tr>\n",
       "      <th>words</th>\n",
       "      <td>-0.099039</td>\n",
       "      <td>-0.050574</td>\n",
       "      <td>-0.083467</td>\n",
       "      <td>-0.020974</td>\n",
       "      <td>-0.083366</td>\n",
       "      <td>-0.033696</td>\n",
       "      <td>0.094470</td>\n",
       "    </tr>\n",
       "    <tr>\n",
       "      <th>total_length</th>\n",
       "      <td>-0.098959</td>\n",
       "      <td>-0.047987</td>\n",
       "      <td>-0.083478</td>\n",
       "      <td>-0.022275</td>\n",
       "      <td>-0.082849</td>\n",
       "      <td>-0.031375</td>\n",
       "      <td>0.095204</td>\n",
       "    </tr>\n",
       "    <tr>\n",
       "      <th>repeated_words_vs_length</th>\n",
       "      <td>-0.016289</td>\n",
       "      <td>0.048949</td>\n",
       "      <td>-0.011058</td>\n",
       "      <td>0.012372</td>\n",
       "      <td>-0.008599</td>\n",
       "      <td>0.005186</td>\n",
       "      <td>0.015832</td>\n",
       "    </tr>\n",
       "    <tr>\n",
       "      <th>repeated_words_vs_words</th>\n",
       "      <td>-0.031051</td>\n",
       "      <td>0.034609</td>\n",
       "      <td>-0.026098</td>\n",
       "      <td>0.008308</td>\n",
       "      <td>-0.021725</td>\n",
       "      <td>-0.001735</td>\n",
       "      <td>0.029628</td>\n",
       "    </tr>\n",
       "    <tr>\n",
       "      <th>unique_words_vs_length</th>\n",
       "      <td>0.016496</td>\n",
       "      <td>-0.048752</td>\n",
       "      <td>0.011210</td>\n",
       "      <td>-0.012300</td>\n",
       "      <td>0.008750</td>\n",
       "      <td>-0.005101</td>\n",
       "      <td>-0.016047</td>\n",
       "    </tr>\n",
       "    <tr>\n",
       "      <th>unique_words_vs_words</th>\n",
       "      <td>0.031218</td>\n",
       "      <td>-0.034470</td>\n",
       "      <td>0.026212</td>\n",
       "      <td>-0.008254</td>\n",
       "      <td>0.021842</td>\n",
       "      <td>0.001798</td>\n",
       "      <td>-0.029806</td>\n",
       "    </tr>\n",
       "    <tr>\n",
       "      <th>repeated_words_length</th>\n",
       "      <td>-0.085243</td>\n",
       "      <td>-0.035968</td>\n",
       "      <td>-0.070000</td>\n",
       "      <td>-0.016286</td>\n",
       "      <td>-0.070045</td>\n",
       "      <td>-0.027245</td>\n",
       "      <td>0.081918</td>\n",
       "    </tr>\n",
       "    <tr>\n",
       "      <th>unique_words_length</th>\n",
       "      <td>-0.102455</td>\n",
       "      <td>-0.055957</td>\n",
       "      <td>-0.087231</td>\n",
       "      <td>-0.022547</td>\n",
       "      <td>-0.087064</td>\n",
       "      <td>-0.035704</td>\n",
       "      <td>0.097437</td>\n",
       "    </tr>\n",
       "  </tbody>\n",
       "</table>\n",
       "</div>"
      ],
      "text/plain": [
       "                             toxic  severe_toxic   obscene    threat  \\\n",
       "words                    -0.099039     -0.050574 -0.083467 -0.020974   \n",
       "total_length             -0.098959     -0.047987 -0.083478 -0.022275   \n",
       "repeated_words_vs_length -0.016289      0.048949 -0.011058  0.012372   \n",
       "repeated_words_vs_words  -0.031051      0.034609 -0.026098  0.008308   \n",
       "unique_words_vs_length    0.016496     -0.048752  0.011210 -0.012300   \n",
       "unique_words_vs_words     0.031218     -0.034470  0.026212 -0.008254   \n",
       "repeated_words_length    -0.085243     -0.035968 -0.070000 -0.016286   \n",
       "unique_words_length      -0.102455     -0.055957 -0.087231 -0.022547   \n",
       "\n",
       "                            insult  identity_hate      none  \n",
       "words                    -0.083366      -0.033696  0.094470  \n",
       "total_length             -0.082849      -0.031375  0.095204  \n",
       "repeated_words_vs_length -0.008599       0.005186  0.015832  \n",
       "repeated_words_vs_words  -0.021725      -0.001735  0.029628  \n",
       "unique_words_vs_length    0.008750      -0.005101 -0.016047  \n",
       "unique_words_vs_words     0.021842       0.001798 -0.029806  \n",
       "repeated_words_length    -0.070045      -0.027245  0.081918  \n",
       "unique_words_length      -0.087064      -0.035704  0.097437  "
      ]
     },
     "execution_count": 157,
     "metadata": {},
     "output_type": "execute_result"
    }
   ],
   "source": [
<<<<<<< HEAD
    "# prevent lists from being converted to strings\n",
    "processed_df = pd.read_csv('Data/processed_train.csv', \n",
    "                           converters={'text_tokenized': literal_eval, 'POS_tagging_flat': literal_eval, 'lemmatization': literal_eval})\n",
    "processed_df.head()"
   ]
  },
  {
   "cell_type": "markdown",
   "metadata": {},
   "source": [
    "### SentenceBERT"
   ]
  },
  {
   "cell_type": "markdown",
   "metadata": {},
   "source": [
    "SentenceBERT is one of the most popular packages for generating sentence embeddings based on transformer models such as BERT, RoBERTa, and DistilBERT (https://www.kdnuggets.com/2019/09/bert-roberta-distilbert-xlnet-one-use.html). We use roberta-base-nli-mean-tokens as the pre-trained model as it improves the performance of base BERT and is optimized for NLI tasks. (https://www.sbert.net/index.html)"
   ]
  },
  {
   "cell_type": "code",
   "execution_count": 63,
   "metadata": {},
   "outputs": [],
   "source": [
    "# load pre-trained model tokenizer (vocabulary)\n",
    "sbert_model = SentenceTransformer('roberta-base-nli-mean-tokens')"
   ]
  },
  {
   "cell_type": "code",
   "execution_count": 51,
   "metadata": {},
   "outputs": [],
   "source": [
    "# prepare the input used for BERT model\n",
    "sentence_tokenized = processed_df['text_tokenized'].map(lambda x: ' '.join(x))"
   ]
  },
  {
   "cell_type": "code",
   "execution_count": 112,
   "metadata": {},
   "outputs": [
    {
     "name": "stdout",
     "output_type": "stream",
     "text": [
      "The first 10000 texts have been embedded\n",
      "The first 20000 texts have been embedded\n",
      "The first 30000 texts have been embedded\n",
      "The first 40000 texts have been embedded\n",
      "The first 50000 texts have been embedded\n",
      "The first 60000 texts have been embedded\n",
      "The first 70000 texts have been embedded\n",
      "The first 80000 texts have been embedded\n",
      "The first 90000 texts have been embedded\n",
      "The first 100000 texts have been embedded\n",
      "The first 110000 texts have been embedded\n",
      "The first 120000 texts have been embedded\n",
      "The first 130000 texts have been embedded\n",
      "The first 140000 texts have been embedded\n",
      "The first 150000 texts have been embedded\n",
      "--- 21910.65552687645 seconds ---\n"
     ]
    }
   ],
   "source": [
    "# generate embedding vectors (stop words and punctuation kept)\n",
    "start_time5 = time.time()\n",
    "embeddings_sbert = []\n",
    "# embed batch by batch\n",
    "for i in range(10000, len(sentence_tokenized), 10000):\n",
    "    text = sentence_tokenized[i-10000:i].values\n",
    "    embedded_text = sbert_model.encode(text)\n",
    "    embeddings_sbert = np.concatenate((embeddings_sbert, embedded_text)) if len(embeddings_sbert)!=0 else embedded_text\n",
    "    print(f'The first {i} texts have been embedded')\n",
    "# embed the last batch of text\n",
    "text = sentence_tokenized[i:len(sentence_tokenized)].values\n",
    "embedded_text = sbert_model.encode(text)\n",
    "embeddings_sbert = np.concatenate((embeddings_sbert, embedded_text))\n",
    "print(\"--- %s seconds ---\" % (time.time() - start_time5))"
   ]
  },
  {
   "cell_type": "code",
   "execution_count": 115,
   "metadata": {},
   "outputs": [
    {
     "data": {
      "image/png": "iVBORw0KGgoAAAANSUhEUgAABNoAAASuCAYAAAAUOESdAAAAOXRFWHRTb2Z0d2FyZQBNYXRwbG90bGliIHZlcnNpb24zLjUuMywgaHR0cHM6Ly9tYXRwbG90bGliLm9yZy/NK7nSAAAACXBIWXMAAA9hAAAPYQGoP6dpAAEAAElEQVR4nOz9ebhlZXng/X+f9axhz2eeaoAqRkGhAJOUiL6RDlhRw9uXaaNRf01CRxMJdFTa9icOkMHGt68IMb80SmskmO5GMIZXk4DQNIpGmQsKGWuuc6rOPO157zU+vz/WqVO164xVVNWZns917euCvdfe+1lwnr3Wutf93LdQSik0TdM0TdM0TdM0TdM0TXtDjKUegKZpmqZpmqZpmqZpmqatBjrQpmmapmmapmmapmmapmkngQ60aZqmaZqmaZqmaZqmadpJoANtmqZpmqZpmqZpmqZpmnYS6ECbpmmapmmapmmapmmapp0EOtCmaZqmaZqmaZqmaZqmaSeBDrRpmqZpmqZpmqZpmqZp2klgLvUAlqMoihgYGCCbzSKEWOrhaNqyopSiVCqxbt06DGN5xur1HNa0uS33Oaznr6bNbbnPX9BzWNPms9znsJ6/mja/xc5hHWibxcDAABs3blzqYWjasnbw4EE2bNiw1MOYlZ7Dmraw5TqH9fzVtIUt1/kLeg5r2mIs1zms56+mLc5Cc1gH2maRzWaB+D9eLpdb4tFo2vJSLBbZuHHj9DxZjvQc1rS5Lfc5rOevps1tuc9f0HNY0+az3Oewnr+aNr/FzmEdaJvF4TTZXC6nf2A0bQ7LOZ1cz2FNW9hyncN6/mrawpbr/AU9hzVtMZbrHNbzV9MWZ6E5vPwWhmuapmmapmmapmmapmnaCqQDbZqmaZqmaZqmaZqmaZp2EuhAm6ZpmqZpmqZpmqZpmqadBDrQpmmapmmapmmapmmapmkngQ60aZqmaZqmaZqmaZqmadpJoANtmqZpmqZpmqZpmqZpmnYS6ECbtqJErkvxoYfwR0aWeiiapi0Xh56D1x+CMFjqkWjaqtf/+qu88tPH8GrVpR6Kpq1Jvhvy+lODjPaVlnoomqatQb0v9/KT//EoE4P5pR7KsmYu9QA07XgM3nIrxR/+kMSb38ym++9DmPpPWNPWtOfuhn/5dPzPb/5t+MDdIMTSjknTVqntD/6Qx//+WwA8+0//yEe+/FXsZGqJR6Vpa4fvhvzD//Msk4NVhAG/+fGLOOvSjqUelqZpa8TTP/wxP7/3/wcEvPi/O/j9v/xLmrvbl3pYy5LOaNNWDH9ggOI//zPJyy6j/sorVJ95ZqmHpGnaUiocgh/9f+G834R3/md45QHY9fBSj0rTVqWJgUP89H9+m/Pe9g7e/Ud/QmFkiJ/f/z+WeliatqY8+y/7KY7WeddHz6d7cxM/+V+v41b9pR6Wpmmr3J6REg889jI//+7XsVNdXPjrv0voF/mXv/nGUg9t2dKBNm3FKP/sZwC0ffzjmB0dFH+kL6g1bU174m/AdOBX/gOc9evQ8ab4OU3TTrqn/vE+ktkcF/2bq2nu6uZNV/w6v3z0YarFwlIPTdPWhHrF56WfHuLsyzpo7kxx8b/ZiF8PeOmn/Us9NE3TVrHb//dOrrr9Z/zyf9yPUhG1c95J5+bN5DovZXjPM0z0H1rqIS5LOtCmrRiVJ5/EOftsjFSKxCWXUHnqyaUekqZpS8Wvw4574bz3gDW1dO3890HvL+JMN03TTppaucSup37BOb96OdK0ADj7V7YC8PJPHl3KoWnamrH72WHCQHHWJfFS0WTGYsObWnn58UNEYbTEo9M0bTX64Y5+/ubHe/j9dTmytZeJWs/jyYE6P909ypkXXwZYbP/RI0s9zGVJB9q0FaP63HacN70JAOecc/APHiIYH1/iUWmatiR2/QjcIpz9G0ee2/irYMi4MYKmaSfNrid/ThSFbNpy6fRzTjJFz7nns+upny/hyDRt7dj1zBCd7TUSj/0neOg/Q+8v2HRRO5WCR//O/FIPT9O0Vabuh/z5P7/KFWe20v7ai4DPprdu5aINTTyxZwyVNDHMdez618cIy+WlHu6yowNt2ooQjI4Sjo9jb9oEgHP22QDUXvzlEo5K07SlEr78T+xQ/4End3RTr6n4STsD3RfrOm2adpLt+ddH6OhsIZFMAlCedHnp8X6yHWcxvG8PxbHRJR6hpq1u1aLH0L4i68v/AnYSIh9+chvNIw+SaXHY9czQUg9R07RV5vvbDzFZ9dgmU/jl13Ba1mMmMrxlfRNNoUf13r/HiZqp14u8+LsfIhjV5wJH04E2bUWov/46APaZZwIg29sxslnqr7+2lMPSNG0JRJ7Lj568iCdG3scvt0f88L6AMJwKtnVfBAefhjBoeI8/MIA/pC9ENO14+c/9T/p27aKn/hL8/A68WsjPv7+bPc+PsPd5AQj6Xn4RAOVH1HdO4PYWl3bQmrbKHHzqZQC6zm7nqTN/hb/IJfmr9Wez9+X/xbruOvt/OaaXj2qadlLd90wfb1vfTPnFQSK/j8yGcwEwVcS2vmdQbp3mno2AwYhbZeDmm1FKLe2glxEdaNNWhPprryNSKWR73D5YCIG1bh3enj1LPDJN0063Z7/7BH31i3nbrxS44kqDsRHYu3PqwN51EXhlGIqzXd3du9n/wQ+x59/8BnvedSV9H/s4weTkEo5e01aQ6gT9D/wXImXQffHbYd9Pef2xX+LVA37lvWfipFM46Xb6Xn6RYKzG8F9vZ+zvXmH0Gy9SeOTAUo9e01aNvl9sp9ka4uX1G/lm349ACEZMk//a2kohfz9uNWBwj25MomnayXFgrMLLA0XeFtiEXh+gSHZuBsB8eQeZ0gTPdZyPStkIo438uWdT+fkvqPxcl5M4TAfatBXB27cPa906hBDTz1nr1lHftXsJR6Vp2uk2uCfP9icjerK/4J/t7fxL7Se0dUe8+GwYb9B2Dkgb+p6i/vrrHPjdDxNOTNB+4420/eEfUnvxRQ7dcCMqDJd2RzRtJXjubg4WkySSDrnztlJLn83+3RHrz2/h5fEJ6k0QBC0MvPYq4//rNZQf0fz+c0he1knpJwfxR6tLvQeatvIVDjEwmqO1XXH/4M85K9XDB9rexnW96/j0Pyl6fjSEFVbZ98S+pR6ppmmrxEMvD5IyDey+KjIxiJVuxkxlGZh8HfH8kxTXtVNJZSkFHkJ2MFLMY51zNuN/++2lHvqyoQNt2org7tuH1dXV8Jy1fj3egQMo31+iUWmadjq5tYBH/+5VnMQw397wS14p9/Hk5Gu8mHyOkSGolBVIC1o2Ex54jkN/fANmRwddX/wiqV/9VdJXXEH7n/wJtRdeYPK79y317iy5X/ziF1xzzTWsm7qJ8YMf/GDe7R944AGuvvpqOjo6yOVyXH755TzySGOnqT/90z9FCNHweNNUExtthVEKnv8Oh4L1dPR0IYTBft6NUCEve7t4bOjveUH9HxCttLvd+EMVsr9xBmZ7ktQlHRhpi9LjB5d6LzRtxSs/9UPKUQf5rogxv8hviM0kvv0o9uMvY/d0suN8QbJ8gH0/3UVYKi31cDVNWwX+ddcY70ynCashQW0/TvsGnh39P5SefxShIra3jpFMjzBarWGYbfh+Hd5+OdWnn8Y7cGCph78s6ECbtiJ4vb2YPT0Nz1nr1kEQ4A8OLtGoNE07XZRS/PjvX6NSrPPI+h+xwUrzBxvezf/d9TZetl4EFL37ppaPtp3D+D8/RzA+TvsNN2BMFXAHSJx3HukrrmDsrm8Que7S7MwyUa1W2bJlC3feeeeitv/Zz37G1VdfzUMPPcT27du58sorueaaa3jhhRcatnvzm9/M4ODg9OPnehnBytS/nXDyIMMFSJdr+OUaB0a7abX28Gr9FziiCdeuEJo5zm/6NcI2gdkWzzUhDZzzW6i9Mo4Kdb0WTXsjBp+PSyH80niNc4Jmur/7HHgB/m/9CtHlbyJ97np2d/RRTnTR//W7l3i0mqatdDUv5LneCc5zJVYuxC+N0StHOFjazZv7JW53D7lsD67cz0ilTCLVCkCpqwORSFB8WDclAx1o01aAYHKSqFDA6u5ueN7s7ATA6+1bimFpmnYaPf9IL/teGGVHz6OkZJ6z/fPxAzgz2UlHJk09M8nB/XEh6MBez8QOj+zVvzH9O3G03G/9FuHYOKU1fiJw9dVX8+Uvf5n3v//9i9r+a1/7Gp/97Gf51V/9Vc4991xuu+02zj33XP75n/+5YTvTNOnu7p5+tE/V1tRWmNf+iX296wgjhfH8q7z+90/g1g1GmgZQImRL21bOyJxNJiPJWq3kE2MNb7c3ZlH1EK9PN0bQtBNWHGB0zCLheLxYf533PulBFOG/+xJUcxqAM5rOopaMs0cPPPoiYbmylCPWNG2F2947iQoUiVEPKzMOwIA5wdtr52C5AbWNPXQnNxIRouQkdsJGmhnGxoZJXrJFB9qm6ECbtuz5fXEg7dgLZtnWBqaJ19e7FMPSNO006XtlnKd+uI8DXa8wmNzNe0oBr08IfvTyIF6oOD+zgX6nl4H+ONCW3xEXhM7+2nmzfp7V04Nz4QXk//GB07YPq1EURZRKJVpbWxue3717N+vWreOss87iox/9KH19898McV2XYrHY8NCWnv/8w+zdl0MAG97zfzEizyRl1XkhWeJMPyRtJelJbWSz00wlKDM62fj/2exIIpIm9dcnlmYHNG012PMYo/7ZyCaPTQMhLQdLhFvPYzyCHQcL/HzPODsOFdloRHhinInUGRQfenCpR61p2gr2fN8k5woTQsWE+0s8Eza3X0Z3bwGvKYufTWMaNimZRVjjREYERgsjwwMkL70M9/Wd+CMjS70bS04H2rRlzzt0CACzo6PheWEYmJ2d04E4TdNWn3rF5/9851Xy2WFebP4576sK0ulO3ra5nXoQ8cz+Cc5OrmMiOUi1JCgXI/I/e5VUl4d0h+f83PTlb6f67LMEo6OncW9Wl69+9auUy2U++MEPTj+3detW7rnnHh5++GG+8Y1vsH//ft75zndSmqdu0Fe+8hWampqmHxs3bjwdw9fmUxxk7KdDFFMJsukUNHdQzJ5BYmwXdSPkXM/FdPOkRIpzjXUMu2NMDA00fETcHTyNu193QtS0E6X2Ps5YeA7F5CRX7DKIWrPstByeOzBJue6TdkxKbkCtnKVkDzDRfgHFH/1oqYetadoKtqNvkosMB5mWTI6+TJhJ0WN2kxwcwu0+cj3e7LRh2AXqkYeiifHREZwLLgCg8sQTSzX8ZUMH2rRlzz/Uj5HJYKRSM14zOzpw9dJRTVu1tv/oAOVKjac7H6FdXcFZ/gR+sgNZznOuWWf/aAkRWoS5OAvq4PYR/OFx0mc6kJ/7tyF52WUgBKUf/+R07cqqcu+99/Jnf/ZnfO9736PzqGzj97znPfzO7/wOF198Mdu2beOhhx4in8/zve99b87PuvnmmykUCtOPgwd1Af2l5m//F/L7U1TamsjlMgyOJxECmif201m0aY0UVm2Y7koGC5Nht0y9XMCr1xo+x+pI4fWXUUG0RHuiaStbdf8r1MM0o1EvmwZCJjZ2sG+swoaWJBesy3FGa5ILe3Ig24BeanYHhedfJtSZwZqmnQClFC8czNNTg0J2mEwlIt2ykdShQYgUta4jgba0lQVC8kEBYTThey51Q2Bv2kT1ySeXbieWCR1o05Y9v78fc44aP2Z7O35//2kekbZYP/vZz46rqyHA448/zmWXXYbjOJxzzjncc889p3yc2vJUK3u88JNe9ra8gKEuZFt3FhGFjBwoMfmvP8N6eTubhnezc7BIeyaJZ1UYeHkCI53EObMTJg/M+dkyk8E57zzKjz9+2vZntbjvvvv42Mc+xve+9z2uuuqqebdtbm7mvPPOY8+ePXNu4zgOuVyu4aEtrYl7vw+mIB8pmjJpBseTZNIuCp9zJhOEdg6nNsKGUpYxs0hZhgAURxuXipidSQgV/pCuGbWU7rzzTjZt2kQikWDr1q0888wz827/ta99jfPPP59kMsnGjRv59Kc/Tb1eP02j1abl+5iYtACQQ/sBeFHatKQsupsS05tVJkawR3eRHtqFW7yPsexGKk/oi1xN047fockaXtnHrkXsU09jBWDlWkke7MdvzhE59vS2SZkBIB+OIowmACbGhnHOO4/q9ueXZPzLiQ60acued+gQcp5AWzDQj1K6q9lyVKlUjqur4f79+3nf+97HlVdeyY4dO/jUpz7Fxz72MR555JFTPFJtuVDRkbn8i5/sRYWK3uw42865hFSln4myTbmvn+TmzaTPfxO50jjje/bT7bQw6YwyNi5InHsmIts9b0YbQOItb6H6zNMo3z/Vu7VqfPe73+W6667ju9/9Lu973/sW3L5cLrN37156jukarS1fYT7P5FN9qDe1EUURjpOlULEoGQNMpmF9QRHYTaSqNdprSUaSVep2nLFWGmtcim22JcEQeAfnXjqsnVr3338/N910E7feeivPP/88W7ZsYdu2bYzMUT/n3nvv5XOf+xy33norr732Gt/+9re5//77+fznP3+aR65x6FkmgjMQhmLD4ATllhQVBBtb4hUeSinyA72MH9iFnUxhZkxUNM7r6xzKutuzpmkn4NXBIhsCCYAXxuWbjFSO5OAIbntjTV5DSCyRpK7yWHYKwzCZGBvFOe88/EOH8IfXdp02HWjTlj2/vx+zrW3W18yODqJKlaiga8AsR+95z3uOq6vhXXfdxebNm7n99tu54IILuPHGG/nABz7AX/3VX53ikWpLTQURE/+wk/5bnqD81CBKKZ56fBfDmV7ecdbbsE0Dq3iQgWEHq62dxLr12O3tGK1ttI8dxPRSVM1RikY7ifM2QbodapPgzZ1Jk7jwQqJKldpLL52+HV1GyuUyO3bsYMeOHUAc6N6xY8d084Kbb76Za6+9dnr7e++9l2uvvZbbb7+drVu3MjQ0xNDQEIWjfn8/85nP8NOf/pQDBw7wxBNP8P73vx8pJR/+8IdP675pJ278b++CSOGdtwmAqtuGNCIG1B6KGYvkRJnAytEWbkIBxXRA3a6BSFIcbayLKEwDsy2Bd6h8+ndEA+COO+7g4x//ONdddx0XXnghd911F6lUirvvvnvW7Z944gmuuOIKPvKRj7Bp0ybe/e538+EPf3jBLDjtFBjYwYQ4FyPtcuaIYiydoiVlYVvx5VtxuJ/C4EEy7V3kujfQkmsnSJ1DTZTY98JzSzx4TdNWotcGi5yFpOaU6AgTYDkki1VEEOIdE2gDSMgMhlnBcgSm3cTE2AjOuecCUJs6v1yrdKBNW9aUUgRDQ3GH0VkcznTz9PLRVeHJJ5+csRRt27ZtPLnAOn/dtXDlKz81SPX5Eez1GfI/2MPTPz5ASyVLoXWSlkS8lLB6qJ8wUCTPPHP6fen167EDl3pfCccdw3OaERs3xYE2gOLcvw325s2IZJLqs2vzguSFF17g0ksv5dJLLwXgpptu4tJLL+WWW24BYHBwsKFj6De/+U2CIOCGG26gp6dn+vHJT35yeptDhw7x4Q9/mPPPP58PfvCDtLW18dRTT9FxTDMbbXnyBwaY+Pt7yayvkZdZHNtivJQjkaxRM8pEmRwijMBzaDUupGiWUIYgMH2ESDLSPzTjM2VLQi8dXSKe57F9+/aG46phGFx11VVzHlff/va3s3379unA2r59+3jooYd473vfO+f36GPwKTLwAhPRWYRGnrQHQ4kkbWkHgGp+nHz/AdKtHaRbOxBCYCayYIUIo4XdeLrrn6Zpx+3VgSIbIhhNHKK1biEzOZJDo0S2hZ9Jz9g+baZA1sCIEEaWyYlRZHMzsrWV+ssvL8EeLB9LGmg73vpNDzzwAFdffTUdHR3kcjkuv/zyGUvK/vRP/xQhRMPjTW960yncC+1UCicnUa47d0bbVKDNP6QDbavB0NAQXV1dDc91dXVRLBap1WpzvEt3LVzplB9S+nEfzvktZK86A9niEDx+AIWi64x4jhtugfHRiERLFplMTr9XZrOEdgJvYICeYh6AomyD1FRgZ55AmzAMnHPOofrc2gy0vfOd70QpNeNxuC7iPffcw+NH1bB7/PHH590e4vptAwMDuK7LoUOHuO+++zj77LNP745pJySqVun/zH/GsA2azhVMVgPSqTT5skVRDGAoSaalHYXAKkRk2EhJTl3IOyCMNMXxmV18zRaHYLjasCxcOz3GxsYIw3DW4+rQ0MygKMBHPvIR/vzP/5x3vOMdWJbF2Wefzbve9a55l47qY/ApoBQMvkjBayd043lWyKRoSloEXp2x/btwMjnSbUea0USmg23kMaxzmEgnGNPLRzVNO047+4vkXIN8agS7VENkciQGh/Fam0HE28igQmbsRVoO/ZiO4gEgxMMlUlnyk+MopbA3b1qzK0YOW9JA2/HWb/rZz37G1VdfzUMPPcT27du58sorueaaa3jhhRcatnvzm9/M4ODg9OPn+kCzYvmDgwBzZrQZmQzCtgmGBk/nsLRlRnctXNlqr4wTVQNSF3cgDIF1cTubfBOVmqAzty7eqPeXeL6BtW59w3uFEMjmFlKlcdaN5EGFFMo2WAlwclA4NO93O+eeS+2FF1CR7oqorS1hucLwX/4lvdf+Hn1/+Efsfd/7qL/6Ku3vaMVoXcdEoYSUGUAwIPbgRClsxyRM27RWEwghqYVxIDuRsIgMm7BWmjGXZGsCFUSEE7qY/krw+OOPc9ttt/H1r3+d559/ngceeIAHH3yQv/iLv5jzPfoYfAoU+/FqPjUvgVEeppyUJNMOCMV4716EYZDrWo8QouFtKaOEMNcBgl2/+OnSjF3TtGUpmKiT/5d9lH7ej/JnnvdW3IBg3MVQAiMXoMpFZCKDPVHAbWkGwKkO0zT0FKZXwEt1k5BTjVn8fiKVxfc8atUK9qbN1F95ZU3XUTeX8svf85738J73vGfR23/ta19r+PfbbruNH/7wh/zzP//z9NIXANM06e7uPlnD1JZQMBVoM1tnrgmHqYvstjb8AR1oWw26u7sZHm6s8TM8PEwulyN5VBbTsRzHwXGcUz087RSpbB/G7E4hm+L/h7tsRbeK2JywGBZxQVb3wB4sC2TTzKB7qr2N6sggiVIEKk++EndpI90Gxfl/G5xzzqHwwAN4+/fj6MwrbY1QUcSh66+n9tJLJC+6iKhUIvGmC8i++91Y//pZouzFFHdXaGo5E8uu44kqPSLOUgpTCZqiVgI8gqAfOAdbpvBNF8uLqOQnybQemadma3wS7g9XMNvn/h3XTr729naklLMeV+c6T/7Sl77Ev//3/56PfexjAFx00UVUKhX+8A//kC984QsYxsx79PoYfAoMv0o+jJvIZCfHyCdtmpIW9WKeenGSpp4zMKSc8basZVB1QyyR4tChA6d50JqmLVcqiBj95i+J6gHKC6m/Ok77dW9GWEd+R/aOlukJFYHwabFMUIqEHyFQ+C1NOJUh0hMvESRaqWU2gSFQCozKqzjhAQLj1wCYnBij9YwziEolgoEBrPXr5xjV6raia7RFUUSpVKL1mCDM7t27WbduHWeddRYf/ehHG2rMzEbXlli+/IFBME2MbHbObczWFvw5lkBoK8vll1/OY4891vDco48+yuWXX75EI9JOtbDs4e7JkzinZfq5X+4bZ8SHN6lmRATK96iOFkg1OTPu3gPYTTkUgqqlqBsTjJemThqSrVAamPf77c2bQQhqL/7ypO6Xpi1nxQcfpPrss3R86lO033gjHZ/6FK2///tYLQmoTVKyOomUoua1UDWGkaFNsx13OgzTCbJWJxVZRIYeIvRJyiTuVOfR8sR4w3eJpIlISPyh6mnfz7XOtm3e+ta3NhxXoyjisccem/O4Wq1WZwTT5FRAZy1nJpx2I69SYBMAXRN5SgmHjGOSH+zDSqZwMrOfF5tmGt/IE5rtjEY+wTxlNzRNWzsqTw8SFlyafussmt57Fm5vkcKPDjRss3u4TA91ColR2vz4xliq6BLZFsKokJ54mSDRTi23GYz4fFwIMLGpGmUQGYQQFCbHsc44A4D6zp2ndT+XkxUdaPvqV79KuVzmgx/84PRzW7du5Z577uHhhx/mG9/4Bvv37+ed73wnpdLcreV1bYnlyx8ewmxrQ8xyB/Uw2dqGP6BrtC1Hx9vV8BOf+AT79u3js5/9LK+//jpf//rX+d73vsenP/3ppRi+dhrUXo0vyu1NuennBvoPMRJEJJSkY9LAP7gHpcBpmyOz1TAwpEMxoSjZE+RLdvxCauGMNiOVwlq3jtpLOtCmrR2T/+teEm95M4kLLmh8YWIfAHnii/ggamLcOIQdZEjacbAlTDkkU51URBw4k0EJ20xStV3AYHjgmM6jQiCbHIIxfcG/FG666Sa+9a1v8Z3vfIfXXnuN66+/nkqlwnXXXQfAtddey8033zy9/TXXXMM3vvEN7rvvPvbv38+jjz7Kl770Ja655prpgJt2Goy8RsE8H2EF5Gou1UQSI6jiVUqkW9pnvekEEMokhpFHmRsIDYNDP3v89I5b07RlqfLsMM7mJsyWBFZPmvSvdFF+YgCv/0hX8F0jJXpCk3JyAqfsIZwEyYk8fjZFZvyXBE6OWu7MGZ9tYzMhQYoI286QnxhDtrRgZDLUX3/9dO7msrKkS0ffiHvvvZc/+7M/44c//CGdnUcKgR69FPXiiy9m69atnHnmmXzve9/jD/7gD2b9rJtvvpmbbrpp+t+LxaIOti0TwfAIcmpN+Fxkayv11147PQPSjstzzz3HlVdeOf3vh+fZ7/3e73HPPffM6Gq4efNmHnzwQT796U/z13/912zYsIG//du/Zdu2bad97NrpUXtpDKsnjZGMD0c1L8CquUyICuVElnUjBgf6XyJhh0TZ2Ws1AiSFSSEBVWsCv2Lj+QI71QpeOX7YmTnfa515JvVXXjnp+6Zpy5E/MEBtxw7arr9+5osT+8B0yNcVhiFBJKgbE7SG3cip+11GugnTTFIPKigEplcicFoJ7ABEgoGDQ2w55mNlk4M/ojPalsKHPvQhRkdHueWWWxgaGuKSSy7h4Ycfnm6Q0NfX15DB9sUvfhEhBF/84hfp7++no6ODa665hv/yX/7LUu3C2jS2k4L6HYSMO/ZGuQyVsWEM08JOz73KIzQT2ORR8nzCSHHw2afYtG3xZXo0TVt9woKLP1Qhe+WR+EbiLe3UXp2g9K+HaPvduHHk3v4Sl3oZJpoCorFJjFQWZ2CSsDUkMGxq2bNm/XzHsCkYddZTIjASFPITCCGwNmzA3b37tOzjcrQiA2333XcfH/vYx/iHf/iHhpbls2lubua8885jz549c26ja0ssX/7QILJl9iyWw8zWVsLxcZTnIWz7NI1MW4x3vetd8y41Obpb4dHvObbBibY6RbUAd2+B9NYjtYL2jVVoCSzcRJXx5jQbhyWM5klnQ0IrN+dnZdyIqgRDFQAoVi3aU1O/HaVBaDt3zvfamzZR+Md/RAUBwlyRh0VNW7Tyz38OhkHyootmvjixH7LdFMpVTDNNYJaRyiR91LE1ZbdBBJ5bIEokkX68YkA4CiESlMcnZnysbHLweosopebMxNFOnRtvvJEbb7xx1teO7iwMcZ3jW2+9lVtvvfU0jEyblVIwvodi0I4K80QA2QTV/r0kcs3zzyFDkhRFasLAiSRD+/eerlFrmrZM1XdOggBrw5GbzsIQJN/cRuWZIcL3eciszWR/AZAkmh3CfROYdhLhByjbp9b0JphjhVlC2oxHAbaoESqbwmR8HmCtX4+7a+0G2lbc0tHvfve7XHfddXz3u9/lfe9734Lbl8tl9u7dS09Pz2kYnXayBUNDyJaWebeRbW2gFMHo6GkalaZpJ0N95wREqmHZ6O6REs1eFpUKGW+OQMEZqTeRbErOeYAHyJZ8AGw/ToEvVqy4RhtAaf4ajvaZZ6JcF3ffvje4R5q2/FWeeALn7LMx0umZL05OBdpKZSLSVIwxpJciaR5ZMpgmSxj6RNUioZlEenGgzbYcIsMirBRmfKxsslFuSFT2T9l+adqqUR4Bt0SxnkN5E9QcgaVcojAgkW1a8O0Z6QERysgwWsqf8uFqmra81fdMYnamMBKNN5Od81oARe3lMep+iFEZIxA+zc3NRMU8CTcu+VBvX09kJub8/JSMb8YpGRCRpljIE0UR1vr1eL29KH9tHvuXNNB2vPWb7r33Xq699lpuv/12tm7dytDQEENDQxQKR07qPvOZz/DTn/6UAwcO8MQTT/D+978fKSUf/vCHT+u+aW+cUopgZBRzoUDb1Ou6IYKmrSy1V8YxO5LIzJFsmf2HxjCVjZkxCEyYVBOcmb0AlZ77d0C4AU49QCCx3IDQqMaBNisFZgLKw3O+F+JAG4Crl6Bra0Btxw7sc2fJ8Ax9KA5Appt8sUKkcngyjxkmpuuzAWRUDjcoIqsukUwig3hJqCOTBKZABJUZHy2b41UDwaiu06ZpCxrfTahMylUbszpBOWEi6kUMaWI6c1/sHmaaNr5RxrOaqQmoHtOgRNO0tcXrLWJ1pWY8bzgSa32W6i/H6B2v0hUFlBLjZEMHopBscRxlC7xsx7yfnzDiY3xdhgS0EUUhlXIRa906CAK8BRpTrlZLGmh77rnnuPTSS7n00kuBuH7TpZdeyi233AIwo37TN7/5TYIg4IYbbqCnp2f68clPfnJ6m0OHDvHhD3+Y888/nw9+8IO0tbXx1FNP0dEx/x+ItvyE+TzK8xbMaDOnus7qQJumrRwqiKjvnMA+o3E5aHEizkxN5JIQhgyX9tBmb8CQXXN+llWcqv1kOpj1ANfIU6hYcSukVAuU5g+0GckkZkcH9Z273thOadoy54+MEAwN45w1S52VYj9EIUGyg0qthjCyIKs4UnJ0Dfy0yuJGFYyaS2QmESrCCKo4RgLXChHKY2SiMatN5mwQ4I/pOm2atqDxvZTCTkCQKeep2hZ+uYCdyixq6bUyEiCKhHY7AANP/OIUD1jTtOUqyLuEBQ9zlkAbgLMph3egwIGDBTr9JG66iprKhHWqCj87S/b7sZ8hLAAqhocymgEo5Cew1q8HwN2zNpewL2kxmuOt33RsHYnZ3HfffW9wVNpyEUwFzmTr/DXaRDKJSCQIhua/mNY0bfmo782jvKhh2WjND7FcF0/WySTShONDjFX7UNlfoY1zKDP7XXlZrqIQiEQSszJJ3ZggX54K0Cea42U4C7A2bsTduXY7I2lrQ/3luOmHvXnzzBfzvQCUxNScNFKgQhz7qHuyCpKkKTGI4fqERpxdI/0Kjp2hYAdkgJ27Buh825ElbkIaGFmbYKx+SvZL01aVyf2U7DjrtLVQYLDdxq9NkOhat6i3R6aDYRRAnokRRQzueJ5zfuv/PpUj1jRtmfL6igBYnbMH2uwzsqCg+uoYLW4zoxsmURODCBR2xaC+Yfb3HU0IMDGpUSErUgigmJ9k/cbNGOk03v79J3OXVowVV6NNWzv84ThwtlBGmxACs61NZ7Rp2gpSf3UcI2cjW440ojk4XqUlNHHtCggIRgeJZESNEVr9zjk/yyzWCJMWVjKJoSI8xijV4rtrJFugvPBvg7VxI/XXd77h/dK05czdtQsjnY5rmx5rshcSTRTdEADfDIl8i8RRDUISJJFI6kYdAQgflCGRfhlbJqk6HgBDvTPnnMzZBDqjTdMWNrGfojwLUGRrZTwnTim1kwtnlgBEMolDEYsMTgijvbr+qKatVd6BIkbOxkhZs75upCzM9iSpvkkMDBLNDubwTkwTjADC1MLL1QEsLGqiiBAGtmFQzE/G1+g93TrQpmnLTTA8AoaBbFq48KtsaSEY1hltmrYSKKWovTaBfUa2YRnMgYkKTX6aKBmAgmB0ACdpUDLGafWaEGr2JTNmuUqUdEgk47tuKhwhCExc34gbIpRHgLmzpwHsDRsIx8cJJidP2n5q2nLj7tmDtX797MvP8n2Q6aRQqgAGgXQhNElaR04VUyoLQM2MA2qy7hHJBDIoIwCVEICgOj5zHsmco2u0adpiTOyjxHqE5WKoiEBGCCmRlr3we4FI2qSIl28rI8FkQR/XNG2tcueoz3Y0a0OGTRVBRERrziEqTmDKqdqq6cUF2kxMXFHFNAJMYVDMj8Wf3dWNu39tBvt1oE1btoLhYWRTE+Lo4jBzkC0t+EODp2FUmqa9Uf5ghajozajPdmC4SCrIYKQhKhdQbo2kWadglZBK0uLlZv08s1QjTNo4joVCYIRxF8RS1YRkM4Qe1GZ2QjzadB2J3Wu3Dbm2+rm7d8fFiWeT74V0RxxoM9Jg1REInKM7jqoMISGeGaCEQNY9QplAenG3X8dKgbBRlSLHBrdlk00wUUdF8we9NW1NUwomD1AMO1EinleR8rGc5KLqswEgICXiZdqemaaoQqK6XrataWtN5IX4A+U567MdZm/IkEZiJ8q0F17F9QSmcFDSIErMngl3LMewCQ0fSwYYIklhPC7bYvb04O0/8EZ3ZUXSgTZt2fJHhhdcNnqYbGnRNdo0bYWo75xAWAZWd+OBf2QkXm5mZ2yCsUEwJAkzpGIrfBHQ4s4SaAsjZNUjTNoIIVDSRvrxBUWpakFi6jekMv/vg9nVBaapA23aqqXCEG///umgcoPQg9IQZLoYL1QRIgOGhy0NjKPOFFMqQ50aGBDZJkbda+g8ahsJQmli+zXGy17DV8gmB0JFmHdP5W5q2spWz4NbpOQ2EYYFIiAMapiJxWWVHCZNg1DUqNs5IsNgdPuzp2S4mqYtX97BEiiwuuZfdl5MmwQqoiMhSA0/j+8b2D6E6QQsMr6flBaRCJBmBEaWYqmIUgqrq4uoVFqTK0Z0oE1btoLhYWRz86K2la2tBGNjqCA4tYPSNO0Nq+/KY/WkEfLIIUgpRVAuoYhIptOEY4NYqQRCQGilKJtVmrzsjM+SVRehFGEyTnEXlo3lBSjDjQNtyeZ4w/LovGMSponV3Y27Z89J209NW078wSGU52H29Mx8sdgPKoJMJ/lSCWFkCCMPx2o8w06pDK6Il39GloyXjpqJuPNoWCMhU/hSYUZV9o9WGt4rm+Jlb8G4Xj6qaXPK9wFQrKYQ3iTFpCAK4oy24xFJByXKBHYzAEPP6UCbpq017r4CwpEN9ZBn0ztZpBAqNhoOqhJn0iaqAUFqccvVARJG/B2h4RIabfhBhFuvxTeyAb+v7wT3YuXSgTZt2fKHFp/RZra0QBQRjM/elVDTtOUh8kK8viLW+kzD8yMll1yoqFsVZBQR5idwHAjNFBiSslWl2c/OKLVmlqcu+pPxyYC0HCw/wjUK8dJRKwnSgcr8gTYAq6dHB9q0Vcvvi7uKmp2zNBaZurhXqQ7q9RrKsPF8ReKoZaMoSDGV0QYo20S4PpGMM20Mv4pjJPEtBapGb3+x4SuMjA2GIBjTgTZNm1O+j1CZVGsS6eYpJOJLNdM5vow2ZSQwjDK2aMZQirE9u07FaDVNW8bc3ZNY69ILLjt/rW8v+RC6oiT1KK6Nniy7RKn5A3RHS8h4ialHDV+0A1AsTE6fc3g60KZpy0cwMjIj0ObW64wODxJFUcPzsrU1fs+grtOmacuZd6AIoZoRaOsbr9AUOPiOSzg+BCiSskpoxenuZbOCqUwyQeNyU1mpowxB5MQHeNNJYCiFq4bjQJsQcVZbZWTBsZnr1+PtXZsFW7XVz+vrAykx29tnvlg4CE6WaiRBRUSmgYoEtnUk0GbjYGEdldFmTWW0OSgEMqjgyCR1KwBVY3SwMaNNGGKq86gOtGnanPIHKYt1gCBVK1BzBAix6EYIh0Wmg0UBWzVhK4NJXcd4xbrzzjvZtGkTiUSCrVu38swzz8y7fT6f54YbbqCnpwfHcTjvvPN46KGHTtNoteUiqgd4B0vY62euBjnW+MgY+UBhYGBzARgGlh8RLLLjKIAt4t+ouqqgjLjUS7EwiZFMYjQ34x3oPbEdWcHMhTfRtNMvqteJCoWGQFvvvl08+i//SBD4dPVs4Lf+3f8Hy57KYpkKtPnDIxxfcr2maaeTu7+ASJrI5sa7ZAfGKuT8LLWmPMH4EEYyjc0kNSs+WFfNGgpFk5elbFWn32eW64RJe7qGhJNw8IAgGqJYPT9+MtkE5YVrOFrr1hFOTBDm84tetq5pK4XX24fZ2Tl7g6H8QUh3UCzHwTFlGqBoaISQUnFwvE48/yJLYvghhIrITCC9ClbGIrAUEFEfL874Gpmz8XWgTdPmlu+jZJ0LQLZSYiQtMO3E4hshTImkTYIioXIIpU2hUiDyPAz7+AJ22tK6//77uemmm7jrrrvYunUrX/va19i2bRs7d+6kc5bsZM/zuPrqq+ns7OT73/8+69evp7e3l2Z9TrPm1Hfn4/psx9zYno0quRSMKgEGTepMTHM3Ajc+v14kQ4BEUqdEVtiYKErjQ8BbsDo7dUabpi0XwchUp5KpQNvE2Aj/+1++T3tnN796xZWMjQ7x7BM/md7eSKcRtk0wPLQk49U0bXHcA3Gb8WMvGg4Mj2JFDmbKIBwbwppKVw/sOKMtEoqadMn5jQVdZaVG5Bw5EUg4CRSgokmqdYsoAhLNC9Zog3jpKIC7T2e1aauP19c3ezYbxB1HM50UinFtFmWCNOCohDZSKkNEhEvczEDZ8b1ao+4RGQ4yjANwYqpou1Ur4wZhw9cYOqNN0+aX76VknAlAc7GEb0SY9uKXbx0WGQ5pFXfgrlkJyraFu0s3+1lp7rjjDj7+8Y9z3XXXceGFF3LXXXeRSqW4++67Z93+7rvvZmJigh/84AdcccUVbNq0iV//9V9ny5Ytp3nk2lKrvTyGbEsgcwsFyxQp1yG0S9SNIdpZhymMqdUixxeYN7GpEv/u2IagOBZn0podHbpGm6YtF8FwnH0iW1pQSvHT//MvpFJpLnvbO+let5Fzzn8zL7/4HNWpgo1CCGRrK77uPKppy5YKI/yDpVnbjBcn4kCYg4vyPRJ2RCgTKONIW/GqWSPnN96ZM8v16fpsAIYURIYJYREQVOpmHGirjC04Pqu7G4TA27//xHZQ05Yxv//Q7IG2KITiIKQ7ODheBJEgMvyGbDaAFGlc6iDiQonRVKBNej6RmcDw42w4cyo4ngnrHJpsDKrJJodwoo4KG8s/aJo2pXCQkuoByyMRBASEmM7xB9owDGwj7sBdsZIEpiSvO4+uKJ7nsX37dq666qrp5wzD4KqrruLJJ5+c9T3/9E//xOWXX84NN9xAV1cXb3nLW7jtttsIw3DW7QFc16VYLDY8tJVN+RH11yZwNuUW3Hb/5ABNbhu2zFN2CuRkCxmVjrPZjjNSZCHxRBXTiJDCopSPa6ebHR14hw6dyK6saDrQpi1L/nCc0SZbWjiwdyfDA4d48yW/hpTxif2mc94ESrF35yvT75EtLQRDOqNN05Yrf7CCCiKsYwJtpXqA43mEwsco50GaJCkRWo1BtYqskfHTCDWVDRcpZNUlTBxzx820kX58gV+umZBoArcIQX3e8Qnbxuzo0Blt2qrk9w9gdnTMfKE0BFEAmS7GChWESBEEswTaVAaXI4EzZU5ltLkBkXSQoQsqxLbSgCAV1jg4UW34DNnkgIJg0j3p+6dpq0Khn1LYQSArBAYoouOuzzZNGkSiTiTjoiqjL+44eePUTrmxsTHCMKRrqmvjYV1dXQzNcb2zb98+vv/97xOGIQ899BBf+tKXuP322/nyl7885/d85StfoampafqxcePGk7of2ulX3z2J8kLszU0Lbvv8gZ3YYZJWBigmfQC6zXWEyeMP8NvCJhQ+lh1iyMx0OQqzs5NwfJyoWl3gE1YXHWjTlqVgeBiRTCISCbY/9a+0dXTR0dUz/botFJ1dPex+/eXp52RLC74OtGnasuUdKoMBZltjJcV9Y2WaQ0ndqRCNDyGzTciwRmg3FnCtmjUkBukgfr+se4hIzaghIU0bMwgARblqxTXaYFFZbWZ3t85o01adsFQiKpWQbW0zXyxMLedId1Cp1MBIUg88bLPxFDGtstTFURlqBkSmxHDjjDYAGdRImClCaWCoOgMjjQ0RZFM8V/XyUU2bhVeF2gRFr4lAFalPJXTLE1g6CtDmXMxvNJ/J1dl3YBsJxvfqrtqrXRRFdHZ28s1vfpO3vvWtfOhDH+ILX/gCd91115zvufnmmykUCtOPgwcPnsYRa6dC7aUxZIuD2bJwM4OBgTi5JWOMUzVsyn6edmvDCQXakoZNaARII0TJZspuQBRFRzqPHlxbWW060KYtS/7wEGZrK8ODhxgbGeTs89985MXhl+En/4Wuwg5Ghvqp1+ITdrOlBV93HdW0Zcs7VMJsTSCOuYDfN1KmKUgR2VXC4gR2Mr66CI4NtMk4Iy07VadNVuJ/P7aGhGHbmIEiNMpxRpvTHL9QWUSdtu5uvH060KatLv7AAMAcHUf7wEqCkyVw6yhpI4TAOWqeSmXikGjIaANQlonhekQyPiE3ggqOTOFLIKozeUxAzUhbIIUOtGnabIr9AJRqKYIoT22qZZ15Ahlt7VE3Z9tXE6mAjWYnV3b/LqVSmbBcWfjN2rLQ3t6OlJLh4cayOMPDw3R3d8/6np6eHs477zzkUU1vLrjgAoaGhvA8b9b3OI5DLpdreGgrlwoiaq+OLyqbDcDLu4TCQ5geXmAw6Q3TlFp/XI0QDktIC1BEwiUUrURKUK2UprPp/UNrK4irA23ashQMDSNbWnjlxedIZ7J0dq+PX/Ar8PIDkOuhIxv/APQf2AXEnUeD0VFUpGu/aNpy5B8qI9tm9gXePTxOxsthRhMAJCyP0GyszwYQGRF1wz0q0BYvPwsTjdtZVgIB+GroyNJRWFSgzezuxjt4EBUEx7t7mrZs+f3xBfysgbb8QUh3EkYKFbowdYF2dEZbSsVzriGjjbjzqPR8lGGhDAPpV7FlgsCMiFSVar7xwk4IgWxyCMZ1oE3TZigcIlIG5YoF/iQVGwzTQhjHd7lmKYvzw4soRMPsqr7EjsoQWbuN9ef8O2ovvXSKBq+dbLZt89a3vpXHHnts+rkoinjssce4/PLLZ33PFVdcwZ49e4iOuhbatWsXPT092Lrj7Jrg7i+g3HBR9dlqQZVUNY2yCgSJZsJ6nYI/RiLRgkxmF3z/sZIy/hvzqeETNzQs5ScxmpoQtj19LrJW6ECbtiz5Q4NEzU3s2/0aGzedc6RDYf92CFzY/H+RPOcKMoZL/8s/B+JAG0FAMLbw8jBN004v5Yf4wxXMjmMDbYrRsX4EBqZXwEhlcII8oTX7Ab5m1o8KtNWIHBNkYwdTZyrd3VfDcaBNmuBkF98QIQzX3MmAtrr5g4NgmhizZSpM9kKmg2KljAAi08CSAnnUGWKKuF7irBlt9TgoHRkORlDDQBBZJkpVCasBkVIN75G686imza5wiGrUglICyytSs8UJ1Wc7K7wAgaBf7MIWNeqhwau1F+lqvYTyL3pPwcC1U+Wmm27iW9/6Ft/5znd47bXXuP7666lUKlx33XUAXHvttdx8883T219//fVMTEzwyU9+kl27dvHggw9y2223ccMNNyzVLminWX33JEbKRLYuvGx0X2E/TW47KWOMwG4iqtUohZMAZJOzZ03Oxxbxje+6qhCJ+Dy+OHYIIQRme/uaa4igA23ashQMDTNgS8IgYMOZZ009q+DQ89CyKV7mkmiiJSkZGR4CFGZr69R7dZ02TVtuvMEKKDDbGwNtY2WPhF9FqQiKY8hMFhnUCe3Z78RV5VSgTcUZbTMaIQCOZaOAIByjVJ1ae5NoWnRGG4B34MBx7d9K9Itf/IJrrrmGdevWIYTgBz/4wYLvefzxx7nssstwHIdzzjmHe+65Z8Y2d955J5s2bSKRSLB161aeeeaZkz947bgEQ0OYLS0zM2NUFC9XS3dwYCw+uY6kgS0bt0upDB51ItGYMR5ZEjG1HCmSCWQwtSzNskHVSYUwXm7MatOBNk2bQ3GAkhmf8ybrRVyT4w60NUdt9KiNDIg+PEPgqLj4eK8/wGBlD/5oJ/7o2ipIvpJ96EMf4qtf/Sq33HILl1xyCTt27ODhhx+ebpDQ19fH4FFlczZu3MgjjzzCs88+y8UXX8yf/Mmf8MlPfpLPfe5zS7UL2mlW3zmJtT5zJEllHq8P7SXlN5ExxgjtJsJ6jTDy8L0SOWOW5kkLkIaBgUFdlRHCxBYRpbG4dIVsb8fXgTZNW1oqCAjGx+nzKrR3dJNMxdkrVMagPARt50xv29zWwbhn4o/sijPaQDdE0LRlyB+YaoRwTGHW3cNlmiOBZwyhfBfbiQ9LwRwZbVWzjq0snMjGrNSJZgm0GVIQSRMVFai6JlHEogNtsqUFYdtrItBWrVbZsmULd95556K2379/P+973/u48sor2bFjB5/61Kf42Mc+xiOPPDK9zf33389NN93ErbfeyvPPP8+WLVvYtm0bIyMjp2o3tEXwh4anj5ENKiNxlnimm0NjJUDgqQjHmtlxtM7Mrr2RaWIEEYSKyHQwgvgC3rASoHwyUcRQsTGoJnMOYd5FBbrMg6Y1KPZTMs4EIFMt4EmFaVkLvOkIqSRvCi+mRIEJMQKGxBDxvA2Q7CxuJ/LKTH5/NypSC3yatlzceOON9Pb24rouTz/9NFu3bp1+7fHHH59xw+vyyy/nqaeeol6vs3fvXj7/+c831GzTVq+w7BEMV7HWZxa1fd+huP6fLSenM9osJai5k2RV8wmNwcSkRhEASxiU8vFqErO9XTdD0LSlFoyO4qEYLhXo2XjmkRdGd4GQkFs3/VRL5wYUgrFXf46RzSJsW2e0adoy5PdXZm2EsGu4SHOQRBFfFCRFldBMoYzZTwprUw0RMn4KWakTOnNchBjW1EW/oFI3Fx1oE4aB2dWFuwY6j1599dV8+ctf5v3vf/+itr/rrrvYvHkzt99+OxdccAE33ngjH/jAB/irv/qr6W3uuOMOPv7xj3Pddddx4YUXctddd5FKpbj77rvn/FzXdSkWiw0P7eTyBweRLS0zX8hPFSbOdDBZrIFI4YWzdRzN4IqZWWjKjuep4flEhoMMPVAh0knFHxvWGC01ZrQZTTYoCCZnBu40bU0rDlBkA8r0Sdd8IqGOq+Popug8LBwOGnthKplFGBEQoQyLiJDCgR/j9RapvaLLrGjaauP1lQCwutOL2FpRn/BRRBhOQIRB5LpYfkQ9LJIhh1ALZ8Udy8KiJqpII8KUDsViPCazo4NgoB+l1k6QXwfatGXHHxxiOJdGoehZf8aRF8Z2QbY7rrc0JZvNYKAY63s9LrLc2oo/qANtmrbceP0lZOvMRgivDvfT5LZhBGPIbBOWN0Ewx7JRANfwCAnJeEmk68+6dBRAmDYyiJslTDdEqI4BCx/gza4uvN6+xe3YGvLkk09y1VVXNTy3bds2nnzySQA8z2P79u0N2xiGwVVXXTW9zWy+8pWv0NTUNP3YuHHjqdmBNSwYHJw9oy3fB9KBRBP1qgdGAgQ4Ry0dFUqQIEWdWQJtZnw8lq5PZMbZqjKoYTvxSb6lPEYmjs1oi+dsOKEDbZrWoNhPKerCs6uYfvyUNBeX0ZZQSdZHmxgW/XjCnX5eSQsl6pgiCUJQqA9jZEKK/7tXZ7Vp2irj9RUxUiZGZuHfjbHaOOl6DiULRE6aqB4fky0voqqKSCRpjr8hgi0sQuFhmxFCZihW498js72dqFIlWkM3U3WgTVt2/MEBhpvStLZ14CSmLsyjCPL7G7LZIL6IyyYtxos1qE1gtrbGRZ+1ZeV4azZ97Wtf4/zzzyeZTLJx40Y+/elPU6/ri7KVSgUR/lAVs71x2agXRBRK/ZihAbU8Mp3CiPw5GyEAIKBmuuTq8WdFc7Qfl5aNDCKUUkcCbX4dvMqC47W6utbE0tHjNTQ0NF0X5rCuri6KxSK1Wo2xsTHCMJx1m6F5Mo1vvvlmCoXC9OPgwbXV/v1UU0oRjIxM1zFtkD8ImQ4Q8Z1spjqGOUdltCVJYWDMmtEWTS0xFV5AZMSZN0ZQw54KlquoRn6y8X1GygJDEOhAm6Y1Kg5Q9FqoyhJi6qbQYmu0nRmeS4DPqGg8B1bSwqCORQLTSuDl0ih/P8FoDXf35EnfBU3Tlo7bW8LsTC2qPtuBwgFy9XaScoLAaiKsxcdqux5QFTUUiqxqOu4xOIaNkgFShmDkqPqKMAyRbW0Aa6rZmA60actO/dBBxrIputYfldVQHoTAg8zMDii5XBNjYRoGdsQZbQNrZwKvBMdbs+nee+/lc5/7HLfeeiuvvfYa3/72t7n//vv5/Oc/f5pHrp0s/lAFIoXZkWp4fs9ImSbqROEYqAjHVnETg/kCbcTLRzNBnDETObNfhJi2gwEoMUa5ZkGiOX5hMQ0RuroIhoaIPG/BbbU3znEccrlcw0M7ecLJSZTvz750tBB3HFVKQVAjkia2NBBHdxxVca2X2TLakAJlGBiuH2fOIJBBFctKoAQoVaNcaJxHwhDIrK0DbZp2NK8K9Tyleo6amMSVIBCIRdTWMpVFp1rHmBhCHdOwRAkLkypmlEaZknoyib/vRcz2BKUnBk7V3miadpqpSOEfigNti7Evv59svY2UjFeShPUaQhiYkSK0BXWqJxRoS0qLiIhIeIRGCwpBpVzE7IibK/gDa+d3RwfatGXn4J7dRIagq+eoQFu+L67PlpnZASXXlGMiTBH1b0e2teEP6Iy25eR4azY98cQTXHHFFXzkIx9h06ZNvPvd7+bDH/6w7ly4gnmHphohHNNqfNdwkdZIEEaDCMvGiUqEVgaM+e/E1WSdtMqghEFkm7NuY0/VtfHVEJXDGW0QN1VZgNnVBUrh68yqBt3d3QwPDzc8Nzw8TC6XI5lM0t7ejpRy1m26u4+/Tbx2cgRTNzVmBtrUVEZbF+PlEiifUEocs3H+pVSGAJ8Af9bPjyyJ9OLXDjdEEEIQSgOlaniVme8zspYOtGna0UqDKCUo1Rx8NYFrKqRpLSozpTvagEAwLmbewFTSxqaGqdJ4BtSkwO87iHN+C+7OSYK8O8snapq20gRjNZQfYbbPLNMym76BYSQmlpwgtLNE9RqGaSIQRE5cZy0THf+Nz8RUZnxAnUDF5x2lydHpWuo6o+00+dnPfsY111zDunXrEELwgx/8YMH3PP7441x22WU4jsM555wzo9MKHP8yNW1phWWP8jODjP7dywz+5bOY7vlkRYJM9qjJPdkL6XaYpUB6Np0iQlDsexWzrZVwbExnoiwTJ1Kz6e1vfzvbt2+fnrf79u3joYce4r3vfe+c36OLqS9v3qESZmtyRiOEV4fHaPJTqHAEI9uM7U0S2gvXg6iadQwhMZs65jyKOc5UoC0ao1QzwcmBMBad0Qbg9fYuuO1acvnll/PYY481PPfoo49y+eWXA2DbNm9961sbtomiiMcee2x6G+30C6YCn7K5ufGFyhj4NUh3sms4H28L2LN2HK1NF1c/lrIkwgsAiAwHI4gz3yLLJKKCdCO8sDHLRmZtwnEdaNO0acUBKlELUWRAVMA1F1+frStaT4FJQhHMeC0yLCxqGMrERVEPA8IwwDAmEZZB9Tld11jTVgN/oAyA2ZZYYEsARWUiDrIbdh1lmIS1GlJIFAJlmdSoxjXajrOUoyPiQJurKvjEN7lLowcRQsSdR3Wg7fSoVCps2bKFO++8c1Hb79+/n/e9731ceeWV7Nixg0996lN87GMf45FHHpne5niXqWlLR0WK/EP7GLztGfL/7x6ikofVnaLJOYtfX/9RRHTUWX3hIKRnZrNBHGgDmKj6mFNBfN15dHk4kZpNH/nIR/jzP/9z3vGOd2BZFmeffTbvete75l06qoupL2/ewdKMO2xKKfZM7iVXa4KggJlMIKKQwFr47tnhzqNOrmvObSzLIDQMwmicctUEw4BEblEZbbK5GWHbeH2ruyFCuVxmx44d7NixA4iPsTt27KBvar9vvvlmrr322untP/GJT7Bv3z4++9nP8vrrr/P1r3+d733ve3z605+e3uamm27iW9/6Ft/5znd47bXXuP7666lUKlx33XWndd+0I/yRERAC2XTMEpD81N93upPB8SoAHuDImYE2V8wdFFOmxJgKtCnpIIP4s4RpEqoqqchgsnJM59FcvHR0LXUf07R5lQYphvExzfTjQJthL1yfLalSZGkib8x+bFOGhZyqr+gjiFSE5zh4ffuxz2qi8uyQboqgaauAN1DByFgYidlXehxtsp4nWcuijDpMNRWLajWsyEBZEgTURQWJSZLFLUU9zBISA4M6VYSQOCKkND51w6+tjWAN1VJf0kDbe97zHr785S/z/ve/f1Hb33XXXWzevJnbb7+dCy64gBtvvJEPfOAD/NVf/dX0Nse7TE1bOsXH+ij/rJ/UpZ20fvQCmt53FuG5Js9P/B+SZgvWoRxhqBgbqlGuyDijbRaObWFbJpNhChnEE1kvH125Hn/8cW677Ta+/vWv8/zzz/PAAw/w4IMP8hd/8RdzvkcXU1++onpAMFLF7GgMtA0WaiCGSdTjO2qOHaGA0Fy4JXlghARhnURq9uD7YcowUVGJqmsSKY7qPDo/IQRmVxd+3+r+O3rhhRe49NJLufTSS4E4SHbppZdyyy23ADA4ODgddAPYvHkzDz74II8++ihbtmzh9ttv52//9m/Ztm3b9DYf+tCH+OpXv8ott9zCJZdcwo4dO3j44YdnBNu10ycYHsFoakKYx5x8Fw6CtCDZQrHggrBRAhzrqJtcClJkZq/PNiWyJMZUFnkkHYwgDsoJ2wFVI60U4+XGQJvM2igvJKrOzMDRtDWpOEBJnAGA7RXjjLZFBNo6oh5CQorkZ99ACAxjamm3iIPoXmcb7r59JM5vJSx4uHvmeK+maSuGP1DGbFvcstGDpYPk6m2YcpLQyhCFIZHnYYaKyInPFWrEN80y6jiXjwqQmFSJVxfZhqBYmABAtrbiHVo7GW0LhzyXkSeffLJhCRrAtm3b+NSnPgUcWaZ28803T7++0DI1iJedue6RGgV62dmpF5Y9yj87RHJLB6nLOqefH3r1ZWpeHtccIDG6gRf78oyUAa7njMkJLmyrz1i+IoQgm04x4bdh1vYCa6vQ4nJ2IjWbvvSlL/Hv//2/52Mf+xgAF110EZVKhT/8wz/kC1/4AoYx8/6A4zjTSwW15cU7WAIFZnfjHbFdw2WaRB0VjiKsJE5UJrTSC9ZnA0CBVy+QTLYBc2evCmkhgipKCWp1SdppgvLCS0cBzM4OvL7VvXT0ne9857wZRbOVZnjXu97FCy+8MO/n3njjjdx4441vdHjaSRKMjGAeu2wU4oy2dAcYBl7NAyOJEGAftcTbIYGJiSuqc36+Mk0MNwTiQJtAYYR1pJVAhUWSCsYrjXWgjEy8JC6crCPTi1sep2mrWnGAojiT0HTJFCNCA4xFLB1ti7ookZ/RBOFoygAIMAwbw5B4TRm8PXsxO5PI1gTlpwZInDdLsxRN01YEpRT+YBnn/Fm6i88iDrS1k5IHCe0c0eGOo16EsuPfnUD4+HikVZbRec61Z2NhUacEgCkdiqWpZa3t7dRffPG4PmslW1HNEIaGhmZdglYsFqnVaie0TA30srOlUHl2CKUgeXFjltrArtdIeT5utkotCjjXbOGMpp10Gs/SN9HCzoOz129Kp5LkoxRi7FVkc/OaKrS4nJ1IzaZqtTojmCanljLpZUYrj9dbRCQksqkxELp7pEBLKInCYYxcE9LLEy7QbfQwEYT49TxJa/4TCmnayDDOpIk7jzYtqkYbgNnZpWu0aauCPxJntM2QP1KSQbl1ImnhHFNH8UjH0bmXjkaWREQRIgiJZDzPjaCKaacwVEgigvFSY6BNZuJMnVAXYte0WGmAYtRDzaqQcuN5KK35A22WssnRTFFMzv/Z0kaIOhZJTCeB69gEoyOoSoXEBa3UX5sgyOuaiZq2UkVln6gSzGg6NpcDE/2kghyWzBOamelAm1P3Ce0jvzt1qqTV4s7Nj2YLE9+oY8kIKVOUa/G5uNnWRpjPE1Xnvnm3mqyoQNupopednX61l8Zwzsg2rCMPfY/xoSHSdY9fHFDsrxbpslKMBxWezPQxlvgl+wez9E/MzHjJpJPkXVDVSWRLTme0LSML1Wy69tprG7JQr7nmGr7xjW9w3333sX//fh599FG+9KUvcc0110wH3LSVw+0tYnWmZnRO2znWS3Mth4oKyFQSGXpE1sLLRgGMmofnFkgYGYSa+zAmLQczVCjlU66ZkDy8dHThgK3Z2Yk/MIjyZ++0qGkrRTgyMrMRAkzXPvWjCMIKkWFiWzMDbREh3jyBNmXGv8vCDYiMqUCbX0PacRarUC6Tk43vFwkJpiCY1IE2TQOgOEAh6KBs5Un48TFqoWYIraoDgVgw0BYZFiZVrChDaEoqxNlv7v4DJM5tRlgGlad0bWNNW6n8oQrAogNtYyMFACyzQGglCWtVhDQx/YjIOnJtXhe1Ewq0JQwbZQSYMgSZo+IrwjBEtrVNjXdt/N6sqEBbd3f3rEvQcrkcyWTyhJapQbzsLJfLNTy0UyeYqOMPVLA3Nf53Hj6wj0iFmJFNhixlp0aREhcl3s561yRj13DNMXbszxCEjZ+ZSaUII0VZJTCT4B86dBr3SJvPQjWb+vr6GDyqMOYXv/hF/tN/+k988Ytf5MILL+QP/uAP2LZtG//9v//3pdoF7QSpUOH1ljC7GpeNemHEiNtLUzk+mB8uQxMsMtAm6x5evYAQBinmfo819cERY3GgLdEMoQ+1woLfYXZ2Qhjir6Girdrq5I+MIFuOWRZWL4Bbgkwne0dLoOoEhoEjG08L0yo7b8dRADV1Ui59HwxBKC1kWAMrnn9K1SgVGgNqQghkxibUWTSnxZ133smmTZtIJBJs3bp1uqv3XPL5PDfccAM9PT04jsN5553HQw89dJpGu0aVBim6LRStcawgDrQttHS0JWqnSplglm6jR1OGjUUNK0zhG4pKrYpwEnj79yEsiXNuC5VnB1HB3MtPNU1bvvyhCpgGRnbhuo6hClCl+KAunBAQhLXa9O+Nso8KtFElSWrem9qzSUqbSERg+CijGRCUSwXMw4G2/rWRELOiAm2XX355wxI0gEcffXR6CdqJLFPTTr/67kkQYG08EiEfLNT4waNPQSQot1yINMDJ1nk+2M46Yx0XOBdRKkvSuWFkkObpg42FmbPpuPhjPrEBU1b00tFl5sYbb6S3txfXdXn66afZunXr9GuPP/54Qy0o0zS59dZb2bNnD7Vajb6+Pu68806aZ8vI0JY1f7CM8kKsnsZg2MGJKsIaIVUPQDrYqkoobZSxuFpNsu7hBXHth/nutNnO1PI0NXIk0AZQWbgLtdUZ1470VnlDBG11U2FIODExM6PtqI6j+4fiurS+ENhWY9ZwWmWoi7kbIQBEhzPavPgOmDIcZFBDmFOBtsjFLc/MDDUyFsGkDrSdavfffz833XQTt956K88//zxbtmxh27ZtjIzM/jvoeR5XX301Bw4c4Pvf/z47d+7kW9/6FuvXrz/NI19DooiwNEHFTVKxCxBFmBgzMsEbqDijrSQWvnEUSRuTGlKlqBHiujXo7sQ7EJdHSFzYRlQJqL28cLMgTdOWH3+wgtniIBZR53i4MkKm3gKyjHLi6+ewWsWcWjUU2Y0ZbYL5b2rPJiGnzr9x8Ylv9JXy4/FNP8PAH9SBtlOuXC6zY8cOduzYAcD+/fvZsWPHdJezm2++mWuvvXZ6+0984hPs27ePz372s7z++ut8/etf53vf+x6f/vSnp7dZaJmatvTcPXnMzhSGHU/o14dKfOH/fZlUYYA0FpXketI5GPH6GFOjVIJBznN+lZQtmSjXCRLD5Ed7qPlH0tqSCQfDMJg0uzDVKP7wsF7ypWlLzN1fBCkw2xu7IO0fq5AxyuCPI1M5TK9ItIhuo4cZdY/ABA933kCbYzsowI+mMtqSzfELi6jTJltb45OBQzrQpq1c4cQERNHMQFvhIAgDUm2MTWWVBcLAOXp5voIU2Xk7jgJgCJQhMLypzobSRgQ1xFR9qZAyYTWc8TaZsQn10tFT7o477uDjH/841113HRdeeCF33XUXqVSKu+++e9bt7777biYmJvjBD37AFVdcwaZNm/j1X/91tmzZcppHvoZURin5rYCgahWIiJDG/KUy0mSxcSiJ/IIfrwwbSXzB7Ip4LnptrXj79wNgNjuY3Skq24fn+xhN05Ypf6iCbFncstH+cj85rxXbiOuzKaUIazVMJVFCTJeDgDijDea/qT0bR8SBNo8avmoBFKWxfoRpIpubCfTS0VPvueee49JLL+XSSy8F4iDZpZdeyi233ALA4ODgdNANYPPmzTz44IM8+uijbNmyhdtvv52//du/Zdu2bdPbLLRMTVtaSincffnpDJfxssvt/3snG5IhKb9EJDuRIkSm6kzWR2k3koy5L5KmiYuzm/CCCMueREZJtg8cKaQohCCdTFAQWaQsxUu+1sgk1rTlyt2fx+pKIY5ZjrZnbIxm30FFkxiZJky/RHgcgTZZ94gckzo10lPF2mdjSEFkGITROKWqBVYKpLWoQJswTcyODp3Rpq1o/lTW0sxAWz+kWkGa1EouykhgSMlRpVmwceLOYfN0HAVAQGSZGF68fE3JBDKoIoRAmSYhZQw/wg8bl6XpjLZTz/M8tm/fzlVXXTX9nGEYXHXVVTz55JOzvuef/umfuPzyy7nhhhvo6uriLW95C7fddhthODNYepjruhSLxYaHdhxKAxTC+DolECU8qTCkOe9bmqM2IiIqlBf+fAGGjIuRhyI+HtfTKcKJccJynB2eOK8Fd3eesKCD35q2kqhI4Y9UF12f7WCpn2y9lYSRJ7QzRK4HKsKKprLZjkqKC0WIhzvdGGmxLCExMKhTJVA2CRFQGo8D+WZbG/7A2ijLMv+v+Cn2rne9a94ugkcvJzv6PS+88MK8n3vjjTdy4403vtHhaadAMFIlqgTTgbb/9XQfQgiubK0zisBzNtFqlxh1JzCEQVuoqIkCRfKczXnsTB1kvFohZ40zOdaO2lifTpNNp+KGCGYq/pvyDx3C1h1kNW1JKKXw9hdxLpjZGXTvZC/rShmghpk2EcWIcJH12SBuhhA0paiLKhk1f01NJU1UVKZSl0QIjGQLlBfZebSjA++omz2attIEo/Hfujy262jhEKTirt9R3UUZDglz5rJRYOGMNuKGCGIq0BZJByPyQYVgWUSqQoqQfNWnI3uk+7CRtVD1kMgNMJwlPR1dtcbGxgjDcMbN5q6uLl5//fVZ37Nv3z5+/OMf89GPfpSHHnqIPXv28Md//Mf4vs+tt94663u+8pWv8Gd/9mcnffxrRmmIYtCNEhG25+NKsMz5ay01q1aqlFFicXXVhIwgUEgsnATUTEkW8Pv6kBe+GXtTE/x8gNrLY2Su0MuENW2lCMZr8dxebMfRsUHOCs7EtAv41nrCYnwzzfYaGyEc5i5wU3tWAiQmLmUSQMJQlPITQLxiZK00LVxRNdq0lc89UIzrs3WlODhR5cl94/xf57ZTO7QfYeRI1fPIFIzVh2iy27CCKpGZYMToJ0OOs9PdKAXKnsAK2tiTP3InL5NKkC9XMbvWgQBPd4/VtCUTjFSJagFWd2MALVKK0fohmkoWCIkt4yyJyEzO9jEzRQrD9Ylsizo1kqTnLdIqppaxKWVQrUtwcouq0QZxoM3XgTZtBQtGR0GIWQJtByHTQRBGEJSIpIltHttxNLtgx9HDlCWRU4G2cKo2y+E6bUrVSSnFRMVreI/MTNVwyesMmuUkiiI6Ozv55je/yVvf+lY+9KEP8YUvfIG77rprzvfcfPPNFAqF6cdBff51fIoDFKIealaZlrqJJ8Gw5qlZqqBJtVIWi88cVNJCCBdbpTBsh7IbL+/2euP/V4YjsddnqOo6bZq2ovhDcaBssRlthYn42tk0yyjpENaqIAwsN0DZM5es10X9uDPagDgjfirj1jJMilPZs7KtTddo07RTwTtQxGxPIizJo68OkU1YXNSVoXzoAIZspjm/izEjjyKiyWpFhC6RdChTpE6VjWoTLWmbQq1AKOrsGT7yg5BJJalUawQtZ2EmlL5A1rQl5B4oggFWZ2PH0dGii7JGSdV9DCuLDEpTjRDmr0dzmFHzEMTp7a6oIRDzFmk1LQcZxhf45aoV12krLzLQ1tmJd/DgvJnXmracBaOjGLkc4ujaa6EXz4FUBwcmXIgK+FLimMffcfQwJeVRS0fjrDUjqCLtBER1kkoyfkygzchM1XDTgbZTpr29HSklw8ONtbeGh4fp7u6e9T09PT2cd955yKP+Zi644AKGhobwPG/W9ziOQy6Xa3hox6E0SFFtpGzlaa1ZKAMMx5lz8yRpbBwqxxFoixsiVDHDDIFpUCrmMTu78Hp7p7exN+XwDhQJK7rGsaatFP5QBZE0MZILZ4YrFIdXmxuJqRvd1SrScZD1+Cb2sVyqUze1F3EycBRbmNRl/BslzRSlanysN1tbCYaGUdHq73KsA23aaeXuL2B2pfCCiJ/vGWfL+hzDT+4E5dFkmxiWZNgdpMlqxQk9BIpQJkHAuBihXXXRnkxhCAisMcJyN2EU/1CkU3FGTDGxATPh4+1+ZSl3VdPWNG9/AbMtibAaDzN9k1WkOY7hFxGpHKZfIpKpOT5lJlmPL/Qix5pe0jbfnTbTspGRQimP0uHOo4vNaOvsRNVqcUF5TVuBwrGxmfXZSoOAgnQ7eweLgMLHmCXQtnDH0cMiSyKmmiEow0IJEddpsxwMFZCIJBOlxoCakbJAQKADbaeMbdu89a1v5bHHHpt+LooiHnvsMS6//PJZ33PFFVewZ88eoqMugnbt2kVPTw+2Pf9yRu0EFQeZCLup2Hmap6bDfIG2JtWKQi2uPtsUZTiYVLGiDDURUKtVUe1tDeUR7DOyoKC+Ux/zNG2l8IcqmItshDBRmyDtNYFRJZr6jQmrVQzbxgjCWZeO1kUNA4MEiz9XB0gYNpF0kUaEITNU/YgwCJBtbSjfXxPn1jrQpp02Qd4lzLtY3WlePJSn5oe8yU5Q6tuLkDbpWoWqDYqIFqcTIyijECgjPrHLi3EMDDpFJ00pm2qYx4wy7JxKgT0caCuQxUwpvH27l2xfNW2tcw8UMbtmHpR7x/O01wxQLjKTQ3olImuRy0YBWXNRRtwVKRQBPt68tSMse+pEQo1QrlmQbIF6EYKFl8OZnZ0Auk6btmIFo6PIpmOyi4pTSzbS7YxOVACIpIVjNnYcTZOd7ji2kMiUGEEIkZr6vATG1NJRGQYIJcgXGuecMARG2tIZbafYTTfdxLe+9S2+853v8Nprr3H99ddTqVS47rrrALj22mu5+eabp7e//vrrmZiY4JOf/CS7du3iwQcf5LbbbuOGG25Yql1Y9VShn5LfSsUukJlKJjNmySw5rClqoUaFSMzdoOJYcUZbDUulKRPPuXpTlmBwABXE2ahGysLsSFJ/bfVfAGvaahEMVZCtcwfmjzZYHiTjNmMaBaLDHUerFaSMf2+UPUugbeqm9vHWaUsYdtxBWQYosxkQlEtFzNa4drM/uPqbFp5QoG3fvn0nexzaGuAdKABgdafZ3jtJR9rBfS0PDJNo7oLCOAWrTnuiBylMDL8aL0GZylT1hUeFEh1RD80pGz+qEQqXvvH44sC2TCzLJF+pY7Y14w1N6CVfb4Ce59qJCotTQfWumUs690z20VmIL/xlLoERBUTmcWS01eKOo4d/F+rU5s1oc6bu2AUMU66a8dJRWFRWm9nRAYC/zOoN6bmpLZY/PILMHVufrR/MBNgZauUaSjiY0uTo1aU2DibWojPalBW/2fCnGiIYdhxos2ziwqo+pcLMZYdGRgfa5nKy5vmHPvQhvvrVr3LLLbdwySWXsGPHDh5++OHpBgl9fX0MDh7pALdx40YeeeQRnn32WS6++GL+5E/+hE9+8pN87nOfOynj0WaqTpSIIpuqXcDxQ1DM23W0SbVSEaXj+xJhYBgehrKoGS5CGFRtC6KooTC5fUaW+q5JVLD6l3WdSvo4rZ0Oyg8JJuqLzmjbM9FPxm0hYRQJrAyR56HCEHMqJDRbRluAT0Bw3HXaklP1WiPho4wWAErFPHI60Lb667SdUKDtnHPO4corr+R//s//Sb2uW7Nri+PuLyCbHUhItvdOcomTwCtWCL1xyqaL9ANUKkPOiiegGVSIzMYfjqLI06LasA1BxpH4cgKv3ApKIYQgk0qSL5Ywe9ahfEU4vDbaB58Kep5rJ8o9ENdksLpnBtAGKgdpLlsgkphG/HcVyuPLaIuOWr7kivkDbZZtogA/GqVYNeOMNlhU51EjmcTI5ZZdYxU9N7XFCkZHZy4dLfZDuh2EIKxVUWZilkYIi+84CnHXUQDhHqnTJoMqWPFcVapOrTyz7pNMWwST+m94Nidznt9444309vbiui5PP/00W7dunX7t8ccf55577mnY/vLLL+epp56iXq+zd+9ePv/5zzfUbNNOrkI+vilck1XwfUwlEGL2ekiWskmRpsJxBtoAMdV8yIgMUuk05TCer0ffTLLPyKHcEHfq5rh2YvRxWjsd/OEqKBbdcXR/vp+014wli4RWmrAaH+PtUKCEmL5p1kDEnUePN9DmTK1IC0QdXzQjUBQnhjCyWYRtEwzpjLZZPf/881x88cXcdNNNdHd380d/9Ec888wzJ3ts2irj7o+XkvWOVSm7Ae35EJkYB6BUj7scpZs3ACBUiBHWZ1yAl0QeE4usaqIpaVOPCthBO32l+IQjnUyQL5YxN54HgPfsw6dr91YdPc+1E+X1FjGydlyD6SiRUhSDYdL1CMPOIf14eXhkLi7lHeJmCKFz5HPr1OJmCHMkrwohiKQkjPJxoM1pAmFAeXEHeLOzE79veQXa9NzUFkMpRTg+PrPjaLEfkq34gYJgklDajctGiQNtEdGiOo7CLBlt0sEI6nFGGxBRwa/OktGWtQl1oG1Wep6vEV6FYj3O8g5MnyDwMMXcl2dNKr5ZdNwZbYBhxoE2S6UwEwkKxTxGUzP+oUPT28i2BEba0stH3yA9f7XTwR+e6jjasrjz6MnJAhIT06zEHUerZRAGZhDFy0bn6HdQX+Cm9mwsITEwCKjhhmkSwqc0PoQQAtnaij+w+pNhTijQdskll/DXf/3XDAwMcPfddzM4OMg73vEO3vKWt3DHHXcwOrpwpoC2toQVn2CkitWT5qX+Ai0YREWfcrgb1xacGbYTWRaRE5+US/9w3ZjGCH2VMgEBLaqdjCOJqAIReyeONEQolMqYZ54DKLwdPz2du7mqzDXP3/a2twEwNqZbwGuzc3uLWLPUZxsreRjGONKvIJJZpFeekbU6rzBCuj7RUTUkXFHDQM5fpFVaiLCE61n4kYwbIpSH597+KGZHx7LLaNPHYG0xomIR5XmzZLQNQrqd3SNlUFV8Q87MaCODS31RHUch7jqqAGOqIUIkHQQKacTLzwJK4NVnlHMwMhZh0UOFepnasfQxeI0oDlIIuqmbZZKGgx/5SDF39mCTasWlji9m7wA7H2U6GNSxowyeFJSKeYz2NryDRwJtQgjsM7LUXhnX5VfegPmO0//tv/23pR6etkr4QxWMnI2YLRNtFtMdhZ34ujmsVpGJBLLuEc7zGe4CN7VnJUAqE5cqXmCSNHxK+TjBRra24OuMtvmZpslv//Zv8w//8A/81//6X9mzZw+f+cxn2LhxI9dee21DzQdtbfOml5Kleak/z1tMBwxFVB5GZJtIF12CzJELZRmUUUKi5DHFYAVUKNKkWhEGpBzwjAKFQlwLKpNK4no+ngKZNvF2vnTa9nG1OnaeH647ceGFF+p5rs2g/BB/oILZOTPw1Z+v0upVAIWRziH9CpF5PMtG4wsL5RxZOrqYzqPStBFhnDVTrk0tHy0tMtDW2blsmyHoY7A2n2Aq4GocHWgL6lCbgFQb+wbjjJXAkDM6jqZUGneRy0YBEPHyUcOLT94jGd9dl8oFQxJQJqFCivWg4W0ya4NC12mbhz4Gr3LFfibDbsp2gZzM4KsIacwTaItaqYrFdxs9WigTmKKCFWYoC58oCvFamvEPNd5Msjc3EeZd/P4T+x7tiNmO01/84hcB+KM/+iM9f7U3JO44urhsNj/ySbg2EEEiPuaHlQqG42C4PszSCOGwuqhhYmGz+BUoACYmrohXrziGoFSM4wFmSyvBGvjbf0OBtueee44//uM/pqenhzvuuIPPfOYz7N27l0cffZSBgQH+7b/9tydrnNoK5x4oYGQsSFvsGi7T6QlqTj9WAJncOqxiCT9zpHC69MuEc2S6VESJJtWCUIJ0wsKlgOV2U/br051H88UyVmsOb2gCKvqu7xtx7Dz/j//xPwLwgx/8QM9zbQavvwyRmjWjbe/EMJ2lJCAxsmnMoEwoF5/RJqvxxXiYOBKA9/EICefthiRNBzOI7+IVq1OdR0uLXzoajo0R1Y4j6HCa6GOwNp9gKuOpYeno4b/7VCvjEyXAIhQzM9rSKrPoRgiHKcs4ktFmxCfjhh83RFDUSCrBZKUxC0dmp2q46OWjc9LH4FWuNMhYuI6qVaBFpvENhTRn7zhqKEmGHGWKJ/ZdhkRSxwlzFEUVIQTlhE04OUlUO9Jh2OpJIxxJ7eXxE/sebdpsx+kdO3YAMDg4qOev9ob4w1XkIhshDJWHSXtNCFlC2empjqNVjOmMtrk7HbuLuKk9G1tYuFM3BizpUJqqCSdbW3VG21zuuOMOLrroIt7+9rczMDDA3//939Pb28uXv/xlNm/ezDvf+U7uuecenn/++ZM9Xm2FcvcVsLpS9I5XEH6EWQ0pBLtACJIBiEgRNGUB4uUmfplojgLpZVFEYpJROdK2SUAZqRLsnKiQTsU/NvlSCbOnB7dowr7HT9duripzzfMvfelLALz97W/X81ybwestgWnMWph1f/4gLaUEQmSQdoCIQtTxZLRV60SmBHnUerapIq1JNbPD6WGWbWMoiFSJ0uFA23EsHQUaatgsNX0M1hbjcEZbY6Bt6g5yqo16uYySGWxTIo86G5RK4pA8vow2IDLN6RptGIJQWshwqvModVKRZOKYQJuRiU/swwmd0XYsfQxeI4r9lMJuKnaBrsghMsCYI9CWU80YGFTECQbaAEN6mCpNNSyRTKUpEy/b9vv7p7cRhsA+M0f1l6N6+egJmu84vWnTJgC+8Y1v6PmrnbCo6hMVvUV3HN05fpC034xlFAnMNFG9BirCsB0MP5y14+hhLnUiohMKtPlGHGgzrTRVLyIMAmRbG8HoKCoIFviElW3u/6Lz+MY3vsF/+A//gd///d+np6dn1m06Ozv59re//YYGp60OkRfiD5RJv30dO4dKrFPxGb30JhGZHM54ntCxCZ2ppSZ+FaEiInP2mks1KkRENKkWSrKAKV0i5TE0afLWLkky4ZAvllnf3UXlOQu181HERR84bfu7Wuh5rp0It6+I1ZlEGDOLOw1VBlhfUwgrg4ziA+/xZLSZVZcoMfMCxBX1eTPabMehDvgMUqx0Q2sruCXwKmDPHaCDOKMNwDt4EOfccxc91lNJz01tMYLRMUQigZE4ao4VB0A6YGdQbpHIasKWjfdcD9c7dMVxZpmZcrrrKIAy4s6jwrQR9TpOaDFeaQyoCWlgZHTn0dnoeb42uOMjRNGlVKwSzbUMY4A4qrP20ZpVKwH+orsBz0aaEQQSoSCdzVGollknDPxD/TjnHDnGOWc34e6axO8vY2/InvD3rVWLmb8dHR16/monzB+Js1AX3XF0YoCM24pjDBDaGcKJqbJOU3lXypknLCTiYFuK+c+Zj5UwHHw5hkAhzCagTqlUwGlthSgiGB3FmmN+rAYnFGh79NFHOeOMMzCMxpMzpRQHDx7kjDPOwLZtfu/3fu+kDFJb2by+Iqi4PtuuFyY407Dx7DLZyQjZ1UJiZz9ee8v09tIvooQxoxHCYUooqpTJqRbgACnHxIsmodJKGAVkUknyxRJmdzcqAv/Fn2D/OwVztErXZjffPD9Mz3PtaEopvN4izjnNs75erw1hBj4i14Thx4G2w7WcFkNWXcLkzO3r1Gijc873OVM13Tw1RLGyATa0xS+Uh6D17Pm/s7kZYdvLqk6bPgZrixGMjiJbWhqfLA1CupVKrQ5RldDsIHFMAeTD2aHuIjuOHhZZErN2JJAWSQfDr4LdjlEtYWIyXpiZuSaztg60zUIfg9eGwtTFsmfWEeX4PNWwZz8uNqlWypQW3aRkVhZQBzvKECRMisN5aGnBOyqjDcBal0EkJNVfjulA2wlY6DgNev5qb4w/VAUDZNPsgfljDZRGuNjfhEzvITBaCCsVhGlhBvExZb6MNphqiHCcGW0JaUEIhgxQsgUYplTIk2ptjfdhcGhVB9pOaOno2WefPWu3o4mJCTZv3vyGB6WtLu7+IiIhkS0Oe4bLtPpQZD9GpEiEAiMI8FqPCrR5eUIzOe+JRFUcDrRB0pG4qkAi6KKvPEkmlWSyUMbqjCexO5SH4VdO5S6uSnPN88nJySUYjbYShJMuUdmftRFCzQ9J1+K/HSOdxQxqcTbbYgPgkcKoeQ312Q5zqWHjYKrZl9sIKVFCEKhx8hUTUvFvw/QyunkIITA7O/D7lk/nUX0M1hYjGB1F5nKNT5aGINnKzoERAHzDnFGfLalSBASEHN+SDiWPNEOAONAmwxrCtDHCuHZbYZamB0baIhjXgbZj6WPw2lCYiOeZsnxUpQIKjFluKAklyKmWN7RsFADLxMDHDnMU8VBKUWttxu8faPw+Q+BsaqKml4+ekPmO0xdffPESjEhbbfzhCrLJQcjFhXOq5RICA8OOf3OCSjmuz+Z6KARqgc6ldVGbd/XIbFJTN9OV4RHKVgSKUmECcyrQFgyv7jptJxRom+sHt1wuk0gsfhmQtjZ4vUWszhSlekC55GJ5iiAaBEOSHZnEz6QJkvHfjVAh0q8SWfNP5IookSCJrRySlsRXZUCxZywik05SLFcgk0bYFl45Aft+chr2dHWZb55r2my8vqk09FkaIQzla7TVfBA2IuVg+OXjy2ar1BFKESVmyWgT8xdpFUKgpIkKC9Rdm8BIg5WE4uI6HpkdHcsqo00fg7XFCEZGGuuzQbx0NNVK79AECIcAcOSxgbY0HvXjzpqJLImIIkQQ13xS0kFEAYYpEWEIKqRSnBlQkzmbcEIH2o6lj8FrQ7Eg8Y06jmUR1WqYEahZipJnVRMSSfmNBtoESFEjGTYxERaQpkkp5RAck9EGYJ811X30kP6bO176OK2dav5QFdm8+L8lUY9vhAkn/tsMqxVkIoGo+ShbLnjMd6nhkESq+QNyR7MNicAgxMVVaZLCpzQxjEilEIkE/uDqDrQd19LRm266CYgvWm655RZSqSMXU2EY8vTTT3PJJZec1AFqK5uKFF5fieSWdnaNVmgL4xN6268gE2mcQwXKm8+Y3t70CggUoTn/GvAq8UE/p1rwjCEcW+EHearFHJkzqiilKFWqWJ1tuJ4Je34Mb/+Pp25HV5GF5vkTTzyxVEPTljm3t4hsdjASMw8teydGaC3bCJHFcASyWiV0mmb5lNmZlZkdR6e/lzoKRYo0RWbP9jCkjRHGS3RKNYuWVBuUBmbddsZ3d3RSf/31RY/1VNHHYO14BKOjjXUFoxAqo3DG25icLCKMFiJCnGMz2kgdf302QJnxybfwA5RpE04F0qUxdcGp6tSr/oz3GU0OUcUnqgez/nasNfoYvIYELuP1HGW7QE6mCetjmBGzpkE0qVZCQmpU3vDXSumRCHOMBK9wZm4DRc+nMz9JVK1iHPX3ZvWkEQlJ7ZVx7I16+ehiLOY4fdFFF/H0008v1RC1VSIYrpC4oHVR29b8OinfASJU0iTyAyLXxWhPICdLRPbCx966qIGCJOnFdz4WcbdkX9Rxw1aShk9pcixeLdLauuoz2o7rjOaFF14A4ij9Sy+9hH1UsU7bttmyZQuf+cxnTu4ItRXNH6qgvBCrK83egUm6hMSTdVLFgKQICR0Lr7V5envLnSCSCZQx/5+mLzw8XHKqiTGGSFkmtTBPyt1ATcYXxJPFErmOFrzxOvT+HPxanMWizWuhef6Wt7yF5557bqmGpy1jXm9x1mWjAPsm+shWBELmEHaIDOt4smvRny0rdSLHbOw4OkWJCA933toR0rKR9QIAxYpFS7I1zu5ZBLOrC//HP0aFIUIu/k7eyaaPwdrxCEZHSf3qrx55ojoKKkIlW/EquxBWB7bpI465qE+qNAUxftzfp8z4uC1dnyhpo6bqrEoR30X3KKC8JEopxFFLxmUu/jsOxuvY649vWcpqpI/Ba0ixn9Goh6pTpNXMEHguco7FRk2qlcobrc82RVgRIsgRUieZyTLafxAF+AONDRGEIbDPyFF7dYym39z0xr94DVjMcfoTn/gEl1122VINUVsFwrJHVA2Qi+w4umv8ECmvCSHLRFaasBonrMhkEqM+jlqgPhsw3Yk8rbLHlVlrYuKLKvWgmzbhUyzEN8RlS4vOaDvaT34SL7+77rrr+Ou//mtyx9b+0LRjeH1FMMDsSLL/pUN0KkHV6CMVRaSLVdyeddPbChUi3QJ+omNRn12lTPZwnTZbkq8UyWCxZzLEtkwmCyXautoo7dyHCjxE35Nw9r85Jfu5miw0z4vFIvfcc88SjExbziIvxB+skHlH86yvj40doFkphJNFRvHBOjKPo+NopUY4y7LRw+oLFGk1bRuzHBFSp1CxINUGQy8u7rs7OyEI8AeHsDesX/SYT7ZTdQy+8847+cu//EuGhobYsmULf/M3f8Ov/dqvzbrtu971Ln7605/OeP69730vDz74IAC///u/z3e+852G17dt28bDDz98UsarLSyq14nKZYyjl45OLZUuRimIAiKZxJZhw/uEMnBI4DKzltqC32nFAQLhT9WcMiTKkEjiLLbAKJFUDoWaT3PqyMWnbIrndTBW04E29DF4TSn0Uwq6qWT2sz6RJQgDEsdGvgEUNKkWxsTwSflaw46gJrCjHGUREoQBVdvC7x9oCLQB2GdmKe2axB+rYbXrm9ULWcxxulh8g8t/tTXPH5rqOLrIQNvu8X4yXhOWKBHaaYKJURAGwnGQdR9vEZ1Lo+mb2sfXedTCxBUVgtAgIWG8crhbaiv+0OJKuKxUJ1Sj7e/+7u90kE1bFK+vhNmWRJgG+0crZH2FH8XRa0cZuG1HUl6telw0NLAXl55eFWWyqilOY7UlkfAIZZF8oYlsOsVkoYjV2UZUdQlEG+zVddqOh57n2vHw+kqgmDOjLZqM572RymEE8dKXRddoU2CWa4TJuTsruQsUaXUcBwF4YpBixYZ0O1Qn4kzXBZidcUdTv693ceM9xU7m3Lz//vu56aabuPXWW3n++efZsmUL27ZtY2RkZNbtH3jgAQYHB6cfL7/8MlJKfud3fqdhu9/8zd9s2O673/3uSRmvtjjB6CgQd82dVhoCYTBSiYNroXRwjil+nCCBQOCdwNJRDAMlRGNDBMNGUgchiKiSjASj5cYgnuFIREISjC88F9cSfQxe/cLJAcKwhapVIuck8aMAKWbmQKTIYGG/8UYIUwzpA4pU2MxwUEQIg/IsDREA7PVZkIL66xMn5bvXCj1/tVMpGK6AFNMZ4QvpKw6Q9pqxZRVl2ISVqfpskcLwA6IFGiEcdiKdR21h4Yo4g86yUtS8kMD340CbzmiL/fZv/zb33HMPuVyO3/7t35532wceeOAND0xbHby+EmZnknI9wCv5GJGNpIgdCry2FtRRRZjt2iihlQZjcZO9IsqYyiRNlopRwjENQjGJU9+Akd7HRL6Idf458TjE2Vh7fwz8xanYzVVjMfPc92fW2NE0r7eIcOLuwrNJloog0oikRPrVqWyX2buEHsuoe4ggmjfQVqdGBz0IZaBENON1a2r5hqsGmCx3wRlTmbPFfmg7Z97vN9vbwTDw+g6SfvuihnzSnapj8B133MHHP/5xrrvuOgDuuusuHnzwQe6++24+97nPzdi+tbWxHsh9991HKpWaEWhzHIfu7u5Fj0M7uWYNtJWHINHM4PgkGGl8IyJzTH22hIoD5d4JZLQh4jptwjtyjIhkAjOoI0wbqJOKTMZKHud2Nr5V5hzdeRR9DF5rigOjQAeeWUcFAZFQSDnz0qxJtaBQ0/WJ3yghIqThkg2aGfb30J3roqSK+AOHZm5rGVg9aeqvT5B9x9JldK8Eiz1O6zmsvVH+cBWzxUEYi1tLPlwZ4Uz/bIzMEBEQluOOo0bdA0AtokYbQF3UTyDQZlOWU0tV7RxQp1QqYLW2Eo6Po4IAYa7O+qyLzmhramqarqnR1NQ070PTAKKqTzBWw+xIcWC8QmsU//2kai4JX+G1tkxva3pFjLBO6LTM9XEz1CijUHFWG5C0TepRHgOLQmiRL5YRzVmEKXH9Dhh+GSrHX3dmLVnsPD9ed955J5s2bSKRSLB161aeeeaZebfP5/PccMMN9PT04DgO5513Hg899NAJ7ZN2ergHClidqYbaS4dVvYCWSoQwcggHjKBKZCzuLhyAWYrTzMPk3BlwrqghECSZPaNOWvH3hWo0Xjqabo9fKM7stHYsYZpL3nn0VByDPc9j+/btXHXVVdPPGYbBVVddxZNPPrmoz/j2t7/N7/7u75JONy4lePzxx+ns7OT888/n+uuvZ3x87t9e13UpFosND+2NCUbmyGhLttA/Oo4wWlHKx5YzA20KdWKBNkBZJsbU0lGIs1aNoIqwbMAlGTqMlWd+tszZBGM6o+1UHYO15akwXAIgsjyiWvz3L2e54MxFLdSoEs1yE+lEGZaPFbbiizKpTI6iAG+WjDYAe2MWd1+ByA1nfV2L6Wtl7XTxBivH1XG0XisglYVwQlQUEdaq/3/23jzIsvMu7/+873uWu/e+zIxGm1fkTSBjoRAXEIRlkx+2A1QJx1i2yjYpg1IQlYMRwTK2CbJBXkLKhUC2kFVxYScUOE5IhImwAIOQwUK2ZEmj2bp7pvfu23c/+3l/f5zbPdPTfbtvz/Q6cz5Vt2rm9j3nvnemz33P+7zf7/OgMllUW2iLre42vj0csuQRunuzyIy0CGXy/SaMZJ1fr1ZQfX0Qxysbg5cjXcuHf/RHf7Tun1NSOuG348CN4RwTZ8oMaImnKsgwwsAgzJ9bEFvODLGyiYzu/R9iEePSoqR7meEsOVNRaTlEZoXAH0DpWWqNFsbwAF7VhAFg7G/gVf9muz/qZUM313mtVuNLX/pS1+dcbk174IEHuPnmm/nsZz/LbbfdxrFjxxgeHl7zet/3+Ymf+AmGh4f5kz/5E44cOcL4+Di95y8YU/YVK+nCrx5c9+enZmYouAJpJkKbcppb8mczaw6RbYLReW/IXTFpLdASa3f9hZRJFV1cJQxNXJ0nYxehurnQBmAM763QthNz8OLiIlEUMTKyOpRiZGSEF7pIWf3Wt77Fs88+yxe+8IVVz7/5zW/mp3/6p7nuuus4efIkv/7rv85b3vIWnnjiCdQ6YRL33XcfH/3oRy/tw6SsIpyfR5gm8nwBtD5NlO2jVmsgjOuJ8bGM1f8fWbKJyHaRhuuxIVGrKtpsVOQhzD5kGGBhM19dW7mmShbui+snBl9J7MQcnLJ/qS36RCJEWZqoLbRJy+JCOauke2mJ+ra+tzJ8Aq8ftKJChK8jGvUaseMis6vnZ+tokeYT03gnK2RvGNjWcVxOdDtPp9dwyqWgY0042yR749o1VCdMvy3SZyRRqwlaI7MZ1JKLFgLdZeuoKxyklmTI4tDq6piMsoijCCEjYqMfwRT1WoXRgaTrIZiewTx0qOvPcpC4KI82x3Fotc79446Pj/PZz36Wr3/969s2sJSDj3+2jrAUqsdiotxiGHBJytJV7pwPmwqbGH6NwN765N0STYpxLwA5K/mSUFYVK7oegIWlKuZwP97kIvRcBafWmninrE+n6/yxxx7b0nnOb0274YYbeOCBB8jlcjz00EPrvv6hhx6iXC7z1a9+lR/+4R/m2muv5Ud+5Ed43eted0mfJ2XnCGZbaC/CGF2/muzFE88kf1AlhAUycrr3ZwNUvUW8QdsoQCRCAoINS9qlYSHC5He6tlzVVu1OPDOGR/DH94dH236Zg7/whS/wmte8Zk1wws/93M/x1re+lde85jW8/e1v53//7//NP/7jP/L444+ve5577rmHarW68jhz5swujP7yJpybQ/X2rq4wrc+wRA861gjVDyLigoI2Mjp30dVsANpUCO/8irZkwS6UQsaJAFdeaq45TvZYxI2A2A3X/OxKZbvm4JT9S7kqaJlVSkYeXU+ENGmtnhvVskXKNrWNrpzX8AFBPupjNqwghKCetQmn11a1qR4b1ZOK4Vthv8zTKZcfUcVD+zFGFwEGALONCvmwfX+eNQibyRwsMxmk5ydto11uri0nj26lfTTbbofXwscXJbIioF5ZwOhLqtvC2cvXp+2ihLa3ve1tPPLII0DS4vWGN7yBT33qU7ztbW/j93//97d8vq20lf3oj/4oQog1j3/9r//1ymve8573rPn5m9/85q1/0JRLwj9bxxjKIoRgYqFJMRQQzKNiiEq9K6+zWjPE0iSytp421qJOgSJSS5QCS0liWUcKG2GYLFaqmCMDeBPT6OFXw+m/2cZPeHnT6Tr/t//233Z9jotpTfva177GLbfcwi/90i8xMjLCq1/9an77t3+bKOrcspC2nu0t/lgVJJgdghAqk6fRQkEmC4SoyCdWXVavhjFGwyXMb35D4dLacPJXpoUR+mg01YYF+WGodCu0DRNMTKC17m7cO8h2zcEDAwMopZidXZ1kNzs7u6m/WrPZ5Mtf/jLvfe97N32f66+/nsHBQU6cOLHuz23bplQqrXqkXBrh/PzqtlG/Dn6TOT9ZxAtZwlRrv1MzOocvLl5oiw0D6Z8vtCUCuVIgg6RFpV6rrjlOldrJo6lP2wrbMQen7GO0Zq6Vp2nV6DHy6HoDFYG2V7dwldr2KNtd0SaVjxARvUEfTjxHoVCimrU6to+aR4q4L5T3xRx4ENhonv785z+/pXNt1X5lmS9/+csIIXj729++1eGn7GOCmUQo6+SJfCHPzU2Q83sQokVs5xN/NjuDkBLl+kRdVrMBBPhERGS3kDxqKInUBrH0cHWenAyol+cQuRwikyGY2Z405f3IRQltTz31FG984xsB+JM/+RNGR0cZHx/nkUce4fd+7/e2dK408ezyxT+TCG2x1iyWXVQssbwGVgRRKVkMy8jD8JYIM/2bnG19WqKJQFJo34jkbIO66xGbVSJRYKFcwRwZIG60iPIvh/JJqF3eUcLbRafr/IEHHuj6HAsLCx1b02Zm1t/BOHXqFH/yJ39CFEX8n//zf/jwhz/Mpz71KX7rt36r4/vcd999q7wvjh492vUYUy4db7yGMZhDdGjt1EsLxCqPyghU0PZbU915tJn1FkJroi6EtiR5tHNqsWnZGEFMKOuJT1thGGpTEG/uO2OMjKA9b8X7ai/ZrjnYsixuuummVRUycRzz2GOPccstt2x47P/4H/8Dz/P4+Z//+U3f5+zZsywuLnLoMm0N2I8Ec3PI832A6smN7IIj0IZNpAIsc+0WdpYcPhcvdmlDIoII2l0qWlloBFLGEAagYyKvQXzBYn05OS1NHj3HdszBKfsYt0otHKJl1ei38sTNFmac+ByeT1H3EhLiXcJ1uR5CgDIC7GgQX7oYuQL1XAb/7NpABADraIGo4hHOp9doN2w0T//BH/xB1+fZ6jp5mbGxMT74wQ+ujCHl8iGYaiAyCpnvzlft1NIkBb8HUzXR0iBsNlCZ5J5aun7XQQgAiItLHlXaIMTBjTJkpU+tuoQQAqO/n3Dm8l2XX5TQ1mq1KBaTxczXv/51fvqnfxopJT/0Qz/E+BZba7baVtbf38/o6OjK4y//8i83TDxbfvT1dTbZT6thtp+o5hHXA4zBLDM1l0J7g9sIPQxhrqSNWu4cCEVoXpwxqEOLmHglECFnKvwoJpNrYIhRZssVjKFExPPc9u/A2Dcv7cNdIXS6zn/wB39wR983jmOGh4f5wz/8Q2666SZuv/12/tN/+k8bLi7S1rO9xT9dxRhZv5pNxzG5moMS/WCBardu6i4r2oxaC21IYnvzGwoXhxx56LDhbmVslNa4Ypalhkoq2qIgSWPcBLMtFvvjY12NeyfZzjn47rvv5sEHH+SLX/wizz//PB/4wAdoNpsrKaR33HEH99xzz5rjvvCFL/D2t7+dgYHVLf+NRoP/+B//I//wD//A2NgYjz32GG9729t46Utfym233XaRnzhlqyy3jq5QT37H52oescoT4WFe0DeqtMLEurTWUcNAoNcEIhgiAjS+qJHREeWmv+o4mTEQGZUGIpzHXs3BKbuDXprAC4dpmlX67DyR42BGEF9QXVLUvTg0L9o3cSOU6YJOEriXCAmkoHZm/Spv83ABlMA9lraPdsNG8/RW7lG3uk4GiKKId77znXz0ox/l+uuvv+TPkrK/8KcaGAPZdcPH1uNsfZqC34syXbTWRM3Wig+jdIOugxCW8YRLfotCm4GBL1p4gUlOhtQby1V5fWlF24W89KUv5atf/SpnzpzhL/7iL3jTm94EwNzc3JZaPvZL4llaDbP9+GfaQQhDOSbLLXpjQUANTYwy254txJjOAqHVc/E3EELj0KSkewHI2W2fNqOFkL2EQYibtZPk0Zka9F4N4393qR/viqDTdT6/hXSYwcHBLbemHTp0iJe//OWrTNO/7/u+j5mZGXzfX/eYtPVs7wirHlHVx+wgtFXmZlAxKNmLyCRCm5YKLbsrVTeXGoT5bFffEa5wkKhNk0d9Pc1Sw0gq2qCr9lFjaAikJNjDQIRltmsOBrj99tu5//77uffee7nxxht5+umnefTRR1eqUCcmJpieXr3beOzYMb75zW+u2zaqlOK73/0ub33rW3n5y1/Oe9/7Xm666Sb+9m//Ftvu3pcv5dJY0zpanyYycpRrDZA9baFt9TWYIRG/L6V1VLe9UsUFgQgGyXd3KGvkY8Fcbb3kUTsV2s5jO+bglP1Lc+oMaAvfaGFIRei7GDHoCwJKkiCE7fVnW0YZHlobFMMS5WgJASwurl8pJQyJeSiPe6y8I2O53Nhonl4W4DbjYtfJH/vYxxgeHu7K2gHSgpODRjDVxBjoPlBs0Z0l75eQZpSkG8cRMpNFBBEyjIi3UtHG8qb2RQhtsokXKLKmwvVDgiBIhLbptKJtFffeey8f/OAHufbaa7n55ptXWky+/vWv8/3f//1dn+di2srOZznx7H3ve9+q59/85jfzyCOP8Nhjj/HJT36Sv/7rv+Ytb3lLR4+ntBpm+/En68icgcwbTJQdBtB4JOl+sh2EYHgVhI4Ird5Leq+WaKxUtCkJGUPS9F20nXxxzC9VkuTR8SkYviEV2rqk03X+V3/1V12f42Ja0374h3+YEydOEMfnYuxffPFFDh06hGV1126Ysnv448kNWSeh7czJ42gBiCRxVIatFYP0zRBhjFF3iArdvd5tJyB1ah9dFtpiPU/LtYnNIlh5WNq8CkyYJsbAwL4IRNiuOXiZu+66i/HxcTzP48knn+Tmm29e+dnjjz/Oww8/vOr1r3jFK9Ba8xM/8RNrzpXNZvmLv/gL5ubm8H2fsbEx/vAP/3DNPJ+yc8SeR1ytos6v5K9Ps2QME8caJUaICbDUavU6o5Nr+FIq2uK2eHe+T5tWFoZOzqlFi6xWzNbWSR4tmoTl1KNtme2Yg1P2L7XJRDD1jeTaiMIAA7VqU8nSNjaZHRXaQNMbDuCKRXJWhkocEjvrX4fW0SLe6Sqxt7ndwpXORvP0a1/72q7OcTHr5G9+85t84Qtf4MEHH+x6rGnBycEhbgVEFQ9joEufY8D3lzDiLCITE7WDEFQmi/SSDTFtbrGiDQcTC0N3L9BZwsQXTWItsOykOKpeq6AGBghn04q2Vfzsz/4sExMT/NM//ROPPvroyvM//uM/zmc+85ltG9xmbFfiWVoNs/34Z+oYg0lZ69mKQ18MIlxExaALiQpuugtEKotWW1PSL6RFgxyFlQs+ZxtUnYBCMQaR5YWpySR5dHwKRl4FCy9Cc+GSP+PlTqfr/Ed/9Ee3dJ6ttqZ94AMfoFwu88u//Mu8+OKL/Pmf/zm//du/zS/90i9ty+dK2V78sRqyZCFz60/U48dfwDcNkCJJHA1aXSeOGtUmQmvCQnc3FCEBIQG5DkKbVAqkgrAOWtJw2z5tlbHuxjM8jD+290LbfpmDU/YnYbvi6cLW0QWSDSmjLbSZF3gqZnSOmJiA9SuHu0GbCg0XBCJkMLQDQqCFSz6ymVlHaJMlKxXazmO75uCU/Ul1pl01ZIXEQUCsY9QFld4FnaxHHNYm9W4HQmiU4WGHQ4QqwMjmqGctgslOPm1FiDTeycqOjOdyYqN5+r777tuR96zX67zrXe/iwQcfZHBwsOvj0oKTg4M/mYjuarC7DeiW75GN23N9VhE2G0jTQhgK5SZzfWx3H4YAiR8yQHYL7aOWsAhlcpw0ewGoV5cw+voIFxbQ4eWZOH7RCsey99n5XCh4bcbFtJUts5x49rGPfWzT9zk/8ezHf/zHtzTGlK2jtSaYbGC/MvFGm1xock1o4AU1zAiiXBahI5RfJ8gNX/L7tUQTNBR0DxWxSNZSlJs+uYxDXQ4wObuEOTJI/ZvfRg/dkGwWTvwDfN//d8nvfbmz3nV+0003bekct99+O/Pz89x7773MzMxw4403rmlNk/Lcgu/o0aP8xV/8Bf/hP/wHXvva13LkyBF++Zd/mQ996EOX/oFSth1vvNYxbRQ0zswUsZFHtLU1FTYJst1d91a5QWyb3Ze1i6SkfSPvCGnayLAFCmpNk1JhBMpjXZ3eGB3FG+vutTvNdszBKZcny7vDxgUVbQvBSzBshRAWEHKBRRsZskkQwqV4QYmk9W210GYjAWGYKDzMIMtEdW2LqCpaxDUfHcQI86L2gS87tmMOTtmf1Mo+rtEga9hJOxdJ6/35y82i7iEkuKQq080wTI/AHQYNVUuBoaieOM7wS1+65rWqx0b1WLgvlMneMLDO2VLOp9M83W1r5lbXySdPnmRsbIyf+qmfWnluuTvEMAyOHTvGS17ykjXH2badWjscEPwzdYStUD3d/X99b3aSfJAI9jpnEp5tIM8PQpACrbYotLWDWXLkqVPp6piMMgl10nUSm4MIJqjXqgz390MUES4sYG6i/RxELkpoazabfOITn+Cxxx5jbm5uVYsXJKmB3XB+W9ly9PByW9ldd9214bFp4tn+JVryiFsh5lCWMNI4FR8wkZGDIZJfOcNbAjShsbUe7/XwcIgIKeoeKiySNxUCaIYOwiwQtaZQ119D3HQIAxszPwRnUqFtMzpd5xde791w1113dbym16s0veWWW/iHf/iHLb9Pyu6ig4hgukn+lvW/W2vz8+D7KOMqpA3EITIOu6to02Au1ZJqti0s/F3R2jB51LAsDLdObAdUmxZXFUbhzLcg8mGTJFRjZITmN7+JjmOE3DshYLvm4JTLk7CdRrdS0RYF0FxgIXgF2lIIDUqFXNjUkNFZ/EuoZltGmxJ5gUcbgDQMhPYxtMVsubLmuJXk0YqLOdRJvL9y2M45OGX/sViRNKwqRSNH5CQLUMOw1ghtrR0KQlhGGh6x7qEQ5imrOv0a5sZO0mk7zDxaxHmhTK/WXZuxX4lsNE93ew1vdZ38yle+kmeeeWbVc7/xG79BvV7nv/yX/5K2hF4G+BM1jKHugxCOLY6T93sQwkMriBpNzP5kE045QbKRvcXLOBYxPh45nd/8xW0yyiSKPCDGk33k5AnqlTLq+u8DIJieToW2Zd73vvfx13/917zrXe/i0KFDl/RFe/fdd/Pud7+b17/+9bzhDW/gs5/97Jq2siNHjqwps90o8eyjH/0oP/MzP8Po6CgnT57kV3/1V9PEs13En6wDYAxmmao5FEPQOkDrCGXk0YDpVxKfpi4N0TdEQOu8QAQhIWspak5IrpDHcWNeEA7DgD8+jTn0Sph48tLf9zKn03Xuui6/9mu/tsejS9kP+FNNiHXHira50yfRAixGViWORl14tMmWh3ID3EP9WxqTi0M/wwgt0GJt/Khl25iNKp5cotq04cgo6BiqE9C/dgf/fMzRUbTnEc7OYu7hxs12zsEplx/B7CzCthG59nXZmEPHMYvNkKiYQ4ZgmCGwWljO6ByeuPTWzdgw1lS0AUglkXEiwDmtJfQFC3VZbAtt5VRog3QOvqzRmkW3iJOp0WfmiSpJZ4a4wCupoHuoip0NH1CmT+LT1s+MmiMripQ3CNywjhZxn10knG1hjna/0L7S2Gie3so1vJV1ciaT4dWvfvWq43vbGy4XPp9y8NBa40/UVzrGumG8Okmv14thtNCBjw4DVCaxY5GeR7xFf7ZlPFyyWxDabGkgtQTp41EkKwLqS3Oo/h8GIJxdP4TloHNRQtv//b//lz//8z/nh3/4hy95AFttK4NziWdf//rX15xvOfHsi1/8IpVKhcOHD/OmN72Jj3/842lZ7C4RnG0g8yYyZ3J2pkavBlfMoACVyRGhUX6NwN7aAnojHNGkpM+1yeQtxULT56phk8kFxbOLTX7cUHgTU+RffgN8+48gcMHsPrXlSqPTdV6r1dKb/BQg2VlDCVT/+tfR7OmTNG1Br7YRGY0KE58Z3UVFm1WuoaUgyndv+ApJRZvUkix5Wqw1kFaWjdQaV8yx2LgGim2T4fLYpkKb0Z6X/LGxPRXatnMOTrn8COfmUf395xZ2jWnqsUUQxQQigxI+5jp7XBlyXbeBbIQ21arUUYQgUhZSakTogQI79lls+gwWzn0XyJwJUhClPm1AOgdf1jhLNIMhmqXnOGrliZx5zBiwzi16DW2SIcvMDvmzLSNFhDQCMtEAoThD1hxkye38nuZoHgyJ80I5Fdo2YKN5eivX8MWsk1MuT8JFN+kY62jXspY5Z5prvBuQZkDUbPu7ZZN7duUERPmL00Y84ZDbgkeboQQiNoikhxvnycmAWqWMzOcRtk04u3kI5kHkooS2vr4++vu3TyTZalvZcuLZeiwnnqXsHf7ZJAgB4MySwwAxkZ5FaSCXRwUNhI6JzO2boJuizrA+jKktAuGTswx0wyfEQag+Gov+ueTRH745aRObeQaO/uC2jeFyY7uv85TLD/9MPSlhl2srqrSOmR87hZeR4IOwQTktYmmgu6hktRbqhPnsliN7nPOSR9dLajOs5KYijKepNV8KRgbyg7A0tum5jcFBUAp/fJx8h9Tc3SC9NlM2IpydRfX0nHuiNsVi21Q9oICJS+aCIARDG5iY2+IFFRsGVnP1ebS0MGSM5wfE2Zg8EdNVZ5XQJqRIkkcXU6EN0uv8csafOU0Ul2iZNUrmELVGM/EwPs+PdCUIQeys0AZJ+mjkDYGAyDbwAkn9zATFo1evea0wJNbhPO4LZUo/mrYidmI7r9+trpPP58LU8JSDi3+6CgKMke6FtlY0Qza4BVmq4TebCKXAsCAG6fkEfRdn4eTh0scgaLpqPRUCFIpQuDhRD30iYLbRQAiB6u8nmLk8k0cvSgL/+Mc/zr333kur1dru8aQccLTW+JMNjHYaytlyk57IQAQVrAjiTBbl19BCdVXV0i3LiUzL7aMZS6Ik1NwQI1PEcBu4/Tm8iWnouy7xYpr8p217/8uR9DpP2Qx/oo7RocVraWoK33OIzBxa6CRxNOoucVT4IUa9Rdiz9faxSIT4+B192pSZtKfpuEzg24SRSKraypv7mgnDSJJHT5/e8ri2k/TaTNmIYGYadX4QQm2KRdGPaRoI3UMkfCy1+s44Q3Kt+eLShbakoi2E82yIYmVjiABCn8BoUtAwVVknebRoEZbXBiVciaTX+eVLbSJJdfTNFkJI4mYDM4LYPCe0FXUPEdGK8fhOogyfWBexYoOylVy4M999uuPrratL+OM14lbQ8TVXOun1m7LdeKeqGANZpNWd7VLd9ZG0UFEesoKw0UBmsggBMggQsV4l7m9pLMJFYWDR/VpeYRCIJq6vyFkCL4jwPS9JHk0r2s7xqU99ipMnTzIyMsK1116LeUF/71NPPbUtg0s5eERlF+1GK4vv2XmH62JFHDYxY4htC+XUiIzt9V/x8QjwKepeFkn6vHOWouoEHOktMN8MeaHQy2uefREtDUT/S+BsKrRtRKfrPIqiPR5Zyn4gavhEFY/cD6xvmTx76jgYCiX60FYMSFTQTLwZN8FaTHweg9LFfU+4dA5EEEIgDAsZNsAU1FsGfYVDSSBCF1tz5ugI3umxixrXdpHOwSkbEc7Okn3djeeeqE1SjgtkczauLhETYFyQMpbRSRW6vw2Lem0YCK0RYYhu38THKoNBBVDEsk5eG0xX1kkeLVhESzuXsHiQSOfgy5fa1AJQIjASoSpyHMwI9HmtowVdSjaRd8GCUxnJNdcX9DBv1rkm0MyPn+ZlHV5vHi2CBvf4ErnXdZcifqWx0TydXsMpF4N3qpJce13y7OwZcu3EUbKSqNnAKCR/V04SfHT+d86WxkIyf+d0vusNOhMTTzbwfEXOtqABtdoSqq+PYDoV2lZYTj5JSbkQ/2zSqmUMZhM/mJoP2oDIbyeOxqigRZDb5olZQIsGJX2uXSZvm8xUXXLDCiZNzuocr2q0iKp1jMGXw9l/3N4xXGZ0us49z+O73/3u7g4mZd+xcq13qGibOXkcv5AlF/Sg7KR4WoUtwuzmNwlWuU6Uz4Bxcb4jrmhRPO+74EIMy0YGDphQa5n0FQ+BV4PWIuQGNzy3MTKK+71nL2pc20U6B6d0QmtNODu3tqLNvwbZJzGbBRwxt8ajLaNzRESEqzIPL3IM7ZNLL1jZLdfKwhARoNDKIRf2MNmhos07Xb3kMVwOpHPw5Ut1rkEkfAwTdBwTBX5S0XZepUpBl3albRRAygAhYnJhH3PmafKyh8XyQsfXq4KJMZjFea6cCm0d2GieTq/hlK0Sll2iqk/uDd23ej43f5qC374XUD6x56GGks1u6QZoSFJHLwIfD40mS54K3QW2WMLCFS2iWGJmknv0erVKX38/3smTFzWO/c5F/et+5CMf2e5xpFwm+JN1ZNFEZg3OlluUIgipAhpl2BA0EGgitTWD825oiQaD+tBKUUqu/eVR90Kk3UsUJAsIb3wKY/Bl8Pz/hFYZcqkHynp0us5rtdqaFOCUKw//TB2RUcji2t2wwHNZPDvB0kiGkWoJUQIR+Yg4Qm9W0RZpzKU63kjvRY/NpcUQh1BaEYm1O8dmxsasNImET71pwnKwQfn0pkKbeegQ9a9/ndj3kZa14Wt3inQOTulEtLSEDoJzQlsUENbnqXnXUDBB6QxSrhXTMmQTf7ZtqJ6Jl4U2P2T56otUhrbejsAjG+SZrNbWHKuKJtqLiJ0Qmb24BcDlwnbOwZ/73Of43d/9XWZmZnjd617Hf/2v/5U3vOENmx735S9/mXe84x287W1v46tf/eqW3jOlM9VyRMuqUlA5IidpLTRjgWe0rx0tyZGnzO4k8QkBSvmoqA8tT5Cxbcqhh9Ooky2svzlmXl3EfW4RHcUIlZrxX8hG83R6H52yVbxTyQaUeah7f/Px2hn63F6UdIndpFNELieOuh7aNC7SRAy00Ph4W0weNWnoZPMgNgdQzFOvLTHY10c4P4+OosRD7jLior8ZK5UKn//857nnnnsolxMl86mnnmJycnLbBpdy8PDPNDAG2kEI5RZ9OsIVSTmosjKooIkWEq22f4HaFA1MTHIkF72pwFKSmuNTKPZAtEilOIJ3ZgYG2gXx009v+zguJ9a7zp9++um9HVTKvsA/U8ccyq2KrF9m7vRJ4jiiYgUY2kyCEMJkMRFtIrSZlQYi1oTFiw9LcUQLgejYPmpYGYw4xmOOSlNCphfMbFc+bcboKMQxwcTERY9vO0jn4JT1CGfa8+2yCXdjlqXQRgOuTIQrqdYR2nRuW4IQALSh0AjUecmjWtlICUIplPCxoix1t4wfxquOlcXk3iBMk0eB7ZmDv/KVr3D33XfzkY98hKeeeorXve513HbbbczNbSzijI2N8cEPfpA3vvGNFzv8lA4s1S0aVo2ikSVqe3gpZawI3TkKCCSO2D1/L2n4xAwA4NvJd8X8yeMdX29fU0K7Ed7ptYJ5SkKneXpqamqPR5Zy0PBOVTAGs0i7eyFqwZmi3+tFmh5hswFCIuzEU005/kVXs62MCXdLQltGmgTt7zRPDawkj6r+fogiwsXFSxrPfuSihLbvfve7vPzlL+eTn/wk999/P5VKBYA//dM/5Z577tnO8aUcIHSsCSYbGEPnhLb+WBKxiIxBZ7KooL4j1WyQtI5qNCV9rmUmbxtUnYC+tvh34qqX4E9MQ+kQWHmY+ucdGcvlQKfr/H/9r/+1twNL2XO01gTtxNH1mHrxGLmec9ehsEEG7V2sTYQ2q1wjsk1i++JvAFxaaDR5OgltyY1GoKdYbIhkO784CkubhxyY7eo3bw8DEdI5OKUTy8ldKxVt1TOUo6S929HJNaWMtQbmWZ3bliAEAEQ7EME7T2iTCi0V0lAonTxfkA7T1dWCmmoLbdFSKrRt1xz86U9/mve///3ceeed3HDDDTzwwAPkcjkeeuihjsdEUcQ73/lOPvrRj3L99ddfysdIuRC/RcXvp2XW6LMKxG2hzTDO92frQaNx2UWhzQyIdY5sZLJgR1hBxOxz3+v4ejWQQRZM3Ocuv8XxdrDRPP3Rj350bweXcqDQWuOdrGCMdu9bHGuNzwx5vxdhh0TNBiqbYXlvXLr+Jd1nQxKIkNuC0GZJk1gEQIxDD1nhUy/PYbQ3BsPZyy959KKEtrvvvpv3vOc9HD9+nEzm3KLpJ3/yJ/mbv/mbbRtcysEiXHTQ/rkghDPzTQqRiQrq7cTRTNsMfWeEtlhEuLQoxecW+DlbEUSaUAiEKlLOmDgTkyAk9L80Fdo2oNN1/qY3vWkPR5WyH4jKLrETYgyvN+lrZk68QGZomGx4LnFUhU0iZYHcoDdNg1VuEBWyl9TCpoXGxaGgS+v+fFloi+NZGk67urYwmrSOboIslZD5PP6pvRPa0jk4pRPBzDQYBqqn7VFYnaSsi+SyGdzQBGJM44KKNg022W0JQlg5pWkg/dXvE0sbpYAoeZ8CAdPV1YEIIqMQpkwr2tieOdj3fb797W9z6623rjwnpeTWW2/liSee6Hjcxz72MYaHh3nve9/b1ft4nketVlv1SFmfePEUTjRE06rSZ+WJWi0MLVeCQwAKuoiHSyziDc60vSiVCO09YZE5o0kuCJk/O97x9UIIrKuLOM8torXerWEeGDaap//+7/9+D0eWctCIljyiqo95uHt/ttMLZWLVwvT7EVmIGg1U5tz6Wzke8UUGISzj4ySJ5V1e/qYhkFqC9HF1Ialoqy6tbAwGM5dfIMJFCW3/+I//yL/7d/9uzfNHjhxh5jL8R0rpjuC8IASApXkHEJihixkBBggdoc2dEdoAmqJOjz7nuZa3FEJAxQmwCyVCPc/CVPsGsP86mP7Ojo3loNPpOj+07GeVcsXin0m8HtaraFuansJp1KnlrCTtyNQgktbRWG0cAy5bLtILCEqX/h3hihaFeH2hTUiJMCwIKwReligGioegNgXRxlU9QgiMQ6P4pzZvM90p0jk4pRPh9AxGXx9Ctm/vqmcp6xLFfJYoyBAJD/MCDxQTEwNj+yraSHzalLe6ci5WNkrEaN8hJqYoNFMXJI8KIZBFizCtaNuWOXhhYYEoihgZGVn1/MjISMfvim9+85t84Qtf4MEHH+z6fe677z56enpWHkePHu362CuNxvhpNAZNs0peZoiaTcyYVYveQtyza0EIy0gZAJpcVMITDQqGRcNp4rU6j8O6ukRU8Qhnd6/y7qCw0Tw9exlW7qTsHCv+bKPdV489NXOSbFgATLAjIsdBtgVfEUTIMCa2L01o84SLQmGx8b39MoaUCG0QSQc3ypKTAfVGE1EogGEQzlx+18VFCW22ba+7W/Xiiy8yNDR0yYNKOZj4Z+vIkoW0FU0vRDZDYh0iQh8zFoj2bnm0yWL7UmhSJ08BQydfHkIkYlut5dPfXwTtMZm9mqjpQP9LoDIBTmXHxnOQ6XSdnzhxYg9Gk7Kf8CfqqB4LmVlbdj714vMYls20dMn6JaSdlKapsLlpEIJVrqOlIMpfutDm0ExaRzvstBl2BhU0AEHTMZLWUR3DUucd/GXM0UN4p/dOaEvn4JROBNPT5/zZIGkdDW3srIURF4nwMNXqctGMTipTt8ujDRKfNrme0CZDtNsitDwKsWL6AqENkkCEcDEV2vZiDq7X67zrXe/iwQcfZHBw42CY87nnnnuoVqsrjzNnzuzYGA86tTPTAPiWgxSSsNnECvU5vyQNBUo47K7QJgQow8eMetAiIptPvhcWxsc6HmMeyoMhcF9c2qVRHhw2mqe3cm2lpHinq0mr9hb82Y6XT9PjJp6LOk5+D2U2ubdWjg9cfOLoyrja6/pufdqUBBkrAuHg+gZZSxJGMZ7rYAwMEM5efhvFFyW0vfWtb+VjH/sYQZDcRAkhmJiY4EMf+hA/8zM/s60DTDk4+GcbK9VsE8tBCCq5oVDSRIVNYmklbZs7RFMklTY9q3zaTOpehJm1QVjM9pbwz84mFW0As8/u2HgOMp2u8zTxMMUbq3ZoG4WpF1+g//BVLPqL5IMSIgOgkYFDbGwsoFlLDcJ85hJies7hiBYGJhnWf08rk8EIXLTW1FomFEYAAZXNhTbj0CH8U6f3rF0mnYNTOhFMT50ntGn8pUmagYCMwIqKxHiYxuoLbPka2U6hLbbWF9pMQnTgExseudBiqrpWUJNFiyhtHd2WOXhwcBCl1JoKmtnZWUZHR9e8/uTJk4yNjfFTP/VTGIaBYRg88sgjfO1rX8MwDE6ePLnu+9i2TalUWvVIWZ/qTBVNTGwmrdVRq4nla6J2RVuGLAbGrgYhLCNVAO2ukFbOxAojZk+92PH1wpBYhwq4x8q7NcQDw0bz9Fvf+tY9Hl3KQcI7VcEc2VpA2HTzDKNOH0KERG4VhEDayWa3dJO5/tJbRz00eiWEsBtMTHzRwPEVOTuxbqlVK6i+XoLpVGgD4FOf+hSNRoOhoSEcx+FHfuRHeOlLX0qxWOQ//+f/vN1jTDkA6EgTTJ0LQhhfbNIfg9eOJleWjQybmxqhXyo+Hj4uvXpg5blC2+yx5gaoTJGmqjNz4jT0HAVlwfR3d3RMB5WNrvOUK5fYjwimmxgja4U2p15laXqSwauuxvXqGLGFsECGDgJNLDeoZo00Rq2V+LNtA8vVAJ182kw7g9SaWFept0wwLMgPQHls03Obhw8TNxqE8/PbMtatks7BKZ0Ip2dWjIVplVlyE4+nwAyx4hIxIeqCO7+MzhERErE2jfRiiU0DEcWIIDr3nLJRqi1OGw5ZP8d0rcGFZaeq3Tqq4yvb92k75mDLsrjpppt47LHHVp6L45jHHnuMW265Zc3rX/nKV/LMM8/w9NNPrzze+ta38mM/9mM8/fTTaUvoNlBd9PGNOllpEQcB2vexIlY82go68Vfc7Yo2SIS2UBcxYpi1I3JewNyJzsmjAOZVBbyxGvq8az1l4+v3wx/+8F4PL+WAEFU9oiUvqR7tklhrmnqKfrcXZbpJEEImg2h7JCsnIDYUqEswQybxQ/bxyOruQxpMaeLLJq6vyGWT4+q1CqqvP/GYvcy4qJrBnp4e/vIv/5K/+7u/4zvf+Q6NRoMf+IEfWGW2mnJlEc630EGM2RbaxuabDEcWFVFFxQIsGxVWCOwdLpcW0BB1euJ+aFfYGgoypmKpFdLbW6QyPcazL/Rx3b9W0HsNzHVOVbqS6XSdv+ENb6Bn2Wg75YrDP1MHzbq7a1MvHkMISXboEJkzyQQuMqDaiaOR0VloN2tNRKwJi9sjtIUEBPgUdIkF1vo+GO2dvSAep9JsLx4LI1tKHvVPncIcHt6W8W6FdA5OWQ8dRQSzsxQG2htNlQmWouR6aqgQI84TqrXicIZsUs12affcq8ditu0b/ABtJpOxPk9ok9IjHwzixgvUnJBS9tzOuipZEGniuo/q2Tmrif3Ods3Bd999N+9+97t5/etfzxve8AY++9nP0mw2ufPOOwG44447OHLkCPfddx+ZTIZXv/rVq47v7e0FWPN8ysVRqxk0rBpFlQQhAJgR+O3qkqIuEeATirXpwDuNVAEag54ox5zVYiSMmawu4TstrOz6i2nzUB4ijTdRJ/OS3t0d8D5mo3k6DQtJ6RZvbNmfrXsx69TCEqgKeb8fmQmIlhrI84IQ5DYEIayMD7fr1lEAC5OmbKG1QGcGMcUS9eoSA319uN+5/HzTtyy0xXHMww8/zJ/+6Z8yNjaGEILrrruO0dFRtNYIsY13aikHBr8dhKAGkgt5drrJKBIzdpOdOkMgdExs7PxNc4MaR7kepQ0ikezQF23FQtPn6kMFKtMwW2nvlPddAzNp6+iFbHadp1y5+OM1hCVRvWuv5ekXn6dneISJZp1cmIPlxNF6Ey0kWlkdz2ssNYkNdcnmrCsIcGh1rGiThomWkiieYrHRFtqKo3D2nzY9tTE0BIaBd+oU+R/6oe0Zb5ekc3BKJ8L5eYgijPOFtrhAPpuh7mlMQCp/zXEZndvWtlFIwhAAlBsQ5xNRO1YWsr0BpoSP0iZZ1WCm6q4S2mQx+Z4Iy+4VK7Rt5xx8++23Mz8/z7333svMzAw33ngjjz766EpAwsTEBFLunKVHynm0ylT8AeqFKj1mlqiW3DtbEbj2uYq21h5UswFII/l+KIYFlowKhVwR0MxPnObIK1617jGqP4OwFf7paiq0tUnvoVO2C+90LfFEznV/b/xPk8cAgfQHoadG5LQw2xsmkCSOavvS/NmW8cXWhLaMtKjESau5KwfJiRlqlUWM/n7CuTl0HJ8Lc7oM2NIn0Vrz1re+lfe9731MTk7ymte8hle96lWMj4/znve8h3/zb/7NTo0zZZ/jT9ZRvTbSUvhRTFjx0MSYnocVajCSkvKdbh0FaIoaArHKp62QMdEamgFIkaMVt0vc+66D+echTkvel9nsOn/nO9+510NM2UO8sRrGSH6lBH2ZKPCZPX2Cgauu5vTSVJI4atFOHG1umjhqVhtEhcy2VtU4ornShnMhQgiEmYFwPmkdhaSiza0mjw0QhoE5MoJ/cncDEdI5OGUjgqkpANSy0XZljCVKFHJZGm5yu6fMte2hWZ3b1sRRAG0qNALlr67K0cpGGgoZJ+9XJGCqujoQQS0LbVdoIMJOzMF33XUX4+PjeJ7Hk08+yc0337zys8cff5yHH36447EPP/wwX/3qVy/ik6RciJ5/kWo0Qsuq0WsWiJpNhJBIIdCGAg1FvfuJo8tIESFFiB2XiIWP1d+HFWvmT3eu9BZCYI7kVpIRr3TSeTplO/FOVzG26M92rHySot+DxkKLOmi9EoQAidAWbdOmtodLlnzH4LELsaVBJJK53aGHrAyoledQ/f3oICBauryCVbYkZz788MP8zd/8DY899hg/9mM/tupnf/VXf8Xb3/52HnnkEe64445tHWTK/sc/28AYSES0M+UW/TqgaSxhBQFWBEKExMJKYo12GA8XH49e3U+ZpE3GMgS2IVlq+VhGBjec58xclaN910LoQfkUDL5sx8d2EOjmOk+5MtGxxh+vkX3N2hbwubFTRGHIwFVHmT7+JEf8XpYt2WTQ3DAIQQQRRsPFPdLf8TUXg0OTEY5gaHPdNhzTzhI3qnhuFq1BFNptoJUJGH3Nhuc2Dh3C62AMvlOkc3DKRgRTib/JSkXb0hhLYS/D+Ry+HwIxhopYdeunwSa7MlduGyIR24S7TvKoCtCRgwB6RczMBYEIwpDIvEm4uDaR9EognYMvX7zJk4T6EE2rSsk4StQ8gykUsSVBgK0zWNi0RGNPxicESBWiomSDqpE3yc74zJ7a2KfNGMnjfGcOHes1m3BXGt1cv3/8x3+8R6NLOUjErYBwtkXmlVu7N552xrneSe5n42BpVRCCCCJkGF9y4ugynnBRWmFhd1UZbxgSwhhEiKOL5IXPXLWyEuIUTM+cu4e5DNhSRdsf//Ef8+u//utrvjgA/tW/+lf82q/9Gl/60pe2bXApBwMdaYLpBsZQ0j9+Yq5BfyTxRJIeYkaAdHelmg0AkaSP9sarL9RCxqDS8snlLdANvvX3x6Dv2uSHafLoCptd57/yK7+y+4NK2RcEsy20F60bhDB9/EWyxR6ypV4q3gI5vwfaQpsRNog2uP6NuoPQmii/Pf5syyxXBXRqH7WzOWQcoCMPx1eQGwSpukoeNQ8dwt9loS2dg1M2IpiaQubzyc61jgmWzlAPBHbWRIVFQuFgmasXwRY2CrXtFW0AsWWsSR7V0kZJjXabhMqnoBXT6ySPqh7rihXa0jn48qV6Jqk6bRlV8jJD2GhiarkvghCWEUZARC9Cw4wVkfMDqgtz+G7n69EYzqL9mHB+95NS9xvdzNP//b//9z0YWcpBwxtPvPy24s/mBRG+mOSQ04uUPpFTQ2Wy5wUhJO3h22XT4pF8L+S6bB81lUBgEEkXN8qRUxGNloNs+46Gl1kgwpaEtu9+97u8+c1v7vjzt7zlLXznMjSyS9mYYK4FocYYTBbJp6brlCIbRA0QGEKhYod4A3+m7aZBjSI9KK1WnitlDGINIp98GcycWIRMD2T7YO6FXRvbfmez6/wnfuIndnE0KfsJf6wKEszhCyd9zfTxF+g/fISqE2DEHoY2EBmQkY+II/QGFW1Gpe3Ptk07bMt4uEREHYW2TC4ZUxzOUG8ZiciWH4KlLoS2w4cJ5+eJ6vVtHfNGpHNwykYEU5Pn2kYbM1Td5MY6tDRW1EOEj3VB5GimnRbms/1tmto0Vm7ql4mVjSFCtNMitgKygbWu0CZLFuH8lSm0pXPw5Ut1OmmLCiwXKRRRs4EV6pVFb0n34uMRsNZLcbdQMiDQJbKxYk43KahkXl6Y6DwvLt//+2d2bz7cr3QzTz/7bLq5n7I53lgNmTNWfEu74Z+nxkG59Lg9KNslatRR2XMb3aqVbKptl9Dm46HRSftoFxhSIiNFKFo4vkHOVmgNjgQMg2BmbXjZQWZLQlu5XF4xT12PkZERli6z3tqUzQkml4MQkgt5dqqBQGBqF0MYaMtC6HjDhfZ20xA1BJLSeT5tliGxlKQSK5TOEtTaO4a9V8Pcc7s2tv3OZtf58B6kLKbsD7zxGsZgFmGsnjpqC/M0q0sMHLmasXKNfJTcmEsbZJh8P2xU0WZWm9vuzwasBCIUO/i0ScMkloI4mqGx7NOWH4bqxKanNg8fBpLk0d0inYNTNiI4O3mu5aJ8eiVx1DF8rLiXGB/TWH2RZVkW2ra/oi2yDJS/WjDQho2SMbHngBWRC/LM1uprDMJVySZcdK5I4/B0Dr58qS76hNLBNBQ6DIldF9vTK35JJd2bBCHsYfelNAJAUAqzNIMq2b4+LAQLE2Odj7EUqi+TCm10N09XKpXdG1DKgcU/XcUczW8p5Orb08+BBumPIMwWkeMgz0sMlo5HbBqwTS3eWmh8vK4DEZQEhYkvmjieIpdJ1gb1WhWjr49wdmZbxrVf2JLQFkURhtG54kApRRiuNdpNubwJphorQQhNL0Q2HCIRYPk+phbE7Rv7aBMz9O3EwyHAp1ev7msvZg0qjo+lTeKwTNMJoScV2s6nm+s85crEH6thrKlmg5kTx5FK0Ts6yvGFSfJBD0gNFqiggWaDIJRYYzQcotzOtJa7otmxok0IQWyaROFZKs3273xhCCpnNj2vcegQCIF3YvfaR3dqDv7c5z7HtddeSyaT4eabb+Zb3/pWx9c+/PDDSZDEeY9MZvX/ndaae++9l0OHDpHNZrn11ls5fnxjj5+USyeYnMRYrmhbOk2FEhnLoho72FEPyLViWkZnCfCJRbzt49GWgfBCiM+JZZG0UUqDjsH0yfs9BLJCublakFM9FtqPiRtrvRUvd9I5+DIlcKk1MrTMGnmZJWwmm1AZN0yqSzQUdS8tsbdilVTJNVeICvi6iRocIut6zI1tPNcZgxn8s3vjLbefSNfKKdtB7EeJ//no1oIQTtdOUAx6CKM+Ypm0nqrzhDbD8Yi2KXF0GQ+n69ZRABODQCVCWzZfADS1tk9bMH15CW1b+pfWWvOe97wH215fMPG87d8RTdn/+GfrK0EIx2cbDOqQhlUlu+hgBxJMjRYmiF2M6xXQoO3Tdt49adE2WGz42IATL/FPL8zwI33XwLH/A4EL5i75yO1jNrvOm8298w5J2TuiqkdU8ci9fu1O7czJF+kdHkUZJlONGa71exHtS0n5jSQIocPmmdn2ZwvzOyPEOzQZYBip5bpigrCy6MYsC/X2zwrD55JHM+tXwgFI28YYHMQ7tXtC207MwV/5yle4++67eeCBB7j55pv57Gc/y2233caxY8c6Vs6USiWOHTu28vcLd1t/53d+h9/7vd/ji1/8Itdddx0f/vCHue2223juuefWiHIp24PWmmBqity/+BfJE+VTVEQPhXyWeSfGQiHk2na0rM7j7UDbKEBsGghAegFxNml9iZWFrRLhzVQ+IhrEVmeYqboMFM79XqtS8udw0VlJIb1SSOfgy5TFE1TCURqZKkWVI2okopQdaFq2SY4CBsaeBSEsI2WSPGrFRRAzeMUMWcdndnqKKPBR5vrXozGYpfmtGXQUI9Qu3u/vM9K1csp24J+pQ6wxD21NaFsKx3mV2w5CiKoIqRDn/S7Klk+c3Z620WU84ZLXxa5fb0kLV7cIIwlWL1k5T722xFB/P8H01LaOba/Z0jfhu9/9boaHh+np6Vn3MTw8nKadXWHoWBNMN1Ftf4ZjM1UGwwy+uQA6wnZDkBGRsfs3yk1Ro0gvUp/7NbdNiakEsr0j/OL3JpLWUR3B4oldH+N+ZLPrfGhoaMvn3ErFzPl8+ctfRgiRpqztA7yJZGfswoq2OAqZHx+j7/ARml5IK16k6PefE9qCxoZBKKrWREtBnNmZ7whHtBDIjjcBViaP0CGL1XYVQb4tLlW7qGo7fHhXK9p2Yg7+9Kc/zfvf/37uvPNObrjhBh544AFyuRwPPfRQx2OEEIyOjq48zm+T0Vrz2c9+lt/4jd/gbW97G6997Wt55JFHmJqa4qtf/erFfvSUTYgWFtCed66ibfEkS6FNPpel7ibznWGtFdpyOo8vdkhoa++aK/e895UK2a72EDpZcBbxmbrAp02VLBBckT5tOzEHp+wDFo5RjQ5Rtyv0WnnCRgOhFEoLItukR/eh0bTY+6owqQJEnGw0TZsB+ShG65jy5NmOxxgDWYg0wdyVd82eTzfz9Dve8Y69HmbKPsc/XUXYCtXX/Sb0mco8WlU57PYhiIicKjKbZWUvNAblesT29t5vuzhkyCF0d+2oWWkRymTDyJGD5IRPrTyP6usjvMw82rZU0fZHf/RHOzWOlANKuOCggziZYIHTZ+q8MjZR7bQ/O9RE0kfL7pXu7aIp6kgtKeoequKcb1HBNqkLE6ENGpMV6HlN8oP5F2D01bs+zv3GZtd5rVbbUrLhxVTMAIyNjfHBD36QN77xjV2/V8rO4Y/XkUUTlV+9E1Y+e4Yo9OkbPcJYuYWl6lhhFpFNqlZU2MTPdv5/NmsOUc7eMU8ahxYaTYESdaprfp7LFqkBTmMJ6E2SR4VM2kdHNv4+MA8dwt1FU+PtnoN93+fb3/4299xzz8pzUkpuvfVWnnjiiY7HNRoNrrnmGuI45gd+4Af47d/+bV71qlcBcPr0aWZmZrj11ltXXt/T08PNN9/ME088wc/93M+tOZ/neat2+Wu12nZ8vCsK/2yyADYGB8GroRsLVP2XMprLENRAE2GqEFh9/WbJs8DOtGpo00AjUK5PsOp5G6kiiJP7hD6p1wQiCEOiihbB7JWXYrjdc3DK/iCYPoET/yAtq8o1qo+oMYdhWIBLbJuU4j4cmjvSxr1VpBESRn2oWDLrVLiqpwclYGFijKFrr1/3mGWf5mCqgbXFKpzLiW7m6fQaTtkM73QVcyS3JX+2b55J7kd7WyVCs4Ffq2H2n7NQkp6PiPX2t44KB6klGXJdJSZbUhFFyZzv0EtOBNSW5jEOvYJgdhYdxwh5eVTF7otPkfrDHFyCqWTnzRjMEkaa5nyyQLK1jzQspBZIGW5Y0bJTODSJCOm5wKctZyualoEZ2+hGDW0VINsPCy/u+hivBC6mYiaKIt75znfy0Y9+lOuvX/+mLmV38Sc6+LOdPolpZyj093NyvkwhTnbKksRRDxmHnYNQNBi1JuEO+bMBaBHj4nROHrVMImUR+XMEoQBlQK4fqp137pcxjxwhmJwkdnemIminWVxcJIqiNcbNIyMjzMysL7684hWv4KGHHuJ//s//yX/7b/+NOI75F//iX3C2LfQsH7eVc953332rdvyPHj16qR/tiiM4OwmAMTQE5VPUY4so1ghbYEV9hKKFaa6+5TO0gYm1Y62jCNC2Qq6TPKoUaK9FpAKKsWS6urYKRvXaSap5SsplQO1M0hLVsCoUVI6wXsNEoZVEG4oe3Udzj9tGl5HKJ9AF8pGi6lYwBofI+iHzZzonj0pLoXqslYC0lJSUi0OHMf54HWOLgvULiy8gojyxN4QwltBhiMqeO8e5xNHtr2gDuvZpM5QkJgJiHF0iJ31qtRpqYADCkGhxcVvHt5fsudC2XO3ykY98hKeeeorXve513HbbbczNzXU8plQqMT09vfIYH1/9xb/sD/PAAw/w5JNPks/nue2223AP6GJoP+NPNpBFC2krTi826NMuLbOG5XgYRlLuqg29J0IbAprU1wQi5E2Fa5lkAtDhPPOLAfQeTSraUraV5YqZ86tbuqmY+djHPsbw8DDvfe97u3ofz/Oo1WqrHinbhw5j/MkG5jpC2/zYSXpHDiGE5NTSJAWvD4RG2CCD5cTR9YU26frIIEoq2nYQRzQpxOsLbVJCaJrE4SS15eTR3GB3Qtvhw6A1/unT2zncfc0tt9zCHXfcwY033siP/MiP8Kd/+qcMDQ3xB3/wBxd9znvuuYdqtbryOHNm87bdlNUEZ88gSyVkNpt4QZH8vrtGgB0OEOFiX+CbtJwS5u1Q6yhAZJqoC4Q2rTIYMiJuNYmsgKxvMVVZOwbVaxOmQlvKZUJ1JrkvaZo1ssImbDSwY0GUNTFIPNpa7I/UTrWcPBrnceMa5tAwWcdl8cwYbJAErPoz+NOp0JaScin4kw10GG/Zn23WPUVf1Icf9ROLpIND5c7dfyvHQ0uBNrc3UCckICIkpwtdvd5UEqkVkXRxQpucqXH9kLiYHB902JQ9iOy50Jb6wxxsgsnGShDCC9N1BkOLll1FN+oYGGhDJrt1anvLVLulIWqUdP+qvnEhIWsZ2GEAusVTL0xCz1GYe35Pxng5s7CwsOWKmW9+85t84Qtf4MEHH+z6fdKKmJ3Fn2xApDFGVgttUeCzOHmG3tFRqk5AM56n5A0g2i8zgjpaCGJjfSHNqCe7YDsttLm0yFOCDuuD0JIQV5kvt5PACkNQndj0vObhwwB4Jw6mv+PAwABKKWZnV3tizM7OMjo62tU5TNPk+7//+znR/jdYPm4r57Rtm1KptOqRsjX8M2cxhtveXYsnqZhDSCmpC4dMlAhtprG6BSVLW2hj5zyVtG0g3XUq2mRM7DQgo8n5ReabVYJodcuc6ssQVTxiP9qx8aWk7ApRQKUCkfCTak7XhSjCDjSxZVHSfUBiebIfECoANPkwjxYBfm+erB8S+D7V+c4eSsZAlmCqid5AjEtJSdkY73QVYcoVW6ZuqHl1fLHIS7whQBKFNaSdQZyXUq1aXpJwvN1WLSKpatuK0CZig1C2cDxFvl1h1zKSsQbT09s8wL1jT4W2i612WfaHOXr0KG9729v43ve+t/Kzzfxh1iOthrk4tNb4U42VL4LjkzVKYQ6sBoQBZizQKrmp3iuaIhH8Lmwby9kGy7/+YydmEqGtfAqiYJ2zpOwW9Xqdd73rXTz44IMMLpt6d0FaEbOz+BM1MMSaSX/x7FniKKJ35BCn5ptIo0zRG0C0X5YEIXS+UTBrLSLbBGNnpyJHNDEwyLK2Ig+A9iQ/NTef/D0/BI15iDZOB5O5HKqvD+/k7gUibCeWZXHTTTfx2GOPrTwXxzGPPfYYt9xyS1fniKKIZ555hkOHDgFw3XXXMTo6uuqctVqNJ598sutzpmwd/8wExuCy0HacCj0UclkW3QClLaRaWzGW0wV8/B31hIotI6loO2/dHSkbQ2m05yBtKPi9oKrM1i4IROhtJ4+mVW0pB53yKarBCC2zRk5lCRuJoJZphcQZix7dS4CPz/5IpJQiRsoAsx2IMOXVKWRyCGDxTOdNKGMgg/Yiosr++BwpKQcR71QVYySHkN0rYt+aSvzZjrglBCFRs4KRX33Pq5ptoW0HcIXTdfKooUBpA180aHmKXC4ZZz3wEJZFmFa0bQ8XU+2S+sPsH6IlD+1GGIMZtNbMTy8BAlsmu9dZP4K9ahtt06JBTLTGpy1vKzzTQmDQmqsmQlscQvnKaQHbDQYHB7dUMXPy5EnGxsb4qZ/6KQzDwDAMHnnkEb72ta9hGAYnOwgaaUXMzuKN1zAH1076CxNjmJZNvrePU/N18tLHiMyVijbl14k6+bMBqt4izu58IrFDslDv7NOWQ8scs4tty4L8EKChtnnMuHn4MN7JU9s11F3n7rvv5sEHH+SLX/wizz//PB/4wAdoNpvceeedANxxxx2rwhI+9rGP8fWvf51Tp07x1FNP8fM///OMj4/zvve9D0gqzn/lV36F3/qt3+JrX/sazzzzDHfccQeHDx9O04N3kGDiTOLP5jegNk0ltMjnMtSa7YRPY+3CN68LeOysiBVbFiKOkf65TSytMiiVKG+GGWDGGTKqznRldWXdstB2JQYipFxmzL9AJTxEw6pRVDnCeh2kJNP0iDMmJd1Hk8aOhQJdDMoIiHUvQgumGwtYA4NkYlic7Cy0qf5kvg+mNjdET0lJWYuONP5Ydctto9+dfQEd5sg6eZRaJHIdVO68CjMNynGJMjtzz+3ikKPQsXPkQixhEcgmLU9iZfMYIqZeraD6+wmmU6Ftz0j9YfYP/uS5IITpqkMxaBBIl0zoI6wMpuODDInVzi+kO6GFbvu0Dax63jYkvm1hxhbUa+jSVckP0kCEbWWrFTOvfOUreeaZZ3j66adXHm9961v5sR/7MZ5++ulUBN8DtNaJKevwWsFsfuI0peERNJJTS9MUvV5AI7MAGhU0iY0OVWSxxmi4RDsYhLBMKAIC/I5CW1ZZxEaBer09uefblUFd+LQZhw/jH9DWUYDbb7+d+++/n3vvvZcbb7yRp59+mkcffXRls2piYoLp88r4l5aWeP/738/3fd/38ZM/+ZPUajX+/u//nhtuuGHlNb/6q7/Kv//3/55f+IVf4Ad/8AdpNBo8+uija4KLUraH2HUJZ2cxhoeTymyg4sQUsll8L09MgGWubb/M6yKu2Lm2UWBl91w554Q+LRWqXcUq20JfvwyZvEBok5ZCFs1UaEs5+My9QCU+Qt0u02vkiep1lJ1BRhBlbIq6l9Y+aRtdRhoBvu7HjhVL7hJqcJCM47IwsUEgQt5AZBRB6tOWknJRBFMNtB9jHuquDXOZsfpxVDxA4PShRbJprM6raJN+iAzjbQ9CWMYTLQwMbLq7z7MxCWWLMDSI7T5ywqdWWcTo7yeYuXxaR/fGOKvNVqtd1mMjf5jlVpblv994443rnsO2bWx779obDyrBVAOZM5A5k+fHlxiMFS27SqFeh1wRObtI3Ks3bB3bDRqixpA+jNACLc5J7TqXIVNu4RuLLLSKDFkFWDgG/H97N9jLkLvvvpt3v/vdvP71r+cNb3gDn/3sZ9dUzBw5coT77ruPTCbDq1/96lXH9/b2Aqx5PmV3iMoucd3HHF29u6bjmMWzE1z9mhuZqTr4Yo6SNwgZQIEKmgg0kbm+0GY0XITWRPnd+e51aJLvILQVDJu66aKacziuRzaTBysP1clNz2sePkzjr/4K7fsIa+82FS6Fu+66i7vuumvdnz3++OOr/v6Zz3yGz3zmMxueTwjBxz72MT72sY9t1xBTNiBoV/QbIyOw8CyBzNDyAkRGYNcHCUWD3AXt2UJLsuRYpLPf0nYQ2wYakSSP9p73/pYNIiQOm4CmR8Dk0lrRz+jLEMym1TEpB5tg5jit6Adp2t/mkFUgrE1iGhbgYOf6MTBo7ZPE0WWk8onppSfOMRdVMUYGyT4bMFVewHccrOzae3shEosJfzq9ZlNSLgb3ZCXxZxvqfu3shC0a0Swj+kb8qB8hn0VaFsI81yaqWok1Q5zZodbRttdrXhe7CljKKJO6Tqy6HDlITp6kujiL6u8nnLp8hLY9rWhL/WEONv5kA2Mw+SI4NlOl3y8Q5nyi+hLKyiK0BhO03NvFZ11U2z5tPaueF8UMOc+DuMZ3Ts4m7aPzaUXbdrPVipmU/YU3lkyExgVCW3VuljDw6Rka5uR8E2WX6XNHkOe1jQIdhXaj3kILsWNl7BfiiBbFDkKbZUg8K5kOJ6bbseL5QahuXt1sHj4MUYQ/3nmXPyVlJ/EnklYuc2QEFk9QzRwBwDNCsuEQIQ62ufp2L0cOgdzxijZEIrYZrdWtq9rIoJQAt0FgeRQCg4l1hDbVlyGcSRftKQeb6tnE/7NhVSiIpHXUFInxd94aQqNpsc+ENiOxgSmGBbR0adoWuXaw2NJk57nR6M8QTO2vz5KSclDwTlQwR/Nb8md7cekECM3LgiRUJfRqqNzqe3bVdNFSEFs7U2Pl4xERde3TZipJ1BbkHN1LXvjUKkuogYHLKgxhTyvaYGvVLpD4w/zQD/0QL33pS6lUKvzu7/5uR3+Yl73sZVx33XV8+MMfTv1hthmtNcFkA/vlyUV99myFw9rEsByIIgyVKOaxtQPpJlukRYOQkH49SJ3KyvOZnIXR7qY5fWIGrjsC8y/szSAvc7ZSMXMhDz/88PYPKKVrvNNV1EAGaa+OA188M44QkuLAECdPniEnXcwwg8gnVaMqqBEpCy3XjxE36g5x1t617weHJiMcwdAmoVgbehIZIYgiE5NlXnHdYcgNdtU6ah5pixonT2G/7GXbPu6UlM3wxycQto3s6YGF41SMawBNhQAr7sEVC1hqtdC2fDPs7mDi6DKxZaIuENoilcFQDUKnibYisn6W6UqTWGukOPeloPpsou/4xG6IzOz5LWtKytaJAqqLSaJ106yQCxVeGGBHyaK3KPpwdWtHQ0kuBikipAiwo+S74vTSPNf39mEQsjB5hpGXvnzd49RAhuiZBWInRGbTazYlpVt0GOOP1cjeNLyl4/55+jl0lGHEzRDqJpHbwhxY7U2eJI5aO3fPLcCl1XXyqKEUcRgBMU5cIKdCGo6D7OslnJ9HB8GqiryDyp5/A95+++3Mz89z7733MjMzw4033rim2kXKczeIy/4wMzMz9PX1cdNNN63rD9NsNvmFX/gFKpUK//Jf/svUH2abiao+cTPAGMxSdQKkU0HTTzZOdsCsOPk/i6x90JIroEGV/niYcXXOS8k2JLFhAjH12SrceBQmngCtQewjR9qUlD3EO1lZ1yti4ew4xYFBIiGYrM9yldELQq9UtBl+nVh18GcDjFqTqLB7beWOaIJOAhEqYnHNz4UMEGqQ6fl2IEJhCOaeI3F27fx9oIpFZKmEd/IEcNuOjD0lZSP8iXGM4WFE0IT6NJXia7CtFhXHwAKEchBiteBd0KVkB1qEOz6+KGtiVlf7rGllY8iIoFlDjEKx0keQqzFf8xjpOXevZvQlfw5mW9jXpCE3KQeQ8ikqwTCR9EFpdD2p9sq4MVHWohT30hL7r2pTCFDKRUf9oAUzjXleMThIZuYsi2c6V3Avp5P7Uw0yL+ndpdGmpBx8vPEaOoyxDm/Nn+35pWPEQT9GyyYWSYW7yq+taNupttFltpI8aimBjBWRdHA8g37bQLvg5LKgNcHsHNZVR3Z0vLvBvghDuOuuuxgfH8fzPJ588kluvvnmlZ89/vjjqypaPvOZz6y8dmZmhj//8z/n+7//+1edb9kfZmZmBtd1+X//7//x8pevv/OScnEEk0lbmDGU5cXZOgNxjGPVMVoOMlvAdD200sTm/hA3a6JCiV4MvfpLJrRtlLah3kSXjoLf7CppMCXlSiBcdIiWPMyr1k76i2cnKA4OMb7ogLFArzuCyALt9bwR1Dr6s4kgQrkBYW73hHgPl4iI4gUt5MvYSoHRS8up0XJcyA1B4ICztOm5zcOH8A5wIELKwcY/PZb4sy0mv4OV0CSfy9JqZYlFgNluATufgu7BYXcW97FlobwAEZ4LZIhUFkNpYqeFkTXIBSVMs8LE0mpBTvUmVa9hGoiQclCZf4FKdJiGWSMnL0gczWXJU9x3baPLSDPE1wNktEXVL2MMDZF1PcpnJ5JN6XVQvTYYkmByf36mlJT9ineigsgo1ED3a2c/8llwz2DpQQKnhziaR5oW8nzP4BiMpke000IbLfIUu0oeNQ2J1Ca+bNDyFPlssh5otf1kg6nNPZIPAvtCaEs5ePiTy0EIBsfn6gxEGbxMi7i6iMgXUK0GGBCr/SG01UUFgaBfD616Ps5nsEMBwRJVuZw8emwPRpiSsv9wj1dAsCZm3Gs1aSyV6Rkc5vR8EytTptcZRrRfJkMHEUcdE0eNWrJojnZRaEMk7aOdkkdzyiZoV+BOzS4kHm3QnU/bocN4J05u21BTUraCPzaW+LMtnADDptIKyGYtpNdHKBpY1gXt2+3KTmeXqmjibDt5tHVO8IuVjVIadIxh+ggk/crnTHm1oCYMiSpZaSBCysFl7gWWoqtpWBVKKk9Yq6FyOcymR6YwgkTu2rW4VaQREGPRG5eIZB2n0EPWD/F9j3p5Yd1jhBQYgxn8VGhLSdkS7rEy1pECYgtdVaerp9DEjMpDhFGRMKyuqWaTjoeIY6LMzt5zu6KFQpGhczfLMkqCoQ0C0aThSrK5IhJNPU425MLLxKctFdpSLgr/bANjIIsQgpNTdYp+AZ31iZs1ZK4H1XKSija1D1pHgUD4tGgwEF/Q917IkPNDdLTAswsGKCsNREhJaeMeX8IYySEvWKgvTSXeZaWhYU4t1inGGqkNZLvwzfCrABskjjrEhkSbu+tekAQirF/RllcZAsNDyAKTcwuQGwApu/ZpC8bH0eHOt+GlpJxP7LqEs7MYo6OweBxdPEy13iQ2IReNEtBIqjXPw8LGwsYRu1MlFtsWGoFqnucHJyXKau+u60Rk6BeaifLaMam+DEFa0ZZyUGlXtNUyC/SZBcJaFcPKIIKIbH6EmHjXqku3ijI9QFMKexDSZ6xep5BNFvGLZyY6HmcMZvHP1HdplCkpB5+o4RNMNTGv6q71cpkXyi+CNnm5n4XYJfIdVH51F4rRTEIHouzOho85JPN0odv2UWkRqCauZyDsIjkZUGvUkKUSwdTl0V2WCm0pW0ZrTXCmjhrKEsWapYVFBJKMTG6iZaGI4fhoS+4rr7OqWGJADyP0eUbLPTmyXgCEHD81D6UjaUVbSgqggxjvxSWso2snzMXJs1h2ltjKMd+apccZQBs6aR0FlL8chLB+mbpZaxFlM7selOLQIEseqdcGNORNC182EGqYszPzIFUitlU3L183Dx9G+z7B2c1FuZSU7cSfSFq4jNFRWHiRVu4QQRjSEmDEeULtkLkgcXRZbN61xb1sJ482Vwci0G5tib06kfIphorxxXWEtl47FdpSDizu1Gm8KE/TqtBvFpLEUZlsMuWtIVxaaNFFr9UeIEWMIRzMIPnOOFubwRroJxMn9hGdMIayRGWXuLU2eCglJWUt3okKANY6Vi0b8d3554n9fno9IE7uV43CBf5sDZfYVGDsrOwTEhASdO3TlpUWoWgSxQrf7CMvPGqLsxgDA6nQlnLlEi15xE6IOZTlzFKLntghIsT2PTBMhJVBhHGSOLqPqIklDEx69HlJLJbCaC+6K1MV6LkK5tLk0ZQU71QFHcRYV69ttSxPnqEwMMhEuYW0Ful3RpHnzeuGX+0chKBB1Vu72zbaxhFNBILiOu2jQkAkWgg1Qr3RpNFy2smjm7eOGocPA+CdTNtHU3YXf2wMALMvB405KjKxR2iEiYgViRamsVrRLuoeAgJ8LhC+dpA4a62uaAMwsigDdKtBlA3Iullmaw5+uDp90ejLENf9dNGecvCIQirzSct0w16i4EmIIuxYoBEUVP++DEI4H8N0COIBFDYVr4wcGCTjuCxMjHU8xhxO5n9vIq1qS0npBueFMsZgFpnrfu0c6ZCJ+im034/RtCCeQtr2mrROs9Ha8bZRoG3R0upaaDOVIhJJtZ0jBslLn+rSIqq/PxXaUq5c/LPLQQg5Ts416Y8Fjl2HehWVL2I4yc30rlzUW8ChiY/LoB5Z9XwyToN4qQU9R9OKtpQUwHm+jCxaqL4Lr2NNeWqS4sAgY4tN8maNnN+z0jYKYAR1IjPPekjHR4YxUW5nS9jXw8EhJqbQoX0U6SFUIlQkPm1DXbWOqt5eZC6Hd/LUdg43JWVT/NNjyHwe6c8CUCXxd2kFPUSyhWXGa44pLgch7GJFaZSxkvaV84YTGVlMGRM1a5CBotePVnUmyquFh+XvoGAurWpLOWAsnWbJH0GjaZpV7EYiFmfcuB2EUMDZp0EIy0jDI6RAL71gVKlmS2T9kOrCHIG3vlgvixYyZ+CP1XZ3sCkpBxAda9xjS5hHt1bNNl6bINIBeTlC6PQQRWWMC/zZ0KAaDlF+d9bkW0selUTtDb+W7iEvfWqNJrK/n2AyFdpSrlD8M3VkwURmDU7ONRgI8gQZh6i6iMj3YNXKAESZzc0QdxUBVVFhMB5dlYgS5WzM2ED6NRqZa6G1CM3FPRtmSspeo2ON8+wC1jXFNaasrWoVr9WgNDjE2EKDnsAC9EpFmwoaiDgiMte/YTDry0EIexCUIjQOTUq6d90fWwpiGWNbRaZm5xOhrTEP0caVP0IIzCNH8E+myaMpu4t/6hTGoVHE4gkwM1TcmGzGRvlDBKKOba4NQijqXlpidxf3UdZChDHSOy8QwchiGBrdqGEVDPJBEctcYmxx/eTRVGhLOXDMv8BSdATPaGFJk6heRxgGdtMj03sYgdz3FW3SjgFNbzCAUA5jfsTyUr48uX77qBACYySHN1bdtXGmpBxU/Ika2gnXtWrZiGPlY6ANjhrDRGFMFHpr/Nmk297c3mF/tmVcWuTII/TmEpNlCIghFj4t3yJvCbTWuD0lgulpdIdk44NEKrSlbBl/oo7RLgs/NVMlF+aRZhPCAJkvYTaqaKGJ7H0mtAFVUSZDlgLntY4VsuT8mDia59lmu600rWpLuYLxz9SJGwH2dWsrv5amEw8IVexjwZujxx1E2xG0cw2U1w5CMLLrntuotYhsE9Te+De2RGODQIQsvqohzH4mlyva0F35tBmHDuEdT4W2lN3FO30Kc/QQLByH0hEq9SZGRpEJB/F1A/sCTxabDBb2HghtyW66UT/XPhqrLIbSxJ6DykpAMmqFjC2uFh6EkqgemzD1aUs5aMy9wFJ8LQ2zQl60E0fzecyaQ6Z0mJgYl/39ey1lhCkaWH4vAJPNWXJ9/RgI5ifGOx5njuTxz9TRwdqq2pSt8bnPfY5rr72WTCbDzTffzLe+9a2Or33wwQd54xvfSF9fH319fdx6660bvj5l73GeW0TmjJW1dbd8b+F5Yr+Xa8OYKJwDWCO0rWxuZ3eroq2FQJJj/a6W8zGVQmqDQDZouYp8NtmAb2UstOcRLayfbHyQSIW2lC2hwxh/so45nMMLI7zaEgB23AIhkPkiRqsFptx1o/NuaFAjJGAwPq99tJgl5/kQVzk2JxIT9Lnn926QKSl7jPPMQjLpj6yd9JemprByOWZckOYCfe4wqnCuasb0K4nIJtcGDkAitMV74M+2TIsmOQoovTbxtGBm8WSVSA9Rb7aoi/buYhc+bebhw3inTqHjdFGRsjtorfFPj60kjlI6wlK1ji8MBCoJQjD2OAhhGUMSmwZG45zQpqVCrgQ1NICY3lhzen7t2NJAhJQDyfwLlKOrqWfKlFSBsFpF2VmU45PLjeDs4yCE8zFUnSDqxyCLEy2iewfIegELE6c7HmMezkOk8SbS9tFL4Stf+Qp33303H/nIR3jqqad43etex2233cbc3Ny6r3/88cd5xzvewTe+8Q2eeOIJjh49ypve9CYmJzffMEzZfbTWOM8uYl69toNkIyIdcaJynNgfoKcJxGdRmSzCWH3vbVSdZHN7h4MQlllOHu2mfdRQoLRJIJs0XEk2l0cKTaM91OAy+J1NhbaULRHMNCHUGMM5Ti+06McjEgGm20RmiwilkI5HbO7TXy2hqYkKg/GhlafCvI3d9lhePFtLkkfn00CElCsTrTXOM/NY15bWnfTL02cp9g8ysejQo1yMyEacH4TgLREZHXwmwhjV8gh3yStiPVoi8ZgsrVPVllcWvqyhRRJuML3UALsElc7pasuYhw+jXZdwenp7B5yS0oFwfp64XsccLEFzgbBwmEazhaszaEJiXOwL5uKC7iHAJ8DvcNadI8rbqyraAKSd7GBrp4FveRQ8kzNlhyheLT4kQtv+brFLSbmQaPZFan4/tcw8/TJP1GxgiWSTp2AO7npl6cVimA6xtugTh5FWhXKmSNb1WDw7QRxF6x6j+jOIjFpJU0y5OD796U/z/ve/nzvvvJMbbriBBx54gFwux0MPPbTu67/0pS/xi7/4i9x444288pWv5POf/zxxHPPYY491fA/P86jVaqseKbtDONsiKrvY16wN6dqIM7UJ/NjD1MPouk0cLqypZgMw6s1d3dyORYSPS6FLnzZbWgSyQdMzEJkSBRlQD5P7E/9sKrSlXGH44zVQAmMgw6n5Bv2RxLEbxJVFRKGEjDykp4nt3Tc675aqWKRAkaxeNpWSSJUktMQLbhKIkFa0pVyhBGcbRFUfa522UdAsTU9S7B9kvFxP/NmERrYL30Tko0KHyOrgz9ZwEFrvWgn7eni4hASUdN+anwkBkWoghE0um2dqbhEKQ90JbUeOJOdPk0dTdgn/VBK+YWaS1K6aMYAGgqiXUNWxLcGFWnlR99Da5SCEZaKslQht5xV9CjuPFBA3q+hsRN4tEsQ+U5XVgpzRnyGuB2nyaMrBIY6ozDYBSd1aYshPllyZUCNUhpws0uJgpHIKK0YSUAqGENLntNbkg5AoDFmaXj8wSAiBdbiAmwptF43v+3z729/m1ltvXXlOSsmtt97KE0880dU5Wq0WQRDQ39/f8TX33XcfPT09K4+jR49e8thTuqP1nXmErTCPbC0I4bny8whtcCh7iKAl0NpHFVafQwQRquER5nfXE9nBIa+7Ew6z0iIQDcLAJDL7yAmXarWMLBTSiraUKw9vvIYxmEUYkpPzDfqCPJFZRXsOqlBCuUsQQGTvgdF5l9SoEhExFI+uPBfns0htYbhNavlrYe65vRtgSsoe0vruPCJrYI6u9Vdw6jW8VhO7t5+51iwlrx+djVZmEsOvAHQMQjBqLbSUxJk9FOJF0j7aKRBBigBNRCbT304eHYbK5q2jqr8fkcngnUiFtpTdwTt5EgwDQ8+Dlaec6G2Y8VFC0SBjrBeE0IOzR+brUS6DiGNUyz33nMphGDFxo4oqCHrcQaRZ5tT86kof1Z/cUwQzaVVbygFhaYyyl9iU1K0ymVZS+ZVthWQGrwI4MBVtKAtLlFFeCRDMegvkCyWUEMyNbdA+eqRAcLZO7IS7N9bLiIWFBaIoYmRkZNXzIyMjzMzMdHWOD33oQxw+fHiVWHch99xzD9VqdeVx5szm9zwpl47WmtZ32h0kamuSzDPz3yPy+7lemERREuCn8qvtXoxaC4EmLOzumtwVrS0kjyoimWysteQgBelTKc9jDA4SnF1fxD9IpEJbStdorfFO1zDbvk1jMzVyYR5FUmIsCz3Y9UUEgiizdxUrm6FFTE0sMRwfPvdcIUsm0MThPN/2DifJo435PRxlSsruo7XG+e489rUlhFxb8rI0lcRtV0UOYS5ScgZR+XOLecNbIlIWsVpfSDNqraRtdI/9G1uinlS0rWONk1M2nqoi5AC1RpOmNQD1KYg2rqQRUiY+bSfSQISU3cE/eRJzdARRPpEEIdQaSENh0ocXN9ckju5VEMIyUdZCC4FZO+e1FhlZTKXRjQpW0UZpk9GMszZ5tMcGJQimU6Et5YAwf4yl6CoC5SKUQNfqyGwWq+qQ7bmKkBAPd/Pz7AcEWKpGGObJiT5CWSbq7ScXRMyd7ry5ZB4pgAbvZGX3xpqywic+8Qm+/OUv82d/9mdkMp3FFtu2KZVKqx4pO48/XkvaRl/Su6XjgjjgZOUEsT/AiBOgo1lUNouQq2Uda6lBbBpoc60n8U7i0iJDdl0v5AuxDEmoPQCacR8F6dFsOeiBAfxUaEu5koiWPOK6jzGap+mFxM0kCMEMG4hMDmFamPUKALFt7uFIN2dJLFCgRF4nlTdxIUPBC9HRPC9W2ir87LN7OMKUlN3HP1NP2kavXz+Vc2lmEiuTZbIJPdLF0BbivA000y0Td6hmQ7cTR/ewbXSZpqhjYpFdJxWpaGbx5RKtcAiAaS8HcQS1zUvYzUOH8E4c3/bxpqSsh3v8OObhI7DwIvRcxVK1jjYSkTvULbLWhf5syeJp14MQlpGCOGujzhPaYiODYULktFC5RIEfRHPygoo2IQVGX4ZgJg1ESDkgzD9POb6ehlUlL3IE1Soqm8OstcjlD9OiseebTltBGS1A0K+vQZo1ypkiuUaLhYnTROH6G1GqaKF6bdwXl3Z3sJcJg4ODKKWYnZ1d9fzs7Cyjo6Mdjkq4//77+cQnPsHXv/51Xvva1+7kMFMukuY/zSKLVhIcsgVOVI4T6oCcGEVWSIS24gUVZBrMco2wlN317xlHJPN0Nz5tlpKgNbHwaYUZCmYyWKevh+AyqKxMhbaUrvHGqgCYIzlOLzRXghBks4bMlyAOUS0PLQTaXD9xcL9Qp0JIwHCc+CqFhQyZQAMBSzMaDBtmv7e3g0xJ2WWcp+eRufXbRgEq09MU+gcYKzcohSZaaGS2/cM4xAgahOb6E6tsecgwItrDIIRlmjTQaHrW8WkrGTk8tUQY9ZDLZphptMveKuObntc8cgT/5Cm03v8pcikHG6013ovHMYd7wa22hbYaocgSySbICNtYLwgh2JMghGWinIVZPU/oEwJlWaA12m/gWy5FTzG+0FobiNBn408fkFa7fcbnPvc5rr32WjKZDDfffDPf+ta3Or72wQcf5I1vfCN9fX309fVx6623bvj6lA7MH6McXUvVXqAkCoS1KqZpI8KIgj1EUxwMf7YVTIVJjUwwiBARp2VE3guIooiFibHOh6U+bReNZVncdNNNq4IMloMNbrnllo7H/c7v/A4f//jHefTRR3n961+/G0NN2SKxG+J8Z57My3u3lDYK8L355yDOcKQwilfTaB2uCUKQLQ/lBoSFXIez7BweDjFxVz5tliFR2sCXDZqOotDejG/mMgTT0+jwYLedp0JbStd4p6qo/gwyY3BivkF/rHDMMrpZQxZ6ML0lhC+ILWPf79JpoamIRUbiI6CTCjxTJ+KgnA/QvVenFW0pVxQ61rS+O491fc+6baMA5elJsr39zDZnKHl9kDnnz2Z6yY51ZK0/sZq1FhpBlNt7/8ZYRDi06InXCm2GlASqDggK+V6mFiuQ7YGlsU3Pax45QtxsEnbpnZKScrFEi4vE1SpmPkkWiIqHqdQbCN1PpOpk19nsKupSUs22h/NzmM+gvADpnlcBk0nU+rhRJc76FFpF/Dhk8sJAhIEswUwTHcWkdM9XvvIV7r77bj7ykY/w1FNP8brXvY7bbruNubm5dV//+OOP8453vINvfOMbPPHEExw9epQ3velNTF4GxtS7STT7AhV/kFpmnuEoiw4C7EhgZfowhb2SgH1QiFUWSyyCk0Vqk/m4TDZfxJKK6RePdTzOPJInKruE5QPSJrvPuPvuu3nwwQf54he/yPPPP88HPvABms0md955JwB33HEH99xzz8rrP/nJT/LhD3+Yhx56iGuvvZaZmRlmZmZoNNJNiv1E89uz6CjGfkXnkIpOfHv2aSJvgOssiyioJhtW2dWCmr1QRUtJWMx2OMvOoYXGxaHA5hVtUoKBSSDrVB2JmStiy5iGEhBFBAf8fjoV2lK6xjtVXal0OTXfoM/Po8UCALLYg+GVIdhjo/MtUBbzZMjSqweShUcug8DAclu8mL8eZr6710NMSdk1vNNV4kaAfX3v+j9vNXHqVRyzCOYiPe4gKnduMW965Y392aot4qwJan+o8C1Rp0evf4MjhE9MgGEOUK7U8DIjsNTZ8HkZ83Di+5j6tKXsNN7xpEXZNCuQ7aPmS+JYY3IYP26SWUdoK+xhEMIyy+lnRu28cWSKKAlxYwlVlJTcQQxjaU0ggjGYhVATzKbto1vh05/+NO9///u58847ueGGG3jggQfI5XI89NBD677+S1/6Er/4i7/IjTfeyCtf+Uo+//nPr1TRpHRJHFGdqaO1om4vMhAky62sG5HtuxqNpsnBEj60MrBkmVgb9IirwCgT9vZR8EOmjr/AuqangHmoAAK8tKrtorj99tu5//77uffee7nxxht5+umnefTRR1cCEiYmJpienl55/e///u/j+z4/+7M/y6FDh1Ye999//159hJQL0LGm+cQU9rU9qPzWrJaW3CVmnSlUOMpQ3UGHsxjZ3OoN8hjsuSXCntyeKT2uaFGIu0weFRkCWcdxTLBLFKRPLUwq74OJiZ0c5o6TCm0pXRFWPaKyi3koEdrGZqrkwgJKVxGWjbAymG4Z4Uuife7PtkyLBi5OUtUGRMUsmQDiaJZ/8q+B+Rch9PZ4lCkpu4PznXlkycIYXn/3qzKdBCHMRTZF1cKIbcR5Haamu0DUoW0UwKw19kU12zIN6uQoYOq1wmBOZfGMMkGc+LTNimFYPLXpOdXgIMK20+TRlB3HfeEYwrIwgjPQc4RyNQklEqoXP26tqWgztUmG7N75sy1jJPcI57ePRkYew4jR1XkyPTYSxRHbWePTZgwmXjP+2YNVCbSX+L7Pt7/97VWJg1JKbr31Vp544omuztFqtQiCgP7+zpUXnudRq9VWPa5oKuMsuomHVsOqkG36CMMgU22R67sGhyaxiPZ4kFtHGT6SkJ74EMJwmM/mKVRqNJYWqc7NrnuMtBXGUBb3ROrTdrHcddddjI+P43keTz75JDfffPPKzx5//HEefvjhlb+PjY2htV7z+M3f/M3dH3jKurgvLhEuuGReNbDlY59Z+C5oweH81ej5iDiaX+PPZlYaKCfA7+8u+XMncGiSp9hJf19FxjAJZIMoNvDNIQqiRaVRBaXwxze3bdnPpEJbSlcs70SZh/OUmz7KTf5uuHVkoQcZBxheAxFoYutgCG2IJBRhSB9CaklUyJJ3Q3Q0w3i1H+IA5p7b61GmpOw4OoppPbOAfV1PR6+IpZkpDNPiRC2kFCrgnD+bjDxU0OrYNiq9oO0VsX+EtqZIFoLr+bT1GDlcVabW6sW2TKaDXJJE7FY3POdK8ujxNBAhZWfxjh3DPHoVYukklK6iXKmhpQIpiXDJWquFtoJOAk5ae1zRBhAVMpiVc+OIjSymAXG9jsorYhExqDUn5laPVZgS1ZchOHuwKoH2koWFBaIoWql+WWZkZISZLltyPvShD3H48OFVYt2F3HffffT09Kw8jh49eknjPvDMvUA5vAbfcJBSEVYrqFweu9KikD988PzZ2sRGBlMsYfjJvHlS+eS8AKUUZ5/v7GtsHi7gnaym/qUpKUDj7yYxhrIYI1v3T3ti8inioI9r+/pwKxqIVvuzaciOzxFlbaLc3nkiO6KFwlg3dOxCbEMRkVhFNBiiKD2qlSXk0BD+eFrRlnIF4J2oYAxmkRmDk3N1+vEJaUFr2Z+tDO3iL509IEIbsCTmMTAY1KOExSzZANA+3qyNFhKmnt7rIaak7DjeiQraCbFfsn7aKCQVbZnefhb8WUpePzoTQ3stb7iLAIQdhDajmrR67YcghGUC4ePhrts+2mNmcdQisTYpFXrOBSKUN69qS4S2F7d7uCkpq3BfeB5zqBcCF3qPsrBUQcs8oaol5sIX3N0VdQ8hIT5775MU5jMox0d6bZ82ASpjEQUBOvTxsk16nAxnyi38C/zYjMEs/sTBFCkOIp/4xCf48pe/zJ/92Z+RyXTeKLnnnnuoVqsrjzOXQVrcJTH/Aovx9dSsMgUKBNUqhmljkiFjlGhyMH+HYyOLzSKxb2FRoioqqL5+epTFxLPfoWP76OECcTMgTNu+U65wgtkm3vEKmVcNbDkEwYs8TlSeRwSHuCqMiIIKQihk9lwnij1bway3cEd799SPdbl6vqg7ryuWsQ1JpH0gphn3UJA+cRzjDw+mFW0plz9aa9zjSyvxw8fnGwzFBr6aAq0Toc1dhCi5CYsOSkUb4AuPBjVG4iPEGYtMnFwSPRXJyb6rYfrpvR1gSsou0PruAqrXRvV3XkiVZybxrQLKWqDHG0Llzk0fprtIZGTR0lj3WLPaILJNtLG/0oibok5vvLZ0X0lJJOpAjGX1M7fUIJIZWNzce808cgTv5Cl0nBq2p+wM2vfxTpzEKgkQEkpHmC0vIcUQIS1yVgd/tj0OQlgmale2LgvwACKb3F/E9QoUInpaA0TaY2xhdVWbOZIjmG0Sewc7iWy3GBwcRCnF7Ozqtr7Z2VlGR0c3PPb+++/nE5/4BF//+td57Wtfu+FrbdumVCqtelzRzL/AQnQd1cwc/bpA3GqRiSW5UlLp1xAHs7U2CUQogxb0i6sQZoVWbz/FcoX64jzlqfUDM8yRHCiRpo+mXPE0/m4KmTOwr99cgLqQZ+efJSLkUPZa1GQNHc2gCjmW9TpzsU7+xCRBf4FoD0IQzicSIR4uhS6TR6VWBLJJw8tQzCT3MM3eEv7Y2A6PdGdJhbaUTQmmm8SNAPOqpNf7xZkGvV4B9AIYFiKTw3AXILSJTWPfmJ13y5KYp18PYmGjCzmkNpDBIn9vfh+c/ae9Hl5Kyo6iwxjnewtY15Y67q4FnkejvMh8nKVg1rHCLOK8infTXSC0Ot80mFVnZXG9n2hQo0AJpdcKhLY08WWVWAwRxTELmathYfNKNfOqq9CtFsHU9Kav3S987nOf49prryWTyXDzzTfzrW99q+NrH3zwQd74xjfS19dHX18ft95665rXv+c970EIserx5je/eac/xhWDe/w4hCFWtg7FEbxY4jo+Sg7gRg0y6whtxX0QhLCMNhRRxsSsnNcCmu1BCNBLM1g9FlaUpd+scmLuAp+2kRxo0qq2LrEsi5tuumlVkMFysMEtt9zS8bjf+Z3f4eMf/ziPPvoor3/963djqJcVwfRx6n4/NXuRES9ZauVaAfmB63BpEYpgkzPsUwRgREjhk49GEDLkjG2Sq9ax7AxjTz+1/mGGxBzJ4Z2s7OpwU1L2E1EzoPnULJkbBhAXlp13wTcmniAOS7x0YIRg3iSOyqh8AXOxTvF7E5S+N06Yz+IcHtyB0W8dh2ZXFW1KgomNL2tUWhI7U8CU0MhY+GfOoMODu7GWCm0pm+K+uIQwJeZojjDSTM0vkonyqKCKKvRgBHVU5IMniDIHp5ptmYpYRAPD8WGiQoZsoInDKV5oHk082rz0hv5S2e6FfMr24Z2qot1ow9216kwShHDajSn4SXiAbNsuKL+GjMOOQpv0QlTLXUkb3E80RA2BWLd9tCTzOMY8VWcAJSUzDHYttAEHpn30K1/5CnfffTcf+chHeOqpp3jd617Hbbfdxtzc3Lqvf/zxx3nHO97BN77xDZ544gmOHj3Km970JiYnV1cyvPnNb2Z6enrl8cd//Me78XGuCNznngMpMaNx6DnK4lLiHShkiYgWOWu1cGxokyw5Wvso5TDKZ1cJbbFVwDRi4socmZ4smpirVcTx2dVjVr02wlb44wezImgvuPvuu3nwwQf54he/yPPPP88HPvABms0md955JwB33HEH99xzz8rrP/nJT/LhD3+Yhx56iGuvvZaZmRlmZmZoNPbP78++Jo4oz7qAoGaX6XFjkJL8kkO+dPTAVrMto40cFmWEV0CgOC2bCMtiIJtn/Jl/JvL9dY9b8WmL0mrvlCuT5j8kG7CZ7+scLNMJL/I4tvQM0j/CIalxHQ1o+k7OU/reOKrp4Fw1iHPt8L5RdxzRFtq6sGbMChtf1Wg4JiLXQ9EIqAkgDAkm16+UPQjsi/+KdDd9f+O+UMY8lEcoyXi5SS910BHCqSMLJSx3AS0l0gmJD0ji6PlEIqIqyhyKjxIWshSdiDiaw18cwkXD5Po7dCndsVML+ZTtwXlmAVmyNm4bnZ5CSEUrU6PHHQJbr/izJde/IjLXNzw12umC0T4U2nxcfDz69Nr20T4zEdqC0KZULDLt2tBcAKe84TlVfz8il8M7vnmb6X7g05/+NO9///u58847ueGGG3jggQfI5XI89NBD677+S1/6Er/4i7/IjTfeyCtf+Uo+//nPr1TInI9t24yOjq48+vrWhk6kXBzu976HeWgU2ZyE3muYWSyjkUSGwDQ0FwSOUtK9wP4IQlgmLGRQboB0k8oeLRWmpYjqdYQBTrZOv2fx4uzqjS4hRFIZM3awxYrd5Pbbb+f+++/n3nvv5cYbb+Tpp5/m0UcfXQlImJiYYHr6XAXu7//+7+P7Pj/7sz/LoUOHVh7333//Xn2Eg8XSGIvuYTQxnuEiGjWMbI6sq8iavTQ42L+7sZHDZoHYNyjKQWKjQjg4Qml+icD3GH/26XWPM68qoP0I/0y6eZ1y5RH7EY2/myTz8j5kZn2blY3457l/JiLgcPYlmCfm0eEMKgaRz9J42WGaLztC0F/YF/YQyzRFAwOTHIVNX5szbQLRIApNfHOIIk2W3GRzxzu1uT/yfmXPhbZ0N31/EzUD/PEa1tVJj/WxmTrDcYzPFOgYUezFcOYIVRHpBkQZa49HfHGUxRx5iuSKR8gFINCMLhZ5Mt8LZ57c6+EdaHZqIZ9y6egoaRvdKG0UoDI9SWAXsAvz9LkjK9VsAIazQGgUocPxK/5sF67+9wMiqWpbz6cta5n4ogbE2FY/M7UArYHZjZOIhRBYR47gvbj/K9p83+fb3/72qjRBKSW33norTzzxRFfnaLVaBEFAf//qHdrHH3+c4eFhXvGKV/CBD3yAxcXFjufwPI9arbbqkdIZ5+nvYI32Jn/puZrx+RmE6iGUa6vZYDkIIdgXQQjLhPkMGlalj6pcliiM0K5LXAjobfZTbrosNLxVxxojefzxGjpKEwy75a677mJ8fBzP83jyySe5+eabV372+OOP8/DDD6/8fWxsDK31msdv/uZv7v7ADyJzz7EYXkPLqpETOYKlCpYyKZSuAaAuNk6v3u9ERhZTLAGCXq5CGA2m8yXU3BwDI4c5/uTfsV4JizGQRWQU7otLuz7mlJS9pvmPM8ROSPY1Qxd1/F+e/ltiv59X9gwQjeUgmMTIZPGuGiTOWvtKYFumRQONXtns2wjbkITtzcCGGKUkHKrVCjqTwT91eodHunPsudCW7qbvb9xjZdBgXp34sz03XWMgzBCJWVAGhm1g+nV0VEBAcrEfQOpUcXE4ZL4UUyhAYnpl/jb7Kjj9t3s9vAPLTi7kzyddqF8c3qkqcSvc1JR1YeosCzqDqeuYYWbFn01EAaZfJbQ38GerNPelP9sydSoU6cHUa7+7LJH4tEViCNcPqFqjMPe9Tc9pXnUV7rFjOzHcbWVxcZEoilYqW5YZGRlhZmamq3N86EMf4vDhw6uu8Te/+c088sgjPPbYY3zyk5/kr//6r3nLW95CFEXrnuO+++6jp6dn5XH06NGL/1CXObHj4B0/jtUTg1WA/AALCzWkHMSLGx2Etl5a+yQIYQVDEmctjPPaR0Uh+R6JFyex+kzM2GZQ1jg2s7oCxjyUQwcxwVTaypiyD5l7nunoZVQy8wzoAlGzQcbX5Puvo0WDSBxcvyEAhEAYAiUcMuEgCHhB+WAYDBk21fk5Zk8cX3uYFFhHCrgvbFwVnpJyuRH7EfVvnMF+WS+qtPV1ctktc7r+AkZwlFd94x9wzB4imhiFzSvF9pJYRLi0KMWbazC2eS55tBH3U5ReEsZ45BDeqZM7P9gdYk+FtnQ3ff/jPLeIMZRF5U201rwwVabH7UNEZVShB9Np/7sGJhoOZOsoAAIWxQxD+hCybxg7VkTBBKcb1xOffRKC/VMJcJBYWFjYkYX8haQL9YvD+W67bXSgsxAW+h6NxQUadkyPOwDolYo201tIXtPRny1AOT5hYW/TjzZi2S9nvfbR/5+9O4+v46oP/v+Z9e6bdkuW9yW2s28mSyGBkABtKPTXAqUlhVLaUugW+lBCCSmlT1L6pJCnNCVAG0ihIcADSRoSAsHg7LYT77stW7t0JV3dfZ25M+f3x3WUKJaXJLaulvN+ve4LNJoZf+dGZ5bvnPM9IdVPwRghV2kBYFhfCPFdp9yn0dmJdfQo4gS1auaKf/qnf+KBBx7gwQcfxOt9+W/oAx/4AO9+97s577zzeM973sNPfvITXnjhBTZu3Djlfm655RYymczEp7+/f5qOYPYp790LjoPHTEBsMcVyBadSRVEbscnj97yq56ioDR0tKjMvKVUNejHT+YnOL8IXQ1MFJAfwRYJUVYvFqsOB+OR7Mr3JB5pCpWd29wyS5iYR38O4vZisJ0GbVUt8BzMWwciSWV+f7SWOHsBkHLfkwasGsYwUdmMLRm8vocZmDjw/9QtqY1EIe6iAk61M+XtJmosKzw/jFm38F7WeeuUpPNX/NAiNa8dMSrkmqNZG8ememXtv/ZKCkiciTiPRpqtoGFhqlkwlQMiovZgtNsaoHD4+cT9b1DXRdrYewuXb9DPDtRwqB1OYS2rDRnuTRQJOElWAWsqhBiN4SnGqRhCtYNWSbOpMemX+2owrY7i4NLVcRKTk4DrDNCSXsV0DBmQx/no40YP8q8kH9ddO2A7FXWN4lp9i2Gh8GBDYkRxNlYUoPibqsxmlBI7uQ2hTJ9hfGhY2EydCeImtWJQoEHOP784fM0OUtFEcx0cwEGS4GoZkD5ROPvTF7OwEx6HSPbO7uzc2NqJpGiMjI5OWj4yM0NbWdtJt77zzTv7pn/6Jn//855x//vknXXfZsmU0NTXR1TV13TqPx0M4HJ70kaZWfHEris+HYR+F6CIGx8YAcA0vXrM2e9crefFh4qGozLy6SNWgD9WqohZrD91C1TA9Kk46jaYpFP1Zmis+9g1NTk4o2rEZDI/KRJs08+QGhnBdb20ihJKNomo0lP2Yup+skq53eGeEYwTwMoZb1WnQOtCMDL2BBpz4CO2LljLS3UVq+Pi6uubCEKhQ2nvizg+SNJe4pSrZjX14Vze8rt5sjqiyoe9XmJkW1m/bxXjjGqAPzTDRtBlYkuVVCmQJEMIQp+6I48NDRcuQKmqY/jA+QyEb8FLpOoJwZ+ckKnUfOvpGyLfpZ1flUAphu3iW1nqr7B7I0EaVqjsKwkENhtDLSaqeGFqhPGuHjb7EVRySyigtwdVEyjoKLu3jPh4PNcGhn9U7vFmpqalpWh7k5YP6a1fal0RUHLwrT/6mabivD0dRKfrGCJUaUSbqswnMcuKkw0b1VB7HZ4I+sy81OSVDg2g+rqxMwNCpkkdQxTQbiOePvawZ2n7S/RnHXtaU9+8/G+GeMaZpcskll0wqvfBSKYYrrrjihNv98z//M1/84hd5/PHHufTSS0/57wwMDDA+Ps6CBQvOSNzzWfHFF/EsWoDiWtCwlAND/aB4sVWbwKt7s/HyRAiFGTTj6EucgBehKJivqtNmlW2wLUSkSqQcJZEukCnZk7Y12gJUujMIV9Zpk2YQu0QiUWuHZb2Ekk1jmB7C0aW4wqHAzEt4vx5C92BoWUAQcNpAcTikVcE0CSaS+EJhDjz75HHbqV4dY0GQ0u7E9ActSXWQe3IAYbv4L255XdtvG9lOoZrlhgOQDSzBUb1UqykM78zvzQYvjxqJTDFq5NUCuhdLS1MqeRDeBiKaRVo4iGIRe2j4lNvPRHV9+pmuh3D5Nv31Ke4aQ2v0okU8AOzoT9NS9WCrQ6DpeCmiALYZRS+UZu1ECK80pgyjKjqtjeeBYqBYA2x311I9+Fi9Q5uVputBXnrt8puH0Vv9E+37RI4cPkrBMPBZIVRHQz1WEkKvpFHcKvYJho0iwEznZ3RvtpdklRQevASZfO5XFPAqXkr6GA7NZAtlCoFOGHjhpPtTfT701lYqB2Z+nbabb76Zb37zm9x3333s37+fj3/84xQKBT7ykY8AcNNNN3HLLbdMrP+lL32JW2+9lXvvvZclS5YQj8eJx+Pk87VETj6f53/9r//Fpk2b6OnpYcOGDfzmb/4mK1as4IYbbqjLMc4VwrYpbtuGp0UH3QOhDuLxFIrWiiXyBKeYySwkolQozcy6UKqC4/dgvKJOmxquJf7FaC++Rh+g0KHk2DM4ufea0R5ElB3s4Zkzk6okMXaAUWspZa2AqerYqSQ+WyHQsIy8kkMos7NXxlRcw4uppFFKIbyqH8WbItO4gPLu3Sw8Zx0D+/eQTx1fj82zNEKlO4OTm9ulFSTJyVrknxnEd24Tqv/1lVZ69OjPiCSjXNQ9yFjb+eh04zrVWZNosxWLCiWi4sR1tl/i0w0s8gihUjA6CJMlWcghgMqhmX8/PZW6Jtrk2/SZy7UcyvuTE0XSS7bD4XiSaLERxRlHC0UwS3GqRgDFBqXq1nquzHK2YpFWxmlqvwyfYuDYR2hMruG50hCMHqh3eLPSmX6Ql944O17AOprBt+7Ub5jyI4OU/VUWWEtBExMTIRilMVxVxzWmLsaqFiuoVpVqaObfDBTI4VCl0T3+jWNEC1HURyhatZc/w+ayWqLNOflDgtHZSXnfyWconQne//73c+edd/L5z3+eCy+8kB07dvD4449PlHTo6+tjePjlN4lf+9rXsCyL3/7t32bBggUTnzvvvBMATdPYtWsX7373u1m1ahUf/ehHueSSS3j66afxeE6e1JVOrrRzJ6JYxBvIQGwJJcvGKdqoWjOKXsAzRc/RiBujqMzcZFQ15MPI5OFY/kH4Y2iawB3rI+gLUTBTLBIauwYmJ9r0lmN12o6kpz9oSTqR+G56nBVkfGO0iSBupUI45xAMLSQ3R4aNvsTRg3iJUy0bxPRWVDPJbjOKKBRoUDQMj5dDzz9z3Hbm0jAoCsWdY3WIWpKmT3ZDL2gKvvNf30yjR9Jd9OWOcu1ulXy4nZLRBuoQiqKimzP/JfZL8kqWmNt0yvW8hkpVLQGQpZ0IBSpWBSsSnvEjRE6k7uN55Nv0mal8IFkbNnos0bazP02zkkQTCmo5ixoIY5STVM0Yeq7WKBzf3HiISihxPJ4Iy/Ul4OZYNtrJw6EI7P5hvUOblc70g7z0xmWf7EcNGJhLTz7b6OBICtPKk/NniRUXTPRmAzBLoyecBAFqvdmEouDMgh5tQhFklTSN7vGFaqOmj5I2Boofr8fPsBMBuwSD2066T3PRIsoHDiDEzB/a9slPfpLe3l4qlQqbN29m/fr1E7/buHEj3/72tyd+7unpQQhx3Ofv//7vAfD5fPzsZz9jdHQUy7Lo6enhG9/4xnG1WKXXLv/MM6jBIKZ9GBqWcaC/D6jVSwp4j7+dU4VKkAgFZm4BdifoQ6m6GPnafQSKgunVsdO1xFolXKK5GGFXf3pSW1I0FaMtQLkrXYeoJekE4rtJVpeT8SRYUK79vbaoC1AVfc7UZ3uJYwQw1doQ0JCzCIFDxlfBijZQ3r6DjtVr6d7xIpXi5ES/6tUxF4UovjgyK66PkvR62IkShRdG8F3YjDpFWYfT8ZMjPyWa9nP+YIKxjvPRyWNbaQyv76S1lWeaHBkChPCIkz8PeAwVzYWqWiBbbSCi1SYiLHQuoLxPJtpeF/k2fWYqbh9Fb/GhhWvf2eajSToVsBgC4eIxHRQEtrcBPV/CNfQZX4fpdBWVPMVqmkXB8xGqjqcQZyfLSOx+ANypJ9SQTu5MPshLb0w1UaK0Ywzf+U0op5i8ZNP2vbVtTA962UQJ1ZardgGtWqLqiZ5wWyOVoxrwzJoJUjKkCBM97kbAZ2rguthqDt1oZDBZgPACOLLhBHuqMRcvxs1msQeHzmbY0jyS3/BLvCs7j9VnW86+3l5Qo1hKhZBn6mGjKir5GTgRwkscn4nQVPTUyzHqoRBV28XNJzEbVDRh4CnmOZqY/MBuLgxSOZpG2PK6LM0Mhb5uRDVC3szgKeTQVZ1owwosylQo1Tu8M0tRwDAxlQyiGMKvhfD4EhwJtGL39NDS0gZCcPTFzcdt6l0Vw44XsAfkSAVpbso83o3q1/GtPfXIkanEC8PsTOzgyr0eLH+ErLkCwzeCXS5ieP1nONqzK6dkEAhi4jR6teGjoqUYL3rwGgYeQyUTDs2KESJTmRGZEfk2fWZxCjblgyk8y6MAlG2Hbb1JWkoRHGUIRTfxOUmqRhChGej5Eo5/biUxxxgiFFlMc3gxjrWPZWMX82ORha5f1Ds0SXpDMr/oRfUbeM85Vb0EQe+Rbmwd2txVoAjUYxMhmKVRhKJSNU7Qo80VGOkiziwYNvqSnJKqzTrsHl8fNKwGKehDVNxW0tk8xaaLoH8LlNIn3J+5ZAkA5T17zlLE0nxi9fdTOXwYf5sKZpCqv4VsooCqdyC0HF5zimGjIkaVKmWKdYj4NCm12UeN5CvqtEWaUBRgqItQJEZFK7JYrfBiz+R6T0ZnCKqCSvfM7bEnzSOuy8hArQdGxSxTTY7jtyDUsKLWm212vHN6TRwzhI8BnLJJg9ZJVU1y1BPA9Xip7txF6/KVHH7heRxnco1IozOEGjTIb56dBc4l6WQqvVnKe8bxX9KK8jo7oTxy5DH8RZOL+5OMda5DwcGlVtPe8M2ee2sAR6lSJE+De+ohtEHdR0VLUyh5UPyNxEyXlK5QHR6mmjy+5uNMNyMSbdLMUto1BkJMJNo2Hx0nQAq/FUarplCDYcxyEtvbAC7o2RKOf/bXZ3ullJHFtvKc678E3Dwrhzq4PxKj8vxX6x2aJL1udrxQ6812YfMpL/5Hxgp48oPkfBaxwrFho8d6v5ulEapm+IS91YxMAcV1qQZnz82AozjkyNDsHl/LM6YHKepxBLUk3JDWUXubf+inJ9yfFo2iNTRQ3rv3rMUszR/ZRx9F8Xrxmr3QtIKuwSEUVyCMFvw+e8ptoqKBIvkZ/4BfDXnR8yWUYz3TXMOHxwP2aBxDMygE0rRVAmw6Ms4rpwbWoh7UoEFp33idIpekV0geoauymJKeJ6YYOLkcLdUIHiNMRknVO7qzwjECeLRxVMUmUO5EQcETTDHc0E5p9x7al66gXMjTv2fXpO0UVcF7TgOleIUiNwABAABJREFUHWO4xanPX5I0GwkhyDx6FK3Ri2dF9HXtI1kaZ9Pw81yyPwSqTtK3Do93nEo+je7xoaqvbyhqPeWUNDHRjCJOfkMSMEwqZHBdjbxnMRGRIVnMI6jVqZ1tZKJNOk7hxRHMzhCqrzYU5VcHx1ip2VTJQymL6a01kqonhlYso7gujn/m12F6TVTBeK6LFnMJYf9C9MJhPPnlPJTYDn3Hd4OXpNkg80QvatjEuzp2ynWfPjhCg5XB8XhRiwbKsc5rarWEbuWoek68DyOVx9U13Fk2E3FGGSdCDFNM7qEb9JpURRlXUzDNIIOJDLRfBPsfAadywv2ZS5ZQ2r37bIctzXFCCNIPPoTv/HWo2R5oPoethw6BGsFSbSK+42czU4RKRDSSUzLH73CGqQb9KEJgZF4eGmqGAthlC7eYR20Q+Gw/pUyBnsTLvfMURcFcEqa0dxzhylpPUp0N7aCnupq0d5ROq/Z41RZehYNDfgbXSXyjqp4wfvqw835iWgeqGWe32Qiui3qkm4b2Tg5veY5XJskBvOc0IISg8EK8PoFL0llQ2jOO1ZcjsH7BKcuznMgjRx9DrWpc0ZNhvHMNDj40fwarmMf0za5hoy/JKCkMDMLi5M8fPlOjqhQBQUZZREyksWyLYmOM0q5dJ912JpKJNmkSe6SAPZjHs6rWEHoSBQ7Gs7TlI1SMXgACShbbjCBUHSNbrBU8nwMzjr5a0o1j2zkuabkO1z7CpYNX8PWGBso//zuQBVylWcYaylPeO47/wmYU7eSnfttx2bX/AJqAsL4EVDExEYJZHEGgnHwihGS+Nmx0hvekebWMkkQgaHHbJy3XNfDjp6APIZRmBuJjsPQtUMnBwcdPuD9z2TLKu3cjXPdshy7NYcXnn8fu7SW4KgyKSs7bSTZRQDNWoOo5DP34hhYRMTQ08rOgALswNRyPgZF8uU6bGmlEVcDtP0ioMYyj2CzRSjxzODFpW8+SMG7OwuqfuXXopPnBHdxGpbKCrCeJP5fBcCDatJaskkIoc/caUPVE8an9qDhEy+dgiRKKv0y6aQHFrS/SseocUsODJI5N3vIS1afjWR4h/9wQwpH31NLsJ6oumZ92Y3aGMDuCp95gCslykqcHnmJNVwO+SoVE+Dw8RpJqqXbtM3yBMxnytClRwMaiUbScdD1dA0Po2GqOVLWJmFZCUSDX2UHpxa3TFO2ZIxNt0iSFLXEUX21GIIDHdg+z2JPHZ4fQSaJ6fXicHFVvrb6Tni3g+mZPwfPXwgl4SA5vp0VppTO4jqbhNAUnyH35g7Dj/nqHJ0mvSfaXfahhE8/KU/dm29qbImztx1HAX+xADTNxtTCLw1TNCOIEXdfVso1WLGOHZ99bN0dxyJKi1e047neNRpiCMYSrtJMrFMk4nlqvtt0/gOrURa49y5fjFgpYR4+e7dClOSzxH/+JsWgRHvcQNCxja1cvQlFx9VYCgal7VMZEEzYWpZlcn+0VnJAPM5Wb6PTieMJ4vQJ7eACf5ifvT9JhGzzdlcB5Re81vTWA4tMp7U6cYM+SND0Sh3tQXS9lTwFnOE6zGyXgaSLD7Ksr9JooKq4nSFDpgmKYsNuONzDKTrMFN5/Hn83jC0XoemHTcZv61jXhZCw5/FuaE/LPDeGkyvjXH1/r93Q90vUTXKHx5p4yqfZlVJQmzHCOUiaJ4fWjabNv2CgACmSVFM1u26s7tx4noPkoaUnGi350wyTiM0iF/ZR27cK1rOmJ9wyRiTZpgrBdCttG8a6MomgqiXyFZ4+Ms9IRlLUcam4c06shVBXbjIEAI1OkOsfqs73E8Xso5IdJO6Nc3PQ2NPswbxm8nm/GYgw88VnIDNY7REk6LXa8UCvMekHzaXVlf2J/nFY7QdVnotgaarS2XLUL6HaeqvfEsyiZyVytx9ssqs/2Sik1QYgIfjH5bWTYZ2KLAq4eBhT6h0dgxdugkod9D0+5L3PpUlBVSjt2nP3ApTmpuHUrxeeeI3zDW1FG9lCKncPBI32oxlKqWo6w9/jZRhHQ7LaRm0UF2O2QH7VSRSvUismjKHhCPhzbxhkfQUQdQuUIdqnM1t6XExeKquBZGqG4a0wOH5Xqx7HZEddxcYhoNlW7QmfDBThUyc7R+myvZHsb8alD6GqRxtIFlNwx8j6VUkMzxS1b6Fi1hoF9uynnJ/c81Zt8GG0B8s/K+2lpdnOyFtlf9OFd04gee33llEYKcZ4efIrWgXZakknGGi/E1LLgprErJTyB19dLbqbIKEl8BPBz8uOIGD4q2jilsoeqv4OYXmHMLiMqFcqzbPioTLRJE4q7xhCl6sRshP+zY5CI5tKQacQKDiNsC7+WryXZVAW1ZKFWbJxZ+kB9SpqC6zcZTe9BVwzOa3gLrV15QmqYL8QCiB/9ITiyiKs082V/2YcaMiaGhJ/MUKbEobH9RHPg0dtQTIFyrHOapzCEUDXskwwbNZJZnKAHtFnyhP8qWVLY2LS5CyctNzQIKgGKxgiq3kjf0Aj4YtC5Hnb/PygfXwtL9fkwOjspbts+XeFLc4hwHEZuvwNz6VL8TQUQgm1JL64Q6MY6DE8OZYq7uCBh/ARJKbOnl5cT9CJUFXP8FQ/ioQZMXWD3HSTYHELgstpT5Il9I5O29SyP4GYtrJ6ZX49OmqPiu+my1pH2jbB8JA0C2hrOJa0kcefwsNEJiortiREWe1CqPqL2CkLhUfb5WnFGRmjw+VFUhe5tLxy3qffcRqyeLNaAHP4tzV7pR4+CpuC/tPV17+OBAz/Adb28dcAhG1tIQevEDGUoZhKoqobhnX0jRV4pRwaHaq1X20kEPCYWWUAhbayk0RkjXyxQjkXIP/vs9AR7hshEmwTUii3nnx3E6AyhRTwk8hV+eWCMi40SruLgJ4ei63hVC8vXBICZydd6rgTm2EQIr1ANeFBT4wz5R1gRPJ+ISHJV11vZZGr8IL0Pfv65eocoSSdlxwuUdiXwnWZvtkd3DdNm7EYTCprVPDEJAgjM4hC22XDioeJVFyNdoBqavTcDQhGklQRt7sLjZkdqNsPkjQFQ2xmIj2FXq7D8WkDArgem3J9n5UqKL744DZFLc03qu9+lvG8fsd//fZQjvyITXsWeIwNY3hZcxSUcnHoIRavbQRWb3GwqwK5ANezDGH85WeZ4ovh9DtXkGN6qS8GXoq2ismcoy3Dm5eHaeqsfNWRS3DFWj8glCdH7PFZpLRnPOOrQEEu8y/GqQZLKaL1DmzZVTwO6XsKrjRIrr6UiEgx5fFQDYaztO2hZspyurVuOq1lqLg6jhgxyz8hebdLsVD6YpLRzjMDlbaie1ze0c9fYLnYmdmCOL2dlXx/xBZeia3k0I0M5m8YTDKMos/MF9kuEIsgqaZrdBSddz9BAUR0cpUxKLKRJSaEoCunlSyg8+dQ0RXtmyESbBEDlSBp7qIDv3NqQsId2DBLUFGKJIJnoCCRH8HhVXMOLa9S6fBrJPI5/9vZcOR3VgA+1UiXhxilrFS5sfDvRrkEu9a7lzsYGurf9B7zwn/UOU5JOKPPzntpMo6fRmy1ZqPD00UM0F9II3QAliHZsM6M0iuZYWL7mE25vpvMorsCOzN5EG8C4MoqJh0Yx+c1k2GvguhVcI4zrugzGx8AMwJI3w4HHIH/87GmeVauw+/qwR+bPA5f0xlWOdjP65a8QfNvb8DR7YOwAz+cWIHTwaZfj6Ck8xvG3cLrQWeAuIqGMgDK7hlLaYT9GvoxarvUUF6qGGfKjaQp27yHchirhQpSoYfHzV/RqUxQFz4oIxZ1jCHse9B6SZpyuvXsxnCDt6RHyapXlTVdQIE+BedRLSwHL30pIHEBFJVpZSTiSoCvUhnX4MG0diyjlMgwd3D95M1XBt66J0q4ETvbEs3hL0kzklqukfnQYoyOIZ2X0de2jVC3x7b33gd3MdWMqed8C8uYSvKEUxXTtBZInEDqDUddPWhknSBifOPlzQkj1UdYTjJSjGKpCNOAhEfJT3rcPOz57ZiqWiTYJIQTZX/ajN3kxOoKM5Sr86sAYl+u1t+W+Bge3mMevF7C9td5suAIjlacanqPDRo9xAl4ECkY2x0AgTpuvk3YjQPtzS4mYET7duRz7sb+Bgz+td6iSdJzK0QzlfUn8F7eccqZRgB9tHUQPb6c15UXTmtDCwLESUN5cH44RwDVO3OaNRBbHayDMKepGzSJlpUieLO3uoknLFRWa9ChZ7xioIbr6jl3sF18Fhm/KSVK8a9YAUNx8fCFoSZqKsCwGP/UptMYGou97Hxz8Kf2ilZ5EkbTfj4YPf2DqB/gOdwkqKgll9tyIvqQa8iMUBTPxcq+2qq+BoK+KPdxLOOIBYI03x5MHx6hUnYn1PCtiiIoji6pL0891ebZPo6pYLD66j6injSazgzFlaNbUSDxTXN2H8Hjx00PEWo5DkiO+CK5uoB7uItLSyuEXnj9uO8/qGIqukH92qA5RS9Lrl3q4C7dUJfhrHa+7x9l/7/9vcpU8ZM/jgqMHGeq8GkPLouopiqlxPMEQ6mydBOFVsqRxcGhx20+6XswMUdIS5As+nOACWswKw7kUjqGT+/kT0xTtGycTbRKVrjTW0Qy+i1tRFIUfbeunQVWIJrwkY0P4UmkUTcNjKhOJNiNdQHFdqqG5nWhDU3D8HoxUnrSRI6PnubjpBppGejgnfTFdVPjK4nPgh38Avc/VO1pJmiAcQfqRI+jNPjwroqdc/8hYno1HDxCmB19FRRFNKMd6s2lWFqOSxvKdpPaEK/Aks9jh2Tn1+KuNKyM0iObjJkVo9ocoasOoWjvd/cM4rgu6CcuugSO/gszApPW1cBijs5PC8zLRJp2e0f/7f6kcPkzTn/wpquriHN7AM8Wl6EENPxdgKxnCgeN7bpnCwyJ3OQklTlWZhfVDNYVqyIc59opEmyeK3+ugqApi8CjFYIZoyqRcrfDM4ZeTanrUg97mp7BluB6RS/PZyB5GC+cRKAyQ9ruc1/hrlCmRVuZn0tfytRDQBlCpEiuvIRAdoy/SRmnnThYsW8lozxEyY5PrLKqmhvecBvKbhnHL1TpFLkmvTeGFOKXtYwSuakcLvb6JAZ8dfIbnhp6jnFnLO1xBQV1I0bMAbzhFPhEHRcEbip7ZwOtIKC4ZJUmr23HS2UdDpoGlpACVpLGOtmo/tm2TX3sOmUf+Z9rifaNkom2eE45L+pGj6G1+zEUhhtJFnjqU4DLFoqpZBDsD2PFefB6HqrcBodYy6mYig+sxcL1zc8bRV6oGvRjpPAjoCwzh14OsjV5C84sulxoX8x0lz69alsH974fh2TUbijR35Z8bxB4uELiq/ZRv2SzH5Wsbu/A3b2JRMgKKgeKPoR7LmfkyXTiaB9t74uGnRiqPUnWpRudGoi2tjGNjsdBZOmm5oUNQ8VPy6jiORf/QsSGhCy8Hb3jqXm3nnkv+6acQYnYN5ZOmX2HLFpL3fovob/0W5pIlcPgJdufCZC3BQMAi4HRg+qYu+r/CWYuLy4gyMOXvZwM7FsTIlVALtSFkQjVwPSECQQ178CiemEu43MTyWJyf7Y3zyjt17+oGKkcy2InSCfYuSWde9/af4y8sozFxAC28gAXeZcSVgXnXm22ComD7mwjSRcBeCCLPoUAMUa0SHE9j+vwc2XJ8rzbvuU2Iqkt+k0yWSzNf+XCK1INdeM6J4V156tIsU+nJ9nDfvu9AZRHt3lWct28XgwvfjMccx3VGKefS+CMxVHVupWuSyhh+goTEiSdWU1TQVRdHLZIQSwm5WQI+LyNtjZR376Fy+PA0Rvz6za3/ctJrln9mkOpYkeCVtYfx77/QzyIdwukAqaZhgnkLUSkT8FhY/mOzhLgCM5Gt1WGaBzcSTtiPUnUxckXKeoUh3yhrIpezxLawdjSxyrOYz/odesPN8J33QqKr3iFL85ydKJH9WS/edY0Yzaeul/ad53sYq+7A1QboGPOhai1ojbXGrVXSmOVxrMDJu3l7RtM4XgPXa5yRY6g3oQjGlGHaxEJM4Zn0uw5/A2nfMIoaYdu+Yw8Fmg5L3wLdT0Gmb9L6vgsuwEmMU963b7rCl2YhJ19g6DOfwbN6FaF3vhPcKsVdD7G1vBBPowe/swYXm0ioeNy2jW4LLaKdQaUHR3Gm2PvsUA35EbqKdyQ1scz2NhAy8iiahpbpxtEsmnMW/ek0B+L5ifU8yyIoPp38s7KoujR9nvufXlQhSLckuaDhGorkSc+iGX/PBscIYHry6EqexvJ56A1jxMMtlLZupX3Farp3bscqTT6PaQED76oY+acGZK82aUYrH0oxft8+zI4gwStPfm98IulKmv+79V9x7SBm+QJu8BUYUy/A0UzM4CiZeD+Gx4fpnxu12V4pTwaLCgtE50nXi+ohCtoIw/kIiuGjPaTSmxxDRCMk7z/+pfZMJBNt85idKJF5ohffuU3ojT4OxnNs6U5xQaVK3kzR3NmK1d+FoQP+CK5ee9g0kznUqoMdDZ78H5gjHJ+Jq6vo47WaOMO+MfJ6kStb3sOlIxb20eV4FS9/0RSlYPrhv94N6f46Ry3NV8JxST5wAMWvE7js5FNoA2w8OMqGrv2YDc9zbmk5imWhmG2ox140BVL7cXQftrfhhPtQbAdzPDvnzgkJZQQXh8XuiknLvYaKV1WxzSijiQGKpWOzP3ZcCr4o7PjepPU9K1eiBgLkfvGLaYpcmo1G7/w/OMkUjX/0MRRVhSO/ZHPCD6rGfm9tJj/Nm0LVJveM1ITOKuc8MqRm/3A1FexoEE88BW7tOKueGIqq4I0GsIe6UWMFOtIraGjYxU93v9z7RdFVvGsaKL44glOYhUNnpVkn8/hPqOYuQbV6CHlaafYuZEjtmxcvoU/F8jcTUg/jqTZiVg0ORKK4+TyNjkAIhyNbtxy3je/CZtyKQ+5pmSyXZqbSngSJ+/ZiLAgQum7RadU/frWKU+ErL95FrlKB3OVcv6qZ8HNdJBvX4QvFyY0eBSHwNzQzyycanZoCSWWUFrcDTZy49lyTL0hJH8GyvBRDa1joDmBbFdKXXkTmwYeojs/8+x2ZaJunhCtI/eAgWsDAf2krjiu495luLjLL+Ep+rM4cZrmKMx4n4KtiBTsmtvUOJ3F8njnTc+WUlFqvNs94ZuLno+F+VM3gqsh6LhxvIjh8LoOVDLcsWY3rOrVkW27k5PuVpLMg+4s+7ME8oWs6UaaYlfCV9g5m+I/ndhFq+zlhI0Jnr46iRNHagqCAN9eLbucphRaddD9mIgMucy7R5ioOo8oQC9xF+MTkIbGL/c2kgllA8Oz2Y8NHJ3q1PQ3pl3u1KbqO76KLyP30cTl8VJpSYdNm0g98n+j73ofe3AyOTeKFH3HQaqbSJIhY61DRCEeOHza63D0HHZ0B9eiceMC3GsKoVQfPaO1YhapR9cYIGxkU3cQtHEBFY1FBZ+vwPkZfMVOhb20jQiB7tUlnXfnQIfZ94W7yoUU44V7OC11F2k2QV6Ye2j3vKCr4TbxKnKby+YiGJKPBRiovvEjb0hUc3vwsTnVyzzUtaOI7t4nck/1Uk+U6BS5JUytsHWH8v/fjWRwm9PZFKPprT6M4wuHftv07A7kh3Ox6bljVzsIdTzIYfBs+Z5hSfj9WqUigqQVtjkyAMJVxZRQNjTZ34QnX0VUFR80hqDKiXkiwEqepIUbXsRq04/9573SF+7rJRNs8lX9mEKsvR/DXFqLoKo/uGmY8lWJ52k8yPExb00Ks7n1oKhixyMRMg2qhgpHKU2mce11ZT8YOBdBK1kTdGFutciTcT5O3g18rRllU7qQ1eR4bMwf5t3PfCuUM/NdvQmHmZ9uluaN8MEnuV/34L23FaD35kNGu0Rx3/vJ5fAsewWMoXOlchptNo/o70aKgWXl86cNYvmZc4yQJNFFLvldDPoQ5924KxpRhbCxWOusmFW716Bp+06BqRjnad5DiS88EHZfUerXtnNyt3f+mN2H19FDevXvaYpdmB7dYZPhzn8NzzmqC114LgDj8M55NhDA8GoeNBE3FizF8GTRt8oNp2I3R7i5mWOnDVqx6hH/GuV4dO+TH1z8Kx+Z8qPia0Z0KnqZGnNF+lHCSFcmLCUaf48fbj05sq/p0vGsayD87hFuUvdqks8PJZOj/+Cc42vkWbCXNOUoLPi3IkCZHM7ySYwbxm4NoQiVaWsbBpiBuOk2zZlIpFujZ/uJx2/gvakb16qR+fBjhyhdTUv0JIcg9OUDqh4fwro4RvLbzdfVkc4TDN3b+B3vH9yJyl/LrS9vo3P8U8fG3462MY2l7KefSBBqaMEzvWTiSmcNWLNLKOAvdZSedFKHB9FM0RujLN4HhZ1nQYmw0TumaXyP1ne9gDczsmrQy0TYP2fECmZ/14D23EWNBgMOjOX7wYg9XOxaOatOwIopbyFCN9xMMOFQCL2ebff1juIZGdY71XDmVasiH0FQ8Y+mJZQWzSL8xwJrIhfzaYAttxaW05c/hmyPP8PhlH4R8HO77DSjM71od0vSwx4qMP3AAc1EI3wXNJ113Z3+a//2rB1GbHyRomlzTdCPuiwdQ1Ab0RTEU1yKY2I6reykHTl5DwcgU0PNlrKa5mXwXimBA7aZBNNMmJr95W+xvJh0sI9wcGzanaws1HZZdW+vVljwysa533Tq0xkbSP/zhNEYvzQaj//JlqqOjNPzhR2tDRu0i3ZseYbgapjsyTkfhajTFwB+efC1RhMIq5zwK5Egoc6sHdaUtilay8IymAXCNII7hJ6SmUH1BnOxOVDTOSZ7H8+MPMpR+ud6T//wmcAW5p2b2Dbg0OwnXZfBv/5bxgkKq4VJixmFWes9nqNqDpcpeWK9W9ccIqwcJVhdiBAwGQ03Ym7bQ3LmUfc9sPK5Xm2JoBK/uoNKVJv/cUJ2ilqQat+KQ/P5BMj/txndhM4GrO1DU1951vOJU+Ldt/84L8S24uYv5rRYfLTv3Ex95B55iP2WxmVIuSSDWjMc/P56xR5UhfPhpFR0nXKfZEyWvDVAq+8hHLqIlu4dINMYet4wSDhH/hy/O6JEiMtE2z7gVh/H7D6BFPAQua2M0W+HOn+3nEn2IaKkBsdzGNLzYezajawKtqR2h1WYW1XIlPKNprJbo/PvLUcGOBvCMpCfesAOMhjMkq2NcGuzkipGLaUutpclayN/1P8qeqz8JuWG49x2QkTf80tlTzVRI3LsH1asTvKbzhLOMOq7gPzdt4Svb/hklupFFweW8te23EBv3ImwLfcEKNE+V0NhWFFGlFFkBp7ih8PWN4vgMnKDvbBzajJBT0owro6xw1uEVLx+npio0B5uwTT9Dw9vpjR+bhbnjEgg0wdZvT6yrqCrBa68l8/D/UB0bm+YjkGaq/LPPkvrv/ybyO7+D0doKQHX793g63UzBW0FRW4lZ6/AFE8f1ZutwlxAgyIDaPSeGjL6S6zOxowH83XEUuza5Q8W/ANPO4GltxsmOowR6WJJaR7OS58vPPjRxs636DbznNpJ7ZlAOP5POuOS995Lf+CSbz38PrprjMvMcik6OhDla79BmJlVDDbh4lQEayufS1xHCKZdortiU8zmOvHD8DKRmZwjveU1kHuum0i2H4kr1YQ3kGPnXbZT3jhO8tpPAZW0nvL8+McGusV186bHbKOw4wvkHl/Bb8TjVTQlGx4KQ+xkZ90VsqgSb2/AE5keSDaCkFEiTZImzEkVM/b0aqoowMjiKxQAXobgV1rT5GR0ZInXdNRSeeorMww9Pc+Snb76lS+Y14QqS3z+AkyoTemsn42WbLz66hw7lIEtTy6m05wg1hHB7dmPnsgRjXuxAS21jFwJdQ7geA6thbvZcORWrIYRWsTFS2ZcXKtATHQIE63WVq0avpGNwPT4nzJ/1/oj+a/8WKln45ttgaEe9QpfmMHu0yNg9OxFVl/ANS1A9Uw/fPDg6wp8/9mWeTd+D11fiza03cpl2FZXHtuBk4ujNazAbHMKjm9GcMsXIKtxjSfYTMZJ5jHSBSkvDnHvQf7VBpQeHKmuqF066IWjxhimGFVw3w4bNQ5QqGqgqrLweBrfB0PaJdUNvfSvoOol7vl6PQ5BmmGoiwdDffgbvuesIXXddbWGqh6e3v0jRNUiHdZYW34lulvAGJ5ch8AgvS9xVJJQRSkqhDtGffeW2BhTHxX+kNuFB1ROlagSJWH1oDS1YozvBV+Tyod8gxzPcs2njxLb+C5pRPTqph7pm9NtuaXYp7djB6Ffu4pnzbkRXz+Fyf56AFqbb2SefqE7CMSMEjT40JUfMOY/DLZ2423fQ2r6QvU/9kkohf9w2gcvbMFr9jH93n0yYS9Muv3mY0X/fiaIqRN+7Au+K6GvavlQt8Yu+X3D747ey6Tv3cc52haXDfhYXS1QyPmy7CNVeNDtHIBgl3NaB6Zm7L6xPJK724cVPp7vshOu0mBHyRi+94xGc2EqaE5tZuGgJLxw9gPumyxn54j9i9c/MYfvysjBPCMcl+f2DlPcnCV3bSVJT+Pv/2U2js5vzx9ZiNeYJdYbQRrsoHTmIz6/itCyf2N7fE0fPlSl3Ns/5B+oTcX0mjt+Lr3/y8B3Ho7Jf7Caoebnaq3Pt2FWsOPJ2bFvhj44+wOBbPwveENx7PWz/LsibfukMEEJQeHGE0X+rJXIiv74MLXR8YsxxbP5zw/186xf/SEOql0uz5/KO8UsJ/WqI/BM/xS0lMdvXEg6PExnZBAgK0XMm6jKeiGI7BA4PUg16qYbn/s2Bqzj0qV2EibHEXTXpd0ujiyj6DazCJh7fZNQmS2w9F2KLYfPXwa31RFIDASK/8RukHniA0o4d038Q0llTPnSI1Pe+R+qBByjv33/K5I5rWQz85V8hbJvGj/1xbcioY3Pol19hf7GNXEBnSfn/Q1UFwdjA5JnHBKx0zsXFYVjpO+G/MdsJU6PU3oh3NI1nOAlAObgY1SkTDVRQFBWnvBnTMXjTwHvYmvoB/7W11jtGMTSCv9ZB5VCK3JOyR7n0xjm5HP1/fTNHW8+n3PhW1vhTLNSXcDD3IlXfPL0xfg1sfytNyg4UpYISuoiR6CIC+w6BEGz/6SPHra+oCqHrFoGmkrh3D05+btSglGY2YbukfnyY9INdeM+JEblxGVrEc/rbI9jQt4FPP/lpNm/4H5a/4GBWfCiN0BhuRehvwYyupdnw0zleJRRrwROLoSrzMyVTVkqMKcMsdlfiF1P35ms0w+SMHoSrMuC5Fqw850bKGKbJZp+CEwoy8Bd/iVupTLl9Pc3P/6rzjJO1GPuP3ZR2Jwhd28l41OC2R7az0D7IhWMXYDWWCC9RCAw8S2HPdjRdQe9cBWqtZ4x3KIlvIEFlQRTHf/IeLnNdpTmCkS1iJCe/fbObfezIPImHKteGTG7MXMlF+99Hpmzx+wf+g71X/RksfTM8/An4f38IxWSdjkCaC6z+HGNf30Xq/x3CXBwm8u7lxyXZMqNxNv7wv/jBHZ8n9OxuLu4Kcn53gKYDY1iHD+AWc+iRdmKdYZqcnXjzvViBVgrRtbj6KW4qHJfQgX7UqkNpYdO8Sb4XlBzDSh+L3RU0ua0Tyw1Vo6GlA0cTjMZ/ybO7g6AosObdkB2EvT+aWDd0ww2YS5bQ/8k/p9LdXY/DkM4gOx6n70/+lO53/ybxf/zfxL/4j3S/97fo+cAHKGzeMuU2wrIY/NTfUN61i+ZPfhItGgUER5/9Co+OBBGqSQPvxtAtQo29qJozaftOdxlNopUBtRtXcab8N+aKakMAqzFMoGsYI5HFNbyUw8vwVsaIxhScXBJH3UKs1MCbBm/kqZH/4u7nfgUIzM4QvgubyT7eQ+HFuVXDTppeQgh6PvN3xMtBulf9HpcGYKXRzIH0ZoqBMq95NNk8JDSdqj9GGy/ganmyjZeR8i8nWrDo27eLnh1bj9tG9epE3rEEt2gz9o3dVDMz70FamjsqvVlGvrqdwtYRgm/uIHhVx2ua9CBrZfmXF+7k+7vvZ93eCCv7A1i+IAsCDRilKyhYq/B5EjQN78QXT1Ba2EQ1Gjj1jue4YaUfiwrrqhejCf243ysKNJheckYfB+ON2C2XYPQ9xWUXnEs+n+PFc5ZQ6D7K8G1/P+N6sCtipkU0A2SzWSKRCJlMhnA4XO9w3pDS3gSpHx0GIPS2RYx5Ff7xkZ2srcRZmFuC05Sgzb8fLd3L8IiJi4Zv+QoUwwQXfH0j+PvGsJrClBfM/eFhpyTAfzSO4rqkL14J2stfSDWXx+4bZF37W2l0G+ipuDxBH79a+1/kPGN8csmN3GQbGFu+AZoJN9wO57+f2XaHNhvax2yI8fWwEyWyP+uhtDuBFvMSeFMb5sLJQ7mtUpGdTzxO944XqBguo+EqAf9KWksduHkdxa9gRvIE7X0YVgZHM7G9Tdi+ZoT6qgtc1UWtOrVemIoCjouRK+EbGEMtWxSXtOIE5/bMSMcRsNhdRZgIu7QtZNTUxK9GciOI4QSasZLLL7qIC1dU4OBj0LcJfuMrEFsKgJNOM/KlL+Gk0zTc9CGCb34zxsKF6A0NKPrxNxln2kxvHzM9vpcUt21j4M8+AapK9P3vx3/ppQCUdu8m+8gjWEeOEHzb22j+xJ/hXbsWgMrhwwx//jZKu3fT9MlP4r/oIoTr8NTz/4fnDlSIZVQ03zUEYi7ewPiky4MqVBa7K1nsriCuDBBXZ+ZQiTNOgK9vDD1bJL9mIVZTBM3K4c31YRUqJLMGhi+Aor2FjL/M850Ps8DzVm659j0YqkLhmUHKB1JEfn0pwas7XkeNnZllNrSP2RDja3H4a//JwPc2cnTth7gspBJRVfamnqfgKeALR+sd3qxi5gfRHIthcy1qsRnDykJ5BxWPypt/7w9pWXr8ELJqqkz28R4AGn73HLzLo9Mb9Bk209vHTI/vTBKuoNKVJvfMIJVDKfRmH8E3L0RveG33tkfSXfzrtn+HjMXF+5vwOVU0czWK2oIqqvgqCUKZXvRqmWrQS3lBA65vfndeeSWP8LLSPZeckmG39gKu4k76veMK9uT76ci/lY6GChdUvg1AevUH2LTpWYK6yUUv7KHzL/+Spo997KzHe7ptRCbapjAXTjCu5ZD5yVEKW+KYi8MEf62DvkKFux7dxsV5m4AVwhPdSbuyh7ztY3RMA0XDt2QpqmliZAr4uuPouRKVthhWc0Qm2Y5Ry1UCXYNUmiIUVi2c1C+0MjSElUqxbMWb6cwvoOwKtldK/Kj1JxzseIpObzOfaL+Gtx/ZhNHzDCy8HN5xByy8tH4H9BrNhvYxG2I8XUII7ME8uWeHKO0YRfUb+C9pwbMy9qqZjwR9e3bx4mMPU7FLDDQVKXgWsNY6Dz2jo3gEerNNwNqPpzSCo/uwAu3YnujLu3DBSOcxExmMVB6tYk8Zkx30UmlvxPUaZ/XYZypFqCxzz8FPkIPaLkbVl2dGG0oOoCbSaMY5XHbJWi5aXIFNX6vVbfv1L4NZ6xrvFotkHnyQ/DPPIIrHZkxUFPTWFrzrziX01msJ3fAOtOCZf9s509vHTI8PIPfLXzH413+FuXQpTZ/8c7TQ5IS3cF2KmzaR+fGPqY6Nobe1ohgmdn8/eksLjX/8x2iLF7C16xF+1vMcgaELCWQHUb3raFjgQTNeHiYVECHa3IW0uh3oGMSVfkaVofl1TRa1Wc/1dIHi8gWU2xtBAb2Sxc0myI8VcAWo5koc31KeX/Q4ltbJJy/7fc5pjVB8YYTSzjF85zcR+62VqN6zn9A+W2ZD+5gNMZ6uLT/+BQPffg570a9xSQAQZXaNP4VlVgnEmmfbu9L6Ey6+bC+uqpEJrKGcDqA6BmpxC5ZusfId13HRZW87bjO3aJP71QD2UJ7QWzsJv20xijY7v/yZ3j5menxnQjVZpvBinOLWEZyMhdboxXd+E57l0df0MiZVTvHAvkd4YexJFg0uYO0ggBevtoRAKYdZSaOrFVyfSdXvoRryIczZe/05mwIixDJ3DTnS7NFfpKpMngBqrJJhvKjRUrqM1e0jLB27D3wxsqt+m82bn0O1bC7ed5TVt32B6Hvfc1ZjlYm2N2A2n2CEEJT3J0k/cgQnZxN80wI858R4sSfJT5/YzbqiH1sr0RR4Er8J41kPpUQaLRAk2NCMJ13CTGTQC2Ucn0m5vREncPpj0+cLPV3A1zdGpSVKcUU7Qq9l24QrKPV041oVmlZfxKJCJ5GKl3RVsFUk+NGCh+lu2kaDGeLXA0t488Bezk/04l/1Lrjmb2HBBXU+slObDe1jNsR4Kk7eorhjjOKLI9jxAmrQwHduE941DSj65K7sicEBnnnkQazRIVLBKrlQI23lc/CXfWAI1CbweEYIpvahAOVAJ7avYWJ7tVLFE0/hiSfRKjaOx8AJ+ah6PQhDrfVmEwJUFdejI/SpJ1yYTxSh0imW0SCaSSgjdGsHKSg5AOLjgzCeRtUXsvKctbx1eQE2/Ts0Loe3/T28ov6dqFaxh4aojo/jZjJUR0epdHVROXQI1e8n9qHfp/EP/xDtDP4dz/T2MdPjS//4QYZvvRXfxRfR9Cd/imK8IuEsXCinoZSBchqRi1PevYdK9yCiUkAP2fS3Vdnihe16hFjhCtrHvLiVfai+TpoWRiYe3MNulKXuamKiCRuLtDLOmBLHUuZpYXABnuEknkSWcluMwvIFcGxYj3AcnHgf5XQeITQ0czndbSX2xfppV9/F9avP4RJ0ys8NoQYMYr+9Eu+KWJ0P6PWZ6e0DZkeMp+NH332S3M/7WRxrZ4VXJ20Psyf5PIrPJBBrkkm210lxLLz5foRqUAivpJALIkpelMpuqmQgZHDt7/8xzc0LJ20nXEFp5xjFrSOYSyM0fmA1WnjqZxS7XKaUz+ELhTA8M6vn/UxvHzM9vtdLCEHlSIb8s4OU9ydRTBXPsiieVTH0Ft8pE2yucOnL9rIjfpADiW5SyV7M7Aht4x7aMotwRA5NaaShJDCNPHY0RjXomzT6STq5gAix1F2NRYW9+raJ++qXdBWGUUrtxKxzWNSQYHXuu2iGRmnNb/HCzgPk0ynO7R/hsr/9OyK/+ZtnLc5ZlWi7++67+T//5/8Qj8e54IIL+OpXv8rll19+wvV/+MMfcuutt9LT08PKlSv50pe+xLve9a6J3wshuO222/jmN79JOp3mqquu4mtf+xorV648rXhm4wnGtRxKuxLknxvEHipgdAQJXtVO1oCHNnRj9IwSrIZI+Q/TYRygUvFRSqRRUAhqXqIZC61SRagK1bAfKxbECfrm1xvz10hPF/ANJBCaRrm9gWo0iOM1cXAp9ffhVMqEIk20agto0JYQ1ILkHcFuK8svQ9vpb97DmH+AipFnkeNwTrnImmAn56/5/zjvgj/E9MzMKZ5fT/s40238bMRYb0II7HiRyqEUpYNJrO4MKArm4hDelTGMztCkHmzCdTm0dy8vPPVzzPEEtq5R9XYQdJeiCAXFL1BjoPlLBDIHMUtj2GaUcngRQjXAFRjJHN6RNEYyBwpUowGshjCOz5Rt/3QIiNBAu7sYD17SJBnRBkgocYazw1RHEyiYeJtX88ELHMyd34FwO7z5byC6+KS7ro6Pk3viCfIbNqD6fDR94hPEPvB+FPONDzV4dfuQ1+DTIxyHsX/9KuNf/zqBt7yFhg9/uDaJQTkDXb+AvudhvAucl3uCuih0+aLs8fg5rCuMiEZ89gpaCqvx522c8laEKOGJLSDWHEMVKjHRTLu7iEbRQpECI+oAGVKg1P12bUbQk3l8Q+O4HpPCqg7siH/id8KycId7KOVthFDAs4ju1hIHPSZa9ULev7qTS0YqOPEinlUxguvb8K4+/uXFTCavwWefVXX5+j8/wrJBDyt9Oh5Npye3m4HiAbzRRkx/UCbZ3iDFsfAUBlGEg+Vro6S3U0oFwB5HWIcRikswHOTyd7+PxuWTrx32cJ7cL/sRAiI3LCZwSRuKoVIu5NnzqyfY//SvGO3tnih70bJ4KWuuvoZ1174dXzB0goimz2ttH7L9vn7Cdqj05igfSlLancBJVdBiXnzrGvGsiKIYpz73DyW62fL0Q5QP76MpVSVUjmGIKI4eJhkwyOoJhLDxKQ1EPAWsWCNostfa62Uem1Xdi49htZ8B9Sgl5djIDwGHC8MIq4HG8nkoqs1SfRtL7U2oneexOxtiYKCfjmSOq3/9vXT8xV/U7tPOsFmTaPv+97/PTTfdxD333MP69eu56667+OEPf8jBgwdpaWk5bv3nnnuON7/5zdxxxx38xm/8Bvfffz9f+tKX2LZtG+eeey4AX/rSl7jjjju47777WLp0Kbfeeiu7d+9m3759eL2nfqsxG04wQgicVIVKb5bygSTl/eMIy0VvD1BaEeFgtcrhvaP4RpIEbT955SgoB/GVqziWjaZoBC2FSL4Kuk41HMAO+3ECXjlFxmugWA6e0RRGuojivjye3EWQ9kPOAwIwXYWI3kBH+Dwa/O2UnTKDpUESVppctUTGtbF0naJPIREqMx4ZpiGS4LzOZi5eeCVrFl5FMLoYtPoP1Xut7eNstPEzHeN0c4s21WSZaqqCkyxhDRWoHM3g5izQFcwFQczFYcyl4UlDnOxKmb7DB9i2/Xns/kH0qoOr+TDURaC3oPpBDQr0QAVdZDFLoxjFEYRqUAkuxFHCGKk8RjKLmcqjOC6Oz8SOhbBigYneIdJrJCAqGmkQLYSIAIK0kmTIGaB7dD+FUh9Cb2L14kausX6KWhyv9V5tWlmr11jJQzEBxXGwjk204glDZCFV32IyWwYoPP8CRns7jX/6J0Te/W5Uz+vvafzK9vHTn/5UXoNPQ/nAAeJ//wVKu3YR/e3fJvSud6EUE7DnR3DocQCchhUkzQ7GnAD7K2W2V0fJGTrB6iJi5VWEyx1o1hhVuwthdwMO3kAznc2radLaiLgNhIigolIkz6gyRFoZl0nvKajlKr6BBFqxjNUQpNIaoxoO4Jo6KKAVktjxOMUyCOGC3kYqYnAgEKFqrOAji1pZMmbhjpdRfDqBi1rwnd+EuTA045Nu8hp89lQLNpsf3YnyXDftZhOaojJa7qe/sAvXKzDCTbO+xt+MIgRGOYFeyQCCqhElL5ZRLofA7gd7EEd1MFFYtGoNq952A8Hm2t+sW65S2DRM5XAaTIWcJ8OR/q2MlQbwL22kbcVKfMEQpXyO+JHDDB3cj6prnPfW67n4He8m2ragbof9WtqHbL+vjVOwsbozVLozVHqz2EMFcAWqX8dcFMazIore5j9hO3aFy3AuxdHefRS2PEngUA9NmRCFwCLS0SUU/R24VHGq/bhWF0Lk0bUg4bAH/EGYp7OHnmmKUGgWC2gW7RgYpJQEQ2of48oIruKSKOcZLRcI2EsI2p0oKGhqH+3sxWvaHErYKFWHdYaf9Z/7AsHT/Ns/XbMm0bZ+/Xouu+wy/u3f/g0A13Xp7Ozkz//8z/nMZz5z3Prvf//7KRQK/OQnP5lY9qY3vYkLL7yQe+65ByEE7e3tfOpTn+Jv/uZvAMhkMrS2tvLtb3+bD3zgA8fts1KpUHnFlLCZTIZFixbR398/vScYx0aUcohSHlGq4FoOTkXBLqnYZRUrD5XRHNWRHHpBoB+bmaNcTlMoDJMujFJUoGQGsHQTRBnXSYAoAKAqKl5HJVCo4nEUnLAfOxasJdfkfcMbI0AtWyj2KwrH6xq2rmBbFaqOhXAchOsSIEiLuZCo2YbPqL1ZE0JQrGbJVsfJWGNkrCx5F8qKh6xHkA5YVLwFdE8ev17Cp1uETJeo30tLrIEFzYuJNa7CH1uKGe5A1Ty1hw1FO+NTRmezWTo7O0mn00QikVOuf6bb+FRmQhsWQoAjcCsOolLFKdi4pSpuoYpbsKmmyzhjJezRIm7x5boDQgPhAzsoqIYEVlDBVSFfzpPOpcimxqmkxlFyeYyXaqYpHlStCbRGNLNCUEtg6mOor6xnUAXhenFdP1R0jFwJrVir++T4TeyQHyfkx53FtYpmIk0YRESUsIgRIIyKStktkaqMkqoMka0WKKkKmlbCpxWIKAVCapmAZuE1HDSjdp9mVkuYlQRGKYGCoKK2k+sJUO5NogaDBK+9Fv+b3oTvnHMw2tsnD188hVe24euvv15eg6fgWhbpQwcZef55RrY8T25wgHI4hNvahKs4KFYO3c6jaxplTxOjxMi7OoqioikaATdA2A3iVVQUyuDm0HHx6yEi3hZCZgNeLYiHWuLRxqKg5CiSJ6dk5u/w0NdCgJYp4hnPoJVq50Zx7OFJOXZr6yqCvEcj61FxVRtQUdQIrmZQMH14g80s8rSwsOrD66oIBdygiR7z4G3yYbT40Zu86GEPqt9A9el1T8TJa/BrJ4QgW7YZHy+SSZTIJvLkxjO4mRRGPksw79BgBYmoYRRFJW+nGa8MknL6a//NffU/hjlNuGhWDs3OozplHOGlIJZRchvAzSKqIwg3Ra2PsIHQPVRNHVcXBGyNdq2NqNlGyIihKioWNnF1nFEjSd5TQIQhGArixMdJHNyPVcrTvnotyy6+nPaV59DQ3oFxGi+BzpTX0obnevt1KyVKoz2URropJfqxUqNY+TTVcgG36gIqQvFQ1TzYigdX8aMJP4YSxFQCGMKLKkwU20Arm3jKtXuhsmGRMfNktAxpEhSsJFQcsARUOXbzrSMwEHhQhQ9NeFFdD6ajoVdBqBqWYeJigZtHFaM4TgrXqV2fDa8XbyiKbsoSS2eLIlQiIkaDaCFACIcqGSVFXslSVArknDzxSoaybaLZUQwnBqi4DKGW92NXs2hCIeaoNMQ0FiyLseyC1QQXnVOboCzcDqb/lHG82mm3YVFHlUpFaJomHnzwwUnLb7rpJvHud797ym06OzvFV77ylUnLPv/5z4vzzz9fCCHEkSNHBCC2b98+aZ03v/nN4i/+4i+m3Odtt90mqHU8kh/5kZ/T/PT399eljcs2LD/yc2Y+R44ckddg+ZGfWfqR12D5kZ/Z/TlVG5btV37kZ2Z/TtWG69qVIZFI4DgOra2tk5a3trZy4MCBKbeJx+NTrh+Pxyd+/9KyE63zarfccgs333zzxM+u65JMJmlsbJRdxF+Hl7K8M+VN5lxWj+9aCEEul6O9vf2U656NNj6Vs9mG5d/z2Se/47Pvld9xKBQil6sVmJ1L12D5d1Qf8nufXvPtGnw2yb/dl8nv4mVn+7s43TY8E9vvfPk7mQ/HOR+OEc7OcZ5uG5ZjhgCPx4PnVfVuotFofYKZQ8Lh8JxuuDPJdH/XpzNcZTpNRxuWf89nn/yOz76XvuNIJMLQ0FC9wwHOfPuVf0f1Ib/36TMfr8Fnk/zbfZn8Ll52Nr+LmdSGX0/7nS9/J/PhOOfDMcKZP87TacN1LTTR1NSEpmmMjIxMWj4yMkJbW9uU27S1tZ10/Zf+97XsU5Kks+NstHFJks4MeQ2WpLlNXoMlafaS7VeSZre6JtpM0+SSSy5hw4YNE8tc12XDhg1cccUVU25zxRVXTFof4IknnphYf+nSpbS1tU1aJ5vNsnnz5hPuU5Kks+NstHFJks4MeQ2WpLlNXoMlafaS7VeSZrmTVnCbBg888IDweDzi29/+tti3b5/44z/+YxGNRkU8HhdCCPGhD31IfOYzn5lY/9lnnxW6ros777xT7N+/X9x2223CMAyxe/fuiXX+6Z/+SUSjUfHwww+LXbt2id/8zd8US5cuFaVSadqPbz4ql8vitttuE+Vyud6hzHmz4bs+G218Os2G73i2k9/x2Xei73guXYPl31F9yO99Zpvt1+CzSf7tvkx+Fy+bSd/FTGu/M+m7OZvmw3HOh2MUor7HWfdEmxBCfPWrXxWLFi0SpmmKyy+/XGzatGnid295y1vEH/zBH0xa/wc/+IFYtWqVME1TrFu3Tjz66KOTfu+6rrj11ltFa2ur8Hg84m1ve5s4ePDgdByKJElTONNtXJKkM0degyVpbpPXYEmavWT7laTZSRFCiHr3qpMkSZIkSZIkSZIkSZKk2a6uNdokSZIkSZIkSZIkSZIkaa6QiTZJkiRJkiRJkiRJkiRJOgNkok2SJEmSJEmSJEmSJEmSzgCZaJMkSZIkSZIkSZIkSZKkM0Am2qQz7u6772bJkiV4vV7Wr1/Pli1b6h3SnHPHHXdw2WWXEQqFaGlp4T3veQ8HDx6sd1hzWk9PDx/96EdZunQpPp+P5cuXc9ttt2FZVr1Dm9Xk+eLsmc/nCdlep49sw9JsN9/PF7IN18zna+YbUalUuPDCC1EUhR07dtQ7nDNqLp8b5nq7nwntWSbapDPq+9//PjfffDO33XYb27Zt44ILLuCGG25gdHS03qHNKU8++SSf+MQn2LRpE0888QS2bXP99ddTKBTqHdqcdeDAAVzX5etf/zp79+7lK1/5Cvfccw+f/exn6x3arCXPF2fXfD5PyPY6PWQbluaC+Xy+kG34ZfP5mvlGfPrTn6a9vb3eYZwVc/XcMB/a/Yxoz0KSzqDLL79cfOITn5j42XEc0d7eLu644446RjX3jY6OCkA8+eST9Q5lXvnnf/5nsXTp0nqHMWvJ88X0mu/nCdlezzzZhqW5ar6cL2QbPrH5fs08HY899pg455xzxN69ewUgtm/fXu+Qzrq5cG6Yj+2+Hu1Z9miTzhjLsti6dSvXXXfdxDJVVbnuuut4/vnn6xjZ3JfJZABoaGiocyTzSyaTkd/56yTPF9Nvvp8nZHs9s2Qbluay+XC+kG345Ob7NfNURkZG+NjHPsZ3vvMd/H5/vcOZNrP93DBf23092rNMtElnTCKRwHEcWltbJy1vbW0lHo/XKaq5z3Vd/uqv/oqrrrqKc889t97hzBtdXV189atf5U/+5E/qHcqsJM8X02u+nydkez3zZBuW5qr5cr6QbfjE5vs181SEEHz4wx/mT//0T7n00kvrHc60mQvnhvnY7uvVnmWiTZJmuU984hPs2bOHBx54oN6hzEqf+cxnUBTlpJ8DBw5M2mZwcJB3vOMd/M7v/A4f+9jH6hS5JJ2+uXKekO1VkqTTJc8X0us1V66Zr9XptpmvfvWr5HI5brnllnqH/LrIc8P8Uq/2rE/rvybNaU1NTWiaxsjIyKTlIyMjtLW11Smque2Tn/wkP/nJT3jqqadYuHBhvcOZlT71qU/x4Q9/+KTrLFu2bOL/Dw0Nce2113LllVfyjW984yxHN3fJ88X0mUvnCdleZw7ZhqWZTp4vTk624anNpWvma3W6beaXv/wlzz//PB6PZ9LvLr30Un7v936P++677yxG+cbN53PDfGv39WzPMtEmnTGmaXLJJZewYcMG3vOe9wC1rpobNmzgk5/8ZH2Dm2OEEPz5n/85Dz74IBs3bmTp0qX1DmnWam5uprm5+bTWHRwc5Nprr+WSSy7hW9/6FqoqOwW/XvJ8cfbNxfOEbK8zh2zD0kwnzxcnJ9vwZHPxmvlanW6b+dd//Vf+8R//ceLnoaEhbrjhBr7//e+zfv36sxniGTGfzw3zpd3PhPYsE23SGXXzzTfzB3/wB1x66aVcfvnl3HXXXRQKBT7ykY/UO7Q55ROf+AT3338/Dz/8MKFQaGJMfSQSwefz1Tm6uWlwcJBrrrmGxYsXc+eddzI2Njbxu7n4Bmg6yPPF2TWfzxOyvU4P2YaluWA+ny9kG37ZfL5mvlaLFi2a9HMwGARg+fLlc6oX4Fw9N8yHdj8j2vO0zW8qzRtf/epXxaJFi4RpmuLyyy8XmzZtqndIcw4w5edb3/pWvUObs771rW+d8HuXXj95vjh75vN5QrbX6SPbsDTbzffzhWzDNfP5mvlGdXd3C0Bs37693qGcUXP53DDX2/1MaM/KsUAkSZIkSZIkSZIkSZIkSXoDZvcgY0mSJEmSJEmSJEmSJEmaIWSiTZIkSZIkSZIkSZIkSZLOAJlokyRJkiRJkiRJkiRJkqQzQCbaJEmSJEmSJEmSJEmSJOkMkIk2SZIkSZIkSZIkSZIkSToDZKJNkiRJkiRJkiRJkiRJks4AmWiTJEmSJEmSJEmSJEmSpDNAJtokSZIkSZIkSZIkSZIk6QyQiTZJkiRJkiRJkiRJkiRJOgNkok2SJEmSJEmSJEmSJEmSzgCZaJMkSZIkSZIkSZIkSZKkM0Am2iRJkiRJkiRJkiRJkiTpDJCJNkmSJEmSJEmSJEmSJEk6A2SiTZIkSZIkSZIkSZIkSZLOAJlokyRJkiRJkiRJkiRJkqQzQCbaJEmSJEmSJEmSJEmSJOkM0OsdwEzkui5DQ0OEQiEURal3OJI0owghyOVytLe3o6ozM1cv27AkndhMb8Oy/UrSic309guyDUvSycz0NizbrySd3Om2YZlom8LQ0BCdnZ31DkOSZrT+/n4WLlxY7zCmJNuwJJ3aTG3Dsv1K0qnN1PYLsg1L0umYqW1Ytl9JOj2nasMy0TaFUCgE1L68cDhc52gkaWbJZrN0dnZOtJOZSLZhSTqxmd6GZfuVpBOb6e0XZBuWpJOZ6W1Ytl9JOrnTbcMy0TaFl7rJhsNheYKRpBOYyd3JZRuWpFObqW1Ytl9JOrWZ2n5BtmFJOh0ztQ3L9itJp+dUbXjmDQyXJEmSJEmSJEmSJEmSpFlIJtokSZIkSZIkSZIkSZIk6QyQiTZJkiRJkiRJkiRJkiRJOgNkok2SJEmSJEmSJEmSJEmSzgCZaJMkSZIkSZIkSZIkSZKkM0Am2iRJkiRJkiRJkiRJkiTpDJCJNkl6NdeF3f8PEofrHYkkzUulXJYdP3uUke4j9Q5FkurKtSzSDz1EafeeeociSdJMMXYItn8XSul6RyJJ0jQTQnB4y3Ps2fgLnGq13uFIJ6HXOwBJmnF+8Xl47qugGvBnm6BpRb0jkqR5w66U+eEX/46x3m40w+ADf/8l2lasqndYklQXw5+/jexDD4GmseT+/8Z3wQX1DkmSpHoa3Ab/eT24Nmz8J/jjjRBoqndUkiRNk2e//x02P/gDAA5vfo73fPpWFEWpc1TSVGSPNkl6pUICtnwD1v0W+GKw8fZ6RyRJ88quXzxOor+X6z76ZwQbGnnqe9+ud0iSVBflg4fIPvQQsZtuwli4kNE7/6XeIUmSVG8/+SuILYb3fA2sPPzkr+sdkSRJ0yTR38uWh37Iude+nave//sc3baFg88/Xe+wpBOQiTZJeqV9D4FbhXN/G9bcCPsfgXKm3lFJ0rzgug4vPvJjFi9po8EssObqa+jfs4vxwf56hyZJ0y79wx+ixWIE3/IWwjfcQPGFF7D6+uodliRJ9RLfA8M74cLfg0gnXPJh2P8/MLi13pFJkjQNtj76EL5wlNVX/hodq9fSumwlLz7yY4QQ9Q5NmoJMtEnSK3X9AlrWgjcMS64Gx4KDP613VJI0Lwzs2UU+lWR54Sl49G9oN5PopofDm5+rd2jz1lNPPcWNN95Ie3s7iqLw0EMPnXT9H//4x7z97W+nubmZcDjMFVdcwc9+9rPpCXYOEa5L9vHH8V92GYqu47v0UhTTJPeLDfUOTZKketn9A/BGoP2i2s9Lr4FwO2z6Wj2jkiRpGlilIgeefYqlF12CptWqf628/ApGjnYx2nO0ztFJU5GJNkl6iVOF7qdevoEJNEPjCjjyy/rGJUnzxMFH/pOgXqHhyvdD6zr0rf/BguXL6XphU71Dm7cKhQIXXHABd99992mt/9RTT/H2t7+dxx57jK1bt3Lttddy4403sn379rMc6dxSOXgQJ5HAd/HFAKgeD55zziH/5JN1jkySpLrp2gAdl4J6rMS2qsGqd8C+h2ulTyRJmrN6dm6jalVYfN6FE8valq/E9Pk5tOmZ+gUmnZBMtEnSS8YOgFWo9Wh7Set5teSb7JIrSWeVqNoc2d9Fe5MHpWkVrH4XVDK0Bm1Gu7uoFIv1DnFeeuc738k//uM/8t73vve01r/rrrv49Kc/zWWXXcbKlSu5/fbbWblyJY888shZjnRuKTz3PIrHg2fFy5PxeM89l9L27biWVcfIJEmqi3IGRvZC67rJy5e/DVynlmyTJGnOOvLiZiKtbQRjDRPLVE2jffUaDm+RIz9mIplok6SXDG4FRYWGFQghsG0BC86H3DCkuusdnSTNaYlnvkfB1lmw+jxcIWqTkTStprmwByEEgwf31jtE6XVwXZdcLkdDQ8MJ16lUKmSz2Umf+a7wwgt4VqxAMYyJZZ5VqxCWRXmPbAuSNO/0bwHE8Yk2b6R2r7r3oXpEJUnSNBBC0L1zGwtWrD62ADjwKOx9mAXLV5IaGiSbGKtrjNLxZKJNkl4ytA2ii6ji4UffrfKNL1d5/sC6Wme2AVloVpLOpt5nfoKqCPYcWcnDDzg880uHcuPFBHMH8QWDDO6XyYXZ6M477ySfz/O+973vhOvccccdRCKRiU9nZ+c0RjjzCCEobd+OuXLlpOXmokUoXi+l7dvqFJkkSXUzuLWWVAu1H/+7xVdB7zNQTE5/XJIknXXJwX5K2QwtS5bVFuz9ca024wvfpKWwA0VR6N0lS3TMNDLRJkkvie+BhmW88JxLYgSWrVLYttWgW3uHnNFJks6mSp4jR5OgtuA6GstWKWRSgi2HViMUnVjEQ/zI4XpHKb1G999/P1/4whf4wQ9+QEtLywnXu+WWW8hkMhOf/v75Pcus1dODm8lMGjYKoGga5uLFlPbsqVNkkiTVzcgeiC0BRTn+dx2XgnBlTWFJmqP69+5GUVUaOxdBtQK7fgCdb4Ilv4bn8E+Iti1gYN/ueocpvYpMtEkSgOvC2H6c8BL273JZvFzh/EtUmttgU+q3EQMv1jvCWUnOWCidjsr+DQwWgpjeFs67WKGpw2HlOhhPqAzo19CgZxk52iWnL59FHnjgAf7oj/6IH/zgB1x33XUnXdfj8RAOhyd95rOXhoZ6li077nfmkiWUd8mbaUmad0b2QnTx1L8LNEFsGRx+YnpjkiRpWgwd2k9sQQeG6YHe58DKw5KroXM92EWaIgYDcuTHjCMTbZIEkOkHq8BAaR2lIixaVntjuHqdSqrUyGCfqCXjpNdEzlgonY6NPzqAoMrSNS38Kr2Tu7of4rvZR/HFKhzMXkbM6qdSLJAeGa53qNJp+N73vsdHPvIRvve97/Hrv/7r9Q5n1inv2YPe2ooaCBz3O3PpUuzBQZx0evoDkySpPqwiJLtrPdpOpP1COLpRTt4lSXPQ0OEDNHQsrP3Q9zxEOsHfWPuEO2jWk2QTo+TG5ezDM4lMtEkSwOh+APpT7fj8EInWFjc2Q9BvsS93tZwQ4XWQMxZKpzI+kONgv4qCQrc3wbZMFxeElhLW/Oz0biVf9iNcPwBjvbINTrd8Ps+OHTvYsWMHAN3d3ezYsYO+vj6gNuzzpptumlj//vvv56abbuJf/uVfWL9+PfF4nHg8TiaTqUf4s1Jp717MxVP3XDEXLQKgfPDQdIYkSVI9jR0AxIl7tAG0nQ/5OIwfmbawpLNPjgyRSrksmZE4jR2d4Ni1ckYta15eoWEpjeXaPcFw18E6RSlNZVYk2u6++26WLFmC1+tl/fr1bNmy5aTr33XXXaxevRqfz0dnZyd//dd/TblcnqZopVkpcQh0H4PDXppaFJRjNTDcskUse4SjhfWMfPWrcujaNDudGQtBzlo4W+SffZahv/s7Cps2Tyzb9IOdKE4P/nCA59IHWBPsZE1oEVc1rCHnHUcYFUac8/F6DRJ9PfULfp568cUXueiii7jooosAuPnmm7nooov4/Oc/D8Dw8PBE0g3gG9/4BtVqlU984hMsWLBg4vOXf/mXdYl/thGuS2X/fowTJNr0tjYUw6By8MA0RyZJUt0kj9b+N7LwxOu0rgVFg56npicmaVrIkSFzjzUwyMDNn6Lr+hsY+Iu/pHL05C+RR452AdDQvrD2vFqtQNOql1doWI7PGsMfChHvki/hZhK93gGcyve//31uvvlm7rnnHtavX89dd93FDTfcwMGDB6csrnz//ffzmc98hnvvvZcrr7ySQ4cO8eEPfxhFUfjyl79chyOQZoXxLirB5SQOwIWXw3A5RUjzUfjeowSGKzjL1nD4Z314zn+I6G+dXu8s6Y07nRkLoTZr4Re+8IVpikp6PUq7dzPwpx9HuC7ZR37C4vvvpxhbTM8hC6oDZAJBTFVnidlBqmgR8xucE1xI3NeHp7CWiG+Qsd6eeh/GvHPNNdec9AXDt7/97Uk/b9y48ewGNMfZg4O4hcJEz7VXUzQNY+FCygfkW2tJmjfGj4A3Cubxw8knGH5oXAG9z8OlfzhtoUln1zvf+U7e+c53nvb6d91116Sfb7/9dh5++GEeeeSRiRdmr1apVKhUKhM/y5fVZ481MEjP+98PioL/4osp7dxJz/vex+L/ug/v2rWT1hVVl/KBJPlNw4R9jQQbGmDnE2D4INT28orHEvANMT/Dh+W9wUwy43u0ffnLX+ZjH/sYH/nIR1i7di333HMPfr+fe++9d8r1n3vuOa666io++MEPsmTJEq6//np+93d/96S94GRvGInEYcaU8wHY4m7j7w7ex9d+fg/lgz20vWk5PiVLetkljH75y7iWVedg54fTnbEQ5KyFs8HYv34VvbWVhV/7GnpzM6P/cie7fjWARx3Fch16jBztehubj6R4oTvJ/qEsywPtpH1xLCeA17UY65NDR6W5rby/VsbgRIk2AKOjg8oh+dZakuaN5FEIt596vZZzavWbJOmY0xkZcscddxCJRCY+nZ2d0xjh/CGEYOjTn0bRNNpuu43Y7/0ebV/4AnpzMwN//he4xeLEutZwgZG7tjL+3f1EukNc1/ohlJQ4Nvvw4lrv1ZeYQfBFifmqjHQfQcia4jPGjE60WZbF1q1bJ81Ypqoq1113Hc8/P/WF5Morr2Tr1q0TibWjR4/y2GOP8a53veuE/448wUiMHybhrkTRBI8XnuXq2Freul8nHlXILvDT4EmQDi3FSSTIPf54vaOd817LjIUgZy2c6ayeHgpPP034Xe9C9XiIvOc95DZv5dDmYaLuswBU/AbpMS8NAQ+dDQH6UyUyeYdgBFzVxnH8ZEdHsK3KKf41SZq9KocOo4bDqJHICdcxFi6k0tUlb6Ylab4Y75rcg+VEWtbWJvfKyomDpJrTGRkiX1ZPj9zPfk5p2zYaPvIRtGPPKarPR+PHP449MsL4vd8CoJosk/iP3QgB0d9awfbKr3A1FzYXYezg1LUawx00MI5dLpGKD03nYUknMaMTbYlEAsdxaG1tnbS8tbWVeDw+5TYf/OAH+Yd/+AeuvvpqDMNg+fLlXHPNNXz2s5894b8jTzDzXDkLhTHGSu2UfWkazSBXWgtoGqvQu8TDY2Mv0hAokKENZfV5ZH7yaL0jntPkjIVzT/bxn6F4vfguuwwA38UXk+q4hKotcJ0eKiYE9EY0NBY3+GkNewh7DQ6P5unwN5I1kxSUDoQQpIYG63w0knT2VA4dwly4cKJO6FSMhQsR5TL2wMA0RiZJUt0kj0DoNHq0Na+hWlEpP/0Qolo9+3FJM9rpjgyRL6vPPiEEia9/He+6dccNETVaWwm99a0k77sPJ18g/T9HQIXIu5aihDTSqRFyzXmUhAvVlRCZItEWWkC0WquX+1JNN6n+ZnSi7fXYuHEjt99+O//+7//Otm3b+PGPf8yjjz7KF7/4xRNuI08w89yx2URHsxHixiAXRJah7+5DeAzaV6xmpJIi7RsHoLDycgrPPouTL9Qz4llDzlgoAWR/9ji+Cy5ANU0AFF0nufIafJUEw1WXgk+hmgnSGvGgabUEQ2vES75i43VC5LwJ8qwAIDkoX4RIc1f54EGMhScpeE5t6ChApUvOLihJc145C6XUafVoS/58O10Pt9L9qX/l6G/ciNXTc/bjk2ak1zoyRDq7ynv2Utm/n9D110/5+9A73oFbKJD64c8pH0gSuLQN1auTGRsFITAWBBBmGdSrIdJx/A6CLXjsNIFIlJFueW8wU8zoRFtTUxOapjEyMjJp+cjICG1tU19wbr31Vj70oQ/xR3/0R5x33nm8973v5fbbb+eOO+7AlcMspKkkj+IIjXTGJONJsNy3AO1AP+6iJlp8MVo9MbY6vXjJkA20gONQ3LL51PuV5IyFEtVEgsr+A/guuGBimRCChNZOMH0Uu6Tg+P1oGLQEvRPrRHwGXkNjJG1BsAQihEdXGR+UvXikucktl7H7+0+ZaNNiMRS/n0rXy2+tj25/gY3f+U8Ob35Ozo4tSXNJ5tjLpeDJa9VmfrmZka9/n+CKAC3XxnAti94//EMcWXd63pEjQ2aezEMPocVieM8/f8rf642NeM89l+KLY6hhE3N5rXxEZiwOikIgFgWzH5TLAM/xOwjWRv9FY0FGe2SibaaY0Yk20zS55JJL2LBhw8Qy13XZsGEDV1xxxZTbFItFVHXyYWlarWCgvPmUppQ8SkZdDkJBCZRpSDuo6QLVhc0ArPS3M2yl8ShxUiUfemsLhWefq3PQs8NLMxa++vPSTIXf/va3J81SuHHjxpOuL80+hU21pLR33bqJZemUS9nWMCpdKAIqapgGvznRm+0lzUGT0VwFf1ABXExNJTkkE23S3GQdPQque8pEm6IoGO3tVLoOA/Dkd+/lwX/6Avuf/iX/8+Xbefp7901HuJIkTYf0sURb4MSJtmoqS/zu/8Z/0Rqi167Fq/fT8td/hZPOMPovX56mQKWzQY4Mmf2E45B9/HH8l1+Oop449eK//EoU3zLMhR4URcFxBXv2d2PrPv51YzeZ/BYUPJCaItHmbwRVJxqAsZ5umfOYIWZ0og1qPWC++c1vct9997F//34+/vGPUygU+MhHPgLATTfdxC233DKx/o033sjXvvY1HnjgAbq7u3niiSe49dZbufHGGycSbpI0SbKblF5LAsQiGqX9/VRVhV9mLA4PZ2jRQ3hVk7yZJJEPYa5cRXHr1joHLUmzQ2HT8xgLF6JFoxPL4nEHRRHkPKMgoCIiNIWOv3FoCHoQQqA6HgpGDlfxkuqXM49Kc1PlcC1xZrSfuhaT0d6O1XWEfU/9khcf+TEXXP8ufuMv/5bzr3snLzz8/+jdteMsRyvNJnfffTdLlizB6/Wyfv36iQnDTuSuu+5i9erV+Hw+Ojs7+eu//mvK5fI0RStNkukHVQf/iWeNTNz/E1xFJXbjtSjRhVAtoxtFIu95D+kf/pDK0aPTGLB0JsmRIbNfaecunPFx/JdeetL19AUXoOge3Fw3A6kif/ujXfT29mMZAZY3mIScHsqiwGjPFDVcFQ38TUSNMuV8jnxy/CwdjfRa6PUO4FTe//73MzY2xuc//3ni8TgXXnghjz/++MQECX19fZN6sH3uc59DURQ+97nPMTg4SHNzMzfeeCP/+3//73odgjTTJbuJczmWVqIlEKS09yDVUICYmyZ7eB97D8PCtjDDxhgtFZPqknOxnvsGTr6AFgzUO3pJmtGKL7yIZ/XqScvGxlzCnhxxv4uvBFEBQc/xlyNDU4n4DAo5B9tM4S83UxnpRwhx0mLxkjQbVQ4fRmtuRvX5Jv9iZC9s/y40r4aLPwSKhrFgAemtL/L0fd9k0XkXsPpNVwOw+oqrGTy4l6e/dx+LzrtAthOJ73//+9x8883cc889rF+/nrvuuosbbriBgwcPTlkg/f777+czn/kM9957L1deeSWHDh3iwx/+MIqi8OUvy95R0y7dB4FmUI7vG+E4gmc2pDg0fh3WZb9DZKvF5auCdACMdxF629vIPf444//xH7Tffvu0hy69cS+NDDmRV4/4eOUoEWlmyG/ciBoOY65YcdL1qkkDUUmQ2rmVL8SDhLw6bWqJ0ILFLGgooY4KMnoWPRmma2yMFc3ByTsINBK1awm20Z6jhBqbztYhSadpxvdoA/jkJz9Jb28vlUqFzZs3s379+onfbdy4cdJJRtd1brvtNrq6uiiVSvT19XH33XcTfUVvCkmaJHWUXquVnCcFRQ/NqQzpZg2RGsIINVI2w2jxLIVKbbbDYuNScF3Ke/bUOXBJmtmqiQR2by+elSsnLR8ddVBFH7YCXhsWlUon3EdjwEO+5FL1FRGijapdlW/qpDmpfLjr+N5slSz88ouQHYA9P4Kt3wZqEyIcDXmxy2UufPu7JlZXFIW1V1/LyNHDxLsOTWP00kz15S9/mY997GN85CMfYe3atdxzzz34/X7uvffeKdd/7rnnuOqqq/jgBz/IkiVLuP766/nd3/3dk/aCq1QqZLPZSR/pDMn0TzlstFwWfPO+JLu3+Qnk+xny/YKcm+UXOxYx4L0GxrtQdJ3Q299O5n8eoZpITH/skiSRf+pJvOvWnXTYqHAF9oiL8BSxDx6gwadx06ULcMt5zFAET2EQV9XJRfM0qgF+uqebku1M3kmgCX95AMPrI9HXc3YPSjotsyLRJklnTbUC2WFSxSglM4N1JIutuSTsFP5YE40LFhBsasPWvDSkSyBK5JUIimlS3r+/3tFL0oxW3LYNYFKPtlLJJZ8XpNwjGDaATnM6d8J9RP0GqqrgGBaKWisOK+u0SXORdfjwxIyiEw49DtUyrP9TWHU97HkQa7SHYrCJnqYIS5YsxxsMTdqkdflK/JEoezY+MY3RSzORZVls3bp10qyDqqpy3XXX8fzzz0+5zZVXXsnWrVsnEmtHjx7lscce413veteU6wPccccdRCKRiU9nZ+eZPZD5LN1f69H2Co4j+Nb9CUpJg6W9P6LNt4+O1hLbffej+5M8U7mJymjtOhl485tRVJX0j35cj+glaV6rjo9TOXAQ77nnnmI9AVXY51iYjs3vtglEPgWAEQzjyQ/zZDDCI/avcHEJ+XPce+BV53B/M0pxnGhzC2O9sszKTCATbdL8lq4NQ3OKERS/hTmQpLtBoBkmwabaG8TGoAmBBjwWVN0DpJNlzMWLKe/dW+fgJWlmK23fgdbUhN7wcm2Z8fHa7M9xZQQFqPp8+MYy4Ew9K7SqKkR9BkVhgVIbqp2OD5312CVpOrmFAvbQ0PE92o5shJa14AmRb7mGnyl/z/2PNvHgEz04mka50IFVnvxWW1VVFq07n8Obn8N1X/XGW5pXEokEjuNMlFt5SWtrK/F4fMptPvjBD/IP//APXH311RiGwfLly7nmmmv47Gc/e8J/55ZbbiGTyUx8+vv7z+hxzGvZQQhMHgL24C/GqI6FMMObiKWHUFd3sibUyepgB3s8D2MJD3vH14LroAWD+C67lPSPfyQLpEvSNCtuPn5CsKnYIy5CF2zIWjiaQXiwh0p6HFAwghG6rCG2GA6LPe0UlApvG38nkYPnsGV/8uWdHDtPRKIBmWibIWSiTZrfUj2URRjN8YDHJppLkvVCsKkV5RX1MBpjERxVoWJ3kUq5GIsWUd63r46BS9LMV9q2Dc/y5ZOWJZMummpTqRYQgBuLoTguZuLEQ41ifhPbUqkYJXRNI9V7+CxHLknTq3K0dlM8qUdbYQzSvdC6Druq8POtHaTVxazjYTzKTryEGc9HePr7h7ArkxNq7avWUMplGT4sh49Kr83GjRu5/fbb+fd//3e2bdvGj3/8Yx599FG++MUvnnAbj8dDOBye9JHOAKcK+dFJiba+4RLxHRFG2/dy3sAYbmMIEQ0ggE69A1etUPUfZp+4HitR69UWvOpq7N4+SsdmrpQkaXoUtmxBb29Hj8VOup494jJMmaDXy/DStxIfMijER9H9AUrWGBtMWOI20TJwLsmSTZsRwNbLDO4IMTZy7EW1vxGASFAjFR+iattn+/CkU5CJNml+S3Uz4i4EwNZsXJHDQMMTnHyT6PNoVE0fVOKkcxp6x0Ks3l5cy6pH1JI047mWRXnfPjyvKv6aHHdR1TF8FXBUEzMWxPUYeOPJE+wJwl4DXXgpmhmEGiDdJxNt0txS6eoCXjXjaHx37X8blrG3O0K+aHDJmgwRrYtCIUGr4WFJeQ+FbIU9Tw1O2l/Dwk48/gDd21+crkOQZqCmpiY0TWNkZGTS8pGREdra2qbc5tZbb+VDH/oQf/RHf8R5553He9/7Xm6//XbuuOMOXHfqnsfSWVIYBeFMPEADPPizcQqeDBcv19GODOMsbaXqwrbeNNt6MuiFCAeN56nioftg7QWWZ80atFiM7KOP1etIJGleKm7egvdVE4K9mlsSuFnBzmyG1WobieAqsqKB7JFBwMf2wedoKbbRMXQlwtbJR5OYio63sUDGO8YLm21cIcAMgOEjYlQQrktyUPYsrjeZaJPmt3QvXUbtBKgm02S8goA/MuVMbd5AGM21cZwc1ZZF4DhY3T3THLAkzQ6VffsQtn3cLEvj41XKahxfBYThwWOoWA1BPPEknGBYi6YpRDwmZb2Aq8RIjUw95EmSZivrSBdaUxOq1/vywtG9EGqjqgXZ2x2ls7VAwOcypLWgIYiFG9AS/Sxe10jvnnFyyfLEpqqq0rx4Kf37dtfhaKSZwjRNLrnkEjZs2DCxzHVdNmzYwBVXXDHlNsViEfVVRbs1TQOQQw+nW/ZYmQR/rUfb3t4U+kgrLB4k1p0CV+AsamFHf4pU0WJ5c5DLWpZQVYsoajd7e2uzEiqqiv+yy8g+/lOEI4eTS9J0qI6PY3V3T6pTPBV7rPYCo+LoYGu0BhMs7nkcRc3hWCaL+97E4sSVKKaLpz1D0Z+jqjhcrK+kN7qPSkFjsE8ACvgaiahpADl8dAaQiTZpfkv1MkgnRT1HdHAMAPME0yFHQpHaULdqP+Vg7U1w5bDsWSNJUynu2IFimpiLFk0sq1YFuZxgXB1DtwWG6SPmNtG84HJ8thcte+LZR8M+k5JWQiFGJltGyJ4V0hxS7jpyfH22sUMQ7qBvxI/tqHS2FAAYLljEDBfDzSJKZVraDEyvzuEXRydt3rx4CfEjh7CtynQdhjQD3XzzzXzzm9/kvvvuY//+/Xz84x+nUCjwkY98BICbbrqJW265ZWL9G2+8ka997Ws88MADdHd388QTT3Drrbdy4403TiTcpGmSPdZT9djQ0SeeT1I0M5y/IoJ2YADREuVowWY8b7GiOUgsYODRdDo8TQz5DpK1mxkarbV//+WX4yTGKe3cWa+jkaR5pbh1K8CpE22jLuOiQqMSJhgVmE0hwMWxc8TDcazIPiLR3XgW5FAMFxTIGnnarEZUA7LeBD1HXho+2oBRiBOINZDo7z3LRyidiky0SfNbqpuM3UzFk8dTShOwFRSfOeWqHtPA0RXc6iB524MWjWIdPTrNAUvS7FDavh1z6RIUXZ9Ylkm7gEJJ1CZCWBe+iAuc9SzynMeqCz9Ky8iJL0lhr46lWChqEMeF3Hji7B+EJE0Tq6trcqLNsSDdB5EOuoeDRIMVAl6HUrlIJp+hIRRDq9SGhbipcVqXhRk4mMS2Xu6t0rx4KW61SrxL1mmbz97//vdz55138vnPf54LL7yQHTt28Pjjj09MkNDX18fw8PDE+p/73Of41Kc+xec+9znWrl3LRz/6UW644Qa+/vWv1+sQ5q/sEOgeMINkShWU/jbc1lHMqkDtjlNqb+BoosCCiBe/LnCP9VZrN1oY83SjUOGnz9fKMpjLl6NFo+R+LmcjlqTpUNq6Da25edKEYK8mhKASdxi2LBRUQlHIaRZ5b+1+OBRqY6EYAu/k++OMkSNiB1mstzMa7CExAsWiAH8D5IaINLeS6Os5i0cnnQ6ZaJPmt1QvVjlGVRlDKFUCqvfk6xsKrjNMNuuiL1hApVsm2iTp1YQQlLZtx1w+edhoKl1746ZU04SMJtaZFzCiDLJHfYGSlWKN90oMR59ql/hMDaEJUP0AZA5vPbsHIUnTxC2XsQcHJyfaMv3gVnECHQyP+2iO1nqljCZqw6ajC1ahqRYoCk5inNYlYRxbMHQ4PbGLcHMrumkSPyJ7Xs93n/zkJ+nt7aVSqbB582bWr18/8buNGzfy7W9/e+JnXde57bbb6OrqolQq0dfXx9133000Gp3+wOe77GBt2Kii8PNd/eiuyZKlOmr3CIojOGR60RUXPXGUgV2b6d+5idRAN2HVT1DVqOpHscZhLF9GUVV8F15I7pcbTv3vSpL0hhW3bj2uTvGruXmBaisUXRWPT5ByB9k69isytVtdmn0xFOFSNYOTtsuYORQUzleXkPSOguIyPODWEm3FJOGmRtmjbQaQiTZp/iqloZJFK8dQS/0oAjyB0Ek30Q0D4aRJJAoYbW1YR+X4d0l6NXtwiOrYGJ6VKyctTyeroKTxVVzOa3gLFhXiSj+u4tLnHEBBZVWi4wR7hZDho2zWknVpmWiT5giruxuEmDzjaLrWW220upiqo9IUOZZoGx8m4A8zUFDJe5pQTUE1MY7HbxBp9jFwMDWxC1VViS3oIN51cFqPR5KkMyQXrz04A12HbQq+cZoiXrTDQ9ghP/22S0NxkEo+S7i1g0CsCXe8QOfoAt4t3smwpxefEuLRbbXJMHwXXYTd10+lW967StLZ5JZKlPfvP+4++NWqCYErBI5jgjfHvvQLRMwm8IdQXTCqWYSi4OqBSdvZapWCVqLVbsCj+Mh6kgwPAL5jM4+GPOST45Tz+bN1iNJpkIk2af5K95ITfsyqHzMfJ1ABN+g/6SYejx8FGBsbQF+wAKunR9aKkqRXKW3fBnDcDUZqNI+ljdNYjbDQt5wRZRCh1IprV0I6yfG9tFc78Fd9U+43ZvopmgVQPaT75HA4aW6odB0BwFiw4OWF6V7wRYhnoxi6Q8hvI4RgbHyEtFDYmxlglxVFM6qUBmoPzU2dQcb6clill4ePxhZ0MCyHjkrS7JQdBl8DlaqNZ6QdrSkHQqB2DTMS9hN0CziFDJG2hfgiMUKNbfxax/to0tpZVl3GBUYb4HL4iEWl6uBZswbFNMlvfLLeRyZJc1pp925wnFMm2nLDNgnHwkGhx9lK0IiwOLgKSwPDAbOQxNGDMMUkfVkjR1MlSoMaYdw3yPiYS9U8lmjz1p5NE/09Z/zYpNMnE23S/JXq5SALEcJCL2cJWuAETz50NOgPI4BKMY3R2oqoVKiOjU1PvJI0SxS3bsVob0cLTe4hmskIclqKVd5zcaiSVl5RZ02BJCNUqyWWZRZOud+g16CsF0EJkpYzj0pzROXoEbRYDDXwijfW6T7wNzOS8hAN2igKZPJpbNsi6c+S88XpD8UZ9em4ySTpokVjexDhQvxoZmI3sQXt5BJjlPK5OhyZJElvSK6WaNvcO8T/z96fB1t2lffd+GettYcz3Xnq262WWgMCyRISyEbIsn/gBFuxU3ggrqJslzEkdmwsxSQKlSADUnlCbypGIXlfYsXEsux6k9gxP0rx+0MBU/KrEBsBAkmAQVKru9V3ns89857X+v2x773dt+/cfe7Ud3+qThW9zx7WRnedZ+9nPc/368YF+gdBzNeQDZ+xXI5iaxanUMItpbF2WF9Lh+zmdPgi5xvf4+3mTrQ1Sbcu8tVzZaTr4r7xZpp/87/3+cYyMq5uvBdeRBQK2Nes/zwLqcxKMm+oaI1RPj5Vri2mibnIxNga7GqV2Olc9/ia3cDRDm+yTlDJz6K1YKFeAmnRIRoIKVkYH92V+8vYHlmiLePoUhlhVJxEx+MIDPlYoZ319aGWse0CWlmYuIrpHQQgHMl64DMyLqb19edxb7551bY4NjTCPIGZ4vrSbczrGbRYXQ0a9Jaozr/MsN9PLnbXnLdgKwLlI0Qn5VoCQZY82G2+/OUv8+53v5vjx48jhOCpp57a8phnn32Wt771rbiuy0033bRK/yljLcGZs9jHh1dvrI6jC4PMV3J0l0IA/nb0RQzQaw/z1sKbGHb6GSsKRGT42+eew8opOvtzTJyprJymeyg97/xI1iqWkXGoMCZNtBX6+M65ClokHBu0Ua/PoIUg6LDQoUehp39pf7hGX09FLJAUJdPRCBJFn+vTJ0v8zel0YSt32+20vvENtO/v481lZFzdtF58EffGGxBy41SL8cBJJEEiqatJ+nPHsKWLAZLIwzISGUDsdK17fN1uodFcxxCRjEhUwNwMUOhDeTN09PUzP5Yl2vaTLNGWcXRZHGFWniSOzyOMQOZdWFuZuwojFUZJdDKPn+8DIYhGsx+xjIxl4vl5wnPncN/0plXbq9UEEAxhU7A6qarymmN1zqIcTZLoiOsax9d8L6XAWDFClqiGLmbs+d26jYwlms0md9xxB5/+9Ke3tf/rr7/OP/yH/5Af+ZEf4aWXXuKf//N/zi//8i/zxS9+cZdHengJz57FGr7o790k0JihYt1InEh6OkLKYZ1yZY7YUgyXelFSctwZoLfrGABB+DWeOzdD3/Eic+drxFGaxO7o70daFnNZoi0j43AR1CFqQaGX8qSFX1zEsiThmWnKxTwlXUfZDk4hrYTtNQMUKDInphAC7K4SC8EkbxQ9SCTT0zEVLyT3fd+HCUK8F1/c5xvMyLg6MVrjvfAC7k2bt436czEAzUTRUrMM5lKdVhOHGJ2gpIBQoe315VSMMNStFr1BNwWKVHLzzM8aKPRAbYrOgcGsdXSfyRJtGUeXygi1eBCdjJOPBKa4uT7bMsLSmGSBpi9R/f2EI1miLSNjmdbzafLLfeMbV22vTi0A8EZ5Ei9p4snmuscH/UXq5dc40RrE0mrN97YjQBaIjMR/7W/aPPqMS/nxH/9xfvd3f5ef+Zmf2db+jz/+ONdffz2f/OQnueWWW3jggQf42Z/9Wf7dv/t3Gx4TBAG1Wm3V56hgoohwZGS142hzDpKIBX0dYOgoRDxfOU3eNyinhLroyS1f6sEAtq/56sznEL2CJDHMnE//P5RS0TUwxGyWaMvIOFzUU3kEne/BWexHdrZAG+zROSpdRZJmBbfUiVjSbjqur6VFgxap+LnlOCzqOQbVEEos0C86eGFkEfuaa5CdnTS/+rV9u7WMjKuZ8OxZdL2+pT5beSKkmsTEgJ2PsaQDQOJ7ANgiQQRrn4MvpmE36Qk76RKdVN1ZKmVD7A5CfZKugSHmR7Ouq/0kS7RlHF0WXyfyuiBaoNPTxMW1rWrroSwNpsXUTBNroJ9wbGyXB5qRcXhofuU57OPHsXp7V22vziyiRYMb7DcwF0xsWD2alPIstl5HGsGJ1tCa77vtIoGdHlx59ettH3/GlfHcc8/xrne9a9W2++67j+eee27DYx599FG6urpWPidPntztYR4YwrExSJLVRgi1KQAWgkFK+ZhEBLxcOY8dQ75QWn0CJUjyDrdWNUI1+Ivzf0G+02LqovbRrsEh5seyh+2MjENFPf0deC0SlIJeOnoMtbF5nCgm7suh42hFm801OfrMEAtidlVs9QoBYOgXYxyzinz99TJCCHK33ELzua/sw01lZFz9tL75AkiJc+ONm+6XlA01HRHKCj25C8/MOmwBoOwE4RvQZsNz1O0mtrG4yTpOzV3AGEE5OQmNOTr7B/AbdVrVSlvuK2PnZIm2jKOJMVAZw2okCAyFCJLC5kYIyzhWurowNj2D1T9AlCXaMjJWaH7lK7i33rpme3Uxosvxyasi83p24xMIaPXmaVbHuLY+BJc8X3Q6OVq51FWxOn4W4rCdw8+4QqanpxkaWp0gHRoaolar4Xneusc89NBDVKvVlc/YEfpNDc+dA1hd0VafAiGZb3XSUYg43ZjAWXISLZVKa86hizncIMffb7UIdJ0x+xxTZ6skcTp5OvsHKY+PYczGD+sZGRkHjKWKtm/Np+1lA70O5Zcn0YDOxQilsHNpJ8YJfR0JCYtitTmXUYZaPMe1Vi9ObDgz2UrdR9/0Jvzvfg/dXL+yPCMj4/JpvfBNnFOnkLmN3ytNYihGFi0DgbVIp9Oz8l0StFBKgqsQGKQXbHieptVCY7hWDOCrAC1jyt4g6Jiukg2Q6bTtI1miLeNo0pilkoQ4XhODxI0h2WZFW85J96suzmH19xOOj+/mSA81mZD60SIcHSWamCD3fd+35rvFVo5jlsSLGwRq/YTLMnFXkWr9HHlToC/oXvVdwbHw7RCEQ8VTMPVSG+8gYz9wXZfOzs5Vn6NCcO51ZKGA7LpI7Lgxg871slh36SxEfK8xRsm3MVJhOfaac8QFF9XUdCO4xS8x7pwlDjVzo2n7aOfAIFHgU1+YX3NsRkbGAaU+BU6J8ZmERMTYeY0an8frLOA3ajj5IkIIlFEM6+soi9k1BkMADTHPUP46CF+kxxR5eapG7o1vhCTB+9a39uHGMjKublpff37LttFwMUEh8GIb4fiIi1Iyid/AFglRMa1YtZobG5doYWhZLfrjLlxdoOEuUq6nx5UsD6ksFsazivb9Iku0ZRxNKiOcEwMQzyCES+LYGGt70yGvchhhEflVrIEBdLVK0shWBdcjE1I/WjS+/L/Bssjdcsuq7SYOaCR9XK+6mfPHsNdJFqxCQK0YEfgVTtT7V32llCBUAUKUmI974Xym03aQOHbsGDMzM6u2zczM0NnZST6/vqDvUSY8dw7r+PCKzhIA9Wka7g0kWuLmfcb8OdwWSGf91fGk4CKDiMA5wZvjKVpRF55d4+++k+qydQ6kDtnl8WxVOyPj0NCYgUIvjQWbMF9nZLHJUKVO1FsiaDVWTBCu0dejUMyJqXVPU1M1lLAYkHWOWfDt8SrW8ePIzk5a3/jmXt5RxmWQLVgfLsLxCeLp6TWGYJcyNxGSGE1TQy63+v0z8etYwhDne9G2hWpsXNEG0LA8usMOSqJI1Z1jYdHCoJD1aTr6+1nIYv++kSXaMo4miyOMMIyOp3FiiS5sr5oNwJIOWjkQ1rEGBgCIJrKqtvXYCyF1ONpi6geJxv/+3+Ruvhl5SUKlOTlGj+WSly4z/ijS3iLRBoS9HTRq5xkM+1GXmiI4McgiC3EfjPxtO28h4wq55557eOaZZ1Zt+9KXvsQ999yzTyM62ATnzmIPHVu9sT5NWd4EQJkJtE5wogg3t75hT1JME3CJ7gMJd8smC/kylfMhcZxQ7O5G2TYLE0enJTcj49BTn4J8D6ZaRBR9JiYqdHkBjS4LjMHJF7GNw0l9I/NimkisL6MQKPCSBU4W3kCHP813xisIIXBvvIFW5jx64MkWrA8XreefByFwb7550/2aczFVHRITUMpfiO0y9kjiBOkWQEiSnI3lbVzRBtCwmuSTHCdkP3W3TBwJGs4NUJ+is38w02jdR7JEW8bRpDLCVDIMpkmHH6O3qc8GYJSDkRLiBrIvrbaJJiZ3a6RHissRUoejLaZ+UNC+T+urXyV3++1rvqtOzXLCljR1g3pSQYpthB4lqOg5pFAM+D2rvso5CiPzVAIBo1+FJG7XbWRcQqPR4KWXXuKll14C0of4l156idHRdIX0oYce4n3ve9/K/r/2a7/GuXPn+Ff/6l/xyiuv8B//43/kv//3/86/+Bf/Yj+Gf6AxxhC+fh7rYiMEgMYMi+Ykrp0wFo5TSnJIo8kVNki05V2MEKh6iF86xal4hIoIUYnNN7/7PYSQdPT2U57MFoQyMg4N9Wnm3U46Wv1YxQgxWQagYWmEVCjH5YbkTYBhRkxsfB4B9WScE8WbUMFp6osJdT/CufEm/G9/G5Mke3M/GZfFXi1YZ7SH1le/inPddah19FQvxmkKGiYmturYylnZrhZeS/9HrhsA7dqoTVpHARp2ap5wgzxGw04LDRa5EWqTdA0MMj82mmm07hNZoi3jaFIZodZKNXG6vZAk72xxwAWMdBAKjK4TuR1gWUSTWaKtHVyOkDocbTH1g0Lr+ecxQUD+jjvWfFeb8zhuC6b8UZS1/bnW6lT4rQWO1VZrdvU4JSJbEUchsd+E6W9f8fgz1ucb3/gGb3nLW3jLW94CwIMPPshb3vIWHn74YQCmpqZWkm4A119/PZ///Of50pe+xB133MEnP/lJ/vN//s/cd999+zL+g0xSLqPrdexjF1W0RR4EdRbjIUr5mPPeLMVWWgFqbSSsLCEpOti1Jn7pWoy0eKtzHs9u8Nr30hfwUl9flmjLyDhM1Kd5VfTgJgUSK2ao1iCxLbzQw87l6aCLY+YapsQYidh8sanCLEpYnMj3c0Iu8vJUHfcNb0A3mwRnzu7RDWXsBZezYJ11hbQHYwzN557bsm3UxIauxKaVKLAvJNHssAqN1NBELumBJzkH5UeIeK3+4jKRjPFlwLDpQWhFZDcpx9dAbZLOgUGCZiNzHt0nrP0eQEbGvrA4QtK6BktYOHGMv4PWUS0thEzA+IzPB5T6+rJE2z7jui6uu/3/hhntp/Hs/8IaGMC62D1xiaTZg+MIZlsjWM72E21JKU9zdoq+/BsR5nWMSFfkio7NvAN2E6pJB32jz8GJt7btXjIu8M53vnPTldD1tF/e+c538mLWkrQl4euphtqqirZm6shbCXsodLSoxU1KrRJIhVQbP7IlhRxWtYVRFq2uN3Cs/F3GnEV6Zwfwo5COvgFGv/PSbt5ORkZGuzAGGtOcy78TgFoccGuzRdhdJGzWyXf1cGNyCwEeC2Jm83MBgTI040lu6LiTs4tf4+XpKt//1utBSvzvfJvcGzdvc8s4PGy1YL2eVuqjjz7Kb/3Wb+3VEK9awrNniWdn1zUEu5jqbIgQAi+xsUsXnq8Ki99jEQcpBVKmtVB6qRBEtQLizo11bht2i76oC8cUqDplyl4/kLaOAiyMj1Ls7tnw+IzdIatoyziaLJ5HtSKQRQQCnd9BkkZKLBUDhvHJMqqvl2gqS7S1g0xI/fDS+PKXyd1++2pRdwCTkBcnqOoAP1pEbUOfbQUBNbOAEjbdYcfK5pylaLnp6l4594ZMpy3jUBKePw9CYA8OXtjYmCUxFnU/j6/SVjEnSFBObu3cuoikkMOutcAYwtIwsdvFcesMdpLjxVe/R2dfP83KIkGrtct3lZGRccUEdYg8Zr1ONJpJr0F/rYnXnUMnMQP56+gx/UzJMdj4Z2EFbeWpRqcZyJ2gRzd5baKCdF3sEyfwvvN3u38/GQearCukPTT+998gHGfLirb5iYDYaFoa8vlUg9htTmCFDXzySPvCgrR2bQxpom0z6laTjrhIn+ii5i5Qa+VJEii5GqlUZoiwT2SJtoyjh05o1SdRQQNBDqME2t1Zcact0zL9ufl5rN4+oolN9DEytk0mpH44CUdGiMbG1tVn0/PTdFtdjMXTADtLtAHNfEISB/TViyvbpBQEjgYkU8kpGPlKWgGQkXGICEdGUP39iIurPBsz1OQJDIIK0xRFHisJcHObLzTEpRwiTlDNABA0u9/ICTlGpHxGTs9RWtITrUxni0IZGQeeehova80ikdsEzyfnBTSW3Alvcm7Do0mV8rZOZ6RFPZkmNAE3lm5BLI4SJgnOqVN43/rWrt1Gxt5zOQvWruvS2dm56pOxcxrPPov7pjcht+jcCBc1VeMTE2I7CoGmUD1DlOslimOUddFzshSpTltrc522ut1EILhZXkPdLWOMpJocQzam6OjrZyEz7dsXskRbxtGjNsl5rZBJHctYxHlnWyuCF5Nz0qlTr5VRfX1Ek+vbqh91MiH1o0Hjb/8WlCJ3661rvvPPpdp6E2HqerTqAWIbxKUcXmuWPr9j1XblCJAlxpoF8BZhIdOZyThcBK+fx76kxYfmHBXrDQBMmRHcOI/SEVZu86rrZedRq9pM/+124eeHCJ0Z4hlFR2+aaFvMEm0ZGQefevpMmTSLRI5Hfz2d100roTs3RB9DzIrJHT27JpZDLX6dUx23MxhXeX2uiXP99QSvvYYO13cszTh8ZAvW+0NSq9H6xjfI33nnlvvmWoqGidF2EwG4jQlEEuLnh4nDcM2CtHZsrC0MEQIZEoqIaxnAVz4ITTm5FmqTdPQPsDCeOY/uB1miLePoURnhdJiKT+cis7O20SVcYWOEQ+jVsXp7SRYWMNmDyhoyIfWjQfO5r+LedCNyHbH2YLaLxdgQ6ipCKIRUOzu5ErSiMh2iF2kuhKwOJ4+RLuVaWsHD+Nev8C4yMvaW8Px5rEsTbY05quoUtpUwF8+jmunfvOVs7oytHQtjK+zqhdbQoPtGcvYkRa+HZhThFopUMpmDjIyDT2MGXwjcVg+h5TPs+2gl8aOAm7t/gJCAiljY0Sm1ylMLX8aRLjepbk5P13Guuw6ShOD0a7t0IxlXSrZgfTho/K//BUlCful9ZyNMbOjSNq1YIe30vTFXHyHO9RJqAIOyV1fEJXlnS+dRRFrVNqx7UImD59aocANUx+nsH6Q8nrUD7wdZoi3j6FEZZcrrBwRdXkCyRaXAejjSwUgHohaqrw+MIZqda/9YDznLQuqXfpYF1J988kmeffbZNce8+OKLBEHA2bNnef/737/n487YPiZJaH3ta7i3rK1mS+oa4k5mY4OKA5Rts4nM1IY0ZR0pFJ3hhfbRDtshsi3CZgN6roOxr13JbWRk7ClGa6KxsbWJtuYsVY5jux4Gg/JSLULL2SJOCYiLOeylijaAxC7iOHUAXjkzQqm3L6toy8g4DNSnGM110hn04QmfwaZP3FVE+yEnczezIGZXzIG2i7ZyxLpGJalwbfEmzrx+FvvkydQQ4eXv7dKNZFwp2YL14aD2hS/g3HQTVm/vpvvV5yKkEPiJi+WC7c2jYo8wP0gcpjpsayracjYyjBFRsvm57SZdcQfFpIOqvUA5HIbqGJ0Dg7RqVbx65ia712SuoxlHj8URmkEnQuYoenX84xcJURvoMf1IJGUxt+GDjJAORkaI2Fv5UY2np3CuObEXd5CRcWAIXnsNXauRu+WWNd9FkxptEhYSHytJttSt2IiGE6GTiJ5GnoqbJg5yjqLhKByvSdJzE2r8G1d0HxkZe0k8N4cJAqyLjRAAmnNUk0Fiu4YlFHaUIG0XIbdeF02KOaxKY9U2q9SPt9hi/Gyda3v7WJzK9EQzMg489WnOuSextENdR3TXm3idLidz16OwKIvZHZ9SqxwGSU3McE3+JuTCd1NDhOFh/O9libaDSub8ffBJqlWaX/7fdP3sz2657/xUSKdRtDTk8hK3Nk5i50nsIkl1BqkU8pLOD51Ln52tpk/UXVzvtADU7QYSwZvEdZxxx2nWbyQsz9J5xwAA5YlxTrxp7aJ4xu6RVbRlHD0qIySeAtmBSiKSJetkDNyS3Mkdyd3cnvwAPxD/fyiZ9QVBjbRBSmTSgu5uAKKp6T26gYyMg0PrhRdAKZzrr1/zXTiZ0Epq+LKOleg15fDbJSk4BF6ZHu/CA0beVniWADQTvBFmX4bIu9zbyMjYU8KRVC9llUabTjDNRapRD005T54CdhJgu9uruo6KOaxmgIjilW2qNETgLBAtiLSiLWsdzcg4+NSnGTfpwm1oQoq1Js2i4vrS7VQpE4nLkCoRoJWLF59HCsWNdNAIIuyTJwleebXNN5CRcXSoffGLmCSh+Pa3b7lvWE6oGg+DxlEhjjdP5KYaqlHgo6y1z8natTFCLJkdbYwvQ0IZcZMYpuFUAKjUc3R0lhBCsDCRtY/uNVmiLePosTiC9GOQBQQXVgoGzXGGzAnOi9O8Kr8NwFviH6RPD645RZpoA3STciKRhQLRdGaIkHH08F54Eef6U8hLkgE6MCQVWIhjIipgzI6NEFawJF64SCc9sLSwK4QgzqXn+/ZiEUwCU5l7WsbhIBobAyGw+vsvbPTKtEwXibEoM42V5LCSYOu20SWSUqrjdrFOm1SSxK7iej0Ue/rwG3WCVnOjU2RkZBwE6lPMJ2kVSi6oIRONcTroyx1nUe5Mm+1itJXHRAvU4jon3EFOT1Zwrr2W4PTpTaumMjIyNqb6//0cudtuQy0VXmyG05LUTUiiWtj+DGCIckudUYGPWq/zQ6Tto6q5xWKygLrV5BrTRyQijIypxMdRzWmKPb2Us0TbnpMl2jKOHM25MWQSI4SLkQLtWGDg2uRGalSoyAU80eQ1+V1qVPi+5C569cCqc2hlI1UChEzMNFC9vcQzOy/lz8g47Hgvvoh7401rtsfzqbbUfJJHmzIAyrp8tQLP1HBknlxy4SHELRQwwNhsCNLOEm0Zh4ZwdAzV24u4+KG6OUeNYQAWmUJ7FkLH20+0FXIYIbAqqxNpxomQxsZEEQCVbFEoI+NgU5+iHnQTWi2GwvTlus+9jlhH1MTiZZ9WW3mkjlikwrH89bz8vdPY11yDbjaJJrK28oyMnRK89hret75F6Yd/eMt9TWLojG1aCWBHuN40idOBkRZaJyRxuGHnh85twxABqNkNenUHhbiDllNlMT4BlbHUeTRLtO05WaIt42iRRLxeTl9ClLZIXAcEdJguSnQyKy+01RihGZGnqVPlluROHONe9J2NEml7zsxMBdXTQzyTtY5mHC3ixUWiiYl120bjeQ3KxzM5jE511eTlVrQBDZlqT3WFpZVtBcfFyBytcis1RJj69mWfPyNjL4nGx7EG+ldvbM5R4xhgCGUN208rTNQ2W0eRkBQd7NrqRJsqpA/u00v6bJWZLNGWkXFgMQbq08R+N77lMeD7aMdi0DpJOZ7BCH3Zp05UWvXalAvkVAEzV00NEYDg1ax9NCNjpyz+xV8gOzvJv/WtW+4b1zRKCLw4j2VHWF6Z2O1Jv/PTJNpGibYk52A1fdhi+jfsJgLB9foaqs4CZX0tVM7T2TdAeWJ8ZzeXccUcikTbpz/9aU6dOkUul+Puu+/m61//+qb7VyoV7r//foaHh3Fdl5tvvpmnn356j0abcaCpjjMSFgGJE2n0kj5bvzlGTESD6ur9BYzKMwDcmFwQezfSwlapRsbiYg3V00M0lb28ZBwtlgWU10u0RXMGLSoACO2jLBtxOZajS4SuIAobdDfzK9vytiK2bGgEmJ4bYOqlyz5/RsZeEo6NYvWvrpSmOUdNXoO0PYQAO0wTbZa9fWfspJhfU9HWXeogUC0WFlq4hWJW0ZaRcZDxKwSJj+1340uf3qaH7h2g2x6gYuav7NxSYaSN1rNokzCk86ieHmSpRPDaa+0Zf0bGEUH7PtWn/gfFH/ohxDY6NspTIdoYfG1RFHUEEDndAEShD0Ksq9EGkOQdhDZIb2udtkjEvEGcoOFU8JNOgrlpOvoHqM3PEoeXoe+Ycdkc+ETbn//5n/Pggw/yyCOP8MILL3DHHXdw3333MTu7fpteGIb86I/+KOfPn+ezn/0sr776Kp/5zGc4cSJzg8wAKqNMh50I2UkxbK3os/XrobQcf508QCJipsUYg+Y4BbNUTSMgp9I2nHp9EdXbSzQ9s1d3kZFxIPC/+z1EPr/GOdFEBl03BHGauLaSCKmuzOQ6yaeGCN1hx8q2gmMRWjYirjGVuwnmXoU4e4jIOPhEY+PrOI7OUxPXoK0GOXI4JkJa9rYcR5dJirm0oi25oLdUsG0Cu4bfcjnWeyPeyGKmx5SRcVCpTzNhWXQEffgyoLPewum/AW0SaqK69fFbkKg8Mq5RjWsMOX00/RD7xHGC1860YfAZGUeH+l/9FbpWo/SOd2xr/9Z8QtW00EAhmSKx8xiVdnrEvoeyHDZaj1427rO3odPWsJpcSz9NpwbA4lxAZ/8AGMPidGaItJcc+ETbY489xq/8yq/wgQ98gFtvvZXHH3+cQqHAE088se7+TzzxBOVymaeeeop7772XU6dO8Y53vIM77rhjj0eecSCpjFL3SiA7Kfh1kpyNa3IU6aC6ie5FWcwREXJNcqFyxxUKsIm8BlZPD8nCwooGTkbGUcB/+Xs41127JhEQV9KX+GbQIsFHJcllO46uYEn8oEyJLoRJn0QcWxLaNkZX+GazD3QEC9nLQsbBRrdaJIuLq40QIE20cYyWLKMSF0dv3whhmaiYQyRmjWjygJvjH+Tu5e32j3PT9K3M/ocXieZaG5wlIyNj36hNMqJyFMNOQiLy1SaF0gmq4TzCufLXNq1yqMhjkToDuZO89HdnsY+fwD99ug2Dz8g4OlT+4rO4t9yCfezYtvaXdajhY4jJBePETtfKd1HgYW32nKwk2rFQ9a112hp2i0HTjTYaLSOqzRIdHWk3SGaIsLcc6ERbGIZ885vf5F3vetfKNikl73rXu3juuefWPeYv//Ivueeee7j//vsZGhritttu4xOf+ARJkmx4nSAIqNVqqz4ZVydmcYTYdxCyEydqonMOXSZ1e2mw8X93IwxlMcugOY40CgBbKIx0MVEL1dMDxhDPX2FZf0bGISJ49TT2iWvWbE8WNUgoRxDKGjJOkFdghLBMU1dRwqIjKgJpAapwc0DM+dl0XjL7vSu+TkbGbhJNpivKamB166hpzNFIeqkxh45sZBKgdphoW3Eevah99NrGcX7Cfguxhkn37/hu8zm0HzP3B98ims2SbRkZB4r6FKMMIZBYiY9MDB3OMSrhLFJeeRzVVg6BpqGq5FSBmXMz2CdOEJ0/ny0WZ2Rsk3B8gtbzz2/LBAHAGEMhVDR1hLFaSBOvJNq01kuOo5vH+6TgYm1V0QY0rBYWimPJMRpOhcX4OG4wh1ssUp7MdNr2kgOdaJufnydJEoaGhlZtHxoaYnp6feH5c+fO8dnPfpYkSXj66af5+Mc/zic/+Ul+93d/d8PrPProo3R1da18Ti4Jg2ZcfTSnzyMSELIDK/ZIcjbdphePFsmSucFGlMUcCsWASVcubGljpI2IvTTRBsQzWftoxtFAhyHhyMiKkPLFxIsGWYip00fCAgDSvnwjhGU80ULrhK6L2kftYgGAxnQEhf4s0ZZx4Fl297P6+lZt95oRCRaeXERGDkQhlrOzSlBjKxLXxqqmCbQTzSHeVLueM2KS7zTL+HqWmdrrFO+7BuEq5v/4u2h/89iXkZGxh9SnmBHpAlZ3XMcuDWBLl6pe2LCtbCdo5WIQJGIBYwxFz2CfOIGJIsKx7CU8I2M71J5+GuE45O+6a1v767rBQuIlNko20FKRWKkcURykVWpbVbAnOQer7m1piNCyfAyGU+Y4DWeRcnIcFs/TkRki7DkHOtF2OWitGRwc5A//8A+56667eO9738tHP/pRHn/88Q2Peeihh6hWqyufsbGsrPJqZWEyfcHRMocwhiTn0K37aIqtqxhDEdCkzoA+tnQOG6RCJj6mK12ViGbW1w7MyLjaCM+dgyTBWUf/MqlolN0koJfEVABQV+A4unLenEXol+kOLjiP5gsFDGBVDbr7Wpj57hVfJyNjNwknJkCplQUaAJKQup9WowWyihNJwKB2YISwcqpiDqfaoBQVuKV6A7PuAmdzowC0/FRIudWs0vljp9CNkMr/79wV31NGRkabqE1R1ccwaHrCKk73SRKT0KTRnvMLgVEOdtSkkTTol51Yw8MAhOfOtucaGRlXObX/+TT5O+9A5nLb2j+qptmxMCqSp0xil1Z0waPAS40QtliQTvIuItFbGiJoofFVwLVikIZTIdDdhDOjdPT2ZRVte8yBTrT19/ejlGLmkiqhmZkZjm3QDz08PMzNN9+MUmpl2y233ML09DThBk4bruvS2dm56pNxdTI/t4hBIFBoS2ErlwIlGtS3dXxVlOkxA0iTOjchBdL4VISDsO2soi3jyLAsnGxfkmgzkUG3QFNBkwPdBCHa0/KSc/Bb8/QGnbCk5Z7P2yTKwY58XnVPpoYIGRkHmHhyEquvb7W2YWuBOmn1fqKa5PWS4+gOK9oA4mIOq9Lk+ypvwFcBo8UpCo5DImKCOH2yb5TnUZ0Ohbcdo/WNGcKJNr3EZxxIPv3pT3Pq1ClyuRx33303X//61zfdv1KpcP/99zM8PIzrutx88808/fTTezTaI059klbUh2959LY8nN5raESLSPvKY+gyWuVQcZNKUqPfHaaSRMhikeBMlmjLyNiKaHKS4OVXyH//D2z7mMZ8TMP4JFiU4hkS60KuIfJaWLaL2KJkNSm4GMCub90+2lQeJ+jBs1MZicp0lY7+ARYnJzIzpD3kQCfaHMfhrrvu4plnnlnZprXmmWee4Z577ln3mHvvvZczZ86g9YW6ytOnTzM8PIxzGQ+sGVcRcchULUZbeSwdoHM2nSatKGiJ7SfaFIpe04+RFkgD2mOhEaJ6e4lns0RbxtEgfP0cqqcHWSyu2h5X0wAehhUAZOKjLLstLS+Ja+M3Z3HJkU/SSp+8rYiUg0kqfCschsoIxJuv9mVk7CfR5BTqkrZRmvPUGcKoFpaxyBEBAnkZlaBJKUdP8Qa6ohKjxSmMMOQsh0h5BDqP5TjUy2UAcm/qRXW7VP/q/JXfWMaB5M///M958MEHeeSRR3jhhRe44447uO+++5idXb8CPwxDfvRHf5Tz58/z2c9+lldffZXPfOYznFinejmj/STVcQh78JVHR8PDLR2jFs23pSp8GW3lkIlPRTbocvr53nfHsI8fJ8gq2jIytqT+7LOgFPnbbtv2MUFZUzFp0ssVi8TuBQmUyGttz/hICbRrY9W31lZtWR49poOYBC1jKhVJR28vUeDTWFzY9rgzrowDnWgDePDBB/nMZz7Dn/zJn/Dyyy/zwQ9+kGazyQc+8AEA3ve+9/HQQw+t7P/BD36QcrnMhz70IU6fPs3nP/95PvGJT3D//ffv1y1kHBRqE8wERZCd2JGHdtNEW0RIyPZezEMR4OPRYwYw0kbKBNBMz1VR3d1Z62jGkSE49zrWOpXFSSU1Qqg30wcKK4na94KgBK2ojDGGnjBt15ZSkDgOWpcZq3eD0bCQvSxkHFyiyUms3t7VG1vz1BkkknVIbGwToRxnyxXu9UiKOQZO3E2NCvWl1WwhIFIhkemkUMjTKKfGPUIK8m/uJ3h1kbi8tZtZxuHjscce41d+5Vf4wAc+wK233srjjz9OoVDgiSeeWHf/J554gnK5zFNPPcW9997LqVOneMc73sEdd9yxxyM/mkw3pin5fYQyoMPTOE4ntXBhy7aynZDIHAJDQ6UJ99ZkE2t4mDCraMvI2JLm3/4t7k03rVlo3gyrKWiYAEOAEGnRB0ASxyRxiOVuTyZCF12s2nYSbT4KyVA8SNOuUIkG6bDSzr7FJUOmjN3nwCfa3vve9/L7v//7PPzww9x555289NJLfOELX1gxSBgdHWVqampl/5MnT/LFL36R559/nje/+c38xm/8Bh/60If4yEc+sl+3kHFAMIsj1Pw8lughH6aOo52mhyb1lT757VAXVXp1P0ZYqCUDhfn5Oqq7O2sdzTgyhOfOrWtpnlQNsiBoBoIEH5Xotq7ExzYEcY2e4ELZvczlMLpCo7K0QjiftY+2k522nX3qU5/ijW98I/l8npMnT/Iv/sW/wPezJM4y0dR6FW1zNMQxWrKCjBxkHKDsy6vCL7gDFErHKAejq7YnKsQkHeQcQaN8YUXbvbEb4SiaX1/fZCrj8BKGId/85jd517vetbJNSsm73vUunnvuuXWP+cu//Evuuece7r//foaGhrjtttv4xCc+QZIkG14nCAJqtdqqT8ZlEAeMxTU6gj4iQoqyG4BqvIBU7YujZskQQVIn1CHF0MIeHiY4fz5rK8vI2AQTx7S+9nVyt9667WN0aHASSctohKyTOBcSdKGXLoYpZ3tab3Ehh2oGiGjj32OAlkqfua4Tx2g6VcrJcYrxHEJKFqcynba9on0N/7vIAw88wAMPPLDud88+++yabffccw9f/epXd3lUGYeNxviraG2hRA85fwzT4dBpupgWEzs7j6gwYI7hyi5sOUEC1Ks1VE8P/ssv787gMzIOEEZrwpER8t///Wu+SyoGWYTWdJ5QVFFJ0hbH0WW0a+O15uh1r1nZZhcKiPkEp5InGu7Cnj/TtusddZbbzh5//HHuvvtuPvWpT3Hffffx6quvMjg4uGb///pf/ysf+chHeOKJJ/jBH/xBTp8+zfvf/36EEDz22GP7cAcHCxNFxHNzaxxHac5T4wcJ5Kso7WDiRaz89lfLL+YYJ4miJq3GJHCh3c/YCbKVJ6di5pYq2gCEJXFv6KL1rVk677vusqroMg4m8/PzJEmysji9zNDQEK+88sq6x5w7d46//uu/5hd+4Rd4+umnOXPmDL/+679OFEU88sgj6x7z6KOP8lu/9VttH/+RozbJqMpTjDrx1ARuaYhYh0QipNDOaSnAKId8ElE1NfqsXhiwMa0W8ews9iV/LxkZGSn+K6+iGw3cW27Z9jFJLU1eB3EOhzkSa3XbqLLsVdrym56rkFajWnWPqLe08X4yIZAhJxngtD2Ol1yPWfg6xZ5eFqd29t6bcfkc+Iq2jIx2sXA+ffkWsgsnauEWBlBY23IcvZgG6f4dDJIT6YpBq1lF9fQQz821d9AZGQeQeGoKEwRrKtqMNiR1g8zHNOgiMWnVTFu1ZRwbvzZJXufIx2mpfa6UJiRKTcnLnSegnLW/tIudtp195Stf4d577+Xnf/7nOXXqFD/2Yz/Gz/3cz21ZBXdUiGdnQes1FW1Jo4xvughlHTuxScLLq2gTRjCoh6kFU6jG6ipCaSWAQEQhXqNOHF6QTHCu7yRZDIimmpd1XxlXD1prBgcH+cM//EPuuusu3vve9/LRj36Uxx9/fMNjHnroIarV6spnbGxsD0d8FVGbZMKkcbVDN3E6hmgklcuubt0MrVzs2GNR1+nPHafipLUX4euvt/1aGRlXC94LL4Bl4V5//baPSWqGxGiSuIO8WSR2Lk60NVHb0WdbQrsW2lJY1a1jtad8hkTXkiGCpDa5sOQ8miXa9opdS7SdO5fZxWccLOYnJzACEEWsuEUpdwyNxmNnLxaJSPBo0iV6caUGbGK/gerpwbRaJI2rw70tm8MZGxGOpi1p1iWr3kndgAFl1fDpRZsKwGUJum9EkrMJGrMYDL1BqtNWKBVSE1Jd5e/E9TD/Wtuud1hpx/y9nLazH/zBH+Sb3/zmSmLt3LlzPP300/zET/zEhtc5Sm1n0XTannmpRluznpofRLJOSVpgzGVpMnWbPmwcqsksVsuHC75QuG76yJfoCID6Re2j9nAR4Si872YiyQeFdszh/v5+lFLMXCJrMTMzw7F1Wv8BhoeHufnmm1dVWNxyyy1MT08ThuG6x7iuS2dn56pPxmVQm2DOpHG1K6xidwxRD8ttXaxaRsscMvFYkDVs6TI1F4FSBNmzX1vInqGvTryXXsS9/nrEDgwWo0qyZISgyMka2ioAoHVCFHhY7vbaRgEQqeGRXdleoq3HlAhFDGhqi5qOnl7Kk1nr6F6xa4m2m266iR/5kR/h//6//+9MmyXjQDA/VyF2LIQwqDigwxqgRQMjdq5H0RQNunQvjrBAuojYR3V3A0sVC1cB7ZzDmcbT1UU4OgZSYvX3r9qeVNK5pJMyCUXQDaRUSNm+UKNdG60jWjRXDBEsWxFbDiZZZCwYziraaM/83aztbHp6fT2vn//5n+e3f/u3+aEf+iFs2+bGG2/kne98J7/5m7+54XUeffRRurq6Vj4nT568rPEeBpYTbeqSRFujmSY1EuGRF6n2yuVUsQzoYXw8mraP0AYZXEiMuI7EYAhJX9obCxe1jyqJc7KE/0p5x9fM2B3aMYcdx+Guu+7imWeeWdmmteaZZ57hnnvuWfeYe++9lzNnzqD1hSzt6dOnGR4extnBy2XGZVCboJYModH0tprYua62GyEsoy0XYTQtuYg2mmAuwRoaIjx/vu3XOopk78FXJ963v4Nz4407OsZf1NRIDQyUHa3ogodeus3eSaKN1PDIangQ603386yAgs5RSIp4doNKPEBHXlCbmyWJ4x1dM+Py2LVE2wsvvMCb3/xmHnzwQY4dO8av/uqvZq0jGfvKfCUktnJoE4CEbtFHU9Qv61xN6hTpwBVFtLCQSYjoSl/6rxZDhHbN4WWNp0ceeYQXXniBO+64g/vuu4/ZDRKSyxpPjzzyCC+//DJ/9Ed/xJ//+Z9v+qKesbdEY6NY/f0Ia7XMZ1I1iDw0aum8kkmAbHPLi7EtDIJWsphWtC3lyY3jEps5Ks0e8BahdbQTBvsVg5999lk+8YlP8B//43/khRde4HOf+xyf//zn+Z3f+Z0NjzlKbWfx9DQin0fm8xdt9GlERQyG2ATYSxVnO060GRgwx6iKMjqXHqtaF17wXGETqQCPThzXpT4/v+pw+5oOookGSTO6vJvLaCvtmsMPPvggn/nMZ/iTP/kTXn75ZT74wQ/SbDb5wAc+AMD73vc+HnrooZX9P/jBD1Iul/nQhz7E6dOn+fznP88nPvEJ7r///rbdW8b6mMVR4mgA32oxkKRVL/V4cXcq2lTarmbLgEbcoJTksYcGCc9lraPtoJ0xOFusPhjEi4tE4+M4p05t+xhjDKIBDRMCHsa5MJejVhOp1I6NTuJiHmEM9hbuo96SIcJJOUTTqTGXDNMh6hitqc5eHe+qB51dS7Tdeeed/Pt//++ZnJzkiSeeYGpqih/6oR/itttu47HHHmMu07LK2ENMFLDQsolVCal9rM4hHHI0RPWyztdaStAV7OOgFEoHNNxUlPJqqWjbaA6//e1vB9Jql+2QaTxdfYQjo1gDA2u2xxWNKgpq1bSKRiURymqz545INSpa/jw57ZJP0pVAmc9jkkWo9xIDlI/2y8JmMfj/+r/+r22d43Lazj7+8Y/zi7/4i/zyL/8yt99+Oz/zMz/DJz7xCR599NFVFTIXc5TazqLpmXWMEBZo0E8sG0hto3SEtCzEDitBu0xv2jYqyhhLYaTEal7QYVNSESufQHeQz9vUy6ufw+wTaQwLzixe3s1ltJV2xeD3vve9/P7v/z4PP/wwd955Jy+99BJf+MIXVipVR0dHmZqaWtn/5MmTfPGLX+T555/nzW9+M7/xG7/Bhz70IT7ykY+0/yYzVjFXfZ1C2EegfEp0kOiYVlxvq/zCCkJihE3eJFSSJv3OMaKBgayirU20IwZDtlh9kPC/+z0AnB3osxkPlBb4GqSoklgXDAzCVgPLzbNT/yHtWmhbYVc2lyryVIDBcFL007KrNJNjlKL0tz4zRNgbdt0MwbIs3vOe9/AXf/EX/Jt/8284c+YMH/7whzl58iTve9/7VgX3jIzdonb+O8RGIWU3KvEodl+LRtPk8iraAnwSYopqGIRE6oDFyCBLJaKrJNG2zKVzeFl34tZbb91yDmcaT1cn4ego1iWOk8aY1HG0JGh5oE2ASuLdaXlxrDU6bXahgEga9DQHGbEtWDzaibZl1ovBH/vYxwD41V/91U3n7+W0nbVarTWtwstaT8bsvE3/aiOenl6RGVihNUeNAQJZRyUOIglR1mW0jZpjhAS0aKQJ6ZyDbAWr9klkRKhL5B2oza9OtKmijerN4Z+u7PjaGbvHlcTgZR544AFGRkYIgoCvfe1r3H333SvfPfvsszz55JOr9r/nnnv46le/iu/7nD17lt/8zd/ctitexuUzUh+n0+8nkSF5p5dWUkVZ9q45ASeWQz4OKOs6HXYPtUIn0eQkegMtvoydcyUxGLLF6oNE8OoriFxuzfPvZiT19LknjAs4okJip4k2nVyGPtsyApJSHntx80SbEYZAhhyTXfhWC6NdTHkGy3FYzHTa9oRdT7R94xvf4Nd//dcZHh7mscce48Mf/jBnz57lS1/6EpOTk/zUT/3Ubg8hI4P5098GwDYDuJFHR8dJWjTQYvP+9g0R0KJJQQ6CBKE9ys0Q1d1NPHN1JdouncP/7J/9MwCeeuqpLedwpvF09WGMIRofX/OgoRsGEpAlQRA5xGIBDMjLSBhsOQbHRrSatJRPd5i6N7mlAgJDPhB8L3f8yFe0LbNeDH7ppZcAmJqa2jIG77Tt7N3vfjd/8Ad/wJ/92Z/x+uuv86UvfYmPf/zjvPvd785e1IFoegrV07N6Y3OOCgNEso6Di46CnSeoTarPVhXlFf2XJGehLkm0aStGJCXyKqQ+P8dK7/US9vEiwZnFLCl6gLiSGJxxiDCGsWCBDr8XlwCnY4h6XNmVxaqVS0oXK/ZYEBUAWrobtCZaMjzKuHKuJAZni9UHC//VV3FOntxRtXlS00QkmKSDnGhiZPocFHqpmcFO9dmWiUp5rKaPDDbXWls2RAhkmjyvVxJKPb0sTk9e1nUzdsauJdoee+wxbr/9dn7wB3+QyclJ/vRP/5SRkRF+93d/l+uvv54f/uEf5sknn+SFF17YrSFkZKwwf/4MUia4SR+50KOzcM1lt40u44kmJTmIlBqImKu00kTbVVLRttEc/vjHPw6kwXw35nCm8XSw0dUqutnc0AhBFQWeLpLoVCNtVyraXBvphzSsFt1h2mboFlM9G6MXOStvOvIVbZvF4FNL+iJ/8Ad/sOX83Wnb2cc+9jH+5b/8l3zsYx/j1ltv5Z/8k3/Cfffdx3/6T/9p1+71MBHPzK6TaJunKQYIZY2CzBEH/o712TpNDy45KuKCa6h2baxWsDqXZmmUdnGSBnEU4l3yQuUcL5FUQ+KFTM9nv9mvGJyxT/hVRrRDLinSqT2sfG9qhLAbbaNLaOUidYSvmniJhwmKAIQjI7t2zaNCO2Jwtlh9sPBffgX7mmt2dExSM1RMA5DYzgX907DVRCprx/psy8Qdqc7rVlVtvgro1EW0gViGlJNBSkWXxaks0bYXtFk85wJ/8Ad/wD/+x/+Y97///QwPD6+7z+DgIH/0R3+0W0PIyFhhbnISkUtQ2PQpF0u61JZW8C4XjyaD4jiuEgRAeaG+VNF2dQhMtmMOX6nGE8Dtt99Os9nkn/7Tf8pHP/rRdR0sXdfFdd3t3lrGFRCOp7oO6hKNtrhiEDkQIsCjm8RMoIRAyvaHGe1YCG1oUmMo6cNJbALHYIREJ2VmomEon2v7dQ8T25m/AwMD24rBDzzwAA888MC63z377LOr/m1ZFo888giPPPLIjsd8tWOShHhhYU2iTTfmiUwPsfw7OpVFEoU7TlAvt41eLIegHQehNTKI0Ln0fLadZt3sOAAcavNz5Du7Vo6xhosgU502uz9Pxv6RPUcfMapjTJlhrgOOa4MQgmo4h+ravWebZUMER0XUoiZdsg+Ty2U6bW2gnTF4J1y8WH333Xdz5swZPvShD/E7v/M7K0n6S3nooYd48MEHV/5dq9WyZNslmDgmfP11ihe13W+HqKqpGQ8oIuxkZXvoNbDc3I712VawJEnewa40CI51b7ibpwKGtUuP6KTlVJnRJ+h3KoxlGm17wq4l2r70pS9x7bXXrnkpNsYwNjbGtddei+M4/NIv/dJuDSEjY4X52Qqx6+BE0FccJDZhqmNzBXiiCQb6rC4mmadaraN6egjOnGnTqPeXzebwMlvN4Ys1nn76p38auKDxtNGLe6bxdLCJxlNdh0sr2uJFjSwJ4kaZkC5IGijLufyHiE3QS65NXrQIXE9X2MFcvox2XGLmaHkDsPjM5ie5ytkqBsPW8zejvcTzC5AkaxJtXs0DFInwcIUihJ259RoY1MdXtY0CJPl0nigvuJBoc9IdfOEgpaI2P8fQDTetHCMdhTVYwD9TofT245d1nxntoR0xOOMQURllMRnkOmDQ2Ggd0YxrdFm7Nw+NdDAI8iRUEp83FIaZveYawvNZRduV0o4YnC1WHxzC0TGI4x1VtBlj0HVDy4RAE+2kbaJJkhAHPsWetaZiOyHqKOCU66DZsEfRV6l8xEk1wIxdo+YPcz2jNMp1osC/7NbVjO2xa62jN95447qOSOVymet34NaRkXGlJHHEYj3CX/ox6ek8Sd0srnohuRx8fDSaPjutBgia1bSibX4es4G73mFiozm8uLgzR7pM4+nqIpqYQORyyNIF5yRjDEnVoEqCykIVkKjE3zVtGe2ka0SJ3yAUEV1ROhaZy5EkC+Ragyw25yAONjvNVc1mMfjNb37zPowoI55NX5asSxJtzUa6yh0bH1uneis7aRdbr20UwNgWRgiUd0HY3LYlYKjRQaFUoD63tgLbPl4iOFPB6GxhYz9pVwzOOBzo8nnC+BixiOgWJVrhImB2x3F0GQFGOeR0zIJpIoUiHHwDwfmjLb3QDtoRgzNDooNDcDYtorCPbz/xrZsgtMBLFEpU0VYqcRIt6bNZuStLciWlHDJOUA1vw32WE23HVBee1UJHXRTCtO04ax/dfXatom2jydxoNMhd4R9WRsZOKE+Mo43AU0WOSUm+0M80r175iYXBp0W36gMESdBCdV8DcUxSqWD19l75NfaRzebwTnjve9/L3NwcDz/8MNPT09x5551rNJ4ufij42Mc+hhCCj33sY0xMTDAwMMC73/1ufu/3fu/ybyajbUQT41gDA6tc0HTDQJwaIVSnW2AMKolQdmmTM10BErRtIf2QZtGja8kQwSoU0PUFerwhXuuxeFtlDPpv2uJkVydbxeBWq7XHI8qI51KXz9UVbYaGl74EJYQok/4W7iTRNmCOERGuddEWaVJaeRcSzq60acqQJiWKeaiuk2hzTpTwXpglmmjgnOzY9jgy2ku7YnDG4WB24RWKwQC+5VFw+pkLJpaqwnfHcXQZLV3yScAsFSIdYvIniF77xq5e8yjQrhj84IMP8ku/9Et8//d/P29729v41Kc+tWax+sSJEzz66KNAulj92GOP8Za3vGWldTRbrL5ywrNnkaUSsrNz28cktbToIoyL5OXkSoFH2GqiLBulriwNkxRzGClxKg28zvWlHhKpCWVEnywRiACQ0PKBIpXpSQZP3XBFY8jYnLYn2pZ7vIUQPPzwwxQKhZXvkiTha1/7GnfeeWe7L5uRsSHz51OtplB1cMxx0DqhblXacm5ftOhUx0C4yNhH9nQDEM/OHtpE21Zz+Ctf+cqOz5lpPF09hBOTqL6+VdviZSOEksBrxRi9lGzbBcfRZbRjofyQptXimN8PBpxigURPUAhKvGqVeFvl/JFLtG0nBt9+++187Wtf268hHlni2VmQEtlxUfIqbFLVXcTCR2gBJkRa1vZdzQwM6GNr2kaX0Y69KtEmhSBSIZ7uYNCpMjE7k57kooOtwQLClvivLWaJtn1gN2JwxsFnpHqOTv8WclaCZRepNOdQzu7F0GW0crCDRbTyqUYNctYg0dwcutVCXvS3l7E92h2Ds8Xqg0H4+uvYw8M7SnwnNYNPCLqE63pAOp9Dr4ly2tCqKyAu5rArDbxrN25D9WVAlykQybRivqr7cVw7q2jbA9qeaHvxxReBNJP/ne98B+eiIOE4DnfccQcf/vCH233ZjIwNmTv7dxRUiIw7Oe6U8Lw5dGd7Wjs9WnSrEyAdLB0SFNKXknhmBt70prZcY6/Zag7fdtttfOMb2WrnUSWamMC57rpV25JFg8iDsARhKElInXeVs3stL8ZZqmizPCxjUYjzxEsPtCZZ5Lw5CYvnd+36B5XtxOBf+7Vf461vfet+DfHIEs/Oorq7VyfRGnMsiAEiUScvciRhbUcJ6iId5CgwLs6v+712Lazm6rYSrUJi3YEjpgn9AK/RIF+6kFATUmCfKOG/ukjn37t2R/eYceVkMfhoMtKcosvv54Sd/j4sBDOojt1PdBnlIkyCsGJqYcjJ/HEWXJdwdJTcIX2O3U92IwZni9X7T/D661iXuL9uRVIzVGkCHUgnlYjQSUIceFesz7ZyjY487lQZEg1q/QU6XwUU4zx5mce3GkyJaygVK1mibQ9oe6Lt//1//18APvCBD/Dv//2/p3MHJZYZGbvB3OtnKTg+nXE3/YUSc832aU94ooUUNgW7hzgJqag8Qgii2dm2XWOv2WoO12o1nnzyyX0YWcZ+Y4whnpqkcNddq7bHixpVTFf5wjhHrOeRu+Q4ukzi2jh1j5qVJhE6oyLNfFo6b/Qis+ZaWDx6gs7bicG1Wm2vh5UBREuJtlU056jSTyQbFGSOOJhD7kDbsE8PkRDTZP3/ptq1kQurxZKNlSC9EvmkCuSozUyvSrQB2CdKNL8yifZjZG735nHGWrIYfAQxhvNhnVLQw7DrEXqLhNqnZHVtfewVomVaWeOqiGoCN0iH1tANhOdHskTbZZDF4KsPYwzh6+fpuO++HR2XVDQ13QSKCFdggNBPW4atNplPxKU8OWOwqy2i3vXlWnwV0hd206nytJwaFX2CQWeexcx5dNfZNTOEP/7jP86SbBkHgvnJKZQbcgPDSCGpR3NtO7dP+oPZ5fShdEjZj5FdXcQzhzfRtkw2hzMuRddq6GZrVevoshGCLKWJtoASRteQtr0rjqMrY3EsZJygkxBfBnRGJYRloS2bSM/iB8fQldHdG8ABJ5u/B494Zr1E2yweA2mizXaIQ39H+mx9epA6VYxYXw9IOzbCGGRwwRBB2hqV5CnGCyjLpjo7veY452QHGPBfq2x7LBntJZvDR4jGLJNJLxLFADlaXiqivxeto0ZZGCQ5k1AxDRKTwNCbCEePbvxsB9n8vXpIFhfR9Tr28PC2jzGxQTcNDZ0AVYyV6tNHXhMpFVK1p+NDuxbaUliV5ob7+CpAGcWAU8KzmkThACVqWaJtD2jrMuV73vMennzySTo7O3nPe96z6b6f+9zn2nnpjIx18RsNGg2P3AnBKd2LFzYIZdS288dExCag2+lhqnGahWbIcE93qsVzCNnOHI6i9v3/l3G4iCbTMnOrv39lm64bSFIjhJbnEdKFSBpY7u6+IJilqh8ZRLQsn84l51Hh5kjiBYr+tUxWvsb2jdgPP9uNwdkc3h/iuVns4Uscy5pzxOZtxGIKV0n8KNy2W69lbDrpZkyc23Af7abnUl6IzqdzUlkgEPjGotTVTWVmbaJNdTioHhf/lTKF2/vXfJ+xO2Qx+IhSPks5GSYnoCDzzMdzCKF2tSr8YoxyyCcJTdWgFtXIdV2fOY9eBlkMvjoJR9LuiJ20jibVVPvUix0sWV+RQY28Fpaba99CtEjdR+1qA4/1x7fsPDooOzgnF5BJjlxcw6vbBK0mbqHYpsFkXEpbf8G7urpWRAK7una/3DkjYyvmx84D0MoXORYWaNTHMU4b/+wFBKZOt90D2me+FiC7uolm1jq5HQa2M4ezB4Sjy0qi7aKKtouNEOYn50lMDzIJsJxdchxdInHTeaz8gFbBWzFEUPk8urJIt/f9nPGmj1SibbsxOJvD+0M8O0fulltXbYtqi2AKxHg4QuMbs+2Kth7Th0BQF5UN9zG2wgiB8kOW/6sv5/HKdFIs5ajMTK17rHOyA//VMkYbhNxd58OMlCwGH02ihdeIomP0LT2ezsdzqJyzq1XhF6OVQz4JiEWLWhwylD/J4vlnOLE3l79qyGLw1Um0VN1pDQ5u+5i4atBokribvFMGwGhD6LfId/VscfTOiIs5cpNlRJxgrLXOsqEM0Rh6RZFQpH97AWlybXFqkmM3vqGt48m4QFsTbX/8x3+87v/OyNgv5kbPI4VB2TeQSyzm6pPovvbaW/umQZfVC8RUqh5WTw/R1PovLged7czhWq3Gf/kv/2WvhpRxgIgmpxC2vcrePKlcMEKoLtQwOp1fbXFU2gwlMVIgvYhmZ2qIkE9cWoUC8cICXd4AryUe74w8sNe3Pb/a2G4Mzubw3mPimGRxcU3raLOetnQmBFhL3Z/b1Wjr0QP4tIhEuPFOYqnN2r+wj2tLIqBqOujLCabHZ9FJjFSrHwmdazvxvj1PNNHI3Ef3iCwGH00mZr5DRzBAr6MJgyoN4WPZu7tYdTFaOthRA2MH1ELBdarIeD3es+tfLWQx+OokHBlF9fQgd6CrllQ1ddFEkMd2IkARhT4Yg+3k2jq+pJhHGINV94h61v5uGAGBCijpApalSGTEvDoGVFicmsgSbbvIrmm0eZ5Hq9Va+ffIyAif+tSn+Ku/+qvdumRGxhrmR8/T4UR0x28gMYawOYWx21uK74smHaoTiaRRaaC6D2/r6MVsNIefeeaZfRxVxn4STU2h+vpWuSbGlQtGCH4jQCdVgG23v102ItWmUH5Iy/IB6IiKWMUC0iTYScR5OQBHVKcti8EHi3hhAYxZk2irNdPsmtYBMklfbLfrOtpr+qmL6pb7acdCeRcSbUopYhFS013krQidJNTm1mqXWkMFRE7hvbywrfFktJcsBh8dRipn6PT7GbQswvoMMcme6LMtY1QOYTTCiqjpJNVeLZ0kaWys+5SxOVkMvnoIR0exBnfmEposGiqmDoB0NJDqsyEEym7v3NauhbEkVnUTnTYZUohzdNp5mnaVCifJuSrTadtldq35/6d+6qd4z3vew6/92q9RqVR429vehuM4zM/P89hjj/HBD35wty6dkbHC3PlzdKkmQ/E11OIAkhDd7kQbHlIoSnYvs14NNdRDUi5jogix28mGXWSzOZxxNImmJrF6e1f+vWyE4FyTJt4i32D0AiiFFLu2jrOCtm2UHxLLmFBEdERF1JLzqE4WmU2ugcoYDLxx18dy0Nhs/v7e7/3efg/vyBHPpomsVYk2nTAT5TEYlDQkkY+QclUieyNyJk+OApNi60SycSzkRYk2ISCxQmLTgZ3MgxBUpifpPrZa6FlIgXNNB973Fuj6sVPbus+M9pHF4KPD+cY4J7xjlHKK6dY02GC1+WV8MxK15DxKQkREI27gdt9AOPI6+e+7bc/GcTWRxeCrh3B0FGtg+22jJjEkNcOi9gEPnPRdMPJbWLa70l7cNgTE+Rx2zcPbYJdABXREJYo5i6bVohAN0ed+l8WpyfaOJWMVu/Ym9MILL/DDP/zDAHz2s5/l2LFjjIyM8Kd/+qf8h//wH3brshkZKxhjWBgfocsOOGGGqMYtkCL9tBFPpiKTXU4/hC1UT9p7H69TIXCY2GgOP/744/s8soz9IpqYRF2UaNNNIAZZFBgMOrHQegGsvRFwTlvi0vnnWT4dURHpuhgEJlmgGR0jqZzfk7EcNDaLwf/pP/2nfR7d0WM5HqxKtLXmWaCPSDYpKoc4DJCWva2H8B7Tj8HQpLblvtpJKz+5yJjUWDE6KSH9MoXOLhan13/Ydq7rJJ5uEZf9La+T0V6yGHxE0JrzQZXrdap9WgnnEEIgt1nZ2hakwghJDk0sGpRjj77CtUy/+MLejeEqI4vBVw/R+PiO9NmSmgEDrdhCyOpFRgge1g7aT3dCUnSxGi3Q63/vq5B8kqNoO/jKwwq7KIpWVtG2y+xaoq3VatHRkWp6/NVf/RXvec97kFLy9re/nZEl946MjN2kvjBH6Af05vpxhU01qqXVbG1eSIiFIdItOu0B7CQgKqX6VYfVEGGZjebwD/zAD+zzyDL2i+XW0WWSahrRZVHQDGIikwdd37OWF+PYSD8GDS2VOo8KKcF1icwcpWCIiYVX92QsB43NYvDY2Ng+j+7oEc/NgZSr9A1pzlET/USyRsHKEQfBto0QunUfLRokItlyX+3YCK0R8UX7WgmWLmAFZUo9fSxOrv+wbV9TAiXwvpe1j+41WQw+ItTGmdS9DCiblvFpqABlu3tmhLCMli75JCaWTWqJocPuZey7RzN+toMsBl8d6GaTpFzGGth+62hSMRgMUdSJLRrptjgmiUOsXdIvTgouItZIL1j3e18FSAT9qkAgQkCijWFxagJjzLrHZFw5u5Zou+mmm3jqqacYGxvji1/8Ij/2Yz8GwOzsLJ0XP2hmZOwS82NpQtd1T6GNphVU2942CoBQhLpClzOIYyJqburkEh/yRNtGc3jukFfqZVweJgxJ5udXOY4mVYNwQDqCuXpIpC0wCU6bhV43InEthDHIMKJleeS0i6UVIpdH6zJd3gDnquf2ZCwHjc1i8PLDf8beEc/NoTo7V7eFNmbxTD+xaJGzFUkYbE/b0KQVbQ2xdTUbpBVtwCqdNmkb7DiP1j6dvT0sTk9hzNqlcOko7OMl/CzRtudkMfiIMH+aajxMnyUIkhqew65VvWyGUS752CdSLVpJ+uLdWtigPCZjS7IYfHUQjqeLUDtyHK1oWqqFMiUcO60Gj/xUr2+3jMKSvIsB7Pr6zaP+UvdVpykgbYFBU7O6CT0Pr7a11mvG5bFribaHH36YD3/4w5w6dYq7776be+65B0iz+m95y1t267IZGSvMj45gKYFy3kg9CbFiD+z2Oo4CICDUNbqcPiwdUdYWwnEOfaJtozn813/91/s8soz9IJqdTcXcL2odjSsauWSEMLvYINapbbjr7I3Lp1nSvVBeQEtdMESwC3lIqvT4g5xtHk39ic1i8Jvf/OZ9Ht3RI56bW2OEQHOO2PQTiRauksRR2jq6FUVKOLjbMkKAC4k2GVxItNkOCASzopNSwSaJQ2rz6ydwnGs7CF6volvRtq6X0R6yGHw0aM5+j2JwHSUlCFozRJJdq3rZDK0cVBKACgmMxo9b2LKPONzE1ThjQ7IYfHUQjafVh1Z//7aPSRYNizpdCLNzadI69j2kVEi5S9IqSqBdG6veWvfrSMYkJBTiPB2OQ8uu0xDHAChPju/OmDJ2L9H2sz/7s4yOjvKNb3yDL3zhCyvb//7f//v8u3/373brshkZKyyMjdBVAEffRD2OcSKfZDcq2oDA1ClZXdg6ptyKUD09RDOH23l0ozn8zne+c/8GlbFvxFNTAGsq2pYTbbVyFZNUMEIh1S4ktNdB2xYGkH6ErwI0+oLzaNKk5HVxLqzvyVgOGpvF4EcffXQfR3Y0iedmkV1dq7aZxixCd5Pg41gGHcfbah3t1v1oNE22+bctJUZKpH/hhdm108e/ebqwVAhCsDix/sO2c20nGPBfW9ze9TLaQhaDjwYjs9/iVu9GAOr1tHpmt6peNkMrF4HBsmLAUAvr9OWuYfL0y3s+lquBLAZfHUTj4wjHWRO/N8JoQ1I3lJMWECHcNNaGfgvl7G5LuC64qMYGdggCPCugGOcpOBae3SAyJwEyQ4RdZFcVq48dO8axY8dWbXvb2962m5fMyFhhbnSEfsciZ7qpJWXssInp3B0XUJ8GUkg6pUu5GaJ6ug99RRusP4fvuuuufRpNxn4SLSXaljXadGAwPiuJtrDhofUi2t59t9EVJBh7yVFRgKd8SnERK59HAELXGQ+7IYlAHV4H4Mtloxhcq22v5TCjfcSzc6uqQQG8ah2JTUKAlaQtWttpHe0x/TSpY8Q227oEaFeh/AsVadJONWRquougVqbY2U15coJTd679fVclG6s/h/dymcId22+fybhyshh89XN+8TVuCn8C32haQQWVlyi1N4ZCF6NXnEchFi0W4yJv6DjGyNe/zrW33bHn47kayGLw4Sccn8AaGNi2U2hSM6ChnkgQlXShy6QVbW5pd6WzkryLO10GbdY1/gtkSDHKUyzZVJRHr3c9OZfMEGEX2bVf8mazyf/xf/wfPPPMM8zOzqL16gfCc+eOpm5Oxt6gdUJ5cow39nQDUItD+uKAwN6dlrbApKW6nVaBqXqI6uklmpnelWvtFRvN4UvncsbRIJqcQnZ0IJe0Y5JaWg6vioJEa/ATjF5E5Pammm0Z7VqopZa4luXTGRWR3QUATLJILRnGVMcRvdfv6bj2m81icDaH9554bg7n+tV/g9PNJXMCEZIsGRVs1ToqjKDb9DEndrYCrS17VeuoEJBYAZ7uIqrP0tF/goWJ0Q2Pt0924r+8gEkMQu2xSvsRJYvBRwBjON+c4u1JFzUV0lIa29objdM1CIkRFgWjqag61SSHFIrydzIDu8shi8FXB9H4OGqHbaOpEUIHrky1TZM4ROsEZe9upWqSdxDaIL0AXVz7O+KpgEG/l6KjCGWINAqldNY6uovsWqLtl3/5l/lf/+t/8Yu/+IsMDw9vOxOckdEOKtPTJFFElz2Mh09gEmQSondDow2IZUKofTrtDl6ppa2j/re/tSvX2is2msO+7/ORj3xkn0eXsddEU1OXtI1qkCDyMFsPcEjwTIjlbK+8vl1oZ6mijdR5tDfoRioLIxU6WSAfDDEz93ccO2KJts1i8E7n8Kc//Wn+7b/9t0xPT3PHHXfwf/6f/+em1emVSoWPfvSjfO5zn6NcLnPdddfxqU99ip/4iZ+4ons6rBhjiBcWLtFoM0wHqTuvoxKSKBUq3qp1tMN0Y2FtW59t5WqOhbrEjcxYMUaXkN5ZOk/cyZnXz5LEMcpa+2jonOzAe3GWcLyOe11maLUXZDH4CNCcY9Qo/qF0GGcR34bCPrSNLpMol0IcMicbePEQSRJiN3P4jQa5UmnfxnUYaWcMztg/wrExnOuu2/b+cVUT2AGW7sZxxgFF5KftnJbj7NIoU5Jcen677hOsk2jzlY9jbHLYYBkMmkjalCcyF9zdYtcSbf/zf/5PPv/5z3Pvvffu1iUyMjZkYTxdgctb1zJjmhgRIDArotDtxghFS9fpsvto1JpYg73Es3MYYw5tknmjOVyr1bIHhCNINDWF6ulZ+XdSSfXZhBBMV30SHQPg7JERwjLasXFqaUVpy/JQSIpJgXIuR5zM0+X18/rsdzj2xnfv6bj2m81i8E7m8J//+Z/z4IMP8vjjj3P33XfzqU99ivvuu49XX32VwXVcuMIw5Ed/9EcZHBzks5/9LCdOnGBkZITuS40AjhBJpQJxjLpY48WvsWB6SQjJK4s4rCGVtdqVdB16TB8xMS0aOxqDdizsxQYYYCkkCVvjeCW0U6NjYACtExanJug/ufalwhrII3IK/5VylmjbI7IYfASYfRmCO1BC4AUzGAGqUNy34Rjl4ERNtPIRCDxvgb7cCcZe/g5v+IF79m1ch5F2xeCM/cMYQzQ5SWEH7fpJxVAxNaAX5cSASo0QlLX7+sVKkLg2VtMjoHvN175KF9uKcZ6S6+DbDZKkh2B2Gp0ke6avfJTYNTGdnp4eei/RI8nI2CsWxkZxXRsprqea+AgdYKSALV5iLhcjbYKkQqfdR+zXUD09mDBMX7AOKdkczriYaHJyteNo1SDTDs2lRFuIETaOtber8dq1kbFGRAneivNoCZnPo5NFuv0BXq+c3dMxHQTaNX8fe+wxfuVXfoUPfOAD3HrrrTz++OMUCgWeeOKJdfd/4oknKJfLPPXUU9x7772cOnWKd7zjHdxxx9HV+Enm5wFWV7Q1Z6kzQKTq5G2LJNye42iP7qdBbSVZtl20YyG0Riy1qAI4DuSSInUVgVtAKWvDlW0hBc6JEv6r5Z1dOOOyyWLw1Y+Z+R6D/m1oY2g2x5AalLt/FW1a5ZA6RNkJqSFCiwH3BKOHvENjP8jm7+EnqVQwrRbWwMC29jfakFQNC3ETiLFyaaCO/NaeOQnrnINq+ut+56sQg6EYFyg5ipbVIOYYOtFUZw+33NFBZdcSbb/zO7/Dww8/TKu1vs1sRsZuMj8+yrGOPoQo0IgTlA7QtrXjl5NtIy1CvUiH3YujfXRnWrkQTx/eH652zuFPf/rTnDp1ilwux913383Xv/71TfevVCrcf//9DA8P47ouN998M08//fQVjyPj8omnplbszU1i0HWDKqUTaqrioZMmWllYYg/NEGClSlV5IYnU+DKgMypi5/OIpEqvN8S55tHTn2jH/A3DkG9+85u8613vWtkmpeRd73oXzz333LrH/OVf/iX33HMP999/P0NDQ9x222184hOfIEmSdfcHCIKAWq226nM1Ec/NAayuaGvM4pt+YtHEtSVxGGxphCCNopMeGqKy4zEsz5PlNmsAyzEII5kVnczNz1Dq62dhfBOdtms6iCabJI1ww30y2kf2HH31Mzv9AjcGp2hoQxBWcVG76kq4FSuGCFIQC48FHeOoPIsvZzptOyWbv4efaCLVQt2uRptupEYItQgQFaTtYAxEvr9nTsJJzkE1/LR6/RKMMPgqoBQXyDs2nuVhJ6nzaKbTtjvsWuvoJz/5Sc6ePcvQ0BCnTp3CvuQB8oUXXtitS2dksDA+yvVu+sPohxJH754+G4AWCq2rKGnRJxTVXKplEU1Nk7vlll277m6y0Rze7IV5PbLWs8NPUq+jm80Vx9GkZsCALAmMMTRqAX1JBfK7qz+xHtpJ/y6lH0JnHk/5dERF7GKR0IQ4vstp7+pK3GyHzWLwdufw/Pw8SZIwNDS0avvQ0BCvvPLKusecO3eOv/7rv+YXfuEXePrppzlz5gy//uu/ThRFPPLII+se8+ijj/Jbv/Vb27yzw0e8VNEmL060NWeJzS1EokHOUnhhgJ0rbHqebtOLRO5Ynw1IF5oAFUYkpO3d0k4FuRdNDx0L03T1DzI3tvELtXNNGteCMxUKd2buo7tNu2JwxsHl/Px3ORX9LDUTEeiITrlPRghLGOlgEOQNNFWDWlzAGI2qSLxGnXypY1/Hd5hoRwxeJtNJ3R+iidSNc7sVbXElzW4FcQlHpNXfSRRgTIKy9+b5WOccZJwgwwjtrl2881RAKSpQLCkCESApghSUJye4MTO0bju7lmj76Z/+6bada6c/MMv82Z/9GT/3cz/HT/3UT/HUU0+1bTwZBxudJJQnx3nr8D0Eoo7REjf0wN49u3QjLRKTVi0MyByLIkenUsSH2Hl0ozkcBAHf/va3t32ei1vPAB5//HE+//nP88QTT6yrUbHcevaVr3xl5cHk1KlTOx5/RvuIJqcAVswQkooBAbIgWGiGdCcNIIJddlRaFyXQlkR5F5xHB/xeZMfSC4uuMuvtn+bNfrFZDN7pHN4JWmsGBwf5wz/8Q5RS3HXXXUxMTPBv/+2/3TDR9tBDD/Hggw+u/LtWq3Hy5MldGd9+EM/NIQqFFcdeABpzSH0vsTWPY0mSMCBX2txIpNv0ERIQsH5byKYoiZEiTUgvY2mMSGjqbvzaLMdvuIPR730br1Yl37l2LLJgo3pz+KcXs0TbHtCuGJxxQNEJo7Uybzd5XtGzGAG247KvfpQi1WnLJxEVWSeR/YStOQbca5h4+bvc9ANv38/RHSraFYOzxer9I5qYQORyyOL2niGTiiFyQqxGF5Y1Bth7ZoSwMoZ8+t6kWsEGiTaf/qAHpQTCNiAM0lKUJ7KKtt1g1zIPGz1Q75Sd/sAsc/78eT784Q/zwz/8w20ZR8bhoTIzjY5jimKIiqwD4ARNko7dS7QhJJFpEeuYXpVnoRXR09tLNHV4E20bzeFarcajjz66rXMst5499NBDK9t20nr2P/7H/2BgYICf//mf51//63+N2kCoMwgCguCCo97V1nq230RTS+XzS3ojcVUj8yCUYLrq0WHS1ghrnaC+FxjHQS45KrYsD8fYFJ1u6oBJFkmCAVphk4JzdBJum8Xg7c7h/v5+lFLMzMys2j4zM8OxY8fWPWZ4eBjbtlfN1VtuuYXp6WnCMMRZ52HTdV3cfdQl2m3i2blLHEehXitjmQKGAGkSjNZbto726H4aYuf6bACItKpN+dGFTQJwYuyog9C8TqEvfaaaHx/l5K23r3sa+0QJ/0zlUBv9HBbaEYMzDjALZ2nq6xFC0IgmURqEu78VbZC2j+bjgFh6ICSBN89gz7WMv5Il2nZCO2IwZIvV+0k0MYE1MLDtWBcvamo0gE4sO2Q50aYsGyn3xmjA2BZGClTTJ+pZ6xTsqQBXO9iJRdF18O06dpxbMRHMaC+7KqZTqVT4z//5P/PQQw9RLqcllC+88AITS6WY22GnQsyQluT+wi/8Ar/1W7/FDTfcsOU1rnZ9mKPGwsQoAoEtr2HBNAFw/AZmlxxHVxAWraROtyqy0AyxenqIpqd295q7zHpz+KWXXtr28Zu1nk1voF937tw5PvvZz5IkCU8//TQf//jH+eQnP8nv/u7vbnidRx99lK6urpXP1VQNcxCIp6ZAqZVkQbJokEv6bNO1ANt4IHK41t46ji6jXetCRduSIUKn7kDbDoleoMsf4Pzs0RNz3igGT05Obut4x3G46667eOaZZ1a2aa155plnuOee9R3o7r33Xs6cOYPWF+oyTp8+zfDw8LpJtqNAPDe3Wp8NGK+lf69KRcRhmiTezAzBMjYlOmmw87bRZbRjIYNo1TblGEpRF4FVY8aHfEcnC6ObtI+eKKFrIfG8d9njyNg+VxqDMw4w099GRrcQG0PLGyMXgd4H+YVL0dJFJR7STp3E60GLgupk/uVz+zyyw8eVxuBMJ3V/CScmViRTtsKYJSOEqAEkSDd9Ro791p7pswHpolrOQbWCdb/2rCXTsLhI0VH4Vp1E9FEeH8WYdYTdMq6IXUu0ffvb3+bmm2/m3/ybf8Pv//7vU1lyX/zc5z63qrplMy7nBwbgt3/7txkcHOSf/JN/sq3rZC/pVxfl8TH6CscQwmUu8UlEiDTJrmq0ARipaOkmnarIQiNE9fQQTR3eRNtGc/j/+X/+n1297sWtZ3fddRfvfe97+ehHP8rjjz++4TEPPfQQ1Wp15TM2tr5zXsblEU1OYvX2IqTEJOnDhOq42AjBQysXV+7PS0Li2qilirZQRkQipiMqIdwcWs/T7Q3w+syL+zK2/WKzGLwTPbQHH3yQz3zmM/zJn/wJL7/8Mh/84AdpNpsrq+vve9/7VsX0D37wg5TLZT70oQ9x+vRpPv/5z/OJT3yC+++/v633d5iI5mZRnZ2rtk2HaVLNtvRKom2zirZu04tAXJY+2zLGsVa3jgLK0eSjTip2xMhCk87+QeY30WmzjxVACoIzlcseR8b22K8YnLFHTH2L3uAWGokmiRq4scDsosTJdjFWDmE0rpQkwmN+6eVbzCZE4fov7xlraUcMzhar95dofHzFBGwrdMNAAuUwxogqtptPjRACf8/02VbG4tobO4/KgARNR1Sk4Nh4VgvLDBF4Hq1qZU/HeRTYtUTbgw8+yPvf/35ee+01crkLpdA/8RM/wZe//OVtneNyfmD+5m/+hj/6oz/iM5/5zLbHmr2kX10sTIwx3HENhoRqFGFE+mBgtmjLuVK0tPCSBh12B+V6hOrrIz7EraMbzeEf+7Ef2/Y5Lrf17Oabb96w9Ww9XNels7Nz1SejfUSTU6i+tG00qV5khIBhutrCJE2MUqh9aiXTjoWME0SUgEh12jrCIiqfR+sKfd4AI+VX92Vs+8VmMfgrX/nKts/z3ve+l9///d/n4Ycf5s477+Sll17iC1/4wkpcHh0dZeqiBYWTJ0/yxS9+keeff543v/nN/MZv/AYf+tCH1m1xOSokc/OrW0ejFmXdgyamYBmSMAAEUm38kt1t+gjwicTlO35q20IGq4+XbowwkrLoYHyuQtfgEJWZKZJo/esIW2EPFvCzRNuu044YvMxOnb+X+bM/+zOEEG3VXc5I8aZe4troGupxAwBXWpfXFt5mkiXn0TySUNVpuh34UZV+5wQzZ1/b59EdHtoVg3dKtljdHowx6SLzNhNt8WKakPbiPEJUEVIQBz7GaKy9rGgDkpyN1QrWdR5FgGd5dERpRVtLREjZA0B5Ivvv3m52LdH2/PPP86u/+qtrtp84cWLDJNmVUq/X+cVf/EU+85nP0L/NiQHZS/rVxsLYCP3OIIhFrDiHNOkLg3Z2u6LNwtM1cqqAX9dYvb3EMzMYva/StpfNRnN4eHh42+fIWs+uDqKJCVRvWj4fLy4ZIRQFNS9ChB6QgLWrSgSbsiz4utw+6imPzriIUywg4jpdXj/na6P7Nr79YLMYfGnieyseeOABRkZGCIKAr33ta9x9990r3z377LM8+eSTq/a/5557+OpXv4rv+5w9e5bf/M3f3FBf8SgQz12i0daYpcEAkWyQcxRxGKBse1MdmO5lfbYrIE1Ia0R8oYVIOOn/tuIemq1z5HsH0DrZVBjZPl4kOFvB6KzNZDdpRwyGC1rHjzzyCC+88AJ33HEH9913H7Ozs5sel2kd7yLGMDp7nl5dohbPYBmJ3OOX8Q0REiNsCjoikg1iq0RQm2Qwfx1Trx2tBasroR0xOFus3j+SSgXTam070ZZUDLETYSW92CKVLYqCVL9Y7fG7S+I6iESvkYpYpqV8OqJiaohgGRCpfvHCeJZoaze79mbkuu66Pd6nT59mYJs2uTv9gTl79iznz5/n3e9+N5ZlYVkWf/qnf8pf/uVfYlkWZ8+evbybyTg0GK0pT07QJQfxrUVyUQnLBBhLgtzdpUIjLEKTtvV0RDGqrw8TRSQLC7t63d1iozl85syZHZ0naz07/Fy8qpcsamRJIKRguurTrdPydGXv30u3dtJEm/SXDRF88kmOXK4DQYIb2ow0K/s2vv1gsxi8k4WojCtDex662Vyt0daYxTf9xKKBa0niMNhUn802DiU6rkifDVhpSxMXPXwLpRFWTEfQhXKmmNculu1s3j56ooTxE6LJxhWNJ2Nz2hWDM63jA0hllNnwOAC1YIxcnEogHBQSy6EQh8SyCUIRNGbosHuYf+X1/R7aoaEdMThbrN4/oolUR2/bFW1lTUM1ESgsK30WTY0QHKTY24VonbvgPLoeLcunGOeRRqSGCE4TYbksTBytBem9YNf+y//kT/4kv/3bv00UpQ90QghGR0f51//6X/OP/tE/2tY5dvoD86Y3vYnvfOc7vPTSSyufn/zJn+RHfuRHeOmll7Ke8yNAfWEeEYMj+plTDZSxyCc+epfbRiGtaEuSNKk2aARJV1qKe1h12jaawzt1FM5azw43JgyJ5+ZWHjbieb2izzZd8+mmBqKIs5/vCEqgLbXyUNFUqVB7t50u6uhkkUojd6SEXjeLwT/5kz+5z6M7OsRzcwCrK9qas2g9QCQ8HEuRhD7K2rhttMukbdtXXNG2lGi72HkUQLianqCbyK0yUvboHBxibpNEmzWQR9gyax/dZdoRgzOt4wPK5Iu0zE1ERuOFM+QDvfJyfBDQMo+KWkg7rXitRWlMjcea+zmsQ0W7YnC2WL0/RONpVbfaRnGQ0al28WyYLoYpJ01yRr6359VscJHzaGt9nbaW8pBISlGRgmMR2DWMLDE/en5vB3oE2LVE2yc/+UkajQYDAwN4nsc73vEObrrpJjo6Ovi93/u9bZ9nJz8wuVyO2267bdWnu7ubjo4ObrvttiyTfwQoT4zR755ACMnYUqWNG7Z2vW0UAGljixA/aTGoHCpuaqscbdNd6KCx2RzeKVnr2eElmpkBY7D6+9GeQXugOi84jjqmCbKAu0lFzl6gXXulddRXqdhrl+jBIDBJmZw/wGxr81apq4nN5u/HP/7x/R7ekWEl0dbTs7ItqU9hJX0kwsOxxFLr6MbPJ92mlwDvivTZAIytMEKsSbQpN8YNe6jLkLPz83QNDLEwNoIx68seCCWxjxUzQ4Rdph0xONM6PqBMvoClb6YZp4tDueiCBMJBwFguwsQ4UqGFT8sq4NGkS/fTKB/OLo29pl0xOFus3h+iiQlELocsFrfcN6kZ0LAQhhjqWPk8WmviwN9zfTYgdR517U0r2jSGzqiUJtpUA0E/C1mire3smr1NV1cXX/rSl/jbv/1bvvWtb9FoNHjrW9+6alVtO7z3ve9lbm6Ohx9+mOnpae688841PzBS7p82UMbBYmFinMH8tRhTYy7U9AiN6zVIirv/Q6eFwhWGVlyjT+VY0Iq+XI5o8nBWtG00h9/2trfRdXEbVMZVzXL5vOrrIy6nL95yuaKt0uT62MM43dj75Di6zKqHCpFamJeSErguWi/Q7Q1wvnaeoeLQ5ie6StgsBmdtXXtHvKSDdXHr6Ex1AdsUETLEGE0ShZu2jnbrPhqifuWDEWActcYQQbgxmAL5uMRCOIbbextR4FObnaFraH09MPt4keY3ZzCRRtjZM9husB8x+Eq0jl33gGiMHQYmXqAv+Kc0ogpKOUgTo92DUwyQqFS8v4DEVzW8XC+NcJGh/HVMnznNTW9bv20x4wLtjMEPPPAADzzwwLrfPfvss2u2LS9WZ1w+0cQE1uDAptqpyyTlVLu4HtkUZBWpFKHXAgyWk9vy+N1gs0SbEQZP+WmiraQYlyFS9uA1X6VVq1LozN7x2sWuJNq01jz55JN87nOf4/z58wghuP766zl27BjGmG390V7MTn9gLubSSpmMq5vy5BjHCidBTGJCh1D5yCAk6int+rWNtBGAFzfodgYZaUUM9fcdyoq2reZwxtFh+e/X6u3Fe8UgXJCuwI8TwlYd0KkG4j67pWnXwq40U5clAd6S2KvI5dCteXq86xlZeIW7h+/e8lyHnWz+HhziuTmE4yAKhZVtk820osxSMfGSOLXaQN7AMhZFOligPdWYqfPo6oo2mYsBw7DfTdOZZoG7kVIxPzqycaLtRAm+Nk0wWiN3Y3dbxpZxgXbN4SvROr54LACWZfHqq69y4403XuZdZQCgE4KJl+lPevhe+AKOUGiXXewxugykwghFQSfUZIPQuZZ6dZyBgbcz/vL5LNG2BVkMPvyE4+NYfX3b2jcua3Q+xq33odR5ACK/BUJsGNt3myTn4MxvnNBtWR5dYQnHkgSWRsg0uTY/OsK1t715r4Z51dP2n3VjDD/5kz/JL//yLzMxMcHtt9/O933f9zEyMsL73/9+fuZnfqbdl8zIWKEyNkW3dQxjz+PEBVAhQpsVbZpdRQiQklbSpNMqMF8PUH39RJMTu3/tNrLVHP6FX/iF/R5ixh4STUygenoQjkO8oFfaRmeqPnmdOipJtf/Outp1EPqCy5KnfEpRAatQwOgq/a1BXp//7j6PcvfJYvDBIp6bS+fPRQuMs0G6wp2zNUm4bCayfjVLl+lFIGheoT7bMsa2kP4lFW3SIK2Ifr8b6cxzvtygo6+fuU3aSFRvDpG3CF6rtGVcGRdoZwzOtI4PIHOvMhmnRgj1aIp8aNC5g1PNtkyicuRjn0S2MNLCX5zCoAnPZRXRm5HF4KuDaGwM1b8988a4rKlbTRR5lFo2Qmhh2e6Oi4vahXZtZJwgomTd75tWi2JcQGpJwXIJbAFCbGqElLFz2p59ePLJJ/nyl7/MM888w4/8yI+s+u6v//qv+emf/mn+9E//lPe9733tvnRGBmoeRKdk3qlQjK4FN9WS2BONNlLn0ZZuYQkLr55g9fWtCGoeFrYzhzOODtHEBNZAPyZOxV7dG9L1mZmaT5dpIkQRW8XA/r4oJMsuS16Aztm0LB+FpDc/yEwyRcnv43Tl6ndM2878/W//7b/t0+iOHvHs7GrH0dinEnejiXAtTRymD+Vqg9bRLtNLSEDI+i0gOyVxbJzGWoFkmYtx/H6QCWcq57llYIi50ddZKRG9BCEEzvEi/muLdP2DU20ZW0ZKu2Pwgw8+yC/90i/x/d///bztbW/jU5/61Bqt4xMnTvDoo4+uaB1fTPeSkcel2zMuk4lvMC/ewKDRtOIa3S1J0p3f71GtwSgXK6ojcznwQRmJZ3m4VeeyupOOClkMPvwYY4gmJyls4Ox6MTow6CbMuPNAEXvZCMHzsHP7N6+1k6Z4rFZA1FVY833D8pAIOqMiJaeB79QpqjzzY+f3eKRXN22vaPtv/+2/8Zu/+ZtrflwA/t7f+3t85CMf4b/8l//S7stmZOA3GvQySKwXOZNYSGORJ12513tkiWikTUunWjq6ntpCRxOHq6Jtqzn8z//5P9/7QWXsG+H4GKqvn3jRgAHZeSHRVqQJsoOcWn/FbC8xtpUKvS9pUngqTSZ02QMIDCqKmahU93OIe8J2YvB//+//fR9GdjSJZmbXOI42GSSSdXKOJA4DpLIQG2jNdukemqLettZsbStkFEOyun1J5BN03E0pydPSUzi9/Xj1Gs1KZcNz2dd0EE00SJrRhvtk7Jx2x+Cdiqln7DLjzxPKN9FImhiVww41On/wKtq0yiF0hKsUBp/Q7aZpeQzY11CbPTrGQjsli8GHn3huDhMEWNtwHF3WLp4KahgirJxNEsckcYi1j7qV2nUwgNxAp81XPgl6yRBBEVp1ED3Mj1z9C9J7SdsTbd/+9rf5B//gH2z4/Y//+I/zrW99q92XzchgYWKM44Wb0OYcc0G6ilCIvVQ/Su3NypuRipAW2mhyvkL196ObTZJDJD6+1Rz+0R/90T0cTcZ+E41PYPX3Ey9osEAuLYxNVz2s2AOZxzkIjrACdM5asTOPZUIoIjpV6vZokkX8eoEwuTLnxoPOdmLw3/3d3+3hiI428ezM6kRbY5bIDBCLJjlLEgcBcgMNF2kkHXTTpH3xwyytcl/aPirzCSA44Q8g3WnKItU1nd+kfdQ+ke4TnFls2/gydicG79T5+2KefPJJnnrqqR1fM2MDRr9KLjxFM1zEstI28uQgJtqsZUMEQSjq+G4XlaiKo3LMvXhmn0d3cMli8OEnGk8LJKxtGMLECwbhQDO0MaKKsq1Unw1Q++E4uoxM473yNjJEWNJpizrIO4pQtZCij7mR8xi9/3IwVwttT7SVy+U1NuIXMzQ0xOJi9lCW0X5qr0xSsDqRvEoY5ogsHxX4aGfvHmC0sFFEeEmDTi1RSz/Sh6l9dKs5PDg4uIejydhPTBQRz86uJNpUp0AIgTaaeq0CGIy0MNbBeEnQroPyLiQQPMunQ3dgpETrBbq8IcbqY/s4wt1nOzG4skmVUkZ7iWdTjbYVGjOg+4mEh2NL4tDfsG20w3QhkWlFW5tYru5WlxgiCCtBipA+vwthebxWXaTY3bu5TlvRRvXm8F/NnunaSRaDr2JaZczcOfrDQerRDK5UGCkwe6EjvEOMtDBCkU8SQqtB4PZSLU8Rmwjv1fn9Ht6BJYvBh59obBQAaxu/tfGChg6NnfQiZSM93m8hlULK/Z3XiWtvmGgDaFoeXWEHeVvREjFCdhFHIdXZmQ2PydgZbU+0JUmCZW38h6WUIo7jdl82I4P4bINIB2i3QjHqILF9lBfumT4bgFEWjghpxTUGpU2z1A2k7jWHhe3M4YyjQTQ9DVoj+/qJywbVkVaGLjRCnLgJgFJpsu0gkLgO6iL9KU8FlOIiws1jzCw9rSHOV8/v3wD3gCwGHxx0q4VuNFZVtDWqE7hJH0YuVV4G/oZGCJ2mh4QYj1bbxmRshUGggksMEQQo18P2egHFaH2ErsGhLdtInGtK+KcXMTpz0msXWQy+ihl/njrXolA0okUKYYTOufvu2r0RWrnkEp9EeWhpYaoNWqKOnM3m+0ZkMfjwE46NI7u7U33CTTCJIakYmm4DN+lFSQ+AyGthOTn2W8bQuPaKnMp6NK0WhSSHo22U5ZAsVbHOZe2jbaPtb0fGGN7//vfjbtCXHATtEfTNyLiU3IJLPR6nWuiiEHaR9JZRfkDYVdq7QUgHRyR4cZ2BfD8LRpDP5VbKkA8DW83hZrO5xyPK2C+isbT6SxWPQcwFx9GaT8HUQBSwVcAuhJLLQueWXJbCGONYeMpnyO/DzRcJ6gv0eTfweu3qfoDIYvDBIV7SMbo40TZZK6OMixQRxhiSMER1b2SE0EOLRntfwgUYVyG9tS3UKhfhV/roNN0sMo3TfTe10y8TtJq4heK6p7NPduB9e55oqolzYg9j7VVMFoOvYka+wqRzB0Xf0EhaDLcSkvzmL/P7iVY5VFRH5fLggx0bwmJET6MPHSVIO0v6XkoWgw8/0dgY9nb02RYNaBjzJpC8AcdKMEYR+R65zu7dH+gWJK6NvVAHbUCufZBoWOkiXlfUQYddwHN98i2b2ZFzvOHuH9zr4V6VtP3t6Jd+6Ze23CdzHM1oN9FMk3xSZCF6lbNRNw6CfA5kEK84r+wFWigcYWjFNa6RLq/WG1w/MEA0fnja1baaw4XCWveajKuTcGwcpMQknSAMsrSUaKsHdNBCyC5ceYASbW5aGWQ1fSKnhKd8BIKe4jBTlVfoax3jfPnr+zzK3WU7Mfjnfu7nMlOiPSCaWUq09faubJtqpJUgjh2ThAFg1q9oM2lFW1nMtX1ciW2t0WgDoKihIjgRDVFzXqNidQAwP3aeE2/8vnXPZR8rIhyJ//JClmhrE1kMvooZfY6a+vuIpEmiXFSrStTbud+j2hCtcthBGVdZYHykzOOXBKppUf3eBD13XLvfQzxwZDH48BOOjqK2k2ibT7WLJ6rzOLwBuyCJAw9j9L4aISyjXRthDNKP0IW1zxmhjIhETFdYougoWk6NvOxi9vWz+zDaq5O2vx398R//cbtPmZGxJc2XZol0COZ1auEd9IiYok5XjYy7N46jkLqOKgHNuI4UguZijNXfnyYsDglbzeFarZY9IBwRovExrL4+4opAlkAsmYrMVD1KSYBQHThykf33HE3R7rLzaEjUA56V/gZ0OgNM62/hhkVG5q7uirbtxOBsDu8N8cw0wCqNtvkgTZLknYQ4TP8+19Noy5HHwaXVRn22ZYxjIf11nEJdhRQ+Pa0u6I54rVHmZLHE/Ojohok2IQXONR14L5fpfNd1bR/rUSSLwVcpkQeTLyL0+2lEZZTlIjAH0ghhGa3SarscEIo6gdtNLfaIdEDlW2NZom0dshh8+AlHRyn+0A9tuV+8oFEdgmDexiZA2QKvmraPWvbBSLQBKC9YN9GGSNtHu6IO8gWbilVBin5mzmZmJ+2i7RptGRl7jTGG5oszzPvj5JSPG3YTuU2sJQHIZA8TbQgBUtFK0nLcqK6xBgZWWvAyMg4T4dg41sDAysPEMouLi2AMQuXBPkBaLSvOo+mDjhYaXwZ0qbSiyCSLVOZijDlAY864aolmZpDFInJ5ZTvyqOseEuHjOoY4SHXa1qto6zRpcq5Jo+3j0o6N8te2LwkBtl3DanUAivHGGF2DQ5saIgDY13YQTTRIallLVEbGhox/AxNH9HpDNKIyeSExQqBzBzfR9v9n78+jJLuuAv/3e+4cQ0bkPFRV1qx5tGWrLGNjDGobusG4+wftxesfNn48Nw9s1upW8xY2r7G6m9U/2aBn/EMIDDa2GUzbGFrgAeRB1jxLpZJqHnOeMyNjvnHH8/6IqiyVlJnKUmVlRGSdz1qxpIy4mbEjK0/Euefus7fUDaTQSMcRNaOMZ3dQnV+kGOaIxtavdqSiNIuoXCFaWMBcpaEFgIwl4YJEywpklEFqJYSAwK2gWzai0QXaAGnUm62sXqfNJeunSZganvAQejuVwiLVQn7jAt3E1EKb0vLCmSoyHzBbG2UhkSLtd2AmY/Sqh9Q10Df2z1xqJj4BQRwiqvWuNf74ODJqlrwfRVmbYHQUvXc70j1fn63qBchasX6ALpBac50kxLaFXj4/qXB1jwzZ+mPxAk6pi1wt16jwlCtIOD1zwbZRyjO4spdAFLFNjdCroRkmQnv9Z1RGtlPDJRLrXzQ7tgy0MEYEr/9MMmyX0E+TjXvx5Bx2Rw/5qQmiYJmtpmdZg20gwD2ysO6xKsqmMfIkNXM3NhalME/SqxEnmrcRwjmxbmOGLpHpEWsm0XyBmuVilkxkFDc6PEVZV0sdR/v7Vz0uKkiIwE+4WFEnmqjXzvTdKqbVJHUXRT2rbfXOo1VMaZIhSaDrxGdLRsycUVlt60EttCktr/rKHLEeU/CnGaEfIQXJFGg1v542u8GTmFgzEUKjGlVwPL3eHjoMCaenNzYQRbkEUsp6nYrOPQBo5xohlPyzjRAcTFxivfHp8a8WORZGtQZnk9Zco0Y6SoNpIuNpOtx+hgqbe/uo0hzC2ZkLGiFQniWKuwlFFUfXCfwaurl8xnUmbqcq1j+bDc5vJ1muIYKWrN/XH25DsxYoGG3EcURucuXyB5pjYG5J4x6cvyzxKsqmMPwE4+k7AChFNexyuam3jZ4T6w56WEW36gvzwo2QGYGOTjCpGnMom4s/MgKA8QYZbeF8DBoMl09iRx0YRkAUhkSh3xT12c6JbRN9uZqsZ1WM+g6QrJ8mpbdRtQOEZjB95uRGhbipqYU2peW5hxeomiUSeo1K0EtoeGhWjF7xNrQRwjlSM9G0GDcs0hGb6L29APhq+6jSQqJ8nrhcRktuRTigWfWFtumiS0qWEVoGW1RBNNfHSJSwEFG8VOzd1Ws4sUUi2Q7xHF2VLZwpnGlskMoVIZicuqA+W1iaxIh7CDUXoUHouctuGxVSkCZT7zh6GZz7XFxu8h3bFqZWqtdp0wKGalUMy2Z+dGTVn2ntzOCdKRBVlqn9pihXuqAG48+xwF5qUZVA09HdgDDZPCfkK4l1By3ycHQL4ioGFrIrQSRDikemGh2eoqwrf3gELZ1GT6/e3CeYr5dUmZqbRqBj24LArS88682S0QZEloleWTmjLdSieomVoI02y8K18qBlmT6tFtrWQ3OdISnKRQrnXcKZKvO1UXTDJ+31Eln1bBbDrRE1oPaF1E1MEVIJF+nRbUrJLGga/sjohseiKG9WMFr/e42j7NK2Uag3QnDiACEymFqtUeGt6FznUb1aj62q1//bkdxKHBfoqW5RGW3KhgimpzG6upa+ns+PY0ftCK2+wBV63rILbWmZQUO/bBlt6BrS0NCXyWiL9RSmMY9RToLUGCuNk+3pY25k9TFj76x3TnQPq6w2RXmd8ech9IjKvZSDRcyzDVCiVCsstNVjTEhBKMqEVhY31ij6C1SPr39XZEVpJH9o6A23jUopiRYkWkZQrtW3T5uJCN+toukGuq5vRKhrEtsmWhAuWyrinIrhkvHTJC2DwCgiRC9TJ46resbrQC20KS3NPboAumAyd4qyaWGHSRJtoPkBIoyXTro3khQmNj7VsEBSM1gohhg9PUvpyIrSCvzRUTBspGugZ85/VMwv5BBSIvQ0mrH+9aMulTR1pKFhnK3TVtM9ImI67F5kWMEK0gxPt04XYKU1xb5PtLBwQY22yVIZgY6hB8RRRBwGy24dzcgOYmJcLt+2rNiylrI+L6AJDKtMHBp0hANUmcPp7GZhYhQpV67HpCXN+vbRA+rEW1FeZ/hxpNVGd6WHUpAjEcfEho40N37XxcWSmoVEIxmH+GYJz+6gMrNIOc4jZwN1Mq5sKt7Q0Bs2QojLEhnUaxcHYQpJDU2LCGpVDLt5stkAYudc59HVt49mghRJ08DXqwi9E7dUoDSvPs8vlVpoU1pa7WgOvc+h5rkU9U6kiLGS0VKHlSixgR1Hz4o1C0uTVMN6wfjSQojR14c/MrzhsSjKm+WPjGJuvwUQSxltYRzhV/L1AzS7OT9BxNk6bWV36WtXr5E1ukFKZFwkP6HqylyM+++/n507d+I4Dvv27eO5555b0/d9/etfRwjBBz/4wcsbYBMKZ2YALshom6nUT6odMyL06n+fuvn6jJaMbKdKBSku3wlsbOkrdiLTnQAhYvqCQTQjR8XKEngexdmZVX+mvTuLN1QgKq08oVeUK9LQY+S79pGSCUpBgXS1TNQCjRAAECB1CyOoElkBUmjUZgr4iQA91IlyzZfZrihvhpQSf3gYY2Bg1ePChbOfzakI4k6kViaOYwLPxbCaK0s1ts4utC3TafycquGio9Mp0vhoREZ92+zkyWMbEuNm1oynSYqyJnEtxBsuEmXPvuFFvfhmFaFJ9EoNqYmGXC2UmoEhoBqWkFLiFaL6QtuQ2q6mtA5/eBhzy00IE0Sift9s0ScRF5CahS5cpNFcE4pzYsdCr7pLX7tGjSzt9cfiGfTFNsr+ZdqWt8l84xvf4K677uLuu+9m//793HLLLbz//e9ndnZ21e8bHh7mt37rt3j3u9+9QZE2l2CyXrvofEabZNFPIZHYdkjg1U9OjWW2jmZkB1VRuqzxRba14sQ7NhOYeo6M24kwqoz4EiE05sdWL39g7cyAELivqKvgirLEr8D4C5w2bgCgFLuYRbclto2eU2+IUMG0ARkhygFaZ/0E3hsuNDY4RVknUS5HXCxivsHW0XAhRkvBxMIJnKgLzajVL55JidFE9dkA0AWxoaOtcGEN6hltEkm7n8bRs5QTVTQjwdQJtdB2qdRCm9KyaicXIZaU9TwAqXAA3a7vQdcrHrFjNeZqoQChG0igGtegDGZfH8HYODJaeY/8ZqYyYlqPPzSElt2NnhUIcbbjaLFGUpYRWhsWZWJt4zNG1yJ0LHQ3QIT18VY1XNJRCk0z0Riju7JNNURYo8997nN87GMf46Mf/SjXX389X/jCF0gmk3z5y19e8XuiKOI//If/wH//7/+d3bt3b2C0zSOYmgRetdBWK1KRXYSihGNqhF4NoWmI19RyMaVFguRla4RwTmwbaEG0bN2W0Exi6/MYZRst1hkuT9HW1c382OrlDzTHwNqWpqK2jyrKeaPPQBww7/biRTUCDUQcE6USjY5szWLDRkQejpaAuIyGjd3dQTnIUz6++kUX5dKpOfTG8E6dBsDcunXV48JcjNamMT53Ejtqx7IkvltFCG3ZuquNFtvmqltHYxHj6h6ZoI2s5eBai0jRyfixIxsY5eakFtqUllU7tojeYVNYOENsgI6J1VavIWOUXSKncYsAUrdAM6hGLo6vY/T3I4OAYHKyYTE1isqIaT1SSvzRSYTZhfaqRgiT+QpOFKDRgUUZqTXfhAIgTtTjOlenraK7aGh0tm2DeJbuyjZO5U81MsSW4Ps+L774InfeeefSfZqmceedd/L000+v+H3/43/8D3p7e/nVX/3VNT2P53kUi8ULbq0umJxEy2bR7LNZK6VpfNlLKMpnF9rqHUfPLWKfk5X1hbnKZc5oi+2V67bEegpTz4EUdPpbqEZzJDq7mR8bfsOfa+1pJxgrEartZIpSN/QoJDox5zooBQvYgNQEUbI5Pz+XE2s2AkkSCLUiod1JNTQoBPN4Qyqj7XJSc+iN4585DbqO0du74jGxL4nLoLcJ8qUaoGHbEYFb79AtmnA7eGybK5aKOKdiVMn6aVKWQWDmEFofcyNnCGrqs/xSqIU2pSXJWFI7nsMabKMwPU6o20QiwHJiiCV61SN2GpeWL3UToWlUgxLtsYm5ZQsA/pkrL4tGZcS0nmh+HpEYADSM9lc1QphfQABCz6LrtaatLxM7FlII9MrZzqNGjRhJZ3IrcVSkvdbDqbkrbyxerPn5eaIoou81hYH7+vqYnp5e9nueeOIJ/uIv/oIvfvGLa36ee+65h2w2u3QbHBy8pLibQTA5eUF9NsrTEPUQaFV0TRDUaste+c7KDjxqBOLy1jlbWmhbbvKtCYQdoWkBPd42hJmjamep5Bdxy6svAFrb20AXuIdU91FFAeDMo5T6bmCb10spyJHyXKJki9RnOyvWHSQCM/IJrCqh4VAYW6CqldBKEFeDRoe4aak59MbxTp/B7O9HGCuXHYoW6+WK9IzADevbRDXdI3ArTVef7ZzYNuoX1VYp+1oxXNJhkrRlEehVhNaJjGOmTh3fuEA3IbXQprSkYLJMXA4wB9vI5RbRyBBYHkKAXqkhpKwXmm2QWLPQREw1WKRDs6iYaYRl4V1hddpURkxr8oaG0LuvBSNeqs8WyZhaKVf/QqTQ9SaeWIuzddoq9TptUkhcvUan1U8UuCAFE8MLDQ5y8ymVSvzyL/8yX/ziF+nu7l7z933qU5+iUCgs3cbGxi5jlBsjmJhEf9VCW6UwihV1I0V9YStcoWhyNu6gKjagfqAmiE1jxbotsZnGMnK0VbvQzAJTUX1RMPcGddo0S8cabKP6sto+qii4izD9Cq+k9pLCoRTmSRZdwhbaNgosNUTQgzIyWd854s+WkGcz3r3Ry5uBe6VSc+iN5R0/vpQYsZIwFyNMwAzxZScSFxnViOMIvck6jp4T2xYijtG8leftFaO+86OHNoiTVB2JpluMHz20gZFuPmqhTWlJ7pEFhK2jdVv4tQgr7kCz6rVmjLKLRDSk4+g5UjOxtIhyWD/ZyM0FGAMD+KevrCwalRHTmvwzQxi916FntaWtbQtlHycuEOkWmlZDvqa2VLOJEiZG6XxDhKrh0qH3IOMYSZHSRNjA6FpDd3c3uq4zM3Nht8mZmRn6lykWfPr0aYaHh/m5n/s5DMPAMAz+6q/+im9961sYhsHp06eXfR7btslkMhfcWl0wPn5BRtvU4iymTKEbPnEcEQX+6zLaNKmTJkuZjTnJiRwTo7r8tpDITGNpMxiehRVZnK7kcFJp5sdXX2gDsHZlCSbKhHm15US5wg0/CTLmRKEdgFJcRQvjlmqEcE6s2Wihi2M4aFEJPEj0tuNFVdzTuUaHtympOfTGkVJSO3EC8w1ee7gYo6UF83MnMKJu0KsEbr2TfbNmtJ0rpaS7K28fdfUaMTFZvw1H76CYWACtk7EjBzcqzE1JLbQpLck9vIA12EY5V9+eIrQUZqp+4myUXOKEAVrj8vJjzcbBpxouAlBaCDEHBvBWONFU6lRGTHOonRpBy27H6Dy/mDaZd0lFFYTWhkG5XoewicUJu74tLq7nypeNKm2yDUOYSE6RLnaRq6mTg9VYlsVtt93GQw89tHRfHMc89NBD3HHHHa87/tprr+XgwYMcOHBg6faBD3yA9773vRw4cOCKmbzLKCKYmrqgzstkuX4l2TYiwrM1T/TXTMqzsgMNjbLYmIW22DaXtle/VmSmsYx61md7rY9KNEuys2dtddq2t4EmcA+rrFHlCjf0GLQNIGa6qEVVBCFSCKJkc2a+rCbWbfTIJWGkiGUBqWcw2rvJ+3NUj6mGCM1AzaHfvHBujrhQwNy2bcVjpJREOYmWFozNHscJuzGsEN+tohsWmtacyyrSNOrlVKorl6SQQlI1XLJBG1nbwbPmQPQxeeIYgb96fTdlZStvQlaUJhXMVQlnqiRu6mZ06BkAYt0imagvtJlFt+GTGKkbmDpEMqQSewSFGHPLFkoPPYSU8nUFsDerS8mIOSeOzza4MAyOHz/Onj17Xvd9tm1j2815JakVBZMeWkagt5//O52YL2DJECG6sSkSN2kjhHOihI2QEqNcI8wkqBhVBIIOZ4CSHKO3/A5OLp5k38C+Rofa1O666y4+8pGP8La3vY3bb7+dz3/+81QqFT760Y8C8OEPf5itW7dyzz334DgON9544wXf397eDvC6+zezcHYWwhDjVSc687X6eHHskMCrZ1oar8loa5ddBPh4uGyEyLGw54sQxmBceIIQ6xbooBk1ur1tTKdO4RkD1M4cIopCdH3l6aNm6Vhb07gH52n7sdW7tynKpjb0KFN917L78BZKwQKO7xOm7JZMc4gNB1GLseKIklkGuY2FuSp2lKN3fjuxH6FZzZ3p3mrUHHrjeMfrtchWW2iLKyCDeiOEhYkFLNmGY5UoLlYwmnTbKFAvp2IZq2a0AZQNl6zfRipjMufl0fTrCP2QqRPH2H7jLRsU7ObSgm/1ypWuun8WcbYOzNDIIaQwCfUITQMRROjVGmED67Odo50tplmJXMyqwNyyhbhQIMpdOVk0KiOmNcVuGmQFzT6/0Jabr2+D1kQnJiVivfFjbDWRYyERS3XaXN0jFBE96Z1o0Tztbi/HZ042OMrm96EPfYh7772XT3/609x6660cOHCABx98cGkry+joKFNTUw2Osrn4Z7MBjJ6e+h2RTyHsIMLDNmPCmovQNMRrtl93xN31bLYNug6z1J13pTptVr1OW8btRLNyzMokURRSmH7jf29rZwZ/pEhUvrxNHRSlaZVnYe4YjySybIs7KfoLpIo+UbrF6rOdde4zXwuqxOkIpKQ0vEDcJhFS4I9emXW9Lic1h944tSNHEcnk+c/tZUSL9UVLvU1QPtsIQWhlosDDaPKFytg233ChrWJUSUYOnYaDHpmUEiGa4TBy8MDGBLkJqYw2paXIWFJ9aRZrdwZhaOQW5tFEO9hn67MVqwBE6Sa4sqA7IALcsEK7kcLcWr+y7508dWE3uk1OZcS0lqhcRmvbhbDPnyBHcYxfzhFrGoZmo+sukehsYJRroEGcMDBKLt4AIOrFXrudrZwqPYVmagydmoJbGx1o8/vEJz7BJz7xiWUfe+SRR1b93q9+9avrH1CTC8bGAc5ntJVncGUfulbEsXQKnotu2RdkNhvSpI0sY2xcHc/YPr8YHWZef/IfmhkcMUUt3EIisjnjudyqGyyMj9K5dfUTNmtHBp6YoHY0R+rtr8+8UJRNb+gxAF7KObxbGJTCPG1hhN9qjRDOERpSM9GjCpaVwQjLROWQxO4s/kQN9+Qizt6ORke56ag59MaoHTuKtX0Qscr2z3BRIhxAVnFlN0lioiAP0NwZbdTrtJmF6qrHlI364x1RBkd0UEjMkyr1MPzyft79Sx/ZiDA3HbXQprQU7+QiUd4j/eP1RauwBI6WBufsttFChdjQkWbj/7Rj3UJoMZWgxI7EVqJMFxgG3qlTpN5x5WxX+9CHPsTc3Byf/vSnmZ6e5tZbb31dRkyz1jW4ErkHTqIluzA6C0v3zRQ9UlGRyLBAhKDFDYxw7eKEjVE+vw2vYlTp0nsJvBA9UWNudGO26ClXFn9sFL2rC2Gd3RpanCKKe4lFFVMXBDUXw7zw6neH7EIgKIn8xgWqQWwbGGWP5a5zR2Ybjj4GQpJ1exlnlkRHFwtjo1y178dW/9EJA7M/RfXQvFpoU65Mw48TZLfTMbsNKSVuVKJN04mSzV12YTWRbqMFLonkAAGLoPWR7O1l8cwM5uEUHT+zu9EhbjpqDr0xaocOY1977arHhIsxelowN3UUEfUg9QphrYKmG2ha4887VxNbJroXLFsq4hxfC/C1gHa/jYTTQZlRhLaT2aEXqRYLJDPZDY669TX3X4WivEb56UmMLgejN8l8cQbLB2EmsVP1x41CpZ7N1gQl0KRuowuXSjAHXMvcbIi5ZQveyStvu5rKiGkd1VcmkXEKc/D8B+rYfJGErBJpveiUockbIZwTJWzsxUq9IYImKBkVtoheUnoHrj6EtZAiiAJMvXEdipXNJxgdvaARgl8Yw4zfhq/Vm/eENZdE+4UZoZ1xDy5VArGxWy3jhIVeXn7BOTZsYsPAMF26vAEm2oYI9e3MT7xx51Gobx+tPDtN7IZoCTXdVK4wQ4/xcs9Orj+yh0pYxPA9wlRzzE/frFh3ML1FdGFQ1Uvo2nZm50Os+GydNi9Es9VYX29qDn15RYUCwdgYmZ/5mRWPkbEkykusHRrjUydIRO/CMH38UgXDcmj20tvSqc/bddcjalshq1ZA2ajQ7mVIpy2K/iKx+RbwJKMHD3Dtj71nAyPeHNQSuNIywgWX2rFFnOu7EEJw8NiPAIgMA8us12czSjXCJql/EWs2phZR9qeJpKQwG2Bu3Yp34kSjQ1OUFQWTAdKdRbPPLz5NTU8jAEP0YVNo+kYI57y6IQLUM9okkh5nG2Z8hp7yIGcKG7dVT7ky+MMjFyy0zeRHsaMOhF4jCgPiKMR4dcdRCZ2yd2Oz2c6KEhZGxYUVklQjM4ulzdFW60S3ciySpFrI45ZLb/izrV1ZiCXuEdV9VLnCFCchd4bvCpOdQQ+lYIFENVj5BLdFSN1ByAgReURtoMUh+aE56NARCLwzhTf+IYrSZNxDhwCwdq+ckRkVJcSgpwXztTmcqBPL8Ag8t+nrswFEZ+f0urv6xbySUSUTpGmzDVKRTT5VQrfaGTrw4kaEuemohTalZZSfmkQ4OvbedgBGR48B9TozUN82KpBNs9AmdYOEFiAJKMkaQT7G3LYN78QJpJSNDk9RXkdGMbHfBjJ/wf2l/ByxJtDpxKKAbJWMNsdCCoFRqmfsRFqMq9foSW7HiqbIeN0cGj/a4CiVzURKif+ajLaJQhWBhm2GBLX636L+qoW2NBlsHIpiccPjjRI2IpZobm3Zx0M7i63NokUGqdBiKKiXaciNv3FWm54yMfqTVF+ZW9eYFaXpDT0OwCtFnQ7NphDM4wTNMz99syKjXofKCKtYyQxGUCAqRaQHe3HDMqVXVGMcpfXUXnkFLZnEOLsddznRogQBWiqmKJMIdKScBymbvj4bALogNnT06vKf9eeUzQo6Gh1BhoRop5CYRso+zrz0AjJujbIxzUQttCktIfYiKi/M4FzTiTA0QFKcr4JIIM7OW8xcicg2kU3UXlw361cQKnEVp6ZjDQ4SVyqEk5MNjkxRXs8bLSE0Cy0VLN1X9gLMWp7Q1BFCYIhy03ccXaJB7Fy4Na5kVOlxBgmDMgAnjo83KjplE4oWFojLZcz+83XJZtz6wnTCjAhr9WLDhnl+sbor7iUipMIbZ4mttyhhIwGzuPz20dDMoOtFEJJMrYe8lsdKplkYH1vTz7f3tOOdWFTdR5Ury/Dj5Du2c1XuGjQhKAc5MEziVt9WKTSkMNHCMgk9SSxzSC2N09XPoj9D9dh8oyNUlItWPfAy1p7dqzdCyMVoKQjLU5RlPxAT+3mE0NGN1rj4HDvmil3Gz6nqNUIR0ulnMRMdGOYkwuinVioyfebKK310qdRCm9ISqgdmkX6Ec329rs1UeZpU2UaINHYqAgnWYqnp0vI10wYElaBCR2yib9sGQO348cYGpijLcF+eQAYuRk966b6R2QJJWSHSHRAROi6yyYu+vlqUtDBLr1poM8uk9SwiTBBqNWaHyw2MTtls/KEhAIxzC22Rz2LYTkxIwokIai66aV0woe+KeylSQIoGZDrroj75Lq/QjUwTxFYbpl6kq7YFYc1Dup2FNWS0Adi7syCg+rLKalOuIMOP83BmK7eUryOIA6JakaitteuznRMZNnrgItAI7CoIweiZPF7Kw3B1wtzqGTOK0kyklLgHDmDt2bvqcWEuRm/TGJ84jBX1ge7iu2VMu/nrs50T2xb6Gyy0IeoXpDu9LIlUhp7YpZIQCN3izP7nNybQTaQlFtruv/9+du7cieM47Nu3j+eee27FY7/4xS/y7ne/m46ODjo6OrjzzjtXPV5pflJKKs9MYW3PoKfrVw0Oz71M0gWhJ7Ad0Cs1NC8kaEs2ONoLxYaD0EwqfhFb6BTDFFo6jacW2pQmVDs2T5Qfxew/nz4/Nl7P+NJFN5qoIlvkyt05UcJGq9YQYQRAyawvKHSag4T6CGYuRRAHq/0IRVkzb2gINA3z3BaU8jRV2UegFUlYOkGtiv6qbDZTWrTR3pBto+dESRuzsHIH3tDpwNLmSNfaMawFinqa3OT4mraRaI6BNZih+sLMeoasKM2rMA6Lw/xQauzx+ygF8zi1kKDFt42eE+sOelgBQGYdzKBKYWQee1uWWMbkX1pbtquiNAP/zBniQgHn6qtXPCb2JXEZtLRgqjhEIuzDNGv4tQq60yI7PKhntGmuX28QtoqSWSbrt+EYJu2RTT45h9D6OP3CsxsU6ebR9Att3/jGN7jrrru4++672b9/P7fccgvvf//7mZ2dXfb4Rx55hF/6pV/i4Ycf5umnn2ZwcJD3ve99TExMbHDkynoJJsoEUxWcazuW7js29DyajIjPnrBYCyWkptU7jjaRWE+gaVD26lfz5yc9zO2D1I4ea3BkinKh2A2J8hCXJ9Cy5zuOFhamiQwdS/ZiaSXiFqnPdk6UsOuNHM5uHw21kKrm0ufswIlP0lMe5HhOLXwr68M/M4TR04M4WzaAwgRR3EcoKmgaBDX3gkYIXbJey63UwIW2MOnUF6ODaPnHrSymkUeLDZKhw1gUEYUB+Zm11WNyrukgmKrgT6jsUeUKMPwkAEMVmx7dIO/P4QS0fH22c6SRQMgILarhJDrQwxzS0+netYNiME/+hZFGh6goa1Z94UXQNKw9e1Y8JsrVLyrpGUEuKpOIuhFyDqTEtFpnXEe2iZCyvti2iqJZrtdp8zLoehu+PYXQtjA3MkRxXmWnX4ymX2j73Oc+x8c+9jE++tGPcv311/OFL3yBZDLJl7/85WWP/9rXvsZv/MZvcOutt3LttdfypS99iTiOeeihhzY4cmW9VJ6fRkuZmNvaAAjjkLnp+kAXqfrCmpkrEmYSTZeWLzULW4sIonlKsYe7EGENbqd29EijQ1OUC3in84BAmBXE2Tx4Nwgxazki28CQSex4sWU6jp4TOyZSE+gXbB+t0pfciR1MkQwyvDykxrb+ud0AAQAASURBVKOyPrxTpzAGBs5/XRjFiPqIdRcZx4Re7YJGCJ1xL1XKhCJsRLgARGmnvhhdXH77qNT0ei1UEZOt9TBvFhFCI7fGOm3mYBtayqTy/PT6Ba1cFLUzZAONPMFEx3auK9yAqekU/FmEbYHR9KdcaxKdrdGqB2UMYRKJPGg2c7kAN+Fi5nRif/lFe0VpNtUXXsDauRPNWTlRI1yQCBOQeXL0ABpROI/Q9Asy1Jtd5NRjNd6gIYKre/haQJfXjpbooIc5IrsDhMbpF1VW28Vo6nd93/d58cUXufPOO5fu0zSNO++8k6effnpNP6NarRIEAZ2dnSse43kexWLxgpvSHGI/onpgDvuqdoRWP/k/mT9JV74NhI2TNdC8ALPkNt22UQAE1GvfBpSki1nWMLdvJxgbJyptfOFrRVlJ7fgisZfH7M4s3XdyZAJDBkRnJxImi8hWaYRwjqhntb262HvRLJM22jGj+nvKcdUQQVkn3unTmFu2LH09lRvBiTrQ9RqBV/8bPJfRJqSgU3Y3dNsogDQNYkPHKKxQpw2IEh1Y+iJdtQGEvYB2EXXahCawr2qn+tKsOgFvALUzZIMNPc6PUn28pXw9kYzwKgtEzTg/fbOERqzb6GcbCgWpGC0OGT06jbOjHV0YTD+pLl4pzU9KSfXZZ7GvvXbV44KFGC0jmJ04TBgPABFhLd9S9dkAMDRiQ1tTnbaCWaLb60BLtrM1CsknFtGtHrV99CI19ULb/Pw8URTR95p2u319fUxPr+3K6G//9m+zZcuWCxbrXuuee+4hm80u3QYHBy8pbmX91A4vIL0I5+rz20YPzr1CR8lCaGl0O8LMlZAIwiZrhHDOueyFSlihM7YwduwAoHb0aCPDUpQlUkrco/NE86cwBs53SxwbGyEWOhEpECE6LrHWYgttQJSyMUrnFxFKZhkpJVltJ55WZnF05fpUirJWcaVCODV1wULbSKGGQCdhxQS1swttdn0MZWQHBiZFkW9EuOeJelabWVh5a2dgZTH1Amm3Hc3MUbHSzI+tfYuYc00n0otwX1HbTjaa2hmygYpTsDjEI+jsDfoo+vM4frRpto2eE+sOelCv06a3d2J7OfyFCpldfbhRmYWnTjU4QkV5Y8HICOHsLM4116x4jIwk0aJEzwjGF46TCgfQ9CJBrYpht964jh0Lo/LGDUsKZpl0mMQW7aRjjZIzi5RbGDv8CrWKKgOxVk290HapPvOZz/D1r3+dBx54AGeVlNBPfepTFAqFpdvYmCrk2SzKz01hDqTQs+dP7vdPvYDtBwizfiXBWigSpeymTcsXZgKETtkrkBA6Ba0TYVnUjqgrfkpzCKarxOWQaHFoqVuilBJvcZrITmFFHWi6C0JD6q3TcfScKOGg+SFard70INJiSlqJPmc3aKdJFzrJ1XINjlJpdd6p+smleba7NMCMW89kSSZCAreKphtoZ8dQl+whwMelsvHBvkaYdjDKK9dpQwhEMkJIg1SYYpKIcj6Ht8YJt56xMLemqTyvmiJsJLUzZION1OuzTZfb6NV1Fv0ZrFgQJZurfvCligwHLaohZIxtppBxDkGSajXCT/sk8gncstq1oTS3ytNPg65jr7LQFi5KiEHPaswHc6SDLQjqyT5mogUX2mwLvfIGGW1A0SwRI+n2OgnNNkxjDs0YII4ihg68uAGRbg7NuTJxVnd3N7quMzNz4cRsZmaG/v7+Fb6r7t577+Uzn/kM3//+97n55ptXPda2bTKZzAU3pfGCuSr+UBHn2vOTu5nKNMF8BWSEnk5CGGPmK/X6bE0qNpLomk7Jm0dKyfxkgLl9O7VDhxsdmqIAUDuyACJGurPoZ0+mpufmMSIXrc3AiTqwRAnZYo0QzolSZ+tSvCqrrWhX6E/sJBWdoac8yEszBxoUnbJZeCdPghDnM9q8IkXZQ4RH0o7rHUdfU5+tJPJNUVs0TCcQUq5Ypw1AphIIIrpq/Sw69ZPohTXWaYN6UwR/pEgwu/JzKOtL7QzZYMOPM9o+yM2lm7A0nbw3g+44TX62dfFiPYlAogf194HIcUFKThybw9nbiaOnOPWdxxocpaKsrvL0M9h79qCtsmAWzsVggNAKzGlt6DJFHMygGyZ6S154NtFqb9x5NNJiykaFnloH0mlnR1Sg4ngYiU5OPffUBkXb+pr6rd+yLG677bYL0tXPpa/fcccdK37f7//+7/N7v/d7PPjgg7ztbW/biFCVy6DyzBTC0bF2nl/4fGn2AIML9UKUVkcCs1BGxJIwk2pcoG9A6gaWLgmjefKyhr8QY+3cSe3QoUaHpigAuIfnkcEc5kAfQtQ/Fo6dPEmEjrQMNGnhkGu5jqPnSEMntgzMVy0iFOwypmbTLXXsKMmLJ9R4VC5N7cQJjP4+tLNbQ8mP4cYDBFoBQ4fArS7VZ7OkTZoMRQoNjPg8aRrEloG1uHKGWmwnMIwi3W43YWIeYScuavuotTODcHQqL6imCK1C7Qy5SMNP8HCyl7eWryeMQ/zqPFF6E9VnO0vqJlLoS3Xa6GzH9guUxuax+pL4eBRfmETGcWMDVZQVyCii8vTT2Nddt+pxwVyMnhXMTxymFm8DKQlqi5hOa47r2LYRUqKvYfto3irR6bWD1cXWyKfgzBPLfoZeepHQX71zqVLX1AttAHfddRdf/OIX+cu//EuOHj3Kr//6r1OpVPjoRz8KwIc//GE+9alPLR3/2c9+lt/93d/ly1/+Mjt37mR6eprp6WnKZbWfuJXEtZDK8zM413YiXrUl9Jmp5+gr2AgthWZLrIUSkW0S2819VcE2AVmjKKukXB1r1y784WHVEEFpuDBfI5isEEwewhioZ+JIKSnMjhNaGQJfAyRWPN+S9dnOiZI2+qsW2qp6DU+6dOn1momnjquTf+XSeEePXbBtNM6PIOItRHoFKSWB5y4ttHXKHiSyntHWDASEbQnMxdU/k/REgFPrRBhVKlaK+dHhtT+FrmHvbaf64iwyUifgG0HtDNlApRlYOMVj0mRv1MWiP43jS8LN1AjhVSIjhR7UtwibiXb0MIcW2HhhTNwNvWxj5JUDjQ1SUVZQO3SIuFQicdNNKx4jA0mUkxjtgrGFI6TCrSBmiKMAowW3jQJEjgmAsYbto3mriI5GVu5EAFWzgCa2EXg1Rg4euLyBbhJNv9D2oQ99iHvvvZdPf/rT3HrrrRw4cIAHH3xwKQ1+dHSUqamppeP/9E//FN/3+YVf+AUGBgaWbvfee2+jXoLyJlSem0aGEc71XUv3zbvzjBdH0L0aupMCCdZiiahJmyC8mmHXJ1rloESXtNG27gRQWW1Kw7kH50GDcOIw5pYBAGbnZtFCF6e9C+ElkbqHRoA0WrfOTJSq16Di3Am+gEVtkYHE1fjaNNq8RdlXF2SUN0dKSe34cazB7Uv3TS+cJBEOoBk1Qq++tepcI4TOuIcqZSIRNirk1wnTSXTXR3NXuVKd0kCaZLx2ZvWA3NQ4Ubj21+Bc00lcCagdVTURN4LaGbKBRp4AoFDppUs3yHmT2BhNfyH4zYrNBHpQRcj6Z2pklEHoHD8xj7UrQ8JIc+a7TzY4SkVZXvnJJxHJJNbu3SseE8zHIEFvF8yFc6SDrRCPI4SGaTX/ueeydEFkmxiVN24C5uk+Vb1Gj99LZCZIiUUiI4GZbOek2j66Jk2/0AbwiU98gpGRETzP49lnn2Xfvn1Ljz3yyCN89atfXfp6eHgYKeXrbv/tv/23jQ9ceVNkEFF6bBx7bwd6yly6/+nJp9kxtwVkgNGRRq/U0LyQoAUW2qSdAmFQdBfRhGDea0ckErgH1UKb0ljVV+bRUgFEPubWejbO0ePHCTFIdZg4YTe6Uc8Ei1p06yhAmKyny5ul85OLfKJCysjQI8bpLW1n/+z+BkaotLJwaoq4WMQ621UaYGixgC5tknaA79bHkG45CCnolD2N7zb6GmHaQQqBlVtlwTkp0ETIgNtPKVUmjiIWJyfW/BxGp4PRm6D8nMog3ShqZ8gGGX6C0cxW9hXfgiYEeXcakUo0RQ3GyyHSU2frtJ1tfNGRxAyqzJ+eQmR1AiPAmjIpzs02NlBFWUblscdxrr8eoesrHhPOxIgEyHCOaS2NFbcTedOYiSSihcd17Fhr2joK9ay2nlonsdXBHqoUnQVis5fTzz9zURfZrlQtsdCmXFnKz0wTVwKSt/a86l7JI2OPs2u+A9Axsg7mYgmpCaJUCyy0aTaGrlHzZ6jEAcXpEHvXLtyXX250aMoVLMzVCMZKyOo4elc3WjJJFEUUZ8YI7A5qfgVDJkmIElIYIFaekDS72LGQuoZROL99tOzU8GOPbbpDd3Ubjw2vrQuforxW7ehRAMzt5zPaJir17LV0IiJwqwhdR9N1srIDA5OiWGxIrCvSBWHKxsqt3DFSCNBtlw63k1o6B7rB3OjQRT2Nc00n3olFwtzaJvrKpVE7QzbI8BP8KNXHrdWrqIRFdLe8abeNQr3+cKyZGF79/ULPdGL6C5g1Ez+K0QYdtiWv5pUH/6XBkSrKhaJCAfeVV0jceOOKx0gpCaZjjHaNyZGXCOIdxFGRKKxiJVp7XEcJC6Pswur9EABYtAqY0iClX013VCRvFSHYRq1SZvyIShZ5I2qhTWkqsRtS/NEo9jUd6Nnz9aCOLByh6BawKz663YbQBNZimTCVaI2/YgGOCTLOk5MVrKKGtXs37oEDSLmGdzpFuQyqL8+CoeGdfgFz61YAxsaGQYakO/twKzEgsZknMlq3PhtQr0GVdDALlaW7pIBcPEu/tRNdGrx85GQDA1RaWe3wYbRsFr2jo36HXyYf9xPjk3ACAreCYTkIIeiW/fh4uFRW/6ENELUlMQoVCFeuoSZSEs3vQUOjaNnMDZ+5qOew92QRlk752ak3PlhZF2pnyGVWmoH5EzweOewizXxtnIQvCNPNfyH4UkRmGsM/d8FAEOslEBaHTi6gbbPQNYPFZ0YIg6ChcSrKq1WefgbiGGeV2pNxURK7oHcKJvLHSfuDEA/Vt422aCOEc6KEhQjjevfRN1DVa9Q0j65oDwKo6RWE6MROZTjxzBOXP9gW1wpLFMoVpPD9YQhjkm+9sBX9g0M/4OqZq5FxAbOzDRFGGIUqUaZ1JjGWbQExxbBAZ2hh7r6aaGGBYGKy0aEpVyApJdWXZrG2JgjHRzAHBwE4ceI4rkjQ35VFeglio4YZlpAt3AjhnChtYxSrF7Q1z5kF0kYHbVoFayHBTGVmlZ9wZbr//vvZuXMnjuOwb98+nnvuuRWP/eIXv8i73/1uOjo66Ojo4M4771z1+M3CPXQYa8cOxLn9JPlR3HiQQF9ECPDdar0+m4TuuJ+CWGzKLWVBNomIJVZ+5W2CWioGBP3VPvKOz9zYCHEUrfk5hKljX9NB5blpYn/t36coTWvkCSSQKl6LoxnkvCkMxwG9CQf5OorNNFocoIdnM8XbLbTIZ+7kKDgaUUayzdzLKVXPSWki5ccfw9y6FaOra8Vj/OkYdNBTPnOUaPO3E4djZ7eNtva4jhP1MjBG+Y3rtCHqWW29fj/oFn2iimdWkKk+Tj731EV99l+J1EKb0jS80SKVZ6ZIvrX3gtps4+VxDs0fZOdcO6BhdGQwChWElC1Rn+0cYadB6BTdHLoQBOmdALgvvdTYwDaAOlFvPsFkhXDWRRh5AKwdO6hWytQKc8SJTgIq2EE3mukhZECst24jhHOiVAIRx5jl81vWKmmfIPbYZubpL+7m8fHHGxhh8/nGN77BXXfdxd13383+/fu55ZZbeP/738/s7PJ1dx555BF+6Zd+iYcffpinn36awcFB3ve+9zExsfY6Xq1GSknt0CGsnTuX7nMXTmFE25BGBRnHhJ6LYTm0ySwOCQpioXEBr0JaBpFtYi6s3H1UmBGa4TFQ7abclicKfBanxi/qeRI3dCFrIdUX1MK2sgkMPcap7Fb2lW4hiH3C0izRJt42ek6kJ5BCx/DqWW1athPbz5FwDcpeiL49QY8zyPHvP9rgSFubmkOvHyllvT7bKt1GAYLJGL1dUJ46wqQ2gB75xGEVK5HeoEgvH2noxKaBUVrDQhuwYBcwpUnKuIkdeomCvUjg9+OWiowefuUyR9va1EKb0hRiLyL3jeMYPUmcG7sveOxbp77N1sJVUJvBTKYQmoaVKxPZJtJqnW5O0kig6wY1b4Zi7JOf1zEG+jf9Qps6UW9O1ZdmEQkDf/wIensHeibDyZPHidHo7OknXyqiS5vEuUYIRussaq8kSlhITcNYfFW2jmUy70+y1exkS3Ev3z7x0Mo/4Ar0uc99jo997GN89KMf5frrr+cLX/gCyWSSL3/5y8se/7WvfY3f+I3f4NZbb+Xaa6/lS1/60lKXw80qnJoiyuWwdu1auu/E9FESYR+W5eHX6mPIsB365FYCfMqsXAet0YJsEmuhCCvvHkVP+tjuFioJn0jTmT1z+qKeQ2+zsPdkKT02joxWeSJFaQVnHuV7iV5u9AdY8CZJeZIws/kX2hD17aNm7eyFAyGQWgmhpXj51Bz06sRajDNjk5u8uMV4pU7NodeXd/w44dwcidW2jVYlUV5idGmMTbyIHewkDobQNB3Taf25MECUtNeW0Qa4eo2qXqOLm2gPc+QMFz3oI5nt4MTT6uL0atRCm9JwUkoWHzhJXPRpe882hHY+JXekOMIL0y9w4+RVSFnC6Kmn+ZqLJaJ0i2XYCHBMgYwXmYtL6DmBvfcqqi++2OjILit1ot58ZCSpHpjF3p3FO3wIc8d2pIwZGzpJWc/Ql01QLYMUIQ65eiMErXUbISwREKYczMKF2+IW9IV691GZYnhimFqoirQD+L7Piy++yJ133rl0n6Zp3HnnnTz99NoaR1SrVYIgoLOzc8VjPM+jWCxecGsl57pH27t3L913ejFEQyebigiq9VpspuXQG29hUcw35bbRc6JMCi2MXjdOXk1Lx0jp0Ol3UbAF46cuvr5h4pZeorxH9aW5SwlXURqrMA6LQxyubaVLT7LgTWHoFrHdOheCL0VoZdBiHyM4mwXbbqDFEYsnRpCagH6D3W038coPv9fYQFuUmkOvr/JjjyMcB/vqq1c8xp+KQYDRHjEXTpP1dxKHo1ipdEt3G321KGFhFN1VL6gtETBvL9IdbceUFugeUpNo7QOcePZJolDVYFyJWmhTGq7yzBTugTnS79qK3n5hHah/OPkPbM/fjO7OohsGeroNzfXRawFhuvWuFjq2DUiKwQLp0MDacyPeiRNELXZiuVbqRL05eafzxOUAs08QTk9h79rNzOQ4cehhtPWia6B5GaTpogeV1m+E8CpRWwKjUEW8qth7OREQxB5bjBr9hR08M/VMAyNsHvPz80RRtNSd8Jy+vj6mp6fX9DN++7d/my1btlzwHvBa99xzD9lsduk2eLZeYKtwX3kZvasLvb397D2S+aAbSUzCcfHdCrpp0S36sbDrC21NLEpYxKaBtdr2USdEEyHbK70U2yosTowSeN5FPY/R6WDtzFB8eBQZq6ZASos68wgeguvzbyGWMX5xmjDbevPTNys2EsSahenWF8y1bDumv0jW05kuuoitFgm9jdmnjqmmCBdJzaHXX/mxx3Cuuw5hmise409E6O2C6uxRhow27FqIlD52qm0DI728oqSNiGP06touLC/Yi4CgS38Le6wqJTtHJejAq1QYemlzJ4xcCrXQpjSUN1wg/+0zODd0Ye9tv+Cx47ljHJ07yvVTN9YLUHZ2IARYi2WkEIStltEGkEiDsCm608RSonVdA1Ju2qw2daLenCr7Z9DbbfyxEyA0zB07OHH8KDWRoK+rg/lKDitqx7BD9LBMrG+OVHmAIJNASFnvrHiW1pZk3ptgmyUYXLyObx79lwZGuHl85jOf4etf/zoPPPAAjrPy+/WnPvUpCoXC0m1sbGwDo7x07suvYL0qm43yDNV4B6G+iNAkfrWMYTv0x4NUKeOK5us2egEBYTaJNV9Y8Wq3EKAnXVLVLRQyNZAxM2feRFbbrT1ECzXcQ829+KgoKzrzCE907OD28m4W/WmSFZcok2p0VBsqtDIY3iJC1hfSpFEEvZ1XTs5AViN2JFsN1RThYqk59PqKSiXcl15avduoK4kWJEa3xszws0TR1UT+KQwrgW6svDjXaqKkjRQCs1hd0/GhFtWbIoh99Mc5FswyWqmPbN8ARx5/+DJH27rUQpvSMFHJZ+FrRzF6E6TeMfCaRyX/cPJ/s2f+Hei1UYQAo6sHAHOxTJS0W7Kbk9QtdMMk8ueZjlwqeQe9q4vqc883OrSmdKWcqG+k2AupHVrAvqqd2ssHMLduxQ0D8gvTlM12uttsigW/no1jVhEyJjY2z9V5aRrEtomVO5+tIzSNBTlH2khzfeUqnpl6jCBWV967u7vRdZ2ZmQsL1s/MzNDf37/q995777185jOf4fvf/z43rzKpBbBtm0wmc8GtVcggoHbo0AXbRqdGX8EIdyKMMlJK/GqFlNNBt+wlJ1pjm2SQTaP5IWZx5UVB0SaJowwpmaVqapw+dOiin8fsSWJuTVN6eAwpVVab0mLiGE4/zPe0AQb0LnLePLpuEp3t6nelCO12EAKrWn9/Ex0WQkrCMyMEUiIGbQZT13DkB2r74kZSc+gLVZ58CqJo1fps/kQEAvRsjeloko7KVmQ8j9O2ebLZANAEccLCWONCG8CMM49Dlq1hF0UjRJM6ZvdWTr/4LLXyyqUmrmRqoU1pCBlLFv72GESSzE9tv6AuG8Ch+UOMLIyxd+5q4vAUVmc7QtchlpiLZcIW6jb6WrYFyBqzYQ5tUWBfcy2VNaaAtxp1ot583IPzyDDG2pmmdugw1p49DJ85Tix0Uu3dQIysponNClZUQqJtio6jSwSE6QRmrgSvOq8vJmuEccA2zaaj1M1TE5tzTF4My7K47bbbLqjtcq7Wyx133LHi9/3+7/8+v/d7v8eDDz7I2972to0ItWFqx08gazXsq65auu/A2EFS4QDJpEfo1ZBxxM7E9cRIFltkoS1Knt0+OldY8RgtESBEyM5SP4sZl5mTR4mj6KKfK3FLD8FUBe9U/hIiVpQGmDlIVJ1n2/Q+BAI/P0GQTTZ1DcbLQmiEVhbLnUEQo6dSGGGO9tDhxEwZthgIoWFMCHKTqij/Wqk59PoqP/YY5rZtGN3dKx7jj8XoHYLcmRc4YXRguQWEZmI6my9LNUzZ9Vqsa7zGVTFdSnqJAe3d7LBruGaJnJ9GxjHHnnrs8gbbotRCm9IQpUfH8YcKpN87iJZ8bSqu5IGTD3D17I8hvJOAxOypZ7yZhQoijlt6oS3hmIBBNZhEjwXWVfvwjh0jXFxsdGjrTp2oN5/KCzOYW9MEwyeQvoe+cyfDZ05SEFn6synmy/Vto2YyRPeLxIaz6U4agkwS3QvQX9VxSU+nWfAm2GpG7Fm4mb8++I+NC7CJ3HXXXXzxi1/kL//yLzl69Ci//uu/TqVS4aMf/SgAH/7wh/nUpz61dPxnP/tZfvd3f5cvf/nL7Ny5k+npaaanpylv0qud7ksvgWFg7dixdN9kCQQ6bUkPv1pGIBg09pIXC0Ti4heiGkJA0J6sL7StUD9NaGAkqiSrA+TbahD6TLyJpgjmlhRGt0PpUdWVUGkxp37IM4kMt1f2UggWcEqLBB3pRkfVEKHdATLGcuvdMGOrTGx2cvLwEFgC2atzdfY2Xvnhgw2OtHWoOfT6kXFM+dFHV902GpXjerfRHkF++hmEfw1xOIqTbts0TRBeLUwn0LwQzfXX/D2TyXnSYitvwWbBKhDPtdG/52oOPfyDyxhp61ILbcqGC6YrFH8wQuKWHqwtr5+QvDJ3kOmFOXYubCfyT2F1diCMesdDK1ciNnVip4XT8q00GGlq1UkqMkRr2wNA5anNWbtCnag3j3DexR8uYl/dQfWFF9G7upiuFInCANfupDNlU1j0691GHdCDEtEm2jZ6TpR2kLqGtXC+4K9mW/XuUkaCty7ezAtzj1EN1p5Sv1l96EMf4t577+XTn/40t956KwcOHODBBx9cqhkzOjrK1NTU0vF/+qd/iu/7/MIv/AIDAwNLt3vvvbdRL+Gycl/aj71rF8KqfybFcUwxGiAWNXTLxa+W2ZK+Gock82JtNXWaRdCerncfXVyl+2gmIo6yZPUeXBNefOriG4kIIUjc1IN3Ko8/od7nlRZy8gd8r3YNW+xBFr0CsWO19vz0EkjNILIyWJVpBDFap42QMdmpGRarPmK7RdroqDdF8Nd+Yn+lU3Po9VE7fIRoYYHELbeseIw/GoMOJfcUZ0yPjlICBNjpTbZt9Kwo6SCFwFrlM/61imaZiljkmvAmFs0QM3TQe7cyc+YkcyNDlzHa1qQW2pQNJWNJ7h9Oomcskm/tff3jSL55/B+4Zvo94L2CpoHZ23/uQcxckbCttdPypW6gGzrEVUa8AsGiiTk4SOWxxxsd2mWhTtSbR+WFaYSlY29LUn3xReyrr+bMySO4RobubBt+7KK5XUirghEWETImMjfh1XkBYSaJPVe4cPtookIYB+yMe8lUO/ju6e83LsYm8olPfIKRkRE8z+PZZ59l3759S4898sgjfPWrX136enh4GCnl627/7b/9t40P/DKTUlJ94UWsV20bPTZ0DMKrkcYCQoBXKXFV9q1UKDV/E4TXiB2LKGFiz6ycbS0SMZrw2VHaykK7izt+knL54l+ntTuLlrEoPbo5awMpm1A1x8LYC9w0dQcgiGZP1bPZWnh+eqkCpwtkhFWdwTRtRJwjoXdx4NQMtGtEScku60aOP70557uXg5pDr4/yI48gkknsvXuXfVxKiTcaYXQLSqcfYoQ94I1jJbJo2iZdLtEFUcrGXLyILrMCxhPTpMQWfszJ4hlVJhYlTrqNVx763uWLtUVt0r8cpVlVnpsiGCuRftdWhPH6P7+nJ5+mOuezbTFFFE5g9/XVa7MBWtVDdwOCTOtn2DiOBHQWgwmogHPzHZQfewz5JurbtAJ1ot54MoypPD9db4Jw9DCyWqHQ1025XCRHO/1Zh+ncPIZM4KQkhpdHChOpb86r8357Ct31L9g+qrW1seBNstUKuXXmNr76yjcbGKHS7IKJCcLZ2Qvqs710+nEy/m6SyQpSxji+TZ+1veWy2YCz20fbsBZKiGD5zyahgZkooZf7KHWYaMQ8+OAjF/9UmiBxUzfuK/MEsyqTVGkBpx7ifxV3cpVzI4tBBeEt4ndszsyXtZKaQWRnsarT9Qt1bTUCM4P/8mGCWKLtdhhI7ubk99RC28VQc+hLV374YRI33YQwjGUfD+ck0oWyNsWMNkt3vh+ISGQ34cXmVwnbEpj5CoQrtBhfRjERUmaKO6I9LNh54skk229+C0ce+xFBrXYZo209aqFN2TBRwaPwL8PY13RgDry+qGTZL/P1Q3/PrWM/SVR7DtM20Dt7lh6354tITSNKt259tnMcywC9Ha82TIzEHLyNaHER9+WXGx2asklVD84TV0Kc6zqpPPkkRm8fQ5NjYKURiTSZhI5XsIl1F92SGN4iobX5ir+eE6UTxIaOM5tfuk9LJJgLJmg3HN66sI+x6kFGCiONC1JpatXnXwAhcK65BqhnZM8UXHQsUikfv1plb9tb8KVHXiw0ONo3xz9bb8p+1Th5LS0TEEuHvfFV5Np8KieeYyJ38duUnGs60FImxR+qMac0v8lnH8CavZFuZwvF0gRhNgXLXEC+0vh219labTM4aQcR1+iOTF4enoc+nciM6C1uYfrUiUaHqlwhgpkZakeOkLj11hWP8c6EaEkoDX+LA9pOdG8GK9GOfjbZY7MKsilELLHypYv6vkl7lBTt7LC7sMIEpWQav+aqpgivoT4RlA0hZX3LqNAFqX0Dr38cyZ+/9BWuG3knTvkIghr24I4Lik/acwXCTGJT/NVKMwlGEsIyk1GFOOhAy2YpfU9tVVPWn5SS0qNjmINtCCOgun8/7lV7yC3MMkuWgUyCmdI0TtiLkfQxgyJaHBCZm/jqvICgPYU1k18q9i4EFBJVgthju9bO7oXrue+Fv2lsnErTqj7/PObgIFqqviA9segSxtuJRRXDriLLNXalb2Jem0GKNbb1ajaGRphN4kzlVu5MljIxjTyZhQ7yfQaJ0Ofr//gDohWaKKxE6BrJt/bivjKPP35xk35F2UhhtcQ3n5rh6vZ91KKQaPYQfvfm7NR40TSd8GxWm6EJAnsBN7mNhaf3EyARexwGU9dy+FtqvqtsjPKPfgSatmIjhNiVBNOSgjbNhDFHT34QZEiifXNnswFIyyBKWNgzK3cYX04xaVOUw/yUvp2aWWbkdJWBPVdz4HvfQcoWne9cBptgyUJpBZVnp/BOLJJ+11Y0+7VXByR/8/Q/0LF/D91zC8hwmnRvG8I5v0VUL9fQqzWCzZLCKwT1HXk649UJwgVJ8u3vpPjgg8h47em7irIWteOLhNNVEjd1U3msfrVpNHQx7CRFmWIga7OY85Eiwk5KDHeBWDOJjdbPHl1N0JlBCyOs+fP1KfT2DNPuMNttybsm382Pxv6JWqhS4ZXXqz7zDPbZbDaAR44fJunfgGFNIwQMhINIIVkQMw2M8tL5nW3oVQ8zv3KWmpVaJKhl2JW6jVybT/f0i3z7pdGLfi776g70Dpv8d86oybrStB75s/8LM+hjV/J65twZ4oROlNycZRbejOBcVlt1BjMDkoh+D/YfnUBsNYmMkMSQRTnXmpm+Smsp/fCH2Ndeg55e/hzSG4pAg2DumxwV16HXprGSHZs+m+2coD2NmVu5RMRypKYzbQ6RkAn6kwkS8510Xnsts8NnmDp5/DJG21rUQpty2fmTZfLfPoNzfSfWjguv+Hmez9984/uknt5OcvEUMhymPSuha/CC45zpRWJDr2e0bRKO6aHpnVRrpwGwrv5xwpkZqi+80ODIlM1ESknxByMY/UnMPofSDx/Cu+Zq5uZnKFnddKZtytEsSW8bmlNDw8f0coRWttGhX3axYxCmHJyJ85N93UkwHY7haCZ7/OtpL/fwl6/8QwOjVJqRPz5OMDmJc911QD0r+/TEC6TDraSTFbRIY5d9A7PhOJEIGxztpYlSDpFj4kzmVj6oTWCIMonJBNH2fpwo4uCT32Vi8eLqrQlNkHrHAP5wEffluUuMXFHW35n9z/PyMwe5pu8nCaXEnTyA17v5Py8viqYTWVms6iwJw6FmzVBq243/1HPkvRD2OAwmr+XQA6p4unJ5RcUilWeeJfnW25Z9XEYSbyiiJod5NhnSt9gHQpLIbt7SKa91rkSEM7XKZ/wySqk2CvI0d5iD6AiOTBRId3Tx0ve+cznCbElqoU25rKKyz8JfHcHocF63ZbRQKPPAl5/FmXRwaz9ARDN0ZgO07gGkdv4qgggj7NlF/M62TdXNybZMpN4JYZ4FXGTQjdHbS+Ef/nejQ1M2kdrhBYKJMsm39lF9/nnC3AIjjo6TTDNRc9janmB2oYgmTex0hFWdBSEI7fZGh74h/O4sZqmKUTzfFMHP6ix4U1ztxPzkyPv4q0NfJpYq01Q5r/LUU/WtKNdeC8DIQgUzzCIJsbMeveUedKEzo002ONJ1IM6Ok4UiWtVf9pDYaiOZOENUsthm3kiuB/YWxvjyD5+/6Mw0a1sb1q4M+e+cIXZbe5FS2VxKuXn++Y/vJd29nWvMaxgvTyNMf1PUDl5vgdMJMsSqzeFkYmJcHGcrT/3gOcQ2m0D3MQ6GeFXV/ES5fMoPPwxRROK25Rfa/NEY6UvmvO8SVt8J/ihO+srJZgPA0Ag6UjgT8xCtfa4bGzbT1gg2JlvbbKKhFFtvvoUTTz9OJb9yt/IriVpoUy6b2IuY/8sjxF5E253bL+gyWi67PPg3B6BWxXd/hCkCOnsMrJRDkOi54Oc4kzmIJEHnJqsXZVhIU4DQGSqNEs5Jku++k+KD/0KUzzc6OmUTkJGk8L1hzK1prIEkhW99i8runeQKOWqJfhKWgW7lcNxtYNXQNQ/Lna1ns4kr4+MhzCSIbJPE2PnsGTPbwUjlKFnd4lr3ZhLFJN8+qerJKOdVnnoKa/fupfpsPzw2RCq4Ec0Yx0ZnW7iTieopMDfHOAra00hDJzG+QpaZAC0VYRkLRKcFPTtvI9JjOsa/zyPHZy/6+VLv2IL0Igr/MnSJkSvK+ojjiH++716INd7T9vMsBDX8mQPU+ts31UXg9SI1g8hqw65OkzRTlFNj1OxOts4WeWr/SbjKpt/ZxbFv/rDRoSqbWPHBB7Gvugqjs/N1j8lYUjseEEYneNLcQlvJRdNMEplNUqboIni97YgwJjE+f1HfV053sCiP8RZrgEyc4mTFR2g6L//gXy5TpK1lc8wAlaYTVQLmv3yIcLpC5n070NvO166Iwphv/6/nEX4N6T6FaRi07RggQZla+sIto5oXkhifI+hsQ1qb7+qCZZTQ9H7K1eNIJNbudyGjmMVvfrPRoSmbQHX/DOGcS/LtfZSfeAJ/cpLhpEk608GZss5gZ4LpxTmsOIOdDrHLk4AkcLoaHfrGEeD3ZLEWiujlei02YehUEj6L/iw3JCU/OfRzfP65P1I1oxQAZBhSefIpEjfeCEAUxxyceIVssJtsYprB6g6kjJgIhy5o6NPSNPB7MtgzebRasOwhQaKTjH0QgcQYTsOurfSWYr7/1N9R9i4uM01PmyRv76fy3DS1E+rKuNJ4z/3j3zN+9DDXDfwUZmwxXBhBswOitNPo0JpWYHdCHGDWcnSm2ylZQxSze2nbf5Shao6KVsI+KPBLKqtNWX9RoUD58SdI3H77so/7wyGxC8/o++kv3EIcTZJob0dsmg/utZOWgdeTJTE6h/6qHR5v+H26xVRiBkHANZk2wlMZ+q69lpd/8M+EwfJzhSuJWmhT1pWUEvdYjtk/2k8wWyXzM7swe5MXHPNP//g0VkkncJ/E0HWcPdeRLp8hcDqJrFdlrcWS9PFxJKJ+xXATStgg9D5kXGEyKhBMm6Te+U5yf/lXxJ7X6PCUFhb7EYUfjGDvzqInYvLf+Dty1+yh7FaoJPoxdIGTzOG4g2B4WKKAWZsjcLqvmGy2c4KONJFtkhw+X7Te6u7iVOFF0prBrcHVpOeyfG9IXXlXwH35ZeJSaamD2UujeXrjNDEe3akkvX4fp0svoyfMBke6vvzODOiCxNjyGWqxmQZTI912mrgM6erVuG0G18yN8RdPPn/Rz+dc14m5NU3um8eJystvWVWUjTB16jhPffNrDO7cxzXyGk5UCyQXT+ENvD5LRjlP6haR2YZdmcLSTFIZjao+SrHzeoJHnqOcXiCht3HmLx5rdKjKJlT83vcgjkkts9AW+xL3YJVKdIhS7e3I2mEMK4GVuHJqs72W39tOnLDIHB1Bc9f+meumupkRB9hrdjOodTLkCqqFPCeefvwyRtsarqyzKeWy8ifKzH/pIAtfPYyWtmj/4B7MvgsX2V546RjaqEM1eBSTGGvvTaQrQwgktfS2peOEH9J2ZBSjUMHd3gP65vxT1S2LSPdBSzBSPE5ckqR+/ANEuRz5b3yj0eEpLaz06DhxJSD59j5yf/3XeFHIsAzo7N3K6XzMzq4kU4uzOGE3dtonUTqD1B1Cq73RoW88AV5fO1auhLlY76yoOQ5uMmaqNsT1CcFPj/xb/uCpzxHFa+/KpGxOpR/9CC2bxdq1C4B/PnqIbu9tOMYJdvvXUY4LTLlDmE7yDX5Si9EFXk8Wezq/Yq22wOkmEQ5hDgTEOchkbyHp6SwOPcCRqYvrMCiEIP2ebchQkvtfx5CRyihVNl5Qq/HP991LT98u3so7mPQLuOVJRBvEzuZaTL8cAqcLLfYwagukzSxGxqNqjJPrupn8868wUz5IejpF/rmL71KsKKsp/OM/4dxwPXp7+wX3SympPjmFjCQPkydZDZBxiWR75+bJQn8zNKju7EUiyB44jZmvrO37hGC6DcrxOG9t66Z99iqcgX5e/O4/XvE7QTbn6oWyoWQQkf/OGWbve4kwV6PtfTvI/MxO9PSFrc4X80WGHstTDp/G9stYu6/DiQtY1Wlq6e1IYWIUXVInJ+h47gRmsUJ1Z++mT8s3rQK6vp1a7TRVERDmsqTe9S7m/+RPiYrFRoentKBgrkrpkTESN3ZTffYxKs88w9g1u9B0nYm4HdvUMZw5UtXdCMMn5Z9CxAFecuCKrTUTZlNESYfU6Wk4WwvW7u3jVGE/kQh4p95H3/gu/vHUtxobqNJQUkpKP/ghiVtuQWgas8UaxfwCdpzl5lQSJ05wLP8sZiKxKbef+F1ZpKGTGppe9vEgUc+ITYgRtD6QC23Q3sPeGcGfPPM1/IsotAygp0za3juId6ZA/tunr/hJu7LxHv3aVygtzLM9fQcRkqFKhWx5eNPutFhvUrcIzTR2ZQqBpN3uxsy4VI0pZnpvIz8/ymx1hMLfn2T2j75CMHPxNR0V5bW8oSHc/ftJ/di7Xv/YK7ME+S72i+doq9xM5B/ETrZhWNYyP+nKIg2dyp4BYtuk7ZVhEsMzS3Pi1cRWmjH7OJaQvLWth4Lbw+zwGcaPHrr8QTcxtdCmXJJw3mX2/pcpPz1Jcl8/7f/uKuwdmdedYMhY8u2/fw7pn8aqTWAOXoWZsEgtHiFwOpB+gsyB02QPnMaaL+F1ZyhdvY2obfN3cko5II1OEDrHiqfwJyVtP/1/ENdqzP3xHzc6PKXFyCgm93cn0FImce0Ui3/zNUo338hsKU+6bxcTxZCr+hLM5hZxoi6SzhyWN4+f6EPqV/DVeQHu1k60ag1nsl4MVnNstI42DueepNsQfGz233Lfk/dRDVQ9mSuVd/w4wegoybe9DYB/PjTCjvAaMuY0W8TVTDFG0ZvHSWcaHOllokFtoANroYiZK7/uYanpBE43TnkUvT1Ea5fo3l7MSGdL7iR/8uSjF/2U1tY06XdtpfLMFKUfja3Hq1CUNRl+5SVe/v53uf76D7An3MpQpYBTnSTscTbtTovLIXC6EbGH6dabqWStbqyMS83IMdfxFqYZpRpVqJ7u4PRP/xwTv/1J/DE11pU3L/9330RLp0m+ptuof6aEe6adnHyWOXc3MjiEQJLIdjQo0iZkaFR39eP1tZMYnSdzaAgRvPFujnK6hwnxHNusDG819xE7CZ7/1j9sQMDNS31KKG9a9ZU5Zu57idgNaP/5PSRv7kFoy1/B//p3f0g6VwH3EHrvNszObtrm9hMLAxZTZA6cQQsjKjv7KF+7Db+/HYwr489TMwwwFhD6Vgrlg/iE+FMpsh/4AIt/8zXcQ4cbHaLSQgrfHSKYKCHikyz+xRfhphs46ZXp7O7nYE6jr82mGo/Q7l6PZrqk3aOEVvbC+ohXqDhhEXRlSA7PLtWnsHr7KMY5TtUOcZXl8Kunf5n7X7q/wZEqjVL87nfR0mmcG26g7AUcHD5Be7iddySyuFqNM7n9GHYCw7IbHeplE2ZThGmH1KkJWCZDzUv1QxyTKA+j94OWsNDNreyaSnNk8X/z2KmLP4F2ru0k+bY+ij8YofTY+Hq8DEVZlVsu8eCf/CGDO29lT3EHQ/EMec8jHUwRdFx5XQkvhdQtIiuDXZlEyPoJe8bqwMgWCUSV+WAbJ2v7kXaa1E//f6k8/iRn/s3PMv/FLyIjVa5BuThxtUr+7/+e1LvfjXhVllq4GFJ5WRBHB/lR7JHwbWJ/hEQ2i6ZvvoZ7l0SA35eluqcfvVwje+D0io2QlmiC+YzDXPwSN6a72Om8l6GXXmBudHhDQm5GV8ZKhrKuwoLHwteOkvvbY1hb02Q/uBeja+XMs+889wTWkUXC2jPoXf1YW7aTnt+PFgcwnyE5MofXm6WydwtRJnFFbl1LOxU0YxApJIdLJ/HHIhLveB/m4CBTv/M7SF8VglbeWOmxccpPTRLNPk/pe/9A8j3v4XhCRzN0prUeIhmzo09QWbQxZIIO+Qqx7uAn+hodetOo9XcgTY30iXGIQeg6zuB2xgqHGa6d5r3hXvSHXI7ljjU6VGWDySii8K1vk3z72xGGwT8dGGFndBU3pjxsLcmZ+Ci+VyWRyTY61MtLQG1rN5ofkhqaed3DUjPxk304pRE0WcPYBsIYRJc6e2YNvnrkSwzNly76aRO39pC4tYfCPw9RfERluyiXj5SSh770J8hazDXae6iIKhPFmExpGG9L9oqcp14q3+kBYuzKxNJ9GaudODMPSPJxL4fyT4DMkvml/0n6zjuZ+9wfMvZrv6bKqCgXJf+/HyCuVGj7qZ9auk8GksoTBUQ0wz/ox+itvp3Yfw7dsLBTm/wz+xJEKZvK3gFEFJN55Qyat/piW2wmmEzMU4hPs6/9BvqSV/PQ17+8QdE2H7XQpqxZXAspfH+YmT94gdqpPOn3DpL+yUE0a+WrAN967kdUHjpA5L2E1r0Ve3AHmbkXMIIKcj6LPVOkuq27nsF2BU9cDNtCmnMIYzuF8gEKsUf1YEzn//NX8U6fZu5P/qTRISpNbvGfDlD45yGCsWeIS6fp/JVfYcjWKeQWMLp3M5r3uX4gw0RujKy3l5QxjCFcvPTWK3rsvY4ucLf1YBRcEmP1bS56MkFi2zbOLD7LcHWIf194Lz/462/gRaoz8JWk/NhjhDMzpN7zHhYqHgdPn+ZmbTs7zTST5ijzs6exnCSmvflLHsS2gdffiTO5gDX/+pNgP9mPFBrJ3DEwwdhmoelb2TWdwhYT/M/Hv8z44sVtwRZCkHxbH4m39lJ8cJjCvwypmm3KZXH40Yc4/cyz7Bv4DyQkHC8uYnp5jGSZeJN1E94wmk5gd2O6sxjB+W3nnYl23MQ0GhkWRZIji88QTgisa/8dPb/1/8E98DLDv/RLBDOvX9RXlNeKfZ+Fv/gSydtvx+jpAeoL55Wn5ogDnSeNJ+lw342MThKHRZKdXVd2A4Q1kJZBZfcAIpK0HRp5w22kfrqfMf1linKGd/V+AP/wPBPDJzYo2uaiFtqUNyTDmPKTE0z/wfOUHh3HuaGLjn9/Nc7e9hWLPZeLJb7y1T+h9r0fIcIZtK3XkOrrIDPzDCLykLlOrNky7rYewk6Vgg+QTZTB6ENqFkfyzxMtSqS/lezP/zwLf/5Fqvv3NzpEpQlFxSITv/vnVJ4uES4cJnFrD+3/5//JWDHH0OljtPXv4uXZkN3dafx4jlTxWjQtT5ohaqltINTHwGtFKbtem2JkZqkOlZHNkhjczpniMwyXT/Fvp36SB/7qz9WJ/hUk91d/hbV7N9aunfzZIwf48fjt3JTQyMvTjOaOIuOYREd3o8PcMH5XG0F7ivSxcYyie8FjUtPx0juwanNYlSm0NjB6BkEK3jF1HXHyZT790Jd5ceTiO5Gmbusjta+f0qPj5L5+HBlcXIMFRVnN/Ogwj3z5S7xr8JfJSIfnvSGiQJCtnMLvVXWcLkXotBPrCZziaYQ8nxnTl8lStCbRta3MSJ9jhefwzkSElavo/dR/JSoUGfl//AeCiYlVfrqi1GuzhdMzZH/+55fu846WCXJZxnmYee8abN8irh3FTrVhWpu74d56kZZOdVcfuuvTdmzsDRsk1Np3MiUephgXeE/fL/Kj//uvr8j5sjrDUlYU10JKT9QX2PLfOYO1tY2Of381qdv7V8hik5w6M8bffeUv+c7/fQ+p0UnQ+3H23ECXOUNmbj9S2Ii5dqyZIu62bsLO1Ia/rmYlLJu0NYxuXkfNG+NIdZTq4ZDEvn+NvWcPE7/1Wyp9XrlA+YknGfnop4n9a0CbJ/NvbsS57lomx4Y5eOA5El1beClnsLXdobstxJ/pQRDSJV7BS229spsfvAG/N0vYlqTt2ChapZ65ZmSzJHft4Uz1AKPlE7zr+K388//68wZHqmwE95VXqD79DG3vfz//9NIQNxQH2JdMUolGOOmfplYukOrsRr+S6rwIcLd1EyUsMgeHMBcu3A4aOO0ETiep3BESM5O0uZMYxhYS0wt84OReOnmRP3rpj/j8j14iX7248giJm3to+8lB3EPzzP7JAYI51aBEuXRuqci3/+D3eWf3/0FWa+eZ4DiimqEzd5RgS0adNa0DL7UFIWMShVOIV52tD3RkKJjTaPpOJkOfg4tP4E0ElA9m6fr4f0UGASO//GG12KasKFxcZP6++0i9+92YW7YgpaR2MsA9blGOn+JJ6dDpXY8Mn0ZogkS2s9Eht5TYManu6MFYrJAamlr1WKmZuNldzPJdFsI8P2HdyYP3XXmLbUJeaa94DYrFItlslkKhQCazSTuHrUDGEu9Mger+GdyD88goxt7dTuLWHoyO16/6B1HIo6dP8fLRw2SOHyZbc0HoaPp2hJWls+0ElswTaSZR3I09VkWveriD3YTtapHtdWSMV4hwawYyHGFv90+zzW4neWOV+f/ffyV5xx1su++PVswk3AitMD5aIcZLIcOQ2T/8PKVHRnBu+vfonSHOdQ5CCMZHzvDS808gkl2c8DsZ7EwykBHkJkw0BD3ai0TpbmJj829vu2SRJHV6EiQUb9lN7NQXJmUUURma5hp7L/2J3bw0+Dgf+PVPInSjwQGvTbOPj2aLT0rJ6Ed+hWBiglc+9GvoRw1us7tZjMYZ8V8kl6+QaGu/cruWRZLE2BxmsUrQkcbvzCANDa0WYBbKGIUKQoI0NHw7xbQToOFw0+gkp/tLPPgWjUJ8Ez+x7V/x727ZS+YituaF8y6lH40SVQIyPzFI+t3b0OzNvdjZbONjOa0Q42sFXo1/+u/3cK33Fmwjy4v+MLGboDN3BK0trJc4UdaFFtawy+NEZhq3fS/y7AqmBGbzNRJeOyJycRjj+vTbyFo9yI4K3g/+BGSVHX/9V5hbtjT2RVyCZh8fzR7fSiY++SlK3/8+W+65B2FlqbwcEE5LytFTfFcrsrXyUxA/h18Zoa1nANNW2WxvhjVfwplcoLJ3C7Utqy9Wmu48VmGClP8OdqT2Mr21wls/diea0xrz5ZWsdYyohbZltOobzJslgxhvuIB7ZAH30DxxKUDLWDhXtWNf04meeu2kV3J4/jj/+9gPKUwc5S2n2zBDgYaFMHeh00GmMkGqPAFCIi0dItDCiChh4W7rJk5Yy8aigAg93KKBW6sCBa7tfh/9Zgazc5zFL/0ePf/pP9H9//61hsXXCuOjFWJ8s4LZWSbu+m2kvB5z8B2YWwXWzvqJ5enjhzly8EV8u5NxeriqL4kgTzzfD0R06S8Rp3qQxubtiLjeRBCROjOFRFC8edcF712VyQpXR31sSe7iGfFDfur/9ZN07HlPA6Ndm2YfH80WX+Gf/onJ3/4kL77/V9lj3MKg6TAVnmG28iwLVYmdypBsv8LrvEgwChXs+RJa1UMgkYZGmLCJUja6ngcjpta2nWpo486eQrdvZKBYI108wT/fusiJrYK4fD139P8kP3vDHrZ2JNf21GFM9cUZ3EMLaI5O6o4tpPf1o2c25/tcs42P5bRCjK/mlcs88X/9NbvDq6kScdidxw8jeheOYOge1V39qpbpOtNCF7sygdQs3OweIv38xb+iGxIWLey4DY/D7DS62Zm8AUMzKc29iDnxODu/dB/W4GADX8Gb1+zjo9njW07hu99l8r/8Fh0f/Y/o3fvwTkcgAob9b/OS3EZP7a1oHKRWOkoi20miTTVAuBTORA5zoUT5+kH87tX/RuzKBPFiHqO2jWva34GXiNj6oZtpu653g6Jdf2qh7RK04hvMxYhrIf5YCW+ogHemgD9WgkiipU2sHRnsPe0YvYnXZU3la0X+5fTjPDf2BAPjBttnTLTIBZFE17dhGQ5mooaRCEDG6K6PXgsgDEHTiJI2UcpRk5U10IMKbkmn4laBKru6f4KdRg/IM5S+9QdsufezZP/Nv2lIbK0wPlohxjej/OTTzHzu7zC334nmpLGvMjF7NQLf5+UXnmZyYpi80UUlmaCzPY9fEXRWbwVRotM8TpTqAW1zZ3tcDsKPSA5NI2JJ6YYdhJnzJwReQbKtmGFncifDtZPMXvV9Pvjv/wdaz9UNjHh1zT4+mim+2smTHPzljzNx4y9zQ+cODCGZCJ5ntnSasg9OW5ZEpvPKXmR7LXn29uptdjLGqk7VGyEJg7xvUvFCTOdtCHM3WhSAPsehvtOMZk/i+n10atdzx7ZbeOfuAbatYdEtKvm4r8zhncwjI0nipm7a3r0Va1vb5XqlDdFM42MlrRAjgAwiZh86Rv5HoyRFiuFwhslKjKfn2Tp9FE1IKnu3gK4G+OUgIh+7MoWIfYJkL57Th9TrF7PCWJLPSxJ+O5GooFmj7NG202fuRMdgKvccqZ/Yzt4P/iyJdGuN8WYfH80e32tV97/E6Md+neQdv4TW/laQUHAmebZwBMN/K2aUQhf7qZWGsNMZktkr/MLYepCQGJvDKFQpXT9I0PXGi23uTJ7IS3Bt57+i00iSH/TZ/oFbyQx2bVDQ62dTLbTdf//9/MEf/AHT09Pccsst3Hfffdx+++0rHv/Nb36T3/3d32V4eJirrrqKz372s/zrf/2v1/x8rfYGsxwZS6KCRzjvLt2CeZdwziXK1QAQjo7Zn8IcSGFuSaN32EuLa64fcnR2miOzI5zKn2GxeIqBhZiBXJKEWwEiNJHFkQnsNgsyBkI0/Z9SS9FDF78YUHRDpCzR0XkrtzrXQLBI9ak/o/93Pk72Zzd+se3NjA81ht88KSXemQVyf/UQYTGDsFIYHTH2XhvNEUxPjvHSC0/j+z7zto3MzBEg6XFvIhnuwBLTpNLzRFZrTUSbjQgjksNzaK5HdVcftS3dSwsJMhY4Uw7XWoMgJS9FB1nYfoB/9Z6fYdfNvwBNVgvvYsfHlTh+41jyLw88RvTN/WzZ8hb6LZ35KMdU6WEWah4SjVRHF1ZSNfO5GFpYQw/KiDigUAlw/YiUkyYR9hNFA1SS3cSyQsk8ics4ZlDD9nU0qSHsBH1btrFt11769l5FtqeX5a7cxX6Ed2IR9/ACcdHH2t5G8q19OFd3XDDPaVXqM/jSRSWf/OOjFJ4Yw4w0prwJRoIafuygy2EGpsaJbZPqrn6koS5OXVYSDC+H6eVAxkRmisjM1v+rO1QDE6+QwJJJqsY0iUSV6/VBOuL61tGh8kEK7Xl6btnLjltuZWDvNehGc29LU5/B66f08BPM/fG3MXf/FBgOU0aRE+UcejAAUhJzGhGcJvTqJR6cTIdaZFsvEhKjcxjFKtXdA/VtpKv8bo3qHNXxaTxfpz/zr9iebCMtTA61j1J4W8x1N9/MDd03ordAQsCmWWj7xje+wYc//GG+8IUvsG/fPj7/+c/zzW9+k+PHj9Pb+/qUw6eeeoof//Ef55577uFnf/Zn+du//Vs++9nPsn//fm688cY1PWcrvcHEfnR+MW2hvpDmT1eI5tzznbg00Nss9IyN3m6jdzrEnRbjUY6xycPk5ieolit4bkTsCghARAIziDCDCMtzEXG9o5gQKZzIJh35iE6HMKtO3i8nEYfIUpnFqo6M5rGT/dzS8Q5SUYJw4gWc6xL0/uePoCfXtsVmPVzs+FBj+OLISBIuuASTZbwzi1QPTCF9HelXEE4ZcUMf016NialJFsdOINwckSEpZMpEop0ufwAr3IkmIOHMoiUCNalYLzE40zms+SJB2sHd2U/QkV6aWMiKxkC+ja32VmIZM+rlOaWFTBoLRFZIZFuQSOHYBqmUSW9PisEd3dx01dVkk+f/TmPXJSqWQMZoiQRaJrOuiwMXMz6utPGbd8t89Vs/pO+xHFdZW+mzErhxlaHifmZqYwghsFMZnLYs2pXU+OAykBJq5QK1Yh4pYwSiXij57J+6EGnQ2pC6TqCFxLiIqIYZ+ggpkYkEzs6tbLnuanoGt5KxsmSddnRR/3eRscQfKVI7liOYKIMELWNhDbZhb89gbW/D3JpeoblT81KfwRdvIp/n+MkJqqdytJ8sMVhJIWXEtDvEWG0BX9uGLvP05E5hejWCzhTulm7Q1IfnhpESPSjVb2ENIaP63QDCoCgHqMTb0WSSWPjoWoHdZOhN9GMaCcrBItPuEIV4AWcgS8c1g/Ret5feXXtIZpprm6D6DH7zwjhkKD/EqedfpPNfpug3bkDoFuP+DOPVeYLQJaKIkCVk7IGUGJZNItuparJdDhKcqbPz4o405d0DxKmVyzZoXhV39Ay+JzGSe+m338KgZZDQBIu4HHZGme5zufrma3nvbT9Gwtm489uLsWkW2vbt28fb3/52/viP/xiAOI4ZHBzkN3/zN/nkJz/5uuM/9KEPUalU+M53vrN03zve8Q5uvfVWvvCFLyz7HJ7n4Xne0teFQoHt27czNja2oW8wUkqIJDKKkaEk9HwCzyeqBkTVEKoxeiUiKgUECxXCOReq5zv2BNLHDUpUoxKVsIAbV6kKn6oGgW4RYxALHU3q6LGGFYAW+ci4hIxLIGuvichEw0SXJlakkYgDdAfCjsxSUXBlg3guxZJG5C0gkPRk9rLL2o1tpIj8MoGcROsMSO7qx9m1ncSWbejZDJqjI/T1bZNVLBYZHBwkn8+Tzb7x5OVKGsNrIaOYuBIQFjyivEeY94jO/r+/UCVe9DmXHBp6JfzyAgt4DCctvNBDDwrowTzIKggHaQ0g9G50Wf9g00SIaVcxnTKaFjXwlW5eesXHnllEr3pECQOvs50okyBKOsSWgeZGtOcT9JtbcIwUoQwphWWqkU9Nhnjx2VsYn/06wA9yOP4iiWoeO3ARsY8ex5hhhBGHJNM2mS29dO69muRVV2Ft24bRP4DR1Ym4yAWfixnDrT5+YxlT9MrkqiWKnotXKVLNF/Bni3izJeS8j1XRSHoWbXGCNj1N0qg36in5OSbd0+T8cXTbRHfaMB2n5TOimk0cx4SeRxQFaLEksVghUQ4I02m8tjSRbhIJBx+HCBtCA6IiMlpAxjmQAZGmU0mZlBMxQdoikWknm2zHEUlkLYZyRKZmkQ0TtJMkEyfQpYYUYHTaWH1p9E4HPWuhJQyEpSNMDc3SEY6OZhsIW0cYGqLBiy9X8mewlJIgCqgEPlUvoBbGSAlBEFLJlSlMLlIZnYXZMomyIB07tAmbtOFgavUsp6K/wKw3xZzvEmtdJLwyyeoUdlwiTNn43Z1qjtsERByixQHEAcRRfeEtjvFkknLcRhynQCYwYpt206FDt2k3NBz9/Ht0EHtUggK1uEykecRGQGz6CDvGytpkOjMkO7uwO3qxewZIdHagJ611nze/1pX0GbxWMpbIIEL6MbEfUsoXGBsfY3xsmPz0HCJfIVMz6RRZus0BUmaWIPaYcYcZr5zAj32EEGgiRjMMhGmjGxambaObqi745aYXXZzpRYQfEmZTBJ1thG0JIsdEmhfOUWUcE06N4RUq6DrYiQxJ8zo6tF7adZvE2c/YiJh53WUh6RF022S3dbFlWz+9Pe04jln/LNaofy5f5jH7Wmsew7KJeZ4ndV2XDzzwwAX3f/jDH5Yf+MAHlv2ewcFB+Yd/+IcX3PfpT39a3nzzzSs+z913332uooi6qZu6rfE2NjamxrC6qVsL395oDKvxq27q1rw39RmsburW2jf1Gaxu6tbatzcaw029iX1+fp4oiujr67vg/r6+Po4dO7bs90xPTy97/PT09IrP86lPfYq77rpr6es4jsnlcnR1dbXcletzK6zNmMlzqTbra2u11yWlpFQqsWUNrdU3+xhutX+71WyW16Jexxtb6xje7ON3M9ss46CZNMvvVH0Gr02z/Hs1K/X7eWOX63e02T+DN/PflnptrWm9X9tax3BTL7RtFNu2se0L9xO3t7c3Jph1kslkNt0gOWezvrZWel1r2a6ykRo9hlvp3+6NbJbXol7H6pppDDd6/G5mm2UcNJNm+J020/iF5h7DzfDv1czU7+eNXY7fUTON4cs1fjfz35Z6ba1pPV/bWsbwxm5ovUjd3d3ous7MzMwF98/MzNDf37/s9/T391/U8YqiXD5qDCtK61LjV1FamxrDitK61PhVlNbW1AttlmVx22238dBDDy3dF8cxDz30EHfcccey33PHHXdccDzAD37wgxWPVxTl8lFjWFFalxq/itLa1BhWlNalxq+itLhVK7g1ga9//evStm351a9+VR45ckT+x//4H2V7e7ucnp6WUkr5y7/8y/KTn/zk0vFPPvmkNAxD3nvvvfLo0aPy7rvvlqZpyoMHDzbqJWyoWq0m7777blmr1RodyrrbrK9ts76uczbzGN5M/3ab5bWo17G+NvP43cya5e9nM2nV3+mVOoZb9d9ro6jfzxtrht9RK47fZvi9XS7qtbWmRr22pl9ok1LK++67T27fvl1aliVvv/12+cwzzyw99p73vEd+5CMfueD4v/u7v5NXX321tCxL3nDDDfK73/3uBkesKMqrqTGsKK1LjV9FaW1qDCtK61LjV1Fak5BSykZn1SmKoiiKoiiKoiiKoihKq2vqGm2KoiiKoiiKoiiKoiiK0irUQpuiKIqiKIqiKIqiKIqirAO10KYoiqIoiqIoiqIoiqIo60AttCmKoiiKoiiKoiiKoijKOlALbZvY8PAwv/qrv8quXbtIJBLs2bOHu+++G9/3Gx3aRbv//vvZuXMnjuOwb98+nnvuuUaHdMnuuece3v72t9PW1kZvby8f/OAHOX78eKPDUi7B//yf/5N3vvOdJJNJ2tvbGx3Omm2G8fXYY4/xcz/3c2zZsgUhBP/4j//Y6JDeFPW+oFyqzTCem4kak61tM82F15N6n1iZGvPrp1XnxcvZrGNms8yfl9PosawW2jaxY8eOEccxf/Znf8bhw4f5wz/8Q77whS/wO7/zO40O7aJ84xvf4K677uLuu+9m//793HLLLbz//e9ndna20aFdkkcffZSPf/zjPPPMM/zgBz8gCALe9773UalUGh2a8ib5vs8v/uIv8uu//uuNDmXNNsv4qlQq3HLLLdx///2NDuWSqPcF5VJslvHcTNSYbG2bZS68ntT7xOrUmF8/rTgvXs5mHjObZf68nIaPZalcUX7/939f7tq1q9FhXJTbb79dfvzjH1/6OooiuWXLFnnPPfc0MKr1Nzs7KwH56KOPNjoU5RJ95StfkdlsttFhrMlmHF+AfOCBBxodxrpQ7wvKxdiM47nZqDHZ+lpxLrye1PvExVFj/tK10rx4OVfKmNlM8+flbPRYVhltV5hCoUBnZ2ejw1gz3/d58cUXufPOO5fu0zSNO++8k6effrqBka2/QqEA0FL/Pkpru5LGV6tS7wvKWqnxvDHUmGx9rTYXXk/qfeLiqTF/ZVNjZvPY6LGsFtquIKdOneK+++7j137t1xodyprNz88TRRF9fX0X3N/X18f09HSDolp/cRzzn/7Tf+LHfuzHuPHGGxsdjnKFuFLGV6tS7wvKxVDj+fJTY7L1teJceD2p94mLo8a8osbM5tCIsawW2lrQJz/5SYQQq96OHTt2wfdMTEzw0z/90/ziL/4iH/vYxxoUubKSj3/84xw6dIivf/3rjQ5FeY03M94UZT2o9wVFaS5qTDYPNRdWNoIa86+n5sVKK2rEWDY27JmUdfNf/st/4Vd+5VdWPWb37t1L/z85Ocl73/te3vnOd/Lnf/7nlzm69dXd3Y2u68zMzFxw/8zMDP39/Q2Kan194hOf4Dvf+Q6PPfYY27Zta3Q4ymtc7HhrJVfC+GpV6n1BuVhqPF9eakw2lytpLrye1PvE2qkxv7zNPC9ejhozra9RY1kttLWgnp4eenp61nTsxMQE733ve7ntttv4yle+gqa1VhKjZVncdtttPPTQQ3zwgx8E6qmfDz30EJ/4xCcaG9wlklLym7/5mzzwwAM88sgj7Nq1q9EhKcu4mPHWajbz+GpV6n1BebPUeL481JhsTlfSXHg9qfeJN6bG/Oo287x4OWrMtK5Gj2W10LaJTUxM8BM/8RPs2LGDe++9l7m5uaXHWmkF/q677uIjH/kIb3vb27j99tv5/Oc/T6VS4aMf/WijQ7skH//4x/nbv/1b/umf/om2tralff7ZbJZEItHg6JQ3Y3R0lFwux+joKFEUceDAAQD27t1LOp1ubHAr2Czjq1wuc+rUqaWvh4aGOHDgAJ2dnWzfvr2BkV0c9b6gXIrNMp6biRqTrW2zzIXXk3qfWJ0a8+unFefFy9nMY2azzJ+X0/CxvCG9TZWG+MpXviKBZW+t5r777pPbt2+XlmXJ22+/XT7zzDONDumSrfRv85WvfKXRoSlv0kc+8pFl/00ffvjhRoe2qs0wvh5++OFlf/cf+chHGh3aRVHvC8ql2gzjuZmoMdnaNtNceD2p94mVqTG/flp1XryczTpmNsv8eTmNHsvibBCKoiiKoiiKoiiKoiiKolyCK7dIgaIoiqIoiqIoiqIoiqKsI7XQpiiKoiiKoiiKoiiKoijrQC20KYqiKIqiKIqiKIqiKMo6UAttiqIoiqIoiqIoiqIoirIO1EKboiiKoiiKoiiKoiiKoqwDtdCmKIqiKIqiKIqiKIqiKOtALbQpiqIoiqIoiqIoiqIoyjpQC22KoiiKoiiKoiiKoiiKsg7UQpuiKIqiKIqiKIqiKIqirAO10KYoiqIoiqIoiqIoiqIo60AttCmKoiiKoiiKoiiKoijKOlALbYqiKIqiKIqiKIqiKIqyDtRCm6IoiqIoiqIoiqIoiqKsA7XQpiiKoiiKoiiKoiiKoijrQC20KYpy2d1///3s3LkTx3HYt28fzz333KrHf/7zn+eaa64hkUgwODjIf/7P/5larbZB0SqKoiiKoiiKoijKm6MW2hRFuay+8Y1vcNddd3H33Xezf/9+brnlFt7//vczOzu77PF/+7d/yyc/+Unuvvtujh49yl/8/9n78zjL6vrA/399znq3urf2rRe62UGgQRQCmJEkKGMyfKPOzM/RGY3moYkG5mskGSOGZRIN/ObhQMxvRHm4MOg4TkjUGCcQFdGWIItA06y9d1VXde1Vt+5+9vP5/XGqq7roql5r6eXzfDzqAXXrnHs/Rzn3nPu+7+Ub3+Dhhx/ms5/97AqvXFEURVEURVEURVGOjZBSytVexMkmjmOGh4dpampCCLHay1GUk4qUkmq1Sm9vL5p25Fj91VdfzVvf+la+9KUvAcn5tW7dOv7zf/7PfOYznzlk+1tuuYVt27bx+OOPzz72J3/yJzz77LM8+eSTR7VGdQ4ryuKO9Rxeaer8VZTFneznL6hzWFEO52Q/h9X5qyiHd7TnsLGCazplDA8Ps27dutVehqKc1AYHB1m7du1ht/F9nxdeeIHbbrtt9jFN07jhhht4+umnF9zn2muv5dvf/ja/+tWvuOqqq9i7dy+PPvooH/zgBxd9Hc/z8Dxv9vehoSEuvvjiYzwiRTmzHM05vBrUNVhRjuxkPX9BncOKcjRO1nNYnb+KcnSOdA6rQNsCmpqagOR/vHw+v8qrUZSTS6VSYd26dbPnyeFMTk4SRRFdXV3zHu/q6mL79u0L7vOBD3yAyclJ3va2tyGlJAxDPv7xjx+2dPSee+7hL/7iLw55XJ3DinKoYzmHV4O6BivK4k728xfUOawoh3Oyn8Pq/FWUwzvac1gF2hZwIE02n8+rNxhFWcRypZNv3ryZu+++my9/+ctcffXV7N69m09+8pN87nOf44477lhwn9tuu41bb7119vcDb4DqHFaUxZ2sJSHqGqwoR3Y05+8TTzzBF77wBV544QVGRkb4h3/4B9797ncfdp/Nmzdz66238tprr7Fu3Tpuv/12PvzhDx/X2tQ5rCiLU9dgRTm1HekcVoE2RVGWTXt7O7quMzY2Nu/xsbExuru7F9znjjvu4IMf/CAf/ehHAbj00kup1+v8wR/8AX/+53++YC28bdvYtr30B6AoiqIop6h6vc6mTZv4/d//fd773vcecfu+vj5+53d+h49//OP87//9v3n88cf56Ec/Sk9PDzfeeOMKrFhRFEVRTg8q0KYoyrKxLIsrr7ySxx9/fPZb9DiOefzxx7nlllsW3KfRaBwSTNN1HUiaTyqKoiiKcmTvete7eNe73nXU2z/wwANs3LiRe++9F4CLLrqIJ598kr/+678+bKDtjX1SK5XK8S9aURRFUU4DJ9+oE0VRTiu33norX/va1/jmN7/Jtm3b+MQnPkG9XucjH/kIAB/60IfmDUu46aab+MpXvsLf/u3f0tfXx2OPPcYdd9zBTTfdNBtwUxRl+d1zzz289a1vpampic7OTt797nezY8eOI+7393//91x44YWkUikuvfRSHn300RVYraIoJ+rpp5/mhhtumPfYjTfeuOjwogPuueceCoXC7I9qpK4oiqKc6VRGm6Ioy+p973sfExMT3HnnnYyOjnL55Zfzox/9aHZAwsDAwLwMtttvvx0hBLfffjtDQ0N0dHRw00038Vd/9VerdQiKckb6xS9+wc0338xb3/pWwjDks5/9LO985zt5/fXXyWazC+7z1FNP8f73v5977rmHf/Nv/g3f+c53ePe7382WLVu45JJLVvgIFEU5FqOjowsOL6pUKjiOQzqdXnC/xfqkKoqiKMqZSgXaFEVZdrfccsuipaKbN2+e97thGNx1113cddddK7AyRVEW86Mf/Wje7w899BCdnZ288MIL/Kt/9a8W3Odv/uZv+Nf/+l/zX/7LfwHgc5/7HI899hhf+tKXeOCBB5Z9zYqirDzVJ1VRFEVR5lOlo4qiKIqiHFG5XAagtbV10W2Op/TM8zwqlcq8H0VRVl53d/eCw4vy+fyi2WyKoiiKohxKBdqUk0ZprMGWH+9jerS+2ktRFOVgUQjPPwjPfT35d+WME8cxf/zHf8x111132BLQxUrPRkdHF91H9Xc6dfhOgxce+Udef+JnxHG02stRltg111zD448/Pu+xxx57jGuuuWaVVqQsp9oTT1D6wQ/UoClFOY14e/uY+vrXqfzkJ+rcXmWqdFQ5Kbj1gH/84ovUpj22/Hgf/58/fyv5NvXtqaKcFP7xj+Dlh5N/H34Jfvd/rO56lBV388038+qrr/Lkk08u+XOr/k6nhigM+e7n72B0z06klPS//CK/9bvvw1q7BiHEai9PWUCtVmP37t2zv/f19bF161ZaW1tZv349t912G0NDQ3zrW98C4OMf/zhf+tKX+PSnP83v//7v87Of/Yy/+7u/45FHHlmtQ1CWSeO55xj8gz8EQDoOLe9//yqvSFGUEzX9f/4Po5//K4SuI32f1g9/mK7P/NlqL+uMpTLalJPC608O06j6+G/rJ5IRv/ph32ovSVEUgD0/S4Js130Krv4jePFbMPrKaq9KWUG33HIL//RP/8TPf/5z1q5de9htFys96+7uXnQf27bJ5/PzfpSTz6s/f4yRPTv5zY/8IVf9P/+Wbf/yc576t+9m6JN/rL41P0k9//zzXHHFFVxxxRVAMgX8iiuu4M477wRgZGSEgYGB2e03btzII488wmOPPcamTZu49957+frXv86NN964KutXls/kV7+GtWEDmauuovit/6XOYUU5xU3/7cOM/sVfkvuN32Dtl79M8/vfT/Ghh3Befnm1l3bGUoE2ZdVJKdn29DDj+X5+VPy/vNL8S3b+apR6yVvtpSmK8osvQMeFcM5vwvnvhFw3PDvX1F5KiYxUCdnpSErJLbfcwj/8wz/ws5/9jI0bNx5xH1V6dnqSUvLCIz9g7UVvom3tetpKNQoNl93nrqPyk59Q/cljq71EZQHXX3998h79hp+HHnoISAacvHEg0fXXX8+LL76I53ns2bOHD3/4wyu+bmV5hVNT1H/5S7LXX0/2bW/D7+vD27VrtZelKMpxajz3HKOf+xy5G26g5T/9J4Rp0vTOd2J0dzP10DdXe3lnLBVoU1ZdZdKlNOqwJ/sK/+mi/8REWz+xiNn+zMhqL01Rzmxjr8HAU3Dx74IQoBmw8e3w+v+F0Kf+9NPsueEd7HjzlUz8jy+pb8RPMzfffDPf/va3+c53vkNTUxOjo6OMjo7iOM7sNh/60Ie47bbbZn//5Cc/yY9+9CPuvfdetm/fzn/9r/+V559/ftGpw8qpYWJfH9MjQ2y8/C1ICZUf/5izss1UooDqRecx/e1vr/YSFUU5SvWnnoI4JnPFFdgXXgi6jvPCC6u9LEVRjkNULjP0J3+Kfd55tHzgA7OtHISmkXv726n99KfEddX/fDWoQJuy6oZ3lZBIUp3Qm+vl0t6LGWnaw/ZnVaBNUVbVyw+DnYf1B2Ujbfx18Mo4P/4Wgx//OHqhQO7665m8/37K3/ve6q1VWXJf+cpXKJfLXH/99fT09Mz+PPzww7PbDAwMMDIy91597bXX8p3vfIevfvWrbNq0ie9+97v84Ac/OOwABeXkt/u5Z7BSabo2nkOwf5BwaIjuy99MJptjtLeLxvPPE05NrfYyFUU5CvVfPoW5fj16czOabWNt2EBjy4urvSxFUY7D+L33EdVqtP3BHyB0fd7f0ldeifR9ar/85Sqt7symhiEoq25w5ySV1BRnt28A4E1tb+Ifmx6jd/95lMYbNHdmAPAGKjgvT5K6oIXUeS2ruGJFOQNICa9+D866NslkO6D5LGKrjaF7HsBcu46OT30KYVlEtSrj//1e8r/zO2hpNcjkdHA0GYpvLDsD+Pf//t/z7//9v1+GFSmrZd8rW+nYeDaartPYsgWRSmFv3EivU2Fw7y7OA2pP/AvN73n3ai9VUZQjaLzwQpLJNsPauBH3tddWcUWKohwPd8dOSn//97R84AMYbW2H/N3s6sLo6abxzDPk3/nOVVjhme2kz2h74oknuOmmm+jt7UUIwQ9+8IMj7rN582be/OY3Y9s255577mwvCuXkNLhnkun0CBsLSf+fvJVHdHrEWsTerRMAhGWPya+9Qv25USa/8SqNF8dXc8mKcvobeQnK+2HDr89/XAiK+9YQFOu0ffSjCMsCoPnd7yEql6k8+ugqLFZRlOUSeC6ju3fQueFsANyXX8E66yzQdbp61uL5HrWN62k8++wqr1RRlCMJp6YIBgexzz139jFz7Vr8ffuIfX8VV6YoyrGa/MqXMTo6yP3mby66jX3e+TSeV6Xhq+GkD7TV63U2bdrE/ffff1Tb9/X18Tu/8zv8xm/8Blu3buWP//iP+ehHP8qPf/zjZV6pcjyiIMadjKmnS7Sm5yLxZ7duYDK7n76Xk0Bb5Sf9CEOj5X0XYJ/XzPT3dxEW3dVatqKc/nb+CKwsdL1p3sNRtc7UsyWaeh3M9qbZx43OTlKXXkrpu6p8VFFOJ2N7dxNHEe3rziJ2Xby9e7E2bACgpa0d07IodnfQeP751V2ooihH5LyUTCA8ONBmrVkDUYTf17day1IU5RgFQ0NUf/IYTe96F8JYvEjRPu88vF27iGq1FVydAqdAoO1d73oXn//853nPe95zVNs/8MADbNy4kXvvvZeLLrqIW265hX/37/4df/3Xf73MK1WOR3G0DlJgtwiI4Z9eHub/+8/beXGvyUhuD6N7KjhlD+eVSVIXt6LZOrnrehGmRvnH/au9fEU5fe38EfReMVs2Wq1Idm2LGf7uE8gI8mc1YGLnvF0yV12Fs3UrwbjKOFWU08XI7p3opkWhswtvzx6IIqz16wEQQqO1rYMpQxDs36/6tCnKSc597TW0fB79oDIzc80aALxdu1drWcoiVGWXspjS976PsG2y11132O2sDRtASrwdO1ZmYcqskz7QdqyefvppbrjhhnmP3XjjjTz99NOL7uN5HpVKZd6PsjIm9yfR9ZaOLD/dPsbWwRIXdDdhi1ZGM0MgYf/PBpF+jHV2AQBh6mSu7MJ5aYJgTE1RUZQl50zD8FbofTMAY8Mx3/l6yE9+GPHI8NsYv/JatFwGJrbN2y19xRUgBLUF+nYpinJqGtuzi5aeXjRNx9u5C5FOo7c2QxwB0NrexWS9Qgyqz5OinOScV1/F2rBhdjIhgJbNojU1EQwOrOLKlIWoyi5lIVJKyv/3/5J561vRbPuw25q9vWAYuNu2r9DqlANOu0Db6OgoXV1d8x7r6uqiUqngOM6C+9xzzz0UCoXZn3Xr1q3EUhVgeHCSulmmKdXCc31FLl1T4Ip1zdxwYTepTIGyVWLgV8NozTZGc2p2P/u8ZrSsSfWJoVVcvaKcpvqfBCT0XE4cS376TxF2LmDa/DYpd4KtqZu4P38uwdjr83bTczmss8+m/tRTq7NuRVGW3Hj/Hpq7ewDwdu/G7GqDJ74AP/s8TO6ipa2DMAxptDbjvPrqKq9WUZTD8V5/Pemx+AZGVyf+PhVoO9moyi5lId62bQSDg2SuuuqI2wrDwFyzBnf7tiNuqyyt0y7Qdjxuu+02yuXy7M/g4OBqL+nMsPMnjDz3U+pWmcmJEE3TuKgnP/vnc5rPYrxpL2tC2C2iebsKXSP1pjYaW8eJ6sFKr1xRTm99T0BTD+Q62fmapDQNz3U+xuU7p1nv/xLDlIjp3+Nb7igwfzJl6uKLqT/9DDKOV2ftiqIsmcB1mR4dobmrBynB69uLKZLeqdg5ePlhCrksALWeLrztqjRFUU5W4dQU4cTEwoG2jk78fftWYVXKUlKVXWeG2i9+gUinSV100VFtb/b24u/Zu8yrUt7otAu0dXd3MzY2Nu+xsbEx8vk86XR6wX1s2yafz8/7UZZZeT987/epBN041jRnj/wL61rSWPrcf5Kd6XV4mTFyuuDZyTqvD89/40+d3wISGltVPyhFWVL7fjk7BOHVFyPM9hpucTet5QjO7WT9+kGyURdTjQ/yyr4n5u2auvBC4nIZf6+6oCvKqW5ycB9ISXNXD+HEOLJWx9SKsP5aOPcGCBoYYy+RyxeoNGVwt6vSFEU5WR04P82ZHosHMzo78QdURtupTlV2nRlq//IkqYsvPuwQhIOZPT146r58xZ12gbZrrrmGxx9/fN5jjz32GNdcc80qrUhZ0JNfRKIT++1gO2yIBrkwMxdIi90G2cBgrZEDwDQMHn5+kIOzZ7S0gXVWE43nx9747IqiHC+nBGOvQ+fFFCclYyOwvelF3jaQwrUtHisFPNm3j4bxCp3uW/nplhLyoPPSOucc0DQaW7as3jEoirIkJvfvAyHId3Tg9/UTC42h/LW8WnwT034rtGyE/c+RL7RQ1iEYHCRuNFZ72YqiLMDbvh2RSmF0dBzyN6O9nWhqitj3V2FlympSlV2nlthxcF5+mdTFFx/1PmZvL3G5TDg9vYwrU97opA+01Wo1tm7dytatW4GkyePWrVsZmPnW5bbbbuNDH/rQ7PYf//jH2bt3L5/+9KfZvn07X/7yl/m7v/s7PvWpT63G8pWFOCXY+m2qZ/1bRKwTpyPq2JwTJBMMve1bqXzv61S//3XeMtVNVQZ0C52dY1W2j84fTWyf00wwUieYUDf2irIk9j8PSOh8E3t3xmhGzA7zZc7a4zLUmmd9a4aN7VlEuoRp/JKW0m/xL6/MfUumpVJY69fjvLh11Q5BUZSlMbV/kFxLK4Zp4ff3MbzuX7FDvp2JUopfvd7GqH0V1EZpShmUXAcpJZ4qT1GUk5K7fQfWunUI7dCPf8bMFNJwdHSll6UsIVXZdfpzXnoZwhD7gguOeh9jJsvR7+tbrmUpCzjpA23PP/88V1xxBVdccQUAt956K1dccQV33nknACMjI7NBN4CNGzfyyCOP8Nhjj7Fp0ybuvfdevv71r3PjjTeuyvqVBWz/JwhcSi1vB8DXAoa0XvLTrxNODOM8/wuMNRuwzruU3qCNYjgGlZCulMXjr8+/AbDWNSFMDeflydU4EkU5/Qw9D3Ye8r3s2Rnjt0xx9hikwpjMBb105G3achYb2rP0Wq9QN/rZsSVHEByU1bZxI87LL6/iQSiKshSmBveRb+9M/n33KOOtl7O+ZYLLzpmmJe/zyui5NLRu8tE0QRjgmjr+3j2rvGpFURbibtuGuXbtgn/TZwJtwfDwSi5JWWKqsuv052x9ES2TwVyz5qj3MTqT63igshVX1EkfaLv++uuRUh7y89BDDwHw0EMPsXnz5kP2efHFF/E8jz179vDhD394xdetHMYr34PuSxisGUgkThRSsXvQwwbei0+gNRWwLric1LoLKNgdOPUhZDTJm/MZnu2bpuGHs08V1yrobRqNVydW8YAU5TSy/3loP496DSbHYLv9KhftM/EzNrIlN29TkS5g2T9Fj1P84lfl2cetjRvx+/qI6/WVXr2iKEtoamiQpvYOpISBaD2psERXp4YQsLG7hqlLXtVuoqmRfOHZ6GjH260CbYpysok9D7+vb8H+bABGaysAwfDISi5LOQJV2XUGKg/B134T/n9vhoFnD/mz8/LLWBs3LpiZuhgtlUJrbsYf3L+UK1WO4KQPtCmnGbcC/U/A+msZnmrgmFWchgm5LhqBQTA+irn+PIQQFDwbDY0pUSLwt9AVQBDHPNdXhCii+L++zdAff4r65h8QjjQo/d/HVvvoFOXUJiUMvQDt5zPQLwHJYHoX54/6+L2tIOZvHll5zgonKNk76N8TEsdJVpu1cSPEsWqMriinsMBzqU5Nkm/voDI4QTm7nk7RjysDgjhC1yXruuoUg16cmommaThtLXh7dq/20hVFeQNv926IIqxFAm3CstCamwlGVEbbyURVdp2B/vFmKPZBHOH/7UcIq1Pz/uy89DLW2Wcf89OaHR0Eg2rgyUo6ulEVirJU9m6GOIS1b6X4UoRjumixRVPapugUEJqH3pmkwjZ7KSIRM9GmkR+cwtm/h7PWruOXe6a47IWfUnv8cXLXX4/RvRZvIGbyy99HaD6F3/md1T1GRTlVlfeDU4TWcxl4MSbIVmmp+WTckKmulnmburUKEyNjZAKdattrtHoXs2/IZ+M6G7O3FwwD9/VtZK68cpUORlGUEzE9MgxS0tTWzsBz+9FkxI7sfoZH96AJwVnpLi7Pn03WTtHvXU0uvZ16bOLvVT1gFOVk423fDkJgHmaipNHSTDg2voKrUo7kQGXXYg5UeL1xnxdffHEZV6Usm5GXYO/PiX/9z3jipTIvvvAK/MGHue4//B5X/e6/I5yYIJqawjrrrGN+ar2jA39AlY6uJJXRpqys3Y9BYT00deNUdALLQQBZy6BShkwqRug6AAXPpm4GpJq7cG2ToPoKlzSnqW7bQfXHPyb3m79J5uqrsc5ag17QsC98GyOf/XO8PapsRVGOy+grAMjWs9m/TzKc2sdFwyliXeC3zzXH9WoVxna+guc6FF2d9okhfCq8tC0ZSiIMA2vtWtwdKqNNUU5V0yNDAORaOxgadMk0hijZEZc0ncU5mV6GnAl+OvkiLc11JjmXlCap6QJ/cBAZBKu8ekVRDuZu247R3Y1m24tuoxWaCd7QSF9RlBW05X9Bpp2ndsZs+dXrXLRW59yWOv/ynYd4+fEf4W7fAbBoCfjhGG1tqgfjClOBNmVl7d0MPZuSf6+nCU2XtKkjIh+/7pFJhRh+0uup2U1RMwNyZoGJ5hgpy7RPDXNj/7MEre2k3zKXKWM0a4jsevTWdkbu+q+H/fZHUZRFjL4MdoFiow3XgaHsbs6bFPiteaSeXC5kHDPZtxPTTtN21jl0F0x0L8YJn2BqbO68M9euxdumAm2KcqqaHh7CzmTxHIETpRDBfjblz6HLbmZ9up0rm8/Dj0NeD7eiERGHFtXQhyjC36/6wCjKycR97bUjZsEYLS2EY2rqqKKsCilh+yNMNF/Fr37xLG+68lLedNWVXJ7dzcaLz+cX/+sbTL+8FZFKYXR0HPPTG21thBMTyDA88sbKklCBNmXlTO+D0gD0XEYYSkw/g6/7ZG0dfyqpP0/bMaYzgRlpZEOTuumjCwOamsDIUe97nrMrw2xbcyFCzP3nq7cICKHw3o/gPP88tZ9vXqWDVJRT2OjL0LqR/QMSKWKK6WG6Jpx52WzVyVFC3yXf1YsQGkYmR8YGo74XLdBx3BhIvm3zdu9GRtFqHY2iKCdgemSIXFs7e7ePImRASpsgY6Zm/57Rbd7UdBYTQRHDmsaNO2i4DpEQ+H39q7dwRVHmkVGEu23bEQNtekuLKh1VlNUy+gpUh3lyj00un+PCTRdB69lgZrhsTQQSXtr6HObatcc0COEAva0N4phQZa2uGBVoU1ZO/5OAgK5LGS06AHgyIGMZBFNTaLadjCt2ixS8JLW9ZiblJ3mrmVouQ+RPMllo4Tla8cO5D/BaToAOWmEj9oUXMPmVr6isNkU5VmOvQctZDA9KaqkiPRUTww/x25JAm5SSytgQqaYChp184I71DG2Wjx6HxEEfu/pdAKy1a5Gehz+gGq8qyqmoODJMrqWV/u0jZOtjZLJJW18niBmruFTcgBYzS4dVoGiM4GpJf1Unl8Hft281l64oykH8vj6k62Jt2HDY7fSWFqLpaWLfX5mFKYoyp/9fmAoK7O2f5KLLL6ZSEvxyM/xw/NP84vlzSa15E7vLU9DTfVxPb7S1ARCMqMnCK0UF2pSVM/A0tG4EO8eeiRIAtTAkZ5sExSJ6U57IasLwkkBbKGJcI0lvbTJamMzWQWQY6eoikLB3oj771EII9CZBWIzJv+u3cV95BWdmFLaiKEfBb8D0PmQhCbSNpQc5v5hGAkFLDgC3Mk3ke2Ra2kBCd7yWjca1tNnriEydwH+VvsHkBt1ck3zo9nbtWq0jUhTlBEyPDJFqaoZKimxjBK2QZ6oe8NpQmcGiw47RGv1Tddak2yhqQyCaAPA6O/D39a/q2hVFmeO89DIIkUwEPwy9uRmAaHJyBValKMo8/U/yknMBqXQKM72OXzwWUa9KurqKBNSojXQSIdmhH1/4RleBthWnAm3Kyhl4BjouBGCoWEciiYGUqRFUyhi5LKGRx/SmZwchIJJdM2YTedfH0DqpR1U6UpIdY9V5T681CaKixL70UoyODkrf+94KH6CinMImdwCSknYurgMTuQE2ljTCfAZpJgNKapNjGFYKw05zdnwhF0abaGMNFzR9mHObNyGDfRQnk0CbViigNTXh7d69igelKMrxcGpVvHqNyboHCNKNMRrZJvomauTSOud15ujKp5io+oSOia77oEsEAqfQpEpHFeUk4rzyMuaaXrR0+rDbHQi0hRMTK7AqRVFmSUnY/wyvj6dYs2EjLzwjaG6F6II+vp/6JU/0/IrQjDBp4fVS8biqtrRUCpHJqNLRFaQCbcrKqE/B1C7ovAiAqekQz6wjhIbtORBF6LkcoZVHxBEF16Rhzk0tEwh6qwapyASh0UORPRO1eW80epNA+iBdjcx111F59J+JXXfFD1VRTknjyeCC0WoPEsl0apSOojebzRZHEY1ykVS+QJvsZH18DkOin23ai0yHe3hL9rdotdoJq8NIKRFCYK7pVRltinIKKo8m33hPlUKIKxiGw96yxDI0evJphAbNGYPmjMX+aYdmswnfKKNpKdx0Cr+/f3UPQFGUWY0XtmCdfc4Rt1OBNkVZJcW99E0KvEDieGdhGFBZs4efFV/Ecgv8lhOhmbuJ0xcipMMz2/qP62WM1hYC1YdxxahAm7Iyhp5P/tmRBNrqVfDNBiDQGxUA9GyOyGxCwyYbpaiZ83tEtJYiQlFC07sxqsPU3YCR8lwgTW9K0t+iUkz2mmuQjQb1J59c/mNTlNPBxHbIdTI6ZtKwyqSxsaaqBM1ZAJzKNEhJOtfC+dGlVCgxIUZAwHD8Gl5c4q0dv40IhqjVZgYi9PTi7d6zmkelKMpxmB4dBiAq58m4E0QpjUYQ05VPIcTcdu05CwnooU1dLyJFEw0REo6NqS+6FGWFSCnZ+dwoP//2Nv7un/+Zu5+5mx3FHQBEpRL+7t3YF1xwxOfRcjnQNBVoU5SVNrSFHeV28oUCE+NNNK2p80T5ZdriTgp+N5lUK2fX+jFoQ6LxqxdePK6X0ZtbVEbbClKBNmVl7H8eUs2Q6wIgqJmEpkfa0ggrFTQ7hWYYSN0gZawHmJfRpjsOlhtQtUsIvZs49Gilyt6J2uw2whQIC6KSxOzuxly3jspPfrKih6kop6ypXZBfy/B+yWR6mHNqTWixJCjMBNpKUxh2io36hVjY7Nf6Zku7Y91m3H2KFquTNZbOvuGZPm29vQT79qnJo4pyiimNjmBmMqSCFvKVcWq2QSFtkLbm3zbqGhTSFvW6hqsXQeSozDRS9/epQSiKshKe+cFeHvvG67y+dYCJf7TZ+0SJD/3zhxisDNJ4/nmQktRRBNqEpqEXCirQpigrLBx4jr31duzcWkwTnhG/Iq9nicstrGtJE6VaMRyftD+FNNvxi3upusGRn/gN9OZmgtHRZTgCZSEq0KasjKEXoP08EIJIxphOjkD3SZs6YaWCnsnMbprW1hET4cwMQgCwiiUkAjdrgKWjG010ySn6purzXkbLCcJykk2T3rSJ+hP/gozjlTlGRTmVTe7Ez5xFaUpSzAxzTi2Z/BsUskgpccrTZLOtrIvPZlKM4ou5bJVYT+HFU4yFw1ycv4x9A9MAGL29SN8nGBpalUNSFOX4lEaHkVYyWTjtTFK2bNpyqQW3LaQM4kgHvQFalvpsoK1/pZarKGecemmaiYF++l+ZYMuP97H2qiz/dNZXqW8Y4Yq+f02Pt4H/9tx/o/bkkxjd3RgdHUf1vHpzswq0KcoK2//6KwSxhuP0YrTUGQ+nsWvtNNkmrTmbwC6gOZCOJzC1jTRFDX75+rF/maW3tqqMthWkAm3K8pNyJtB2PgDDTpGMX8ATQRJoq1bQDgq0ZbReXKaRB5WnmNMVokwK28rhaEUQnVj+NMNTVcJ4LltGywqiUtK3LbVpE1GphPvqqytznIpyqopCKPYzIS8EBKXUBL21mDBjI00dv1EjjkLOzl2Ghs64GJ63u9QsJBqDcg95q41oIgm0mb29AHh7VPmoopxKpkeHCaRJLOrokUtYaGZmJsohUpaGqQt0BGgmkYwJc1n8fftWdtGKcobY8fSTfPXmj/Ct/3ILP7zvL2hbY/HL1D/TbDez6br1mE2C3xz5D/xicDOlnz9O6pJLjvq5tXyecHJq+RavKMp8cczefVOkbAPXKzBo99EkckSuzVltyQATqdsIzyDNBMLoRAKvbtt26FM1JI1XQupbAoKJQxNN9OZmwslJlYSyQlSgTVl+pX3glqDtXAB2FyfRpYErQ9K6JHYc9MzcJKRs3IEfTyGiuZRYq1QmzGXJGDka2gRonSBjssE0I6WD+rRlBdKD2JPY55yDSKWoP/Psih2qopySSvsgDhh31xOJkNgIsYs1wnwSAHcrJYSmsVY/h5KYIhRvSFcXSfmoLydxwjq90gJAb2lBpFJqAqGinGKmR4aJwixmUAQLcoX8YbfPWgaEJoGR3LwHXZ1qIMJJ5P7772fDhg2kUimuvvpqfvWrXx12+y9+8YtccMEFpNNp1q1bx6c+9Slc1XPvpFAeH+Of77+XNRdczPnX/D8EjSHq9X/ipcmX+LWeX8MwDNovM9AHC1y9fwOMTZJ5y1uO+vlV6aiirLDiXvrKObJNneg67Ba7oZ6nM58ibRnJNlEMHmh6HWFJYiODX9xDzZu7H49qMZWf+/j7IoLxmNqTAY2Xw/mDAwsFiCKiUmmFD/LMpAJtyvIbeSn550ygrX+yCoAXR6T95MZNTycf6IUUZOImPIroYbKd5vnojkuYy5I2cgRaHaGbGFaB5rjEUMmZfSktMzMQoSwRuo59/vk0nn1mRQ5TUU5ZU0nG2Vi5hVJqnGatgDVZJWxKAuBOZZqOpg1kyDEtFr4Bj40UmdBjxB9ird1FFMXJ5NHubvy+vhU7FEVRToxbr+HWqphRG9nGJEFaw9DFYffJWAZxYOAbyU2/l7dVgP0k8fDDD3Prrbdy1113sWXLFjZt2sSNN97I+PjCk+e+853v8JnPfIa77rqLbdu28Y1vfIOHH36Yz372syu8cmUhT3/v/2DaKd7yb95LcaRAvvvXKPW9Sm/ZIvZ6ccd2kTdfwkhLrt33dqoZDeuC84/6+fVCgXBychmPQFGUg5W3/5JSkEHq6yHXAA3MIEdPYa5dg153EYCmuZjpEF1fSyEo89ze5FyVUtJ4MQQNMm82yLzZwDpbw9sbUX9uLtimJguvLBVoU5bf8FbItEO6BYDx6SS45msehtcAQE8nH+hzYQYNDUcW0YNk0IFRTqaSBtkMAo20kSE0qmhGK01xhf3FgwYipAENokryrXrqwgtpvLAFGc71e1MU5Q2Ke0G3GBrXKKcn6BXNmDWHIJ8hjiO8epX1uYsI8KlSXvApYj1FOvIYjUexdZvSPg8Ao6sLTwXaFOWUUR5LGiVrIk++MkW0SG+2g2UsHS228HUH0HAtVEbbSeK+++7jYx/7GB/5yEe4+OKLeeCBB8hkMjz44IMLbv/UU09x3XXX8YEPfIANGzbwzne+k/e///1HzIJTlp9bq7Htyc2cf/V1VIsh5UmX3ksuoZIVrN8d4m/9PqkXH0S8/l0K8il8eRHPnaMzUDv6Xk56oUBULM7LglEUZfkMvPQcIKk7XUzZo1hhlvZMClOfC9MY9eSzs7RibL2MoW1AB7Zu2wlAOCEJJyX2OXoyHFAIrF6d1AU6wVCM81rSZmk20DauAm0rQQXalOU38hK0nj3763Q5JNICIhGhuw7CshBGkhrbFGSRSBzdRfeTAJpVrhKbJtIyAUgbORwxRRS1ImTE1OTcm4UQAi0DUSW5QbDPOw/purg7dqzU0SrKqWe6jyC7HqdiULYn2egngxCipgx+vQpS0mmupSpKs5NG3yjW0whgSisRxB5Te5IAudHTozLaFOUUMj0604NRy5DyKkSFpiPuo+tgaQaR4YDIUEEQFYtElcoyr1Y5HN/3eeGFF7jhhhtmH9M0jRtuuIGnn356wX2uvfZaXnjhhdnA2t69e3n00Uf57d/+7UVfx/M8KpXKvB9l6W1/6glkHHPWpisYeH0KO2PwL9PbGOoU5F2P85x+XtTfxD8Z76B1bD+RkaF/wyZeHn/5qF9Dy+eRvk9crS7jkSiKcsDg3kHyKY04thjS96N7Wdqb7Hnb6HUXqQliS8dmHLQ8kSaYHunDDSK8/ggtA3rz/Jt0o13D2qDh7YoIJuOkdBSV0bZSVKBNWX6jr0Drxtlf3apOaDkgQLj12Ww2SAJtruYTmeZsRptZqRJm57ZJ6zkcbRpEDqGZaM409YNq1LWMmA20WRs2gGHgvLh1eY9RUU5lxb1M6ZcgEDSMGq31ZGpg2JTGrZZJmU00ieZFs9kApG4ghY5hhEx745iV5GJvdncTTU0RqZt2RTkllEaGkbqJFC7IiGDmG/AjSVsaES5CpKnFyTVYZbWtrsnJSaIooqura97jXV1djI6OLrjPBz7wAf7yL/+St73tbZimyTnnnMP1119/2NLRe+65h0KhMPuzbt26JT0OJbHz2Sfp2ngOdibH0I4Sma40eyvbCLOt2DaMlZtoWnsJZ78+RK5vhDSTdLub2Drw86N+jdkP4qp8VFGWnZSSwTGXdKYVhKRmTZOWObK2MW87o+YSpSxiI4MdTiCMkNDKUgjHeLW/RDAcY3RpCHHot+HmGg2tSeC8HIJhoOVyKtC2QlSgTVletQmoj0NLEmgrBw1MJ0dkBliGTlStoqXmB9ocwyXS0xjhTOlopUZ40LCElJ5Gai5CkxhWM7moynjVm/37gUCblBJhWVhnnYXz0ksrdMCKcgqa2sNkfD4xEbERYU3XiGyT2NRxqxXWNCX9Xapi8UAbQKSnyBAzHZTIiyZkJDG7uwHw+9UEQkU5FZTGRpAigxWUIC2IDfOo9ksZBlEcgpaiPjMMXGWznno2b97M3XffzZe//GW2bNnC97//fR555BE+97nPLbrPbbfdRrlcnv0ZHBxcwRWfGbxGnaFtr9Fz/oVMDdXx3ZDtbgXNmuIcK0ch69OohnQ99QpX9u1nx5pOsp0+qfBSBl2H+uv/cFSvowJtirJyqoO7qAUmwlpLlG6gS5NWO3NI8Yhed4lTFpGZxfAqGHaErveQjTzGdlVAJtlrCxFCYG/QiMqSYCROJo9OqfN7JahAm7K8xl5J/jkTaOtzRmny2oj0gLShEdbr6OmZ/i8yCbQ1dIfYSCPiCKNWQgtDooMy2gBSZoZQr6PpzWRkndHp+uzftIyACOKk/RvWhg24r7yy7IeqKKekOILyIENuNzV7mrzZhFmuE+bSyDjGr1fpSK/DoXHotNE3PpWeIhP6FOMqmtAIizHGbKCtfwUORlGUEzU5NIhGnqZGiShrHHmHGSlTQ4sNYk3HjUFvzuPtVYG21dTe3o6u64yNjc17fGxsjO6Z9+Y3uuOOO/jgBz/IRz/6US699FLe8573cPfdd3PPPfcQx/GC+9i2TT6fn/ejLK19r2wljiJ6z7uQ0T1lzJTODncXCNjoTGO3ZNGEhrN/gMlLN7Kjqw1HGwVp0uxfxOsvfxv6fnHE19Fn/r+LpqaW+5AU5Yw39EKSberGa6gYRbQgTT516HXXmA205dBiD8N0sUQyZLBQBi0Lmr340CK9oKHnBd6eCD2fJ1KB9BWhAm3K8hp7DYwUNCU3dH2NUXJeC4EWkiaEKJrNaEtFNqY0aBgusZE8Zk8XAQhnppIekJSPFomiPALJ+EEpsAcmj8bV5IbQ2rgRf98+olodZXXcf//9bNiwgVQqxdVXX33EpsqlUombb76Znp4ebNvm/PPP59FHH12h1Z5hqiMQ+QzVmqja03QZzRjFGmEuhe/UkTKmzeymLo5c+imNFJk4pCzqBLFHY8RFS6fRmptVoE1RThGTQ/vRtDy5WomgKXPkHWbYho6ITSJDEMgAoyWDt3fvMq5UORLLsrjyyit5/PHHZx+L45jHH3+ca665ZsF9Go0Gmjb/44Gu6wCqQf4qGnztZXJt7WSbWxjrL+OmNfT0KK1WG7naKHHcQaEWM1bQ8M7tppA2Ga5OY9sOa/wreK2lG/7lPhh79bCvIzIZMAzCSRVoU5TlNrTtZZpMj7qToWhOYIQZcuk3ZJFLid5widIWkZFcky2thE4O35ScY7ZRT0dHfC2jWyOclGgtawlU6eiKUIE2ZXmNb4Pm9aAlN2l7y5PYURoHn3SUlHvqqSSjrSnMAuDoLrFuITUdo1JJBiGY86P7KT2DL8pIciB0quW5GwJhAzrz+7RJibft9WU+WGUhDz/8MLfeeit33XUXW7ZsYdOmTdx4442Mj48vuL3v+7zjHe+gv7+f7373u+zYsYOvfe1rrFmzZoVXfoaY3oeU0Kg0UbWmabVzWOUaUTaNVytj6ilyokCdIwfaIiONISWBDmV/Emck6fVmdnWpQJuinAK8Rp3IaSBEDssv4ze3HPW+ugYWFqGWXHuDnMDfs3u5lqocpVtvvZWvfe1rfPOb32Tbtm184hOfoF6v85GPfASAD33oQ9x2222z299000185Stf4W//9m/p6+vjscce44477uCmm26aDbgpK2/wtZfpWL8Bp+pTLXrs9esIa4peknvoVF+DptgiIsatlOjI2VScECtTIu9exOuGmdyPb74HnOKiryOEQC8UVGmZoqyA4YERcqkUSEHNmiZLFkufH57RXB8RSWLbROomsWZiy6THZlNmHSndps8/cjKJ0S7AAL35EiIVSF8RR18ToCjHY+y15MI+Y/9knXOBmmzQEySjirUDgbYgQyhCfC0pT4v0NGbdIcqkDnlaW08R6HWEEAgji3TKSU82IWYmj84NRDB7exGmibttO5m3vnWZD1h5o/vuu4+Pfexjszf1DzzwAI888ggPPvggn/nMZw7Z/sEHH6RYLPLUU09hmsm3Ohs2bFjJJZ9ZpvtpxM2IwKah12kWOTQ/JMrauNVxupuSicF1cRRT5ISG1Ew0zacSlGhudCGlxFCBNkU5JUyPzEwcFQYaPmEud0z7p3ULV/qkAM/wifeNI30fYVlLv1jlqLzvfe9jYmKCO++8k9HRUS6//HJ+9KMfzQ5IGBgYmJfBdvvttyOE4Pbbb2doaIiOjg5uuukm/uqv/mq1DuGM16iUmdo/yLlv+TUmBpP+xePmMAJY69WI4iYyo2X883rQvSlqU+O0b2zB0AUNOYEW9eA2CoxfdA2dz38TnvoS/NYdLDZGXM/niaYWD8YpinLiAs9lctpjfWcXODGe6dIt7EO2M+pJYkqUSq6jkZnBCqcRRkivfSFhHPD65DBX0XbY1xOawGgThGNnqR6MK0RltCnLJ45hcgc0nzX70FQpCaI1hIvpuwjLQsx8Q5oLsjR0d/a6H+tp9HpAlD400CbQsHQTqfnoRhPpuM50w5/9u5aZy2gTuo65Zg3uzh3LdaTKInzf54UXXuCGG26YfUzTNG644QaefvrpBff54Q9/yDXXXMPNN99MV1cXl1xyCXfffTdRtHhatOd5VCqVeT/KUSrto2i8CQDP8MjVkgB4kLXxZvqzBfj4eId7llmxnsYSDpXQwcAgrs4E2vbtU2VHinKSG9+/HwAripL+bIu3fFmQbRhEeghAVRMQRfj71CCU1XbLLbewb98+PM/j2Wef5eqrr5792+bNm3nooYdmfzcMg7vuuovdu3fjOA4DAwPcf//9NB/l9Fll6Y3sSu5f29adxdRwjdgWiMwoebOZfH0crZRG6gK/s5lUUwGnXAQZ05K2GG2Mo2khbd7FbPOn4KKbYPBZ2P/8oq+n5fOEqkeboiyrsT27kAiktZbAbqCFJjnr0BwovZHcl0epJPkg0jPofgXdDllrbqQcTOCUJ2n44RFf0+jQgDTorcS+f8TtlROjAm3K8intg8CZDbQ1Io+wZiNFRCACdM+ZLRuFuYmjB8TYiJAFA20Atp4m0KpooglL+oyX5krbtLQgqsnZD/bm2rV427Yvx1EqhzE5OUkURbPfnB/Q1dXF6Ojogvvs3buX7373u0RRxKOPPsodd9zBvffey+c///lFX+eee+6hUCjM/qxbt25Jj+O0Nr2PAe08IhFhGjpGOUk/9yxBHAa0Wj3UqR31B+5YT5GJXcqxj5QxwVSM2dVFXKsRlUrLdxyKopywbdt3I4VN1q0TNS187T0cS9cIhA/olPWkHYS3W5WPKsqJGNm1nVSuiWxzC1P7axRFhLAm6NALaJGPMRHgt+ZB10jl8sg4wqlM05q1cMMIK12l07+M16sD0PUmaN0IW74FLPzll57PE06qHk6KspzGXn0WXcQ4UQ9lYxo9TJO2Dp3yrdc8YssAIwnbxGYWLQ4wDYdOo5nJcJRcXKF/6sjlo3pBgIgwui9TA09WwCkRaDvWRupf/OIXueCCC0in06xbt45PfepTuK572H2UZTAxE9iaKR3tb4yR81qQKT/50O400OzkRl6LNTJRKslomyGCJKofL1JxYutpPK1CHDcBMDYx94bxxsmj5vr1eLt3Iw+TFaWcHOI4prOzk69+9atceeWVvO997+PP//zPeeCBBxbd57bbbqNcLs/+DA4OruCKT3HT/QxGa6hb0zQbycTR2DJwvDoCQUFro3EUgxAOiA2bTBwTCI1aWMYZdTBmAq2qfFRRTm79e3ajaXnSbgW/UDjm/W1TEBOCSFMlg96Uwdu1axlWqihnjuGd22lbu47Ai6kWPSZEBUlAdwyEGkbFw29N7oUNO4Vu2TSmJ2lKGxi6wNOmSHlr2F4ZRyLh7N+E4l4YXXgwQjKVUH0IV5TlNLrzFZpNh0ojRc0sYUQpstahfTD1RjJx9IADAxFaNYkhNMbkKE2ySt9E7YivKYRAy4YYXZeqgScr4KQPtB1rI/XvfOc7fOYzn+Guu+5i27ZtfOMb3+Dhhx/ms5/97AqvXGFiO1hZyCQ143saIzR5rQgrCXZJx5ntz5YLMwgEzsGBNlcmNwT6wsExS7PxRQ1JBtAol+b6Sbxx8qi5Zg3S8whmymKUldHe3o6u64yNjc17fGxsjO7u7gX36enp4fzzz5/XdPmiiy5idHQUf5E0Z9u2yefz836Uo1QeoOh2ULPKtNhZjIpDmEnh1aq0ZHoxMKiLI1+8D4j1FCkgNARlf5JwSs4F2lQJ2SnniSee4KabbqK3txchBD/4wQ8Ou/3mzZtne2Ue/LNYBqtycvEmhkHkMP0yfvOxB9osXUegg2ZTlynMlhTuDtW2QVGOl4xjxvbuorV3HdNjScZKPT2KKWza3TKynmSOBi1z/RRTuTyNchEpY5rTFkVvDIGG6axhwJmAtnMg1wk7HlnwNbV8nrCoerQpynIaGxgil9KJI42GVSZDGl0/tHxEr7tE9lymm9RNYmHQIUxCGVMULpqMGBk/uixUvUWgt2wgGFGBtuV20gfaDm6kfvHFF/PAAw+QyWR48MEHF9z+qaee4rrrruMDH/gAGzZs4J3vfCfvf//7j5gFpyyDiR1QWA8iedPY0xih1eskNgIsIZG+Ny/QJpHzSkf1hgeWQI8aCz69racI9QZCCKSexquXZ/82O3m0OlM6OjOxUn2zvrIsy+LKK6/k8ccfn30sjmMef/xxrrnmmgX3ue6669i9ezdxHM8+tnPnTnp6erBUQ+2lFQVQHSVotNIwauQsA7NSJ8raeLUynbn1yXnJ0QfaEAKhWcR6QDkoYwQ2YKG3tBAMDCzboSjLo16vs2nTJu6///5j2m/Hjh2MjIzM/nR2di7TCpWlUnUDbKeCEFkMrT5bpnIsdB0MaRJrOg0pMJsi1bZBUU7A9OgIvuPQ2ruG0miDWIMwO0yr3YHlTCBqJmHWRh6UCWPn8sgowq1WaMmY1IIauuHR6l/Eq9WB5L68980w8GzS4uUN9Hwe6brE9SOXoinLT1V2nX5812G67GKm2pPfTZeMufBnHL3uzg5COCAyM7TQTDXyMbUOEBBUp6h7wRFf2+hMBi54/cdwb68cl5M60HY8jdSvvfZaXnjhhdk3ob179/Loo4/y27/924u+jmqkvkwmtkNhzeyve2oj5NxWfN0lJ5PMJD2VnOy5IIOn+cRirl+EXveILQ0tXPhCL9AwdECECCOD9Oa2E0IkfdpmBiLozc1o2azqFbMKbr31Vr72ta/xzW9+k23btvGJT3yCer0+O4X0Qx/6ELfddtvs9p/4xCcoFot88pOfZOfOnTzyyCPcfffd3Hzzzat1CKevyhB+ZGH4Tbi6Q9bWMSoN/LRJ4Dq02b041IlFfOTnOkis2+iiQSVMbuzCYozR2Ym/TwXaTjXvete7+PznP8973vOeY9qvs7OT7u7u2Z+DpxoqJ6dnX+vHkBE6BnH20D4xR8sWJpGuEUQBllUmGB4mUvdVinJcxvYmXxA39/RSHG1Q1WJivUyrkUcPXfRKRJjPzNvHsFNoholTniKfMtF0AWaJdv9CXqvOZJZ3XwqRD/sPDdroM2XjKqtt9anKrtPTxL5+AGRqLZHhIyWkzEPLRolidMcnTs2/JsdGlrzWTUU6pON2fEuSi6vsnz40cP5GetogdoqEk6qd0nI7qe98j6eR+gc+8AH+8i//kre97W2Ypsk555zD9ddff9g3GNVIfRlICZM7oTD3v+W+yjRGZONoLukoCbQd6NGWCzO4+kFTDeVMTbptoYeLv2mYWopQd9G1HGbk4AZzE1e09FxGmxACc80avN17lvIolaPwvve9j//+3/87d955J5dffjlbt27lRz/60ex5PTAwwMjIyOz269at48c//jHPPfccl112Gf/v//v/8slPfpLPfOYzq3UIp6/SAONxLwCe5pM2NIyqQ9VOzpsWvZPGMZSNHhDrKWxqeNLEjRoEk/HM5NH+pVy9chK7/PLL6enp4R3veAe//OUvD7ut+rLr5PDiK0mJZzqQhPmm434eW7eIdEkcOxjGNACuympTlOMytncX2ZZW7HSG4midil4FJJ0REIFRCwiasvP2EUJgZ5tolIogJIWUQT2ewvI76auV8CIfMq2Q71lw+qjWlJz/4eTkChyhcjiqsuv0NLHrVTRiPNZSN0oQ2KQX7M/mIeCQjLaU3osubGqijhHmcAyXnKwxMHV09+zSHSeq2UtwJMrhnNSBtuOxefNm7r77br785S+zZcsWvv/97/PII4/wuc99btF9VCP1ZVAZAr8+OwjBjXxq5eQ/tzouqdADoSFmSgGzQRrnoECb5gdoYUyUTiFkjB4tnPJsaTahqCNEFp2IsanS3HNkBPFBk0eNnh6V0bZKbrnlFvbt24fneTz77LNcffXVs3/bvHkzDz300Lztr7nmGp555hlc12XPnj189rOfndezTVkipUF2ybUACBOsuoeQkjoBtpElK/LUOfpBCAfEuk06biD0HGV/Am/MTzLaBtR76+mup6eHBx54gO9973t873vfY926dVx//fVs2bJl0X3Ul10nh749fQCk/IAgnzvC1ouzdZNQiwFJPZ1DWCbua68t0SoV5cwy3reXlu5efDfCr4fU7SJpPUvBryDdNABRU/qQ/exsE5HvEXoO+ZTFtD8JCHLuRrbXZvoVt50PQy+AnJ+1fiCjTU0lXF2qsuv0Nb5jK3nTo+TkqFlljCi1YEabXk8+/8ZvCLTljbXEMsQRUyB1QtNAlxHD40d3zspoGuIMUWXh3tfK0jipA23H00j9jjvu4IMf/CAf/ehHufTSS3nPe97D3XffzT333DOv59PBVCP1ZTC5M/lnPvkQ3+eM0eS1AlCJG5iBh5ayEUKgxxrpODVvEILeSIJuYSaDBLRg4Qi9pdl4ogpx8m3exNRBAxHSAhmAnInfmb29+P39yEX+O1CUM055kCFxNq5ep8lMYVSTfoiN0KWzaUPy78eZ0ZYmJtINSv4YVHWMjh7iSoVwenopj0A5yVxwwQX84R/+IVdeeSXXXnstDz74INdeey1//dd/veg+6suu1eeHMe5EH4gctl8lzKaO+7ksXSPQk+vsFN1YnXncVxeebqgoyuKklIz376W5q5vyRFLd4WVGabbaMZxJhJtC6hpR5tDeTlYmC0LglKcpZExC4aDpLp3hxbxSmykfbT8P3DJM983bV2tqAiEIp1Tp6GpSlV2nr4l9/TRZAZ5j0rDK6JFN2jg00GbUXaQQxPb80tE8XbjRJKYoJdtpyeDBRmWSMD5ySaiYubf3+stH2FI5ESd1oO14Gqk3Go1DesEcyIQ5kNmkrIDJXaCZyVQjYE99hLzbhmZE1GMfw3dny0YzYfJN3MGlo3rDm3ljsZCajR4sPBDB1GxC0UCSQiIolefeMA5MHo1qMwMRenqQrkt4UJmiopzRyoMU4zU0rApNlo1RaRAj8bw67Zm1BAR4HEcDXSGwhEGo+UwHFQQCkU36NQYqiHLGueqqq9h9mGxi9WXX6nt1uEynP4nQmtC1Oiww+exoWbpGqCdtHIr6GqwWHefll5dqqYpyxqhOTuA16jR391KecIiRNOwxmq1WTLeIaOhJUHyB01VoGlY6i1MuYhmCtKUT6mVa/fN4tTITWGteD5oBY68fsq/W1EQ4pUpHTzWqsuvkJ+OYyckKdroZAN9sYGvmwhNHG27Sn+3g0IaEZlppyCn0qIZmRGRlJ6EF2bDKcOnI9+1aSkcGVfx+lb24nE7qQBsceyP1m266ia985Sv87d/+LX19fTz22GPccccd3HTTTar0bCVN7kwGIWjJ/+Z7GiN0+D3omSTKrnkO2swghGyYNHF15gXaZt5YBMSGjR4uktGm24SagxCCWEvRqM+9YYgUyf4HJo/2zvSi2tu30FMpypmnNIjndeEYddKWgVF1qGR1pJS0mT00qC54A380Yt0C4dCQMYH0IG4BUAMRzkBbt26lp6dntZehHMaWfdMU/BpC5NDtI2d9W9JmXXQ266Kzycn5gVFL14iQgKBMM1a2TrB/P6EqQ1OUYzLevxeA5u4eJkZq1PQAKWJaMRAyRqtFRIfJPrWyOdxahTiOKKRMatEkutfBlOsz7pVAN5N79fFDS7v1QoFIZbStKlXZdXoqT4wTRhIt1QPEREa48CAEwKh5h/RnS5PFxKIuS2iRg2aGWGErjunN9GlbODnlYCKbIaqO4PWpjLblZKz2Ao7kfe97HxMTE9x5552Mjo5y+eWXH9JI/eAMtttvvx0hBLfffjtDQ0N0dHRw00038Vd/9VerdQhnpomdkO+d/XVPY4Qu7xKE7YMEXAe9LUlzzYYpfBEQa3MXAL3uzabJxkYaszGOIEa+ITYs0BB6DEIitDShMxeQE5pAS80NRNDb2hCmid/XB7/+tuU6ckU5dZQHMdw2nKY9dFomRsWhlNPRNElBtDIuho/7qaVmo9FAo8C0N4ZdXI9WKOAP7FvCA1CWW61Wm5eN1tfXx9atW2ltbWX9+vXcdtttDA0N8a1vfQuAL37xi2zcuJE3velNuK7L17/+dX72s5/xk5/8ZLUOQTkKL/ZPsjHwMXRjwX5PB0vJNG8Or0PHACTnxBcxLSbZpb9KQ9TRddCFhRQpqlEK2xgDcjhbt9L0W7+1IsejKKeDiYE+rHSGdFOe4th+HLOOKVLkvToAet3H7W5ddH87k6MmR/GqFZpSOVobFufbBi3ef2BbeYjOzmZoPgvGFgi05ZtUcHyVHVzZ9e53vxuYq+y65ZZbFtxHVXad/Cb7kvZKgbEO16ohIhPbWDj3Sa87RJn5QwsKshWJpC5q6KGDyERoThrXDmmSAUMT03Bex2HXoGWyRLv7CEbOJ3ZCtPRJHxI6JZ0S/6vecssti76hbN68ed7vhmFw1113cdddd63AypRFTe2EDW+f/XV3fYSznVbitgC9EUIYoqWSb+HSUQpPP6gZo0xKR/325BuVSE9jIdGDOqF56CQ0S7OINQ9NTyP9iXl/E2lBVEsCeELTksmH/f1LfLCKcgqSklJpGivK4GkeWSuNUW1QsWJac2swMI+rP9sBsW5jUUPqnRTdETpK6zC71+HvU4G2U8nzzz/Pb/zGb8z+fuuttwLwe7/3ezz00EOMjIwwMDCXpej7Pn/yJ3/C0NAQmUyGyy67jJ/+9KfznkM5+eze3cfZgBUJwsxhJpFJuDi8AknMNu1FQgIKtNITr+fK8NfZrm9lQhvFwkBqBvUgRrdd9JY1OC++qAJtinIMJvf109zVDQj8SoCTK1KwWzG9KeIwi5DysBltumWjGSZRxeHX8m+jkGmmGkVcG7+F8r6zkG0VRGEd9D0BThHSc0E7rSlPODmx6HMrK+PWW2/l937v93jLW97CVVddxRe/+MVDKrvWrFnDPffcAySVXffddx9XXHEFV199Nbt371aVXSeZqR0vYGohZa+dqjkBgUU6u8D/N1Ji1FyCtvmffQtxCw4NIl3HkDGG7hCQQWg5QFIqTiDleQixeEmKnskQl5J7N6+/TPqitqU8RGXGKRFoU04xXhWqo0k6OuDFASONaQw3S2CMYYVJiahmHygdTc/rzyaCEC2MZjPapG4hhYYe1BYMtCV92hxMkQU5hB/4WGaSZqulBdH0XKac0d2N16dKRxWF+gQ7oiQz2NciUpaOUalTbw5ZlzmLmJg6JxZoSzGNI3IU/V0IBEbvJQT7ti3VESgr4Prrrz/st+BvnBj86U9/mk9/+tPLvCplKU3WPOR0PwAZPyDKLf7BvV12kaeF3dprhCIAoEyRilZinTyHi6M3s4OX2adViXUHL3ARKbDXtNF4/oWVOBxFOW2M7+ujY/1Z1Ms+xJJGapw2ow2ztA3ppYHGIdkuBxNC0Nm0gbem3okZ2zwXbaPht5M3dC4RrdT7bXK9yb06k7th3VWz++r5PN6uXct8hMqRqMqu089U/07ypk+1blMvlBBhCnuB0lHhBYgoJkq9MaOthbqoEuvJ4yYVHNFKVvQSGcMYQYXJmkdH0+LXcpHJIN0yIqXh9VVUoG2ZnPQ92pRT0NRMmVEhmTja3xgj67UiELi6S04m2WsHMtoyYQpPm8toM2Ymjsb2XE16ZKTRg+qCL2dqNoGoAUmvt4liafZvWloQN0DGM33aurrw+/ae+DEqyqmuPEi/TM5RwwQhJa6XNFtus3txqCPF8U/olZpFGg808EREIDy0wtn4A6pHm6KcTF4dKnNuvBuwsCKH2Fz8O9j10blUKVMT8xsoSxEzIHYxJca5ILqMjcY6Ik0QRw6x2YTdbuG+9hqx5y3yzIqiHCzwPcpjIxQ6u6lMJhNHG9Y0ebMJ0ysjXJPYMpCL9HYC6Ix7eVvhdwkil932DjzTwYkr1L0cT2u/JBhvIYy6wMrC1PygmlYoEE6qYQgng1tuuYV9+/bheR7PPvssV1999ezfNm/ePO8LrwOVXbt378ZxHAYGBrj//vtpbm5e+YUrC5oaGSNtp5CxhmtX0WJjwdJRs5ZcLw/u0WZIkww5GlSRmpEkosQumhmRjtrxzYBcVGOw6Bx2DVo2+cysN4G3t7R0B6fMowJtytKbnLlY55MP8XsboxTcdgAawiEV+qDrCMPAiA1MaeIeVDo6N3F07mY/1tPoQQ3BoZkVpmYRiDrIhQJtM/vXk/2M7m7C0TFi5/BvQIpy2isPMR734ukNsraJ5vrUzBiBoEXrPKGyUQAEmMIgxEFqKSrhBOhdRNPTRNWFg+aKoqy814YrdPg1hNaEobmLDkBpigvkaWZCW2Ryt4D9Yi9lprnGuoqUmUPGNeqZ87GbGsggwHnppeU7EEU5jRT3DyKlpNDVzdBQlVDE+LpH68wXx5ojD5vN1hWv4eLoCqbFBFumfkrDLZG1dXxZBTT2yyKeXsfZ3w75NYcE2vR8nrhaJfb9hV9AUZRjJuOYYtlDTyU91KTtI4CUeWhIRq8ln1WjtDn7WF42A1CfuUeXmoUIXHQrxPCbcAyPtHQYmDr8fbaWyQIgbI9gqEbshSd6aMoCVKBNWXqTu5I+D1YS+NrTGKHbX4PQJNXIxQ49dDuFEIJMmGS1efMmjnrEljHvZj82MggZoweHTlKxRDJ5FGESo1OuzE1QEenkSaLaTEbbzJQef0CNrlbOcOX91KMeGmaVjKVjVB3KKUlTqpU0GeqceDAs1i2k5iBFlrHaAERpRKqgstoU5STy6lCZtBcgtCwitXgWa0+8Hh+PCtOLP5mAAW03ERHX5v8VEFI0NmKKYbRMBmfLlqU/AEU5DU0OJv1M8x2dTI7XaRgNskYTKXcaKTS0ekiUthbcNyOznB9dypQYZ7/Wh2YY+I1akjWju0BIOxvYbr1EON1ElDkfivPbquiFAgCRGoigKEumMjJAGAsiswffrGMIA9vUFuynptedJOlEnwvX5GULAQE+LpDcZ+uRg2YFIA0i3QIko+Pjh12HSNkgNISoggR/n/oCfDmoQJuy9KZ2zfZngySjrSvoxcqGNIIQM3DRZurN01Hyz4NLR/WGS/yGUcaxnprp0za/XAXA0E1CzUMIgRQWTm3uzUKYgA5xdS6jDcDf178kh6oop6zyfmK/C8dokLEMjHKDago6mzYCUBcnftGVmoUmHAQFptwkC0bvuIhADURQlJPG60NlDM/HiE3i9MIZMprU6JS9FMX4ohlvB8QiYkD0sdZaR3d6I1OyA1EdwzrnbNWnTVGO0sRAP7nWNkzLpl70cKwKTVYzpjtJaOUw6g7RIufrOdHFBPjsF30gwLBT+I0kAyZr60SiTibo5YV4C2gRPldDfRL8uUz2A4G2cFIF2hRlqRRf+yUAjaiLilVEj1KkjIXLv42aO69sFJKMtgbV2etwrFlokYNmRoAkrfeAAOmUKTUWz0YVQkNkM8TONFrGwNtbXnRb5fipQJuy9CZ3JmnoM/Y0Rmh2OzEzIY0gQvec2UEI6TBFKCIibe5bdN3xiGxz/nOKmT5t/qFvBAINTZMgJOhpfGfuRkEIgZaCaKZ0VGtqQstk1ORD5YwXlwawvQ5czSVt6YTFKSIN2tJr8XAJxImXi0jdwqCGLloJYo/I9DG6L1YZpYpyknD8iOnJQYSMsUOxaClau+zGwKAojm4KYV2UmAynuLTl15kO0oDEXtuG8+KLyChawiNQlNPT5EA/+fZOpAThRDhWkZzZjOlMIuMmRLRw6WhTXKBNdjIqBmf7rJqpFFHgEwUBWdvAkRWE14orA7xsEa9+LhIBM0NRALR8HoBwSvVpU5SlMr17K5qIqdYL1KxppG+RWqTPolFz5metyiSjrX5Qaxep2wgZo8UemhmRjTrxzZisbLCveGgV2MH0TIa4VsXszqo+bctEBdqUpRXHMLVnNtAWyogBZ4J0owUtHRJHMZrnzg5CSEfzByGIIELzwtmJo/Oe2siiB3UEh5a2WJpFrHloWprIn99/TaTEbI82IQRGdzd+f/9SHbGinJL2T4+RCnN4mk/GMvDKJYSEVr1zSbLZIPmmzaKBEAamlaZOGb39AlU6qigniV3jVc4TSd+0tB8sWorWHa+lRhlfHN0wA6HBrnAvrXYP0s8DArvNJK7X8XbvWarlK8ppa2r/APmOThoVHy0GxyyT19LoQR0ZJPfQC52va+ONuDiUxFwmmmEl2/tunYxlEFBDSp2muIshsw8Z2kTG+fMCbfpMoE2VjirK0ikO9pGxdJA6tVSRwDWwF8pokxKj6hAfFEzPkMPAoHHQPXqsJX/XIxfdDDHDZlzDo0nW2DdVP+xatHSGuFLB6MrgD9WQ4fEPQFMWpgJtytKqDEHozk4cHXQmiSOJ1sggbR8jCiCO0eyZQFto4x88CMFJ/j1OHRpoi4wcAonuL1A+qtlEwkUTafTIJY7nvjHX0mK2RxuA0dmJ368y2pQz265yckENtYi0peO4VTLSIkchSUtfArFmkSK50EvDZtodRbNb8AePLitGUZTltX20yrpgHBCkPWfetO8DLGnTItspimPLbCnGJWpBmV7RDdk2rEwNNA3nRdWnTVEOx63XqBWnKHR2sX8ouR47Zo2WMLlHFp4xMzRs/vlqSJMO2cOUGJtX4q3pOrph4TfqGBoYpgPEdMQb2RHvRhgRfvo3oTSXbS4MA62piXBCZbQpylIpTk5jWE0gYrR0AIC9wCAEzfURUUyUmgu05WULEkmDgzPaDCQiKR+1Q4gsQkNHj30Gxg/TTxUQmTRROQm0EUn8oRMcgqYcQgXalKU1tTv5Z74XgL7GKE1eG0hBYHhYQfJtuD4voy2Y3V1vJH9fKKNN6gZSMzEWCLSZmklAA00kAxjqtbk3Cy0lkA7IaKZPW1eXymhTzmyhx343+bZatyTEMfXYozO1Bg1tXlr6CdF0UkTEwifCZqTUD0BUWThNXlGUlbV7vEbBi0DLJRNHF7gr7Ix7kUjK4tgyWyzNZNDZTbfVQZQ9H602iLV+Pc7LryzR6hXl9DS1Pwl45Ts6GdpfJRIR2JB2isS6hdYIk95Nbzhfu+KkmmShEu+kT1vyxVfG1gmpk4t6GXIn0XMNAv1K5PT8bHO9UCBUGW2KsjSqo0w3NKTehmtXyejJZ+GFerQZsxNH5wJthbgZhwaxmJ95JnULLXTQzBCQmFo7AGHj8H3atEyWqFrBaEuDIfAHDv18rZwYFWhTltbUbtAMyCVDB/qcMTr9JOjm6u5soE1LpUAmwxAOGYRgGaAt3G05MrIYC/RpM4VNoNWBNACT03PbaMlDxI2ZyaNdXURTU0S1w6fUKsppqzLEVNxDoLnYKQjLZWIBrZm1xEQ4HL6vwzHRTCIcItI0/CpSeAizk7iuzj9FWW27x2tYrkQTGcTC7dnoitdQYTr5sH8MLE1n2BsklCF13gmlfVgbNuC8/PISrFxRTl9T+/chhCDf3sH0pINrNMhZBSxngtBqRq+5xAuUjSbnaolIhIf8zbRtosAjCkMylo5PDeG24cuQWmqSWLYSV+Z/KNcLecJJlYGuKEsh6HuaWmjjRa1MWxPYcQohBNYCGW1GxUEKMa88PC9b55WNHhBrNlrkITSJZkRk6EFqkIkP36dNy2aIqzWEJjDbM3j7VKBtqalAm7K0JndBUy9oSXS+rzHKmnAdQpM0pEsm8hCmidB17NhCQ8ObVzq6wCCEg0RmNnkzieb3iTE0i1B4QPLtQLE0F2gTqSRod6B89MDk0WBAlY8qZ6jyEI2wC8eskrEM/IkJRAzN6V4a1JPBIksk1gyk5gJNAAS6g956jurTpigngV3jFUw3QJfmIdO+ATIySxMFprVjLx/TdYGvR4w4A4T+RUingbWuG3/PHhVoV5TDmNo/SLa1Dd0w8SvJxNGc0YTpTRLazRg195DzNS0z5GmmtEiJt24n3zr7Tp2MqROKOjJKYcdN7BcDQEQQnQ/e3IdtLV8gnFCBNkVZCuXXnwQgCJuo2JPoUQrb0BYc5G1UZwYhzERqDGmQJUd9gdYusWaihy4AuhVhha14ZkBBNA7bp01LZ4hrNYhjjM40wX5VOrrUVKBNWVqTu2bLRgH2NkZp97qxsiH1ICIVebODEFJR8vW5f3DpaN1dsGz0gMjIIBGYwfyou6VZRMJBCEEoLKrVub8LC9CYHYhgdHUlr6smjypnqvJ+Yr8LR3eSxsjjY2QCyFkdNJaqbHSG1Cw00UCXTZimRV2voTWvw9urAm2Kspq8MKJY3YkWedghRAv0Ru2MewkJqXD4Xi8LMTVBJCT769tAGvjmv8Jq0UFK3J07l+IQFOW0NLV/YHbiqO5GNMwShVhDxDGBVUB33EMGIXTGvURElMXC56qu6+iGSeA0EBoYVpLp0hFvZCiYQE/XCMy3QHn/3D6FgurRpihLZHrvqwAI0UTFLhIfbuJopTFvEEJetgAsOKxM6hZCBggZoVkBIrIJdLDjGgOHzWjLgoyJ6nWM9jRRySOqB4turxw7FWhTltbULigkPSKklPQ3xsg77ZiZiLoXYgUump28caRnA20zGW2RRHPDBb9VnyUEsZ46pHxUEzpyJmAnhY3TqB20i0BLQTwT1NdzObRcTgXalDNWWBog5XXi6C5pU8MvTZOPUqS07Lwmq0tB6hYWdXQsUpkc094kQjPwdo8t6esoinJsBqYanC23I4C0v8C1V0JH3EtFFJHHkeWqaxqxpuNGFVzNx7P/NaZZB13H2759aQ5CUU5DSaCtg+myixlrOGaVltBBahpENiKSSY+2g3TEPZTFNFIsPjlQt2wC50CfNkmESz5aw5AzhZEPCPWLiKdH57YvFIgmVaBNUU5Y6FEaHUHTdKQNKVvg+jGpBcpGAYxag/Dg/myyhQAfn0Mnf8f6zOTR0EWzkrJxoefRopBqtUbDWzh4pmWSvuZxpZz0aQOCYZXVtpRUoE1ZOoGbfBOWn2nGGtSoRg5WvYCVC6l7IYbnoKeSkzkV2oQiItKSmwLd8RDIBaeeHSwysuj+oRF9QzeRIkTTUgTu/FRZkRJE9bmbj2Qgggq0KWemock+skEzvu6R8hrIKKLdSDI9HbG0JV1SSwJtkEwhnSjvR8qIYNRZ0tdRFOXY9E3WWTvzpVXGcw/54J6liSw5po9xCMIBhgaQfFs/FtaI9LOJSh7mmjW421SgTVEW4jUaycTRjk76Z5qTu1adZqeY9Gc7MDTsoIy2tMySI3/EgSWGlSLwHOI4ImsZBNQwvA5KYR0/WwWhE47NBdX1QoG4Xid21PVaUU7IyEuUPBOh53DSZZrNLG4QL5jRJvwQ3QmIsgdntLUmZaML1JlKLclGF5E706ctxBZJm6SMbDA4vfD5K2YCbVGlhlawEKamJo8usWULtO3du3e5nlo5WRX3ABIKawHod8bQYg0aaYxMiOP5aIE/Wzp66CCE5OZhofKVg8VmBiEjjGB+QMDULGLNR9PTSH/+m4qWErOlowBGZ6eaPHoE6hw+fe2eTALVHiFapQhAId1NRIiHu6SvFQuT9EygzZMW9UYFGVWJqup7nuWkzl/lSPqn6hTcCLBIebVDrr3tcTchITUOHUB0tHQtCQaMNEoIavjTPZhr1uDt2nUiSz8jqHP4zFQcSiaONrV3MjJcQxKjpzRsZ5wg1YJe85Awr59xR9xNRESF0mGf25ypKAkcB9vUiEUdgjxC6ozHE2hM4JdbZ7fXm5sBCFVW2zFT568yz8AzTAc5Yplj0holI5Ig10ITR81yUu4ZZZPPy0IK8rJ5wbLRZAOBFCZadFCftqiTSJPkhcNwaeFAm56dy2gTQmC0pwlUoG1JLdsnnXPPPZff+I3f4Nvf/jauu7Qf3JST1OTMjfNMRlt/Y4y81wZSgO1jBsl/Bwf3aJvXn63hEps66AtPHD0g1lNIoaG/oU+boZmEwkETaYQMCYO55xYpiBtJOSskk0dV6ejhqXP49DVcSc4xw5YEU1PYmkUm35NMGz386XfMpGZgyYhYePgy+WAQigaIwtK+kDKPOn+VI+mfapB2QWiZZH6RMf+WsD3uoiJKx1U2eoA5E2jz/QDDGsWP3oTRuxZv167Z67GyMHUOn5mmZgJt+fYOKlMurumQ0y1EFBLYrcm9sm3Ou1fuiHuoHKFsFEAzLITQCdzkg7xhNwCNQtTLiFvEMEcJwnOQUXJuaoXkOh2Ojy/DkZ7e1PmrzDP4DMWggBBZpq0JLJlUd6UXyGgzKvWZiaNJYDwn8+joiwfagFifC7RpVogepwmMmBw1RsqLZKRaNug6USV5Xr0tha9KR5fUsgXatmzZwmWXXcatt95Kd3c3f/iHf8ivfvWr5Xo55WQwtQvsPKSSC/M+Z4x14QYAPMPF8pOMNf2gjLaDA21G3SM6QtkoAAIiPY0ezH/DsTSbEAeN5M2rXj9oclJKQAzxzHuN0d1NND1NVF38TetMp87h05SUTDVyhCLAngm0pWKNdLpzyctGgSRwJ0wi4RLHKYTQcPQGIt1JOK1GiS8Xdf4qR9I3WcFyYzSsQ669tkzTRIEKxRN6DdMwiYUO0iFMO0jRhF5YT1yrEY6pPo2Hs5Tn8P3338+GDRtIpVJcffXVR3yeUqnEzTffTE9PD7Ztc/755/Poo48e12srx6Y4NEi2uQXDsggqPg2zTCGKkJpOZOUx6i7xQdmnqZlztXwU56oQYNg2/kyftpQVIYlplesY9ooY2RJgE4wlfZ5mM9rU5NFjpq7Byiwpifc9Q8OXCD1Lw6yiBTampqEvkFxiVupEmbmJowXZSkyEw+L36LFuoYfJh1zNnOlZrttYYY3hkoPk0C+2hBBo2SzxzABBoy1NNOUSe+GJHrEyY9kCbZdffjl/8zd/w/DwMA8++CAjIyO87W1v45JLLuG+++5jQr1pn34md88OQgDoa4zRE6xBaBIHHytwQdMQlgVyJqNNP7h01EUeoWz0gNhIowc1OOiNwxAWoebAzLcEU9Nz5S5aOnkjm5082p3Urqs+bYtb7Bz+tV/7NQAmVSnBqcktUQ86cM0KOQJiz6Mp0LGtQpLRtgxizUBqLlqcIpPJUqGK0HScl/uW5fWUw1+Dv/SlL6328pSTwN7pQUzfxUSf98EdoC3uJCamIkon9BqGJoh1kHGDhp5DxBMQNgPgq9Kqw1qqa/DDDz/Mrbfeyl133cWWLVvYtGkTN954I+OLZCn5vs873vEO+vv7+e53v8uOHTv42te+xpo1axbcXllaU0ODNLV3ICWYXkTDLNPi1wjsFhAaet2d15+tPe6eOVePbjKwYdkEjoOUkLU1AmrYfhejXhGR0dGiMfx9Mx/Ys1mEaRKOq89sx0pdg5VZU3uolmtJsCtjkNZNfF+QshaZOFpqzJaNQjIIoU7tsNnlUrMQUZLQInSJZkToogURRQSeS8VZOHimZTJElQOBtuQ1g9Hl+SxwJlr2JjmGYfDe976Xv//7v+e//bf/xu7du/nTP/1T1q1bx4c+9CFGRkaWewnKSpncCU29s7/uc8ZpdbuxsiENPyQVumipVFIHLnUMaeAdyGiLJZoTHNKMeTGxkUHIGD2YezMwNZNQeCAsYjSmS3PZMmKmn+SBQJvZlTR+V33ajuyN5/CBvhMXX3yxOodPReX9RH4XrlEn4yQZna1RASE0XLE8F1epm2g4GDJFKptlyp1Eyhh3l8poWW4LXYNvv/12AP7wD/9Qnb9nKD+M8ep7EdLDDuW8fk8AbbKTOlViEZ3Q6xi6IBYgZY1anMeIdhDVm8Ew8dT196ic6DX4vvvu42Mf+xgf+chHuPjii3nggQfIZDI8+OCDC27/4IMPUiwW+cEPfsB1113Hhg0bePvb386mTZuW/NiUQ03tHyDf1sFYsUFqZuJoqzNNaCe904za/MElHXE3VUrERygbPUC3baSMCH0P0xBIrYHut9GIfGqWjRG+QjBuIkOJEAK9uVlltJ0AdQ1WGHyGkp8kgTjpgGYjS82LsI0FwjCxxCzX5wJtMgm0NQ5TNgpJ9ppAzgbbNDPEYm4gwnh14fJRLZMlngm06c02aEJNHl1Cyx5oe/755/mjP/ojenp6uO+++/jTP/1T9uzZw2OPPcbw8DC/+7u/u9xLUFaClDA1l9EWyZj97iQ5pxUzG1HzQtKhNzdxNEoiX/7MMAS9cWDi6FFmtOkpJAI9nHszMDSLSLgIIYiERfWg0lGhCYQ9F2jTMhm0QkH1aTsKbzyH//N//s8A/OAHP1Dn8ClIlgax/E5cvYFVL6Ol0+TM5AbeXaaMNikMTOpo0kQYaSrVEtItEY4uQ6mqMs9C1+CtW7cCMDIyos7fM9RQyeG8YBiAjOPPu/ZqUqNZth11hszhGJpGLHRkXKfmGhjaEDKysc6+Ar+v/4Sf/0xwItdg3/d54YUXuOGGG2Yf0zSNG264gaeffnrBfX74wx9yzTXXcPPNN9PV1cUll1zC3XffTRQtHnT1PI9KpTLvRzl2YRBQGR+jqaOTvn0HJo7WyEYRQaoVEURofjhb6m1JmzwtlMTRl3gbVnL/HbrJ9VczXLQ4gxGnGYt9DPk6xBrBaBK405ubVY+2E6CuwQoDzzChnwfAZKpCs5mj4YdkLOOQTfW6i4hiwplAW4o0FqnD9mcDiGb6oeqzfdoi9LiVWEhyOExU/AX307IZonLyXiN0Db3FJhhR9+ZLZdkCbffddx+XXnop1157LcPDw3zrW99i3759fP7zn2fjxo38+q//Og899BBbtmxZriUoK6k+AV4F8snE0RG3SCAjzHoeKxtS90Is35k3cRTA15OMNqORvDEcbUYbIgm26QdNHhUIND0JpElh49Tnv1FoKUF00ORRs7sLv0+Vri1msXP4jjvuAODaa69V5/ApaGJiN1mvlYYWQHkaM5UhlenAixtH/Y34sYp1E5skKO7EOmEYEMU1ItUicdkc7hq8YcMGAL7yla+o8/cMtW+qTpeXXHczbmNeoK1ZtqGjn3DZKIChJ4F2pEe5LtBSDcDD6N2E36dKRw9nKa7Bk5OTRFFE10wW/wFdXV2Mjo4uuM/evXv57ne/SxRFPProo9xxxx3ce++9fP7zn1/0de655x4KhcLsz7p1647jiJXSyBBSSvLtHYyNJBNHTdNF6haR1YQ2c68cz9wrt8fdSCSVYwi0aUJDNyx8N8lwSaWS5yxEaxj1S2hmiGZM4w0kgVWtUCBQGW3HTF2DlVkDzzAargORYcIcIy3SSClJLTAIwZxOPruGuSQxJS9bAKhzhCwzTU8GBc4G2gKEEIS6Rk5UGa96C++WyRKV51otGa1qIMJSOjSUukS+8pWv8Pu///t8+MMfpqenZ8FtOjs7+cY3vrFcS1BW0hsmjg4442ixjmyksLJlasWAVt9FT89NHI2JCURSM67VPGLTOOLE0YMlfdrmf1I3dB0pQjQtReDOf6MQKYhrB/V06+pWgbbDUOfw6Wnv0BAalxAKl7hWxe5cQyrTvmzZbABoFmmmcIF6mNxY+KKBEXchZVKeoiytozl/Ozo61Pl7hhosNmjyIhA2VuDhHtSjrVV24OHisciksmMgAE0zgQY1J4KWArrXD/mNuC/+6ISf/3S2WtfgOI7p7Ozkq1/9Krquc+WVVzI0NMQXvvAF7rrrrgX3ue2227j11ltnf69UKirYdhymhvYDycTR2lQfmunQFPuEqeTDtlGbCbSlk/O1Q/ZQo0J0jCXeSZ+25JqftiUVAprCNYx7OyFVwJA78cevJvYkeksL/p49S3WIZwx1DVYAaBRhahdF9yqEHuMbJYwoBXhkrEPznYxyncg2kTP925pkAReHSBx5QIHULMTMQAShxwgRg57GChuMVxeefKtl0kTVuQxkoy1N/flRZCQRx/CZXFnYsgXaHnvsMdavX4+mzf+PSErJ4OAg69evx7Isfu/3fm+5lqCspKldIDTIJz3a9rkTNPttIAVGJsQfqCU33AeVjvpakNyFk2S0RUc5COGAWE9hekWEDJAi2dfULGLho+kp8CfnfYjXUoKgOJexY3Z303j+efVBfxGHO4cPUOfwqWdwMrkIZ6PkGywbAzvdzrS2fKU+sTBJyZBYePihTsYwaegOWd0mLHmYLakjP4lyTI50DQZ1/p7JBooN0q5EiBSC+aWjrXEHVVGavT6fKENPMthl5OEbnRj+DqLUvyEYm0KGIcJYtlvRU9pSXIPb29vRdZ2xN0x4HRsbo3tmKNQb9fT0YJomuj6XbXHRRRcxOjqK7/tY1qGVB7ZtY9v2UR2Xsrji8CB2NoudyRLVAlyzTHPg4meTahG97iJ1QWwamNKiWbYyKI49M1S3bbxGlTiOsQyNiDqpoJMh/1eQascsvYBvXI2/P8ZoaaGhMtqOmboGKwDsfw6AasNHmCl0NELfwNQDDP3QQJs1XSXKzd0T5+NmHHF0pZyxZqFFM4E2QLNCdLcVPdpPqVpf8POuyGSRrosMAoRporelIJSEUw5mZ+Y4D1o5YNlKR88555wFJyIVi0U2bty4XC+rrJap3ZDrAj25WR9wxlkXbkj+ZocYXnLiz2a0hTOBthn6G8aVH43YSJ7r4PJRQ7MINRddZEBG+N5cBF+kBDKA2J+ZPNrTg2w01DSlRSx2Dk9Pn3jfHmX1TFZ0IhGSCaoIwyDj61h2HlecePbKYqRmIIBIuBBpZDI5yjLJRvV3qkbAy+Fw1+DLLrtsFVaknEz6pypYXoTQLKSWfHAHSMk0GXJURfkIz3D0dCO5tsuoTk10oEd9gIbevJFgkfJFZWmuwZZlceWVV/L444/PPhbHMY8//jjXXHPNgvtcd9117N69mzie+2Jy586d9PT0LBhkU5ZOcWg/TW0dhFFMyotpWCXycUSYmhmE0PCSFisC2mVSDlw+hrLRA+b6tM18KDcdjKCNauDg2lmEO4beDP5ghN7cTFytEjvLd49wOlLXYAWAgWcg3YrnVolsjYKZTfqWL1A2ipSYpRphU5KUIqQgR4HGkcpGZ8S6hR7Ofe7VrAiT5H3CCBtU3EOz4rRsNtl3pnzUaJ2ZPDqiykeXwrIF2g7+xu1gtVqNVEplL5x2JnfNZrMBDDgTdAe9CE3iCBfbd0HTEDMX93Rkz/ZnE0GE7gVEx/htqNQMpNDnTx4VFhEumpb8N1avzZWWaukkij87eXTm21xVPrqww53Dyqmr2mjCNSuknQp6rolclHxjtZyBNgRIoSM1Dz2ySGezTPtlZOjhqkDbslDXYOVw+stDGIGDiUZsG7PZa61xBzExVZYu0GYZOrEQSFmjHjcj5CRoPnrbeQQDA0v2OqebpboG33rrrXzta1/jm9/8Jtu2beMTn/gE9Xqdj3zkIwB86EMf4rbbbpvd/hOf+ATFYpFPfvKT7Ny5k0ceeYS7776bm2+++fgPRjkqU0ODNLW1MzhWx5IadbNCTljERvLBW687xDODEDri7pmy0SOXlL2RblgIoeG7yf2zaXpoWFhxnnFNBxljFOpE0xKR7QBQAxGOkboGKwAMPkstvwkZ16lbIQUjQ9UNyNiHBtr0uocWRLP92TLk0NFpiKN7z5eahZARQiafrzUzRJBDCkjHDYr1Qwci6DOBtmhmgI2WMtByJsGwGoiwFJY8X/9AjwYhBHfeeSeZzFzaYRRFPPvss1x++eXH9Jz3338/X/jCFxgdHWXTpk38j//xP7jqqqsW3b5UKvHnf/7nfP/736dYLHLWWWfxxS9+kd/+7d8+rmNSjsLUbui8ePbXfc4413jXYR4YhBA4aKn0bMpqKrKZMkpA8g0dzPWcOBaRkTpk8miouRAlNwbFUpnW9k4AZmJvSZ+2FjA6O0HT8Pv7yP7a1cf82qerI53DTz311GotTTlRoUfgtRPrZdK1CkZPN9licpFdin5MhyM1Ey120GhGWBnqjWFiJvGHW5b1dc80R3MNvvTSS3n22WdXa4nKKpNSMlUeREgXSzYTW3PX3hbZQYMq8TH2fDocwxBIoRHJMjVvA8LKopsl9LZz8YeGyC7ZK50elvoa/L73vY+JiQnuvPNORkdHufzyy/nRj340OyBhYGBgXnnbunXr+PGPf8ynPvUpLrvsMtasWcMnP/lJ/uzP/mwJjk5ZjIxjpoeH6D3vQgZmJo46ZhlbL8xenY26R9iUQZc6zbKdYbHvuF5LCNAti3Cm2iSddmk0IBN2MyEk6wHDGMXTz0GGyf10MDaGddZZJ3qYpz11DVZmRQEMb2Gw+WPAi0xZVbr0HspBTMY8NARjlpLPswcCbTmZB8A5yh7KsT4zeTR0CE0TzYwQQhDpOhlqFOseG9vnX3HFzH+fByaPwsxAhFEVaFsKSx5oe/HFF4HkRu6VV16Zl2ZuWRabNm3iT//0T4/6+R5++GFuvfVWHnjgAa6++mq++MUvcuONN7Jjxw46OzsP2d73fd7xjnfQ2dnJd7/7XdasWcO+fftobm4+4WNTFhEFMN0P574DgFBGDLlT5BqtWJmIaS8kFcwNQhBSYMfWbOmoXneRQsxOUToWUrMx/LmsNUuziEQFIU0idKYPmqQiDIEwmZ08KgwDo7sbb6+afHawI53Dl1xyCc8///xqLU85EZUhDL+LutZHJgwwmvJkppvwwzqxvTwTRw+INRMDF0ILX5rEMiaMa+jl5mV93TPN0VyDP/7xj/PmN795tZaorLKyE9DdSEo20340259NSEGLbGdCDC/p65maRqzpCFml0tAglUdnGL31Evz9Ly/pa50OluMafMstt3DLLbcs+LfNmzcf8tg111zDM888c0yvoZyYanGS0PfIt3fwyms1EBGWViWyNiQbSInecPE6CrTIDjQ0KuL4W3kYpk0wUw6asiRVPPJRDxPRAOgGwpvAaD2XcDr50B+OqYy2o7Ec12CVcHKKGnsVAofRRhsA5ZTD2tgGYjL2AoG26dq8QQg5mcfDPeovvqRmIRFooQtmHiEkwgghTJGVdSZrh04e1Q4E2ipzn5f11hTe3qXLaj+TLXmg7ec//zkAH/nIR/ibv/kb8vn8CT3ffffdx8c+9rHZFPcHHniARx55hAcffJDPfOYzh2z/4IMPUiwWeeqppzDN5ObxwBhlZZmUBiAOoZBMHB11pwllhNnIY7aH1LyAlO+gtyaBUTuyEIiDAm3OvNKVYxHrKYScG4igCR0pktTYSFhUa/OnkoqUmC0dhaR81FeBtnmOdA5XKhUeeuihVViZcqK8iT4yXitVI2nOqmezpI0CXryME0dnSM3Ajmp4QGWmPaOnOVhRChnFiAWawirH7miuwZXK8g2+UE5+g0WHNTNfUGUcl3hmGEmTbMbAWNL+bAC6lpSOEznUHANa8+juHoR2uSpPWYC6Bp+ZijMTR5vaO2hM7Uc3a+TjmMhuBkBzA0QkiVMWbXEnDg18cegH56OlWxZurUwURcngC62B7Xcy4b8CdgFqUxjdGu42id6+gXBM9VM8Gkt9DVYJJ6ewwedAM5gsJx9wfUtCYKFpHrZ56D2vOV0lmunPBkmg7Wiz2YCkTYtuJYG2GZoRI7QCljfM1AKBNqHriHSG6KDEFKM1hbN1grgRoGWOvdpMmbNsn2z+5//8nyccZPN9nxdeeIEbbrhh9jFN07jhhht4+umnF9znhz/8Iddccw0333wzXV1dXHLJJdx9991E0eLRYM/zqFQq836UYzC5K/lnPgm0DbgTCCmQ9RRWNqJa9zFCf3biaDpKerEd6NGm11zi1PFNq4r1AwMR5t6IND0JpEnNxq3Pr2vXUhDVDgq09fTg7VZjyxeyFOewcnLZ3b8TDR3dL6Ol0+hSw0634R3Lhfw4Sc0kMzMAoeFLLMuipjUQQiecUE2Wl5o6f5XFDBQbNHs+YGA3arOlo62ynZDgqBsvHwtdM9HigDA0CMx2NHcnUkZEpSV/qdOGOofPLMWhQTTDIFNoRtQjGtY0TQgiMyn1MurJh+QoZdEqZyYDn4A3DkTQDBc7amPSLyPtJmhMojcL0MDccBXB6Njhnk55g6U6fw9OOLn44ot54IEHyGQyPPjggwtufyDh5Ac/+AHXXXcdGzZs4O1vfzubNm064bUox2j/c9B2LqXpKug2lmFRcyU5yzg0tySWWKX6bNkoMgm0uUc5cXT2aTQLLTroM7EZYtIOQK2y8Jdoei47r3RUn/nyLRhd/s8Gp7slzWh773vfy0MPPUQ+n+e9733vYbf9/ve/f8Tnm5ycJIqi2T4SB3R1dbF9+/YF99m7dy8/+9nP+I//8T/y6KOPsnv3bv7oj/6IIAi46667Ftznnnvu4S/+4i+OuB5lEVO7wbAhk6TGDjoT5L1WiDXMbIQ3lJy8eiZ580gdCLRpPsTJzYPXVTiul5a6gRQaetggtJLnEIYAJEJPEXqleduLlCAanyuRM3p7CR95hLjRmE2fPZMdzTkcBMGCjysnv4HhKQBsv4qRy2HUPSy7gBsuf0mI1EwsGRALn8CPSWdylKIavYDXX8TsVp2aTtTRXoPVOXxmG5xukPUi0DPocXW2dLQlbqdK5biyy49EN03wJEiHutZJc9BAmDWkPL5r/+lKXYPPXMXh/TS1tVP3IjKhZNwqsU7MfQmtN5KAmGU3Y5M64cxTTTcRQiPwHOxsDtPyCH0LEWappHIUyvsRukBvEcT1NxGO/csJvd6ZYKmvwQcSTg4eVnIsCSf/+I//SEdHBx/4wAf4sz/7syRzcQGe5+F5c9lOKuFkiQw+i+zeRKNWJTZMmg2bSimgLXdoqyS97iKCiDCXBLksbEwsHHFswa5YszH9uZJyzYgQIgn4Bk4ZKeVsv/TZbbJZ4oNLR5tt0AXBaB37bHWNPhFLGmgrFAqz/+cVCqvzf0wcx3R2dvLVr34VXde58sorGRoa4gtf+MKigbbbbrtttnklJG8w69atW6kln/qKe5JsNpEkSA44E6yL1gNgpAPiRhKN19JJICsV2QQiJBYSreEh4pgofXwZbZC8qWjhXEaMKQxi4aNrafBHiaMIbebioqUF0gMZSMT/n70/D9Lsuuv78dc5527P1vs207PJlndjC+xYUYgLnChWIIVNEr7lcgg2DnYlJqoAKipGVJCxqUSGyGCSuBAlI2RXXBgqBU5STmzzkxGYYLzJstaZ0azd03v30/2sdz33/P64T3dPT3ePZka9PD1zX1VPtfo+9z73tOY595zzOZ/P+20L7MOZU2p47jyFN77hhttws3AtfTif5B9c5pZiEnycoIU6NELZzybagXXj5SfXSiptBKBFiDSSQrFMo7pIGqwQnJ6h/HfzZ+7L5VrH4LwP39pMVNuUwwREFmBLXQtlFBX6mBIXduWeyrLRQJo2aaUD9AFCNpDFw5g4Rth5eQrkY/CtzKrj6NkLNSSCtlOjaFfW3letkNSx6JPDmNTQ4uUFQzJDBJc4WDVEiGg0oZCMsGTH9Po1SGOsAUWyOEZ8YeVl3e9WYKfH4Dzh5ADTXICVizRe8TPo5ByhZyjJIis6pehspc+WVXysZrSVTBm4diOEVYzqOI+mcWZCZmmEsNBS4GqfRpjQ420cb0WxhK6trP8uBarXJZ7LpR1eLjsaaPvDP/zDLf/7RhkaGkIpxdzcxnTlubk5xsbGtrzm0KFD2La9IWr/ute9jtnZWaIo2iBKuYrrurjujQd6bnkWz0Dl8Nqvk8ECY/FxEIZQhrhRGywbaWVfN0+7a/psViurI9c3YISwirFcVLL+IHKkSyJClMwCe+12k3IlG/BkJyNXtwxWn8A+dAiA6OyZPNDGtfXher3O5z//+b1qUs4OUmu4BOICljFY5QrlRRdc8OXuB9qMtDo/QxztImxNO/RJ00XiqTybdCe41jE478O3NherNe6IA5TKFvGpY9NnBpBImjusz7aK4zj4gGaFps4WjdKqYYpHiC7O4N5+bFfue9DIx+Bbl+rUJU686Qe5MJkF0Fp2jYJznNUaDNUKSD2HPjNAmyapePkGRpbjrBki2JYmJaSoR1iU07wCA+0qqn8EIQRpmGe2vBTdMAbnCSddwlRmWFMVr4H0+zSdCCfN1rolb6tAWwtdWDdCKJkKKZqIYNO5V2NNUinxSRwblAGRYKSNl7ZYbkWbAm2qXCK6uNHBWPW7xHN56ejLZdc02nzfp91e/we6ePEin/rUp/jqV796zZ/hOA5vectbePzxx9eOpWnK448/zl133bXlNT/8wz/MmTNnSNP1Aej06dMcOnRoyyBbzg6w9OKaPhvARX+egXAEu6Bpxgle5CML6+KOnl53HLWaPqljgXXjX8VUuQgdIjrTEUvapDJAdR42zctSoKWX7TSlHZ02WSighoYIz5y54fvfrGzXhy/vjzkHi7Ddh9aTIASqVKKUFNE6RMtk928uJEZIpAywKRBLB2MMcdpA13ehVu0WZyfG4Jybk4tLk0jtYwuJQZDaFn1mkIiQ8Don9deKYylSIdFplWZgg1NEWYsA+C/M7Mo9Dzr5GHzrELSatGsr9AyPUJv3iS0fjwhjrwe3VCtAeza9ZoCWaFzl064dZTvoJFrTsTYyoBiPsmg6c4L2ItIRIH1k6ThpFO3IfW8FdmIMvtGEk1e/+tXbJpxsheu69PT0bHjlvEwufRsKAyw1Kpi0QdtJMLGDY0mcLcy/7FpzXZ8NKJoKAf51SzmsSSrpLIAuAGFrhCxRMG2W25u/A7JU2mCGAGD1ZYE2Y8ym83OunV0LtL373e/mc5/7HJDZDL/tbW/jk5/8JO9+97v5vd/7vWv+nPvuu49HHnmEz372s7zwwgt8+MMfptVqrbmQvu9979tQu/7hD3+YarXKL/zCL3D69Gm+9KUv8Z/+03/i3/7bf7uzf2BORtSCxgz0ZhltqUmZCpYoB4PYRU0jiHEjH6u4/vAoaI9IZR3davovq2wUstJRgVlzWbGlQ0IEpoBBsLiy/vAQtgAry2hbxT58ODdE2ILt+vC/+Bf/4ro/69Of/jQnTpzA8zzuvPNOvvWtb13TdV/4whcQQvCTP/mT133PnCvQCSochmQBWSojpKREmTDemQn7tWCkjSNCpHGox9nswVc+GBtd3/2suluJq43Bn/nMZ/a5dTn7hU4Nuj4BGFyTlY0iM322ptgdfTboOI9KiaFJ3VfgVrDkAiZqEV3cnSy6g85OjsE53c3y9BQAlcEhknpMaNfoMVnFxipWy0cWevEo7FigbdUQQYfZolxZAV4yxGLSAuVAMwuGy1KCGnkD8WzuPHqt7MQYnCecHGAmvw1Dr2Z+tg1oIkcQ+oqSu0UxYccIQZfW18olUyEQN2YUZqSDjNfLPpVlkKIP22iqjc1ZarJUxgQB5rJArOr3MH5C2sylCl4OuxZoe/LJJ3n7298OwP/4H/+DsbExLl68yOc+9zn+y3/5L9f8Oe95z3t46KGHeOCBB7jjjjt46qmn+PKXv7xWrz4xMcHMzPpu6NGjR/nKV77Ct7/9bd70pjfx7/7dv+MXfuEX+JVf+ZWd/QNzMqrnsp+d0tGFqE6YxjitHpxSQqOd4MYBqqPPhrmsdNRkjqO68PIe/KnKJgqrgTZL2mgZIlJFLGxWrojSy4JYy2gDsI8cITx9+mW14WZkuz788MMPX9fnrFqTf/SjH+XJJ5/kzW9+M/fccw/z81cX4L9w4QK//Mu/vNaGnJeHXp7CjfpR4Qp2JSsZK6heonTvNBhSaeF09CZqQYTjejSs7PdoauedDm9lrjYG//7v//4+ty5nv5ip+Yx2TIIKica4NpaxKNND82VqPr0UQtqg24SRjXF7kdEyaXuBZGl7V/hbmZ0ag3O6n6WpSQC8vkEKYUrTqVIRly3IdYryY4qVTO5kp5yBVw0Roo5Om+UEKArUAo0p9ICfBdrUgEK6FYIXpnfkvrcCOzUG5wknB5BUw/R3Yfi1LM121qCOTSswlLcItKn2RiMEDJQoE1ynPtva7S1vg6SStFMsBgCor6xsOl+UMjOyy3XaVH+2to7n8/LRl8OOarRdTrvdptJZzH31q1/ln/2zf4aUkr/7d/8uF6+oA34p7r33Xu69994t33viiSc2Hbvrrrv427/92+tuc84NsNTJBOuUjk7482BAtIrY4y2a9Tr9JkV1HD0to7CMIpQxMoiQiX7ZgTaEwAgbuZYmK0EmYAQah1Zr4+JBeqAblwXaxsdp/J//Q9pqIUu58+Eq2/Xhv/N3/s51fc7l1uQADz/8MF/60pd49NFHtw2Aa6356Z/+aT72sY/x9a9/nZUtBoac6+PSmVOQRlhJiFWpZEFvp496e2nvGiFtikmDAIjChEKxRCOJMFGb8HyVwusG964tNzlXG4MnJyf3uXU5+8VEtc1I3AAEXhSROha9ZgCB2DV9tlWksknDFiBpqzFKje9BUiP1x7d0QrvV2akxOKf7qU5NUurrZ2I+xDaCZWeZ2+R6dovq6BmX3VEiQmKxMyWcQmTlo0mYfb7nxjSbYMV9tFxJubkAgD1aJDoXE57NxdGvlZ0ag9/znvewsLDAAw88wOzsLHfcccemhBMp1/NmVhNOfumXfok3velNjI+P8wu/8At85CMf2dk/MGd7Fk5C1MIMvZpax+TAdgto32yZ0WavZP1KdwJtLh4WNsF1Oo6uopWLClcQpBgkQmkQ2frWb61sOl+VM+MFvVLDGh7JjvW4IAXJfBte2XdD7cjZxYy222+/nS9+8YtMTk7yla98hXe+850AzM/P57XfNxNLZ8CtgJf9m14KFinGFUyicIoJYUcfbVWjzdNZhDySEVYzC4y93NJRAG05G6L3QnYCacojam+cGFyZ0eaMZ0HCXKdtI9v14YWFhWv+jFVr8rvvvnvt2EtZkwN8/OMfZ2RkhJ/7uZ+7pvuEYUi9Xt/wytnIhQuTpEmW/asqFbzIRsobH8hvhFRY2GlAKkKEEXiFEq0kJm3NE7547d+rnJfmamPw6uQ/59ZjYqnNQBiCKOIEAamTaT5FhETsbvm2sm2k0WASWgxD2ACagI2u7o423EFmJ8bgnINBdeoSlaFhLnbKqFtujaJVXnt/1TisZA/uWDbbKsp21pxHbTvGkOAlQyw5HrQ7paOOTdqaJZ5/+QYMtwo7OQbfe++9XLx4kTAM+eY3v8mdd9659t4TTzzBY489tuH81YSTIAg4e/Ysv/qrv7pBsy1nl7n0HRCShvMqkriBEQKlCkghKDmb/x2slRapY2Wa5WRlo0Cm0XYDpKqAAFScze8z51GJVorE3/z8kKuBtuWVtWOZ86iTZ7S9THYt0PbAAw/wy7/8y5w4cYI777xzrZb8q1/9Kj/4gz+4W7fN2Wuq5zY4jk74CxxNMvcwq5Bgmi2MlMiOq+taoE3FWA2f1H55RgirGOkik/UHklRZIE1ZBUzUxpj1yYEsCkwMaZidY42Pg5SEL774sttxM7FdH/7a1752zZ9xNWvy2W20Pv76r/+aP/iDP+CRRx655vs8+OCD9Pb2rr1yt6TNzMw1SNJLpJaFdF16WtmAHqi900Yz0kYYTSojHGywPNpBG92aJV6IctHVHeRqY/Cb3vSma/6cv/qrv+InfuInOHz4MEIIvvjFL77kNU888QQ/9EM/hOu63H777ZsWATn7x8Vqm2IUgXJRYULqWPSlg7uqz7aKbWdOZzqt0TJ9AAiV7fZHk3unFXlQ2IkxOOdgsDQ1QWVwmKWZFlomRCqgYPetva9aAUYKyqIPX+xsVpnlOOg4JE1ThIBUBBT0MItKQdiEztzaxIuYoIDRebDtWtipMTjnAHLp29B/guqKi0kbRLZAJA4Fx9oyc9uutdbLRoGiKaPRN7z5ZaSDQSCTzrNCGhCaVFrIqE2SbpRrEJ6HUBb6iuoh1eeS5M6jL4tdC7T91E/9FBMTE3znO9/hy1/+8trxf/gP/yG/8zu/s1u3zdlrls5Az6G1Xyf8BQ4lRwAIrRA3aiPcwtqDpaBdUlJikWRGCMWXn80GmU6bTKN151FLAAbLLgIG/7KsNlHoOI92ykel42CNjRGcynXaLme7PvyjP/qju3bPRqPBz/zMz/DII48wNDR0zdfdf//91Gq1tVdeGreZ6rIg0ZcQxTJCCMqhR6pjQnvv9JGM7FiKqwgn9QhF5jwayjYkCr2cGyLsFFcbgx988MFr/pxWq8Wb3/xmPv3pT1/T+efPn+ef/JN/wjve8Q6eeuopfvEXf5EPfvCDfOUrX7nuvyFn55motnGiCJSNiDW4BSr00tplfTYAtyPErVmknWQ79spJSMOVPNC2BfsxBufsPUkcU5ufo2domGAlJLYblFKDtNarf6xmgOoZwsamvcOBNmVn8/DV8lGhAgrJMNXVeEDHEEHIJmARXcr1VK+FnRqDcw4glzIjhOVFAzQI7ZQ4sCi7W2cVWrUWurQeaCvdoOPoGgKMclEdQwQBoBKELODRpu4nG08XAlkubw609brECzeWVZeTsWsabQBjY2Ob7Iff9ra37eYtc/aapbPwqneu/Trhz/OG6I1YnqYZx7hRG1Uqrr1/uRGC1fAJh3u3+tTrJpXZBF7GPtouYUmHRITYqogGGvUaxVI2sV+VvdBNg9WJ5djj44QnT+5IW24mturDb3nLW675+uu1Jj979iwXLlzgJ37iJ9aOrTonWZbFqVOneOUrX7npOtd1cd2dCdrerASNMjJexBrJMlDLcZEoqmPKe1dOkHYCbUpGKNNLI8ncjNpOSAWIJupYA95VPiHnethuDL6e0uof+7Ef48d+7Meu+fyHH36Y2267jU9+8pMAvO51r+Ov//qv+Z3f+R3uueeea/6cnN3hwkKN22If6WXjYbkw1tFn2/1Am1QKhECbFerRUVAWUqXEKzOEF8d3/f4HkZc7Bud0PyszU5g0pTw0guNXCUsrVACj1pdoquXj9RwHwGenA202IEjCAKdQxLJDpH+IhaSjA9degL6jqJLB6Ijw3Aru8VwC6FrYiTE454AR1GHhFLzqnVRPG4xZIbIFSWRTqmwOu4gowfIj/A2BtjLhy5R10VYBlaw/K6SVIqIKlllhsd5moLRxzZQF2pY3HFP9LmkjIg0SpLerIaObll37v9ZqtfjEJz7B448/zvz8/AabYYBz587t1q1z9oqgnuk39GQLd2MMk8Eid/lD2MWElXaEF/nYo+sC56uBNumHCJ3uWEabUZ1Am84CbbZ0CEWILVwSBIvVFUYPZZl2QgrEFYYIztGjNB5/PBdkvozt+vCVfflqXG5N/pM/+ZNr1z/++ONbGpy89rWv5Zlnntlw7D/8h/9Ao9Hgd3/3d/OS0JeBaEmE0Xg9WXC7ZMpEcWPXy8U2IBUGgSMjYiyWg4BBx6XtSVJ/mfBCjeIdI3vYoJuXq43B19OHr5dvfOMbGzQZAe655x5+8Rd/cdtrwjAkDNezGfNFyO5gjGFm6SLCJNideoYeZ5SYiJDd10gTAoy0SNMGLd8Gp4IkIm1ME0+3MEmK2AEpiZuFnRiDc7qfVcfRBkWK6TKTzjKVK5ZnVjOgcCwzQkhEvKP3F0KgbJs4zDJXHDci8CUN3wK3BK1ME1D29BLPXCI4M0zPO47taBtuRvZrDM7ZZ6afBAwMv46lvzGkaQNtS6SRWxsh1LKAmi6uO44WqTDP1MtqRqoK2OEywsQYYaNsg8UAhkmWqlU41L/hfFkuk1ym0QZg9WVtiufbuMfy4PqNsGuBtg9+8IP85V/+JT/zMz/DoUOH8uDFzUi1Eyzt2I0vx01aOsBt9+GUNI1Gk0KqUYX1jLZC4hKpGLuxc0YIQOY8KtedRy3p0JYhwnjEwmb5MstiyHTadGN9oLOPHiWt1Ujm5rC3yLS6FdmuDwdBsK1b6Fbcd999vP/97+etb30rb3vb2/jUpz61yZp8fHycBx98EM/zeOMb37jh+r6+PoBNx3OunbDeRoZ1NGD3ZI6jRdVLVW+tk7ebGGnj4RMDQRRSKJbwpSRdmSI4PQy8as/bdDNytTH4evvw9TA7O7ulJmO9Xsf3fQqFwqZrHnzwQT72sY/tSnty1qm2IirBNAAu2UZTjxreE322VYSyEKlPom0Suw+VtEgbAaQQTTfzyfxl7NQYnNPdLF2axC2VmZjNAmhVZ5nXyMsyu1ODaocUvOEdz2ZbRdkOSccQwXVjAkAkPYRuL27HeVT19RG8cJ7o4ivzoPg1sF9jcM4+c+nb4JQxPYepLiaYxMfYRWwpce3NfcZqtDBCrCWeZI6j1ss2KtNWNtdScZPE6UcqgxQ9aKBe2+wwrioVoqlLG4/1dcrK5/18bL5Bdi3Q9n//7//lS1/6Ej/8wz+8W7fI2W+qZ7OfPVnJx0SQDcaiWcQeDvAXaxQAVdxYOlq1aliNNtq1Qe3c7F4rB5Vku/K2sNC0SbUkFg7NKzIkZFGQLK0H2pxj2e5ccPJkHmjrsF0frtfr1zVBuF5r8pydZ/HMWUwyTeI4CKXwEhclbUKzO5P2q5FKG9s0MRgUAscr0mzW0fVL6OobSP0EWchT1F8uVxuDr7cP7zb3338/991339rv9Xo9z17dBS4stRlNsgl20aTguFToY5oLe9YGZTnoINN4altjVOJzpK0IhCG62Mgn85exU2NwTnezNDVJz9Aws9NNXAy+3aAo1zVqVTtEpIaSPUBVLO1KGyzHpV2rYoxBSY0moJAMsVhZZLw1n7Wjtxe9MgmJIbrUwD2xM9IvNysHaQzO2UEufRsGb6fRkCRRE0G2Pi1uo89m13x0wVlTzX+5jqNrSIWRNlYn0CaURgiFlpJ2a3OgTVbK6OWNpaPCksgeh3h+79cKNwu7tprp7+9nYGBgtz4+pxuongO3B9zMFnjSX8BJCpjIxik1Sc5nlsbSy3bmhBG4qUMoI1SjTbpDZaOrGLku/AgCo2KILLA8In+j0LIsCswlMLFB2AI1OIgslQhPnqSSCw0DO9uH77333i1LRSFzKLwauWPhy+fiuXOkyQy6kvW5cpIFv33hA3usbSdtVBqQyhAXi1TZtFvTGCQgCC/WKbw2HzteLvs1Bo+NjW2pydjT07NlNhvkGot7xYXFFoNRC3Dw4giv7wgSSVPsnRGB5djotgaT0BbDVKLvIawywomIJupArtW2Sj6PvjVYmrhA36HDnJkOkHZIKlOK9noQS7UCLLuIIws77ji6dg/bAWNIwhDb80AFeMkgVdthfGkJjEb19WFa8yAN4dlaHmh7CfL+ewtiDEx+O9NnWzCYtOOqbVwGtigbBVCNFvoyvbSX6zh6OVoVUFEDSiCsjvSAVBh/s6GJLFcwQYAJAoS3nlFr9bnEufPoDbNraSS/8Ru/wQMPPEC7nf/j3LRUz6+VjULmOHokzrIQhBej/CZ4646jrnYQCCIRYbXCnSsb7ZAqB5GGa86jUqVgBJZThCQgSdZdVmQxa9OqTpsQAvvoUYKTp3a0TQeZvA/fPExenMWkVWQlyxYphwW0jgjVzmq9XAuptJA6AhVj4xIKh9SkxH0eRvuE5zfvtOVcP/vVf++66y4ef/zxDcf+/M//nLvuumtP25GzmQtLLfqjAGQJFUWUeo6SEBOwd98R284MUXS6Qtv0I3SALJchbRBerGOMeYlPuHXIx+CbH50kLM9OUxkaQbQTEqdJSRuEXVk7x2r6uKWsAsDfpb6qOo7ASZRl0SgV4ulhFqWAVEN7GWHbiFIRYbUJz67sSjtuJvL+ewuyfB78Kgy/luqigY6bd4JH0dk60GbV/Q3r4ZKpEL4cx9HLSO0CMvERJkUIgxFJpmkebf5Oykr2zEmuyGpTfS5JHmi7YXYto+2Tn/wkZ8+eZXR0lBMnTqxNrlZ58sknd+vWOXvF0lno2RhoG0+yEkxf+XiRjyquZzAUdPYg0UET2xiS0k5ntDkIQCYB2ioiVBZwc90SNKHVrNHblxkzrDmP1g1WZ8PJOXaM4Pnnd7RNB5nt+rDWep9blnO9LExl5SaF3uz73xN6RMEKZpuBfzcx0kEYjbQSnLBMXTeQQNjXS2FlgvDMEHDbnrfrZuNqY/D19OFms8mZM2fWfj9//jxPPfUUAwMDHDt2jPvvv5+pqSk+97nPAfBv/s2/4b/9t//Gv//3/55/9a/+FV/72tf4kz/5E770pS/t3B+Xc0OcW2xxOApAuah2QGnsEC321hDFsrLvYcwiDZ2Vx8migwnmMfEQuhauCTDf6uRj8M3Pyuw0qdboYh8V7dOya/SaFGOtz4+tpo/bexuahGiXTEukkCjLJg58Cj39WE4EUYmFuBP4bs1BaSjLaosWCCfKuU7bS7BTY3DOAeLSd7KfQ69m6SkD1jKJBGEKFJ3NpaMiTFBhvMEYsGTKBOJllo120KqEg0HFDRKnF6ESSAs4ZpEwinGd9e/kaqBNL1exD62v7VW/h356kTTUyG3KX3O2Z9dWWasOgzk3MdVzcPs/XPt1wp/nVeFrUK6mFoa4URt7eN3VxOsE2tLmCkYIUs/Z0eakKvv81UCb6jwPPKdMAFSr1bVAm1ACUcgCbavYx4/T+OpX0c0Wqlza0bYdRLbrw2EY8vTTT+9tY3JeFlGtQSotKuWszLuSlIjDOdJe+yWu3HnSjkOwrWKE6Wc2nGHMcgg8B33hAvH0a3Ir8R3gamPw9fTh73znO7zjHe9Y+31VS+39738/jz32GDMzM0xMTKy9f9ttt/GlL32JX/qlX+J3f/d3OXLkCJ/5zGe45557buwPydkxzs43OR4F4JQQYUrZG2NOTO9pG4RUmXmRWaERZU7g0rXQy5OoodcTXahj3ZEH2iAfg28FFiezZ+d8XMAxAdP2EhWzcTGrmj7e4EiWzbaLQXHluCRBFshz7YgEaAQeWA4052HkDajePnT1AmrgBNFEA/cVefnoduzUGJxzgLj0beg9Al4PS/MxiagS2wJHWThbBKXXjAFXA20GipSZZ2fGZaMsjLBQcZ3E6UVaKSrpARaZXapy/NC6cZVazWhbrG74DKs/G4+T+TbO0Qo518eurWQ++tGP7tZH53QDYRNa81A5vHboYjDPW4JhnKJmsdbESjVWaT1g5WmXWCSoRou04O78hEEIjLCRug0MYEmFQWMLm6awmV+sctsr1k+XRYGubzZECE+dpPiWt+xw4w4e2/Xher3Ogw8+uMetyblR0tRAsELiuFiWRBhBwZRZCk9j7L3fnTIyC+65MpvIJ3FMoVikhWGwPgUGwgu5TtvL5Wpj8PX04R/90R+9ajnfVhqKP/qjP8r3vve9a/r8nL0hTQ0TCytIHSCUoCj7UdKmtYf6bABCAMomTev4kQvKRtkQLc3hvNIhvFineMfInrapW8nH4JufxcmLeOUyswsaB6jaKxyWGzfArGZAcXyY5st0IXwplO0Q1FcwBhw3pkUKSZm40I+96jza30f43PNYh/4h4bmVPNB2FXZqDM45QEx+E4Zeg9aG5SWI9DLaVltms0EWRDewVjqaOY7aO5bRBqCtIlbUJCyBskAxAJxjsbq8IdAmLAtRLqOrGw1XVH+2Xo9mmnmg7QbY1ZzflZUVPvOZz3D//fdTrWYR0ieffJKpqandvG3OXrB8PvvZKR2txS0aiU+h1YddSmgtrwAbHUcL2iVUEVajlTms7AIbnEeVgxYhJjVEONRqKxvOVSWBrpm1RaR9+DBYFsELJ3elbQeRrfrwU089tb+Nyrku6gttTDJH3MkQKyUFpJAEem9LxtYQAiMUNpkYqyXAcgs0m3VUrwOEhOdW9qFhNx/bjcHT03ubxZSz/8w1AtxoCgFYMqVUPkxqUtpsFkXebZSykTpAa5vEGUDaCXplGWukSHSx/tIfcAuRj8E3N4sTF+gdHmN5oY0RhtBuUZaXVVRog9XWeHYvAbvr/KdsB2NSdBwhhEELHy8ZZMktQ3M2O6e3L+urowWCXKftJcnH4FuI2Ie552DoNaxUIU0hjuvE0t420GY12qSeDSqbjBdNVnWyk7qpmU5bG2E0wjIoU0ILsWlNDKAqPejqxow2YUlUn0s8kzuP3gi7ltH29NNPc/fdd9Pb28uFCxf40Ic+xMDAAH/6p3/KxMTEmp5LzgGlei772TFDmPAXwIBolHFG2sQX6hgh1xxHAQqJR0SE8mPCob5daZZRDirJHlCWdPBlSBIXMJZLcIWdsSwKTAQmBOFl0XznyBGCF3KdNti+D//v//2/97tpOdfBxFNPAxFJIduJqsTZJD4wLWB/SrSMtJGpjxExLjapsmhWF7AOH0bXpwnPDu5Lu24mrjYGnz17dr+bl7PHnJ1vMabnAShKTbFyGN80MGLvzQeUYyOb2Y59Wx3CkcuYOEb1WYRnVkgjjdxmYXIrkY/BNz8LE+cZOfFKorMxsZ0AKQVVYVXBS/kBhcIgQkj8Xc5oszqGCHHoZ/8tQ7xkiAXbYWx5AkyK6s/kYFQ5JTjVwsQasQ+Z8QeBfAy+xZj+HqQJjLyWpdlsXFVRSOz00L+dEUJjsxHCTjmOrrKu09ZEKxchBKmStJubN7VUpUyytLT5+IBHPJ0H2m6EXctou++++/jZn/1ZXnzxRbzLgi0//uM/zl/91V/t1m1z9oqls+CUwc1cDC/683hJCRNbWMUY0droOApZ6WjSCYKlxZ01QlglVQ5CZ86jlrDRIiRJQHkliH2SZN1lUZY6zqO1y3Tajh0jeC4PtMH2ffid73znPrYq53o589S3AAGV7N+wnBSJ4xba3o90toxUOUjtg4pxjIePhdYJenSUZO5F4ukmaZi89AflbMvVxuC/+Zu/2ceW5ewHZxeajCZ1QFE0McXKOG2x99lsALbtIEwKaUhbjiA7u/fSjcBANLm35azdSj4G39zEQUBtfg6nfwg3MiR2k0pqEPZ6JYjV8PFKIxhjds1xdBUpFVJZJEEWBLesEE8PsiAAHYO/jOrrA0DQAG0IL+Z9dTvyMfgWY/JbYBWg7zhL8wblBTgJaOFR2C7Q1vQzKaUOJVPeMcfRVTKdNhsV1xEqC+GnSpH4m8d/1dNLsri4uZ0DHvFMC5PmruDXy64F2r797W/zr//1v950fHx8nNnZ2d26bc5eUT0HPYc7giswGSwwHmcaZ5EV4oUtZGHdcRSTlY4mYQOjJOkuuR0a6a45jwIgE0gsvEKWxdO4LFVWeIBkk05bdPYsJop2pX0Hie368KHL3Ghyup+ZiXOkqkShkGmpVKIiUbBCuo8ZI6nMSryFpbHTHlaSrL+FlRJpfTJbbF/IS8heDlcbg+fm5vahRTn7ydmFJiNxCyHLlFKF6/XRkvuzQ61W3TNNlRaDKJMt1tOkjrAl0US+eId8DL7ZWbx0EYyhaffSYwSBU6NXp6TW+txZNXy88iiB8DEivcqn7QyW4xKvBtqcCIXLfNyZrzfnkeUywrJJ6rMITxHm5aPbko/BtxiXvg1DrwKpWJw3aKcTsLI8XHuLcEtqUK1gg5RSyVR2VJ9tFW0VsKImSAMizbSS4/Ym/V3Z14teWgI2HrcGC5hIo6u743p8M7NrgTbXdanXNy+UTp8+zfDw8G7dNmevqJ6D8tjarxf9ecajowA0TRs38nEuc+50UweJJG3XSQrOrmlDXe48CoDSkFqUSlnZ3PziekqsEALZ0WlbxT5+HBPHhOfO7U4DDxDb9eEzZ87sQ2tybpSwtkBsl+jpZJ+W41In0LY7OonXgpEOwmhs22CnZVaSFkoqWkmMdAFiwvN5oO3lcLUxeGhoaB9alLOfnJlvUg59jPSoyMxsYK+NEFZRVhZoS8wSK2kZKbLxOq3VMp22ibzvQz4G3+wsXDiPkJK5uIBnBDVriR6Tklrr2U9208crj+GLvQmKq06gzRjw3KwCpBV6YLnQnEUIgRroRy/MYx8q5YG2q5CPwbcQxmQZbUOvBmBx3tCWmQ6f5Ra3XPKqdohIzXqgzUCRyq5krq7qtElSUDFCFJBGE/gb76V6ezFxjK5tlFqyhrPgf3Qp3wS7XnYt0Paud72Lj3/848Rx9qAWQjAxMcFHPvIR/vk//+e7dducvaJ6ds0IAeCiv8BQeBi7kFCv11AmxS6X1973dBYASxvLu1Y2ClzhPApSZTuAJdslEg4LSxtTYmURkssCbc7RLFiYGyJs34dzR+GDQ9huYeI6sWfh2RZWauEZd/8z2lQ2sbBlgEBgTIJbKNKs17CPHiFtzRCer73Ep+RcjauNwe9617v2uXU5e83ZhSZu1MZYNhU5RpL4xOxP5rYQAqQiTVdoJkWEBOF56Ooy1nCBaKJxVafbW4V8DL65mb94nsrgMHPzWaC5bq9QwebynWjVDCgUhvB32Qhh7X62gzEaHYdYVowhRsa9tAt90MyysFRfH8ncHPbhMtGlJmmor/6htyj5GHwLUbsErXkYfh3tlqHdgpU0C7R5pa21kFVHp3Q10OZRwMIi2AUtRq0KiI5Om1AGRVbhMneF8YHqzY7rhSvWyp6F7HGILu2P3MRBZtcCbZ/85CdpNpsMDw/j+z4/8iM/wu23306lUuE//sf/uFu3zdkLojY0ZqFyeO3QhD9PT3sYu6RpVZeBjY6jxSR70OhWbYPw426QOY9mDzCpOo6iRhFLj/rK8oZzZUmQNsxa3bksFLDGxnJDBK7eh3MOBpPPZwHjyMum7pU465NRuELq2PvWLiMdDAKr43joCol0CjTqK9hHj5HMniG61MDE+QT+Rrla//21X/u1/W5ezh5SD2IWam1UHCAsRckexY9X9sd1uIO0HEgbBHE2N1BFB72yjD1SJG3F6OWdE4M+qORj8M3N/IWz9I2OUeuUY/lWk4rYmGleilyUtPcso23NECHwEQJS6VPQg8y7JWjMAKD6B0hmZ7EPlSA1uVPwNuRj8C3EpW9nP4dfw9J8tp5sxLMkUlJ0t55rW80AIwSpm/W5ksme6zvpOLqKUQ5GKFTcQimDRR8AS0sb18SqNzseL2yh0zZUyPVTb4Bdcx3t7e3lz//8z/l//+//8f3vf59ms8kP/dAPcffdd+/WLXP2iuXz2c9KVjpai1vUkzZeqw93KCGeqpMqhbisNK2gPWIiTJpsqEffDYxyUHHHedSSgCGMNcIpkrQXMMasmTSokgADumGwerNjztGjhHlG27Z9+G1vexu9nV2PnO7mwvefBRy0l+2olpMiqUkJdRvUwP41TGTOo0o3MSLBxUErm2Z9Huctf4/mX34rE1qeaOC9sm//2nmAudoYvFU5S87Ny5n5Jj3JEgKDtFNK3ghL/vl9bZOybJLAx2iPRJaQjkKvLGONdDYDJutYA/vjitwt7OQY/OlPf5r//J//M7Ozs7z5zW/mv/7X/8rb3va2l7zuC1/4Au9973t597vfzRe/+MUb/EtyriRNNQsXz/Pav/8O9ExMYhsQmoLVw6oKkogSSnbmwL3bRgirSKlQlk0c+BR6+hAywtPDzNs2J6qLYDSqv59kqYoqK2TRIjy7gvfq/j1p30EiH4NvIS59ByqHoNDHwrxGWilSB8SWRe821SNWy0d7zlrKU8lUSIh3LdNcWx4qbiAdg9Uu05aC2mW65QDCdRGFIsnC/Ob2Dhfwn5zHaINQ+7hLd8DYlUBbmqY89thj/Omf/ikXLlxACMFtt93G2NjYhiBHzgGl2tEv68ky2ib8BWQqoVXEPlaHVgO84oZ/52LiEek2xpIYe9fiu0Cm02aHy5nzqLSJRUgYgVMogz9Lq9mgXMn0qtacR+sGqzNvtY8fp/GVr9zS39WX6sM5B4PpU88j1ADKyRw8y3GRSDdJ3d3tg9dC2sk8FVaCrcu0VICMQhLPRdoJkBBdqOeBthsg7785l3Nmvslop4xl0PFQyqVt9rcExHYc4nYdjKbtjCOdEF1dRhY6JSoTDYpvHtnXNu4nO9mH//iP/5j77ruPhx9+mDvvvJNPfepT3HPPPZw6dYqRke3/H1+4cIFf/uVf5u1vf/vL/XNyrmB5epokDDE9QxQTn9jz6UnTzLWwg9X0KZbGCE0bLfbOhTvTaetsVtshwj/EtDGQamgtovr7waQki4tYh0oE51bIt143ko/BtxiXLtNnmzOIsk9h2aClQ8HeOtCmWgHplUYIO+w4ejmpKmRr44IGBKmStJubM9TUQB/J3OZAmz1cpB2nxHMtnMPlTe/nbM2Ol44aY3jXu97FBz/4QaampviBH/gB3vCGN3Dx4kV+9md/ln/6T//pTt8yZ69ZOgt2Abw+ACaCBSrhIKSS2M0cR1WxtOGSYuKRRE0Sb/eMEFZJMzV1VOxjSwctAuIopVTO0nIXlxbWzhWWQLhsMERwjh0jbTSIp6Z3t6Fdykv14Z/+6Z/e7ybmXAPGGKrTZ0mtCp6dTd7LcZEorGN2yfX3ekili0p8pJ3ipL2s6KxUrFmvYR87Rtqey3XaboB8DM65kjPzTY6zAigOq16MSWmL/Q20rTqPmrRJW44hrQS9vAJkO+e3conKTo/Bv/3bv82HPvQhPvCBD/D617+ehx9+mGKxyKOPPrrtNVprfvqnf5qPfexjvOIVr3i5f1LOFcydzwwt6k4fPQYCq06f1mj7skBbw6dQHqO9C5pNV0M5DnHoY4zBdSMEkqWwExBozKIGsuy1ZHYO51CZ+FKTNNy7QGC3k4/BtxhJBDPfXwu0LcwZWt4yxVCA7SLl1oteqxmQeuuBtrLpwd/Fvm6sAsJoLPzO7xIdbBFo6+0n2cIV1xougOCWHptvhB1fbT322GP81V/9FY8//jjveMc7Nrz3ta99jZ/8yZ/kc5/7HO973/t2+tY5e0X1HPSMQyfba8JfYDw6BkDb1HHjALuyMdBW0B5N/9KGh8puYZSDAYT2UXYJLSOS2KW/VGBaOMzMznHixCvXzs+cR9dt0+1j2d8SnjqJc2R819vbbVxLH87pfmpzs+g4IOxxKTouGCgnJertCfQ2mhF7iVEuwsTYSqPTMs20xYAQNBs1Ro8fp/29s0QXj+Rp6tfJtfTfP/qjP9qn1uXsB6dmGxyOGghZYUAOEwU1tL2/fWrVeVSbKktygB75HLrehjTFHi7S+vYsRqcItWtSwl3LTo7BURTx3e9+l/vvv3/tmJSSu+++m2984xvbXvfxj3+ckZERfu7nfo6vf/3rL3mfMAwJw3Vdvbw07urMnTtDeWCQ6WZKORVcspYYSFNSta5trJoBXs8YK2JvN30txwVjiMMA11X4gI4rhG4JtzmLHHsTwraJZ2cp3fU6MBCer1N47T7KUXQR+Rh8izH3LOgIhl5NHBtqyzB35BJDoSEsbaNJnhpUOyAc6QNAGkmRMktsziTbKbTqJKGkDWAYIyyE9kmSGMtaXxOo/j6CZ57ZdL2wJNZgZlbEnYc2vZ+zNTs+g/mjP/ojfvVXf3XTwwXgH/yDf8Cv/Mqv8PnPf36nb5uzl1TPQXls7ddJf57D4XGknVJfWUQA7mWOoyqVuKmDbu++EQKQOY9KB6U7UXsZYxKLsmsRCo9adWnD6VmgbT2jTfX1ISsVgpO3pk7bS/XhX/zFX9z7RuVcNzNnTgHge5Ietwc3dbCNRewvk3ZDRpuV6S9ZNBEILGlw3AKNeg3n+HHS2iVMbIhncpej6+FaxuA/+ZM/2YeW5ewXp+calNstjCpSkeOE/uK+ug4DSKVASHS6xIruRdGCNEXX61gjBdCGeGZvBOC7jZ0cgxcXF9FaMzo6uuH46Ogos7OzW17z13/91/zBH/wBjzzyyDXf58EHH6S3t3ftdbTj4J6zNTNnTtF/6DCzcy0kgqZVpzdN0ZeVjlZ8B6Vs/D3OPrXsbJ6eBD5SpmgCCskQs4VeaMwihEANZIYIstdBlmzCc3n2+Sr5GHyLMfVdkAoGX8nSvMEYuMR5VGqwt1nzyiBCaEPqZQGukqkgELtreiIkqXSwdAuURogsIeZKnTarf4C0Xif1/U0fYY0UcvOT62THA21PP/00//gf/+Nt3/+xH/sxvv/97+/0bXP2kqUza/psABf8eQaDMdxyQmtlBcNGx9GCzhbUcdTcUI++m6TKQcbZQ0KoBJHaYAQ4RaL2Cmm67maoSgITQhpmwTYhBM7RowQnT+1JW7uNl+rD/+gf/aM9bE3OjTLz4ikQJRInQClJedVxNKhh9tFxdBUjLYxQ2GQTdE/YSNujUa8hy2WEmwAp4YV8UL8ermUMfvbZZ/ewRTn7STNMmKkFOGEbZZcoqEECfwmj9jfQBiCVTWpqtHUZpTIBaL28jDVYAClu2RKV/RyDG40GP/MzP8MjjzzC0NDQNV93//33U6vV1l6Tk5O71saDjk4S5s+fZWD8KMuL2TzVtxqUsbIFe4eetBdjDG32NtAmhEDZLrGflbEJ5VNIhpl2HGhkwVnVP0A8M40QAvtQifDM8tU+8pYiH4NvMaaehP5XgHJYnDcgDDFZQodz2Vr4cqxWZnmivSwQV6YHg8k02naRVHnIuIlUKUr0ATC3sDH5RA1mBizJFhsx1nCRZNEnDfJS8WtlxwNt1Wp1087Z5YyOjrK8fH0P5E9/+tOcOHECz/O48847+da3vnVN133hC19ACJGXuu0kUTuz+L4s0DbpL1BuDuOUE5JajdTxEJdN4ktJtkMXxQ3SPSpZy/SfskmCVFkATcfgFCpgUhq19e+gLHYMES7LarOPHiU8+cKetLXbeKk+fDXx5Jzu4dLJkwg1CFa2Q5Y5jmqSuInuAjMEAK08rKQGMsExRUKhaDZWAHCOjJO2Fwgv5Dvl18O1jMErKyt716CcfeXMfBMnDZE6ZLiQBU78pLrrWqnXgrRthG6TxGWk3Rmnl5c7JSpeVqJyC7KTY/DQ0BBKKeau0NyZm5tjbGxs0/lnz57lwoUL/MRP/ASWZWFZFp/73Of4X//rf2FZFmfPnt3yPq7r0tPTs+GVszWLExfQcUzfoSMkzRgjUhIroCAvc9nVhrIzTKgbpCLd/sN2CctxiYJs7qCsiEIyzBQp+MuQ+KiBAeLOQtw+VCKeaZH6+eIb8jH4lmPquzB4OwCL8yBLAYUo67OFUmHLS1QrK7PXnYy2sukhwMfscl9PVaaNrKwU2/SSCMFidWNMxhrISsDjrQJtq67gl27NsflG2PFAm9Yay9p+EaeUIkmu/WG86pb00Y9+lCeffJI3v/nN3HPPPczPX72OOXdL2iWWz2c/O4G2etJmJW5jNXuxyzGq1UAUNkbwS0mBJA1JbPZscp/pPyUIE6OsbAIfRYZSpYJBsHCZdbEoABJ0/TKdtqNHiScvkbZuvdKVa+nDOd2NTmKWJs8j5ABCZQN6KSkSpi2MJaFLdI9Sq4CKW0hL4+heGibGb7dIkhj7+HH00gWicyu5S9d1sNNjcM7B5vRcg8FkBoARd4BE+4QmfImr9gbbcZA6QKQuieWClCSdjVhrpEg4cWtms+7kGOw4Dm95y1t4/PHH146lacrjjz/OXXfdten81772tTzzzDM89dRTa693vetdvOMd7+Cpp57KS0J3gJkzpxFSEpYGKGlB7ET0GIOxL9NnaweUyoeOu+0DAAEAAElEQVRpsT8LWst10XGE1hrHCVF4zMUKA9CcwxoYIK3VSH0f+3A502nLy0eB3RmD84STLiVswOJpGHoVAAtzKe3CMr2RQyoEjrd16ahq+aSuBR394Urau7tlox1Sy0OYFClCLFMkUYZGfWO/Fa6LLFeIp6Y2t7vXQTiKaDKXdLlWdjytwRjDz/7sz+K6W3+5LhdLvRYud0sCePjhh/nSl77Eo48+yq/8yq9sec3lbklf//rX852DnWQpc0qiJzMJmPQXqYT9CK1IHD9zHB08suGSYlIgipprteh7QaqynUEV+1hKYdAEYUJv0WVSeMzOznH7q18PZGnyV+q0OZ3JZPjiixTuuGPP2t0NvFQfbt2CwceDxuLERVKdIN1ebPsSkDmOhnGd1Nmb8u1rIbUKiGARpSKcuI+qmqAMtBo1KkeP0vyrp0nbGl0NsnKynJdkp8fgnIPN6dkGt8tsY2nEGsAPlrrCdRhA2Q5gMGmbunMY6TXRlwXagueW0K0YVdr/Uve9ZKfH4Pvuu4/3v//9vPWtb+Vtb3sbn/rUp2i1Wmvz6ve9732Mj4/z4IMP4nkeb3zjGzdc39fXB7DpeM6NMX36BfoPjTNTT6ikgsBt0qs16WWBNrce4RaGmDcv7ksbLbcj+eK38TyXsAEq7mfZmmSgMYsazEzDktlZnNtuQ/Y4hGdXKLxhcF/a203s9Bi8mnDy8MMPc+edd/KpT32Ke+65h1OnTl01uzVPONkDZp4GDAy9mjQ1LC3A/OgMhYYitRyE2Dq7RLVCdMccUBhBiR5m2f1y+9W1sUUbYXrRNsT+5g0ta2hwy0CbEKLjCn5rboLdCDs+23r/+9//kudcq+No7pbUhSydBacMblYWMOnP0+9n5QfNYAFlUtxKecMlpbhAEiysPVT2AqMsjJAo7WO7ffgiIIoEvQMuoSxQq85jjFl7CMriFaWjhw+DlASnTt9ygbaX6sPFbTQHcrqHmTOnAUHoWBTtSsdxtMCyP5HtonUJqSpgEDiiQWwOk3Sy7xr1Gr3HhxBWpmMRTjTyQNs1ci1j8Hvf+97clOgW4dRcg7F4BSkq9MsRltrPou3ueAYoOwugGVNj3j7MIfdFdLUKgL1aojJRp/C6W2vxvtNj8Hve8x4WFhZ44IEHmJ2d5Y477uDLX/7yWnnbxMQEUnZHlvOtwNSp5xm97ZWcXfbpNYKqqtKrY3RhfYwbaJcQJUFL7s/GppQWUirioIVbqmCIKehhpooVBuqzWLffAWTlZc5tt2EfLhG8mOu0wc6PwXuRcJKvg2+Q6SfBcqH3KLVl0AlcUpPc1jaIq2xqW62AtLMmLlJCoWjvQUZbZhZoY5k6cAgtBTLxSbXODIpW2zc0TDQxsXXbhwqE5/Ps1Wtlx2dbf/iHf7hjn3U1t6ST2zhCrrolPfXUU9d8nwcffJCPfexjL6eptw5LZ7Oy0U6AaiJYYCw4irRSGrX5zHG0p7J+vslKR2thHV3Z20waIx1k3MIqjJDIgDgqYAmJccpov4rfalIsZ22VJUG0kGJSg5AC4TjYY2OEp249Q4SX6sP1ej1fpHc5s2dPI+wKvuMz7Pbjpg6WsYhbVXShi7JDRJbV5uhFWhzGURbKEmup7PbhYUxUI7pYp/SDuTbgtXAtY3Deh28dTs02eHW7Tn/hOFJYBPVZzFB3BNqktEAIdLpElUHGrVNrpaOyYiOLFtFE45YLtO3GGHzvvfdy7733bvneE088cdVrH3vsseu6V872tFaWqc/P8fq3v4OvT7U4mgradp1jVziO9uo+kiQgdIJ9aacQWVZb7LcRAozyKcVjTBUdfqA5g3A9ZLlMMpOVpTvjFRonl0lqIVbv1plctwo7OQbvVcJJvg6+QWa+nxkhSMXifCY/VPMWcEKNKpa2vUy1AsKxfgDKphcAn70JqmvlYqcrgEHKItBiaXmZ4cvMb9TQEMl3voOJok0BQ2uogP/9BXQzQpW7p0KmW7mptrByt6Q9YOlFqBxa+3XCzwJtTjkhXF5GWw7SXl/Iu6mDhUUc1kn3eIGfWh4qaSMQpCoijbPFhVPKsvEWF9bFgWVRQApp87KstvFxghdP72mbc3J2gtkzp0H0EVsNim6RSsdxNGkvk3ZJ2dgq2irjxAsgDG5aRls2jUYn0HbkKLo6QXgu3ynPybleVtoR840Qt91kuHgEbSLiYIXU7g6dTSFWnUeXaaZ9KBWtZbQJITKdttx1OOcmYurkcwAMHT3O0kJm2OVbTfq0JrXWF+Y91jB+vLyvpiXKdYmCNiY1KBXgJSNMCtNxHjWogUHiTqDNPlwCAeHpfKzeSa6WcDK7hVg9rCecPPLII9d8n3wdfINMfw8GXwmQOY56Eakd40YxdmGbKoxEo8IY7WZBqorpJcAnFXpPmpzKbG0sLY0gWw9fmlvYcI41MgIY4qlLm663Bjtl5dO5jNC10NWBttwtqQtZfBF61zXYJvx5+tqjuJUE06iRXvFgWXUcDZMGZo9F9FPlInSIIAUZIbRNClQKLpHwWJpfH6RUqeM8Wr/CefT0i7kQe86BIg4CqlOTSDGCUdlAWEqKaDRJ3Noz599rRdtlhEiRKsTRvQQipVlbAcA+cgTdmCKZz+3Ec3Kul5OzDew0RiU+w+4ovl4ADMbpnmeAtB2MbpLoXqQM0NVlyCTXsUaLxJcaGL33ros5ObvBpZPPUeofwCn3ENQiAGK7jScsjMr6pUih5I3QSlf2saVgOx4YQxz6OG6IRZGGtmmnMfgrWAMDxNNZoE16FtZIEf9UdV/bfKtzowkn+Tr4BggbWZXXwHqgLSis0JeWsdIEu3h1x9HV5JO9MkJYxVgds0CpcelHC1hc2thvrZFhEJLo4ubyUdnjIGxJNJ0bIlwLXR1oy92Suox2FfzqmhECwER7Ea81gCpGOO0mqnSlPluR1GhCFe/5zlwqXQQGmfhIOwUESQQV16YtCszNTa8F0YQtEO4VOm1HjpDWaiQLC9vcISen+5g7fybTH5T9oLId83JcJDTZQJ520SIbMj3FVHk41PH0AG0R0Wo1SFON6uvDJCuAILqUD+o5OdfDqdkGI+k0AsGwPYifLAGQdolGG3ScR1MfmVQwDpgoJG372XujRUycEs/kO+c5NweXnn+WoaPHma0FlFOBVjFFpUnVuu7eQNNDSoum3B/H0VWU7SKEJPJbeF4WHCgkI0xZChqzqKFBkrlZSLNAuHOkTPjiSh4Y30H2KuEk5waYfRYw6xltc4ZFZ5ZyK8tUU5635WVWOysHTz0n00+mh/YelY1CloQCoGSAY3qI7ZRWY2MmqrBsrKEBoosXN10vhMAaKhDngbZroqsDbZC5JT3yyCN89rOf5YUXXuDDH/7wJrek1dr1Vbeky199fX1UKhXe+MY34nSR296BZNVxtJPR1tYBUdNCaotAz6OMxrliF6ScFIijxr5k0aTKw5AJPSorC6DFoaFSsPBlkSj0aTfXJzKyJEhq6xME+0j2d4an98f1KSfnRpg9+yJSWSB7UHaWBVZOSoRJk9RSa3bi3URiV3D0InZaJrZCjDG0GnWEENgDRUwaE03kJWQ5OdfDqbkGrxGz9Duj2MLGDxazZ0AXzfyUZYPRSBOzVOgDIOmUj1qDBZCCaHJ/Aw45OTtB0GqyMHGB4eO3MbnsU0kFod2mR6ek9mVGCK0yWke0nP11iBYCLMcl9ttIFWOIKSeHmXQ8aM6gBgYxcUyytAiAfbSCCTXRxXys3inyhJMuZvZpkDb0HcNvG9otmLGncBrZACu3cZ1VrQAjBaljUaSMwsIXexe0MjIzC7RoI7VLZMWk/uYxVo2MEZ0/v+VnqAEvLx29RrpourU173nPe3jooYd44IEHuOOOO3jqqac2uSXNdDQCcnaZxU7AqecwAJP+Iv1+ptfWaE4DUOzdGGgrxQXioI729iGLRoBRDipuYkubVMT4QYKrFKlTBgSLC+vlo7IoNmS0WcPDCMchPJMH2nIODrNnX8Qu9qFVjGc7a4YkUVAj3Y9+eA0kTg+2qAMCaWUl5qs6bdbhw6SNacJ88p6Tc128MFNnLKgyXHgVKQl+sNxVZaOw7jyapnXmvWxet6bTZkmsQY9oIg+05Rx8pk4+D8Ywcvw2Jqtt+o2gaa3QqyO0tZ7R1pf0EbQXMF2QeZoF2joLauVTjMa4ZNtQn8HqlCaulo9aQwVk0cI/mZeP7iR5wkmXMvM09B8HaWX6bEDdXcRqghFiW9dRqxVk+mwi02eDvTNCWCWVTsd5VJAqC8tELNU3tsE+NEY8MQnJZtkWa8AjWfJJo73RlTvI7P9T/BrI3ZK6hMXTUB4BK0uHvejPM9AeRaiUYGWR1HZRV0ziy3GBVjhJWtmfyX2qXFTSxrZcWqJNFDqATcFzMHGRhdlpjr/i1UCW0WYuQRoapCsQUmKPjxO+mAfacg4Os2dPo0UR325SdvspaBfLKOJ2tev02daQCmEDocYxAyBrNGorcATsw4eJzl8gunAiK4kV3ZeRl5PTbaSp4eRMg7e26gxXjuKbeWRkSJ3uMEJYRSobEKRplSV7lGNcRF+mF2MNFwnzbNacm4BLLzxLoaeXUv8Al6qnOZ4KqnadI3GE7jgUCiPokYNUoxf21QhhFeV5pI0VkijAsn28YIhzwhA3Z7AqZYRtE0/PUHjzm7MM9CMVgheq8OOv2O+m3zS85z3vYWFhgQceeIDZ2VnuuOOOTQknUnZ93szNx8xTMJB9zxfnDShN5LbwIgvputvOVVUrXNNnK5seQnz0HhkhrGKUh6OzclEhi0DI+alZBnteuXaOfegwRidEk5M4t9224Xo16IGBZK6Nc7Syl00/cOQ9M+faWTwFPetpxxP+AsPBOG4lIa0tk3rFDadbqcLBJQrraG9/dlFS5SETH1soEtkmDrOvfMW1aMkiC/MzGJOVi64ZItQ2Oo+Gp3Ln0ZyDQdBsUpubRVMhtJqUvV7KSTaBT+pLXafPdjna68MWDbxkgEiRBdoAe2wMXZ/BhIZkKdjfRubkHBAml9v4UYLrNzMjBDOHCFN0lz0DhABpZc6jbYaQriSpLq29b40W0EsBuhXvYytzcl4+k889w/CxEwghmFtoI43At+v0pRptZ+N0T1xGCYu27g73TtvpOAz6bRw3QuFhpz1MRzWE0ajBQeLpqbXznWMVkgWfZMnfrybflNx7771cvHiRMAz55je/yZ133rn23hNPPHHVpJLHHnuML37xi7vfyFuJJIKFU9CfBaCW5g1RoU6PLOPGAcrbxnGUrHQ0XXUcTXtp76ERwiqp5aJ0EyEMjhzGAHPzixvOsUZHQCnCM5t1/ax+DwS5fuo1kAfacq6dhVObHEeH/HHsUoDVbiLKG6PapSQLvIW6Cdb+fNVSlRkiqCQAFYF2SIGyZ1PTBeI4YmW1TKUASNCX67SNjxOePYtJc3HXnO5n9lwn+1KPoFUTKSXluEhCQhp1n+Po5WirgEWTgh4glDH1+goAwnWRHa2aXPslJ+faeGGmTkmv0G/14kiHdjqLiDTG6b5CBmXZGN0APYC0U/TSeqDNHsrmEfFULrycc3AJ223mz59h5MQrCBJNVMsCx4nj46WsmSEMhL2ZPpvsjkCVEALLcYn8Jq6XtamcHGJKKWjOoQYGSaan1863x8sgBcGp7ggU5uTsCounIY3XMtoW5gxVZx4vLeElIaqwtRECxmC1w0zGxUCZ3j0vG4WsdFRgkFZEwfQTWyn12haGCKOjhGfPbLpeWBLV6xLN5OPyS5EH2nKujSSE5QvQt57RdrE9T7k9RJLOIDA4PVcG2goYYwjF/mWhrBsitMBKwAh0BBVH4QsPqSwW5rNJghACWRKbMtqM769pUOTkdDNzZ1/Edj0Ug+uOo0mRgOy/90Ur8TqQjkaaItpJaDXrpGmWTq+GBzBxLQ+05eRcI89P13mdvMiwd5SUlCBeRABpFwbaLNtGpC083U/oaJLFdadv2esgbEmUB9pyDjBTp57DGJMZIVR9elJBKlNcK0JbLkZl/bLfrxC0F0i97umnlusRtVsIoTEElKNxLtkWNGaxhoaIpmeAbN4sHYU9Vsx12nJubmafyX7234ZODMtVw7wzA4GHHQVId+tAm4g0ItFoz6FACQtrfzLaOs6jlgxQukxkx8ioTjPcmDnuHB4n2sYQUA14eUbbNZAH2nKujaWzYNINGW2LyzFK2/itKVIhKFQ2BtrKcZE4aaHdfdSEEaJjiNBC2dlEIAqg5FkgBHaxh4XZ9d24zHn0skDbqvNoboiQcwCYPfsi5cGxLGhsR0DWD8OkiRGiK8SVr4YoZM8KIUprzqOQibLq6gThhdp+Ni8n58Dw7FSN49Eiw95xWrKBiTNphG4sH1eOAyZBpAnLxX70wnqgTQiBNVQgmsoNEXIOLpPPPUOh0kN5YJCJaps+IwicJr0G0o4RgjCC/qSXoLWwVlrWDVhOgVQn6DhC2D5uPMa0ZWMaM1iDg5h2C11bH5vtoxXCcyuYOBdKz7lJmXsWKofAKVJdApMK6t4iac1CmBTpbR1os1pZVqj27H0zQgBASIywUbQQiUNkpXjG5/z8xnHWPnKEZGkRvbw5Q9UazJxHTWo2vZezTh5oy7k2Fk5mP3uzjLa2DqBRBiBozBA6RTx34yJ+1XF0vycMqfJQcRPHstEiwA8SLCEpuYrELrO8tECSZFF8VYK0YTA6e3CogQFEoZAbIuQcCGbPnkY62aTddrOJeykpEEW1LJOlC8SVr4ZUGilCHDMIQL2j02aNjqFrkyTzfq7VlJNzDTw7XaevWWfYO0pbLEFidYLt3WWGAJlGG4AxDaql4WzRbtYn72qokJeO5hxoJp9/huHjmT7bxcUWAwiaapn+OETb2Vy6Jy6jUPjteVK3ezbFLDfLfon8Jo4b4Jl+YhSLjSnUqvPo1PqGtXOkAokhvJBnoOfcpMw+A/0ngEyfDQxtb4VC0NH83ibQplqZDErqOVRMLyEBWmx29dwLtOVgswIIpFVEAOen5zacs5ZscnqzVrk1WMBEGr2caydfjTzQlnNtzL8AhQHwsgj8hfY8A+0xjExI61V0obTpklLsEYd19D7rQmnLQ+oQRzjEskXgZw/CsmPRpEhqUpYWZoEsow0DupFN8oUQ2OOHic5srlHPyekmmstVmtUl2rEitFqU3F5KSQGJJG4tke6TIcn1oqyQkh5BS0Ojnu2i2aOjpLVLAER5VltOzlVZaITMN0KGI4WnCvhmFmLVtcF21Qm0JXqJmjuC0Sl6Zb2fW0MF9HJI2s6D7DkHj8hvM3/+LMPHM+H0cwtNylrQduoMRO21QFt/2IM2CX7a6Kp+KqVE2S5xu4XnhggUhWSIqWAJ1d8HSm0ItKl+F1m0CM6s7Fubc3J2DWM2BNoW5w2J16JsF3CjLOi0XUabagcYS2EsRdn00N6PbLYORrrYOivxLqgRABYWFzGsb3LJchk1MEBw6tSm663BjlFKXj56VfJAW861Mf889B1b+/WiP0+/P4ZdWEImMfKKslFhBAVTII7qmejjPpKqAgJDQUcksoWOFAYoeTbVUOJ5BeZnMw02uZXz6OFxgm1q1HNyuoXZs9l3NExcAqtJj9dPOe44jjaW0F20Q341lBMjTT+xpVmsZiVkwnGQJRtESHguD7Tl5FyNZ6ZWKJglRp1hjDEE6TQiEl1ZNgodfVTLxphlIjUMQLK0Xj66OqGP8gl9zgFk+vRJTJoyfPw2dGpYXPSRaRZo69WapBNoG4h68cOlfZ8zb4XteUR+C2n5QEpffIRpkSLiFtYVzqNCCOzDZcLTuSFCzk1Icw786prj6MKcYcVdxEtLlNIQ6bgItXXmuNUK1rSSK6YXfx/02VZJlYtlfKRK8BgksjQyqrHUDDecZx89SvDCC5uul0UbWbSIpvNs86uRB9pyro3556Hv+NqvF/w5hvxxMJcwgFvp3XB6MfEQCKKoibH2t1TFKAcjJCppYewQUgudQMVV+LGm0jvAwlzHEEEJZAH0ykbn0ejcudx5NKermTt7Gq9cJo160KqFUpJKUiQUIfhtUueAZLTZISAw0mVled190BoZIfXnCc/mgbacnKvx9KUabzAXGHaP0JABQjeRYdpV5WhXYlkOJq1jkZWiJQvrfV/1umAJ4uk80JZz8Lj0wnO4pTKVwWGmVnzKq4mZjo8CUquMMIK+qIegObfvVSBbYTkeOolJdQTKx4sOM2UpaMyiBgeJL13acL49XiaeaaGb0T61OCdnl5h7NvvZfxvGGBbmUhacGWRYoJCEyO0cRwHVcRz1KGJh73ugDUCpCDupENkJpbTBufmNbXKOHiOZnkY3N+ukWoMFokt5oO1q5IG2nJcm9juOo+sZbRda8/S1R4mDKSLbwytuXMSXkgJA5jjaBSnwmU5bC2Vl4qxRAOXOroIs9NJs1PDb2cNFlgXJyhXOo2G4aSKRk9NNzJw5Tf+hI6ikh9TqOI7G646jptB9k/etkDJGihhHVEijmCTOViXW6CjJ9AvEsy10I5+85+Rsx9OXatwWLjNcOEbTycSXRZSSduECfhVpWwjdxjY9hI5LsrCuFSOkwBrwiGfyCX3OwePSC88wfCzTZzu70KJfCxIromQlaMvDKIueuIRlFGF9tiv7qdVxUYzbTWzHx9OjLCuFX5vAGhommpoCLp83Z1l6eQZ6zk3H3HNgFaAySr0GcSSoeQtELQ838pFeYdtLVctHu85lRgj7N6YZ6WAQKNHGRB6JneKlEWfmN2or2seytX94cnP5qBouEF9qYExuiLAdeaAt56WZfz5zHB24be3QzLKPSm2i5gyBU6BwRdZaKSmgdURsd4frkFaFNUOEVESEvqHoWCgJYcfxaWFuvXxU18zag8MeHwcgzHXacroUYwyzZ05TGRxBGhs6jqOVuEyos10o3aVlY1ciBCgnxDFjACyvLAJZRluykPXBIC9JycnZEmMMT02ucLitKVk9tK0aRCCM6coF/CrKdsBEYGJWeofR0xc2vG8NFIhyQ4ScA0YSx8yeeZGho1lFyJn5JiNS0bSX6U8StJ3JrvSHvWg0oV/tytLRVZ22qN3C9XwsithpmZn6JNbQEKa10XlUlWxUn0uY67Tl3GzMPZfpswnJ4ly2TmwXlzGRjQx81HYZbalBtSPSQhZoiwhI9skIAQABRrnYooYxAtvNgn8LCwsk6fraXfX0oPr6CV44uekj7OECaTtBL4eb3svJyANtOS/N7LMg5FpGW2pSGksKkzYxYYukWEapjWlrpSTTZ+uWFHhjFRAmwROSWDbw/QQJlFyLWmAoV3pZmu8YIpQF6Mx9FED19yOLRcIX80BbTneyMjtN2G6RdNxyLQccbeOlDoG/QmpboLogtfQasRwfGAVgYu5cdmxkBOI2spjmgbacnG24tOxTbfkc7eyYt5mHKNsI61aNNgBlZVnxOl2mVh4h7uimrr0/6JHMtzFxLuGQc3CYO3cGncQMHTsBwKnZOn3a0HSWGYhaaCcLtA1EvbTTGgZD6nanzMOqTpuysizZnvgQ0+EiajjTVYwvTW08/3CJ4MV8rM65yZh9BvqzwPnCnCGxA4qujZNEkGpkYeuMNuVHiNSgO46j7U61yX6SKgcnzWQaCtYYRoCT1JmsbnQStY8eJTy5OdBmDWeJKtGlzWWlORl5oC3npZl7FnrGwcqi9DPhMuXWMGk6AYAs92y6pBQViIN610wYtFXAAEUdE8kmcZAZIpRdi+V2RG9vPwvz0xhjUOUsILFaPpo5j44TvpgbItwon/70pzlx4gSe53HnnXfyrW99a9tzH3nkEd7+9rfT399Pf38/d99991XPz8nKRgGWGj6p0BRLBSodI4S4vbQmvnpQUFaIEKCVYnZ+9TlTRhRLYFYITlYxOl9w5+RcyZMTywzICUbcUZqmjdE1SGyMFBh7f/VSr4ays2eUThdpeyNES9UN71tDBTAQz+U6bTkHh6mTz2E5Dn1jY7QjzVLVx0okLWeFoThEO5U1fbZ2tJRlnXbpymxVp80YH2RAJRpnKo1QPWWEsrbQaaugl0OSJX+fWpyTs8MkESy+uGaEMD+bUvPmKaRlymlWSaIKxS0vVe2sH6SeQ9n04ov9z9BOpYeVNpAqxdMDRFZMj6hxdmFj2+xjx4gvTZI2Nx6XBQtZsYkm8kDbdnTp4zynq7jMxhjgbHuGwfYhEJPEloNXvCJN1kBJF4nCOrpbdKGEwCgXK26BFYBRJDFUPIvldkxP/wBB4NNq1hGWQBRAL280RAhPn97HP+Dg8sd//Mfcd999fPSjH+XJJ5/kzW9+M/fccw/z8/Nbnv/EE0/w3ve+l7/4i7/gG9/4BkePHuWd73wnU1NTW56fAzMvnqQyNEyzpQmsJr2FHipxCS00aaOK6ZLM0mtFSo20QpQoEzQ6GlNCYI8Mo6tnMKHOtV9ycrbgyYvLvEnPMuIdp+6EqLgFkco2vbo4qVUIgbJsTLqCtkdJGyHo9fIVa8ADQe5wlnOgmD71AoPjx5BScWa+yaDOll2J18QxENu9a/psQWO2q7NOV3XaonYTy/bx4sPMWApac6jhIaIrA22HSyAheHFlH1qbk7MLLL0IaQz9JzDGMDebsujOIsMCPSYCIZCuu+WlqhliANvpwcamvY9GCKukloswaba5HRWJ7JRi6nN2fuM46xw9CrDlOtgeLRGez+fj25EH2nKuTprC7NMw8Iq1Q+fbswy2x0nDaXynSOGKXXI3dbCwiKI6xu4elzNtFbHiBsrpGCL4UHFtdGrAKSOEYKkjwKzKgqR6mbDrkSNE589jkn2spz+g/PZv/zYf+tCH+MAHPsDrX/96Hn74YYrFIo8++uiW53/+85/n53/+57njjjt47Wtfy2c+8xnSNOXxxx/f45YfHGZePMXA4SMkgUdsNVFCUklKtGWA9GO01x2ZpdeD7fhIhrBiRS1YAbLy0XjiBWTFxn9u6eofkLNjXE9G6mOPPYYQYsPL87Z34crZWb59YZlX+zFlu496WWMlLWRIV+o+XYm0bETaQMh+UuGQVNf7uLAkqt8jznXacg4IxhimTj/P4NFMduWFmTpjKBIr7BghFDCWu6bPFtXmSbtlc3oLpJQoxyVut3DcAMcMEBubpeUzWENDxJOTG893FPZIieB0dZtPzMk5YMyuOo6eoNmAyJesFOYJmh7FxEd6HkJuHVpRzYDUtanIPmB/jRBWWXMeFW10ZCMKDkprqrU6zTBeO0/19SF7ewm2Kh8dLRJPN0mj7tBk7zbyQFvO1amehagFg7evHTrdmKW3VUGHy/hukaKzMZhWijuOo7S6agc9VQWkDnGURSLaBIGhx8vavhJoyuUeFld12iodQ4SO5pV95AgmjokmJvat/QeRKIr47ne/y9133712TErJ3XffzTe+8Y1r+ox2u00cxwwMDGx7ThiG1Ov1Da9bhTgKWbh4nsHxI8ioD91xHO2Jyvg0EXS3CPp2WI6PUD0IA2emnwNADY+QLCxgj5fwn13EpLnT0W5zvRmpAD09PczMzKy9Ll68uIctvnVphgknZ2u8Mu7DGEPTaiHSBBnortFLvRrKtiHNMlhbxVGSiY26qNaAlxsi5BwYlmemCBqNNSOE56frjAlFw11iMInRTia7MhD20rRaqDBCO929KWa7HpHfxHLagKScjDFdn8AaHiGemoIr3Afto2XCF1cwcb4Iz7kJmHsWyqPglFiYzb7rcamOiS3soL1t2SiA1fI7Rgh9hPtthLCKkBhp48gVMALPGQKgaJqcX9yYcWePHyE8tdl51B4rgYFo4tZZd10PeaAt5+pMP5X9HHjl2qFL822Is4BU5JVw7I1fo3JSJDWaUMV0E9rKAoClNCVWTfy2xlaKgq2y8tG+ARbnZzOdtooAA3rlCufR07lO2/WwuLiI1prR0dENx0dHR5mdnb2mz/jIRz7C4cOHNwTrruTBBx+kt7d37XW0k+Z8KzB37gyp1lQ8C0uXMU6MShUlXSCIs3Tug6bRBqBUjFRZIPzSdGaIYI+MZO8V2qTNOB/Y94DrzUiFrAxwbGxs7XVl/8/ZHb43sYyRSxxRQzTSJiatQQxCd6/A+uUoy4E0IjU+reIo4fnnNrxvDReIZ1qYJNdnzOl+pk+9AEIwMH6UMEk5O9+kGKbUnCVGwgaJ04swgv6oh2a6AtDVGW0AlltAJwkmbQAJffFhLvmLqJERTBSRXLEB4xzvwcQpQe4+mnMzMPvsmpTS3IwhttsUOptYot1CFa8WaAvQnk3F9OKz/2Wjq2jlYuslEIYCoyRSM2DVNgXanKNHiSYmSP2NRgmq30V4Kpdz2YY80JZzdWaeyqL3XrbzFqcaf9EhTaZIbQe7UNyUtFZOikRhDd1tWhNSkSqXYuyTyCY6skjJdNqWWiE9ff2EoU+72UCWBChIlrIJverpQfb25jpte8wnPvEJvvCFL/Bnf/ZnVy0/u//++6nVamuvyStKGG5mZk6fxHIcFhazwKVVkPR0jBDC9hKprUAdzEe95cYgijSbbQwpanAQpETXppAlG/+Zxf1u4k3NjWakNptNjh8/ztGjR3n3u9/Nc889t+25cGtnpO4kf3tuiddYU4wVjrGi2qi4ueY42jV6qVdB2VkwMEnnqFfGqE1ekdE2XARtiGe7Z5GSk7Md0y+epHdkFMfzODnboDcRiFTQ8BYZiBNib4C+qIJC0Q6zMuluzz63OvpTsd/CcnyK8RGmTYQ9PAhANLFx7qX6XFSvk0s95NwczD2zZoQwN5Oy5M3iJWVKymDCAFXc2nEUY7BaAemq42gXGCGskioPSzeRtkZFPUS2pqgbnFtoYbhMQunYUUhTwjMbx2UhBPZYifBsHmjbioO5+srZOy59B4ZetfbrRX+OvtZh0nSC0C1SdDe7mFXCIrG/Qlrovh301Cpgxw2wIjCCJICegs1SM6RS6QNgaXEeIQWqIogX13fOnSPjBLnz6HUxNDSEUoq5ubkNx+fm5hgbG7vqtQ899BCf+MQn+OpXv8qb3vSmq57rui49PT0bXrcK06dPMnD4CNNzCwBUyi49cRmNRjerB1KfbRXH8xGyB9cvsNheQFgW1uAQ8eQEzvFKVj5q8vLR3eJGMlJf85rX8Oijj/I//+f/5L//9/9Omqb8vb/397h0hVD25dzKGak7yd+eq/L2IMVVRWoVjRXVIV51HO0evdTtWHUeTdMqfvEQrfmNi3Nr0AMpiCZzh7Oc7mf65PMMjmfPsmenahwRCiM1yvWRykI7ZQbCXhKRELUXSV0LZBfprWyBFBLL8QjbTWy3jaNHqUpFkCwjyuVNOm1CCJzberOxOs9EzTnINOehtQADt2GMYXYmZdmbQ7cLDJBVcMltSkdFpBGxxi4NYXWJEcIqRrkIo1FWiA4djKewo4iGH7HUjNbOUwODiEKRaIt1sD1eJppskIZ5ifiV5IG2nO3RcZbRNvTqtUMvNCcZaoxi4kWaVoHSFUYIGCjrElG40pU7c1oVkTrEtjUGQ+hDb8EmSgxtDaVyhepixxChV5AsmbWFvD1+hHALIcic7XEch7e85S0bjAxWjQ3uuuuuba/7rd/6LX7jN36DL3/5y7z1rW/di6YeSIwxTJ16nsEjx2g2BYHVpOK49ERl2laAavld2Q+vFSkjpCzgJHChmg3uaniYeHIS50Qvuhbl4uhdxl133cX73vc+7rjjDn7kR36EP/3TP2V4eJjf//3f3/aaWzkjdadohQnfn1zhDWE/cRrRKhusqAGRReq5XaWXuh2rzqOSOqkqkbQLkK5P3IUlsQY9ook80JbT3QStJktTkwweyYwQnr5U46hQNLxlRnRC7PQBgsGwn7rdzMrKulyfbRXb9YjbTZTtI7ApJMNMV09iD48QTWzW43Rv78MEmuBkboqQc4CZfTr72f8KVqqgI0m9uEDQcOnRWTmlKmyd0Wa1Mu3RkpdtWnaDEcIqWmXVQo6qY7TEdvvBQMm0uLC0HhAUQuAcOUKwlU7b4TKkhvBCntV2JXmgLWd75p+HJICh16wder4xwVDNAkzmOOpsDLQVtYdCEYa1rlzgazvbbShiSESTtq/pLWQ7/YuNkEpPP9XFTGNC9QpIQC93Am1HjxJfukTabu9P4w8o9913H4888gif/exneeGFF/jwhz9Mq9XiAx/4AADve9/7uP/++9fO/83f/E1+7dd+jUcffZQTJ04wOzvL7OwszWb3DEzdQm1uFr9eY+jwYeK4l8hqIoSgL6rQki1UcDAdR1cRInMuA8PFqbNAptMWTV7CHisiPIX/bF6Sslu8nIzUVWzb5gd/8Ac5c0W5weXcyhmpO8W3zlfRos4r5GGq8SIGjYpbSN8ciLLRVZTlINJsch/Lw7B0dsP71kiR8GJeWpzT3cy+mC1Gh44ep+bHTC62KPmGqjvDaNgkLgxhpxa9cZma3US2w67XZ1vF8jzSVINZBlL64sNcWJnAGh0hunhh8/n9HtZwgdZ35ja9l5NzYJh5GpwSVEaZn8nWhaocAuBGLWShgFCbq7wArGYWaCs7wwS00aKLMr+kwggbm2qm0yYPYYRh2KlzfuEKQ4Qj40TnzoLeaOSgeh1k2SZ8cWUPG34wyANtOdsz+S2QCgbXjRDOzNWQ0QIom9hyKFyR0VbpaEMFabM7d9CFJFUulTgkVg1C32BLRdlVLDRDKr29NJt1wjBAVgRYEM9n6e720aNgDGFePnpdvOc97+Ghhx7igQce4I477uCpp57iy1/+8lo52sTEBDMzM2vn/97v/R5RFPFTP/VTHDp0aO310EMP7def0LVMnXoegIFChIiH0E6Ao20KqYevs52lbizhvh7ckgQU4YrCGJ2JLocBenEB51gP/nO5TttucaMZqZejteaZZ57h0KFDu9XMHODrLy7yuvI8A84QS6KJihpgyBxHD1CwXdk2JAFp2qBdPEzr5Dc3vG8fKqGrAUkt3KcW5uS8NFOnT+IWS5QHBnlmqsaQlpBCrTDPcJIQu4MMhn0IBHVRQ4Ux+gAYlgBYjgdCELUbWI5PJTrKpXgZa2QUXV1GNzdnnHqvGSA4VSVZCbb4xJycA8Ds05k+m5DMTqe03BVc4WEpgWg1r2qEoJoBqWPRQ39X6bOtoi0HK8502qy4n9BKKKQrnF9sbpBnscePYKJokxajEAL7cJngxeW9bnrXkwfacrZn4m9h8FVgZWml2qTU5hVpfAldLFNwLOQVehI9cZk4aRM73aubpK0iXtxAW21MYpNq6C04zNdDenr6AVheXMjKWHoF8Vwn0DY+DlJumTabc3XuvfdeLl68SBiGfPOb3+TOO+9ce++JJ57gscceW/v9woULGGM2vX7913997xve5UydfI7ekTHqU6ewkwp4Kb1RBYDAX8QgDoTb4NWw7RghSxSCInP+PHYnQBtNTOIc7yFZ8IkX8izT3eJ6M1I//vGP89WvfpVz587x5JNP8i//5b/k4sWLfPCDH9yvP+GW4InT87wrdEiNplbW2FENQokwJisdPSAox8GkmogqzdIRZs88teF9eyzbzItyh7OcLma6I+kghOCZSzVeqWy0FWPbbZRVIrWLDAX9tJSPCbKskfSAuIMLIbAdj6jdxHbauPowCxjSoV4AogtblY/2ImxJ65vX5jafk9N1zHx/zQhhciqm6s0igiJ9BYekXr+642jTJy0WKVGh1UVlo6ukqoBKWig3JvVdUldihT5BrJmrrQfHrbExhLK2TDhxjpRJ5troerTpvVuZPNCWsz0TfwPDr1v79cXWFP21Qxg9g+8UKDmbxZV7ozKhX+3qnbnUKiHSGGVnD4MwgN6iw4ofISwHx/WoLmXlo1a/RFcNaWSQjoN96FCu05bTNVw6+RxDR49xfjITmi+WoS+uEMkY06x3xJX3uZEvEyFAKhsrDrm49CKyVEKWy5khwpEyWDIvH91FrjcjdXl5mQ996EO87nWv48d//Mep1+v8zd/8Da9//ev360+46Zmstjm30OKH/BGq4Symr4gVrUDsYhAHq3S04zxqxDJBYYDFuSZctqMuCxZqwCM4u7JPLTyYfPrTn+bEiRN4nsedd97Jt771rW3PfeSRR3j7299Of38//f393H333Vc9P2cjaaqZOXOawSNHMQaenlrhkBasFOY4FAfEhWGEEQwHA6w4dVTbP3CbYpZXIPbbKLuJwMVNh5mOJhCOs2WgTdgK91X9tL45g4lzU4ScA0ZQg+o5GLydJDbUFhTLhRnaDZc+K8VEEapU2vZyq+FT6BtHImmJ7tMYNVYBYTS2amGMwHb6kYmhKBPOX67TZllYhw5tGWizD5cBCM7kWW2Xc8CXYDm7xsoE1KdhdH1x9P36ecaX+oCUFelRdK8ItBnoicpE7aWu3pnTVgGDoEhIKiL8tqa/aGMMLLUiKj19a4E21Z9l7CVz6+WjwQt5oC1n/2nXVlienmLo6AmqLUEqEnqLDv1hD02rlaWqH/Cy0VUszwETMXkxE1O2hkcIL15EWBLnaBn/mYV9buHNzfVkpP7O7/zO2rmzs7N86Utf4gd/8Af3odW3Dl87Oc+oCjgshpmPZhGWhQpXIFCkhe53MrwcqWyEkCgyHbZ2dASWz284xz5UIjyzkjsOXyN//Md/zH333cdHP/pRnnzySd785jdzzz33MD8/v+X5TzzxBO9973v5i7/4C77xjW9w9OhR3vnOdzI1NbXHLT+YLE5cJA58ho4eZ7rmEzYT7MCw6F1iNI4IC8P0RT3YxsoCbc3wwG2K2V4BY1KMXgJSBqJxTi+cwhobJT5/fstrCm8YJG0ntL+/9fcuJ6drmX0m+zn4ShbmDBiBrrRAK3p1pr+mSuWtrzUGqxlQLh8hISag+yowVg0RLJYRwuDJTOpj1KlxfnFjBp49Pk54enOgTRYsrCGP8MzKrrf3IHGAHus5e8r5vwIEjL5x7dD3ly/S04xAWoS2S8m9wgghKWBhEfpV0m7WhBGC1CrSk0REskGrrSk5Fq4lma0FVHp6qVWXSFONdAWyDNFsFmhzjh0jOHUKk+Y7cjn7y6UXngVguM+inozg2w0cadMTl2moVuZidpME2rxy9nekjQKp0VijI8QXs11z97Ze4ukWSTXXfsm5Nfnq87P8s56Y1GiWTBOZ+CgdIX1ICwenbBSyDFZlO6jURyZ1tDkBU09uOMc5WkGvhCQL/v408oDx27/923zoQx/iAx/4AK9//et5+OGHKRaLPProo1ue//nPf56f//mf54477uC1r30tn/nMZ9a0GXNemunTJxFS0n94nKcv1TiiJQhD3Vtg0Fhot5fRYIBQRrRVgGofvE0xZTlIqYjaDWzHpyc6yqVoEXvsEOG5s1tf0+viHK3Q/H/TeZA852Ax/RQoB3qPMjtl0DJGuBolBY7fQiiFdLcea2UQIRJN2TtEi0aX6pcLUulixU2UG6PiQWKlKZgqE1Uffdma1z4yjl5ZRlc3V5JkOm35JtjlHIhAW57yvg+c/3pmguBW1g5dnApJ4ylEsQch5SbH0b64gjGGIKySblFW2k1oq0ghbpKoJmloY4D+osNcPaDS04dONfWVLP1V9UuSuRSTGuzjxzHtNtHFzanxOTl7yeTzz1IeGMSpn0FHh4gdn96onKWmpzVEmh4oEfSroZRESA8vUMy25rDHxtDLy+h6HedYBSxB++k8qy3n1qPmx3zzXJW/3y6xFM5gykWsoAopSD8hKR6sQBt0ykdjnzStEnnHWJjYOIezD5VACYJTeYnKSxFFEd/97ne5++67145JKbn77rv5xje+cU2f0W63ieOYgYGBbc8Jw5B6vb7hdasyfep5+g+NY9kOz07VuA0bv1hniAhdHAEjGPWHWHay/0eq5R+4sVqIrHw0bDexnBaOPkJNpCTD/ehqFV3bWkPRe8Mg8UyLKHcOvi7ydfA+M/0kDLwSpOLCZEjVm0WFRfqLHX22Ugkhto6gWXUfISQVa6gry0ZXSS0vcyp3E9LIIXUUKmgS6ZTplfVNLXt8HIDwxc1O8vbhMmkjyjfBLqPrA215yvs+YAycewLG3rR2aC5cwVoYxCTTBAWPomMhr3io9EU9BLpO4ojujNhfhrZLCJMiLR+MJA6gv2iz2AzximWkkCwvZQt3a0BgYkiqBuf4cQDCF17Yz+bn5DD53NMMHzvByoWncaMBRDFiIOwlEQlxOyux1Acsm+VqWLYNuspz5y+gRscAiC5ezLRfjvfQfnI+30XLueV4/IU5BlM4HvYx719E9fZgh1VMXEAYcyCfAZbjouOIWNSJnB7OTjUgulwnRmIfKhGcqu5jKw8Gi4uLaK3XNBVXGR0dZXb22oTpP/KRj3D48OENwborefDBB+nt7V17HT169GW1+yCTaaceR6eGU1N1ekPDvDPBoSgkKo7SF1VwU4dlp4YMY2SSHih9tlVsr0AS+ihrBbApJYc4J7N5c3Ru6/JR+0gZ1evQ/JvpvWvoASdfB3cBU9+FoVdhjGF2CpaLs/j1Av1Fm2Rl+aX12SrjKGHREN1r4pNaHlIHKMcHDLY1gApTCirl/OJ6uassllADAwRblI/aY0WQEJ5b2buGdzldH2jbi5T3fCfuCuafh+YsHP6htUNP1s5wfGEYSKhZHuUrykYB+sMewvYSuov12VYxysEImyJNDJp2WzNQdkgNLLRiSpUeqp1AmywLhA3xbIqqVFBDQ/jPPbfPf0HOrUy7XmPp0gQjx2/j0mIdgaRcgYGwl4bdwmr4meaL1fWP+GvGLRfA+NTmE1RfL8L1iM5fyN67vY9kvk0807r6h+Tk3GT832dn+f8qisRoFqNZRKWEHSxB6GCk7G4Zh21QTscQwWkgUs1S6/Yty0fDczXSINmPJt4yfOITn+ALX/gCf/Znf4bnedued//991Or1dZek5OTe9jK7qG+uEBjcYHhYyc4v9iiNzAIA0vFaUaNInH7GA2GiGRM02qjWpnkwUGUebDdAgBJtIgQCcPhEU7655HlMuHZzdkukDmWeq8fxH9mkaQW7mVzDyx56fc+067C8gUYejX1FUgDm7BUA60YcCS61UKVt9FnI3McLQ29kpgYn+6do2pVQGCw0ybS0dgi02kbcZe5sLix3fb4ONEWhgjCVljDRcKz3RtQ3Gu6ehW2Vynv+U7cFZz5/4HlbTBC+Hb1DP01A1LREC4Vb2NpqKNtSrpAWJ8l9Q7GDrq2S/QmbSJVp9VMKDn2mk5budK7FmgTQqD6BfGqTtuJEwTPPLufTc+5xZl8LhNmHe6B6eQQWsb0ei69cYW63cRq+Qcyk+Vq2F4RENhth8Ro7LExovPnsveOVJBFi/Z35va3kTk5e0gjiPnLUwu8PREsRQukVgErbiLTGNGGpOR2fXb5VijLQQiJLWOccJFE3w4TG+d8zvEeSA3Bi3n56NUYGhpCKcXc3MZn49zcHGNjY1e99qGHHuITn/gEX/3qV3nTm9501XNd16Wnp2fD61Zk6mS2CTt49BjPTdc5kioSN8RWTVwvKxsd84eoOjUQYDUDjJIYe/PmdbcjlUI5bqbT5rYpxbcxm9ZQh8a2FEtfxX11P8JWNP86z7B6KfLS7y5g6rvZz6FXM3Mpq5pIiwGWkridTGvraoG2eotK7wmaotbV43GWgKJQURPlRpAMkgqDxyKTK21irdfOtQ+PE01OYILN2sj2oRLhuVpeYdKhqwNte5Xynu/EXcGpL2dlo2p9h+3shRATTyFKPSAEFXdj1lp/1AtA0Jo7MDtz2i7h6ZBE1dGBgwEGyw7TKz49vX347SZhkNWZWwOStGHQbZMF2p57LjdEyNk3Jp55isrQMO7KKerxcdpOjaGkD4mkrppYdf/A9MNrRQiBshxUXON7Fy5iHRpbK08RUuDe3kfre/OYJO+XObcGXzs5z5A2jPsF5tvnkcUe7GARg8SqR+jS9hlI3YwQWVabiAJkPI+RR1i89H3Q0do5quKgBjyC5/Py0avhOA5vectbNmSzrGa33HXXXdte91u/9Vv8xm/8Bl/+8pd561vfuhdNvSmYfP4ZeoZH8Uplnp+uMZ5Iqt4Uh5KYsDhGf9SDmzpZoI0s20V7TlcvwK+G4xYIW00sp45MR8EUqA14ROfOQrJ1tql0FN7rB2j97Qy6Fe9xiw8Weel3FzD5LfB6oXKIsxcDau4iaeQwUHRIVlZASmShuO3lBV9Q8kao0/2bQtryUHET5cUIIzG2i/Ib6NRwafkynbYjRyBNCc+d2/QZ9qESaSvOddo6dHWg7eVyrSnv+U7cZbSWYPJv4eida4fmwhXcuVFMMkXoFSi5FkptnBUMhL0EpkWSBAdG1FVbRUCiVAOMJGrDYMml2oqwC9nuxKpOm+rLdOeS2RT3Fa8gbbWILuSGCDn7w8VnnmL0tlfiX/gOVniUpNhiMOwnlBFxUM+MEIoHc5F9NdyCS6oXmJpcxh47lDkfLa9k7726H+Mn+M9vdkLKybkZ+T/PzPD/FYtExCwFE6ieXmx/gTQpZs+AcmG/m3jDWI6LjtokYgWE5JnwFeuZBR2cYxX8k1WMznfOr8Z9993HI488wmc/+1leeOEFPvzhD9NqtfjABz4AwPve9z7uv//+tfN/8zd/k1/7tV/j0Ucf5cSJE8zOzjI7O0uz2dyvP+HAMPncMwwfP4FODbNTTewU5r1LjGqFdnsZ84cJZUTLyjSPVOtgb4rZhSIm1cA8YBgJjnNaLmDimOjChW2vK/zAEAhB/c/zefRukpd+7wCT34Lh14AQXJrQVIvThPUCQyWXuFrFKpe3NUIQQUxf6TaMSamLlb1t9w2QqgIqaaKURloJlhrA8g0FR3PusvJRNTSI8DzC06c3fYY9WgQB4bm8fBS6PNC2VynvOZdx+v9mZghH37Z26FsrpzgxPwIkVKVHj7fZUXQw7KMdLpG6NqgDsjUnBNouUDF1UhHSaMQMlrMJz2IAjutRXcrERoUlkD2CaFbj3HYbCIH/9Pf3s/U5tyi1+Vlq87OMHBlnYdlHpQ5ej2Yo6KdmN7CabQziQE/et8Mu9gAa0VSo8cMAa1owVr+HNVqklZeP5twCtMKEJ04t8CMpzKQLpGhUbwE7qkHbxUh5oJ8BluOhk4S0KPD8KlX/B+D8X244xznRg/ETwgv5hP5qvOc97+Ghhx7igQce4I477uCpp57iy1/+8lqWzMTEBDMzM2vn/97v/R5RFPFTP/VTHDp0aO310EMP7defcCBoVBdZmZ1m5PhtnF9sMRRCKlNa7hK97hDCSMb8QarOCggQsUYFMfqAyK1shbJdpFTE7RqW7dMf3cYL3iLCsfFPntr2OulZFH9ohNY3ZwhzB9JtyUu/9xmdwNS3Yfh1tBqGpOHhl6tIYzFQdohXllHlyraX27UWPQO30zR1tOh+PdHUKiJMiorbKC9BpiNIIxgqzHNuYX2jRQiJMz6+pSHCmk7b+Xxchi4PtOUp7/vAs38Ko2+AQv/aoW9NTlJsNRDKpqVcKldkrBUSj6L28BszpAdsYp/aZXrjNoFapt0ERyl6CzbTyz49PX1UFxfWzrUGBMmCQTgF7PHD+N/PA205e8+F7z+JkJIRp8aZ9FVoGTPmVijpAjWngVXzSQs2yAMS8L4OlG0jhIUdNXm22kT29BCeObv2vvfqfsIXl3OR5Zybnq+dnGc8gZFAsdieR1hlnHgFANVISCqFA1uOBmC5WfDBuIZiexoZnSC++F2I1t3PrKECsmwTPJdnsb4U9957LxcvXiQMQ775zW9y553rVQtPPPEEjz322NrvFy5cwBiz6fXrv/7re9/wA8TEM9mccOS2V3JytsFhLfGLS4zoBF0cYyjswzY2S26nbLSVlValxYM1b74cIcDyigTNGrbbQOnbiJDEo4OELzx/1Wu9NwxijRSpfuFkbmqyDfk6eJ+ZeyZzvB59A1OTWeZ0VGhTcBROGpP6PlZl+0CbV4sp9x5nRR0MiYNUeRghUXEd5UUg+gBwknlmawHtcL3U2xo/QnTmDFym3baKPVYkPLeS67TR5YE2yFPe95R2NdsxPvH31w4ZY5g7b5PGFzHlMkpJKoWNoq1DYR8phrA6eeAE2BOrjMJgrBVIHOIIBssuUys+5UovK8tLpJ2HiDUgIYV4PsV5xSvxv/e9/W18zi3J+e8/yeCRY5iZJ1kOX0PdW/z/s/ffYZLc9aHv/67c1bknh52N0q7SKq0CK4ElHQtk6yBj7rEPx9wfYC4Ox1c4wX2uAQt0HgdxbJN8sUAEi2BblkCACBJBElrlVVhp8+5smJx6prunc6j4+6N3ZzXamU3sbk/4vp6nH1B1Vc2nevvTVfWpb2CF04aHR14roeWLS7Lb6FGGqeO6oxweTNZnPjpw7Km5vjYGikx5m2jVJixtj+0a5z1mkLJSI18cRjaj6JVJXEzUQq1eaFvEZFlB0XRwqmBPIKGxy74ABp+fWUeSJPRVUcq7U/ieuKAXGmto13YSnd0YwRC9wzmaXImkMUyHR73baLmVslKhotYHEFcKVXxZqvcEWcR0M4hrW8jyFKDSbq1kJFyj1tuLP884bVAfWzVy8wq8ok32R4fnXW+5E/fBDTT4Qn288uYL6T1cIW+ksSyF5rCBnak/4DlRoa3NbgFkctLiKLQh1WcfVewCkuqiaD6oQaRyCV/yZnUf1Vb24NeqWHN0M9a6wngFMU4bLIJCm2jyfh7t/l692+iqG2cWHSyP0T6xBt+doKCHiJka0psekzdX45SkAjg2bnBxFdqQFTzFJChl8SSHUs6jLaxTczxsLYjnueSy9R9I2ZSQg2CPeRgXXkjtwEFcceISziPXsRnauZ2OteuoDe1Fq7XjR0q0VZrIaUWwaihVGye8dAtteigGvoVS9FG6u6kNDOBb9RZssq5grI1ReiUpbryFJatiuTy9f5KbHJkDyhC+X0CORtFqKagEkfBxoou70AagGSZ2pYgT8NCtaQa8TXDo8Vnr6KujeHkLa6TQoCgFAXzPo3/Ha7StWYfnw/RIEZDImBM0aQlUT6Wt2kzayM5soxbK9YfTi7jlKYAWMJEkGbuaQVGrtFQvYHckh2/bc47h9EZK1CD0lk7Kr02KLuDzEPfBDTTwLLRehC+rjAz4TIWG8YohmoM6diaNbBjIxvz3vc1aD2UrjSMtnkk/PNVEsYvIeCgBG5lmzKpKLDzN4ck3FNo6OpAUlVrv8V3EtY4QyBK1w9nzGPnCtOALbSCavJ83Ox6E7qtndRt9dvQALVkJ8EkrJnFz9pM32ZdptuIUrRS+JC26Fm0Arh4hYZeoKlMU8j4RU8dQZaYqMoqskE4dax2jNMtY4x76BevB86hsF91HhfNndP9e7FqVzhaDvtoafKApohC3o2T1PGqu3q3KDS2+PDxVih5AklTUWpFeJQSuO7v76EUJ3Okq1YMLf4YnQTgTTx+Y5CpHJmxDslx/qm4EPSTPQ8n7uMEAvqqcZC8LnxowcR0bKxIgmh9GKq7CnjgE+bGZdbSOEJKpUtmVamCkwnKX7D9MJZ+j84L1DGfKJCyw9QqaVEYPdNBeaUFGIq1nZ7ZRC4t7IoSjJElCM+vdR/VAAdm9gHRIwTMDVHbsPOn2xoYEaqtJ7rH+8xDt4iTugxvAdWDgOei4nGwGvLJBNZxGQaUpZGCl0yiR+cey02yZaKiHnDt5HoP+1bla+Mg4bUWUgIUkx1E8mZA+wcGpwkx3UEnVULs7qe7ff9w+JE1Gaw9SPZQ9z9EvPIui0CacB1O9MPoqrPsvsxb39jp4dj8EgniqTuxNFwVNtRiKr1AqjNTHZ1uE3yhHixDwPWw1je+oWGVoixgMTVcIR2Nkpo79SKotMjgArcjRKOVXX2lY3MLy0/faK5iRKMH8fvqtK8iZU1zkrcLHZ1rPo2WLuAFtSdxkz0eSIGDqeM4IB7MlpGCI6t5jY8GobUHUFpPi82Mn2IsgLF6P7Rrnf6gBkmYWuVBDUoMEnAwuBmqujB0LNjrEs0IzAkiSjKP7BIsjSKhs5yo4eKxVmyRLGGuilHdMiVasQsP0vfYKmhGgpWcVe8dydLoyucAYHa6PG2iiq9xGTitiK/WulHLNQanZuKGl0fpcN0M4tQqyOglo9FRXMd7kUdl+8iFWJEkieFUb1lCB2pCYGEFYIMZ3QK0AnZfTf9jFlRwqRplESEP2XZxcDi02f6Gtc7repTSnZs9TwGeHr+j4koJi5ZFVF0UPAxJSNUXZchjNHhsnVetZSbW3t94b7k20rhC1Q1l81zuP0S88i7AsIpwTr30bjCj0vGVmUc4uoQ134jmHKZthYgEN5U0zirZVm6jKNfzpyUXZmg0AWcFVTMJSHkcqk89CezRAseaimBHSqeRMBV8JSchhsIZcjA0bKL/0cmNjF5YN3/c59MpWOi+8iNLh3VDroRrJ0F1tJ6cVcCUXbbqIG1r8XcZORg8nABuj7CL3rKS6a9fMe5IkEbismdqBaaxR0bVbWFqqtsu+vVNc5ci8aOxAqWWRgwm0yiRUguD52PFQo8M8KyRJQguY2JU8NcNHsSYZtK+GQ0+Cd2wAZmNtvN59VNykCw1y8OUX6LxwA7KicGggi+lJTJoTtCgRQk6QhB0lbRxrZa0WjrQ+X6zXzW8y0320nEJRy8Rql7G/2caZmMB+Q7fGebdfGUGJ6RSfGz0P0QrCKTj8JOghaFnP3gMVUqFRrFKA5lC92yi+jxqNzbt5R62VSmmSmrH4+oa7Wgi1lgVACXpIcoRAWcUMZuidOHZdra9ciV8qYY0cn7daTwS/5lIbWN7nZVFoE8CpwfYHYO0toBzrGvrLkV7aMwZ4Fmk1RFPoTQO2+vVCW1bJLvpxoVw9QpNdoaSNUylCzDAwVJmcF8C2LQq57My6apuMPeFjrN9IZedOvHJ5/h0LwlmSHhkiNzlBV3czQ4UV9dlGIwYxO0LayCKXayg1G3uRD4J+KhRdR1Z01GqGA2YYa2AQN3/sZG6siyNHdfJPDDYwSkE4+54+MMU7bZWq6pIuV8AvoUcUZM9ByXg44QC+tnRatGpmELtWoRI3aZoeRC11kC27MLptZh21I4gc1ii/vri66AhLQzY5QWpogO6LLsHzIT9Wxpc8CvoUMbOT7nI7tuQwrR87R6n5Mp6m4utLI1ePdh+t5KbRzRySt5JcLIinyJRfefWUtg9c1ERlTxqvvHjGsxKWsENPQMflVC2F3JhOOjyEYoVojQSwUikkTUM2577e1l2NmNxKoTq+KCstrhpGcatIrjXTfTRcMTFD4+wdz+FTb3yidXeDolDbt++4fagtJnJQpbp/kUwEcY4swn9+4azb92OoZGDDb8xavH13CdfuBd3A0c3juo0mrCi6p1OoTgCLe1woR48Q8H08NQM+lPLQGQswVJCQJZn01MTMulqbDBIo8cvBdSlv23aCPQvC2XHw5RfQDIOYNUh/7RrSwVGudC7ClmyyegF9ulAfJ3ERF7xPRzAUxPemGEIGSaKyffvMe5IsEdzURnVfhlpftmExCsLZ9sS2Ud6Jxq5EP93ZBCBjKkU8V0crVLGb5p8BbTHSzRCSJFMN+kSLo/i4vCS9FQ7+YmYdSZIwLojXu486y7ubinD+9b7wDIqm0XF0fLYq1IwMCRxko5WuchtpI4svHetepeZKi/qaeS5GKIzrWMhSvQVbd+1ihpp9iltfOLXtL0yA71PePnUuwxSEkytnYOQV6N7E4GEffJlKZJqgrhIyVKzJSbRYHEmau7Vae7UZgJy7OL/LrhbCR0KzppEVD1mPIvkeOBNMV6pMZOszJ0uqhtbdTXXf3uP2IUkS2soIlT3pmV5hy5EotAnwytehYyPEemYW5Z0ycn8nnn2QYjBGLKQf1220vdpMTbawc+O4xiIfF0pScLUgcb9GRZ2kMA2dMZOK46MHI0xNHmv6LqlSvVXbVBClpZ3Sc883MHBhuTiw9Xk6L7yIqd4BcGM40Wl6Ku2kjlzA65lCvVWpvPiaqZ8JLZIAScOs2tTaWim/OvupubEujtoWJPvjPjF2k7AklGoO0f3TKJLEE8rzGMUSciBKwJpCzpn4qowTXRrdRo+qt5QJUSnnqQQU1NoYueKl+MOvQCU7s55xYRy/6lLZm25csMKytP/5p+nacDGabrBreJo2V2LKHKedAB3VNnRfYzJw7HspOS5qsYqzRMZnO0rVTRRVo1pIowcKqNaVDLSDOzqGNTJy0u1lU0VfGaX06sRJ1xWEc+rQE+B70H0Ne/ZWyZjj1GoqbZEAnmXh5LKo8fi8m3cVWygXxrFCi/S+WJJw1SBqrd7dXYsEAIVwOYgZnGTnaHZmVX3Vaqr79oHrHrcbY00MN1PFXsbDuIhC23KX3AtDL8KG22ctfvTAPhK5GngWGT1C85uevEk+dFRamNZz9XGhwou/u5qrxWi2q5TUMVxHQnU0YqZGEZPU5ATeG8aE0btlfAsCV/1Xis8+28CoheUgPTJEamiAnjXd9BdWU9bybDLWofoqU4EMku2iZss4saV1k30ikgRmIAh2kj3xGNVdu3ALhTe8LxHa3Ik9XqL0srhwFxa/X+wY47c9jaHmHPFCJ747iRYx6jfuGQsrEV6SV3WBcBTXsck1GXRM9aHbEV7310PfUzPrqPEAakdQ5LpwXiX7DpEaHmTVZVcC0H8wi4JE2kyS0NtYWeoipxWoKdbMNmqujOT7S+K6+Y0kCfRgmEohix6YRCKMYa6hqkHqqV+cfAeAsT6BPVbCGlu+N+bCArD/UWi+kJrSzPiAwnj0IHI5SnvUwDoyQZ42T6Et6ASIuTGKuYFF3WrV1cModhHJs1FNB0lJECvFCIRH2T2Wx/Xqrcf11avxKxWs/uNnDda6wkimuqxbqS7BSzLhtLz6r2A2zZoEAWDXThvb2oEXDINhEguqs95PWDF0T2faTx0Zn23xXzC4WhgNCV2p4CplCtPQHTeZsHQcxyabTs2sK5sSSouEHL0Kq69/zoEgBeFs2f/802hGAK04TLZ2EenwMJdWL5i5gDdSOQCc6OLPw9MRiEdB0qhICr4P5Rdmd1HR2oIY6+PkfzGAV3EaFKUgnB0jzw4TQ+KJ8DOsm+oEPMJaAUomOD5W8/wDMy9mqq6jGgGKSg2jmsYjR6/9FjjwC+BYa9XAhiZqh7LYU2LcVOH82PXLn2NGY3RccCGW61GbrOIqVXwlR7dyMVE7zEQgNWsbPVvE01Q8XZ1nr4uXEap3XbfK4yhqGdXazFAbFJ97Ft8++dhrek8E2VQpvSIK5kKD2NX60AQrN3Nov4/vQTmaxlR1oqZOLZlEDgaRjbmLaF3lNlzPpmAlF3VPL1eLABJ6LYMk+ahGDMWuYjlTlJ08vcl6MVzt7EAyAlR27z5uH5IsYayNUd4+uWxnHxWFtuWsmocd/wkXvmPWJAj7ciM0DbaDPcx0IEZTWEdidne0znIrVbmGk5vEl6RFPRHCDAkcPUqzbVFQh6iWJVrNAK5igqyRnJhdTNO7ZXAN1BWbKG7Z0piYhSXP9zz2PPNLVlxyGcO9GTwJVkUjRJ0wySPdUfTJHE4ksKhP6mdCUlQCRgzFznGwq43CE08cN8148JoOfNsj/8uhBkUpCL+64akSb5lyGInaJCtp9FIG2QgTcLLIaQknFlwyA6vPJRCJY9cqpJsCJDIDBIqrGcoXIHVwZh1jbQzJVCk+P9bASIXloloqsueZX7Lmyk3IssL+8QLtNuQD47RLOqvLPZSVCnltdussbbqIEwnAEhzlQVYUdDNEOZsiEJpCoRWrdSWBqsfrv/j3k24vyRLGhgTlbZN4NfFwTGiAw0+CXYZVm9m5s8ZUaBirptMeDYDvU5tMoiUSc24q+dBdbqeQH8RZxK3ZAJDkegOUSr01mnZkNvO24gqisVFe7c8cWU1BX72K6q5dc+4msCGBV7SX7aQIotC2nO18qF65Xz97EoTvv3oYtbQPVJ1sIEJrePaPhezJtFdbSBtZtOl8vWmssjSuGBw9TpNrYylpkBxKOZmuRJCSHGR8dHjWukpERo5JGJfdUb/BF4RzYHjvLgqpKXpWdzFUvohMcIzr3UupKFXyWhG5bKHlStjxcKNDbQgzbiLJMTKmTiWVovzyy7PeV0Ia5uUtFJ8fw0lXGhSlIPxqXn30IJ3IvNK2gw3pq/CccQIhCYoqStXFalmardmO0gwTVTfImi7N0/2Aywv+jXD4lzPrSKqMeXET5VeTuEVr/p0Jwlmw+5e/wHMc1m26DoCdvWnCnsxEaJwL5AtprTUxbqZmFdTkioVSruFEgg2K+twzo3E818GxRpCVCmVuYTrmU3nqaZLl5Em3D1zchG+7lF89+bqCcNbt/h4k1jLtrCAzrjKaOIBSjtEZC2BPZ/BrNfSmpjk3ba02YXg6xfTBpdHTy4gju1VUu4hqSMhqjFjRxNX7GZjOM5GvX1Pra9ZSO9yHVzy+y7fabKK2mhS3jh/33nIgCm3Lle/Dy1+FlW+BUMvM4mQtS21PDNfaQzHaTCxoEHjTU/L2ajOqr5BW02jZ0pK6YPAVHV8JEMenqI1SykF3NEiBEMVCllIhP2t9vUtGDnRSPTiFMz3doKiFpWznkz8n2tLG1OFD4DQRiNboqLXUW7NJEJjI4Cvyshqf7Y0kVSEYTAASu3vaSX/34eO6qJiXtyKbKtlHjx9DQhAWOqtqs6Y3z+Ggy/bK67RPaYBPVJlGzho4wQBuSD/pfhYzSQIz1oTt1EhHJczSMHL+ctL9z4J7rOVL4NJmkKDwzMkHXxeEM+VYFq/+5Aes3HglZiSK78NEXw5fcigak1zpXEtVrpHRs7O209P5I71AFv9N+HwUVUMPhilnkgSjE6gkmOq4kp4pn4d+/k9Y7omL4EpYx1gbo/DMyLLtbiY0SK1QH59t9VvZs8PFVqrUQnkiukHU1KiNjyNpGkokOufmK0tdlNwsNavey2Sxc1UTT9bRK/Wu3Go4AU6WYKWJYHiMFw/Xu8Xr69aC71HZdXz3Uaifl2sHs9jJ0nmLfaEQhbblqv8ZSB2ADf911uJv73qFptQYKAqTRpS26PE/FF3lNvJqET+bQfJ87CV2g28bCdqtKkV1FB9wSiqhWDM+MmMjg7PWVZokJMNHX/NfRKs24awrTmc4+NLzrLnqGg5NqFS0PDdqF+NILiljGhwPYyKzZAdBP1VGVELRL6SmyuxTHDIPPzzrfUmVCV3fQXVvmuoBURAXFpfXH+4l7sPr3bu5IH0lXu0QejCAUpVQig5W69JuzXaUZgTQAyEyQYfW1EF0N8jj9gYYPTbjsBxQCVzWQvGFMZxsrYHRCkvZzid+SjmX5eIbbwJgIF2iqeRRDoxzCR101FoZMyeP6x6qT+VwIuaS6QUyHzMax3VdrNIQmpEjb95IJRTkgtdT/Of+B06+/ZVtuDmL8rbJ8xCtIByx90fg1HBW3szunQ5DsX14hRid8QC+71MdG0VrakKSjs/fqBWmyYqRzRyoF9LlpZHjdiCBWsuiuBX0WBgkla7cCpTQQfaMZcmUaiiRKGpHB5Xtr8+5D2NtDDmoUnh2+Y1nvoxvzZa5l78C8VXQsXFmUcrKkXxVwrV2U463YpoGMVObtZnpGDRbcVLGNMZUDtc0lty4MK4WQUchBFS1JMUMrGoKU5JDHO47NGtdSZLQuhXU7k3kH9vSkHiFpWvH448hKwq+YuOXL8QNp1hd6WIykMaXfALJaSTHX/Ldxk5KhnDYQtEvIxsK8MrOV8k999ysVfS1MbSuMNM/OIhnHT8NuSAsRFayRPvuaV41bXaVX2Z1shXfLxI18pAzcQ1tWU2CYsYTuJ5HJlxBryapFa8jc2j2jIbm5S1ImkLuZ6IFq3D21coltn7/IVZfcTWR5nqPkK27J0l4MiPhUW5xbqIi10gb2VnbyWULrVDBji+th9NzUVSNQDhKMTOJERxCliQOrvqvXDLos2P/02wdf/GE26tNAYy1MXKPD4rztXD+vP5v0Hk5B4dbcGsK6eZ+VCtEd9zEyWbxymX0ltY5N11bWEFVqlKb7FtSDVBcLYYvaxilUWRZRgu2QCVJoJrACA/z9IH6GG7GBRdQ2bEDnOPHVpQUmcDGFsqvTeJMV8/3ITSUKLQtR9OD0PtTuOid9f4YR9x/4Bm6RtNIWoBxI0rnHK3ZussdOJJLVs6gTReW5gWDBLYRp8OqklX78QDKOlKoGaucJ5uZPYOU1i4jST5usQV7fHn2QRfOPqtaYfvPfsKaKzexffcQnuxyfeQCkKh3G3U8zOEpnERoyRW7z4RiumiGi2JcSSGg88zPfkj6madn3pckifBbu3DzFvmfDzQuUEE4Rb7jMfytPaTw2NXzGusnr8Gr7kE3FDRJQ8va9dZsS+PB+SlRVI1AJErWsIlP7ydWbecXkzmwjo0NI+sKoWvaqWyfojaYP8HeBOH0vfjwf2JVq1x6860AuD6M9U6DbNOkK6xwuhkNJo/LS2Niuj7MQ3QJXjfPwYwmUBSV4tQQ4fgYjt7FROd13LHb5Vu7v8V46cTXy8Fr2/FKNoUtwydcTxDOiqleGHoR/4J38PLLVSbC/WCbtEcD6KpCdWQYSdNQY8c/2I5YIdpqzaQqffgyONGlM6QSEliBFtRaFtXOYzQ3geSxIrMCJXiQ3WMpJgtVjPXr8SsVKvv2zbkb8+JmJEMh/+TymphMFNqWo5e/CnoI1t4ys2iimiH5tIVvD5Bv6iAU0Em8acwX2ZdZUW4nbUyjpbPggZ1YmhcMjhEnjE9Q8qlo4xSmoae9EweVbW/qgy4pElqXhLb6JrIP/6RBEQtLzfafP4pVreB3dKHk1+OFJrmg2sOkkcaVXczRNJLtUm2PNzrUBcOMVpA0kAKbsFSV5x5/lOQPvg/UZyJVYgaha9opPj9GrS/X2GAF4SSyj/WhZmr8JJIjmTvAiqSG7+WJBStI2TCepmInlt8kKIFIHEmSyQYzqHaBbOE6socen7WOsT6B2hIg+6PD+J4/z54E4fQk+w/z2k9/xCVvu4VgtH7DvWNomhVln2lzkHc5t1BUykzrbzq/uD6BiUx90qJlcuclSRLBRAtWpYRVGiAQSjPRtpmW1Bo6ii5fev1eau783buVqIF5eQuFp0ewp8rnMXJhWXr5a2AmGJVuoJjSGGvZj1+Msao5iO95VEaG0Vtbj+826sOG/GoqcpXKyL76eMlLrGu4q0dwFZNAYRBFUdCjHfi1QTqyF2HGDvLkviRKaxtKInHchGRHSZpM8MpWytuS2BPLZ6y2ZfJzL8yo5mDbN+szjWrHWqzdt/dxukYnkQLNTCoBuuPHV+O7ym1onkrSSKOPZ3AiJr66RFvSSDKOHmdFrUpO7cfHw83r+MFmCpMj5AqzfyT0lTpIPqXXi/iuaOYu/Gpq5RKv/Oh7rLpiE6+9vhvZ17g+uhYfn3FzCrliYQ5PYrVE8HW10eEuGJIEkVgeNA/fvBZHVdj62lbG7rtvpjl74LIW1I4gme/24tWOb+IuCAtBeVeK0gvjfJ8a023PcvXg1bi1XYRMF8w2tHR52bVmO0qWZQLRBEXZJpjbQ0fxAn566PlZ60iyRGhzF/ZokfLrYpwn4Vfn2DY/+9Lniba2sWHzW2eWv/jiKLovE49odHhtDIfGj8vL+jAPHrXWuQdRX6o0I4AZiVNMJ5GVflS9wMCq3+RdOwymyknu33U/Rx+EzSV4VRtySGP64YOiYC6cO+UMbP8PWP8bvLDVJheYwlM94qZBzNSpTYzjWxZGW/txm7ZXm2my4oy7fSg1i1rL0sxxK9iB5NoYxRGMpmYULUY4myZulzmcGWUgXca46GLKr27Dn6P7KNRnFFaiOtmf9OH7yyOfRaFtuXnl6+BacNEdM4sOlsawflkFr8hkcytRUydqzr55l32JNcVupvUcbjmHVqxiNUfOd/TnlR1owsQnLsnk9D5KBYnO1jVI+DyxdRv+Gy4OJFVCa6uhtF5N9pGnT7BXQTi5rd9/CLtW42AgQTx3MaHwNKusLsbMSVw8wgdH8VWFWlui0aEuOJLkE4vmQXPxzE3YmsJrw4cZ/afP4FWqSLJE5KYVeEWb7I/7Gh2uIBzHyVSZfvgAe1WPQy0H6dkPgend6JpCsCmIkpbxFRmrafm1ZjvKCEVQVJ2iPo7kOkym11PMHJ61jtYRqo/z9LN+UVQXfmXP/ee3yIwOc927fgdZqT9kHkyXCE3U8I0p3uFeR1rPUtTe1PrK9evDPMRDy/LBWCCaQDNM8uNDBMIDIDmMBf4bvzXm8kryFb5/8AfzbiupMpFfW4E1mKf43PIbSF04T176Cvguk4k7mBrSGGrZiZONs6a53uik3N+PEomghGb34tI8lYtya5nWcthDvTihAJ65NGcA9xUNO9iKXplEq2UxO3uQ1SBtKYkeDvKzPSPoF1+MXy7Vx2qbg6TIBK/vpHYoS3VP+jwfQWOIQttyUivAC/8CF9wKwSYAfN/nX154lObUJHJsFXlkViSOH1h5ZbGLgGswGpwkMDKFa2i4kSU+ALMkYxvNrKiVqCmTuGqJUtZAj7UhZ4d4bv/s8SWMDQn8WobiC2W8qrioF85MemSY1x77IdFLr6F0OIOEy42hiykrVZKBNOZQEjVbprKiZck1Tz9bJNkjGs0hKwpe4FLKhsae7CQT//BpvHIZJWoQ2txJ+dUk5e2itYuwcPiuT+bB/ZQ9l1eyW9m0dydtqRKaEaOpxcUKrMSYyGK1RJfMrGZnQpLAjDVRlWwCxZ2snN7II6/++3HrBa/rwCs75H8pxnkSztzhbS+x7dFH2Pjrt5Ho6JpZ/tNfDhLzZFZGo5gYjAQnjtvWHEkhWQ7Vjvh5jHjhkCQINbchyQq5sT6CiUFcNYCS/G+8tarzk76f8MTQE/Nur3WGMDe2kPv5ANb48ulyJpwn5QxsvRcu/A22bFUo6BlqgSqxgEFLNICdy2Gnpgh0ds3ezodLpi9A9mXGar1oxSq1JT6Ui6PHcLQoZqEfDYtg1xpktYdEQaI19QovJ/OoHZ2Unnlm3n3oKyPoPRGyPz68LCY6EYW25eTFe+sDBm/87zOLfjb5Ku3PeyCbDIZDNIcMgsbsJ26mE2BdsYfJQBqrVkBPFbBbosuiy4pjJJAljR5PIq3uxbYhFFyDIsHBfdvZNZqdWVeSJPSuMmAw+eWX8F2vYXELi5Pnufz8K/+MEorx6mSFltJqNjYphN0wA+ERjMkswaEpah1x3PDxk5UIx8iyRzg2jSrHcQLdZEMGffksyX/8R7xKGWN9AuOCONPfO4g1Wjz5DgXhPMg/MUhtKM+u8cfpLA8gKx1owY00x6apxC7EHE7XW7M1L83uKadDC5iohklZHkbydSaSQSrW7NZESkQneFUbxWdGsEYKDYpUWMymx0d57IufpfuiS1h//Y0zy/eO5AiPVEgES1zDRYyYSSzFnrWtXKrVh3lojS7L1mxHybJMuLUd33PJTx0mJu+jprTS038rV3lRHtj3wAmLbcFr2lFiBpkH9+Pb4tpaOIueugc8l4mW9zA1oDPYtgM3m+CCtjASUDrQi2wYaM3NszZbU1xBe62ZQXMIvW8IOxJcFtflVrAdX9YwswdRZAuzvRXFuBpFUsjsf56xFZ2Ud+zETaXm3F6SJEI3dOKWbPI/Gzi/wTeAKLQtF7kReO7z9ZlGQ/XpyFNWjp8+8ipGNYvbvhZH9ul+U2s2yYfLpi/ElhxGgknMoUl8TcZKLO1uozOk+o9Kwi4R1SQK2iDFrE6sdTUtzhRPbOvl0OSxWc2Mi9fgTDyLPeGQ/s/9otgmnJZXfvg9xg/sZ7e2govya0lE0qyX1jManMBNTRDqHcVqCtfHZhJOSpEdzPA0AelCqgGTsXiQsXSKqX/6DH61Rvht3Shxg9Q3d+OkK40OV1jmKvvT5J8aoi+/g/5QBjtyCbp6AU3BvdTiq6FGvTVbW1y0ZqXeUiYYS2Bjo5Z3sG7yKr7z4jeOW8+8ohW1xST9b3txC1YDIhUWq1q5xA/+8W8wQiGue9fvzAyEbrkev/xZPwlkrgqtJi1PM2VmZm/s+YQPjOBpKrW2+PkPfoFRFJVwSweOVSPjjtOafYWyu5qL+27gCtp4YN8DPNr3KHON2SapMpFbenBSFXI/7T//wQtL09BL8MrX8S//PX7xjEwuMEVJqdAcMmgJG9i5LLWxUQIrepDkYyWTjnILFxZWMWomsYYPINsO1e6mBh7IeSRJVEMrkHyPYPYQqm6hxxR0bTMVw6BveoLh1hi5Xzw+7y6UqEHo2g6KL4xR2TN3QW6pEIW25cD34cd/Xp9p9PL/AYDtOdz97H+yqr+MHOxhQHLpjpno6uyvxNrCSuJ2hP7wCHKhRGAyW79gWEbfHE81sY0EK8s5XGMKWy5SKXdiBGOsdgb4/isDDGfqzdklSSZ47XqsfT+kuiclim3CKRvavZPnHvp3JkI9XFq7EDWU5m2BK8hpefLjuwkfGMFuClPtblkWrUnPFk2voAdyhLiWqgGHWiNMTUww9fnPgWcTfccqJFli6qs7RbFNaBhrtMjUv+0mXR3lhcAhYv5GIlYzTeY27FgrjhYhfHgc31CX/Piop0PVDXQzRI1+JCnOxFCasj17JkNJlojcuhLf8Zm8bwdOSuS5cHKe6/KTL/wDpUyGt77nfWjGsdYqDz/ex4q8x9VNEQw0hsPJ487Lof4J1GKVak/rsu7m/UaqrhNuacOqlkhFsnSOP0+xtoaLDl7PVfTwvYPf4zu932WuYpvaFCB03ZGb873LY3wn4RwqTsHDH4TWi9jvvZNC0qCvfRtSKcGGjgi+71PYtRPZNNHb2mY2a67GuSx7ISljmnThAIGJaapdzcurxaqsUA13I7sVzHwfaqiGZFQJKZuYNoKMRUz2vfYSbmH+VuSBS5sx1sbIPNhLrT8373qL3TIqlyxjL/x/cOgJ2Pxh0IO4vscnd/0Hq7YoIBuMNsUIBzTaYrObvLZWmlhX7GHUTFJUygQPjeKaGnbT8rvItwOtoOisq5YpmYdxPB9fuwBdcllr9/Hgy4OkilUA9HXrUGI+9tCTVPemSf/HPnxHFNuE+WXGRvnOP/4dRT3ECq5DDU9yW/AyLMkmdegZAqNpqp0Jqt3Nosh2BoxgDlWzCCqbsDWXPR1x0iNDTH7+C0iqR/T2tQBM3rdzWU07LiwM1UNZkve9TqGS4Xnndbqr1xD0QjSZL+FFTWyzBX0qi5YtUulsEr8Bb2LGEri+g1TewYbkJr699YHj1lHCOrF3rgXHI3nv61QPZc9/oMKisuXbX2dw13Y2/87vEWlumVn+i1dHUfcVuC7eRJvcxN7gARxt9ri8xmSWwGiaWmcTbnBpDo5+pjTDJNzURqVWJBXL0j36LFW7mwt6N3OttYqfDfyMb+/9t1kTjh0VuLQZfXWUzEO92JPlOfYuCKeglIJ/fzfYZcrX/hVPPWkzEu2lbCmsaQkRNjQq/X3Y6TTBtetmWrPFaxGuzFxEXisyYh8gdGAUuymMnVh+ExP5ioEV7ESp5TBLw5jxGhISEX0NOTXMaNRk97fun3d7SZII37QCtdUkdf9uqoez5y/480gU2pa61/8DHr8bNv4urLiWolPhIzvvJ/yTAIo9Ta5lJbYMa1tDs67dE7Uol0+vJ6PnGDenMIcnUYs1qt2ty/MiX4JqqBvV91jrFCmZfbhWEAJrMZwCK6uHeGBrP/mqjSRJRG57B87YHvD2U+2dJvWtPWLWM2FO+alJ/vWu/xfLs4mrtxCJTnF74Ep8x2Nq3y/wXYvSBZ317qLLMffOAknyCUTSqJjo2kZszWF3RxMTI0NMfuazSIpD7J1rkXWZyS9tp7xrqtEhC8uAZ7lkf9pP6uu7SBeTvFx8gbh9NYrh0BJ4Dj8UoBbqRq7ahA6NYcdDuNElPgnRGVBUDSMcxfL6QEpQODzEWOH4Fi9KVCf2rgtQm+sX9qVXjh+4XhAAXvvpj3j9Zz/m6t+8g/a1FwDgeD7ffXaAwnNT/JdYB+1ahJe1V/DM2SdmLVsi1DuKnQiL1qfz0M0goaZWin6VTDBL99jTWF6Mnr6buTG3kqeHn+bru76O68++bj56cy4HVVL378bJ1ub5C4Iwj4Hn4as3Q24E77/8DT95IkjVsxls3keTEmdtaxgrnaKwezdGZydaPA7Ui2xXZy6lpFYY8HuJ7BvACRlUlnEvE1cLYZut6OUkujVJIFEl4LSghGPgKPSmJxh46sl5t5dUmehtq1Hbg6S+sZvqwenzGP35IQptS5VjwRP/C374f8P62/CvfB9PpXfy/me/RMejXZiFAYqxVeQCCuvbI7O6jLZWE1ydvoSiVqYvPIw+lSM4OFkfgH05P5mTFarhFWiuxRp3Cjs8Am4rfmAtppOjI7+XB5/vpVSzUeIJwu+4jfJzP0FtmsQayDP5pR3YU+IJnHBMenSY+/7qz3FqRULaO1gbcbjVuBanUmRs4EmKnWFKF3Qt2enCzydFdjCjKTS/GV2/hIph0dsapTc7xeg9f49fKxK7Yy1ad5jMf+wn/eB+MZ6TcE74rk/p1QkmPvMqxWdH2Vfex+vZZ9ClK5Ca8rSpz+GZYarRVeB4hPcOgSRT6Wo++c6XKTMaB1nCL2/losm38bnnPo/lHp+/sqEQvW01gfUJpr93kOyPDosW58IsB156nqe+9TXWv+WtrNt0Pa7n89zBKf7xWzvo2FHlnYkeQprEL9UtKJHgrG2VfIXI3sH6DfiK5XsDfiqMYJhQooWcZpM2cvSMbMGXJFpGb+e28Ut4afQlvvjav1BzZxfTZF0h+hur8V2PqS9vxxoTkxkJp2ByH3z39+Gbt4MRgds/y3M7u5kcUtjZuYVAuZXLu+M4mTTZrS+iRiOYq9cA0FptYlP6UspKhX72E9nTh6frVFa1L/scd4w4thEnUBjCkDIo4RLx2oVMt4QxLJdXn36Cgy9vm3d7SZWJvn0VemeY1Lf2LLlim+T7/vFtc5e5fD5PLBYjl8sRjS6ymb18H3p/Co9/Cn+6j96Nv83TiXYeH9lL/NCFXNqn4NX2kAt3Um1vY21L6FiRzYdVpS7W51eT1fMcDg1jjKcJ9o3jxEJUesRFA4DkWgSKw/iySiqwFrvQAm4F39mH57oUQyu4/W3X0hQJUdzyFOWtW4m+63/gu+vwijaRW3oIv60bWVcafShnZDHkx2KI8cArL/HIF/43tuwR136TayJxus1u8tOHGfUOUWuOiAHPzwHHDlDJN2NLeXLyNmJFDd3zWVmyuPgP/pjA+vXUDmYpbR2vD2Z9YxfhG7tRIkun2LnQ82Ohx3emfNenvHOK/BODuOkqtU6TX/Y+hl5OoupXobQ7tFRfxdGjVGLrkByPyL4h1HyF0roOUXA/CatcpJiZQjU2UQlYbNu4i/9xybvZ2HIZpjq7IOL7PtW9aUpbJ1BbTBK/vQ5jbbwxgZ+mxZAfiyHGuQzu2s73//f/onvDJVz/7v/OtqEsP3x2kEumZW4KtrDCCDMkjfOq8hLdoRXIqjGzrZYtE9k7gKfrlNa0i/P3KaqVipSmpwi7Cl3TEsk1b6FCF5I+zNbOV1FabO68+s/oDHfO2s4t2hQeH8CZrhG5uYfIr61ANhbHdfVCz4+FHt8p830YehGe/2c48DMIt8Hl/wN/3a/z0gs+25732d3+LHnZ5rqOLgKTwxT37EaNRglfdDGSorK62M2FhVVM63mGvQOEjxTZRI6/gQ96aRTFrVKKX0S52IRXNZjWttGSzuHIMlbPNdz4f9zOyqbg3LtwPPJPDGGPFWl6zwaCl7ee54M4PaeaI6LQNodF+QNjV2DPD+DFe9k3dZAfx9ew3UkQTnfSne0iWgDP6sX3LTLxDiI9XbRFA/W6mQ8xO8KF+ZU0WXHG9SSTlQMERtNohQpWc5RqlxgX5o0kz8EojSJ5NqVgD9PVFtRaFNfrBSuFD0TiLXS0txNITqLu2EV07XrMTb+FPeohmwqRm3oIb+5E0hbHhcFRiyE/FnKM1VKRH339ywy/8DSFoMbFxu9wdbgNXZJJFvYwFSvhq4vrO7HYuI5OJZ/A8xXS+g4C5RyGrWBaDitXXchl7/8AEiqVHVNU96bxPZ/glW2Eru9A74nMzDy3WC3k/ICFH9/p8m2P8o5JCluGcVJViLj0Zg8xMLUdzfdQ9I3orT4JexuOHqMaWoOeyhMcSiK5HuVVHbghUWQ7Gd+H0vQUVrmEGvg1SiGL3R3byIaSXNS6nnesuo1LWy7hjRczTrpC8fkxnGSZwKXNxG9fg9q8sLvnLob8WAwxvtnAztf54T/9LS0rV3PpHf+df9syRGywyi16M6sCEaqSxQvq65S9PjrDa0A7Mi6TB4GxFMH+JG7IoLxK3ICfLqtSoZSZRPElOqd9JLOLqdbLcIlS0aYZjR1i1aoW3vmW38TUj+Wn73iUX5+ksiuFbCiEb+gitLkLJaQ18GhObqHnx0KP76TsKux9BLZ+Gca3Q3wVXPpuWHMTjqfyxM8tDu+R2df6Ihk9x3V6FOnwPpxcDqOrC3PVasJuiItya2m24oyZk0xWDhPZN4Rr6pRXixw/ju8TKA4h+R7F+EVUCnG8aoCC3Eu0MAaeR6QgU7ziRm75b79OLHJ8wc13PYpPj1A7nCP0lk5i71iFHFyYubykCm333nsv//RP/8TExARXXHEFX/ziF7nuuuvmXf+73/0un/zkJxkYGODCCy/kH/7hH7j99ttP+e8tyB8YuwKVLBztCuE5UE7jTuwl+foWBvfuZFc5SKYaQasdf5PuygGKZgiprYPOthi6KqN4Cl2VVlYU2ol4YWpOkVRqB9X0EBLghALU2uO44cBx+xMA30evTKFaWRwtxKTSjVduRXEVLH8E285hSFUkr/5vFvB8mnIlusPtRNf+Gr4bRzZVwr/WQ2hT+6JpMXMm+SFyGFzH4Xvf+RZ9P/0Riu3QFbyKi+Jvo10PUqpOMqQOUDPcRoe5bHiegl0IUXMSeFKJgnyIcHEaH1Bdl6lmhfwlq7lqxaVcWexGPljDK9ooTQHMy1owL25CXxlFWoQXW6ebHyJ/T4/v+7i5GtZwgdrBLOVdKfyKg1UawTq0hQmlyGgigifryPplNOdGCVam8BUJX5KRHBcJsGMhqp1N+Iu09XMj+L5PMZXEqVbRtAshcCmepJAOTTCQ2E5ohc7vb3wvXeHuWdvUDmcpv5zEqziErusg8rbuBVtwE+fgs8v3fXb98hc8+a9fom3NBVTX3UJxe5HrlRjdeogaNq+r+5iQDrLCqSJH1+FpYSTHQ0/nMYdTKOUqVkuUqpis5Iy5rkM5k8KuVdB8mUjZAz1BKdyGI0eRfB1X9vDDVS66YgOXXrMRRav3yHGLVv3B2IFpJEki9JZOIm/tRokZJ/mrjSHOweeA78PELtjxn/VXZRq6roaLfwu6N4EkMTLo8uNHS9hFjZ3tT2HaJdZlcriZNEo4THD1WprNblYVu2ivNlOTLQZDY1hTgwT7JnDCJpVVYhbheXkugeIwEj6l2HpqtTh20cT1y/jVHUiexZqpLKGKh3XFNWy441YCa1bzxh/NemvzDOVXJkCRCN/QRfgtXSjRhXWPvGQKbQ899BDvf//7ue+++7j++uv5whe+wHe/+116e3tpe8N0u0e98MIL/Nqv/Rqf/vSneec738kDDzzAP/zDP/Daa69x2WWXndLfbPgPjO/D1H44/EsYeBbGXodCfdBex5OYqEYYKcfoL8eYqETxPAVX9rH1IAFvBYoUp6JBUathmTa6qREO6iSCOiFJJ2ZHaCtE6bTakVEoF0bJTx+m6KZwgwEc08ANm+Li/hQpTgWtMons1iipYSZpR7M6UP0gPh5Vv4jt5tDIoTvT+L5LU9Whu+gTb70ate1ikBQkKYcat9E6NNSOAHJAq38XfB+QkAMGSiKB1tmJcmRwzkY43fxYljl8hO24bH36WV5+5F8JZzya9C46A2tpD6/HVHTKdpGkPEROy4mL8wZxbQ2nbGI5EXxUfC8P1hCulwHJw1VVMhGJUhhWxC/gCnU9rdkwctVHCigE1icw1sXRu8OorcFF0XXldPJjOefvqfBtF2u8hD1axB4vYU0UsSZKSFb90qrsFfCTvdSm9nAw4lMKHLlYVDtR9FXElD5C1TFcKYJHvbDjqYo4B/8KfN+nmk5RqRSRAFUzQE7gSa3UdIX9nQcxW31uufAOruu5HFmq36z7jkdld4rKrhR+1UVfGyN4WQvG+gRqc2DBtGQV5+CzJz0yzMv/9hC5A6PEYxcTUXroVEx0WSHnl9mrHSSvjNBVmUKRTWy5CyVvo+VKqPkSkudjR0ystoRodXoW+D44VpVaqYBbreK6zvzXRlIQWQ8QiXisaa6xLlZF8oNUihdRza/F9xQCbXkCqyT01S2o69YhxxdGdzRxDj5LnBqMboNDT8DeH0H6IJgJWHMzrP8NiHVTc2ye3z/J6y97BKY6yBjDTGpP05MpoZRKKKEQ8e4L6TYvoLvcTtQJU5FrJM0UGS9JsG8UPVOk1hKlJgrpJ+e5BEojSJ6NFeqmqnVQK+m4FRXf6sNzJ5ClIImSStd0Et2AyMbLCHR3I4dDIMvgA56Mkw3ipBXwJQKXNBG6qg3jwsSCGHppyRTarr/+eq699lr+5V/+BQDP8+jp6eFP//RP+djHPnbc+u95z3solUr85Cc/mVn2lre8hSuvvJL77rtvzr9Rq9Wo1Y4NtpnL5Vi5ciXDw8Nn9gPj2lDN16vp1SxeNUfVKmJ5Dp6iImlBFC2EqoeQJBnfqeIWk9ipwxTG9zE9cphsRSZlt5DzW6lUdZyKg1QpIFk5JHw8ScbSQ3hqlBArMKVuZNnHDVTRwxZRQycqBQj4GoarYdo6pmuiS/WnO7ZVolQYYtoZpxKU663WVDE3xq9CsUooVg7ZrVCQJLJyBNtPoPkRNDeC7Bv4vovvDePbSfBtZEkhJhl0qB1EtFZ0sw1ZDeB7Lm51GqecwrKmsWo5bCuPaxfxrQKyAmZrgvCaVUQuvIDgunX1AlxzM7J+bi/28vk8PT09ZLNZYrHYSddflDk8B9/38fz6/0qAVMvhFZLYyWGsiUFqQ8OUx7OUpn3y1Qi2FEfT4gT1GDGjFU2u517FtSg4eXL6FFWlIE7aC4Tvg+fqeLaM78p4VXCcCi4lPK8AfvXImiqeahIINtFstNCiNBEjinxkbiFLc7FCMm7MQEmYBBNBIokQgaiOEtaRTRU5oCI18Pf2dHJ4qeTv6XI8h2K1SD6fpTwxhTWVwcoUoeBAVUKpGQRrQYK1IDISHj45qULJq1K1K3jVElYxT1kqUZPz+H4VJA1ZaQe1nYBWJOIdQJZ9bLMNV1uYracWM79UxZ9MYUsuti7j4DNzyatEKAZVSqaLF1BRAnF0M4FphAkZGitqJm0FAyMnIXkgmSpam4mSMFEiGsrRfA6q9ZehIhkKkqac81auy/UcfCK+72NXK5QKBYqTOXKTOaq5ErWihVNz8B0Pv2ZD1UGt+QQshbBvElYiyFL9ps3yXAp+laScYkwZIFRN01KuIddUsDXkkovk+fiyjBPScUMmTtTE19VzfnzLle+DVK2hpQuouTK+DLWIQVaXsCUV2XGRvArgg6ThK2E8XUXVZLqNVtrlNoIkkI6cnz3K+GoZOeiiJAz09jhaZytaawtK1ETRFSRFRpIlUKRzVlwX5+C5eZ5HvlambFfxfBdDhoBTQa9kUSopyCcppQbITQ4wmRwjOV0j7cQoenGqUgxbCuLKJq6i4EsaqhUiUkkQdMBXkihSmrjtE5BNgsFmIsEWolIc0w3g4ZHXiqTlKSrlSbR0Hj1TxFdlqp1NYsbv0+H7qNUUqpUHScbRInhKkJIbpFp1oZoFrwhISFIY1VcI2DaGXUN2bSTfO/LyUWWdaGQNoaYLCBhxfDzsgIfRHsJc0YSWCCCbWv3aOqjW/39AQdKVeh6fI6ecw/4CVqvVfEVR/B/84Aezlr///e/3f+u3fmvObXp6evzPf/7zs5Z96lOf8i+//PJ5/87dd9/tU6+fipd4idcpvoaHh0UOi5d4LeLXyXJY5K94idfCfYlzsHiJ1+J+iXOweInX4n6dLIcX9GOYVCqF67q0t7fPWt7e3s7+/fvn3GZiYmLO9ScmJub9Ox//+Mf5yEc+MvPfnueRyWRobm4+a08zjlY+G/mEfrESn92ZOVefm+/7FAoFurq6TrruUsrh+Sy376c43sXvVHN4qebvUvw3PRvE5zK3hfa5iHPwbAvt32ehEJ/L3BbC57LQz8HZbJZVq1YxNDR0Sq1mhbqF8N1ajBbj53aqObygC23ni2EYGMbsATPj52gMrGg0umi+RAuN+OzOzLn43Bbaifd85vB8ltv3Uxzv4raQcrhR+bvU/k3PFvG5zG0hfS4LKX9BnIMXMvG5zK3Rn8tCyuG58hfqMYrvzulr9HdrsVpsn9up5PCCHpSrpaUFRVFIJpOzlieTSTo6OubcpqOj47TWFwTh3BE5LAiLl8hfQVjcRA4LwuIl8lcQFrcFXWjTdZ1Nmzbx5JNPzizzPI8nn3ySzZs3z7nN5s2bZ60P8Pjjj8+7viAI547IYUFYvET+CsLiJnJYEBYvkb+CsMidcAS3BeDBBx/0DcPwv/nNb/p79+71/+iP/siPx+P+xMSE7/u+/773vc//2Mc+NrP+888/76uq6n/mM5/x9+3b5999992+pmn+rl27GnUIvu/7frVa9e+++26/Wq02NI7FSHx2Z2ahfG5LJYfns1A+5/NFHO/yshTzd7n/m85HfC5zW+yfy1LM4Tda7P8+54r4XOa22D6XRuTvYvuMFgrxuZ2Zpfy5LfhCm+/7/he/+EV/5cqVvq7r/nXXXedv3bp15r2bbrrJ/8AHPjBr/e985zv++vXrfV3X/UsvvdR/9NFHz3PEgiC8kchhQVi8RP4KwuImclgQFi+Rv4KwOEm+7/uNblUnCIIgCIIgCIIgCIIgCIvdgh6jTRAEQRAEQRAEQRAEQRAWC1FoEwRBEARBEARBEARBEISzQBTaBEEQBEEQBEEQBEEQBOEsEIU2QRAEQRAEQRAEQRAEQTgLRKHtPBsYGOBDH/oQa9aswTRN1q1bx913341lWY0ObUG69957Wb16NYFAgOuvv56XX3650SEteJ/+9Ke59tpriUQitLW18du//dv09vY2OqxlYTnk93LJSZFHy8Pf//3fc8MNNxAMBonH440Op2GWS16fjmeeeYY77riDrq4uJEnikUceaXRIwkksh3PwqRI5PZs4p58ZkVOnTuTc6VkOOSkKbefZ/v378TyPr3zlK+zZs4fPf/7z3HfffXziE59odGgLzkMPPcRHPvIR7r77bl577TWuuOIKbrvtNiYnJxsd2oL29NNPc+edd7J161Yef/xxbNvmHe94B6VSqdGhLXlLPb+XU06KPFoeLMvid3/3d/mTP/mTRofSMMspr09HqVTiiiuu4N577210KMIpWurn4FMlcvp44px+ZkROnRqRc6dvWeSkLzTcP/7jP/pr1qxpdBgLznXXXeffeeedM//tuq7f1dXlf/rTn25gVIvP5OSkD/hPP/10o0NZlpZSfi/nnBR5tLR94xvf8GOxWKPDaIjlnNenCvB/8IMfNDoM4QwspXPwqRI5fXLinH7mlmNOnYzIuV/dUsxJ0aJtAcjlcjQ1NTU6jAXFsiy2bdvGrbfeOrNMlmVuvfVWXnzxxQZGtvjkcjkA8R1rkKWS38s9J0UeCUvRcs9rYelbKufgUyVy+tSIc/qZW245dTIi586OpZiTotDWYIcOHeKLX/wif/zHf9zoUBaUVCqF67q0t7fPWt7e3s7ExESDolp8PM/jL/7iL7jxxhu57LLLGh3OsrOU8ns556TII2GpWs55LSx9S+kcfKpETp+cOKefueWYUycjcu5Xt1RzUhTazpKPfexjSJJ0wtf+/ftnbTM6Ospv/MZv8Lu/+7v84R/+YYMiF5ayO++8k927d/Pggw82OpRFTeT38ibyaHE5k3wVBGHhEudg4WwS53SRU8LCslRzUm10AEvFRz/6UX7/93//hOusXbt25v+PjY1xyy23cMMNN/DVr371HEe3+LS0tKAoCslkctbyZDJJR0dHg6JaXD784Q/zk5/8hGeeeYYVK1Y0OpxFTeT38s1JkUeLz+nm63K2XPNaWFzEOfjUiZw+MXFOrxM5dfaInPvVLOWcFIW2s6S1tZXW1tZTWnd0dJRbbrmFTZs28Y1vfANZFg0L30zXdTZt2sSTTz7Jb//2bwP1ZqVPPvkkH/7whxsb3ALn+z5/+qd/yg9+8AO2bNnCmjVrGh3Soifye/nlpMijxet08nW5W255LSxO4hx86kROz02c02cTOXX2iJw7M8shJ0Wh7TwbHR3l5ptvZtWqVXzmM59hampq5j1R9Z7tIx/5CB/4wAe45ppruO666/jCF75AqVTigx/8YKNDW9DuvPNOHnjgAX74wx8SiURmxgeIxWKYptng6Ja2pZ7fyyknRR4tD0NDQ2QyGYaGhnBdl+3btwNwwQUXEA6HGxvcebKc8vp0FItFDh06NPPf/f39bN++naamJlauXNnAyIT5LPVz8KkSOX08cU4/MyKnTo3IudO3LHKysZOeLj/f+MY3fGDOl3C8L37xi/7KlSt9Xdf96667zt+6dWujQ1rw5vt+feMb32h0aEvecsjv5ZKTIo+Whw984ANz/js/9dRTjQ7tvFoueX06nnrqqTm/Gx/4wAcaHZowj+VwDj5VIqdnE+f0MyNy6tSJnDs9yyEnJd/3/bNVtBMEQRAEQRAEQRAEQRCE5Up0shYEQRAEQRAEQRAEQRCEs0AU2gRBEARBEARBEARBEAThLBCFNkEQBEEQBEEQBEEQBEE4C0ShTRAEQRAEQRAEQRAEQRDOAlFoEwRBEARBEARBEARBEISzQBTaBEEQBEEQBEEQBEEQBOEsEIU2QRAEQRAEQRAEQRAEQTgLRKFNEARBEARBEARBEARBEM4CUWgTBEEQBEEQBEEQBEEQhLNAFNoEQRAEQRAEQRAEQRAE4SwQhTZBEARBEARBEARBEARBOAtEoU0QBEEQBEEQBEEQBEEQzgJRaBMEQRAEQRAEQRAEQRCEs0AU2gRBEARBEARBEARBEAThLBCFNkEQBEEQBEEQBEEQBEE4C0ShTRAEQRAEQRAEQRAEQRDOArXRASxEnucxNjZGJBJBkqRGhyMIC4rv+xQKBbq6upDlhVmrFzksCPNb6Dks8lcQ5rfQ8xdEDgvCiSz0HBb5Kwgndqo5LAptcxgbG6Onp6fRYQjCgjY8PMyKFSsaHcacRA4Lwskt1BwW+SsIJ7dQ8xdEDgvCqVioOSzyVxBOzclyWBTa5hCJRID6hxeNRhscjSAsLPl8np6enpk8WYhEDgvC/BZ6Dov8FYT5LfT8BZHDgnAiCz2HRf4Kwomdag6LQtscjjaTjUaj4gdGEOaxkJuTixwWhJNbqDks8lcQTm6h5i+IHBaEU7FQc1jkryCcmpPl8MLrGC4IgiAIgiAIgiAIgiAIi5AotAmCIAiCIAiCIAiCIAjCWSAKbYIgCIIgCIIgCIIgCIJwFohCmyAIgiAIgiAIgiAIgiCcBaLQJgiCIAiCIAiCIAiCIAhngSi0CYIgCIIgCIIgCIIgCMJZIAptwoLk+z7Z732P4vPPNzoUQRDOAt+2mf7ud5n853+meuBAo8MRTsO9997L6tWrCQQCXH/99bz88ssnXP8LX/gCGzZswDRNenp6+Mu//Euq1ep5ilb4Vbn5POlvfpPq3r2NDkUQhEXCnpwk/a/3k3ngATzxey8I54Xr2Gz/xWMcemXr8W+mD8NT98C2b4Jrn/fYBFAbHYAgzCX70HeY+F//C4A1j/yAwEUXNTYgQRDOmO95jPzZn1PcsgU5FCL91a/R/Zl/Ivqbv9no0ISTeOihh/jIRz7Cfffdx/XXX88XvvAFbrvtNnp7e2lraztu/QceeICPfexj3H///dxwww0cOHCA3//930eSJD73uc814AiE0+HbNoMf+AC1ffuRAgHWPfYoWldXo8MSBGEBq+zcyfAf/hFepYLvOOR++ENW/du/Iet6o0MThCXt8a99iT1bHgfg9g9/lIvfdkv9jZFXce67g4mXQ1TTEvFr7qf53ieRVK2B0S4/okWbsOD4nkf6a1/DvPZa1NZWpv/jPxodkiAIv4LpBx+kuGULrX/xF3T/8z8TvO46xv7fv6K6b1+jQxNO4nOf+xx/+Id/yAc/+EEuueQS7rvvPoLBIPfff/+c67/wwgvceOONvPe972X16tW84x3v4Pd+7/dO2gpOWBimv/Mdar0HaPurv0IyDNJf/3qjQxIEYQGzRkYZ+sM/Qm1ro+tzn6P9rruo7tlL+r6vNDo0QVjS0qPD7NnyOFff/lv0XLqRp//jG7iOA1YJ74H3MfRUE6XpGPqq1Uw9PcX03/1xo0NedkShTVhwqrt3Y4+OEvn1X8e8+mqKTz+D7/uNDksQhDPgWRape79E6MYbMa+8EklVaf7Qh1A7Oxn7xCfwXbfRIQrzsCyLbdu2ceutt84sk2WZW2+9lRdffHHObW644Qa2bds2U1jr6+vjscce4/bbb5/379RqNfL5/KyXcP75rkvm/m8QvO46ApdcQmjzZvI/+7nIUUEQ5uTbNqN/+ZfIhkHLX/wFSiSCsW4dkbe/ncy3voUrfssF4ZzZ/vNHCYQjrLnyGi6+8WZK0xkOb3sJXvwSqZfK1LLQ9qHfofkD7yG8Ic7U95/HnehvdNjLiii0CQtOccsW5HAYY/16ApdeijM5iT001OiwBEE4A4VHvoObThO9ft3MMknTaPr936e2bz+5R37YwOiEE0mlUriuS3t7+6zl7e3tTExMzLnNe9/7Xv7mb/6Gt771rWiaxrp167j55pv5xCc+Me/f+fSnP00sFpt59fT0nNXjEE5N6bnn6g+53vEOAILXXoubyVDdtavBkQmCsBClvvY1qnv20Pw//ydKODyzPPobv4FXqZB/7LEGRicIS5fveRx8+QV6Lt2IoqrEOzpJdHZz4IWncZ76MpneENGbrkXvbAUg+lu/hWdL5O69q8GRLy+i0CYsOKWtL2FcdBGSoqCvXQtAdc+eBkclCMJpqxXJff1/Y8RttNc+C/1Pz7xlrFuHee01pL70JXzHaWCQwtm0ZcsW7rnnHr70pS/x2muv8f3vf59HH32Uv/3bv513m49//OPkcrmZ1/Dw8HmMWDhq+jvfRVu1aua8q69ejaTrlF/f3tjAhF/Z6U5oks1mufPOO+ns7MQwDNavX89jomgivEHt4EFSX/oy0dtvx1i3btZ7SjyOuXGjeJAmCOdIsu8QpekM3RsumVnWtf4i+l9/hamdNigq0V+7ZuY9taUVc0WY/JZXwK40IuRlSRTahAXFq9Wo7Nw5M/mBEomgtLRQEYU2QVh03Ce/QGnYIbj5Rui8Al68F6zSzPuxO34Le3SUwhNPNDBKYT4tLS0oikIymZy1PJlM0tHRMec2n/zkJ3nf+97HH/zBH7Bx40be/e53c8899/DpT38az/Pm3MYwDKLR6KyXcH45qRTFLVsIv+1tSJIEQH//QZ64qIef//IxbDGL4KJ1dEKTu+++m9dee40rrriC2267jcnJyTnXtyyLt7/97QwMDPDwww/T29vL1772Nbq7u89z5MJC5Xse45+6G7Wtldi73jXnOua111LZsQMnnT7P0QnC0je4azuqbtDSs2pmWeeFF2HVbAbGWwltugzZDMzaJnjN1VSmFOxn/+18h7tsiUKbsKBU9+4Fx8G44IKZZVp3N7XDfQ2MShCE0+baFH/0bfAlzKuuhA23g1OD3p/OrKKvWoVx0Qam/+OBxsUpzEvXdTZt2sSTTz45s8zzPJ588kk2b9485zblchlZnn1poSgKgBhrcwHL/uAHSLJM8Mi/a7GQ55c/fYSgHiBZK/H8d8SF+WJ1uhOa3H///WQyGR555BFuvPFGVq9ezU033cQVV1xxniMXFqrs975H5fXXaXr/B5DmmVnUvPxy8H2Kzzx7nqMThKVveO8uWleuRj5yfQUQT4TRcJnSAoSv23jcNoGNlwFQ+sm/n7c4lztRaBMWlMqOHUi6jvaGMXq0jg6sw4cbGJUgCKdt4FlKAzW8rhX05bvonezGar8Geh8DjhVcwjffQvmVV7AGBhoWqjC/j3zkI3zta1/jW9/6Fvv27eNP/uRPKJVKfPCDHwTg/e9/Px//+Mdn1r/jjjv48pe/zIMPPkh/fz+PP/44n/zkJ7njjjtmCm7CwuI7Dtn/fJDg9dfPjLP0+svPoygKV67ZQGemwPZfPEatXDrJnoSF5kwmNPnRj37E5s2bufPOO2lvb+eyyy7jnnvuwT3BpBhiQpPlw81mmfrMZwneeAOBiy+edz0lFkNfs4bSiy+cx+gEYelzHYfR/XtpXbVm1nJ5dBtRu8p0U2RmbLY3UkJB9LYIpT2DkBVjn58PotAmLCjV3XvQV61CUtWZZWpnJ/bYGL5lNTAyQRBOh7/3x/T6t/Lshf8PL+5uYeueFn4w9X9TKPiQ3DuznrlpE1IwSO5HP25gtMJ83vOe9/CZz3yGT33qU1x55ZVs376dn/3sZzMTJAwNDTE+Pj6z/l133cVHP/pR7rrrLi655BI+9KEPcdttt/GVr3ylUYcgnETuJz/BHhubmQTBcRwO7t9Jz5oLCHR00JYv4TkO+59/psGRCqfrTCY06evr4+GHH8Z1XR577DE++clP8tnPfpa/+7u/m/fviAlNlo+pf7kXz7JI/Pf3nHRdY8MGyi+/LFozC8JZlBoawLFqtKxcNWu5N/gioYLDtKHNP1THhesoTxmw+3vnI9RlTxTahAWluns32qrZPxxaRwe4LtbIaIOiEgThdG17xmbvmv+T9mCWm6+a4G1XJJFkmSelj+H1PzeznqzrBK++mvxjj4mL8QXqwx/+MIODg9RqNV566SWuv/76mfe2bNnCN7/5zZn/VlWVu+++m0OHDlGpVBgaGuLee+8lHo+f/8CFk3JzOaY++znMTZvQj5x7h/oPYtVq9Kxeh9rUhO5DUyzBoVe3Njha4XzwPI+2tja++tWvsmnTJt7znvfw13/919x3333zbiMmNFkerIEBpv/zP4ndcQfKKfymGxs24EwksUfF9bsgnC1jB/cjKwqJzq5jC32P2u7dhMsWLpDJzt2q2Fjdg1NWsLc+dH6CXeZEoU1YMLxSCWtwcOZi/yi1pQVAnKgFYZGY2nOAl/Pvoi35KoF4kqcPjLNtaJINK1Nk/S72H9bAP/a0LXjttVgDA1iHDjUwakFY+nzfp/jMM2S+/W0y3/42g/+/9+FVKiT+z/9zZp3BvgNEonHCkRhoGkoiQZOiM7J3F7ZVa2D0wuk6kwlNOjs7Wb9+/ayu3hdffDETExNY8/QsEBOaLA9T996LEosRfvvbT2l948ILAahs33Euw1ryTnfW4C984Qts2LAB0zTp6enhL//yL6mKCW2WjPED+4l3dKGo2rGFmT4qSZewKiNJEhOpzJzb6qs6Aajs64fUwfMR7rImCm3CglE9cAB8/7hCm9LUBLIsCm2CsEi88uNDBNxpmrOv8+JIAdvzGctVeLZvmM5oip3WO3AmjxXVApdcghQIUHhqS+OCFoQlzvd9Rj/6UYb/6I+Z/MxnSf7jPwHQ9ld/hdrcPLPOYN9B2juPzTCpxOPEKhaOZTG6f++c+xYWpjOZ0OTGG2/k0KFDs7oeHThwgM7OTvR5Br4Xlj5raIj8o48Rfec7kU/xe6BEIqjt7VR37TzH0S1dpztr8AMPPMDHPvYx7r77bvbt28e//uu/8tBDD/GJT3ziPEcunCvjh3pp6l4xa1lm/35GnCtQe1YTi4SYTE3Pua0ai6BEQ1RzJux55DxEu7yJQpuwYNR6e0FR0Lq6Zi2XFAW1uVkU2gRhEcinKvQPGLRNbydtmFy5IsbVKxNcu7qJquNS0zJUiXJ419TMNpKuE7jkEopbtjQucEFY4nI//CGFx35K8//8n6z46ldZ+a//Svtdd6GvXDmzTjqVpFop09rxhkJbIoGeSqGbQcZ6RaFtsTndCU3+5E/+hEwmw5//+Z9z4MABHn30Ue655x7uvPPORh2CsABkvvlN5EiE0Nvedlrb6WvWiBZtv4LTnTX4hRde4MYbb+S9730vq1ev5h3veAe/93u/d9JWcMLiUC0VyU6M09R1rNDW+9IET7/UzeGO23kt8HY0LU4yPXehDUDvaqNaaYY9PzgfIS9rotAmLBjV3l60zk4kTTvuPUUU2gRhUejfkULGIzLRy3hbll9YT/K9zBO8Vt1FS5PPwVSGNm2YvWOds8ZkC2zcSGXHDtxisYHRC8LS5Ps+6a9+DfPqqwlt3owkSXOuNzo0UB/7pfnYjGVqIoE3OUXzih7GDuw/XyELZ8npTmjS09PDz3/+c1555RUuv/xy/uzP/ow///M/52Mf+1ijDkFoMLdYJPvIDwnffPMpt2Y7Sl+zhur+/fgnmLVWmNuZzBp8ww03sG3btpnCWl9fH4899hi33377vH9HzBq8eCT76r1Bmo60Os+Ml9j7/Dgd/h7W9P+YeKhGpthJrlCkZtlz7kPrbKM65cPkHsj0nbfYlyNRaBMWjFrvAbTu7jnfU5qasOeZIUtY+MT4EsvH4K5JJGUIzbXxm2JsCKyiVU0wbqXYJW+jqKeJmklybhsTg8cu5gKXXgquS1k8dRWEs666axdWXx+Rk4ytNDbcT1Nz66zxuZREAt9xaGpqZezAfjxP3DAvNqczoQnA5s2b2bp1K9VqlcOHD/OJT3xi1ndCWF7yP3kUv1olfPPNp72tvnIlfq2GNTBw1uNa6s5k1uD3vve9/M3f/A1vfetb0TSNdevWcfPNN5+w66iYNXjxmDh8EFU3iBwZv3z/i+MEwzKtuR0YAVi7okxHSwCAn70oU6kd/7utd7Xh5is4tgH7fnxe419uRKFNWBB836d28CDaPD/uaiKBIwpti5IYX2L5cGyX0YNZMgzjAyvaLqDH6GC9uYobI1fSoTWTi/Sz38kTYooDu481bVfb2lBaWii99DL5qUkce+4ncYIgnL7C408gR6MYGzbMu47v+4yPDtPcOvumTonFAIgGgtjVCtPjY+c0VkEQFpbsD76PuXEjalPTaW+rHemaXt2772yHJcxhy5Yt3HPPPXzpS1/itdde4/vf/z6PPvoof/u3fzvvNmLW4MVjsu8Qic4uJEmmmK2RHCiwoqOEXVRQmuJIEnS3gyTJTE2n+f5zHaTzs3uKae31MVlr6gbo/WkjDmPZEIU2YUFwJifxCoX5W7Q1N2NPTuK/YXBeYXEQ40ssH6mRIp4rESmOYIUD+OqxJ2mSBJea6zClAAfUATq1AwxOxanVjnUfnVy7ku+//hxf+/D/xVf/5AMM7RYDKAvC2VB89hkCl12GdIJWSdPpKaxalURz26zl8pFCW9ir5+pkn5gdWBCWC2tkhOqOnQRvuOGMtlfCYZTWVqr7RaHtdJ3JrMGf/OQned/73scf/MEfsHHjRt797ndzzz338OlPf3rWBCdvJGYNXjwm+g6S6KiPZT6yfxpFk/CK+3CrMpOKwavTh/lhcisVzSMrv0LOzfGTl5uo1I6VfNSWOKgKNacbhl+C8twzlAq/OlFoExaE2sH6hfu8hbZEAhwHN50+n2EJvyIxvsTyMjVYwMOlJ5XGi4WOe1+SJDYE1mBrJdLBMXwk+vssbNviqZ//iJdqOQLlCpvf/R6iLW088k9/S3FaXAAIwq/CLRSo9R4gcPHFJ1xvYmwYSZJINLfMWi5pGlI4jJTLEUo0kew/fC7DFQRhASn87GdIuo555ZVnvA+tu5ta74GzF9QycSazBpfLZWR59u390W7fbxwXV1h8KsUC+alJEl31e+Xh/RmmVfDHBwGJfYFxDpXHaFYTNEeaaHIUgp3bsR2Zp/YeG1tRUhS01iZqhQD4Hhx6cp6/KPyqRKFNWBBqhw4i6Tpqa+uc76uJBAD2RHLO94WFSYwvsbwcPDRMPpAmkXex31Ros2tVJg/tpdbby8pR2FecJOpsY+cr2/jut7/C4d49XH7x5awfz9Aiq2z+nd9DlmW2fu/BBh2NICwNlddeA98/YbdRgOT4CNF4AlWdY0KiWAwnlSbR2TUzGLMgCEuPV3Oo7E3j5msA5H/xOIGNG5EDgTPep75iBbWDB89WiMvK6c4afMcdd/DlL3+ZBx98kP7+fh5//HE++clPcscdd4hxFhe5yb76Q65EZxelvEUxU2PCtzAqFRwFrJBMq91NZTqIpgWxqlUuDCUohneSnOigUFZn9qW1NVEby0BiLRwWhbZzRRTahAXBOnwYrasLSZ77K6kcKbQ5U1PnMyyhAcT4EovXWN80VXUKzQYnGpxZ7joOyQO7qJUKGOEIhqsSS9VIFp4jk3oCTTf5tbe/k1WXXI5kmliHDqObJuuuuZ69z/wSq1Ju4FEJwuJW2bUbORJBbWs74XoTYyMkmuZ+2KVEozhTU8TbO5ka6hctIwRhCfLKNsnPv0b623uZ+MyrFF/qp7prF+bVV/9K+9VWrMBJJnFzubMU6fJxurMG33XXXXz0ox/lrrvu4pJLLuFDH/oQt912G1/5ylcadQjCWZLsP1SfCKG5ha2vjuPjc8VKSFoaBVNivbmalbEIAU1hvFw/R1dKBbpainiSzY7BY4U2tbUJa2QCuq6st2gT5/RzQj35KoJw7tUO96F2dsJUL+x8EFo3wMb/DlK98CZHoyDLotC2yPyq40sAbNy4kVKpxB/90R/x13/918c1iYf6+BKGYZz9AxBOmef5+NMaYb0+yYUdNWfey40N4jk2zasuQNF01Fgr+8qH6HZljMotdPQkCEfqrWi0jg6qhw8TA9ZcdQ17n/klfa+9wkU33tSIwxKERa+6dw/66lVIkjTvOrVqhdx0mjUXXjSzrGI7PHcgheV6XGcGUUZHiLd1UCuVKGbSRN7UxVQQhMVt+sd9eBWH2G+vo/L6FNlHhlHaLsW8/PJfab9Hh4WpHTpEcNOmsxHqsvLhD3+YD3/4w3O+t2XLlln/raoqd999N3ffffd5iEw4n5L9h0l0duH5Egf3Z4hpMs3qMFpJwokH0eV6WaczbjI45YAkUy7kWdGzkpf0Q/SNrubGi6pIEmitTbjZAm7sYpTS9yF1oH7vLZxVokWbsCDUDh9Ga47C45+sJ/tr/wa9j828L8lyvevKPDNVCguTGF9i+cily8i+QnM5jS9LuMF6NxPXtiikJgglWlC0+hgRpq6ge2FGDYe4PMXY6LEZRtWuLqy+PnwfQrE4ic5uDr36UkOOSRCWguruPegrV51wncmJ+kyiR1u0uZ7Hv784yGtD0/ROFNiWcnAyGaJt9QckU4P95zZoQRDOK2e6SmX7JMFNbWitQSK/3gNuBvP6O7FGgnjVM7/+0jo7QZapHRbjOwrCmUoePki8o4uXB6aJ1jzCzQb7cweIVECNJmbW0xRoiQSwZZ1sNocqySjhJJ4dYrpQvw7XWuvrW7U4SAoMPNeIQ1ryRKFNaDhnehovl0Or7K+3YNv8Z9C9CXb8J7jHbsCVWEy0aFuExPgSy8P+vj4AWorTOGET5HrrmWKq3prRjDfNWj+mRHHx8ZQRiiWJcqk+G5bW0YGXz+Nm6pMgdFywnsGdr4siqyCcAWd6GmdyEm3VyQpto2i6TigcAeDZg1NMFWvcvLqTt3V3klVMsG0CiopmBEShTRCWmOLWcSRNIbC+fgMuyRKVHQ8jMUb1oEvuZxbFV2y82umfiyVNQ21vwxKFNkE4I9VikdzkBE1d3Ty1fQzTlwk0SRQKJQDc8OwxFOMhDVSDcqE+OVxz1MbFoj9ZL7SprfVr8tpEFpovgMHnz9/BLCOi66jQcFZ//YJdKe7i+Y5PkX55JZvX/iato38HIy/BqrcCIMfj2KJF26Lznve8h6mpKT71qU8xMTHBlVdeedz4Em9swXbXXXchSRJ33XUXo6OjtLa2cscdd/D3f//3jToE4RT0DQ7jSirRXAkn0jyzvJSZIhCOIiuzTzdRzWTK1pkMZDDLLsmky5q1MuqRLsW1/n7U5iZaV65m37NPkRkdoXmFmORCEE6HdejEM3ofNTkxSjzRgiRJVCyHl/oybIy0MT1Q75Ifj1+Jq7xGKTlFtK2d1PDgOY9dEITzw/d8ytuSGBfGkbT6A01reBi/VEBfpaB1qdhTHtaQR2HaInKTjmzM3xV9LlpHp2jRJghnaKLvyGQi0VZyE6OAxoTcR0sRfAlc8/jhc4LhEHY6R7ZYpiMQY7c2RF+ymU0XgqxrKLEI1tgkXHwxDIueI+eCaNEmNJzVPwBAX/DXOZi7kEJF5an9F+NGemDgWIVdicVwU6JF22L04Q9/mMHBQWq1Gi+99BLXX3/9zHtbtmzhm9/85sx/Hx1f4tChQ1QqFYaGhrj33nuJx+PnP3DhlI2NTlPRcvWxIsL18dnsahm7WsaIxI5bP2ioqK7JmOISZoxk0gVAiUSQwmGswQEAmlesRJJlRvfvOW/HIghLRe3QIVAUtHnGxIR6l/zJiTHiTfUC+asD0+i+hlYMEm5yMTomkdAZ67iBvfsGibW2iUKbICwhtcNZvKKNcWF8Zll1714kRUXr7kLSJPQuheCVKr4FpVfs025lrnV11X+PBEE4bcnDB9GMAK9noMWTUUyFgeo+uvMeblCbs6ITjYQBGB1PE1YC1IwJSsUojlsvkqvNcezRZH1sttwIFEVjlrNNFNqEhrMG+pFN6FX+K+2JCtddnKZcU+k33wmjr4LnAEe7jqYaHK0gCHMpp1w8JYtS83Ei9UJbJTcNkoQRDB+3vqZAyA/jApI0Si7rYds+SBJaezvWQP1GXjMMYm3tTBw+cD4PRxCWhNqhw2gdHUjq/B0YSsU8lXKJeFML+D6vD02zzmhG0aBfeoa95WfJGHuZarmckb4UsbZ2MmMjeK57Ho9EEIRzpfz6JEpMR205NolRrbcXtbsbSdVmlskBCWO9gjPlYw17p/U31K4unIkkXlnMIi4Ip2vi8EESnV28OjhNp6wihyDvZEkUmRkT+c0UTQNZIZfL4QNGMA++wlS23vpNbY7XW7S1HJkEYXTbeTqa5UMU2oSGs/btoBZvIeu00t1aJmw6NEVr9FUvB6tcnxyBI4W2dFqM1SQIC4zv+2ilACGvPq6aGz5aaMugmyGkOWaKBYjqJoqvktVT+EikU/ULd7WtDWtgYGa9eEcXyT7xJFwQTlet78iM3icwNTEOQDzRTH+6TLHiolsGTnCSopPlguhGauY4imfhloOosRY8x2F6fOx8HIIgCOeQ73hU9qTR18WPzUzs+1R7e9F6Vhy3vpqQUVokKnsdfO/Ur8e1I79D1qBoDSsIJ1LePknyC68x+ZWd2BP1MdjGD/USauvicLJIyPIpGVkUX8KogBsOzrkfSZJQDRPZLjFdtogHPRypwnimXmjTWuqFNj/YAmZCFNrOAVFoExrOOnyA6eZLkCWfpmgNgLZEhfF8gprWDGPbgXqhDcfBy+UaGK0gCG+WKqcI1WKErXpuOhET3/OoFQvoc7RmOypkKCi2ybhuY8p5Uql6CxmtvR0vl8PN1wdxTXR0kRoexHXsefclCMLxrP7+E3YbBZhMjhEwgwTMIHtGc3TpUQBG/O20GJ2EtRidoVXolX4Mo5XBSv0iPT0ibpgFYbGrHpjGr7kYa48N8WCPj+OXSmjzjIuq9yj4FU6rVdvR36HakYmTBEE4Xv7JITIP9iLpMm62yuRXdpIbGKc0nSGjxYn6EniQkkfoqapIroQTmrtFG4ARDKI5FSZyVZr1CGV1gpF0fRxGtSWBV67i5ouQWAMTu87XYS4botAmNJTv+1hTOdKxjcTCNX6cfIF/Hfo5UjCJ70tMmDfNJL4Sq18EiJlHBWFh6R07hOprRCs5PF3F0xRqpQK+76EHQ/NuZ+oKuhegjEfAHyWdqhfS1CMTZVhDQ0C90Oa5LpnRkXN/MIKwRHiVCs7ExMwEI/OZSo4Rizfheh77J/K0qmGkQBWbIq1mfRKFsBpDdYZA0hjoq2CEQqRHhs/HYQiCcA5VdqVQEgHUxLGb9dqBAyDJ6F1dc26jhCSUJonaYfeUe5nIoRByPI7VJ2YsFoS5FJ4dJf/4IMFr2onetprYO9ciSZD9Yb1HR58dYpVRf9A1KvWzIl9/OD3XRAhHaQETyfeYzuVp0sKU1XGy+RC+D2pT/b7aGp+CJlFoOxdEoU1oKLdvJ54DaX0NFW2Cg+VRym6Nn2eewzQcJuTLYWofuBby0UJbOt3gqAVBeKO+4XoBLFIuzEyEUCvmkWQZ1Zj/SZsERJQQEmApKSpVmWrFQ4nHkXQda6h+Ix9tawMgNTJ0To9DEJaSo4Xqk02EMJUcJ5ZoYihToWp56I5Gk+7wDv03uMS+gIgbAgkUDbTaJM5oiWhLm8hHQVjkfMejsjeNsSY6a3nt0GHUtlYk4wQ38B0ybs7HzZ5G99GOjlnDQgiCUFfeOUXu0T7My1sIXlW/5pUDKqG3dKKMQ3fTBnakHLpVFQwfW67Slq/hKxJeQJt3v1qg3q3UKZewXQmMLJ6rkStqqM1xAOzxqXqLtvwoVKbP+bEuJ6LQJjSU9fKjWHoMyzcZdg+xOtjBzc0bmXaKyIEM47WV4NqQPoQSrV8IOClRaBOEhWR4rN7KVCuWZ5qw10p5tEDw2Jgv84gEdGTXIGNkAUhnPJBllNZW7OF6oU0PmJjRGOlhcWMvCKfq6IQiR1uIzqVYyFOrVoglmumdyHN5sJ1b4yu5ybiCddI6uuw2rq9spMtuQw3GiBRHaLIlpGCC9NDAeToSQRDOherBerdRfc3smcFrBw+idXWfcFslISEZUBs89UlR1PZ2rH7Rok0Q3shOVZj+7gGMdTGC181+MKavjVGhyCWxt5It20RdCduooEsGZtnHNdX6U+t5yIqCohtoTplMqYYZLOPjMZUNIBs6ciRUb9GWWFPfILnnHB7p8iMKbUJD2fteoRCpjwExJQ2xymwlroXoMJpISofJloNYchySu5ECASRdx02LmUcFYSGZnizhyFX0oo0bMvB9n1qxgBYwT7ptSFdR3QBJxcGUsmSnj0yI0NKC9YbCWr0FjRgTShBOlTU0iBQMIkci866TSh6dCKGJckrmd6OX4PgeP7V/yh7jELuMA6SULBfX1hANdRPLjwKQrQSYnhjDdZzzciyCIJx9lT1plLiB2nSs5blXLuNMjKPO0230KEmSUFtk7FHvlCdF0NrbsQYHxKRmgvAG2R8eQjJVwm/rPu7htO95HM7toIkWLlWCKGWXvJamSQmjVCQ8c/5eI0fpgSC6WyZbtkkYJjUlw2RWB0BritVbtEW7QFZgqvecHONyJQptQkNZfQcoxlchKRa+UqZFi3MgWUSrRhjhICCRCl0Pk3uRJKk+86ho0SYIC4pT8PGUPLLl44RMXKuG5zqnVGhTFTAxsfHQmSKbsQDQ2tpwxsbxnfrT8mhLixijTRBOgz00jNbWdsJWpVOT4xgBk2JN4Q7zIoqexWu1fmzFQZYUfAmG1HEqUo115pWobo2ylqaSN/Bcl+yRGUsFQVhcfM+nuj+DvnJ2If7oZAXaSQptAGqrjG+BM3VqhTO1owOvVMZNiQfmggBQG8hRO5gldG0HkqYc935ucoLJ8iBZqcb79HbcqktanqDZV6Ei44ROfp2tmUFkp0a2WCWhhSmpSSay9e6mSnN95lEUDSLdotB2lolCm9A4xUnsdJFybAWOmqXZiDKUqtCfKlHMGthSHkm2mVI3QnIf+B5yLCrGaBOEBaTqVNErJrpfnyHUDQeolYsAqKdQaAOIafUxJGw5TaEk49g+SlsbvuNgT0wAEG5uIZccx/NOvZuKICxn1tAQSmvrCddJTU7UJ0IYCRKSdfaXspSlFEH12M23L/kMaxNE5Bix5oupKCNo1fokJ+lR0Z1bEBYja6SAV7TRV84en83q60MKBFCaEifdhxwCKQD2+Kmdl4+OFynGaROEusJzoygJA/1N4yQelR4eQpYVnvbzrCFApx6krOXoqDpIrnTCiRCO0swgEvUhXSJKkLI6QaEYwHYk1KYY1viRwnd8BUztP4tHJ4hCm9A4Y69jFxVKwU4K0hTNapS+dImOWID17VFUN0hFnWTKWwVWEXLDKJEojngSJggLxnBhmJAVx3SPFNpCBla5iKyqKOr8A7S+UcTQUFydvFEEJHI5D/VIgcA6MrNhpKkFz3XJi1mHBeGUWENDaEcmEplPKjlOPNZKd6WZQXeamudRlXOYSr3QplcmCWd24+deJe+laO+5Ec8fR5FNFN0U4yYuEvfeey+rV68mEAhw/fXX8/LLL8+77je/+U0kSZr1CgRO3j1JWFyqvdNIhoLaHpy13Drch9bRgSSd/BZRkiTUhIw17p1Sd1C1tRUkCWtQDAMhCF7ZprovQ2BD07wtz1MjQwSbmtleK5ORbS4LNeFqNol8CQA3ePJCm6LpSIqC5pSp1Hx8IwvIZPIGalMMN5vHq9Yg2iMKbWeZKLQJjTP2OrWyQUlpoiRPIdkGnufTFgkQMzVCbpScMspUOQ6yDMndyNGoaHIuCAvIYH6QcC1OyMrjKRKuoWOVi6jGqbVmAwjoCqpnMKUUULDJ5zxk00SORLCPzmja3ALA9PjoOTkOQVhKfMvCSSZnCtZzKZeKlMtFOox1aChM+SWQfHyliqEE0KopAsUhPFnHl2Smyy9hmE1slNZR1Ar4SlTMPLoIPPTQQ3zkIx/h7rvv5rXXXuOKK67gtttuY3Jyct5totEo4+PjM69BURhZcmoHp9G6Qkjy7Bv8Wn8faufJu40epTRJ+FVw8ycvtEm6Xh9/VbRoEwTKO1Pg+RjrYvOukxoegFC9demIWiGsaNzsX4eaL+EDbkA/6d+RJAndDKHbZQoVh1DAwpdsprL1QhuAnUxDbAUUk1ArnI3DE1gkhbbTeRIHkM1mufPOO+ns7MQwDNavX89jjz12nqIVTpU/toOC34onKVSVaSollUhARVfrJ/3uQBNlZZKapVMKXQwTu1GiouuoICwkg5lhAm6IQK2AGwyABFa5hGacegsICQjKJmXJwyRFLlMFQG1rwx6pF9qCsRiyqopCmyCcAnt8HDwP9QQt2tJT9W7ZkUoHI3YeCRlHLmOqISTfJVAcxtGjWKEOrFAX2XCYUnGMKwLXUAgOIjkmqe1PwUPvg70/As87X4cnnIbPfe5z/OEf/iEf/OAHueSSS7jvvvsIBoPcf//9824jSRIdHR0zr/YTzFwrLD5excEaLqCvmD0+mzudxcvlZrp4ngolJoEMTvLU8l9tbxct2gQBqOxOoXWFkYNz9/6oFHKUc1mKWgxTV6hYFsPuNG+tXo5WkfANBZQTTDn6BpoZRHUq5Cs1EvqRHmNZA7U5DlCfeTR6pMCe6TsbhyewCAptp/skzrIs3v72tzMwMMDDDz9Mb28vX/va1+juPvE01cL55/TvoRw4chOgFcmXfeLmsR+bllAIm/pYT2nzapjYhRKL4mYyYsYiQVggRibqv8VqpYwbCuDaNp5jo55GoQ0gqhzpviJPk8vV81ttacEerncdlSSZcKKJbFIMvi4IJ2MdKVCfqEVbajJJxGgi7IQZcKZxLQlLymKqIfTKJPg+VuDY9r6ik84fIKy10GaG8KUE01UVd/IAfOd98B+/A5XsuT404TRYlsW2bdu49dZbZ5bJssytt97Kiy++OO92xWKRVatW0dPTw7ve9S727Nlzwr9Tq9XI5/OzXsLCVevLgQ9aV3jWcmugH4A+OcQv9kzw+J4JeifyJ7zmlmQJJSZhT556oa3WP3DGsQvCUuCVbWp9OfTVc4/NBpA6MjTDuGfSHDKwyza7/QEMX6M1sAnXPHlrtqN0M4SETzFfIKFFKCoTJLM6SjiEpKnHZh4FSB/6lY5NOGbBF9pO90nc/fffTyaT4ZFHHuHGG29k9erV3HTTTVxxxRXnOXLhhKwS9vg4FbMVcDBUF8/ziQSOFdp0VSLgK9hSmXHpAqhMI6suvm3jiYs4QVgQxicyAOilMm4wgFWpjxtx2oU2PYDsK1TVPBVbw7J8lNZWnFQKt1IBIBRPiFkOBeEU2MMjIMsoTU3zrpOemmBt0+W4vkdJq+LYEjWlgKmE0KppXC0M8uxZ0Cp+nmJlglu8q3HVAL4P2Ws/Br/+v2DkZfj2u6BWPMdHJ5yqVCqF67rHtUhrb29n4shEM2+2YcMG7r//fn74wx/y7//+73iexw033MDIyPyzPn/6058mFovNvHp6es7qcQhnV60vixRSGTy4nd4XniE1PIjteux5aTdVxeC7+7Psm8izZzzPQ68O8/Xn+siWrXn3p8QlnLSP757COG3t7djDw/iiBaywjFV6p8Hz0VfNX2hLDw1iRmIMFz1aTA3P8smqWdJahpb4Jlzz1K+zVSMAkoxbzhNTQ5TVCao1nYql1idESKbAiIARg7Ro0Xa2LOhC25k8ifvRj37E5s2bufPOO2lvb+eyyy7jnnvuwXXnnxFHPIlrgNQBnLJMxWzFVvKoXgBVkQgaCr7n4bkOAO1GMxV1koFyDCQZxU4CiO6jgrBAlLP1i2+jWMQN6djVMkgSinbqT9oAArqM4unk1PpNeiHvzQzkbo/Uu4uGRIs2QTgl9ugISnMzkqrOu05qcoLOwDpG7DxhvZ6vnlLB8Fxkt4qrH38D4CsKmcxeWvwEbbH6uDFTE1Ow4hp4+99B6gB87w9EN9JFbPPmzbz//e/nyiuv5KabbuL73/8+ra2tfOUrX5l3m49//OPkcrmZ1/CRlsjCwuP7PtPbhxhPH2LbYz9k95Yn+eU37uP+L9zLVO8BirEm3n3VCn77ym7efVU3v3lZJ6WayzdfGCBXsefcpxKXwQMnffJCm9bejl+r4SSTZ/vQBGHRqO5No7aZKKH5Jw1LDQ9iJlqoOR4Jpf7Qy9c9ppURdCNOJL7ulP+eJEmogSCaXcKxFFy9/pB8KmegJGL1rqNQb9WWOXzmBybMsqALbWfyJK6vr4+HH34Y13V57LHH+OQnP8lnP/tZ/u7v/m7evyOexDVA6hB2WaEcaqcsT+M7KiFdJZ8cYXjHVoa3byV5cDcJRaYmTVMsRSHWg1KuN2sXM48KQuPZro1UlvHkEqrj4gQD2JUyqmbMO4PSiRgYZJTikQkRHNSmJpBl7NF6S4pwoon85KR4Ei4IJ2GNjKC2tsz7vmPbVPNVojQzYGUxJQ1fctA1Bc3K4Usyrho8bjtPU7CKU4yrU1wZWIUkmfQfOHKB3rwO3vb/wIGfwtZ7z9WhCaehpaUFRVFIvqmokUwm6TjFcbg0TeOqq67i0KH5uxMZhkE0Gp31EhYe3/d5+qtfQi0qkJDp+vX/gwM9b2Vv+CKilRROuEZ4RSfRNwzj0hYxeMelHfg+PLxtGM8//vwrB0HSwEmd/NysHvneiXHahOXKdzyqvdPoPfP/Trq2RTY5jh2MAxD269fUqqFSq41Tq0zTHDr1QhuAEQyhOWUKtRrRgISnlJiaDqA2xepdRwEiHWKMtrNoQRfazoTnebS1tfHVr36VTZs28Z73vIe//uu/5r777pt3G/EkrgHSB3GsEJVgG5aSw66qmLVppkcGCEQTRNq6sMolsn278N00ihtiOnopSq4+7bCbyTT4AARBGC2OErLiaNRbAbtBA7taRjHq041rvk6Ht4K17kVc7FzJlfZm3mLfwo3227navoFWr3PW/sKKiSW5GExTyJRB01CammZmHg3Hm3Adm2JW5L8gnIg9MoLaPH+hbTqTotNcBz4k/QKeLWPLRUwlhGJl60W2OWrlnqogOx7jRpImonSFLmV08A0Pvnqug0veDU/+DST3noMjE06Hruts2rSJJ598cmaZ53k8+eSTbN68+ZT24bouu3btorOz8+QrCwuXY/HKP/5fjL94AEmSiJd+zuC2l4kVfK5oXU3TiuuwFIVDbvG4h1khXeGtF7Ywnqvwcv/x519JkpCjEvapFNpaWkCWsQZEoU1Ynmr9OXzLRV8VmXed6bFRPM8lp4QJ6irUXGylhqmHUColSvkhmtRuZF+Zdx9vpgfr47TlswWa9AglZYLJIzOP2hPp+liMkQ6YHjgLRynAAi+0ncmTuM7OTtavX4+iHPviXXzxxUxMTGBZc48vIJ7ENUD6EJYVpKrHqSk5pJqMmx4mEE0QbeskGG+iaeU6JFkmku3F96q8Lq1A8oqgKjgp0XVUEBptuDBMuBbH8OpTgbtHW7TpBp1eD29xbvn/s/fnQbZd5X0//FlrT2fsc3ruvpOuBoQkhCQQRsiYwsTCJH7LYBNXqRIbjGJTjoxiUjJVQbYRZUJQ/AYwdkIsW7YsFPu1SXgJPxwIQ+RgwICQdLmIQdKdb/ftufv0mfY8rN8fu7vv7dvzvaf7Dr0/VacQ5+xhHanXefZ61vd5vrw8vo3BZA8FVSIRMQ0xz6yYRAGviF/N/vi6pet1GamCRsg6zQV3cb2vj2Bh86PYnZaqNaazkpOMjPUIz4yta4QwNzvF3uLLmE1sCgWJ7yYEok1Oy6GFDolRXPU8ZSyUryifCTHDyyq30pyfIT63N9Or35E+rH/+AUjWbtuRsTM8+OCDPPbYY3zqU5/ihRde4P7778e2be677z4A3vnOd/LQQw8tHf+hD32Ir3zlK5w4cYJDhw7xK7/yK5w+fZpf//Vfv1RfIeNiUYqRP3kH3zg0zY2D1+Mpn2dbbybnXcceJ0bWAtxZDXJ30PbanP7xEc73PxgoW7ysv8w3js7iRyvntVYRxPMKFa1fPip0Hb2/P1O0Zexa3B/PIUsGWs/aPdZmz4yg6SYToUlP0cRruwSaQ0EvoTkBrcZpNKHTq9aO8+dj5PIoIXBb8/QYZVr6GLMNC9lTRYUh0XwDSkPQnoLA6cRX3fVc1om2C9mJe/3rX8+xY8dIztmNOXLkCMPDw5jm1noGZWwjtZO0gl6U0Eg0m7zbAKUo950tE9Z0neqeA4g4JHC+wvF2CaFbaHmTaC4rHc3IuNSMtkYpBVWsqEWiSUKpSOKIvbkbeHl8G3Uxxw/ls7ygHea49mNG5DEm5AhTcoyT2otMijNcl9xEOakAUDYspJL4WhvbN4ljlSbazpxBKShU00Rbc2Z11+mMjAxIHId4fj5VjqxBfXqW4fy1HPPmqeYskkgj1mwKcYhAEWsry0YB1ELPNy2MGTEnGTQHKQjFiSPnbGRqJtz9AIw9B9/7bx39bhlb59577+WjH/0oDz/8MHfccQeHDx/mS1/60lJblpGRESYmzva+nJ+f593vfjc333wzP/dzP0ez2eRb3/oWt9xyy6X6ChkXifeN/8oXv1Ojv6+MnrycZhhjlDT2DkxyS+7LXNN/nP7iHEPzJzDz+2lM/5gjP5rmR7XneKF+iFlvAqXglfurBFHC90bmV9xDqyz0aZvfhCHCwADBSJZoy9h9KKXwXqhhHiiv22Jl7swIXf39TDYDegoGoRPg6y55kUMGMSEuDja9yeCa1zgfIQTCzBPbLXqMErY+SZJI2vlUrRxOzEJ54Xr1kYv6nhkpl3WiDba+E3f//fdTq9V473vfy5EjR/jCF77ARz7yEd7znvdcqq+QsRrzJ2nF6aJZCZeCXydXriDPa9ysmxal/j2o8BjOjE3ccxDNiIgzRVtGxiVntDVK0a9iBm3iYo7IdzFljlcYr2WeOUbFCWIRrXn+pBjFxeZl8StAgZSgK4uW1kYhsW2FPjCAardJGg0M08IqlmhMr96jMyMjA8Kx1DxEW0fRRs1ACo0TwTwlLd2ElGaMFrZRQkNpqzdoThYUbSII8XM+ISEHirfw/DMzyw8cuAWu/xn4P78PXmYwdal54IEHOH36NL7v8/TTT3PXXXctffa1r32NJ554Yun//+Ef/uHSsZOTk3zhC1/gVa961SUYdUZHcGp87W/+mkBZqNIb6JZ57JxD3x4F3X243S+nOP8Cxtw40hT43TGJFPhzL2CP9PLj+Wd4avz/z9cm/idCulzTW+CZU7W0zOwcZAHQIZrbRPno4CDByVPb830zMi5joimHuO5jHlivek4xd2YEq9qLE0T0FEzwNZSRYCQBIhAklk5TzNOrBmDj3PYSRq6IFjqIWCKtFoiYuQVVXDg5kyraAOZPXviXzFjisk+0bXUnbv/+/Xz5y1/mmWee4bbbbuO3fuu3eO9738v73//+S/UVMs7Ha6CcedoLKhYtaCOTkFxXddXDC5UKid6N1TzCkdIAUjhEmaIlI+OSMzI/Ri4uons2cd4k9FxuqrwOTWiMyZOr9nhahoBJOUoX3XSpKgCWMJnXGwC0mjH6gvPoUvlotTsrHc3IWIdgIdG2nqKtKxigmTQIZYSIZWqEoOtoYZtYz699cU2ihED6ETnN4rScYH/xJsZOz+DY5z3tv+odENrwrT/uxNfKyMi4AM587v/Lj2o9XPOy27Aa/Ugh0LrPKlCd4l5OFfsIWjVmtRa1YBZV7ULFMxQdkzv5l7yy+3U0whr/d/x/cu2AzrwTcrq2vLRMCIHWJTZniDA4SHjmTGZslLHr8F6aB11iDK/engHAaTTw7DZhvgpAxdAQSoAJMrIRgSSxTJpiHgOTLtW96fvnikUkCbV6g16zQGjUmG0V0bqKqfNooSdVpWd92jrCZZ9og63txEFqTf6d73wHz/M4fvw4v/M7v7OsZ1vGJWb+NLEv8aweEtqYrQCkhplf/UdHCIFW3geJx9OTEs2IicYzyXlGxqVmciptimy6DnHBQvkRN3S9ilkxRSTCTV2jSR0Pl73JQQCKMo8rAyyatOddtEoFYZoEZ1JDhGK1SjNLtO0on/zkJzl48CC5XI677rqL7373u+seX6/Xec973sPw8DCWZXHjjTfyxS9+cYdGmxGOjYGuo1Wrq37uNGwGrWsYC+eo5A1cJyIUbfJ6AS2ySbS1+8YgQOkaIgwRAmp6i25rAEM1+PHz5y2ai33w8v8PfOdPwF1ZapaRkbG9JH6bp77yDD0lydjMDVRMnVBEuMJnxJ/k2faPear1DM/gYfoCI6dxsPxyuisH0PJlkuh53JkyXeFBXtX7U4RJwDH765QsjR+NN1bcT+sSRDWFStaX2BiDg6ggIJrM1OkZuwv3pRrmniJCXzsFUxtLN5brooChC4wwja16TkcLXQggMU0c2kSE9Ki1N9XOJ1csohA05+fpMbtoyLHUEKG7Qjg5C0JCaTArHe0QV0SiLeMqozFK5Eq8XA+haGJ5IZpVWLdWvVACaVyPM+ET5w3i2Zk1j83IyNh+lFJ4jXRX3HJs4kKOPRxAExozYmKDs89BQE3M0KcGkUpSNtJFvi7qNBshSInW3084kgb9YqWbxkyWaNspPv3pT/Pggw/ywQ9+kEOHDnH77bfzlre8henp1VXFQRDw5je/mVOnTvGZz3yGl156iccee4y9e/fu8Mh3L+GZMfS+PoRc/RGveaKNQPKiO08lbxL4gkja5JVAqIRkPUUboAwdGaQl4SKfLqj7LMkPDyUk5y+wX/GLEAfwzJ9f/BfLyMjYEj/+73/MrJtn8LrXEfmS/pxFU2/x9fZzvOidJFYx+8xBbo/3AVDBxQjaAOR6hkiiNojj2Gd6sSjz8uqrmPJG6eme5oWJ5oryUa1LQAxxc/1Em75QlZQZImTsJhI/JjjVxNhXWve4ubEz5EplZnxBd97EbrdQQpHL5dBdG6EEiWmAgBZNupPNGyJIIUj0HG6rTp/RRVsfx3YNor5hgvGF57riANSzudkJskRbxs7TOEPkW3i5XgIxjxkGWIW1JbQABVOhjGsRieLFyhBRw1kR4DMyMnaOGXeGnJ8+LFhOizhvsl9/GbVo82q2RRpiDg2dHjVAWU8TbbFs0nLSno2p82iaaCtUu2nX5kjizM1wJ/j4xz/Ou9/9bu677z5uueUWHn30UQqFAo8//viqxz/++OPUajU+97nP8frXv56DBw/yxje+kdtvv32HR757CcfG1i0bTaYEjXCGmUhRNg2IDJQeoEcOCtZXtAGJJpHBwhzXFfW4zpDRS7ulOP7SeXE53w3X/xN4+s8gWt35PSMjo/NEYci3/s8/sq8aMTa1F0936ZclfqxOUtYK3JZ/GS/LH2DQ6KHgxCghiPI5cu0RBArNLKAXKkTeiySxwp7opscapD+3l4b4AU4YMt5wl91TlgQIiGobJNr6+kDKLNGWsasITjchURh7y+seVxsfpdzTx2TTo7to4rYdAs0lrxfRXBuAxEr7qLZFnS4q6Epf75LLELk8idumauTxjTS51qhcl5aOApQGYD6bm50gS7Rl7Dz1EaKkipvrIVATCCBXWj+7LzVAT0jMfo5SIokVSXOlbD0jI2NnGGmOUPKrCGEjVYSZ76fL6GUmHt/ytXzh4WDTnwyhSYmuDBzNJohNgkBhDAwQjU+g4phitZskjmnPZ4Yo200QBDz33HPcc889S+9JKbnnnnv49re/veo5n//857n77rt5z3vew+DgILfeeisf+chHiNdJjPq+T7PZXPbKuHCC0VG03t5VP1OxwnJL1KIZEIK8TB/WNTNBCx2UtGAddTmAMjWkf9bkpCHbDFj7qOWO8I1v2Ss3wW5+K9jT8OL/urgvlpGRsWl++MX/TtuDoWtuw7Uhl4vRkNiGw3XWfkx51vBEs12SnEFQGETEHoabLrit7kGS0EWzjhLUi0S2ybWlm/CTNlZhgmPT7WX3FFIgS4K4tn7vNaHrqfPoqWwxn7F78I/XkQUdrWKufZBS1CfHKfb0UrMDugsmkRsR6T6a0NEcH4DETBNrLdFAIKmonk2Pw7CKCJXg2w7lHCjNpZnbS1xvkbheVjraQbJEW8bO0zhDEBUJrCoimkMh0E1rw9M0w0PXbyZUkplygeilp3dgsBkZGasx2hqlGHRjqjQpUtX34scOLVm/oOs1xTw9qh8UmFg0tRYA7VaCNjCAiiLCyUmKC32nMkOE7Wd2dpY4jpfMhxYZHBxkco3eOidOnOAzn/kMcRzzxS9+kQ984AN87GMf48Mf/vCa93nkkUeoVCpLr/3793f0e+w2wrEx9DUcR6OZBInGbFwjb2oEXowiwjJ0ZGyTaBvH4kQ/WzoK4OV8inoF8qdwZ3N86UfHl59QPZC6kD73xMV8rYyMjE0SRxHf/bv/yf5ig2n3ZpQR0ltUuHh0W+UVuXSt7ZHkTJRmEpsVLHscoWI0M49eqBC0jiHNAHuim4LeRY81gFk8vSLRBqCVxeacRwf6M0Vbxq7CO1FHHy6u2yqpPV8j9H2iXBdKQXfBQHgaiZHOKelFKF0uZXACfAI8qmr1zbXVsBb6tM3X5ukzKzj6FPOkKvhgcjZVtPlNcOsX/F0zUrJEW8bO0zhDO+hDCQ0ZtRBGbt0fnUWsnI8uB4m0hLHuEtHRZ3ZgsBkZGasx2hqly+vDTFooBD1qiGlvFKkZG5+8Ci1Rx8CkrCrkpEldayGJaLUSjEXn0ZFRCpXUXamZOQ9fliRJwsDAAH/2Z3/GnXfeyb333svv/u7v8uijj655zkMPPUSj0Vh6jS44zGZsnbjVImk21ywdDacTvNimloR0WQaOGxFKm5yeR4vcTSXalCERYQwLa2knn5aE7ve78fIN/uHbbUbd8/qo3vBmOPl1aIxd1PfLyMjYmCPf+Satlsf1+6tMTUrmtHkO0E9DbyO185Z+CeiOR5xLVTZBrg9UgumkmylWtZ/Yd9HMk8SeSdDIs6dwLaGoMdmexo+Wq5VlWZA4kPgb9WkbIjh9qmPfOSPjciYJYsIzbYyh9VslzU+kMbKllxBAJaejhybCBBn7iAAS8xyDRwFt0aSabD7RljN0Ys2kWU/7tDXlOHN+GYUgGJ9JFW2Q9WnrAFmiLWPnaY7RCtPFshY4aJtQswHk8z6Q4OcKTFWK+Md/tI2DzMjIWI+R1ghlvxsjamEOXINFjin3NFLffJ+Ic7FpExPRo/opyTyxTLBo0Jp3EbkcslIhHB1BNwxypVKWaNsB+vr60DSNqanl6sGpqSmGhoZWPWd4eJgbb7xxmdP3zTffzOTkJEGweo8uy7Lo6upa9sq4MMKx9CF9LUVbMBvRCGZoxhrlvE4caMSai5nEC0YI6/dnA1CajkAhw7RPW6RFOLHNUNxFzwGffbVb+OMffHX5Sdf8JGgG/PAzF/cFMzIy1kUpxXN/9xkGcy3s/OtIEsVs+SQHkiE8c+VvsHR9RKKI8wvlbFIjsqqY7hQiCdGsIlquhN84iZ73cacr9JiD6MJA5MY4M7+8T5tWTjfO4/n1VW3G4CDh6BlU1m81YxcQjrVBgTFYWPe4+uQ4uWKJGRdKOZ3AdQGBbmnIyEWEMjVCOIc2TUp0bbpPm6FBrOfw2w16zTKOPkUU67hdewgnplNFG0A92/S8WLJEW8bOksTQnqYddaFUhB5FGLmNH+wBNJmQSA9h7CeRkpHT2c54Rsal4kT9JMWgCyNok+t/Ob7yaEXzyDWcDjdEKFo0qao+uozU9VCKBu1W+hCu9/cTnF4wRMicR3cE0zS58847eeqpp5beS5KEp556irvvvnvVc17/+tdz7NgxkuTsIuvIkSMMDw9jmuv0JcnoCOGZM8DqiTaVKJKmoBHM4cQmJdNARBbCCJGRA7C50tGF3XRxTvmoLVoMaj1M63NgRNRf6uGl9pmzJ5lF2PcT8MPPXszXy8jI2IDJ40eYOnWKl5XnGGvuQeQjei0dDY2WsbLUU7c9gLOJNiDM9QICy06fs81KP5HTRFrjxIFB1CrRlxtGz01wes5edj1hgTAgmt9A0TY0hApDwoktuJRnZFyhBCMthCHRutdf885PTlDq7mW65dJdMGm26gAYeRMZuRCwpD5dpC2aCMSW+rRJM4+KI0QQoeXSFjDO8I2pIUKuCpoJjSzRdrFkibaMnaU9DSrGjsuoaBIBWLn1s/vnInWHfHItZhhyuhlD5jyakbHjKKWYqE1hJDkMz6ZUvY5aNHXBarZFbNGgoqoUZQ6BJJQtWq4BSqWNk0fSRFuxUqWZ9WjbER588EEee+wxPvWpT/HCCy9w//33Y9s29913HwDvfOc7eeihh5aOv//++6nVarz3ve/lyJEjfOELX+AjH/kI73nPey7VV9hVhGNjCNNErqIKjOsKoQTNaI5AGFikCTPdUMjIRgkDxMaPhUpPzzu3T5utu/QYA5yanKOy1+Pm6dfxuYnvLD/xwE/CxOFslzwjYxt5/v98mYIl6B0YYHZGY9aY5rp4H4EI8TR/xfFa2yMxdDi3pFQIQqsbw5tDxj56oYzULYLmKTQrwJstMZDbC5rNidryfp1CCGRZEG1giGAs9P7MDBE25pOf/CQHDx4kl8tx11138d3vfnfd4+v1Ou95z3sYHh7GsixuvPFGvvjFL+7QaDNWwx9povfnEXL9Vkn1yXFK3T1MNQOqBQO37ZCICNPMo/k2IhErFG1pnzZ/a4YI+bSE1W426LYsYq1Nu3KQYGw6NUQqDWSxugNkibaMnaWZOhI6lEjihZ2y3OZKRwFMy8NMKlhxzBhFVNbvJSNjx5l1ZzHdNEFeUSaGUWLWH0O7yERbSzSRaHTRjaEMHL1NnGi4nsIYHCRpNIgbDQrVTNG2U9x777189KMf5eGHH+aOO+7g8OHDfOlLX1oySBgZGWHiHEXC/v37+fKXv8wzzzzDbbfdxm/91m/x3ve+l/e///2X6ivsKoIzqRHCan1Po7pCkWDjYRgS3w9QxJimjha5xPrmFIdK11CADMKl9xwrQJcGg67CqcxjRUW+92KTSJ1TFrbvJ0AamftoRsY2EbgOL/7j17i2MMu0/lqSBM7kj/Py5FrahgOrrPEN212hkAGIrB4QOpY9hkBgVvoIGrNohRqRm6Os9iCQzPojxGp5Uk0rCeJ5tdKB+NxjentB17M+bRvw6U9/mgcffJAPfvCDHDp0iNtvv523vOUtTE+v3j4jCALe/OY3c+rUKT7zmc/w0ksv8dhjj7F3794dHnnGuQSjLfT+9YUlXruFZ7fRy904QUR33iRyIkI9QArQ7VSRmljn9UIWqaq8mmw+0WaZBrE0aDWa9JplbG2aZn6YYHzh76o4kPVo6wAXtyrKyNgqrQmSSODpVeLkNInUkOf08tmIfMEjaEGilXFlSOOlp6netW8bB5yRkXE+p5qnKPtpQO/J9RGrkHl3Aj2/uTLwtfBwCAmpql5MkRoi9AHtlqJncfd7ZJRitUq7NkcSx1v6/ci4MB544AEeeOCBVT/72te+tuK9u+++m+985zsrD87YdoLRUbQ1+rMlzQRP2YRSp2wZ+F5CKNsUtBxa6BKZ5c3dRKTJNhmcTaI5uQhcuEEV+UF7joPlfoYnX8H3mye5s3JDepBZgKHb4KX/Da+7/2K/akZGxnkcefpbREHAwb5pfuwexMjH+FaDve4AZ/TVnaI12yOollZ+ICDM92A6UwTREEapG782SeyeQmgDhPNlykYfdXOKmabPUCW/dKosCVQIiQvaGrkFoWmpUj1TtK3Lxz/+cd797ncvqcgfffRRvvCFL/D444+vuoH1+OOPU6vV+Na3voVhpAmZgwcP7uSQM84jbgckzQC9L7/ucY3pdI66RgHwqRYNJj2BMtJYq7lpmXdirkzftGmyl4NIpZGIjfse5nRJU7NoN+oMH9zLGW2auriDcHaeJAiRxX6oj2zxm2acT6Zoy9hZ2pNEgY6X6yZJGshN7qAvomkhSvgk1j5QipHnn92mgWZ0kkz2fnVxunmast8LRBSr+3GSOlEcILWL3LsRYNOionooiBwtzUYjpN1K0CoVhGURjJymWOkmiWPa83Md+T4ZGVcL4cjImkYIUVPRDup4yqBk6cSBgdJ9pIoQKiTRNp8oV4a2TNGmZIIdt9hDicmGR3HQ42D9lXxj+sfLT9z3Gjj9LfCaF/T9MjIy1ubH//AUA70F8nmL6dk8LWueA2oQDUnLsFccL8IYGUQkudXdwiOjQiKNVNUmNYxyD15tAr3Qxm+U6M8NIYwaI7Xl81mWNmuIMEBw6tSFfdldQBAEPPfcc9xzzz1L70kpueeee/j2t7+96jmf//znufvuu3nPe97D4OAgt956Kx/5yEeI1zGd8H2fZrO57JXROcLxdO7pvevH2MbUFJquU4sNNCEoWTpGYIGZziPphigplpd5L2CLJhJJl6puakyWLok1k8C1qcgcvl4jIkdglAknZ1Pn0SzRdtFkibaMnaU1Say68a0eVNLacqINQOgOkXmAfBgyfjL7EbjcyWTvVx+nGqeoeEOUZBOrPERDzINSF59oI31Y6FJVSkaBRIDJPO1mAFKiDw4QnB6hWE1di5tr/A1lZOxGlFKEY2PoAwOrfhY3EppBjXasUzQ1ZGQh9AgtSl0DN2OEsEiia8t6tAE4wqabKhKomTX0xOCF48sdCdn3E5CEcPLrW/5+GRkZa9OuzTH6wg85UJxnPv9aggDGjBFujK8lEjGu5q04R28vzP21WrgICHN96EEDPbQxu3pQcYhKRlCxpBofRAjFsfnlvZykKRAmxI0NDBEGhwhOnbywL7wLmJ2dJY7jpVYNiwwODjI5ubpC8cSJE3zmM58hjmO++MUv8oEPfICPfexjfPjDH17zPo888giVSmXptX///o5+j91OMN5GmBLZtf6atzE9SbHSzUwr7c/m+E2MOIe00nSNDCISa/XUjYdLRLjpPm1CpoYIAJ5tY1npb4FdGCYYn4JSP3h18FcaqGRsnizRlrGztCZx415CPY9IPAxr8w/2iximC1ofJS/mzERjGwaZ0UnOlb3fcsstPProoxQKBR5//PFVj1+UvX/uc5/j9a9/PQcPHuSNb3wjt99++w6PPGMtTjZO0uX2MailO6R1WQe4aDMESN2TNDT2aUMACNmkteg8OjBIcOoUhYVEW9anLSPjLNHMDMr30fv6VnymPCAS2GEdHxMLCQh0I0FGLgqJ0lZXtayGMjTEOYo2AEf3qRr9DJmKk606quBgju+hueBoCkB5CLr2wvGnyMjI6BxHnv5HpJTsS44xldyCbiimc2e4IT5AW7dX7c+m2R5KChJr7dgdm2USaWE6Y0gjh5Yv4zdGkXqEtPsQmEx7Z1acJ4uCqL6+ok0fGiIcn0AFwZa/b8bqJEnCwMAAf/Znf8add97Jvffey+/+7u/y6KOPrnnOQw89RKPRWHqNjmZN8DtJONZG782v2jv1XOrTkxS6e5hselQKxlnH0ZyJjD2kL0iMNeK0gDYtqlswRLByeRQCp92knEtQRDhd+wjOTKc92iBzHr1IskRbxs7SmqQVDoJyECrBNLfe0ymfd0FIDFWg4YDbyiTOlyuZ7P3q5Fj9OGWvm37dJHRq+Cp1MuuEos3FJiamj34kkkg2sV1tyXk0mppCxjG5UplG5jyakbFEuLA4Wk3RFrdSZYkdNQiESRLFKBSGqaWJNm1r6vJE11co2txchCFNDsaCuhtg9rrsr9/M9+rHl5+851Vw7P9s6X4ZGRnr89K3v8nQcC+mjJlq9kHRAxmzN+mnZTirnqPZPknOXDUJdy5hrgc9aKKFNmZXH7HbQhjTBM08JdmDxxR+tPwZTZYEcX19RZsxNARxTHAmMzZbjb6+PjRNY2pq+bPO1NQUQ0NDq54zPDzMjTfeiHZO/9qbb76ZyclJgjUSmpZl0dXVteyV0TnCCRutZ4P1rlI0Z2YoVrqZbft0502cdlpyauRMZORCKFDrJMUXK0KE2mBCL5AzNGJpYLdadJtlPK2G03sNwdhUWjoKWfnoRZIl2jJ2lvYkragXlaRKNGMVp6NzEUrQmwywNz5Id9IHCjQjABWS6OmPwNSxl7Z92BkXRiZ7v/rwY5+J9gTlsItuvYznzhBHIUJoSNmBkCLAWejTZigLW2sTJxLHUelDuVIEo6MUq900Z7LS0YyMRYKRhUTbKj3a4lbqOOqJENPQCf2EWLSxNAstcki2mGjDWCgdPUew4lppwn3AMwBBkHMohhUOnTnvt374VenD+/yprd0zIyNjVez6PONHXmBfl4+fv4Z6XWNOn2Y46cdATxVtq6C3XeI1+rOdS6pqM7HcCfRCGambxN4JVKzRJ69F6A3G6q1l52hFgfIh8ddOtumLJkdZ+eiqmKbJnXfeyVNPnVUAJ0nCU089xd13373qOa9//es5duwYSXL2x/nIkSMMDw9jmltv15NxcagwIZpz0TdItLXr88RRQJIvEcaKasEgtEMiLUBoIAMHEQnidSrBbNFCQ6ekKpsam2VoxJpJu9mkxyjhaTWa+UH8M5OQ7wapZYm2iyRLtGXsLO1p2mF1KdGmrSWBBaSS3BrfySvjn+D65GZuj+/izuinMNBRmo1fPAAiZurHz+3U6DN2gEz2fnlzunkaK8rTQw5Ts/CCOeIoQOqdc/+0RYuK6iYnTOb19OHdbqu0JE7TCE6eolCpLjk0ZWRkQDg6gtbdjVzlQTxpJ/i4JJpFccEIIdZ9QCBjj0RuTV2e6DpCKUR0VtUWyRg/cSl7Fj1Fg/GoRiJiJk+f96g59Iq0QcyJf7iQr5mRkXEex575DkIIhqMjTOmvAWDUPM2N0XUkKGzdXXlSAprjr92f7TzCXDe6X0eLfYxyD0FrEvCoRgcQQnFkdnn5qCwsGCKs06dN6+5G5HIEJ09tagy7kQcffJDHHnuMT33qU7zwwgvcf//92La95EL6zne+k4ceemjp+Pvvv59arcZ73/tejhw5whe+8AU+8pGP8J73vOdSfYVdTTjtpCKR7vXn2eLGcVumfdOqRRPlQaKnMdaw015pibV2stRZqAjZbPlozpDEmkXoOZSkha/NYxu9BGem0iRbcSArHb1IskRbxs6RJGDP0ojKEM6ihETKtRfn+5Pr6Vb9HJcv8Lx8mqPyh+QpcHP8KqTp4hT2oGTExNEXdvBLZGyFTPZ+9XGifoKK10+fLlEqwVNt4iDsSNnoIm3RwsBkSBukLb3UedROQNPQBwYIRlJDhCzRlpFxlmBkFH1gdcfRuK1wwuaS46iIcgg9RMY+QiUofWv9UpWR/j6fXz5qS4cuVaE3pzFpu8RdTZjuIVLnlJWZJei9AU5mibaMjE5w7Jlv0793D5Y3xbR/HfmSomnMcb3ah6O7KLEy2SVdH6HUphRtALFRQQkD05nEKPeAUsAJhFNBKJ2x9vJEm8gDEuLG2n3ahBAYQ0OZ8+g63HvvvXz0ox/l4Ycf5o477uDw4cN86UtfWqoUGRkZYWJiYun4/fv38+Uvf5lnnnmG2267jd/6rd/ive99L+9///sv1VfY1YRTqZpU615/M6s5M4VumMwFGpYuyesS3TdRC46jmrNgXLJO6ShCLVWEbAYhQLPScYWOizQdYpHHa8fEtpsm2jJF20WRJdoydg63BirGToqopAbrNE43lcWB5HpmxAQtUQeRqlxG5Ql61QBD+RyJNBBKZ3psfOe+Q8aWyGTvVx/HG8fp9vbRqwsCd47YlCRRZxNtDi0Uiv3aXpQAQzRot9O/B31ggODUSYrdPbRrc8RRuMHVMjJ2B8HIafT+lf3ZIC0dbfl12olOQdMRSKSeIOO0d1Mst9qjbSHR5i+ff67uUzUHqMQecaKQZZfBxnUca08sv8DQK+HUNxcW6xnbzSc/+UkOHjxILpfjrrvu4rvf/e6mzvvbv/1bhBD8wi/8wvYOMOOCCVyHkR89z54+E4XG9HyZINcCodivBmjrq/dn0+3UhTTOb3LuCwitCoZXQ5NgFCtE7kkix8RSfdTD5XNcCIEsik04jw7iZ6Wj6/LAAw9w+vRpfN/n6aef5q677lr67Gtf+xpPPPHEsuPvvvtuvvOd7+B5HsePH+d3fud3lm1eZ+wc4ZSDLBtIc/1//82ZaYrVbmZafuo4GrXIhaUlx1HNdVES1Ab/HRcrQthkaE0NEcC12+QW2j84hYFU1VbqzxJtF0mWaMvYOdqpqslVJZKkgaavHdz3JNcAiimxvEFqgxoObW7UD4BKMJIKraaL76zefyLj0pPJ3q8ujteP09XeS58OYXOaxDKIw7AjjqOLJCLBxWZQLvT2Ew3arQX5/NAQ4dg4hVIZpRTN2ZmO3Tcj40omOD2y1PPoXFSsUK7CiRoEmEiVJq0NU6CFLkpoaZnIFlCGhgLkec6jrhVR0MsU2g6aFEQ5Hysu8L2R8/opDt6aPhPUTmzpvhlb59Of/jQPPvggH/zgBzl06BC33347b3nLW5ieXr/H5alTp3jf+97HG97whh0aacaFcOr575FEEXv0Ker5O/B9wZQ+STkuU0oK2Gsk2rS2R2LooG1+KRhZVQBMdxajq4ckslHxHL3qWiJZwztv40sWIG5ukGgbGiI4kSXaMq5Owkkbvbpxa4bmzDT5rgpTTY9qwaTRnkcqDT2XPltrXoQy5IbGJYsVIQVKmxpf3tRJpIHdbi84jyrswiDB2GRqiJAl2i6KLNGWsXO004c6X1ZQykY3Vk+0CSXZkxygJmZIxHlOkwJmxSQ99FHCwyDdvZ85nQXpy5VM9n518VLtCAecfVhSEtozhIaGUjGyw7ultmjRrXrQlUYoW9htUufRBZcyy0133jLn0YwMiOt1kkZj1URbYitA4EQtAmFAlBAJD8swkXHat23LCFC6hgyWx2jXSFUyxQZU8gYzcZNExIyOnqc8HVjo03bqm1u/d8aW+PjHP8673/1u7rvvPm655RYeffRRCoUCjz/++JrnxHHML//yL/P7v//7XHfddTs42oytcuK571IZGKI0/zzT3Iauw6hxmhvjawHWVLQZtku8gSHZCoQkNksY7gyaVULqFkl0nEqyDyEjjs4sb+cgCyI1YllHuWoMDRHPzRG321sbS0bGFUA07WzYnw0UzbkZ8uUqNSekmjdxWul8MBZKu4WXoDZQxcHZipCK6t7U+PILzqPtVpMuM0cgm7jVffijk1AaAHsGwlV6PGZsim1LtJ04ke1SZpyHPYNS4OtdKOVhmKv/8PSpAUwsZsXqC+i6mCMh5mCuDPo1KKGyRNs20Mk5nMnerw7COORMa5SXR/0opQjtWcIFIVsnFW0ANi3yFOmiiqO1iRKJ76vUUVFKtJlZhJQ0prI+bauRxeDdRTCS7jobqyTa4la6yHUSG6kbxIEk0VwkGlp0gYk2QBk68ry+mZ70iVVMycvRnTeYdXyCYgN7Kr/8ZLMAPdfByLcv6N67gU7M4SAIeO6557jnnnuW3pNScs899/Dtb6/97/5DH/oQAwMD/Nqv/dqm7uP7Ps1mc9krY/tRScKJQ88wvLcPAptJey/FaoIr29zAfgIZEsjV2ytotrf5stFzCM1uZBJghE2Mrh7i8AymV0IpODa/XP0iCwISSNYpOtGHhwEITl5dz/FZDM5QYUw876NV14+xbqtJFPiEVgGlFN1Fg8AOSESMMEHEASKAxNy4n2IiEhxsKsnm+rQZukDpJr5j06UXCLQ6dnkIf2QCigvPE/XMEOFC2bZE2w033MCb3vQm/uqv/grP87brNhlXEu1p/LhKrAEo9DV+MAaTfdi08MXqGfREJNRFjb2FPkKrh9CKmTuTSVs7TTaHM87nZPMkSikOUMRNbFQSES3I2DvZow1SRRvANdoB6nr6lG7bCmEY6P39RCMjFCpV6lMT611m15LN391FcPo0wJqKtpiIUELRMiC0UJqPIEHEPkq7sN6Xia4h/eVmCAhwpENV9lImJIhjVNmmUBsiTM47tv/mLNG2Dp2Yw7Ozs8RxvKQgX2RwcJDJydU3Kb75zW/yF3/xFzz22GObvs8jjzxCpVJZeu3fv/+CxpuxNSaPH8VtNRkuuviym1rdom3Og1BcowaxNWfVUjMRxsggItmkEcK5KN0i0SwMbxaj1A0owvYUelJhylmpaAOIm2sbIhgLxlhXW6Iti8EZ4Uy6jtU2KB1tzqQtUFoL7t/VvEHiKmIjTZLLwEFEgngdx9FzcUSLrk0q2gA0w4IkJpfoBFqTdq6XYGQiVbQBNLI19oWybYm2Q4cOcdttt/Hggw8yNDTEb/zGb2y6+WrGVYo9Q1MdRCXpAlrTVwZ4Qxn0qn5qYv2+S/NilqJepNvIE+g6M6dPbceIdzXZHM44n2Pzxyh7vfTpkiCcRQlBRFo6JmVnE22hCAjw2KftwdZsIMF2UmVOaohwilJ3T+Y8ugbZ/N1dBKdOI6tVZD6/4rO4rfASm0CYFE0dkZgILUJGHgJFIi9Q0WZqK3q0wVlDhJybqppUwaMUdPOj88u8B2+B+VPQysq/V+NSzOFWq8U73vEOHnvsMfr6+jZ93kMPPUSj0Vh6jY5mCoid4OThZzFzeXq9o0wZqcHUaX0ELTbpiSu0jdU3rPX2goNh7sLmfmRW0P06mgQt30USnqSaXEsrXt73T5iAflZVuxoyn0fr7sa/yhJtWQzOiKbTsu2NSkdbszNIqVELUldwXZPonrXkOGq201gab3K+2rQpUMRQm0ukm7n0ucF32kjdwZfd+BPTKLOa9m+dP72p62SsZNsSbXfccQd/9Ed/xPj4OI8//jgTExP81E/9FLfeeisf//jHmZnJGljvOuxZmtEwKkl/MDRj5Q9AfzIMCOpibt1LtWkQKJ/9VgFFidnRk+v2gMjYOmvN4de97nVAulOesbs4Vj/Gjc1bKUhB4E2QWPqS46jYoEHrhWCLNoNyEIVCFzZOO53jxtAQ4ZkzFLuq1CczRdtqrBeD/8t/+S+XengZHSY4eRJjaKWaDdJEmx02cBKd4kJCXDNBRqnK4kJLRxNdX6loA1zTp8vshXqTvKnh62l56Y9PtZYf2H9z+r+jT1/Q/a92OhGD+/r60DSNqanlycypqSmGFpRE53L8+HFOnTrFz//8z6PrOrqu8+STT/L5z38eXdc5fvz4qvexLIuurq5lr4zt58ShZxm89lrk7ItMBDfRVYEpNcXBZB+60tY2QrA9lBQk1oVtkEVm+t/X8OYxy92oZJ6q30simrT9s8k9IQSyIEg2MkQYHiI4eeqCxnK5ksXgjHDaQRb0jR1H52bId1WYbPtUCyZO2CQflBELoVlbMPzbbKLNWagIKW9S1ZbL51BAs9nGMD2UMAi0EsHkHBQHoJ4l2i6UbTdD0HWdt7/97fyP//E/+IM/+AOOHTvG+973Pvbv38873/nOZU3QM65y7GmaUT8qaaEAsYrL2UCyhxYNYrHy4X0ZAhpijv1WibzqJXA92vPrJ+cyLozz5/Bi34lbbrklm8O7jJdqR7i19QoAImcydRxdSLRtBzYtKnRjoIFo0bZT9Zw+PIyKIvKaRn1qMkuyr8NqMfj3fu/3APiN3/iNbP5eJfgnT6IPrkycAMStBDto4GEglUKhMAyJjB2UMLjQLLkyNEQYQbJ8/jmahxQa+YaiK2dQDwJcs8Xk2HnlY8U+KPbD2LMXdP/dwsXEYNM0ufPOO3nqqaeW3kuShKeeeoq77757xfE33XQTP/jBDzh8+PDS661vfStvetObOHz4cFYSehnhNOpMnTjKcG+OKBZMzVexKiG+5vByeSB1D9RXV7Rptk+SMzd0MFwTIYmNAoY3h14og9CxHAch4IWZ5WpGmV9f0QZgDA0TXKU9zbIYvHuJpp0Ny0YhVbQVuipMN326CwaNdg1N6WcdRx0XJdm0Q3CAT0hARVU3dXzB1ImlQavVIp9Ln7PdfD/+yHjqPJop2i6YbU+0Pfvss/zmb/4mw8PDfPzjH+d973sfx48f56tf/Srj4+O87W1v2+4hZFwutKeZC6uIaB40HXHew72pLCr0UBebU0rNyzkszWCvfhMAtTNnOj7kjJVz+N/8m38DwOc+97lsDu8yXqgd4eXBHpwkQvkRibmYaNseowpbNJFI9rKHSLRw2guJtoEBkBLT9Qk9F7eVNd5ei9Vi8OHDhwGYmJjI5u9VgFKK4PTppV5Hyz4LFQSp42iICbEiFi6mZqFFLrF+Yf3ZABJDQwAyWL4x5mipUq4c5ikbULN9wlKdYKa08iJ9N8LoMxc8ht3AxcbgBx98kMcee4xPfepTvPDCC9x///3Yts19990HwDvf+U4eeughAHK5HLfeeuuyV7VapVwuc+utt2KaF/73ktFZTn3/EABD2iRT4tXEiWBcHwPgWoZxNZ9ErN4bTW+7xBfQn+1cYqOCFtnIJESzekjcKVSic6pxfqJNELc3cB4dHiY4fQoVx2sec6WSxeDdSzjloFU3/s1szs5glrpo+xHVgoG96DiaT+eo5vooQ2w+MS7AoU1ZVTZ1uCYBzcR3HcpW+pvhVvfin17o0zZ/dZV17yTblmj7+Mc/zitf+Up+8id/kvHxcZ588klOnz7Nhz/8Ya699lre8IY38MQTT3Do0KHtGkLG5YY9QyPsgriOWKU/20CyB4WiIWqbupxDGz9yuSZ3LUrC3FjWrLGTrDWHP/CBDwDwkz/5k9kc3kU4ocOMO8FB1YVDC+mTKtrCoOOOo4u4OMTE7JMH8DQbxxOoZMEQobcXozYPQH1yfFvufyWzXgw+ePAgAH/yJ3+Szd+rgGh6BuU46Ksk2uKFcmsnbhJrJirUiDUXiURGLuoC+7NB6joKoJ1XPprIBE94VM0BSoFDnChEl0uh2U8QnreQ7ns5THwP4g1U7LuQTsXge++9l49+9KM8/PDD3HHHHRw+fJgvfelLSwYJIyMjmarmCuTE956le89ecjOHGItfTakMJ6MxjDhHb1RZs2yURKE5/gX3Z1skNoooITH9GkaxCsqh29nDlLuKIUIManVxHbCgUvcDwqvo7zCLwbsbFSuiOW9DRVscBLitBoFRAKC7YBLYAUokaY9DQHMjlLm1lI0jbMqqCpss+JCGSey7dJk5AtnCqQ4TjIxDaShTtF0E27M6Iv3x+Ff/6l/xrne9i+EF6+bzGRgY4C/+4i+2awgZlxNKgTOLE5dJkhbGGom2JnVisckdLQF1Z4K9pWtILD1zHu0w2RzOOJfj9eP0BN1UpcZYMonmJ8SmTuyEWNoqSpVOIMChxR5tD89rR8kFAs9T5AsCbXAQNT4OEuqTE+y58ebtGcMVymbmb39/fzZ/rwKCk2nJlbFnz4rPlhJtyqOQMyE0UWYTgYlMAsIL7M8GqaINQAQBsNyEwdF9qtYgpv19oIrIB2hK5wej89x53TlN9vtuhNCF2Zdg8BUXPJarkU7G4AceeIAHHnhg1c++9rWvrXvuE088seH1M3aWJIk59f1DXP+KmwgmGky2hth7LdSCGgOyj1JUpGY1Vj1Xuj5CqYtWtCEEsV5C92volWGoWXQ7BU4VTqJQiAX5zZLzaEst/fP5GAt/38Hx45j79l3cuC4Tshi8u4lqbprUrm5ghFBL2x41yaGJkK6cgbIhMgJM0nOFlxB3b01N7Ig2htpPjjwe62S5FzBMi9iZJ4dBIBu0i714p74OpZeDVwevAbnNKeQyzrJtibavfvWrHDhwACmXZ2CVUoyOjnLgwAFM0+RXf/VXt2sIGZcTQRsiHz8po3AwzOWNcvOqSBdVTsqXtnTZhj/KYNd1DBRextyZzOWqk6w3hxfJ5vDu4Vj9GD8x/2oAQjWCrhSRqYGttq1HGywYIoghXC2V0juOIl9IDRGCf/gH8rfewHymaFvBRjEYsvl7teAfPw66jt7fv+KzpKUI8QmEpGgYiMBAaBHagrLsQo0QAJASJQXSX8151KPPHCRpzGN29xLJmFiEHDndXp5o670OEDB2KEu0nUcWgzPWYvLYEXy7zVDBZiy8nUQJ5s1ZkjjkFnkNErGmok2309LuOH/xZcCxUcJyxtGUj6b3YHk1lPCYtev0F9NG7MICZNor0hhcXZWj9fQgLAv/xElKb3zjRY/rciCLwbubRcdRfSPH0bnUHHIu0qkWQBFj+nnUQgmn9H1EIracGHdJDRTKqoInNk60Wfk8Th3slk2it2mb3QRjU6h8f5oynz8Fw7dvaQwZ21g6ev3116/qiFSr1bj22mu367YZlyt2+rcQijIJPpqxfGE+lOwlIqLJ/JYuG2gu7dDj+txtzI1libZOstYcnp/f2n+jjKuDl2pHuL39SrxEIeO0NCRcaM22vYm2FjmRoyhNIMF20kWmPjSECkMKhSLzE1mi7XzWi8G33XbbJRhRxnYRnEgdR8UqvRLjtsKN27hKp6gt9HsxEkTsogAlL2KxLSAxVncedXQPS+bQ6z5dlkbbU7QKc8ycP1WNAlT3w/j3LnwcVylZDM5Yi5PfexYzX6DHfoHT0d1UewQvOKMIJblWDBOT4C70Sjwfve2RGPqmG6uvR2wUUUjMYB4t1w2JjxXo/Hj2bIWJEGJDQwQhZdqn7SoyRMhi8O4mnHYRpobIr/983JqdxczlmXQSqgWTZlAnF5aQuVT9qTfrAFsu9Y5ESIC/6T5t+XyqSm822gjDxRdViBP85sLvRC3r03YhbFuiba2ml+12m1xuYweOjKsMe5ZQmSQLqnHt3NJRBYPJXupiDiW26B5oGsw5s1xjHEDZEW671bkx73LWm8MZu48fzLzEy4I9tFSECNOJHMn0b0RsY6LNIf172yOHkcLGtdN7GgMDAOSllvVoW4UsBu8e/BMn0IdWL02KWwltfx5PGRhpag1d19BiN02yXajr4ALK0JB+sOJ9R0t30Cuimy4RMe8GxOUm8UzXimPpvQHGsz5F55PF4Iy1OPG9Zxk6eJDmxBzzXh8Dw4LJaJoyXVTDLlzdRa0xt3XbI851yNRCCGIjj+bPoxUKgE7Z7mKkMbbsMJkXJO31n+/1oaFUnXuVkMXg3U00ZaN1WyuM/86nVZsh31VhppU6jjab80ilLRkhmHYLhSK2tq4+d7EpqlVi7irouiQRGo7jYBg+qAKRZuGPNcAsZoYIF0jHV0cPPvggkO5gPPzwwxQKhaXP4jjm6aef5o477uj0bTMud5xZ7LgPlaQPiPKcRFtF9ZCjwKjY+k5WYuo0p8egaw/XlF7B/PgZ8lmvpotiozn8rW9961INLeMSMjJ/imFV5IzWQEYWCohIAIGU2+M6ChCLCA+X/WIvx0Qb2+kCDIRlofX2kPMDpus1lFIbPtDsBjYTg1/5ylfy9NNPX6ohZnSY4NgxCq973Yr3lVIkbYUdNQiFiUgUoXDJ6ybScUm0i+zRRGqIsJqiLZAhkYiomoMU/TZuWEDv8TAny7SaCeWuc/Z5e66H7z2ZGiJsY9L+SiGLwRnr0Z6vMX3yOHf95Cs5Mf0aLCuhprUIDJuD5nV0NUu0DXvN87W2R9Ddub6qsdGF6UygF32k1k2XA2PeckMEkRdE06s7oC5i7NlD66mnOjauS0UWgzNg0XF04+RYa3YGmS8RtRQ9RZP5mTYlCuj59Llaa9ugg9K2nhx3hUOP6tv4wEV0k8BzKFgxCgj6r8EfGYe+4UzRdoF0/Inme99L5f9KKX7wgx8sswI3TZPbb7+d973vfZ2+bcbljj1DO+5dSrSdq2gbTPbi42GzdTVaYuqYfoPZ0OP68u3MnRnNmqJfJBvN4VtvvZVnn332Ug0v4xLQDJrsbVbRhMDXZslHGokliMMQTdfZ7vyWI1oMyz28IL+PY581S9EHBjHmGwTKx202KFSq2zuQK4DNxOB//a//Na9+9asv1RAzOkjcahHNzKxqhJA4QCKwoyahzJGEklhzMYSBFrlERvni72/oGM4qi3oBjubRnR/GtA+DWUAvpQm5H51s8brbzyln6bkOIh/mjsJAFr+zGJyxHicPPwtCUI0m+H7wBvZfp/Gt+dMgBNcYAxTjPFP5lSWLANKPkGFE0oH+bIvERhEQGHENofVgBjNE8TyxitFEmiyQeYHyQYUKYaxtiJA0GkS1GnpPT8fGt9NkMThDJYpwxqF4zUZqMkWrNoux/+VA6jg6Y8fEWoixsOmkOT7K5ILU566wMdU+TGURCH/D4zXDJAo8SrmEFuAO7Mc7cQYODmaJtguk44m2//t//y8A9913H3/0R39EV9fmJIsZVzn2LA2xD5WkybTFXjJCCfrVEDUxc2ElLJpEi20mA4fbSn2MHR+Ff9LBce9CNprDzWYzcyHbZRyvH+fVzduJlUKJUxBoJJZGHIWr9oXqNDZt9oqD+JqL65K6GAuBPjiI8dyzMFhhfmI8S7SxuRjcbDZ3elgZ20SwUGpl7N274rOklSpInKiJWehGRQaJ1kQoA5GEF2eEsIAyNGQQQcKKZiSO7tFtDaKadeTAEAId26hzbCQ6L9G20Ld38gdZoo0sBmesz4lDz9C7dz9jpyMQgu4hxdjJSbrMMr1xFQBbX735udZBI4QlhCTRcphBHc3aSxxA0dM5Xhvnxt79wHLnUb1n9Yd9fWGzIDh+/IpOtGUxOCOqeRAptA2MELx2m9D38chRsnRMXSJcjdgMWUzRaE6AKl5Yp69FQ4SiKm8q0aabFonTJK9J6gQ0ugbwXzwE5Zth5NsXNIbdzrb1aPvLv/zLLMmWcRZnjuloGBHNI4RcKvGqqB4MTOpi7sKvrcc0Qhs3djDObNuf9K4jm8MZixypHeNm53raicIUZxABJJZBEobbaoSwiCPaSCEp63niRBIsmBwag4NYC/2K5ifG1rnC7iObv7sD//jxNOk8NLTis7ilSIhxiChZBiI2EFqIFqWL7U4k2hJDRyiFDFc6jzq6S0l2IZoOZVPiuIJWcYb5ifN+M8wSlIdh4vsXPZ6riWwOZ5xPFIac/v73GOwrc8K5k6GhkBfnpgnNNvusfipBiUjEeHL1RbVmuygpUUZn43ZsFNGCJpolEKJEwbU4co4hgswvHLdOnzZjaAikxD9+dRgiZPN39xJNpgkuvWf9XnztWqo8nQ11qgUTN26TD8rIhdNEGCHDhMS8sA3tAJ+YiNIm+7SZloVAEXsJgdagka8Szc4Ta33QHIdwdYOVjLXp6C/t29/+dp544gm6urp4+9vfvu6xn/3sZzt564zLHXuWuegaRDy+bGHepwYJ8Jey7heEaaDHNhNhxD5vHypKEHqWcLsQNjOHw1UWVBlXN4enXuRfhq+jLRI0YoSXkPToxJGNseBUtJ24OMQqplcvMwu4jsI0U0WbVJDPF7JEG5uPwdkcvnrwjx1HHxhArtIoOW4pfBx8DEp6WnsidbXgOCouznF0gcUFu+ZHJNbynm+LhghVo59K7FOzNcqVEDFyPUGQzuElqgdg6scXPZ4rnSwGZ6zHmRd+SOh7xA2IlcGea3X+/sTzSFNj2Oyjyy6n824tI4S2l6rZOtzuITZKmN4sumwhtColr81466xJkdAEwoJkPedRXUcfHMQ/ceUaImQxOAPS/mwitwnH0bk5hBCc8SQ3DBrM27OYUR6VTw2GdNsBIM5dYD9VAR4uRbW5NhFWLocNtFs2iW7TIk3QeXWdIgrmT8HATRc2ll1KRxNtlUrlrFKpsjk72YxdgjNLK7wdlRxBM8/+YHQnfbRE/aKCfmLqmGGbad/nupyFe6xG4aYtNH/MWGIzczh7QNh9nJo8TTc/zazRxiJdVHumQeyEWNrF93naEKFwhM2g1sMs4DgJlapEFovIUom81KiNZ4m2zcbgbA5fPfhHj2LsWctxVNEOGvjKoCokMaAboIUuShodWWwnZvoYKbwAupYn3V3NJyah2xqiFNiMRgaD+wTitGRyLOHAtefs0lcPwsmvXfyArnCyGJyxHicOfZdCV4XR2WsYqNSY9crM61P0az1oUlIJS8yba5cl6m2XuNB5x0ulmShhYMWzOHIQPTiD6y3vEyfzgri1gSHC8PBSOfyVSBaDMwDCSRu9J7ex4+jcLGaxhBMqeooW7UaTAn3oC4k13bZRKBLrwjfFPOFsOtGmm6k3uevYCNPBD4YRho4/HVAEmDuWJdq2SEcTbX/5l3+56j9nZGDP4MfdKGVjmOnDuKksipSZYeKiLp2YBua8Tcvsx43aNJ47kyXaLpDNzOFms8lf//Vf79SQMi4DyjPpw0JgNjB9HZEoIlOCo3akdBTAFW2G5TA/YgzXPXtPfWCAnB8yP35mR8ZxObPZGJzN4asH/9hRCne+ZsX7SinipqLpzxEKE6kSQhGgawbS7YzjKACaQEmJ9IOVnwlwdZeewh5M5zlUsUIhr+NrDj8+CQeuPWch2n0N/GAKnBoUrtz+TBdLFoMz1kIpxbFnvkOx1EejmWfftSH/a+okiR5yXWEPZmyQSyxs3Vn9AlGCdAOC3u0pZ4yNAmY0hzRuIA4gF4TUXZtqvghsMtG2Zw/OM89sy/h2giwGZwCE4230oeKGx7XmZiBXggR6iybHxj3yIkHm0mduvdlMHUf1i0i04VClDxQbbq4JIUHq+J6LUQqQdhf6YD/e6BwM56F25SbBLxXbVl/nui6Oc/bH/vTp03ziE5/gK1/5ynbdMuNyxp4liruI8ZFG+oNRVb0AtMXFNQVNTB0jchCiyKx/huhoC6XWlqdnbI615vBTV4H9esbmaQUtbm4eJFIK9HGSOLWqDxbEKFLfmUSbQ5su0YWheTjO2Yd1fWAAq9GkPjVJksTrXGF3kcXgq5+43SaanFrVCEF5QAR2WCfSTOIQIuFiahYyclHy4vuzLZKYGpofrfqZrXn0mEOIVgMAPSpQK4wzevq8udp9MP3fqR91bFxXOlkMzjiX2ZFTtGZnsFt99Fln8PMlRpPTlClT1gpUwhKwthGCYfsIOmyEcA6xXkTGHpqRILQiBc/kh9Onlj6XBUjs1JFxLYw9e4impogXeq9eyWQxeHeSBDHRnLdhfzZIE22+nsfSJXlDA1cuGCGkGO02ykxI5IVvjLnCRUMjT2FTxwvdJPJc8laIQCPccw3esRHo2gtzWaJtq2xbou1tb3sbTz75JAD1ep3Xvva1fOxjH+Ntb3sbf/Inf7Kla33yk5/k4MGD5HI57rrrLr773e9u6ry//du/RQjBL/zCL2x1+BkdJmg7gESJZKl0tKJ68HCIxMVJqBPLQA9tECaz/gTCg3DiInq+ZQBrz+F/+S//5SUeWcZOcqJxghvdg9iJwmIC4nSBHsn0YVnugOsogC1Sx+KKaeDaZ9Uz+sAAZqNJHIW0Zmd2ZCxXAuvF4D//8z+/xKPL6AT+0aMAGPv2rfgsbqbz044aGFaBONBIpIemQHbIcXSRxDCQ/upxPDVEqCDaHgUNWg545Xn82QJRdM6Cu2sPSB1mXuzYuK50shiccS7Hnv0OmmESJHvZO2TzjxMjhKbDywrp/O8KyoQiJJCrz0Wt7aKEIMltU6LNKKAQ6KKFEFUKvsnJ+lmlucgLUJDY6yfaAIITV74hQhaDdyfRVJpc1XrXT7QpldCer9FUOXqKJl7SJucVIXd2fuhtF0xQ8sI3tD3S8Wy2fFQzTUQckDfTzbB6zxD+6ARJYRhmj17wOHYr25ZoO3ToEG94wxsA+MxnPsPQ0BCnT5/mySef5I//+I83fZ1Pf/rTPPjgg3zwgx/k0KFD3H777bzlLW9henp63fNOnTrF+973vqUxZFxCApuWX0Il6UJ5UQHTlVRxxMXvWilDR6gYIVzm4jqJSPCOzF/0dXc7a83hRx999BKPLGMn+cHUEfaH/bREghHUITRQCCKVLDgI70yiLSTAUx4VPY9zzoO6PjBAPkjVNFmftrOsF4P/9E//9BKPLqMT+MeOgZTowyt7tMWtBEWCm7gUchYiNlFaiBalapdOJtqUqSG9VUpHAVt3EAiq5iDdsUfN9jF6bUSiMTl2zoJb6tC1L0u0nUMWgzPO5dh3v41uDFDVp9AGBnkpOEZeFejV0xLsSlhK1WxrlIdptkuS60xvxlURkkSzMNUcQlYwIo15e3LpY1lIbxyvY4igLyTa/GNXvnImi8G7k3DCBgF69/qJNrteJ4ljpkON3pLFnDNNPupCy6XP1NLzEVFCYgDiwtM1ESERIYXN9mkzLLQ4wJDpM8RsvhviBN+twuyRCx7HbmXbEm2O41Aup/9Rv/KVr/D2t78dKSWve93rOH369Kav8/GPf5x3v/vd3Hfffdxyyy08+uijFAoFHn/88TXPieOYX/7lX+b3f//3ue666za8h+/7NJvNZa+MDuLM0U76UUmaVNN0A6kkRcrYdEAeLkAZEj1pk0iTNnW8F2sXf91dzlpz+Cd+4icu8cgydpIfnjlKt8rhmBEiCSGQJJZOHIVITWeDXq+dQ0CLFr16CS/QlspP9J4eTAVSyqxP2zmsF4NHR0cv8egyOkFw7Bj64ADSXKlQiZsKX7gEGJQMC5RE6DEiThNt6iJKUc4nMXS01Xq0cdYQoSe3h3LQpuYE9FcNfM3hxMnzlDeVfTDzUsfGdaWTxeCMRZoz00yfOkEU72VPeZR/rNUJzTY3Fg6kDdcVVILymmWjAHrL3bay0UVivUQungKR9oHT/RZhlCpjhAHo6yfapGWh9/fjHz+2rePcCbIYvDsJJtpoVQuhr59iac+lZiG1xKS3aNJo1BBKYBRSMYreStfHyrrIzewl59HSpg63cjkEitANCLQms1oBhMCb18GZTfuoZmyabUu03XDDDXzuc59jdHSUL3/5y/zsnGe+nwABAABJREFUz/4sANPT03R1ba4RZxAEPPfcc9xzzz1L70kpueeee/j2t7+95nkf+tCHGBgY4Nd+7dc2dZ9HHnmESqWy9Nq/f/+mzsvYJPYsrbgPFZ9VtJVUBYnsiKIN0h11I7TRKDNtjxCMtEi81XvGZGyOtebwzExWnrebCM7YCCEIrVR+LoO0XDtNtO2Mmm0RR7QZ0LpRSPxg4WFd0zD6+ihoeqZoO4f1YvDiw3/GlY135OhSqdX5xE2FHTUJMMgvlJ3oBsh40XG0cxnyxNQRUYIIV+mRKNLy0d7iPiy3TRQn9GjdzBbPcPyEv/zY6v5M0XYOWQzOWOTYM99GCEnOLFMeLPAD/wh5VWTAqAKQj3MYSl/bCCFRaI5Pku+cknXV2xgFpArQTAnSpBAIXpxJDc+EEMiCIFkn0Qapqu1qULRlMXh3Eo61N9efrTaHkBq+sOgtmvgtD1CIhSlqtNooKYjNi98U84RLYZOJNmPB4bRtOyRaG9vPYwz04k0tbKbNXflJ8J1k2xJtDz/8MO973/s4ePAgd911F3fffTeQZvVf9apXbeoas7OzxHHM4ODgsvcHBweZnJxc9ZxvfvOb/MVf/AWPPfbYpsf60EMP0Wg0ll7ZTkOHceaYTQYQ8RxSCYSQdKkKCQkuazwUbJHENMkFDrrqYrp9GhKFf7zekWvvVtaaw3//939/iUeWsZMMz3aRKEVizaCEhnSjNNEWBjtmhLBIIBxMYVLWDNxzfjq0vj5yYUQtU7QtsV4Mvu222y7x6DI6gX/kCMa+lRuDi46jDW+OQBgIFaNQ6LqGFvnEsrOqFmWkC4H1+rT1GEPQrAMQeSbN8hT2TA7fO2fRXdkP9ky2Y75AFoMzFnnx299EaAMMmaf4x0Qn1B1enl9QswHVIE3ctNdQtOltD6EU8XYn2rQcSkgMYSNlF3nf5KW5kaXPZf5s/8i1MPbsITh25S/msxi8+1CJIpyw0XrzGx7bmptB5UpYhkbeFGBrqRHCQmZGb7VRFtABh3AfhwKl1Hl0AzTdQAGe6yANl8gvYezpxzs9B4hMdb5Fti3R9ku/9EuMjIzw7LPP8qUvfWnp/Z/5mZ/hD//wD7flnq1Wi3e84x089thj9PX1bfo8y7Lo6upa9sroIPYsc0k/IqqjLdSZl1QXLjaIzriDxpaJ6dkg83ixDUWZ9Wm7SNaawz/90z996QaVsaP4sc919hB2ojCZIDbKSDcgtgySMEBqO5toc0UbpRQ9Rg7XPes8agwMYLbaWaLtHNaLwY888sglHFlGJ4jm54nn5lZ1HE1cIIaWP0uiW8RhQiwcLM1MFW1aZxNtyUJpy1qJNlt3KckyepBQJGbOCbB6095tYyPnJtoWTB2yhstAFoMzUuz6PBNHXkRoe+nvaXHYO0khLjNgVZeOqQRlXM0jlqs7b+u2i0IQb5MRwhICYj2PoeaBCrnAZNIeX/pYFgRxW6HU+oYI4dgYidOZjfhLRRaDdx/RnIsKE/QNjBAgLR31tFxaNhrMUfC7EOecZjRtlJGQiIt/zvYWnEdzm3AeFVIiNIPQczEsDy2oYuwZxD81jioOZarzLbJtiTaAoaEhXvWqVyHl2du89rWv5aabbtrU+X19fWiaxtTU1LL3p6amGBoaWnH88ePHOXXqFD//8z+Pruvous6TTz7J5z//eXRd5/jxK1+KfEXizNJIBiFpocn0gbykKriic0E0MXX0wAOR7iIEpRDvxdq6wTxjY1abw3feeeclHFHGTnKyfoprwgFaJOj+HJFeRPMCYksnSeIdV7QlIqGpGvQYOk77bNmZ3tdHzvGw52sE3to9anYba8XgG2+8cUvXyZy/Lz+WHEdXS7Q10yS0HdUxrAJhIIk1D01oiDjoeKJNaRpKCLS1DBG0dE52m4P0JC6zLZ/hapG2WefkiXOSc10LZbBzWaJtkSwGZxx7Jm2V020Kvl/IE2oeL8svV7JWw/X7s2ktlySvb/OqLyXRi1jJNELrQiiIvVmiJE0AyoKAGJJ1Hv8Xf9P8Eye3f7DbTKdicMaVQThuA6D3bU7RVk9MeksWs84ExbCCXlhQhwcBmueBEXekn6pH+tuw2T5tQjeIA5+CFSIxaPUNosIIPxzMFG1bZNtWSbZt8x//43/kqaeeYnp6miRJln1+YhPWzaZpcuedd/LUU08tPagnScJTTz3FAw88sOL4m266iR/84AfL3vu93/s9Wq0Wf/RHf5T1XrtU2LN40a2oxEY3DIQSFCgxz2zHbpFYBgJFIgMSqdMWDcyGRjTjYgxsnMHPWMlac/j8uZxx9fLs6Iu8QXVz3AiwgiaRNoBQdQI9LVfZaUUbQEPV6dYHmG75QBFIS0cXnUfnx8cYvO6GHR/X5cZ6MXgrc3jR+fvRRx/lrrvu4hOf+ARvectbeOmllxgYGFjzvMz5e3vxjx4FXcdYZdMxbiqUSPBih3y+gLJ1lB6gxWohTnZY1SLSza61Em2e5hOLmJ78Xkr+JON2mdfk+3mmOMKJEzfxMyyUs+k5KA1mirYFshicAfCjr38doQ0wUBjnb6MGuaTMYL6y9LlMJKWwwEhxYs1rpEYI21s2ukisF8gxg5Dps3cuDhidb3NtbwWZT58dklaCVly9x+ti38ng+DHyt75iR8a8HXQqBmdcOQRjbWTJQObWfzaOoxC72aCZ72NvyWKqWSev+pG5BZOv5kL/cjPpSKItJCAmoqBKzDG94fGaYaK5LnkzwgPGcmWGhcBrlsjNvHDR49lNbNsq6dd//df5h3/4B97xjncwPDy81Edgqzz44IP86q/+Kq95zWt47Wtfyyc+8Qls2+a+++4D4J3vfCd79+7lkUceIZfLceutty47v1qtAqx4P2PnSNpzJFGVWHhIo4siZSQSV9idu4eZ/ilr2EQyx6x9hh6tF++lWpZou0DWmsOe5/H+97//Eo8uYycYOTaGJnoIcj65MEFF6QI9XHg+3mlFG0BTtdivXYNvn31Q1bq6yC9s1dcmskQbrB+DtzKHz3X+Bnj00Uf5whe+wOOPP77mNc51/v7GN75BvV6/6O+TsRz/6FGM4WHEKnMwbioC6RGjUczlUS0zdRyN0kRYonV+wZ2YOtJbvXQUkaraegv7MJ2jxPkhZGDR7hohOH0bjbqiUl34++zamynaFshicIbTbDBx9Mfo5iuZ6Z/Gx+NG/Zplx1TCEhJJewMjhLBa3IERkypmpcQQPrFWIB84vDAzyrW9lbTRu5b+Rhkr9wgAkPk8Wm/vFW+I0KkYnHHlEJ5pbUrN1q7NgVI4Wp6egsHImA+opdJRo9lG6RKlQ9IJh/Al59HNmXAYpkXYbiBJSIiYcjUODPbizgqquTPgt8DKDD02w7atkv73//7ffOELX+D1r3/9RV3n3nvvZWZmhocffpjJyUnuuOMOvvSlLy0ZJIyMjCyT5GZcftjzLqiYRCRopklJpT3wvA4ZIQCgSZQUWLFDRInpmXFe8bLX4700T/kN+zp3n13EWnO42WxmDwi7hPxojFKKxKpBKCBMQ0ZEmuSScucTbY5IXVCN+BwJvJRYvb2YUmM+69MGrB+DNzuHF52/H3rooaX3tur8/Y1vfGPD+/i+j++fLQVuNpsbnrPb8Y8cXbVsFCBqKOy4SSBMeqSGDWiGQos9lNBAdP6ZSZkG0l1d0QapIUK3MQBTDehRzLYDyn0R6nTC6MmEyqsWsvdde7MeMAt0MgZ/8pOf5D/9p//E5OQkt99+O//5P/9nXvva16567Gc/+1k+8pGPcOzYMcIw5GUvexm//du/zTve8Y4L/i4ZF8bRp78FStGXi/kGDkZYYH9397JjqkEXkYhxNW/VaywaISSFnVG0AcR6ESOq44sucl6T0eYYcOuS8+iGhgh79+Jf4YYInYjBGVcOSimC8Tb5V2zcI749N5f+Q75EItvkvCKJGcNCeyW90STO6Sghl967WLbiPGrmLFwUjusR6Q3qtoG5dxB3dAb2kZaP7ntNR8Z1tbNtGaru7m56eno6cq0HHniA06dP4/s+Tz/9NHfdddfSZ1/72td44okn1jz3iSee4HOf+1xHxpFxYbQaESpJZbDCMCmqMh4uieisdFoZklzQQlIiaDQw9xbxTzZIgtWbw2asTyfncMaVyZ5GF04CuhgnNopoboiSgiiJkJrOBQqVL4pYCwlUSJfWhUrOPqzrPT3k4oTa+NjOD+oypBPzd6ecvx955BEqlcrSK2vzsD5KqVTRtm/lJpJKFElbUfdqRBiw0BtJ1wUycjtfNrpAYmpofrCmq5mtuxRFCT2RdMuY6bbPtV191AqTHDl+NslK1x6on14a926mUzF4sfz7gx/8IIcOHeL222/nLW95C9PTq5cQ9fT08Lu/+7t8+9vf5vnnn+e+++7jvvvu48tf/vJFjyVja/zw/34NoQ1g9DrUaTMgB9C05YG3GpSxdQfWiMd6y0UJQWxtsxHCOcRGHjOeBcrkQp1GMLnUM1kWNuc86h+7spWt2TP07iKueSgvRu/b2AihOTdLIg0qpQKz3gRlvxtZOJuSMRstlCVRHdzM9nAobtJ5VDfTpLzTdlBGG88pYu4fwj8zS5JImPpRx8Z1tbNtibZ//+//PQ8//DDOFe4ak3HxNJoSlbQAkLncQqKt838XialhBTZC5iGJiatArPBPNDp+r91ANod3N3ESc9DvpalirGCKyOxCc33inEkchUi9A3L2C8CSOvNJnV49j+efk2jr78dy3EzRtsClmL8X6vz90EMP0Wg0ll6jo6PbOMorn2hqiqTVWjXRlrQVJNBwp0l0iyCIiIWPpVvb4ji6dF/TQMQJIlw9Qeboi4YIQ/TENtMtj2vyg8wWR5kcESSLSfOuPRAH0Mj+Bjo1h88t/77lllt49NFHKRQKPP7446se/9M//dP84i/+IjfffDPXX389733ve7ntttv45je/eVHjyNgadn2eyeM/xtAH+X7JRsYG1xT6lx+kUkVba62yUUBrOSR5c0eMEBZJtCKmaCC0tLzMSlpMtVLFnSwI4tYGzqN79xKeGSNxr1xzo+wZencRjKWCEr1/43ZF7doMjszRs2CEkA8qyNxC72PXQ4YhylSdKRtdIHUe1cmxcWmrZhgowHMddMtB+j1Y+4chTvCDYZjO+rRtlm2r+/nYxz7G8ePHGRwc5ODBgxjG8j+WQ4cObdetMy4zmo5FksyBAmmZlOIuamLjZoxbJTEN9KYNpfRHxA7qGGUD/8g8+ZuyXaWtstYcjuNMabAbOFUbYSgpc0T6FPwGbn4A03FILIM4DJBaZ+TsW0UKqKka1xk9zDR98vl0vms9PeRcn8nxMZRSF9wX9GphvRi82Tl8Mc7fiyw2fdZ1nZdeeonrr79+xXmWZWFZO1fWdKWz6DhqrpJoW1SKtPxZ9OIQgQ+xdNGEjox9Qn1zpSNbZalPqhcQmSsf5D0ZEImY3tI+prxR2rJCEgtETws1ozM9qRjaI9LSUYC549B9cFvGeqXQiRh8oeXfiyil+Pu//3teeukl/uAP/mDN47Ly785z5Dv/CEBPWeNbcY1y1E/pvCbrpaiAoXTaxto9j42WQ1zYWGXTSZSmI6RC0wxiIB8lHJudZahrP7IoIEk3BbTy6nHa2LsXlCI4eZLcLbfs6Ng7RSdi8CJbKf0+l7/927/lX/yLf8Hb3va2rLprm1kyQshvnFqpTaWJtj1Fi6MzLQQCmU9jt9lY+O00I+hgP9VFgUtRlfHE+glsISRCMwh8l2ouwK+XaHZVELqG2+winynaNs22JdoWXUIzdjmRTy2souJZdAWmyGFi4YrtULSZiLBNbAC+oDU3y+Ce/XjH6x2/125grTns+z7PP//8zg4mY8d5/gcv8ROiiKv7FIkJzSolp0acN4lDB6uwPQv2zVBLZrlZfzlRzYPBdFGvLziPhoGPPV+j1NN7ycZ3ObBeDN7sHM6cvy9P/CNHEbkcWu/Kv/G4qVB6QqQCcvkCytNRWhsRK4RKtlXRBiA9H7pW2TEX4GguPbm96K0fQWEv002fPf0W4dGAkyd1hvZYUOwHqUPtBPAz2zLWK4VOxOD1yr9ffHHtXniNRoO9e/fi+z6apvFf/+t/5c1vfvOaxz/yyCP8/u///qbGlLE5nv/S3yG0IRr9IQrFXqt/xTHdfoWEZE0jBBHGaG6A31tZ9fPtJDbyGHGLUBawAoeT82P8FPuRhTS5FjcV2hr91BedR/1jx67YRFsnYjBkzt9XCuHo5owQIFW0uVo/+ZyH4VggzjFCqDeJLQuBQyI6Z2ASEhARUlTlTTmPCt1EBR7lfIwPnGxGHNg7iDsbwdQPQCkuSf+YK4xtS7R98IMf3K5LZ1xJ2LPUkgGIj6IrSWnB8cTdhtLROGciEAgZEkuTqckJ9t1yE/5L88StAK28c/0prgbWmsPNZpNHHnlkS9fKduOuPNpH50lUAaw6KtSIzRKa6+NXCiR+dMlKRwGapDt+0j47Bq1aJbegnqqNj+36RNt6MXgrczhz/r788I+mRghiFSOoqJEQLjRFzxeKxO08It9AixccR+U2KQc1QaJLNHcN51EWDRH6iZsNCnsEk02Pm/YPc7gwxgvH+7n79Vba+Lk8nCradjmdjMFbpVwuc/jwYdrtNk899RQPPvgg1113HT/90z+96vEPPfQQDz744LIxZon1C6c5M83sxBhW7g4Oa6cwghKD3SsX3T1BF23dQYnVyzD1VqpcSYo7rxiO9SIWNRxRIu+3OOOmfT2Fkb7i1tqlo0vOo0evXEOETsXgzPn78kclimCsTf6VG7fMCFyX2HeJq0Va8SRlvxfyLPVYNOpN4mIOqVqoTvZUFamqbdGQcCN000RzbCw9IiFivKG4Yf8w7o9fhFvmoTWRtnrIWJdtrdiv1+v8+Z//OQ899BC1Wg1IS0bHxrJm1bsGZxY7HoC4hY6kqLqIiQlY3R3pYlALO+qm8hCywNTUKMZwqrrJ+rRdGKvN4cOHD2/pGlttxLxItht3aeme0mgnkJMTRGYZYoUMIgJjoY+EfmlKRyE1TWzHPmZ4zsJDSorlCgKYn8hiDKwdg8fHxzd9jXvvvZePfvSjPPzww9xxxx0cPnx4hfP3xMTEtow/Y3W8l15a03E0riuaUZNIGOQ1DYFAN0j7syFQ2vY5BSvTRLr+mp/bukuREqaw6MdnsulRNYp4XXM4UzniaGHhXR5eULRlXGwM3mr59yJSSm644QbuuOMOfvu3f5tf+qVfWjcxYFkWXV1dy14ZF84L/+tTgEZpoEKTFt10Y+rnLdkUdAcV2sbaG9d6y0Vpcqm0eydJ9DwGDYQoY4UaAXO0vPCs82hjE86jx6/cRBtcfAxeLP2+5557lt7bqvP3ZvB9n2azueyVsXmimofy400p2tq1WQCsYplpd4xK0IdcPC2O0ds2USFNsCUdVqC7wqWo1pCRnodh5tDiEDdICPV55psW1jXDhDWbyJUw+cOOju1qZdt+eZ9//nnuueceKpUKp06d4t3vfjc9PT189rOfZWRkhCeffHK7bp1xGaHaM4RRHygHTWqUVFdaJ74NatPESP+cc7FDSBF/fhataKBVLfwTdQq3r5TdZ6zNWnP47/7u77Z0nWw37srkgFuhFSfko9OEhX40J11AhwtR41Iq2ixpUI/bVEQFOPtAaHR3k1Mu8xOZIcJ6Mfj48a2phR544IFVS0Uhdf5ej/VcwTO2jopjghMnyL/qVSs+S3yF8mA+nCPEII5SdZlhSKS3fUYIS/c3NTQ3WPPzJUMEawg/tDkdmThBRKU/RozrjI1HHDhgQHkoa7ZMZ2LwVsu/1yJJkmU92DK2EaX4wT98E6kPM11tICONvdZKhXYpKmAmBk2jveal9JZNVLC25Zl7I5TUkVq68S0isGgxOm9zy3A1TbQ1k3XPN/bswfvRlbuY70QMvpDS70Xn760k5LPS74sjPJMa/un9GyfamrMzAJQqVSabs+yJbkEs9WdrIZRC5SQEdNR1FFJFWx8DSCVJxPrzz8yZOChabRthNQmcbsyb0xjgNLromnwebvzZjo7vamTbFG0PPvgg73rXuzh69Ci53NkmnD/3cz/H17/+9e26bcZlhjc3h0p0EhWgS52S6tqW/mwASFC6wApbCFFE8zziOEIfLOCfynZntspac/hnf3bzP6zZbtyVSdTy6UkK1ESAFttEVnVpAR0uPLDLDj8AbIWcZlBL6pS0ApzTU1jr6SHnh9TGM0XbejH4W9/61iUcWcbFEIyMoHx/XSOEeXuKWMsRBBGJCDENAxn7HXUwW43YMtG8tZMxS4YI5WuwnHRhMtnwuXagTCA9njs6lx5YHob6aUh2t/FOJ2Lw4nUee+wxPvWpT/HCCy9w//33ryj/Ptcs4ZFHHuGrX/0qJ06c4IUXXuBjH/sY/+2//Td+5Vd+pTNfLGNdZr7+VzTcGMPaxw+TFzGDLnpWKf3s2aA/Gwr0prvjRgjLhmDkWRTT5UPBiVpaySCLgqQNKr56nUcvRQzOnL8vDcFYG9llInMbPxfPTE3jC5NiKcZw07+LRUWbUW+idA30BCW0tHyjg7jCRiA3pWrTzfQ3x2nbWDkbPehDlUpo1S7cZg9M/mCDK2TANirannnmGf70T/90xft79+5lcnJyu26bcZkxO14Hle6m6XqOAiXqzG7b/RJDYvgtyB8AwK7VMIeK+C/Nk7jRptxgMlLWmsPDw8Obvka2G3dlMvKjk5hAU9pUgNCqkrNrKASRitB045L2QDWFwVxSQ4jrEXMBaiBV6mi9vVjHXqB2JntIXC8Gn19GlnHlsOg4ulrpaFxPQELbm0HLDxD4gPQQCLTIIzS3t5wvsXRkGCPCGGWsUlq+YIjQmxvmpdlnKfVex0TD5Sf7ejlWnGbk9MJitDwMcQDNcaju3j5fnYjBkJZ/z8zM8PDDDzM5Ockdd9yxovxbntPvz7ZtfvM3f5MzZ86Qz+e56aab+Ku/+ivuvffei/tCGRsTR/zo/3kcIarkh6oEhOwRPWjayoDb61dprdOfTTo+MoqJC5euP3GsFzBp4YocVqAz2hwHbkQWFj5vKfTq+s6j/okT5F/xip0bdIfoRAzOnL+vDIIzLYxNGiHMTEzianksbZqy1wumgoU9MKPeICoWEImP2oaNMRcHhaJEFy3Wb6kkdQOFwHddegZCWnMax2sBfdcM406fgYnDHR/f1ci2Kdosy1pVVXLkyBH6+7MSvt3C7JSNitPJXMr3IZHbp2gDlKGh+QHJQgPJVm0GYzCN6P5IpnLaCmvN4WPHtq9nRrYbd3kw8cIYbpIgjQaxXkJJE831SUydKAqR29jnaTNoQtBknkglJLWziwy9t5dcENKcnVkqm9utrBeDtzK3Mi4v/KNHkeUysrLSRTCqK8gnoGLMXAEiE6WFCBUjVLj9paNWujBYr3zU1l26tQFix6bXEIw33HQjrtuGuSpRlEDXQiJpl/dp62QMfuCBBzh9+jS+7/P0009z1113LX32ta99bVmJ94c//GGOHj2K67rUajW+9a1vZUm2HSJ57kl+NJlH6AcYz59BxiZD+ZVzXShBd9BFa52yUaPlouCSKtpivbDQp61IISjSCKaJk2SZ8+haLDqPBtv4zLmddCIGn1v6vchi6ffdd9+94vhF5+/Dhw8vvd761rfypje9icOHD2cGJduAShThmI3Wu1nH0VkCI08jmqQ7GDjbnw0wGk3CUhEZn13HdnSsIsHDpaQ2diEWQiB0kyhw6SspEmJOziVYB/fiTjgkM6fAy/qfb8S2Jdre+ta38qEPfYgwTBc7QghGRkb4d//u3/HP//k/367bZlxm1GshsUobgJbz6e7pdjiOLpKYBiIUKEOghGRqYhTZZSLyOkFWProl1prDW3EUvpjdOF3X0XWdJ598ks9//vPour5mX4usEXNnMcZC2jGUmSK0qgBojk+SM4hD/5L2Z1tEiZBmFCDtwtJ7Wk8PuTBCqYTG9O5Wba0Xg9/61rde4tFlXCj+0WMY+/YhVpGUxvMJgZaWWeVyebSogNRjtCg1H0q07VUsJAuGRHKd8lFbd8iTJ6cV6U5c3CCm4Ub09kv0xOT5kTkoDaYlM7s80daJGJxxBeG3Gfn8H+HFErNwDS+qI1hBF92rKNIqQQld6TTNdfqzNW2SvAGrqOF2DKmhazZClsgFOhh1Zpo+QhcIa/1Em8zn0fr68K/QRFunYvBWSr8Xnb/PfVWrVcrlMrfeeiumeenUjVcr0ZyLCuJN9WdDKVS7jsiXmLMnyAWl1HEU0FttZBQTFYupedE2tWdxhU052dwaSTNMZOghkAT6LLP1HNbBvRAr3DkzKx/dBNuWaPvYxz5Gu92mv78f13V54xvfyA033EC5XOY//If/sF23zbjMaNiCSM2ix1Aye/FxScT29V1JLBMikHqEkhZj46MIITAGCgSns0TbVlhvDm+WbDfuykOFMYPtPM1EkVOTRFY3ALrtEVs6cRAi9Utfgq3JhGYUYCZVWHhWl/k8BS1d7O/2Pm3rzd8PfOADl3p4GReIv4bjaBIoEhvmwzoKgWYIBBq6IRBxmnzbjlKUZWiCRNeWjFNWw14wROjN7yPntBBCMFF3uWagSCxCnjs2C1KH4gDMn9re8V7mdCIGZ1xBfPu/8MOpPFIrY/SZxCKmd52y0UhE2Nra/cuMhnNJ1WxLmAZSWogkxhBNRho2wOYNEY5emYm2TsXgzPn78iYcS5Pdeu/Gc81pNhAqRi+Z6K4FSiyVURv1BkoI4kIOmYQddxxdxMWmSBdCbZyAN6wceuzT9iKw5gnavRhDfch8DmcuDxPf35YxXk1s22qpUqnw1a9+lX/8x3/k+9//Pu12m1e/+tXLmqJnXP00PQsV1zBjKGjd26pmA4hNC4HAEgGJKNKeS91d9IEC7venUYlCyEu4u3cFsdYcfu1rX0tllbKltXjwwQf51V/9VV7zmtfw2te+lk984hMrduP27t3LI488srQbdy7VahVgxfsZ20Nwpo2GpBmH9GhN7IVEm3R9/N4yKozRLoNEm6np1IM2B0UXwtNR+QiAfLWKJgTzE7s70bZeDM7MQq5MEt8nGBmh9MY3rvgsrqfZ5hlnmlCYWHE6H0xTQ3oeShjsRGPFxDLWLR0NZEggQnpLB5hpPE/38CDjdZebh7twS/O0xhfGWB6C+ZPbPt7LmU7F4IwrgPYM/tf/M0fbrwb9IGP50+hRjoF8adXDe/0qTcNe001UBDGa6+P3X3p1f6wVMGVEBOQCjVO1SV57TR+yIIhqGyTa9u3D+/6VuZjvZAzOnL8vX4IzWzBCmEwrLVQpoDzfA1IhFvJzZr1JVCwgSRWQ27Ux5og2mtIoUqbN+n+HZs7Cq8c0HQ+rIBF2FTeYxzy4B2cuhPHD2zLGq4ltWS0lScITTzzBZz/7WU6dOoUQgmuvvZahoSGUUquWPGRcnXhRBeIGRgwlUWFWbK8RRmKlf9Jm3MKnTNyaB8AYLOAECeGUgzlc3NYxXA1sNIe3wlYbMWdcWrxTdQJimsKhapgoPQdJguaGBAYQgtQufeloThrUVAOlhpFNSbwov692k3frzI+fubQDvIR0cv5mXD4EJ05AHGOsouyNagnoMFebIpYmQZCgiQipgRZ7xNvcn22RJGesq2hDpKq2XmuYcOIf6LnO4GTNIUkUZtVDmxzAjQLypcFdXTqazeFdxjc+xov1XpIE8sUDHFVfwQr66KqujLV6olEJy5wqrr2ZpDdT1djloGiLjQKWdHDQyAUWE/Y4cCuyIFBjoEKFMNY2RGh98Yskto0sXjnP7tn83T0EZ1qbUrMBjI5OoBC4ZoOeYGhJzQZgzNcJu6uIeKHVwzb0aANwsFEoykmVtrZ+om3RebTdatM7pNGYgSPTCdddt5/Gl0+iRp9bK9efsUDHV7dKKd761rfy67/+64yNjfHKV76SV7ziFZw+fZp3vetd/OIv/mKnb5lxmaKShDDqQcQOZa0LA3NbjRAA1ILSxgyaCJFHi2IC101r5wUEmSHChmw0h3/5l395y9fcSiPm83niiSf43Oc+dwHfJONCqB2dYh4fTWstlY1qboBAESwYCUrj0ivaLGkSCAc7dtHqZx9ctZ4eLM/ftaWjWQy+evGPHAFWdxyN5hK0LkHstcHIEQeSRPMRgIzcbTdCWCQxDTTXh3WEKrbu0C37UEFAVU+IE8WM7dPXJ8mHZb5z5lTqPDp/CnbhonQ7YnDGZUxjDJ79C553bkAzhpE9EQkJ3aIbU1u5TOv1qwgEzfWMEJoOiaGjzFXcf3caIdE1FyFLlIIunHgOP4qRxQVDhNY6hggLv3X+iSsn6Z7F4N2DShThuI2+ScfR2akpPC1HM56h6FWW+rNprovmh4SlIlrso4QEuT1zV4kEF5suVd3wWN20UIDr2PTlLTw5z6lZjdx1+1GRwj0yCl62rl6Pjq+WnnjiCb7+9a/z1FNP8aY3vWnZZ3//93/PL/zCL/Dkk0/yzne+s9O3zrjMmJmYREU6QkVU8qmLmIu9vTeVoHSB6TdBvw6A1twMvfsOoPfmCUZacNfw9o7hCmczczjj6kQphTrj0oogL2uEi4k2O91hC0mQUkOKS69ANIROLD0aUUjBLsCCVbnW00Puhx61sd3pPLuZ+fs3f/M3l2h0GReDd+QIWn8/Mr/8oV4limhOoQ8DcYBezCOiHOghggQRB6gFU5PtJs4ZiEQhg5Akt7ry1dZdDAxKejfSbaNLncm6xysGcjSB5081eNPBIfBb4NSg2LsjY79cyGLwLuObf8h0UGV6PkDLHWQ0dxwjKtKfX33x3ut342oegba2s7besImL22t+shWEESNkGStwEUadiYbHNdVUzhM3FXrP6ucZe/aAEPhHj5F/5St3cMQXThaDdw9LRgibTLTZtRkiM0/kNpCJjsinSWZzPk1WRaUillNDbZOabRFHbC7RJqREaAaR52AIndCcpl7vx7gjQuZM7GmTwsT34do3bOt4r2Q6vlr6m7/5G37nd35nxY8LwD/5J/+E97///fz1X/91p2+bcRly8qXTqKQOQFd+iJCQkLV7t3SKxNDQgmCpkeTcdKps0fvzmaJtE2w0h//tv/23Oz+ojB0hmnUxA4kbGuRFnchcSLQ56byNiJHGpS8bBdCEIMGnHsfIpIDw090/vaeHXBDhtpr4zjYn9i9DNhOD//t//++XYGQZF4v/0hHMfSvVbHFTQQye1gJAy2kYcQlNV8g4VaNuVxnK+SRWep/F5Pxq2HqqbO8rHSCq1+guWkw0PHQL/FyLmXHSHm2wK/u0ZTF4F9GahEOf4nn1GjQjj1Uc5DgnMYMylVXcRlHQ51VprKNmE1GC3vaIipe+bHQRZRTQhYaMQqTW5sx8G6EJRG59RZu0LPT+/ivKeTSLwbuHJSOETSbaVLtOktco+WlmWS62PGk0ifM5lKYhY2/b47VNiwKpc/FGaKaFFnm4QYyWr4Hfgx/qWNftx57Ow/ihbR3rlU7HE23PP/88//Sf/tM1P/9n/+yf8f0rtLFlxtaYHp1GxTUAyvnBVM22A8XciakjQoEyFLHUmZwYAVJDhGjGJfGi7R/EFcxGc/jNb37zDo4mYycJTrdQKNqxQDM8EiPdcdYcj8TUiQIfqV36stEltIhGlCYBZWthgV+tkg/TOV7bhX3aNhODf/jDH+7giDI6hX/kCMa+VfqzzSUgYMqZBUAaINAwTIGIUlfCRNsZdYsyNJQU6/Zpi2WCq3n0FvYTzs/TUzSYaftESYJecTDm+rALaZJ/NzqPZjF4F/GdPyHA4oXTHlI7SNLdQiDoUhVyxsrSsWKUJ5dYNI3WmpfUmw5CKeLi5hb/O0GsFzC0GFDkQsmp+jiwSefRvXuWyuavBLIYvHsIzrSR5c0ZIQRBgBnaRPmYit+PsBQsTHFjvkFYXHjejnySbXYIt0X6O1PehKrNtHJosU/TiyiX002yM3MmuRsO4M4aJCef2daxXul0PNFWq9WWmpyvxuDgIPPz852+bcZlSGuqQZzU0BIo5Ppxxc6oSxLThECgaTHIHLPTqe21PpA+dASjaz+gZGw8hwcGBnZwNBk7STDSZFZrEwPkz2bFNccjsUziMEDTLw9FG4AmYyKVEMR1tFY6LmFZ5BcauM7vwj5tm4nB9Xp95waU0RHiep1oehpj374Vn0UzCVpZMFevEQmDZGHdqhugRS5KaLBT5d4iVbVp7jqGCICjufSaQ0T1OtWCgVKK6VZApVfR4wxzqDUDVteuVLRlMXiX4Lfg2b/gReunCIIQJa/lhHkEMyzTs4aJQa/fTUJCy1j7eVpv2CS6tmQOdlkgBJYRA4KiX2baSd0X00Tb+n0YjT178Y8e3YFBdoYsBu8egrEWet/mlKOnRtK1qJdz6Qp7ltxGRRhh2A5xqYhQMUKF295TNcAjJKSiujc81sjl0JKIpu3Sn7fwtBrHpgW5G66BBJxD39vWsV7pdPzJK45jdH3tH3dN04iiTFG0G7CbLrGappTksPTS9vdnWyAxDYjA1Fw0SvjzdQC0ioUwJcGZLNG2HpuZwxlXJ97JOrO0QQQkhbMOX3rbI8hpJEmMdpmUjgLkdI1EBDjRPLJ5dlxWdzeW1HalIUIWg69OvEUjhPMSbUql/dlkRdBqNgiFSRKAEiFCKmTsLrVR2CmSnLFu6ShAW3epiG5ErMiHHqamMdVw6e2VSDSePz2blo/uQkVbFoN3CYf/fyjf4ftjFoXyMFYxz5gYw1irbBTo86u0DJtErGMgULeJS7kdqSDZCtKMQRQoeVV85mj7Yeo86qXOo2th7N1LNDVF3Loynt2zGLw7UIkiHGtvumx0ZCRVcTa0BpZfWjJCMOqL/dkKaNGC4+h2x2yRlo9W1BrNEc9Bt9KMYLvVomoUcYwxZmol9IEetJKFfbwJ9tz2jvcKpuPbHUop3vWud2FZq5cp+P76u5wZVw+uB0lco89Id3Z2TtGmIxCYSRufMsqeRCUJQkr0vkKmaNuAjeawbe++vle7gcQJiWc86iJCyiZRrrr0meb42L0FiEBql0+izRQ6nvCoRzHV0ET4GsqK0SpV8s48tfHdZ4iQxeCrE/+lI6DrGMPLzXySlkIFoHUJfLsJeg4VmigtLanWIpdE39leTXHOwJpyUufRNbZzbd1BIqmYAwuqti4mmz537ItJZMT4WATdg1DbfYq2LAbvApIEnn6UyepPMv3CHGbpp4i6ZtCFQTEpU1xFjSaVpNuvMFaYWvu6UYLedvGHN15A7ziGiSYV+dBHGPNMNFyuK5SBBUOE3tUzg4ubC/6xYxRe9aodG+6FksXg3UE066KCBL2/sKnjZ6emUEKHMEEogcwtGCE0miS6TmxZGF66Pt1uMwRIy0eH1F6EEqh1Eve6mY7FtW2EEIjcHP8ve38eJVl21/ein73PHGNGzlWVWVN3V4/qQVNLgIQftIXhYuNreBZaxuK1ba4ND69ra717Qe89hNfj3SuB++lq2ciI2yAksABZE8hIarWQupHUU/VU8zzlnJEZ83TijPv9ETV2VWZldVflVOezViytOrEj4het3HH2/u3f7/uNam/D9SrYd4zROtdiZPZ1uOuxWx7zRuSmJ9p++Zd/+bpjEsfRzU8UKyLfRIZNCtY9RCrEY/kT7puFOl9xY4R1hBxHhNCuVcj0D6IPOXhn6qsSx0blenM4lVrZTSVhY+GdT0C3Q42C1iQyMr0nohjZ9fH184m2ZU5qVxtTmrRll8VIZwcK2TSJLBetvx+rNEdl+vZLtK3kHvyhD30oMSXaYHgnjmOOjSHeUM0UlhUIEOkYgg5kcxhhFmFFCBQi8ojN3KrGGtkmIo6Rnk/sXHvD0NG7xCgGMtuZqZYojA1yotgkVDFxtkVYyhCOj6BPPLeqsa8HknvwbcDZZ6Fyhn3iUSynSqRGOWF+H8vP0peyrlmMVvByaMhl9dmMZk+fLcysH322C8S6jSZDorCLlG0mK03uHDyfaGsq9CXMhY0tW0BKvJMnN0SiLbkH3x5c6I5aueNoCd0ySAdpQF1sHTXqDcJM7zddRi5KGiBufTlqWzTQ1A4yKk9T1JYcJ4REGhYicHG9mHSmDTWYK9uM3ns37f2nCY78ACNJtF2Tm75j+pM/+ZOb/ZYJG5CZqov0IEaRt4bpqtUxQgCIzd5GxPDqIO4GoL5YvJhoc/cvEtU9tPz6sT5fT1xvDjcajWSBsAnxzzVw9QCtk0NLVYHeKkDreAjAlwopNaRcJa2nFWCiEeLiqhEUFbSGQzToohUK2B2Xqfk54jhCytun1Wol9+BkDm88ukePXVufrRwj04J2p7folybonTSa2URGXs9xdJWMEC5w0Xm04y2ZaFNC4Woug6ltnKudpHB3T6et1PJx+kwG53Zw0jnDvc15CD3Qb5/7dXIPvg14+Y9xM3dw/LU5sv334cuQqlYm19pJ39C1q8YHvD486eNqS1dE6dV1qM92GYYu8YMIMzKZrM8g5DaEw7I6bcI00UdG8E5uDOfR5B58exBMt9DyJtJa2fpStaqEjiAb9CMsLlZ7G/UG7mhPd1MLu0SrJPXQoU1ERJ/qp0lt2bGGZaO7XerdgEHbpqiVmChp7LxrBwDt55+n7+dWIegNyPrZMSVsKk7ONyDoLQYyqVE6srN6Hy4FSpfovk+s6cRCMD83AYA+dN4QYXppa/SEhNsR71yDGaOMEdsI+9Ki94J7YECENFZX6+m6CEALQNmE/gSyYYECvb8fxw+Jo5D6wjJtNgkJGwAVRXgnT2KMX8NxtBSj5QTlas/hW2gCEBjG6juOXkAZGkqT6K3lq9jbuku/PkJYr5M2NHRNUmx06R+QZPw+Xvc0QEFtcnUCT0hYDZpFOP4tDqtHUErhujupZmZJkcLCIedcO0k26BVoGK1lD62Nemtd6rNdwLB7286cO0ipW0ShVug8um1DOY8mbH68qcaKq9nqro/jN/GsiKxfuFjNprXaiCgmTPc0kWXYXZW2UQCEorNCnTbDttHjLrW2x6CVo63PMl+x0TIpzEGH9qFJUMubmtyuJIm2hFvCmYk6RBV0aWHZ/aumz3aB2NAQoQAtJNZMSsVpAGTaQKb0xBAhIeEyVBQTTDWZFgu9C86lEzq97aIQBFGApq2/U3JN64kKe/48MtQQXR2trw/bDwCozEyvZXgJCW8Zf2IC5XmY27dfcT12FbHb02dbLFcI0VGql5wSRrT6jqMXEL32Ua3tLjusrbtkRA5d6UTNJoWUSbHRJVOIADhZOb8buQ112hI2Mfv/HCU09p/pUhgaI8bmuHEU089TcAzENbJkVmSSCVPUjaUPiUUQobe6hJnV1WS8EaRjgjDJdbOEWoV6J0A6gqh5HefRbRvLeTRhc6PCmGC2jT68sjb+M9OLGCqgbbaxvQycP/sy6w0UgijlIIiRsbeqB2Mt0aBP9SPU8pl53XIQSlFvNrGlQWQt4nczdD2JvXsr7WmFqk6sUtQbiyTRlnBLWJxaJI5K9JujCCHorHaizTLBl2i6DzJFq1QCQAiBPugkibaEhMsIZtuoMGaB3iJeXbZQ19oeka0R+R5yHTmOXkDXeifhrbCJIkZrmAjLwnJSaFJSmbn9dNoSNhfesWMAGG9ItIWV3t++zAnqtQqBMCEwiKWP4ILj6Nq0XMa2id5eXvS7pXcQCPqtUcJalULKYLHlIayQyPCoLjogjdvSeTRhk6IUvP5fmcq8l1qlDvodkOkQ6F1oZ+jLLOE22u1DoXoVbUugN9avPttFpESTNqYPUq8yU+0g0z3n0dhfOtlmjo0RVSqE5cTdMGHt8WdbECn0kZUl2qameo6jXREjlLxY0abXm8QpC6VJtOBCBfrqJcpbooGOQUYtr+Nq2L2Yuu0OYQypdG9PX6za2PffS+RpeM9985bHuxFJEm0JtwS3uEAcLTJkDhPHEV2WP9m+2cSGhggEhnTRyBLW2kDvJt5LtLVQSZlrQgIA3kQDJaEdCYTsgHGpck3vdPFtE6ViNH39JdpsTRKLgIbIEGs1tEYvsWAUCqSlTjlJtCVscLrHjqP196NlMldcD8s9QWVpCrrtBpFuokVphNGr5tTCzpol2iLHRLo+REu3hHU1j1BEDGR2ENRqFFImcawotz1EtoNVG6SeG4VqUtGWsEmYfgXKpzhQHSaTz9GoDzDrnKGPAobUydvXrhof8Aq09Q6RjJZ8a7PWIjZ0lLH+Ks8vR9MNiFyE8DhbLSNTvWqa5XTaLjqPJlVtCesAf7IJmkDvX1lSrDRfRCHQ6SW05PnbslFvEKR6baMi6nWPrFrrKNChdV6nbQknkvNITUfoBnrYoe769DsGvmwwVzWx7rwToSla3392dYLeYCSJtoRbQtQsoeIaA8YoXtiAZayDbwWxaUAIpmihk0dEMZ16z21UH3JQbkhUWR0X1ISE9Y53rk490yUd5NH0K+eF1uriWb1bhbYOK9pMaRAKlzr9xGoW2TQhptc+GoSUpxJ9p4SNTffIkauq2aBX0aZlBWEYovwOWBIzyqHpCkHccxxdJWHlNxI5JgK1fFWbgLbmMuhsI6hWyToGmhQsND0yhYih9jiHMgWonFm9wBMSbiX7/wLXGuHk6QXyA7tAwLR9FtnJUkgZiGu4DQrVM0JYrm0UwKi217U+2wV00wDl4wR5phrTSAcQEC+TaNNHRkDXN4whQsLmxp/o6bMJbWVplHalRGAapII86AoMIIzQWy5RuleBqoWd846jtzDwN6CEok3zuok2ANNyMKIulbbPoJmjo88zU9EQuoY9YtM+kMzNa5Ek2hJuOrWOT8qtI1DkzRHcaPXbNGNTRygwoiqIXhVArTgPgD7UK/VN2kcTEkAphT/RYNJcJN/NI83giuf1dhfP6N35pbb+Em0GOpHs0iVL7B1HxBLZNNEKBaxWm8rsVFK9mrCh6R49epU+m4oUUU0hs4JWowaAMARSmRgmaIGLYHXbUC4ntszeCf71dNqMTs8QoVGHKCLvGBTrXfr6BU6Y4RAjiUZbwuYg9OHQVzgm3oFSim53O16mSso0iTyLwcy1q09zQRZD6dSNpdes0gvROl2C9dw2eh7d6X3PfneIelAkFgrpsKwhgtC0xBAhYV2glMI718BYYdtoEMWIdpXAhlw4gDh/9mU0mggUUbr3PjJsr8n9uiXqK9Nps230sEu56dGnp3GNIs1mhigGa8cQ7lSHuLOKxocbhCTRlnDTOb3YwvRddGHiWP24qrHqMajzlTdG0ARhEgkoz/VayKSjI3Mm/lTiPJqQEFU94mbACXkCJyggL7vPCz9EhBG+jNF0k2sctq85QoCSPooMyj2N0iO0uo3W34/T7OC7Lq1KouuSsDEJFxeJyuWrEm1RTYECLSepnnccRern/ye6rA1lbVpHkRA7Olpr+URbS+9gY5PSsoSNBv0pk4WWh53vJfwn2yO91tF4eVfChOX59Kc/zc6dO7Ftm0cffZS9e/cuOfbJJ5/kfe97H4VCgUKhwGOPPbbs+IQVcuo70K1xaFZnaMtWGg2bCfsk6bCAbUgyS7SNDnYLBCKkrS89l/R6TzMpyq5fI4QLaIYEYZD1bDAqLNY9ZEoQLlPRBmBs3Ur3xPFVijIh4dr01sw++kh6ReNnqi7ZoEnXCnH8LOJC22ijiZKS0OnNWS1016QCvSUaaOhkVX7ZcYbtIFREu+0SKTCdJiiNasPCvvcuVCzoPPP1VYp645Ak2hJuOqcWWmheh4Iz3jNCYPUTWrHZW7BoQYiSMZFhUJy/1EKmDzn4U0lFW0KCd67XUn1aTCOVCanL9NnOV6P4REh9/eq+COkjlEkY60R2C61moef7cM47j5anEjekhI1J9+hRAMydO6+4HlZikCBTsFBaxBcmMjZRIkRo6nwbirmmbWSxbaE1l5doaOu9E/BBe4ygVqWQMgmjmGbkEZkuzeYARD4051Yj5E3JF7/4RT7ykY/w27/927z22ms89NBD/NRP/RQLCwvXHP/ss8/yoQ99iGeeeYYXXniB8fFxPvCBDzAzM7PKkW8yDnyRsn03C8UqVnoHyIhGegGvkVqymg1gqFvomSAsM5eNWovINlC6tvSgdYIQoGk2MlBIvcFEtYFMC6K6Wrb63Bwfxzt5KqlQT1hT/Ile8chKK9rOzldxYpeW7mIG9kXHUaPRIjzfNiojD6FilL76FakdWoSE9KnBZccZ1qUW10rbJ5cKUEQs1k2MXfegmRGdZ7+zGiFvKJJEW8JN5+RsExHWGbC3EUU+ruGvfhASYr1niIAWoKRD43zrKIAxlMKfaaKWEWpOSLgd8CcaqLyGinqnasK+NCe0Vk9fKYyCdanPdgHD6AlEu+SJ5TzS19FTw1hhhKZplKYTnbaEjUn3yBFkOo02eOUiOKzEyIxASEG9WsUXJlqYAr13v+21oaxRNdt5IsdCb3chXnpjHMoIV+sylNlJUK2Sc3o6VfONLlq2S6o5SknKxBDhLfDJT36SX/mVX+Hxxx/nvvvu4zOf+QypVIrPfvaz1xz/hS98gV/7tV/j4Ycf5p577uGP/uiPiOOY7373u6sc+Sai24Dj3+JocDeGadCoj1JNz1KQfYhYLploMyODXJihbi5zMKzAqLaINkDb6AU00yaO2mjK5HRtBpkWEEK8TAGsMTaG6nQIZmZXL9CEhDfgnauj9VlIZ2WHz5PTvb/XUOqgxMWuEaPRJHIuJK/OV6SuxT1bQJsmhesZIug6mmFixV3KLY9BK4urLzJT1RBmCmtIo/36oVUKeuOQJNoSbjpTUw1UtMiQNYrnli9Wl602yjQg1NC1LoIsYb1FFIYA6MMOhIpgrr0msSUkrBe8M3WaeY+MnwcU0rzkaqa3XUJdEoUBmr42ouorwZQAiorsJw7PoWSM3skj02nSpk0pqWhL2KB0jxzF2L79CpF0pRRhRaHlRE8vpl0nMgRWVEAzeonytWpDuZzIMRFKobWXr2pr6R2GrG0E1QpSCvocg4Vml3RfzFB7nMOmlRgivEl83+fVV1/lscceu3hNSsljjz3GCy+8sKL36HQ6BEFAf3//kmM8z6PRaFzxSLiMY3+DCn2OTgUMbRmj09aYTU0Qt3IU0ibGEqLqQ90CCrW8PlvHQ/OCDaHPdgHd0kF16euOMt8+n2gDotrSh98XnUeT9tGENcQ7W0cfXVk1G0BlvgiApKcXLiyQfoDmdgnP67NpYfu8EcLapGVaok5OFRBq+c/XLRsrcim1PAbMLB1tgYVqb51hjxfozjSIzhsPJvRIEm0JN53m9CSoLoPmFrrdCsi16V2JTQ0CiaG1MNUAKGgs9n7w9AEHpOhZNCck3KZE7YBw0WXSLFLo5hGah5CXqk+0dpduqlfJJtdxRZut6YSiS030g1smTgfoVRu9UCCloDSZJNoSNibdQ4cwd+y44ppyQXVBywrcdgsVh2AKNGVjmAoZddesDeVyIue8IcIKdNpysoBs+8RBQF/apFj3yBfADtMctXcnibY3SalUIooiRkZGrrg+MjLC/Pz8Eq+6kt/4jd9g69atVyTr3sjHP/5x8vn8xcf4+PhbinvTcfDLFFMP0ai3kMZ2It1DpVwiT2c0t1zbaD8tvUMooyXHmLU2Soie4+gGwbB764l+N0/MHB0VIgyIltFp0/r7kel0YoiQsGZE7YBwwcUYXZk+W6wUbrVMaOik4kLPcVQDvdnbe15sHQ1aRGtkXAQXdNo0cqpv2XGGnQLfpeOFxIEktir43TRBKLDv2AEKOntfWp2gNwhJoi3hptLyQgZap8kZg5jSphNU1yyWyDSQPljU0URP5LE61yvhFbpEH3TwJ5NT14TblwtaE4ejw/T5eaQZXvG81u7iWb3bhKav30SbLmTPeTTOglslyvhI18AcHMfpdClPT6ISMfWEDUZYrRLMzl5bnw2QWUGt1jP6EOc1FKURowU93bM1aUO5HCmIHR29uXyirWm0EQgG7DGCapV+x8SPInyr97qp8E4on16NiBPewCc+8Qn+8i//kq997WvY9tIbwY9+9KPU6/WLj6mpqVWMcp3TLsGZZznu78ayLcqVfoqpSUwvR842SFnX7vqQsWTA66NmLr9ONWpNorS1ZofabwZN0xDCxPQtMGtM1zo9nbZlKtqEEBhjY0miLWHN8M+d12dbYaJtvt4l7dcJbEE26kNedBxtoXSN2LIAdb4Cfe3u1y5tQgL6rtM+atgOqBgj8lhs+9i2CwjKDQt9/A50O6L97FOrE/QGIUm0JdxUThabDPgVBu3tKBXTUWtXQhqbOiJQ6KqKEBqeAeW56YvP68MO3kSSaEu4ffHONZBpg1PhadJeP/INBTB6y6Wrg5QaUq7v24WSXWJy4DWJnQ5KKJzCfVjVOqHvUVtYWfVGQsJ6oXvkCHANI4SyQjggTUG1UiYUOlI5KBGCFqNFbeI1bEO5nMixrpto86SPLwKGne0E1Sp9KQOBoOS1iQyPhrsVyqdWKeLNxeDgIJqmUSwWr7heLBYZHR1d9rVPPPEEn/jEJ3j66ad58MEHlx1rWRa5XO6KR8J5Dn8NBZyY9igMbyP0daqZWaJ2mtH80lWng14BDY3qcom2WGFU24QbqG30AtJwiMMuSklOlKeQaUFYu47z6NgY3WNJ62jC2uCdqyMzBlp2ZbIMZ0ttsmET1wpwvNxFIwS90SS8qM/mIlRMvJYV6AJaNCnEK0i0AWnhUWp69KUVMQGLNQNyW7H6Qjovv7IaEW8Y1n4VlrCpOFls4fgtBp0deN0qobF2f2LK6lXgGFEXhSIwTBamLgkqG8MpoqpH1FwDs4aEhHWAd7aOHLZo4KEHfVcYIRDGaN0AX8ZoxvrVZ7uA1AI05RArCV6FOBVgmdtxGr0S/dLEubUNMCHhBukePoJwHPQ3tP2F5Rgt06teKZUW8YSBGeUQho+g14YSa+tj4x05FlrHg2iZDbSAltFmOL2DoFpGSkHOMZhvdJFZF7u9lWr9HCRugzeMaZq84x3vuMLI4IKxwXvf+94lX/d7v/d7/M7v/A5PPfUU73znO1cj1M3Loa9Qyj5Co9ZEiW10jSZKCjKWSW4ZQfVRd5C25uJpS69RjUYHEceE2fUx328EwzJRUZVcMMpC4yQyI1AuxN7yzqP+uXPEnreKkSYk9PDO1VfsNgpwZr5OJmrTNFyMwLrkOFpvEZ1vG9WCFgqx5vfslqiTow+5jE6bkBLdsrEjl0rHp99I4+qLTFUBzcQaTeFNLiY6bZeRJNoSbionik00v8GwvY1ue4HYWrt2swsmDCJQKD0Amaa9WCaKzhsijPRKf5P20YTbkdiPCGZaNPs8nCAL6Fe0jmqdnoC5T4Rcx22jFzD0CBC0RB7cKnHaR4/7MIWJZdssTiauhQkbi+6hQ5g7dyIuqyZVoSJqXDJCaNYqeBrYUQHNgPXQhnI5UcpCKIVxHZ22htGmoA0TVxsopehPG8w3PNL5iKH2OEdFDM2kKvXN8JGPfIQnn3ySz3/+8xw9epRf/dVfpd1u8/jjjwPw4Q9/mI9+9KMXx//u7/4uv/Vbv8VnP/tZdu7cyfz8PPPz87RarbX6ChuX+gxMvsDJ4A4M06BSGWQhPQntDFvyS7fiarFkqFugYtWWfXu90iLWNWJ7/R+GvRHd0oCQIXeISE1Bupdgi5apajPGxyGO8U4lFa4Jq0tvzdxGX2HbKMDMeYfcQJo9x1ELpO+jeR5h6rJEm2bBGnd+t0QDiUZOFZYd19NpaxPHCnyLrl6iUu/9llk7elXSnddeu+XxbhSSRFvCTeXUdJmMkKS1NN32Aspeuw260jWUFBBqSM1DYwBUTH1+DgAtYyAzBt5EYoiQcPvhTzYhVkw782S9noahtC4l2vSWi0IRhj7aOjZCuICl9xbnC3IIOlXidIBAkOrfQ8bJsHAuEVNP2Fi4Bw9i7tp1xbWwqkCBzEnarSZxFIAlkcpEN6PL2lDWhzB6bJsoKdCanWXHNfU2UkgGtBGiVotCysQPI4xURDrIc0TrT9pH3yQf/OAHeeKJJ/jYxz7Gww8/zL59+3jqqacuGiRMTk4yNzd3cfwf/MEf4Ps+v/ALv8CWLVsuPp544om1+gobl8NfA83k9JxPrn8LKJ1mqkxOT9GXWvq+OtIdRCKpmMtXhpjVJlHGWfNN+ptBt3qHAZaXoa27zLpt0CGsXsd5VAi8pH00YZXxp3pr5hsxQrhgwKeJ3muEBXq9d2BxKdHWJFpj4yKALh0CfApqcNlxhpMi8rpYMqbcCpBWncDLEIQCfdsONCvG3bt3laJe/ySJtoSbSuPcBMP2OEopup1FInMNN+jifFVboGNqLZx4GCWgNDV5cYg+nMI/l5S4Jtx+eGfrCEvjaPsgw908ECPMS85meqtL1zxvhLABWkctqREJj5oogFtBGTGxGZLa8jAZIVk8l1S0JWwcwnKZcG7u2kYIOsgU1CqLAGh6b8MqjWjdtKFcRKxMp62reT2dNns7QaVMn9P7zanLNgAT8V1Jou0t8Ou//utMTEzgeR4vvfQSjz766MXnnn32WT73uc9d/Pe5c+dQSl31+A//4T+sfuAbnUNfpjnwDhbmSnjxEA27ROibbFlGmw1gW2eYhtHC14Ilx0gvRG93CTZg2yiAFBJNdyAIiZTG6bn9aBmxbKJN2jb66Ajd48dWMdKEhJ4RgrA0tMLKqsXnai4pr05k6qTjgZ7jqA5G85IRgog8ZBwQ6ytvR71liF5VWyG+TqLtvE5bTviUWh6O3UUgqDQsRN84Vj6g8+IPVyPiDcGGSLR9+tOfZufOndi2zaOPPsreZTKlTz75JO973/soFAoUCgUee+yxZccn3Dwa3YBC4wyD9hhu1CDUFGhre8wWWybCl1haHV2ZuDaUpy8l2oyRFP5MCxUmjoQJtxfe6RrGljSTzXMUvD6EGSIum65626XraAAboqJNCIikix/nwa0AEKcC7MJdpLo+jdIC3XbS+pSwMXAPHgTA2r37iuthOUbLCoQQVMqLBMLEUBmU5iOkWjdtKJcTOSZ6Y/mKNkTPfXQ0vRu/XEbTBHnHpOg1ibWAarA7SbQlbCwqZ2D2dc7GexBC0G1vo5SeIkeOvvTSh1fpwKHg5ylZ1WXf3qi2ULAh9dkuoJkWcVSiEGyh2jiMzAqiSi+xuxTG2Djdo0dXMcqEhPP6bMMphFjZzfXUQot82MB3BJmwD3F+yuvNS0YIetBEwbqoaANoUidLHl0trR2pGSZS0zEjl44fkbZjYkJmqwIyo1h9Ee6JM8Td7ipGvn5Z94m2L37xi3zkIx/ht3/7t3nttdd46KGH+Kmf+ikWFhauOf7ZZ5/lQx/6EM888wwvvPAC4+PjfOADH2BmZmaVI7/9OFlsscUvMmiP0/XKRGvYNnqB2NIRvsKkBICnayxMngF6N3FjJA2Rwp9JNuAJtw8qiPCnmuhbUswHdVL+ANK+MtmsNV26pjzvOKqtUaQ3iOyCykHQgahLnArQjTyZVm++LybtowkbhO7BQ8hcDm3w0umyUoqwrNCy540QFop0NQ077Eczem3fWtBaN4v2C0RpG80LkF647Lim0aKgDxGXe7qphbRBsdlFZFwMd4xmKaliSdhAHPoq6DZnFhVOdgAlNRpaiy251LJ58LHOKIEIlncbBYxKgzhlgb7ut3JLYlgGSrUY6I5RkTVkBpQP8TJ5eXN8HO/Y8WWTcQkJNxMVK/zJJvoNGCGcXmxTCJu0LB/HzyKuZYTgXzgYWx9zuClqCMSy7aNCiJ5Om9dCIBCBiasvMlkFNB1rax9EMd1Dh1Yt7vXM+vh/dhk++clP8iu/8is8/vjj3HfffXzmM58hlUrx2c9+9prjv/CFL/Brv/ZrPPzww9xzzz380R/90UWHpaXwPI9Go3HFI+HGOVlsMhB65IwCfnOReD0k2kwD4cXoUYdYxCg9g9dq0ar2Tgq1ARt0mbSPJtxWeJNNiBTtfh9fxBj+AJp15SZYa3fpampDtI1eQNNDdJUiVDp0KsROiFKKXFBA041Epy1hw+AeONAzQrjs9DxuKAhB5gRhENBq1vCNCDPOo5sgIh8Z++ujDeUyIqe3w7ieTlvDaCOEZFANELkuhZRJN4jQMwGD7TGO1U6vRrgJCTeHQ18h3PouJk5P40dDlFIzpOIc/Zml76larLGtM8yiXUWJZRJJMZi1FkFmfSXVbxTd7mlJmn6OqiZYaPa016LK0l0m5o4dxM0mwXmh+YSEW0240EF50Q0l2s7OVTAjl4bmYvg9x9E3GiEYQZ1oHd2vA+Hj0qE/Hl52nOGkCNotMqak3RH4epl6o/c9jPExhA6dVxNDBFjniTbf93n11Vd57LHHLl6TUvLYY4/xwgsvrOg9Op0OQRDQ39+/5JiPf/zj5PP5i4/x8fG3HPvtyIn5JiMiB4DfKBLZa+96FltG7+QwBIwAnSEAShM9vSYhBcawg3cuSa4m3D54p2oIW2NKzKNHBiJOI+zLtGDCCN318Yk2VKKt5zwKi7IfOhXQFLHmYufvID8wSPFsslF/MyTyDauLUgr3wIFrtI0qEKBlBZVST2QZ3QAE0gzQg15l9nqraFOGRmxo6I3lddo86dMVHiPOTvxSiT6nd1gXmT757iBHum0I/dUIOSHhrbFwDBaOMGO9jTAIIB6j7BTZks4il2k929YZRlMaC1Z52bc3Gm1EGBPl1s8m/c2gaTpSmuB30WOTswsvIJzzWpRLYGzfDoB3LGkfTVgdvIkGCDCGVjbf/CimudAzmIn0S46jl4wQUsioi1gv+myX0RQ1BtTQhcava2I4KZSKScuASstHs5tEXo4gFD2dtqxP59WXVy/odcy6TrSVSiWiKLrojHSBkZER5udXZvP+G7/xG2zduvWKZN0b+ehHP0q9Xr/4mJqaektx366cnZhh0BrBiz3CoE3srP0GPbLOV9X5Grrpkg4GCVL6FZUt+mga71wDFSdl6Am3B91TVcytGc6VDjPUveA4eskIQWt3iVGEKtxQiTZHB1CU5PCVOm39e8im0hRPn1zT+DYiiXzD6hNMTRHX65hvTLRVYmRGIDRBabEI0sCUaRAhQo/RggaxXD9tKBcREKVsjOtUtCGgabYZSe8iKC+ia5KsbVBRLQSS09Gunu5VQsJ65/BXwUxzrmIiNBvXggjBUHaZA2gF29tbqJh1Am35Nmu90iLWNaJ1sM5+q+iWRRwtMuRtZy5cQMueP1RYAq1QQOZydI8kibaE1cGfaKAPOghjZffWc6U2Wb8OUmLQK0ARds8IIdY1YstE9xsoxLqqaANoiComNlmVX3KMYdsgBHbUIYwVpukiEJTqBuR7hgjua6+h4kT/fJ2txm4un/jEJ/jLv/xLvva1r2HbS1vdW5ZFLpe74pFw4zQnzlAwt9AOGygpiK21bx1FkyhdQmBg6S2syKZph+crW87rtI2mUW5IuHidTUBCwiYgdkOC6RbGtgxnKicY7fYBIC9rHTVaLt3zWqgbKdGmSQiFS4vCxUSbyil0K8cAeSpzM/jd5atqEq5kNeQbEq7E3X8A4KpEW1CKL+qzlReLuJqOHQ8izRBBT1g5MtZXNdsFopSJ3uzAdQ60GkaLvD6AKPfux4WUwaxXQ4mIcrAbSsdXI9yEhDePUnDwyzD+KKePnQMxwkJ2ilG7gK4tve0a7vaTihyKTum6H2FVmkRZZ12ZnrxZdMtCxTVy/i6mdIkSRaK6QgXX/q0QQmDu2IF75MgqR5pwu+Kda6APrzwhdmqhRV9UJ3B08tFQz3FU6xkhRBeMEPw6sd5LWK0nWjQICRhUI0uOEUJi2CnibgtdEwgCYgJOlyNID2H2C+JWB//s2VWMfH2yrhNtg4ODaJpGsVi84nqxWGR0dHTZ1z7xxBN84hOf4Omnn+bBBx+8lWEmAHU3YEvrJP3WFjyv0msbXQ+/HQKiC86joleK7+o6brNOs9z7tzGcAgne2USnLWHz452ugQJjW4bp7iJ97mDPcVS7tKjVm126Vu/2sBEcRy8n1lziON9rHSUmTkUoFVHwC6BUotN2A6yWfEOik3ol7oED6CMjaNnsxWtxR6Fc0M7rs9WqJTpahB31o5kxIvKQkUesp9cw8qWJUg4iVmit5Z3IGkYLhWKYEaJOh0LKpBOExOkOWnc77WIisJywzpk/CJXTNIcepVoqo4xBmlqbkezSB/4AO1vbaOht2vryh0HS9dE6XYIN3jZ6AcO2AYXhpQiBqVrv3hJWlk7Kmzt24N1GibZEvmHtiFo+UaXb2yuukFMLLQajBh07JBMWkBeNEJpEaQdBjBY0idbj/Vr0qtoG4+XzLKaTwmvVyZoa3baGqy8wW9VASqyxERDgvv76KgW9flnXiTbTNHnHO95xxUn4hZPx9773vUu+7vd+7/f4nd/5HZ566ine+c53rkaotz0ni012hwGWZhM3F4lS66cKJrYMhAd6XCaWMRoDICQLZ04BIAyJPpjCO3t7b+5uJckiYf3gHqugFSxcy6NBgOUPX1HNBqC1XFxLounmiq3M1wtSC9BUHhVF4LVAQhhUSYc9Q4SkfXTlrJZ8Q6KTeiXu/n1Xt42Wey0YWl5QLs2jlCI2BULpaGaEHjTPt6Gs04o2x0QJgdFcPokQyoi25jLq7MJfXKAv3Uv0K6fLYHs7xxf2r0a4CQlvnkNfASvHmUpvE13KeQzofTjm0u7dfV6WviDHvLN43bc3K02UEIQb3AjhAlIzkNJABTVyQT8nvRMIA8LSMoYIO3cSLiwQlq5f/bfRSeQb1hZ/orc31EdvINE2X8XxG9TMNlY3DTZIz0fzfMJ0Ci1oIVRMZGRuVdhviZqokCZLSi2dCDScFHEYktFimm5MbFZpNXsdgXJwHCOr6CSJtvWdaAP4yEc+wpNPPsnnP/95jh49yq/+6q/Sbrd5/PHHAfjwhz/MRz/60Yvjf/d3f5ff+q3f4rOf/Sw7d+5kfn6e+fl5Wq3WWn2F24LjxSZbRO8HI2gsEKWXP7lbTWLbRHZjtDgEOyYTDEDOYf7MpQ23sSWNd7qW2IXfApJFwvpBKUX3eAVzLMtEYwIAIxhEs69MtOktl66u0Mz1kzBfKaYeIpVORWah06taDWUTy9pGYXQb80mibdVYqXxDopN6idj38Y4ew7rjjiuuB+UY6YAwBIvFeYRuYskMiBhhhOh+HaWtQ322C0iIHQu92b7u0IbZYktqN95iCVPTyFg6Xd2j0BnhUG1yFYJNSHiTKNVLtO34EV7ZexpkgbLTYOQ61Wc7W2N0tC51o3ndjzDLDcKMDdrGOgRbCiF67qNxNE+ffzenDYm06gTXSbQBdA8fXqUo147VkG9IqsqXxptoIDMG2jJuwZdT6/hEtRIoRceI0QIDYYHe6M3tMJXq3a+FjtLW5xq7SZ2IkMF4y5JjDOe8y2jYRqGQZgsZ5HA90dNpy3RxX06KJNbpiuwSH/zgB3niiSf42Mc+xsMPP8y+fft46qmnLp6wT05OMjc3d3H8H/zBH+D7Pr/wC7/Ali1bLj6eeOKJtfoKtwUnZ6sMaP24kUsceUTptXccvUBkGwilwAPT8sl6/dSciIVzpy8KNRrbMsStgLCY6LTdbJJFwvohmG0TNwOM8SxnS4dJhwYieoPjKKA1O3hiYzmOXsAyenN6UY6cbx+FOOUhNYttfXcwdyrReFopqyXfkOikXsI7cgQVBJh33nnF9bCkkPnekm1hfgbP0LCjYaQRIFDofoNQX5+n4xcIUyZ6/fr32LrRxJQ2mZpAKUVf2mQxaiDRONnMQLS8UHxCwpox8yrUp/C3vp/a/BSuY5MmS95ZWoIhHTgMe/3M24vXlVwRQYRe7xBukrbRCxi2jYrrZMJtdKWk3j1CVFWo8NqH39rgIDKTwd3kibbVkm9IqsqXxr9BfbaTxRZ9QQ2EQJ4vQBE2GI0msa4Tmwa6Vycy1u8cViKmIWoML5Nok1JDtx1it4mpSRC9e/upUgR927HyIf7kNGG1ulphr0vWfaIN4Nd//deZmJjA8zxeeuklHn300YvPPfvss3zuc5+7+O9z586hlLrq8R/+w39Y/cBvI2ZPnaDfGqUdNoksA6UvXSK/2kT2+WSBr6HrTTSlU9NCAs+jPNOrnDBGUqAJuqdqaxfoJiRZJKwv3CNlhKlhbElzcuEo450+AKR9yXFUeAFhHKJQ6Buwos3QFLHwqDMInV5biegziYI2w/EI9eI8buv6VQMJiXzDWtDZtw9hmpiX/YbFniJuKrScoNNu0WrWaWg+TjSAZkXoQRuhIuJ1vHAHiNI2mhcgvWDZcS29Q0DAFmM7Yb1OwTEoRQ2UiCn5u6GaCCwnrFMOfRWcAt89mAblUcoqtly3mm0bnvSpWNfXCTarTYRSmy7Rplu9NljZDbBCi1PhIVBLu48KITB37aR7cHNrNq6WfENSVX5tVBDjz7R6e8QVcnKhyXDcIEwZFOItIBTCOq/PlkkhIh8ZdYnW+cFYTZTJkMNRS39300nRbdbJ2TpdNyQQbU4txmDnsM7/N3P37VuliNcnGyLRlrD+yU6/RsEaIXDr66ptFABdEhsa+AamVgEUgjSaaVI83z4qdIkxkqZ74vbOvN9skkXC+sI9XMLcnkVIwaQ7z6A7BCikdWnjazRd3POH75qxfipTb4RI6xDEfRdbR2U+i9eYJOv1krXFUyfWMLqNRSLfsLq4+/dj7tyJ0PWL1y5oFWl5wcL8DEIIYv2CPluI7ldRQu85mK1jLlS6643rVLUJqJsttqbvwl9coJA2UUIR2i10dyeN2VdXIdqEhBskjuHwVwnGfpzj+6ZQQhIaffSnlz6wsiKTLe4QRbuMEteXLjEXG0QpG2Wsn8Psm4GmaWi6hQoXyHfvYZ9eR2g+weJy7aO7cA8cSCRflmGl8g1JVfm18aeaECmM0ZWbFhwvthgIqjRtn1wwgLAB0atoCxwHw6/19FSNdWiEcBkNakREy5oimE6aKPDJ6BEdXxGYJSr1XoJNGx1DcyTua7e3TluSaEt4yyw0u+zw2pjSJm7M97Qj1hmRbSG7Aj1oEFtxb8Pdl71Cr8kYz+CdqRH70TLvlLCaJIuEm0dYdgnnO5g7cjT8BnV8Mt4o0g6vkHXSWi6urtB0Ayk35i1CaB666iP2WhB1QUgCv4gRpylkRplLEm0rJpFvWF3c116/um20rBA2SEtQnJtCc9I49J/XZ4vQvdq6X7QDKF0jtnSM6yXagJrZpGAOIxdbWLqGY2r4lstwaweHpp9fhWgTEm6QqRehOccPWz9B3J2m7diM5tJIuXQ/6I7WVmKhWLQr13//SGFUWwS5zWGC8EYMxyaOZukLd9PRJF01Sbhcom3XLqJymfAN0gabidWSb0i4Nt65OsKUaP0r29cGUcxUsYrpNaiabZxuDmGD1nGRQUiUcdD9eu9QbJ0bjSkR06DGcLx1yTGG01t3GMH5e7pRB3eIKFKI/p2Y2S6dV19ZjXDXLRtzF5Wwrjg212RU5QHwO4vr0gkpckykC3rYQk9J8t4QZTOmMjNN4HUBMLdnIVR4p2trG+wmIlkkrB/cQ2XQBeZ4hrP1MwAY/ijSubKNS2926FgCzdyY1WxwwRDBpKT1QavXPhrqbZSK2D38CHMnE522GyGRb1gdgvl5wmLxaiOEhRgtJwjDgMXiPG09xglHkGaIHnWRkbdu3cveSOTYaCvQaWsYTWJiRrwhVBjSnzJpiA597ggHFhNDk4R1yKGvEDjbOHCwjzicxTWzDGaXvo/qscZYZ4RFq0wslk4oXcCsNhFxTJhf/0n1N4NhOyjlYfoOZqQzHR0jqsXE/rUr1i78Trr7D6xmmKtKIt+wtnhn6xgjacQyyfLLOVtqk/F6SfOOrdA8HRww6j3d6NBx0IImkb4x5nBdlMmSx1bX3tdLrafTFrTrpE2NWLTQlMWxkgt9O7ByPt2DB4l9f5UjXz8kibaEt8zR2SoD2hCdsENoAfr6+7OKHQsRxgg/QrM9rDBFUWujVMziuV7SQctbyJxJ9+gKThYTVkSySFg/dA4uYo5lEYbG8fkDZCKF8AvINziOykYHT1PoGzjR5lwwRBBDF3XatL4MXnOaUWMXsyePJe0mCeuOC1om1mUVbRf12fokpfk54jiipnWwo350O0T3qighN8zCPUxb6O0uhMsnFiIZU9cajKX24JdL9KdNSqqBRHK6vPG0IxM2OVEIh/+KZ8U/g848AoVd6O+JhC/BWHsUqSRFp7yijzBKDSLbILb06w/egOimjRASFS6Q7e7hdWMGEEtWtWl9fWgDA7gH9q9uoKtMIt+wNqgoxp9ooI+uXJ/t+HyToaCK0jUcBgGBdM7rs1kWmuogVLxhDsYaokpMfN32UbdRI2PrtNwWMQHHFkLIbsEekKggpHtoc2spLsf6y4gkbDjqR59n0NpCx28QrMNqNuhVtAGIrkDXeicLmtKxs1nmz5zqPScE1s4c7uESKk424TeLZJGw9oQ1j2C6hbmr11J7fPEIOzt5QKK9oaItardRorfo3ahomiIULnWGob0IgN5XwKucIu1nwI2ozs2ucZQJCVfivv46+sgIWl/fxWuX67PNzUxip9Jo0gIE0gwwuuWeqPL67kK5SJSyEUphNK9f1Va1WwzZY4hinULKxNU6xDKg5m5HubVbH2xCwkqZ+CFBu8GRqYdoagcINIPBgfySw4US7GhvpWzVCOQKXHRjhVVpEOQ2RkL9zSCEwLAcVDRDPriLBa1NRIVgYZn20d27cV/ft3pBrgGJfMPa4E+3UH6MsXXlSbFj8w22qhqdlGIwHAPtvBFCrUGYSaH7dZQwUNrGOCyKL7aPLu0+aqbSxGFAVkYEcU+nrVRNgZQYY9sQhqDzyu2rq5ok2hLeMtaZVymYw3idKlF+fTohKUMj1jXoGhhxlViPyXf7CbMZiucTbQDmrjxxO8Q7e333p4SVkSwS1h73UAk0gbk9R6RCpv0SQ52tgEKmLku0hTFe7CMQaMbGWAgsidZBxYOo1gIAstCHV+tVr25N3cXcyWNrGV1CwlV0Xn0N841to4sxwgGMmPm5KXxLJxWOgBZi0Om5l5nZtQn4TRDbBkqT6A33umNrZgOFYqiZxzI0UpaGbzfItncxee6ZVYg2IWGFHPoKf8v/FRnYaN05wnSO1DKVZ1s7w5ixwbxTWtHbG9UWIty8baMXMJwUcVQlFRYwY51FdZpgLliyAt268066hw+hNnlrWiLfsPp4Z2oIQ6IPrqyARCnF8bkGGbdM1W6T9fqRKSCK0FttwnQa3asRmhtrDtdEmRwFrCXaR00nDUIgvSZSCpReQ3a24YY+YnAXVi6gs/elVY56/ZAk2hLeEm0vZKijIYWG3ykS2et0cy4gStsIV0P3G+hpQc4boqgHNMuLuM1eYk0fcpAZA3f/4hoHvLlIFglri3uwhLktgzQ1phrTBCIm3R07b4RwaQGrNzt0DIWhm+tdp/W6aIaHEedxAx+CNjKVItZiItlmZ+EBZo8fXesQExIuErsu3aNHr2gbBQgXYvQ+Sak4RxD4lGWHVLAFw4rQu5UN1TYKgIAwZWPU29cdGsmImqwxbtxB1OnQnzZpal1Gm7t4beLZWx9rQsJKCH2iw9/gWPUDlNIHMH2f9ODAksOFEuxqjVE163Q1b0UfYZYaRJZBbBs3K+p1ieH0NvMqWCTr7uGwPonyNOLWEom2u+5CeT7dY8nBWcLNxTtZw9iycn226aqL3q4gooCmHWF2HLB7baNCKWJHImOfeCPdr4GGqBATL1nVJqTEsFN0mzVyto6vGhgqzWsLVei/Eyvv4b76KipcQeXuJiRJtCW8JY7M1hkUYwSxj2s213X7SpQyka5C9xrgQMrPMa/1EmzFM6eB8+2jd/bRObCICq4vTpuQsN6JGj7+RANzV6+N5dDiYXSl0IKtVxshNDp0TNCc9dkCfiPYZgwI5rQRaC0AAq2vD9+dZlDfxvzxxBAhYf3gHjgIUYR1110Xr0UdRdzutY3OTk/gOCk8AnTlIC2/1zZqZNf1ffdaRGkLvdGBFdxiq06DQXsbstikP21RpUk6yHNgdvLWB5qQsBLOPMO3Wu/C8LME8RmUEOSGl060be0Mk4psZp0VHujGCqtcJ8inN9xcv1Gk1NAtBxVNkff2cFqbQRESFK/9Y2Hu2IEwTTqvvrbKkSZsZmIvwptoYGxbedvokbkGQ0EFhMA0BiASyAyY9QZKk0jhbryDMXrto3Wqy7qPmqk03WadnKXT6DaICTk+ryC3DXtQELtduocPr2LU64ck0Zbwljh7bB9D+hh1r0qUX9/ijlHKQcQK4cYYZhuBwIgETl8/C2dPXxxn3dmH6ka4x1YmUJuQsJ5xD5dAnnfVBfZPv8K4L1F+Di19ZbtFXKsTSdDtjZ9oM7WIWASUGYVmz/VWLxRw544gkVhVi26i+5ewTnBffw2RSmGMjV28FhZjECCyMXMzk5BOk4qGQChMWUfGHqGZW8Oo3xxR2kbEMVprBe2jdotQBYxWshRSBi2jCcB0aWn9q4Sr+fSnP83OnTuxbZtHH32UvXv3Ljn28OHD/PzP/zw7d+5ECMGnPvWp1Qt0AxLt/zLHWv+ESn4So1ZFpLMITbvmWKkkdzTHKZs1XL27ove/1Da6PqVZbjamkyIOF0lFQ0glaagJgqlr36uFrmPecQedV15Z5SgTNjPemRpECnNs5bIMR2YbjKkqbSdmONgBUiFsMKp1wkwaLagR6c6GTJZX5SJZ8qTVtf97WOkMKo5IKQ8lYkKzRLPeTyzA3LEdoQvaLy19z9nMJIm2hLeEd/BZBqxRmt0qUXp9i6dHKRMlBdKV6KqM0hU5fwA3ZVI8exrolabrBRt9JEV77/zaBpyQcBNwD5UwtmSQtk6kIia7U+xsjgIC+YZEm99qIBQb2nH0AkJArLUI4lGiRk8DUBYKBKVpIidmLLWH2ZNJ+2jC+qDzyqtYd96JkJeWZf58hMwJFsu9ttEF0SEdbEOzAozuIkoaxPrGS4pHjoWSAqNx/fbRWCjKapExdmIIgZMSBGYdo72bxeqZVYh24/PFL36Rj3zkI/z2b/82r732Gg899BA/9VM/xcLCwjXHdzoddu/ezSc+8QlGR5d2m0sA/A5/fbiG4w3RyhTJug3soaWr2Xa0tmLGJjOp4oo/4lLb6DqVZrnJGE4aUBAW6XPv56Q2QVgzUeES7aN79vRa0xIn8YSbRPdEFZkzkfmVzTmlFEdm6+TcBepOl2x3AJkGBBj1BmHKQQs6xBvEbfSNNKkREjAaj13zed1yEJpG2K6RNjUirUqmu5tTzSJi+G7svE/7h99f5ajXB0miLeFNo5RiaC5ECo1mWFr/Wfrz2jC4BqZXRUtB3h1hVndxm3Wa5UsVbPbdBbyTNcLy9U/cExLWK1E7wDtTv+g2erZ2hkDEZLu7EHqENKMrxnfDLpY0EBtdoO08mtHFiPvpug2IAvT+fgDilMvW9J3MHkkSbQlrj4oi3Ndfx9qz57JrinBRoRcE0xNnSKezNOImVtyHbnkYXoXA3KBVXRKilIVRv77zKEDZqpM1+kgtBPSnTTp6gy2NO3n1xNducaCbg09+8pP8yq/8Co8//jj33Xcfn/nMZ0ilUnz2s5+95vh3vetd/Mf/+B/5xV/8RSxr4x+63EqCY3/D8fo/pJGZxS0vIpTCLPRfc6wVmexqjbFgl/G0FYr330ZtoxfQNA3dsomjs+S9uzmmnwM0guK1NZ7su+8mqtXwTp5c1TgTNidKKbpHyphjmRWvhScrLqJdRQt9OimJ3jIhDXqjhQwjlK0QKEJ9YybalFCUxQKj8ThSXZ06EkJgpjK4jSr5lEEzqKJh8tpcCwb3YBU83NdfJ+6urIp3M5Ek2hLeNJPlNv3RTlpBnW56Y0yeKGMj26B7FUhBxs+zYJQRQl7ZPnpHH8LSaL04t8y7JSSsb7pHyqDA2tFLtH1/4lWcWKH7O9DS/pWGB10PV4vRjc2zsXLMCBDMaKPQmkfL5UDX8buz6MKgczQxPUlYe7zjx4nb7Sv02YKFGCIgG1OcnUKlM2TiQRAKS82DUoQbNdEGhGkHvd5akU5bKxPiRm1Gy1kG0xYl2aXfHeXlM6/f+kA3OL7v8+qrr/LYY49dvCal5LHHHuOFF164aZ/jeR6NRuOKx+3AF599hpw7RrOvTL9bRTqpJTVO76rvQBEz66y8mu1i22jfxtJ1equYTpo4LGFHOfxY4apFgrPXlnMx77wTdJ3ObdqalnBzCebaRHUfc8fKZRkOzdQZDcsoAXl9J6jz+mzVOkpKhNYh1myQ124p3wiURREdnZElqtqsVAa/0yJnCLyoSSQ7zJbSKKeAM5ZDBRGdl19e5ajXniTRlvCm2bf/AAPWbspeCS2zMbQjomxPp022IwyzhUCQDlOYhT6KZ05dHCd0iX13gfbeeWIvWuYdExLWL51DJYwtaWSq51R2cOEV7uwKwu4AWubKE/VotogSYKQ25onbtTC0iEi4VBgnrE2DkGiFAv7iBL7uk65nCf0VVhYkJNwiOq+8CrqOtXv3xWvBbIx0YL50lljFzNIiE4wjzQC7O09kpDf0oj1KW8gwRmtfv2pcSFiIZtkabaXfMWlZvSTO2Tn9Voe54SmVSkRRxMjIyBXXR0ZGmJ+/efIYH//4x8nn8xcf4+PjN+291yvt+hRnJ95FJ1VkptMk26piDly7mq3g5dnaHWY6VSSSKzfashZrRPbmdxt9I+b59tE4nGSw8xBntXMEJeua7aHSsrDuvIP2iy+ufqAJm47ukTLCkBhbVp7cPjBdYyxeoOmEDHhjCEshTDAqtd6hUlAn3KBtoxfwhUeNCtvj3Qh1daWfmT6v39ZtYBqSyChhd+5ktltG330vmqNoPfvs6ga9DkgSbQlvGvHCi1iaTdkvoW2QVrPINlG6RLY1zKgIhqLPHaFqwcLZ0yh1aQFk3z+A8iM6ryRabQkbj7gT4J2sXWwbXWgvUFcVdrTGAIGW9a4Y71fKmCGI9MbTfFoKIUAZTVS0jaAyBYDW3084O0c8JNjq7E7cRxPWnM4rr2DdcQfC7OnBqFgRzMVoA5LJiVPk8v10ohZWVMAyasioS2gV1jjqt0aUsns6bfXr67QBlKwqhjAZqjjkcpLQqGHXdzNdT9xH1wMf/ehHqdfrFx9TU1NrHdIt50+++of0t3fSzBUZDNuIMMAYGLxqnFSC+2q7aeptSlZ15R8QxZilJkHfxt6gvxmkpmFYDio6S86/i+PyDEqliEreNcfb991P58UXUeG120sTElZK52AJc3sWoa0sReKHMcfm6mTbi7RSEWYjhcgCSmHWakRpE6Fiog2eaANYkDM4pBlWVzuQarqObju49QqFlEk7LJMKR9m7MIcYvR+n0KX1t9++7bQUk0RbwpsijGK2zuq4YZua2VzrcFaOgDDjINoGpltEZqDgbmHGqON7LtXZmYtDtYyJtTtP8wczqOj2+mFI2Pi4R8o9fZddvfayvznxHJqCTPdupBlcoc+mooiu18ZR2qbTgbEtH03ZlGIb/Db6wCBRrYo+amBIi9KLp67/JgkJtwilFJ29e6/QZwuKMSqAINWmUl7EtVLkohEQMangLLFmb0gThCuQEKYsjNrKnH+jrEHVKzKymGYobdHRqozX7uH5RKdtWQYHB9E0jWLxynbFYrF4U40OLMsil8td8djMzDRnWDy0G9+eZyJoszWoIS0bLX11Fcwdje04kc259MwN3V/NchMRxwS3WdvoBax0hjiso0UxbmgQqDbBidlrjrXvv5+43cY9eHCVo0zYTAQLHcJiB3P3ymUZjsw2SHeraFGEbW+BSCBzYNSbyDAC00dJA6VtfDMTV7SpUWFntOeaVW3WeZ22vpRBOy6jiDhdtCA3hjNmExTLeCdOrEHka0eSaEt4U+w9WaTg7KHkzaCnNtafUZBNId0Y3W2j2R52mKJjuGiGyfzpK8VUnQeHiGoe7sFEyylhY9HZv3hF2+grxZfY5Yd47m603JWnwkG1gkJhGevbOfjN4BgRsfAoit20F86iD/Yc4cJGkQ4tOBuscYQJtzP+qVNEtRr2vfdeujYZIdMwOX8SXTeZCKtk/J0YZhsjbBDYS7sabiSijINR60B8/YMsYegUw2kGw37GrTQLhkvOG+TFY7ef5suNYJom73jHO/jud7978Vocx3z3u9/lve997xpGtrH5zFeeZLi9k276FP0pHbE4jzk4eJV4er+XZ2d7GzOpIl392tVYS2Et1olSFsq8PVukDSeNEJIoOkV/9yGmtLP4i9fWkDV37UKm07R/8INVjjJhM+EeWEQYEnMsu+LXvD5VZTvTRFJRiHb32kZtMMtVlK6hidaGbxu9nHk5iY3DlvhqeQArk0VFEUbQxtAVoVFCb97BvFfDvvc+pK5ofutbaxD12rGxMiQJ64bKn30Ny0iz4C+S1jfW5jzMOiiAto7NNAhFf3eUMJdi7uSVbWT6oIM5nqXxzBRqBZuBhIT1QNT08U7VsO7oA2Dv9Am6YoG3NfuJIhs9f6V5iVcsYgUglxBx3sgIAbFRJ4x20F08i8xkwLYJZmbwch6FaAhvhe1rCQk3m/bevaDrPUFvIPYUwZxCGxJMnjtFujCEEYOubNKqV80WGZujwiXMOog4xmiszH20YtcJYp/tjT5UzkMRsTCbxYtuLIFxu/GRj3yEJ598ks9//vMcPXqUX/3VX6XdbvP4448D8OEPf5iPfvSjF8f7vs++ffvYt28fvu8zMzPDvn37OHUqqf4FeH76ecz9e4jtc5wQgt16FxUEGENDV4yzIpMHq3toGG3m7dINfYYIIoxKs+c2eptywclQBROkgzFOiiliNUi0eHX7rdA07AceoPXs361BpAmbAaUU7dcXMHfkEPpK0yOKl89VGPZnaaVjjEYacb6Y16pUCTM2QgVExsoTd+udrnCpihI74ruQ6kqdWN1ykJreax9Nm3TiEnn/Dl5cPIcYfwfOoEf9r79yW7WPJom2hBsmCiN2Trbwog5l0dww+mwX0SVR2ka2TSx3GpmGgfY482aH8uwUXufKTbfzyBBhsYN7+MYWSgkJa0Vn/yJIcbH8/b8dfhozlmQ6DyD0CJm6VMUVdT2CWpWMD5GzeRxHL8e2XaQyqUZp3G4XfWAAf2YGY2cGgaT4t4fXOsSE25T2Cy9i3XEH0urNPe9cBALK4Qy+12VeQT7cjtA72FGRwBm6zjtuHGLbJNYlenVl7aMym6HoTrClnGMwpxOaC2yt3sdLs4kI+nJ88IMf5IknnuBjH/sYDz/8MPv27eOpp566aJAwOTnJ3Nwlh/XZ2VkeeeQRHnnkEebm5njiiSd45JFH+Ff/6l+t1VdYN/iRz5995b/T744inQOM9WdhdhotnUG/rG1UKMFDlXtQwJnM5A1LMpilOigICrdvog3ASmdRsU8czuH6OSLl4R+9tv6f89BDdI8cISgurHKUCZuBYLpFVO5i3dW34tecWWzTbLZIt7oY1hDEApkH6QfotSbKVihhEG+wgpTrMS+mMDAZi3decV0IgZXO0qmVKaQMWnFPsuDEvInKDJPalSWYK9E9dGgNol4bkkRbwg1z8C/+itTQgyx0p5AbtAAmzKWQzRgt8NGtJjmvj5LdAKWYP3Vl/7gxksYYy9B4eiKpaktY9yilaL88jzmeRVoar0zOU1EHediPaLn3o/d1uTw37hfnEUKSDgSRvfE1JK5FSodAq1NW9zA/cQx9aIhgZgZnMEctXMA/VF/rEBNuQ1QU0dm792LbqIoV3tkIfVBw9uxRMtk+qkELJxwmq84RGmmija7NdjkCokwKs7IynVdpO8x557BikwflMA29xlh9D987nOi0XY9f//VfZ2JiAs/zeOmll3j00UcvPvfss8/yuc997uK/d+7ciVLqqsezt6Fj3Bv5o1f+hDtOvhfLOcA5K83urI5fnMccGb5i3D313eSCNKezk4Tyxp3rrWKNMGuj9I3rLHwz0E0TzbCIwhP0dR9gSjuHX+45kr4R+6GHQEpazzyz+oEmbHg6ry8gUzrG1pW3eb50tsK4PI1QkFa7EKme26hZriBQCL1NaG6ettEL+MKjLBYYj+9AV1e2tluZHKHXxVI+hhkRGmXMxt1MdRexH343mhVR+4s/XaPIV58k0ZZwQ6g4Rn3p25hmmmJ3loyVWuuQ3hRBPo1QCuU6pDgDQN4fgWyG6WNXV7ek3jlCuOjSea141XMJCeuJYLpFWOxg39OPF0b80avfQBBxf3W41zba514cq+KY7vwcKQyUbW/eO4IAzaoh1ABho0ZcGADfJ1os0U41sF0bf2ZlVTUJCTeL7pEjxI0G1n33ARDMxCgXglybcqmIa/VRiIdQwsNRcwTOyBpHfPMJcg56u4vsXl8rUQjwMop6UGJXrUAj56Mpg+PHqoRx4jaYcGs5Uz/DoafmsWITO7WXbVu34U2dAyEwhy4l2kY7Q4x3RplIz9LW3aXfcAmk62M0OgSFzbdBfzNYmSyEJbQQJuIaMWNEk2evGqdlMlj33E3zb7+zBlEmbGRUGNPZt4B1Rx9CrrT8VPH8qTJbo2k8E7ROBnHeQ8FarBA5JkIGhObmNIYpimkkkvF49xXXzVRPW7FTKzOQNmnHRfL+XTxfnESMPUx6a0jjG08RtW6PNfdm3VYl3CLqT3+HTHYPnbBFVTSxpbHWIb0plKkRpSxEy8TyF5CpiKH2LhYcn/lTJwj9KzVfjKEU1u489acnUMGNn04mJKwWrRdnkRkDY1uGL7x0Bt96jT0ig9t+N5rjo13WNuotFFFhQLYdE6Y2ZzXbBTKWIhRt6uzijBuAruNPTmKMZ+mGbWp/d/XCPSHhVtJ+7jmE42DdcQdKKbonI7Q+wdnZo5imxbTnkg23keEsgdOPkptPFD3MplBCYJZXVtWm53JMtY5TaKfZnU8T62WGSvfy8nxiipBw64hVzO998z9x39yPMpT6O0rpEQYcHffcWazhYaTem5tOaHFffTdls0rJulpLbCVYxSpKSsLcxjzIvtlYqQxCaATBEfzuCCEe/vG5a45NveOdtF94kahWW90gEzY03eMV4k6Itaew4tecXGhRarfoq7bRrIHegW4OiCKsUpk4pYilhdI2pyRLKAJKYp6xeBeGurR/EFJipjN0aiUG0tb59tGI03NpQmmQecfdxH5A7Yt/uXbBryJJoi1hxag4Zvo//SHG1rdTdM+iOdoN606sJ4J8Gr3uodCxzAWyXh9lp0MUBsweP3rV+NQ7R4hbAc3nrm0vnpCw1kQNn87ri9j3D3ByscX3pp5BaB7vLcd0/N3oA5dEx5VSeDMzGOkMdjckSm+ilrRroEtBbBWJ1Ra8UhHZP4A/OUn/2Bgz7im8g1Wipr/WYSbcRrR++Bz2PXcjdJ2wGBPVFXI0ZurcaWRmkH4KKOGRMkqEVv9ah3tr0ARhxsYsr6x9W6bSlKN5PNXlHd0teOY8uytv45vH/voWB5pwO/Pnh/+CLS+/ncisk069Tn7b3bgT54g9D2vrtt4gBQ9U9xCKiHPp2Te3Po7BLtZ62mwrrqzZ3AghsDIZCCdxghEmxBReYxsquLpaMPXOd4JSNL6TVLUlrJz2K0X0IQe9f+Vaaj84schW8zhmKLHiMWQe0MCs1BBRDKZLaG4eE4RrsSBmUCh2xnddcd3K5PA7bTTlk3HA1xcotN7BvvoZ9Ht/nPSIR+XJPyT2Nr+RUZJoS1gxrWefxY6H0KTOrDtJJpVf65DeEkFfGmJF7GZJxydAKvq7O4iyDmf3vXrVeC1vYd/bT/OZKeLO9dtcEhJWm+YPZxCawLirwP/5g2NYffu40xghrL8DqQdXtI0G5TJR1yVlpFBAmN6cp26Xk3UUoWiixBbKTg5/chLdMGim6sQqppUk0RNWiajRwH39dewHH0IphXssQmYF0+WTxHHMrK+RDkex5Wn81MiGPtS6HmE+jV7rIL2VtY9qfTmmWsfYUs+jcgIjdjh2YA43vPE2vYSE6zHRmODZrx9koLOVnZmvUsvuRhOC9onjmEPDaOfdune1xugLspzNTBPL+E19llFtIr0Av39zb9BvFCuTAxURBqeYCyOU3EJ0ZN9V47S+Puz77qX+9a+vfpAJG5Ko6dM9VrmhajY/innuVJmt4TliKSHqQ55/uTO/SGzpYChCa2Pvk69HJCIWxCxb4u046pJxi5XOghB0qmUGMxb1aIZUOMoPZsqQGST39i2E9RbVL3xhDaNfHZJEW8KKUEqx8On/QrznH1DyZujoEabc2CKtytAIMzZaRaEpHyPdYqS5i8lUi+LZU7Rrlatek3p4CBUpmt+fXoOIExKWJmp4tJ6fwX5gkGfPlliIX0TKkB+pCBrdt6EPdxDnf/GVUrjTU2jpDKmmT5yyYMV25hsXS+qE1iyxGmSBFHgeYbFI//gYs+2TtJ6fIWonSfSEW0/7+echinAefJBwQRFVFca44MypY1i5AfriASLRJGX5KG1zt3UH+TQIMBdXVtVm9PUz0z5BRMi7zTHQi+woPsJ3J797iyNNuN0I45D//b9/kocmH6OTOYFtzKON3Ef7xHFiP8Devh2APi/Lnc3tzDmLtIzOdd51aZzZMpFjEjube87fKJqmY6YyxP4JIncbHRp4ZwOuZYqQeu+P4L78Cv70zOoHmrDh6LxWBCmw7uhb8WtePF2mE1cplD2k2Y+0QTj02kYXSygnJDKzIDb2PnklLIo5AnzujO67OB2lpmGlsrQri/SnTCKtSqS1CBbvZtYtY7ztJ8hscSn9/n8mLJXW9gvcYjb/zirhptB+7nmiRUEqNchU+zip9Ob40wkKWYymS0SGtH4KXWnoWj9K1zj18otXjZcpA+f+AVrPzRK1kjazhPVD7ZtnEbpE3NPHf3vtKEbuIPdZO/Dm34Fmehj9lxb/Qa1O1G5hDgxiVJsEmc3dNno5OUfHlzWEOUqkG/hnzjK0YyfnWoeJw4jWD5IkesKtp/m972GMj6MNDOAeCZFZQak9jdtpUQ3SmCqPbZwmcjZpy+jlaIIwn8Ker11r33wV0jIhbTPlnWRXox/dKbGjej9/te+vbnWkCbcZ/+fLf8yuve+jY7vcl/o6nfydeK0unVMnscfG0GwbO7R4qHoPTb3DrPPmDbNkx8eotvAGNqd4+lvFzuZBeeDPciYu4cUPE8+evGpc6l3vQjgO9a9+dQ2iTNhIKKVo7Z3H2pVHWitNiimePjzP9twxMl0dTY0izlez2QvlXtuo4xNsVrmHN6CEYlZOMKCGGVSjF69b2Rx+p0UYdBnOWjTVFEPdR3h69jj07yT/9kGIPOb/P7+DUiu48W9QNke2JOGWU/qDP0Dc/3PU/QrVuEt6k5TDhvk0SpOIuoUVLiKzEdua9zGf9Tn1ykv47tWtKM6DgwA0f5CcliWsD7onq7j7Fkm/e5S/ObZAkH4OS7N4x6RNJ9iJsfVSNRtAd2YKzXawQ4EMY8L87SO6bEud2JwGlWW+cCfu6VPYmSypwQIlOUfrh7NE9c2vG5GwdqggoPXs3+E88gjBbExUU5g7JKdPHsFK5UmzBV8rkkqlr/9mmwS/kEXrdDHq7RWNNwcGmaweJJQh96fGEcR4x7Kcrp2+xZEm3C68PPsyE18LcMIs3dQPsWRAO3c3tZf3oqXS2GNjOKHFO8v3o1Cczk6i3kKLtzOzSKxrhH2J2+i10A0T3U4R+YepunmU0PAPTF01TloW6UcfpfblL6PCxI04YWm80zWichf7npW3jR6bb3G61KS/PtGrWNMKaOe3xM7sPLEtCJz0pq9Ev5w6FWpU2BM9cNEYwcqcbx+tLDKcs+mIWZQImZ0Zo+I30e75CfrvrNN8+mlqX/7yGn+DW0eSaEu4Lu2X9uJPtHHyOzjXOoBuA9omcT+TEBQyGIsuCg3HmcKMTIQxTBAG7P/B3139ElvHvn+A9nOziXh6wpoTeyHVr5zE2JrGHUvzjRMvIlNneI/YTr38HsxsHT13KXEUNpuE9Rrm0BBWqU5s6cT27bMgAOhzHLpaiU52F8HsPHHHZXT3nRydeQ6lQf3b59Y6xIRNTPvFl4gbDZy3vxP3cIhWELTiCpXyAp04h1A6aXP2tlqoRxmbyDKwp1fWRqJlsgjL5Kx7hJ3eACPOHG+b/zG+cHjza74k3HpKbon/+tnvMF67h/3paR41X6GV20P5lddRvk/6nnsY8gd4dPEhpJIcz50llG8+qSO9AKtYwx/MJTuzZUjlC6BcYq/EOWZx229D1ReuGpf5iZ8gXFig+d3vrUGUCRuF1nOzaP02+ujKD7W++to0hcIUIyUNoQ2iFSRooLkuZqWGSgeE9sAtjHodImBankEguCd6CBRIqWFncrTKC2gShnI6LTHJaOdH+MbsIRi8i9SeUTK7LYq/8/+l8/rra/0tbgnJz3nCsiilWPzP/xn9oX9K3S9TDn3y5uY6IfIGc4gwIm5nSHnnkAXY1nqAcj7i1Es/pFG7WjfGeXAIpKDx3ck1iDgh4RK1vzlD3A7IvG+Mv3zlFFrf9xk1R9l6citK6Ohj3SvGd2emkaaJnspgLdTx85lNLbR+LUypI40ZlHRo5HbhnjrJ8K47UFJQz1XpvLaAP9Vc6zATNimNp76FPjJCHG4jboO5U+P08cPopoPJDnx9GsdZ+Qn7pkCAN9SHWWmiNa5vaiAEmMMjzFQO09Ra3G+PkvELHHpxkrJbXoWAEzYrQRTwe0/+MXum38PhfIl3ZZ4jigwmj9aJGg3673mYh9y38fbKfXR0l6P50/jaW9P2dKZKIAR+0ja6LL2qtjSRf5AZV0eJDN4rp64aZ+7YgXX33VQ+97nVDzJhQxAsdugeq+DcN4AQK1sEH56tc3CmzrB+mJSnIeUI8nyHqDM1g5KKIJci1lfuXrpZCEXApDzNgBpmPN4NgJ3rI/Rc/E6LLXmHjuztmacmxykFTbjjJymMz2BuGWD6V38N7+zZtfwKt4Qk0ZawLO0fPkcwG2NmxzjT3A9WCs3YXO0sytQJ+9IYCyEyDrAyCwgD8uohlIj4+pe+dtVrpKWRevsw7Zfm8GdaaxB1QgK4xyp0Xi6Sfs8WJj2fFytfQ9N8/v5silb3PswtTaRxyf0scl38cglzYAh7vgJKEQzcnu5mBSdDV1+k1H8vi/uPoRsmW+68i4MnvofWb1H92klUvHl1IxLWhrjbpfnUt3He8+N0j0UYWyQeLWZnJghFHiVjcnarl0m6zQgLaSLLIH1ufkVabVo2i5bJcqzyAhmV4r50nYemfpLPH/r8rQ82YVOilOKJP/ljdhx5F6fzRbT0abY0Jjhx1ibqdtmz5wO8v/N+hrr9nElPcTI7QSijt/SZsuNjzVXwhvKg3X7z/kZJF/pBBcSdImfEBG79XuL61Qfi2X/wD3Bff53Oa6+tQZQJ653GdyeRKQPrrr4VjQ8jxZ88d46RgTq5uQYIC9lXQJhAGJGaniNOxwTp4Vsa93qmKWoUxQy74rvJxnnMVAapG7RK82gStvaZNDjLlvaP8tVzh2HwLsTgbgYfqCPTaSYf/xcEM5tLlilJtCUsiQpDFn7vCYyHfpFSd5Z6rJHRFon0zafn5A31Ib0QGg6OO4m+DVJBP246jzl3nFf2HbvqNfb9A2gFm8p/O44K3pyVe0LCmyVqB1S/fAJzPIu5p4//9NKX0VJn+IBn0S69Hz3dRuu/srW5OzuD0HXMdAZnapGgP4syNr8r0rXQpI5pzBBLi05bJ+h2Gb/vbYS+Tym3QDDbpvXDzXXDT1h7mk8/Tdxuow29HwGY2yWnjx9BSh1N3EmoT2FZt6lGk4Du1n6MWhurWLv+cAH21q00uxWmojPsNvrZFYyy9/vHWews3vp4EzYdf/inXyb3yh7O5GeYcGq8e+F5Tk855DPb+Imdv8zD3QdpGm0O9Z2gbNfeejW4gsypGZSh4Q9uDu3jW42m6ejpHJF/nKlWTAR0Xpy/apzz8MMYY2OU/ssfrH6QCesaf6qJu28R5+EhhL6yVMiXXp1irt6lr+8A20oppLYVrSfZTebcaYhivKECSm4SaaU3ybyYwqXDvdHDaOg4+QLtyiJxGDKUM8GeJRQuram3c6ZdhLv/AVpnkqF/8k6IYyb+b48TFK9uB9+oJIm2hCWp/vlfoMQupJnjVHM/sTFERo825Ul77BgE/Rn0BYXRqqLrLeQI9AUP4xuSA0//FWF05amlkILs3xsjLLnU/nsiwJyweiilqP31KVQQk37fNj732vep6z/g7b7O4NxDRCqNOd6+YqpGvo9XLGIU+smemEUA3ZG+tfoK64K804cv56j23c2xH+7DzmTZuuceDr76HfS7s9S/fY6guDJx9oSElVD987/AedfPEJVMzF0aftRl4uxJIq2PWAbk07f3oU2UdQj6MqTPzCLd62ugStPE3rKVMwt7aYkW78rEvPfcz/DpvcnmOmHlqFjxuT/6FtELAxzPn2bC6vCT09+mUtJ5x/af5bG+f0omSnMie5Yz2am3XMV2AXu2glFr424bSHZkN0C2rwBCR7VP8bo4TtDZiX/uyqo2ISW5f/SPaP/wh0lVW8JFVBBT+coJ9EEb+56VOYO+fLbC1/fP8s47A8yz0wgl0AqjCAdk4JGamiPOSsLM7eE0uhxKKCblSSwc7ozvxckXUErRLPWS4bsGHRriOP3+vXztWIk4tw22PYJ+8ksM/7tfI+60mXz8ccJKZY2/yc0h+VlPuCb+9AyLn/k8xj3/iOn2cboMoOtFYmPznrR3R/tRSLRZE7t2Bq0fZF5hyfvJdOt84xtXi6rqAw6ZH91Ke+88zaT6JWGV6OxbxD1QIvOjW9lXO8dzpS+wK4x5tNpPvfN2jC1NpHnlRsCb7SXX+ott9HqbzvZhWOFJ3mZFCEnaKaGkxJ2p0+gG7Hz4HUhN5+Dks2g5k/J/PUrs3ZxNVcLtTee11+keOYW+/X9AKwj0YcGpY4dQSqHJuxHGLMZtZICwFO62AZSUZI9OQnT9xKNR6MMYGODg/PfQUbzfyrP4Pdi/uH8Vok3Y6IRBxJ/9/vdovWJyoP8gVdvjx859C9vv46d3/k/s0u5l1lngUN9J6ubNkwoxam1SZ+bwB3JEWeemve/tgBACp78fFVdpVDwa6gSdfYK4c2XPeepd78LYsYOF3/09lEqkIG53lFLUvn6acNEl8/4xhLx+4ciR2Qb/+XunuGc0S41n2D2XReqjaKO9e3X++D4Iwd0ycouj3zh4osusOMfWeAejcjt2to/mwgwqjjENyZahLk05Sb70AZ6ePgV7fhriAP3s1xj+X3+DsFxm8l/8S6LmxtdKvr13WQnXRIUhs//r/4r90D+nqzxOd46DMUI/c4TGJtZz0iXujmGEK0mdrKC3KuhbBMLOE+v9tA78HeVq46qX2Xf34zw4SP1vztDZv3nKXRPWJ0HJpfa1k1h39dEYjXnywKcYigJ+um0x1/gnaBkPY6Bz5Ys6XfyZaXJujNn26OweJcrcfmKt18Kx84h4Ct/ZxXe+vx/NMLnnR97P3NkTzOemiWoelb84lui1JbxlFn//93F+9P8O0sC6U6Prdjh76jixPkQsXfKZ27vl5CKaoLNjGK3jkTk+DSso8jNHtxBlDQ5WfsCAJvhnzR/nU197km7Yvf6LE25bOg2fP/3E31E7GrF3+EU0S/HIyafZYmzjJ7f+MkIzONJ3krnUIkrcvHuA3nDJHpkgSlt0tyZVMG8Gx3EQTgG8M7zgzhJHHVrPtVDRpf+fhJQUPvQh3P37aXz962sYbcJ6oPX9adovz5P5sW3oA9dPbr82WeUT3zrGWL/Dnp0z9B3rIGOFPjKGMMFZPI0x3yUcSBHbyZr6cspigaoocXf0ICP9dxAFAc3FOQAKaYNUfpIYn9PHHmQqiOHun4ZT38XwzzD8v/wvBNPTTP3rf0PsXt8caT2TJNoSrmLxU58iam9B5nZxrPYCQr+DWC8idRPE5v6TidIWnZ29ZFv/S4fInjhFKu+iGXehK/jGl790zdel3j2KdVcflS+ewD2SOJ4l3BpiL6L8Z0eQjo7x6CC/+4PfwaTNz3Qtiq1fQsUSa7x2RcuoNVuGF16DWGGl87T2jBGlrbX7EusNAak+Dz10Ga4q/vv+CQpbx9n9yLs4+OJ3qI3W6R6vUP1qYo6Q8OZpfOdviVo70fK7se/WkJbgyIFXiYnRtbuwU9XNqMrwpokdE3d8GLPUIHXuav2lNyIE2NvGaVkeR+svst2S/NKxn+OJZz5164NN2JAsTDT4s9/5IdVimx9sfZYtps2dx77LrsydvHfon9I0OhzNn6arXb+F+UYwS3VyB84SWSadHSO3nev3zSRfyIOWx6gXeT56jqglaL/sX1G9Zt97L6l3v5vixz+xadrREm6c1t456t86h/PIEPae67l6K755cI4nvn2c3UNpPvA2i/0nn2bbgkTaY2gjDrpXJXNyCjSJO3r7GiAsiYApcRqfLo+IH2Wwbwf1uUmisOfQvLVgEqWOYocD/PXeLJ2Rh2HkfvjhpzDzkqF//+/pHj7M9L/796jgrbk6ryWbO2uScMPUv/ENal9/CfOef8SZ1mGqKkRoefKcITKv98O0OYiyDu27RojTEc78HIP7XmOgMYmm7caeO8XLrx+56jVCCDLvH8PckaX8X4/iHiqtQeQJmxkVxVT+4ihRpUv6J8b4j89+jCY1HutmaXV+iaCRwt5Ru+QyGsfk9p8hs/coVSvCyuQJt/QnrmbXQJoOqegUQuSRU2f50qsnGbnnAXY++HZe3fvfKeXm6bxSpPqVE1eclickrAR/dpby517E3P33MO/U0Psk03OzzEydRei7kEYDx07+rt5ImHfwtg7gTJewZ66/QRZSYI+PUzaqHK+/zN2mzXuefhtf3P/lVYg2YSNx9Pk5vvR7L7MYFHlm2zM8rKUZOfQM9/U9wjv7/zEVs86p7ATxTaxiI1akT82RPTJFmHPo7BpN7sdvESkhM9gHMoVX7nDK+zbBnMI9EF6RbCv80i+hwpC5j/120kJ6G9J+eZ7aV09h39dP6h3Lt3i6fsh/+u4p/uzFCd6ze4CffjDP0ye+wNuP9oO0Me/cjox9cicOINuSzthwMo+XIBYxZ+QxFDE/VvjH5I1hKpOnL87BnSMCN72flLeDP/mBRnvPPwEzDd/5baxtAwz+239L+7nnmP3oR1HRxpRwSRJtCRdx9+2j+PH/gvOef0PRX+Rc+yi6di++PklaQmRsPrfRpYgth+62EcKtPv42A9PokHc9hMhy4ltfot6+uh1FSEH2J7Zj7cxR/sJRmj+YSW7oCTeF2I8o/9ejdE/UMN43yv/x4v+LCVHi/e1tiMqH8Etp7B01tEzv5F26HgPfP0Tq9BzToxZC17EKfWv7JdY7Ixn6asfoc7dhF2f5zA++S2NwJ3e/9/0cOvl3nI0O0XltgfKfHSbuhmsdbcIGoXvqDLMf+xLG+I9jjIUYo5L9E7O8/OJTKOkgjRHS2c713+g2xR/M4g3mSJ2exSxdLd3wRnrJtu0sGkWO1F5gj8yy888z/O2+p1ch2oT1TuhHPPNnR/nenx5lInuE57a8wM94MX2H9vNjoz/HA/m/z7xd4mxmGnUT986y7ZF//TTWXIXu1gHc8aFkB3aTMA2J3T8IpJmstJjtfg/vTIx7MLq4Btfyefoff5zW3/4tlc9/fm0DTlhVmj+cofqVk9j39pP+ka2IZUrHzyy2+OjXDvHqRJWff/sY777D4KkDf8bD+7IQdzB334uwIHfmVfT53v0pyiX6issRioBT8gghAT85+s/YHt9Be7F48fk7RqCbexXH28Hnns9zbucvQtCGp34TZ/cog//6X9P45reY+62PoeKNZxYlVJIJuIpGo0E+n6der5PL5dY6nFXBO3OWqX/zm5gP/kuqhBwqfQuMPXimxrB4HS217bZKtF1AC13M9jwQEcghmo08rjpHZA3x8/+P/xlTu3qlpGJF5+V53AMlrLv6KPzcneiDm+eHeCPMj40Q40rxztSofu0UUc1j8X7JX8x9knbUz7uq78Rq7EboCnt7FS3dK622Zsv0vXYKhWB+e5Zas0RmYATTuf3m741izVWI2ibl/j1EQDF7jkpK4/1b78E7vg+9qfG2/vchcyYjjz+EuWVjmsOs9/mx3uNbCd7Jk1T/29fxJvqRfbswxwP8LTZ/+/pevOpBUu0UmvV20oU2uu6tdbjrGwXO1CJ6o0PzgZ0Efenrv0SBP32GlJvm/sKPEwvJmR9r8IGf/YfLbrQ2AhthfqzHGCuzbb715EEq8032jz5DNd3hl4qKQvsOdmXfRiwVE+k5qlb9+m+2UhRY81XSp2eJDR13+xCxkxie3AraroZfa6CiBXbldrAr/SMY2zTSb9cRem/OV7/4RZrf+hbbPvUpcj/1gTWLdT3Oj8tZ7/GtBBUr6t88S+uHMzgPDpJ69+iSv/1hpPjrfTN89fUZRnMW/+TtYzSiCU7+8IeMzraALuau+9EKfeRPvYp1rkWYcXB3jiat3ytEKMEWtZ3BeJRO2OC0dgx3ILr432+mFkH1IULhsn34VX668dXeU3/vo7RP1Sg/+SS5n/1Ztv7v/xvCMNbyqwArnyNJou0abIYfmBvBO32W2f/3Z9HHf5LFyOVY+WliWcBLFUjJIwzoaXznNu4/VwqjW0L3akTCpNTqJ1RlNGs3P/M//zKOfe0J7082aD03S9wJybxnC9mfGEfLbPwF1kaYHxshxuVQsaJ7pEzzuRn8sw3EoM03tOco1tuM1e/FCQoIPcIY6GAMthGaQmt0yB2ZxJ4t4/VnWRxNUS/PYWfypPoSseUVEcVkj0/j5TPU80P4/iggWUxPQsblob4ddM7NsVt7gLSeozXeYfyD7yY7NLjWkd8Q631+rPf4liKsVql/5SvUvvY14k4e++0f7lWT3mdwrjrB6amnKQYGhbqNZuwhVTAwzKSabUXE4JybR3d9Gm/bRbiCKgKlIJo5RdiIubfwEwyaBU7mFrn78Xexdcv4KgR9a9gI82M9xahixYFnp/nhV07S1Oosjuzl/cEd3N/Zgi1zeLHLYrrBgl0ikjevYkKEMalTs9gLNfz+DN2tA7ACl8OEN0/H1fEaESqYYMjZwgOFH0XL6KTfpaPnJSqOKf/hZ+i8/ApbP/Fx8v/wH65JnOtpflyL9R7f9YhaPpW/PI53ukb6vVtw7l9qjaZ45VyVP987yXy9y4/eMcg7RhTHX/8O5mQNLWwizBzmnXcjTYvCkdcw513CrEVn55YkyfYmMGOHUX8L/cYIC8EUE4VpIrP3u1t1IxoLd2FEOeqp7/MvjW+Tb07D/f+Ytr+H8h9/jtTb3862/+OT6AMDa/o9kkTbW2Cj/8CsFBUral/fS+N7M0hngCm/zOnqD1DCoJW16adIQc8ROENrHeq6QEQ+pruA8DvMu1liwNYf4IFffJTdu8au+RoVxrgHS7gHFgFB9ifGyf7oNoSxcXsGNsL82AgxXgsVKTqvF2l8b4qo0kUbdnjNOMPBhXOM1x5GKoGe62AMBGgZH4FCX6hhnZ1BX6gTWhrtoQwtfHy3jZXOkeobSETWbwC91iY1uUjrrq2EfRpezcBzRwCNRuYEe4xT9Jnb0Lv30a924kYtqoNl7vzQjzO4Y8dah78i1vv8WO/xvZGo2aT8R39M5U//FKGlcX7sXyHt3Wj9EOXOsHji27xuugT1O3A6bTRjO6n+DIaxsd20Vp1IkTpbRPN9mvfvIsivrFI8mj1Lp9JiNPMQd6bvQwjFia2L7PkfH2LX9rtucdA3n40wP9ZLjIuTTb71p4cIZ1zS+QX2yCxDcQ4v6rDYnaaWbuP26zd9w6y1umSPTiK9AHdskHAFVZgJN4cg1GjWTIQ/hyMj3tb/PlJ6DudeHfsuDVRM5U8+S/sHP6Twz/85wx/590hndbtO1sv8WIr1Ht9ydE9UqXzpOCpUZP8v45jbru48cIOI506WeOrwPIvlOg8adXbFZcLyJPguIEDvQx/Zij4ygLWwSP74CYQXEQyl6I4mJiZvBaUg1bXZqd2NFBongwOUMhWMdIpISWYWBrDdO6jrx0gZ3+XO5lnCMENTDBJUWmQixZ6f/Tke+Jf/E7qxNgUsK50jG2K3/+lPf5qdO3di2zaPPvooe/fuXXb8l770Je655x5s2+Ztb3sb3/zmN1cp0o1B3A1ZfOoEp3/zW7Rf9GnoeV5tTHGq8j2UjDHzAdvNkGx6R5JkuwylmXiZMYLMVoYyXaTy8cKjHPjyCb7yJ39OtTJ91WuELkk9Mkzhg3dj3dVH4+lzzH/yFdqvFlHhxus1f7Mkc3h5VKzo7F+k+KlXqX75JDItOL79IJ9rf4WF0zY7qm9Hyy6QvreEvb1J7E7j7dtP44fPsXDqEFNRlbMDMVOZgIpbJY4jMgMjpAtJku1GCfvS+P0Z0qfmkK6GviVFamcLkWmQb+1htvZT7G2blMVf40dPomSVbdWd1H7/KK9+4os0ZovX/5ANRjJ/r43yfSpf+AKnP/APqP3V35F57N+R/sD/hszuJhyYo1X8NAdOPsVL4b3o83fhdDoYznayQ2aSZHszaILOrhEiyyR78AxWsbayl23dRXp0iGJ7P69U/oqZoMXds8Non57jex/7K773jb8l2MCuZivhdprDSilmz9T4wieeY+8Tr3B/vcMH8gaPMgLdRV4vf5cX699keqiGO3CTk2yxwplYJP/6aUDRvmtbkmRbZQw9ojDgInMDuNoILy/+HZPNo7iHQ0rfauLPKwr/4l9S+Gf/jNpf/iWnf+ZnqH3lqyj/5rrL3kxup/n7ZgmKbcpfOErps4fQ8hZ9/+OdVyTZlFKcKDZ58vun+X9+9lmOfPNp3nny2/wPC08xPvM80fw0Iu4nTt+JtutdOA/cTy7yGHrhRQoHjoGIcHf1092SJNneKkKA63Q5pu2nHM1zr/lO3t39MQYn02hnquTrL+E1P421+E2iWY9jzTGOhf1MqRb1fMiirfHdZ57iD3/p53nxP/3/CN31u55a9xVtX/ziF/nwhz/MZz7zGR599FE+9alP8aUvfYnjx48zPHx1O+Pzzz/P+9//fj7+8Y/zsz/7s/z5n/85v/u7v8trr73GAw88sKLP3MiZ/KXwvJBz++dpPXOUgbKGJjRKQcCUO0/d24+KWpip7PmNefILsiLcBvVKhVhJpPUwUhumlT+Jk28wNDzAHTsfZtv4vQjtUmtpWOvSebmIf66BsDWsO/uwxrPoo2nMrRm07PpvLb3R+ZHM4Wujggh/pkX3WIXOq7NEzZhOaoFD2oucCm0K9YfI+gNETonMtoA4bBLOzuBVysQqxgzBlAYyk0KlUwgpEVIipZbM4beKAufcAnrLpbNrhO7WQZAQB5J2RUNrZ1Ao6nYR3ZzlHlFlMHgnWf0eYhXR7m+z5bEH6XtwHGlqa/1truJG5sftNH9VHBPOzxPMzxM3m6g4RqbSaIU+9EIB4aSIXZfusXO0nz+Iu/8cwtqCNrQHIQ0CGVOK5+h2nmdRpGn4A2jdMiquIfUMqUI/prX+/h42HDE4MyWMagt/MEd71+iKdK/idovu1CRxFJFLZ8g672GrGCSjSboqYiblMvrAVsb3bEXLWWh5Ey1rIdaZo1xyD74at+Xz0qtnmNo7xWARxjHo0zViFVOKi1Ta5yh2pkBTGEMj6IV+xM1s44wV1mIdZ7KIdEO84Rz+cGGDlDNsXqIYWs2IyNfIxj53ZO+m3xqlFTfpFly2jOm43/4y7iuvoPX3k/+HP0v27/99nIcfRuj6LYsruQe/NVSsCBc6+LMtgtk23pkawWwbmTZIvXME66489W7IzGKDqZki0zNFqrPz5N1F8n4VoTxAI9IzeLYOliKluwyqJparkE0NWZeISKBsRdBv0i2MgHbr/iZuZ8zYZiAaJM8AtuzpSYcqoBFXKIVN5ryYuq8RKkEkWzT1aQz3LAO1Ck3TIBXGPLzjTu772X9M5tH3oGVu/eHGpmkdffTRR3nXu97F7//+7wMQxzHj4+P823/7b/nN3/zNq8Z/8IMfpN1u8zd/8zcXr73nPe/h4Ycf5jOf+cw1P8PzPDzvkhhxvV5n+/btTE1N3fIfGBXHeJ0OnWYDt1mn22oT+V0QAt20sDNZnFyOVDZ3Scw8UqhYEUcRXrdLp9OlUm2yuNCgsVgnqLroTZ9UJyLtC9LKIqNl0KVON+qy0P3/s3fvcXaV9aH/P+u+r7PnmpnJ/QKBIBAwCgZswZZKa0ur/Z1TjrZiqeKl0Kq0p0cUyKm1cE6Poj0WRamIHusBy1H0FKpyogGVe0Ig5H6fydxn9uw9+75uz++PnUwyZCbJTOaa+b5fr/WCrFlr7edJ5tlr7e9+nu+3m47iHrygmvDVdCJEkiksJzKlfT0XhWFAMTuIVyygKQPNqAejBjSLUAtxrTKhVca0Q2Jxm+YFzSxdcj61iWb8Dh+vp0CQrqC86uw2PWljL4xj1DnocQs9ZmHELTTHQHcMNNtAs3Q0Q0czqxumNq2BlaGhIZYsWUImkyGVSp32+HN1DCul8P0A3/cJ3Dx+IY072Et2oIfs4CD5fAGv5KO7GrZnY7k2ph/FCqJEgiSxMI6OTgWPbop0eB6BH8UMbJRyCex+ItYAlNJU8kOEKkAPIeFp2JEYYWMtypab/pQ5msTaHsgRRC0qC2oJUgn8iEWAQTlvEhYtDLe65KRi5tGNIZYTp8VcQsSMo1RIUS9TjOqEiShGJIJmmKBrKFMHx0CPm9g1DrEah1iNTTRhYzommqWjaxq6oU3uB0LGN4bPtfGrlEIVi/gDA3jd3VQOHcLdv5/yrt1UDrbh+wo3EieIJCFWj5ZYgBVbgBOtx7Jrsaw4ulb99OyHAbnAZyjwyQZlhrwhCHMovx8VpgGFbseJJuJYkajMLp1kRrZIpHsQzQvxa2N4dUn8ZJTAsVCmMWqQQwUBbl8f3uAgoHBsiFqtpMzl1Bp1xI0Ipn48GBoSUtKL5K0CbsTDTYCK26iYA4koZipJIpGkriZBUyJFJBap3punMBfXfLsHe57HQDZD+6EO+o/0ke/OEGTKmMWQuGtQEzqkjAQ1VgJDM3DDCoOVHgYqnQxWusHwMKMRtNpGjETN2Y/DEDQ/wKh4GMUKRq6IPZBD9wO8ZBS3uZZwjNy9YmaoUFEuFqm4NgkVo9VppMFpxtJtKkGJtDdAyc1CPoNeyKB5RcyGOM7SZhLLW4kvW0jN4iVEGuvRYrGzfuaez/fgsahQVT/fBiHKD1FuSFjxCUs+QcGnkinh9pXweotofSU0vxq+KBs+g1qJbr+f3lI3eqWM4ZcxggqaOnGmsoGmxfEtBzcaYEYr1BhRor6FXg4wh4qYQyV0P0SZGn7CxquNEsQToEnEfLoYyiJKlIiKE1Vx4iSwqH6RVlYVCoFLJQhxQw0PhRem8csdVMIcoVchXihg6wFWbRSnJYbTGCVSFyGSipBIJYkn6rATdWixBojWQ7QWTIfx3hjOeAyrWaxSqSjDMNQPfvCDEftvuukm9fu///ujnrNkyRL1xS9+ccS+u+++W1166aVjvs6GDRsUIJtsso1ja29vlzEsm2xzeDvdGJbxK5tss3eTe7Bsss3tTe7Bssk2t7fTjeFZPR2iv7+fIAhobm4esb+5uZldu3aNek53d/eox3d3d4/5OnfccQe333778J/DMCSdTtPQMLeWUR6Lrk7nNxBTTfo0+yilyOVyLFy48LTHyhieWXP9d20qyN/JmY9hGb9nZ77/rkn/p6b/cg+efPPtd3U+9Xc29lXuwRMzG/8tZxP5+zm1yfz7OdMxPKsDbdPFcRwcxxmxr7a2dmYaMwlqamrOuQEmfZpdzmS5ynQ618bwZJvLv2tTZb7/ncymMXyuj9/5/rsm/Z/8/s+m8Qvnzhieb7+r86m/s62vs2kMz7XxO9v+LWcb+fs5tcn6+zmTMTyrFx03NjZiGAY9PSOruPX09NDS0jLqOS0tLeM6XggxdWQMCzF3yfgVYm6TMSzE3CXjV4i5bVYH2mzbZt26dWzcuHF4XxiGbNy4kfXr1496zvr160ccD/DUU0+NebwQYurIGBZi7pLxK8TcJmNYiLlLxq8Qc9wpM7jNAo888ohyHEc9/PDDaseOHerDH/6wqq2tVd3d3Uoppd7//verT33qU8PH/+pXv1KmaarPf/7zaufOnWrDhg3Ksiy1bdu2merCtCmXy2rDhg2qXC7PdFMmjfRp7pMxPHPm2+/amZC/k/GR8Ttx8/13Tfo/O/ovY/j0Zsu/1XSZT/2d632V8XvcXP+3nGry93NqM/H3M+sDbUop9eUvf1ktXbpU2batrrjiCvX8888P/+yaa65RH/jAB0Yc/73vfU+tXr1a2bat3vSmN6knnnhimlsshDiRjGEh5i4Zv0LMbTKGhZi7ZPwKMTdpSik107PqhBBCCCGEEEIIIYSY62Z1jjYhhBBCCCGEEEIIIeYKCbQJIYQQQgghhBBCCDEJJNAmhBBCCCGEEEIIIcQkkECbEEIIIYQQQgghhBCTQAJtc9ihQ4f44Ac/yIoVK4hGo6xatYoNGzbguu4pz7v22mvRNG3E9tGPfnSaWn2y+++/n+XLlxOJRLjyyit58cUXT3n8v/7rv3LhhRcSiUS45JJLePLJJ6eppad377338ta3vpVkMsmCBQt497vfze7du095zsMPP3zSv0ckEpmmFov5YKLvFeea8b7XCDEZ5uP4m89jbSLPAWL2ONfH63wZmzIOz23n+jidiPkytsdrJt8LJNA2h+3atYswDPna177G9u3b+eIXv8gDDzzApz/96dOee8stt9DV1TW8/cM//MM0tPhkjz76KLfffjsbNmxgy5YtrF27luuvv57e3t5Rj3/22Wd573vfywc/+EFeeeUV3v3ud/Pud7+b119/fZpbPrqnn36aW2+9leeff56nnnoKz/N45zvfSaFQOOV5NTU1I/49Dh8+PE0tFvPB2bxXnCvG+14jxGSZb+Nvvo+1iT4HiNnhXB6v82lsyjg8t53L43Qi5tPYHq8ZfS9Q4pzyD//wD2rFihWnPOaaa65RH//4x6enQadxxRVXqFtvvXX4z0EQqIULF6p777131OP/6I/+SP3u7/7uiH1XXnml+shHPjKl7Zyo3t5eBainn356zGO++c1vqlQqNX2NEkKd2XvFuWS87zVCTKVzefzJWBvpTJ4DxOx2rozX+Tw2ZRye+86VcToR83lsj9d0vhfIjLZzTDabpb6+/rTH/cu//AuNjY1cfPHF3HHHHRSLxWlo3Uiu67J582auu+664X26rnPdddfx3HPPjXrOc889N+J4gOuvv37M42daNpsFOO2/ST6fZ9myZSxZsoQ/+IM/YPv27dPRPDGPnel7xblgIu81Qkylc3X8yVg72Zk+B4jZ61wYr/N9bMo4PPedC+N0Iub72B6v6XwvkEDbOWTfvn18+ctf5iMf+cgpj3vf+97Hd77zHX7+859zxx138L/+1//iT/7kT6aplcf19/cTBAHNzc0j9jc3N9Pd3T3qOd3d3eM6fiaFYcgnPvEJrr76ai6++OIxj7vgggt46KGH+OEPf8h3vvMdwjDkqquu4siRI9PYWjGfnOl7xbliIu81QkyVc3n8yVgb6UyfA8Tsda6M1/k8NmUcnvvOlXE6EfN5bI/XdL8XSKBtFvrUpz51UnL8N267du0acU5HRwe//du/zX/8j/+RW2655ZTX//CHP8z111/PJZdcwh//8R/z7W9/mx/84Afs379/Krs179x66628/vrrPPLII6c8bv369dx0001cdtllXHPNNXz/+9+nqamJr33ta9PUUjFXTfV7hRBibDL+xOmc6XOAmHoyXucvGYdzh4xTMZWm+73AnJZXEePyV3/1V/zpn/7pKY9ZuXLl8P93dnbyjne8g6uuuoqvf/3r4369K6+8Eqh+G7Bq1apxnz9RjY2NGIZBT0/PiP09PT20tLSMek5LS8u4jp8pt912G//2b//GM888w+LFi8d1rmVZXH755ezbt2+KWifOFdP9XjFXTeS9RojTkfF3Mhlrx53Nc4CYfPN9vM7XsSnjcG6Z7+N0Iubr2B6vmXgvkEDbLNTU1ERTU9MZHdvR0cE73vEO1q1bxze/+U10ffyTFLdu3QpAa2vruM89G7Zts27dOjZu3Mi73/1uoDqlc+PGjdx2222jnrN+/Xo2btzIJz7xieF9Tz31FOvXr5+GFp+eUoq/+Iu/4Ac/+AGbNm1ixYoV475GEARs27aNd73rXVPQQnEume73irlqIu81QpyOjL+TyVibnOcAMfnm+3idb2NTxuHcNN/H6UTMt7E9XjP6XjDl5RbElDly5Ig677zz1G/+5m+qI0eOqK6uruHtxGMuuOAC9cILLyillNq3b5/67Gc/q15++WV18OBB9cMf/lCtXLlS/fqv//qM9OGRRx5RjuOohx9+WO3YsUN9+MMfVrW1taq7u1sppdT73/9+9alPfWr4+F/96lfKNE31+c9/Xu3cuVNt2LBBWZaltm3bNiPtf6OPfexjKpVKqU2bNo349ygWi8PHvLFPf/u3f6t+8pOfqP3796vNmzer//Sf/pOKRCJq+/btM9EFcQ46k/eKc93p3muEmCrzbfzN97F2Js8BYvY6l8frfBqbMg7PbefyOJ2I+TS2x2sm3wsk0DaHffOb31TAqNsxBw8eVID6+c9/rpRSqq2tTf36r/+6qq+vV47jqPPOO0/95//8n1U2m52hXij15S9/WS1dulTZtq2uuOIK9fzzzw//7JprrlEf+MAHRhz/ve99T61evVrZtq3e9KY3qSeeeGKaWzy2sf49vvnNbw4f88Y+feITnxjuf3Nzs3rXu96ltmzZMv2NF+esM3mvmA9O9V4jxFSZj+NvPo+1M3kOELPXuT5e58vYlHF4bjvXx+lEzJexPV4z+V6gHW2AEEIIIYQQQgghhBDiLMzPxcxCCCGEEEIIIYQQQkwyCbQJIYQQQgghhBBCCDEJJNAmhBBCCCGEEEIIIcQkkECbEEIIIYQQQgghhBCTQAJtQgghhBBCCCGEEEJMAgm0CSGEEEIIIYQQQggxCSTQJoQQQgghhBBCCCHEJJBAmxBCCCGEEEIIIYQQk0ACbUIIIYQQQgghhBBCTAIJtAkhhBBCCCGEEEIIMQkk0CaEEEIIIYQQQgghxCSQQJsQQgghhBBCCCGEEJNAAm1CCCGEEEIIIYQQQkwCCbQJIYQQQgghhBBCCDEJJNAmhBBCCCGEEEIIIcQkkECbEEIIIYQQQgghhBCTwJzpBsxGYRjS2dlJMplE07SZbo4Qs4pSilwux8KFC9H12RmrlzEsxNhm+xiW8SvE2Gb7+AUZw0KcymwfwzJ+hTi1Mx7DSpykvb1dAbLJJtsptvb29pkeqmOSMSybbKffZusYlvErm2yn385k/D799NPq937v91Rra6sC1A9+8IPTnvPzn/9cXX755cq2bbVq1Sr1zW9+U8awbLJNwSb3YNlkm9vb6cawzGgbRTKZBKC9vZ2ampoZbo0Qs8vQ0BBLliwZHiezkYxhIcY228ewjF8hxjae8VsoFFi7di1/9md/xh/+4R+e9viDBw/yu7/7u3z0ox/lX/7lX9i4cSMf+tCHaG1t5frrrz/jNsoYFmJscg8WYm470zEsgbZRHJsmW1NTI28wQoxhNk8nlzEsxOmd6Ri+//77+R//43/Q3d3N2rVr+fKXv8wVV1wx5vGZTIbPfOYzfP/73yedTrNs2TK+9KUv8a53vWtc7ZLxK8TYzmT8/s7v/A6/8zu/c8bXfOCBB1ixYgVf+MIXAFizZg2//OUv+eIXvziuQJuMYSFOb7Y+R8v4FeLMnG4Mz76F4UIIIYSYFR599FFuv/12NmzYwJYtW1i7di3XX389vb29ox7vui6/9Vu/xaFDh3jsscfYvXs3Dz74IIsWLZrmlgshxuu5557juuuuG7Hv+uuv57nnnjvleZVKhaGhoRGbEEIIMZ9JoE0IIYQQo7rvvvu45ZZbuPnmm7nooot44IEHiMViPPTQQ6Me/9BDD5FOp3n88ce5+uqrWb58Oddccw1r164d8zXkQ7oQs0N3dzfNzc0j9jU3NzM0NESpVBrzvHvvvZdUKjW8LVmyZKqbKsS88Mwzz3DDDTewcOFCNE3j8ccfP+05mzZt4s1vfjOO43Deeefx8MMPT3k7hRAnk0CbEEIIIU7iui6bN28eMcNF13Wuu+66MWe4/OhHP2L9+vXceuutNDc3c/HFF3PPPfcQBMGYryMf0oWY2+644w6y2ezw1t7ePtNNEuKccCzP4v33339Gxx/Ls/iOd7yDrVu38olPfIIPfehD/OQnP5nilgoh3khytAkhhBDiJP39/QRBMOoMl127do16zoEDB/jZz37GH//xH/Pkk0+yb98+/vzP/xzP89iwYcOo59xxxx3cfvvtw38+lmRWCDG9Wlpa6OnpGbGvp6eHmpoaotHomOc5joPjOFPdPCHmnenIs1ipVKhUKsN/llnlQkwOmdEmhBBCiEkRhiELFizg61//OuvWrePGG2/kM5/5DA888MCY5ziOM5x0WZIvCzFz1q9fz8aNG0fse+qpp1i/fv0MtUgIMR4TybMos8qFmBoSaBNCCCHESRobGzEMY9QZLi0tLaOe09rayurVqzEMY3jfmjVr6O7uxnXdKW2vEGKkfD7P1q1b2bp1K1BdVrZ161ba2tqA6mzSm266afj4j370oxw4cIC/+Zu/YdeuXXzlK1/he9/7Hp/85CdnovlCiHGaSJ5FWfotxNSQQJs45wRDQww89E0yjz+OOkVeICHEPLD/Z7Dxs5A+ONMtmXNs22bdunUjZriEYcjGjRvHnOFy9dVXs2/fPsIwHN63Z88eWltbsW17ytssgGwH/Oof4ad3VX//lZrpFokZ8vLLL3P55Zdz+eWXA3D77bdz+eWXc/fddwPQ1dU1HHQDWLFiBU888QRPPfUUa9eu5Qtf+AL//M//POaSMzF9wlKJgW88ROaxx1AnvL8KcbZkVvnsoZQi8/0f0PulL+H39c10c8RZkhxt4pyiPI/2j3yU0tatoBTl17fTcudnZrpZQoiZsPvf4X+/F1Cw+VvwFy9DtG6mWzWn3H777XzgAx/gLW95C1dccQVf+tKXKBQK3HzzzQDcdNNNLFq0iHvvvReAj33sY/zTP/0TH//4x/mLv/gL9u7dyz333MNf/uVfzmQ35gel4IWvwVN3gaaDUwPP/k94261w/d+Dps10C8U0u/baa1GnCLSOVo3w2muv5ZVXXpnCVomJ6PzMneSefBKAwksvs/C/3YsmY1q8wUTzLIrZIf3Nh+n9h38Ay2Lo3/+dFY89hpFMznSzxATJjDZxTsn+8IeUtm6l+TOfoe5P/oTB73yH4ksvzXSzhBDTzSvBv90Oi98C/+Fh8Arwyy/OdKvmnBtvvJHPf/7z3H333Vx22WVs3bqVH//4x8NLU9ra2ujq6ho+fsmSJfzkJz/hpZde4tJLL+Uv//Iv+fjHP86nPvWpmerC/LHpv8GP/wus/h34o2/D//cNuOLD8Pz9sO2xmW6dEGKCKnv3knvySeo/+EEaPvpRhn74Qwa/8y8z3SwxC0mexbkryOXo+/KXSfzWb9H693+P391D/1fHzm8rZj+Z0SbOGUopBr75MNHLL8M5/3zsVasoPPsrer/0jyz/l+/MdPOEENPp1f8N+W647r9CvBHOeye88i/wG3eDIbe+8bjtttu47bbbRv3Zpk2bTtq3fv16nn/++SlulRhh1xPw9H+DN98El/zR8f1rfh96d8BP74Q1N4AVmbk2CiEmJPtvT6DH48TXr0ezLCr799P7D/9A9LLLiF5yMVBd0ZH5P/+H3KaniV60hoaPfARdKsHOefl8nn379g3/+Viexfr6epYuXcodd9xBR0cH3/72t4FqnsV/+qd/4m/+5m/4sz/7M372s5/xve99jyeeeGKmuiDOUPZHP0K5Lqnf+z2M2lqSv/3bDH73uzR++BaM2tqZbp6YAJnRJs4Zlb17cffvJ3HtOwDQdJ2a3/09Sps3U9r2+gy3TggxbY4toVv6NqhZWN236h1Q7IeDT89s24SYJMNLAit5+L+fgCVvg4v/48kHXvZ+KPRWg89CiDkn/8wzRNauRbMsAOpuvBFr6VLaP/IR8s88Q+HZZzn4RzfS/befxe/ppv/rD9L9t387w60Wk0HyLM4fuZ/8lMib3jQcVEtedx3K98k8/viMtktMnHytL84ZOx57nu1v+S9Ejizj8gU+ra0m0Te/GaOhgcy//uvwt35CiHNcxxbo2wXXnfBBo35VdWbb/p/Beb85c20T4ix1Z8t88tGtvHQozW9cuID/uXgjkXKmukx0tJxNqUWwaB1s+Ta85eZpb68QYuKCfIHK7t3Uf+ADw/s0y6Lpk5+k/8v/k/YPfwQAa9kymu+6C2fVKvI//znphx+m/k/+hMhFF81U08UkkDyL80OQz1PcvJm6P/mT4X1GTQ3Ryy8n+/0f0PCnfzpzjRMTJjPaxDlhxy87ea5tMVo0guvCUz8t090doOk68be/naEnniAco6y1EOLc4Pf14XV0wLbvQawBWi87/kNNg5bLYP/GsU4XYtYrewE3PfQCe3py/H/rFvPivi7cX34Fdd5vQmLB2Ceedx10boH+vdPXWCHEWStvew3CEGf16hH7jWSSBXd8muYNG2j5r/+Vlr/9W5xVqwCI//qvYzY1kf7ud2eiyUKIcSpt3gxBcFJgPL5+PZU9e6gcODhDLRNnQwJtYs5Ld+bY9N1dNA5s49Lmft56hU0qpfOLZ8r4viJ+1VWEhQL5p2XJmBDnqszjj7P32new7zevY+C7j8Oyq0A3Rh7Uegn07oTS4Iy0UYiz9eWf7eVQf5H/8tsX8u7LFnHvmsPUhBl21b7j1CcueguYEdj1b9PTUCHEpCjv2o1m25gtLSf9TNM0nJUrsVesGFGBVDMMYm97G7mfPoVy3elsrhBiAoovv4xRV4d5tNDUMZFLLkGLRMg99dQMtUycDQm0iTkr8D1++ci3+dZf30xp4IsMVf4fpfoYuq7xpotNSiXFju0eVksL9sqVZP9NEoEKcS6q7N9P9113E7vySpJvX0fvSzplLjj5wMYLq//t2DK9DRRiEvTnK3zjlwf5nUtaWFIfI/RDIrsLfLPv6zz5/1rJpMdeXoTpwMLLq0UThBBzRmXPHqzFi9H0UT6ydW+DpzbAE38Fv/oS7PwR9O0GFRJbt45waIjSq69Oe5uFEONTem0b9sqVIwLmALptE3nTReR//vMZapk4GxJoE3OSUooff/UfefGH/wf0pTTWXkDFgl+++AM2795EPK6zcJHB9u0uvq+IvfWtFH7xDEG+MNNNF0JMst4v/SNGXR0NN99M7doYZjyk/yc7Tz6wZiE4STjy8vQ3Uoiz9L9faEMp+L1LFqKU4vC/7WdX9+U4cReKNt/7lke6/xTBtkXroGMzlDLT1mYhxNmp7N6NtWjRyT/o2w0//Uy1urYVrVYXfukb8MTt8H//EqveQk8kKDwnFaCFmM1UGFLevh17xYpRfx69dC2l114jyGSmt2HirEmgTcxJu5/7Bbt+uYkFy68lXr+OZt+jzoWSA22vPMuT27/P8uUGlQocPOATu+IKVMUlv2nTTDddCDGJ3LY28k89Rc3v/R6abaN1vEhyTSO5F17Dz+ZGHqxp0HAedEmSYDG3BKHiuy+2cdWqBhIRk4HX0gzuLfKW+PdYfplJR+oIvh7wxP/xcStjBNtaLwMVwuFnp7XtQoiJUUpROXQIa+HCN/4Env8KJFvhyo/CpX8E62+D6/4rvPVDUMmhPXU3zurzKLz04kw0XQhxhrwjRwjzeezly0f9eeSSSyAMKTz/wvQ2TJw1CbSJOScMAn7x3W/Rev6FZAcbaF6RotxxmHzc5II3XY1hOwzt3sWe/FYaG3X27PEwGxuxV61i6Mc/nunmz0v3338/y5cvJxKJcOWVV/Lii6d+8PvSl77EBRdcQDQaZcmSJXzyk5+kXC5PU2vFXJL53vfQEwmib3sbaqgTsh3E1q2FMCT3q1ECanUrqstthJhDXjyYpitb5toLFuCXfI5s6qSltgM/pdNzqMSaRI4tC35MNufzk38f470y2QKJFjgo+UqFmAuCdBpVLGIueEOhk/49MLCvWkH7xFykugENqwgv/wDpYhwt5lPevgMVBNPbcCHEGavs2QOAvWTJqD83GxowFy6k8Nxz09ksMQkk0CbmnINbX2aor4fGZW8h8BRerB+nFJBcsBjHirJo1SVEK7B5x0YaWz36+kIymZDYW95C4RfPEBZk+eh0evTRR7n99tvZsGEDW7ZsYe3atVx//fX09vaOevx3v/tdPvWpT7FhwwZ27tzJN77xDR599FE+/elPT3PLxWyngoDsD39E7xX/iUcf8/jfj0fZxh+gL7kIZ/ki8i+NElCrWwHZI7J8Tswp//56F40Jm/MXJOh+oRcVKlrt/Swq/jEX5hfzG4W1/Jeh3yXf+Dptu03+5Ve7Rr9Q80Uyo02IOcI93AZwcqDtwNMQTUHD6pPO6eiL8vjmy/hRcC//bvwZaXsRlf37p6O5QogJqOzdi55IoKdSYx4TueACiqeZpCBmHwm0iTln28afUNe6iKH+KMkGhwNHqvkn7FQze7pz7MlqEK8lNeCzq/IspgmHDvrE3vpWVMUlJ8tHp9V9993HLbfcws0338xFF13EAw88QCwW46GHHhr1+GeffZarr76a973vfSxfvpx3vvOdvPe97z3lLLhKpcLQ0NCITZz7ii9vpkst5LXwciKpAglrP5vV+3h5/0KiF66g8MpOlO+PPKn+aA6Mnu3T32AhJkApxY9f7+aty+sJygH9WwdY3qpY6v4muyNt7Fnay56lPQzoFd5XeQuL64bofW4h/7zraSpHejhw29+x6/f/nN5vPY5qWlP93a/kZ7pbQojT8NqPBtreUImQjpeh8QI4oUBCqODFnfU89XIrlqm4bOkBIloXO9Z8gOKOMQLvQogZV9m7F2vRopMKIZzIufBC3IMH8fv6prFl4mxJoE3MKW65xKFXX2Hxmy6lt22IxAKbcncnytB4vq9Ee6ZI0fXpUg3YnmL/4VcII2X27ncxm5qqy0ef/PeZ7sa84boumzdv5rrrrhvep+s61113Hc+NMQX6qquuYvPmzcOBtQMHDvDkk0/yrne9a8zXuffee0mlUsPbkjGmX4tzS+an/489q2/Ei3bxi+Cf+Xn8J+jJF9l+sJbexstQFZfS3sMjT6pZBJoBffLBQ8wNO7ty9OYqvHlpHX2v9GMrxeq8Yp/VTnGBj6HrBIZiW6qLHVo/61QD74onsH52HnvvvI9gqED8iksYeORJsjtcUEH1g7oQYlZzjxxBr6lBd5zjO/M9kO2AhvNHHPvC9kZ2HEpx4dIsF5/fzRPeM2xO/YKKXcuezfLhXIjZqrL/AFZr6ymPcVZXZ68Wt0iO4blk1gfannnmGW644QYWLlyIpmk8/vjjpz1n06ZNvPnNb8ZxHM477zwefvjhKW+nmB6HX3uFwPeI1y3Hd0MykW5q85B3IgTAm1prWN2SZM2KRSg7RmooZJ+7jUIOntzcQ+yKKyg88wyBzHiaFv39/QRBQPMbvo1tbm6mu7t71HPe97738dnPfpa3v/3tWJbFqlWruPbaa0+5dPSOO+4gm80Ob+3t7ZPaDzH7KKXY+1IPFTvFAWcj1zRexpvLFV6xniOaTLO59zyCWILia3tGnmhY1eqjfbtnpuFCjNMze/twTJ3zm+L0vTLAmloICBlwNmOYxz+A1yccntc62dbSSRj3+E1jEZXF/5HGD/wB9b//G8Quu5C+x35JqMeq1UeFELOa19WF2dg4cuexL4nqj1coPNwTY3d7DRctz7KspcDTA6+S9YpcaLmYlSPs7xp7powQYuaoMMQ9fBjzNIE2s74es6mJ4mb5kmwumfWBtkKhwNq1a7n//vvP6PiDBw/yu7/7u7zjHe9g69atfOITn+BDH/oQP/nJT6a4pWI6HNy6mZrGBRQyFpats2foOZryEJghy+oiWGb1V1rXId60iHgxxItuQaF45pUh9i1cjfJ9ck89NcM9EWPZtGkT99xzD1/5ylfYsmUL3//+93niiSf4u7/7uzHPcRyHmpqaEZs4tz31f39JW+IyKhykPlnHQq/CBb5iUaSR3c5PKLsGPRf8NqWdo+SmSS2WQJuYM36xt481rTUUDuQwSz6LfJ3tkV3UmZERxzmWTtyx2FccIrOwl778II2L17Hd9wBIXbceP50lN7AYOrbMRFeEEOPgd3Vh1NeP3Nm3G2INYMcBCEN4aWcDjakyi5uK9FYyvJY7xKU1y7kouQQ92E9WX4Rb9kd5BSHETPJ7elDlMlZLy2mPtc87j9LWrVPfKDFpZn2g7Xd+53f43Oc+x3ve854zOv6BBx5gxYoVfOELX2DNmjXcdttt/If/8B/44he/OOY5kt9p7mjfvo2m5StId+aJ2xk6/CyJgiLhFFhUGrkUzE41oWka0XwJLT7EMqeWb27PYF94Idkf/miGejC/NDY2YhgGPT09I/b39PTQMsZN5a677uL9738/H/rQh7jkkkt4z3vewz333MO9995LGIbT0Wwxy+3vy/OL//VTcjXL6I7t4kh3PX6mA6J1rE2tZFD1Eq3p41DqCgo7D6GUGnmB1FJZOirmBC8I2Xx4kItaaxh4Lc2yFAQEWOF2fKf2pOMb4zYD+Qpqx2G89mfxFYSHqktOrKZ6nJWLyezVZUabEHOA19mFOVqgLbV4+I+He+LkSxbnLx5C0+AX6ddJmlHOi7VCpJaodgClW7S93jHNrRdCnI576BAA5hkE2pxVq6js3EXoulPcKjFZZn2gbbyee+65EfmgAK6//vox80GB5HeaK/KDaTLdnTQuXUG6M4cf7sP2wAwgl2jEKfUSyR1fMqgbJlaynrq8QdrYTTSIMJjzOLLqEoovvYTX2TmDvZkfbNtm3bp1bNy4cXhfGIZs3LiR9evXj3pOsVhE10e+NRlGtXz9SQETMS/9j5/s5vzAQgtdrNoyjm5Dvhei9aTMKK1OPe3WS5SJM2AsxOvuH3mB1CLId0tCeDHrvd6RpeyFXFATJXc4zwI94GCkh4awTGCfXKGsPmFjKoW5twtaonQzxDLVTDpfASB+2RqKB3P4/d2Ql7xNQsxWSim8ri6MhoYTdoYweKia/uCoXW011CUr1MR9OkoD7C92cXFyObqmgWmTiuUwvSKvPffq9HdCCHFKbls76PrJS8RHYZ93HsrzqOzYMQ0tE5PhnAu0dXd3j5oPamhoiFKpNOo5kt9pbujYVX1jiSZb8D3ojxdoKtjVH9Y34kUaiWb3oYfHp8fbNY1YZY/+cBsojYtqG/mJsRDNccj84Acz0Y155/bbb+fBBx/kW9/6Fjt37uRjH/sYhUKBm2++GYCbbrqJO+64Y/j4G264ga9+9as88sgjHDx4kKeeeoq77rqLG264YTjgJuavnqEyv9h6CCKL8cPDLIwt4aLaABOfklldMrwq1sqRcB+OXaF7wVso7xulIAJAepRlpULMIi8dSuOYOjW7ukjoivowQskZQmkGgRU/6XhD17ggl0f3Q4LFjQQ1/WjA/n0JACJrVoJSFLoi0C0fvIWYrcKhIVS5jFFXd3xnoRf8MiSqs1/yJZOedJRFjUVQiqfT26gzEyyNNA2fEk8liRW76D9UnO4uCCFOw2tvw2xoQDPN0x5rL1kCpknp9e3T0DIxGU7/rzoPOI6Dc2JFHzErde/fQ6y2jmL3IBDSFi/SOmCicAmjDmW1iEQ5jZNvp1RTTRJrJesBjWi5SGiVWGKneKK3F/3ydWQe+z80fvSjaBK8mVI33ngjfX193H333XR3d3PZZZfx4x//eDgg3tbWNmIG25133ommadx55510dHTQ1NTEDTfcwN///d/PVBfELPKDVzpYlz5CLvkmMs7PWeWsIlbaRwi0lRwuqIXWSD2WbhLGOxloupTSnp9R82tvOX6RY7MBBvZB69qZ6IYQZ2RLW4ar9QxDz/eyPBpDhU0kB9sJkklglATnoWJxZx/pRJQAjbqoRzrrUltoBdowaxLYixaQ73FJdb0G51138jWEEDPO76vOOB0RaBtsq/43UX1+OtQVR9cVzfVl9hW7OFLu49qGSygHIdvaM5S8gLckEziVboYKi1FKoWlSGEGI2cJta8dc0HT6AwHNNLGXLqW8bdsUt0pMlnNuRltLS8uo+aBqamqIRqMz1CoxGbr376G+dRHZA4eIGjn6KZDIafgRE3RQhokXaSCSa0NT1VxeumlhxlPUlU1y5iGMsoOha+xbuRa/q4vCs8/OcK/mh9tuu43Dhw9TqVR44YUXuPLKK4d/tmnTphGVgU3TZMOGDezbt49SqURbWxv3338/tbW1099wMes8+VoXb/croOmE9RU0TceupKnocTqyLqECU9NZFGmgW9uNZ8bpOfiGb/KdJERSMHBgZjohxBna2pbhPa9tJJ9Ygl1nUKj0E399kNA/eTabn89Tem0bHU6J3hT0ZKpLoweMNI16lNxQ9UslZ9VSir0OqktmtAkxW/m9vQCYJz77ZA6BFYFIdfb24Z44jTVlTD3kmfTrNDt1NFl1bDk4gDfYQ2yog929ZcygF3AYGhh9ZY8QYma4bW0YjWcWaAOwly+n9PrrU9giMZnOuUDb+vXrR+SDAnjqqafGzAcl5gYVhvQc2E9d60IyAz4qUgYgWVKo2PHZiG5sAXroYpeO556xknWY+QqD+j7cksbK2iTP+UmsZUsZ/O7/nva+CCEmpi9X4bWOLEnPQvf6SVkxcod3UB7sIXRq8IKQ/nw1SWyrU08He9Hx6MqNUoU2ubA6o02IWapnqAxdHUSGdDRCmvUU6RoFekh0dwnC4zkr3YEBhl57FS+fA8MgDEpoA21kszmCZJpAKToOxwCIrFqKX1C4u1+bqa4JIU7DOxpo008MtGWPQHwBaBqlik5fxmFBXZndhQ763SyXJpazvzuD1buXaL4L2y9Atp+CcQSAvfskNY4Qs4nX1YnZNI5A27JluAcPEo6RDkvMLrM+0JbP59m6dStbj5azPXjwIFu3bqWtrTp9+o477uCmm24aPv6jH/0oBw4c4G/+5m/YtWsXX/nKV/je977HJz/5yZlovpgkg92deOUSdbGQrNdIIV7GUhapik8YOR5oC80IgRnHKRwZ3mcl66sJZIMuAFbE6tjRlSN6zbXkn34ar0MqMQkxFzy9p4+EW6JoL6KsHYRdO8i37+JQv0e2YhCxDHqHqkH4lkgdaCGOkWHQXoyfzo68WLIF0jKjTcxer7ZneFvXdvobL6UmWsDGxrPKBK0eZqZC7GA3AEGpRH7Pbmw7wqLBkHh9E6mWRYSaQU/bASKax0DgEslXqxc6y6tLp0v7esCVvE1CzEZ+Xx96PI5u28d3ZjsgVi2O0NkfAzQaU2WeH9xFi1NPVEXIHtyBqXzql62iYdl5qFgtvaaL5nZyYL887woxWwT5PGF26IwKIRxjL1sGYUhl9+4pbJmYLLM+0Pbyyy9z+eWXc/nllwPVxOqXX345d999NwBdXV3DQTeAFStW8MQTT/DUU0+xdu1avvCFL/DP//zPXH/99TPSfjE5+g4fAsDKdhMom347g+5GiFZcgqg94lgv2ohZTqOH1ZkthhNDtxxqXQ3XSpMMo7hBSOeqS9AiEQYf/d50d0cIMQHP7uvnt7w+ytFG3HAnyvdoWLGGhBXQ2ztIbUSnN1chVBDRLWqtJGW7j6HUCkoHjoy8WLJVAm1iVtveOcRVvbvI1J5PzMzhE+CFA6iYotxSS822g5iZAsUDB9ANg6ZBnyARJUhEMQwDo6YJBXS3H6abNCki+CULPeJgLUhR6jOhb9dMd1MIMQq/tw/jjSkzhjqHA20d/VFqYi79QT897iAXJhaxZ/sOjMClbtFyLCeKpmnE65sxNI2w+DwD7UPT3xEhxKi8jk6AcQXarMWLQdcp75JA21ww6wNt1157LUqpk7ZjOZ0efvhhNm3adNI5r7zyCpVKhf379/Onf/qn095uMbn62w4SSSap9FS/we/QukgUbbRQnRxoc+oADbtQzdWnaRpmvJZI0WfIaMPNGURtg11pl/jVV5P5138ldN3p7pIQYpyePzjAJcUiKixjFAeINC7GxqMp6hOGIZFKFi8IyZY8AJqsGrqdNjwrwcDe9MiLJVuh2A+V3Az0ZG65//77Wb58OZFIhCuvvJIXX3xxzGMffvhhNE0bsUUikWls7blj15E0Lb5OqFvU6Ro5o4gZDBEaNoWVrQQxh+hzr+Nl0tSWNUw3oLS4cbhGQjxiUbZTlIsFMt4eAqXId1eXUTvLllDst6FHqpcJMRv5/X0YqdTxHW4OKkMQb0Qp6OqPUl/j8mruAEkzStjvogpprLoW7Ojx99xExCKiG7hhG253ZQZ6IoQYjddZnWFqNDSc8TmaZWEtXEh5t3xJNhfM+kCbEAB9bYdINTSSGwwwDJ+yXiRVrCZ2DiMjA21KN/CdGuxS1/A+K1ELpRIF7RBeWWd5TYKdXUMkf+M3CAYHyf30qensjhBinI4MFunMlImXQsLyZjTAqW/F9IbQLQcnUYOb6cE0NPrz1Q8TTU6KPu0wAL1HvJEXrGmt/jd9cBp7Mfc8+uij3H777WzYsIEtW7awdu1arr/+enqP5g8aTU1NDV1dXcPb4cOHp7HF546h13eQq1mJpnks1Bop2yGGlycwo2DoDL1pOemEwgogXgoormhG2ceLyTumBpaD7sQJct0M+iGlgWoRBXvZQtwhi7BdqpcJMRsF/QPoyeTxHUPV2S/EGhkqWJRck1SyyO58B0udJroP7SWwYtQ31o+4jqaDEYuiCCHbRRCE09gLIcRYvM5OMM2TZ66ehrVkCZWdEmibCyTQJuaEvsMHScU0hoImiFRnnzW4OgoIHOuk4327FrOSHV4+aiVqq/8NBwBY5NSyuyeH3tKCs2YNg48+Mi39EEJMzMuHBjFDH5d6fG8PZrwW3bKPBh4iRJIpvFKRlBkcD7TZKQK9jBXmGci84X0ieTTQNnhoejsyx9x3333ccsst3HzzzVx00UU88MADxGIxHnrooTHP0TSNlpaW4a25uXkaW3xuyBRdmtr2kEmdhxXJEidGyfLQ3QKhUa2g7huQM3zM2joKFywhiDsnXSdqGZTNRLWgUOUwES9KWDGxF7cAUN62dTq7JYQ4Q/5A/8gZbbnqig6i9XSnI2goBvU2POVh97oQeCQaW9E07aRrqVgCJzAJ3QOku2UWtxCzgd/djVlfj6a/IRzjFau5xcdgL1lCZe8elFJjHiNmBwm0iVnPK5cZ6uslpWfJqYW4TgkzdKj1A0LHAuPkhwrfrgXAOlp9VLccDCdG0lVUzDTJMILrh7QPFklccw2ll16mclBmtggxW21pG+SKYIChaC0qHMSpXQCA7lUDD3Y8AZpGxMszVPKp+IqoYRM3HAwtQyaoRZ34Tb5TA1ZUAm2n4Loumzdv5rrrrhvep+s61113Hc8999yY5+XzeZYtW8aSJUv4gz/4A7ZvP/XyxEqlwtDQ0IhtvtvdnWNVtouh1ApiZh6AklHGCMqEZjXQVslnQSnsRHJ4uegbRS0DV2lE40kGCq+hlMLLxLEWNKCZGqU9MttQiNnIHxhArzmhYna+u3rPsqP0ZiIk4x77yu3U6XEKPd2ETg01yeio1zKcGAlPEfqH2b1PcpMKMRt4nV0Y9XUjd778DfiXP4In/zO4+VHPsxYtIiwU8bu6Rv25mD0k0CZmvXRnNYl5otxG3q8nYw6iBw6xikcYOXk2G4AyTAIzjn000AZgxlNYhQo5ox2/YGDoGnt78kTXrUOLxcj+8IfT0h8hxPhtOTzIlaUMftiOAqyaejQVVAMPRhRdN7BjCShWq4umC9XZrLVWkrLZTy6+CK+n//gFNa06q00CbWPq7+8nCIKTZqQ1NzfT3d096jkXXHABDz30ED/84Q/5zne+QxiGXHXVVRw5cmTU4wHuvfdeUqnU8LZkyZJJ7cdctKcnx2LPI9RtavSQol6GoBqADIxq/qVybgjTiWAYxpjXsa2jj3mRJH5YJB9UcLMxNEPHaqqh3FOG0uCU90cIceaU5xFmh94wo60HYtVlob2DEVJxlwOFLupzJoQBNY1NY17PcqIkQh8IOPDq1qltvBDijHidnRj1J+Rn69gMr38fFq+rPpu+/M1Rz7OOPiNV9u6dhlaKsyGBNjHrDXS0A2AWMgTKoF/rxfAdouXKSfnZTuQ7tZjlNNrRqbVWohYqFYraIbySweJEnL29eXTbJvbWt5L94Q9RoeSuEGK2KbkBu7pztBQqhO5BiETRDQvDKwDHAw92LI5bzBExNdKF6vLROitBn9WNZyfJ7HtDXrFEswTaJtn69eu56aabuOyyy7jmmmv4/ve/T1NTE1/72tfGPOeOO+4gm80Ob+3t7dPY4tlpT2eGhBYHFM1aipLpD/++h0aEMAxxS3msaOyU1zE0sE0dV+lodoTBSideJoZSYC9cQHnQgl7J9XKuG09BE4AvfelLXHDBBUSjUZYsWcInP/lJyuXyNLVW+Olq8R7jxBltuR6I1FKu6OSKFspJUwldtP4CoRUjER99NhuArmtYugbYDB6UD+dCzAZeVxdm/Qk5Fbc9xsHo7/GvfZ/gJ9Z/o7znOcj3nHSeUV+PFo1KoG0OkECbmPXSHe1E41EqVN+M8lYWK4xgFSsnVRw9kW+n0FWA6Va/rTfj1W8G7aN52hZHUuzpqeaqiF91FX5XN6WtW6ewJ0KIidjemcUPFVqpuvTFStYCYHhFAELzWKAtAUqRpMzg0Rlt9VaSAacaYOs7WBh54cQCGJQl42NpbGzEMAx6ekY+6PX09NDS0nJG17Asi8svv5x9+/aNeYzjONTU1IzY5ru+PQcoJhZj6EM000TZ8jH8IqFhg67jlQrVZaORUwfaACKWQdH1idTEGay0oQUmYdnCXrIEN2cSdr4+DT0SM2W8BU2++93v8qlPfYoNGzawc+dOvvGNb/Doo4/y6U9/eppbPn8FA9Xn1BHFEPLdEK2nf6iai7FfO0zCszC8CrFU/WiXGSG0dSwS+GlZbibETFNBgN/Xh3Es0Jbror+rwDPFPyYWCUh7C/g5n0TteuKkczVNw1q0kMp+WQY+20mgTcx6A0faqYnq5FmEpodUjBIpIuiuT2CPHWgLrSihZmKVqsvFdNPGiMSJuQGukaWWGN3ZMoWKj7N6NUZdHUNP/vt0dUsIcYZePZKlNqyQ03XAJ5qsLmU0vAKhbsHRRLKm7aAbJrZfpOAGVPyQOjNBxcigqYB0jz/ywokWyB4Bmck6Ktu2WbduHRs3bhzeF4YhGzduZP369Wd0jSAI2LZtG62trVPVzHOOUorygYPkEktx7AIGBgXTxfDyhEdnb7rFArphohujp084kW3oeIEiGkuQ9apLq/18FGtxCyiNyrYtU9ofMbPGW9Dk2Wef5eqrr+Z973sfy5cv553vfCfvfe97TzsLTkweP139gnh4RpsKoTgA0VoGsg6WGdLmHaJuSCfUDGrqUqe4WlVgW0R8C8oDeG5lKpsvhDgNf2AAgmA40KYO/pLn+TOSMQ8zdpBssI8etYb2PX2ggpPOt1paZUbbHCCBNjHrpTuPkDQK5IxlKMdFx6A+qGZ+DqPVDxkJVcNF/uVc7l3FecGbiKk4AIFTg1UeGL6WGU9hF1xyZjta2QTgQH8eTdeJvuUt5H76U6niIsQs82p7hqvCfgqWi9IMzFj1W349KBIaxystappWXUpXriaQTRc8ooaNpZtYQZbB3Bsrj7ZA4EJOvuEfy+23386DDz7It771LXbu3MnHPvYxCoUCN998MwA33XQTd9xxx/Dxn/3sZ/npT3/KgQMH2LJlC3/yJ3/C4cOH+dCHPjRTXZhzBgou9eke8olFRKwyISFl08PwC8PLpCvFHKYTYZQCgyexzeqjXuDruGaEop/Dy9lYzY3Va+3ePWV9ETNrIgVNrrrqKjZv3jwcWDtw4ABPPvkk73rXu8Z8HSloMrmCwerS0eFiCOUMBB5E6+jPOiSiFXoqaZyhCno0iX4GbwRhxCHmAoS0bdsxZW0Xk0+Wfp97/KMrBY4tHe3c10M/54HVxdb2DPFYCUizo3INqmvbSedbixZR2b9fPrPOchJoE7NaGAZkerpIBr3kwyYqVgHDd6jxqzNTQsemMWxmnX81NaqWQPNZELbyFv/XWRKsxLdSmF4ePawuI7PiteBWKGoH8UsmNZbNvp7qh/LYunX4vb2UXz91hTwhxPR6tT3DpaUsftBB6MTQjn6oMLwC6mjg4RgrGsMr5omYkCm6aBqkrBhoGYbCmpEPJYmjSf4zUnlxLDfeeCOf//znufvuu7nsssvYunUrP/7xj4cLJLS1tdF1QuWrwcFBbrnlFtasWcO73vUuhoaGePbZZ7noootmqgtzzv7ePItdF6Wb1OkWRaMCmkL3SigzQhgG+JUyljN2TqYTmToYukbJDwgjEXLeAIW0gW5bmDU2lcMSaD5XTaSgyfve9z4++9nP8va3vx3Lsli1ahXXXnvtKZeOSkGTyRWk02i2jXZs1Ub+aGGvSIqBIQdlZ7ErCiMMSaROPZvNUAaNYQuReDPxSgUw2bnl5antgJg0svT73HQs0GbU1UE5y47sWmJmlr3pLpqbXfbHNtOdeIVuLubAK5tPOt9auBBVKg1fR8xOEmgTs9pQXx+h75PU8uTKCYaMDHrgEHc9lKYRsWtZE1xOhkF26a/Rpu9jp/4KfVoXq8I1LDLfCoBVrn47eCxPmx5U35hWxGrZ21sNtDmrV6MnEuR//rMZ6KkQYjSZosvhdJHGXA4VdKHHj+ek0v0SwQkz2gDsSAylQhKaz2CxGmBPmTHK5iDFyAL8/hMqLCYWVP87KIG2U7nttts4fPgwlUqFF154gSuvvHL4Z5s2beLhhx8e/vMXv/jF4WO7u7t54oknuPzyy2eg1XPX/r4CjWH18axJq6Fs+uh+CQ1FaETwSiUATMc51WVGcEydshtgRiDnFzHcBEqB1ZSi3FsBt3D6i4h5YdOmTdxzzz185StfYcuWLXz/+9/niSee4O/+7u/GPEcKmkwuPz2InkwOf6l0LCF6xWigWDYpGD3U5HWUphNLJMa8TkRFeav/61wcrOOy2B/QGG9G0+vo2LtzOrohJoEs/T43ed09YJroySS5/dvpYC0Zv5ualMs29RqWZqJi3fhamZ3pGOoNy0fNo+k43IOSZ3g2k0CbmNUGuzoAiJhQcQ0yRhozsIlWXIKIzYXBWlwqtOn7QKvOVFGaoktvo1NrYzkXknDehHk00KabFkYkTsIN8M0cjUaC/X15FArNMIhc/CbyTz8zY/0VQoz02pFqTimvOASEWDV1AOihh6784ZxVx5iRCGgadlAiV/bxQ0hZcQasXjw7SXZ/74kHQ7ReZrSJWWV/X56YkcAMizRST9kM0E+osOuVC2i6cUb52Y6xDJ2KHxCxQvKBgaGZ5NMKq6WJStaEgf1T1R0xgyZS0OSuu+7i/e9/Px/60Ie45JJLeM973sM999zDvffeSzhGPkspaDK5gsFBjBMLIRT6wIwwWK7+vfaoNuKFEC2SOB6MewNNaVzsvxXQ2KVvJadlWbziNzHNegrdR6ahF+JsydLvc5ff04NZX4+maezeG2DgUiBDd3QfSSPG5bELWRs/n4rdRod6G7t3jJyFajY2gmlSOSAFEWYzCbSJWW2w8wi6Diq+EoCSlcdWEaySS92Ci6mhlnZ9P0o7+eGvV+sgyyDLou/Erhy/aZjxWuyCy5DehuM5ZEseA/nqzJfopWspb9+O398/PR0UQpzSa0cy1BohOc0FzSIeq+azOF5xdOSsHk3TsSJR9KMzdLIllxozxqBTDbYPHMyPfIFks8xoE7PKga4Mvl1P0ixioFM0XUy/SKjpKMPCLRUxbeeM8rMdYxs6QQiWZjJ09MTu9hL24sUEFQP/wCtT1BsxkyZS0KRYLKLrIz8eGIYBIPmApkkwmB5ZcbTQB5EUg3kHTVP0VA5jeyHRxNgBzSXhSmLEOaTvoayVOKIfxDCjnJdYjaoUKWQGxzxXzA6y9Pvc5ff2YNTWEgQhewdXEVUHSDRnyYV51kRXomkamgaNNWXMUpqf/2ojm59/BrdSLWSiGQZWSzPuAZnRNptJoE3MaumuTpJ2QMFaAUDZzBMzophFj4ULrmRQ66eo5Uc/WYNO/RA2cVqMi9H9aiJQK1GL5nkU9f2EZRMLg/191WtE3vQmAArPPT/1nRNCnNarR7JcqWcpGgWUkcDQq0VM9KC6fC7UT14+Z0Wi+MUchq6RLXmkjDhlaxCUYqDbHXlwfAEMHprqbghxxrKH2ijGW4mZLgpF2fTQvQLKdFAK/HIJ0z7zZaMA1tGCCFpoUDaKlIIi+TRYixYCUHldKo+eq8Zb0OSGG27gq1/9Ko888ggHDx7kqaee4q677uKGG24YDriJqeUPjBJoi6YYzNk4Tplo0UMBiZrkqOcbymBJuJIBrYeyVv1SytNc8oUjrIwtA6D3oMxiPRfJ0u+5weuuBtoO7+iiQg1YAxwODtFsNVFjxIePC7K78QpPEJR1Nr/wC37wyEOUStUxbTY34x6SQNtsZs50A4Q4lUxnGwktT15fBKaP0iFu2DRGV2KbCfZr+055fkUrk9b6WBC5ggPln1FJtAznacPrBGCJk2Jfb54rVzRg1NZiLVlC4dlnSd3we1PdPSHEKSileKVtkD8tdlNRaYLoouGf6X6JUDNBP/n7IisSozg4QNwMyZZ8VjTEMXSwwhzZ7BuOTzTD4V9OdVeEOCOuH6J1d1OKvImY1UNRL6M0MPwioR4l9F3CMMCw7HFdt1oQAVxfERplCoFLhFqyRhl0qOzdQ/z0lxFz0I033khfXx9333033d3dXHbZZScVNDlxBtudd96JpmnceeeddHR00NTUxA033MDf//3fz1QX5p1gcBDn/POP7yj0QbSebN4itHIksoAVQR8j8NkaLsHApFfrHLF/qHiAxcnlNEaW031gHysuf8sU9kKcrbNd+g1wySWXUCgU+PCHP8xnPvOZk2arQnXptzOOnJ/i7Pk9PTirV/Pq6xVStFFc4FKolFjrXDB8TCk7yFBPO1Z0BYG9nLBxG4UjOZ7+6Y+4/vdvxGpppfSKzEafzWRGm5jVBjvaSJgV8n4dnl1E922iusaCBesY8nqpaKXTXqNf78bWUyzwqlPsdcPEjCWJuwGBmafVTrK/9/isuMhFF1F47llZIiHEDOvMlunPu9QPdgAKLTGyEIIyRn8wtCLVaozRsEL2WOVRM47GEENubOTBiWYY6gLfHeVKQkyvI4NFlpRKoBmkzBglwwPA8AuEpo1brt7zjHHOaAOwDIOyH2IYLvlAp85uZu/hTqwaC7d99GVI4twwnoImpmmyYcMG9u3bR6lUoq2tjfvvv5/a2trpb/g8FWQyb5jR1g+RFJm8TUHrJVpSmJExQuMKWsNlZLU0njbyvlZQaVy/zJL4xbTt3jGFPRCTQZZ+n7v8vl7yyYVkywuo03azP2ijyawjYVSfX5VSDB45gBWNE69vIhI0cqTcxaVvvoJD+/fQfmgfZksLXlcXYbk8w70RY5FAm5i1At8jl8mSsEPypQgFI4ce2Kz0UkSiDfSHHWd0nZJWpBimaWbp8D4zXkuk4JM3j5AIYuzvKxAevQE5a9bgd/fgHZFksULMpK1tGQAqxTRoMazY8eCC4ZcIjdFn9eimVQ2o+yUqfkjZD0maUTwjQ8FqICgUjx+cbAYUZGWphJh5hwYKNPnVe1GjlsK1QjQVoAcuoRHFr5TQDWNCS/gsQ8f1AmzbpxD6OEaMtvY0Rn2CSnce5EOYEDNOhSFBNot+rJpo4EI5S9lcQMUzyFYOYCiIJkdfNlqj6oiTYEDrOelnyrIo5LpYFFshS0fnCFn6fe4J8gXCQpHthcXY5Ciksgz6QyyzW4ePKWYG8Molko3NWNEyEOD4iynEFPWNC3jp2U2Yzc2gFJ4s9Z21ZOmomLWyvT0oBYnaGvJpGEpkMEKb88IlVMqD5Ow8Z/ornKGXFvN8bL8H1zSwEnWU+9rJhztJeReifOjMlFhcFyOyejXoOsUXXsCWhKBCzJhX2gZpSjrkghya3ULUOV5hVPdL+E5q1PM0TcOKxFCVAjh1DJV8kmaUIbMfFV1Dqa2LxJpq3kfiR5MMZw5Dw6qp7pIQp3Swv0gtJglVwSFB2Rw6XvjDcPDKQxjWxJb4WKZGrhxSa2jkgiJQj6NqGaivp6azH3LdUNN62usIIaZOmMtBGB6vOlocACCrqmPTK3eh0IjFR5/R1houoUKZPCdXjgxtk1L6MHV1K4iVHcqFPJF4Ymo6IiaFLP0+9/h9vbhWnJ5yE6v4BS86FZJhgnrz+DNtrrcTKxrDisaAENscpK6ygpe7XucdF1zOi7/6GZmj/+zu4cMjl5qLWUNmtIlZK9PdBYCTWoTnQcnMURvUsIBmhjL7UeaZx4nTehYNnZZKdUquGaup5nZyq/kr6rU4+44uH9XjceylSym+9PKY1xNCTL2XDqdZZ2XxdBeMBI5eHb8o0IMyaowZbQBWJIJXzGPqkCt5JM0YA04/aAYD+zLHD0w0gaZL5VExKxzqLxDTo6T06lKQkuGhB8cCbRECt4xhWRO6tn30w5ihLHJaFl8FNMcX0uZECcoGwaFXJ6cTQogJCwar1UCHZ7QV+gHIBg2Awq4UCW0HbZSyw7oyaFKtpLU+GKUqcWA5lAs9+CqkJbqCvkMHpqobYhLJ0u9zi9/bR8fCXwel0K29tPv9LHNahsesVy5RyQ8RTdUPn2M7eaL+Qrpyh1nQ2kI0Fmf3ob1okQjuYXl+na0k0CZmrUzbXgwtxI+vBKBk5VmnnY9Ckcu3j+u31zdCSmE/DUH1TUvTdax4LfGKT2gVWeikONBXGD7eWb2a4ssSaBNippS9gO0dQ6xJ7wA0Qicy/BCiB2U0FKE+dqDNjMRQYUBc98lVfJJGlIJd/QCT7jght6NuQryxOqNNiBnWli6iGQkSRoCLh6+HGF6RUDfxVTWlwngrjh5jGdUBpAKdQC9QCDyak4tpK1bwdY3KdrnnCTHT/DcG2orVQNuQW4tmFoiWFaYz+iy0JtWCicmg1jfqz0PHARWS8QvVQFvboUlvvxDi1MrdfRxZfC2L1Cu8VmPjaDYtVuPwzwvpXjRdJ5KoGd5nRD3AIOo305nvYdGS5RzYuxO9uRn3kDy/zlYSaBOz1uCB10mYFQra0enyepm12jKGKt0EE1j0nFd91GmL0FT1w4aVqMUpBRT1NuqIsb/veEEEZ/VqvI4OvG5JEC3ETHi1PYMfKpy+fWh6I0H0+M+MoDrbJxyjGAIcL4jgBBWyJY+kGcXXiuihy+DAG3JRJZoh0zbpfRBivA7353CdOuKmTsEogwa6X0QZDv6xQgjjrDh6jKZVg22uH4JZJh/4JI0mgjCkJxXH3btrMrsihJiAIJMBOL50tDAAVpRsKYIbtqErcMZaNhosIUcGV6uM+nNlmihdkXEzNEYW039QPqALMd327CjhmTEajJfZS54ldgv60RmqSikK6X6cRA3aCUuCDdvH0PKkvKW81ruHhUuWUymXyDTW4bbJ8+tsJYE2MWtlOtuI2yH5cozQqrBcLaaWOLncYUJ7/Ak9s1oWQ7Op96tVB61EHZqCvL8dK7DpTJfxgxCoBtoAKZssxAx5+fAgNXpAMZ9GMxdh2OHwz3T/aKDtFDPadMPAsB1Mv0jZC9AwiBoOpsoyVHzDefFmGDw0Fd0Q4owFoaLc1Ydn11BjRiiPqDjq4Ltl0DR0Y2JLR6FaEKHsB1imSz7wMIIoC2rr6WiswT0kCZWFmGnBYAaopjEBqjPanBRDBYuKd5AQiI8SaIuqOLU0MKD1nvoFDI18pQ9DMygfzk5u44UQpxQGIbvaHOqH9vBC0kHXYIndMvxzr1zEr5SIJE7OQeyYGWrcpRzKHqKmtp5INEZPxJSlo7OYBNrErJUZyJKIO+RzULbyrPPeRFGrUB7qJDTHH2grGj5+WKTBrSZU150YmmmDW521lgyjtA9Wc+EYqRRmczPFLRJoE2ImPH9ggLeZnSgUurkIO3L8dqUHJULNrOZZPAXLiVYLIgD5SrUgAtoQOVKoIDh+YLJZcrSJGdeVLbGwVEIHkkYc16wGlw2/SKBH8N0KhmkxSmqmM2YZOhU/xLEgF5TR0Fix4Dz6oxEy3ZlJ6YcQYuKCbBYtEkE7loux0E/opMgVLUK3m8CyMI2T732t4RJ8PLJa+pTXV6aGqgxQCVyiuShhGJzyeCHEJNn3/zh4/2coqjj1Q6+w3yqxxG7B0o9/pi1mBtB0HTt2cjDdjJQxwlrKbolA+SxoWUiXV8bv6SGsjD6LVcwsCbSJWSn0fYaKIYnaFENZRckc4hK1kl4zje76KHv83+grw6QY9FIfHs3TpmlYiTpiJRdlVqjX4xzsP56nzV61itLmzZPWJyHmM6+3SO7pI2T//SClXWmUUmMe6wchLx8aZEV2N3booGkmkROWy+l+6ZSFEI6xIlH8chFUSL7ikTCjlMwMxegCvO7+4wcmmquzBtzC2BcTYoq1pYu0VDziOuiajmcp9NBHDzxCw8GvlCe8bPQYy9AJQkVEd8ioQUKlaI4vRgcOuBEIw9NeQwgxdYJMBv3YslGAYj9FaxFBCIabAzty0jma0mgJFzOo9aO0se+tAMrUcdwCGb/IAnsxGUmRIsTU+/k98J3/j9cOrSBe6SbDEEqDZfbISt+lzADxeAO6dvKEEiPqA5DwFtKZ76SpZRG5SomSqeMdOTIt3RDjMycCbffffz/Lly8nEolw5ZVX8uKLL57y+C996UtccMEFRKNRlixZwic/+UnK5fI0tVZMhtyhbYRoxOoWUMgrFlkpHCzSRj9aqAitCSRpA/IMkKABU1XPt5J12J6iYhym0UhwqL84fKxz/vmUd+8mLJXGupwQ4jTcjjx9/7yNnvs2M/T/DlPY3MPAw9sZ+M5OlDf6h/ptHVm00hB2zz6csJ6QIawTlokaQZnwDANtKEVMc8mXApJGhLTdh2/FyR44IVl08ui0fZnVJmZQe7pIY6BIadUZJmXDQ/er96RAd/ArlUkJtAFooYGr5yiELlaQpNHSaY8lUWkZA0LMpCCTwThxaWihn5y+CBVmMcIQe5RCCPWqCRvn9MtGgdAyscslMr5PvdNC/4GDk9l8IcQbtb0AT/93sqs/TGfxPGoGd5CLlVlqt2DrxyeOBK7H5bFreVfDzVzhX0syrB1xGc1UmFqWhLeI3QOHaWhqBiAdj0qetllq1gfaHn30UW6//XY2bNjAli1bWLt2Lddffz29vaPfTL773e/yqU99ig0bNrBz506+8Y1v8Oijj/LpT396mlsuzsbgzmcBMFLLUaHGGn0RXWEGgmrQayI52gByWg5N06jzqw8qVqIOBRQq24mrCIf6TyiIsGoVBAHl7dvPqi9CzFf5X3XQ+0+v4A+USP7GEurfv4a6/3QByeuWUt6dJv3YnlFntj13YIBLSnvQNB2slYRGabjiKFRntJ0qP9sxphMBNCJBhbzrkTRjpO3qTLaBQyfMXktUH1ak8qiYSW3pInWaSUrzKFEh0BXG0UCbj4lSAYY58fxsAJZRLYrg+grMEnnfh1KShQ21DEUjdP/qqcnoihBigoJM5nh+tjCAcpYh1YzyOwCIxpInndMSLqZInrJWPOlnb6QsEy1Q9KsimqaT39Uzqe0XQrzBL++DuhXs8n4H04La/h2UHI3l9sLjxyhYmVvJ0sQaOrSDhARcGryViIqOuJRtDpH0Wjky1IHjREimaknXxPHaJcfqbDTrA2333Xcft9xyCzfffDMXXXQRDzzwALFYjIceemjU45999lmuvvpq3ve+97F8+XLe+c538t73vve0s+DE7JI9uB0NRWA0EtVNVtBKm9aP4VaTQ090RlvZBC/M0+AdzdNmWuiRKLjdaGgMpiE8+sHfWrwYzXEobd06KX0SYj7JP9dJ5v8eIPKmBmr/8HycVbVoho6maTgrUiSvWULp1T6KL5/8kP/s3j4uze2gtrYJN9pEeHS6/DFaUEadQaBN03VMJ4LpFylUfBJmhIqZAaVI93rHD4zWgWFLQQQxo9rTJaKaTdKAgl79UqkaVDbxvaOFEeyzm9EGYBsGrh9iOUcLIvhRmhcvxQhCdj33wllfXwgxccHgIHri6Ky1UhpUSC6oJwiP4BsaEWfke4CpTBpUM4Na/yhXG+X6lo2mNApaiXJQIuiQFT9CTJlcN+z9KWr1u9i7C5KNFSK+jxNNYenHP8suLi2hVVvKrvzL9Bs9HNB3ERJyQbAWTvg+2rRLmGEDQ5UMAPWNC0gnY7htEmibjWZ1oM11XTZv3sx11103vE/Xda677jqee+65Uc+56qqr2Lx583Bg7cCBAzz55JO8613vGvN1KpUKQ0NDIzYxszKd7cQdKOQ1lkZjePj06Bn0sovSNRglEeyZULpDKeilNjhezcVO1OOUS4QExEKHnqHqQ4dmGNgrVlB6bduk9EmI+cJtz1WDbBc3EH9bK5p+cvZ2Z2UK5/xaMk8cICgcD3q5fkj/9s1EKkOk9AShbmE4x8/TQx9dhYQn7jwFKxIFt0jZC4loEZQWYIV5stkTZsVqOiRaJNAmZlRbuoimx0iYJiXDBaoVR5VxQsVRfWJfMp3IMjTKXkjU1BkKC2joOJFm6osl9rb3njJ/ohBiagWZzPFAW3EAgJyfIvA78U0T6w0LOhpUMzo6GW3gjK4fHg3UmVqFjJ8lkj8555sQYpLs/SkA6ZpfIzsIh9RrADQkm4cPaaosYHF5KQdyr5HVq8VMAs2nXd9PnWqgVS0ZPtZwqs/LtldL3h2ivmEBBVMnf+jQNHVIjMesDrT19/cTBAHNzc0j9jc3N9M9RvLO973vfXz2s5/l7W9/O5ZlsWrVKq699tpTLh299957SaVSw9uSJUvGPFZMA6XIpAdJxB1yGVjsJDis9WCYYFS86my2iVZd06Cg0iSoxVDVX38rXocZQKB3UKNFaU8fn3pvr1xJ6dVXz75PQswTKlQM/mAvZn2E+JWtaKcokRi/shUCRe7p40lct7YPcsnAFsymxTBUnclmO8evoftHl4+fwYw2qAbalFtGCwM8D6K6g6ENMeTHRh6YXCCBNjGj2tNFlJkgZkaomNXffd0vEprHKo7aZ1Vx9Bjb0HH9gKgeIU0/Sil0N0GTXyHnK3oPHTj7FxFCTEiQzZ4QaKvOUsuUHfAzhNbJXzA1hs0UyOFp7hldPzya5zFKmSGvQkpvxM1JLmIhpsT+n0Hjag4ejmKYinb3ZQCMWHVJaMJLsqKwin6tm0P517Eix59N89oQA1ovK4MLsdTRZ15HR6dMzG+hM99NXUMTAL09HdPbL3FGZnWgbSI2bdrEPffcw1e+8hW2bNnC97//fZ544gn+7u/+bsxz7rjjDrLZ7PDWLuucZ1b6AJmyRTxVQzhkkTIiHFDdWIaGfizQdhby5NA0nVRQzXNhxWtQgBvsplaP0XZCoM1ZuRK/pwev5/QJZoUQUNrWj9dZIL5+9JlsJ9KjJpGLGyk82zk8q+3ZX7xAi9tL6+XrcUuA8og4xz9c6EF1xumZVB2FozPaADMoU6j4JM0ogTFEwWrEHzqek5FEKwxKUmgxM0puQDnnEjMtNE3DP3qbM/zi0UIIZQzr7PKzHWOZOgowlEFFH6IQ+miVBPUWmGHI3heenZTXEUKM34gcbYU0SrfI5nNoKExr5BdEutKpVwvIaukzvr46OiUuGubJ+D66ppN+Re59Qkw6peDA09C6lvaDCq0uR6RSfdYNotUl3CsL51HWSxwovY6uGycVPOrUDqOhszw8H6jmWLX0LDFvAYczXcTiCWzdoL+QQ0nV8FlnVgfaGhsbMQyDnp6ROXx6enpoaWkZ9Zy77rqL97///XzoQx/ikksu4T3veQ/33HMP9957L+EYv4CO41BTUzNiEzNHdWwh40aINyyg1o1TVi5d4RCWaaBVPJhgIYRjymZIoMrU+dXp8pphghPBc48Qw+bIwPFv9uxVq6rnbHvtrF5zvhtv5eBMJsOtt95Ka2srjuOwevVqnnzyyWlqrZgopRS5Z45gLUpgtcRPfwIQvbgBhSL/bCcA6WefpBStI7loOUGYAHLo2vFble6XUGgo48wC7obtoOk6TlAm7/rEzQgFO0Mp2kDp8Akzo5Mt1aqjsmxOzICOTJEGPyRpVIPTvqVVl0kHXjXQ5lbOuhDCMdbR13B9hWaWKAQeqpTEqolTVyyx+7lfyPJRIWZAWC6jKhWM4RltfbhOC77bjwKikZEVR1OqHgODIW3wzF9EA2Vo2G6WkrKoBCUKu/tOf54QYnwyh6GUxqu7iO4OxWFnP3W5CKGhoUyDpkoz0TBKd6STciGLGYmeNGs90Hx6tCMsDJcRVdVAu2XkifnNdBV60DSNmkQNGcfE75NxPNvM6kCbbdusW7eOjRs3Du8Lw5CNGzeyfv36Uc8pFovo+shuGUY1MCMPjnND8cDL+MrAjtWzyEpyWOtBD01sQ8MoewTm2c1oC8wIpaCPOv94IMCMJzErWTQ0+vuPB2SNujqMujpK214/q9ecz8ZbOdh1XX7rt36LQ4cO8dhjj7F7924efPBBFi1aNM0tF+PltuXwOvJEL24443P0iElkdR2F57s4sms3qcFDsPLN6EMZSk49Sh+5pMUIymecnw1A0zRMJ4odlCi6AUkjSp/dC5pB+kDm+IGJFvDLkJfZq2L6tQ+WaK1USBoalbBMoIfoJ1YcDYOTvumeKF0Dy9CpeCFROyAfVLD8GGZdirqhEpnuTtIdMrNfiOkWZLMAJywdTZOzlqP8XnzTIGqPvPfVqyZcKpQZ39JPZWpYlQqBAYNeH6rrzJadCiHGoWMzAN2V1YQh7LF3UJu3CSLVe/nC8kKGzCyFMIfvVrCjsVEv06914+GyLDgPAMOuYKg4Q6UCALX1DWRiEdzDh6ehU2I8ZnWgDeD222/nwQcf5Fvf+hY7d+7kYx/7GIVCgZtvvhmAm266iTvuuGP4+BtuuIGvfvWrPPLIIxw8eJCnnnqKu+66ixtuuGE44CZmt8zB7QA4bhMxw+SgfgSUgaVr6J6Pss8yGbSmUwzT1Ki64UoukXgDZhAShjkqRfCCoHqopmEvX07pNZnRNlHjrRz80EMPkU6nefzxx7n66qtZvnw511xzDWvXrh3zNaSgyexQ3NyDnrCwliTHdV7kTQ2EBY8djz5D3ojReuFF0NtLJVKPcrwRx2pBCaWPb2aPFYmge0WKrk/CjJIxq8G09InV1o4lppXloycZ74zUYx555BE0TePd73731DbwHHBksMQC36dGC8lr1Ydn42igzQurX3FP1tJRANvUKHsBccNhUGXQ0bHqlpMqVTBNg30vPT9pryWEODNB5mig7djS0WI/OW0hYdCLZ+jY5sjPMXVhEzktO+68xcrU0byAwApIe2mcok1Y9k9/ohDizHW+AolmuvpiYPnknUFqywZhxKbOqycSRhmw+6kUcgCYTnTUyyhN0ad10awWYSsHw66OVcOL4oYV6poX4pkG6d27pq1r4szM+kDbjTfeyOc//3nuvvtuLrvsMrZu3cqPf/zj4QIJbW1tdHV1DR9/55138ld/9VfceeedXHTRRXzwgx/k+uuv52tf+9pMdUGMh1JkOtsAiOabqIQBPWY/tqlhHF3XHr6x5NIEFMlhaDbxsPqmZsWrVUh9dZAEEXqGKsPH2itXUt62Tda+T8BEKgf/6Ec/Yv369dx66600Nzdz8cUXc8899xAcDX6ORgqazDzlBRRf7cM5v+6UBRBGY9ZGMFoiLBhM0pZYSWsqRrGzg1C30OMjb1O6Xz7j/GzHWJEYWuBRLFVIGBF8rYgeugymT5jlnDyajiAtgbYTjXdG6jGHDh3ir//6r/m1X/u1aWrp3HZksMgCNJK6oqBXA8C6XyTUTXyveu/TjckLtFmGQdkPiJlR0qr6b2kmlqMraIpH2fvi6O/PQoipE2QywAkz2goDDGnNqKAf39JHVBy1lE2CJHmy436d0DLRPDAdyHhFNHQqB8d/HSHEKfTsgLrldHcoivF+4mGKGi8gjNgsKDdT1IuUjRKVQg7TiZy0Iu9EA1ovISELw6VgG2i4RP1G+kv91DYtAKB33+7p6pk4Q7M+0AZw2223cfjwYSqVCi+88AJXXnnl8M82bdrEww8/PPxn0zTZsGED+/bto1Qq0dbWxv33309tbe30N1yMX/oAmaIiGrFIFJP0Bnl0ZWEbBkalOrVdTcK3+gWjglIhtUF1mq5uOYSGjh+0kdQidGROyNO2YgVhPo/X1nbWrzvfTKRy8IEDB3jssccIgoAnn3ySu+66iy984Qt87nOfG/N1pKDJzCvtTKMqAZHzayd0fsbqpzGyiKbWS9B1jWJf9aHfiYwMrBt+heAMK44ec+xbQt0tYuOABjY5hgonXMeMQKwB0lJx8UTjnZEKEAQBf/zHf8zf/u3fsnLlymls7dx1ZLBEEpO4aVK0qoE1wy+iDAffLU9axdFjHFNDKVCBTsXMUg59Aq8JzYKGsELPgb0UMuPI+ySEOGtBNgMcC7QpKA6QdqOAX42KnaBW1QPVyoTjpSwTfI2I4+GGNiU/T2nPmRdUEEKcgd4dqNRSujsVR+zDaOUEcddDj9dS69eRsdKoUOEW81hjzGY7JtQCBrV+WsOlaLqBpWWI+k10DvXgRKJYCno7pfLobDMnAm1iHunaStaN0lK3AkeZtKs+CExsQ0evVKfKhmdZDAHAN2zcMEOtd/zBRYtECb0eknqEjvTIQBsgedqmSRiGLFiwgK9//eusW7eOG2+8kc985jM88MADY54jBU1mXvHVPsymKEbqzPOnHafYtf95imGZa81qqXK/oKGFFawTqgxrKkQPK+Oe0WZYFppuYPolPA8imo2mF8hrNYTuCUtTk1J59EQTmZEK8NnPfpYFCxbwwQ9+8IxeR5Z+Q3u6SEpz0DUd16zO3tX9IqF5tBDCJC4bhWqONoCyF+DYHoXAg3ICM6aTymVB0ziw5aVJfU0hxKkFmQxoGnosBm4eApf+UvXZ17RGfhCvVQ2UKeFp48+vFtp2NXZnFNH0GINuD6XdA5PRBSEEQCkDuS6y5mo8FwYiXViVJE6pQrJmFQrFkJXFKxdQKsSKjJ6f7UQDWi8OEepUI5aeJ+Y3cSTXi6ZpJA2LgawEy2cbCbSJ2aXrVQaDJIuiF+CGAZ1GD8qzqoG2socy9Wom57OkDJNSOEAqTA3vM6JJdC+HqQy6Bo4vHTUSCczmZsqvbzvr151vJlI5uLW1ldWrV4/IqbhmzRq6u7txXUnYOxuFRY/yrjTOqtoJnZ/t68pqZ/4AANvPSURBVCU30MvrXoYLShF0XxEEMXSVGzGLRwuq41KNoxgCHC+IYPplil5Awori2UMUo814XSdUaUq0yIy2E0xkRuovf/lLvvGNb/Dggw+e8evI0m/oGCyRNKqVsD2zuqTZ8IsEeoTAraCfZRGgN9I1sA2dkhcQMx2GwgJ2EMWI2+jpPA2Ll0qgTYhpFmSz6PE4mq5DoRr4ypdLhJpJ9I2BtrCBwgRmswGEpoWGhuVnQYsxWOlGpT2CnDxjCTEp+qrLOPvc5QDkI2mibgTT9amJLiNn5gi1kEohj64bZ1TsqESBEkVawsWYVgkrTNGX7wcgGY2RCSXP4mwjgTYxu3S9RsaN0MBS0l6ZklFEC01sU0d3XUJr8j5sFMkSowZdVYdBJF6PrkJUmGEgMzIfmL1smcxom4CJVA6++uqr2bdvH+EJOfH27NlDa2srtj05VffE5Cpu64dQ4axKnf7gURzZ8TqaafO88jBDqOkK8axGOKniaPXPoT7+WXNWJIIVlChWAhJGhCFnEM9Okjt0Qq6xmlYJtJ2FXC7H+9//fh588EEaGxvP+Lz5vvS77AUUcy4J0yQIfTBM9NBHDzwCzSbwvUmrOHoi29QpHa3EOxgOYmsWZqoJL+fRsup82l7fSuDLg7sQ0yXIZE4ohDCAUhqemyUwLaInfMFkKos4SfJMMNB2dGWIWckRWDoDXvULp8q+zFm1Xwhx1MA+APpy9fhOEduwaNLAjNYSM2oZMjMA1fxskeiZpYbQYFDro0E1Y1sK0PGO1vRK1dZTMXRyXZ1T0h0xMRJoE7OHUlSOvIZDExGVoM8rg+WioWFbOkbFm+RAWwlN06k5mqfNjlaXG4ZBL+WChuJ4onR7xQrKO3eiTpGQX4xuvJWDP/axj5FOp/n4xz/Onj17eOKJJ7jnnnu49dZbZ6oL4jSKW3qxFiXQYxNb3ta5ewdeogkVNyklNWraK1TsFLozcrzpfvWJIhxn1VEAKxJFD30KpTIJM8qAUQ2wDRzMHT8o2Qqlweomxj0jdf/+/Rw6dIgbbrgB0zQxTZNvf/vb/OhHP8I0Tfbv3z/q68z3pd9HBkvUhBpJXaPsFzANC/1oxVH3WMVRc3KXjgLYlo4bhFiaRUarftDWai9AedC8YAFuqUTXXqliJsR0CbLZ44UQiv0UqUMFAwSmgXNCxdHUWeRnA1BHr2WWS+hRqGgaOXKUJdAmxORIH4B4I319BhmnD92N06RCoo3nExKQN3MEnofvlrGjp182esyg1o+OTpPdCoAVJCl5BVJHCyJ0vbJ5SrojJkYCbWL2yB4hky2zOH4BAQHpoIBuaOi6hqlr6GW/msB1khRNn1D51HrVDzC6ZRMaGkHYiR1YZEvHczfZK1agSiXcg5K/abzGWzl4yZIl/OQnP+Gll17i0ksv5S//8i/5+Mc/zqc+9amZ6oI4Ba+3iHt4iMjqugmdXykWGOzupN9M0Ri3yTdATSlKzLAxEyPHux6UCTVzQsvHTae6LK9SyBE3ImS0aqBtsPeEHG01C6v/lcqjwPhnpF544YVs27aNrVu3Dm+///u/zzve8Q62bt06L5eEnomOTDXQljCgFFYDv8axQNvRWLM+BYG2yNHl+SUvwLWyBCokjJ4HQLwwiBOPc+jVLZP+ukKI0YXZLHr86IfuwgBD1jJUmMXTq0u9j6lV9VQoTyg/G1QDbQrQKhXMiIFBgv5KN5X9mbPvhBAC0vshuZD+3pABu4ewFKEuCIg2rKKg51GaolKs3u+PPZ+eCU9zyTNEs74cgxwRv4HeUj/JloUYYUjPzu1T1SMxAZOb9EOIs9H9GhkvyuLYanJamZJVwFA25tEPA7rr4qVOXZVlPEIjQtlNkyIKVGewKNsmCLuJa2+hK1OiNlpdrmMvWwZAeft2nPPOm7Q2zBe33XYbt91226g/27Rp00n71q9fz/PPPz/FrRKTofBCF1rUxF4+sVlIPfv3AtDmJ7gs4VBMQaACFjlxuhI2nDCzVPfL487Pdoxh2aDp+OUiSaOeUHcxwxJDuROCdsmjs7TSB2DRmyf0Ouea22+/nQ984AO85S1v4YorruBLX/rSSTNSFy1axL333kskEuHiiy8ecf6xit9v3C+O6xgskQohaWp0qTyQrBZC0E0C30M3DHR98r8XNQ0wdI2SFxC3TPKui2ZUvxUPjhxkwfJVHHrtFd7+n26a9NcWQpzMHxxEjx+d0VYaoI9WYADfghPfAqr52XKjXuOMaICpo3s+uu2jkyRb7CLInI+fLmPWn/kHfyHEKAb2U44sp1zUyNWlsfwYdT44qUWkreryTreQx7QddH18Rf4GtT6WqFXUmAfIBA20ZbtZtngpMdenr/3wVPRGTJDMaBOzR/c2cuo8ap0F9FbKlMwC+Ba2oaF5AZofTurSUTQoqwxJVTu8S3di4KVJaA7dQ+Xj+2MxzJYWStvlmwIhjgkrPoWXe4isrkMzJnY76Tl4ADtZR0W3aEzYKAMG3QyL7QiaoUYca/glQmNiM3s0TUO3I+heCYtqsM7SC+TcKEodfR07AZGU5Gk7wXhnpIrxOzJY5DzA1jVKevW+Y/hFlOHgVyro5tTlpnRMnVIlIGFEyak8toqj2wqv6wjNK8+j98A+yvn8lL2+EOK4IHPC0tFCP/1BEgDthPcAQ5kkqJlwfrZjQstA8zUMo4imRxmqVFMEVA5kzuq6Qsx7SsHgQQY4H4BCJIMVOizwU2iaTt7MoxS4xTyWM/4JJBktjSJkkVNLNGigc6gXNI24ZjAw0Hf6C4hpI4E2MXt0vQrGlYQqoLdUoWIWCFwD29LR3OryLmVN7vKZopYnqqcwVfXbBCuaQA8rOEDnYGXEsfayZZRfl0CbEMcUX+5BuQGRi+onfI3+9kOEiTp0TaM2ZhOqkIFKnjo7jhOOHO96UCLUJx50sJwIll8i9HVMzQCzSMFpwO8/ISdbzUIYGD2X2Hx12223cfjwYSqVCi+88AJXXnnl8M82bdrEww8/POa5Dz/8MI8//vjUN3IO68iUWHE0E3LRrBYf0P0ioRnBdytTkp/tmIhpUPYCIoZNRmVJaBH0mIXf20/zyvNQStG+/bUpe30hxHFBNosxXAyhn0HPRGFinzCTO6Xq0NAmnJ/tmNA0wQeTHMqI4iuPcjSkciB7VtcVYt4rDUIlR9pdjNJClOVRE7GpoQHPHcLXPbxKiTAMMKPjD7SFWkBGS7M4sggzTDJYqo7ZpBNhyC3jVcqnuYKYLlMWaDtwQGYEiHHqfo0oa8ipNKEC3yqhQp2IaWCUq4G2Y5WSJktRq74Zpbzqh3cnWlv9QTBIX9obcay9fPm8KoggY1icigoVuWc7cVakMBITC35VCnlyA33krBrq4haGDpnKAIOBhlKK+qB2xPG6X5nw0lEAOxLFCD0KZZekEcVzcpSiC6i0nTAjK9k6XC1qLpPxO3ccGSyxQOkopXCd6uxKwysQ6A6+V8GY5C+YTmRbOgqoeAF5LYOuadC0Bi+dI56qJVHXQJsE2maEjOH5RSlVzdE2PKMtTd7zUEYExzh+j61VDbhUcDm7D9PKNiHQMfwCODag0RsOUjl8dgE8USXjdx7LtAEwWK6n7Ayh+Q5JxyRpNVMuDwDVZaOapmNaE1umndZ6iekJGqwIQQVAUZNMAdAvy0dnjSkLtJ133nm84x3v4Dvf+Q7lskRWxWmUBgkyWWqMhQyRBRS6Xf3A4Zg6RtlDadpwpaTJUjRCQuWR8qpLUm2nOk1fBQMMZcMRx9rLllULIhyeH29gMobFqZT3DhIMlIlc3DDhaxx7GOgIYtTHqgG0waEeXM2kGBRpCFLDx+qBi0ZIeBaBNitSfaAp5HMkzChD9iC+FSN3qP/4QcmF50SgTcbv3HFksEhKM/F8FxWNoYc+eujjhiYoNSWFEI6xDQ1Dh4Ib4FtHP2DXXIg/5KIUNC1fQfv2V6fs9cXYJnMM33///SxfvpxIJMKVV17Jiy++eMrjM5kMt956K62trTiOw+rVq3nyySfPqg3i1FS5jHLdaqAtcKEyRMUrERomsRPue7VhfTU/2/hrAo0Qmiaap2N4eYyogdIjdJU7CQbKBPmJFVkQx8k9eB7LVJ9t07kYGWuAsOKwyIhjmQlKQXUFhVvKYzoRtAmO4zxDVFSR5ZEEdpgi7+WpqWsApeg9IKsyZospC7Rt2bKFSy+9lNtvv52WlhY+8pGPnPbGLuax7tcp+G9F03SyFHHNEpZmVSuOGhpaxUNZxlk/WJzEMCiHg6SC6lR9zTQJDI0g7KNS0lAnJGK3jhVE2LFzkhsxO8kYFqdSeKkboyGCueDMy5K/UbqjHTsWp7us0xCvfmNf6a0+hOQYosGvHa6FYPglAEJj4ktHTdtBAeVCgYQRJaNVA2zp9sLxg1KLoJyBYnrCrzMbyPidG1w/JJ2tkNQNXK+IZcWqM0wAN6ze8KZyRhuAYxqU3ICoZVAMXYguRvkQZgdZsHwlA0faKWYzU9oGcbLJGsOPPvoot99+Oxs2bGDLli2sXbuW66+/nt7e3lGPd12X3/qt3+LQoUM89thj7N69mwcffJBFixadbZfEKQSZDAB6PA7FfkKlEQY5fEMnala/DDaUQZIUec5+eaeydPAVhldAi4CmJRgotAPgtp1FoQUByD14Xhs8DFaUgbRGzklj+hGWhSmUCimSQ4UKt1TAjJxF0REN0lo3i50ENf4COrI92A0NRF2fnl07Jq8v4qxMWaDtsssu4x//8R/p7OzkoYceoquri7e//e1cfPHF3HffffT1SbI+cYKe18kH6xlyByi6BiUzj+Zb2EcrjhquO7mFEE5QUkMkOJ5jStkWYdiLE1pkiseXjxqJBEZTE+Ud8+MNbKwx/La3vQ2A/v7+01xBnKvCokd5Z5rI+XVoE/06Dkh3dmDX1FeXiR5dfqoNBeihT84sYmMRU9UHEf1YoE2f+Iw2TdfBtPFKBeJmhEFVTf6c6fOPH5RcWP3vHM/Tdqp78D/90z/NdPPEUV3ZEolQI6FruG4eS7fQvervuucrNE1H16e2QHzkWKDNiJALijhm9X7oHdpD07IVABzZ+fqUtkGcbLLuwffddx+33HILN998MxdddBEPPPAAsViMhx56aNTjH3roIdLpNI8//jhXX301y5cv55prrmHt2rWT1jdxsuFAWyIBhQGyqgFUCd/QsI4WG0qpejT0s87PBqBMEw0wKmV0O0TXouilIbSYidsmy0fP1mTeg2VG6hyTacONLqVcMMjbg5hBhNZyAq/Qj2/reOUiKIVljz8/24kGtDQasMZYw8FsN0ZtLTHXo/fA3F+Vca6Y8mIIpmnyh3/4h/zrv/4r//2//3f27dvHX//1X7NkyRJuuukmqVYmAFBdrxNwGQOVTiqVKGWrQOiZOGb1Q7xe8lBTFGgr6gUiego7rA4HzY6ggjRxzaE7WxpxrL10KeV5Vnn0jWP4WN6Jiy66SMbwPFXaMQCBwlmVOv3BY1IMdnbgRmrQNI3aqE05KGFXYlhegbzjolDUHq26pgclQs0E/exuW7rloColEmYEXy9jUiGXP+GaNccCbefGg8po9+A777wTgI985CMyfmdYx2CJ2lAjrkPFzwAaul8g1E1830U3zQkvLTlTx/K0uV5AjhwpI4FCw2/bR6wmRaK+gSM759d9bzY5m3uw67ps3ryZ6667bnifrutcd911PPfcc6Oe86Mf/Yj169dz66230tzczMUXX8w999xDcIr8tJVKhaGhoRGbGJ8gW52lZiQSUBygN1hQ3W+o4dvesfxslbPMzwbVqqMAeGAYBTQthu2HlBMmbrvMaJssZ3sPlhmpc1C2nYyxGoCik6PGiFJXiOHme1GOiVsqoGk6hnV2FcV93SPrZ1htL6En34eRShGveAz0dhOG8yOf+Gw35YG2l19+mT//8z+ntbWV++67j7/+679m//79PPXUU3R2dvIHf/AHU90EMQe4bWk0omS8HsLQwTNLuK5GxDw2o80jsKcm0JbXqw8stZXqcDCdGARFYhj0DI1SeXTXLpRSJ13nXPXGMfwXf/EXADz++OMyhuep0o4BzJYYemziS9ry6TRupcSQHqc2amEaMFDuxgpTGKpEoIUUtTK1QQ1QndF2NoUQjjHsCLpfxlHVa1l6iYKews8e/WBhRSHeeM4E2ka7B2/duhWArq4uGb8z7MhgieWhjq5pVIKjH7T9IqERIahUzvpB/Ewcz9MWUtBz2LqBql+C13UEgMaly2nfsW3K2yFGdzb34P7+foIgoLm5ecT+5uZmuru7Rz3nwIEDPPbYYwRBwJNPPsldd93FF77wBT73uc+N+Tr33nsvqVRqeFuyZMkEejq/jZzR1s8AjdX91vHnzcnKzwZU07EAWqBhhjmUWZ093qPyuEfy8+o5dyqd7T1YZqTOQdl2MiwHwDMrrDBTWKGJm+shtK3qstGzyM92okG/i3ozhl0xwbJImDZ+4JPpli9RZ4MpC7Tdd999XHLJJVx11VV0dnby7W9/m8OHD/O5z32OFStW8Gu/9ms8/PDDbNmyZaqaIOaKwKPSX0eAS8kooWkaulNdyuXYOoQKreJXKyRNgYoWEqgKtf7RD96RJBoKW5XoHBz5raG9bBlhNos/D2aBjDWG77rrLgCuuuoqGcPzkPICKnsy2Etrzuo6me5OALp8m7p4NWA3UOpGI4FJNRFzQS8Oz2gz/NJZFUI4xnYi6ISE5QAdDewSpUgjbvsJHzprFsHA3rN+rZl0qnvw8uXLAfjqV78q43eGHcmUuOBosYMSRaAaaFOmg++WMaawEMKJqnnafAKzGnDWGlfj91RTfDQtXU5/+2HKhfy0tEVUzdQ9OAxDFixYwNe//nXWrVvHjTfeyGc+8xkeeOCBMc+54447yGazw1t7e/uktmk+CDIZ0HW0aBSK/QyqJGBhGtVnX10ZJEiRZ3JmCyrDQKGhAgvDy8HRfFGHCh2oSkAwIAn8z8Zk3INlRuoclT1C1m/FN8sEIZxHHSEBXnGAwDbxSiVM5yzys50gTzdeGLI6XAOEJGPVnOO9B+d2+pNzxZQl/vjqV7/Kn/3Zn/Gnf/qntLa2jnrMggUL+MY3vjFVTRBzRf9eyv6lFFQaw4hQDl0MXccHHMNAr7hoqOPT3CebDiV/kCRJoEA0kqp+zA8zDAzGRxxqLV0KQHnnTqyFC6emPbOEjGExmsqhIZQfYi9JntV1Mt3d2LE4XQV4c2M1gJbLDlGnaehmNdCe10ssCBowlYHuF/Gd2rNtPk40ShHI5fLEnAiukyeILqDStoPYxedXD0ouhP49Z/1aM+lMxm9TU5OM3xl2ZLDIWzSdQCkqZoAG6H6RktFIGAZTXgjhGNs0yJZcLCvELQfoqZV4+38BQOOSZaAUXXt3s+KyddPSHjE59+DGxkYMw6Cnp2fE/p6eHlpaWkY9p7W1FcuyMIzjz1xr1qyhu7sb13Wx7ZNnWTqOg+Oc/Rch81mQyaAnEtW8p4V+hoIFKCNC5OgXTDXq/2fv34Msu8r7bvyz1tp7n/s5fZvp7pnpmdEFECCksUWQFV4qJpZR7N/PgB1XqQhBWGVTibBikimqQHEQAftF2FwihyhWIiwLHGLI68L8SOEIeAdkGyNuEgMSmvtMT8+l76fPdd/3Xr8/dnfPtOY+fbr7dPf+VJ0qzT777L26dNZ51n7W83y/PUgk7Q7oswEg5qvaYoURtFC5DHHN4Kw9BuzCP93EGFiehtRmphMx+HIVqQcPHrzoZ44fP863vvUt3vnOd/I3f/M3HD16lPe+970EQcCHP/zhi37mkUce4SMf+chV/mUpl8VrgVunFvfTsmqI0GIkKOPoJlpogshH6wjD6szvpVABc6HHK41XMd2eJtvbR6Y1w9TocW554z/pyD1Srp8VS7R985vfZOfOnciX6elorTl16hQ7d+7Esize/e53r9QQUtYJ8emX8PWrmPV+RkwWx2yh4gymIZASlJcYEugVfOBwaFIRw8AE0sqhBehojrn60kWG6u1Flsu4Bw5S+qVfWrHxdAOXm8MLpHN48+EerSHzBqp3eYuE2uRZrGIPUajpL1hEcUzUCkFrsJLvWFskGomVsICO3I5UtJmWiUbgtFsU81kcVcPKvAL75CS9CydVdsDxb0EcL1sTbq24UgyGdP52A2fmHH4V8EMfncmg4gAZh/jxvGzCKlW0ZQ1JTUMUQSO2yWWHcOoeWkOxr59MociZgy+libZVpBMx2LIs7rjjDvbt28fb3/52IKlY27dvHw8++OBFP/PGN76R//k//ydxHC/e+/DhwwwPD180yZbSGaK5WqLPBmDPYIf9aGmSlclvQI/uIyTAxbnMVa4NbRqJ86jfQOQACgT2DHLQxD/bIr9na8futdlYqxh8fkWqUoo77riDM2fO8IlPfOKSibaHHnqIvXv3Lv670Wik7d/XS+MMANV2kYZ5kkyQZ4tXoBaMEmVMAjeZv51KtGEYzDlNXmVt5e+nD3BLTw/52XEmU0OErmDFniBuuummizoiVatVbrjhhpW6bco6xDt8BjCYbJ4iCLO4KjFCWNBnk26SaIutFapoA2xhY8kiuSBCCEFkKOK4iueA5tyiVgiBNTKCe4mdpI3Epebw3NzcGowmpVvwjsxhbisuy20UYG5inCBbQgC9BYu6P0PZLmOGDjqbPMx5wickpCfKIoBYLb/UXgiBNiw8x6agsjSZTcZzpn3upMoOCD2or9/2p8vF4Ntuu20NRpRyMU7N2fRq8AMXrCwqTNpH/WjeCGiVEm2WIRACnCCmqVtUrAo6gqg2hxCCgZGdnDmUGiKsJp2KwXv37uWJJ57gc5/7HAcOHOCBBx6g3W5z//33A3Dffffx0EMPLZ7/wAMPUK1Wed/73sfhw4f52te+xsc+9jF+93d/d3l/UMplWahoA6A9Qxg5hEqRMxYq2npp0xl9tgViQ0IkkHGIMnyEzFH2fMKyRXA6bRVfDp2IwddbkfrKV77ykhWpFyOTyVAul5e8Uq6T+XVjrWnRtmrcGA2htMSzZ9CWQeDaKDOz7DX0ArE0aUbJOlbXFaq3l3zbYerE0VRnsQtYsUTbpf7ntlotstnO9CWnbAy80zHINnbYQEcFfKuN7wty862i0guIDQVy5azXWioJPr3efJGnaRLHs5iRSd0JlpxrjozgHTiwYmPpFi43h1M2J7EbEpxtYw4XrnzyZfBdB6dZpylzlHMmphLMeOMU/R6MsEU0n2hDQFs6lMPkflp1qJrCsIhdm6LKUdXJArY+c55+SXnenWsd67SlMbj7CaOYyZpHSUhC30Zk88ggSbSFYYQyzI4txq+GRKctoi2aZKSJyG8lHD0EQP+OnUwcPUJ8GZ2flM7SqRh877338slPfpKHH36YPXv2sH//fp5++unFdrSxsbElzocjIyN8/etf54c//CG33XYbv/d7v8f73vc+PvjBD17/H5NyRcJaDVkoQBQQtuvouE2kBDllgE5aR9uis+svbRpIPwbAEE2EyJH3Y2oZiX82NURYDp2IwedXpC6wUJF61113XfQzb3zjGzl69ChxHC8eSytSV5HGWdy4ROgbtK0ar9WDhDIibM0QWyaBa3eumg3Q0gLdpB15lIICRm8vBS/Abbdpzkx37D4p10fHW0cXSk+FEDz88MPk8/nF96Io4vvf/z579uzp9G1T1jFebSuRWU3+IXIIKyRqJ4t+AOn5aGtld/UDERJENhWd4yw20sqg3Rp5YTFZd+nJnQtO1s6dNJ9+mqjZRJWWp1PVjVxpDn/3u99dq6GlrDHeaKINs9xEW2Peln4qsOjLnzNC2B69GjM4RWj1LJ7bFg4DugeNJO5Qok2ZGWKvRV5lsEUNSUQ7zBG1bFQxD4UtoCyYOQI3333lC3YRVxODX/e61/H9739/rYaYMs9Ew6UUa3IC2m4Dlcuj/HFiZRE4/qpVsy2QMSQtLyTMJtWdcuA1BGNHyP7cL9C/Yyeh7zE9NsrgDTet6rg2GysRgx988MFLtoo+88wzFxy76667+N73vnfN90m5fqK5OVRPDzhVZuMtgCZUGqWgoIsYmNii2dF7xqbCqEdoqTDiGqgyKtScCtv0uTFRzcPoTTdmroVOx+C9e/fy7ne/m9e//vW84Q1v4NFHH72gInX79u088sgjQFKR+l/+y3/hfe97H//m3/wbjhw5wsc+9jF+7/d+r8N/acpFaYxTNxK9X8dscZPXRyvroRwPr1Ig9D0yhQ5WDAqQwqEVhWyVW1A9AQUvKR6ZPH6U8pa0/Xst6Xii7cc//jGQZPJfeOGFJdlzy7K4/fbbef/739/p26asU6LpCYJoJ072AEIotFLI+W9ldr6iTbn+iraNAiDA1XVKugLYqEyeOB4nj2Si7vKqoXM/iua8boF3+DD5OzaeXs2V5vCtt97Kj370o7UaXsoa4p+oI/MGsry8hFd9ehIhJKddxe1bk529eqvGDgwMPMLzzm1Lh21iK4a5ZVn3PB8jkyVoajKhBAGW4eHk+vHGxsm/5iaQKqlqW4eGCFcTg//1v/7X/PzP//xaDTFlntNzDjfHCmEIYreGtrYhbYdYWUS+h5lbXSFyy5BEjgbDw/FCjL6bCM98B4De4e0IKRk/cihNtK0waQzenERzc5g7doA9y0w8kBxTSVVUWfei0dh0tqItNhQyjAhVHsOvg7UFPDjaOMntjBCcaaWJtmuk0zH43nvvZXp6mocffpiJiQn27NlzQUXq+TpwCxWp/+7f/Ttuu+02tm/fzvve9z4+8IEPdPCvTLkkjTM0ZBIjIxkyFBYZL9cwHB93oAARqA5XFirp0wwDdptDNMVZMtkcGcNk8sRRXnHnP+7ovVKujY4n2r797W8DcP/99/Mnf/InaZ93ymXx9h8EFHXdQBk5bMNGxuaiEQKAdH3C0so/cNiiRb/YgYhPY2ZK+IyT0y7j9aUd1ua2baAU7qFDGzLRdqU53Gg0eOqpp9ZgZClrjXeijjlUWHY7W31qAqtYJtCC/mIGO2yhnCQcSRUuObctE+HYvLmTOeILrnU9ZDIZAiCyk10/kfFwslvwTp5NEm0A5W1JRds642picKPRIde6lGVxes7hJp3El8CdQasdqLBFKDJEYZOssbrrJ8tIxuKHMY3IIV/agXsmaT0xTJPeoW2MHz7Anrf86qqOa7ORxuDNSVSvJ2YI7WmqcQWI0OZ8oi3uxcEmFp2JgQvo+Q1trXOoYA6Ry0MTpupjiNwN+ONtcrcOdPSeG52ViMFpReo6onGWun4doeGyK9iKQtI2bHpijSdjEAJldDbRJlVIMwwwhMHkZItSby8lZaSGCF3Aimm0/fmf/3maZEu5It7RGkpMUXfaaLJ4ZmKEkJtvGyUG6YUr6ji6QFu6GDJH0Q/J5ua/u3GDqepS8VBhGJjbtuEdWn/VLtdCOodTzif2I/zTLYxlto1CkmiLs0WEgL6CxYw7QSGoIOMQrKVJvFBE+HGLgtq27PsuYGayaARe28MSJpHRwi0O4p08e+6kyo51WdG2QDp/u5/TczY3KYNQawISbTYZOvh6Pum8CnHvfJQAS0lcP6KhW5QyvQTVcw6Hfdt3MH50/c6J9UY6hzcPOgyJG43EDKE9TZ0iiAymSn4LyroHu8P6bADaSK6vYwsVBRgWIDIobw7VmyE4m2ryXi/p/N2kNE5TjwZpmw1e5W8nkBFBkMwjTwco06LT0qtCaezIQ2tNu+GjenrIuwETx46kOotrTEcr2n7jN36Dp556inK5zG/8xm9c9twvf/nLV33dxx57jE984hNMTExw++2385nPfIY3vOENlzy/Vqvx+7//+3z5y1+mWq2ya9cuHn30UX71V9Nd2G5Ca407nsHMHKc53UTrPlyjReib9BTm9dmCAKE1sdXx4ssLsKULMfQEBo2ihQZ0VKNau1C00tyxA28DOo9ezRwOguCix1M2Nv5YE2KNObT8RFtjepp2eRsVKzFCmHUnKPl9mEGLKLd0p08Q40bTFIxh4PSy7w2Jw2IsTVy7TaGcxY/qhJlX4Z48c+6kyg5oTYLbgOz6WCxfbQxO53B3cHrO4Zekwo0iIlMhIx8ZR/hxsgeqVlmjDZKqNjuIaVkNpBhGiiF0HCOkpG/7CEd/+D3cdotsobjqY9sMpDF4cxLNVzjJUgnaB6jHFlpqctJCaYM8RWaZvMJVrp1FWZY4+a0xZBtf5Cn6bZyiSTZNtF0TaQxOoXGWOa+PpjnLG4Mh2lkP5XoA+IGHkemcEcIC2rCQtLG1i3IVqq+P/M9O44qQ5sx0qtO2hnQ0e1GpVBZbiiqVSkeu+aUvfYm9e/fy+OOPc+edd/Loo49yzz33cOjQIbZuvfCL4/s+v/zLv8zWrVv5q7/6K7Zv387Jkyfp6enpyHhSOkc06xL5RbJbmrRHbZSxA23NoR3znD7bvOPnaiTaQhESxDbFOI8QHpGZiMM69iBa6yXtctbICI2vfe2C4+udq5nD6QJhc+KdqCOyCtW7vEWC79h4dovZgsVAJbnWjDfOzf4dmMEM8cuuL0MXN3LpN3YitECLzuzOacPEd2yKqkhbVikIk+bp84SmK4kWIzNHYMf6aBG/2hiczuHu4FTVpl8L3NAntkxUmFS1BZFGSoWUK6xNehEsU9LyfIJcm1DHWH2vJpyawBzaRt+2HQBMHDvC7tt+btXHthlIY/DmJJqbA0gq2k5P40b9xNIgKy1KuoJArEhFG1KihUAEmihrYVBDiBxlv8GMAcN1n6gdoAqrn/Rfj6QxeJPj2+DWqdlF3OIJdkWvZjLXQM16xEAY+ljFzm/cxtJECZt2HFCigOrtJV9rQG+BiWOH00TbGtLR7MWf//mfX/S/l8OnP/1p3vOe9yy6qzz++ON87Wtf48knn7yo1fiTTz5JtVrlu9/9LuZ828Xu3bs7MpaUzuIemAZC/KIGrUHmEMYMsNRxFFYn0Qbg0qSke4BJMAyicJZMbFK1ffoL5xIA5o4dxO024dmzmNu3r8rYVoOrmcONRoMvfOELqzWklC7BO17DHFy+PltjOnEcnfBNXlvMEMURTaeGEWYxgxZBpmfJ+UmirYkSigIlWnRGX0waFrHbpGhsYZoZCkDbtwgbLYxyMTFDAJhdP4m2q43B6RzuDk7N2fRgUg8cdMZChm00EATRqreNLpBRSTWdlCGNwMfqfSXhsRcxh7ZR6u/HzOaYOHo4TbStEGkM3pxEtRpAotHWmiKMikRWhrxpUdY9RIS4OJe/yPUgQFsK4YXExTxWNANiiKwfcTIKGAaC8Rbq5t7O33sDksbgTU5znFBbeF6W3h6BEal5x1EfN2cAfseNEAC0tFDYOGHEQKYfemuYUUyuUGDi2BFe+Qv/V8fvmXJ1rJhGm+M42La9+O+TJ0/y6KOP8o1vfOOqr+H7Ps899xx333334jEpJXfffTfPPvvsRT/z1a9+lbvuuovf/d3fZXBwkFtvvZWPfexjRFF0yft4nkej0VjySll5nBfPYIoTtEVifR0YAAYZQ55nhBAQGwrk6lSNOaJNXm1Fhi7CyqDjGnmRYbzmLjnP3JHs7LuHN65ezaXm8L59+9ZwVClrQexH+GNNzG0daBudmQIhaMssA0WLOW+arJ9c1wzaxC8rq5eRg6sbxMSU484t9qWZQcQheW1S00nyz8kN4C/otJk5KGxZtzptnYjBKStHGMXM1TzyQhD5bXQmiwrbaGURBt6atI0CmEqgJPhRQD1yKZRHCEaPAyCEpG94OxPH159JyHokjcGbh7BaBZLW0ahVRcdtIiXIKEVZ99CmBSu0DI4NA+kHREYBM6yBYSE1HKqdAUMSnG2vzI03OGkM3oQ0x2lESfXYMAUCEeFYAcr2cLLJBFYrsYkmQEkPJ4KKqNAwk+fqcqHERKqruqasWKLtbW97G5///OeBRDPtDW94A5/61Kd429vexp/+6Z9e1TVmZmaIomjRwniBwcFBJiYmLvqZ48eP81d/9VdEUcTf/M3f8KEPfYhPfepT/OEf/uEl7/PII49QqVQWXyMjI1f5V6ZcL7Ef4Z0KsMRhmr4JQuGaPto3yBrn2mWk56Ot1XvgaAsPUxbJeS6GlYeoRQHF2frSnUTV14fM5/EOb9wHjkvN4X/xL/7FGo8sZbXxTzYg0pjblq/L1JieRmQLSKnoyVvMehMU/T5AX+A4CqBCm1AZOLSp6M4l2kwrSehZviYUHqYR4uS34J5viFDevm4TbZeLwZ/97GfXeHQp43WXHTpZeGu7hrByqMAmUhlC31uzijYASyncIKIWt1DKRM+ca3PqHd7G5LGNG/e6iTQGbx6i6hxIicwazDhZICaUGgGUde/KtI3Oo02F8gMiq4jQMWI+Ns7NjWL0Z/HPpDpt10MagzchjXEa4RAAN0T9NCw3SYI5Hq6R6K5KsTKpF6l87DhZQ081fESxSFkYTBw/io4761accvWsWKLt+eef501vehMAf/VXf8XQ0BAnT57k85//PP/5P//nlbotcRyzdetW/vt//+/ccccd3Hvvvfz+7/8+jz/++CU/89BDD1Gv1xdfp06dWrHxpSR4R+YgFlj5cZpNByFyuKZN6KtFfTYA5frnxFpXAUcmCbWe0MDMFhFocgScrS5NtAkhMLdvxzu6ca2TLzWHLzeXUjYm3tEaImcsW58Nkoo2z8jTX7RQEmbcCXqiLRixi85eWFIvQxutMtiiRbmTibZsNvkPN6l2NiwXr2c73omXGSJMr89E2+Vi8H/7b/9tjUeXcmrO5uZ4PrY5c+hsDhXa+FigNcrofHvJ1WIZEieIsEWTSMcIr2/xvb7tO2hVZ2nX5tZsfJuFNAZvHqK5OWSxiHCqzMQDAMRGTJYcFhls0bzCFa6f2FBILyBSSRWMYQlAgDON6MsSpIm26yKNwZuQ5lnqYgQtIm4It9LOJfJHqu3hqZWN60JGOFGSaHObHkZfL3nHI3AdqmfPXOHTKSvFiiXabNumVCoB8I1vfIPf+I3fQErJL/zCL3Dy5MmrusbAwABKKSYnlzrtTE5OMjQ0dNHPDA8P88pXvhKlziVnXv3qVzMxMYHv+xf9TCaToVwuL3mlrCzOS1WUWUP15qhXGyByRKYHWpK1zn0tpeMTrZI+G4CPR6QDilGWTDb5/oqoydmqd8G5xrZteEfW50P41XCpOfyP/tE/WuORpaw2zqEq1o5iR4w/GjNT1HSGgWIGrWHWm6DgVzCDNtHLtCuEjpBxQKwytGmSI4+pO7NQyZgGsVCEjo9EoA0bp7AVb/Q8Z9Pydpg7AdGFlXbdzuVicLqZtPacnnO4EUmoNdKtEVsmMnDw55NvK9JecpVYhiSKNdIIaIQ+hrV78b3e4US7cCKtaltx0hi8eYjmqqhSCdrTzC1IJJhQ0UmSu83KVrRJLwQpiYwcprRBZCmGLZo5RTjjEHuXlt9JuThpDN6ENMZpsJNcxiGDiZv3IdYo18cnWtG4LgyJxsOJXYxAoXr7yM/NgRBMHNu4z6rdzool2m6++Wa+8pWvcOrUKb7+9a/zlre8BYCpqamrTmRZlsUdd9yxRI8ijmP27dvHXXfdddHPvPGNb+To0aPE55VJHj58mOHhYawVECBMuXZ0rHEPzGLxMygN06w3ESKPNkIEYtEIgVgjvXBVW0cR4OkWeSqYZh4N6LhOrXZh2a25Ywf+8RPoy+j/rWcuNYenp6fXeGQpq0nU8AgnbKyR0vKvFfjY9Rq1OEm02WETJ7Sx3ByWWydaqDKbZ8GFMVYZ2vM7+mXds+xxAJiGIJImnu2QM7IEqolj9OKNnkHreWfTyghEPtSubnOom7hcDF5Y/F8tjz32GLt37yabzXLnnXfygx/84JLnfvnLX+b1r389PT09FAoF9uzZw1/8xV8s62/ZiJyu2twgDZxYoyIXlEYQ40cChEDK1dtgejmWkSwNhQiohz7Zys3EzToA+UoPmXyByeMbt5q7W0hj8OYhnK9ooz1NPc4DCksZlHUvLjaRWLnNntg0EHGMCCIiI4/FHELkKQc+4ypZ+6ZVbddOJ2NwyjqhOU49GqbHjPAJsTM+0vOJdUykV9bkSKsMStjYsU8xzmH09aEnpigPbGE81WlbM1Ys0fbwww/z/ve/n927d3PnnXcuJsa+8Y1v8HM/d/VuVXv37uWJJ57gc5/7HAcOHOCBBx6g3W4vupDed999PPTQQ4vnP/DAA1SrVd73vvdx+PBhvva1r/Gxj32M3/3d3+3sH5hy3fijdWI7xIp/QpgbxPcctMygBWRMyULRjPQCBHrVHEcXcIVDXm7BiGxiJdFxjciT2P7ShY61fTva9/HHxlZ1fKvFpebwt771rTUeWcpq4h6cAwHm9uXrszVnZwGwVY6BUoYZb4JcUAQtMIPWBUYIKrTRSLS0CPDx8TrWPioAlInv2hRVFlfWcMkRuBHhzHxbXGXBeXT9JRUuF4Nvu+22q77Ol770Jfbu3cuHP/xhnn/+eW6//XbuuecepqamLnp+X18fv//7v8+zzz7LT3/6U+6//37uv/9+vv71r3fk79oonJpzGBYCV0cINKik4j4IY5Rh0oHi0etGCTCVxI9daqGPMrKELxwCEtmE3uFtTJ5Yf3NivZHG4M1DVK0iSyVoTdPQWbTMkjUyVOLexU2mlUKbyRpb+CGRWcSIZhEyR9GLOer5YAj80ys7ho1Ip2JwyjqicZa5YICtymTGSAxMjLaPN59fU+bKFfxE0sLAxo0j+kQPoqcH7Tj0Dmxl/MjBFbtvyuVZsUTbb/7mbzI2NsaPfvQjnn766cXjv/RLv8R/+k//6aqvc++99/LJT36Shx9+mD179rB//36efvrpRYOEsbExxsfHF88fGRnh61//Oj/84Q+57bbb+L3f+z3e97738cEPfrBzf1zKsnB+NovMxBjiNE2d7Op4hkCHBlnz3FdSucmDx2on2mzpkVVbUH4DTIM4nqEgMpypLdVpM7cnD+H+sWOrOr7V4lJz+Bd/8RfXblApq47z0gzmUAGZXf48bM7MJ2dyRQqWYtadoC9MfsutoEX4Mo02GSQujMxLxti0OlbRBiBMCx24FGWGBkmViJvtO6fTlu8HI7cuDREuF4MfeeSRq77Opz/9ad7znvdw//3385rXvIbHH3+cfD7Pk08+edHzf/EXf5Ff//Vf59WvfjU33XQT73vf+7jtttv4zne+c8l7bEbn71NVm34ETuwRGhIVOWgEYRCu6GL8askYEjcMacYt4jhCnzpX0dIzlBoirAZpDN48hLNVVLEI7SmcWKClQUkVKFCizcomueJ5XWQ17zxqKAdEjoyvOTE7izGQSxNt10GnYnDK+kE3xml7FbZRoGYlz4zScfDml88r6iYuFQobN4J++qmaOQDKuQIzY6OEl5DPSllZVjSDMTQ0dIGW2hve8IZrvs6DDz7Igw8+eNH3nnnmmQuO3XXXXXzve9+75vukrDxaa5yfzWKVqwinQMtJytJ9KyIKDLKZpUYIGrG427ZauMJGCoOSrxFWhtieoygsTs/ZvGLruXJvWakgCwW8Y8cp3b2qQ1w1LjaH77jjjjUaTcpqE3sR7pEahdcPXvnkq6AxO01kZKiUiggBM+4428KbkSJEEF/QJq5Cm9g4105qixZb9XbQzJekLQ/DzIDWFGKDST1FP+CWh3FHz1B8w+tAyKSqbWZ9JhUuFYOvNpHl+z7PPffckqpxKSV33303zz777BU/r7XmW9/6FocOHeKP/uiPLnneI488wkc+8pGrGtNGYbJqUyTDmbBNzjKT77rKEAYumfzatxVZStL2fPKmRyuwsYLC4nt927Zz8B/+ltZclWJv32WukrJc0hi8OYiqVTKveAW0jhBE24kMybAaQsRi5SvajGSNLb2QoCepXBeGhQhgevYExs3/GP9Ummi7HpYbg1PWEVpjN1yKwiCDgZsLkSQVbS1ToAyjIzrHl0MqHyeKsYTFZAw7hKCkBXEUMTV6jG2vfPWK3j/lQlYsg9Fut/n4xz/Ovn37mJqaWqKZBnD8+PGVunVKFxNM2EQ1j8LgAShvpz7XBGHhZ3yI1JKKNun46IzRkQfqa8El0YUqRRkMq0DUnKYkTcaq7SXnCSEwt23DO7YxW2guNYdfPpdTNi7u4TmINNbuzhjENKanaIssAwWLMA6o+TPc7N2BoR2i7NK2UaEjROQSZSqLx2zRwtAGeYrYHRCHNiyLEMiEkhZzSBHjb9mJd+I8Q4TStnWZaLtcDL7aOTwzM0MURYsV5AsMDg5y8OClWxHq9Trbt2/H8zyUUvzX//pf+eVf/uVLnv/QQw+xd+/exX83Gg1GRkauaozrES+MMJoBkMEPWmQsExW2CWSGOHJQXaAna5kSDSgVUotDtpk7QGsQYtEQYWr0WJpoW0HSGLw50FoTzc2hymWi+gw67iVSOfrpI8DHw13ZAUiIDYn0AhAQmXkMQxIByh0n6s0QvThL1PJRxbX/bVovdCIGp6wj7CoNv49+QxIQQTHZEVa2i2eKla1mm0epEDtIZI5sO0T19JBttZGGwfiRw2mibQ1YsUTb7/zO7/C3f/u3vOtd72J4eHjFs7gp6wP3wCzClJjt78GOPdSONRAiR2wEyDiLZZ5X0bbKjqMLhCIk1B55ymQyPo6ewIo1p2adC841hofxjmzMRNul5rDrumkr9ibBeXEG1Z9FlTNXPvkqqE5O0ZY5dhUtqt4UWmtMN4sZTFxEn62NAGKVWzxm00KjKesebLH8RJtpZQkA6UZggmn5uJVtuCd+dO6kynY48s1l32u1uVwMXuk5XCqV2L9/P61Wi3379rF3715uvPHGS7a8ZTIZMpnOfMfWA2fmHEa0TB5q3Ro6k0EGVRzyAMhVWJBfCUsJpIAIn3oUszNXRNdD6DHJV3qwcnmmjh/jxp9LHTBXijQGbw7idhvt+8hSkcZZAdohUlnKui9xG12FxydtGsj51rLYyGMqFw9FMaozbggGAP9kk9xr+1d+MBuEtYzBKWtAc5xGNMiAEkyoKlIl/79V28VTGmMVnMSFAtcLiXSE4QlUXx/x5CS9Q9tS59E1YsWyGP/n//wfvva1r/HGN75xpW6Rsg5xXprFHDIRE9X5iraTIPJEKiJjqCXrCen6xNm1eeBwhUNObSGnZnAA4jrT1eCC88xt27B/8AN0HCPkikkergmXmsONRiNdIGwCdBjjHqx2bGGtdYw9N4udHaGvaHGiNUEhqkAkyNhzRKWXJdqCNlrIRKNtnljEuDiUdA8TnH75La4Zy5C0pEHoBGCCNB2c7AD+6Ql0ECJMA8o7wJ4Bpwa5nmXfc7W4XAy+2jk8MDCAUorJycklxycnJy9ohzkfKSU333wzAHv27OHAgQM88sgjqbbUPKfmHG7SkhCNadehkkGGDr5M2rZWY+f7arAMhR87NEIfrTX6xDji53YmhghD25g8sTH1SbuFNAZvDqJ5kyCVEcwESYWoVoKy7mFCnFqVMcSGgZw3/IqMPCYNEDlKYZsTtsvWgol3spEm2q6BTsTglHXEfKKtz4CfGDUskjWtaLuEpZiMsfLVoNq0UDi0tUtJ51C9vQSnT9P36jdxNjVEWBNWLDPQ29tLX1/aUpByjqjpE5xuYVXqyYHyNpxWAy0zRJFY0jaKTiraVtsIYQFHuGTVVjI6KdnXUQ3tKerOUjFJc9s2tOsSnmfIsVFI5/DmxjteR3tRx9pG7XoNHYfobJGcqZjxJtgSJi1oWbt2QeuoClpE51WzLeCIFqW4csHx68E0JLE0CRyXrLCIjCZtWYEoxjs9kZy0Tp1HOzF/LcvijjvuYN++fYvH4jhm3759iw5qV0Mcx3iet6yxbCROVW1uROHEkHdtYlMiAD9k3nG0OzoAMobECVwi4eP6LfRoffG9nqFhJo+vv5bq9UQagzcH4WwVAGn4zMbJ/+/+TB8K1ZHK7atBWwrpJpvJkVHAkG2EzFP2NKNVG3Mwj38y1RW7FtL5u8lojuPGN5KRkllzXmoo1kR+svZRq1DRFkkLQ9g4UUC/qEBPD+H0NH3D22lMTWI36le+SEpHWbFE2x/8wR/w8MMPY9v2St0iZZ3hHkoWE5Y4BNkKdmQS6wjfFIkRwnmJNhGEiDgmXiOtGhebrOwjE7aJlSSKZymKLGPVpd9nc9s2ALzjJ9ZimCtKOoc3N86BWWTJRPVlr3zyVdCYdxzNlSpoDbPuOOVgAGnEyDggvkiiLTYuTLTZtClSRujlJyOUBC0NAs+haOZwZY12kEUjzum0lZM5zuz6qt7p1Pzdu3cvTzzxBJ/73Oc4cOAADzzwAO12m/vvvx+A++67b4lZwiOPPMI3v/lNjh8/zoEDB/jUpz7FX/zFX/Av/+W/XNY4NhKn5mx2SYUba3KejVYRAEEYIdXabC5djIwhiTRI5dEKXeLmOUOE3uFtNGdncJrpw/dKkcbgzUFUna9oEza1OKlqHTK3odHYtC/30Y4Rm0ai0QbERhapHITIU3DheHUKYzCPf7qJDlJtsaslnb+bjOYEmhuItaadmU+uOR6+0sAqSUJIhcLBjWK2iAEamTxEEeVsIkuRto+uPiu2ovvUpz7FsWPHGBwcZPfu3Zgvy+Q+//zzK3XrlC7FOVjFGMwjaz+DynaatWSB7lsgY4OscS7RZsxXjq1VRZsrbIRQFAIDYVqEeoqyvJXRmTav296zeJ7q70dYFv7xY/Cm/2tNxrpSXGoOR1F0zdd67LHH+MQnPsHExAS33347n/nMZ67KgfiLX/wi73jHO3jb297GV77ylWu+b8r1obXGfWkWa6TcseqaxvQ0kVCUy2WaQQ0/dsm5JZRI5np0nkaXihyEji6eaBMtpJYUKNFi+Q/5wrSI2y2KspeWmKWsJeHgCO7x01T+KWDmId+/7iraLheDr2UO33vvvUxPT/Pwww8zMTHBnj17ePrppxcNEsbGxpDntc23223e+973cvr0aXK5HLfccgv/43/8D+69997O/XHrnFNVm0EE0wTkiBEqQseSMPAxMxd+59cKayEmq4C5CAboBV+DdZ4hwonj7Lptz9oNcgPTyRic0r2Es1WQEhnWqJFHC4NBYxCHNlqsTmIrNhQyjCDWIAWYIGQWw4fZ5knEltsh0vinm2Ru6ExF+UanUzE4ZZ3QOEtG7GFOOOSsZD2rWi6eoZFSLVknrSRS+dgR7BIVnhewC7DaNplCgfEjh1Nd1VVmxbIYb3/721fq0inrEB3GeIdr5F7XDweOwA2/SL3aACShFSO1xDLOGSHIhURbZo0SbYkyGwVRQVkBgT1HRVmcnF36YC+kTAwRjm08F91LzWHP8/jpT3961df50pe+xN69e3n88ce58847efTRR7nnnns4dOgQW7duveTnRkdHef/738+b3vSmax16yjIJpx2iuk/hrlLHrjk9PoEjc/QWM8x6o6AlyjExRJXYMtHq3CJE+U00glhdWE3nYKPRlHSFllh+ok2aFqApxCZn9CRlwB+6canzaHnbuku0XS4GX+scfvDBB3nwwQcv+t4zzzyz5N9/+Id/yB/+4R9e9bU3I1PTNgUEx7VDDhDCJzIyREFAptC5ObdcpEiSbZF2qccaIST6bB1291Ds68OwMkyNHksTbStEp2JwSncTzkyjymWEPYkT9aOlxYAYWLW2UQA9v6ktvYA4ZxEbeZQhiXwo6inGhaZsSrzReppou0o6GYNTup+oPkmPzHJSTlIxkwoyo+1gG2J+nbk6SBXSnncebYcKYZqEk5P0bdvBxNFDqzaOlIQVy2J8+MMfXqlLp6xDvNE62o+welsQuNCzg+qJWYTIExkRGW1wfuGMdD1i00hW+mtAJEJ8PLJqkKwxRxjVsKIML01fWMZvDg3hndh4ibZLzeFGo8Ejjzxy1df59Kc/zXve857FVrPHH3+cr33tazz55JOXFIONooh3vvOdfOQjH+Hv//7vqdVql72H53lLNKAajbSdaTm4h+dACczhwpVPvkqqk5PYKseNBYuXGhMM6GGIBVZYX1LNBqCCZpJku0g1nRYxLjZFXQGWLxRtmlliIBsI6kwDGq9vBPfH51Vdl7bBzPoqub9cDL7WOZzSWfScC2Sx4+RBWkgPL7YAZ1V0XK6FjKFwgjYiDokiH3mqCrt7EEImOm2pIcKK0akYnNLdhDMzyEoFmlMEcQWhLIqUmGN61cagzeRxUHn+YqLNVCE+UIqqnKja3DFUwDtehzev2rDWNWkM3lzUpwQFJThjzDKgkg0z1XLxTFDG6hWNCEvjeCGxjjEDherrI5yYoO+GEY7+6HtorbtGB3YzsKJ1jLVajc9+9rM89NBDVKuJPtfzzz/PmTNnVvK2KV2Ie6CKLJoo7zAICeURarN1kHkCQjLG0q+isr01q2ZbwMUhawySExFSx0jtUWtEeOHSkm9jaAh/A2q0wcXn8P79+6/6877v89xzz3H33XcvHpNScvfdd/Pss89e8nMf/ehH2bp1K7/92799Vfd55JFHqFQqi6+RkZGrHmPKhbiH5zCHCgijUyFC487N4JsF8pZi1h2n3x8CNNlWlSi3tHLN8C+uz7aAI+zOGSJkLDRg+BotYizLxylsJao1COfb2ylvh+px0Loj91wtLhWDz549u8Yj27w03IA+L2kHs8M6Wkpk3MYnqeiWq+BMdi1kDYkfhUg8bL9NOHnOEKg3NURYcZYbg1O6n2hmBlUuEzZn0bFDObMFgcARq6PPBhCb878/3rzzqJnHkA6ILOXI5sRMC3MoMUTQ0fqKg2tJGoM3D61aoud7xppZTGSploMvNXIVN9C0YSHwaWmbis4nzqPjE/RtH8Frt6lNpN+91WTFMhk//elPufvuu6lUKoyOjvKe97yHvr4+vvzlLzM2NsbnP//5lbp1SpehtcY5UMXaUUJMv5S0YRkW7VYdLYcIooBsRi35jHL8tU+0CZuyGiQz30aqozkKIsvJ2TavHDznxGgODxPNzhI1m6hS97T9LJdLzeH//b//91VfY2ZmhiiKFvWcFhgcHOTgwYtbTX/nO9/hz/7sz67pYeKhhx5i7969i/9uNBppsu060VGMP1ond/ul23qvFbfVgtBD9pUIYp96MMfN/h2IDBi2jd/fs3iuilyEDojNS1fTObQYYidCC7RY3qLfMiS2NImdAEyQpkPb6AXAO3Ea4+dek/xmBTa0JqE0tKz7rRaXi8HHjqVVSGvFqarNLq3wtEaELaKMhYpsfCRCSKRUV77IKmItmBQJl2YUkLV7Ft/rHd7OkR88i2fbZPL5tRngBqYTMTil+wmnk0Rbqy3RcZNe6yZiksrtVUMKtCEXnUdjlcOUEwiRp+g0OTo9i3nzIPYPJwnGW1g7Ns5ad6VIY/AmIgrxvZ2gNbbpnDvestEFUGoVN9CkQgkbJ/LZavQlzqMHD7Jl+w4Axo8eXtRYTVl5Vqyibe/evfzWb/0WR44cIZs9V63wq7/6q/zd3/3dSt02pQsJpx2iqou1qwSTP4OenXiOSxT6BKZCRiYZ67yvol5ItK1tC42LTUaUyYceGgj1JBWZ5fjL2kfN4WEA/OMbq330UnP4LW95y4rds9ls8q53vYsnnniCgYGBq/5cJpOhXC4veaVcH/6ZFtqPMbd1rm20MZ04jmZKFar+FKCx7DzSDBFaE533/VJ+A40guog+2wK2sFEo8ix/jKZSxNLAc1yy0iIymrSCPMIycU/MV1+vQ+fRy8Xg7373u2s4ss3NqarNTUicWJMNnEXDnyDSSMO8WLf0mqIEWEoSK48aElOUYXYOSJxHAaZHN1bs6xbWIganrD7hzDQqb1GL+kC79FoDeDjL3kS6VmLTQPpJxaqWCmm6CFmgbJucaY8h+rOgBN5oKs1xNaQxeBPRmkDondTigKyal0KJY0J/3n3UXN3CESU9nChikCHq2RxRrYYpJKX+AcaPpDptq8mKJdp++MMf8q/+1b+64Pj27duZmJhYqdumdCHOS7NgCMweH1pT0Lub5lwSqENTIJBk1XlGCH6AiGNia21baBxhI4SgYAwgDYMgHqffNDkxuzTRZgwlFS7+6OgajHLluNQcHp5PLF4NAwMDKKWYnJxccnxycpKhoQsrg44dO8bo6Ci/9mu/hmEYGIbB5z//eb761a9iGEa6C7gKeMfrCFNiDHTO/bA6OUmMpFzpoepOkolzCFdizleLRtnzHEcvo8+2gEMyBxOdtuVhKoilSeDalI08rpyj6ZgYgwN4x+cNEUrDgFhXhgiXi8Evn48pq8epqsNuFHYMeddBm8n3PAzCrtNnWyBjKhzt0FxwypvfVCoNbEGZJpMn1s+8WE90IgandDdaa8KZWWRGU437Aeg3BnDEKlazzRMbBtILFv8tLI0QOTIBCDXB6YaLuSWPd6K+6mNbj6QxePOgq2exRC8zwqY0v0ms2h6+SpLlUq1ubJcqoBVCTuSZlkmSL5ycom/bjjTRtsqsWKItk8lcVJD88OHDbNmyZaVum9KFuAeqWNuLiNmfJQd6d1OfqwGCwEpat8R530S16Di69hVtGk3WGMI0DXQ8Q54Mx6aWOkHJbBbV14d3YmPptF1qDh89evUPVZZlcccdd7Bv377FY3Ecs2/fPu66664Lzr/lllt44YUX2L9//+LrrW99K29+85vZv39/2g66Cngn6hiDeUQHjUgmzpzFVjl6ihmq3gRb4hFAYPlNYsNYFGIGMPwGkXH5NrRYRLg4FHVnKheFYREHHkWVpSGmiWJJNLwL9/hYcoIyoTgI1fWT6L1cDL6WatGUznJqts2wEDhaU3AdMDSxNAgDH2V0aaLNkHixgx/7BJFHNJ48aEup6BkcZvJ4mmhbCToRg1O6m7jdRrsuygyYiXsA6FX9i5tJq4m2DJQbnhubkUPOb4KX9RSjM22MoTz+aAO9zvRK14I0Bm8e/NFphJBMqAblBcfRpo2vNGoNKtWFCe35jTFPJpvmwUSi0zZ98jih71/u4ykdZMUSbW9961v56Ec/ShAkuyNCCMbGxvjABz7AP//n/3ylbpvSZUQtH/9kA2tXGSZegOJWyJSYmaohRJ5QxWRfJrguHQ+NWHONNi30vCHCdjIyRoQtzCjPZM3FDZYaIphDQ/gnRtdmoCvEpebwtToK7927lyeeeILPfe5zHDhwgAceeIB2u73oQnrffffx0EMPAZDNZrn11luXvHp6eiiVStx6661Ya1zluNHRscYfbWAOdq5tFKA2NYGjcvTkDGa8SXr8raA0ll0nyp1XzRbaCB0Rm1fWe3LonCGCnE9wlCKTWT0OgDewE//UBDqcf/AoDyeGCOuEy8Xgt771rWs8us1Lc9LGQNDEJ+f6oGJCYRFHURdXtCUxWmkbO3BwGtaiMUjv8DYmjq0vR971QqdicEr3Ek4lsgpKOcxRpGD0YAgDdy0q2iyF9HyYz6HFRg5TJWvdSlTnxHQLczBP3A6Iqu6qj2+9kcbgzYN/2ibSmilVpTBf0WY2HDxToNbA4EhY4OkYT3tkdB6RzxNOTNC/fYQ4iphK5R5WjRVLtH3qU5+i1WqxZcsWHMfhn/yTf8LNN99MqVTi//6//++Vum1Kl+EeTLRcrJESjP8E+m4AYHZmDmQeLw6xzEsYIXSBVo0rbHLGIFlcZOSDDsmT5cTM0qo2Y3AQb4NptF1uDl8L9957L5/85Cd5+OGH2bNnD/v37+fpp59eNEgYGxtjfHx8Jf6ElGsknLLRXoQx1Elhc41fmyW0igQ4eJFN3i0jc6Ba7SWOo0bQRCOJ1ZXbVh3Rpkh58aFgORiZZAzZUNIWcwihcUrD6DDCP5M8CFEaXlcabZebvx/60IfWenibFj2btEvXRAsVaVA+HslCfLXbS64WJZLK81g6NGIw452L1Z1923YwN34Wz179xMBGp1MxGOCxxx5j9+7dZLNZ7rzzTn7wgx9c1ee++MUvIoTg7W9/+zXfM+XKLCbaaGBHBpVMIqnhrKYRwjyxaSCiGBEmybVI5TANB4RFwYs5Uh3H2JqsDVKdtiuTxuDNgz2uaEYax7TJyfnW0ZaNZ4BcZX02ACkjpPBpxW36qSTOoxMTVIaGkIbBxNG0fXS1WLH/+5VKhW9+85v8wz/8Az/5yU9otVr8/M//PHffffdK3TKlC3FemsEYzCN1DRrjcOMvJq4szQaIbcQ6Jmu8LNFmu8RWdzxwONhsFUNkRIjAIo5m6TUsjk+3efXwuWoaY3iY9ne/i45jhFyx/PWqcqk5/IY3vIFK5doqiR588EEefPDBi773zDPPXPazTz311DXdK+X68U7UQYK5tXOJNqfVgsBF9JWYc6dAg2FnoAcM28Hv7108V/kNYiN7VUl2R7QxtEmWHC7OlT9wGSzTxENg+DEYMYbp0Tb6KQPu8VNkdm1LEm3Hv51U8nSbYv1FuFwMvlg7S8rKE8WaQisgRNIm2awRwsePk6rObq1oA8iaCif0aOiYEdGHHv029N+86F42deIoI6+9bY1HubHoVAz+0pe+xN69e3n88ce58847efTRR7nnnns4dOgQW7de2l16dHSU97///bzpTW/qxJ+TchEWE23hNGEUUc5uISQgJLjCJzuPnv/9kV5AZCpiI4ulphGiSKVtc7A9Cpl/jOrN4I81KNwxePkLbnLSGLw50FoT1Ms0YgiVh5rXQlL1NmFWk1mDijaYN0QIPYatIZrlMsHEBEoZ9A5vY/xoWoW+WqxIoi2OY5566im+/OUvMzo6ihCCG264gaGhIbTWiHXwkJKyfHQQ4R2pkduzNalmA+i7Ccd2icOAKGeCDhfbUhZQtkdY7JwQ+3JwRRtDWBSMMuDi6zEGrG0cnV5a0WYODaE9j3B8HHP7+rdNvtIcTtmYeKMNjIE8wuhcsrgxlZjfZEq9VP3TlKMBCAWGcBLH0cWKNo0KmgSZvqu67vmGCK5YXqLNNBWONAhtH6OiwGzT9LPs6CnhjZ7nPBo40Bw/50LapaTztzsZrzvs1BI71jD//ZXKx49AKqOr10YZQ9LEoRUm2i7+2ATWHYkhgmFZTBw7kibaOkgn5/CnP/1p3vOe9yzKNTz++ON87Wtf48knn+SDH/zgRT8TRRHvfOc7+chHPsLf//3fU6vVlvsnpVyEcGoKWSgQ2A107FCxtiTVbGvwUxBnkk1v6fpExcSQSJo+QvZTtjNoc4KJuktpaz6taLsCnY7Bjz32GJ/4xCeYmJjg9ttv5zOf+QxveMMbrvi5L37xi7zjHe/gbW97G1/5yleu4y9JuRLRrAtRhmYUIax5qZFYEzsOZNemog1AGhHtCHaIfk5ncpRPnQKgb9sIZ48cXJMxbUY6Xnqjteatb30rv/M7v8OZM2d43etex2tf+1pOnjzJb/3Wb/Hrv/7rnb5lSpfiHq2hgxhrVwnO/hgq28Eq0Kgm7aShqTClwDhfdD3WSDckznaHFtdC+X4hsxOlJJEep6CzHJlsLjlvwXnU2wDOo1eaw+985zvXeogpK4DWGu9EHbOjbaMwOz5BJBTlngpz3hT9YeKYZwbJHFpItBmBjdAx8RWMEBYIRYCPR6kDhggZJYmkievYlIw8gapRb1uYQwO4J+YTbaX55Fq1u01P0hjcvYxVbW7QEicCFTloQBsQRrprjRAWSLRUY6KwQRAFzNl58JpIKekd3p46mXWQTsZg3/d57rnnlnSTSCm5++67efbZZy/5uY9+9KNs3bqV3/7t376q+3ieR6PRWPJKuTLB5BSqUqblF9Fxgx6zf9kbR9eLVgotBOo851FMgZA5rCDCNCY5MdPG3JonnLSJvfDSF9vEdDoGL1SkfvjDH+b555/n9ttv55577mFqvhryUqQVqauDdzL5ravFPhkjSaqptksg4uS/1yi2CzOiGSbJcydbQbdaRO02/TtGaExNYtdrazKuzUbH06xPPfUUf/d3f8e+fft485vfvOS9b33rW7z97W/n85//PPfdd1+nb53SZTg/m0VVLFTFgrP7YXgPALXZGqAITMi8rG1UOj4CveaOowsE+AQEZM0dWPIwQVwjE/QwG4xTc3x6cklC0BgYAMPAHx2FN75xbQe9TK5mDqdsPKI5j7jhY3TYCGHidOI4Opy3eGF2mtf4NyEyGstuEVsmet7VTAUNtJDEKnuFK57Dwaaol2+IYBoCLQ1816ZibKEhphHOjRhDW3FfnC+xLw0CIjFE2N29c/xq5u9f/uVfrtHoNjdjM21+HsVkHJOLfLSpQEAQhCizOzaXLoUQkDEVhDatKCAyb4Azz8ON/4S+bTs4c+jAWg9xw9DJGDwzM0MURYuaqAsMDg5y8ODFqxq+853v8Gd/9mfs37//qu/zyCOP8JGPfOSqz09JCCcmUKUcTXKI2KZs9HCGNdrMERBbBso950iozSyGAZEP5bDB8dk57nxF4v7un2qRvblnbcbaxXQ6BqcVqd2NP9bA1zZNs03JTLqxzEYbzwAhFFKqK1xhZVCGTzsOCXUIZg8A4eQU/duT+Tt+9DA33XHlqsiU5dHxira//Mu/5N//+39/wY8LwD/9p/+UD37wg3zhC1/o9G1Tugwda9wDVaxdZUTtBLh12PIKAKanqwhRxJcR1sta1Aw7cTKKuiTRhgCXNjljiKwMkUETiUFBKI5NnWsfFUphbt26IZxHrzSH/+2//berP6iUFcc7UQfoeEVbfeosbZXHsjz82CHrFhA5UM2lRggqaBKp3DW1zDii3ZGKNgAMizjwqcgsVT2B1gJvYCfhzBxRywZlQXFL1zuPXk0M/l//63+twchSpsZb5IXAiSHne8SWJJYWUeCvWXvJtZA1JC4OzTiiJ7oBzjwHQP+OEVrVGVpz1TUe4cZgLWNws9nkXe96F0888QQDAwNX/bmHHnqIer2++Do136aUcnmC8bOovGJOb6FsFZFCrllFGySJNumeq2iLVR7LSBJvJUdxePY4qjeDsCT+qbRq8WJ0MganFandj3dijlYU4BptivNGXkatnTiOrqHuqpRJ4Uo7blKYT7QFExPkKz1ki6W0Cn2V6Hii7ac//Sn/7J/9s0u+/yu/8iv85Cc/6fRtU7oMf6xB3A6wdpWTxbhhQWUXADPTVYQsEMQRuQv02Xy0IaGDGlHLxRE2RdGPpTSEPjp22ZILOTr1MufRoSH80e5uK7sarjSHf/mXf3kVR5OyWnjH66j+LDLbuQd+HccEtVnCTIlWOIuMFdIxIQtmy15MtAk0KmgRG9emzeiINhZZLJ1Z9lgXKoqKsUFbzSTXn28XXdRpKw53faLtamLwiy++uIojSlnAm0h02ew4pug4YGh8YaF1jFLdXdEGiSGCrXyaoU9BlGicOQZa07ewQ57qvnSETsbggYEBlFJMTk4uOT45OcnQvOTF+Rw7dozR0VF+7dd+DcMwMAyDz3/+83z1q1/FMAyOHbu483Imk6FcLi95pVyZYHwClYmY1FuomFuAtXEcXUBbBvK8irZI5TBVE0SennaOCSfRGzO25PHHmpe50ualkzH4chWpExMTF/3MQkXqE088cdVjfuSRR6hUKouvkZGRq/7sZiZ2Q8Jpj7lI4Rpt8vOJNrNu45kCaazdBpoQIA0PO/LYIocRhTzh5CRCCPq2j3D2cFqFvhp0PJtRrVYv+EE4n8HBQebm5jp925Quw3lxFpk3MAbzcPpH0HcTKIMojPDbbZAFIvQFFW3Kdoky3fXA4dAmS55spgSAr0fpNQyOXDTRdnIththRrjSHL+dSlrI+0VrjHZ3DHO5s22hzdgZ0hCr2MOdNUwm3gBYoK0K57mKiTV2jPtsC5xsiLBfDSsaSDSShaCNlSNvoAynPJdpKQ1C9+INmt3A1MThtI1kbRNUlRFOXDnnHByPC0/OaLuugos0yBEJFOPP6imfjZD7kyxXyPb1p+2iH6GQMtiyLO+64g3379i0ei+OYffv2cdddd11w/i233MILL7zA/v37F19vfetbefOb38z+/fvTB/AOon2fqFrFMFyqukjF2oKrHWIRrdmYFltH5/X6YyODIVsIUaCvXcBXZ6k7AcaWHP5YMzXXuQhrGYPTitTVxT/VBA210EoSbWJec7jexJfxmktCSCOgFcIAWwnKFYKpZMOlf/sIE0cPE8dr91uzWej4yi6KIozLZHCVUoRhKqC5kdFa47w4k7SNBm2YOgivfisA9bkaaE1kZhAyxDKX9q4r2yPOdknb6DyOaIOGYm4XYu4QmrPkops4MNUi1ho57xRnDg7SPHuW2PeRVnclC6+Fq5nDKRuLqOoS1X3ydxY7et3a5DgA2UofNf8ofcEQCI3hJ0nqKJfs/qmwec36bAA+HiEBJV2myuWFga+EZRp4CCLXJ2tZYLZpOBYDW/twF51Hh+Hkd0HrZLuwC0ljcHeitabcCmmLZOc74wTE+ZAgzgECqbor7l2KjKEI3Bp+HOJYNycV6/03M7BjhLMHX1rr4W0IOh2D9+7dy7vf/W5e//rX84Y3vIFHH32Udru9qPl03333sX37dh555BGy2Sy33nrrks/39PQAXHA8ZXkEU9OgNYo6bmRQyW3BFe6ajim2TEQUI4IIbanEedSKkKpAzqmirBlGZ1u8emseZ/800ZyH0XdtcXuj08kYvJyK1AXiOBHlNwyDQ4cOcdNNN13wuUwmQyaz/M6AzYZ/sgEqxtGSyPSRQiDcADyfmLU3OVKGT9ORSCEJSoNE89+j/h0jBJ7L7OlTbNm5e03HuNHpeKJNa81v/dZvXXLCep7X6VumdBnB2TZRzaNw13BigqBj2PJKAGrTc4AgNBUZQyyVY4pBOR5hubMaUcvFxSUmJmfuIKMO4EUz5IK7cKKXOFtz2NGbjNcYGoI4Jjh1isxFAtl64UpzuN1ur/KIUlYa98gcSDpe0TZ95gyuzFAp5Thtz/Aq/wZEFsx2Gy0EYTb5jim/SXyN+mwACLBpU+pARVvGVNjSxG636SkU8VWNWmsQc7Af7+TZ5KTSNvCbYM9C4ep3i1eTNAZ3JzMtnx2xwCEmlDYyiomNCD8SKMPs1rztBWQNhYdDMwrp8V+BPvP/IG67l/6RXfzkG39D4HuYVvrAthw6HYPvvfdepqenefjhh5mYmGDPnj08/fTTi1U3Y2NjSNk9ch2bheBssoEjdZUoiuixttIUa6uNFVvzFbauT2glG2GxmUWZkiiIyIUhL02O8brXvBZIKnrSRNtSOhmDz69IXTBBWahIffDBBy84f6Ei9Xz+w3/4DzSbTf7kT/4krUjtMN7JBqFhA1mElSRPzXpihACsqUYbgDI82lFIrGN0oZ/gaNKR0bdtB0JKxg8fTBNtK0zHE23vfve7r3jOtTqOPvbYY3ziE59gYmKC22+/nc985jO84Q1Xdsr44he/yDve8Q7e9ra38ZWvfOWa7ply/TgvziAyCnNbEb77IygOQq4XgNmZWRBZAhVjvWxXVno+ItZEXVbRhtA42OTVViylCfxZDCtHyWpwZKq5mGgz53eX/BMn1nWi7UpzOJ/vrkRoyvJxD81hDhaQVmerFSdPn6atCvRlNU6zmRgh5MGYayVto/PZBRW0CDK913UPR7Sp6L5lj9U0FLE0cWybXrOfhpgi396BOTRA8x9+jNYaUZrfQa4e79pE29XE4He84x2pKdEqMzrT4gYUM2GIWKhaMTRBGK35rve1kDEldTPRaduuRjgze4QdgcOWnbuJo4jxw4fYeettaz3Mdc1KxOAHH3zwog/mAM8888xlP/vUU09d8/1SrkxwJtnAcVUOI3DJGyWmGF/TMcVW8lukXI+wnCTaIpXDUgE+UGqbHJk7hszdjixb+Kea5G/fsoYj7j46HYPTitTuRMcaf6xJO24RocjOr5+tuRaumaxt17pSXcoAREw7bmLlBombTSLbwcjn6Bkc5uzhg9x296X1BFOWT8cTbX/+53/e0et96UtfYu/evTz++OPceeedPProo9xzzz0cOnTosjoVo6OjvP/97+dNb3pTR8eTcnm01jgvzLeNSuDMj2DodYvvT0xOIWQFn4DiBUYIycNHnO2+tktXtCnqCpZl0mg5GNpnSw6OTLR486uSXWFZqSCyWfyT61un7UpzuNFopA/pGwgdxnhHa+T2dHqxrGlPj9M2t6JlAxWbSM9E9GvMk61z+myhjdDRNRshLODQZpDtmNoiEP6VP3AJTAWxMgncFn3mLs6KKfoCRbx9mLj1D4RzdczScHJy9TiMdKct+tXE4HQOrz6nTzf4RwhOBxLLTL6nsQWhE2Lmru+7vxaYSoCKaQdNMrntHDe3s2PiBSo7Xk8mX+DUSy+kibZlksbgzUFw9gyyVKAlK1RU8jjmiLUzQgBACWJDIZ1zsVQbOTKqQUtYDDR7OV4aBcAYyCUaVSlL6HQMTitSu5Ngoo32Ihq4OJaiMq8xbNZaNLIGylh7hREhQCmfduRTzmzHBqLpKdSuXfRt35EaIqwCXT8zP/3pT/Oe97yH+++/n9e85jU8/vjj5PN5nnzyyUt+Jooi3vnOd/KRj3yEG2+8cRVHmxJO2oQzDpndZaieAKcGA0nbaBRFOLUWQpQIdEzGWFo9Y7Q9tJJoo/s0wBxsCpQwcomTVqjHKGqLw1PnFhlCCMyhIfzR0TUaZUrKteMdr6ODGGtnZ13i7Hod7bvoXIV6OE3JTyrWREZjtO1z+mxBE41IWkev5z4iaaPqRPuoNC10FFIRWTyVmPbY5Xnn0RNnwMxBrg9mu9sQIaX7qJ9OYkU71uRCP2mdNi2i0F/zXe9rJWtKWn4VANu4Bc7+GCEkA7t2c+pnqat8SsrVEJw5i1HK0mCIipkj0hEezloPizhjopyXOY8adYQoMtDO43CGKNaYW3IEZ1roKDVEWGkefPBBTp48ied5fP/73+fOO+9cfO+ZZ565bNXpU089lXZ1rQD+yQZImPbBNdoUZLKGNeaaeObat40uIE2PViToV8MgDIJ5nbaBHTuZGz+D00qT5StJVyfafN/nueee4+677148JqXk7rvv5tlnn73k5z760Y+ydetWfvu3f/uq7uN5Ho1GY8kr5fqwX5hBWBJzRzERSVYW9OwGoD47B1ojVIlIBmReVtEmbS9xHO1CrRpHtJFIivldCDTEp8iGfZypN7D9c6KmxuAg3onRtRtoSso14hyYRZZMVG9ndZXmJhL9GbPcQ92bpS+cN0KIbEQcE+YXEm0tYiN73fPexyUkpKiXnyg05rWlDC8mNlqApiV7EaaBNzav01YehrkTy75XyuYinLQJ0bgaCr6LtsAXSfV2tyzIr5aMoWiLFu0oYLD9SvyzPwZg6+4bGT9yCN9Z46qclJR1QHD6NEZeMC1H6DHLtONmV6x/44yBtM/piMVGBqkCpJEnZwcIY47R2TmMrXl0GBNMprq9KZsP72QDYyCHF1ZwjCZ5lUO6Pobj49M9khDK8GiGGiUMVO92wqlpAPp37ARg/MjBtRzehqerE20zMzNEUXSBTfLg4CATExMX/cx3vvMd/uzP/ownnnjiqu/zyCOPUKlUFl+pWOT147wwjbWzjFASzjwP/TfCfEl8dboKCCLDQipQcumKwmi7xLnu+GF6OQ7JQiJvDJExQARnKQYjSHOKo1OtxfOM4WH8E+lDeMr6QGuNe6CKNVJCdLjGffbMaXxhUamUmfNnKPl9iByYzXnH0fy8Dbrfuu5qNgBEMj87UdG2IOLuOja9mTyx0aLRtuYNEea1c4rDSevoJuKxxx5j9+7dZLNZ7rzzTn7wgx9c8twnnniCN73pTfT29tLb28vdd9992fM3C9maT0tCTEjRdtCmxo+T2Ci7ZEF+tWQMhW34NEKfG8ObOepMgl1l+KZXEkcRYy/+dK2HmJLS9fhjYxiZgMm4j15rEJvWlT+0CsSWieF6cF6hWqxyKNNERD6ZQPLc+CGM/sTAKG0fTdmM+KMNZEUSxSUCs40lDcxqiwhNpCNkl2ygKcOnHYVoHaN7dxBOJRVthd4+MoUi44fTRNtK0tWJtmul2Wzyrne9iyeeeIKBgasXqn7ooYeo1+uLr1OnTq3gKDcuwWSbcMrBurECgQNTLy22jQJMTUwRGVlCIyBjvqw9dN5xNM50nz4bQCxiXBxKVLAsg9ifwYwKFHNNjkyeWxyZQ0NEs7NEzXThkdL9hFM2Uc3reNsowMTJMZpGkd6CSSOoknWLiCwYzTZRxkQrhYw8hA6uW59tAUe0KemeZY85a5pEwsBut+kzSziySq1tYWztxxs9nZxU3lyJtgWd1A9/+MM8//zz3H777dxzzz1MTU1d9PxnnnmGd7zjHXz729/m2WefZWRkhLe85S2cOXNmlUfePUSxpt+NsUWEa7bJOSEYIX4sEUIiZffJJVwOU4GQMc2gRY/ZxxGrB87up9jXT7FvgBP7f7TWQ0xJ6Wq07xNOTmKoBu0oT8UawF1rfbZ54oyFCGOkHywei4wclpW0k/Y0cxydO44wJaovS3C6OxKEKSmrRdTwiGoezSgpwtBmUgFqzjVxckk8V2Z3PM9KGYEMaMc2RnkH/kSSaBNC0L9jJ2dSnbYVpasTbQMDAyilmJzvJ15gcnKSoXmHx/M5duwYo6Oj/Nqv/RqGYWAYBp///Of56le/imEYHDt2cV2dTCZDuVxe8kq5duyfTCMshbWjCJMvQhxB/82L709NTiNFmUCEZF+mwyYdrzsdR8/DEW2KcRkrXyKOI3TcoM9UHDlPp81YcB4dXd+GCCmbA+dAFWFKzOFCh6+saUycpWUUsaw2IpIo30Jkk4q2pfpsySJ+Odi0yJLD0Mv7/bBMQSwN2q0WfWaRtpxmrmlgDfbjj42jtYbSMDhzyWsTcK06qV/4whd473vfy549e7jlllv47Gc/SxzH7Nu3b5VH3j2cnbPZhcSOI1zDJtNywNSEkUaa5poLJl8PWVNSD5M5EIW3wniizTZ88ys49twP0HG8lsNLSelq/DNnQGukbFAggxQKX3lX/uAqEM+vw9X57aMqR1ZWQVgM1QcYd5I1bmqIkLIZ8U4mElMz7SQGmkmDBla1hZOfnz9dVKmuTI9WFJAvjuBNnnM27t8xwsSRw8RRtIaj29h0daLNsizuuOOOJQv0hQX7XXfddcH5t9xyCy+88AL79+9ffL31rW/lzW9+M/v3709bQlcQrTXOT6exds+3jZ7dD7leyCeVhZ7j4rccDPrxCS/QZzOcxHE06kLH0QUc2hQpowr9AMTxSbJRnsOTjeQBnKSiDcAfTdtHU7of90AVc1sRYXQ2FLSqVeLAJchVaEdVin4PQFLR1mgt0WfTKkNiUXz9OB0yRLAMSaxMPMem3yzhqTls14SBLcSORzhTg3lzhM1Q1Xa9OqnnY9s2QRDQ19d3yXM2uk7qiZN1ygicMEYrDxFFaEsTBN2j43KtZAxFlQZuHHJz41U0JvaDhu23vJb2XJWJY0fWeogpKV1LMN854+X66FUykXHoloo2y0ALgbLPGSLERg5LNRCyRG/bpK3PAhpjS45gsk3spw/qKZsH/2QTWbKYq9t4qk0xk4NYY801cTMCZVgdl2NZDkp5tEJBObMN6m10mGiLD+zYSeC5TI+Nru0ANzBdnWgD2Lt3L0888QSf+9znOHDgAA888ADtdpv7778fgPvuu4+HHnoIgGw2y6233rrk1dPTQ6lU4tZbb8WyujeJs94JTrcIZ1wyN/ckB8Z/DH03Lnobz0wk4ovICoEILqhoUy2X2FDQ4Qf+TuKINgYmOasfUwHhKAV/GJcZztaTRKHM5VA9PfipIUJKlxPbAf5YA2tnqePXrp5JHiKylX5q/gw9wRYQGqVdZBgSzSfajKBFrLLLvp+HS0TYMefR2HfJCYvYbAICrzLvPDp2Nqlog8RVeYNzPTqpL+cDH/gA27ZtW5KsezkbXSd1ZrQGgOsqLJKH19gShIG/jhNtEl841EOfG8SrOBC1oHmWgZ27yRSKHP7+P6z1EFNSuhZ/9CTCULQyg1QMi3bUIBZdUgUqEkMEZZ9zQI3MHAKNNAtkHQeEzejcJOaWPGgIxlNDhJTNg3eyjrk1R6utccwWRVlAtRxEGOEJ3XUGR8r0aEYBUhhkCsME0zMA9G7bgZAy1WlbQbo3qzHPvffeyyc/+Ukefvhh9uzZw/79+3n66acXF/5jY2OMj49f4SopK037+UlkwUxa0JwazI1B/02L789MTBEZCiEtIjPANF5uhOB1ddsonDNEKOoymYyJXjBEsKY4Mnl+++hgWtGW0vW4R2ugwdzR+UTbzKkxHJWjr1Kk5s1Q9rcgckk1G0CYzyF0hIxcIiO//BsKsGlT7ECizbCSxJ/vORSyiUZNU/adcx61CpDtgdmLSxGknOPjH/84X/ziF/nrv/5rstlLJ1Q3uk6qO94mQONpSS5KEm1BxiKOo65bkF8tphJIGVMP2pQyWxiLemH8p0gpGXnNrRz4zjPEcVrlkpJyMfzRUYyeHHPyBnrNAs2ottZDWkKctVDtc62jWprE0sDImKBDiq7iubOHUH1ZUCJtH03ZNOggJjjTxhgsEPp52madospjVVtoNEHsd40+2wJS+bRjn1jHZCo7iaYTjV3DNOkd3s7ZVKdtxej6RBvAgw8+yMmTJ/E8j+9///vceeedi+8988wzPPXUU5f87FNPPcVXvvKVlR/kJib2I+znp8jc3IOQAiZeSN7oO5doGz87QagyhIZ/QTUbgLIddBe3jQKEIsTHo6grmLkSUWSTCbNU8s2lOm2DQ3jHN35bWcr6xj1YRfVlUcXOP+iPj43SUEX6ixZz/gw5r4TIgtVsEZsm2jRRQZJ0W5bj6HkkhggdcB7NJAkhu92mN5sllG3qbRNzaz/+2HwVV2lzGCJcq07q+Xzyk5/k4x//ON/4xje47bbbLnvuRtdJVVWXxnzYK/ge2hB4JPFuvTmOnk/GlMxGNYQQbK29Bj2+H4Ddt/087bkqJ3+6f03Hl5LSrXijoxgFwbjYTcXspa27q10+yloYtrvUedTIYWWSjYK+Wg+HqscQUqQ6bSmbCv9ME2INfRmIyvhmE0saWHMt/Fx3bqAJAUJ5tGMHs7KT1tlzm5n9O3Zy5uBLazi6jc26SLSldDf2/im0H5F99bwGz+SLUNwC2eRhKfB9GtU6QvUSiADr5e2hYYx0gq7WZ1vAJnmYV6Xkb43D0xSEweHzKtrM4WH80ZOpGHRK16JjjXuoijXS+Wq2KAxoT0/RNErkcz5RGGLMGyEYjSZRYUGfrY0WCq2MjtzXoU2OPIZe3vUylkksJM1mi/5559GppsDY0ptUtEHiPDp7tAOj7m6uVSd1gT/+4z/mD/7gD3j66ad5/etfvxpD7Vq01vTZEbaMiIkpOTbajPH0vDPZOk60ZZWiruvYUcgrvdcwMfUCaOjdtp3K4BD7v/61tR5iSkpX4p84gWk5eOzEkAa26K7Wyyg37zzqnq/TlicrZhCiyFCjwrg9b4iwJU20pWwe/JNNhCk53ZyXDDITbUVjrkm7NG+E0GUVbTBviBBGmJXdzJ0+15ExMLKTxswUrersGo5u45Im2lKWhY41rb8/g7WzjCrN/7BMvAA9uxfPmR6fBg0ZPYQnAnLW0oo2w/YQJIG923FEi5LuQZlZDAlxeJJsWOZ0rYHtJ+KS5vAw2nUJX1YFkpLSLfinm8TtcEX02ebOngYdocp9NIKZJUYIZrNFuOA4GraIjOXrsy2w8KCy3PbRnGUQSzNxHrUSQ4Rq08Ac7MdbcB4tb4fq5mgdvRadVIA/+qM/4kMf+hBPPvkku3fvZmJigomJCVqt1lr9CWvKVNNlp5bYhHhGi3zdBisiiARSGV0lmHytZExJQJt66NFXvIUjjQBqJxFC8Ip/dBfHf/xD5ibOrvUwU1K6ithxCCcmUGaDvCihtcaX3eE4ukA8v/FttN3FY5GRx9J1hCpTbse09QSxjjG35ImqLlE7WKvhpqSsGt7JOsaWHONjM4Amkw0hijHrbdyMQgiJVN23gaYMj0YUkc0P4U1OLx4fGNkFwJlDafvoSpAm2lKWhfvSLOG0Q+72gfkDDaiNQd8Ni+dMn50gMkDqIr70yZkvM0JoO2gEcab7E222aGNikiVHJmuhw5MUgx1Ia4Zj08mDpDGciKX7J1KdtpTuxD1QRWQUxtYO6KO9jOmxMSKhKPX1M+fNUPG3gNRIPKQfLBohqKDdsbZRAA+HiIiiXl7boZKglYXntMlKE2028dw8assAccsmqjUT51FnDuxqh0bfvVyrTuqf/umf4vs+v/mbv8nw8PDi65Of/ORa/QlryvFjNQoI7CjEMx2sVjtxHI3idV3NBud02ubCNtlcL2pyECZ+CsDO1+0hWyjyg6/8P2s8ypSU7sI/cQK0JswV6VESO2wgzO56HNOmIjYUqnWeIcJ8vJbZAkbgYEURR6unMLYmx9OqtpSNjtYa/2QTY2ue+ngVx2hSsoqY9TZCa1wZoawM3bh/Jg2fZhgghCDvFBaP50plCr19nD2Uto+uBN31y56yrtBa09g3hrmtgDk4P2mn5idq7+7F886ensDOKIQQxEaAoS40Qogzxrr4NjokybSS7sHMl4mjBiVvK1ZuhsMT84m2gQEwDLzjaaItpTtxXpzB2lVONBU7zPjoCRqqxGA5z5w/SSXYklSzzRshBPkcKnIROkIbnUu0IZL20Y45j3ouWmsyGRe0wisnmmTeqfGkog02jSHCteikjo6OorW+4PUf/+N/XP2BdwHTJ+YAcFwQho+I4iTRFgRd2V5yrWRMyWyc/I03tF+Ff+p5IBFZftU/fhM/+9t9VM+eXsshpqR0Fd6xRN+zmd9OrzJoBlWk7IyEQieJchnM5rlEW2zk0AjMeeOySsPkubOHkSULkTPwR7tLZy4lpdNEsy5xO8AcKuC3AtpWg4JRwZxroRH4oY/RpXFdyQhHO4RxSI+xg1ifE2AcGNnFmTTRtiKsg9RGSrfiHpojGG+T27P13MGpn0GuB3K9ADhth+ZcndgoE8sQ6yK/P6rlEK+DtlFIDBE8XMq6B6PUD4Dp2hSyjUVDBKEU5tAQfmqIkNKFBFM24bSDtXsFBOe1pnrqJA2zzJaSRdWbJu+UETkwm01iw0BbJjJooYFIda51FMARdkecR81sFoHGdRzKuaQlvGn2g5T4Y+OJGQJsmvbRlOvHHW/joYn9DFmd6B2FWYMo8Ne1EcICWUPRjhs0Q59i72sZe/Ew6ESf9ObX30m+XOGZz382ablOSUnBO34MVcxQNW+iYuZoRHNdWQET5TOopn3OEEHMGyKYLRAZBhcMEYTAHMrjjdbXdLwpKSuNdzJJJhtbcwgvh23WKBhFzLkWfjFDFPqoiz3odgmGGdCMHPLlG5icOKczPDCyk6nR4wSue5lPp1wPaaIt5bpp/t1pjK15zG3nSlCZfAl6dp375+nEpS8jhvCkf4E+GxoM210XRggL2KJFKe5BmSaGUujgNDkUhyebiw8TxtAQ3rH0ITyl+7B/Mo0wJdb2YsevXZ+eJA5c4mIfsbDRnkaFJiIHRv18I4QWWmXo9NOFQ5s8BaS+0Nn4Wshkk3E2Gk16chahcDnTAHOgF+/UBJg5KAzAzJFODDtlA6OqLnUDQFAIPLQAd14moducya6HrKEIsKmFPtmBV+GflIuOvMowuf2Xf4UTP/4RR37w3TUeaUpKd+AdOYpZManJW1FC0dTdmaCK8hYyjJH2Of24yMhjMYOQFfobGaacxL3QHCrgn2qiw9QELGXj4p9soHozVBs+UptgNhBCYM21aBeSqlTDyqzxKC+NMjzqYUym5wZOH39h8fjAyC50HDN+9NAajm5jkibaUq4Lf7yNf7xO7tb+c2LOkZc48fWeS7RNnD6Lm9Pkg3586V2QaJOujwjjdWGEsIBNixJlhBZkMiZxeJKM34sTtTlbT3YDzG3b0oq2lK5Da43zk2ms3WXEy91/O8DM2Ek0gmLfFma9SYpeUtkqs2A1WoT5RBMu0WfrbDUbgCPaCARFvTyTh1wmQywk9UaTfquEq6pMNnmZ8+h2mE0TbSmXRmtNfzuirZKqyLLdgiz48bwz2QaoaDMUKBVTi1pkjAI9/ja8555ZfH/7La9l26tezb4/+1OcZtpalpLiHTmCmfMRcgStY1ycK39oDYjyWTQsaR+NzDxWVEMaFXKeTxBNE0Qh5lABIp3qtKVsaLzjdcyhAidOJMlxy2pBGKOaDk6GrjVCWECZHo0oRJkFvFMzi8fLW7Zi5fKcOZi2j3aaNNGWcl20fzCOzBtYN5zXpjVzFOJosaJNRzFnT52lkY2RsYEvfbLGyxxH5x2N4nVW0aYwKFDCKpTRcZ2yuxVpTXNkMllkmMPDhNPTRM100ZHSPQRn24QzDpmbelbk+qePHaNlFBnsLVJ1J+gLBsHUyNhDBokRgiBGRm5HHUcXcLGJiZfdPmoaAi0tnHaLjDSIzTrNVhZza3/SOgpJom3mcAdGnbJROVO12YnEFh6+dCnWG2gzxI8lQiiEXF7lZbeQNRSzYZVYa/TQq5j9ux8tvieE4I5ffRuh7/P/fvaxtIU0ZVMTex7BqVNgOpRViVZYQ5ld+jugBHHOxGi0Fw9FRtLBInMFQNPbkuyfOIbqyyIyCvfI3BoNNiVlZYlaPuGMgzlUYPx0DU+1KVoyMUJA4xJhdKkRwgJS+TTDRH+4MHeu8k4IycDITs4c/Nkajm5jkibaUq4ZHcY4P5kmc3PPUjH1qQNgWFBM3Ohmp2YI/YDYLAEamQ0u+AFSLYfYUGijSxcaF8GmTUxMOe7BKPUBULQNSqW5RZ02c3silp5WtaV0E/b+KUTOwFyBtlHQTJ88Tt0oM1TOMONNUPYGkDkw6kklS5DPoYJkUdJJx9HFEQiNi01pmc6jAMK0CJ3kAUNZNrFXwdjSR1itE7UdqOxIzBDiaNn3StmYnDg8i4WgHQX4lo1Vb6IzGj/UKMvs6gX5tZA1FQ4t6qGPHH4d/imH4Dwn2lypzM//yq9x+Hv/wMF/+Ns1HGlKytriHzsGcUy7OEyfgoY/29VajVE+h1lvLf47MUQAI6NBWPQ2LH589ihCCqztRdxDaaItZWPinZjXZxsqYM/UaFt1KqqMWUs0h/3Axch0fgO5kwih0cqhHbTZEm/Hi/zF9/pHdnH28EHiKF3TdpI00ZZyzbiH54jtkMwrepe+MX0AKjthfpf+7NhZYgPKYhuhDMhlLkymGS0naRtdRw8cWsQ42JR1L9IwMFQGw6uRseocnq9oM4aGQAi8o6lOW0p3oGON/ZNpMjdUVsRttDk7S+y2iYv9KKWpubNk3CLkwWq2iE0TbZmosI0WEq1Wpoq1Y4YImSyEHmEUkc/6CG3gVrYB4J+eSCraIh9qY8u+V8rGZGa+vcR2BCgPEUXojCYIwg3RNrpAxpSE2MyFLluzNxJZBs3/35eWnLPz1tsZee1t7HvyT2nNVddopCkpa4t3JJEbaORupqQUjWC2q92Hw2IW5QRIL0gOCEFs5rFkDSkrbK0XOFY7AYA5UiI40yJqB2s44pSUlcE/UUeWLVTBwLQVtjlH3urDrLVwShZxHKEy3avPtoAyA+pRwNbszZyon1g8vmVkN4HnMjWaFoh0kjTRlnLNOC/OoHozGH3nZ+51UtHWM7J45PToKeaKPgWvH1d65C+aaHOJct3/w/RybNGkopNEYyaTIQ5OYYWS01UH2w+RmQzG1q14R49e4UopKauDP9Ygbvhkblp+EupiJMFZUNwySNWbpOAlOoYyB+Z5RggyaBOrlZvzNi0KlBB6eeEtk8shgLlak0o+2eEbNxLtN+/UBFTmf+tSQ4SUSxBOtGkIjXTz5OJEUDzKGYSBtyGMEBZQAjKmoBo2MYTB9M030fr+T4hqS0Xef/5X3opAsO/JP12jkaakrC3u4cMYlTwtaw9CCOrBLLKLW8jDQrLON+tL20czTIHspWRDfd4QwdqRVMq7B9NEesrGwz06hzlcoDbrorQJ1izazGPWWrTyyRzuZiOEBQzToxZpMlYvZydOLR7v3bYdZZhp+2iHSRNtKdeEjjTOgSrWrpe1ZjUnwG1Az87kn7UGrXqTej5GeTl8wyP7Mh0K6YVIPyReR0YIC7RpkqOAqS2sYh50m6LdC6rN0amkzN4YHk4TbSldg/PTGWTBxBjMr8j1Tx4+RMMoMtRXZMYdp8cbBKkRWTAaTYJ5IwQjaK1I2+gCjmgjkcs3RJgfb61epy+bOI+ebmtUTxn/1DgUtiTuo9MHOzHslA1IrubTMOPk++jZaEPgmhZojTTWX9y7HFlDMhfP4cYhauutxCKm/vTTS87J5PP83D/7/3L0B89y/PkfrtFIU1LWDu/QYYyKgVY3EsQ+rnC6u4XckERZE6N2fqKtiBnVkVbyHFB2msy0bGQ+WV84P5u51NVSUtYlUcMnnHKwthc5frwGQMaoQ6wxGg5tI8awskjR/WkVZfjUIw+tNXrMPu+4Qd/2HZw68OIajm7j0f3fiJSuwhuto50Qa/fLEm1T8w+blSTRdnb0NEjIW4lem8oFF3SHqlbiZLSeHEcXaIukRbSi+zBLfYCg3MqRK8wuto+a27bhHUnF0lPWHq019oszidvoiqzqNbMnT9AwKwyWsky5p+nzhpB5ULaDDCOiQh4RB4g4IDZWMNGGjUZTWmb7qGEoYmliN5vkDQvfqFJtmphb+/DGxkGIpKptJrVDT7kQP4zZ7mtaKqlkqzSqxFmNp5N4183tYtdD1lL4tKgGHq9UtzEzFNPat4+o1Vpy3o7XvI7BG2/mW3/+3wiDtMUsZXPhHjyILgh6jCK1YBZjHfwORMUc5lwL5n1MInPeECFrgrTobxg8O5ZUdlu7yom8jJ/qPKVsHLxjNQDM4QJnTlVxjCYVQ2E0HNAxbuQnciPrACkjYu3g+C0GZgvE5xkUbdm5mzMHfoaO4zUc4cYiTbSlXBPu4TlEzsAYeNmD8vRBKG4BK6kCOTV6inohZCDYTihC8rkLH+6Nlos2JNo0VmPoHSUQPh4uFd2LUBJDFci5PsVSddF51Nqxg3Bi8oIHjZSU1SY40yJu+BcmyDtEfWoS7TuIyhaEiJl1Jsk5lUSfbd4IISzkUWEyFyK1cguSREOxTUn3LPta0szgzxsiCLOJ2y5hbplPtEFiiDB1YNn3Sdl4HB+rsQVJS7v4yqFQnYVMgB8JhFBd3S52PVhKIJVHNXToEb0c2T0EUUjzG99ccp4Qgj1v+f/QmJ7kJ9/4mzUabUrK6hNWq0QzMzRzA/QagoY/tS4S7mExh/ICpJMIp8dGBi0VpmohZC99dYsXp5PujczuMoQa73BqipCycXCPzKH6s8i8SXu6TSszR8UoYdbauAbEOsLIro9EG4AyXOpRwA3hjYy3zi4e37LrBtxWk9kzpy7z6ZRrIU20pVwT7qEq1o7ihVUxUy8tVrO5tkN1apZq0SPT6sFVDvnMhck0o+UQ5jLrygjhfNqiSSVOXEetbBaCSSzZ4MhUC6015o4dAHiHUw2nxx57jN27d5PNZrnzzjv5wQ9+cMlzn3jiCd70pjfR29tLb28vd99992XPT7kyzs9mEVmFOVRYkeuPHztKjKSyZZCqN0XeLSX6bAUw6k2iXBatJCpooYW5aJiyUtiiRbkDiTYjm0UEDkEYY2UdhN+L3NJPMDFD7AdJq/z0QThvRzAlBeDMoVkA2l5IZNpIP0BnFxxHre5uF7tOcqZiJpwj0jFbsrejR4o0vvlNIsddcl5l6yA3/Nzr+d5ffxHfsS9xtZSUjYV3OOlwcIq3YwpBfb0k2gpZNAKrdm7TODSKmLKKFD1UbJPxuVEAVCWD6svivJi2j6ZsDLTWuEfmsLYXiSNNxlE41iwZswez0aJRUAghMayV69ToNCoTUI2hIvs4OX7OEKF/x06ElJx+KW0f7RRpoi3lqonqHuGEjTXyMu2j0IW5k4v6bGdHzwAgiwWEb6EzPsbLXQ41GA17XRohLNCmQYkySisyhSxoj3zDwvZDztQczOFhkHLRZWqz8qUvfYm9e/fy4Q9/mOeff57bb7+de+65h6mpqYue/8wzz/COd7yDb3/72zz77LOMjIzwlre8hTNnzqzyyDcOzkuzWDtKK+I2CnDi4EEaRonhviKTzil6vKFFfTaz3iDMJwsQFbSJjJWf8zYt8hRRennVstlcDqljZhstirkQiaJa2gpxjH92Cnp2gd+Gerr7l7KU1qkGHprQyZCJE5mEOKfx/WBDOY6eT85SeLSYCz1ew20cH2ygXZfWM89ccO5r3vRmfNvh+f/zv1d/oCkpa4B78CDCNAiyryXSMQ2/ui4SbShBVMgk7aPzRGaBbDwBMjEFyzUnsf0QAGt3GedAFR2l7Wcp659gwiZuBpg7SlQn2ggkppolypQwam1alsbM5tbV5pmyvEWdNvfMuXltWBZ920c49dJP13B0G4s00ZZy1bhHagCY24tL35g5AjpeTLSNnRijlQ/ZFt8AaKxieMG1pBcgg5B4HSfaWqKJQFLWvZilEqAotwooq8bhySbCsjCHh/EObW4Np09/+tO85z3v4f777+c1r3kNjz/+OPl8nieffPKi53/hC1/gve99L3v27OGWW27hs5/9LHEcs2/fvkvew/M8Go3GkldKQjjrEE7aK9Y2GkchzbNjNDO99OUtxp0x+r1tyAIQRxitNmGhAGhUaBOvYNvoAm3RQiAoL1OnLbtgiFCt0VdIqtbGZHLMPzWeJNogbR9NuQA17TJrxGTCAkW3SZxRhFaGKPDWx8P1dZAxBFrazAYu29jJiVyB7Ctvovn1r6PDpZpN+UoPN/zcHTz3ta/gu84ajTglZfXwDh7C6C+RNYaoRzW0BKXWRwt5WMhi1lswnzuLrBIKB2ll0IbFgO1zYCJpF83sKqO9CO9Eug5LWf94h+fAEJiDeU6cmCMmoqhqaGFBo40rI8zcypiMrRRKRhC2ccI2+WpmSVPG1l03cOpnL6DTTo2OkCbaUq4a9+gcxpYcMvuyKpGpl8DMQnEroe8zdXaSatEnU9+CJz2K+QsXEkYraReJCuv3gcPDIcCnR/cjlEIZJfJ2RE9ljkMLhgg7duAe3LyuhL7v89xzz3H33XcvHpNScvfdd/Pss89e1TVs2yYIAvr6+i55ziOPPEKlUll8jYyMLHvsGwXnQBWUuDBB3iFmT41BFGD2DxJqj7ozS84pQgHMehOhNVExjwodhI5X1AhhAQ+HkICKvvR35mpQhomWBu1Wk7Jl4ssGE66FLOYTnbbCFrAKMJnaoacsZUs7omEkLZOV2gxxXuORbCwpa/3GvSuRtWJmgiT+bVG34Y0YRNUq7R9e6DJ6yxv/CZ7d5qf/79MXvJeSstFwDx6g3TdEv2FQ9ScxzPWz0RyVcogwxlgwMVMFNKBMB2H00V83ee5MotOm+rPIgol7sLqGI05J6QzOoSrWcBFhSE6PzdKy5ugxckjHp6WSQhIzu74SbQCmblAPQm52d3G6dXrx+NbdN+I0G8yeHlvD0W0c0kRbylWhY413ZO7iD+tTBxP3PSGZOD0BWqN68wg7R5R1L2wbBYyGQ2waaGN97OZdFAEt0aAn7gcgY+WQQZVcZoZDE/OJtp078Q4d2rQ7AzMzM0RRxODg4JLjg4ODTExMXNU1PvCBD7Bt27YlybqX89BDD1Gv1xdfp06lrXwLOC/NYm4rIq2VmWtjhw7hC4uBLYNMOqcou/0wr89m1RpoJQlzWVTYRiNWpaINAS2ay060AQgrS+i0QEBs1mm28phb+/EXnEd7dsFkqmeRco5azWU4hiYukQgoVKcg4+PGScuoMjdm6yhAIaOwdZN6lLSPHopPYt2wm+Y3vnHhuZUedr7udp772leIwgsr31M6R6qTurboIMA/dhy7/CosKWh44xjrKOEe5TNoKTDq821mUhCZBQzZQNFH0TU4MZF0bwghsEZKOC/NruGIU1KWT+yF+KMNzJHk2Teo+rQyVcpmD2a9TSOrsawcUq6/dIpp2lR1zJa4nxNnjy0e7x/ZiVQGYy+m7aOdYP19M1LWhGC8TdwOL0y0aZ1UtM23UJ04MYqdiRjmBoQWmIXgotcz6jZRYf3s5l2KFg1KVFBakS1YQESpFTFRd6k7PtbICHG7TZDqi10XH//4x/niF7/IX//1X5O9jKNPJpOhXC4veaVAbAf4J+pYu0pXPvk6OXX4IDWzwrbeHOP2GFu8HWBqRAbMWp2wmBgwSL+FVhlWS8iiLRqUdS9CL+9+ZiaLCh1aboiRaYMzgLm1D/fkvFNT7w0w8UIHRpyyUTjx0jQSQTvw0bKFQEMuxI8EyjCRYuMuvUwlwGgzG3jcwKs4GkXkbn8d/rFjeCdGLzj/lrveRKs6y6Fn/371B7tJSHVS1x7v+Al0EEDhVcRa03CnUdY6WgOLpH3UqrUXD0VmCUtPAYlOm6iO4c/rspkjRaKqSzibtoV3gjRRvjZ4R2sQa6yREp4dYgUm2pxFW72Iah3bArOwMt0iK43IxTT9ZH62Tp9zCTZMi/4dI4y9uH+NRrax2LirvZSO4h6ZQ5gSc/Bl5bH1sUQMvHcXOo6ZGBunUQwwqgP40qNYvMhXLNYYLYcov36skC9FS9SRSCq6D6OUAywKDQukx+HJFtauJAHpvvTS2g50jRgYGEApxeTk5JLjk5OTDA0NXfazn/zkJ/n4xz/ON77xDW677baVHOaGxTlQBZ1opqzI9VtN/LkpvOIW8pZi3DlJjzOY6LNpjVVvEMwn2oywRbQKbaMLtEQDhaK0TPfRXL6A1DHVeoNCzsWIi7T7thKcmURHEfTdALNHIUgfKFISqidqBGhCO0smahFbBtoiMULYoPps55PLBkz7NkooBtWtVHMzyEqF1re/fcG5la1DDN30Sn70v7+8aSu/V5rV0ElNuTzeoYNowMpuZy5qEBNhrKdEGxAVsxh1G+JknkZmEUtUEcIktCwG3BbHp5NEnLmtCDJ5dkhZHmmifO1wD82hejKocoap00mnUs6YIbQquI0aQoOZX39towA6Y6LcWdqRS3Euhxf5i+9t3X0jp372AnEUXeYKKVdDmmhLuSrcQ3OYwwWEetlXZvIlEBIqO5mdnEEHEdneEqKdJ8q6XKya1mw4CK0JN0BFm4eLj0evHkAYRqLT5mjKpVkOjjdQPT2o3l7cn23ORJtlWdxxxx1LFugLC/a77rrrkp/74z/+Y/7gD/6Ap59+mte//vWrMdQNifPCDMZgHplfmVa1iSOHAShu3cacP432NIafQRTBaLYRYURYKiB0gIy81WkbncehTUhIr+5f1nUy846pjVqdvmKyW38q14sOo8R5tO/GxAxmcnPO8ZQLicdtpmVINihRacwSFRWhyhJ43vqqYrlOCpbEpkEjcnkdt/Pi7M/Ivu51tL/3PWLXveD8V/7CG5k+eYLTL6WVoZ1mtXRSU0Oiy+MeOEiwdRd9KsNsMJ5Utq4TI4QFokIOEceYrWQOR2YRJX2kESIzPQw04KdnEkkQaSnMwQLu4TTRtlzSRPnaoLXGOVjF3JFUrB09OomnbMoqQgtBK7TJinVcoS4hG8xQDyNe5d3Eweo5PfHBG1+B79hMHDuyhgPcGKzTb0fKahK7If7JxuKPzRImfwblbWBY/OzYYQIV0zPfNpotX1xzxai30VISZzfAzr5Iqtp64wEAspkMMqhRyc9yYEGnbdcu3J9tXrH0vXv38sQTT/C5z32OAwcO8MADD9But7n//vsBuO+++3jooYcWz/+jP/ojPvShD/Hkk0+ye/duJiYmmJiYoNVqXeoWKRchdkPcI3Nkblie8+blOPziizSMEtsHKpxtn6DP2QZCJ/ps1Tm0lIT5PCpIdrlXwwhhEZG0dvfogWVdRioDrUycVoNKVhIJlzMiacX1Tp6F3t0gFYz/uAODTtkIVOo+9XkjhHJ1HJ0P8WUOraNNUdEmBEizzbTv8f9v77/D5DjvA9/3W7k6T47IGYwgwShSpChRYWVbDrIt+561ZB2nu0fSykc+967We9fa59lzVrKlPdIxJSt4V5RtiSZFSVQgKUoUE5hJJCIO4gwmh57Ooaq6qt77R4MgQQxIAhigZ3rez/P08wDd1T2/7plfddWv3vf3ruVyjgc1zM3rEI5DZfv2M7bvXrOOVFc3Ox768aUPtsldqj6pckGiN+cMDOAsvwFDVcg7Y4uy4B5ETISqoufqx2JC1Qj0KJpWRlc7sWsaAydeObW90RfHPZpHnJxOKp07WShvnNpEmbDgYS6vH++lJwr1hRCMFsJ8AU8NsazFOZrtVSZ5CjWHnrCTQ2OvFdra+vsx7Agn9sjj2gu1KAptcm56YzlHcifnqL9x+pmAyT31qVPA+MgYlYSA2RY83SESm/v1jEIZP2bDpWnVdNEVyRMniSmsk33aBC1llxPpMtVagLlyJc6+fUt2WsxHPvIRvvSlL/E3f/M3bNmyhd27d/PII4+cOvAfHh5mYmLi1PZf//rX8TyP3/3d36W3t/fU7Utf+lKj3sKiVN0/C4HAXH1xpo0GgU9++BgFq53OhMVYZZAubzlKBNDAzOTwEzFQFLRaEaHUV/C8lEpKnpRoRRUXNnJAsyIIp0woBL6RIeck6yuPnpgAzYSWVTC+e15ilha3wPXprglKVBF46H4Zxa5QPbkQgr4ECm0AsajHtFdBRWO1cjXH8q9grFpJ6Zlnz9hWURTW3/AOju18mezkeAOilc7m7fZJlQsSnZ0QAndgAFIb8EVIyZnGsC/hRaf5ooAfszDyr+vTZiYwlVmUWitCgSB9DD+oH+say+IIL8AbKTYq4kVPFsobxzmYqbdM6o0RhgKtqOKaaXS7E298HC0EPXqWE91FQlg6TqX+nVsdLRKePE9VVY2u1WsYfGVHI8NrCgu+0CbnpjeeM5BBa7XQkm84QShMQCUDbWvIFLJoxYBIKoXuRBARZ+46WijQ82WC+OK7mnc2BSWHQNAqOtDiFigRogWNAJ9DkwWsNWsIcrklvSDCJz/5SU6cOIHrurz44ovceOONpx578skn+c53vnPq/0NDQwghzrj9l//yXy594ItYZdc0Rm8MLX5xTuzTQ4MQ1LA6+6gGRfJOhmi5BSUGBAFmNk8tUb8SqNUubX+2VxWVHCoqLRe4+qgdjaIHDtmygxEpQaULo6sd98TJnG5fC+M75yFiabEbO5xBQ6HsBehBniBmgyZwAwVV0xfddLHzZWgCTy2QCxyu4zp2Zw5gX3Y57sGD+NncGduvuHILViTKzod/eumDbWKXqk+qXJDo7PzpGYJslkikh1m/fryoW4uw0AYEMRu9UIGTg9R8I4GpzqIIHTei0V7JcXymPuJN74igWFr9Yr3UELJQfv6qB2cxlsVRNJXCTBVVaBhGGt9I4uayxF0II4v7wpkfiWAWRikHNTYV1zOYHzz1WM/aDUweOYQjZxNdkAVfaJNz0xtLBAJnYPbU0NnTTO6tzxFpWcnzR3YDYPkrEEC0Ze4Gika+jBIK/PjiPMiYS6D4VCjTFnai6Aa6HsOuesQTaQ6MFzDXrAGg+sorb/FKkjQ/goKHeyyHtbblov2MQ3v24qg2PT1djFaOkfLaUUIFNQ5mLo8ShvipOAohWq1CqF/6xU9cHFwcWi9w+qgdi6MAs7NZ4lEXI0xS6uzGHRytb9CxAaYHwKtceNAL0LmMKt+/fz8f/vCHWbVqFYqi8JWvfOXSBboATB7O4CMQ1QTx0ixBQidUNTy3tuian18o264y7Tn0s54CcUo9NqgqlZdePGNb3TBYe92N7HvyUXlgP49kn9TGcw4ewIt20qKbpL1RNN1EW6QF9yBmowQhWrm++E9gxNG1AiBQ7TY6yoI9o2kAFFXB6JN92i6ELJQ3RlBwqY2WMFfUP4eRExlCAiJGBS+bIxQBEWGAurinZoW2geXmyPtlNnsb2DH1WmuH3nUbEEJwYq+cPnohFnShTc5Nbzx3KE9Y9jHn6vM0sRuS/aDbjA2P4UVBFFrwzCrmWYr8RrZEqGvN0Z/tdYpKjjbRhSIUIpaOEhTosrPsHcujJZPoXV04e/Y0OkxpiSjvnAJVwVxzkfqzCcHk4QPkrDb6WqKMlo7S460GXaBEwJrJEFgGvm2j1UooCAK9Ab0sTvZQbAu7LuhldNNCKCqlQp7ORP1S/miiF29smtCr1QttIqjvE5vMuY4qr1QqrFmzhi984QtveSLQjLzRIlOKhxHYxEppRLxGoMepOdVF2ZfpQphWlZlaiYCQ68X17Jh8BmvtGiovnlloA1h33Y2EfsCexx65xJE2N9kntbHcgQFqa9+NqihkK0MYkcV7oTmIWAhFwSjULyoJVUMYFppexdS70QOFgWOvTTczlyeojRQJyrVGhbyoyUJ5Y1T3z4IK5or6IJPjR8cpmVlSZivuzDRmqKHZi//7PLTq5+KON0xKjTB8ZJxXuxxFkylauns5vkO237oQC7rQJuemN151bxo1bqB3vuHAQIQwtgs61nOgMEw0C1a8Bd030RPuWV/PzBQJkpGm6c/2qoKSxcAgKVqJJOq9eFqKNYbSZYpODXPtWio75NQy6eIToaD80iTW6hSqdXGummfGR8Eto7b14YYl0u4kqUon6sn1UqyZDLVU/Uqg5pUQiobQGlNcLyg5YsSxxPmPqFMUBdWMEFQKREyBrxYZMzpACNzhcWhZCboNoy/PY+QLw7mOKr/++uv54he/yB/8wR9gWYv/QPRcxWZdclp9tIcZFFC0Ig71hRD0s12BalKKAppVZMarskW5mf3uLGL1ctyjx/BnM2dsb8cTrLxqCzt//lP8mjwxny+yT2pjOQcOonddQSlw8fwS5tkaGC8GKgRRCyP3Wp8230hiahk0r41AFZA+StWrL4b26mwYOart/MlC+aVX3ZvG6I2j2vW+wv5sQMXKEDG7qGUzxF1B0AwDRtR6n7awOEAoBFvTWxkqvDZ9tHf9Ro7v2k4Yzj1LTXprC7rQdqHk3PQLI/yQ6p4ZrNUpFOUNlbHZY+CVoH09Tw7uwPRVhNdFoPjEknOvMKRWPLSKSy2xiA8yzqJCiRoe7aILNRZDUeNESgKh1tg7lsdavx7n4EHCSnNOLZMWDvdIliDjYG++sL5kb+bAzl14iknv8n6Gy4eJ+Ak0x0SJg54voDkOXksLAFqt0JD+bK8qkUcgaBOdF/Q6ZjSGXqtQqHhg5cgHXaCAe3y0vupox0YYmXukzmI1H6PK345mGVUeOj7tXkhRuGi1AmGLiUpIJawXvHXz0k+fbjQzUmLKqxJXWlnDWnarh0DTqOyYu8nyxptvpZzNcPCZJy5xpM1N9kltHGf/AZKxDma8cdA0NGNxX4DwX+3TdnLkS2AkMJU0iqvixAw6q3n2jdX34WrUQO+I4BycbWDEi5sslF9aQdHDHcxjnZzJVS16aL4NehonXwIhiDkhwSLvz/aqIGKB45MXJTYHa3l+6LXpo30bNuOUiowPHGxghIvbgi60ybnpjeUcyhBWfKwNrWc+OLodDJupSILMeBpUBcXtIoxUUc7yV2XN5BGqip9owpMNpT6qrSPsQSg6hmFhOEXakzPsHslhbdgAQUBVTh+VLrLiM2PoHRH07os1VVMwfnAvWaud/pYoQ8UBltU2gCJQY2BPzhAaOn4idrI/W5mwEdNGTwqUgDJF2i9w+mg0nkBBMDObIRorY3l9iI52nOMn+7R1bYLhF6CJVheej1Hlb0ezjCrPHMuiolCrqsSqGYKkUu/P5gVohnnmBaslQFMDqnqGclDjHeIWdnoTqMv7qGzfPuf2yY4u+jdexss/+aG8ii4tekGhgFtrwVQ1ZitHMSNRFvtuIIhZqDUfteoB4BtxDD0HgBHtoKUCLx09cWp7c2USZyCDqMl8Pl+yUH7pVPemQQFzdb0WMDlUH32tWRW89AyGaaMJZdEvhPCqIGKhOAoVbZQuI0pmr3tq9dG2/n4iiSRHXp6/C6tLzYIutMm56Y1VfnmyfsLeNkdhbPh56NjAL2Z3012wUew4Gjp2iz/3iwmwprP4qeiibx55NnklQ5QYUeLEbQVEhV61yu6RHFpfH2oiQeVNmohL0oXyxkq4R3LYV7ZftJP69PAwOCWMruVka9MUahnaKj2oUUAJiUxM47W2APVpow3rz/Y6BSVLq+hAFef/lWfYNkJRKWYzdCRrqOhM9a7HPX5yBHTXZVCZhdmj8xT10tEso8onDsxSJUTxUlhuBsUqERhJvGp5SY5me5UZLTDtVViuXkVMWByPZ3GPHCEozj2VadMtt5OdGOPIi/LgXlrcnAMHECtvww19Cl6aSOwi9U29hIKojYBTfdpQVYRpoulVIupyFGDixAuIkyfr5poUwgtxDucaFbIkvW2V3dOY/YlT00aPHDhExSgQN5L4+Tw2BqGhI/TFuaDJGwURE0WAUx1AUxS2FrdwaOYwAIqi0rdxM0defPZUPkvnZkEX2kDOTW8Uf7aKM5Cde/pZOQ2Z4+Ta1/J8+iCpoo4ftuLrLmZk7mmjRr6EVvXwWuMXOfLGKZInwKcz7MFKWIBKrOBTqNY4OlPG2riR8gvNNbVMWlgKj55AS5lYa1ou2s/Y/eLLuIrFspXLOF7YR5wUWsmEBNjTadRaDa+zvt/Qa3mEYjSsP9urCkoWDZ0W0X7er6EoCooVxS/nSUQCAsVhLLEc59hw/QCkazMoGgw9M4+RN9aFjCo/F80yqrx2osC4UgFUNMtD94u4eoKg5qIvwX51r9JUn6w6jYbKO/x38WJrGREGVHfvnnP79mXL6V6zjhd+dC8inPuYQpIWg+q+/didG0m74wS6gmYYjQ7pwmn10Tx64XV92swkpjqNWolStaC9Ms7hqfp5l95iobXZVF6ZewEdSVoo/HQVb7iIua7l1H2ltKBkpYlXNVAUYk6T9Gc7KYhYCCCsFMkrFVYarby0Y+DU48svu5LibJqJIwNnfxHprBZ8oU3OTW+M0vMTKJaG9bqdzSknngVV4xcUaSuaIMAU3ejJsy+CYI/VVyEMYs17VV8ogoKSozPsJbRTqHoMu1wjHi3y8lAGe/Nmqnv2EJTKb/1iknSOnGM5nIEM0a3dKBdp1GgQ+KSP7KMQ6yIVFQyXj7CydhkI0BIQHRqllojjn+yJqbt5AqPxK6w5VHFx6BDdb73xm7BjCTS/Sq7sgJ1h1lhOWHGoTcyAEYWO9TD09DxF3XjnO6p8KRKhIJlxKYkSWuChJD0EUA1O9mezGp8HjaREMmT9KuvU27B1jVwSyjvmnj4KcNk77yA9PMTR7S9cwiglaX45B0ewzQgz1WNo8ebpTxxEbYzcawMYfDOBrc0gPAUlmaKzVOPZo+OnHrfWt1DdP0tYkYucSAtXedc0iqFirapf7PPKLqqXomZkqWVm0aIxzFKVINZEF840hdAywNEo6hN0m1H0oRj+ydYNHStWYccTDDy3rcGBLk4LvtAGcm76pRZWapRfmsDe3Iaiz/EncvxJ8h3reCJ7gM3VToRqINQIdmruaaN6oYo5W8DtbGm61UbfKKfMEidJREkQM1WU2jT9ySIvHJ/FuuIK8H0qL8lRbdL8ErWQ3ANH0bujmGsu3tSUof37UH2XSP8ajhcPAIJUqQslCmYug1Es4fTUe6EpgYsaOAT6AhjFqtSndneEPacaOJ+PWDKBAsxMT5NMlFFZia9ZOEeH6xv0XAnHn4ImGoVzrqPKPc9j9+7d7N69G8/zGBsbY/fu3Rw92txTamtTFewQwmqA6WZQI2UCI47ruGi6gaY1xzST86UoIVl9knYjxprSb3O8U6GyZzeh5825fefK1XStXstz3/+eHNUmLVrV2Ti10GfWSxONLP5po6/y4zaaU0N164WzUI+jGwUUJSRqrsD0FQaOPXOq15O9rgVCQeWVmQZGLUlnJ0JBZccU5prUqXPfyX31RQAUo4pfyGNGYqh+8yyE8KogZqE4OmV/AA2FTeFKth+u9xRXVZUVl1/FwLPbCPyztIeSzmpRFNqkS6v0/AQiEEQun2OaVWEc0kd4OB5HQcFOKyhqK0rMQVHnOIMNIXpsnCBi4Lc2z9W8symQIyCgK+wlFteAgFTBI13yGFKi6D09lLbJqwLS/Mr/fBA/6xB/Z/9Fbbi+5/nnKehJVvV3cKTwCn36aiioKElIHD5GLRGnlqwX1gwvh0AhMBZG3ueUWUwsWsT5r8aqGyZCMyllZ+lO1fu0zfReRvXIUH2D3i1QScP0/nmJeSE411Hl4+PjXHPNNVxzzTVMTEzwpS99iWuuuYY//dM/bdRbuCRmD6bxETheC5pSQvey+GYLXqWEZjbR1e8LUNKm8USNzeZVuKktqL4g+9DXz7r9Fe+6k/TICQ493zyjRKWlI8jnUVIbSDsjVCMhttoE00ZP8k/OTjHyJ2doKBAYcUwzi1ptw9ehvXycg+OvrT5qrkzWzy9krydpAXKP5ghyLvbG144RjwwMU9ULpGoqCIEt6hfMgkhzfaf7URulGoI7Q1avsjwSY2Dna8d1K6+6hmohz9ArOxsY5eIkC23SaULHp/j0KPamNtToHAcFR35BxorypDPO9fZawlIVTWnHbpl7OHhscAK96OD0dTb9aDYAoYTklQxdYR/EWlBUC7sQkIy5PHNklshVV1F6/Al5oCHNm8quaUrPjRO7sQe99eJNzS7OzlCbGsZpW8Z07RhOUKXf2QBAIjOMVnWoLu87tb3uZuuLICyQJdYqlHBx6Ar7L+h19GgCqgUUrUqgFxntugzn0FD9wa7LQLfh6GNv+hqLzbmMKl+1atWco8qffPLJSx/4JZQ9OMuUKBJoFkasgkKIqyfxPQfDXtrTRl8lFEFWmWZFJEYsuI2ptn4O73oZBucupHUsX0nv+o08c9935ZV0adEpPb8XO9LKtDuKYhvNdQysqwS2gZ57XZ82K0lEGYaqgkil6CnUePTQayOZ7cvb8acruMdyDQhYkt5c6aUJtFYbvevk97UQFPNxCnaaaKmCFo1ilT0Cy4C5ZnstYkHcru+eqip5Y5xuI0ZnuptStb7gSUtPLy09fex9/BcNjXMxaq6/FOmCFZ8eQ9RCIld3nvlgUIMjv+KnHX0Yqk5i6uRIFTuOar/hIDiEyPEp7LFZ3L42glhzDbN9MzklTYwEUb0b29BR3Wn6WjM8e2wG4+qr8aencfY1z4gXqXHcoTyZHxzG2tCCfdn5N/p/O3Zt24anmHStXM1AbiedVh9a2kK3asQHT1Dt7cKP1At9SlhDq5UIzAUwbfRVCmSVNF2i94JWH40lU6giYHxqBjuWpRC/jPKRIUQQgmZAz1Vw5JfzGLi00IlQYE5U8JwcShhiWxP4Rhzn5LTIpd6f7fVm1SkMRaM/YjK+7NeIpOMMP/cVmJ670fKVd7yP/PQk+56QOSUtLvmXx6iFHlOiQtxMNDqceRfEIhjZ0ql2DL7ZgmXMoKghEWMlEU9jaPQpKl79/MDojaG12xSfGm1g1JJ0Jj/n4uyfxd7cempWSOX4fghacY0stVwePZFEK1YIm2zaKIAwdEJDB8ei4h/CI2Cd2c6zO3YD9cXA1lxzHcd3vkxxNt3YYBcZWWiTTglKHqWnR4lc3o4Wm2M02+CTTPglngmLXJfcSOFEEUWJY7ad3j9F8UMSB4eJjs7g9LbidTTfAcabKZCnRo3usI94VAVRIlb0KLsB++0u1GSS4i8eaXSY0iLn511m/+UARleU+K0Xd8qoWy4xuW8XM9Fe1MgMJT/HKrEZUVVITRzGT8Zwel9baMB0M4BCYCys3M8qM+gYdIjzXzHTjkYQqk52ZobuVgdFbaFo9OAOn2z83H8dDL8A1ew8RS0tdLWpCrYvCMohmshjejP4djteuYimm0u+P9vreYpLniybYq0IRSfT9T4eDVOIx/8rlM/s39TS08vKK7fw3P334DnVBkQsSedOCIGXj5N2xihHXGJatNEhzTs/HkFza6jV+gUFoRkEegTLTiNKrQSGSn9ljKeP1letVhSF6NWduEdyeCPFRoYuSacpPz9eXwRhfeup+0b2HEQQYlGGMECPxtFLzqlp001FqY9qU8squjvDjFViRSTO1MBrI1ZXXrUF3TDY/cuHGhjo4iMLbdIphUdPgKLMPZpNCNj7I37Q0UPSiOKlU8QrVRS9BS3+WjNj1a2RfOU4RrZEZWU3XmfzNH992xRBTpmlO+xHT7YDGtGsSk+bwxNHZolu3Ur+oYdkg2fpvIlQkPnXAUAh8Z4VKNrF3ZUfePZpAiC6fD2HCztpNTuxJ6MYQQVDlCmtWXXa9kZ1hsCIg7KwvmJcxaFEgd5w+Xm/hqIoaNEEYSmDbRcRqsNU1zVU9p+cIrP8ehABHPnVPEUtLXT5g7P4ImRWb0c184CCZ7XilosYETma7Y1m1HHiSpyueJV8cjXRyQ3sMzR44r/VR86/wRV3vBenXOLln/6wAdFK0rkrDkxg60mmvAKq6qAvsO/C+eDHbYSiYGZft/qo1UJMO4ISgpbooS+j8/NDT/PqsDdzdQqt1SL/y6HGBC1JbxBWapSen6i3TDJPXhQLA4YmoWhlaK36qKaF6QYoQhBEm7DQBtQSEbSqDzXI6yeIqgYbneUMTtRHoBqWzaot1/HKow/jnZxSKr215tvzS+fFGy9RfmmS6LVdqLZ+5gZD2zhSnWSXUuMKawPZEQdFeOgtsVMtmFTXJ7nnOKrnU17Xi59auicYWWUGiwgpYyW2YaE703QkJ9kzmsO/5jr8iUkq27c3OkxpkSq/OIE3VCD+rmWokTnydR5Vi3mOvPQsY1Yf7R0OGXeaNcF6grxGtDpBcd1qxOsKfXqtVF9t1Gq5qHGdr1llmlbRgS3Of/8Ub2lDFQEjk9PYiQwT3VsZ2727/mCsEzo2wMDP5idgacGb2TdDpTpDTY+QVIfxI63UPI8w8NFlf7YzlClSosCV0ZWY7gQxcSs/TPYQZgZh+91nbB9LtbDhxlvY/rMfyWkr0qIw+qMXcYIymdAhoS+MBYHmnabgxyzMTOHUXTWzFZ0yesxFry3D8FWi+V0cOLkogqIqRK/txj2Sw5G92qQFoPTcOCIIiVzZceq+YGwPVWclBWsaNVdATyQwCmWErhLazbOoyev5iSgCBZwYoXOMWa3K2miK5194rdXRxptuoeY4vPLozxsY6eIiC20SIhTkfnwUrcWau89T4MOuf+G+tg56rFamxi1WlAxAw+w4ucMJBfEDJ1BqIeW1PU27I3q7KpRwqNATLice1xBhBjUToKvwrJ9C7+khd/8PGh2mtAgFJY/8L4awNrZi9l38Hmiv/PLnBIpG2LOG4epekkqStoOghR7BsjjCPD3XzcoEoWoS6AuzwJBTZvHx6Q1XnPdr2BEboRlkpybobivjm+2kB4PXFjlZcXO9T5tXfvMXkhY9EYREJsr45RKIgGg4hmd34paLKIqKYTbn1e8LosC0OkaKNnriPkI16RjawHOrr4ODP4XRl894yuZbb0c3TLbd851LH68knQM3XyaSTzLppCnaOeJG887sCJIx9FwZpRYAEBoRAs0map2AIIKIJlmTDrh/z0unnmOuTqJ3Rsg/PIgI5cJgUuME5RrFbWPYm09fAHB6127AQFFzhDUPLZnEyJbx45HmWtTk9TQFP2GjFFQML086lqXTiNI+3k7Fq7dtiKZaWHX1tbz0kx/gVuSotrdDFtokytsn8YaLxG/pQ1Hn2IMcepgXajmOKwErwzWIQgS9mkOLJlG0+vaxYxPoJYfK6m6EeXFH2CwKCmSUGTpFD3ZLH6DRkouwvG+Sxw/NELvtNoq/+AV+JtPoSKVFpvDLEyAgdv359xl7uyaODjC8/xWOWitY0aMzUR7kloNxykY3RrRKaJ/eFFbzy+henpp9cRdmuBBCCckqM/SGy1HE+R0xKYqCEW9BqeQJyKBQIhvfSm5kpL7ByluhVoXDcoWmZucMFzGEwoxqo+pphG4SGHGcUgEjEr2ovRMXswI5ypRY33IlqfxR+gtbeKhUxuncCM98BZzCadsbls0V734fA888ydjAgcYELUlvw7EfPI2uGEx7PopWwFSat0djLRlFEQIj+1rPtZrdhu2PoKYEulhJsmJQnHmGkUz9xFxRFGI39lIbK1Hdc2ZfRkm6VIpPjIAQRK/peu3OWpVD44KqXqKt5qJoGrppo5eqzdmf7XX8VAytWEMEGtXaYcp4XGb28MvnXji1zWW3vZua4/DSj7/fwEgXD1loW+KCokf+4UHsDa0YvXOMjqnmcHd/lx+0tLLG7mNsXGNdZRkizKC31Ju7GrNF7IkMTl9bU67Gcr4yygyg0K2uJ2JaqM4IqjLGTMllZMMWALL33tvQGKXFxRsvUX755BTvizxl1C2X2P7TH+FG2/Fa+8mFA2w5oREEy1DVAKX1zCvRVmmYULMIFvgKa7PKFCYWHaL7rTc+i1RrGyAYHhkl1ZplqmsrL257vP5gsrc+fXTv/fMTsLRgHX92kNB3mDE7SIQjeJEu/JqH71YxI83XAH3eKDCpDpOijf6EgRrW6B2/koe7V9b7tL3wD2c8ZfWWa2nrX8Zj3/46YRA0IGhJenN+zUMZcJl1Z/D8HKlmnTZ6kjA1gqiNNZ0/dV/NbkcJQyKxcVDbEGacTVNl/mX7zlPbGL0xzJVJ8o8MIWqyX7F06flZh9Lz40Su6jitZZIYfJasu5FcZBIzX0ZPJDHzZRQh8BMLc6bGfKmlYvXKUCmOVRljMlFimRUnOKjiBfV+7NFkio3veCfbH/oxs6MjjQ14EZCFtiUu99BxAKI3nmV0zI5v83DEpKAIkuVl9Fb70CqzgMBIplBqAfGjY9QSEWptC/vk+lLzlRp5JUNfuIpYSwTCAvHpVtpb8jx2okzsne8k+8//QiiH30pvgxCC3E+OoaXOMsV7HoWBz3M/uAev5rPbXMPmvgjOiQNsGIlTii1DT3pnjJ43nBn0WplapGvO11xIHKVKiQJ94crzfg3dNFCsGNXMJC3teULNZPqg+dr00dW3w5FHoSJHrTa13cM45QwoGjFtiprVjlPMg6LI/mxvoajkKZBjRdfNdGYPsTy/iafHxpjY8B4YegZOPHva9oqicu0HPsTM8BC7HnmwQVFL0tkd/ekzJLQ2xjwPR58ibrQ0OqSLrtYaw8iWUF0fAKGZ1MwWIpVBtC7QlfUkKwbV4Uc5PPXayLfoDT0EBZfSc2ONCl1awgqPnkAxtdN6swFM7N6FEkYJjQxBtYKeTGJkigSW0fwztjSFWksMPeOjhjUKyhCeErBVW8MPnnzq1Gabb72dWKqVX3z9K/Ki11uQhbYlzDmao7p7htgNPXMvgDC5l4mhp3g4anGZvZb8lE1vqR/UYbRYHEXXiA5NodRCnP6O5p23fgHSyiRRYnTGr0RVLVoKgljrAV4aysC730tQKpG9555GhyktApWd03gnCsTecZYp3vNFCLb/7AFmR4YZ67icaDyG8Ae4ZW+N6Z5rUXUfLeKe9hTNr2KXRvDN1ILtzfZGs8oUraKDiDj/EQeJtg70wGV8ZpSoGMfX3sFL6YP1B9e8CwjlqLYmljkxSVJNMqkJVLKE0RioCk4xj2lHUZtwpcH5NqYOYmox1rX0g3DYOHkz3yqfIOi+HJ7/B3CLp23f1r+MtVtv4Jn7/plCerpBUUvSmUQY4r44S7GWp+w6qBEXbQlMHfdaYqCANZk9dZ8b664fF1iTqPEkGD1cNunyz08+TnCyL5veYmFvbqfw2AhB0WtU+NISVJssU9k5TfSaLhTjdVO7cyc4kGmnqpfo9D1QVLRIDDNdwE8tjRHqXnsS1fURpRhm6TgTiTIr7QT2IZuRbA4ATTe4/kMfZvL4EZ67/3uNDXiBk0eBS5TwQ3I/PorRE8Pa0HrmBoFH+Nzfc3d7J0kjhjvZycbSRhSzQuCk0ZMpjHwFeyKD29OKMJu3B8WFKFOkTJGVYj3xWBThDaHnNTQ9z7Z0SPz220l/81v42exbv5i0ZAUlj/xDx7HWpTD7L+YCCIKdj/yMob27iGy6jiNViy3L4nQ/vwsv0odrtGIkqqfV1JWwRiR/BKGaeItgNNurcsosNWr0X8Cotkg8jtAMZidGae/IUY318/Qvd9cftFOw7AbY8U8gZMPnZnT4y/ehqBpppY24OoYX6aTmVOvTRqMXf6GSZuAqDlPKKF0917HamaS7vJLSrMaP25fVp5C++M0znnPlu9+PYVr86h//4bURpJLUYMceeZZ2tYdhJ49emyQZ6Wx0SJeGplJrjWOPpyGoTwMNjTg1M0U0fxitJ0Az1oFqsXboBR7cfvTUU6PXdoEC+UcGGxW9tATlHh5ETZrYm04///X3PULBuZxsdAItX19t1CxVUf2gPq1yCQgjJrVUDH1GoLslZvVhXNXnJnMt333wMSpefQRbx/IVXHHHe3nxge8z8Ny2Bke9cMlC2xJVeGIEP+MQu7Vv7mbNe+/nl2GBY2rIerGJ9pkVmIGJGq1/QRqJBLHDowRRG69dThk9KwWmXl1dreMyQKU/3U5bzz4ePTBJ/EMfQvg+M3//942OVFrAcj87jggEsZv6Lt4PEYKdD/2Eoy8/z7ItN/FE2mRNR4zY8afpyghmuq9FNX1Uyz/1FEX4xHKHUITAifXDIrp6LxRBRpmiJ1yGJs7vQoGiKERbOtDdArPqNJabxhrcxEj1ZIPnDR+A6f1zrqIoLW7FY4N0TlWo+EU8YWDGqqCqVAs5VFXDsJfG1e/5MKWMUw1LbO64Gt1wuHri3Tw0+wq7V98Ex5+E4RdO2960bbZ+8DcZ3L2dA6/2RZSkBgqDgOpT0xT9AhlfQVFn0NWlcwHa7Uyh+CGRsdnX7osvRw1rxCsH0bo1TO0a7BpMP/E9jozUvyNVWyd2fQ+VHdO4x3MNil5aSqoHZ3EPZ4nd0IOiva4M4pXYf2gSVZjYkRJBqYSRTGFO5wks44zFv5qZ09uK4oWQsbELRxlJFem3YryzsIn/55EXCU5e39r0jttYedU1/Pyr/53ju+Rx7lxkoW0J8sZLFJ8YIXJ1B3rrHCuo5Ec4fuBH/DAR58rYWtzjPXR4nZj9ebzZcfR4gtjILKpTo7pMThl9KwWylCmyliuIxFrRKifQKkWy7jTbZ31Sv/3b5O69j+orrzQ6VGkBqg5kqL4yQ+zm3ou2AEIYBLz44+9zdOdLrL7hVn45a2PqKltbavS8cozRZRsJhYWZqJxKd0X4RHOHUMIaTrwfFuFJRVqZQkOnJ1x+3q+RaG0FVWN6dJh2bQjVuJJ79r9Yf7DvGkj0wkvfmqeIpYVACMHe/89/Quu+gmlCDGWGMB4nDEOcQhYzFl9MNefGUwTD+iBWpI2rNYh5LayfuZ6vFQYY6lwPz90FTv60p/Rt3MzKq7bw+N3fpJCWKxdKjTX44Au0Kl0MVtNEK9OYralGh3RJCVOn1p4gMjyDWq1PAw11Cye+Eqs8QUw7jpay0a1riPkuz37vm2TS9aKctakVvSdK5odHEDXZ70m6eELHr8/mWhbHXJU8/cFDj3DYuY68PU2nV582qkejWDN5aq3xJXWuK0wdt6cFIy0wZwsUOEHWrLI13k3/qMMPXh4G6hebr/+N36F33UZ+8sX/U174moMstC0xoReQufcQWot1+nLGrxKCwrNf4WutSbrMFsTgKlaWVqK3lVGNGYJKCduIEBlL4/a0EM7V2006nQLj6gmStLC+61pQNNZM9tDa9RI/3jVG/D3vwVy9mvH/+NeEjtPoaKUFJHR9cg8cwVgWx1rXclF+hu+5PHPvPzOyfy+rb7yNhydNym7Auzd0YjzxIGXbxrU3o0c9VKN+EKyIGtHsIdTAw4kvR2iL80pfTfHIKmmWh6tRxPkdRSmqSiTVjlbNUEnMYHhFvGdaydVKoKiw6ddh/wOQlw2fm8XY939E+0QO3W6hWItjJ+p9xJxijjAMsGJylPe5ctQKs9VBlsc20trqsilzHbFKB1/QqowTwjNfgTfMEr3mA7+Bbhg88rX/mzCUJ+hSYwRuDf/ZHLPeDDnfIuKMIiKLo1fpfHK6WxG6SnxgFE72YatF2nBifUQLx4jHjqKZSYhegRaW+cU/fo3c5ASKohB/Zz9BziX/yxMNfhdSsxJCkP3hEcKqT/zW/tNncwUeB3a/gOH1ESTzeOk0ejKBPVuEUFBrWXqtILyOFLWWGNq4SWL0EMdbM+iqwvvMTRzbdYC9Y/WLX6qmcfPv/iErrtzCz7/2f/Or//EP1OS57Cmy0LaE1FctPIqfqZK4Y/npQ2ZP8g89xNeCKWq6Scfs5SyfXY8S9bD6CjhjY6i6SdtQmloiitextK7YXYiyUiSjzLCOy2hLrUdzpkkVAsaqB3l+KEv7n/4ptdFRpv/u7xodqrSAFH5xgqA8x0HBPCnnsjz27W+QHh6i54Z38cMT4NQC3n95N9q+x4nlq0yvuBlQMOJVoN6TLZY9hBrWFnWR7VXTyjg2UbrE+U/LTbZ3gKoxkpmgo7SXNmcr3zt0clTb+veCbsPzX5uniKVGqk1Nkf78f6O08SYc4VMSJfSoixBQzqQx7SiabjQ6zEVpPDJF4Fe4hg5UPeTWqV+DmsX/mUowPLkLDjxw2vamHeGG3/xdRg7uY/vPHjjLq0rSxXXs7qeIKDEOu2lsdwYlri+p0S+naArVFV3opSqJgyOnim1erBcnvpxIeZBk/CB22E4tvo6q4vHot79BevgEeotNdGs3pWfGcIcLDX4jUjMqPjVKdW+a+DuXoSVOP24NDv2CnZUbqepFeqIhQaWMkWrBHpvFT0WWZh9yBarLOvHjNvqJEHtwD8facvSYUX6XTfzrLw9QOrnSsKppXP8bv8PWX/tN9j35KN/5Pz7B0J5dDX4DC4MstC0h5RcmqOyYJn5LP3rbHFNGSzPcffg+Bk2T/tKV9IxvRNchsipPWK3gzc6QKgcITaO6onNpHkhcgDFlCIFga+uNqHovKyZteuNP8c/PH8br6KblD/6A7D3/SuHhhxsdqrQAuEN5Ss+NE7uu+4yDgvkwefQwj/7jV/EqZYyrbuf+Iy4xU+PfXNGDO7uftj2HGVm+CeG3Y6YqKKpADRxi2YMoYYATX7Hoi2wAjlIhR4ZVwYYLGtUWbe1Ed3K4sTGMWpXxp2PkaxUwovVRbdv/J5TkKomLmQgCBj71v+MLn2j39WR9lUgqg6KAU8oT1FysZEujw1y0Ql1horCXFr2TTV0WmmvznqnfIfQj/Lf2Dvbv+S5M7D7tOV2r17LpHbfx7H3/wvjhgcYELi1ZhcMT2IMGx5wj1IIUqfxwfZrZEhVETaorujAyRZL7hlBPnoh70S4qqXXY/jjJ+CFa3H6qLV3kNY2nvvtt0iMniFzZgd4RIXv/YYQfNvidSM2kemCWwiNDRLZ0Yq15wyCRwOOJXduIV9Yh2nPUZqZRdIOIB1rFXdqDSlSoruohaDGJDOYIBndzPJFhY7SV33Jb+c4Tx05tqigKa7feyPv+4t9jx2L88P/6z/zim3+/5Ee3yULbElE9lCH302PYV7Rjz7XKKIIHnvu/eN4y6K+sp3/sSiJYRFbnULSA6rGj6CHEfIXK6h7QZJXtXAWKz7B6lFY6uKbvVhQlxuoTffRb9/EPTwwQu+MOojffzPhf/yecgwcbHa7UQKEbkPn+YfTuKPbl7fP62oHnseuRn7HtnruJtbYzsexGfjlYYUN3nNs2JjmQeZLEtm1kW5fjmpdjRF0020OvFYhlDwIK1cQKhNY808Yn1RFsIvRdwAqkibZ20EyGvTSdsy/Tm7+Gf9p7clTbZb8Fqg7bvjg/AUsNMXnXV9H27OLYrVtJKHFmlSKGVUIIQSk9iWFFMEyr0WEuarmkT3ZmPxudFazqU9CLce4c/z0i1R6+3Jri8ee+CLnh055zxbvupLWvnwe/8gWqRTkaRro0Qs9n+p/2UPJzDHsKRm0aVfOWVNP0ufipCJU1PWglh9SOI9gTGQgFvpWi3LIRWxkjGh2it7iR2Q6dkh7h6Xu+Q2Fmkvhty/BnHQq/Gn7rHyRJb4M3USZz7wDmqiTR67rPeHzg+XsYLb4L1yjS3gbe9DRGayuR4Rn8mE0QW+Lf6QpUlvfjt6tERqdxh3ZwwkhzfbSHlYMVnjlyeo/URFs7t//Rn7D113+bg08/yT3/v7+ikF66F5lloW0JcI7lyHz3IOaKJLEbe+fc5lcv38XPRIFVlXZWTdxI3I8TWZVFs33E4eN4xTwtNZ3q6r6lOYR2npSUApPKCOu0NazueDc6KTrG2olO/k/+5xP7SH7sYxi9vYz8v/8dtampRocrNYAQguyPjxAUPBK3L0NR56uoLRg/fJCff/3LHN/5Ev1bbuAFfT0HZx1uWddKvGWQn49+l7ZXDhOal5FpuwHNrmEky1jlcSK5IwSajZNYvigXPngzjlJhVplmVbgBQ5zfSZKiKKS6+9H9KtnoELabJf9MH2PVWbDicOXvwvZvw7Qsoi9GxccfJ/eNb3Bik8nqyB9QCgNIjaEoUM6mCWoekZa2Roe56IURg2n3GMXSMNe4a9jcb6J7NrcN/zZXjL+b71ut3L3tb6i9rtimaho3/c4f4FWrPPT3X5T92qRL4ti3nsLwTXbU9qEToy0zSK0tIWd7AEHMorShnyARIXZknJaXD2OPzCCERTm1kZh+HMOaZU32ao62CzzNYts936FmuESv7aL41AjuCVk0ly5MUPCY/c4+1IRJ4l3Lz2jBMj4zzeNDaVqqfcT6K3jTkwgREsPAKFVxu1saE/hCo0Clbxl+l4I1laYy+jIzap4PRFey/4lBpovu6ZsrCmuvvZ47/+TfUS0W+Ne/+f+Sn55sUPCNJQttTUwIQfmlSdLf3ofeFSXx7uVznrQ/MXA/92R2s6FismLqfaTcFuyVObSIi7XrEIXpcaKhTrhqmSyyzYMpZYwss1wbW0tH6k40ox8t04oY+Fe+9dPH0P/sf0P4PiN/+mcE+fxbv6DUVErPjlPdNUP81j601PxcSSvOzrDtnn/imXv/GTuWoO+dH+SnkzZVP+Cm9TBQ/SmHZ15hy9SVRJT3kmnbjBF3iUaniGUPYFYmqFltePH+eoP/JjShDAOCDcEVZzRdf7si8RhqNEUmzNGefoy26hq+/tgehBCw+TfrK5D+5JMQ+PMau3RxOQcPMvqX/55ir8HIis/Sp0fIWtOoaoDvupRnp7HjKXRjaY9kmS9udyszw8+Tro2w2V3BTd0t2O1VVhY2874jH6c8/X6+8qt/YHZq76nnxFIt3Pjbv8/w3t08c++/NDB6aSk4+sDTREZNDrp7UWtrsMNJ9NDFa1u600bPoKtUl3dQWt9PGLWIDk3T+uIA0SMzeOoyUuYrqKrPuvIqtsdTuJ7P0/f8E8bmJHpXlNnvHSQoeo1+F9IiFVZqpL+9D+ELku9bhWKcfuw6U3S47/F/oDt9G0FqFitWwx0bw0i1EB+eoZaIEMTnaLO0VCkq1a7l+N0qZjpLfuIZXMXjfzFW872f7MWbY7p3qqubO/74z0HA/f/1P1HOZRsQeGM15xmThJ91SH9nP9kfHcFa30Ly/StR9NN/3YHwuf/A9/iXEz/nykpIT/o3aam2Yy3PYeoFYtt2M12aRtN0rGXL5HTR+aLAsHoUhyq3pJaRit6KGr8aJzDRx3Zw/0+/x+Tvf5za5CTDf/pnBMVioyOWLpHyjinyDx4nclUH9vq5pnifm5rr8MqjD/OLr/8/5CfHueL2OwnW38i9ezIkItDfe5RjoztYM76FraPvxyovQxNVYqkxUv4rxPIDKELgxFfgR+Z3CutCEyg+o+ognaKX/guYQtre14fQdAbjU7TN7KB7/43ce2AXaAa849/D+E548r/NY+TSxeSdOMHwR/8QN6bx5GV/xbVGD67iUbTShGFAbmIYVdOJpC48X6W60NaptScoHH2e49Zxutw2bjFW0bYhh95VpLu8inXDH+HBH47w+KMPv9pznZ6167nqzn/Dyz/5AXsee6Sxb0JqStVigWf+xz+hPFdlujbBaGAhVIe26SFqrQmYY5GxpS6MGFSXd1DcvBy3pxW9WCWxfxJ9LEI7r5BwW1muBWyPrCSfTvPiA98nfscy8EPS395HWKk1+i1Ii0xYqTHzP/bi5xySH1iFFj99gaLRTIUvP/IteqbvAL1KcnkNZ2yU0K+R9HXUqo/bK0eon0HVqHatpNYXQZstMD35KKam8se1Zdz98D6COS5SR5Mpbv+3H8erVvnxF/8rNc89c6Mm1jxNdiTgtVFs+YeOoxgaifetxFqZPG2bUITsTe/hR4d+wFhpnFvLHmbmD4mXerD680T9ScIdBxi1A3TDJNbVO4/T1yQAoYQMqgOsCy/ntpZetuVAjfUwG/ycZKnArhd+RPzWD3DLtoc58dGPseIfv4Xe0dHosKWLRAhB6ekx8g8PYm1qJXpDzwW+Xsjgru3sffxRfM9l5VVb6Nl4Bb86NMvO4TF6O2ewqhnaDq+j11+PaockyoNEqlOE3R5qySPUbNxoH4G5dK7Q55UMM8oE68LLcRWXtHruQ91VVaOldwX50UGyynNEK72MPbKMF1uGuLF/M1zzUXj6v0OyH67/k4vwLqT54h47xvD/63dxFIVfXfMZ1qrd9Bg6I9YJQhGSGx8mqHkku3ovyqrAS5nT04peKOMf38fApoB15ZXclL2KPa0DZLqzzE746AWL/N4u7h94itQVndzxzo1suOkWyrkMv/rHr2FYNptvfVej34q0CHlOlcmjR8iMj1LKzFLOZclOjJI5NsK7uv+AQAvYHk4Q8ztJKSdQA59K5xJumv526CpeZxKvI4leqGJNZ4gOO7idgyzLraPUs5u9wRrE0QF2PPEgW//NB8k/NMj0P+ym/Y8uw+iONfodSIuAn3dJ/899BAWX1AdXn7H4347hWb79wr9y88wVWEIjsa5IUC1RHR3FSrUSH5rF60gQ2nL18Dkp4HT04GtFIiOzjKqPsbzzPfwvmR4eeOBZPvSbN2O+4YJDrKWVWz7yb3nin/6RX37j7/ngp/6PJXPMJAttTSQoemR/eARnIIO1sZXYTb2oJ6d61sIaB2cPsmfmFXZM7STv5enx4SMFn3zhY+iVdsy+LPrkHrKzU3g2RGIp7NbWJZMMl5qv1DimHmBteBl3tPbzYlFBCX6PfMt2/PIx/PEd/Oyyq/ngof0M/v7vs+yuu4hcfnmjw5bmWVCukX3gCM6+WSJbOole131BOTc9eJzdv3yQ3NQE3avXsfraGziWD/jGM4NUlUF6W9Msm9xA3FsGiQA7mqNt/14UP8DvDgjNBJ7ZQ6gvzSHzY8oQOgaXB9dyTBxkVB085547kWgEp3MZlZkR1NIPiet/yLb7bJTfH+GGKz4M1Vl46DOQOwF3/CfQl3iz3QWo9MwzjH3qf8O1VB7d+le0Kh1sjZkU9Dw5ZsmNnMD3XOId3Whyyuj80xSqyzuJHp+kNnqCg6t81hZXcP3slQzHJjjWM4zTXWNm6gXC4grMXUn+9eDjpFcGvH/LDays1Xj4q/+dcjbD1l//bXkcI70lEYYM7t7BK4/+nKFXdhAGAYqqEkkksWNxOpLLuW7FnSih4DlniJjbjd2aIbF/FK8zKVurvF1KfcEEP9mPmSmSmhjFb29lw9RlDPTv4ujUcti9ndmyz3t/40OUfjXC1F27SL13FfFb+s6YnSNJr3KHC8z+y0EQgtRvrEFvee04NhSC7758gF2Dj/DOqRuxhCC5chIfndLBA2imScdMFWHouD1yhPpb8VsTVFWdyPA0J4LH6em+jQ+XLufgd7dT3Gxw1TVXETFe2ye29S3jhg99mOd/eC9t/cu4+cN/2MDoLx1FCHGe3WiaV6FQIJVKkc/nSSaTb/2EBguKHuWXJiluGwVVIX5rP9aqJALBQOYgz4w+w46pXXihiyZipKom73FmiVUuI1O5HfwQNXKA2swggQiw0bG6utFMefJwKWhCZ1W4gTgJjvsT7MtV8YRHJdiGXc2hKDpbZyp0TU/R8Rd/Qfuf/K+okUjD4l0M+bEYYgxdn/KLkxSeGIFQ1PP2jcuOn4P89CR7H/sF40cGSHV203n5tQy6NjuHZylznERkjGW51XSWVyDsALPDJZU+gHWiBICzPEUt3gryhBQE9IoVdIt+CuQ4rh0kp2bO+WUymTxeehQrUNFjv4Eb62L5nVN8eMtG2P8j2PXP0LIS3vXXcPlvwyVayXWh50cj4wvyeWb+/u/Jfu8enJ4Ej1/2v9OipLg9aQKCg/52cukxFEUh3t6NLr8nLypzJo89kaW8pgenv4Mep4O+ShehIhiJTTASm8T1p0jPzKIWrsbw4xxt38FQ+wluynVhH5ti+RVX8c4//Bg9azc0RcFtoecvLI4YXyWE4MhLz/H8/feQHjlBa18/K6/cQvfqdSQ6OlCFSv6ZYZLDCcphlf2lPA41rK4KbYePoLkepfX9sr3KeVK8AHtkhkzsSmq6wv7eF4lWbJZNORQTvVz3wQ+zLqPg7J9Fa7FJ3NZP9OpO1OjiHXG00PNjocf3RmGlRuGpUUpPj6F3RkjeueK0v49cxeMLT/ycRHaczTM3oOuztPQMUdFTlA4PIIKAdi1ObDJPZW0vQVR+r79dWskhOjyNrxnoy29ipVmfkXPYP8FhZRBt5Wqu27qJnlS96Ll/2+Psf/JXvO8v/j1Xvvt9jQz9grzdHFkUhbavfe1rfPGLX2RycpKrr76au+66ixtuuOGs299///385//8nxkaGmL9+vX87d/+LR/84Aff9s9b6DsY4Yd4w0WcYzncI1m8kSKoCvamtvpqPUqJZ8ef4/ETT5Jx0yh+nI7iMjZVWlnmmQS1ThyvlTCYQShDBM4kSiiIeWAlWxCdspJ/yQnoFv10i2XU8DjmTXO86OHU0vju8yihR9JTuPb4MIlYnJYPf5jE+96LvXkzin5pB6aeT37IHH6NN16i/NIklZ3TCD/A3tBG9Lpu1Mj5/R4LM9Ps3/Y4Iwf2oNkx3J6NHA2SzJTLGJExWowZukr9dJZXoGigt3skKgeJjGVQixpBzKCysgehy6vxbxQTCfrCVcSIk2OWYe0YGWXmnEa4FQoVytMjqEGNqLqJIPVeSv1H+Z0P9rJBLcOO78DY9vpU0q0fh2v+LSTnXh16vpxrfiyF/K2NjZG9/36y3/0ewilz4vJVHGj/c5bpJtdFbXzhsTvzOFWviBlNEG1pRW2y1XcXJAHWVBZrOk91WQeVVd3oGPRWO+h02lBRyZkFMmaeUjDE1GyJUnk9Nb3M/q6XqDLIFSOt2FVBsrObnrXribW0ohkGmq6jGyZ2PEGys4v2ZStIdnYt+GKc/A6eH0IIBndv59n7vsv04DG616zjstveTeeKVVCrkjuyn+IrLp3eGiwlwrhb5qg7S5gsEU+FxI+PYU3nqKzpJYjJE/MLIsCcylMQq/CMBK4xRcYcpS1bIkRhqruPm69+D5cVotSGCqAoWOtbiG7pInJZO6q1uPbF8jv4wgkhqI2WKO+corJjGhGGRK/uIrKl83XtjgSPHxrmod0Pc0VmNa1OFxFrP4Z1gnzVopbJoEUitKhxEiNpqv3t1NoTDX1fi5HiBURGZ9BLDk57N7G2TfQZ3eioTNeqjPpTTJnD9F67jiuv3MzuR37KsR0v8Z7/9d+x5X1v/+9yIWmaQtt9993HRz/6Ub7xjW9w44038pWvfIX777+fQ4cO0dXVdcb2zz33HLfddhuf//zn+fVf/3Xuuece/vZv/5adO3dyxRVXvK2fudB2MCIU+Okq7vE8zuEM7tE8wgtQbA2jN0bYazCTGGd/+hX2ZA5xwk+jorAh38v6/Cq0ci+1GgiRB5FBhHlCvwwIDEUnXg6IYuAu7ySMyIOFRjKFRbdYRqvoQAFmgwJTrkOmMkK68jJeUCTmC1ZNzdKdK2FrOvb69Vhr12CuXoO5ejXW+nWYK1ZctALcueaHzOH6qNPqwVkq26fwhouoUR1rYyv2pvYzmrS+lVAIRmfyDOzZR3rgFfTMKJ5iMh3tpmDHiZgBEaWG6UOy2o7tx0EPscwcidIRrEwVxVUIDRWnuw2/NX7OUyOXFAFJWukOlxEjTpUyM+okOWWWopKnprz1qmi+HzI7OQHlLCoaqnUNqrWRUs8EK683uLndZ+XQs6hD2+orkq67E7b8Iax/P5jReX9L55IfzZq/IghwBgYoP/scpccfp7p7N5g66RVJXu67hT42sD7WQrfVzXR1mEOFl1Fsg0giJaeKXmoCzHQBazJLELWorO6h1hpHEyqtXooWL0HCj6ELnZCQnJpholJgtKxTJs9E4hhF5QSRqku8ZmOHOrpQUYRACX1Cz4GwvmKanUjQt2EzfRs207tuI12r1mDHF1afSvkdfGF8z+Pwi8+y48EHmB46TseKVVzxrjtJWDWmX9lHbdwmItbRY3ShojDllzgohvGiZVoSFnogiB8ew5gtUF3eid8qe4fNF7XiQRqqeieemSQkQPiDhP4kEOIZEaxIktXxlfQbfRheFHSF6JUdRK7qxFqVOu+LlpeS/A4+P37OxRvM4xzL4RzOEhY8sFWUZSasslCiNo6ik/FU9g+PcuT4AN0llY5SgoBxzOAIrhcgBGh2BLO1lVTawZ7K4vS04nXJPovnTYCeL2NN5dDcGsK0sTrXkIiuIGG0oCoK1cBnppZmmhGy6iiZscNsfue7uP3f/gmxlsU1yKdpCm033ngj119/PV/96lcBCMOQ5cuX86lPfYrPfvazZ2z/kY98hHK5zIMPPnjqvptuuoktW7bwjW98Y86f4bourvvaKhj5fJ4VK1YwMjJy7jsYIaBWBa8CXgGcPGE1T7mSoVItUvaquH6AF2qERAjVOIQR/JqBXwG/HEDRRy8HmK5KpGYSFxEM6geQs+QY1ycZ0scYM8epGDUCRcH0DRJOlJ5qlGQlhuqaCL+CCPNAAICiqCi6jomK5YZEizV0RcXtSFJrT8o1aBcQTeikRCtxkSJKAoN6McYJHPLeLBV/lmpQwglcQt9D8V30qoNRddBcB833EAkbrauNyMp+2taupWPNSiI9najJJGo0iqKe3y+8UCiwfPlycrkcqdRbfyktuhx+C0II8AWiFiACgQgFBALhBwRVn6Do4s6W8NMVahmHMOOhVkAgcKM1KqkatVSIpmsomk6IghsEFJwq+XKZUrVK1ani+R6h76MEAi0I0YMQveZjelVMvwIIUOOoWh9oHSjKa79PgUBRHKywRLQ6g13MoAYKQoUgpuO1thAkorLAdi4ERInTKjpJiBQG9WKLh4tDhapSwVWquIqDh0sNj0DxCQkRQEiI6znkZ8bxq0VQBIoSR9E7UYjiay41o4ZieBh6GZsiMd0llmwh1dVPqncNic41RDv6iaS6sO0Ilmminscqd+eSw4s5f4XnEZRK+Nks1alpykNDlI4NUTkxhDeZpqbbONEWarEEoRXD0mKkzDbarWXYWpSSn2O0doyyVsKw7QU/0qnZqVUPeyKLVnEJbJ1aWxI/HiGIWoS6jqVGSPhxUn6CeC2KikpN+FSDGk4ocIKAivBxAh8Hn4AAQYiv+LhKGS/ME4ZFFL+A4hQg8AgIwDTRUnHMZIJIPEEkkSCWTJFsaSXV2kE82Uo0lsCMxDAjNrplXdTRjkv9O/jtEkJQKldIT82SGZsgPzZOYegEzugYRqgTT3QTs9qwhYUlokSVBLZW368XwyqjpJmITGNZCjFfQ6s4GLky1kwOBFT72wmSjWvj0bQEaMUqRroAnkbNjOEaURythk8ZIQpAiKJYxNR2es0+2iJdWGa94OmKCp5SxtMqBFYVJakS6+wg1d1LvKMbPZFEsXVUU0fRFdDV+ggoTblk+/il8h18NiIUhGGAX6sRBiFKQP3mCUTVxy961PIlgnwRN1PCyzgoBQ09qOdnOSiS9abIVMfIezMI5iplaHDy6AvqXVE0y0CLprA0A7PsY09lUcIQp7dNFszniwCt4qKWqmiOh1rz0YSGaXdhxPuJ2G1EjQiqouCHPuValmpYxsXDMUP8uIHaGiWStIjYBqapoakamm2gxyysRBTVtjHsCHrExrIiWJaFep7ntOfrbeewWMBc1xWapokHHnjgtPs/+tGPig996ENzPmf58uXiy1/+8mn3/c3f/I246qqrzvpzPve5zwnq2Shv8iZvb/M2MjIic1je5G0R394qh2X+ypu8Ldyb/A6WN3lb3Df5HSxv8ra4b2+Vwwt6fG06nSYIArq7u0+7v7u7m4GBgTmfMzk5Oef2k5OTZ/05//E//kc+85nPnPp/GIZkMhna29vlFewL8Gq1t5FXNJeyi/X5CyEoFov09fW95baLOYfl32+d/Bya7zN4uzm8mPP3QjXb77zZ3g8s3fe0VL6D36gZf9/zQX4uZ7dQP5vF9B1cLBYX5GfYCAv176lRlvLn8XZzeEEX2i4Vy7KwLOu0+1paWhoTTBNKJpNLLgEXkovx+b+d6SqX0sXMYfn3Wyc/h+b6DBZSDi/k7+Bm+p1D870fWJrvaSHlL1zaHG7G3/d8kJ/L2S3Ez2Yh5fCb5e+rhfKF+Bk2ivwsTrdUP4+3k8MLuitXR0cHmqYxNTV12v1TU1P09PTM+Zyenp5z2l6SpItH5rAkLV4yfyVpcZM5LEmLl8xfSVrcFnShzTRNtm7dymOPPXbqvjAMeeyxx7j55pvnfM7NN9982vYAjz766Fm3lyTp4pE5LEmLl8xfSVrcZA5L0uIl81eSFrk37eC2ANx7773Csizxne98Rxw4cED8+Z//uWhpaRGTk5NCCCH+6I/+SHz2s589tf2zzz4rdF0XX/rSl8TBgwfF5z73OWEYhti7d2+j3sKS5TiO+NznPiccx2l0KEvSQvn8F2sOL5TPr9Hk57C0P4PFmr8Xqtl+5832foSQ7+ntapYcbsbf93yQn8vZNcNn0+j8bYbPcL7Iz+J08vN4awu+0CaEEHfddZdYsWKFME1T3HDDDeKFF1449djtt98uPvaxj522/fe//32xYcMGYZqmuPzyy8VDDz10iSOWJOn1ZA5L0uIl81eSFjeZw5K0eMn8laTFSRFCiEaPqpMkSZIkSZIkSZIkSZKkxW5B92iTJEmSJEmSJEmSJEmSpMVCFtokSZIkSZIkSZIkSZIkaR7IQpskSZIkSZIkSZIkSZIkzQNZaJMkSZIkSZIkSZIkSZKkeSALbdJF8bWvfY1Vq1Zh2zY33ngjL730UqNDWjI+//nPc/3115NIJOjq6uK3fuu3OHToUKPDWtSGhob4kz/5E1avXk0kEmHt2rV87nOfw/O8Rod2US31PJa5JDVL7jdTLjd7Xn7hC19AURT+8i//stGhLEjNkpPzpZlyez40+/6hUWTeyVwDmV/nShbapHl333338ZnPfIbPfe5z7Ny5k6uvvpr3v//9TE9PNzq0JeGpp57iE5/4BC+88AKPPvootVqN973vfZTL5UaHtmgNDAwQhiHf/OY32b9/P1/+8pf5xje+wV//9V83OrSLRuaxzCWpOXK/2XK5mfPy5Zdf5pvf/CZXXXVVo0NZsJohJ+dLs+X2fGjm/UMjLfW8k7lWJ/PrHAlJmmc33HCD+MQnPnHq/0EQiL6+PvH5z3++gVEtXdPT0wIQTz31VKNDaSp/93d/J1avXt3oMC4amcdnkrkkCbH4cr/Zc7lZ8rJYLIr169eLRx99VNx+++3i05/+dKNDWjQWW07Ol2bP7fnQLPuHhWgp5Z3MtbnJ/HpzckSbNK88z2PHjh3ceeedp+5TVZU777yT559/voGRLV35fB6Atra2BkfSXPL5fNN+pjKP5yZzSYLFlftLIZebJS8/8YlP8Gu/9mun/a6kt2cx5eR8WQq5PR+aZf+wEC2VvJO5dnYyv96cLLRJ8yqdThMEAd3d3afd393dzeTkZIOiWrrCMOQv//IvueWWW7jiiisaHU7TOHr0KHfddRd/8Rd/0ehQLgqZx2eSuSTB4sv9Zs/lZsnLe++9l507d/L5z3++0aEsOostJ+dLs+f2fGiW/cNCtJTyTuba3GR+vTVZaJOkJvaJT3yCffv2ce+99zY6lAXps5/9LIqivOltYGDgtOeMjY3xgQ98gN/7vd/jz/7szxoUuXSpyVxqLjL3m0Mz5OXIyAif/vSn+d73vodt240Op2FkTkrzrRn2DxebzDvpfMn8emt6owOQmktHRweapjE1NXXa/VNTU/T09DQoqqXpk5/8JA8++CDbtm1j2bJljQ5nQfqrv/or/viP//hNt1mzZs2pf4+Pj3PHHXfwjne8g29961sXObrGkXl8OplLzWep5H4z53Kz5OWOHTuYnp7m2muvPXVfEARs27aNr371q7iui6ZpDYzw0lgqOTlfmjm350Oz7B8uNpl3b03m2plkfr09stAmzSvTNNm6dSuPPfYYv/VbvwXUh5Y+9thjfPKTn2xscEuEEIJPfepTPPDAAzz55JOsXr260SEtWJ2dnXR2dr6tbcfGxrjjjjvYunUrd999N6ravAOCZR7XyVxqXksl95sxl5stL9/znvewd+/e0+77+Mc/zqZNm/gP/+E/LIkiGyydnJwvzZjb86HZ9g8Xm8y7tyZz7TUyv86NLLRJ8+4zn/kMH/vYx7juuuu44YYb+MpXvkK5XObjH/94o0NbEj7xiU9wzz338JOf/IREInGqf0AqlSISiTQ4usVpbGyMd73rXaxcuZIvfelLzMzMnHqsWa9myTyWuSQ1R+43Wy43W14mEokz+tvEYjHa29tl35s5NENOzpdmy+350Gz7h4ViqeedzLU6mV/nqKFrnkpN66677hIrVqwQpmmKG264QbzwwguNDmnJAOa83X333Y0ObdG6++67z/q5NrOlnscyl6Rmyf1myuWlkJe33367+PSnP93oMBakZsnJ+dJMuT0flsL+oRFk3slcE0Lm17lShBBiPgt3kiRJkiRJkiRJkiRJkrQULY3J1ZIkSZIkSZIkSZIkSZJ0kclCmyRJkiRJkiRJkiRJkiTNA1lokyRJkiRJkiRJkiRJkqR5IAttkiRJkiRJkiRJkiRJkjQPZKFNkiRJkiRJkiRJkiRJkuaBLLRJkiRJkiRJkiRJkiRJ0jyQhTZJkiRJkiRJkiRJkiRJmgey0CZJkiRJkiRJkiRJkiRJ80AW2iRJkiRJkiRJkiRJkiRpHshCmyRJkiRJkiRJkiRJkiTNA1lokyRJkiRJkiRJkiRJkqR58P8H9ah0XU9XtkwAAAAASUVORK5CYII=\n",
      "text/plain": [
       "<Figure size 1500x1500 with 25 Axes>"
      ]
     },
     "metadata": {},
     "output_type": "display_data"
    }
   ],
   "source": [
    "# plot the result of embeddings\n",
    "fig, axes = plt.subplots(nrows = 5, ncols=5, figsize=(15,15))\n",
    "labels = ['toxic', 'severe_toxic', 'obscene', 'threat', 'insult', 'identity_hate']\n",
    "for dim in range(25):\n",
    "    for label in labels:\n",
    "        idx = processed_df[processed_df[label]==1].index.values\n",
    "        li = list(map(lambda x: embeddings_sbert[x][dim], idx))\n",
    "        sns.kdeplot(li, fill=True, ax=axes[dim//5,dim%5])\n",
    "    idx = processed_df[processed_df[labels].sum(axis=1)==0].index.values\n",
    "    li = list(map(lambda x: embeddings_sbert[x][dim], idx))\n",
    "    sns.kdeplot(li, fill=True, ax=axes[dim//5,dim%5])"
   ]
  },
  {
   "cell_type": "code",
   "execution_count": 116,
   "metadata": {},
   "outputs": [],
   "source": [
    "pd.DataFrame(embeddings_sbert).to_csv('embeddings_sbert.csv', index=False)"
   ]
  },
  {
   "cell_type": "markdown",
   "metadata": {},
   "source": [
    "### BERTweet"
   ]
  },
  {
   "cell_type": "markdown",
   "metadata": {},
   "source": [
    "BERTweet is the first public large-scale pre-trained language model for English Tweets. BERTweet has the same architecture as BERT-base, is trained using the RoBERTa pre-training procedure. Experiments show that BERTweet outperforms strong baselines RoBERTa-base and XLM-R-base, producing better performance results than the previous state-of-the-art models on three Tweet NLP tasks: Part-of-speech tagging, Named-entity recognition and text classification. (https://github.com/VinAIResearch/BERTweet)"
   ]
  },
  {
   "cell_type": "code",
   "execution_count": 71,
   "metadata": {},
   "outputs": [
    {
     "name": "stderr",
     "output_type": "stream",
     "text": [
      "Some weights of the model checkpoint at vinai/bertweet-base were not used when initializing RobertaModel: ['lm_head.bias', 'lm_head.decoder.weight', 'lm_head.decoder.bias', 'lm_head.layer_norm.bias', 'lm_head.dense.bias', 'lm_head.dense.weight', 'lm_head.layer_norm.weight']\n",
      "- This IS expected if you are initializing RobertaModel from the checkpoint of a model trained on another task or with another architecture (e.g. initializing a BertForSequenceClassification model from a BertForPreTraining model).\n",
      "- This IS NOT expected if you are initializing RobertaModel from the checkpoint of a model that you expect to be exactly identical (initializing a BertForSequenceClassification model from a BertForSequenceClassification model).\n",
      "Special tokens have been added in the vocabulary, make sure the associated word embeddings are fine-tuned or trained.\n"
     ]
    }
   ],
   "source": [
    "# load pre-trained model (weights)\n",
    "bertweet = AutoModel.from_pretrained(\"vinai/bertweet-base\")\n",
=======
    "columns = LABELS + ['none']\n",
>>>>>>> d88fe25d0f16fd376cd2c3d651e79122f04460d5
    "\n",
    "rows = [{c:clean_df[f].corr(clean_df[c]) for c in columns} for f in features]\n",
    "train_correlations_unique = pd.DataFrame(rows, index=features)\n",
    "train_correlations_unique"
   ]
  },
  {
   "cell_type": "code",
<<<<<<< HEAD
   "execution_count": null,
   "metadata": {},
   "outputs": [],
   "source": [
    "# generate embedding vectors (stop words and punctuation kept)\n",
    "start_time6 = time.time()\n",
    "embeddings_bertweet = []\n",
    "# embed batch by batch\n",
    "for i in range(10000, len(sentence_tokenized), 10000):\n",
    "    text = sentence_tokenized[i-10000:i].values\n",
    "    tokenized_text = tokenizer.batch_encode_plus(text, padding=True, truncation=True, return_tensors=\"pt\")\n",
    "    with torch.no_grad():\n",
    "        outputs = bertweet(**tokenized_text)\n",
    "        embedded_text = outputs.last_hidden_state.mean(dim=1)\n",
    "        embeddings_bertweet = np.concatenate((embeddings_bertweet, embedded_text)) if len(embeddings_bertweet)!=0 else embedded_text\n",
    "    print(f'The first {i} texts have been embedded')\n",
    "# embed the last batch of text\n",
    "text = sentence_tokenized[i:len(sentence_tokenized)].values\n",
    "tokenized_text = tokenizer.batch_encode_plus(text, padding=True, truncation=True, return_tensors=\"pt\")\n",
    "with torch.no_grad():\n",
    "    outputs = bertweet(**tokenized_text)\n",
    "    embedded_text = outputs.last_hidden_state.mean(dim=1)\n",
    "    embeddings_bertweet = np.concatenate((embeddings_bertweet, embedded_text))\n",
    "print(\"--- %s seconds ---\" % (time.time() - start_time6))"
   ]
  },
  {
   "cell_type": "markdown",
   "metadata": {},
   "source": [
    "## Curseword Detection"
   ]
  },
  {
   "cell_type": "markdown",
   "metadata": {},
   "source": [
    "Refer to https://github.com/vzhou842/profanity-check to use as an indicator for curseword"
   ]
  },
  {
   "cell_type": "code",
   "execution_count": null,
   "metadata": {},
   "outputs": [],
   "source": [
    "featured_df['curseWord'] =  featured_df['clean_text'].apply(lambda x: predict([x])[0])"
=======
   "execution_count": 158,
   "metadata": {
    "ExecuteTime": {
     "end_time": "2023-03-21T10:20:38.729458Z",
     "start_time": "2023-03-21T10:20:37.267305Z"
    }
   },
   "outputs": [
    {
     "data": {
      "text/plain": [
       "<AxesSubplot: >"
      ]
     },
     "execution_count": 158,
     "metadata": {},
     "output_type": "execute_result"
    },
    {
     "data": {
      "image/png": "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\n",
      "text/plain": [
       "<Figure size 640x480 with 2 Axes>"
      ]
     },
     "metadata": {},
     "output_type": "display_data"
    }
   ],
   "source": [
    "sns.heatmap(train_correlations_unique, annot=True)"
>>>>>>> d88fe25d0f16fd376cd2c3d651e79122f04460d5
   ]
  },
  {
   "cell_type": "markdown",
   "metadata": {},
   "source": [
    "## Nouns, Verbs, Adjectives"
   ]
  },
  {
   "cell_type": "code",
   "execution_count": 5,
   "metadata": {},
   "outputs": [
    {
     "data": {
      "text/html": [
       "<div>\n",
       "<style scoped>\n",
       "    .dataframe tbody tr th:only-of-type {\n",
       "        vertical-align: middle;\n",
       "    }\n",
       "\n",
       "    .dataframe tbody tr th {\n",
       "        vertical-align: top;\n",
       "    }\n",
       "\n",
       "    .dataframe thead th {\n",
       "        text-align: right;\n",
       "    }\n",
       "</style>\n",
       "<table border=\"1\" class=\"dataframe\">\n",
       "  <thead>\n",
       "    <tr style=\"text-align: right;\">\n",
       "      <th></th>\n",
       "      <th>id</th>\n",
       "      <th>comment_text</th>\n",
       "      <th>toxic</th>\n",
       "      <th>severe_toxic</th>\n",
       "      <th>obscene</th>\n",
       "      <th>threat</th>\n",
       "      <th>insult</th>\n",
       "      <th>identity_hate</th>\n",
       "    </tr>\n",
       "  </thead>\n",
       "  <tbody>\n",
       "    <tr>\n",
       "      <th>0</th>\n",
       "      <td>0000997932d777bf</td>\n",
       "      <td>Explanation\\nWhy the edits made under my usern...</td>\n",
       "      <td>0</td>\n",
       "      <td>0</td>\n",
       "      <td>0</td>\n",
       "      <td>0</td>\n",
       "      <td>0</td>\n",
       "      <td>0</td>\n",
       "    </tr>\n",
       "    <tr>\n",
       "      <th>1</th>\n",
       "      <td>000103f0d9cfb60f</td>\n",
       "      <td>D'aww! He matches this background colour I'm s...</td>\n",
       "      <td>0</td>\n",
       "      <td>0</td>\n",
       "      <td>0</td>\n",
       "      <td>0</td>\n",
       "      <td>0</td>\n",
       "      <td>0</td>\n",
       "    </tr>\n",
       "    <tr>\n",
       "      <th>2</th>\n",
       "      <td>000113f07ec002fd</td>\n",
       "      <td>Hey man, I'm really not trying to edit war. It...</td>\n",
       "      <td>0</td>\n",
       "      <td>0</td>\n",
       "      <td>0</td>\n",
       "      <td>0</td>\n",
       "      <td>0</td>\n",
       "      <td>0</td>\n",
       "    </tr>\n",
       "    <tr>\n",
       "      <th>3</th>\n",
       "      <td>0001b41b1c6bb37e</td>\n",
       "      <td>\"\\nMore\\nI can't make any real suggestions on ...</td>\n",
       "      <td>0</td>\n",
       "      <td>0</td>\n",
       "      <td>0</td>\n",
       "      <td>0</td>\n",
       "      <td>0</td>\n",
       "      <td>0</td>\n",
       "    </tr>\n",
       "    <tr>\n",
       "      <th>4</th>\n",
       "      <td>0001d958c54c6e35</td>\n",
       "      <td>You, sir, are my hero. Any chance you remember...</td>\n",
       "      <td>0</td>\n",
       "      <td>0</td>\n",
       "      <td>0</td>\n",
       "      <td>0</td>\n",
       "      <td>0</td>\n",
       "      <td>0</td>\n",
       "    </tr>\n",
       "  </tbody>\n",
       "</table>\n",
       "</div>"
      ],
      "text/plain": [
       "                 id                                       comment_text  toxic  \\\n",
       "0  0000997932d777bf  Explanation\\nWhy the edits made under my usern...      0   \n",
       "1  000103f0d9cfb60f  D'aww! He matches this background colour I'm s...      0   \n",
       "2  000113f07ec002fd  Hey man, I'm really not trying to edit war. It...      0   \n",
       "3  0001b41b1c6bb37e  \"\\nMore\\nI can't make any real suggestions on ...      0   \n",
       "4  0001d958c54c6e35  You, sir, are my hero. Any chance you remember...      0   \n",
       "\n",
       "   severe_toxic  obscene  threat  insult  identity_hate  \n",
       "0             0        0       0       0              0  \n",
       "1             0        0       0       0              0  \n",
       "2             0        0       0       0              0  \n",
       "3             0        0       0       0              0  \n",
       "4             0        0       0       0              0  "
      ]
     },
     "execution_count": 5,
     "metadata": {},
     "output_type": "execute_result"
    }
   ],
   "source": [
    "train_df.head()"
   ]
  },
  {
   "cell_type": "code",
   "execution_count": 8,
   "metadata": {},
   "outputs": [],
   "source": [
    "from nltk.tag import pos_tag\n",
    "\n",
    "pos_analysis_df = train_df.copy()\n",
    "\n",
    "def tag_part_of_speech(text):\n",
    "    text_splited = text.split(' ')\n",
    "    text_splited = [''.join(c for c in s if c not in string.punctuation) for s in text_splited]\n",
    "    text_splited = [s for s in text_splited if s]\n",
    "    pos_list = pos_tag(text_splited)\n",
    "    noun_count = len([w for w in pos_list if w[1] in ('NN','NNP','NNPS','NNS')])\n",
    "    adjective_count = len([w for w in pos_list if w[1] in ('JJ','JJR','JJS')])\n",
    "    verb_count = len([w for w in pos_list if w[1] in ('VB','VBD','VBG','VBN','VBP','VBZ')])\n",
    "    return[noun_count, adjective_count, verb_count]\n",
    "\n",
    "\n",
    "pos_analysis_df['nouns'], pos_analysis_df['adjectives'], pos_analysis_df['verbs'] = zip(*pos_analysis_df['comment_text'].apply(\n",
    "    lambda comment: tag_part_of_speech(comment)))\n"
   ]
  },
  {
   "cell_type": "code",
   "execution_count": 11,
   "metadata": {},
   "outputs": [],
   "source": [
    "pos_analysis_df['total_length'] = pos_analysis_df['comment_text'].apply(len)\n",
    "\n",
    "pos_analysis_df['words'] = pos_analysis_df['comment_text'].apply(lambda comment: len(comment.split()))"
   ]
  },
  {
   "cell_type": "code",
   "execution_count": 12,
   "metadata": {},
   "outputs": [],
   "source": [
    "pos_analysis_df['nouns_vs_length'] = pos_analysis_df['nouns'] / pos_analysis_df['total_length']\n",
    "pos_analysis_df['adjectives_vs_length'] = pos_analysis_df['adjectives'] / pos_analysis_df['total_length']\n",
    "pos_analysis_df['verbs_vs_length'] = pos_analysis_df['verbs'] / pos_analysis_df['total_length']\n",
    "pos_analysis_df['nouns_vs_words'] = pos_analysis_df['nouns'] / pos_analysis_df['words']\n",
    "pos_analysis_df['adjectives_vs_words'] = pos_analysis_df['adjectives'] / pos_analysis_df['words']\n",
    "pos_analysis_df['verbs_vs_words'] = pos_analysis_df['verbs'] / pos_analysis_df['words']"
   ]
  },
  {
   "cell_type": "code",
   "execution_count": 13,
   "metadata": {},
   "outputs": [
    {
     "data": {
      "text/html": [
       "<div>\n",
       "<style scoped>\n",
       "    .dataframe tbody tr th:only-of-type {\n",
       "        vertical-align: middle;\n",
       "    }\n",
       "\n",
       "    .dataframe tbody tr th {\n",
       "        vertical-align: top;\n",
       "    }\n",
       "\n",
       "    .dataframe thead th {\n",
       "        text-align: right;\n",
       "    }\n",
       "</style>\n",
       "<table border=\"1\" class=\"dataframe\">\n",
       "  <thead>\n",
       "    <tr style=\"text-align: right;\">\n",
       "      <th></th>\n",
       "      <th>id</th>\n",
       "      <th>comment_text</th>\n",
       "      <th>toxic</th>\n",
       "      <th>severe_toxic</th>\n",
       "      <th>obscene</th>\n",
       "      <th>threat</th>\n",
       "      <th>insult</th>\n",
       "      <th>identity_hate</th>\n",
       "      <th>nouns</th>\n",
       "      <th>adjectives</th>\n",
       "      <th>verbs</th>\n",
       "      <th>total_length</th>\n",
       "      <th>words</th>\n",
       "      <th>nouns_vs_length</th>\n",
       "      <th>adjectives_vs_length</th>\n",
       "      <th>verbs_vs_length</th>\n",
       "      <th>nouns_vs_words</th>\n",
       "      <th>adjectives_vs_words</th>\n",
       "      <th>verbs_vs_words</th>\n",
       "    </tr>\n",
       "  </thead>\n",
       "  <tbody>\n",
       "    <tr>\n",
       "      <th>0</th>\n",
       "      <td>0000997932d777bf</td>\n",
       "      <td>Explanation\\nWhy the edits made under my usern...</td>\n",
       "      <td>0</td>\n",
       "      <td>0</td>\n",
       "      <td>0</td>\n",
       "      <td>0</td>\n",
       "      <td>0</td>\n",
       "      <td>0</td>\n",
       "      <td>17</td>\n",
       "      <td>2</td>\n",
       "      <td>8</td>\n",
       "      <td>264</td>\n",
       "      <td>43</td>\n",
       "      <td>0.064394</td>\n",
       "      <td>0.007576</td>\n",
       "      <td>0.030303</td>\n",
       "      <td>0.395349</td>\n",
       "      <td>0.046512</td>\n",
       "      <td>0.186047</td>\n",
       "    </tr>\n",
       "    <tr>\n",
       "      <th>1</th>\n",
       "      <td>000103f0d9cfb60f</td>\n",
       "      <td>D'aww! He matches this background colour I'm s...</td>\n",
       "      <td>0</td>\n",
       "      <td>0</td>\n",
       "      <td>0</td>\n",
       "      <td>0</td>\n",
       "      <td>0</td>\n",
       "      <td>0</td>\n",
       "      <td>7</td>\n",
       "      <td>0</td>\n",
       "      <td>3</td>\n",
       "      <td>112</td>\n",
       "      <td>17</td>\n",
       "      <td>0.062500</td>\n",
       "      <td>0.000000</td>\n",
       "      <td>0.026786</td>\n",
       "      <td>0.411765</td>\n",
       "      <td>0.000000</td>\n",
       "      <td>0.176471</td>\n",
       "    </tr>\n",
       "    <tr>\n",
       "      <th>2</th>\n",
       "      <td>000113f07ec002fd</td>\n",
       "      <td>Hey man, I'm really not trying to edit war. It...</td>\n",
       "      <td>0</td>\n",
       "      <td>0</td>\n",
       "      <td>0</td>\n",
       "      <td>0</td>\n",
       "      <td>0</td>\n",
       "      <td>0</td>\n",
       "      <td>11</td>\n",
       "      <td>2</td>\n",
       "      <td>7</td>\n",
       "      <td>233</td>\n",
       "      <td>42</td>\n",
       "      <td>0.047210</td>\n",
       "      <td>0.008584</td>\n",
       "      <td>0.030043</td>\n",
       "      <td>0.261905</td>\n",
       "      <td>0.047619</td>\n",
       "      <td>0.166667</td>\n",
       "    </tr>\n",
       "    <tr>\n",
       "      <th>3</th>\n",
       "      <td>0001b41b1c6bb37e</td>\n",
       "      <td>\"\\nMore\\nI can't make any real suggestions on ...</td>\n",
       "      <td>0</td>\n",
       "      <td>0</td>\n",
       "      <td>0</td>\n",
       "      <td>0</td>\n",
       "      <td>0</td>\n",
       "      <td>0</td>\n",
       "      <td>24</td>\n",
       "      <td>6</td>\n",
       "      <td>23</td>\n",
       "      <td>622</td>\n",
       "      <td>113</td>\n",
       "      <td>0.038585</td>\n",
       "      <td>0.009646</td>\n",
       "      <td>0.036977</td>\n",
       "      <td>0.212389</td>\n",
       "      <td>0.053097</td>\n",
       "      <td>0.203540</td>\n",
       "    </tr>\n",
       "    <tr>\n",
       "      <th>4</th>\n",
       "      <td>0001d958c54c6e35</td>\n",
       "      <td>You, sir, are my hero. Any chance you remember...</td>\n",
       "      <td>0</td>\n",
       "      <td>0</td>\n",
       "      <td>0</td>\n",
       "      <td>0</td>\n",
       "      <td>0</td>\n",
       "      <td>0</td>\n",
       "      <td>4</td>\n",
       "      <td>0</td>\n",
       "      <td>3</td>\n",
       "      <td>67</td>\n",
       "      <td>13</td>\n",
       "      <td>0.059701</td>\n",
       "      <td>0.000000</td>\n",
       "      <td>0.044776</td>\n",
       "      <td>0.307692</td>\n",
       "      <td>0.000000</td>\n",
       "      <td>0.230769</td>\n",
       "    </tr>\n",
       "  </tbody>\n",
       "</table>\n",
       "</div>"
      ],
      "text/plain": [
       "                 id                                       comment_text  toxic  \\\n",
       "0  0000997932d777bf  Explanation\\nWhy the edits made under my usern...      0   \n",
       "1  000103f0d9cfb60f  D'aww! He matches this background colour I'm s...      0   \n",
       "2  000113f07ec002fd  Hey man, I'm really not trying to edit war. It...      0   \n",
       "3  0001b41b1c6bb37e  \"\\nMore\\nI can't make any real suggestions on ...      0   \n",
       "4  0001d958c54c6e35  You, sir, are my hero. Any chance you remember...      0   \n",
       "\n",
       "   severe_toxic  obscene  threat  insult  identity_hate  nouns  adjectives  \\\n",
       "0             0        0       0       0              0     17           2   \n",
       "1             0        0       0       0              0      7           0   \n",
       "2             0        0       0       0              0     11           2   \n",
       "3             0        0       0       0              0     24           6   \n",
       "4             0        0       0       0              0      4           0   \n",
       "\n",
       "   verbs  total_length  words  nouns_vs_length  adjectives_vs_length  \\\n",
       "0      8           264     43         0.064394              0.007576   \n",
       "1      3           112     17         0.062500              0.000000   \n",
       "2      7           233     42         0.047210              0.008584   \n",
       "3     23           622    113         0.038585              0.009646   \n",
       "4      3            67     13         0.059701              0.000000   \n",
       "\n",
       "   verbs_vs_length  nouns_vs_words  adjectives_vs_words  verbs_vs_words  \n",
       "0         0.030303        0.395349             0.046512        0.186047  \n",
       "1         0.026786        0.411765             0.000000        0.176471  \n",
       "2         0.030043        0.261905             0.047619        0.166667  \n",
       "3         0.036977        0.212389             0.053097        0.203540  \n",
       "4         0.044776        0.307692             0.000000        0.230769  "
      ]
     },
     "execution_count": 13,
     "metadata": {},
     "output_type": "execute_result"
    }
   ],
   "source": [
    "pos_analysis_df.head()"
   ]
  },
  {
   "cell_type": "code",
   "execution_count": 15,
   "metadata": {},
   "outputs": [],
   "source": [
    "LABELS = ['toxic', 'severe_toxic', 'obscene', 'threat', 'insult', 'identity_hate']\n",
    "\n",
    "features = (\n",
    "            'nouns', 'nouns_vs_words', 'nouns_vs_length', \n",
    "            'adjectives', 'adjectives_vs_words', 'adjectives_vs_length',\n",
    "            'verbs', 'verbs_vs_words', 'verbs_vs_length',\n",
    "           )\n",
    "pos_analysis_df['none'] = 1 - pos_analysis_df[LABELS].max(axis=1)"
   ]
  },
  {
   "cell_type": "code",
   "execution_count": 17,
   "metadata": {},
   "outputs": [
    {
     "data": {
      "text/html": [
       "<div>\n",
       "<style scoped>\n",
       "    .dataframe tbody tr th:only-of-type {\n",
       "        vertical-align: middle;\n",
       "    }\n",
       "\n",
       "    .dataframe tbody tr th {\n",
       "        vertical-align: top;\n",
       "    }\n",
       "\n",
       "    .dataframe thead th {\n",
       "        text-align: right;\n",
       "    }\n",
       "</style>\n",
       "<table border=\"1\" class=\"dataframe\">\n",
       "  <thead>\n",
       "    <tr style=\"text-align: right;\">\n",
       "      <th></th>\n",
       "      <th>toxic</th>\n",
       "      <th>severe_toxic</th>\n",
       "      <th>obscene</th>\n",
       "      <th>threat</th>\n",
       "      <th>insult</th>\n",
       "      <th>identity_hate</th>\n",
       "      <th>none</th>\n",
       "    </tr>\n",
       "  </thead>\n",
       "  <tbody>\n",
       "    <tr>\n",
       "      <th>nouns</th>\n",
       "      <td>-0.000861</td>\n",
       "      <td>0.068455</td>\n",
       "      <td>0.001967</td>\n",
       "      <td>0.003365</td>\n",
       "      <td>-0.001149</td>\n",
       "      <td>0.009624</td>\n",
       "      <td>-0.000103</td>\n",
       "    </tr>\n",
       "    <tr>\n",
       "      <th>nouns_vs_words</th>\n",
       "      <td>0.125599</td>\n",
       "      <td>0.113773</td>\n",
       "      <td>0.121616</td>\n",
       "      <td>0.021363</td>\n",
       "      <td>0.110377</td>\n",
       "      <td>0.066107</td>\n",
       "      <td>-0.121250</td>\n",
       "    </tr>\n",
       "    <tr>\n",
       "      <th>nouns_vs_length</th>\n",
       "      <td>0.178798</td>\n",
       "      <td>0.140118</td>\n",
       "      <td>0.168074</td>\n",
       "      <td>0.036472</td>\n",
       "      <td>0.153487</td>\n",
       "      <td>0.085114</td>\n",
       "      <td>-0.174803</td>\n",
       "    </tr>\n",
       "    <tr>\n",
       "      <th>adjectives</th>\n",
       "      <td>-0.045447</td>\n",
       "      <td>0.004472</td>\n",
       "      <td>-0.036740</td>\n",
       "      <td>-0.015309</td>\n",
       "      <td>-0.032686</td>\n",
       "      <td>-0.000146</td>\n",
       "      <td>0.042934</td>\n",
       "    </tr>\n",
       "    <tr>\n",
       "      <th>adjectives_vs_words</th>\n",
       "      <td>0.028471</td>\n",
       "      <td>0.005824</td>\n",
       "      <td>0.016104</td>\n",
       "      <td>-0.011183</td>\n",
       "      <td>0.030969</td>\n",
       "      <td>0.034752</td>\n",
       "      <td>-0.029019</td>\n",
       "    </tr>\n",
       "    <tr>\n",
       "      <th>adjectives_vs_length</th>\n",
       "      <td>0.047081</td>\n",
       "      <td>0.012349</td>\n",
       "      <td>0.032990</td>\n",
       "      <td>-0.005735</td>\n",
       "      <td>0.046271</td>\n",
       "      <td>0.043044</td>\n",
       "      <td>-0.047881</td>\n",
       "    </tr>\n",
       "    <tr>\n",
       "      <th>verbs</th>\n",
       "      <td>-0.061767</td>\n",
       "      <td>-0.014051</td>\n",
       "      <td>-0.051171</td>\n",
       "      <td>-0.003157</td>\n",
       "      <td>-0.051491</td>\n",
       "      <td>-0.021670</td>\n",
       "      <td>0.057725</td>\n",
       "    </tr>\n",
       "    <tr>\n",
       "      <th>verbs_vs_words</th>\n",
       "      <td>-0.004188</td>\n",
       "      <td>-0.032360</td>\n",
       "      <td>-0.011213</td>\n",
       "      <td>0.007587</td>\n",
       "      <td>-0.008274</td>\n",
       "      <td>-0.013781</td>\n",
       "      <td>0.002575</td>\n",
       "    </tr>\n",
       "    <tr>\n",
       "      <th>verbs_vs_length</th>\n",
       "      <td>0.024287</td>\n",
       "      <td>-0.019703</td>\n",
       "      <td>0.013053</td>\n",
       "      <td>0.020133</td>\n",
       "      <td>0.011791</td>\n",
       "      <td>-0.005127</td>\n",
       "      <td>-0.026003</td>\n",
       "    </tr>\n",
       "  </tbody>\n",
       "</table>\n",
       "</div>"
      ],
      "text/plain": [
       "                         toxic  severe_toxic   obscene    threat    insult  \\\n",
       "nouns                -0.000861      0.068455  0.001967  0.003365 -0.001149   \n",
       "nouns_vs_words        0.125599      0.113773  0.121616  0.021363  0.110377   \n",
       "nouns_vs_length       0.178798      0.140118  0.168074  0.036472  0.153487   \n",
       "adjectives           -0.045447      0.004472 -0.036740 -0.015309 -0.032686   \n",
       "adjectives_vs_words   0.028471      0.005824  0.016104 -0.011183  0.030969   \n",
       "adjectives_vs_length  0.047081      0.012349  0.032990 -0.005735  0.046271   \n",
       "verbs                -0.061767     -0.014051 -0.051171 -0.003157 -0.051491   \n",
       "verbs_vs_words       -0.004188     -0.032360 -0.011213  0.007587 -0.008274   \n",
       "verbs_vs_length       0.024287     -0.019703  0.013053  0.020133  0.011791   \n",
       "\n",
       "                      identity_hate      none  \n",
       "nouns                      0.009624 -0.000103  \n",
       "nouns_vs_words             0.066107 -0.121250  \n",
       "nouns_vs_length            0.085114 -0.174803  \n",
       "adjectives                -0.000146  0.042934  \n",
       "adjectives_vs_words        0.034752 -0.029019  \n",
       "adjectives_vs_length       0.043044 -0.047881  \n",
       "verbs                     -0.021670  0.057725  \n",
       "verbs_vs_words            -0.013781  0.002575  \n",
       "verbs_vs_length           -0.005127 -0.026003  "
      ]
     },
     "execution_count": 17,
     "metadata": {},
     "output_type": "execute_result"
    }
   ],
   "source": [
    "columns = LABELS + ['none']\n",
    "\n",
    "rows = [{c:pos_analysis_df[f].corr(pos_analysis_df[c]) for c in columns} for f in features]\n",
    "train_correlations = pd.DataFrame(rows, index=features)\n",
    "train_correlations"
   ]
  },
  {
   "cell_type": "markdown",
   "metadata": {},
   "source": [
    "## Question marks, exclamation marks & Punctuation"
   ]
  },
  {
   "cell_type": "code",
   "execution_count": null,
   "metadata": {},
   "outputs": [],
   "source": [
    "punc_analysis_df = train_df.copy()\n",
    "punc_analysis_df['total_length'] = pos_analysis_df['total_length']\n",
    "punc_analysis_df['words'] = pos_analysis_df['words']"
   ]
  },
  {
   "cell_type": "code",
   "execution_count": null,
   "metadata": {},
   "outputs": [],
   "source": [
    "# import string library function \n",
    "import string \n",
    "\n",
    "def get_punctuations(sentences):\n",
    "    puncs = []\n",
    "    for i in sentences:\n",
    "      \n",
    "    # checking whether the char is punctuation.\n",
    "        if i in string.punctuation:\n",
    "            puncs.append(i)\n",
    "        # Printing the punctuation values \n",
    "    return puncs"
   ]
  },
  {
   "cell_type": "code",
   "execution_count": null,
   "metadata": {},
   "outputs": [],
   "source": [
    "# punctuations\n",
    "punc_analysis_df['punctuations'] = punc_analysis_df ['comment_text'].apply(get_punctuations)\n",
    "punc_analysis_df['len_punctuations'] = punc_analysis_df['punctuations'].apply(len)\n",
    "punc_analysis_df['punctuation_vs_length'] = punc_analysis_df['len_punctuations']/punc_analysis_df['total_length']\n",
    "punc_analysis_df['punctuation_vs_words'] = punc_analysis_df['len_punctuations']/punc_analysis_df['words']\n",
    "\n",
    "# question marks\n",
    "punc_analysis_df['num_question_marks'] = punc_analysis_df['punctuations'].apply(lambda x:x.count('?'))\n",
    "punc_analysis_df['question_marks_vs_length'] = punc_analysis_df['num_question_marks']/punc_analysis_df['total_length']\n",
    "punc_analysis_df['question_marks_vs_words'] = punc_analysis_df['num_question_marks']/punc_analysis_df['words']\n",
    "# exclamation marks\n",
    "punc_analysis_df['num_exclamation_marks'] = punc_analysis_df['punctuations'].apply(lambda x:x.count('!'))\n",
    "punc_analysis_df['exclamation_marks_vs_length'] = punc_analysis_df['num_exclamation_marks']/punc_analysis_df['total_length']\n",
    "punc_analysis_df['exclamation_marks_vs_words'] = punc_analysis_df['num_exclamation_marks']/punc_analysis_df['words']\n",
    "punc_analysis_df"
   ]
  },
  {
   "cell_type": "code",
   "execution_count": null,
   "metadata": {},
   "outputs": [],
   "source": [
    "punc_features = ('len_punctuations','punctuation_vs_length','punctuation_vs_words',\n",
    "                 'num_question_marks','question_marks_vs_length','question_marks_vs_words',\n",
    "                 'num_exclamation_marks','exclamation_marks_vs_length','exclamation_marks_vs_words'\n",
    "                )\n",
    "rows = [{c:punc_analysis_df[f].corr(punc_analysis_df[c]) for c in LABELS} for f in punc_features]\n",
    "punc_train_correlations = pd.DataFrame(rows, index=punc_features)\n",
    "punc_train_correlations"
   ]
  },
  {
   "cell_type": "code",
   "execution_count": null,
   "metadata": {},
   "outputs": [],
   "source": [
    "sns.heatmap(punc_train_correlations, annot=True)"
   ]
  },
  {
   "cell_type": "code",
   "execution_count": null,
   "metadata": {},
   "outputs": [],
   "source": [
    "import emojis\n",
    "punc_analysis_df['emojis'] = punc_analysis_df ['comment_text'].apply(emojis.get)\n",
    "for i in punc_analysis_df ['emojis']:\n",
    "    if len(i) != 0:\n",
    "        print(i)"
   ]
  }
 ],
 "metadata": {
  "colab": {
   "provenance": []
  },
  "kernelspec": {
   "display_name": "Python 3 (ipykernel)",
   "language": "python",
   "name": "python3"
  },
  "language_info": {
   "codemirror_mode": {
    "name": "ipython",
    "version": 3
   },
   "file_extension": ".py",
   "mimetype": "text/x-python",
   "name": "python",
   "nbconvert_exporter": "python",
   "pygments_lexer": "ipython3",
   "version": "3.9.16"
  },
  "toc": {
   "base_numbering": 1,
   "nav_menu": {},
   "number_sections": true,
   "sideBar": true,
   "skip_h1_title": false,
   "title_cell": "Table of Contents",
   "title_sidebar": "Contents",
   "toc_cell": false,
   "toc_position": {
    "height": "calc(100% - 180px)",
    "left": "10px",
    "top": "150px",
    "width": "261.818px"
   },
   "toc_section_display": true,
   "toc_window_display": false
  },
  "varInspector": {
   "cols": {
    "lenName": 16,
    "lenType": 16,
    "lenVar": 40
   },
   "kernels_config": {
    "python": {
     "delete_cmd_postfix": "",
     "delete_cmd_prefix": "del ",
     "library": "var_list.py",
     "varRefreshCmd": "print(var_dic_list())"
    },
    "r": {
     "delete_cmd_postfix": ") ",
     "delete_cmd_prefix": "rm(",
     "library": "var_list.r",
     "varRefreshCmd": "cat(var_dic_list()) "
    }
   },
   "types_to_exclude": [
    "module",
    "function",
    "builtin_function_or_method",
    "instance",
    "_Feature"
   ],
   "window_display": false
  }
 },
 "nbformat": 4,
 "nbformat_minor": 1
}
