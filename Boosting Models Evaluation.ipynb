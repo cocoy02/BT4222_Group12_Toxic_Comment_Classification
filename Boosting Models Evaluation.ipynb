{
 "cells": [
  {
   "cell_type": "code",
   "execution_count": 59,
   "id": "5d35ff81",
   "metadata": {},
   "outputs": [],
   "source": [
    "import pandas as pd\n",
    "\n",
    "# for adaboost\n",
    "from sklearn.ensemble import AdaBoostClassifier\n",
    "\n",
    "# for xgboost\n",
    "from xgboost import XGBClassifier\n",
    "\n",
    "# for evaluation metrics\n",
    "%run -i helper_functions.py\n",
    "from sklearn.model_selection import cross_validate\n",
    "\n",
    "# for multi-label classification\n",
    "from skmultilearn.problem_transform import BinaryRelevance\n",
    "from skmultilearn.problem_transform import ClassifierChain\n",
    "from skmultilearn.problem_transform import LabelPowerset\n",
    "\n",
    "import warnings\n",
    "warnings.filterwarnings(\"ignore\")"
   ]
  },
  {
   "cell_type": "markdown",
   "id": "c3a11529",
   "metadata": {},
   "source": [
    "## Read Data"
   ]
  },
  {
   "cell_type": "code",
   "execution_count": 2,
   "id": "c75102af",
   "metadata": {},
   "outputs": [],
   "source": [
    "selected_train = pd.read_csv('Data\\selected_train.csv')"
   ]
  },
  {
   "cell_type": "code",
   "execution_count": 3,
   "id": "f22d2571",
   "metadata": {},
   "outputs": [
    {
     "name": "stdout",
     "output_type": "stream",
     "text": [
      "(159571, 48)\n"
     ]
    },
    {
     "data": {
      "text/html": [
       "<div>\n",
       "<style scoped>\n",
       "    .dataframe tbody tr th:only-of-type {\n",
       "        vertical-align: middle;\n",
       "    }\n",
       "\n",
       "    .dataframe tbody tr th {\n",
       "        vertical-align: top;\n",
       "    }\n",
       "\n",
       "    .dataframe thead th {\n",
       "        text-align: right;\n",
       "    }\n",
       "</style>\n",
       "<table border=\"1\" class=\"dataframe\">\n",
       "  <thead>\n",
       "    <tr style=\"text-align: right;\">\n",
       "      <th></th>\n",
       "      <th>toxic</th>\n",
       "      <th>severe_toxic</th>\n",
       "      <th>obscene</th>\n",
       "      <th>threat</th>\n",
       "      <th>insult</th>\n",
       "      <th>identity_hate</th>\n",
       "      <th>none</th>\n",
       "      <th>min_length_scaled</th>\n",
       "      <th>num_words_vs_length</th>\n",
       "      <th>exclamation_marks_vs_length</th>\n",
       "      <th>...</th>\n",
       "      <th>105</th>\n",
       "      <th>114</th>\n",
       "      <th>132</th>\n",
       "      <th>135</th>\n",
       "      <th>139</th>\n",
       "      <th>143</th>\n",
       "      <th>156</th>\n",
       "      <th>157</th>\n",
       "      <th>170</th>\n",
       "      <th>198</th>\n",
       "    </tr>\n",
       "  </thead>\n",
       "  <tbody>\n",
       "    <tr>\n",
       "      <th>0</th>\n",
       "      <td>0</td>\n",
       "      <td>0</td>\n",
       "      <td>0</td>\n",
       "      <td>0</td>\n",
       "      <td>0</td>\n",
       "      <td>0</td>\n",
       "      <td>1</td>\n",
       "      <td>0.009393</td>\n",
       "      <td>0.181132</td>\n",
       "      <td>0.000000</td>\n",
       "      <td>...</td>\n",
       "      <td>-0.091320</td>\n",
       "      <td>-0.017755</td>\n",
       "      <td>0.003997</td>\n",
       "      <td>-0.199211</td>\n",
       "      <td>-0.109984</td>\n",
       "      <td>0.089084</td>\n",
       "      <td>0.012651</td>\n",
       "      <td>-0.019501</td>\n",
       "      <td>-0.091946</td>\n",
       "      <td>-0.113697</td>\n",
       "    </tr>\n",
       "    <tr>\n",
       "      <th>1</th>\n",
       "      <td>0</td>\n",
       "      <td>0</td>\n",
       "      <td>0</td>\n",
       "      <td>0</td>\n",
       "      <td>0</td>\n",
       "      <td>0</td>\n",
       "      <td>1</td>\n",
       "      <td>0.000723</td>\n",
       "      <td>0.160714</td>\n",
       "      <td>0.008929</td>\n",
       "      <td>...</td>\n",
       "      <td>-0.118445</td>\n",
       "      <td>0.039541</td>\n",
       "      <td>0.017522</td>\n",
       "      <td>0.001397</td>\n",
       "      <td>0.000094</td>\n",
       "      <td>0.021135</td>\n",
       "      <td>0.039308</td>\n",
       "      <td>-0.067295</td>\n",
       "      <td>-0.079366</td>\n",
       "      <td>-0.044959</td>\n",
       "    </tr>\n",
       "    <tr>\n",
       "      <th>2</th>\n",
       "      <td>0</td>\n",
       "      <td>0</td>\n",
       "      <td>0</td>\n",
       "      <td>0</td>\n",
       "      <td>0</td>\n",
       "      <td>0</td>\n",
       "      <td>1</td>\n",
       "      <td>0.007225</td>\n",
       "      <td>0.188841</td>\n",
       "      <td>0.000000</td>\n",
       "      <td>...</td>\n",
       "      <td>-0.131555</td>\n",
       "      <td>-0.060714</td>\n",
       "      <td>0.026459</td>\n",
       "      <td>-0.029582</td>\n",
       "      <td>-0.146134</td>\n",
       "      <td>0.109907</td>\n",
       "      <td>0.036539</td>\n",
       "      <td>-0.053628</td>\n",
       "      <td>0.027530</td>\n",
       "      <td>-0.211230</td>\n",
       "    </tr>\n",
       "    <tr>\n",
       "      <th>3</th>\n",
       "      <td>0</td>\n",
       "      <td>0</td>\n",
       "      <td>0</td>\n",
       "      <td>0</td>\n",
       "      <td>0</td>\n",
       "      <td>0</td>\n",
       "      <td>1</td>\n",
       "      <td>0.007948</td>\n",
       "      <td>0.175719</td>\n",
       "      <td>0.000000</td>\n",
       "      <td>...</td>\n",
       "      <td>-0.145382</td>\n",
       "      <td>-0.004285</td>\n",
       "      <td>-0.000706</td>\n",
       "      <td>-0.134984</td>\n",
       "      <td>-0.214832</td>\n",
       "      <td>0.177560</td>\n",
       "      <td>0.007675</td>\n",
       "      <td>-0.087473</td>\n",
       "      <td>0.106848</td>\n",
       "      <td>-0.015987</td>\n",
       "    </tr>\n",
       "    <tr>\n",
       "      <th>4</th>\n",
       "      <td>0</td>\n",
       "      <td>0</td>\n",
       "      <td>0</td>\n",
       "      <td>0</td>\n",
       "      <td>0</td>\n",
       "      <td>0</td>\n",
       "      <td>1</td>\n",
       "      <td>0.003613</td>\n",
       "      <td>0.208955</td>\n",
       "      <td>0.000000</td>\n",
       "      <td>...</td>\n",
       "      <td>0.007073</td>\n",
       "      <td>-0.204627</td>\n",
       "      <td>0.162032</td>\n",
       "      <td>0.013798</td>\n",
       "      <td>-0.221076</td>\n",
       "      <td>0.163578</td>\n",
       "      <td>-0.068310</td>\n",
       "      <td>-0.031184</td>\n",
       "      <td>-0.017280</td>\n",
       "      <td>0.038566</td>\n",
       "    </tr>\n",
       "  </tbody>\n",
       "</table>\n",
       "<p>5 rows × 48 columns</p>\n",
       "</div>"
      ],
      "text/plain": [
       "   toxic  severe_toxic  obscene  threat  insult  identity_hate  none  \\\n",
       "0      0             0        0       0       0              0     1   \n",
       "1      0             0        0       0       0              0     1   \n",
       "2      0             0        0       0       0              0     1   \n",
       "3      0             0        0       0       0              0     1   \n",
       "4      0             0        0       0       0              0     1   \n",
       "\n",
       "   min_length_scaled  num_words_vs_length  exclamation_marks_vs_length  ...  \\\n",
       "0           0.009393             0.181132                     0.000000  ...   \n",
       "1           0.000723             0.160714                     0.008929  ...   \n",
       "2           0.007225             0.188841                     0.000000  ...   \n",
       "3           0.007948             0.175719                     0.000000  ...   \n",
       "4           0.003613             0.208955                     0.000000  ...   \n",
       "\n",
       "        105       114       132       135       139       143       156  \\\n",
       "0 -0.091320 -0.017755  0.003997 -0.199211 -0.109984  0.089084  0.012651   \n",
       "1 -0.118445  0.039541  0.017522  0.001397  0.000094  0.021135  0.039308   \n",
       "2 -0.131555 -0.060714  0.026459 -0.029582 -0.146134  0.109907  0.036539   \n",
       "3 -0.145382 -0.004285 -0.000706 -0.134984 -0.214832  0.177560  0.007675   \n",
       "4  0.007073 -0.204627  0.162032  0.013798 -0.221076  0.163578 -0.068310   \n",
       "\n",
       "        157       170       198  \n",
       "0 -0.019501 -0.091946 -0.113697  \n",
       "1 -0.067295 -0.079366 -0.044959  \n",
       "2 -0.053628  0.027530 -0.211230  \n",
       "3 -0.087473  0.106848 -0.015987  \n",
       "4 -0.031184 -0.017280  0.038566  \n",
       "\n",
       "[5 rows x 48 columns]"
      ]
     },
     "execution_count": 3,
     "metadata": {},
     "output_type": "execute_result"
    }
   ],
   "source": [
    "print(selected_train.shape)\n",
    "selected_train.head()"
   ]
  },
  {
   "cell_type": "code",
   "execution_count": 8,
   "id": "75547ddb",
   "metadata": {},
   "outputs": [],
   "source": [
    "features = selected_train.columns[7:]"
   ]
  },
  {
   "cell_type": "code",
   "execution_count": 9,
   "id": "f4654cdf",
   "metadata": {},
   "outputs": [],
   "source": [
    "labels = selected_train.columns[:6]"
   ]
  },
  {
   "cell_type": "markdown",
   "id": "0e543419",
   "metadata": {},
   "source": [
    "## Adaboost"
   ]
  },
  {
   "cell_type": "markdown",
   "id": "08669f48",
   "metadata": {},
   "source": [
    "### Baseline Adaboost using BinaryRelevance"
   ]
  },
  {
   "cell_type": "code",
   "execution_count": 27,
   "id": "8ee14147",
   "metadata": {},
   "outputs": [],
   "source": [
    "from sklearn.model_selection import KFold"
   ]
  },
  {
   "cell_type": "code",
   "execution_count": 65,
   "id": "77c4d9a0",
   "metadata": {},
   "outputs": [],
   "source": [
    "def model_evaluation(model, train):\n",
    "    features = train.columns[7:]\n",
    "    labels = train.columns[:6]\n",
    "    kf = KFold(n_splits=5)\n",
    "    validation_scores = pd.DataFrame({'accuracy':[], 'precision_weighted':[], 'recall_weighted':[], \n",
    "                                      'f1_weighted':[], 'log_loss':[], 'roc_auc_weighted':[]})\n",
    "    for train_index, test_index in kf.split(train):\n",
    "        train_split = train.iloc[train_index]\n",
    "        test_split = train.iloc[test_index]\n",
    "        print('Starting fitting...')\n",
    "        model.fit(train_split[features], train_split[labels])\n",
    "        predictions = model.predict(test_split[features])\n",
    "        predictions_proba = model.predict_proba(test_split[features])\n",
    "        scores = [accuracy_score(test_split[labels], predictions), precision_score(test_split[labels], predictions, average=\"weighted\"),\n",
    "                  recall_score(test_split[labels], predictions, average=\"weighted\"), f1_score(test_split[labels], predictions, average=\"weighted\"),\n",
    "                  log_loss(test_split[labels], predictions_proba.toarray()), roc_auc_score(test_split[labels], predictions_proba.toarray(), average=\"weighted\")]\n",
    "        validation_scores.loc[len(validation_scores)] = scores\n",
    "        print(f'Evaluation Scores:\\n{scores}\\n')\n",
    "    return validation_scores   "
   ]
  },
  {
   "cell_type": "code",
   "execution_count": 66,
   "id": "732e00e8",
   "metadata": {},
   "outputs": [
    {
     "name": "stdout",
     "output_type": "stream",
     "text": [
      "Starting fitting...\n",
      "Evaluation Scores:\n",
      "[0.9086009713300955, 0.7662075024631361, 0.5955355889372456, 0.668614831071146, 0.39369639966892334, 0.9644349748310285]\n",
      "\n",
      "Starting fitting...\n",
      "Evaluation Scores:\n",
      "[0.9115748574293413, 0.7595417714523536, 0.5947721754035138, 0.6661630929909684, 0.38696189906549155, 0.9625646922464547]\n",
      "\n",
      "Starting fitting...\n",
      "Evaluation Scores:\n",
      "[0.9124208811180047, 0.7719679475126819, 0.5987742303306728, 0.6733192558041735, 0.3877950753399316, 0.9646503826264773]\n",
      "\n",
      "Starting fitting...\n",
      "Evaluation Scores:\n",
      "[0.9121388732217836, 0.7637796278111846, 0.6064349324906636, 0.6747315236135966, 0.3847270115759182, 0.9653717914010013]\n",
      "\n",
      "Starting fitting...\n",
      "Evaluation Scores:\n",
      "[0.9113241837438115, 0.7665321644718834, 0.5914808461978274, 0.666324875262268, 0.38644634243444553, 0.9615207163393116]\n",
      "\n"
     ]
    }
   ],
   "source": [
    "classifier_ab = BinaryRelevance(AdaBoostClassifier(random_state=0))\n",
    "scores_ab = model_evaluation(classifier_ab, selected_train)"
   ]
  },
  {
   "cell_type": "code",
   "execution_count": 67,
   "id": "c80b3540",
   "metadata": {},
   "outputs": [
    {
     "data": {
      "text/html": [
       "<div>\n",
       "<style scoped>\n",
       "    .dataframe tbody tr th:only-of-type {\n",
       "        vertical-align: middle;\n",
       "    }\n",
       "\n",
       "    .dataframe tbody tr th {\n",
       "        vertical-align: top;\n",
       "    }\n",
       "\n",
       "    .dataframe thead th {\n",
       "        text-align: right;\n",
       "    }\n",
       "</style>\n",
       "<table border=\"1\" class=\"dataframe\">\n",
       "  <thead>\n",
       "    <tr style=\"text-align: right;\">\n",
       "      <th></th>\n",
       "      <th>accuracy</th>\n",
       "      <th>precision_weighted</th>\n",
       "      <th>recall_weighted</th>\n",
       "      <th>f1_weighted</th>\n",
       "      <th>log_loss</th>\n",
       "      <th>roc_auc_weighted</th>\n",
       "    </tr>\n",
       "  </thead>\n",
       "  <tbody>\n",
       "    <tr>\n",
       "      <th>0</th>\n",
       "      <td>0.908601</td>\n",
       "      <td>0.766208</td>\n",
       "      <td>0.595536</td>\n",
       "      <td>0.668615</td>\n",
       "      <td>0.393696</td>\n",
       "      <td>0.964435</td>\n",
       "    </tr>\n",
       "    <tr>\n",
       "      <th>1</th>\n",
       "      <td>0.911575</td>\n",
       "      <td>0.759542</td>\n",
       "      <td>0.594772</td>\n",
       "      <td>0.666163</td>\n",
       "      <td>0.386962</td>\n",
       "      <td>0.962565</td>\n",
       "    </tr>\n",
       "    <tr>\n",
       "      <th>2</th>\n",
       "      <td>0.912421</td>\n",
       "      <td>0.771968</td>\n",
       "      <td>0.598774</td>\n",
       "      <td>0.673319</td>\n",
       "      <td>0.387795</td>\n",
       "      <td>0.964650</td>\n",
       "    </tr>\n",
       "    <tr>\n",
       "      <th>3</th>\n",
       "      <td>0.912139</td>\n",
       "      <td>0.763780</td>\n",
       "      <td>0.606435</td>\n",
       "      <td>0.674732</td>\n",
       "      <td>0.384727</td>\n",
       "      <td>0.965372</td>\n",
       "    </tr>\n",
       "    <tr>\n",
       "      <th>4</th>\n",
       "      <td>0.911324</td>\n",
       "      <td>0.766532</td>\n",
       "      <td>0.591481</td>\n",
       "      <td>0.666325</td>\n",
       "      <td>0.386446</td>\n",
       "      <td>0.961521</td>\n",
       "    </tr>\n",
       "  </tbody>\n",
       "</table>\n",
       "</div>"
      ],
      "text/plain": [
       "   accuracy  precision_weighted  recall_weighted  f1_weighted  log_loss  \\\n",
       "0  0.908601            0.766208         0.595536     0.668615  0.393696   \n",
       "1  0.911575            0.759542         0.594772     0.666163  0.386962   \n",
       "2  0.912421            0.771968         0.598774     0.673319  0.387795   \n",
       "3  0.912139            0.763780         0.606435     0.674732  0.384727   \n",
       "4  0.911324            0.766532         0.591481     0.666325  0.386446   \n",
       "\n",
       "   roc_auc_weighted  \n",
       "0          0.964435  \n",
       "1          0.962565  \n",
       "2          0.964650  \n",
       "3          0.965372  \n",
       "4          0.961521  "
      ]
     },
     "execution_count": 67,
     "metadata": {},
     "output_type": "execute_result"
    }
   ],
   "source": [
    "scores_ab"
   ]
  },
  {
   "cell_type": "markdown",
   "id": "e9176f48",
   "metadata": {},
   "source": [
    "### Baseline Adaboost using ClassifierChain"
   ]
  },
  {
   "cell_type": "code",
   "execution_count": 68,
   "id": "e4fbd8d0",
   "metadata": {},
   "outputs": [
    {
     "name": "stdout",
     "output_type": "stream",
     "text": [
      "Starting fitting...\n",
      "Evaluation Scores:\n",
      "[0.9104809650634498, 0.7384635533740987, 0.6317562824652534, 0.6745848669974185, 0.38961003115342546, 0.962411850840173]\n",
      "\n",
      "Starting fitting...\n",
      "Evaluation Scores:\n",
      "[0.9135802469135802, 0.7443306616884929, 0.630624196543351, 0.6777138181688405, 0.38273790835086247, 0.959051054485923]\n",
      "\n",
      "Starting fitting...\n",
      "Evaluation Scores:\n",
      "[0.9140502600739487, 0.7423848777398544, 0.6328392246294184, 0.6789176970840937, 0.38458337339085846, 0.9624953997128569]\n",
      "\n",
      "Starting fitting...\n",
      "Evaluation Scores:\n",
      "[0.9142695995487874, 0.7382283902076263, 0.6430623384085034, 0.6809014825232593, 0.38158460910319736, 0.9630270816800737]\n",
      "\n",
      "Starting fitting...\n",
      "Evaluation Scores:\n",
      "[0.9120135363790186, 0.7332005622547857, 0.6179245283018868, 0.664510165034994, 0.3831426565262774, 0.9589690169502456]\n",
      "\n"
     ]
    }
   ],
   "source": [
    "classifier_chain_ab = ClassifierChain(AdaBoostClassifier(random_state=0))\n",
    "scores_chain_ab = model_evaluation(classifier_chain_ab, selected_train)"
   ]
  },
  {
   "cell_type": "code",
   "execution_count": 69,
   "id": "dd51b2a1",
   "metadata": {},
   "outputs": [
    {
     "data": {
      "text/html": [
       "<div>\n",
       "<style scoped>\n",
       "    .dataframe tbody tr th:only-of-type {\n",
       "        vertical-align: middle;\n",
       "    }\n",
       "\n",
       "    .dataframe tbody tr th {\n",
       "        vertical-align: top;\n",
       "    }\n",
       "\n",
       "    .dataframe thead th {\n",
       "        text-align: right;\n",
       "    }\n",
       "</style>\n",
       "<table border=\"1\" class=\"dataframe\">\n",
       "  <thead>\n",
       "    <tr style=\"text-align: right;\">\n",
       "      <th></th>\n",
       "      <th>accuracy</th>\n",
       "      <th>precision_weighted</th>\n",
       "      <th>recall_weighted</th>\n",
       "      <th>f1_weighted</th>\n",
       "      <th>log_loss</th>\n",
       "      <th>roc_auc_weighted</th>\n",
       "    </tr>\n",
       "  </thead>\n",
       "  <tbody>\n",
       "    <tr>\n",
       "      <th>0</th>\n",
       "      <td>0.910481</td>\n",
       "      <td>0.738464</td>\n",
       "      <td>0.631756</td>\n",
       "      <td>0.674585</td>\n",
       "      <td>0.389610</td>\n",
       "      <td>0.962412</td>\n",
       "    </tr>\n",
       "    <tr>\n",
       "      <th>1</th>\n",
       "      <td>0.913580</td>\n",
       "      <td>0.744331</td>\n",
       "      <td>0.630624</td>\n",
       "      <td>0.677714</td>\n",
       "      <td>0.382738</td>\n",
       "      <td>0.959051</td>\n",
       "    </tr>\n",
       "    <tr>\n",
       "      <th>2</th>\n",
       "      <td>0.914050</td>\n",
       "      <td>0.742385</td>\n",
       "      <td>0.632839</td>\n",
       "      <td>0.678918</td>\n",
       "      <td>0.384583</td>\n",
       "      <td>0.962495</td>\n",
       "    </tr>\n",
       "    <tr>\n",
       "      <th>3</th>\n",
       "      <td>0.914270</td>\n",
       "      <td>0.738228</td>\n",
       "      <td>0.643062</td>\n",
       "      <td>0.680901</td>\n",
       "      <td>0.381585</td>\n",
       "      <td>0.963027</td>\n",
       "    </tr>\n",
       "    <tr>\n",
       "      <th>4</th>\n",
       "      <td>0.912014</td>\n",
       "      <td>0.733201</td>\n",
       "      <td>0.617925</td>\n",
       "      <td>0.664510</td>\n",
       "      <td>0.383143</td>\n",
       "      <td>0.958969</td>\n",
       "    </tr>\n",
       "  </tbody>\n",
       "</table>\n",
       "</div>"
      ],
      "text/plain": [
       "   accuracy  precision_weighted  recall_weighted  f1_weighted  log_loss  \\\n",
       "0  0.910481            0.738464         0.631756     0.674585  0.389610   \n",
       "1  0.913580            0.744331         0.630624     0.677714  0.382738   \n",
       "2  0.914050            0.742385         0.632839     0.678918  0.384583   \n",
       "3  0.914270            0.738228         0.643062     0.680901  0.381585   \n",
       "4  0.912014            0.733201         0.617925     0.664510  0.383143   \n",
       "\n",
       "   roc_auc_weighted  \n",
       "0          0.962412  \n",
       "1          0.959051  \n",
       "2          0.962495  \n",
       "3          0.963027  \n",
       "4          0.958969  "
      ]
     },
     "execution_count": 69,
     "metadata": {},
     "output_type": "execute_result"
    }
   ],
   "source": [
    "scores_chain_ab"
   ]
  },
  {
   "cell_type": "markdown",
   "id": "74f52aa6",
   "metadata": {},
   "source": [
    "### Baseline Adaboost using LabelPowerset"
   ]
  },
  {
   "cell_type": "code",
   "execution_count": null,
   "id": "bc14f5d7",
   "metadata": {},
   "outputs": [],
   "source": [
    "classifier_powerset_ab = LabelPowerset(AdaBoostClassifier(random_state=0))\n",
    "scores_powerset_ab = model_evaluation(classifier_powerset_ab, selected_train)"
   ]
  },
  {
   "cell_type": "markdown",
   "id": "1c75421e",
   "metadata": {},
   "source": [
    "## XGBoost"
   ]
  },
  {
   "cell_type": "markdown",
   "id": "b8e70907",
   "metadata": {},
   "source": [
    "### Baseline XGboost using BinaryRelevance"
   ]
  },
  {
   "cell_type": "code",
   "execution_count": null,
   "id": "7d359254",
   "metadata": {},
   "outputs": [],
   "source": [
    "classifier = BinaryRelevance(XGBClassifier(random_state=0))\n",
    "scores = model_evaluation(classifier, selected_train)"
   ]
  },
  {
   "cell_type": "markdown",
   "id": "bc6f08eb",
   "metadata": {},
   "source": [
    "### Baseline XGboost using ClassifierChain"
   ]
  },
  {
   "cell_type": "code",
   "execution_count": null,
   "id": "ab41fc4f",
   "metadata": {},
   "outputs": [],
   "source": [
    "classifier_chain = ClassifierChain(XGBClassifier(random_state=0))\n",
    "scores_chain = model_evaluation(classifier_chain, selected_train)"
   ]
  },
  {
   "cell_type": "markdown",
   "id": "64c69b9b",
   "metadata": {},
   "source": [
    "### Baseline XGboost using LabelPowerset"
   ]
  },
  {
   "cell_type": "code",
   "execution_count": null,
   "id": "d856af37",
   "metadata": {},
   "outputs": [],
   "source": [
    "classifier_powerset = LabelPowerset(XGBClassifier(random_state=0))\n",
    "scores_powerset = model_evaluation(classifier_powerset, selected_train)"
   ]
  },
  {
   "cell_type": "markdown",
   "id": "547341f5",
   "metadata": {},
   "source": [
    "### Tuned XGboost using BinaryRelevance"
   ]
  },
  {
   "cell_type": "code",
   "execution_count": null,
   "id": "c00751b5",
   "metadata": {},
   "outputs": [],
   "source": [
    "classifier_tuned = BinaryRelevance(XGBClassifier(random_state=0, scale_pos_weight=5, max_depth=8, min_child_weight=3, gamma=0.4, colsample_bytree=1.0, subsample=1.0))\n",
    "scores_tuned = model_evaluation(classifier_tuned, selected_train)"
   ]
  }
 ],
 "metadata": {
  "kernelspec": {
   "display_name": "Python 3 (ipykernel)",
   "language": "python",
   "name": "python3"
  },
  "language_info": {
   "codemirror_mode": {
    "name": "ipython",
    "version": 3
   },
   "file_extension": ".py",
   "mimetype": "text/x-python",
   "name": "python",
   "nbconvert_exporter": "python",
   "pygments_lexer": "ipython3",
   "version": "3.10.0"
  }
 },
 "nbformat": 4,
 "nbformat_minor": 5
}
