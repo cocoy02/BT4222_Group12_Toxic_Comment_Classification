{
 "cells": [
  {
   "cell_type": "code",
   "execution_count": 19,
   "id": "4113ad84",
   "metadata": {},
   "outputs": [],
   "source": [
    "import pandas as pd\n",
    "\n",
    "#for oversampling & undersampling\n",
    "from imblearn.over_sampling import RandomOverSampler\n",
    "from imblearn.under_sampling import RandomUnderSampler\n",
    "from collections import Counter\n",
    "\n",
    "#For visualisation\n",
    "import matplotlib.pyplot as plt\n",
    "import seaborn as sns"
   ]
  },
  {
   "cell_type": "code",
   "execution_count": 20,
   "id": "ba030369",
   "metadata": {},
   "outputs": [],
   "source": [
    "#Load data\n",
    "selected_train = pd.read_csv('Data/selected_train.csv')\n",
    "cleaned_train = pd.read_csv('Data/cleaned_train.csv')"
   ]
  },
  {
   "cell_type": "code",
   "execution_count": 21,
   "id": "9633817c",
   "metadata": {},
   "outputs": [
    {
     "name": "stdout",
     "output_type": "stream",
     "text": [
      "(159571, 48)\n",
      "(159571, 10)\n"
     ]
    }
   ],
   "source": [
    "print(selected_train.shape)\n",
    "print(cleaned_train.shape)"
   ]
  },
  {
   "cell_type": "code",
   "execution_count": 22,
   "id": "d32f09e7",
   "metadata": {},
   "outputs": [],
   "source": [
    "#Concatenate clean_text column to selected_train dataset\n",
    "selected_train = pd.concat([selected_train, cleaned_train['clean_text']], axis = 1)"
   ]
  },
  {
   "cell_type": "code",
   "execution_count": 49,
   "id": "7234e61e",
   "metadata": {},
   "outputs": [],
   "source": [
    "def Oversample(df, cat):\n",
    "    X_train = df.drop(cat, axis = 1)\n",
    "    y_train = df[cat]\n",
    "\n",
    "    ros = RandomOverSampler(random_state=0, sampling_strategy=0.5)\n",
    "    X_train_ros, y_train_ros= ros.fit_resample(X_train, y_train)\n",
    "\n",
    "    # Check the number of records after over sampling\n",
    "    print(X_train_ros.shape)\n",
    "    print(sorted(Counter(y_train_ros).items()))\n",
    "\n",
    "    #Concatenate X_train and y_train\n",
    "    train_oversampled = pd.concat([X_train_ros,  y_train_ros], axis=1)\n",
    "    return train_oversampled"
   ]
  },
  {
   "cell_type": "code",
   "execution_count": 53,
   "id": "36d267a7",
   "metadata": {},
   "outputs": [
    {
     "name": "stdout",
     "output_type": "stream",
     "text": [
      "(238639, 48)\n",
      "[(0, 159093), (1, 79546)]\n",
      "(331663, 48)\n",
      "[(0, 221109), (1, 110554)]\n",
      "(421989, 48)\n",
      "[(0, 281326), (1, 140663)]\n"
     ]
    }
   ],
   "source": [
    "cats = ['threat', 'identity_hate', 'severe_toxic', 'toxic']\n",
    "\n",
    "train_oversampled = Oversample(selected_train, cats[0])\n",
    "train_oversampled = Oversample(train_oversampled, cats[1])\n",
    "train_oversampled = Oversample(train_oversampled, cats[2])"
   ]
  },
  {
   "cell_type": "code",
   "execution_count": 54,
   "id": "aa2dc739",
   "metadata": {},
   "outputs": [
    {
     "data": {
      "image/png": "[encoded data removed]",
      "text/plain": [
       "<Figure size 1080x576 with 1 Axes>"
      ]
     },
     "metadata": {
      "needs_background": "light"
     },
     "output_type": "display_data"
    }
   ],
   "source": [
    "colors_ = [\"deep blue\",\"blue\", \"teal\", \"lightblue\", \"darkblue\", \"purple\"]\n",
    "\n",
    "palette= sns.xkcd_palette(colors_)\n",
    "\n",
    "x = train_oversampled[['toxic','severe_toxic','obscene','threat','insult','identity_hate']].sum()\n",
    "\n",
    "plt.figure(figsize=(15,8))\n",
    "\n",
    "ax= sns.barplot(x=x.index,y=x.values,palette=palette)\n",
    "plt.title(\"Comment Category Distribution in Training set after Oversampling\")\n",
    "plt.xlabel('Label ')\n",
    "plt.ylabel('No. of comments', fontsize=11)\n",
    "\n",
    "patch = ax.patches\n",
    "labels = x.values\n",
    "for rect, label in zip(patch, labels):\n",
    "    height = rect.get_height()\n",
    "    ax.text(rect.get_x() + rect.get_width()/2, height + 10, label, va='bottom',ha='center')\n",
    "\n",
    "plt.show()"
   ]
  },
  {
   "cell_type": "code",
   "execution_count": 55,
   "id": "9788dc5c",
   "metadata": {},
   "outputs": [],
   "source": [
    "train_oversampled.to_csv('Data/train_oversampled.csv', index=False)"
   ]
  }
 ],
 "metadata": {
  "kernelspec": {
   "display_name": "Python 3 (ipykernel)",
   "language": "python",
   "name": "python3"
  },
  "language_info": {
   "codemirror_mode": {
    "name": "ipython",
    "version": 3
   },
   "file_extension": ".py",
   "mimetype": "text/x-python",
   "name": "python",
   "nbconvert_exporter": "python",
   "pygments_lexer": "ipython3",
   "version": "3.9.7"
  }
 },
 "nbformat": 4,
 "nbformat_minor": 5
}
