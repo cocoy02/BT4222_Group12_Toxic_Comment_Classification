{
 "cells": [
  {
   "cell_type": "code",
   "execution_count": 19,
   "id": "4113ad84",
   "metadata": {},
   "outputs": [],
   "source": [
    "import pandas as pd\n",
    "\n",
    "#for oversampling & undersampling\n",
    "from imblearn.over_sampling import RandomOverSampler\n",
    "from imblearn.under_sampling import RandomUnderSampler\n",
    "from collections import Counter\n",
    "\n",
    "#For visualisation\n",
    "import matplotlib.pyplot as plt\n",
    "import seaborn as sns"
   ]
  },
  {
   "cell_type": "code",
   "execution_count": 20,
   "id": "ba030369",
   "metadata": {},
   "outputs": [],
   "source": [
    "#Load data\n",
    "selected_train = pd.read_csv('Data/selected_train.csv')\n",
    "cleaned_train = pd.read_csv('Data/cleaned_train.csv')"
   ]
  },
  {
   "cell_type": "code",
   "execution_count": 21,
   "id": "9633817c",
   "metadata": {},
   "outputs": [
    {
     "name": "stdout",
     "output_type": "stream",
     "text": [
      "(159571, 48)\n",
      "(159571, 10)\n"
     ]
    }
   ],
   "source": [
    "print(selected_train.shape)\n",
    "print(cleaned_train.shape)"
   ]
  },
  {
   "cell_type": "code",
   "execution_count": 22,
   "id": "d32f09e7",
   "metadata": {},
   "outputs": [],
   "source": [
    "#Concatenate clean_text column to selected_train dataset\n",
    "selected_train = pd.concat([selected_train, cleaned_train['clean_text']], axis = 1)"
   ]
  },
  {
   "cell_type": "code",
   "execution_count": 49,
   "id": "7234e61e",
   "metadata": {},
   "outputs": [],
   "source": [
    "def Oversample(df, cat):\n",
    "    X_train = df.drop(cat, axis = 1)\n",
    "    y_train = df[cat]\n",
    "\n",
    "    ros = RandomOverSampler(random_state=0, sampling_strategy=0.5)\n",
    "    X_train_ros, y_train_ros= ros.fit_resample(X_train, y_train)\n",
    "\n",
    "    # Check the number of records after over sampling\n",
    "    print(X_train_ros.shape)\n",
    "    print(sorted(Counter(y_train_ros).items()))\n",
    "\n",
    "    #Concatenate X_train and y_train\n",
    "    train_oversampled = pd.concat([X_train_ros,  y_train_ros], axis=1)\n",
    "    return train_oversampled"
   ]
  },
  {
   "cell_type": "code",
   "execution_count": 53,
   "id": "36d267a7",
   "metadata": {},
   "outputs": [
    {
     "name": "stdout",
     "output_type": "stream",
     "text": [
      "(238639, 48)\n",
      "[(0, 159093), (1, 79546)]\n",
      "(331663, 48)\n",
      "[(0, 221109), (1, 110554)]\n",
      "(421989, 48)\n",
      "[(0, 281326), (1, 140663)]\n"
     ]
    }
   ],
   "source": [
    "cats = ['threat', 'identity_hate', 'severe_toxic', 'toxic']\n",
    "\n",
    "train_oversampled = Oversample(selected_train, cats[0])\n",
    "train_oversampled = Oversample(train_oversampled, cats[1])\n",
    "train_oversampled = Oversample(train_oversampled, cats[2])"
   ]
  },
  {
   "cell_type": "code",
   "execution_count": 54,
   "id": "aa2dc739",
   "metadata": {},
   "outputs": [
    {
     "data": {
      "image/png": "[encoded data removed]",
      "text/plain": [
       "<Figure size 1080x576 with 1 Axes>"
      ]
     },
     "metadata": {
      "needs_background": "light"
     },
     "output_type": "display_data"
    }
   ],
   "source": [
    "colors_ = [\"deep blue\",\"blue\", \"teal\", \"lightblue\", \"darkblue\", \"purple\"]\n",
    "\n",
    "palette= sns.xkcd_palette(colors_)\n",
    "\n",
    "x = train_oversampled[['toxic','severe_toxic','obscene','threat','insult','identity_hate']].sum()\n",
    "\n",
    "plt.figure(figsize=(15,8))\n",
    "\n",
    "ax= sns.barplot(x=x.index,y=x.values,palette=palette)\n",
    "plt.title(\"Comment Category Distribution in Training set after Oversampling\")\n",
    "plt.xlabel('Label ')\n",
    "plt.ylabel('No. of comments', fontsize=11)\n",
    "\n",
    "patch = ax.patches\n",
    "labels = x.values\n",
    "for rect, label in zip(patch, labels):\n",
    "    height = rect.get_height()\n",
    "    ax.text(rect.get_x() + rect.get_width()/2, height + 10, label, va='bottom',ha='center')\n",
    "\n",
    "plt.show()"
   ]
  },
  {
   "cell_type": "code",
   "execution_count": 55,
   "id": "9788dc5c",
   "metadata": {},
   "outputs": [],
   "source": [
    "train_oversampled.to_csv('Data/train_oversampled.csv', index=False)"
   ]
  },
  {
   "cell_type": "markdown",
   "id": "8e295fef",
   "metadata": {},
   "source": [
    "## Logistic Regression & Random Forest"
   ]
  },
  {
   "cell_type": "code",
   "execution_count": 8,
   "id": "6daedbe8",
   "metadata": {},
   "outputs": [],
   "source": [
    "oversampled_train = pd.read_csv('Data/train_oversampled.csv')"
   ]
  },
  {
   "cell_type": "code",
   "execution_count": 9,
   "id": "e58254e7",
   "metadata": {},
   "outputs": [
    {
     "name": "stdout",
     "output_type": "stream",
     "text": [
      "(421989, 49)\n"
     ]
    },
    {
     "data": {
      "text/html": [
       "<div>\n",
       "<style scoped>\n",
       "    .dataframe tbody tr th:only-of-type {\n",
       "        vertical-align: middle;\n",
       "    }\n",
       "\n",
       "    .dataframe tbody tr th {\n",
       "        vertical-align: top;\n",
       "    }\n",
       "\n",
       "    .dataframe thead th {\n",
       "        text-align: right;\n",
       "    }\n",
       "</style>\n",
       "<table border=\"1\" class=\"dataframe\">\n",
       "  <thead>\n",
       "    <tr style=\"text-align: right;\">\n",
       "      <th></th>\n",
       "      <th>toxic</th>\n",
       "      <th>obscene</th>\n",
       "      <th>insult</th>\n",
       "      <th>none</th>\n",
       "      <th>min_length_scaled</th>\n",
       "      <th>num_words_vs_length</th>\n",
       "      <th>exclamation_marks_vs_length</th>\n",
       "      <th>num_unique_words_scaled</th>\n",
       "      <th>verbs_vs_length</th>\n",
       "      <th>num_uppercase_scaled</th>\n",
       "      <th>...</th>\n",
       "      <th>139</th>\n",
       "      <th>143</th>\n",
       "      <th>156</th>\n",
       "      <th>157</th>\n",
       "      <th>170</th>\n",
       "      <th>198</th>\n",
       "      <th>clean_text</th>\n",
       "      <th>threat</th>\n",
       "      <th>identity_hate</th>\n",
       "      <th>severe_toxic</th>\n",
       "    </tr>\n",
       "  </thead>\n",
       "  <tbody>\n",
       "    <tr>\n",
       "      <th>0</th>\n",
       "      <td>0</td>\n",
       "      <td>0</td>\n",
       "      <td>0</td>\n",
       "      <td>1</td>\n",
       "      <td>0.009393</td>\n",
       "      <td>0.181132</td>\n",
       "      <td>0.000000</td>\n",
       "      <td>0.106329</td>\n",
       "      <td>0.041509</td>\n",
       "      <td>0.003426</td>\n",
       "      <td>...</td>\n",
       "      <td>-0.109984</td>\n",
       "      <td>0.089084</td>\n",
       "      <td>0.012651</td>\n",
       "      <td>-0.019501</td>\n",
       "      <td>-0.091946</td>\n",
       "      <td>-0.113697</td>\n",
       "      <td>explanation why the edits made under my userna...</td>\n",
       "      <td>0</td>\n",
       "      <td>0</td>\n",
       "      <td>0</td>\n",
       "    </tr>\n",
       "    <tr>\n",
       "      <th>1</th>\n",
       "      <td>0</td>\n",
       "      <td>0</td>\n",
       "      <td>0</td>\n",
       "      <td>1</td>\n",
       "      <td>0.000723</td>\n",
       "      <td>0.160714</td>\n",
       "      <td>0.008929</td>\n",
       "      <td>0.043038</td>\n",
       "      <td>0.026786</td>\n",
       "      <td>0.001612</td>\n",
       "      <td>...</td>\n",
       "      <td>0.000094</td>\n",
       "      <td>0.021135</td>\n",
       "      <td>0.039308</td>\n",
       "      <td>-0.067295</td>\n",
       "      <td>-0.079366</td>\n",
       "      <td>-0.044959</td>\n",
       "      <td>d'aww! he matches this background colour i am ...</td>\n",
       "      <td>0</td>\n",
       "      <td>0</td>\n",
       "      <td>0</td>\n",
       "    </tr>\n",
       "    <tr>\n",
       "      <th>2</th>\n",
       "      <td>0</td>\n",
       "      <td>0</td>\n",
       "      <td>0</td>\n",
       "      <td>1</td>\n",
       "      <td>0.007225</td>\n",
       "      <td>0.188841</td>\n",
       "      <td>0.000000</td>\n",
       "      <td>0.091139</td>\n",
       "      <td>0.038627</td>\n",
       "      <td>0.000806</td>\n",
       "      <td>...</td>\n",
       "      <td>-0.146134</td>\n",
       "      <td>0.109907</td>\n",
       "      <td>0.036539</td>\n",
       "      <td>-0.053628</td>\n",
       "      <td>0.027530</td>\n",
       "      <td>-0.211230</td>\n",
       "      <td>hey man, i am really not trying to edit war. i...</td>\n",
       "      <td>0</td>\n",
       "      <td>0</td>\n",
       "      <td>0</td>\n",
       "    </tr>\n",
       "    <tr>\n",
       "      <th>3</th>\n",
       "      <td>0</td>\n",
       "      <td>0</td>\n",
       "      <td>0</td>\n",
       "      <td>1</td>\n",
       "      <td>0.007948</td>\n",
       "      <td>0.175719</td>\n",
       "      <td>0.000000</td>\n",
       "      <td>0.141772</td>\n",
       "      <td>0.036741</td>\n",
       "      <td>0.002217</td>\n",
       "      <td>...</td>\n",
       "      <td>-0.214832</td>\n",
       "      <td>0.177560</td>\n",
       "      <td>0.007675</td>\n",
       "      <td>-0.087473</td>\n",
       "      <td>0.106848</td>\n",
       "      <td>-0.015987</td>\n",
       "      <td>\" more i cannot make any real suggestions on i...</td>\n",
       "      <td>0</td>\n",
       "      <td>0</td>\n",
       "      <td>0</td>\n",
       "    </tr>\n",
       "    <tr>\n",
       "      <th>4</th>\n",
       "      <td>0</td>\n",
       "      <td>0</td>\n",
       "      <td>0</td>\n",
       "      <td>1</td>\n",
       "      <td>0.003613</td>\n",
       "      <td>0.208955</td>\n",
       "      <td>0.000000</td>\n",
       "      <td>0.027848</td>\n",
       "      <td>0.059701</td>\n",
       "      <td>0.000403</td>\n",
       "      <td>...</td>\n",
       "      <td>-0.221076</td>\n",
       "      <td>0.163578</td>\n",
       "      <td>-0.068310</td>\n",
       "      <td>-0.031184</td>\n",
       "      <td>-0.017280</td>\n",
       "      <td>0.038566</td>\n",
       "      <td>you, sir, are my hero. any chance you remember...</td>\n",
       "      <td>0</td>\n",
       "      <td>0</td>\n",
       "      <td>0</td>\n",
       "    </tr>\n",
       "  </tbody>\n",
       "</table>\n",
       "<p>5 rows × 49 columns</p>\n",
       "</div>"
      ],
      "text/plain": [
       "   toxic  obscene  insult  none  min_length_scaled  num_words_vs_length  \\\n",
       "0      0        0       0     1           0.009393             0.181132   \n",
       "1      0        0       0     1           0.000723             0.160714   \n",
       "2      0        0       0     1           0.007225             0.188841   \n",
       "3      0        0       0     1           0.007948             0.175719   \n",
       "4      0        0       0     1           0.003613             0.208955   \n",
       "\n",
       "   exclamation_marks_vs_length  num_unique_words_scaled  verbs_vs_length  \\\n",
       "0                     0.000000                 0.106329         0.041509   \n",
       "1                     0.008929                 0.043038         0.026786   \n",
       "2                     0.000000                 0.091139         0.038627   \n",
       "3                     0.000000                 0.141772         0.036741   \n",
       "4                     0.000000                 0.027848         0.059701   \n",
       "\n",
       "   num_uppercase_scaled  ...       139       143       156       157  \\\n",
       "0              0.003426  ... -0.109984  0.089084  0.012651 -0.019501   \n",
       "1              0.001612  ...  0.000094  0.021135  0.039308 -0.067295   \n",
       "2              0.000806  ... -0.146134  0.109907  0.036539 -0.053628   \n",
       "3              0.002217  ... -0.214832  0.177560  0.007675 -0.087473   \n",
       "4              0.000403  ... -0.221076  0.163578 -0.068310 -0.031184   \n",
       "\n",
       "        170       198                                         clean_text  \\\n",
       "0 -0.091946 -0.113697  explanation why the edits made under my userna...   \n",
       "1 -0.079366 -0.044959  d'aww! he matches this background colour i am ...   \n",
       "2  0.027530 -0.211230  hey man, i am really not trying to edit war. i...   \n",
       "3  0.106848 -0.015987  \" more i cannot make any real suggestions on i...   \n",
       "4 -0.017280  0.038566  you, sir, are my hero. any chance you remember...   \n",
       "\n",
       "   threat  identity_hate  severe_toxic  \n",
       "0       0              0             0  \n",
       "1       0              0             0  \n",
       "2       0              0             0  \n",
       "3       0              0             0  \n",
       "4       0              0             0  \n",
       "\n",
       "[5 rows x 49 columns]"
      ]
     },
     "execution_count": 9,
     "metadata": {},
     "output_type": "execute_result"
    }
   ],
   "source": [
    "print(oversampled_train.shape)\n",
    "oversampled_train.head()"
   ]
  },
  {
   "cell_type": "code",
   "execution_count": 10,
   "id": "86c2cfde",
   "metadata": {},
   "outputs": [],
   "source": [
    "# logistic regression\n",
    "classifier_over = MultiOutputClassifier(LogisticRegression(max_iter=10000))\n",
    "# train\n",
    "classifier_over.fit(oversampled_train[features], oversampled_train[labels])\n",
    "# predict\n",
    "predictions_over = classifier_over.predict(oversampled_train[features])"
   ]
  },
  {
   "cell_type": "code",
   "execution_count": 11,
   "id": "507b546e",
   "metadata": {},
   "outputs": [],
   "source": [
    "# predict probability\n",
    "predictions_proba_log_ovr_over = classifier_over.predict_proba(oversampled_train[features])"
   ]
  },
  {
   "cell_type": "code",
   "execution_count": 16,
   "id": "c7588e11",
   "metadata": {},
   "outputs": [
    {
     "name": "stdout",
     "output_type": "stream",
     "text": [
      "Accuracy score:  0.6146108073907139\n",
      "Precision score:  0.9004191406353675\n",
      "Recall score:  0.91221551936062\n",
      "F1 score:  0.9061222418446149\n"
     ]
    }
   ],
   "source": [
    "# model evaluation overall score\n",
    "get_overall_evaluation_score(oversampled_train[labels], predictions_over)"
   ]
  },
  {
   "cell_type": "code",
   "execution_count": 18,
   "id": "ef4fbfaf",
   "metadata": {},
   "outputs": [
    {
     "name": "stdout",
     "output_type": "stream",
     "text": [
      "Accuracy score:  0.7821282315796055\n",
      "Precision score:  0.3927793290075892\n",
      "Recall score:  0.706028417712788\n",
      "F1 score:  0.4965676475667567\n"
     ]
    }
   ],
   "source": [
    "# on test data\n",
    "predictions_over_test = classifier_over.predict(selected_test[features])\n",
    "# model evaluation overall score\n",
    "get_overall_evaluation_score(selected_test[labels], predictions_over_test)"
   ]
  },
  {
   "cell_type": "markdown",
   "id": "02348c7b",
   "metadata": {},
   "source": [
    "The F1 score for test data using oversampled_train does not improve a lot comparing with using unsampled data (0.4407). In case of overfitting issue, we would not use oversampled_train in building logistic regression model."
   ]
  },
  {
   "cell_type": "code",
   "execution_count": 78,
   "id": "acf5b39c",
   "metadata": {},
   "outputs": [
    {
     "name": "stdout",
     "output_type": "stream",
     "text": [
      "Accuracy score:  0.9780563000457357\n",
      "Precision score:  0.9983590890341083\n",
      "Recall score:  0.9910507879416735\n",
      "F1 score:  0.9946728284828051\n"
     ]
    }
   ],
   "source": [
    "# random forest\n",
    "classifier_rf = RandomForestClassifier(random_state = 0,class_weight='balanced',n_estimators=100,max_depth = 15)\n",
    "classifier_rf.fit(oversampled_train[features], oversampled_train[labels])\n",
    "predictions_rf = classifier_rf.predict(oversampled_train[features])\n",
    "# model evaluation overall score\n",
    "get_overall_evaluation_score(oversampled_train[labels], predictions_rf)"
   ]
  },
  {
   "cell_type": "markdown",
   "id": "b7a81d4e",
   "metadata": {},
   "source": [
    "The F1 score for test data using oversampled_train is obviously overfitted, hence we would not use oversampled_train in building random forest model."
   ]
  },
  {
   "cell_type": "markdown",
   "id": "f32f7d53",
   "metadata": {},
   "source": [
    "## LGBM & Naive Bayes"
   ]
  },
  {
   "cell_type": "code",
   "execution_count": 10,
   "id": "2477b09a",
   "metadata": {},
   "outputs": [],
   "source": [
    "oversampled_train = pd.read_csv('Data/train_oversampled.csv')"
   ]
  },
  {
   "cell_type": "code",
   "execution_count": 11,
   "id": "54820ca2",
   "metadata": {},
   "outputs": [
    {
     "data": {
      "text/html": [
       "<div>\n",
       "<style scoped>\n",
       "    .dataframe tbody tr th:only-of-type {\n",
       "        vertical-align: middle;\n",
       "    }\n",
       "\n",
       "    .dataframe tbody tr th {\n",
       "        vertical-align: top;\n",
       "    }\n",
       "\n",
       "    .dataframe thead th {\n",
       "        text-align: right;\n",
       "    }\n",
       "</style>\n",
       "<table border=\"1\" class=\"dataframe\">\n",
       "  <thead>\n",
       "    <tr style=\"text-align: right;\">\n",
       "      <th></th>\n",
       "      <th>toxic</th>\n",
       "      <th>obscene</th>\n",
       "      <th>insult</th>\n",
       "      <th>none</th>\n",
       "      <th>min_length_scaled</th>\n",
       "      <th>num_words_vs_length</th>\n",
       "      <th>exclamation_marks_vs_length</th>\n",
       "      <th>num_unique_words_scaled</th>\n",
       "      <th>verbs_vs_length</th>\n",
       "      <th>num_uppercase_scaled</th>\n",
       "      <th>...</th>\n",
       "      <th>139</th>\n",
       "      <th>143</th>\n",
       "      <th>156</th>\n",
       "      <th>157</th>\n",
       "      <th>170</th>\n",
       "      <th>198</th>\n",
       "      <th>clean_text</th>\n",
       "      <th>threat</th>\n",
       "      <th>identity_hate</th>\n",
       "      <th>severe_toxic</th>\n",
       "    </tr>\n",
       "  </thead>\n",
       "  <tbody>\n",
       "    <tr>\n",
       "      <th>0</th>\n",
       "      <td>0</td>\n",
       "      <td>0</td>\n",
       "      <td>0</td>\n",
       "      <td>1</td>\n",
       "      <td>0.009393</td>\n",
       "      <td>0.181132</td>\n",
       "      <td>0.000000</td>\n",
       "      <td>0.106329</td>\n",
       "      <td>0.041509</td>\n",
       "      <td>0.003426</td>\n",
       "      <td>...</td>\n",
       "      <td>-0.109984</td>\n",
       "      <td>0.089084</td>\n",
       "      <td>0.012651</td>\n",
       "      <td>-0.019501</td>\n",
       "      <td>-0.091946</td>\n",
       "      <td>-0.113697</td>\n",
       "      <td>explanation why the edits made under my userna...</td>\n",
       "      <td>0</td>\n",
       "      <td>0</td>\n",
       "      <td>0</td>\n",
       "    </tr>\n",
       "    <tr>\n",
       "      <th>1</th>\n",
       "      <td>0</td>\n",
       "      <td>0</td>\n",
       "      <td>0</td>\n",
       "      <td>1</td>\n",
       "      <td>0.000723</td>\n",
       "      <td>0.160714</td>\n",
       "      <td>0.008929</td>\n",
       "      <td>0.043038</td>\n",
       "      <td>0.026786</td>\n",
       "      <td>0.001612</td>\n",
       "      <td>...</td>\n",
       "      <td>0.000094</td>\n",
       "      <td>0.021135</td>\n",
       "      <td>0.039308</td>\n",
       "      <td>-0.067295</td>\n",
       "      <td>-0.079366</td>\n",
       "      <td>-0.044959</td>\n",
       "      <td>d'aww! he matches this background colour i am ...</td>\n",
       "      <td>0</td>\n",
       "      <td>0</td>\n",
       "      <td>0</td>\n",
       "    </tr>\n",
       "    <tr>\n",
       "      <th>2</th>\n",
       "      <td>0</td>\n",
       "      <td>0</td>\n",
       "      <td>0</td>\n",
       "      <td>1</td>\n",
       "      <td>0.007225</td>\n",
       "      <td>0.188841</td>\n",
       "      <td>0.000000</td>\n",
       "      <td>0.091139</td>\n",
       "      <td>0.038627</td>\n",
       "      <td>0.000806</td>\n",
       "      <td>...</td>\n",
       "      <td>-0.146134</td>\n",
       "      <td>0.109907</td>\n",
       "      <td>0.036539</td>\n",
       "      <td>-0.053628</td>\n",
       "      <td>0.027530</td>\n",
       "      <td>-0.211230</td>\n",
       "      <td>hey man, i am really not trying to edit war. i...</td>\n",
       "      <td>0</td>\n",
       "      <td>0</td>\n",
       "      <td>0</td>\n",
       "    </tr>\n",
       "    <tr>\n",
       "      <th>3</th>\n",
       "      <td>0</td>\n",
       "      <td>0</td>\n",
       "      <td>0</td>\n",
       "      <td>1</td>\n",
       "      <td>0.007948</td>\n",
       "      <td>0.175719</td>\n",
       "      <td>0.000000</td>\n",
       "      <td>0.141772</td>\n",
       "      <td>0.036741</td>\n",
       "      <td>0.002217</td>\n",
       "      <td>...</td>\n",
       "      <td>-0.214832</td>\n",
       "      <td>0.177560</td>\n",
       "      <td>0.007675</td>\n",
       "      <td>-0.087473</td>\n",
       "      <td>0.106848</td>\n",
       "      <td>-0.015987</td>\n",
       "      <td>\" more i cannot make any real suggestions on i...</td>\n",
       "      <td>0</td>\n",
       "      <td>0</td>\n",
       "      <td>0</td>\n",
       "    </tr>\n",
       "    <tr>\n",
       "      <th>4</th>\n",
       "      <td>0</td>\n",
       "      <td>0</td>\n",
       "      <td>0</td>\n",
       "      <td>1</td>\n",
       "      <td>0.003613</td>\n",
       "      <td>0.208955</td>\n",
       "      <td>0.000000</td>\n",
       "      <td>0.027848</td>\n",
       "      <td>0.059701</td>\n",
       "      <td>0.000403</td>\n",
       "      <td>...</td>\n",
       "      <td>-0.221076</td>\n",
       "      <td>0.163578</td>\n",
       "      <td>-0.068310</td>\n",
       "      <td>-0.031184</td>\n",
       "      <td>-0.017280</td>\n",
       "      <td>0.038566</td>\n",
       "      <td>you, sir, are my hero. any chance you remember...</td>\n",
       "      <td>0</td>\n",
       "      <td>0</td>\n",
       "      <td>0</td>\n",
       "    </tr>\n",
       "  </tbody>\n",
       "</table>\n",
       "<p>5 rows × 49 columns</p>\n",
       "</div>"
      ],
      "text/plain": [
       "   toxic  obscene  insult  none  min_length_scaled  num_words_vs_length  \\\n",
       "0      0        0       0     1           0.009393             0.181132   \n",
       "1      0        0       0     1           0.000723             0.160714   \n",
       "2      0        0       0     1           0.007225             0.188841   \n",
       "3      0        0       0     1           0.007948             0.175719   \n",
       "4      0        0       0     1           0.003613             0.208955   \n",
       "\n",
       "   exclamation_marks_vs_length  num_unique_words_scaled  verbs_vs_length  \\\n",
       "0                     0.000000                 0.106329         0.041509   \n",
       "1                     0.008929                 0.043038         0.026786   \n",
       "2                     0.000000                 0.091139         0.038627   \n",
       "3                     0.000000                 0.141772         0.036741   \n",
       "4                     0.000000                 0.027848         0.059701   \n",
       "\n",
       "   num_uppercase_scaled  ...       139       143       156       157  \\\n",
       "0              0.003426  ... -0.109984  0.089084  0.012651 -0.019501   \n",
       "1              0.001612  ...  0.000094  0.021135  0.039308 -0.067295   \n",
       "2              0.000806  ... -0.146134  0.109907  0.036539 -0.053628   \n",
       "3              0.002217  ... -0.214832  0.177560  0.007675 -0.087473   \n",
       "4              0.000403  ... -0.221076  0.163578 -0.068310 -0.031184   \n",
       "\n",
       "        170       198                                         clean_text  \\\n",
       "0 -0.091946 -0.113697  explanation why the edits made under my userna...   \n",
       "1 -0.079366 -0.044959  d'aww! he matches this background colour i am ...   \n",
       "2  0.027530 -0.211230  hey man, i am really not trying to edit war. i...   \n",
       "3  0.106848 -0.015987  \" more i cannot make any real suggestions on i...   \n",
       "4 -0.017280  0.038566  you, sir, are my hero. any chance you remember...   \n",
       "\n",
       "   threat  identity_hate  severe_toxic  \n",
       "0       0              0             0  \n",
       "1       0              0             0  \n",
       "2       0              0             0  \n",
       "3       0              0             0  \n",
       "4       0              0             0  \n",
       "\n",
       "[5 rows x 49 columns]"
      ]
     },
     "execution_count": 11,
     "metadata": {},
     "output_type": "execute_result"
    }
   ],
   "source": [
    "oversampled_train.head()"
   ]
  },
  {
   "cell_type": "code",
   "execution_count": 12,
   "id": "e47c4576",
   "metadata": {},
   "outputs": [],
   "source": [
    "features = selected_train.columns[7:]\n",
    "labels = ['toxic', 'severe_toxic', 'obscene', 'threat', 'insult', 'identity_hate']"
   ]
  },
  {
   "cell_type": "markdown",
   "id": "a653d86f",
   "metadata": {},
   "source": [
    "### Baseline Gradient Boosting using Oversampled Data"
   ]
  },
  {
   "cell_type": "code",
   "execution_count": 88,
   "id": "750225c4",
   "metadata": {},
   "outputs": [],
   "source": [
    "over_classifier_gb = BinaryRelevance(LGBMClassifier(random_state=0))\n",
    "# train\n",
    "over_classifier_gb.fit(oversampled_train[features], oversampled_train[labels])\n",
    "# predict\n",
    "over_predictions_gb = over_classifier_gb.predict(oversampled_train[features])"
   ]
  },
  {
   "cell_type": "code",
   "execution_count": 89,
   "id": "b2eb64e2",
   "metadata": {},
   "outputs": [],
   "source": [
    "# predict probability\n",
    "over_predictions_proba_gb = over_classifier_gb.predict_proba(oversampled_train[features])"
   ]
  },
  {
   "cell_type": "code",
   "execution_count": 90,
   "id": "8cbda01a",
   "metadata": {},
   "outputs": [
    {
     "name": "stdout",
     "output_type": "stream",
     "text": [
      "Accuracy score:  0.9578733094938494\n",
      "Precision score:  0.9919831149778372\n",
      "Recall score:  0.9885839384132907\n",
      "F1 score:  0.9902750946771441\n",
      "Confusion matrix for label toxic:\n",
      "[[147310   2315]\n",
      " [  4777 267587]]\n",
      "Confusion matrix for label severe_toxic:\n",
      "[[280313   1013]\n",
      " [  1468 139195]]\n",
      "Confusion matrix for label obscene:\n",
      "[[195917   1631]\n",
      " [  2507 221934]]\n",
      "Confusion matrix for label threat:\n",
      "[[170088   1213]\n",
      " [     0 250688]]\n",
      "Confusion matrix for label insult:\n",
      "[[192575   2388]\n",
      " [  2966 224060]]\n",
      "Confusion matrix for label identity_hate:\n",
      "[[245938   1734]\n",
      " [  3003 171314]]\n",
      "Logarithmic Loss:  4.899558893409421\n",
      "ROC AUC score:  0.9992298287770203\n"
     ]
    }
   ],
   "source": [
    "# model evaluation\n",
    "get_evaluation_score(oversampled_train[labels], over_predictions_gb, over_predictions_proba_gb)"
   ]
  },
  {
   "cell_type": "code",
   "execution_count": 91,
   "id": "f2f87802",
   "metadata": {},
   "outputs": [
    {
     "name": "stdout",
     "output_type": "stream",
     "text": [
      "Accuracy score:  0.8685485635687268\n",
      "Precision score:  0.5403090661382476\n",
      "Recall score:  0.7023037660366948\n",
      "F1 score:  0.6079441038356306\n",
      "Confusion matrix for label toxic:\n",
      "[[54290  3598]\n",
      " [ 1436  4654]]\n",
      "Confusion matrix for label severe_toxic:\n",
      "[[63007   604]\n",
      " [  161   206]]\n",
      "Confusion matrix for label obscene:\n",
      "[[58444  1843]\n",
      " [ 1064  2627]]\n",
      "Confusion matrix for label threat:\n",
      "[[63196   571]\n",
      " [   82   129]]\n",
      "Confusion matrix for label insult:\n",
      "[[58778  1773]\n",
      " [ 1214  2213]]\n",
      "Confusion matrix for label identity_hate:\n",
      "[[62328   938]\n",
      " [  359   353]]\n",
      "Logarithmic Loss:  0.3095174706208548\n",
      "ROC AUC score:  0.9556650844067958\n"
     ]
    }
   ],
   "source": [
    "# evaluation on test data\n",
    "over_predictions_gb_test = over_classifier_gb.predict(selected_test[features])\n",
    "over_predictions_proba_gb_test = over_classifier_gb.predict_proba(selected_test[features])\n",
    "get_evaluation_score(selected_test[labels], over_predictions_gb_test, over_predictions_proba_gb_test)"
   ]
  },
  {
   "cell_type": "markdown",
   "id": "2f76c66c",
   "metadata": {},
   "source": [
    "Oversampled Data - Improved performance on training set, but no improvement for testing set performance."
   ]
  },
  {
   "cell_type": "markdown",
   "id": "fcc2c724",
   "metadata": {},
   "source": [
    "### Baseline Naive Bayes using Oversampled Data"
   ]
  },
  {
   "cell_type": "code",
   "execution_count": 92,
   "id": "4d4f9b18",
   "metadata": {},
   "outputs": [],
   "source": [
    "import warnings\n",
    "warnings.filterwarnings(\"ignore\")\n",
    "\n",
    "over_classifier_nb = BinaryRelevance(GaussianNB())\n",
    "# train\n",
    "over_classifier_nb.fit(oversampled_train[features], oversampled_train[labels])\n",
    "# predict\n",
    "over_predictions_nb = over_classifier_nb.predict(oversampled_train[features])"
   ]
  },
  {
   "cell_type": "code",
   "execution_count": 93,
   "id": "f3de6883",
   "metadata": {},
   "outputs": [],
   "source": [
    "# predict probability\n",
    "over_predictions_proba_nb = over_classifier_nb.predict_proba(oversampled_train[features])"
   ]
  },
  {
   "cell_type": "code",
   "execution_count": 94,
   "id": "05f92e90",
   "metadata": {},
   "outputs": [
    {
     "name": "stdout",
     "output_type": "stream",
     "text": [
      "Accuracy score:  0.5251582387218624\n",
      "Precision score:  0.8769532316152626\n",
      "Recall score:  0.7752468206644596\n",
      "F1 score:  0.8222164811156505\n",
      "Confusion matrix for label toxic:\n",
      "[[145825   3800]\n",
      " [ 31174 241190]]\n",
      "Confusion matrix for label severe_toxic:\n",
      "[[243264  38062]\n",
      " [ 41921  98742]]\n",
      "Confusion matrix for label obscene:\n",
      "[[179992  17556]\n",
      " [ 45563 178878]]\n",
      "Confusion matrix for label threat:\n",
      "[[155518  15783]\n",
      " [ 66285 184403]]\n",
      "Confusion matrix for label insult:\n",
      "[[176488  18475]\n",
      " [ 45375 181651]]\n",
      "Confusion matrix for label identity_hate:\n",
      "[[195410  52262]\n",
      " [ 59501 114816]]\n",
      "Logarithmic Loss:  8.847738013874869\n",
      "ROC AUC score:  0.9260561377095832\n"
     ]
    }
   ],
   "source": [
    "# model evaluation\n",
    "get_evaluation_score(oversampled_train[labels], over_predictions_nb, over_predictions_proba_nb)"
   ]
  },
  {
   "cell_type": "code",
   "execution_count": 95,
   "id": "0813b20e",
   "metadata": {},
   "outputs": [
    {
     "name": "stdout",
     "output_type": "stream",
     "text": [
      "Accuracy score:  0.8530588639844947\n",
      "Precision score:  0.4968336364510059\n",
      "Recall score:  0.6409159884121948\n",
      "F1 score:  0.5472951002536629\n",
      "Confusion matrix for label toxic:\n",
      "[[54362  3526]\n",
      " [ 1736  4354]]\n",
      "Confusion matrix for label severe_toxic:\n",
      "[[61457  2154]\n",
      " [  115   252]]\n",
      "Confusion matrix for label obscene:\n",
      "[[58460  1827]\n",
      " [ 1551  2140]]\n",
      "Confusion matrix for label threat:\n",
      "[[59676  4091]\n",
      " [   55   156]]\n",
      "Confusion matrix for label insult:\n",
      "[[58530  2021]\n",
      " [ 1443  1984]]\n",
      "Confusion matrix for label identity_hate:\n",
      "[[60870  2396]\n",
      " [  306   406]]\n",
      "Logarithmic Loss:  1.0061376129750363\n",
      "ROC AUC score:  0.9288408883514321\n"
     ]
    }
   ],
   "source": [
    "# evaluation on test data\n",
    "over_predictions_nb_test = over_classifier_nb.predict(selected_test[features])\n",
    "over_predictions_proba_nb_test = over_classifier_nb.predict_proba(selected_test[features])\n",
    "get_evaluation_score(selected_test[labels], over_predictions_nb_test, over_predictions_proba_nb_test)"
   ]
  },
  {
   "cell_type": "markdown",
   "id": "4fe367db",
   "metadata": {},
   "source": [
    "Oversampled Data - Improved performance on test set, but worse score for training set performance."
   ]
  },
  {
   "cell_type": "markdown",
   "id": "aa62bfb4",
   "metadata": {},
   "source": [
    "## XGBoost"
   ]
  },
  {
   "cell_type": "code",
   "execution_count": 164,
   "id": "90be9a25",
   "metadata": {},
   "outputs": [],
   "source": [
    "oversampled_train = pd.read_csv('Data/train_oversampled.csv')"
   ]
  },
  {
   "cell_type": "code",
   "execution_count": 165,
   "id": "7234ca60",
   "metadata": {},
   "outputs": [
    {
     "name": "stdout",
     "output_type": "stream",
     "text": [
      "(421989, 49)\n"
     ]
    },
    {
     "data": {
      "text/html": [
       "<div>\n",
       "<style scoped>\n",
       "    .dataframe tbody tr th:only-of-type {\n",
       "        vertical-align: middle;\n",
       "    }\n",
       "\n",
       "    .dataframe tbody tr th {\n",
       "        vertical-align: top;\n",
       "    }\n",
       "\n",
       "    .dataframe thead th {\n",
       "        text-align: right;\n",
       "    }\n",
       "</style>\n",
       "<table border=\"1\" class=\"dataframe\">\n",
       "  <thead>\n",
       "    <tr style=\"text-align: right;\">\n",
       "      <th></th>\n",
       "      <th>toxic</th>\n",
       "      <th>obscene</th>\n",
       "      <th>insult</th>\n",
       "      <th>none</th>\n",
       "      <th>min_length_scaled</th>\n",
       "      <th>num_words_vs_length</th>\n",
       "      <th>exclamation_marks_vs_length</th>\n",
       "      <th>num_unique_words_scaled</th>\n",
       "      <th>verbs_vs_length</th>\n",
       "      <th>num_uppercase_scaled</th>\n",
       "      <th>...</th>\n",
       "      <th>139</th>\n",
       "      <th>143</th>\n",
       "      <th>156</th>\n",
       "      <th>157</th>\n",
       "      <th>170</th>\n",
       "      <th>198</th>\n",
       "      <th>clean_text</th>\n",
       "      <th>threat</th>\n",
       "      <th>identity_hate</th>\n",
       "      <th>severe_toxic</th>\n",
       "    </tr>\n",
       "  </thead>\n",
       "  <tbody>\n",
       "    <tr>\n",
       "      <th>0</th>\n",
       "      <td>0</td>\n",
       "      <td>0</td>\n",
       "      <td>0</td>\n",
       "      <td>1</td>\n",
       "      <td>0.009393</td>\n",
       "      <td>0.181132</td>\n",
       "      <td>0.000000</td>\n",
       "      <td>0.106329</td>\n",
       "      <td>0.041509</td>\n",
       "      <td>0.003426</td>\n",
       "      <td>...</td>\n",
       "      <td>-0.109984</td>\n",
       "      <td>0.089084</td>\n",
       "      <td>0.012651</td>\n",
       "      <td>-0.019501</td>\n",
       "      <td>-0.091946</td>\n",
       "      <td>-0.113697</td>\n",
       "      <td>explanation why the edits made under my userna...</td>\n",
       "      <td>0</td>\n",
       "      <td>0</td>\n",
       "      <td>0</td>\n",
       "    </tr>\n",
       "    <tr>\n",
       "      <th>1</th>\n",
       "      <td>0</td>\n",
       "      <td>0</td>\n",
       "      <td>0</td>\n",
       "      <td>1</td>\n",
       "      <td>0.000723</td>\n",
       "      <td>0.160714</td>\n",
       "      <td>0.008929</td>\n",
       "      <td>0.043038</td>\n",
       "      <td>0.026786</td>\n",
       "      <td>0.001612</td>\n",
       "      <td>...</td>\n",
       "      <td>0.000094</td>\n",
       "      <td>0.021135</td>\n",
       "      <td>0.039308</td>\n",
       "      <td>-0.067295</td>\n",
       "      <td>-0.079366</td>\n",
       "      <td>-0.044959</td>\n",
       "      <td>d'aww! he matches this background colour i am ...</td>\n",
       "      <td>0</td>\n",
       "      <td>0</td>\n",
       "      <td>0</td>\n",
       "    </tr>\n",
       "    <tr>\n",
       "      <th>2</th>\n",
       "      <td>0</td>\n",
       "      <td>0</td>\n",
       "      <td>0</td>\n",
       "      <td>1</td>\n",
       "      <td>0.007225</td>\n",
       "      <td>0.188841</td>\n",
       "      <td>0.000000</td>\n",
       "      <td>0.091139</td>\n",
       "      <td>0.038627</td>\n",
       "      <td>0.000806</td>\n",
       "      <td>...</td>\n",
       "      <td>-0.146134</td>\n",
       "      <td>0.109907</td>\n",
       "      <td>0.036539</td>\n",
       "      <td>-0.053628</td>\n",
       "      <td>0.027530</td>\n",
       "      <td>-0.211230</td>\n",
       "      <td>hey man, i am really not trying to edit war. i...</td>\n",
       "      <td>0</td>\n",
       "      <td>0</td>\n",
       "      <td>0</td>\n",
       "    </tr>\n",
       "    <tr>\n",
       "      <th>3</th>\n",
       "      <td>0</td>\n",
       "      <td>0</td>\n",
       "      <td>0</td>\n",
       "      <td>1</td>\n",
       "      <td>0.007948</td>\n",
       "      <td>0.175719</td>\n",
       "      <td>0.000000</td>\n",
       "      <td>0.141772</td>\n",
       "      <td>0.036741</td>\n",
       "      <td>0.002217</td>\n",
       "      <td>...</td>\n",
       "      <td>-0.214832</td>\n",
       "      <td>0.177560</td>\n",
       "      <td>0.007675</td>\n",
       "      <td>-0.087473</td>\n",
       "      <td>0.106848</td>\n",
       "      <td>-0.015987</td>\n",
       "      <td>\" more i cannot make any real suggestions on i...</td>\n",
       "      <td>0</td>\n",
       "      <td>0</td>\n",
       "      <td>0</td>\n",
       "    </tr>\n",
       "    <tr>\n",
       "      <th>4</th>\n",
       "      <td>0</td>\n",
       "      <td>0</td>\n",
       "      <td>0</td>\n",
       "      <td>1</td>\n",
       "      <td>0.003613</td>\n",
       "      <td>0.208955</td>\n",
       "      <td>0.000000</td>\n",
       "      <td>0.027848</td>\n",
       "      <td>0.059701</td>\n",
       "      <td>0.000403</td>\n",
       "      <td>...</td>\n",
       "      <td>-0.221076</td>\n",
       "      <td>0.163578</td>\n",
       "      <td>-0.068310</td>\n",
       "      <td>-0.031184</td>\n",
       "      <td>-0.017280</td>\n",
       "      <td>0.038566</td>\n",
       "      <td>you, sir, are my hero. any chance you remember...</td>\n",
       "      <td>0</td>\n",
       "      <td>0</td>\n",
       "      <td>0</td>\n",
       "    </tr>\n",
       "  </tbody>\n",
       "</table>\n",
       "<p>5 rows × 49 columns</p>\n",
       "</div>"
      ],
      "text/plain": [
       "   toxic  obscene  insult  none  min_length_scaled  num_words_vs_length  \\\n",
       "0      0        0       0     1           0.009393             0.181132   \n",
       "1      0        0       0     1           0.000723             0.160714   \n",
       "2      0        0       0     1           0.007225             0.188841   \n",
       "3      0        0       0     1           0.007948             0.175719   \n",
       "4      0        0       0     1           0.003613             0.208955   \n",
       "\n",
       "   exclamation_marks_vs_length  num_unique_words_scaled  verbs_vs_length  \\\n",
       "0                     0.000000                 0.106329         0.041509   \n",
       "1                     0.008929                 0.043038         0.026786   \n",
       "2                     0.000000                 0.091139         0.038627   \n",
       "3                     0.000000                 0.141772         0.036741   \n",
       "4                     0.000000                 0.027848         0.059701   \n",
       "\n",
       "   num_uppercase_scaled  ...       139       143       156       157  \\\n",
       "0              0.003426  ... -0.109984  0.089084  0.012651 -0.019501   \n",
       "1              0.001612  ...  0.000094  0.021135  0.039308 -0.067295   \n",
       "2              0.000806  ... -0.146134  0.109907  0.036539 -0.053628   \n",
       "3              0.002217  ... -0.214832  0.177560  0.007675 -0.087473   \n",
       "4              0.000403  ... -0.221076  0.163578 -0.068310 -0.031184   \n",
       "\n",
       "        170       198                                         clean_text  \\\n",
       "0 -0.091946 -0.113697  explanation why the edits made under my userna...   \n",
       "1 -0.079366 -0.044959  d'aww! he matches this background colour i am ...   \n",
       "2  0.027530 -0.211230  hey man, i am really not trying to edit war. i...   \n",
       "3  0.106848 -0.015987  \" more i cannot make any real suggestions on i...   \n",
       "4 -0.017280  0.038566  you, sir, are my hero. any chance you remember...   \n",
       "\n",
       "   threat  identity_hate  severe_toxic  \n",
       "0       0              0             0  \n",
       "1       0              0             0  \n",
       "2       0              0             0  \n",
       "3       0              0             0  \n",
       "4       0              0             0  \n",
       "\n",
       "[5 rows x 49 columns]"
      ]
     },
     "execution_count": 165,
     "metadata": {},
     "output_type": "execute_result"
    }
   ],
   "source": [
    "print(oversampled_train.shape)\n",
    "oversampled_train.head()"
   ]
  },
  {
   "cell_type": "code",
   "execution_count": 4,
   "id": "1d80c321",
   "metadata": {},
   "outputs": [],
   "source": [
    "features = selected_train.columns[7:]\n",
    "labels = ['toxic', 'severe_toxic', 'obscene', 'threat', 'insult', 'identity_hate']"
   ]
  },
  {
   "cell_type": "markdown",
   "id": "06711fa8",
   "metadata": {},
   "source": [
    "### Baseline XGboost using Oversampled Data"
   ]
  },
  {
   "cell_type": "code",
   "execution_count": 167,
   "id": "08aac676",
   "metadata": {},
   "outputs": [],
   "source": [
    "classifier_over = BinaryRelevance(XGBClassifier(random_state=0))\n",
    "# train\n",
    "classifier_over.fit(oversampled_train[features], oversampled_train[labels])\n",
    "# predict\n",
    "predictions_over = classifier_over.predict(oversampled_train[features])"
   ]
  },
  {
   "cell_type": "code",
   "execution_count": 168,
   "id": "a7d2215d",
   "metadata": {},
   "outputs": [],
   "source": [
    "# predict probability\n",
    "predictions_proba_over = classifier_over.predict_proba(oversampled_train[features])"
   ]
  },
  {
   "cell_type": "code",
   "execution_count": 169,
   "id": "23e89f80",
   "metadata": {},
   "outputs": [
    {
     "name": "stdout",
     "output_type": "stream",
     "text": [
      "Accuracy score:  0.9816369621009079\n",
      "Precision score:  0.9976503470444362\n",
      "Recall score:  0.9948778556633235\n",
      "F1 score:  0.9962594671338085\n",
      "Confusion matrix for label toxic:\n",
      "[[148545   1080]\n",
      " [  3434 268930]]\n",
      "Confusion matrix for label severe_toxic:\n",
      "[[281192    134]\n",
      " [   158 140505]]\n",
      "Confusion matrix for label obscene:\n",
      "[[196894    654]\n",
      " [  1245 223196]]\n",
      "Confusion matrix for label threat:\n",
      "[[171289     12]\n",
      " [     0 250688]]\n",
      "Confusion matrix for label insult:\n",
      "[[194034    929]\n",
      " [  1601 225425]]\n",
      "Confusion matrix for label identity_hate:\n",
      "[[247465    207]\n",
      " [   167 174150]]\n",
      "Logarithmic Loss:  4.867162926431723\n",
      "ROC AUC score:  0.9997509309201982\n"
     ]
    }
   ],
   "source": [
    "# model evaluation\n",
    "get_evaluation_score(oversampled_train[labels], predictions_over, predictions_proba_over)"
   ]
  },
  {
   "cell_type": "code",
   "execution_count": 170,
   "id": "e0690a43",
   "metadata": {},
   "outputs": [
    {
     "name": "stdout",
     "output_type": "stream",
     "text": [
      "Accuracy score:  0.8719090937509769\n",
      "Precision score:  0.5578638439034245\n",
      "Recall score:  0.6776107049248172\n",
      "F1 score:  0.6099251686299402\n",
      "Confusion matrix for label toxic:\n",
      "[[54383  3505]\n",
      " [ 1449  4641]]\n",
      "Confusion matrix for label severe_toxic:\n",
      "[[63206   405]\n",
      " [  218   149]]\n",
      "Confusion matrix for label obscene:\n",
      "[[58483  1804]\n",
      " [ 1093  2598]]\n",
      "Confusion matrix for label threat:\n",
      "[[63655   112]\n",
      " [  132    79]]\n",
      "Confusion matrix for label insult:\n",
      "[[58987  1564]\n",
      " [ 1303  2124]]\n",
      "Confusion matrix for label identity_hate:\n",
      "[[62907   359]\n",
      " [  479   233]]\n",
      "Logarithmic Loss:  0.3176202046462899\n",
      "ROC AUC score:  0.9531835703680447\n"
     ]
    }
   ],
   "source": [
    "# evaluation on test data\n",
    "predictions_over_test = classifier_over.predict(selected_test[features])\n",
    "predictions_proba_over_test = classifier_over.predict_proba(selected_test[features])\n",
    "get_evaluation_score(selected_test[labels], predictions_over_test, predictions_proba_over_test)"
   ]
  },
  {
   "cell_type": "markdown",
   "id": "fc98577f",
   "metadata": {},
   "source": [
    "Improved performance on training set, but no improvement for testing set performance."
   ]
  },
  {
   "cell_type": "markdown",
   "id": "23545fd5",
   "metadata": {},
   "source": [
    "# Baseline LSTM"
   ]
  },
  {
   "cell_type": "markdown",
   "id": "4f46caad",
   "metadata": {},
   "source": [
    "The oversampled data perform not well in LSTM model"
   ]
  },
  {
   "cell_type": "code",
   "execution_count": 61,
   "id": "70d5fa08",
   "metadata": {},
   "outputs": [],
   "source": [
    "oversampled_data = pd.read_csv(\"./Data/train_oversampled.csv\")"
   ]
  },
  {
   "cell_type": "code",
   "execution_count": 63,
   "id": "0c25ce6a",
   "metadata": {},
   "outputs": [],
   "source": [
    "\n",
    "train_y = oversampled_data[['toxic', 'severe_toxic', 'obscene', 'threat', 'insult', 'identity_hate']].values\n",
    "train_x = oversampled_data['clean_text']\n",
    "\n",
    "# Vectorize text + Prepare GloVe Embedding\n",
    "tokenizer = Tokenizer(num_words=max_features, lower=True)\n",
    "tokenizer.fit_on_texts(list(train_x))\n",
    "\n",
    "train_x = tokenizer.texts_to_sequences(train_x)\n",
    "train_x = pad_sequences(train_x, maxlen=maxlen)\n"
   ]
  },
  {
   "cell_type": "code",
   "execution_count": 64,
   "id": "7eabdaad",
   "metadata": {},
   "outputs": [
    {
     "name": "stderr",
     "output_type": "stream",
     "text": [
      "2023-03-28 13:55:48.267007: I tensorflow/core/common_runtime/executor.cc:1197] [/device:CPU:0] (DEBUG INFO) Executor start aborting (this does not indicate an error and you can ignore this message): INVALID_ARGUMENT: You must feed a value for placeholder tensor 'gradients/split_2_grad/concat/split_2/split_dim' with dtype int32\n",
      "\t [[{{node gradients/split_2_grad/concat/split_2/split_dim}}]]\n",
      "2023-03-28 13:55:48.270407: I tensorflow/core/common_runtime/executor.cc:1197] [/device:CPU:0] (DEBUG INFO) Executor start aborting (this does not indicate an error and you can ignore this message): INVALID_ARGUMENT: You must feed a value for placeholder tensor 'gradients/split_grad/concat/split/split_dim' with dtype int32\n",
      "\t [[{{node gradients/split_grad/concat/split/split_dim}}]]\n",
      "2023-03-28 13:55:48.272085: I tensorflow/core/common_runtime/executor.cc:1197] [/device:CPU:0] (DEBUG INFO) Executor start aborting (this does not indicate an error and you can ignore this message): INVALID_ARGUMENT: You must feed a value for placeholder tensor 'gradients/split_1_grad/concat/split_1/split_dim' with dtype int32\n",
      "\t [[{{node gradients/split_1_grad/concat/split_1/split_dim}}]]\n",
      "2023-03-28 13:55:48.543765: I tensorflow/core/common_runtime/executor.cc:1197] [/device:CPU:0] (DEBUG INFO) Executor start aborting (this does not indicate an error and you can ignore this message): INVALID_ARGUMENT: You must feed a value for placeholder tensor 'gradients/ReverseV2_grad/ReverseV2/ReverseV2/axis' with dtype int32 and shape [1]\n",
      "\t [[{{node gradients/ReverseV2_grad/ReverseV2/ReverseV2/axis}}]]\n",
      "2023-03-28 13:55:48.626423: I tensorflow/core/common_runtime/executor.cc:1197] [/device:CPU:0] (DEBUG INFO) Executor start aborting (this does not indicate an error and you can ignore this message): INVALID_ARGUMENT: You must feed a value for placeholder tensor 'gradients/split_2_grad/concat/split_2/split_dim' with dtype int32\n",
      "\t [[{{node gradients/split_2_grad/concat/split_2/split_dim}}]]\n",
      "2023-03-28 13:55:48.628591: I tensorflow/core/common_runtime/executor.cc:1197] [/device:CPU:0] (DEBUG INFO) Executor start aborting (this does not indicate an error and you can ignore this message): INVALID_ARGUMENT: You must feed a value for placeholder tensor 'gradients/split_grad/concat/split/split_dim' with dtype int32\n",
      "\t [[{{node gradients/split_grad/concat/split/split_dim}}]]\n",
      "2023-03-28 13:55:48.630134: I tensorflow/core/common_runtime/executor.cc:1197] [/device:CPU:0] (DEBUG INFO) Executor start aborting (this does not indicate an error and you can ignore this message): INVALID_ARGUMENT: You must feed a value for placeholder tensor 'gradients/split_1_grad/concat/split_1/split_dim' with dtype int32\n",
      "\t [[{{node gradients/split_1_grad/concat/split_1/split_dim}}]]\n"
     ]
    },
    {
     "name": "stdout",
     "output_type": "stream",
     "text": [
      "Epoch 1/2\n"
     ]
    },
    {
     "name": "stderr",
     "output_type": "stream",
     "text": [
      "2023-03-28 13:55:49.328185: I tensorflow/core/common_runtime/executor.cc:1197] [/device:CPU:0] (DEBUG INFO) Executor start aborting (this does not indicate an error and you can ignore this message): INVALID_ARGUMENT: You must feed a value for placeholder tensor 'gradients/split_2_grad/concat/split_2/split_dim' with dtype int32\n",
      "\t [[{{node gradients/split_2_grad/concat/split_2/split_dim}}]]\n",
      "2023-03-28 13:55:49.329741: I tensorflow/core/common_runtime/executor.cc:1197] [/device:CPU:0] (DEBUG INFO) Executor start aborting (this does not indicate an error and you can ignore this message): INVALID_ARGUMENT: You must feed a value for placeholder tensor 'gradients/split_grad/concat/split/split_dim' with dtype int32\n",
      "\t [[{{node gradients/split_grad/concat/split/split_dim}}]]\n",
      "2023-03-28 13:55:49.332427: I tensorflow/core/common_runtime/executor.cc:1197] [/device:CPU:0] (DEBUG INFO) Executor start aborting (this does not indicate an error and you can ignore this message): INVALID_ARGUMENT: You must feed a value for placeholder tensor 'gradients/split_1_grad/concat/split_1/split_dim' with dtype int32\n",
      "\t [[{{node gradients/split_1_grad/concat/split_1/split_dim}}]]\n",
      "2023-03-28 13:55:49.596045: I tensorflow/core/common_runtime/executor.cc:1197] [/device:CPU:0] (DEBUG INFO) Executor start aborting (this does not indicate an error and you can ignore this message): INVALID_ARGUMENT: You must feed a value for placeholder tensor 'gradients/ReverseV2_grad/ReverseV2/ReverseV2/axis' with dtype int32 and shape [1]\n",
      "\t [[{{node gradients/ReverseV2_grad/ReverseV2/ReverseV2/axis}}]]\n",
      "2023-03-28 13:55:49.665467: I tensorflow/core/common_runtime/executor.cc:1197] [/device:CPU:0] (DEBUG INFO) Executor start aborting (this does not indicate an error and you can ignore this message): INVALID_ARGUMENT: You must feed a value for placeholder tensor 'gradients/split_2_grad/concat/split_2/split_dim' with dtype int32\n",
      "\t [[{{node gradients/split_2_grad/concat/split_2/split_dim}}]]\n",
      "2023-03-28 13:55:49.668660: I tensorflow/core/common_runtime/executor.cc:1197] [/device:CPU:0] (DEBUG INFO) Executor start aborting (this does not indicate an error and you can ignore this message): INVALID_ARGUMENT: You must feed a value for placeholder tensor 'gradients/split_grad/concat/split/split_dim' with dtype int32\n",
      "\t [[{{node gradients/split_grad/concat/split/split_dim}}]]\n",
      "2023-03-28 13:55:49.671884: I tensorflow/core/common_runtime/executor.cc:1197] [/device:CPU:0] (DEBUG INFO) Executor start aborting (this does not indicate an error and you can ignore this message): INVALID_ARGUMENT: You must feed a value for placeholder tensor 'gradients/split_1_grad/concat/split_1/split_dim' with dtype int32\n",
      "\t [[{{node gradients/split_1_grad/concat/split_1/split_dim}}]]\n",
      "2023-03-28 13:55:50.547321: I tensorflow/core/common_runtime/executor.cc:1197] [/device:CPU:0] (DEBUG INFO) Executor start aborting (this does not indicate an error and you can ignore this message): INVALID_ARGUMENT: You must feed a value for placeholder tensor 'gradients/ReverseV2_grad/ReverseV2/ReverseV2/axis' with dtype int32 and shape [1]\n",
      "\t [[{{node gradients/ReverseV2_grad/ReverseV2/ReverseV2/axis}}]]\n",
      "2023-03-28 13:55:51.189555: I tensorflow/core/common_runtime/executor.cc:1197] [/device:CPU:0] (DEBUG INFO) Executor start aborting (this does not indicate an error and you can ignore this message): INVALID_ARGUMENT: You must feed a value for placeholder tensor 'gradients/split_2_grad/concat/split_2/split_dim' with dtype int32\n",
      "\t [[{{node gradients/split_2_grad/concat/split_2/split_dim}}]]\n",
      "2023-03-28 13:55:51.191768: I tensorflow/core/common_runtime/executor.cc:1197] [/device:CPU:0] (DEBUG INFO) Executor start aborting (this does not indicate an error and you can ignore this message): INVALID_ARGUMENT: You must feed a value for placeholder tensor 'gradients/split_grad/concat/split/split_dim' with dtype int32\n",
      "\t [[{{node gradients/split_grad/concat/split/split_dim}}]]\n",
      "2023-03-28 13:55:51.193214: I tensorflow/core/common_runtime/executor.cc:1197] [/device:CPU:0] (DEBUG INFO) Executor start aborting (this does not indicate an error and you can ignore this message): INVALID_ARGUMENT: You must feed a value for placeholder tensor 'gradients/split_1_grad/concat/split_1/split_dim' with dtype int32\n",
      "\t [[{{node gradients/split_1_grad/concat/split_1/split_dim}}]]\n",
      "2023-03-28 13:55:51.404956: I tensorflow/core/common_runtime/executor.cc:1197] [/device:CPU:0] (DEBUG INFO) Executor start aborting (this does not indicate an error and you can ignore this message): INVALID_ARGUMENT: You must feed a value for placeholder tensor 'gradients/ReverseV2_grad/ReverseV2/ReverseV2/axis' with dtype int32 and shape [1]\n",
      "\t [[{{node gradients/ReverseV2_grad/ReverseV2/ReverseV2/axis}}]]\n",
      "2023-03-28 13:55:51.503034: I tensorflow/core/common_runtime/executor.cc:1197] [/device:CPU:0] (DEBUG INFO) Executor start aborting (this does not indicate an error and you can ignore this message): INVALID_ARGUMENT: You must feed a value for placeholder tensor 'gradients/split_2_grad/concat/split_2/split_dim' with dtype int32\n",
      "\t [[{{node gradients/split_2_grad/concat/split_2/split_dim}}]]\n",
      "2023-03-28 13:55:51.504910: I tensorflow/core/common_runtime/executor.cc:1197] [/device:CPU:0] (DEBUG INFO) Executor start aborting (this does not indicate an error and you can ignore this message): INVALID_ARGUMENT: You must feed a value for placeholder tensor 'gradients/split_grad/concat/split/split_dim' with dtype int32\n",
      "\t [[{{node gradients/split_grad/concat/split/split_dim}}]]\n",
      "2023-03-28 13:55:51.507201: I tensorflow/core/common_runtime/executor.cc:1197] [/device:CPU:0] (DEBUG INFO) Executor start aborting (this does not indicate an error and you can ignore this message): INVALID_ARGUMENT: You must feed a value for placeholder tensor 'gradients/split_1_grad/concat/split_1/split_dim' with dtype int32\n",
      "\t [[{{node gradients/split_1_grad/concat/split_1/split_dim}}]]\n",
      "2023-03-28 13:55:52.164245: I tensorflow/core/common_runtime/executor.cc:1197] [/device:CPU:0] (DEBUG INFO) Executor start aborting (this does not indicate an error and you can ignore this message): INVALID_ARGUMENT: You must feed a value for placeholder tensor 'gradients/ReverseV2_grad/ReverseV2/ReverseV2/axis' with dtype int32 and shape [1]\n",
      "\t [[{{node gradients/ReverseV2_grad/ReverseV2/ReverseV2/axis}}]]\n"
     ]
    },
    {
     "name": "stdout",
     "output_type": "stream",
     "text": [
      "11869/11869 [==============================] - ETA: 0s - loss: 0.0480 - accuracy: 0.8754"
     ]
    },
    {
     "name": "stderr",
     "output_type": "stream",
     "text": [
      "2023-03-28 14:07:12.279982: I tensorflow/core/common_runtime/executor.cc:1197] [/device:CPU:0] (DEBUG INFO) Executor start aborting (this does not indicate an error and you can ignore this message): INVALID_ARGUMENT: You must feed a value for placeholder tensor 'gradients/split_2_grad/concat/split_2/split_dim' with dtype int32\n",
      "\t [[{{node gradients/split_2_grad/concat/split_2/split_dim}}]]\n",
      "2023-03-28 14:07:12.281573: I tensorflow/core/common_runtime/executor.cc:1197] [/device:CPU:0] (DEBUG INFO) Executor start aborting (this does not indicate an error and you can ignore this message): INVALID_ARGUMENT: You must feed a value for placeholder tensor 'gradients/split_grad/concat/split/split_dim' with dtype int32\n",
      "\t [[{{node gradients/split_grad/concat/split/split_dim}}]]\n",
      "2023-03-28 14:07:12.283028: I tensorflow/core/common_runtime/executor.cc:1197] [/device:CPU:0] (DEBUG INFO) Executor start aborting (this does not indicate an error and you can ignore this message): INVALID_ARGUMENT: You must feed a value for placeholder tensor 'gradients/split_1_grad/concat/split_1/split_dim' with dtype int32\n",
      "\t [[{{node gradients/split_1_grad/concat/split_1/split_dim}}]]\n",
      "2023-03-28 14:07:12.473464: I tensorflow/core/common_runtime/executor.cc:1197] [/device:CPU:0] (DEBUG INFO) Executor start aborting (this does not indicate an error and you can ignore this message): INVALID_ARGUMENT: You must feed a value for placeholder tensor 'gradients/ReverseV2_grad/ReverseV2/ReverseV2/axis' with dtype int32 and shape [1]\n",
      "\t [[{{node gradients/ReverseV2_grad/ReverseV2/ReverseV2/axis}}]]\n",
      "2023-03-28 14:07:12.554283: I tensorflow/core/common_runtime/executor.cc:1197] [/device:CPU:0] (DEBUG INFO) Executor start aborting (this does not indicate an error and you can ignore this message): INVALID_ARGUMENT: You must feed a value for placeholder tensor 'gradients/split_2_grad/concat/split_2/split_dim' with dtype int32\n",
      "\t [[{{node gradients/split_2_grad/concat/split_2/split_dim}}]]\n",
      "2023-03-28 14:07:12.555620: I tensorflow/core/common_runtime/executor.cc:1197] [/device:CPU:0] (DEBUG INFO) Executor start aborting (this does not indicate an error and you can ignore this message): INVALID_ARGUMENT: You must feed a value for placeholder tensor 'gradients/split_grad/concat/split/split_dim' with dtype int32\n",
      "\t [[{{node gradients/split_grad/concat/split/split_dim}}]]\n",
      "2023-03-28 14:07:12.557350: I tensorflow/core/common_runtime/executor.cc:1197] [/device:CPU:0] (DEBUG INFO) Executor start aborting (this does not indicate an error and you can ignore this message): INVALID_ARGUMENT: You must feed a value for placeholder tensor 'gradients/split_1_grad/concat/split_1/split_dim' with dtype int32\n",
      "\t [[{{node gradients/split_1_grad/concat/split_1/split_dim}}]]\n"
     ]
    },
    {
     "name": "stdout",
     "output_type": "stream",
     "text": [
      "11869/11869 [==============================] - 699s 59ms/step - loss: 0.0480 - accuracy: 0.8754 - val_loss: 0.0128 - val_accuracy: 0.9695\n",
      "Epoch 2/2\n",
      "11869/11869 [==============================] - 2135s 180ms/step - loss: 0.0227 - accuracy: 0.9408 - val_loss: 0.0111 - val_accuracy: 0.9730\n"
     ]
    },
    {
     "data": {
      "text/plain": [
       "<keras.callbacks.History at 0x7fe1a41a1c10>"
      ]
     },
     "execution_count": 64,
     "metadata": {},
     "output_type": "execute_result"
    }
   ],
   "source": [
    "embed_size = 128\n",
    "inp = Input(shape=(maxlen, ))\n",
    "x = Embedding(max_features, embed_size)(inp)\n",
    "x = Bidirectional(LSTM(50, return_sequences=True))(x)\n",
    "x = GlobalMaxPool1D()(x)\n",
    "x = Dropout(0.1)(x)\n",
    "x = Dense(50, activation=\"relu\")(x)\n",
    "x = Dropout(0.1)(x)\n",
    "x = Dense(6, activation=\"sigmoid\")(x)\n",
    "model_baseline_oversampled = Model(inputs=inp, outputs=x)\n",
    "model_baseline_oversampled .compile(loss='binary_crossentropy',\n",
    "                optimizer='adam',\n",
    "                metrics=['accuracy'])\n",
    "model_baseline_oversampled.fit(train_x,train_y, batch_size=32, epochs=2, validation_split=0.1)"
   ]
  },
  {
   "cell_type": "code",
   "execution_count": 73,
   "id": "b73d5aaf",
   "metadata": {},
   "outputs": [
    {
     "name": "stdout",
     "output_type": "stream",
     "text": [
      "Accuracy score:  0.15424052017881146\n",
      "Precision score:  0.05558650586003321\n",
      "Recall score:  0.5552489998620499\n",
      "F1 score:  0.10074835475292736\n",
      "Logarithmic Loss:  0.4906917475329344\n",
      "ROC AUC score:  0.3709438143484407\n"
     ]
    }
   ],
   "source": [
    "y_pred_baseline_oversampled_prob = model_baseline_oversampled.predict(test_x, batch_size=1024, verbose=1)\n",
    "y_pred_baseline_oversampled= multi_label(y_pred_baseline_oversampled_prob)\n",
    "get_evaluation_score(test_y, y_pred_baseline_oversampled,y_pred_baseline_oversampled_prob)"
   ]
  }
 ],
 "metadata": {
  "kernelspec": {
   "display_name": "Python 3 (ipykernel)",
   "language": "python",
   "name": "python3"
  },
  "language_info": {
   "codemirror_mode": {
    "name": "ipython",
    "version": 3
   },
   "file_extension": ".py",
   "mimetype": "text/x-python",
   "name": "python",
   "nbconvert_exporter": "python",
   "pygments_lexer": "ipython3",
   "version": "3.10.0"
  }
 },
 "nbformat": 4,
 "nbformat_minor": 5
}
