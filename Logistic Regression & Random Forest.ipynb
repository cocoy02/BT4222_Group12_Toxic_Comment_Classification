{
 "cells": [
  {
   "cell_type": "markdown",
   "id": "9aa47893",
   "metadata": {},
   "source": [
    "## Read Data"
   ]
  },
  {
   "cell_type": "code",
   "execution_count": 33,
   "id": "897304a2",
   "metadata": {},
   "outputs": [],
   "source": [
    "import pandas as pd\n",
    "import numpy as np\n",
    "\n",
    "# for reg model training\n",
    "from sklearn.linear_model import LogisticRegression\n",
    "from sklearn.linear_model import LogisticRegressionCV\n",
    "\n",
    "# for random forest\n",
    "from sklearn.ensemble import RandomForestClassifier\n",
    "\n",
    "# for multi label classification\n",
    "from sklearn.datasets import make_multilabel_classification\n",
    "from skmultilearn.problem_transform import ClassifierChain\n",
    "from sklearn.multioutput import MultiOutputClassifier\n",
    "from skmultilearn.problem_transform import LabelPowerset\n",
    "from skmultilearn.problem_transform import BinaryRelevance\n",
    "\n",
    "# for evaluation metrics\n",
    "%run -i helper_functions.py\n",
    "\n",
    "# for model export\n",
    "import joblib\n",
    "\n",
    "import warnings\n",
    "warnings.filterwarnings(\"ignore\")"
   ]
  },
  {
   "cell_type": "code",
   "execution_count": 2,
   "id": "61c8dce6",
   "metadata": {},
   "outputs": [],
   "source": [
    "selected_train = pd.read_csv('Data/selected_train.csv')\n",
    "selected_test = pd.read_csv('Data/selected_test.csv')"
   ]
  },
  {
   "cell_type": "code",
   "execution_count": 3,
   "id": "9f0a7ccb",
   "metadata": {},
   "outputs": [
    {
     "data": {
      "text/html": [
       "<div>\n",
       "<style scoped>\n",
       "    .dataframe tbody tr th:only-of-type {\n",
       "        vertical-align: middle;\n",
       "    }\n",
       "\n",
       "    .dataframe tbody tr th {\n",
       "        vertical-align: top;\n",
       "    }\n",
       "\n",
       "    .dataframe thead th {\n",
       "        text-align: right;\n",
       "    }\n",
       "</style>\n",
       "<table border=\"1\" class=\"dataframe\">\n",
       "  <thead>\n",
       "    <tr style=\"text-align: right;\">\n",
       "      <th></th>\n",
       "      <th>toxic</th>\n",
       "      <th>severe_toxic</th>\n",
       "      <th>obscene</th>\n",
       "      <th>threat</th>\n",
       "      <th>insult</th>\n",
       "      <th>identity_hate</th>\n",
       "      <th>none</th>\n",
       "      <th>min_length_scaled</th>\n",
       "      <th>num_words_vs_length</th>\n",
       "      <th>exclamation_marks_vs_length</th>\n",
       "      <th>...</th>\n",
       "      <th>105</th>\n",
       "      <th>114</th>\n",
       "      <th>132</th>\n",
       "      <th>135</th>\n",
       "      <th>139</th>\n",
       "      <th>143</th>\n",
       "      <th>156</th>\n",
       "      <th>157</th>\n",
       "      <th>170</th>\n",
       "      <th>198</th>\n",
       "    </tr>\n",
       "  </thead>\n",
       "  <tbody>\n",
       "    <tr>\n",
       "      <th>0</th>\n",
       "      <td>0</td>\n",
       "      <td>0</td>\n",
       "      <td>0</td>\n",
       "      <td>0</td>\n",
       "      <td>0</td>\n",
       "      <td>0</td>\n",
       "      <td>1</td>\n",
       "      <td>0.009393</td>\n",
       "      <td>0.181132</td>\n",
       "      <td>0.000000</td>\n",
       "      <td>...</td>\n",
       "      <td>-0.091320</td>\n",
       "      <td>-0.017755</td>\n",
       "      <td>0.003997</td>\n",
       "      <td>-0.199211</td>\n",
       "      <td>-0.109984</td>\n",
       "      <td>0.089084</td>\n",
       "      <td>0.012651</td>\n",
       "      <td>-0.019501</td>\n",
       "      <td>-0.091946</td>\n",
       "      <td>-0.113697</td>\n",
       "    </tr>\n",
       "    <tr>\n",
       "      <th>1</th>\n",
       "      <td>0</td>\n",
       "      <td>0</td>\n",
       "      <td>0</td>\n",
       "      <td>0</td>\n",
       "      <td>0</td>\n",
       "      <td>0</td>\n",
       "      <td>1</td>\n",
       "      <td>0.000723</td>\n",
       "      <td>0.160714</td>\n",
       "      <td>0.008929</td>\n",
       "      <td>...</td>\n",
       "      <td>-0.118445</td>\n",
       "      <td>0.039541</td>\n",
       "      <td>0.017522</td>\n",
       "      <td>0.001397</td>\n",
       "      <td>0.000094</td>\n",
       "      <td>0.021135</td>\n",
       "      <td>0.039308</td>\n",
       "      <td>-0.067295</td>\n",
       "      <td>-0.079366</td>\n",
       "      <td>-0.044959</td>\n",
       "    </tr>\n",
       "    <tr>\n",
       "      <th>2</th>\n",
       "      <td>0</td>\n",
       "      <td>0</td>\n",
       "      <td>0</td>\n",
       "      <td>0</td>\n",
       "      <td>0</td>\n",
       "      <td>0</td>\n",
       "      <td>1</td>\n",
       "      <td>0.007225</td>\n",
       "      <td>0.188841</td>\n",
       "      <td>0.000000</td>\n",
       "      <td>...</td>\n",
       "      <td>-0.131555</td>\n",
       "      <td>-0.060714</td>\n",
       "      <td>0.026459</td>\n",
       "      <td>-0.029582</td>\n",
       "      <td>-0.146134</td>\n",
       "      <td>0.109907</td>\n",
       "      <td>0.036539</td>\n",
       "      <td>-0.053628</td>\n",
       "      <td>0.027530</td>\n",
       "      <td>-0.211230</td>\n",
       "    </tr>\n",
       "    <tr>\n",
       "      <th>3</th>\n",
       "      <td>0</td>\n",
       "      <td>0</td>\n",
       "      <td>0</td>\n",
       "      <td>0</td>\n",
       "      <td>0</td>\n",
       "      <td>0</td>\n",
       "      <td>1</td>\n",
       "      <td>0.007948</td>\n",
       "      <td>0.175719</td>\n",
       "      <td>0.000000</td>\n",
       "      <td>...</td>\n",
       "      <td>-0.145382</td>\n",
       "      <td>-0.004285</td>\n",
       "      <td>-0.000706</td>\n",
       "      <td>-0.134984</td>\n",
       "      <td>-0.214832</td>\n",
       "      <td>0.177560</td>\n",
       "      <td>0.007675</td>\n",
       "      <td>-0.087473</td>\n",
       "      <td>0.106848</td>\n",
       "      <td>-0.015987</td>\n",
       "    </tr>\n",
       "    <tr>\n",
       "      <th>4</th>\n",
       "      <td>0</td>\n",
       "      <td>0</td>\n",
       "      <td>0</td>\n",
       "      <td>0</td>\n",
       "      <td>0</td>\n",
       "      <td>0</td>\n",
       "      <td>1</td>\n",
       "      <td>0.003613</td>\n",
       "      <td>0.208955</td>\n",
       "      <td>0.000000</td>\n",
       "      <td>...</td>\n",
       "      <td>0.007073</td>\n",
       "      <td>-0.204627</td>\n",
       "      <td>0.162032</td>\n",
       "      <td>0.013798</td>\n",
       "      <td>-0.221076</td>\n",
       "      <td>0.163578</td>\n",
       "      <td>-0.068310</td>\n",
       "      <td>-0.031184</td>\n",
       "      <td>-0.017280</td>\n",
       "      <td>0.038566</td>\n",
       "    </tr>\n",
       "  </tbody>\n",
       "</table>\n",
       "<p>5 rows × 48 columns</p>\n",
       "</div>"
      ],
      "text/plain": [
       "   toxic  severe_toxic  obscene  threat  insult  identity_hate  none  \\\n",
       "0      0             0        0       0       0              0     1   \n",
       "1      0             0        0       0       0              0     1   \n",
       "2      0             0        0       0       0              0     1   \n",
       "3      0             0        0       0       0              0     1   \n",
       "4      0             0        0       0       0              0     1   \n",
       "\n",
       "   min_length_scaled  num_words_vs_length  exclamation_marks_vs_length  ...  \\\n",
       "0           0.009393             0.181132                     0.000000  ...   \n",
       "1           0.000723             0.160714                     0.008929  ...   \n",
       "2           0.007225             0.188841                     0.000000  ...   \n",
       "3           0.007948             0.175719                     0.000000  ...   \n",
       "4           0.003613             0.208955                     0.000000  ...   \n",
       "\n",
       "        105       114       132       135       139       143       156  \\\n",
       "0 -0.091320 -0.017755  0.003997 -0.199211 -0.109984  0.089084  0.012651   \n",
       "1 -0.118445  0.039541  0.017522  0.001397  0.000094  0.021135  0.039308   \n",
       "2 -0.131555 -0.060714  0.026459 -0.029582 -0.146134  0.109907  0.036539   \n",
       "3 -0.145382 -0.004285 -0.000706 -0.134984 -0.214832  0.177560  0.007675   \n",
       "4  0.007073 -0.204627  0.162032  0.013798 -0.221076  0.163578 -0.068310   \n",
       "\n",
       "        157       170       198  \n",
       "0 -0.019501 -0.091946 -0.113697  \n",
       "1 -0.067295 -0.079366 -0.044959  \n",
       "2 -0.053628  0.027530 -0.211230  \n",
       "3 -0.087473  0.106848 -0.015987  \n",
       "4 -0.031184 -0.017280  0.038566  \n",
       "\n",
       "[5 rows x 48 columns]"
      ]
     },
     "execution_count": 3,
     "metadata": {},
     "output_type": "execute_result"
    }
   ],
   "source": [
    "selected_train.head()"
   ]
  },
  {
   "cell_type": "code",
   "execution_count": 5,
   "id": "ce42bcb4",
   "metadata": {},
   "outputs": [
    {
     "data": {
      "text/plain": [
       "(159571, 48)"
      ]
     },
     "execution_count": 5,
     "metadata": {},
     "output_type": "execute_result"
    }
   ],
   "source": [
    "selected_train.shape"
   ]
  },
  {
   "cell_type": "code",
   "execution_count": 6,
   "id": "400224e4",
   "metadata": {},
   "outputs": [
    {
     "data": {
      "text/html": [
       "<div>\n",
       "<style scoped>\n",
       "    .dataframe tbody tr th:only-of-type {\n",
       "        vertical-align: middle;\n",
       "    }\n",
       "\n",
       "    .dataframe tbody tr th {\n",
       "        vertical-align: top;\n",
       "    }\n",
       "\n",
       "    .dataframe thead th {\n",
       "        text-align: right;\n",
       "    }\n",
       "</style>\n",
       "<table border=\"1\" class=\"dataframe\">\n",
       "  <thead>\n",
       "    <tr style=\"text-align: right;\">\n",
       "      <th></th>\n",
       "      <th>toxic</th>\n",
       "      <th>severe_toxic</th>\n",
       "      <th>obscene</th>\n",
       "      <th>threat</th>\n",
       "      <th>insult</th>\n",
       "      <th>identity_hate</th>\n",
       "      <th>min_length_scaled</th>\n",
       "      <th>num_words_vs_length</th>\n",
       "      <th>exclamation_marks_vs_length</th>\n",
       "      <th>num_unique_words_scaled</th>\n",
       "      <th>...</th>\n",
       "      <th>114</th>\n",
       "      <th>132</th>\n",
       "      <th>135</th>\n",
       "      <th>139</th>\n",
       "      <th>143</th>\n",
       "      <th>156</th>\n",
       "      <th>157</th>\n",
       "      <th>170</th>\n",
       "      <th>198</th>\n",
       "      <th>none</th>\n",
       "    </tr>\n",
       "  </thead>\n",
       "  <tbody>\n",
       "    <tr>\n",
       "      <th>0</th>\n",
       "      <td>0</td>\n",
       "      <td>0</td>\n",
       "      <td>0</td>\n",
       "      <td>0</td>\n",
       "      <td>0</td>\n",
       "      <td>0</td>\n",
       "      <td>0.002890</td>\n",
       "      <td>0.166667</td>\n",
       "      <td>0.000000</td>\n",
       "      <td>0.032911</td>\n",
       "      <td>...</td>\n",
       "      <td>0.040738</td>\n",
       "      <td>-0.010083</td>\n",
       "      <td>-0.158238</td>\n",
       "      <td>-0.204194</td>\n",
       "      <td>0.116565</td>\n",
       "      <td>0.098296</td>\n",
       "      <td>-0.206160</td>\n",
       "      <td>0.046779</td>\n",
       "      <td>-0.036748</td>\n",
       "      <td>1</td>\n",
       "    </tr>\n",
       "    <tr>\n",
       "      <th>1</th>\n",
       "      <td>0</td>\n",
       "      <td>0</td>\n",
       "      <td>0</td>\n",
       "      <td>0</td>\n",
       "      <td>0</td>\n",
       "      <td>0</td>\n",
       "      <td>0.005058</td>\n",
       "      <td>0.187500</td>\n",
       "      <td>0.000000</td>\n",
       "      <td>0.015190</td>\n",
       "      <td>...</td>\n",
       "      <td>-0.013467</td>\n",
       "      <td>0.003550</td>\n",
       "      <td>-0.117174</td>\n",
       "      <td>-0.075475</td>\n",
       "      <td>0.043945</td>\n",
       "      <td>-0.148617</td>\n",
       "      <td>-0.350740</td>\n",
       "      <td>0.113815</td>\n",
       "      <td>-0.070907</td>\n",
       "      <td>1</td>\n",
       "    </tr>\n",
       "    <tr>\n",
       "      <th>2</th>\n",
       "      <td>0</td>\n",
       "      <td>0</td>\n",
       "      <td>0</td>\n",
       "      <td>0</td>\n",
       "      <td>0</td>\n",
       "      <td>0</td>\n",
       "      <td>0.000723</td>\n",
       "      <td>0.149554</td>\n",
       "      <td>0.002232</td>\n",
       "      <td>0.118987</td>\n",
       "      <td>...</td>\n",
       "      <td>-0.125080</td>\n",
       "      <td>0.045087</td>\n",
       "      <td>-0.119656</td>\n",
       "      <td>-0.274707</td>\n",
       "      <td>0.102546</td>\n",
       "      <td>0.100782</td>\n",
       "      <td>-0.107205</td>\n",
       "      <td>-0.050780</td>\n",
       "      <td>-0.098343</td>\n",
       "      <td>1</td>\n",
       "    </tr>\n",
       "    <tr>\n",
       "      <th>3</th>\n",
       "      <td>0</td>\n",
       "      <td>0</td>\n",
       "      <td>0</td>\n",
       "      <td>0</td>\n",
       "      <td>0</td>\n",
       "      <td>0</td>\n",
       "      <td>0.007225</td>\n",
       "      <td>0.169661</td>\n",
       "      <td>0.000000</td>\n",
       "      <td>0.070886</td>\n",
       "      <td>...</td>\n",
       "      <td>-0.023304</td>\n",
       "      <td>-0.005002</td>\n",
       "      <td>-0.281848</td>\n",
       "      <td>-0.157011</td>\n",
       "      <td>0.184323</td>\n",
       "      <td>0.067625</td>\n",
       "      <td>-0.066242</td>\n",
       "      <td>0.023737</td>\n",
       "      <td>-0.111269</td>\n",
       "      <td>1</td>\n",
       "    </tr>\n",
       "    <tr>\n",
       "      <th>4</th>\n",
       "      <td>0</td>\n",
       "      <td>0</td>\n",
       "      <td>0</td>\n",
       "      <td>0</td>\n",
       "      <td>0</td>\n",
       "      <td>0</td>\n",
       "      <td>0.003613</td>\n",
       "      <td>0.167665</td>\n",
       "      <td>0.000000</td>\n",
       "      <td>0.060759</td>\n",
       "      <td>...</td>\n",
       "      <td>0.055657</td>\n",
       "      <td>0.024936</td>\n",
       "      <td>-0.181419</td>\n",
       "      <td>-0.165707</td>\n",
       "      <td>0.194511</td>\n",
       "      <td>0.143557</td>\n",
       "      <td>-0.059017</td>\n",
       "      <td>0.136676</td>\n",
       "      <td>-0.004530</td>\n",
       "      <td>1</td>\n",
       "    </tr>\n",
       "  </tbody>\n",
       "</table>\n",
       "<p>5 rows × 48 columns</p>\n",
       "</div>"
      ],
      "text/plain": [
       "   toxic  severe_toxic  obscene  threat  insult  identity_hate  \\\n",
       "0      0             0        0       0       0              0   \n",
       "1      0             0        0       0       0              0   \n",
       "2      0             0        0       0       0              0   \n",
       "3      0             0        0       0       0              0   \n",
       "4      0             0        0       0       0              0   \n",
       "\n",
       "   min_length_scaled  num_words_vs_length  exclamation_marks_vs_length  \\\n",
       "0           0.002890             0.166667                     0.000000   \n",
       "1           0.005058             0.187500                     0.000000   \n",
       "2           0.000723             0.149554                     0.002232   \n",
       "3           0.007225             0.169661                     0.000000   \n",
       "4           0.003613             0.167665                     0.000000   \n",
       "\n",
       "   num_unique_words_scaled  ...       114       132       135       139  \\\n",
       "0                 0.032911  ...  0.040738 -0.010083 -0.158238 -0.204194   \n",
       "1                 0.015190  ... -0.013467  0.003550 -0.117174 -0.075475   \n",
       "2                 0.118987  ... -0.125080  0.045087 -0.119656 -0.274707   \n",
       "3                 0.070886  ... -0.023304 -0.005002 -0.281848 -0.157011   \n",
       "4                 0.060759  ...  0.055657  0.024936 -0.181419 -0.165707   \n",
       "\n",
       "        143       156       157       170       198  none  \n",
       "0  0.116565  0.098296 -0.206160  0.046779 -0.036748     1  \n",
       "1  0.043945 -0.148617 -0.350740  0.113815 -0.070907     1  \n",
       "2  0.102546  0.100782 -0.107205 -0.050780 -0.098343     1  \n",
       "3  0.184323  0.067625 -0.066242  0.023737 -0.111269     1  \n",
       "4  0.194511  0.143557 -0.059017  0.136676 -0.004530     1  \n",
       "\n",
       "[5 rows x 48 columns]"
      ]
     },
     "execution_count": 6,
     "metadata": {},
     "output_type": "execute_result"
    }
   ],
   "source": [
    "selected_test.head()"
   ]
  },
  {
   "cell_type": "code",
   "execution_count": 7,
   "id": "0b03a28f",
   "metadata": {},
   "outputs": [
    {
     "data": {
      "text/plain": [
       "(63978, 48)"
      ]
     },
     "execution_count": 7,
     "metadata": {},
     "output_type": "execute_result"
    }
   ],
   "source": [
    "selected_test.shape"
   ]
  },
  {
   "cell_type": "code",
   "execution_count": 8,
   "id": "faf20dfd",
   "metadata": {},
   "outputs": [
    {
     "data": {
      "text/plain": [
       "Index(['toxic', 'severe_toxic', 'obscene', 'threat', 'insult', 'identity_hate',\n",
       "       'min_length_scaled', 'num_words_vs_length',\n",
       "       'exclamation_marks_vs_length', 'num_unique_words_scaled',\n",
       "       'verbs_vs_length', 'num_uppercase_scaled', 'uppercase_vs_length',\n",
       "       'sentiment', 'bad_toxic_vs_length', 'bad_severe_toxic_vs_length',\n",
       "       'bad_obscene_vs_length', 'bad_threat_vs_length', 'bad_insult_vs_length',\n",
       "       'bad_identity_hate_vs_length', '29', '34', '46', '47', '53', '54', '65',\n",
       "       '72', '82', '86', '87', '93', '95', '96', '98', '100', '103', '105',\n",
       "       '114', '132', '135', '139', '143', '156', '157', '170', '198', 'none'],\n",
       "      dtype='object')"
      ]
     },
     "execution_count": 8,
     "metadata": {},
     "output_type": "execute_result"
    }
   ],
   "source": [
    "selected_test.columns"
   ]
  },
  {
   "cell_type": "code",
   "execution_count": 5,
   "id": "e1daa181",
   "metadata": {},
   "outputs": [],
   "source": [
    "features = selected_test.columns[7:-1]\n",
    "labels = ['toxic', 'severe_toxic', 'obscene', 'threat', 'insult', 'identity_hate']"
   ]
  },
  {
   "cell_type": "markdown",
   "id": "dcfe68fd",
   "metadata": {},
   "source": [
    "## Model Building"
   ]
  },
  {
   "cell_type": "markdown",
   "id": "dce72f7b",
   "metadata": {},
   "source": [
    "### Logistic Regression Using OneVsRest"
   ]
  },
  {
   "cell_type": "code",
   "execution_count": 19,
   "id": "699a107d",
   "metadata": {},
   "outputs": [],
   "source": [
    "# with reweight\n",
    "classifier_log_ovr = MultiOutputClassifier(LogisticRegression(max_iter=10000, class_weight='balanced'))\n",
    "# train\n",
    "classifier_log_ovr.fit(selected_train[features], selected_train[labels])\n",
    "# predict\n",
    "predictions_log_ovr = classifier_log_ovr.predict(selected_train[features])"
   ]
  },
  {
   "cell_type": "code",
   "execution_count": 31,
   "id": "1ce2d9d1",
   "metadata": {},
   "outputs": [],
   "source": [
    "# predict probability\n",
    "predictions_proba_log_ovr = classifier_log_ovr.predict_proba(selected_train[features])"
   ]
  },
  {
   "cell_type": "code",
   "execution_count": 191,
   "id": "038bd8a2",
   "metadata": {},
   "outputs": [
    {
     "name": "stdout",
     "output_type": "stream",
     "text": [
      "Accuracy score:  0.9071573155523247\n",
      "Precision score:  0.7835665408904706\n",
      "Recall score:  0.4539005071514046\n",
      "F1 score:  0.5705580253670303\n"
     ]
    }
   ],
   "source": [
    "# model evaluation overall score\n",
    "get_overall_evaluation_score(selected_train[labels], predictions_log_ovr)"
   ]
  },
  {
   "cell_type": "code",
   "execution_count": 201,
   "id": "0c7fec78",
   "metadata": {},
   "outputs": [
    {
     "name": "stdout",
     "output_type": "stream",
     "text": [
      "fitting for label toxic\n",
      "Accuracy score:  0.9446954647147665\n",
      "Precision score:  0.8416605049117989\n",
      "Recall score:  0.5209886229894076\n",
      "F1 score:  0.643592746658051\n",
      "Confusion matrix:\n",
      "[[142778   1499]\n",
      " [  7326   7968]]\n",
      "Logarithmic Loss:  0.15238669789000686\n",
      "ROC AUC score:  0.941303466965538\n",
      "\n",
      "\n",
      "fitting for label severe_toxic\n",
      "Accuracy score:  0.990236321136046\n",
      "Precision score:  0.5300813008130081\n",
      "Recall score:  0.2043887147335423\n",
      "F1 score:  0.2950226244343891\n",
      "Confusion matrix:\n",
      "[[157687    289]\n",
      " [  1269    326]]\n",
      "Logarithmic Loss:  0.029947837509383204\n",
      "ROC AUC score:  0.9689319896693167\n",
      "\n",
      "\n",
      "fitting for label obscene\n",
      "Accuracy score:  0.9676883644271203\n",
      "Precision score:  0.8245614035087719\n",
      "Recall score:  0.49508817611551664\n",
      "F1 score:  0.61869545925159\n",
      "Confusion matrix:\n",
      "[[150232    890]\n",
      " [  4266   4183]]\n",
      "Logarithmic Loss:  0.09489150128336714\n",
      "ROC AUC score:  0.9569661176088267\n",
      "\n",
      "\n",
      "fitting for label threat\n",
      "Accuracy score:  0.996973134216117\n",
      "Precision score:  0.41379310344827586\n",
      "Recall score:  0.02510460251046025\n",
      "F1 score:  0.04733727810650887\n",
      "Confusion matrix:\n",
      "[[159076     17]\n",
      " [   466     12]]\n",
      "Logarithmic Loss:  0.013347073234720477\n",
      "ROC AUC score:  0.9467331704907636\n",
      "\n",
      "\n",
      "fitting for label insult\n",
      "Accuracy score:  0.9651064416466651\n",
      "Precision score:  0.7629241630608062\n",
      "Recall score:  0.42528881553891074\n",
      "F1 score:  0.5461362895337464\n",
      "Confusion matrix:\n",
      "[[150653   1041]\n",
      " [  4527   3350]]\n",
      "Logarithmic Loss:  0.10151716878913138\n",
      "ROC AUC score:  0.9512037555931819\n",
      "\n",
      "\n",
      "fitting for label identity_hate\n",
      "Accuracy score:  0.9910196714941938\n",
      "Precision score:  0.4339622641509434\n",
      "Recall score:  0.06548042704626335\n",
      "F1 score:  0.11379097093382809\n",
      "Confusion matrix:\n",
      "[[158046    120]\n",
      " [  1313     92]]\n",
      "Logarithmic Loss:  0.035251481189237134\n",
      "ROC AUC score:  0.9290127746770669\n",
      "\n",
      "\n"
     ]
    }
   ],
   "source": [
    "# model evaluation on each label\n",
    "i = 0\n",
    "for label in labels:\n",
    "    print(f'fitting for label {label}')\n",
    "    get_evaluation_score_single_class(selected_train[label], predictions_log_ovr[:,i], np.array(predictions_proba_log_ovr[i][:,1]).T)\n",
    "    i += 1\n",
    "    print(\"\\n\")"
   ]
  },
  {
   "cell_type": "code",
   "execution_count": 77,
   "id": "4e2b9c07",
   "metadata": {},
   "outputs": [
    {
     "name": "stdout",
     "output_type": "stream",
     "text": [
      "Accuracy score:  0.7322360811528963\n",
      "Precision score:  0.30084295436985375\n",
      "Recall score:  0.8835011725755276\n",
      "F1 score:  0.4407659323140065\n"
     ]
    }
   ],
   "source": [
    "# on test data\n",
    "predictions_log_ovr_test = classifier_log_ovr.predict(selected_test[features])\n",
    "# model evaluation overall score\n",
    "get_overall_evaluation_score(selected_test[labels], predictions_log_ovr_test)"
   ]
  },
  {
   "cell_type": "code",
   "execution_count": 230,
   "id": "5ab27f18",
   "metadata": {},
   "outputs": [],
   "source": [
    "# using cross validation\n",
    "# with reweight\n",
    "classifier_log_ovr_cv = MultiOutputClassifier(LogisticRegressionCV(max_iter=10000, class_weight='balanced',cv = 5))\n",
    "# train\n",
    "classifier_log_ovr_cv.fit(selected_train[features], selected_train[labels])\n",
    "# predict\n",
    "predictions_log_ovr_cv = classifier_log_ovr.predict(selected_train[features])"
   ]
  },
  {
   "cell_type": "code",
   "execution_count": 231,
   "id": "e3b1a070",
   "metadata": {},
   "outputs": [],
   "source": [
    "# predict probability\n",
    "predictions_proba_log_ovr_cv = classifier_log_ovr_cv.predict_proba(selected_train[features])"
   ]
  },
  {
   "cell_type": "code",
   "execution_count": 232,
   "id": "eacd8d36",
   "metadata": {},
   "outputs": [
    {
     "name": "stdout",
     "output_type": "stream",
     "text": [
      "Accuracy score:  0.9071573155523247\n",
      "Precision score:  0.7835665408904706\n",
      "Recall score:  0.4539005071514046\n",
      "F1 score:  0.5705580253670303\n"
     ]
    }
   ],
   "source": [
    "# model evaluation overall score\n",
    "get_overall_evaluation_score(selected_train[labels], predictions_log_ovr_cv)"
   ]
  },
  {
   "cell_type": "markdown",
   "id": "2bb76ddf",
   "metadata": {},
   "source": [
    "The F1 score does not have obvious improve, hence wouldn't use cross validation for logistic regression for saving CPU"
   ]
  },
  {
   "cell_type": "markdown",
   "id": "3f918efd",
   "metadata": {},
   "source": [
    "### Export Model"
   ]
  },
  {
   "cell_type": "code",
   "execution_count": 34,
   "id": "203c6980",
   "metadata": {},
   "outputs": [
    {
     "data": {
      "text/plain": [
       "['logReg_ovr.sav']"
      ]
     },
     "execution_count": 34,
     "metadata": {},
     "output_type": "execute_result"
    }
   ],
   "source": [
    "joblib.dump(classifier_log_ovr, 'logReg_ovr.sav')"
   ]
  },
  {
   "cell_type": "markdown",
   "id": "d1d9ee7c",
   "metadata": {},
   "source": [
    "### Logistic Regression Using Binary Relevance"
   ]
  },
  {
   "cell_type": "code",
   "execution_count": 36,
   "id": "d69ea6ae",
   "metadata": {},
   "outputs": [],
   "source": [
    "classifier_log_br = BinaryRelevance(LogisticRegression(max_iter=10000, class_weight='balanced'))\n",
    "# train\n",
    "classifier_log_br.fit(selected_train[features], selected_train[labels])\n",
    "# predict\n",
    "predictions_log_br = classifier_log_br.predict(selected_train[features])"
   ]
  },
  {
   "cell_type": "code",
   "execution_count": 37,
   "id": "59b1be0b",
   "metadata": {},
   "outputs": [],
   "source": [
    "# predict probability\n",
    "predictions_proba_log_br = classifier_log_br.predict_proba(selected_train[features])"
   ]
  },
  {
   "cell_type": "code",
   "execution_count": 38,
   "id": "93719aef",
   "metadata": {},
   "outputs": [
    {
     "name": "stdout",
     "output_type": "stream",
     "text": [
      "Accuracy score:  0.7823790037036805\n",
      "Precision score:  0.3823137948352328\n",
      "Recall score:  0.8699071172146561\n",
      "F1 score:  0.5202510172396128\n"
     ]
    }
   ],
   "source": [
    "# model evaluation overall score\n",
    "get_overall_evaluation_score(selected_train[labels], predictions_log_br)"
   ]
  },
  {
   "cell_type": "code",
   "execution_count": 227,
   "id": "44fda35e",
   "metadata": {},
   "outputs": [
    {
     "name": "stdout",
     "output_type": "stream",
     "text": [
      "fitting for label toxic\n",
      "Accuracy score:  0.8878743631361589\n",
      "Precision score:  0.4545263600084016\n",
      "Recall score:  0.8489603766182817\n",
      "F1 score:  0.5920656634746921\n",
      "Confusion matrix:\n",
      "[[128695  15582]\n",
      " [  2310  12984]]\n",
      "Logarithmic Loss:  0.2976558490655549\n",
      "ROC AUC score:  0.9450675196913704\n",
      "\n",
      "\n",
      "fitting for label severe_toxic\n",
      "Accuracy score:  0.9482738091507855\n",
      "Precision score:  0.15543826968850252\n",
      "Recall score:  0.941692789968652\n",
      "F1 score:  0.26683247468466864\n",
      "Confusion matrix:\n",
      "[[149815   8161]\n",
      " [    93   1502]]\n",
      "Logarithmic Loss:  0.20756119824661315\n",
      "ROC AUC score:  0.9819963287943583\n",
      "\n",
      "\n",
      "fitting for label obscene\n",
      "Accuracy score:  0.9228180559124152\n",
      "Precision score:  0.39690749133564385\n",
      "Recall score:  0.8810510119540774\n",
      "F1 score:  0.547272459932363\n",
      "Confusion matrix:\n",
      "[[139811  11311]\n",
      " [  1005   7444]]\n",
      "Logarithmic Loss:  0.2478629532743535\n",
      "ROC AUC score:  0.9652468745132916\n",
      "\n",
      "\n",
      "fitting for label threat\n",
      "Accuracy score:  0.9027517531381015\n",
      "Precision score:  0.02757884156301043\n",
      "Recall score:  0.9184100418410042\n",
      "F1 score:  0.05354964625518419\n",
      "Confusion matrix:\n",
      "[[143614  15479]\n",
      " [    39    439]]\n",
      "Logarithmic Loss:  0.2682307099272033\n",
      "ROC AUC score:  0.9637541087714623\n",
      "\n",
      "\n",
      "fitting for label insult\n",
      "Accuracy score:  0.9128977069768316\n",
      "Precision score:  0.3485869455898622\n",
      "Recall score:  0.8800304684524565\n",
      "F1 score:  0.49936966466159993\n",
      "Confusion matrix:\n",
      "[[138740  12954]\n",
      " [   945   6932]]\n",
      "Logarithmic Loss:  0.2793370177777969\n",
      "ROC AUC score:  0.961079018649859\n",
      "\n",
      "\n",
      "fitting for label identity_hate\n",
      "Accuracy score:  0.9048761993093983\n",
      "Precision score:  0.07581916728258192\n",
      "Recall score:  0.8761565836298932\n",
      "F1 score:  0.13956124936228106\n",
      "Confusion matrix:\n",
      "[[143161  15005]\n",
      " [   174   1231]]\n",
      "Logarithmic Loss:  0.3333753240751199\n",
      "ROC AUC score:  0.9512407748730859\n",
      "\n",
      "\n"
     ]
    }
   ],
   "source": [
    "# model evaluation on each label\n",
    "i = 0\n",
    "for label in labels:\n",
    "    print(f'fitting for label {label}')\n",
    "    get_evaluation_score_single_class(selected_train[label], predictions_log_br[:,i].toarray(), predictions_proba_log_br[:,i].toarray())\n",
    "    i += 1\n",
    "    print(\"\\n\")"
   ]
  },
  {
   "cell_type": "markdown",
   "id": "7fd7a5d1",
   "metadata": {},
   "source": [
    "### Export Model"
   ]
  },
  {
   "cell_type": "code",
   "execution_count": 39,
   "id": "9f6d5070",
   "metadata": {},
   "outputs": [
    {
     "data": {
      "text/plain": [
       "['logReg_br.sav']"
      ]
     },
     "execution_count": 39,
     "metadata": {},
     "output_type": "execute_result"
    }
   ],
   "source": [
    "joblib.dump(classifier_log_br, 'logReg_br.sav')"
   ]
  },
  {
   "cell_type": "markdown",
   "id": "47119df7",
   "metadata": {},
   "source": [
    "### Logistic Regression Using ClassifierChain"
   ]
  },
  {
   "cell_type": "code",
   "execution_count": 40,
   "id": "fb64a2f5",
   "metadata": {},
   "outputs": [],
   "source": [
    "classifier_log_chain = ClassifierChain(LogisticRegression(max_iter=10000, class_weight='balanced'))\n",
    "# train\n",
    "classifier_log_chain.fit(selected_train[features], selected_train[labels])\n",
    "# predict\n",
    "predictions_log_chain = classifier_log_chain.predict(selected_train[features])"
   ]
  },
  {
   "cell_type": "code",
   "execution_count": 125,
   "id": "be3e9e4f",
   "metadata": {},
   "outputs": [],
   "source": [
    "# predict probability\n",
    "predictions_proba_log_chain = classifier_log_chain.predict_proba(selected_train[features])"
   ]
  },
  {
   "cell_type": "code",
   "execution_count": 234,
   "id": "199580c9",
   "metadata": {},
   "outputs": [
    {
     "name": "stdout",
     "output_type": "stream",
     "text": [
      "Accuracy score:  0.7989922980992787\n",
      "Precision score:  0.3265042142598098\n",
      "Recall score:  0.8962903869166334\n",
      "F1 score:  0.4593230547737794\n"
     ]
    }
   ],
   "source": [
    "# model evaluation overall score\n",
    "get_overall_evaluation_score(selected_train[labels], predictions_log_chain)"
   ]
  },
  {
   "cell_type": "code",
   "execution_count": 235,
   "id": "0a5c969a",
   "metadata": {},
   "outputs": [
    {
     "name": "stdout",
     "output_type": "stream",
     "text": [
      "fitting for label toxic\n",
      "Accuracy score:  0.8878743631361589\n",
      "Precision score:  0.4545263600084016\n",
      "Recall score:  0.8489603766182817\n",
      "F1 score:  0.5920656634746921\n",
      "Confusion matrix:\n",
      "[[128695  15582]\n",
      " [  2310  12984]]\n",
      "Logarithmic Loss:  0.2976558490655549\n",
      "ROC AUC score:  0.9450675196913704\n",
      "\n",
      "\n",
      "fitting for label severe_toxic\n",
      "Accuracy score:  0.8495403300098389\n",
      "Precision score:  0.06133552528573665\n",
      "Recall score:  0.9824451410658307\n",
      "F1 score:  0.11546255019710422\n",
      "Confusion matrix:\n",
      "[[133995  23981]\n",
      " [    28   1567]]\n",
      "Logarithmic Loss:  0.2573653047966825\n",
      "ROC AUC score:  0.9804797379642446\n",
      "\n",
      "\n",
      "fitting for label obscene\n",
      "Accuracy score:  0.8663353616885273\n",
      "Precision score:  0.27425687044307345\n",
      "Recall score:  0.9260267487276601\n",
      "F1 score:  0.4231819779863158\n",
      "Confusion matrix:\n",
      "[[130418  20704]\n",
      " [   625   7824]]\n",
      "Logarithmic Loss:  0.540121157439039\n",
      "ROC AUC score:  0.9608222001382551\n",
      "\n",
      "\n",
      "fitting for label threat\n",
      "Accuracy score:  0.8502798127479304\n",
      "Precision score:  0.018151883103519242\n",
      "Recall score:  0.9225941422594143\n",
      "F1 score:  0.03560327776207968\n",
      "Confusion matrix:\n",
      "[[135239  23854]\n",
      " [    37    441]]\n",
      "Logarithmic Loss:  0.383325990402291\n",
      "ROC AUC score:  0.9584251423478601\n",
      "\n",
      "\n",
      "fitting for label insult\n",
      "Accuracy score:  0.8634275651590828\n",
      "Precision score:  0.2564066657330906\n",
      "Recall score:  0.9297956074647709\n",
      "F1 score:  0.40196481984577814\n",
      "Confusion matrix:\n",
      "[[130454  21240]\n",
      " [   553   7324]]\n",
      "Logarithmic Loss:  0.6350578212559438\n",
      "ROC AUC score:  0.9491658068397884\n",
      "\n",
      "\n",
      "fitting for label identity_hate\n",
      "Accuracy score:  0.8283522695226576\n",
      "Precision score:  0.046050103071171515\n",
      "Recall score:  0.9380782918149466\n",
      "F1 score:  0.08779058149603676\n",
      "Confusion matrix:\n",
      "[[130863  27303]\n",
      " [    87   1318]]\n",
      "Logarithmic Loss:  0.695063381490699\n",
      "ROC AUC score:  0.9358324757497225\n",
      "\n",
      "\n"
     ]
    }
   ],
   "source": [
    "# model evaluation on each label\n",
    "i = 0\n",
    "for label in labels:\n",
    "    print(f'fitting for label {label}')\n",
    "    get_evaluation_score_single_class(selected_train[label], predictions_log_chain[:,i].toarray(), predictions_proba_log_chain[:,i].toarray())\n",
    "    i += 1\n",
    "    print(\"\\n\")"
   ]
  },
  {
   "cell_type": "markdown",
   "id": "da1be02d",
   "metadata": {},
   "source": [
    "### Export Model"
   ]
  },
  {
   "cell_type": "code",
   "execution_count": 41,
   "id": "2f0fe25e",
   "metadata": {},
   "outputs": [
    {
     "data": {
      "text/plain": [
       "['logReg_chain.sav']"
      ]
     },
     "execution_count": 41,
     "metadata": {},
     "output_type": "execute_result"
    }
   ],
   "source": [
    "joblib.dump(classifier_log_chain, 'logReg_chain.sav')"
   ]
  },
  {
   "cell_type": "markdown",
   "id": "7a31d1fa",
   "metadata": {},
   "source": [
    "### Logistic Regression Using LabelPowerSet"
   ]
  },
  {
   "cell_type": "code",
   "execution_count": 43,
   "id": "1d13d37f",
   "metadata": {},
   "outputs": [],
   "source": [
    "classifier_log_lps = LabelPowerset(LogisticRegression(max_iter=10000, class_weight='balanced'))\n",
    "# train\n",
    "classifier_log_lps.fit(selected_train[features], selected_train[labels])\n",
    "# predict\n",
    "predictions_log_lps = classifier_log_lps.predict(selected_train[features])"
   ]
  },
  {
   "cell_type": "code",
   "execution_count": 44,
   "id": "5463719e",
   "metadata": {},
   "outputs": [],
   "source": [
    "# predict probability\n",
    "predictions_proba_log_lps = classifier_log_lps.predict_proba(selected_train[features])"
   ]
  },
  {
   "cell_type": "code",
   "execution_count": 45,
   "id": "7bed546c",
   "metadata": {},
   "outputs": [
    {
     "name": "stdout",
     "output_type": "stream",
     "text": [
      "Accuracy score:  0.5402924090216894\n",
      "Precision score:  0.2638933873790623\n",
      "Recall score:  0.6392102114080574\n",
      "F1 score:  0.35461867971907374\n"
     ]
    }
   ],
   "source": [
    "# model evaluation overall score\n",
    "get_overall_evaluation_score(selected_train[labels], predictions_log_lps)"
   ]
  },
  {
   "cell_type": "code",
   "execution_count": 46,
   "id": "2a3003da",
   "metadata": {},
   "outputs": [
    {
     "name": "stdout",
     "output_type": "stream",
     "text": [
      "fitting for label toxic\n",
      "Accuracy score:  0.8733792481089923\n",
      "Precision score:  0.39722931402502826\n",
      "Recall score:  0.6205701582319864\n",
      "F1 score:  0.48439533518768985\n",
      "Confusion matrix:\n",
      "[[129875  14402]\n",
      " [  5803   9491]]\n",
      "Logarithmic Loss:  0.3694693161758654\n",
      "ROC AUC score:  0.9004981145332336\n",
      "\n",
      "\n",
      "fitting for label severe_toxic\n",
      "Accuracy score:  0.9586641683012578\n",
      "Precision score:  0.1504263945197819\n",
      "Recall score:  0.6746081504702194\n",
      "F1 score:  0.24599908550525834\n",
      "Confusion matrix:\n",
      "[[151899   6077]\n",
      " [   519   1076]]\n",
      "Logarithmic Loss:  0.08433989644240165\n",
      "ROC AUC score:  0.967695061175913\n",
      "\n",
      "\n",
      "fitting for label obscene\n",
      "Accuracy score:  0.8141015598072332\n",
      "Precision score:  0.17512480475330006\n",
      "Recall score:  0.6767664812403835\n",
      "F1 score:  0.2782481751824818\n",
      "Confusion matrix:\n",
      "[[124189  26933]\n",
      " [  2731   5718]]\n",
      "Logarithmic Loss:  0.39331131867579655\n",
      "ROC AUC score:  0.8822640557964808\n",
      "\n",
      "\n",
      "fitting for label threat\n",
      "Accuracy score:  0.8439879426712874\n",
      "Precision score:  0.014900464894504709\n",
      "Recall score:  0.7845188284518828\n",
      "F1 score:  0.029245466952622343\n",
      "Confusion matrix:\n",
      "[[134301  24792]\n",
      " [   103    375]]\n",
      "Logarithmic Loss:  0.28792736178872347\n",
      "ROC AUC score:  0.8984373354213202\n",
      "\n",
      "\n",
      "fitting for label insult\n",
      "Accuracy score:  0.8413120178478546\n",
      "Precision score:  0.17994349245954575\n",
      "Recall score:  0.6225720451948712\n",
      "F1 score:  0.2791915741531455\n",
      "Confusion matrix:\n",
      "[[129345  22349]\n",
      " [  2973   4904]]\n",
      "Logarithmic Loss:  0.39273549442441974\n",
      "ROC AUC score:  0.8918246110872673\n",
      "\n",
      "\n",
      "fitting for label identity_hate\n",
      "Accuracy score:  0.8229628190586009\n",
      "Precision score:  0.030468394724874944\n",
      "Recall score:  0.6199288256227758\n",
      "F1 score:  0.058082155241397704\n",
      "Confusion matrix:\n",
      "[[130450  27716]\n",
      " [   534    871]]\n",
      "Logarithmic Loss:  0.3583503006010329\n",
      "ROC AUC score:  0.8317833266126138\n",
      "\n",
      "\n"
     ]
    }
   ],
   "source": [
    "# model evaluation on each label\n",
    "i = 0\n",
    "for label in labels:\n",
    "    print(f'fitting for label {label}')\n",
    "    get_evaluation_score_single_class(selected_train[label], predictions_log_lps[:,i].toarray(), predictions_proba_log_lps[:,i].toarray())\n",
    "    i += 1\n",
    "    print(\"\\n\")"
   ]
  },
  {
   "cell_type": "markdown",
   "id": "bc3fae63",
   "metadata": {},
   "source": [
    "### Export Model"
   ]
  },
  {
   "cell_type": "code",
   "execution_count": 47,
   "id": "53fd3454",
   "metadata": {},
   "outputs": [
    {
     "data": {
      "text/plain": [
       "['logReg_lps.sav']"
      ]
     },
     "execution_count": 47,
     "metadata": {},
     "output_type": "execute_result"
    }
   ],
   "source": [
    "joblib.dump(classifier_log_lps, 'logReg_lps.sav')"
   ]
  },
  {
   "cell_type": "markdown",
   "id": "fcea266f",
   "metadata": {},
   "source": [
    "### Random Forest Using Power Set Labelling"
   ]
  },
  {
   "cell_type": "code",
   "execution_count": 70,
   "id": "b38c21a4",
   "metadata": {},
   "outputs": [],
   "source": [
    "classifier_rf = RandomForestClassifier(random_state = 0,class_weight='balanced',n_estimators=100,max_depth = 15)\n",
    "classifier_rf.fit(selected_train[features], selected_train[labels])\n",
    "predictions_rf = classifier_rf.predict(selected_train[features])"
   ]
  },
  {
   "cell_type": "code",
   "execution_count": 71,
   "id": "b3d9a9ed",
   "metadata": {},
   "outputs": [],
   "source": [
    "# predict probability\n",
    "predictions_proba_rf = classifier_rf.predict_proba(selected_train[features])"
   ]
  },
  {
   "cell_type": "code",
   "execution_count": 72,
   "id": "9e022855",
   "metadata": {},
   "outputs": [
    {
     "name": "stdout",
     "output_type": "stream",
     "text": [
      "Accuracy score:  0.4602653364333118\n",
      "Precision score:  0.19489052186078495\n",
      "Recall score:  0.9955268106444811\n",
      "F1 score:  0.31103799430324197\n"
     ]
    }
   ],
   "source": [
    "# model evaluation overall score\n",
    "get_overall_evaluation_score(selected_train[labels], predictions_rf)"
   ]
  },
  {
   "cell_type": "code",
   "execution_count": 73,
   "id": "12c7072e",
   "metadata": {},
   "outputs": [
    {
     "name": "stdout",
     "output_type": "stream",
     "text": [
      "fitting for label toxic\n",
      "Accuracy score:  0.5071284882591448\n",
      "Precision score:  0.16245044968245173\n",
      "Recall score:  0.9967961292009938\n",
      "F1 score:  0.27937107148747453\n",
      "Confusion matrix:\n",
      "[[65678 78599]\n",
      " [   49 15245]]\n",
      "Logarithmic Loss:  0.737827788443954\n",
      "ROC AUC score:  0.9745928658246024\n",
      "\n",
      "\n",
      "fitting for label severe_toxic\n",
      "Accuracy score:  0.9936015942746489\n",
      "Precision score:  0.6106399383191982\n",
      "Recall score:  0.993103448275862\n",
      "F1 score:  0.7562664120315111\n",
      "Confusion matrix:\n",
      "[[156966   1010]\n",
      " [    11   1584]]\n",
      "Logarithmic Loss:  0.07374605008083888\n",
      "ROC AUC score:  0.9991690734182391\n",
      "\n",
      "\n",
      "fitting for label obscene\n",
      "Accuracy score:  0.7191406959911262\n",
      "Precision score:  0.15836245443955962\n",
      "Recall score:  0.9976328559592851\n",
      "F1 score:  0.2733360356708553\n",
      "Confusion matrix:\n",
      "[[106325  44797]\n",
      " [    20   8429]]\n",
      "Logarithmic Loss:  0.5564503422124562\n",
      "ROC AUC score:  0.9944977583378385\n",
      "\n",
      "\n",
      "fitting for label threat\n",
      "Accuracy score:  0.9975371464739834\n",
      "Precision score:  0.5530586766541823\n",
      "Recall score:  0.9267782426778243\n",
      "F1 score:  0.6927286942924159\n",
      "Confusion matrix:\n",
      "[[158735    358]\n",
      " [    35    443]]\n",
      "Logarithmic Loss:  0.04824034673875958\n",
      "ROC AUC score:  0.9990270618009355\n",
      "\n",
      "\n",
      "fitting for label insult\n",
      "Accuracy score:  0.675329477160637\n",
      "Precision score:  0.13185284505153774\n",
      "Recall score:  0.9987304811476451\n",
      "F1 score:  0.23295134879038226\n",
      "Confusion matrix:\n",
      "[[99896 51798]\n",
      " [   10  7867]]\n",
      "Logarithmic Loss:  0.5934156285871214\n",
      "ROC AUC score:  0.9932529760443832\n",
      "\n",
      "\n",
      "fitting for label identity_hate\n",
      "Accuracy score:  0.9920850279812748\n",
      "Precision score:  0.5272657450076805\n",
      "Recall score:  0.9772241992882562\n",
      "F1 score:  0.6849588426041407\n",
      "Confusion matrix:\n",
      "[[156935   1231]\n",
      " [    32   1373]]\n",
      "Logarithmic Loss:  0.2052440475392175\n",
      "ROC AUC score:  0.9981928329455025\n",
      "\n",
      "\n"
     ]
    }
   ],
   "source": [
    "# model evaluation on each label\n",
    "i = 0\n",
    "for label in labels:\n",
    "    print(f'fitting for label {label}')\n",
    "    get_evaluation_score_single_class(selected_train[label], predictions_rf[:,i], np.array(predictions_proba_rf[i][:,1]).T)\n",
    "    i += 1\n",
    "    print(\"\\n\")"
   ]
  },
  {
   "cell_type": "code",
   "execution_count": 74,
   "id": "1304762b",
   "metadata": {},
   "outputs": [],
   "source": [
    "# on test data\n",
    "predictions_rf_test = classifier_rf.predict(selected_test[features])\n",
    "predictions_proba_rf_test = classifier_rf.predict_proba(selected_test[features])"
   ]
  },
  {
   "cell_type": "code",
   "execution_count": 75,
   "id": "d6b80bd9",
   "metadata": {},
   "outputs": [
    {
     "name": "stdout",
     "output_type": "stream",
     "text": [
      "Accuracy score:  0.4317734221138516\n",
      "Precision score:  0.15660378304421346\n",
      "Recall score:  0.8870188991585046\n",
      "F1 score:  0.25636103500394214\n"
     ]
    }
   ],
   "source": [
    "# model evaluation on test data\n",
    "get_overall_evaluation_score(selected_test[labels], predictions_rf_test)"
   ]
  },
  {
   "cell_type": "markdown",
   "id": "d678baf0",
   "metadata": {},
   "source": [
    "### GridSearch Cross Validation"
   ]
  },
  {
   "cell_type": "code",
   "execution_count": 21,
   "id": "a215b78f",
   "metadata": {},
   "outputs": [
    {
     "data": {
      "text/html": [
       "<style>#sk-container-id-1 {color: black;background-color: white;}#sk-container-id-1 pre{padding: 0;}#sk-container-id-1 div.sk-toggleable {background-color: white;}#sk-container-id-1 label.sk-toggleable__label {cursor: pointer;display: block;width: 100%;margin-bottom: 0;padding: 0.3em;box-sizing: border-box;text-align: center;}#sk-container-id-1 label.sk-toggleable__label-arrow:before {content: \"▸\";float: left;margin-right: 0.25em;color: #696969;}#sk-container-id-1 label.sk-toggleable__label-arrow:hover:before {color: black;}#sk-container-id-1 div.sk-estimator:hover label.sk-toggleable__label-arrow:before {color: black;}#sk-container-id-1 div.sk-toggleable__content {max-height: 0;max-width: 0;overflow: hidden;text-align: left;background-color: #f0f8ff;}#sk-container-id-1 div.sk-toggleable__content pre {margin: 0.2em;color: black;border-radius: 0.25em;background-color: #f0f8ff;}#sk-container-id-1 input.sk-toggleable__control:checked~div.sk-toggleable__content {max-height: 200px;max-width: 100%;overflow: auto;}#sk-container-id-1 input.sk-toggleable__control:checked~label.sk-toggleable__label-arrow:before {content: \"▾\";}#sk-container-id-1 div.sk-estimator input.sk-toggleable__control:checked~label.sk-toggleable__label {background-color: #d4ebff;}#sk-container-id-1 div.sk-label input.sk-toggleable__control:checked~label.sk-toggleable__label {background-color: #d4ebff;}#sk-container-id-1 input.sk-hidden--visually {border: 0;clip: rect(1px 1px 1px 1px);clip: rect(1px, 1px, 1px, 1px);height: 1px;margin: -1px;overflow: hidden;padding: 0;position: absolute;width: 1px;}#sk-container-id-1 div.sk-estimator {font-family: monospace;background-color: #f0f8ff;border: 1px dotted black;border-radius: 0.25em;box-sizing: border-box;margin-bottom: 0.5em;}#sk-container-id-1 div.sk-estimator:hover {background-color: #d4ebff;}#sk-container-id-1 div.sk-parallel-item::after {content: \"\";width: 100%;border-bottom: 1px solid gray;flex-grow: 1;}#sk-container-id-1 div.sk-label:hover label.sk-toggleable__label {background-color: #d4ebff;}#sk-container-id-1 div.sk-serial::before {content: \"\";position: absolute;border-left: 1px solid gray;box-sizing: border-box;top: 0;bottom: 0;left: 50%;z-index: 0;}#sk-container-id-1 div.sk-serial {display: flex;flex-direction: column;align-items: center;background-color: white;padding-right: 0.2em;padding-left: 0.2em;position: relative;}#sk-container-id-1 div.sk-item {position: relative;z-index: 1;}#sk-container-id-1 div.sk-parallel {display: flex;align-items: stretch;justify-content: center;background-color: white;position: relative;}#sk-container-id-1 div.sk-item::before, #sk-container-id-1 div.sk-parallel-item::before {content: \"\";position: absolute;border-left: 1px solid gray;box-sizing: border-box;top: 0;bottom: 0;left: 50%;z-index: -1;}#sk-container-id-1 div.sk-parallel-item {display: flex;flex-direction: column;z-index: 1;position: relative;background-color: white;}#sk-container-id-1 div.sk-parallel-item:first-child::after {align-self: flex-end;width: 50%;}#sk-container-id-1 div.sk-parallel-item:last-child::after {align-self: flex-start;width: 50%;}#sk-container-id-1 div.sk-parallel-item:only-child::after {width: 0;}#sk-container-id-1 div.sk-dashed-wrapped {border: 1px dashed gray;margin: 0 0.4em 0.5em 0.4em;box-sizing: border-box;padding-bottom: 0.4em;background-color: white;}#sk-container-id-1 div.sk-label label {font-family: monospace;font-weight: bold;display: inline-block;line-height: 1.2em;}#sk-container-id-1 div.sk-label-container {text-align: center;}#sk-container-id-1 div.sk-container {/* jupyter's `normalize.less` sets `[hidden] { display: none; }` but bootstrap.min.css set `[hidden] { display: none !important; }` so we also need the `!important` here to be able to override the default hidden behavior on the sphinx rendered scikit-learn.org. See: https://github.com/scikit-learn/scikit-learn/issues/21755 */display: inline-block !important;position: relative;}#sk-container-id-1 div.sk-text-repr-fallback {display: none;}</style><div id=\"sk-container-id-1\" class=\"sk-top-container\"><div class=\"sk-text-repr-fallback\"><pre>GridSearchCV(cv=5,\n",
       "             estimator=RandomForestClassifier(class_weight=&#x27;balanced&#x27;,\n",
       "                                              random_state=0),\n",
       "             param_grid={&#x27;max_depth&#x27;: [2, 5, 7, 9],\n",
       "                         &#x27;n_estimators&#x27;: [5, 10, 15, 20]})</pre><b>In a Jupyter environment, please rerun this cell to show the HTML representation or trust the notebook. <br />On GitHub, the HTML representation is unable to render, please try loading this page with nbviewer.org.</b></div><div class=\"sk-container\" hidden><div class=\"sk-item sk-dashed-wrapped\"><div class=\"sk-label-container\"><div class=\"sk-label sk-toggleable\"><input class=\"sk-toggleable__control sk-hidden--visually\" id=\"sk-estimator-id-1\" type=\"checkbox\" ><label for=\"sk-estimator-id-1\" class=\"sk-toggleable__label sk-toggleable__label-arrow\">GridSearchCV</label><div class=\"sk-toggleable__content\"><pre>GridSearchCV(cv=5,\n",
       "             estimator=RandomForestClassifier(class_weight=&#x27;balanced&#x27;,\n",
       "                                              random_state=0),\n",
       "             param_grid={&#x27;max_depth&#x27;: [2, 5, 7, 9],\n",
       "                         &#x27;n_estimators&#x27;: [5, 10, 15, 20]})</pre></div></div></div><div class=\"sk-parallel\"><div class=\"sk-parallel-item\"><div class=\"sk-item\"><div class=\"sk-label-container\"><div class=\"sk-label sk-toggleable\"><input class=\"sk-toggleable__control sk-hidden--visually\" id=\"sk-estimator-id-2\" type=\"checkbox\" ><label for=\"sk-estimator-id-2\" class=\"sk-toggleable__label sk-toggleable__label-arrow\">estimator: RandomForestClassifier</label><div class=\"sk-toggleable__content\"><pre>RandomForestClassifier(class_weight=&#x27;balanced&#x27;, random_state=0)</pre></div></div></div><div class=\"sk-serial\"><div class=\"sk-item\"><div class=\"sk-estimator sk-toggleable\"><input class=\"sk-toggleable__control sk-hidden--visually\" id=\"sk-estimator-id-3\" type=\"checkbox\" ><label for=\"sk-estimator-id-3\" class=\"sk-toggleable__label sk-toggleable__label-arrow\">RandomForestClassifier</label><div class=\"sk-toggleable__content\"><pre>RandomForestClassifier(class_weight=&#x27;balanced&#x27;, random_state=0)</pre></div></div></div></div></div></div></div></div></div></div>"
      ],
      "text/plain": [
       "GridSearchCV(cv=5,\n",
       "             estimator=RandomForestClassifier(class_weight='balanced',\n",
       "                                              random_state=0),\n",
       "             param_grid={'max_depth': [2, 5, 7, 9],\n",
       "                         'n_estimators': [5, 10, 15, 20]})"
      ]
     },
     "execution_count": 21,
     "metadata": {},
     "output_type": "execute_result"
    }
   ],
   "source": [
    "# using grid search cv\n",
    "from sklearn.model_selection import GridSearchCV\n",
    "param_grid = {\n",
    "    'n_estimators': [5, 10, 15, 20],\n",
    "    'max_depth': [2, 5, 7, 9]\n",
    "}\n",
    "rf_cv = RandomForestClassifier(random_state = 0,class_weight='balanced')\n",
    "grid_clf = GridSearchCV(rf_cv, param_grid, cv=5)\n",
    "grid_clf.fit(selected_train[features], selected_train[labels])"
   ]
  },
  {
   "cell_type": "code",
   "execution_count": 26,
   "id": "9d8ab377",
   "metadata": {},
   "outputs": [
    {
     "data": {
      "text/plain": [
       "{'max_depth': 9, 'n_estimators': 5}"
      ]
     },
     "execution_count": 26,
     "metadata": {},
     "output_type": "execute_result"
    }
   ],
   "source": [
    "grid_clf.best_params_"
   ]
  },
  {
   "cell_type": "code",
   "execution_count": 27,
   "id": "28088751",
   "metadata": {},
   "outputs": [],
   "source": [
    "classifier_rf_tuned = RandomForestClassifier(random_state = 0,class_weight='balanced',n_estimators=5,max_depth = 9)\n",
    "classifier_rf_tuned.fit(selected_train[features], selected_train[labels])\n",
    "predictions_rf_tuned = classifier_rf_tuned.predict(selected_train[features])"
   ]
  },
  {
   "cell_type": "code",
   "execution_count": 28,
   "id": "16e81515",
   "metadata": {},
   "outputs": [
    {
     "name": "stdout",
     "output_type": "stream",
     "text": [
      "Accuracy score:  0.007971373244511847\n",
      "Precision score:  0.06985598010561689\n",
      "Recall score:  0.9923927289304234\n",
      "F1 score:  0.1295739288108892\n"
     ]
    }
   ],
   "source": [
    "# model evaluation overall score\n",
    "get_overall_evaluation_score(selected_train[labels], predictions_rf_tuned)"
   ]
  },
  {
   "cell_type": "code",
   "execution_count": 29,
   "id": "97c7ecfb",
   "metadata": {},
   "outputs": [],
   "source": [
    "# on test data\n",
    "predictions_rf_tuned_test = classifier_rf_tuned.predict(selected_test[features])\n",
    "predictions_proba_rf_tuned_test = classifier_rf_tuned.predict_proba(selected_test[features])"
   ]
  },
  {
   "cell_type": "code",
   "execution_count": 30,
   "id": "574f71b1",
   "metadata": {},
   "outputs": [
    {
     "name": "stdout",
     "output_type": "stream",
     "text": [
      "Accuracy score:  0.005970802463346776\n",
      "Precision score:  0.06926813812086417\n",
      "Recall score:  0.9793764657194096\n",
      "F1 score:  0.12856055597128338\n"
     ]
    }
   ],
   "source": [
    "# model evaluation on test data\n",
    "get_overall_evaluation_score(selected_test[labels], predictions_rf_tuned_test)"
   ]
  },
  {
   "cell_type": "markdown",
   "id": "0d79f09f",
   "metadata": {},
   "source": [
    "As the model after tuning performed even worse, we would not apply parameter tuning on Random Forest as well."
   ]
  },
  {
   "cell_type": "markdown",
   "id": "3d7e839b",
   "metadata": {},
   "source": [
    "### Export Model"
   ]
  },
  {
   "cell_type": "code",
   "execution_count": 76,
   "id": "e011a749",
   "metadata": {},
   "outputs": [
    {
     "data": {
      "text/plain": [
       "['rf_lps.sav']"
      ]
     },
     "execution_count": 76,
     "metadata": {},
     "output_type": "execute_result"
    }
   ],
   "source": [
    "joblib.dump(classifier_rf, 'rf_lps.sav')"
   ]
  },
  {
   "cell_type": "markdown",
   "id": "e4fbdf1e",
   "metadata": {},
   "source": [
    "### Random Forest Using ClassificationChain"
   ]
  },
  {
   "cell_type": "code",
   "execution_count": 48,
   "id": "4d5ec6b1",
   "metadata": {},
   "outputs": [],
   "source": [
    "classifier_rf_chain = ClassifierChain(RandomForestClassifier(random_state = 0,max_depth = 10))\n",
    "# train\n",
    "classifier_rf_chain.fit(selected_train[features], selected_train[labels])\n",
    "# predict\n",
    "predictions_chain = classifier_rf_chain.predict(selected_train[features])"
   ]
  },
  {
   "cell_type": "code",
   "execution_count": 50,
   "id": "a5d615f3",
   "metadata": {},
   "outputs": [],
   "source": [
    "# predict probability\n",
    "predictions_proba_chain = classifier_rf_chain.predict_proba(selected_train[features])"
   ]
  },
  {
   "cell_type": "code",
   "execution_count": 51,
   "id": "00297c85",
   "metadata": {},
   "outputs": [
    {
     "name": "stdout",
     "output_type": "stream",
     "text": [
      "Accuracy score:  0.9322245270130538\n",
      "Precision score:  0.9020199772874217\n",
      "Recall score:  0.6421163599065474\n",
      "F1 score:  0.7324311795329826\n"
     ]
    }
   ],
   "source": [
    "# model evaluation overall score\n",
    "get_overall_evaluation_score(selected_train[labels], predictions_chain)"
   ]
  },
  {
   "cell_type": "code",
   "execution_count": 52,
   "id": "80fa2338",
   "metadata": {},
   "outputs": [
    {
     "name": "stdout",
     "output_type": "stream",
     "text": [
      "fitting for label toxic\n",
      "Accuracy score:  0.9615155636049156\n",
      "Precision score:  0.9554184495969749\n",
      "Recall score:  0.6277625212501634\n",
      "F1 score:  0.7576845677307343\n",
      "Confusion matrix:\n",
      "[[143829    448]\n",
      " [  5693   9601]]\n",
      "Logarithmic Loss:  0.1163360526290165\n",
      "ROC AUC score:  0.964860772678608\n",
      "\n",
      "\n",
      "fitting for label severe_toxic\n",
      "Accuracy score:  0.9941092053067286\n",
      "Precision score:  0.9685264663805436\n",
      "Recall score:  0.4244514106583072\n",
      "F1 score:  0.5902353966870096\n",
      "Confusion matrix:\n",
      "[[157954     22]\n",
      " [   918    677]]\n",
      "Logarithmic Loss:  0.015965643592664773\n",
      "ROC AUC score:  0.9947034869627434\n",
      "\n",
      "\n",
      "fitting for label obscene\n",
      "Accuracy score:  0.9822085466657475\n",
      "Precision score:  0.8754014989293362\n",
      "Recall score:  0.7741744585158007\n",
      "F1 score:  0.8216820551472896\n",
      "Confusion matrix:\n",
      "[[150191    931]\n",
      " [  1908   6541]]\n",
      "Logarithmic Loss:  0.058234173859614345\n",
      "ROC AUC score:  0.9833681232487671\n",
      "\n",
      "\n",
      "fitting for label threat\n",
      "Accuracy score:  0.9974494112338708\n",
      "Precision score:  1.0\n",
      "Recall score:  0.14853556485355648\n",
      "F1 score:  0.2586520947176685\n",
      "Confusion matrix:\n",
      "[[159093      0]\n",
      " [   407     71]]\n",
      "Logarithmic Loss:  0.006134468510358536\n",
      "ROC AUC score:  0.997106479152861\n",
      "\n",
      "\n",
      "fitting for label insult\n",
      "Accuracy score:  0.975998145026352\n",
      "Precision score:  0.7911929774068212\n",
      "Recall score:  0.6979814650247557\n",
      "F1 score:  0.7416700391204639\n",
      "Confusion matrix:\n",
      "[[150243   1451]\n",
      " [  2379   5498]]\n",
      "Logarithmic Loss:  0.07241767338718921\n",
      "ROC AUC score:  0.9773315058021926\n",
      "\n",
      "\n",
      "fitting for label identity_hate\n",
      "Accuracy score:  0.9921226287984659\n",
      "Precision score:  0.9933333333333333\n",
      "Recall score:  0.10604982206405694\n",
      "F1 score:  0.19163987138263666\n",
      "Confusion matrix:\n",
      "[[158165      1]\n",
      " [  1256    149]]\n",
      "Logarithmic Loss:  0.02318422858366196\n",
      "ROC AUC score:  0.9784449627520939\n",
      "\n",
      "\n"
     ]
    }
   ],
   "source": [
    "# model evaluation on each label\n",
    "i = 0\n",
    "for label in labels:\n",
    "    print(f'fitting for label {label}')\n",
    "    get_evaluation_score_single_class(selected_train[label], predictions_chain[:,i].toarray(), predictions_proba_chain[:,i].toarray())\n",
    "    i += 1\n",
    "    print(\"\\n\")"
   ]
  },
  {
   "cell_type": "code",
   "execution_count": 55,
   "id": "d1da76d1",
   "metadata": {},
   "outputs": [],
   "source": [
    "# on test data\n",
    "predictions_chain_test = classifier_rf_chain.predict(selected_test[features])\n",
    "# predict probability\n",
    "predictions_proba_chain_test = classifier_rf_chain.predict_proba(selected_test[features])"
   ]
  },
  {
   "cell_type": "code",
   "execution_count": 56,
   "id": "515d39de",
   "metadata": {},
   "outputs": [
    {
     "name": "stdout",
     "output_type": "stream",
     "text": [
      "Accuracy score:  0.8951045671949732\n",
      "Precision score:  0.5967302928948657\n",
      "Recall score:  0.6288453579804111\n",
      "F1 score:  0.5943281006205795\n"
     ]
    }
   ],
   "source": [
    "get_overall_evaluation_score(selected_test[labels], predictions_chain_test)"
   ]
  },
  {
   "cell_type": "markdown",
   "id": "741cca96",
   "metadata": {},
   "source": [
    "### Export Model"
   ]
  },
  {
   "cell_type": "code",
   "execution_count": 58,
   "id": "0be37c73",
   "metadata": {},
   "outputs": [
    {
     "data": {
      "text/plain": [
       "['rf_chain.sav']"
      ]
     },
     "execution_count": 58,
     "metadata": {},
     "output_type": "execute_result"
    }
   ],
   "source": [
    "joblib.dump(classifier_rf_chain, 'rf_chain.sav')"
   ]
  },
  {
   "cell_type": "markdown",
   "id": "8cc6e1f0",
   "metadata": {},
   "source": [
    "### Random Forest Using BinaryRelevance"
   ]
  },
  {
   "cell_type": "code",
   "execution_count": 57,
   "id": "0b14c89f",
   "metadata": {},
   "outputs": [],
   "source": [
    "classifier_rf_br = BinaryRelevance(RandomForestClassifier(random_state = 0,class_weight='balanced',max_depth = 10))\n",
    "# train\n",
    "classifier_rf_br.fit(selected_train[features], selected_train[labels])\n",
    "# predict\n",
    "predictions = classifier_rf_br.predict(selected_train[features])"
   ]
  },
  {
   "cell_type": "code",
   "execution_count": 59,
   "id": "75afafbf",
   "metadata": {},
   "outputs": [],
   "source": [
    "# predict probability\n",
    "predictions_proba = classifier_rf_br.predict_proba(selected_train[features])"
   ]
  },
  {
   "cell_type": "code",
   "execution_count": 60,
   "id": "386193fb",
   "metadata": {},
   "outputs": [
    {
     "name": "stdout",
     "output_type": "stream",
     "text": [
      "Accuracy score:  0.886432998477167\n",
      "Precision score:  0.6001627923746145\n",
      "Recall score:  0.9106216878454613\n",
      "F1 score:  0.7106884726700586\n"
     ]
    }
   ],
   "source": [
    "# model evaluation\n",
    "get_overall_evaluation_score(selected_train[labels], predictions)"
   ]
  },
  {
   "cell_type": "code",
   "execution_count": 61,
   "id": "2c83ee32",
   "metadata": {},
   "outputs": [
    {
     "name": "stdout",
     "output_type": "stream",
     "text": [
      "fitting for label toxic\n",
      "Accuracy score:  0.94515920812679\n",
      "Precision score:  0.6614200424335126\n",
      "Recall score:  0.8764875114423957\n",
      "F1 score:  0.7539158066421079\n",
      "Confusion matrix:\n",
      "[[137415   6862]\n",
      " [  1889  13405]]\n",
      "Logarithmic Loss:  0.20778452308065776\n",
      "ROC AUC score:  0.9750634177911363\n",
      "\n",
      "\n",
      "fitting for label severe_toxic\n",
      "Accuracy score:  0.9745881143816859\n",
      "Precision score:  0.28043555872902537\n",
      "Recall score:  0.9849529780564263\n",
      "F1 score:  0.4365707933861331\n",
      "Confusion matrix:\n",
      "[[153945   4031]\n",
      " [    24   1571]]\n",
      "Logarithmic Loss:  0.07067698904905502\n",
      "ROC AUC score:  0.9927983922163963\n",
      "\n",
      "\n",
      "fitting for label obscene\n",
      "Accuracy score:  0.9723633993645462\n",
      "Precision score:  0.6725920861464832\n",
      "Recall score:  0.9314711800213042\n",
      "F1 score:  0.7811414392059554\n",
      "Confusion matrix:\n",
      "[[147291   3831]\n",
      " [   579   7870]]\n",
      "Logarithmic Loss:  0.11739173656586525\n",
      "ROC AUC score:  0.9904634006742283\n",
      "\n",
      "\n",
      "fitting for label threat\n",
      "Accuracy score:  0.9826534896691754\n",
      "Precision score:  0.1472581638940234\n",
      "Recall score:  1.0\n",
      "F1 score:  0.25671321160042965\n",
      "Confusion matrix:\n",
      "[[156325   2768]\n",
      " [     0    478]]\n",
      "Logarithmic Loss:  0.05472458521106791\n",
      "ROC AUC score:  0.9952272199305966\n",
      "\n",
      "\n",
      "fitting for label insult\n",
      "Accuracy score:  0.9618790381710962\n",
      "Precision score:  0.5699906367041199\n",
      "Recall score:  0.9273835216452965\n",
      "F1 score:  0.7060358575363649\n",
      "Confusion matrix:\n",
      "[[146183   5511]\n",
      " [   572   7305]]\n",
      "Logarithmic Loss:  0.1437840727916314\n",
      "ROC AUC score:  0.9869353869637056\n",
      "\n",
      "\n",
      "fitting for label identity_hate\n",
      "Accuracy score:  0.96252451886621\n",
      "Precision score:  0.1840033153750518\n",
      "Recall score:  0.9480427046263346\n",
      "F1 score:  0.30819065247570565\n",
      "Confusion matrix:\n",
      "[[152259   5907]\n",
      " [    73   1332]]\n",
      "Logarithmic Loss:  0.11829652810836705\n",
      "ROC AUC score:  0.9862776182310014\n",
      "\n",
      "\n"
     ]
    }
   ],
   "source": [
    "# model evaluation on each label\n",
    "i = 0\n",
    "for label in labels:\n",
    "    print(f'fitting for label {label}')\n",
    "    get_evaluation_score_single_class(selected_train[label], predictions[:,i].toarray(), predictions_proba[:,i].toarray())\n",
    "    i += 1\n",
    "    print(\"\\n\")"
   ]
  },
  {
   "cell_type": "markdown",
   "id": "f8bb484d",
   "metadata": {},
   "source": [
    "### Export Model"
   ]
  },
  {
   "cell_type": "code",
   "execution_count": 62,
   "id": "17ff4ac9",
   "metadata": {},
   "outputs": [
    {
     "data": {
      "text/plain": [
       "['rf_br.sav']"
      ]
     },
     "execution_count": 62,
     "metadata": {},
     "output_type": "execute_result"
    }
   ],
   "source": [
    "joblib.dump(classifier_rf_br, 'rf_br.sav')"
   ]
  },
  {
   "cell_type": "markdown",
   "id": "b0ddad32",
   "metadata": {},
   "source": [
    "### Random Forest Using OneVsRest"
   ]
  },
  {
   "cell_type": "code",
   "execution_count": 63,
   "id": "1bf5d953",
   "metadata": {},
   "outputs": [
    {
     "name": "stdout",
     "output_type": "stream",
     "text": [
      "fitting for label toxic\n",
      "Model Performance on training set:\n",
      "Accuracy score:  0.94515920812679\n",
      "Precision score:  0.6614200424335126\n",
      "Recall score:  0.8764875114423957\n",
      "F1 score:  0.7539158066421079\n",
      "Confusion matrix:\n",
      "[[137415   6862]\n",
      " [  1889  13405]]\n",
      "Logarithmic Loss:  0.20778452308065776\n",
      "ROC AUC score:  0.9750634177911363\n",
      "Model Performance on test set:\n",
      "Accuracy score:  0.8851323892588077\n",
      "Precision score:  0.44677432992305743\n",
      "Recall score:  0.8676518883415435\n",
      "F1 score:  0.5898308868672211\n",
      "Confusion matrix:\n",
      "[[51345  6543]\n",
      " [  806  5284]]\n",
      "Logarithmic Loss:  0.31447545034122104\n",
      "ROC AUC score:  0.9485148321065717\n",
      "fitting for label severe_toxic\n",
      "Model Performance on training set:\n",
      "Accuracy score:  0.9745881143816859\n",
      "Precision score:  0.28043555872902537\n",
      "Recall score:  0.9849529780564263\n",
      "F1 score:  0.4365707933861331\n",
      "Confusion matrix:\n",
      "[[153945   4031]\n",
      " [    24   1571]]\n",
      "Logarithmic Loss:  0.07067698904905502\n",
      "ROC AUC score:  0.9927983922163963\n",
      "Model Performance on test set:\n",
      "Accuracy score:  0.9630341679952483\n",
      "Precision score:  0.11841100076394194\n",
      "Recall score:  0.8446866485013624\n",
      "F1 score:  0.20770519262981577\n",
      "Confusion matrix:\n",
      "[[61303  2308]\n",
      " [   57   310]]\n",
      "Logarithmic Loss:  0.09728765166464477\n",
      "ROC AUC score:  0.9808589006828246\n",
      "fitting for label obscene\n",
      "Model Performance on training set:\n",
      "Accuracy score:  0.9723633993645462\n",
      "Precision score:  0.6725920861464832\n",
      "Recall score:  0.9314711800213042\n",
      "F1 score:  0.7811414392059554\n",
      "Confusion matrix:\n",
      "[[147291   3831]\n",
      " [   579   7870]]\n",
      "Logarithmic Loss:  0.11739173656586525\n",
      "ROC AUC score:  0.9904634006742283\n",
      "Model Performance on test set:\n",
      "Accuracy score:  0.9252711869705211\n",
      "Precision score:  0.42625169147496617\n",
      "Recall score:  0.853427255486318\n",
      "F1 score:  0.5685407454200885\n",
      "Confusion matrix:\n",
      "[[56047  4240]\n",
      " [  541  3150]]\n",
      "Logarithmic Loss:  0.21427637950467987\n",
      "ROC AUC score:  0.963206320195563\n",
      "fitting for label threat\n",
      "Model Performance on training set:\n",
      "Accuracy score:  0.9826534896691754\n",
      "Precision score:  0.1472581638940234\n",
      "Recall score:  1.0\n",
      "F1 score:  0.25671321160042965\n",
      "Confusion matrix:\n",
      "[[156325   2768]\n",
      " [     0    478]]\n",
      "Logarithmic Loss:  0.05472458521106791\n",
      "ROC AUC score:  0.9952272199305966\n",
      "Model Performance on test set:\n",
      "Accuracy score:  0.9815561599299759\n",
      "Precision score:  0.12059514487079091\n",
      "Recall score:  0.7298578199052133\n",
      "F1 score:  0.20698924731182797\n",
      "Confusion matrix:\n",
      "[[62644  1123]\n",
      " [   57   154]]\n",
      "Logarithmic Loss:  0.06203229299003879\n",
      "ROC AUC score:  0.9724585663876865\n",
      "fitting for label insult\n",
      "Model Performance on training set:\n",
      "Accuracy score:  0.9618790381710962\n",
      "Precision score:  0.5699906367041199\n",
      "Recall score:  0.9273835216452965\n",
      "F1 score:  0.7060358575363649\n",
      "Confusion matrix:\n",
      "[[146183   5511]\n",
      " [   572   7305]]\n",
      "Logarithmic Loss:  0.1437840727916314\n",
      "ROC AUC score:  0.9869353869637056\n",
      "Model Performance on test set:\n",
      "Accuracy score:  0.9172215449060614\n",
      "Precision score:  0.37918552036199094\n",
      "Recall score:  0.8558505981908374\n",
      "F1 score:  0.5255330585916502\n",
      "Confusion matrix:\n",
      "[[55749  4802]\n",
      " [  494  2933]]\n",
      "Logarithmic Loss:  0.2226111282373993\n",
      "ROC AUC score:  0.9595515363466682\n",
      "fitting for label identity_hate\n",
      "Model Performance on training set:\n",
      "Accuracy score:  0.96252451886621\n",
      "Precision score:  0.1840033153750518\n",
      "Recall score:  0.9480427046263346\n",
      "F1 score:  0.30819065247570565\n",
      "Confusion matrix:\n",
      "[[152259   5907]\n",
      " [    73   1332]]\n",
      "Logarithmic Loss:  0.11829652810836705\n",
      "ROC AUC score:  0.9862776182310014\n",
      "Model Performance on test set:\n",
      "Accuracy score:  0.9456375629122511\n",
      "Precision score:  0.1409657320872274\n",
      "Recall score:  0.7626404494382022\n",
      "F1 score:  0.23794916739702013\n",
      "Confusion matrix:\n",
      "[[59957  3309]\n",
      " [  169   543]]\n",
      "Logarithmic Loss:  0.15159428266870725\n",
      "ROC AUC score:  0.9528783321499344\n"
     ]
    }
   ],
   "source": [
    "for label in labels:\n",
    "    print(f'fitting for label {label}')\n",
    "    classifier_rf_ovr = RandomForestClassifier(random_state = 0,class_weight='balanced',max_depth = 10)\n",
    "    classifier_rf_ovr.fit(selected_train[features], selected_train[label])\n",
    "    predictions_rf_ovr = classifier_rf_ovr.predict(selected_train[features])\n",
    "    predictions_proba_rf_ovr = classifier_rf_ovr.predict_proba(selected_train[features])\n",
    "    print('Model Performance on training set:')\n",
    "    get_evaluation_score_single_class(selected_train[label], predictions_rf_ovr, predictions_proba_rf_ovr[:, 1])\n",
    "\n",
    "#     output model\n",
    "    fileName = 'rf_' + str(label) + '.sav'\n",
    "    joblib.dump(classifier_rf_ovr, fileName)\n",
    "    \n",
    "    predictions_rf_ovr_test = classifier_rf_ovr.predict(selected_test[features])\n",
    "    predictions_proba_rf_ovr_test = classifier_rf_ovr.predict_proba(selected_test[features])\n",
    "    print('Model Performance on test set:')\n",
    "    get_evaluation_score_single_class(selected_test[label], predictions_rf_ovr_test, predictions_proba_rf_ovr_test[:, 1])"
   ]
  },
  {
   "cell_type": "markdown",
   "id": "8e295fef",
   "metadata": {},
   "source": [
    "## Oversampled Data"
   ]
  },
  {
   "cell_type": "code",
   "execution_count": 8,
   "id": "6daedbe8",
   "metadata": {},
   "outputs": [],
   "source": [
    "oversampled_train = pd.read_csv('Data/train_oversampled.csv')"
   ]
  },
  {
   "cell_type": "code",
   "execution_count": 9,
   "id": "e58254e7",
   "metadata": {},
   "outputs": [
    {
     "name": "stdout",
     "output_type": "stream",
     "text": [
      "(421989, 49)\n"
     ]
    },
    {
     "data": {
      "text/html": [
       "<div>\n",
       "<style scoped>\n",
       "    .dataframe tbody tr th:only-of-type {\n",
       "        vertical-align: middle;\n",
       "    }\n",
       "\n",
       "    .dataframe tbody tr th {\n",
       "        vertical-align: top;\n",
       "    }\n",
       "\n",
       "    .dataframe thead th {\n",
       "        text-align: right;\n",
       "    }\n",
       "</style>\n",
       "<table border=\"1\" class=\"dataframe\">\n",
       "  <thead>\n",
       "    <tr style=\"text-align: right;\">\n",
       "      <th></th>\n",
       "      <th>toxic</th>\n",
       "      <th>obscene</th>\n",
       "      <th>insult</th>\n",
       "      <th>none</th>\n",
       "      <th>min_length_scaled</th>\n",
       "      <th>num_words_vs_length</th>\n",
       "      <th>exclamation_marks_vs_length</th>\n",
       "      <th>num_unique_words_scaled</th>\n",
       "      <th>verbs_vs_length</th>\n",
       "      <th>num_uppercase_scaled</th>\n",
       "      <th>...</th>\n",
       "      <th>139</th>\n",
       "      <th>143</th>\n",
       "      <th>156</th>\n",
       "      <th>157</th>\n",
       "      <th>170</th>\n",
       "      <th>198</th>\n",
       "      <th>clean_text</th>\n",
       "      <th>threat</th>\n",
       "      <th>identity_hate</th>\n",
       "      <th>severe_toxic</th>\n",
       "    </tr>\n",
       "  </thead>\n",
       "  <tbody>\n",
       "    <tr>\n",
       "      <th>0</th>\n",
       "      <td>0</td>\n",
       "      <td>0</td>\n",
       "      <td>0</td>\n",
       "      <td>1</td>\n",
       "      <td>0.009393</td>\n",
       "      <td>0.181132</td>\n",
       "      <td>0.000000</td>\n",
       "      <td>0.106329</td>\n",
       "      <td>0.041509</td>\n",
       "      <td>0.003426</td>\n",
       "      <td>...</td>\n",
       "      <td>-0.109984</td>\n",
       "      <td>0.089084</td>\n",
       "      <td>0.012651</td>\n",
       "      <td>-0.019501</td>\n",
       "      <td>-0.091946</td>\n",
       "      <td>-0.113697</td>\n",
       "      <td>explanation why the edits made under my userna...</td>\n",
       "      <td>0</td>\n",
       "      <td>0</td>\n",
       "      <td>0</td>\n",
       "    </tr>\n",
       "    <tr>\n",
       "      <th>1</th>\n",
       "      <td>0</td>\n",
       "      <td>0</td>\n",
       "      <td>0</td>\n",
       "      <td>1</td>\n",
       "      <td>0.000723</td>\n",
       "      <td>0.160714</td>\n",
       "      <td>0.008929</td>\n",
       "      <td>0.043038</td>\n",
       "      <td>0.026786</td>\n",
       "      <td>0.001612</td>\n",
       "      <td>...</td>\n",
       "      <td>0.000094</td>\n",
       "      <td>0.021135</td>\n",
       "      <td>0.039308</td>\n",
       "      <td>-0.067295</td>\n",
       "      <td>-0.079366</td>\n",
       "      <td>-0.044959</td>\n",
       "      <td>d'aww! he matches this background colour i am ...</td>\n",
       "      <td>0</td>\n",
       "      <td>0</td>\n",
       "      <td>0</td>\n",
       "    </tr>\n",
       "    <tr>\n",
       "      <th>2</th>\n",
       "      <td>0</td>\n",
       "      <td>0</td>\n",
       "      <td>0</td>\n",
       "      <td>1</td>\n",
       "      <td>0.007225</td>\n",
       "      <td>0.188841</td>\n",
       "      <td>0.000000</td>\n",
       "      <td>0.091139</td>\n",
       "      <td>0.038627</td>\n",
       "      <td>0.000806</td>\n",
       "      <td>...</td>\n",
       "      <td>-0.146134</td>\n",
       "      <td>0.109907</td>\n",
       "      <td>0.036539</td>\n",
       "      <td>-0.053628</td>\n",
       "      <td>0.027530</td>\n",
       "      <td>-0.211230</td>\n",
       "      <td>hey man, i am really not trying to edit war. i...</td>\n",
       "      <td>0</td>\n",
       "      <td>0</td>\n",
       "      <td>0</td>\n",
       "    </tr>\n",
       "    <tr>\n",
       "      <th>3</th>\n",
       "      <td>0</td>\n",
       "      <td>0</td>\n",
       "      <td>0</td>\n",
       "      <td>1</td>\n",
       "      <td>0.007948</td>\n",
       "      <td>0.175719</td>\n",
       "      <td>0.000000</td>\n",
       "      <td>0.141772</td>\n",
       "      <td>0.036741</td>\n",
       "      <td>0.002217</td>\n",
       "      <td>...</td>\n",
       "      <td>-0.214832</td>\n",
       "      <td>0.177560</td>\n",
       "      <td>0.007675</td>\n",
       "      <td>-0.087473</td>\n",
       "      <td>0.106848</td>\n",
       "      <td>-0.015987</td>\n",
       "      <td>\" more i cannot make any real suggestions on i...</td>\n",
       "      <td>0</td>\n",
       "      <td>0</td>\n",
       "      <td>0</td>\n",
       "    </tr>\n",
       "    <tr>\n",
       "      <th>4</th>\n",
       "      <td>0</td>\n",
       "      <td>0</td>\n",
       "      <td>0</td>\n",
       "      <td>1</td>\n",
       "      <td>0.003613</td>\n",
       "      <td>0.208955</td>\n",
       "      <td>0.000000</td>\n",
       "      <td>0.027848</td>\n",
       "      <td>0.059701</td>\n",
       "      <td>0.000403</td>\n",
       "      <td>...</td>\n",
       "      <td>-0.221076</td>\n",
       "      <td>0.163578</td>\n",
       "      <td>-0.068310</td>\n",
       "      <td>-0.031184</td>\n",
       "      <td>-0.017280</td>\n",
       "      <td>0.038566</td>\n",
       "      <td>you, sir, are my hero. any chance you remember...</td>\n",
       "      <td>0</td>\n",
       "      <td>0</td>\n",
       "      <td>0</td>\n",
       "    </tr>\n",
       "  </tbody>\n",
       "</table>\n",
       "<p>5 rows × 49 columns</p>\n",
       "</div>"
      ],
      "text/plain": [
       "   toxic  obscene  insult  none  min_length_scaled  num_words_vs_length  \\\n",
       "0      0        0       0     1           0.009393             0.181132   \n",
       "1      0        0       0     1           0.000723             0.160714   \n",
       "2      0        0       0     1           0.007225             0.188841   \n",
       "3      0        0       0     1           0.007948             0.175719   \n",
       "4      0        0       0     1           0.003613             0.208955   \n",
       "\n",
       "   exclamation_marks_vs_length  num_unique_words_scaled  verbs_vs_length  \\\n",
       "0                     0.000000                 0.106329         0.041509   \n",
       "1                     0.008929                 0.043038         0.026786   \n",
       "2                     0.000000                 0.091139         0.038627   \n",
       "3                     0.000000                 0.141772         0.036741   \n",
       "4                     0.000000                 0.027848         0.059701   \n",
       "\n",
       "   num_uppercase_scaled  ...       139       143       156       157  \\\n",
       "0              0.003426  ... -0.109984  0.089084  0.012651 -0.019501   \n",
       "1              0.001612  ...  0.000094  0.021135  0.039308 -0.067295   \n",
       "2              0.000806  ... -0.146134  0.109907  0.036539 -0.053628   \n",
       "3              0.002217  ... -0.214832  0.177560  0.007675 -0.087473   \n",
       "4              0.000403  ... -0.221076  0.163578 -0.068310 -0.031184   \n",
       "\n",
       "        170       198                                         clean_text  \\\n",
       "0 -0.091946 -0.113697  explanation why the edits made under my userna...   \n",
       "1 -0.079366 -0.044959  d'aww! he matches this background colour i am ...   \n",
       "2  0.027530 -0.211230  hey man, i am really not trying to edit war. i...   \n",
       "3  0.106848 -0.015987  \" more i cannot make any real suggestions on i...   \n",
       "4 -0.017280  0.038566  you, sir, are my hero. any chance you remember...   \n",
       "\n",
       "   threat  identity_hate  severe_toxic  \n",
       "0       0              0             0  \n",
       "1       0              0             0  \n",
       "2       0              0             0  \n",
       "3       0              0             0  \n",
       "4       0              0             0  \n",
       "\n",
       "[5 rows x 49 columns]"
      ]
     },
     "execution_count": 9,
     "metadata": {},
     "output_type": "execute_result"
    }
   ],
   "source": [
    "print(oversampled_train.shape)\n",
    "oversampled_train.head()"
   ]
  },
  {
   "cell_type": "code",
   "execution_count": 10,
   "id": "86c2cfde",
   "metadata": {},
   "outputs": [],
   "source": [
    "# logistic regression\n",
    "classifier_over = MultiOutputClassifier(LogisticRegression(max_iter=10000))\n",
    "# train\n",
    "classifier_over.fit(oversampled_train[features], oversampled_train[labels])\n",
    "# predict\n",
    "predictions_over = classifier_over.predict(oversampled_train[features])"
   ]
  },
  {
   "cell_type": "code",
   "execution_count": 11,
   "id": "507b546e",
   "metadata": {},
   "outputs": [],
   "source": [
    "# predict probability\n",
    "predictions_proba_log_ovr_over = classifier_over.predict_proba(oversampled_train[features])"
   ]
  },
  {
   "cell_type": "code",
   "execution_count": 16,
   "id": "c7588e11",
   "metadata": {},
   "outputs": [
    {
     "name": "stdout",
     "output_type": "stream",
     "text": [
      "Accuracy score:  0.6146108073907139\n",
      "Precision score:  0.9004191406353675\n",
      "Recall score:  0.91221551936062\n",
      "F1 score:  0.9061222418446149\n"
     ]
    }
   ],
   "source": [
    "# model evaluation overall score\n",
    "get_overall_evaluation_score(oversampled_train[labels], predictions_over)"
   ]
  },
  {
   "cell_type": "code",
   "execution_count": 18,
   "id": "ef4fbfaf",
   "metadata": {},
   "outputs": [
    {
     "name": "stdout",
     "output_type": "stream",
     "text": [
      "Accuracy score:  0.7821282315796055\n",
      "Precision score:  0.3927793290075892\n",
      "Recall score:  0.706028417712788\n",
      "F1 score:  0.4965676475667567\n"
     ]
    }
   ],
   "source": [
    "# on test data\n",
    "predictions_over_test = classifier_over.predict(selected_test[features])\n",
    "# model evaluation overall score\n",
    "get_overall_evaluation_score(selected_test[labels], predictions_over_test)"
   ]
  },
  {
   "cell_type": "markdown",
   "id": "02348c7b",
   "metadata": {},
   "source": [
    "The F1 score for test data using oversampled_train does not improve a lot comparing with using unsampled data (0.4407). In case of overfitting issue, we would not use oversampled_train in building logistic regression model."
   ]
  },
  {
   "cell_type": "code",
   "execution_count": 78,
   "id": "acf5b39c",
   "metadata": {},
   "outputs": [
    {
     "name": "stdout",
     "output_type": "stream",
     "text": [
      "Accuracy score:  0.9780563000457357\n",
      "Precision score:  0.9983590890341083\n",
      "Recall score:  0.9910507879416735\n",
      "F1 score:  0.9946728284828051\n"
     ]
    }
   ],
   "source": [
    "# random forest\n",
    "classifier_rf = RandomForestClassifier(random_state = 0,class_weight='balanced',n_estimators=100,max_depth = 15)\n",
    "classifier_rf.fit(oversampled_train[features], oversampled_train[labels])\n",
    "predictions_rf = classifier_rf.predict(oversampled_train[features])\n",
    "# model evaluation overall score\n",
    "get_overall_evaluation_score(oversampled_train[labels], predictions_rf)"
   ]
  },
  {
   "cell_type": "markdown",
   "id": "b7a81d4e",
   "metadata": {},
   "source": [
    "The F1 score for test data using oversampled_train is obviously overfitted, hence we would not use oversampled_train in building random forest model."
   ]
  },
  {
   "cell_type": "markdown",
   "id": "902e70c9",
   "metadata": {},
   "source": [
    "# ---END---"
   ]
  }
 ],
 "metadata": {
  "kernelspec": {
   "display_name": "Python 3 (ipykernel)",
   "language": "python",
   "name": "python3"
  },
  "language_info": {
   "codemirror_mode": {
    "name": "ipython",
    "version": 3
   },
   "file_extension": ".py",
   "mimetype": "text/x-python",
   "name": "python",
   "nbconvert_exporter": "python",
   "pygments_lexer": "ipython3",
   "version": "3.10.0"
  }
 },
 "nbformat": 4,
 "nbformat_minor": 5
}
