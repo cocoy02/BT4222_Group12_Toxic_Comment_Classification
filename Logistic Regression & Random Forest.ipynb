{
 "cells": [
  {
   "cell_type": "markdown",
   "id": "15f14d2b",
   "metadata": {},
   "source": [
    "## Read Data"
   ]
  },
  {
   "cell_type": "code",
   "execution_count": 131,
   "id": "d03cbd58",
   "metadata": {},
   "outputs": [],
   "source": [
    "import pandas as pd\n",
    "import numpy as np\n",
    "\n",
    "# for reg model training\n",
    "from sklearn.linear_model import LogisticRegression\n",
    "\n",
    "# for random forest\n",
    "\n",
    "# for multi label classification\n",
    "from sklearn.datasets import make_multilabel_classification\n",
    "from skmultilearn.problem_transform import ClassifierChain\n",
    "from sklearn.multioutput import MultiOutputClassifier\n",
    "from skmultilearn.problem_transform import LabelPowerset\n",
    "from skmultilearn.problem_transform import BinaryRelevance\n",
    "\n",
    "# for evaluation metrics\n",
    "%run -i helper_functions.py\n",
    "\n",
    "import warnings\n",
    "warnings.filterwarnings(\"ignore\")"
   ]
  },
  {
   "cell_type": "code",
   "execution_count": 4,
   "id": "c343eaaf",
   "metadata": {},
   "outputs": [],
   "source": [
    "selected_train = pd.read_csv('Data/selected_train.csv')\n",
    "selected_test = pd.read_csv('Data/selected_test.csv')"
   ]
  },
  {
   "cell_type": "code",
   "execution_count": 5,
   "id": "34d7951a",
   "metadata": {},
   "outputs": [
    {
     "data": {
      "text/html": [
       "<div>\n",
       "<style scoped>\n",
       "    .dataframe tbody tr th:only-of-type {\n",
       "        vertical-align: middle;\n",
       "    }\n",
       "\n",
       "    .dataframe tbody tr th {\n",
       "        vertical-align: top;\n",
       "    }\n",
       "\n",
       "    .dataframe thead th {\n",
       "        text-align: right;\n",
       "    }\n",
       "</style>\n",
       "<table border=\"1\" class=\"dataframe\">\n",
       "  <thead>\n",
       "    <tr style=\"text-align: right;\">\n",
       "      <th></th>\n",
       "      <th>toxic</th>\n",
       "      <th>severe_toxic</th>\n",
       "      <th>obscene</th>\n",
       "      <th>threat</th>\n",
       "      <th>insult</th>\n",
       "      <th>identity_hate</th>\n",
       "      <th>none</th>\n",
       "      <th>min_length_scaled</th>\n",
       "      <th>num_words_vs_length</th>\n",
       "      <th>exclamation_marks_vs_length</th>\n",
       "      <th>...</th>\n",
       "      <th>105</th>\n",
       "      <th>114</th>\n",
       "      <th>132</th>\n",
       "      <th>135</th>\n",
       "      <th>139</th>\n",
       "      <th>143</th>\n",
       "      <th>156</th>\n",
       "      <th>157</th>\n",
       "      <th>170</th>\n",
       "      <th>198</th>\n",
       "    </tr>\n",
       "  </thead>\n",
       "  <tbody>\n",
       "    <tr>\n",
       "      <th>0</th>\n",
       "      <td>0</td>\n",
       "      <td>0</td>\n",
       "      <td>0</td>\n",
       "      <td>0</td>\n",
       "      <td>0</td>\n",
       "      <td>0</td>\n",
       "      <td>1</td>\n",
       "      <td>0.009393</td>\n",
       "      <td>0.181132</td>\n",
       "      <td>0.000000</td>\n",
       "      <td>...</td>\n",
       "      <td>-0.091320</td>\n",
       "      <td>-0.017755</td>\n",
       "      <td>0.003997</td>\n",
       "      <td>-0.199211</td>\n",
       "      <td>-0.109984</td>\n",
       "      <td>0.089084</td>\n",
       "      <td>0.012651</td>\n",
       "      <td>-0.019501</td>\n",
       "      <td>-0.091946</td>\n",
       "      <td>-0.113697</td>\n",
       "    </tr>\n",
       "    <tr>\n",
       "      <th>1</th>\n",
       "      <td>0</td>\n",
       "      <td>0</td>\n",
       "      <td>0</td>\n",
       "      <td>0</td>\n",
       "      <td>0</td>\n",
       "      <td>0</td>\n",
       "      <td>1</td>\n",
       "      <td>0.000723</td>\n",
       "      <td>0.160714</td>\n",
       "      <td>0.008929</td>\n",
       "      <td>...</td>\n",
       "      <td>-0.118445</td>\n",
       "      <td>0.039541</td>\n",
       "      <td>0.017522</td>\n",
       "      <td>0.001397</td>\n",
       "      <td>0.000094</td>\n",
       "      <td>0.021135</td>\n",
       "      <td>0.039308</td>\n",
       "      <td>-0.067295</td>\n",
       "      <td>-0.079366</td>\n",
       "      <td>-0.044959</td>\n",
       "    </tr>\n",
       "    <tr>\n",
       "      <th>2</th>\n",
       "      <td>0</td>\n",
       "      <td>0</td>\n",
       "      <td>0</td>\n",
       "      <td>0</td>\n",
       "      <td>0</td>\n",
       "      <td>0</td>\n",
       "      <td>1</td>\n",
       "      <td>0.007225</td>\n",
       "      <td>0.188841</td>\n",
       "      <td>0.000000</td>\n",
       "      <td>...</td>\n",
       "      <td>-0.131555</td>\n",
       "      <td>-0.060714</td>\n",
       "      <td>0.026459</td>\n",
       "      <td>-0.029582</td>\n",
       "      <td>-0.146134</td>\n",
       "      <td>0.109907</td>\n",
       "      <td>0.036539</td>\n",
       "      <td>-0.053628</td>\n",
       "      <td>0.027530</td>\n",
       "      <td>-0.211230</td>\n",
       "    </tr>\n",
       "    <tr>\n",
       "      <th>3</th>\n",
       "      <td>0</td>\n",
       "      <td>0</td>\n",
       "      <td>0</td>\n",
       "      <td>0</td>\n",
       "      <td>0</td>\n",
       "      <td>0</td>\n",
       "      <td>1</td>\n",
       "      <td>0.007948</td>\n",
       "      <td>0.175719</td>\n",
       "      <td>0.000000</td>\n",
       "      <td>...</td>\n",
       "      <td>-0.145382</td>\n",
       "      <td>-0.004285</td>\n",
       "      <td>-0.000706</td>\n",
       "      <td>-0.134984</td>\n",
       "      <td>-0.214832</td>\n",
       "      <td>0.177560</td>\n",
       "      <td>0.007675</td>\n",
       "      <td>-0.087473</td>\n",
       "      <td>0.106848</td>\n",
       "      <td>-0.015987</td>\n",
       "    </tr>\n",
       "    <tr>\n",
       "      <th>4</th>\n",
       "      <td>0</td>\n",
       "      <td>0</td>\n",
       "      <td>0</td>\n",
       "      <td>0</td>\n",
       "      <td>0</td>\n",
       "      <td>0</td>\n",
       "      <td>1</td>\n",
       "      <td>0.003613</td>\n",
       "      <td>0.208955</td>\n",
       "      <td>0.000000</td>\n",
       "      <td>...</td>\n",
       "      <td>0.007073</td>\n",
       "      <td>-0.204627</td>\n",
       "      <td>0.162032</td>\n",
       "      <td>0.013798</td>\n",
       "      <td>-0.221076</td>\n",
       "      <td>0.163578</td>\n",
       "      <td>-0.068310</td>\n",
       "      <td>-0.031184</td>\n",
       "      <td>-0.017280</td>\n",
       "      <td>0.038566</td>\n",
       "    </tr>\n",
       "  </tbody>\n",
       "</table>\n",
       "<p>5 rows × 48 columns</p>\n",
       "</div>"
      ],
      "text/plain": [
       "   toxic  severe_toxic  obscene  threat  insult  identity_hate  none  \\\n",
       "0      0             0        0       0       0              0     1   \n",
       "1      0             0        0       0       0              0     1   \n",
       "2      0             0        0       0       0              0     1   \n",
       "3      0             0        0       0       0              0     1   \n",
       "4      0             0        0       0       0              0     1   \n",
       "\n",
       "   min_length_scaled  num_words_vs_length  exclamation_marks_vs_length  ...  \\\n",
       "0           0.009393             0.181132                     0.000000  ...   \n",
       "1           0.000723             0.160714                     0.008929  ...   \n",
       "2           0.007225             0.188841                     0.000000  ...   \n",
       "3           0.007948             0.175719                     0.000000  ...   \n",
       "4           0.003613             0.208955                     0.000000  ...   \n",
       "\n",
       "        105       114       132       135       139       143       156  \\\n",
       "0 -0.091320 -0.017755  0.003997 -0.199211 -0.109984  0.089084  0.012651   \n",
       "1 -0.118445  0.039541  0.017522  0.001397  0.000094  0.021135  0.039308   \n",
       "2 -0.131555 -0.060714  0.026459 -0.029582 -0.146134  0.109907  0.036539   \n",
       "3 -0.145382 -0.004285 -0.000706 -0.134984 -0.214832  0.177560  0.007675   \n",
       "4  0.007073 -0.204627  0.162032  0.013798 -0.221076  0.163578 -0.068310   \n",
       "\n",
       "        157       170       198  \n",
       "0 -0.019501 -0.091946 -0.113697  \n",
       "1 -0.067295 -0.079366 -0.044959  \n",
       "2 -0.053628  0.027530 -0.211230  \n",
       "3 -0.087473  0.106848 -0.015987  \n",
       "4 -0.031184 -0.017280  0.038566  \n",
       "\n",
       "[5 rows x 48 columns]"
      ]
     },
     "execution_count": 5,
     "metadata": {},
     "output_type": "execute_result"
    }
   ],
   "source": [
    "selected_train.head()"
   ]
  },
  {
   "cell_type": "code",
   "execution_count": 7,
   "id": "0162858a",
   "metadata": {},
   "outputs": [
    {
     "data": {
      "text/plain": [
       "(159571, 48)"
      ]
     },
     "execution_count": 7,
     "metadata": {},
     "output_type": "execute_result"
    }
   ],
   "source": [
    "selected_train.shape"
   ]
  },
  {
   "cell_type": "code",
   "execution_count": 8,
   "id": "9dffb090",
   "metadata": {},
   "outputs": [
    {
     "data": {
      "text/html": [
       "<div>\n",
       "<style scoped>\n",
       "    .dataframe tbody tr th:only-of-type {\n",
       "        vertical-align: middle;\n",
       "    }\n",
       "\n",
       "    .dataframe tbody tr th {\n",
       "        vertical-align: top;\n",
       "    }\n",
       "\n",
       "    .dataframe thead th {\n",
       "        text-align: right;\n",
       "    }\n",
       "</style>\n",
       "<table border=\"1\" class=\"dataframe\">\n",
       "  <thead>\n",
       "    <tr style=\"text-align: right;\">\n",
       "      <th></th>\n",
       "      <th>toxic</th>\n",
       "      <th>severe_toxic</th>\n",
       "      <th>obscene</th>\n",
       "      <th>threat</th>\n",
       "      <th>insult</th>\n",
       "      <th>identity_hate</th>\n",
       "      <th>min_length_scaled</th>\n",
       "      <th>num_words_vs_length</th>\n",
       "      <th>exclamation_marks_vs_length</th>\n",
       "      <th>num_unique_words_scaled</th>\n",
       "      <th>...</th>\n",
       "      <th>114</th>\n",
       "      <th>132</th>\n",
       "      <th>135</th>\n",
       "      <th>139</th>\n",
       "      <th>143</th>\n",
       "      <th>156</th>\n",
       "      <th>157</th>\n",
       "      <th>170</th>\n",
       "      <th>198</th>\n",
       "      <th>none</th>\n",
       "    </tr>\n",
       "  </thead>\n",
       "  <tbody>\n",
       "    <tr>\n",
       "      <th>0</th>\n",
       "      <td>0</td>\n",
       "      <td>0</td>\n",
       "      <td>0</td>\n",
       "      <td>0</td>\n",
       "      <td>0</td>\n",
       "      <td>0</td>\n",
       "      <td>0.002890</td>\n",
       "      <td>0.166667</td>\n",
       "      <td>0.000000</td>\n",
       "      <td>0.032911</td>\n",
       "      <td>...</td>\n",
       "      <td>0.040738</td>\n",
       "      <td>-0.010083</td>\n",
       "      <td>-0.158238</td>\n",
       "      <td>-0.204194</td>\n",
       "      <td>0.116565</td>\n",
       "      <td>0.098296</td>\n",
       "      <td>-0.206160</td>\n",
       "      <td>0.046779</td>\n",
       "      <td>-0.036748</td>\n",
       "      <td>1</td>\n",
       "    </tr>\n",
       "    <tr>\n",
       "      <th>1</th>\n",
       "      <td>0</td>\n",
       "      <td>0</td>\n",
       "      <td>0</td>\n",
       "      <td>0</td>\n",
       "      <td>0</td>\n",
       "      <td>0</td>\n",
       "      <td>0.005058</td>\n",
       "      <td>0.187500</td>\n",
       "      <td>0.000000</td>\n",
       "      <td>0.015190</td>\n",
       "      <td>...</td>\n",
       "      <td>-0.013467</td>\n",
       "      <td>0.003550</td>\n",
       "      <td>-0.117174</td>\n",
       "      <td>-0.075475</td>\n",
       "      <td>0.043945</td>\n",
       "      <td>-0.148617</td>\n",
       "      <td>-0.350740</td>\n",
       "      <td>0.113815</td>\n",
       "      <td>-0.070907</td>\n",
       "      <td>1</td>\n",
       "    </tr>\n",
       "    <tr>\n",
       "      <th>2</th>\n",
       "      <td>0</td>\n",
       "      <td>0</td>\n",
       "      <td>0</td>\n",
       "      <td>0</td>\n",
       "      <td>0</td>\n",
       "      <td>0</td>\n",
       "      <td>0.000723</td>\n",
       "      <td>0.149554</td>\n",
       "      <td>0.002232</td>\n",
       "      <td>0.118987</td>\n",
       "      <td>...</td>\n",
       "      <td>-0.125080</td>\n",
       "      <td>0.045087</td>\n",
       "      <td>-0.119656</td>\n",
       "      <td>-0.274707</td>\n",
       "      <td>0.102546</td>\n",
       "      <td>0.100782</td>\n",
       "      <td>-0.107205</td>\n",
       "      <td>-0.050780</td>\n",
       "      <td>-0.098343</td>\n",
       "      <td>1</td>\n",
       "    </tr>\n",
       "    <tr>\n",
       "      <th>3</th>\n",
       "      <td>0</td>\n",
       "      <td>0</td>\n",
       "      <td>0</td>\n",
       "      <td>0</td>\n",
       "      <td>0</td>\n",
       "      <td>0</td>\n",
       "      <td>0.007225</td>\n",
       "      <td>0.169661</td>\n",
       "      <td>0.000000</td>\n",
       "      <td>0.070886</td>\n",
       "      <td>...</td>\n",
       "      <td>-0.023304</td>\n",
       "      <td>-0.005002</td>\n",
       "      <td>-0.281848</td>\n",
       "      <td>-0.157011</td>\n",
       "      <td>0.184323</td>\n",
       "      <td>0.067625</td>\n",
       "      <td>-0.066242</td>\n",
       "      <td>0.023737</td>\n",
       "      <td>-0.111269</td>\n",
       "      <td>1</td>\n",
       "    </tr>\n",
       "    <tr>\n",
       "      <th>4</th>\n",
       "      <td>0</td>\n",
       "      <td>0</td>\n",
       "      <td>0</td>\n",
       "      <td>0</td>\n",
       "      <td>0</td>\n",
       "      <td>0</td>\n",
       "      <td>0.003613</td>\n",
       "      <td>0.167665</td>\n",
       "      <td>0.000000</td>\n",
       "      <td>0.060759</td>\n",
       "      <td>...</td>\n",
       "      <td>0.055657</td>\n",
       "      <td>0.024936</td>\n",
       "      <td>-0.181419</td>\n",
       "      <td>-0.165707</td>\n",
       "      <td>0.194511</td>\n",
       "      <td>0.143557</td>\n",
       "      <td>-0.059017</td>\n",
       "      <td>0.136676</td>\n",
       "      <td>-0.004530</td>\n",
       "      <td>1</td>\n",
       "    </tr>\n",
       "  </tbody>\n",
       "</table>\n",
       "<p>5 rows × 48 columns</p>\n",
       "</div>"
      ],
      "text/plain": [
       "   toxic  severe_toxic  obscene  threat  insult  identity_hate  \\\n",
       "0      0             0        0       0       0              0   \n",
       "1      0             0        0       0       0              0   \n",
       "2      0             0        0       0       0              0   \n",
       "3      0             0        0       0       0              0   \n",
       "4      0             0        0       0       0              0   \n",
       "\n",
       "   min_length_scaled  num_words_vs_length  exclamation_marks_vs_length  \\\n",
       "0           0.002890             0.166667                     0.000000   \n",
       "1           0.005058             0.187500                     0.000000   \n",
       "2           0.000723             0.149554                     0.002232   \n",
       "3           0.007225             0.169661                     0.000000   \n",
       "4           0.003613             0.167665                     0.000000   \n",
       "\n",
       "   num_unique_words_scaled  ...       114       132       135       139  \\\n",
       "0                 0.032911  ...  0.040738 -0.010083 -0.158238 -0.204194   \n",
       "1                 0.015190  ... -0.013467  0.003550 -0.117174 -0.075475   \n",
       "2                 0.118987  ... -0.125080  0.045087 -0.119656 -0.274707   \n",
       "3                 0.070886  ... -0.023304 -0.005002 -0.281848 -0.157011   \n",
       "4                 0.060759  ...  0.055657  0.024936 -0.181419 -0.165707   \n",
       "\n",
       "        143       156       157       170       198  none  \n",
       "0  0.116565  0.098296 -0.206160  0.046779 -0.036748     1  \n",
       "1  0.043945 -0.148617 -0.350740  0.113815 -0.070907     1  \n",
       "2  0.102546  0.100782 -0.107205 -0.050780 -0.098343     1  \n",
       "3  0.184323  0.067625 -0.066242  0.023737 -0.111269     1  \n",
       "4  0.194511  0.143557 -0.059017  0.136676 -0.004530     1  \n",
       "\n",
       "[5 rows x 48 columns]"
      ]
     },
     "execution_count": 8,
     "metadata": {},
     "output_type": "execute_result"
    }
   ],
   "source": [
    "selected_test.head()"
   ]
  },
  {
   "cell_type": "code",
   "execution_count": 10,
   "id": "f48dae48",
   "metadata": {},
   "outputs": [
    {
     "data": {
      "text/plain": [
       "(63978, 48)"
      ]
     },
     "execution_count": 10,
     "metadata": {},
     "output_type": "execute_result"
    }
   ],
   "source": [
    "selected_test.shape"
   ]
  },
  {
   "cell_type": "code",
   "execution_count": 11,
   "id": "3d8a8a9e",
   "metadata": {},
   "outputs": [
    {
     "data": {
      "text/plain": [
       "Index(['toxic', 'severe_toxic', 'obscene', 'threat', 'insult', 'identity_hate',\n",
       "       'min_length_scaled', 'num_words_vs_length',\n",
       "       'exclamation_marks_vs_length', 'num_unique_words_scaled',\n",
       "       'verbs_vs_length', 'num_uppercase_scaled', 'uppercase_vs_length',\n",
       "       'sentiment', 'bad_toxic_vs_length', 'bad_severe_toxic_vs_length',\n",
       "       'bad_obscene_vs_length', 'bad_threat_vs_length', 'bad_insult_vs_length',\n",
       "       'bad_identity_hate_vs_length', '29', '34', '46', '47', '53', '54', '65',\n",
       "       '72', '82', '86', '87', '93', '95', '96', '98', '100', '103', '105',\n",
       "       '114', '132', '135', '139', '143', '156', '157', '170', '198', 'none'],\n",
       "      dtype='object')"
      ]
     },
     "execution_count": 11,
     "metadata": {},
     "output_type": "execute_result"
    }
   ],
   "source": [
    "selected_test.columns"
   ]
  },
  {
   "cell_type": "code",
   "execution_count": 42,
   "id": "e356b36c",
   "metadata": {},
   "outputs": [],
   "source": [
    "features = selected_test.columns[7:-1]\n",
    "labels = ['toxic', 'severe_toxic', 'obscene', 'threat', 'insult', 'identity_hate']"
   ]
  },
  {
   "cell_type": "markdown",
   "id": "cd859a6d",
   "metadata": {},
   "source": [
    "### Logistic Regression Using OneVsRest"
   ]
  },
  {
   "cell_type": "code",
   "execution_count": 117,
   "id": "8ce0ec2d",
   "metadata": {},
   "outputs": [],
   "source": [
    "# with reweight\n",
    "classifier_log_ovr = MultiOutputClassifier(LogisticRegression(max_iter=10000, class_weight='balanced'))\n",
    "# train\n",
    "classifier_log_ovr.fit(selected_train[features], selected_train[labels])\n",
    "# predict\n",
    "predictions_log_ovr = classifier_log_ovr.predict(selected_train[features])"
   ]
  },
  {
   "cell_type": "code",
   "execution_count": 118,
   "id": "74338329",
   "metadata": {},
   "outputs": [],
   "source": [
    "# predict probability\n",
    "predictions_proba_log_ovr = classifier_log_ovr.predict_proba(selected_train[features])"
   ]
  },
  {
   "cell_type": "code",
   "execution_count": 120,
   "id": "432a6956",
   "metadata": {},
   "outputs": [
    {
     "name": "stdout",
     "output_type": "stream",
     "text": [
      "Accuracy score:  0.7823790037036805\n",
      "Precision score:  0.3823137948352328\n",
      "Recall score:  0.8699071172146561\n",
      "F1 score:  0.5202510172396128\n",
      "Confusion matrix for label toxic:\n",
      "[[128695  15582]\n",
      " [  2310  12984]]\n",
      "Confusion matrix for label severe_toxic:\n",
      "[[149815   8161]\n",
      " [    93   1502]]\n",
      "Confusion matrix for label obscene:\n",
      "[[139811  11311]\n",
      " [  1005   7444]]\n",
      "Confusion matrix for label threat:\n",
      "[[143614  15479]\n",
      " [    39    439]]\n",
      "Confusion matrix for label insult:\n",
      "[[138740  12954]\n",
      " [   945   6932]]\n",
      "Confusion matrix for label identity_hate:\n",
      "[[143161  15005]\n",
      " [   174   1231]]\n"
     ]
    }
   ],
   "source": [
    "# model evaluation\n",
    "get_evaluation_score(selected_train[labels], predictions_log_ovr, predictions_proba_log_ovr)"
   ]
  },
  {
   "cell_type": "markdown",
   "id": "5b1d9696",
   "metadata": {},
   "source": [
    "### Logistic Regression Using Binary Relevance"
   ]
  },
  {
   "cell_type": "code",
   "execution_count": 111,
   "id": "c749d5d3",
   "metadata": {},
   "outputs": [],
   "source": [
    "classifier_log_br = BinaryRelevance(LogisticRegression(max_iter=10000, class_weight='balanced'))\n",
    "# train\n",
    "classifier_log_br.fit(selected_train[features], selected_train[labels])\n",
    "# predict\n",
    "predictions_log_br = classifier_log_br.predict(selected_train[features])"
   ]
  },
  {
   "cell_type": "code",
   "execution_count": 112,
   "id": "47f09780",
   "metadata": {},
   "outputs": [],
   "source": [
    "# predict probability\n",
    "predictions_proba_log_br = classifier_log_br.predict_proba(selected_train[features])"
   ]
  },
  {
   "cell_type": "code",
   "execution_count": 113,
   "id": "b7232d19",
   "metadata": {},
   "outputs": [
    {
     "name": "stdout",
     "output_type": "stream",
     "text": [
      "Accuracy score:  0.7823790037036805\n",
      "Precision score:  0.3823137948352328\n",
      "Recall score:  0.8699071172146561\n",
      "F1 score:  0.5202510172396128\n",
      "Confusion matrix for label toxic:\n",
      "[[128695  15582]\n",
      " [  2310  12984]]\n",
      "Confusion matrix for label severe_toxic:\n",
      "[[149815   8161]\n",
      " [    93   1502]]\n",
      "Confusion matrix for label obscene:\n",
      "[[139811  11311]\n",
      " [  1005   7444]]\n",
      "Confusion matrix for label threat:\n",
      "[[143614  15479]\n",
      " [    39    439]]\n",
      "Confusion matrix for label insult:\n",
      "[[138740  12954]\n",
      " [   945   6932]]\n",
      "Confusion matrix for label identity_hate:\n",
      "[[143161  15005]\n",
      " [   174   1231]]\n",
      "Logarithmic Loss:  0.35616097812647285\n",
      "ROC AUC score:  0.9556984676033963\n"
     ]
    }
   ],
   "source": [
    "# model evaluation\n",
    "get_evaluation_score(selected_train[labels], predictions_log_br, predictions_proba_log_br)"
   ]
  },
  {
   "cell_type": "markdown",
   "id": "6c39fa25",
   "metadata": {},
   "source": [
    "### Logistic Regression Using ClassifierChain"
   ]
  },
  {
   "cell_type": "code",
   "execution_count": 124,
   "id": "f64de2e9",
   "metadata": {},
   "outputs": [],
   "source": [
    "classifier_log_chain = ClassifierChain(LogisticRegression(max_iter=10000, class_weight='balanced'))\n",
    "# train\n",
    "classifier_log_chain.fit(selected_train[features], selected_train[labels])\n",
    "# predict\n",
    "predictions_log_chain = classifier_log_chain.predict(selected_train[features])"
   ]
  },
  {
   "cell_type": "code",
   "execution_count": 125,
   "id": "463032a9",
   "metadata": {},
   "outputs": [],
   "source": [
    "# predict probability\n",
    "predictions_proba_log_chain = classifier_log_chain.predict_proba(selected_train[features])"
   ]
  },
  {
   "cell_type": "code",
   "execution_count": 128,
   "id": "126a5004",
   "metadata": {},
   "outputs": [
    {
     "name": "stdout",
     "output_type": "stream",
     "text": [
      "Accuracy score:  0.7989922980992787\n",
      "Precision score:  0.3265042142598098\n",
      "Recall score:  0.8962903869166334\n",
      "F1 score:  0.4593230547737794\n",
      "Confusion matrix for label toxic:\n",
      "[[128695  15582]\n",
      " [  2310  12984]]\n",
      "Confusion matrix for label severe_toxic:\n",
      "[[133995  23981]\n",
      " [    28   1567]]\n",
      "Confusion matrix for label obscene:\n",
      "[[130418  20704]\n",
      " [   625   7824]]\n",
      "Confusion matrix for label threat:\n",
      "[[135239  23854]\n",
      " [    37    441]]\n",
      "Confusion matrix for label insult:\n",
      "[[130454  21240]\n",
      " [   553   7324]]\n",
      "Confusion matrix for label identity_hate:\n",
      "[[130863  27303]\n",
      " [    87   1318]]\n",
      "Logarithmic Loss:  0.37333162077812154\n",
      "ROC AUC score:  0.9512013648677577\n"
     ]
    }
   ],
   "source": [
    "# model evaluation\n",
    "get_evaluation_score(selected_train[labels], predictions_log_chain, predictions_proba_log_chain)"
   ]
  },
  {
   "cell_type": "markdown",
   "id": "de641963",
   "metadata": {},
   "source": [
    "### Logistic Regression Using LabelPowerSet"
   ]
  },
  {
   "cell_type": "code",
   "execution_count": 132,
   "id": "55da259a",
   "metadata": {},
   "outputs": [],
   "source": [
    "classifier_log_lps = LabelPowerset(LogisticRegression(max_iter=10000, class_weight='balanced'))\n",
    "# train\n",
    "classifier_log_lps.fit(selected_train[features], selected_train[labels])\n",
    "# predict\n",
    "predictions_log_lps = classifier_log_lps.predict(selected_train[features])"
   ]
  },
  {
   "cell_type": "code",
   "execution_count": 133,
   "id": "284f2595",
   "metadata": {},
   "outputs": [],
   "source": [
    "# predict probability\n",
    "predictions_proba_log_lps = classifier_log_lps.predict_proba(selected_train[features])"
   ]
  },
  {
   "cell_type": "code",
   "execution_count": 134,
   "id": "a70084e7",
   "metadata": {},
   "outputs": [
    {
     "name": "stdout",
     "output_type": "stream",
     "text": [
      "Accuracy score:  0.5402924090216894\n",
      "Precision score:  0.2638933873790623\n",
      "Recall score:  0.6392102114080574\n",
      "F1 score:  0.35461867971907374\n",
      "Confusion matrix for label toxic:\n",
      "[[129875  14402]\n",
      " [  5803   9491]]\n",
      "Confusion matrix for label severe_toxic:\n",
      "[[151899   6077]\n",
      " [   519   1076]]\n",
      "Confusion matrix for label obscene:\n",
      "[[124189  26933]\n",
      " [  2731   5718]]\n",
      "Confusion matrix for label threat:\n",
      "[[134301  24792]\n",
      " [   103    375]]\n",
      "Confusion matrix for label insult:\n",
      "[[129345  22349]\n",
      " [  2973   4904]]\n",
      "Confusion matrix for label identity_hate:\n",
      "[[130450  27716]\n",
      " [   534    871]]\n",
      "Logarithmic Loss:  0.33656150777593447\n",
      "ROC AUC score:  0.8944370583915846\n"
     ]
    }
   ],
   "source": [
    "# model evaluation\n",
    "get_evaluation_score(selected_train[labels], predictions_log_lps, predictions_proba_log_lps)"
   ]
  },
  {
   "cell_type": "markdown",
   "id": "be63ce1d",
   "metadata": {},
   "source": [
    "### Random Forest Using Power Set Labelling"
   ]
  },
  {
   "cell_type": "code",
   "execution_count": null,
   "id": "4ca2b647",
   "metadata": {},
   "outputs": [],
   "source": [
    "from sklearn.ensemble import RandomForestRegressor\n",
    "rf = RandomForestRegressor(n_estimators = 1000, random_state = 0)\n",
    "rf.fit(selected_train[features], selected_train[labels])\n",
    "predictions_rf = rf.predict(selected_train[features])"
   ]
  },
  {
   "cell_type": "code",
   "execution_count": null,
   "id": "ef25ed53",
   "metadata": {},
   "outputs": [],
   "source": [
    "# predict probability\n",
    "predictions_proba_rf = rf.predict_proba(selected_train[features])"
   ]
  },
  {
   "cell_type": "code",
   "execution_count": null,
   "id": "7f5063fd",
   "metadata": {},
   "outputs": [],
   "source": [
    "# model evaluation\n",
    "get_evaluation_score(selected_train[labels], predictions_rf, predictions_proba_rf)"
   ]
  },
  {
   "cell_type": "markdown",
   "id": "880b8f21",
   "metadata": {},
   "source": [
    "### Random Forest Using ClassificationChain"
   ]
  },
  {
   "cell_type": "code",
   "execution_count": null,
   "id": "ed7317b4",
   "metadata": {},
   "outputs": [],
   "source": [
    "classifier_chain = ClassifierChain(RandomForestRegressor(n_estimators = 1000, random_state = 0))\n",
    "# train\n",
    "classifier_chain.fit(selected_train[features], selected_train[labels])\n",
    "# predict\n",
    "predictions_chain = classifier_chain.predict(selected_train[features])"
   ]
  },
  {
   "cell_type": "code",
   "execution_count": null,
   "id": "7683739f",
   "metadata": {},
   "outputs": [],
   "source": [
    "# predict probability\n",
    "predictions_proba_chain = classifier_chain.predict_proba(selected_train[features])"
   ]
  },
  {
   "cell_type": "code",
   "execution_count": null,
   "id": "a57faf4b",
   "metadata": {},
   "outputs": [],
   "source": [
    "# model evaluation\n",
    "get_evaluation_score(selected_train[labels], predictions_chain, predictions_proba_chain)"
   ]
  },
  {
   "cell_type": "markdown",
   "id": "0d8d90c9",
   "metadata": {},
   "source": [
    "### Random Forest Using BinaryRelevance"
   ]
  },
  {
   "cell_type": "code",
   "execution_count": null,
   "id": "702191e1",
   "metadata": {},
   "outputs": [],
   "source": [
    "classifier_br = BinaryRelevance(RandomForestRegressor(n_estimators = 1000, random_state = 0))\n",
    "# train\n",
    "classifier_br.fit(selected_train[features], selected_train[labels])\n",
    "# predict\n",
    "predictions = classifier_br.predict(selected_train[features])"
   ]
  },
  {
   "cell_type": "code",
   "execution_count": null,
   "id": "9c8b57b9",
   "metadata": {},
   "outputs": [],
   "source": [
    "# predict probability\n",
    "predictions_proba = classifier_br.predict_proba(selected_train[features])"
   ]
  },
  {
   "cell_type": "code",
   "execution_count": null,
   "id": "61f7d0c4",
   "metadata": {},
   "outputs": [],
   "source": [
    "# model evaluation\n",
    "get_evaluation_score(selected_train[labels], predictions, predictions_proba)"
   ]
  }
 ],
 "metadata": {
  "kernelspec": {
   "display_name": "Python 3 (ipykernel)",
   "language": "python",
   "name": "python3"
  },
  "language_info": {
   "codemirror_mode": {
    "name": "ipython",
    "version": 3
   },
   "file_extension": ".py",
   "mimetype": "text/x-python",
   "name": "python",
   "nbconvert_exporter": "python",
   "pygments_lexer": "ipython3",
   "version": "3.8.5"
  }
 },
 "nbformat": 4,
 "nbformat_minor": 5
}
