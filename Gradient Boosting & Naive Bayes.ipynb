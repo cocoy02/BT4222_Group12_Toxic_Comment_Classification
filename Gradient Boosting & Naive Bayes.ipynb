{
 "cells": [
  {
   "cell_type": "code",
   "execution_count": 6,
   "id": "fccde4e3",
   "metadata": {},
   "outputs": [],
   "source": [
    "#importing libraries\n",
    "import numpy as np\n",
    "from collections import Counter\n",
    "import pandas as pd\n",
    "from sklearn.metrics import mean_squared_error,roc_auc_score,precision_score\n",
    "from sklearn.pipeline import Pipeline\n",
    "from sklearn.metrics import accuracy_score, precision_score, f1_score, recall_score, confusion_matrix, log_loss,roc_auc_score\n",
    "from sklearn.multiclass import OneVsRestClassifier\n",
    "\n",
    "# for lightGBM\n",
    "from lightgbm import LGBMClassifier\n",
    "\n",
    "# for naive bayes\n",
    "from sklearn.naive_bayes import GaussianNB\n",
    "\n",
    "# for evaluation metrics\n",
    "%run -i helper_functions.py\n",
    "\n",
    "# for hyperparameter tuning\n",
    "from sklearn.model_selection import cross_val_score\n",
    "from sklearn.model_selection import GridSearchCV \n",
    "\n",
    "# for model export\n",
    "import joblib\n",
    "\n",
    "# for multi-label classification\n",
    "from skmultilearn.problem_transform import BinaryRelevance\n",
    "from skmultilearn.problem_transform import ClassifierChain\n",
    "from skmultilearn.problem_transform import LabelPowerset\n",
    "from sklearn.multiclass import OneVsRestClassifier"
   ]
  },
  {
   "cell_type": "code",
   "execution_count": 7,
   "id": "f96bc211",
   "metadata": {},
   "outputs": [
    {
     "data": {
      "text/html": [
       "<div>\n",
       "<style scoped>\n",
       "    .dataframe tbody tr th:only-of-type {\n",
       "        vertical-align: middle;\n",
       "    }\n",
       "\n",
       "    .dataframe tbody tr th {\n",
       "        vertical-align: top;\n",
       "    }\n",
       "\n",
       "    .dataframe thead th {\n",
       "        text-align: right;\n",
       "    }\n",
       "</style>\n",
       "<table border=\"1\" class=\"dataframe\">\n",
       "  <thead>\n",
       "    <tr style=\"text-align: right;\">\n",
       "      <th></th>\n",
       "      <th>toxic</th>\n",
       "      <th>severe_toxic</th>\n",
       "      <th>obscene</th>\n",
       "      <th>threat</th>\n",
       "      <th>insult</th>\n",
       "      <th>identity_hate</th>\n",
       "      <th>none</th>\n",
       "      <th>min_length_scaled</th>\n",
       "      <th>num_words_vs_length</th>\n",
       "      <th>exclamation_marks_vs_length</th>\n",
       "      <th>...</th>\n",
       "      <th>105</th>\n",
       "      <th>114</th>\n",
       "      <th>132</th>\n",
       "      <th>135</th>\n",
       "      <th>139</th>\n",
       "      <th>143</th>\n",
       "      <th>156</th>\n",
       "      <th>157</th>\n",
       "      <th>170</th>\n",
       "      <th>198</th>\n",
       "    </tr>\n",
       "  </thead>\n",
       "  <tbody>\n",
       "    <tr>\n",
       "      <th>0</th>\n",
       "      <td>0</td>\n",
       "      <td>0</td>\n",
       "      <td>0</td>\n",
       "      <td>0</td>\n",
       "      <td>0</td>\n",
       "      <td>0</td>\n",
       "      <td>1</td>\n",
       "      <td>0.009393</td>\n",
       "      <td>0.181132</td>\n",
       "      <td>0.000000</td>\n",
       "      <td>...</td>\n",
       "      <td>-0.091320</td>\n",
       "      <td>-0.017755</td>\n",
       "      <td>0.003997</td>\n",
       "      <td>-0.199211</td>\n",
       "      <td>-0.109984</td>\n",
       "      <td>0.089084</td>\n",
       "      <td>0.012651</td>\n",
       "      <td>-0.019501</td>\n",
       "      <td>-0.091946</td>\n",
       "      <td>-0.113697</td>\n",
       "    </tr>\n",
       "    <tr>\n",
       "      <th>1</th>\n",
       "      <td>0</td>\n",
       "      <td>0</td>\n",
       "      <td>0</td>\n",
       "      <td>0</td>\n",
       "      <td>0</td>\n",
       "      <td>0</td>\n",
       "      <td>1</td>\n",
       "      <td>0.000723</td>\n",
       "      <td>0.160714</td>\n",
       "      <td>0.008929</td>\n",
       "      <td>...</td>\n",
       "      <td>-0.118445</td>\n",
       "      <td>0.039541</td>\n",
       "      <td>0.017522</td>\n",
       "      <td>0.001397</td>\n",
       "      <td>0.000094</td>\n",
       "      <td>0.021135</td>\n",
       "      <td>0.039308</td>\n",
       "      <td>-0.067295</td>\n",
       "      <td>-0.079366</td>\n",
       "      <td>-0.044959</td>\n",
       "    </tr>\n",
       "    <tr>\n",
       "      <th>2</th>\n",
       "      <td>0</td>\n",
       "      <td>0</td>\n",
       "      <td>0</td>\n",
       "      <td>0</td>\n",
       "      <td>0</td>\n",
       "      <td>0</td>\n",
       "      <td>1</td>\n",
       "      <td>0.007225</td>\n",
       "      <td>0.188841</td>\n",
       "      <td>0.000000</td>\n",
       "      <td>...</td>\n",
       "      <td>-0.131555</td>\n",
       "      <td>-0.060714</td>\n",
       "      <td>0.026459</td>\n",
       "      <td>-0.029582</td>\n",
       "      <td>-0.146134</td>\n",
       "      <td>0.109907</td>\n",
       "      <td>0.036539</td>\n",
       "      <td>-0.053628</td>\n",
       "      <td>0.027530</td>\n",
       "      <td>-0.211230</td>\n",
       "    </tr>\n",
       "    <tr>\n",
       "      <th>3</th>\n",
       "      <td>0</td>\n",
       "      <td>0</td>\n",
       "      <td>0</td>\n",
       "      <td>0</td>\n",
       "      <td>0</td>\n",
       "      <td>0</td>\n",
       "      <td>1</td>\n",
       "      <td>0.007948</td>\n",
       "      <td>0.175719</td>\n",
       "      <td>0.000000</td>\n",
       "      <td>...</td>\n",
       "      <td>-0.145382</td>\n",
       "      <td>-0.004285</td>\n",
       "      <td>-0.000706</td>\n",
       "      <td>-0.134984</td>\n",
       "      <td>-0.214832</td>\n",
       "      <td>0.177560</td>\n",
       "      <td>0.007675</td>\n",
       "      <td>-0.087473</td>\n",
       "      <td>0.106848</td>\n",
       "      <td>-0.015987</td>\n",
       "    </tr>\n",
       "    <tr>\n",
       "      <th>4</th>\n",
       "      <td>0</td>\n",
       "      <td>0</td>\n",
       "      <td>0</td>\n",
       "      <td>0</td>\n",
       "      <td>0</td>\n",
       "      <td>0</td>\n",
       "      <td>1</td>\n",
       "      <td>0.003613</td>\n",
       "      <td>0.208955</td>\n",
       "      <td>0.000000</td>\n",
       "      <td>...</td>\n",
       "      <td>0.007073</td>\n",
       "      <td>-0.204627</td>\n",
       "      <td>0.162032</td>\n",
       "      <td>0.013798</td>\n",
       "      <td>-0.221076</td>\n",
       "      <td>0.163578</td>\n",
       "      <td>-0.068310</td>\n",
       "      <td>-0.031184</td>\n",
       "      <td>-0.017280</td>\n",
       "      <td>0.038566</td>\n",
       "    </tr>\n",
       "  </tbody>\n",
       "</table>\n",
       "<p>5 rows × 48 columns</p>\n",
       "</div>"
      ],
      "text/plain": [
       "   toxic  severe_toxic  obscene  threat  insult  identity_hate  none  \\\n",
       "0      0             0        0       0       0              0     1   \n",
       "1      0             0        0       0       0              0     1   \n",
       "2      0             0        0       0       0              0     1   \n",
       "3      0             0        0       0       0              0     1   \n",
       "4      0             0        0       0       0              0     1   \n",
       "\n",
       "   min_length_scaled  num_words_vs_length  exclamation_marks_vs_length  ...  \\\n",
       "0           0.009393             0.181132                     0.000000  ...   \n",
       "1           0.000723             0.160714                     0.008929  ...   \n",
       "2           0.007225             0.188841                     0.000000  ...   \n",
       "3           0.007948             0.175719                     0.000000  ...   \n",
       "4           0.003613             0.208955                     0.000000  ...   \n",
       "\n",
       "        105       114       132       135       139       143       156  \\\n",
       "0 -0.091320 -0.017755  0.003997 -0.199211 -0.109984  0.089084  0.012651   \n",
       "1 -0.118445  0.039541  0.017522  0.001397  0.000094  0.021135  0.039308   \n",
       "2 -0.131555 -0.060714  0.026459 -0.029582 -0.146134  0.109907  0.036539   \n",
       "3 -0.145382 -0.004285 -0.000706 -0.134984 -0.214832  0.177560  0.007675   \n",
       "4  0.007073 -0.204627  0.162032  0.013798 -0.221076  0.163578 -0.068310   \n",
       "\n",
       "        157       170       198  \n",
       "0 -0.019501 -0.091946 -0.113697  \n",
       "1 -0.067295 -0.079366 -0.044959  \n",
       "2 -0.053628  0.027530 -0.211230  \n",
       "3 -0.087473  0.106848 -0.015987  \n",
       "4 -0.031184 -0.017280  0.038566  \n",
       "\n",
       "[5 rows x 48 columns]"
      ]
     },
     "execution_count": 7,
     "metadata": {},
     "output_type": "execute_result"
    }
   ],
   "source": [
    "#loading the train dataset\n",
    "selected_train = pd.read_csv('Data/selected_train.csv')\n",
    "selected_train.head()"
   ]
  },
  {
   "cell_type": "code",
   "execution_count": 8,
   "id": "5a47f7f5",
   "metadata": {},
   "outputs": [
    {
     "data": {
      "text/html": [
       "<div>\n",
       "<style scoped>\n",
       "    .dataframe tbody tr th:only-of-type {\n",
       "        vertical-align: middle;\n",
       "    }\n",
       "\n",
       "    .dataframe tbody tr th {\n",
       "        vertical-align: top;\n",
       "    }\n",
       "\n",
       "    .dataframe thead th {\n",
       "        text-align: right;\n",
       "    }\n",
       "</style>\n",
       "<table border=\"1\" class=\"dataframe\">\n",
       "  <thead>\n",
       "    <tr style=\"text-align: right;\">\n",
       "      <th></th>\n",
       "      <th>toxic</th>\n",
       "      <th>severe_toxic</th>\n",
       "      <th>obscene</th>\n",
       "      <th>threat</th>\n",
       "      <th>insult</th>\n",
       "      <th>identity_hate</th>\n",
       "      <th>min_length_scaled</th>\n",
       "      <th>num_words_vs_length</th>\n",
       "      <th>exclamation_marks_vs_length</th>\n",
       "      <th>num_unique_words_scaled</th>\n",
       "      <th>...</th>\n",
       "      <th>114</th>\n",
       "      <th>132</th>\n",
       "      <th>135</th>\n",
       "      <th>139</th>\n",
       "      <th>143</th>\n",
       "      <th>156</th>\n",
       "      <th>157</th>\n",
       "      <th>170</th>\n",
       "      <th>198</th>\n",
       "      <th>none</th>\n",
       "    </tr>\n",
       "  </thead>\n",
       "  <tbody>\n",
       "    <tr>\n",
       "      <th>0</th>\n",
       "      <td>0</td>\n",
       "      <td>0</td>\n",
       "      <td>0</td>\n",
       "      <td>0</td>\n",
       "      <td>0</td>\n",
       "      <td>0</td>\n",
       "      <td>0.002890</td>\n",
       "      <td>0.166667</td>\n",
       "      <td>0.000000</td>\n",
       "      <td>0.032911</td>\n",
       "      <td>...</td>\n",
       "      <td>0.040738</td>\n",
       "      <td>-0.010083</td>\n",
       "      <td>-0.158238</td>\n",
       "      <td>-0.204194</td>\n",
       "      <td>0.116565</td>\n",
       "      <td>0.098296</td>\n",
       "      <td>-0.206160</td>\n",
       "      <td>0.046779</td>\n",
       "      <td>-0.036748</td>\n",
       "      <td>1</td>\n",
       "    </tr>\n",
       "    <tr>\n",
       "      <th>1</th>\n",
       "      <td>0</td>\n",
       "      <td>0</td>\n",
       "      <td>0</td>\n",
       "      <td>0</td>\n",
       "      <td>0</td>\n",
       "      <td>0</td>\n",
       "      <td>0.005058</td>\n",
       "      <td>0.187500</td>\n",
       "      <td>0.000000</td>\n",
       "      <td>0.015190</td>\n",
       "      <td>...</td>\n",
       "      <td>-0.013467</td>\n",
       "      <td>0.003550</td>\n",
       "      <td>-0.117174</td>\n",
       "      <td>-0.075475</td>\n",
       "      <td>0.043945</td>\n",
       "      <td>-0.148617</td>\n",
       "      <td>-0.350740</td>\n",
       "      <td>0.113815</td>\n",
       "      <td>-0.070907</td>\n",
       "      <td>1</td>\n",
       "    </tr>\n",
       "    <tr>\n",
       "      <th>2</th>\n",
       "      <td>0</td>\n",
       "      <td>0</td>\n",
       "      <td>0</td>\n",
       "      <td>0</td>\n",
       "      <td>0</td>\n",
       "      <td>0</td>\n",
       "      <td>0.000723</td>\n",
       "      <td>0.149554</td>\n",
       "      <td>0.002232</td>\n",
       "      <td>0.118987</td>\n",
       "      <td>...</td>\n",
       "      <td>-0.125080</td>\n",
       "      <td>0.045087</td>\n",
       "      <td>-0.119656</td>\n",
       "      <td>-0.274707</td>\n",
       "      <td>0.102546</td>\n",
       "      <td>0.100782</td>\n",
       "      <td>-0.107205</td>\n",
       "      <td>-0.050780</td>\n",
       "      <td>-0.098343</td>\n",
       "      <td>1</td>\n",
       "    </tr>\n",
       "    <tr>\n",
       "      <th>3</th>\n",
       "      <td>0</td>\n",
       "      <td>0</td>\n",
       "      <td>0</td>\n",
       "      <td>0</td>\n",
       "      <td>0</td>\n",
       "      <td>0</td>\n",
       "      <td>0.007225</td>\n",
       "      <td>0.169661</td>\n",
       "      <td>0.000000</td>\n",
       "      <td>0.070886</td>\n",
       "      <td>...</td>\n",
       "      <td>-0.023304</td>\n",
       "      <td>-0.005002</td>\n",
       "      <td>-0.281848</td>\n",
       "      <td>-0.157011</td>\n",
       "      <td>0.184323</td>\n",
       "      <td>0.067625</td>\n",
       "      <td>-0.066242</td>\n",
       "      <td>0.023737</td>\n",
       "      <td>-0.111269</td>\n",
       "      <td>1</td>\n",
       "    </tr>\n",
       "    <tr>\n",
       "      <th>4</th>\n",
       "      <td>0</td>\n",
       "      <td>0</td>\n",
       "      <td>0</td>\n",
       "      <td>0</td>\n",
       "      <td>0</td>\n",
       "      <td>0</td>\n",
       "      <td>0.003613</td>\n",
       "      <td>0.167665</td>\n",
       "      <td>0.000000</td>\n",
       "      <td>0.060759</td>\n",
       "      <td>...</td>\n",
       "      <td>0.055657</td>\n",
       "      <td>0.024936</td>\n",
       "      <td>-0.181419</td>\n",
       "      <td>-0.165707</td>\n",
       "      <td>0.194511</td>\n",
       "      <td>0.143557</td>\n",
       "      <td>-0.059017</td>\n",
       "      <td>0.136676</td>\n",
       "      <td>-0.004530</td>\n",
       "      <td>1</td>\n",
       "    </tr>\n",
       "  </tbody>\n",
       "</table>\n",
       "<p>5 rows × 48 columns</p>\n",
       "</div>"
      ],
      "text/plain": [
       "   toxic  severe_toxic  obscene  threat  insult  identity_hate  \\\n",
       "0      0             0        0       0       0              0   \n",
       "1      0             0        0       0       0              0   \n",
       "2      0             0        0       0       0              0   \n",
       "3      0             0        0       0       0              0   \n",
       "4      0             0        0       0       0              0   \n",
       "\n",
       "   min_length_scaled  num_words_vs_length  exclamation_marks_vs_length  \\\n",
       "0           0.002890             0.166667                     0.000000   \n",
       "1           0.005058             0.187500                     0.000000   \n",
       "2           0.000723             0.149554                     0.002232   \n",
       "3           0.007225             0.169661                     0.000000   \n",
       "4           0.003613             0.167665                     0.000000   \n",
       "\n",
       "   num_unique_words_scaled  ...       114       132       135       139  \\\n",
       "0                 0.032911  ...  0.040738 -0.010083 -0.158238 -0.204194   \n",
       "1                 0.015190  ... -0.013467  0.003550 -0.117174 -0.075475   \n",
       "2                 0.118987  ... -0.125080  0.045087 -0.119656 -0.274707   \n",
       "3                 0.070886  ... -0.023304 -0.005002 -0.281848 -0.157011   \n",
       "4                 0.060759  ...  0.055657  0.024936 -0.181419 -0.165707   \n",
       "\n",
       "        143       156       157       170       198  none  \n",
       "0  0.116565  0.098296 -0.206160  0.046779 -0.036748     1  \n",
       "1  0.043945 -0.148617 -0.350740  0.113815 -0.070907     1  \n",
       "2  0.102546  0.100782 -0.107205 -0.050780 -0.098343     1  \n",
       "3  0.184323  0.067625 -0.066242  0.023737 -0.111269     1  \n",
       "4  0.194511  0.143557 -0.059017  0.136676 -0.004530     1  \n",
       "\n",
       "[5 rows x 48 columns]"
      ]
     },
     "execution_count": 8,
     "metadata": {},
     "output_type": "execute_result"
    }
   ],
   "source": [
    "#loading the test dataset\n",
    "selected_test = pd.read_csv('Data/selected_test.csv')\n",
    "selected_test.head()"
   ]
  },
  {
   "cell_type": "code",
   "execution_count": 9,
   "id": "b68e56c7",
   "metadata": {},
   "outputs": [
    {
     "data": {
      "text/plain": [
       "41"
      ]
     },
     "execution_count": 9,
     "metadata": {},
     "output_type": "execute_result"
    }
   ],
   "source": [
    "labels = ['toxic', 'severe_toxic', 'obscene', 'threat', 'insult', 'identity_hate']\n",
    "features = selected_train.columns[7:].tolist()\n",
    "len(features)"
   ]
  },
  {
   "cell_type": "markdown",
   "id": "12ed6757",
   "metadata": {},
   "source": [
    "## Gradient Boosting (LGBMClassifier)"
   ]
  },
  {
   "cell_type": "markdown",
   "id": "c6d104cd",
   "metadata": {},
   "source": [
    "### Baseline Gradient Boosting using BinaryRelevance"
   ]
  },
  {
   "cell_type": "code",
   "execution_count": 57,
   "id": "673b70fe",
   "metadata": {},
   "outputs": [],
   "source": [
    "classifier_gb = BinaryRelevance(LGBMClassifier(random_state=0))\n",
    "# train\n",
    "classifier_gb.fit(selected_train[features], selected_train[labels])\n",
    "# predict\n",
    "predictions_gb = classifier_gb.predict(selected_train[features])"
   ]
  },
  {
   "cell_type": "code",
   "execution_count": 58,
   "id": "6b52ce46",
   "metadata": {},
   "outputs": [],
   "source": [
    "# predict probability\n",
    "predictions_proba_gb = classifier_gb.predict_proba(selected_train[features])"
   ]
  },
  {
   "cell_type": "code",
   "execution_count": 59,
   "id": "9a5d6bee",
   "metadata": {},
   "outputs": [
    {
     "name": "stdout",
     "output_type": "stream",
     "text": [
      "Accuracy score:  0.9324626655219307\n",
      "Precision score:  0.8585256861860837\n",
      "Recall score:  0.7201834862385321\n",
      "F1 score:  0.7820014889765815\n"
     ]
    }
   ],
   "source": [
    "# model evaluation overall score\n",
    "get_overall_evaluation_score(selected_train[labels], predictions_gb)"
   ]
  },
  {
   "cell_type": "code",
   "execution_count": 60,
   "id": "9bb80f16",
   "metadata": {},
   "outputs": [
    {
     "name": "stdout",
     "output_type": "stream",
     "text": [
      "Accuracy score:  0.8789896526931132\n",
      "Precision score:  0.5829492803206758\n",
      "Recall score:  0.6643674989653745\n",
      "F1 score:  0.6174134411558834\n",
      "Confusion matrix for label toxic:\n",
      "[[54806  3082]\n",
      " [ 1502  4588]]\n",
      "Confusion matrix for label severe_toxic:\n",
      "[[63254   357]\n",
      " [  220   147]]\n",
      "Confusion matrix for label obscene:\n",
      "[[58600  1687]\n",
      " [ 1071  2620]]\n",
      "Confusion matrix for label threat:\n",
      "[[63381   386]\n",
      " [  156    55]]\n",
      "Confusion matrix for label insult:\n",
      "[[59351  1200]\n",
      " [ 1367  2060]]\n",
      "Confusion matrix for label identity_hate:\n",
      "[[62992   274]\n",
      " [  550   162]]\n",
      "Logarithmic Loss:  0.3109336144201333\n",
      "ROC AUC score:  0.9583558250719668\n"
     ]
    }
   ],
   "source": [
    "# evaluation on test data\n",
    "predictions_gb_test = classifier_gb.predict(selected_test[features])\n",
    "predictions_proba_gb_test = classifier_gb.predict_proba(selected_test[features])\n",
    "get_evaluation_score(selected_test[labels], predictions_gb_test, predictions_proba_gb_test)"
   ]
  },
  {
   "cell_type": "markdown",
   "id": "3b0dbf73",
   "metadata": {},
   "source": [
    "### Baseline Gradient Boosting using ClassifierChain"
   ]
  },
  {
   "cell_type": "code",
   "execution_count": 61,
   "id": "d1c56a6f",
   "metadata": {},
   "outputs": [],
   "source": [
    "classifier_chain_gb = ClassifierChain(LGBMClassifier(random_state=0))\n",
    "# train\n",
    "classifier_chain_gb.fit(selected_train[features], selected_train[labels])\n",
    "# predict\n",
    "predictions_chain_gb = classifier_chain_gb.predict(selected_train[features])"
   ]
  },
  {
   "cell_type": "code",
   "execution_count": 62,
   "id": "033ed52f",
   "metadata": {},
   "outputs": [],
   "source": [
    "# predict probability\n",
    "predictions_proba_chain_gb = classifier_chain_gb.predict_proba(selected_train[features])"
   ]
  },
  {
   "cell_type": "code",
   "execution_count": 63,
   "id": "75ce7713",
   "metadata": {},
   "outputs": [
    {
     "name": "stdout",
     "output_type": "stream",
     "text": [
      "Accuracy score:  0.9344868428473846\n",
      "Precision score:  0.8403138050122246\n",
      "Recall score:  0.7235170095162118\n",
      "F1 score:  0.775799218354555\n",
      "Confusion matrix for label toxic:\n",
      "[[142777   1500]\n",
      " [  4464  10830]]\n",
      "Confusion matrix for label severe_toxic:\n",
      "[[157818    158]\n",
      " [   458   1137]]\n",
      "Confusion matrix for label obscene:\n",
      "[[149876   1246]\n",
      " [  1717   6732]]\n",
      "Confusion matrix for label threat:\n",
      "[[158951    142]\n",
      " [   198    280]]\n",
      "Confusion matrix for label insult:\n",
      "[[150017   1677]\n",
      " [  2165   5712]]\n",
      "Confusion matrix for label identity_hate:\n",
      "[[157990    176]\n",
      " [   702    703]]\n",
      "Logarithmic Loss:  0.27562349981689854\n",
      "ROC AUC score:  0.98159005455481\n"
     ]
    }
   ],
   "source": [
    "# model evaluation\n",
    "get_evaluation_score(selected_train[labels], predictions_chain_gb, predictions_proba_chain_gb)"
   ]
  },
  {
   "cell_type": "code",
   "execution_count": 64,
   "id": "965d64a9",
   "metadata": {},
   "outputs": [
    {
     "name": "stdout",
     "output_type": "stream",
     "text": [
      "Accuracy score:  0.8797868017130889\n",
      "Precision score:  0.5570072116149407\n",
      "Recall score:  0.6842323079045386\n",
      "F1 score:  0.612636197875275\n",
      "Confusion matrix for label toxic:\n",
      "[[54806  3082]\n",
      " [ 1502  4588]]\n",
      "Confusion matrix for label severe_toxic:\n",
      "[[63268   343]\n",
      " [  209   158]]\n",
      "Confusion matrix for label obscene:\n",
      "[[58263  2024]\n",
      " [  965  2726]]\n",
      "Confusion matrix for label threat:\n",
      "[[63426   341]\n",
      " [  150    61]]\n",
      "Confusion matrix for label insult:\n",
      "[[58812  1739]\n",
      " [ 1222  2205]]\n",
      "Confusion matrix for label identity_hate:\n",
      "[[62931   335]\n",
      " [  530   182]]\n",
      "Logarithmic Loss:  0.33110831807467267\n",
      "ROC AUC score:  0.9556995692510866\n"
     ]
    }
   ],
   "source": [
    "# evaluation on test data\n",
    "predictions_chain_gb_test = classifier_chain_gb.predict(selected_test[features])\n",
    "predictions_proba_chain_gb_test = classifier_chain_gb.predict_proba(selected_test[features])\n",
    "get_evaluation_score(selected_test[labels], predictions_chain_gb_test, predictions_proba_chain_gb_test)"
   ]
  },
  {
   "cell_type": "markdown",
   "id": "0d114f6e",
   "metadata": {},
   "source": [
    "### Baseline Gradient Boosting using LabelPowerset"
   ]
  },
  {
   "cell_type": "code",
   "execution_count": 65,
   "id": "220e7ba7",
   "metadata": {},
   "outputs": [],
   "source": [
    "classifier_powerset_gb = LabelPowerset(LGBMClassifier(random_state=0))\n",
    "# train\n",
    "classifier_powerset_gb.fit(selected_train[features], selected_train[labels])\n",
    "# predict\n",
    "predictions_powerset_gb = classifier_powerset_gb.predict(selected_train[features])"
   ]
  },
  {
   "cell_type": "code",
   "execution_count": 66,
   "id": "00a76511",
   "metadata": {},
   "outputs": [],
   "source": [
    "# predict probability\n",
    "predictions_proba_powerset_gb = classifier_powerset_gb.predict_proba(selected_train[features])"
   ]
  },
  {
   "cell_type": "code",
   "execution_count": 67,
   "id": "18e266da",
   "metadata": {},
   "outputs": [
    {
     "name": "stdout",
     "output_type": "stream",
     "text": [
      "Accuracy score:  0.7406358298187014\n",
      "Precision score:  0.09740660064706258\n",
      "Recall score:  0.17445438486523449\n",
      "F1 score:  0.12454536249158364\n",
      "Confusion matrix for label toxic:\n",
      "[[122517  21760]\n",
      " [ 12063   3231]]\n",
      "Confusion matrix for label severe_toxic:\n",
      "[[153105   4871]\n",
      " [  1563     32]]\n",
      "Confusion matrix for label obscene:\n",
      "[[136712  14410]\n",
      " [  6960   1489]]\n",
      "Confusion matrix for label threat:\n",
      "[[151307   7786]\n",
      " [   474      4]]\n",
      "Confusion matrix for label insult:\n",
      "[[136507  15187]\n",
      " [  6551   1326]]\n",
      "Confusion matrix for label identity_hate:\n",
      "[[149986   8180]\n",
      " [  1364     41]]\n",
      "Logarithmic Loss:  0.8053150175420156\n",
      "ROC AUC score:  0.5289704923713838\n"
     ]
    }
   ],
   "source": [
    "# model evaluation\n",
    "get_evaluation_score(selected_train[labels], predictions_powerset_gb, predictions_proba_powerset_gb)"
   ]
  },
  {
   "cell_type": "code",
   "execution_count": 68,
   "id": "30a1f928",
   "metadata": {},
   "outputs": [
    {
     "name": "stdout",
     "output_type": "stream",
     "text": [
      "Accuracy score:  0.7441307949607677\n",
      "Precision score:  0.10160540877173552\n",
      "Recall score:  0.1799558559801352\n",
      "F1 score:  0.12966069946135153\n",
      "Confusion matrix for label toxic:\n",
      "[[48915  8973]\n",
      " [ 4753  1337]]\n",
      "Confusion matrix for label severe_toxic:\n",
      "[[61842  1769]\n",
      " [  362     5]]\n",
      "Confusion matrix for label obscene:\n",
      "[[54521  5766]\n",
      " [ 3037   654]]\n",
      "Confusion matrix for label threat:\n",
      "[[60954  2813]\n",
      " [  210     1]]\n",
      "Confusion matrix for label insult:\n",
      "[[54379  6172]\n",
      " [ 2828   599]]\n",
      "Confusion matrix for label identity_hate:\n",
      "[[60239  3027]\n",
      " [  699    13]]\n",
      "Logarithmic Loss:  0.8015398931821524\n",
      "ROC AUC score:  0.5309322488614058\n"
     ]
    }
   ],
   "source": [
    "# evaluation on test data\n",
    "predictions_powerset_gb_test = classifier_powerset_gb.predict(selected_test[features])\n",
    "predictions_proba_powerset_gb_test = classifier_powerset_gb.predict_proba(selected_test[features])\n",
    "get_evaluation_score(selected_test[labels], predictions_powerset_gb_test, predictions_proba_powerset_gb_test)"
   ]
  },
  {
   "cell_type": "markdown",
   "id": "2c86eb47",
   "metadata": {},
   "source": [
    "### Baseline Gradient Boosting using OneVsRest"
   ]
  },
  {
   "cell_type": "code",
   "execution_count": 69,
   "id": "22b908d8",
   "metadata": {},
   "outputs": [
    {
     "name": "stdout",
     "output_type": "stream",
     "text": [
      "**Processing toxic comments...**\n",
      "Test accuracy is 0.9283503704398387\n",
      "Test precision is 0.598174706649283\n",
      "Test f1-score is 0.666860465116279\n",
      "Test recall is 0.7533661740558292\n",
      "[[54806  3082]\n",
      " [ 1502  4588]]\n",
      "Test logarithmic loss is 2.5825144133250966\n",
      "Test ROC-AUC score is 0.8500627166575443\n",
      "\n",
      "\n",
      "**Processing severe_toxic comments...**\n",
      "Test accuracy is 0.9909812748132171\n",
      "Test precision is 0.2916666666666667\n",
      "Test f1-score is 0.3375430539609644\n",
      "Test recall is 0.40054495912806537\n",
      "[[63254   357]\n",
      " [  220   147]]\n",
      "Test logarithmic loss is 0.32506780464410595\n",
      "Test ROC-AUC score is 0.6974663611253978\n",
      "\n",
      "\n",
      "**Processing obscene comments...**\n",
      "Test accuracy is 0.9568914314295539\n",
      "Test precision is 0.6083120501509172\n",
      "Test f1-score is 0.655163790947737\n",
      "Test recall is 0.7098347331346518\n",
      "[[58600  1687]\n",
      " [ 1071  2620]]\n",
      "Test logarithmic loss is 1.5537903036541485\n",
      "Test ROC-AUC score is 0.840925958801141\n",
      "\n",
      "\n",
      "**Processing threat comments...**\n",
      "Test accuracy is 0.9915283378661415\n",
      "Test precision is 0.12471655328798185\n",
      "Test f1-score is 0.16871165644171782\n",
      "Test recall is 0.26066350710900477\n",
      "[[63381   386]\n",
      " [  156    55]]\n",
      "Test logarithmic loss is 0.3053496535825051\n",
      "Test ROC-AUC score is 0.6273051096791435\n",
      "\n",
      "\n",
      "**Processing insult comments...**\n",
      "Test accuracy is 0.9598768326612273\n",
      "Test precision is 0.6319018404907976\n",
      "Test f1-score is 0.6161208314640346\n",
      "Test recall is 0.6011088415523782\n",
      "[[59351  1200]\n",
      " [ 1367  2060]]\n",
      "Test logarithmic loss is 1.4461855364322695\n",
      "Test ROC-AUC score is 0.7906454184475736\n",
      "\n",
      "\n",
      "**Processing identity_hate comments...**\n",
      "Test accuracy is 0.9871205726968646\n",
      "Test precision is 0.37155963302752293\n",
      "Test f1-score is 0.2822299651567944\n",
      "Test recall is 0.22752808988764045\n",
      "[[62992   274]\n",
      " [  550   162]]\n",
      "Test logarithmic loss is 0.4642216135645464\n",
      "Test ROC-AUC score is 0.6115985848230602\n",
      "\n",
      "\n"
     ]
    }
   ],
   "source": [
    "# Using pipeline for applying lgbm and one vs rest classifier\n",
    "LGBM_pipeline = Pipeline([\n",
    "                ('clf', OneVsRestClassifier(LGBMClassifier(random_state=0), n_jobs=-1)),\n",
    "            ])\n",
    "for category in labels:\n",
    "    print('**Processing {} comments...**'.format(category))\n",
    "    \n",
    "    # Training logistic regression model on train data\n",
    "    LGBM_pipeline.fit(selected_train[features], selected_train[category])\n",
    "    \n",
    "    # calculating test accuracy (on test dataset)\n",
    "    prediction = LGBM_pipeline.predict(selected_test[features])\n",
    "    print('Test accuracy is {}'.format(accuracy_score(selected_test[category], prediction)))\n",
    "    print('Test precision is {}'.format(precision_score(selected_test[category], prediction)))\n",
    "    print('Test f1-score is {}'.format(f1_score(selected_test[category], prediction)))\n",
    "    print('Test recall is {}'.format(recall_score(selected_test[category], prediction)))\n",
    "    print(confusion_matrix(selected_test[category], prediction))\n",
    "    print('Test logarithmic loss is {}'.format(log_loss(selected_test[category], prediction)))\n",
    "    print('Test ROC-AUC score is {}'.format(roc_auc_score(selected_test[category], prediction)))\n",
    "    print(\"\\n\")"
   ]
  },
  {
   "cell_type": "markdown",
   "id": "9db486d5",
   "metadata": {},
   "source": [
    "### Baseline Gradient Boosting using OneVsRest (is_unbalance)"
   ]
  },
  {
   "cell_type": "code",
   "execution_count": 70,
   "id": "5a0ae14f",
   "metadata": {},
   "outputs": [
    {
     "name": "stdout",
     "output_type": "stream",
     "text": [
      "**Processing toxic comments...**\n",
      "Test accuracy is 0.8549032479914971\n",
      "Test precision is 0.38830196599734135\n",
      "Test f1-score is 0.5445714566059952\n",
      "Test recall is 0.9113300492610837\n",
      "[[49145  8743]\n",
      " [  540  5550]]\n",
      "Test logarithmic loss is 5.229817037281167\n",
      "Test ROC-AUC score is 0.8801485099815645\n",
      "\n",
      "\n",
      "**Processing severe_toxic comments...**\n",
      "Test accuracy is 0.9716933946043953\n",
      "Test precision is 0.14468503937007873\n",
      "Test f1-score is 0.24510212588578573\n",
      "Test recall is 0.8010899182561307\n",
      "[[61873  1738]\n",
      " [   73   294]]\n",
      "Test logarithmic loss is 1.020273473501691\n",
      "Test ROC-AUC score is 0.8868837998945995\n",
      "\n",
      "\n",
      "**Processing obscene comments...**\n",
      "Test accuracy is 0.8974022320172559\n",
      "Test precision is 0.3504424778761062\n",
      "Test f1-score is 0.5063176895306859\n",
      "Test recall is 0.9119479815768085\n",
      "[[54048  6239]\n",
      " [  325  3366]]\n",
      "Test logarithmic loss is 3.6979983876670883\n",
      "Test ROC-AUC score is 0.9042298336732716\n",
      "\n",
      "\n",
      "**Processing threat comments...**\n",
      "Test accuracy is 0.9138141236049893\n",
      "Test precision is 0.030957013974880595\n",
      "Test f1-score is 0.059686221009549796\n",
      "Test recall is 0.8293838862559242\n",
      "[[58289  5478]\n",
      " [   36   175]]\n",
      "Test logarithmic loss is 3.106453855819063\n",
      "Test ROC-AUC score is 0.8717386914460576\n",
      "\n",
      "\n",
      "**Processing insult comments...**\n",
      "Test accuracy is 0.8878364437775486\n",
      "Test precision is 0.31298014566497057\n",
      "Test f1-score is 0.46646840148698887\n",
      "Test recall is 0.9153778815290341\n",
      "[[53665  6886]\n",
      " [  290  3137]]\n",
      "Test logarithmic loss is 4.042784343372795\n",
      "Test ROC-AUC score is 0.9008277824021449\n",
      "\n",
      "\n",
      "**Processing identity_hate comments...**\n",
      "Test accuracy is 0.9486542248898059\n",
      "Test precision is 0.14194266629557473\n",
      "Test f1-score is 0.23693379790940766\n",
      "Test recall is 0.7162921348314607\n",
      "[[60183  3083]\n",
      " [  202   510]]\n",
      "Test logarithmic loss is 1.8506893210673958\n",
      "Test ROC-AUC score is 0.8337806894876173\n",
      "\n",
      "\n"
     ]
    }
   ],
   "source": [
    "# Using pipeline for applying lgbm and one vs rest classifier\n",
    "LGBM_pipeline_unbalance = Pipeline([\n",
    "                ('clf', OneVsRestClassifier(LGBMClassifier(random_state=0, is_unbalance=True), n_jobs=-1)),\n",
    "            ])\n",
    "for category in labels:\n",
    "    print('**Processing {} comments...**'.format(category))\n",
    "    \n",
    "    # Training logistic regression model on train data\n",
    "    LGBM_pipeline_unbalance.fit(selected_train[features], selected_train[category])\n",
    "    \n",
    "    # calculating test accuracy (on test dataset)\n",
    "    prediction = LGBM_pipeline_unbalance.predict(selected_test[features])\n",
    "    print('Test accuracy is {}'.format(accuracy_score(selected_test[category], prediction)))\n",
    "    print('Test precision is {}'.format(precision_score(selected_test[category], prediction)))\n",
    "    print('Test f1-score is {}'.format(f1_score(selected_test[category], prediction)))\n",
    "    print('Test recall is {}'.format(recall_score(selected_test[category], prediction)))\n",
    "    print(confusion_matrix(selected_test[category], prediction))\n",
    "    print('Test logarithmic loss is {}'.format(log_loss(selected_test[category], prediction)))\n",
    "    print('Test ROC-AUC score is {}'.format(roc_auc_score(selected_test[category], prediction)))\n",
    "    print(\"\\n\")"
   ]
  },
  {
   "cell_type": "markdown",
   "id": "c8dd87cb",
   "metadata": {},
   "source": [
    "Performance seems to deteriorate when using is_unbalance = True"
   ]
  },
  {
   "cell_type": "markdown",
   "id": "33b0251c",
   "metadata": {},
   "source": [
    "## Naive Bayes (GaussianNB)"
   ]
  },
  {
   "cell_type": "markdown",
   "id": "ff02fc37",
   "metadata": {},
   "source": [
    "### Baseline Naive Bayes using BinaryRelevance"
   ]
  },
  {
   "cell_type": "code",
   "execution_count": 71,
   "id": "40c1d2b6",
   "metadata": {},
   "outputs": [],
   "source": [
    "import warnings\n",
    "warnings.filterwarnings(\"ignore\")\n",
    "\n",
    "classifier_nb = BinaryRelevance(GaussianNB())\n",
    "# train\n",
    "classifier_nb.fit(selected_train[features], selected_train[labels])\n",
    "# predict\n",
    "predictions_nb = classifier_nb.predict(selected_train[features])"
   ]
  },
  {
   "cell_type": "code",
   "execution_count": 72,
   "id": "2872c383",
   "metadata": {},
   "outputs": [],
   "source": [
    "# predict probability\n",
    "predictions_proba_nb = classifier_nb.predict_proba(selected_train[features])"
   ]
  },
  {
   "cell_type": "code",
   "execution_count": 73,
   "id": "a064ffff",
   "metadata": {},
   "outputs": [
    {
     "name": "stdout",
     "output_type": "stream",
     "text": [
      "Accuracy score:  0.8792637759993984\n",
      "Precision score:  0.5580383909328479\n",
      "Recall score:  0.6486124565502308\n",
      "F1 score:  0.577292473981047\n",
      "Confusion matrix for label toxic:\n",
      "[[140351   3926]\n",
      " [  5871   9423]]\n",
      "Confusion matrix for label severe_toxic:\n",
      "[[152083   5893]\n",
      " [   292   1303]]\n",
      "Confusion matrix for label obscene:\n",
      "[[146146   4976]\n",
      " [  2527   5922]]\n",
      "Confusion matrix for label threat:\n",
      "[[151647   7446]\n",
      " [   181    297]]\n",
      "Confusion matrix for label insult:\n",
      "[[146219   5475]\n",
      " [  2896   4981]]\n",
      "Confusion matrix for label identity_hate:\n",
      "[[150542   7624]\n",
      " [   566    839]]\n",
      "Logarithmic Loss:  0.7660158339188156\n",
      "ROC AUC score:  0.9312601005621751\n"
     ]
    }
   ],
   "source": [
    "# model evaluation\n",
    "get_evaluation_score(selected_train[labels], predictions_nb, predictions_proba_nb)"
   ]
  },
  {
   "cell_type": "code",
   "execution_count": 74,
   "id": "4cef9914",
   "metadata": {},
   "outputs": [
    {
     "name": "stdout",
     "output_type": "stream",
     "text": [
      "Accuracy score:  0.8374284910437964\n",
      "Precision score:  0.39914770987296333\n",
      "Recall score:  0.7291350531107739\n",
      "F1 score:  0.5031102162203966\n",
      "Confusion matrix for label toxic:\n",
      "[[53390  4498]\n",
      " [ 1571  4519]]\n",
      "Confusion matrix for label severe_toxic:\n",
      "[[59159  4452]\n",
      " [   68   299]]\n",
      "Confusion matrix for label obscene:\n",
      "[[55923  4364]\n",
      " [  942  2749]]\n",
      "Confusion matrix for label threat:\n",
      "[[59377  4390]\n",
      " [   53   158]]\n",
      "Confusion matrix for label insult:\n",
      "[[56254  4297]\n",
      " [ 1066  2361]]\n",
      "Confusion matrix for label identity_hate:\n",
      "[[58234  5032]\n",
      " [  227   485]]\n",
      "Logarithmic Loss:  0.70881977326765\n",
      "ROC AUC score:  0.9267265814152312\n"
     ]
    }
   ],
   "source": [
    "# evaluation on test data\n",
    "predictions_nb_test = classifier_nb.predict(selected_test[features])\n",
    "predictions_proba_nb_test = classifier_nb.predict_proba(selected_test[features])\n",
    "get_evaluation_score(selected_test[labels], predictions_nb_test, predictions_proba_nb_test)"
   ]
  },
  {
   "cell_type": "code",
   "execution_count": 75,
   "id": "d9b635fd",
   "metadata": {},
   "outputs": [
    {
     "data": {
      "text/plain": [
       "{'classifier': GaussianNB(),\n",
       " 'classifier__priors': None,\n",
       " 'classifier__var_smoothing': 1e-09,\n",
       " 'require_dense': [True, True]}"
      ]
     },
     "execution_count": 75,
     "metadata": {},
     "output_type": "execute_result"
    }
   ],
   "source": [
    "classifier_nb.get_params()"
   ]
  },
  {
   "cell_type": "markdown",
   "id": "5d0b3c27",
   "metadata": {},
   "source": [
    "### Baseline  Naive Bayes using ClassifierChain"
   ]
  },
  {
   "cell_type": "code",
   "execution_count": 76,
   "id": "3ca4cd71",
   "metadata": {},
   "outputs": [],
   "source": [
    "import warnings\n",
    "warnings.filterwarnings(\"ignore\")\n",
    "\n",
    "classifier_chain_nb = ClassifierChain(GaussianNB())\n",
    "# train\n",
    "classifier_chain_nb.fit(selected_train[features], selected_train[labels])\n",
    "# predict\n",
    "predictions_chain_nb = classifier_chain_nb.predict(selected_train[features])"
   ]
  },
  {
   "cell_type": "code",
   "execution_count": 77,
   "id": "dd4ced26",
   "metadata": {},
   "outputs": [],
   "source": [
    "# predict probability\n",
    "predictions_proba_chain_nb = classifier_chain_nb.predict_proba(selected_train[features])"
   ]
  },
  {
   "cell_type": "code",
   "execution_count": 78,
   "id": "e6433ea0",
   "metadata": {},
   "outputs": [
    {
     "name": "stdout",
     "output_type": "stream",
     "text": [
      "Accuracy score:  0.8788125661931052\n",
      "Precision score:  0.5565655674617817\n",
      "Recall score:  0.67795885805459\n",
      "F1 score:  0.5823247163434749\n",
      "Confusion matrix for label toxic:\n",
      "[[140351   3926]\n",
      " [  5871   9423]]\n",
      "Confusion matrix for label severe_toxic:\n",
      "[[149947   8029]\n",
      " [   182   1413]]\n",
      "Confusion matrix for label obscene:\n",
      "[[145923   5199]\n",
      " [  2302   6147]]\n",
      "Confusion matrix for label threat:\n",
      "[[149029  10064]\n",
      " [   143    335]]\n",
      "Confusion matrix for label insult:\n",
      "[[145785   5909]\n",
      " [  2440   5437]]\n",
      "Confusion matrix for label identity_hate:\n",
      "[[148149  10017]\n",
      " [   365   1040]]\n",
      "Logarithmic Loss:  0.6688595094005957\n",
      "ROC AUC score:  0.931072059247107\n"
     ]
    }
   ],
   "source": [
    "# model evaluation\n",
    "get_evaluation_score(selected_train[labels], predictions_chain_nb, predictions_proba_chain_nb)"
   ]
  },
  {
   "cell_type": "code",
   "execution_count": 79,
   "id": "ca1c9b4b",
   "metadata": {},
   "outputs": [
    {
     "name": "stdout",
     "output_type": "stream",
     "text": [
      "Accuracy score:  0.8373503391790929\n",
      "Precision score:  0.394723171539833\n",
      "Recall score:  0.7618981928541868\n",
      "F1 score:  0.5036299318614065\n",
      "Confusion matrix for label toxic:\n",
      "[[53390  4498]\n",
      " [ 1571  4519]]\n",
      "Confusion matrix for label severe_toxic:\n",
      "[[57894  5717]\n",
      " [   44   323]]\n",
      "Confusion matrix for label obscene:\n",
      "[[55651  4636]\n",
      " [  842  2849]]\n",
      "Confusion matrix for label threat:\n",
      "[[57428  6339]\n",
      " [   34   177]]\n",
      "Confusion matrix for label insult:\n",
      "[[55645  4906]\n",
      " [  848  2579]]\n",
      "Confusion matrix for label identity_hate:\n",
      "[[56704  6562]\n",
      " [  113   599]]\n",
      "Logarithmic Loss:  0.6631063220237972\n",
      "ROC AUC score:  0.9251122828319055\n"
     ]
    }
   ],
   "source": [
    "# evaluation on test data\n",
    "predictions_chain_nb_test = classifier_chain_nb.predict(selected_test[features])\n",
    "predictions_proba_chain_nb_test = classifier_chain_nb.predict_proba(selected_test[features])\n",
    "get_evaluation_score(selected_test[labels], predictions_chain_nb_test, predictions_proba_chain_nb_test)"
   ]
  },
  {
   "cell_type": "markdown",
   "id": "8ee4288d",
   "metadata": {},
   "source": [
    "### Baseline  Naive Bayes using LabelPowerSet"
   ]
  },
  {
   "cell_type": "code",
   "execution_count": 80,
   "id": "b8181311",
   "metadata": {},
   "outputs": [],
   "source": [
    "import warnings\n",
    "warnings.filterwarnings(\"ignore\")\n",
    "\n",
    "classifier_power_nb = LabelPowerset(GaussianNB())\n",
    "# train\n",
    "classifier_power_nb.fit(selected_train[features], selected_train[labels])\n",
    "# predict\n",
    "predictions_power_nb = classifier_power_nb.predict(selected_train[features])"
   ]
  },
  {
   "cell_type": "code",
   "execution_count": 81,
   "id": "fbbbcfdc",
   "metadata": {},
   "outputs": [],
   "source": [
    "# predict probability\n",
    "predictions_proba_power_nb = classifier_power_nb.predict_proba(selected_train[features])"
   ]
  },
  {
   "cell_type": "code",
   "execution_count": 82,
   "id": "29f58b11",
   "metadata": {},
   "outputs": [
    {
     "name": "stdout",
     "output_type": "stream",
     "text": [
      "Accuracy score:  0.8656021457533011\n",
      "Precision score:  0.5987943558266151\n",
      "Recall score:  0.5372670807453416\n",
      "F1 score:  0.553592035258963\n",
      "Confusion matrix for label toxic:\n",
      "[[140607   3670]\n",
      " [  8174   7120]]\n",
      "Confusion matrix for label severe_toxic:\n",
      "[[156415   1561]\n",
      " [   857    738]]\n",
      "Confusion matrix for label obscene:\n",
      "[[147546   3576]\n",
      " [  2595   5854]]\n",
      "Confusion matrix for label threat:\n",
      "[[154431   4662]\n",
      " [   189    289]]\n",
      "Confusion matrix for label insult:\n",
      "[[149165   2529]\n",
      " [  3482   4395]]\n",
      "Confusion matrix for label identity_hate:\n",
      "[[153987   4179]\n",
      " [   944    461]]\n",
      "Logarithmic Loss:  0.7372777504710718\n",
      "ROC AUC score:  0.9422719716163704\n"
     ]
    }
   ],
   "source": [
    "# model evaluation\n",
    "get_evaluation_score(selected_train[labels], predictions_power_nb, predictions_proba_power_nb)"
   ]
  },
  {
   "cell_type": "code",
   "execution_count": 83,
   "id": "633aaa1c",
   "metadata": {},
   "outputs": [
    {
     "name": "stdout",
     "output_type": "stream",
     "text": [
      "Accuracy score:  0.8111069430116603\n",
      "Precision score:  0.43116617623536224\n",
      "Recall score:  0.5779417850738033\n",
      "F1 score:  0.4836571435450641\n",
      "Confusion matrix for label toxic:\n",
      "[[54235  3653]\n",
      " [ 2620  3470]]\n",
      "Confusion matrix for label severe_toxic:\n",
      "[[62171  1440]\n",
      " [  200   167]]\n",
      "Confusion matrix for label obscene:\n",
      "[[56730  3557]\n",
      " [ 1189  2502]]\n",
      "Confusion matrix for label threat:\n",
      "[[61769  1998]\n",
      " [   87   124]]\n",
      "Confusion matrix for label insult:\n",
      "[[58579  1972]\n",
      " [ 1594  1833]]\n",
      "Confusion matrix for label identity_hate:\n",
      "[[60119  3147]\n",
      " [  429   283]]\n",
      "Logarithmic Loss:  0.6426103750949465\n",
      "ROC AUC score:  0.9285302105506413\n"
     ]
    }
   ],
   "source": [
    "# evaluation on test data\n",
    "predictions_power_nb_test = classifier_power_nb.predict(selected_test[features])\n",
    "predictions_proba_power_nb_test = classifier_power_nb.predict_proba(selected_test[features])\n",
    "get_evaluation_score(selected_test[labels], predictions_power_nb_test, predictions_proba_power_nb_test)"
   ]
  },
  {
   "cell_type": "markdown",
   "id": "5ad51135",
   "metadata": {},
   "source": [
    "### Baseline  Naive Bayes using OneVsRest"
   ]
  },
  {
   "cell_type": "code",
   "execution_count": 84,
   "id": "e9b0846d",
   "metadata": {},
   "outputs": [
    {
     "name": "stdout",
     "output_type": "stream",
     "text": [
      "**Processing toxic comments...**\n",
      "Test accuracy is 0.9051392666229017\n",
      "Test precision is 0.5011644671176666\n",
      "Test f1-score is 0.598265704640233\n",
      "Test recall is 0.7420361247947455\n",
      "[[53390  4498]\n",
      " [ 1571  4519]]\n",
      "Test logarithmic loss is 3.4191273940815905\n",
      "Test ROC-AUC score is 0.8321671779308166\n",
      "\n",
      "\n",
      "**Processing severe_toxic comments...**\n",
      "Test accuracy is 0.9293507143080434\n",
      "Test precision is 0.06293411913281415\n",
      "Test f1-score is 0.11684251660805002\n",
      "Test recall is 0.8147138964577657\n",
      "[[59159  4452]\n",
      " [   68   299]]\n",
      "Test logarithmic loss is 2.546458365669597\n",
      "Test ROC-AUC score is 0.8723630006412014\n",
      "\n",
      "\n",
      "**Processing obscene comments...**\n",
      "Test accuracy is 0.9170652411766544\n",
      "Test precision is 0.38647546745395756\n",
      "Test f1-score is 0.5088855979266939\n",
      "Test recall is 0.7447846112164725\n",
      "[[55923  4364]\n",
      " [  942  2749]]\n",
      "Test logarithmic loss is 2.989271700938692\n",
      "Test ROC-AUC score is 0.836198764712189\n",
      "\n",
      "\n",
      "**Processing threat comments...**\n",
      "Test accuracy is 0.9305542530244771\n",
      "Test precision is 0.034740545294635\n",
      "Test f1-score is 0.06640050430762764\n",
      "Test recall is 0.7488151658767772\n",
      "[[59377  4390]\n",
      " [   53   158]]\n",
      "Test logarithmic loss is 2.503078433334076\n",
      "Test ROC-AUC score is 0.8399853896409151\n",
      "\n",
      "\n",
      "**Processing insult comments...**\n",
      "Test accuracy is 0.9161743099190347\n",
      "Test precision is 0.35461099429258036\n",
      "Test f1-score is 0.4682201289043134\n",
      "Test recall is 0.6889407645170703\n",
      "[[56254  4297]\n",
      " [ 1066  2361]]\n",
      "Test logarithmic loss is 3.02138411838187\n",
      "Test ROC-AUC score is 0.808987896420151\n",
      "\n",
      "\n",
      "**Processing identity_hate comments...**\n",
      "Test accuracy is 0.9177998687048673\n",
      "Test precision is 0.08791009606670291\n",
      "Test f1-score is 0.155723230052978\n",
      "Test recall is 0.6811797752808989\n",
      "[[58234  5032]\n",
      " [  227   485]]\n",
      "Test logarithmic loss is 2.962793040941685\n",
      "Test ROC-AUC score is 0.8008212915540839\n",
      "\n",
      "\n"
     ]
    }
   ],
   "source": [
    "# Using pipeline for applying naive bayes and one vs rest classifier\n",
    "NaiveBayes_pipeline = Pipeline([\n",
    "                ('clf', OneVsRestClassifier(GaussianNB(), n_jobs=-1)),\n",
    "            ])\n",
    "for category in labels:\n",
    "    print('**Processing {} comments...**'.format(category))\n",
    "    \n",
    "    # Training logistic regression model on train data\n",
    "    NaiveBayes_pipeline.fit(selected_train[features], selected_train[category])\n",
    "    \n",
    "    # calculating test accuracy (on test dataset)\n",
    "    prediction = NaiveBayes_pipeline.predict(selected_test[features])\n",
    "    print('Test accuracy is {}'.format(accuracy_score(selected_test[category], prediction)))\n",
    "    print('Test precision is {}'.format(precision_score(selected_test[category], prediction)))\n",
    "    print('Test f1-score is {}'.format(f1_score(selected_test[category], prediction)))\n",
    "    print('Test recall is {}'.format(recall_score(selected_test[category], prediction)))\n",
    "    print(confusion_matrix(selected_test[category], prediction))\n",
    "    print('Test logarithmic loss is {}'.format(log_loss(selected_test[category], prediction)))\n",
    "    print('Test ROC-AUC score is {}'.format(roc_auc_score(selected_test[category], prediction)))\n",
    "    print(\"\\n\")"
   ]
  },
  {
   "cell_type": "markdown",
   "id": "f32f7d53",
   "metadata": {},
   "source": [
    "## Oversampled Data"
   ]
  },
  {
   "cell_type": "code",
   "execution_count": 10,
   "id": "2477b09a",
   "metadata": {},
   "outputs": [],
   "source": [
    "oversampled_train = pd.read_csv('Data/train_oversampled.csv')"
   ]
  },
  {
   "cell_type": "code",
   "execution_count": 11,
   "id": "54820ca2",
   "metadata": {},
   "outputs": [
    {
     "data": {
      "text/html": [
       "<div>\n",
       "<style scoped>\n",
       "    .dataframe tbody tr th:only-of-type {\n",
       "        vertical-align: middle;\n",
       "    }\n",
       "\n",
       "    .dataframe tbody tr th {\n",
       "        vertical-align: top;\n",
       "    }\n",
       "\n",
       "    .dataframe thead th {\n",
       "        text-align: right;\n",
       "    }\n",
       "</style>\n",
       "<table border=\"1\" class=\"dataframe\">\n",
       "  <thead>\n",
       "    <tr style=\"text-align: right;\">\n",
       "      <th></th>\n",
       "      <th>toxic</th>\n",
       "      <th>obscene</th>\n",
       "      <th>insult</th>\n",
       "      <th>none</th>\n",
       "      <th>min_length_scaled</th>\n",
       "      <th>num_words_vs_length</th>\n",
       "      <th>exclamation_marks_vs_length</th>\n",
       "      <th>num_unique_words_scaled</th>\n",
       "      <th>verbs_vs_length</th>\n",
       "      <th>num_uppercase_scaled</th>\n",
       "      <th>...</th>\n",
       "      <th>139</th>\n",
       "      <th>143</th>\n",
       "      <th>156</th>\n",
       "      <th>157</th>\n",
       "      <th>170</th>\n",
       "      <th>198</th>\n",
       "      <th>clean_text</th>\n",
       "      <th>threat</th>\n",
       "      <th>identity_hate</th>\n",
       "      <th>severe_toxic</th>\n",
       "    </tr>\n",
       "  </thead>\n",
       "  <tbody>\n",
       "    <tr>\n",
       "      <th>0</th>\n",
       "      <td>0</td>\n",
       "      <td>0</td>\n",
       "      <td>0</td>\n",
       "      <td>1</td>\n",
       "      <td>0.009393</td>\n",
       "      <td>0.181132</td>\n",
       "      <td>0.000000</td>\n",
       "      <td>0.106329</td>\n",
       "      <td>0.041509</td>\n",
       "      <td>0.003426</td>\n",
       "      <td>...</td>\n",
       "      <td>-0.109984</td>\n",
       "      <td>0.089084</td>\n",
       "      <td>0.012651</td>\n",
       "      <td>-0.019501</td>\n",
       "      <td>-0.091946</td>\n",
       "      <td>-0.113697</td>\n",
       "      <td>explanation why the edits made under my userna...</td>\n",
       "      <td>0</td>\n",
       "      <td>0</td>\n",
       "      <td>0</td>\n",
       "    </tr>\n",
       "    <tr>\n",
       "      <th>1</th>\n",
       "      <td>0</td>\n",
       "      <td>0</td>\n",
       "      <td>0</td>\n",
       "      <td>1</td>\n",
       "      <td>0.000723</td>\n",
       "      <td>0.160714</td>\n",
       "      <td>0.008929</td>\n",
       "      <td>0.043038</td>\n",
       "      <td>0.026786</td>\n",
       "      <td>0.001612</td>\n",
       "      <td>...</td>\n",
       "      <td>0.000094</td>\n",
       "      <td>0.021135</td>\n",
       "      <td>0.039308</td>\n",
       "      <td>-0.067295</td>\n",
       "      <td>-0.079366</td>\n",
       "      <td>-0.044959</td>\n",
       "      <td>d'aww! he matches this background colour i am ...</td>\n",
       "      <td>0</td>\n",
       "      <td>0</td>\n",
       "      <td>0</td>\n",
       "    </tr>\n",
       "    <tr>\n",
       "      <th>2</th>\n",
       "      <td>0</td>\n",
       "      <td>0</td>\n",
       "      <td>0</td>\n",
       "      <td>1</td>\n",
       "      <td>0.007225</td>\n",
       "      <td>0.188841</td>\n",
       "      <td>0.000000</td>\n",
       "      <td>0.091139</td>\n",
       "      <td>0.038627</td>\n",
       "      <td>0.000806</td>\n",
       "      <td>...</td>\n",
       "      <td>-0.146134</td>\n",
       "      <td>0.109907</td>\n",
       "      <td>0.036539</td>\n",
       "      <td>-0.053628</td>\n",
       "      <td>0.027530</td>\n",
       "      <td>-0.211230</td>\n",
       "      <td>hey man, i am really not trying to edit war. i...</td>\n",
       "      <td>0</td>\n",
       "      <td>0</td>\n",
       "      <td>0</td>\n",
       "    </tr>\n",
       "    <tr>\n",
       "      <th>3</th>\n",
       "      <td>0</td>\n",
       "      <td>0</td>\n",
       "      <td>0</td>\n",
       "      <td>1</td>\n",
       "      <td>0.007948</td>\n",
       "      <td>0.175719</td>\n",
       "      <td>0.000000</td>\n",
       "      <td>0.141772</td>\n",
       "      <td>0.036741</td>\n",
       "      <td>0.002217</td>\n",
       "      <td>...</td>\n",
       "      <td>-0.214832</td>\n",
       "      <td>0.177560</td>\n",
       "      <td>0.007675</td>\n",
       "      <td>-0.087473</td>\n",
       "      <td>0.106848</td>\n",
       "      <td>-0.015987</td>\n",
       "      <td>\" more i cannot make any real suggestions on i...</td>\n",
       "      <td>0</td>\n",
       "      <td>0</td>\n",
       "      <td>0</td>\n",
       "    </tr>\n",
       "    <tr>\n",
       "      <th>4</th>\n",
       "      <td>0</td>\n",
       "      <td>0</td>\n",
       "      <td>0</td>\n",
       "      <td>1</td>\n",
       "      <td>0.003613</td>\n",
       "      <td>0.208955</td>\n",
       "      <td>0.000000</td>\n",
       "      <td>0.027848</td>\n",
       "      <td>0.059701</td>\n",
       "      <td>0.000403</td>\n",
       "      <td>...</td>\n",
       "      <td>-0.221076</td>\n",
       "      <td>0.163578</td>\n",
       "      <td>-0.068310</td>\n",
       "      <td>-0.031184</td>\n",
       "      <td>-0.017280</td>\n",
       "      <td>0.038566</td>\n",
       "      <td>you, sir, are my hero. any chance you remember...</td>\n",
       "      <td>0</td>\n",
       "      <td>0</td>\n",
       "      <td>0</td>\n",
       "    </tr>\n",
       "  </tbody>\n",
       "</table>\n",
       "<p>5 rows × 49 columns</p>\n",
       "</div>"
      ],
      "text/plain": [
       "   toxic  obscene  insult  none  min_length_scaled  num_words_vs_length  \\\n",
       "0      0        0       0     1           0.009393             0.181132   \n",
       "1      0        0       0     1           0.000723             0.160714   \n",
       "2      0        0       0     1           0.007225             0.188841   \n",
       "3      0        0       0     1           0.007948             0.175719   \n",
       "4      0        0       0     1           0.003613             0.208955   \n",
       "\n",
       "   exclamation_marks_vs_length  num_unique_words_scaled  verbs_vs_length  \\\n",
       "0                     0.000000                 0.106329         0.041509   \n",
       "1                     0.008929                 0.043038         0.026786   \n",
       "2                     0.000000                 0.091139         0.038627   \n",
       "3                     0.000000                 0.141772         0.036741   \n",
       "4                     0.000000                 0.027848         0.059701   \n",
       "\n",
       "   num_uppercase_scaled  ...       139       143       156       157  \\\n",
       "0              0.003426  ... -0.109984  0.089084  0.012651 -0.019501   \n",
       "1              0.001612  ...  0.000094  0.021135  0.039308 -0.067295   \n",
       "2              0.000806  ... -0.146134  0.109907  0.036539 -0.053628   \n",
       "3              0.002217  ... -0.214832  0.177560  0.007675 -0.087473   \n",
       "4              0.000403  ... -0.221076  0.163578 -0.068310 -0.031184   \n",
       "\n",
       "        170       198                                         clean_text  \\\n",
       "0 -0.091946 -0.113697  explanation why the edits made under my userna...   \n",
       "1 -0.079366 -0.044959  d'aww! he matches this background colour i am ...   \n",
       "2  0.027530 -0.211230  hey man, i am really not trying to edit war. i...   \n",
       "3  0.106848 -0.015987  \" more i cannot make any real suggestions on i...   \n",
       "4 -0.017280  0.038566  you, sir, are my hero. any chance you remember...   \n",
       "\n",
       "   threat  identity_hate  severe_toxic  \n",
       "0       0              0             0  \n",
       "1       0              0             0  \n",
       "2       0              0             0  \n",
       "3       0              0             0  \n",
       "4       0              0             0  \n",
       "\n",
       "[5 rows x 49 columns]"
      ]
     },
     "execution_count": 11,
     "metadata": {},
     "output_type": "execute_result"
    }
   ],
   "source": [
    "oversampled_train.head()"
   ]
  },
  {
   "cell_type": "code",
   "execution_count": 12,
   "id": "e47c4576",
   "metadata": {},
   "outputs": [],
   "source": [
    "features = selected_train.columns[7:]\n",
    "labels = ['toxic', 'severe_toxic', 'obscene', 'threat', 'insult', 'identity_hate']"
   ]
  },
  {
   "cell_type": "markdown",
   "id": "a653d86f",
   "metadata": {},
   "source": [
    "### Baseline Gradient Boosting using Oversampled Data"
   ]
  },
  {
   "cell_type": "code",
   "execution_count": 88,
   "id": "750225c4",
   "metadata": {},
   "outputs": [],
   "source": [
    "over_classifier_gb = BinaryRelevance(LGBMClassifier(random_state=0))\n",
    "# train\n",
    "over_classifier_gb.fit(oversampled_train[features], oversampled_train[labels])\n",
    "# predict\n",
    "over_predictions_gb = over_classifier_gb.predict(oversampled_train[features])"
   ]
  },
  {
   "cell_type": "code",
   "execution_count": 89,
   "id": "b2eb64e2",
   "metadata": {},
   "outputs": [],
   "source": [
    "# predict probability\n",
    "over_predictions_proba_gb = over_classifier_gb.predict_proba(oversampled_train[features])"
   ]
  },
  {
   "cell_type": "code",
   "execution_count": 90,
   "id": "8cbda01a",
   "metadata": {},
   "outputs": [
    {
     "name": "stdout",
     "output_type": "stream",
     "text": [
      "Accuracy score:  0.9578733094938494\n",
      "Precision score:  0.9919831149778372\n",
      "Recall score:  0.9885839384132907\n",
      "F1 score:  0.9902750946771441\n",
      "Confusion matrix for label toxic:\n",
      "[[147310   2315]\n",
      " [  4777 267587]]\n",
      "Confusion matrix for label severe_toxic:\n",
      "[[280313   1013]\n",
      " [  1468 139195]]\n",
      "Confusion matrix for label obscene:\n",
      "[[195917   1631]\n",
      " [  2507 221934]]\n",
      "Confusion matrix for label threat:\n",
      "[[170088   1213]\n",
      " [     0 250688]]\n",
      "Confusion matrix for label insult:\n",
      "[[192575   2388]\n",
      " [  2966 224060]]\n",
      "Confusion matrix for label identity_hate:\n",
      "[[245938   1734]\n",
      " [  3003 171314]]\n",
      "Logarithmic Loss:  4.899558893409421\n",
      "ROC AUC score:  0.9992298287770203\n"
     ]
    }
   ],
   "source": [
    "# model evaluation\n",
    "get_evaluation_score(oversampled_train[labels], over_predictions_gb, over_predictions_proba_gb)"
   ]
  },
  {
   "cell_type": "code",
   "execution_count": 91,
   "id": "f2f87802",
   "metadata": {},
   "outputs": [
    {
     "name": "stdout",
     "output_type": "stream",
     "text": [
      "Accuracy score:  0.8685485635687268\n",
      "Precision score:  0.5403090661382476\n",
      "Recall score:  0.7023037660366948\n",
      "F1 score:  0.6079441038356306\n",
      "Confusion matrix for label toxic:\n",
      "[[54290  3598]\n",
      " [ 1436  4654]]\n",
      "Confusion matrix for label severe_toxic:\n",
      "[[63007   604]\n",
      " [  161   206]]\n",
      "Confusion matrix for label obscene:\n",
      "[[58444  1843]\n",
      " [ 1064  2627]]\n",
      "Confusion matrix for label threat:\n",
      "[[63196   571]\n",
      " [   82   129]]\n",
      "Confusion matrix for label insult:\n",
      "[[58778  1773]\n",
      " [ 1214  2213]]\n",
      "Confusion matrix for label identity_hate:\n",
      "[[62328   938]\n",
      " [  359   353]]\n",
      "Logarithmic Loss:  0.3095174706208548\n",
      "ROC AUC score:  0.9556650844067958\n"
     ]
    }
   ],
   "source": [
    "# evaluation on test data\n",
    "over_predictions_gb_test = over_classifier_gb.predict(selected_test[features])\n",
    "over_predictions_proba_gb_test = over_classifier_gb.predict_proba(selected_test[features])\n",
    "get_evaluation_score(selected_test[labels], over_predictions_gb_test, over_predictions_proba_gb_test)"
   ]
  },
  {
   "cell_type": "markdown",
   "id": "2f76c66c",
   "metadata": {},
   "source": [
    "Same as XGBoost: \n",
    "Oversampled Data - Improved performance on training set, but no improvement for testing set performance."
   ]
  },
  {
   "cell_type": "markdown",
   "id": "fcc2c724",
   "metadata": {},
   "source": [
    "### Baseline Naive Bayes using Oversampled Data"
   ]
  },
  {
   "cell_type": "code",
   "execution_count": 92,
   "id": "4d4f9b18",
   "metadata": {},
   "outputs": [],
   "source": [
    "import warnings\n",
    "warnings.filterwarnings(\"ignore\")\n",
    "\n",
    "over_classifier_nb = BinaryRelevance(GaussianNB())\n",
    "# train\n",
    "over_classifier_nb.fit(oversampled_train[features], oversampled_train[labels])\n",
    "# predict\n",
    "over_predictions_nb = over_classifier_nb.predict(oversampled_train[features])"
   ]
  },
  {
   "cell_type": "code",
   "execution_count": 93,
   "id": "f3de6883",
   "metadata": {},
   "outputs": [],
   "source": [
    "# predict probability\n",
    "over_predictions_proba_nb = over_classifier_nb.predict_proba(oversampled_train[features])"
   ]
  },
  {
   "cell_type": "code",
   "execution_count": 94,
   "id": "05f92e90",
   "metadata": {},
   "outputs": [
    {
     "name": "stdout",
     "output_type": "stream",
     "text": [
      "Accuracy score:  0.5251582387218624\n",
      "Precision score:  0.8769532316152626\n",
      "Recall score:  0.7752468206644596\n",
      "F1 score:  0.8222164811156505\n",
      "Confusion matrix for label toxic:\n",
      "[[145825   3800]\n",
      " [ 31174 241190]]\n",
      "Confusion matrix for label severe_toxic:\n",
      "[[243264  38062]\n",
      " [ 41921  98742]]\n",
      "Confusion matrix for label obscene:\n",
      "[[179992  17556]\n",
      " [ 45563 178878]]\n",
      "Confusion matrix for label threat:\n",
      "[[155518  15783]\n",
      " [ 66285 184403]]\n",
      "Confusion matrix for label insult:\n",
      "[[176488  18475]\n",
      " [ 45375 181651]]\n",
      "Confusion matrix for label identity_hate:\n",
      "[[195410  52262]\n",
      " [ 59501 114816]]\n",
      "Logarithmic Loss:  8.847738013874869\n",
      "ROC AUC score:  0.9260561377095832\n"
     ]
    }
   ],
   "source": [
    "# model evaluation\n",
    "get_evaluation_score(oversampled_train[labels], over_predictions_nb, over_predictions_proba_nb)"
   ]
  },
  {
   "cell_type": "code",
   "execution_count": 95,
   "id": "0813b20e",
   "metadata": {},
   "outputs": [
    {
     "name": "stdout",
     "output_type": "stream",
     "text": [
      "Accuracy score:  0.8530588639844947\n",
      "Precision score:  0.4968336364510059\n",
      "Recall score:  0.6409159884121948\n",
      "F1 score:  0.5472951002536629\n",
      "Confusion matrix for label toxic:\n",
      "[[54362  3526]\n",
      " [ 1736  4354]]\n",
      "Confusion matrix for label severe_toxic:\n",
      "[[61457  2154]\n",
      " [  115   252]]\n",
      "Confusion matrix for label obscene:\n",
      "[[58460  1827]\n",
      " [ 1551  2140]]\n",
      "Confusion matrix for label threat:\n",
      "[[59676  4091]\n",
      " [   55   156]]\n",
      "Confusion matrix for label insult:\n",
      "[[58530  2021]\n",
      " [ 1443  1984]]\n",
      "Confusion matrix for label identity_hate:\n",
      "[[60870  2396]\n",
      " [  306   406]]\n",
      "Logarithmic Loss:  1.0061376129750363\n",
      "ROC AUC score:  0.9288408883514321\n"
     ]
    }
   ],
   "source": [
    "# evaluation on test data\n",
    "over_predictions_nb_test = over_classifier_nb.predict(selected_test[features])\n",
    "over_predictions_proba_nb_test = over_classifier_nb.predict_proba(selected_test[features])\n",
    "get_evaluation_score(selected_test[labels], over_predictions_nb_test, over_predictions_proba_nb_test)"
   ]
  },
  {
   "cell_type": "markdown",
   "id": "4fe367db",
   "metadata": {},
   "source": [
    "Oversampled Data - Improved performance on test set, but worse score for training set performance."
   ]
  },
  {
   "cell_type": "markdown",
   "id": "1873dc96",
   "metadata": {},
   "source": [
    "# -- Best Models (For Ensemble Selection) --"
   ]
  },
  {
   "cell_type": "markdown",
   "id": "add4846f",
   "metadata": {},
   "source": [
    "Selection is based on prediction quality of test data."
   ]
  },
  {
   "cell_type": "markdown",
   "id": "2c5582a3",
   "metadata": {},
   "source": [
    "## Light GBM (Binary Relevance)"
   ]
  },
  {
   "cell_type": "code",
   "execution_count": 96,
   "id": "278dfe3e",
   "metadata": {},
   "outputs": [],
   "source": [
    "classifier_gb = BinaryRelevance(LGBMClassifier(random_state=0))\n",
    "# train\n",
    "classifier_gb.fit(selected_train[features], selected_train[labels])\n",
    "# predict\n",
    "predictions_gb = classifier_gb.predict(selected_train[features])"
   ]
  },
  {
   "cell_type": "code",
   "execution_count": 97,
   "id": "f7d4b3f5",
   "metadata": {},
   "outputs": [
    {
     "name": "stdout",
     "output_type": "stream",
     "text": [
      "Accuracy score:  0.8789896526931132\n",
      "Precision score:  0.5829492803206758\n",
      "Recall score:  0.6643674989653745\n",
      "F1 score:  0.6174134411558834\n",
      "Confusion matrix for label toxic:\n",
      "[[54806  3082]\n",
      " [ 1502  4588]]\n",
      "Confusion matrix for label severe_toxic:\n",
      "[[63254   357]\n",
      " [  220   147]]\n",
      "Confusion matrix for label obscene:\n",
      "[[58600  1687]\n",
      " [ 1071  2620]]\n",
      "Confusion matrix for label threat:\n",
      "[[63381   386]\n",
      " [  156    55]]\n",
      "Confusion matrix for label insult:\n",
      "[[59351  1200]\n",
      " [ 1367  2060]]\n",
      "Confusion matrix for label identity_hate:\n",
      "[[62992   274]\n",
      " [  550   162]]\n",
      "Logarithmic Loss:  0.3109336144201333\n",
      "ROC AUC score:  0.9583558250719668\n"
     ]
    }
   ],
   "source": [
    "# evaluation on test data\n",
    "predictions_gb_test = classifier_gb.predict(selected_test[features])\n",
    "predictions_proba_gb_test = classifier_gb.predict_proba(selected_test[features])\n",
    "get_evaluation_score(selected_test[labels], predictions_gb_test, predictions_proba_gb_test)"
   ]
  },
  {
   "cell_type": "markdown",
   "id": "d7837f4b",
   "metadata": {},
   "source": [
    "#### Export Model"
   ]
  },
  {
   "cell_type": "code",
   "execution_count": 104,
   "id": "5cadc80d",
   "metadata": {},
   "outputs": [
    {
     "data": {
      "text/html": [
       "<style>#sk-container-id-1 {color: black;background-color: white;}#sk-container-id-1 pre{padding: 0;}#sk-container-id-1 div.sk-toggleable {background-color: white;}#sk-container-id-1 label.sk-toggleable__label {cursor: pointer;display: block;width: 100%;margin-bottom: 0;padding: 0.3em;box-sizing: border-box;text-align: center;}#sk-container-id-1 label.sk-toggleable__label-arrow:before {content: \"▸\";float: left;margin-right: 0.25em;color: #696969;}#sk-container-id-1 label.sk-toggleable__label-arrow:hover:before {color: black;}#sk-container-id-1 div.sk-estimator:hover label.sk-toggleable__label-arrow:before {color: black;}#sk-container-id-1 div.sk-toggleable__content {max-height: 0;max-width: 0;overflow: hidden;text-align: left;background-color: #f0f8ff;}#sk-container-id-1 div.sk-toggleable__content pre {margin: 0.2em;color: black;border-radius: 0.25em;background-color: #f0f8ff;}#sk-container-id-1 input.sk-toggleable__control:checked~div.sk-toggleable__content {max-height: 200px;max-width: 100%;overflow: auto;}#sk-container-id-1 input.sk-toggleable__control:checked~label.sk-toggleable__label-arrow:before {content: \"▾\";}#sk-container-id-1 div.sk-estimator input.sk-toggleable__control:checked~label.sk-toggleable__label {background-color: #d4ebff;}#sk-container-id-1 div.sk-label input.sk-toggleable__control:checked~label.sk-toggleable__label {background-color: #d4ebff;}#sk-container-id-1 input.sk-hidden--visually {border: 0;clip: rect(1px 1px 1px 1px);clip: rect(1px, 1px, 1px, 1px);height: 1px;margin: -1px;overflow: hidden;padding: 0;position: absolute;width: 1px;}#sk-container-id-1 div.sk-estimator {font-family: monospace;background-color: #f0f8ff;border: 1px dotted black;border-radius: 0.25em;box-sizing: border-box;margin-bottom: 0.5em;}#sk-container-id-1 div.sk-estimator:hover {background-color: #d4ebff;}#sk-container-id-1 div.sk-parallel-item::after {content: \"\";width: 100%;border-bottom: 1px solid gray;flex-grow: 1;}#sk-container-id-1 div.sk-label:hover label.sk-toggleable__label {background-color: #d4ebff;}#sk-container-id-1 div.sk-serial::before {content: \"\";position: absolute;border-left: 1px solid gray;box-sizing: border-box;top: 0;bottom: 0;left: 50%;z-index: 0;}#sk-container-id-1 div.sk-serial {display: flex;flex-direction: column;align-items: center;background-color: white;padding-right: 0.2em;padding-left: 0.2em;position: relative;}#sk-container-id-1 div.sk-item {position: relative;z-index: 1;}#sk-container-id-1 div.sk-parallel {display: flex;align-items: stretch;justify-content: center;background-color: white;position: relative;}#sk-container-id-1 div.sk-item::before, #sk-container-id-1 div.sk-parallel-item::before {content: \"\";position: absolute;border-left: 1px solid gray;box-sizing: border-box;top: 0;bottom: 0;left: 50%;z-index: -1;}#sk-container-id-1 div.sk-parallel-item {display: flex;flex-direction: column;z-index: 1;position: relative;background-color: white;}#sk-container-id-1 div.sk-parallel-item:first-child::after {align-self: flex-end;width: 50%;}#sk-container-id-1 div.sk-parallel-item:last-child::after {align-self: flex-start;width: 50%;}#sk-container-id-1 div.sk-parallel-item:only-child::after {width: 0;}#sk-container-id-1 div.sk-dashed-wrapped {border: 1px dashed gray;margin: 0 0.4em 0.5em 0.4em;box-sizing: border-box;padding-bottom: 0.4em;background-color: white;}#sk-container-id-1 div.sk-label label {font-family: monospace;font-weight: bold;display: inline-block;line-height: 1.2em;}#sk-container-id-1 div.sk-label-container {text-align: center;}#sk-container-id-1 div.sk-container {/* jupyter's `normalize.less` sets `[hidden] { display: none; }` but bootstrap.min.css set `[hidden] { display: none !important; }` so we also need the `!important` here to be able to override the default hidden behavior on the sphinx rendered scikit-learn.org. See: https://github.com/scikit-learn/scikit-learn/issues/21755 */display: inline-block !important;position: relative;}#sk-container-id-1 div.sk-text-repr-fallback {display: none;}</style><div id=\"sk-container-id-1\" class=\"sk-top-container\"><div class=\"sk-text-repr-fallback\"><pre>BinaryRelevance(classifier=LGBMClassifier(random_state=0),\n",
       "                require_dense=[True, True])</pre><b>In a Jupyter environment, please rerun this cell to show the HTML representation or trust the notebook. <br />On GitHub, the HTML representation is unable to render, please try loading this page with nbviewer.org.</b></div><div class=\"sk-container\" hidden><div class=\"sk-item sk-dashed-wrapped\"><div class=\"sk-label-container\"><div class=\"sk-label sk-toggleable\"><input class=\"sk-toggleable__control sk-hidden--visually\" id=\"sk-estimator-id-1\" type=\"checkbox\" ><label for=\"sk-estimator-id-1\" class=\"sk-toggleable__label sk-toggleable__label-arrow\">BinaryRelevance</label><div class=\"sk-toggleable__content\"><pre>BinaryRelevance(classifier=LGBMClassifier(random_state=0),\n",
       "                require_dense=[True, True])</pre></div></div></div><div class=\"sk-parallel\"><div class=\"sk-parallel-item\"><div class=\"sk-item\"><div class=\"sk-label-container\"><div class=\"sk-label sk-toggleable\"><input class=\"sk-toggleable__control sk-hidden--visually\" id=\"sk-estimator-id-2\" type=\"checkbox\" ><label for=\"sk-estimator-id-2\" class=\"sk-toggleable__label sk-toggleable__label-arrow\">classifier: LGBMClassifier</label><div class=\"sk-toggleable__content\"><pre>LGBMClassifier(random_state=0)</pre></div></div></div><div class=\"sk-serial\"><div class=\"sk-item\"><div class=\"sk-estimator sk-toggleable\"><input class=\"sk-toggleable__control sk-hidden--visually\" id=\"sk-estimator-id-3\" type=\"checkbox\" ><label for=\"sk-estimator-id-3\" class=\"sk-toggleable__label sk-toggleable__label-arrow\">LGBMClassifier</label><div class=\"sk-toggleable__content\"><pre>LGBMClassifier(random_state=0)</pre></div></div></div></div></div></div></div></div></div></div>"
      ],
      "text/plain": [
       "BinaryRelevance(classifier=LGBMClassifier(random_state=0),\n",
       "                require_dense=[True, True])"
      ]
     },
     "execution_count": 104,
     "metadata": {},
     "output_type": "execute_result"
    }
   ],
   "source": [
    "classifier_gb"
   ]
  },
  {
   "cell_type": "code",
   "execution_count": 107,
   "id": "172dd216",
   "metadata": {},
   "outputs": [
    {
     "data": {
      "text/plain": [
       "['lgbm_binary.sav']"
      ]
     },
     "execution_count": 107,
     "metadata": {},
     "output_type": "execute_result"
    }
   ],
   "source": [
    "joblib.dump(classifier_gb, 'lgbm_binary.sav')"
   ]
  },
  {
   "cell_type": "markdown",
   "id": "89940e83",
   "metadata": {},
   "source": [
    "## Light GBM (Classifier Chain)"
   ]
  },
  {
   "cell_type": "code",
   "execution_count": 98,
   "id": "c3d2d60f",
   "metadata": {},
   "outputs": [],
   "source": [
    "classifier_chain_gb = ClassifierChain(LGBMClassifier(random_state=0))\n",
    "# train\n",
    "classifier_chain_gb.fit(selected_train[features], selected_train[labels])\n",
    "# predict\n",
    "predictions_chain_gb = classifier_chain_gb.predict(selected_train[features])"
   ]
  },
  {
   "cell_type": "code",
   "execution_count": 99,
   "id": "5d7472df",
   "metadata": {},
   "outputs": [
    {
     "name": "stdout",
     "output_type": "stream",
     "text": [
      "Accuracy score:  0.8797868017130889\n",
      "Precision score:  0.5570072116149407\n",
      "Recall score:  0.6842323079045386\n",
      "F1 score:  0.612636197875275\n",
      "Confusion matrix for label toxic:\n",
      "[[54806  3082]\n",
      " [ 1502  4588]]\n",
      "Confusion matrix for label severe_toxic:\n",
      "[[63268   343]\n",
      " [  209   158]]\n",
      "Confusion matrix for label obscene:\n",
      "[[58263  2024]\n",
      " [  965  2726]]\n",
      "Confusion matrix for label threat:\n",
      "[[63426   341]\n",
      " [  150    61]]\n",
      "Confusion matrix for label insult:\n",
      "[[58812  1739]\n",
      " [ 1222  2205]]\n",
      "Confusion matrix for label identity_hate:\n",
      "[[62931   335]\n",
      " [  530   182]]\n",
      "Logarithmic Loss:  0.33110831807467267\n",
      "ROC AUC score:  0.9556995692510866\n"
     ]
    }
   ],
   "source": [
    "# evaluation on test data\n",
    "predictions_chain_gb_test = classifier_chain_gb.predict(selected_test[features])\n",
    "predictions_proba_chain_gb_test = classifier_chain_gb.predict_proba(selected_test[features])\n",
    "get_evaluation_score(selected_test[labels], predictions_chain_gb_test, predictions_proba_chain_gb_test)"
   ]
  },
  {
   "cell_type": "markdown",
   "id": "a2d2d2ae",
   "metadata": {},
   "source": [
    "#### Export Model"
   ]
  },
  {
   "cell_type": "code",
   "execution_count": 108,
   "id": "2262e97e",
   "metadata": {},
   "outputs": [
    {
     "data": {
      "text/html": [
       "<style>#sk-container-id-2 {color: black;background-color: white;}#sk-container-id-2 pre{padding: 0;}#sk-container-id-2 div.sk-toggleable {background-color: white;}#sk-container-id-2 label.sk-toggleable__label {cursor: pointer;display: block;width: 100%;margin-bottom: 0;padding: 0.3em;box-sizing: border-box;text-align: center;}#sk-container-id-2 label.sk-toggleable__label-arrow:before {content: \"▸\";float: left;margin-right: 0.25em;color: #696969;}#sk-container-id-2 label.sk-toggleable__label-arrow:hover:before {color: black;}#sk-container-id-2 div.sk-estimator:hover label.sk-toggleable__label-arrow:before {color: black;}#sk-container-id-2 div.sk-toggleable__content {max-height: 0;max-width: 0;overflow: hidden;text-align: left;background-color: #f0f8ff;}#sk-container-id-2 div.sk-toggleable__content pre {margin: 0.2em;color: black;border-radius: 0.25em;background-color: #f0f8ff;}#sk-container-id-2 input.sk-toggleable__control:checked~div.sk-toggleable__content {max-height: 200px;max-width: 100%;overflow: auto;}#sk-container-id-2 input.sk-toggleable__control:checked~label.sk-toggleable__label-arrow:before {content: \"▾\";}#sk-container-id-2 div.sk-estimator input.sk-toggleable__control:checked~label.sk-toggleable__label {background-color: #d4ebff;}#sk-container-id-2 div.sk-label input.sk-toggleable__control:checked~label.sk-toggleable__label {background-color: #d4ebff;}#sk-container-id-2 input.sk-hidden--visually {border: 0;clip: rect(1px 1px 1px 1px);clip: rect(1px, 1px, 1px, 1px);height: 1px;margin: -1px;overflow: hidden;padding: 0;position: absolute;width: 1px;}#sk-container-id-2 div.sk-estimator {font-family: monospace;background-color: #f0f8ff;border: 1px dotted black;border-radius: 0.25em;box-sizing: border-box;margin-bottom: 0.5em;}#sk-container-id-2 div.sk-estimator:hover {background-color: #d4ebff;}#sk-container-id-2 div.sk-parallel-item::after {content: \"\";width: 100%;border-bottom: 1px solid gray;flex-grow: 1;}#sk-container-id-2 div.sk-label:hover label.sk-toggleable__label {background-color: #d4ebff;}#sk-container-id-2 div.sk-serial::before {content: \"\";position: absolute;border-left: 1px solid gray;box-sizing: border-box;top: 0;bottom: 0;left: 50%;z-index: 0;}#sk-container-id-2 div.sk-serial {display: flex;flex-direction: column;align-items: center;background-color: white;padding-right: 0.2em;padding-left: 0.2em;position: relative;}#sk-container-id-2 div.sk-item {position: relative;z-index: 1;}#sk-container-id-2 div.sk-parallel {display: flex;align-items: stretch;justify-content: center;background-color: white;position: relative;}#sk-container-id-2 div.sk-item::before, #sk-container-id-2 div.sk-parallel-item::before {content: \"\";position: absolute;border-left: 1px solid gray;box-sizing: border-box;top: 0;bottom: 0;left: 50%;z-index: -1;}#sk-container-id-2 div.sk-parallel-item {display: flex;flex-direction: column;z-index: 1;position: relative;background-color: white;}#sk-container-id-2 div.sk-parallel-item:first-child::after {align-self: flex-end;width: 50%;}#sk-container-id-2 div.sk-parallel-item:last-child::after {align-self: flex-start;width: 50%;}#sk-container-id-2 div.sk-parallel-item:only-child::after {width: 0;}#sk-container-id-2 div.sk-dashed-wrapped {border: 1px dashed gray;margin: 0 0.4em 0.5em 0.4em;box-sizing: border-box;padding-bottom: 0.4em;background-color: white;}#sk-container-id-2 div.sk-label label {font-family: monospace;font-weight: bold;display: inline-block;line-height: 1.2em;}#sk-container-id-2 div.sk-label-container {text-align: center;}#sk-container-id-2 div.sk-container {/* jupyter's `normalize.less` sets `[hidden] { display: none; }` but bootstrap.min.css set `[hidden] { display: none !important; }` so we also need the `!important` here to be able to override the default hidden behavior on the sphinx rendered scikit-learn.org. See: https://github.com/scikit-learn/scikit-learn/issues/21755 */display: inline-block !important;position: relative;}#sk-container-id-2 div.sk-text-repr-fallback {display: none;}</style><div id=\"sk-container-id-2\" class=\"sk-top-container\"><div class=\"sk-text-repr-fallback\"><pre>ClassifierChain(classifier=LGBMClassifier(random_state=0),\n",
       "                require_dense=[True, True])</pre><b>In a Jupyter environment, please rerun this cell to show the HTML representation or trust the notebook. <br />On GitHub, the HTML representation is unable to render, please try loading this page with nbviewer.org.</b></div><div class=\"sk-container\" hidden><div class=\"sk-item sk-dashed-wrapped\"><div class=\"sk-label-container\"><div class=\"sk-label sk-toggleable\"><input class=\"sk-toggleable__control sk-hidden--visually\" id=\"sk-estimator-id-4\" type=\"checkbox\" ><label for=\"sk-estimator-id-4\" class=\"sk-toggleable__label sk-toggleable__label-arrow\">ClassifierChain</label><div class=\"sk-toggleable__content\"><pre>ClassifierChain(classifier=LGBMClassifier(random_state=0),\n",
       "                require_dense=[True, True])</pre></div></div></div><div class=\"sk-parallel\"><div class=\"sk-parallel-item\"><div class=\"sk-item\"><div class=\"sk-label-container\"><div class=\"sk-label sk-toggleable\"><input class=\"sk-toggleable__control sk-hidden--visually\" id=\"sk-estimator-id-5\" type=\"checkbox\" ><label for=\"sk-estimator-id-5\" class=\"sk-toggleable__label sk-toggleable__label-arrow\">classifier: LGBMClassifier</label><div class=\"sk-toggleable__content\"><pre>LGBMClassifier(random_state=0)</pre></div></div></div><div class=\"sk-serial\"><div class=\"sk-item\"><div class=\"sk-estimator sk-toggleable\"><input class=\"sk-toggleable__control sk-hidden--visually\" id=\"sk-estimator-id-6\" type=\"checkbox\" ><label for=\"sk-estimator-id-6\" class=\"sk-toggleable__label sk-toggleable__label-arrow\">LGBMClassifier</label><div class=\"sk-toggleable__content\"><pre>LGBMClassifier(random_state=0)</pre></div></div></div></div></div></div></div></div></div></div>"
      ],
      "text/plain": [
       "ClassifierChain(classifier=LGBMClassifier(random_state=0),\n",
       "                require_dense=[True, True])"
      ]
     },
     "execution_count": 108,
     "metadata": {},
     "output_type": "execute_result"
    }
   ],
   "source": [
    "classifier_chain_gb"
   ]
  },
  {
   "cell_type": "code",
   "execution_count": 109,
   "id": "4259a508",
   "metadata": {},
   "outputs": [
    {
     "data": {
      "text/plain": [
       "['lgbm_chain.sav']"
      ]
     },
     "execution_count": 109,
     "metadata": {},
     "output_type": "execute_result"
    }
   ],
   "source": [
    "joblib.dump(classifier_chain_gb, 'lgbm_chain.sav')"
   ]
  },
  {
   "cell_type": "markdown",
   "id": "a7eb0fc4",
   "metadata": {},
   "source": [
    "## Naive Bayes (Binary Relevance using Oversampled Data)"
   ]
  },
  {
   "cell_type": "code",
   "execution_count": 14,
   "id": "1b6f598c",
   "metadata": {},
   "outputs": [],
   "source": [
    "import warnings\n",
    "warnings.filterwarnings(\"ignore\")\n",
    "\n",
    "over_classifier_nb = BinaryRelevance(GaussianNB())\n",
    "# train\n",
    "over_classifier_nb.fit(oversampled_train[features], oversampled_train[labels])\n",
    "# predict\n",
    "over_predictions_nb = over_classifier_nb.predict(oversampled_train[features])"
   ]
  },
  {
   "cell_type": "code",
   "execution_count": 15,
   "id": "8f7e023f",
   "metadata": {},
   "outputs": [
    {
     "name": "stdout",
     "output_type": "stream",
     "text": [
      "Accuracy score:  0.8530588639844947\n",
      "Precision score:  0.4968336364510059\n",
      "Recall score:  0.6409159884121948\n",
      "F1 score:  0.5472951002536629\n",
      "Confusion matrix for label toxic:\n",
      "[[54362  3526]\n",
      " [ 1736  4354]]\n",
      "Confusion matrix for label severe_toxic:\n",
      "[[61457  2154]\n",
      " [  115   252]]\n",
      "Confusion matrix for label obscene:\n",
      "[[58460  1827]\n",
      " [ 1551  2140]]\n",
      "Confusion matrix for label threat:\n",
      "[[59676  4091]\n",
      " [   55   156]]\n",
      "Confusion matrix for label insult:\n",
      "[[58530  2021]\n",
      " [ 1443  1984]]\n",
      "Confusion matrix for label identity_hate:\n",
      "[[60870  2396]\n",
      " [  306   406]]\n",
      "Logarithmic Loss:  1.0061376129750363\n",
      "ROC AUC score:  0.9288408883514321\n"
     ]
    }
   ],
   "source": [
    "# evaluation on test data\n",
    "over_predictions_nb_test = over_classifier_nb.predict(selected_test[features])\n",
    "over_predictions_proba_nb_test = over_classifier_nb.predict_proba(selected_test[features])\n",
    "get_evaluation_score(selected_test[labels], over_predictions_nb_test, over_predictions_proba_nb_test)"
   ]
  },
  {
   "cell_type": "code",
   "execution_count": 17,
   "id": "03cc56c2",
   "metadata": {},
   "outputs": [
    {
     "name": "stdout",
     "output_type": "stream",
     "text": [
      "fitting for label toxic\n",
      "Accuracy score:  0.9177529775860452\n",
      "Precision score:  0.5525380710659898\n",
      "Recall score:  0.7149425287356321\n",
      "F1 score:  0.6233357193987115\n",
      "Confusion matrix:\n",
      "[[54362  3526]\n",
      " [ 1736  4354]]\n",
      "Logarithmic Loss:  2.1116280670827967\n",
      "ROC AUC score:  0.9287029250640612\n",
      "\n",
      "\n",
      "fitting for label severe_toxic\n",
      "Accuracy score:  0.9645346837975554\n",
      "Precision score:  0.10473815461346633\n",
      "Recall score:  0.6866485013623979\n",
      "F1 score:  0.18175261449693472\n",
      "Confusion matrix:\n",
      "[[61457  2154]\n",
      " [  115   252]]\n",
      "Logarithmic Loss:  0.6988973199720871\n",
      "ROC AUC score:  0.948290330057476\n",
      "\n",
      "\n",
      "fitting for label obscene\n",
      "Accuracy score:  0.9472006002063209\n",
      "Precision score:  0.5394504663473658\n",
      "Recall score:  0.5797886751557844\n",
      "F1 score:  0.5588926612692608\n",
      "Confusion matrix:\n",
      "[[58460  1827]\n",
      " [ 1551  2140]]\n",
      "Logarithmic Loss:  0.8155270784029294\n",
      "ROC AUC score:  0.9279784437770856\n",
      "\n",
      "\n",
      "fitting for label threat\n",
      "Accuracy score:  0.9351964737878645\n",
      "Precision score:  0.03673181068989875\n",
      "Recall score:  0.7393364928909952\n",
      "F1 score:  0.06998654104979812\n",
      "Confusion matrix:\n",
      "[[59676  4091]\n",
      " [   55   156]]\n",
      "Logarithmic Loss:  1.215001066431511\n",
      "ROC AUC score:  0.9402718516768356\n",
      "\n",
      "\n",
      "fitting for label insult\n",
      "Accuracy score:  0.9458563881334209\n",
      "Precision score:  0.49538077403245945\n",
      "Recall score:  0.5789320105048147\n",
      "F1 score:  0.5339074273412271\n",
      "Confusion matrix:\n",
      "[[58530  2021]\n",
      " [ 1443  1984]]\n",
      "Logarithmic Loss:  0.8658379123614773\n",
      "ROC AUC score:  0.9297074882463604\n",
      "\n",
      "\n",
      "fitting for label identity_hate\n",
      "Accuracy score:  0.957766732314233\n",
      "Precision score:  0.14489650249821556\n",
      "Recall score:  0.5702247191011236\n",
      "F1 score:  0.23107569721115537\n",
      "Confusion matrix:\n",
      "[[60870  2396]\n",
      " [  306   406]]\n",
      "Logarithmic Loss:  0.5836388821497718\n",
      "ROC AUC score:  0.916907971408041\n",
      "\n",
      "\n"
     ]
    }
   ],
   "source": [
    "# model evaluation on each label\n",
    "i = 0\n",
    "for label in labels:\n",
    "    print(f'fitting for label {label}')\n",
    "    get_evaluation_score_single_class(selected_test[label], over_predictions_nb_test[:,i].toarray(), over_predictions_proba_nb_test[:,i].toarray())\n",
    "    i += 1\n",
    "    print(\"\\n\")"
   ]
  },
  {
   "cell_type": "markdown",
   "id": "d30c1cd7",
   "metadata": {},
   "source": [
    "#### Export Model"
   ]
  },
  {
   "cell_type": "code",
   "execution_count": 111,
   "id": "6790884d",
   "metadata": {},
   "outputs": [
    {
     "data": {
      "text/html": [
       "<style>#sk-container-id-3 {color: black;background-color: white;}#sk-container-id-3 pre{padding: 0;}#sk-container-id-3 div.sk-toggleable {background-color: white;}#sk-container-id-3 label.sk-toggleable__label {cursor: pointer;display: block;width: 100%;margin-bottom: 0;padding: 0.3em;box-sizing: border-box;text-align: center;}#sk-container-id-3 label.sk-toggleable__label-arrow:before {content: \"▸\";float: left;margin-right: 0.25em;color: #696969;}#sk-container-id-3 label.sk-toggleable__label-arrow:hover:before {color: black;}#sk-container-id-3 div.sk-estimator:hover label.sk-toggleable__label-arrow:before {color: black;}#sk-container-id-3 div.sk-toggleable__content {max-height: 0;max-width: 0;overflow: hidden;text-align: left;background-color: #f0f8ff;}#sk-container-id-3 div.sk-toggleable__content pre {margin: 0.2em;color: black;border-radius: 0.25em;background-color: #f0f8ff;}#sk-container-id-3 input.sk-toggleable__control:checked~div.sk-toggleable__content {max-height: 200px;max-width: 100%;overflow: auto;}#sk-container-id-3 input.sk-toggleable__control:checked~label.sk-toggleable__label-arrow:before {content: \"▾\";}#sk-container-id-3 div.sk-estimator input.sk-toggleable__control:checked~label.sk-toggleable__label {background-color: #d4ebff;}#sk-container-id-3 div.sk-label input.sk-toggleable__control:checked~label.sk-toggleable__label {background-color: #d4ebff;}#sk-container-id-3 input.sk-hidden--visually {border: 0;clip: rect(1px 1px 1px 1px);clip: rect(1px, 1px, 1px, 1px);height: 1px;margin: -1px;overflow: hidden;padding: 0;position: absolute;width: 1px;}#sk-container-id-3 div.sk-estimator {font-family: monospace;background-color: #f0f8ff;border: 1px dotted black;border-radius: 0.25em;box-sizing: border-box;margin-bottom: 0.5em;}#sk-container-id-3 div.sk-estimator:hover {background-color: #d4ebff;}#sk-container-id-3 div.sk-parallel-item::after {content: \"\";width: 100%;border-bottom: 1px solid gray;flex-grow: 1;}#sk-container-id-3 div.sk-label:hover label.sk-toggleable__label {background-color: #d4ebff;}#sk-container-id-3 div.sk-serial::before {content: \"\";position: absolute;border-left: 1px solid gray;box-sizing: border-box;top: 0;bottom: 0;left: 50%;z-index: 0;}#sk-container-id-3 div.sk-serial {display: flex;flex-direction: column;align-items: center;background-color: white;padding-right: 0.2em;padding-left: 0.2em;position: relative;}#sk-container-id-3 div.sk-item {position: relative;z-index: 1;}#sk-container-id-3 div.sk-parallel {display: flex;align-items: stretch;justify-content: center;background-color: white;position: relative;}#sk-container-id-3 div.sk-item::before, #sk-container-id-3 div.sk-parallel-item::before {content: \"\";position: absolute;border-left: 1px solid gray;box-sizing: border-box;top: 0;bottom: 0;left: 50%;z-index: -1;}#sk-container-id-3 div.sk-parallel-item {display: flex;flex-direction: column;z-index: 1;position: relative;background-color: white;}#sk-container-id-3 div.sk-parallel-item:first-child::after {align-self: flex-end;width: 50%;}#sk-container-id-3 div.sk-parallel-item:last-child::after {align-self: flex-start;width: 50%;}#sk-container-id-3 div.sk-parallel-item:only-child::after {width: 0;}#sk-container-id-3 div.sk-dashed-wrapped {border: 1px dashed gray;margin: 0 0.4em 0.5em 0.4em;box-sizing: border-box;padding-bottom: 0.4em;background-color: white;}#sk-container-id-3 div.sk-label label {font-family: monospace;font-weight: bold;display: inline-block;line-height: 1.2em;}#sk-container-id-3 div.sk-label-container {text-align: center;}#sk-container-id-3 div.sk-container {/* jupyter's `normalize.less` sets `[hidden] { display: none; }` but bootstrap.min.css set `[hidden] { display: none !important; }` so we also need the `!important` here to be able to override the default hidden behavior on the sphinx rendered scikit-learn.org. See: https://github.com/scikit-learn/scikit-learn/issues/21755 */display: inline-block !important;position: relative;}#sk-container-id-3 div.sk-text-repr-fallback {display: none;}</style><div id=\"sk-container-id-3\" class=\"sk-top-container\"><div class=\"sk-text-repr-fallback\"><pre>BinaryRelevance(classifier=GaussianNB(), require_dense=[True, True])</pre><b>In a Jupyter environment, please rerun this cell to show the HTML representation or trust the notebook. <br />On GitHub, the HTML representation is unable to render, please try loading this page with nbviewer.org.</b></div><div class=\"sk-container\" hidden><div class=\"sk-item sk-dashed-wrapped\"><div class=\"sk-label-container\"><div class=\"sk-label sk-toggleable\"><input class=\"sk-toggleable__control sk-hidden--visually\" id=\"sk-estimator-id-7\" type=\"checkbox\" ><label for=\"sk-estimator-id-7\" class=\"sk-toggleable__label sk-toggleable__label-arrow\">BinaryRelevance</label><div class=\"sk-toggleable__content\"><pre>BinaryRelevance(classifier=GaussianNB(), require_dense=[True, True])</pre></div></div></div><div class=\"sk-parallel\"><div class=\"sk-parallel-item\"><div class=\"sk-item\"><div class=\"sk-label-container\"><div class=\"sk-label sk-toggleable\"><input class=\"sk-toggleable__control sk-hidden--visually\" id=\"sk-estimator-id-8\" type=\"checkbox\" ><label for=\"sk-estimator-id-8\" class=\"sk-toggleable__label sk-toggleable__label-arrow\">classifier: GaussianNB</label><div class=\"sk-toggleable__content\"><pre>GaussianNB()</pre></div></div></div><div class=\"sk-serial\"><div class=\"sk-item\"><div class=\"sk-estimator sk-toggleable\"><input class=\"sk-toggleable__control sk-hidden--visually\" id=\"sk-estimator-id-9\" type=\"checkbox\" ><label for=\"sk-estimator-id-9\" class=\"sk-toggleable__label sk-toggleable__label-arrow\">GaussianNB</label><div class=\"sk-toggleable__content\"><pre>GaussianNB()</pre></div></div></div></div></div></div></div></div></div></div>"
      ],
      "text/plain": [
       "BinaryRelevance(classifier=GaussianNB(), require_dense=[True, True])"
      ]
     },
     "execution_count": 111,
     "metadata": {},
     "output_type": "execute_result"
    }
   ],
   "source": [
    "over_classifier_nb"
   ]
  },
  {
   "cell_type": "code",
   "execution_count": 110,
   "id": "ef27e556",
   "metadata": {},
   "outputs": [
    {
     "data": {
      "text/plain": [
       "['nb_binary.sav']"
      ]
     },
     "execution_count": 110,
     "metadata": {},
     "output_type": "execute_result"
    }
   ],
   "source": [
    "joblib.dump(over_classifier_nb, 'nb_binary.sav')"
   ]
  },
  {
   "cell_type": "markdown",
   "id": "83ea8923",
   "metadata": {},
   "source": [
    "## Naive Bayes (Classifier Chain using Oversampled Data)"
   ]
  },
  {
   "cell_type": "code",
   "execution_count": 21,
   "id": "aa80fa6b",
   "metadata": {},
   "outputs": [],
   "source": [
    "import warnings\n",
    "warnings.filterwarnings(\"ignore\")\n",
    "\n",
    "over_classifier_chain_nb = ClassifierChain(GaussianNB())\n",
    "# train\n",
    "over_classifier_chain_nb.fit(oversampled_train[features], oversampled_train[labels])\n",
    "# predict\n",
    "over_predictions_chain_nb = over_classifier_chain_nb.predict(oversampled_train[features])"
   ]
  },
  {
   "cell_type": "code",
   "execution_count": 22,
   "id": "257f31df",
   "metadata": {},
   "outputs": [
    {
     "name": "stdout",
     "output_type": "stream",
     "text": [
      "Accuracy score:  0.8548407264997343\n",
      "Precision score:  0.4925368479626326\n",
      "Recall score:  0.6545040695268313\n",
      "F1 score:  0.5458599646848109\n",
      "Confusion matrix for label toxic:\n",
      "[[54362  3526]\n",
      " [ 1736  4354]]\n",
      "Confusion matrix for label severe_toxic:\n",
      "[[60013  3598]\n",
      " [   65   302]]\n",
      "Confusion matrix for label obscene:\n",
      "[[58385  1902]\n",
      " [ 1500  2191]]\n",
      "Confusion matrix for label threat:\n",
      "[[59473  4294]\n",
      " [   52   159]]\n",
      "Confusion matrix for label insult:\n",
      "[[58459  2092]\n",
      " [ 1426  2001]]\n",
      "Confusion matrix for label identity_hate:\n",
      "[[59878  3388]\n",
      " [  230   482]]\n",
      "Logarithmic Loss:  1.1197576556581255\n",
      "ROC AUC score:  0.9362249662469333\n"
     ]
    }
   ],
   "source": [
    "# evaluation on test data\n",
    "over_predictions_chain_nb_test = over_classifier_chain_nb.predict(selected_test[features])\n",
    "over_predictions_proba_chain_nb_test = over_classifier_chain_nb.predict_proba(selected_test[features])\n",
    "get_evaluation_score(selected_test[labels], over_predictions_chain_nb_test, over_predictions_proba_chain_nb_test)"
   ]
  },
  {
   "cell_type": "code",
   "execution_count": 23,
   "id": "16f15e76",
   "metadata": {},
   "outputs": [
    {
     "name": "stdout",
     "output_type": "stream",
     "text": [
      "fitting for label toxic\n",
      "Accuracy score:  0.9177529775860452\n",
      "Precision score:  0.5525380710659898\n",
      "Recall score:  0.7149425287356321\n",
      "F1 score:  0.6233357193987115\n",
      "Confusion matrix:\n",
      "[[54362  3526]\n",
      " [ 1736  4354]]\n",
      "Logarithmic Loss:  2.1116280670827967\n",
      "ROC AUC score:  0.9287029250640612\n",
      "\n",
      "\n",
      "fitting for label severe_toxic\n",
      "Accuracy score:  0.9427459439182219\n",
      "Precision score:  0.07743589743589743\n",
      "Recall score:  0.8228882833787466\n",
      "F1 score:  0.14155144129364894\n",
      "Confusion matrix:\n",
      "[[60013  3598]\n",
      " [   65   302]]\n",
      "Logarithmic Loss:  1.036284804393332\n",
      "ROC AUC score:  0.9524692338741303\n",
      "\n",
      "\n",
      "fitting for label obscene\n",
      "Accuracy score:  0.9468254712557441\n",
      "Precision score:  0.535304177864647\n",
      "Recall score:  0.5936060688160391\n",
      "F1 score:  0.56294964028777\n",
      "Confusion matrix:\n",
      "[[58385  1902]\n",
      " [ 1500  2191]]\n",
      "Logarithmic Loss:  1.1957921970680645\n",
      "ROC AUC score:  0.9441230893226226\n",
      "\n",
      "\n",
      "fitting for label threat\n",
      "Accuracy score:  0.9320703991997249\n",
      "Precision score:  0.03570626543902987\n",
      "Recall score:  0.7535545023696683\n",
      "F1 score:  0.06818181818181819\n",
      "Confusion matrix:\n",
      "[[59473  4294]\n",
      " [   52   159]]\n",
      "Logarithmic Loss:  1.8047792028793617\n",
      "ROC AUC score:  0.9440192400695749\n",
      "\n",
      "\n",
      "fitting for label insult\n",
      "Accuracy score:  0.9450123479946232\n",
      "Precision score:  0.48888345956511114\n",
      "Recall score:  0.5838926174496645\n",
      "F1 score:  0.5321808510638298\n",
      "Confusion matrix:\n",
      "[[58459  2092]\n",
      " [ 1426  2001]]\n",
      "Logarithmic Loss:  1.7339358102669726\n",
      "ROC AUC score:  0.9394071061560596\n",
      "\n",
      "\n",
      "fitting for label identity_hate\n",
      "Accuracy score:  0.9434493107005533\n",
      "Precision score:  0.12454780361757106\n",
      "Recall score:  0.6769662921348315\n",
      "F1 score:  0.2103884766477521\n",
      "Confusion matrix:\n",
      "[[59878  3388]\n",
      " [  230   482]]\n",
      "Logarithmic Loss:  1.0138559038385981\n",
      "ROC AUC score:  0.9336207907792211\n",
      "\n",
      "\n"
     ]
    }
   ],
   "source": [
    "# model evaluation on each label\n",
    "i = 0\n",
    "for label in labels:\n",
    "    print(f'fitting for label {label}')\n",
    "    get_evaluation_score_single_class(selected_test[label], over_predictions_chain_nb_test[:,i].toarray(), over_predictions_proba_chain_nb_test[:,i].toarray())\n",
    "    i += 1\n",
    "    print(\"\\n\")"
   ]
  },
  {
   "cell_type": "markdown",
   "id": "fdb5f5ed",
   "metadata": {},
   "source": [
    "#### Export Model"
   ]
  },
  {
   "cell_type": "code",
   "execution_count": 112,
   "id": "78c27e6d",
   "metadata": {},
   "outputs": [
    {
     "data": {
      "text/html": [
       "<style>#sk-container-id-4 {color: black;background-color: white;}#sk-container-id-4 pre{padding: 0;}#sk-container-id-4 div.sk-toggleable {background-color: white;}#sk-container-id-4 label.sk-toggleable__label {cursor: pointer;display: block;width: 100%;margin-bottom: 0;padding: 0.3em;box-sizing: border-box;text-align: center;}#sk-container-id-4 label.sk-toggleable__label-arrow:before {content: \"▸\";float: left;margin-right: 0.25em;color: #696969;}#sk-container-id-4 label.sk-toggleable__label-arrow:hover:before {color: black;}#sk-container-id-4 div.sk-estimator:hover label.sk-toggleable__label-arrow:before {color: black;}#sk-container-id-4 div.sk-toggleable__content {max-height: 0;max-width: 0;overflow: hidden;text-align: left;background-color: #f0f8ff;}#sk-container-id-4 div.sk-toggleable__content pre {margin: 0.2em;color: black;border-radius: 0.25em;background-color: #f0f8ff;}#sk-container-id-4 input.sk-toggleable__control:checked~div.sk-toggleable__content {max-height: 200px;max-width: 100%;overflow: auto;}#sk-container-id-4 input.sk-toggleable__control:checked~label.sk-toggleable__label-arrow:before {content: \"▾\";}#sk-container-id-4 div.sk-estimator input.sk-toggleable__control:checked~label.sk-toggleable__label {background-color: #d4ebff;}#sk-container-id-4 div.sk-label input.sk-toggleable__control:checked~label.sk-toggleable__label {background-color: #d4ebff;}#sk-container-id-4 input.sk-hidden--visually {border: 0;clip: rect(1px 1px 1px 1px);clip: rect(1px, 1px, 1px, 1px);height: 1px;margin: -1px;overflow: hidden;padding: 0;position: absolute;width: 1px;}#sk-container-id-4 div.sk-estimator {font-family: monospace;background-color: #f0f8ff;border: 1px dotted black;border-radius: 0.25em;box-sizing: border-box;margin-bottom: 0.5em;}#sk-container-id-4 div.sk-estimator:hover {background-color: #d4ebff;}#sk-container-id-4 div.sk-parallel-item::after {content: \"\";width: 100%;border-bottom: 1px solid gray;flex-grow: 1;}#sk-container-id-4 div.sk-label:hover label.sk-toggleable__label {background-color: #d4ebff;}#sk-container-id-4 div.sk-serial::before {content: \"\";position: absolute;border-left: 1px solid gray;box-sizing: border-box;top: 0;bottom: 0;left: 50%;z-index: 0;}#sk-container-id-4 div.sk-serial {display: flex;flex-direction: column;align-items: center;background-color: white;padding-right: 0.2em;padding-left: 0.2em;position: relative;}#sk-container-id-4 div.sk-item {position: relative;z-index: 1;}#sk-container-id-4 div.sk-parallel {display: flex;align-items: stretch;justify-content: center;background-color: white;position: relative;}#sk-container-id-4 div.sk-item::before, #sk-container-id-4 div.sk-parallel-item::before {content: \"\";position: absolute;border-left: 1px solid gray;box-sizing: border-box;top: 0;bottom: 0;left: 50%;z-index: -1;}#sk-container-id-4 div.sk-parallel-item {display: flex;flex-direction: column;z-index: 1;position: relative;background-color: white;}#sk-container-id-4 div.sk-parallel-item:first-child::after {align-self: flex-end;width: 50%;}#sk-container-id-4 div.sk-parallel-item:last-child::after {align-self: flex-start;width: 50%;}#sk-container-id-4 div.sk-parallel-item:only-child::after {width: 0;}#sk-container-id-4 div.sk-dashed-wrapped {border: 1px dashed gray;margin: 0 0.4em 0.5em 0.4em;box-sizing: border-box;padding-bottom: 0.4em;background-color: white;}#sk-container-id-4 div.sk-label label {font-family: monospace;font-weight: bold;display: inline-block;line-height: 1.2em;}#sk-container-id-4 div.sk-label-container {text-align: center;}#sk-container-id-4 div.sk-container {/* jupyter's `normalize.less` sets `[hidden] { display: none; }` but bootstrap.min.css set `[hidden] { display: none !important; }` so we also need the `!important` here to be able to override the default hidden behavior on the sphinx rendered scikit-learn.org. See: https://github.com/scikit-learn/scikit-learn/issues/21755 */display: inline-block !important;position: relative;}#sk-container-id-4 div.sk-text-repr-fallback {display: none;}</style><div id=\"sk-container-id-4\" class=\"sk-top-container\"><div class=\"sk-text-repr-fallback\"><pre>ClassifierChain(classifier=GaussianNB(), require_dense=[True, True])</pre><b>In a Jupyter environment, please rerun this cell to show the HTML representation or trust the notebook. <br />On GitHub, the HTML representation is unable to render, please try loading this page with nbviewer.org.</b></div><div class=\"sk-container\" hidden><div class=\"sk-item sk-dashed-wrapped\"><div class=\"sk-label-container\"><div class=\"sk-label sk-toggleable\"><input class=\"sk-toggleable__control sk-hidden--visually\" id=\"sk-estimator-id-10\" type=\"checkbox\" ><label for=\"sk-estimator-id-10\" class=\"sk-toggleable__label sk-toggleable__label-arrow\">ClassifierChain</label><div class=\"sk-toggleable__content\"><pre>ClassifierChain(classifier=GaussianNB(), require_dense=[True, True])</pre></div></div></div><div class=\"sk-parallel\"><div class=\"sk-parallel-item\"><div class=\"sk-item\"><div class=\"sk-label-container\"><div class=\"sk-label sk-toggleable\"><input class=\"sk-toggleable__control sk-hidden--visually\" id=\"sk-estimator-id-11\" type=\"checkbox\" ><label for=\"sk-estimator-id-11\" class=\"sk-toggleable__label sk-toggleable__label-arrow\">classifier: GaussianNB</label><div class=\"sk-toggleable__content\"><pre>GaussianNB()</pre></div></div></div><div class=\"sk-serial\"><div class=\"sk-item\"><div class=\"sk-estimator sk-toggleable\"><input class=\"sk-toggleable__control sk-hidden--visually\" id=\"sk-estimator-id-12\" type=\"checkbox\" ><label for=\"sk-estimator-id-12\" class=\"sk-toggleable__label sk-toggleable__label-arrow\">GaussianNB</label><div class=\"sk-toggleable__content\"><pre>GaussianNB()</pre></div></div></div></div></div></div></div></div></div></div>"
      ],
      "text/plain": [
       "ClassifierChain(classifier=GaussianNB(), require_dense=[True, True])"
      ]
     },
     "execution_count": 112,
     "metadata": {},
     "output_type": "execute_result"
    }
   ],
   "source": [
    "over_classifier_chain_nb"
   ]
  },
  {
   "cell_type": "code",
   "execution_count": 113,
   "id": "6e5615c2",
   "metadata": {},
   "outputs": [
    {
     "data": {
      "text/plain": [
       "['nb_chain.sav']"
      ]
     },
     "execution_count": 113,
     "metadata": {},
     "output_type": "execute_result"
    }
   ],
   "source": [
    "joblib.dump(over_classifier_chain_nb, 'nb_chain.sav')"
   ]
  },
  {
   "cell_type": "markdown",
   "id": "a9880ff0",
   "metadata": {},
   "source": [
    "Naive Bayes Classifier has almost no hyperparameters to tune, so it usually generalizes well. One thing to note is that due to the feature independence assumption, the class probabilities output by Naive Bayes can be pretty inaccurate."
   ]
  },
  {
   "cell_type": "markdown",
   "id": "bfe1276e",
   "metadata": {},
   "source": [
    "# Hyperparameter Tuning (For LGBM)"
   ]
  },
  {
   "cell_type": "markdown",
   "id": "32746374",
   "metadata": {},
   "source": [
    "* num_leaves (int, optional (default=31)) – Maximum tree leaves for base learners.\n",
    "\n",
    "* max_depth (int, optional (default=-1)) – Maximum tree depth for base learners, <=0 means no limit.\n",
    "\n",
    "* learning_rate (float, optional (default=0.1)) – Boosting learning rate. You can use callbacks parameter of fit method to shrink/adapt learning rate in training using reset_parameter callback. Note, that this will ignore the learning_rate argument in training.\n",
    "\n",
    "* n_estimators (int, optional (default=100)) – Number of boosted trees to fit.\n",
    "\n",
    "* subsample_for_bin (int, optional (default=200000)) – Number of samples for constructing bins.\n",
    "scale_pos_weight [default=1] A value greater than 0 should be used in case of high-class imbalance as it helps in faster convergence.\n",
    "\n",
    "* scale_pos_weight [default=1] A value greater than 0 should be used in case of high-class imbalance as it helps in faster convergence.\n",
    "\n",
    "References: \n",
    "* https://www.analyticsvidhya.com/blog/2016/02/complete-guide-parameter-tuning-gradient-boosting-gbm-python/\n",
    "* https://lightgbm.readthedocs.io/en/latest/Parameters.html\n",
    "* https://lightgbm.readthedocs.io/en/latest/Parameters-Tuning.html"
   ]
  },
  {
   "cell_type": "markdown",
   "id": "fe653baf",
   "metadata": {},
   "source": [
    "### LGBM (Binary Relevance)"
   ]
  },
  {
   "cell_type": "code",
   "execution_count": 122,
   "id": "539eab7b",
   "metadata": {},
   "outputs": [
    {
     "data": {
      "text/plain": [
       "dict_keys(['classifier', 'classifier__boosting_type', 'classifier__class_weight', 'classifier__colsample_bytree', 'classifier__importance_type', 'classifier__learning_rate', 'classifier__max_depth', 'classifier__min_child_samples', 'classifier__min_child_weight', 'classifier__min_split_gain', 'classifier__n_estimators', 'classifier__n_jobs', 'classifier__num_leaves', 'classifier__objective', 'classifier__random_state', 'classifier__reg_alpha', 'classifier__reg_lambda', 'classifier__silent', 'classifier__subsample', 'classifier__subsample_for_bin', 'classifier__subsample_freq', 'require_dense'])"
      ]
     },
     "execution_count": 122,
     "metadata": {},
     "output_type": "execute_result"
    }
   ],
   "source": [
    "BinaryRelevance(classifier=LGBMClassifier(random_state=0)).get_params().keys()"
   ]
  },
  {
   "cell_type": "markdown",
   "id": "577b35b6",
   "metadata": {},
   "source": [
    "### Tune scale_pos_weight"
   ]
  },
  {
   "cell_type": "code",
   "execution_count": 140,
   "id": "053d0a4f",
   "metadata": {},
   "outputs": [
    {
     "name": "stdout",
     "output_type": "stream",
     "text": [
      "Fitting 5 folds for each of 5 candidates, totalling 25 fits\n",
      "[CV 1/5] END ....classifier__scale_pos_weight=1;, score=0.690 total time=   7.8s\n",
      "[CV 2/5] END ....classifier__scale_pos_weight=1;, score=0.688 total time=   7.9s\n",
      "[CV 3/5] END ....classifier__scale_pos_weight=1;, score=0.694 total time=   8.1s\n",
      "[CV 4/5] END ....classifier__scale_pos_weight=1;, score=0.695 total time=   8.0s\n",
      "[CV 5/5] END ....classifier__scale_pos_weight=1;, score=0.680 total time=   7.9s\n",
      "[CV 1/5] END ....classifier__scale_pos_weight=5;, score=0.678 total time=   8.2s\n",
      "[CV 2/5] END ....classifier__scale_pos_weight=5;, score=0.676 total time=   8.4s\n",
      "[CV 3/5] END ....classifier__scale_pos_weight=5;, score=0.683 total time=   8.3s\n",
      "[CV 4/5] END ....classifier__scale_pos_weight=5;, score=0.676 total time=   8.2s\n",
      "[CV 5/5] END ....classifier__scale_pos_weight=5;, score=0.671 total time=   8.2s\n",
      "[CV 1/5] END ....classifier__scale_pos_weight=9;, score=0.641 total time=   8.5s\n",
      "[CV 2/5] END ....classifier__scale_pos_weight=9;, score=0.635 total time=   8.3s\n",
      "[CV 3/5] END ....classifier__scale_pos_weight=9;, score=0.650 total time=   8.3s\n",
      "[CV 4/5] END ....classifier__scale_pos_weight=9;, score=0.638 total time=   8.1s\n",
      "[CV 5/5] END ....classifier__scale_pos_weight=9;, score=0.637 total time=   8.3s\n",
      "[CV 1/5] END ...classifier__scale_pos_weight=13;, score=0.615 total time=   8.3s\n",
      "[CV 2/5] END ...classifier__scale_pos_weight=13;, score=0.606 total time=   8.2s\n",
      "[CV 3/5] END ...classifier__scale_pos_weight=13;, score=0.621 total time=   8.4s\n",
      "[CV 4/5] END ...classifier__scale_pos_weight=13;, score=0.610 total time=   8.3s\n",
      "[CV 5/5] END ...classifier__scale_pos_weight=13;, score=0.608 total time=   8.1s\n",
      "[CV 1/5] END ...classifier__scale_pos_weight=17;, score=0.594 total time=   8.3s\n",
      "[CV 2/5] END ...classifier__scale_pos_weight=17;, score=0.583 total time=   8.2s\n",
      "[CV 3/5] END ...classifier__scale_pos_weight=17;, score=0.599 total time=   8.2s\n",
      "[CV 4/5] END ...classifier__scale_pos_weight=17;, score=0.591 total time=   8.3s\n",
      "[CV 5/5] END ...classifier__scale_pos_weight=17;, score=0.586 total time=   8.3s\n"
     ]
    },
    {
     "data": {
      "text/html": [
       "<style>#sk-container-id-9 {color: black;background-color: white;}#sk-container-id-9 pre{padding: 0;}#sk-container-id-9 div.sk-toggleable {background-color: white;}#sk-container-id-9 label.sk-toggleable__label {cursor: pointer;display: block;width: 100%;margin-bottom: 0;padding: 0.3em;box-sizing: border-box;text-align: center;}#sk-container-id-9 label.sk-toggleable__label-arrow:before {content: \"▸\";float: left;margin-right: 0.25em;color: #696969;}#sk-container-id-9 label.sk-toggleable__label-arrow:hover:before {color: black;}#sk-container-id-9 div.sk-estimator:hover label.sk-toggleable__label-arrow:before {color: black;}#sk-container-id-9 div.sk-toggleable__content {max-height: 0;max-width: 0;overflow: hidden;text-align: left;background-color: #f0f8ff;}#sk-container-id-9 div.sk-toggleable__content pre {margin: 0.2em;color: black;border-radius: 0.25em;background-color: #f0f8ff;}#sk-container-id-9 input.sk-toggleable__control:checked~div.sk-toggleable__content {max-height: 200px;max-width: 100%;overflow: auto;}#sk-container-id-9 input.sk-toggleable__control:checked~label.sk-toggleable__label-arrow:before {content: \"▾\";}#sk-container-id-9 div.sk-estimator input.sk-toggleable__control:checked~label.sk-toggleable__label {background-color: #d4ebff;}#sk-container-id-9 div.sk-label input.sk-toggleable__control:checked~label.sk-toggleable__label {background-color: #d4ebff;}#sk-container-id-9 input.sk-hidden--visually {border: 0;clip: rect(1px 1px 1px 1px);clip: rect(1px, 1px, 1px, 1px);height: 1px;margin: -1px;overflow: hidden;padding: 0;position: absolute;width: 1px;}#sk-container-id-9 div.sk-estimator {font-family: monospace;background-color: #f0f8ff;border: 1px dotted black;border-radius: 0.25em;box-sizing: border-box;margin-bottom: 0.5em;}#sk-container-id-9 div.sk-estimator:hover {background-color: #d4ebff;}#sk-container-id-9 div.sk-parallel-item::after {content: \"\";width: 100%;border-bottom: 1px solid gray;flex-grow: 1;}#sk-container-id-9 div.sk-label:hover label.sk-toggleable__label {background-color: #d4ebff;}#sk-container-id-9 div.sk-serial::before {content: \"\";position: absolute;border-left: 1px solid gray;box-sizing: border-box;top: 0;bottom: 0;left: 50%;z-index: 0;}#sk-container-id-9 div.sk-serial {display: flex;flex-direction: column;align-items: center;background-color: white;padding-right: 0.2em;padding-left: 0.2em;position: relative;}#sk-container-id-9 div.sk-item {position: relative;z-index: 1;}#sk-container-id-9 div.sk-parallel {display: flex;align-items: stretch;justify-content: center;background-color: white;position: relative;}#sk-container-id-9 div.sk-item::before, #sk-container-id-9 div.sk-parallel-item::before {content: \"\";position: absolute;border-left: 1px solid gray;box-sizing: border-box;top: 0;bottom: 0;left: 50%;z-index: -1;}#sk-container-id-9 div.sk-parallel-item {display: flex;flex-direction: column;z-index: 1;position: relative;background-color: white;}#sk-container-id-9 div.sk-parallel-item:first-child::after {align-self: flex-end;width: 50%;}#sk-container-id-9 div.sk-parallel-item:last-child::after {align-self: flex-start;width: 50%;}#sk-container-id-9 div.sk-parallel-item:only-child::after {width: 0;}#sk-container-id-9 div.sk-dashed-wrapped {border: 1px dashed gray;margin: 0 0.4em 0.5em 0.4em;box-sizing: border-box;padding-bottom: 0.4em;background-color: white;}#sk-container-id-9 div.sk-label label {font-family: monospace;font-weight: bold;display: inline-block;line-height: 1.2em;}#sk-container-id-9 div.sk-label-container {text-align: center;}#sk-container-id-9 div.sk-container {/* jupyter's `normalize.less` sets `[hidden] { display: none; }` but bootstrap.min.css set `[hidden] { display: none !important; }` so we also need the `!important` here to be able to override the default hidden behavior on the sphinx rendered scikit-learn.org. See: https://github.com/scikit-learn/scikit-learn/issues/21755 */display: inline-block !important;position: relative;}#sk-container-id-9 div.sk-text-repr-fallback {display: none;}</style><div id=\"sk-container-id-9\" class=\"sk-top-container\"><div class=\"sk-text-repr-fallback\"><pre>GridSearchCV(cv=5,\n",
       "             estimator=BinaryRelevance(classifier=LGBMClassifier(random_state=0),\n",
       "                                       require_dense=[True, True]),\n",
       "             param_grid={&#x27;classifier__scale_pos_weight&#x27;: range(1, 18, 4)},\n",
       "             scoring=&#x27;f1_weighted&#x27;, verbose=3)</pre><b>In a Jupyter environment, please rerun this cell to show the HTML representation or trust the notebook. <br />On GitHub, the HTML representation is unable to render, please try loading this page with nbviewer.org.</b></div><div class=\"sk-container\" hidden><div class=\"sk-item sk-dashed-wrapped\"><div class=\"sk-label-container\"><div class=\"sk-label sk-toggleable\"><input class=\"sk-toggleable__control sk-hidden--visually\" id=\"sk-estimator-id-29\" type=\"checkbox\" ><label for=\"sk-estimator-id-29\" class=\"sk-toggleable__label sk-toggleable__label-arrow\">GridSearchCV</label><div class=\"sk-toggleable__content\"><pre>GridSearchCV(cv=5,\n",
       "             estimator=BinaryRelevance(classifier=LGBMClassifier(random_state=0),\n",
       "                                       require_dense=[True, True]),\n",
       "             param_grid={&#x27;classifier__scale_pos_weight&#x27;: range(1, 18, 4)},\n",
       "             scoring=&#x27;f1_weighted&#x27;, verbose=3)</pre></div></div></div><div class=\"sk-parallel\"><div class=\"sk-parallel-item\"><div class=\"sk-item\"><div class=\"sk-label-container\"><div class=\"sk-label sk-toggleable\"><input class=\"sk-toggleable__control sk-hidden--visually\" id=\"sk-estimator-id-30\" type=\"checkbox\" ><label for=\"sk-estimator-id-30\" class=\"sk-toggleable__label sk-toggleable__label-arrow\">estimator: BinaryRelevance</label><div class=\"sk-toggleable__content\"><pre>BinaryRelevance(classifier=LGBMClassifier(random_state=0),\n",
       "                require_dense=[True, True])</pre></div></div></div><div class=\"sk-serial\"><div class=\"sk-item sk-dashed-wrapped\"><div class=\"sk-parallel\"><div class=\"sk-parallel-item\"><div class=\"sk-item\"><div class=\"sk-label-container\"><div class=\"sk-label sk-toggleable\"><input class=\"sk-toggleable__control sk-hidden--visually\" id=\"sk-estimator-id-31\" type=\"checkbox\" ><label for=\"sk-estimator-id-31\" class=\"sk-toggleable__label sk-toggleable__label-arrow\">classifier: LGBMClassifier</label><div class=\"sk-toggleable__content\"><pre>LGBMClassifier(random_state=0)</pre></div></div></div><div class=\"sk-serial\"><div class=\"sk-item\"><div class=\"sk-estimator sk-toggleable\"><input class=\"sk-toggleable__control sk-hidden--visually\" id=\"sk-estimator-id-32\" type=\"checkbox\" ><label for=\"sk-estimator-id-32\" class=\"sk-toggleable__label sk-toggleable__label-arrow\">LGBMClassifier</label><div class=\"sk-toggleable__content\"><pre>LGBMClassifier(random_state=0)</pre></div></div></div></div></div></div></div></div></div></div></div></div></div></div></div>"
      ],
      "text/plain": [
       "GridSearchCV(cv=5,\n",
       "             estimator=BinaryRelevance(classifier=LGBMClassifier(random_state=0),\n",
       "                                       require_dense=[True, True]),\n",
       "             param_grid={'classifier__scale_pos_weight': range(1, 18, 4)},\n",
       "             scoring='f1_weighted', verbose=3)"
      ]
     },
     "execution_count": 140,
     "metadata": {},
     "output_type": "execute_result"
    }
   ],
   "source": [
    "param_test = {\n",
    " 'classifier__scale_pos_weight':range(1,18,4)\n",
    "}\n",
    "\n",
    "lgbm_tuned = BinaryRelevance(LGBMClassifier(random_state=0))\n",
    "gsearch = GridSearchCV(estimator=lgbm_tuned, param_grid=param_test, scoring='f1_weighted', cv=5, verbose=3)\n",
    "gsearch.fit(selected_train[features], selected_train[labels])"
   ]
  },
  {
   "cell_type": "code",
   "execution_count": 130,
   "id": "081aef0c",
   "metadata": {},
   "outputs": [
    {
     "data": {
      "text/plain": [
       "({'classifier__scale_pos_weight': 1}, 0.6894672664194945)"
      ]
     },
     "execution_count": 130,
     "metadata": {},
     "output_type": "execute_result"
    }
   ],
   "source": [
    "gsearch.best_params_, gsearch.best_score_"
   ]
  },
  {
   "cell_type": "markdown",
   "id": "e9a84174",
   "metadata": {},
   "source": [
    "No adjustment on default scale_pos_weight needed, does not improve model performance."
   ]
  },
  {
   "cell_type": "markdown",
   "id": "27a45192",
   "metadata": {},
   "source": [
    "### Tune n_classifiers"
   ]
  },
  {
   "cell_type": "code",
   "execution_count": 123,
   "id": "e72be43d",
   "metadata": {},
   "outputs": [
    {
     "name": "stdout",
     "output_type": "stream",
     "text": [
      "Fitting 5 folds for each of 7 candidates, totalling 35 fits\n",
      "[CV 1/5] END .......classifier__n_estimators=20;, score=0.660 total time=   2.7s\n",
      "[CV 2/5] END .......classifier__n_estimators=20;, score=0.656 total time=   2.6s\n",
      "[CV 3/5] END .......classifier__n_estimators=20;, score=0.667 total time=   2.7s\n",
      "[CV 4/5] END .......classifier__n_estimators=20;, score=0.670 total time=   2.6s\n",
      "[CV 5/5] END .......classifier__n_estimators=20;, score=0.658 total time=   2.6s\n",
      "[CV 1/5] END .......classifier__n_estimators=30;, score=0.675 total time=   3.3s\n",
      "[CV 2/5] END .......classifier__n_estimators=30;, score=0.669 total time=   3.3s\n",
      "[CV 3/5] END .......classifier__n_estimators=30;, score=0.678 total time=   3.4s\n",
      "[CV 4/5] END .......classifier__n_estimators=30;, score=0.685 total time=   3.4s\n",
      "[CV 5/5] END .......classifier__n_estimators=30;, score=0.673 total time=   3.3s\n",
      "[CV 1/5] END .......classifier__n_estimators=40;, score=0.680 total time=   4.0s\n",
      "[CV 2/5] END .......classifier__n_estimators=40;, score=0.675 total time=   3.9s\n",
      "[CV 3/5] END .......classifier__n_estimators=40;, score=0.686 total time=   3.9s\n",
      "[CV 4/5] END .......classifier__n_estimators=40;, score=0.689 total time=   4.0s\n",
      "[CV 5/5] END .......classifier__n_estimators=40;, score=0.676 total time=   4.0s\n",
      "[CV 1/5] END .......classifier__n_estimators=50;, score=0.684 total time=   4.6s\n",
      "[CV 2/5] END .......classifier__n_estimators=50;, score=0.679 total time=   4.6s\n",
      "[CV 3/5] END .......classifier__n_estimators=50;, score=0.689 total time=   4.6s\n",
      "[CV 4/5] END .......classifier__n_estimators=50;, score=0.692 total time=   4.6s\n",
      "[CV 5/5] END .......classifier__n_estimators=50;, score=0.679 total time=   4.6s\n",
      "[CV 1/5] END .......classifier__n_estimators=60;, score=0.686 total time=   5.4s\n",
      "[CV 2/5] END .......classifier__n_estimators=60;, score=0.682 total time=   5.4s\n",
      "[CV 3/5] END .......classifier__n_estimators=60;, score=0.691 total time=   5.4s\n",
      "[CV 4/5] END .......classifier__n_estimators=60;, score=0.693 total time=   5.4s\n",
      "[CV 5/5] END .......classifier__n_estimators=60;, score=0.681 total time=   5.4s\n",
      "[CV 1/5] END .......classifier__n_estimators=70;, score=0.687 total time=   6.0s\n",
      "[CV 2/5] END .......classifier__n_estimators=70;, score=0.684 total time=   5.9s\n",
      "[CV 3/5] END .......classifier__n_estimators=70;, score=0.692 total time=   6.1s\n",
      "[CV 4/5] END .......classifier__n_estimators=70;, score=0.695 total time=   6.2s\n",
      "[CV 5/5] END .......classifier__n_estimators=70;, score=0.679 total time=   6.0s\n",
      "[CV 1/5] END .......classifier__n_estimators=80;, score=0.688 total time=   6.7s\n",
      "[CV 2/5] END .......classifier__n_estimators=80;, score=0.686 total time=   6.6s\n",
      "[CV 3/5] END .......classifier__n_estimators=80;, score=0.691 total time=   6.6s\n",
      "[CV 4/5] END .......classifier__n_estimators=80;, score=0.697 total time=   6.8s\n",
      "[CV 5/5] END .......classifier__n_estimators=80;, score=0.680 total time=   6.6s\n"
     ]
    },
    {
     "data": {
      "text/html": [
       "<style>#sk-container-id-5 {color: black;background-color: white;}#sk-container-id-5 pre{padding: 0;}#sk-container-id-5 div.sk-toggleable {background-color: white;}#sk-container-id-5 label.sk-toggleable__label {cursor: pointer;display: block;width: 100%;margin-bottom: 0;padding: 0.3em;box-sizing: border-box;text-align: center;}#sk-container-id-5 label.sk-toggleable__label-arrow:before {content: \"▸\";float: left;margin-right: 0.25em;color: #696969;}#sk-container-id-5 label.sk-toggleable__label-arrow:hover:before {color: black;}#sk-container-id-5 div.sk-estimator:hover label.sk-toggleable__label-arrow:before {color: black;}#sk-container-id-5 div.sk-toggleable__content {max-height: 0;max-width: 0;overflow: hidden;text-align: left;background-color: #f0f8ff;}#sk-container-id-5 div.sk-toggleable__content pre {margin: 0.2em;color: black;border-radius: 0.25em;background-color: #f0f8ff;}#sk-container-id-5 input.sk-toggleable__control:checked~div.sk-toggleable__content {max-height: 200px;max-width: 100%;overflow: auto;}#sk-container-id-5 input.sk-toggleable__control:checked~label.sk-toggleable__label-arrow:before {content: \"▾\";}#sk-container-id-5 div.sk-estimator input.sk-toggleable__control:checked~label.sk-toggleable__label {background-color: #d4ebff;}#sk-container-id-5 div.sk-label input.sk-toggleable__control:checked~label.sk-toggleable__label {background-color: #d4ebff;}#sk-container-id-5 input.sk-hidden--visually {border: 0;clip: rect(1px 1px 1px 1px);clip: rect(1px, 1px, 1px, 1px);height: 1px;margin: -1px;overflow: hidden;padding: 0;position: absolute;width: 1px;}#sk-container-id-5 div.sk-estimator {font-family: monospace;background-color: #f0f8ff;border: 1px dotted black;border-radius: 0.25em;box-sizing: border-box;margin-bottom: 0.5em;}#sk-container-id-5 div.sk-estimator:hover {background-color: #d4ebff;}#sk-container-id-5 div.sk-parallel-item::after {content: \"\";width: 100%;border-bottom: 1px solid gray;flex-grow: 1;}#sk-container-id-5 div.sk-label:hover label.sk-toggleable__label {background-color: #d4ebff;}#sk-container-id-5 div.sk-serial::before {content: \"\";position: absolute;border-left: 1px solid gray;box-sizing: border-box;top: 0;bottom: 0;left: 50%;z-index: 0;}#sk-container-id-5 div.sk-serial {display: flex;flex-direction: column;align-items: center;background-color: white;padding-right: 0.2em;padding-left: 0.2em;position: relative;}#sk-container-id-5 div.sk-item {position: relative;z-index: 1;}#sk-container-id-5 div.sk-parallel {display: flex;align-items: stretch;justify-content: center;background-color: white;position: relative;}#sk-container-id-5 div.sk-item::before, #sk-container-id-5 div.sk-parallel-item::before {content: \"\";position: absolute;border-left: 1px solid gray;box-sizing: border-box;top: 0;bottom: 0;left: 50%;z-index: -1;}#sk-container-id-5 div.sk-parallel-item {display: flex;flex-direction: column;z-index: 1;position: relative;background-color: white;}#sk-container-id-5 div.sk-parallel-item:first-child::after {align-self: flex-end;width: 50%;}#sk-container-id-5 div.sk-parallel-item:last-child::after {align-self: flex-start;width: 50%;}#sk-container-id-5 div.sk-parallel-item:only-child::after {width: 0;}#sk-container-id-5 div.sk-dashed-wrapped {border: 1px dashed gray;margin: 0 0.4em 0.5em 0.4em;box-sizing: border-box;padding-bottom: 0.4em;background-color: white;}#sk-container-id-5 div.sk-label label {font-family: monospace;font-weight: bold;display: inline-block;line-height: 1.2em;}#sk-container-id-5 div.sk-label-container {text-align: center;}#sk-container-id-5 div.sk-container {/* jupyter's `normalize.less` sets `[hidden] { display: none; }` but bootstrap.min.css set `[hidden] { display: none !important; }` so we also need the `!important` here to be able to override the default hidden behavior on the sphinx rendered scikit-learn.org. See: https://github.com/scikit-learn/scikit-learn/issues/21755 */display: inline-block !important;position: relative;}#sk-container-id-5 div.sk-text-repr-fallback {display: none;}</style><div id=\"sk-container-id-5\" class=\"sk-top-container\"><div class=\"sk-text-repr-fallback\"><pre>GridSearchCV(cv=5,\n",
       "             estimator=BinaryRelevance(classifier=LGBMClassifier(random_state=0),\n",
       "                                       require_dense=[True, True]),\n",
       "             param_grid={&#x27;classifier__n_estimators&#x27;: range(20, 81, 10)},\n",
       "             scoring=&#x27;f1_weighted&#x27;, verbose=3)</pre><b>In a Jupyter environment, please rerun this cell to show the HTML representation or trust the notebook. <br />On GitHub, the HTML representation is unable to render, please try loading this page with nbviewer.org.</b></div><div class=\"sk-container\" hidden><div class=\"sk-item sk-dashed-wrapped\"><div class=\"sk-label-container\"><div class=\"sk-label sk-toggleable\"><input class=\"sk-toggleable__control sk-hidden--visually\" id=\"sk-estimator-id-13\" type=\"checkbox\" ><label for=\"sk-estimator-id-13\" class=\"sk-toggleable__label sk-toggleable__label-arrow\">GridSearchCV</label><div class=\"sk-toggleable__content\"><pre>GridSearchCV(cv=5,\n",
       "             estimator=BinaryRelevance(classifier=LGBMClassifier(random_state=0),\n",
       "                                       require_dense=[True, True]),\n",
       "             param_grid={&#x27;classifier__n_estimators&#x27;: range(20, 81, 10)},\n",
       "             scoring=&#x27;f1_weighted&#x27;, verbose=3)</pre></div></div></div><div class=\"sk-parallel\"><div class=\"sk-parallel-item\"><div class=\"sk-item\"><div class=\"sk-label-container\"><div class=\"sk-label sk-toggleable\"><input class=\"sk-toggleable__control sk-hidden--visually\" id=\"sk-estimator-id-14\" type=\"checkbox\" ><label for=\"sk-estimator-id-14\" class=\"sk-toggleable__label sk-toggleable__label-arrow\">estimator: BinaryRelevance</label><div class=\"sk-toggleable__content\"><pre>BinaryRelevance(classifier=LGBMClassifier(random_state=0),\n",
       "                require_dense=[True, True])</pre></div></div></div><div class=\"sk-serial\"><div class=\"sk-item sk-dashed-wrapped\"><div class=\"sk-parallel\"><div class=\"sk-parallel-item\"><div class=\"sk-item\"><div class=\"sk-label-container\"><div class=\"sk-label sk-toggleable\"><input class=\"sk-toggleable__control sk-hidden--visually\" id=\"sk-estimator-id-15\" type=\"checkbox\" ><label for=\"sk-estimator-id-15\" class=\"sk-toggleable__label sk-toggleable__label-arrow\">classifier: LGBMClassifier</label><div class=\"sk-toggleable__content\"><pre>LGBMClassifier(random_state=0)</pre></div></div></div><div class=\"sk-serial\"><div class=\"sk-item\"><div class=\"sk-estimator sk-toggleable\"><input class=\"sk-toggleable__control sk-hidden--visually\" id=\"sk-estimator-id-16\" type=\"checkbox\" ><label for=\"sk-estimator-id-16\" class=\"sk-toggleable__label sk-toggleable__label-arrow\">LGBMClassifier</label><div class=\"sk-toggleable__content\"><pre>LGBMClassifier(random_state=0)</pre></div></div></div></div></div></div></div></div></div></div></div></div></div></div></div>"
      ],
      "text/plain": [
       "GridSearchCV(cv=5,\n",
       "             estimator=BinaryRelevance(classifier=LGBMClassifier(random_state=0),\n",
       "                                       require_dense=[True, True]),\n",
       "             param_grid={'classifier__n_estimators': range(20, 81, 10)},\n",
       "             scoring='f1_weighted', verbose=3)"
      ]
     },
     "execution_count": 123,
     "metadata": {},
     "output_type": "execute_result"
    }
   ],
   "source": [
    "param_test = {'classifier__n_estimators':range(20,81,10)}\n",
    "\n",
    "lgbm_tuned = BinaryRelevance(LGBMClassifier(random_state=0))\n",
    "gsearch = GridSearchCV(estimator=lgbm_tuned, param_grid=param_test, scoring='f1_weighted', cv=5, verbose=3)\n",
    "\n",
    "gsearch.fit(selected_train[features],selected_train[labels])"
   ]
  },
  {
   "cell_type": "code",
   "execution_count": 126,
   "id": "a59c70be",
   "metadata": {},
   "outputs": [
    {
     "data": {
      "text/plain": [
       "({'classifier__n_estimators': 80}, 0.6883177239570974)"
      ]
     },
     "execution_count": 126,
     "metadata": {},
     "output_type": "execute_result"
    }
   ],
   "source": [
    "gsearch.best_params_, gsearch.best_score_"
   ]
  },
  {
   "cell_type": "markdown",
   "id": "4cfa2452",
   "metadata": {},
   "source": [
    "n_estimators = 80 will be used for the subsequent tuning process."
   ]
  },
  {
   "cell_type": "markdown",
   "id": "387d8e06",
   "metadata": {},
   "source": [
    "### Tune max_depth & min_samples_split"
   ]
  },
  {
   "cell_type": "code",
   "execution_count": 137,
   "id": "ec6630db",
   "metadata": {},
   "outputs": [
    {
     "name": "stdout",
     "output_type": "stream",
     "text": [
      "Fitting 5 folds for each of 12 candidates, totalling 60 fits\n",
      "[CV 1/5] END classifier__max_depth=4, classifier__min_split_gain=0.0;, score=0.682 total time=   4.0s\n",
      "[CV 2/5] END classifier__max_depth=4, classifier__min_split_gain=0.0;, score=0.685 total time=   4.1s\n",
      "[CV 3/5] END classifier__max_depth=4, classifier__min_split_gain=0.0;, score=0.689 total time=   4.0s\n",
      "[CV 4/5] END classifier__max_depth=4, classifier__min_split_gain=0.0;, score=0.689 total time=   4.1s\n",
      "[CV 5/5] END classifier__max_depth=4, classifier__min_split_gain=0.0;, score=0.677 total time=   4.1s\n",
      "[CV 1/5] END classifier__max_depth=4, classifier__min_split_gain=0.1;, score=0.681 total time=   4.0s\n",
      "[CV 2/5] END classifier__max_depth=4, classifier__min_split_gain=0.1;, score=0.683 total time=   4.0s\n",
      "[CV 3/5] END classifier__max_depth=4, classifier__min_split_gain=0.1;, score=0.689 total time=   4.0s\n",
      "[CV 4/5] END classifier__max_depth=4, classifier__min_split_gain=0.1;, score=0.689 total time=   4.0s\n",
      "[CV 5/5] END classifier__max_depth=4, classifier__min_split_gain=0.1;, score=0.677 total time=   4.0s\n",
      "[CV 1/5] END classifier__max_depth=4, classifier__min_split_gain=0.2;, score=0.682 total time=   4.0s\n",
      "[CV 2/5] END classifier__max_depth=4, classifier__min_split_gain=0.2;, score=0.684 total time=   4.0s\n",
      "[CV 3/5] END classifier__max_depth=4, classifier__min_split_gain=0.2;, score=0.689 total time=   4.1s\n",
      "[CV 4/5] END classifier__max_depth=4, classifier__min_split_gain=0.2;, score=0.689 total time=   4.0s\n",
      "[CV 5/5] END classifier__max_depth=4, classifier__min_split_gain=0.2;, score=0.677 total time=   3.9s\n",
      "[CV 1/5] END classifier__max_depth=4, classifier__min_split_gain=0.30000000000000004;, score=0.682 total time=   4.4s\n",
      "[CV 2/5] END classifier__max_depth=4, classifier__min_split_gain=0.30000000000000004;, score=0.683 total time=   4.3s\n",
      "[CV 3/5] END classifier__max_depth=4, classifier__min_split_gain=0.30000000000000004;, score=0.689 total time=   4.0s\n",
      "[CV 4/5] END classifier__max_depth=4, classifier__min_split_gain=0.30000000000000004;, score=0.689 total time=   4.2s\n",
      "[CV 5/5] END classifier__max_depth=4, classifier__min_split_gain=0.30000000000000004;, score=0.676 total time=   4.1s\n",
      "[CV 1/5] END classifier__max_depth=6, classifier__min_split_gain=0.0;, score=0.685 total time=   6.0s\n",
      "[CV 2/5] END classifier__max_depth=6, classifier__min_split_gain=0.0;, score=0.689 total time=   6.0s\n",
      "[CV 3/5] END classifier__max_depth=6, classifier__min_split_gain=0.0;, score=0.695 total time=   6.0s\n",
      "[CV 4/5] END classifier__max_depth=6, classifier__min_split_gain=0.0;, score=0.695 total time=   6.0s\n",
      "[CV 5/5] END classifier__max_depth=6, classifier__min_split_gain=0.0;, score=0.684 total time=   6.0s\n",
      "[CV 1/5] END classifier__max_depth=6, classifier__min_split_gain=0.1;, score=0.684 total time=   6.1s\n",
      "[CV 2/5] END classifier__max_depth=6, classifier__min_split_gain=0.1;, score=0.689 total time=   5.9s\n",
      "[CV 3/5] END classifier__max_depth=6, classifier__min_split_gain=0.1;, score=0.695 total time=   5.9s\n",
      "[CV 4/5] END classifier__max_depth=6, classifier__min_split_gain=0.1;, score=0.695 total time=   6.1s\n",
      "[CV 5/5] END classifier__max_depth=6, classifier__min_split_gain=0.1;, score=0.683 total time=   6.0s\n",
      "[CV 1/5] END classifier__max_depth=6, classifier__min_split_gain=0.2;, score=0.685 total time=   5.9s\n",
      "[CV 2/5] END classifier__max_depth=6, classifier__min_split_gain=0.2;, score=0.690 total time=   6.1s\n",
      "[CV 3/5] END classifier__max_depth=6, classifier__min_split_gain=0.2;, score=0.695 total time=   6.0s\n",
      "[CV 4/5] END classifier__max_depth=6, classifier__min_split_gain=0.2;, score=0.696 total time=   5.9s\n",
      "[CV 5/5] END classifier__max_depth=6, classifier__min_split_gain=0.2;, score=0.684 total time=   6.0s\n",
      "[CV 1/5] END classifier__max_depth=6, classifier__min_split_gain=0.30000000000000004;, score=0.685 total time=   6.0s\n",
      "[CV 2/5] END classifier__max_depth=6, classifier__min_split_gain=0.30000000000000004;, score=0.689 total time=   5.9s\n",
      "[CV 3/5] END classifier__max_depth=6, classifier__min_split_gain=0.30000000000000004;, score=0.695 total time=   6.0s\n",
      "[CV 4/5] END classifier__max_depth=6, classifier__min_split_gain=0.30000000000000004;, score=0.696 total time=   6.0s\n",
      "[CV 5/5] END classifier__max_depth=6, classifier__min_split_gain=0.30000000000000004;, score=0.684 total time=   5.9s\n",
      "[CV 1/5] END classifier__max_depth=8, classifier__min_split_gain=0.0;, score=0.685 total time=   6.5s\n",
      "[CV 2/5] END classifier__max_depth=8, classifier__min_split_gain=0.0;, score=0.686 total time=   6.5s\n",
      "[CV 3/5] END classifier__max_depth=8, classifier__min_split_gain=0.0;, score=0.695 total time=   6.4s\n",
      "[CV 4/5] END classifier__max_depth=8, classifier__min_split_gain=0.0;, score=0.698 total time=   6.5s\n",
      "[CV 5/5] END classifier__max_depth=8, classifier__min_split_gain=0.0;, score=0.685 total time=   6.4s\n",
      "[CV 1/5] END classifier__max_depth=8, classifier__min_split_gain=0.1;, score=0.685 total time=   6.5s\n",
      "[CV 2/5] END classifier__max_depth=8, classifier__min_split_gain=0.1;, score=0.686 total time=   6.4s\n",
      "[CV 3/5] END classifier__max_depth=8, classifier__min_split_gain=0.1;, score=0.695 total time=   6.4s\n",
      "[CV 4/5] END classifier__max_depth=8, classifier__min_split_gain=0.1;, score=0.698 total time=   6.5s\n",
      "[CV 5/5] END classifier__max_depth=8, classifier__min_split_gain=0.1;, score=0.685 total time=   6.5s\n",
      "[CV 1/5] END classifier__max_depth=8, classifier__min_split_gain=0.2;, score=0.685 total time=   6.5s\n",
      "[CV 2/5] END classifier__max_depth=8, classifier__min_split_gain=0.2;, score=0.686 total time=   6.5s\n",
      "[CV 3/5] END classifier__max_depth=8, classifier__min_split_gain=0.2;, score=0.695 total time=   6.4s\n",
      "[CV 4/5] END classifier__max_depth=8, classifier__min_split_gain=0.2;, score=0.699 total time=   6.4s\n",
      "[CV 5/5] END classifier__max_depth=8, classifier__min_split_gain=0.2;, score=0.685 total time=   6.4s\n",
      "[CV 1/5] END classifier__max_depth=8, classifier__min_split_gain=0.30000000000000004;, score=0.686 total time=   6.5s\n",
      "[CV 2/5] END classifier__max_depth=8, classifier__min_split_gain=0.30000000000000004;, score=0.686 total time=   6.5s\n",
      "[CV 3/5] END classifier__max_depth=8, classifier__min_split_gain=0.30000000000000004;, score=0.695 total time=   6.3s\n",
      "[CV 4/5] END classifier__max_depth=8, classifier__min_split_gain=0.30000000000000004;, score=0.697 total time=   6.4s\n",
      "[CV 5/5] END classifier__max_depth=8, classifier__min_split_gain=0.30000000000000004;, score=0.685 total time=   6.5s\n"
     ]
    },
    {
     "data": {
      "text/html": [
       "<style>#sk-container-id-8 {color: black;background-color: white;}#sk-container-id-8 pre{padding: 0;}#sk-container-id-8 div.sk-toggleable {background-color: white;}#sk-container-id-8 label.sk-toggleable__label {cursor: pointer;display: block;width: 100%;margin-bottom: 0;padding: 0.3em;box-sizing: border-box;text-align: center;}#sk-container-id-8 label.sk-toggleable__label-arrow:before {content: \"▸\";float: left;margin-right: 0.25em;color: #696969;}#sk-container-id-8 label.sk-toggleable__label-arrow:hover:before {color: black;}#sk-container-id-8 div.sk-estimator:hover label.sk-toggleable__label-arrow:before {color: black;}#sk-container-id-8 div.sk-toggleable__content {max-height: 0;max-width: 0;overflow: hidden;text-align: left;background-color: #f0f8ff;}#sk-container-id-8 div.sk-toggleable__content pre {margin: 0.2em;color: black;border-radius: 0.25em;background-color: #f0f8ff;}#sk-container-id-8 input.sk-toggleable__control:checked~div.sk-toggleable__content {max-height: 200px;max-width: 100%;overflow: auto;}#sk-container-id-8 input.sk-toggleable__control:checked~label.sk-toggleable__label-arrow:before {content: \"▾\";}#sk-container-id-8 div.sk-estimator input.sk-toggleable__control:checked~label.sk-toggleable__label {background-color: #d4ebff;}#sk-container-id-8 div.sk-label input.sk-toggleable__control:checked~label.sk-toggleable__label {background-color: #d4ebff;}#sk-container-id-8 input.sk-hidden--visually {border: 0;clip: rect(1px 1px 1px 1px);clip: rect(1px, 1px, 1px, 1px);height: 1px;margin: -1px;overflow: hidden;padding: 0;position: absolute;width: 1px;}#sk-container-id-8 div.sk-estimator {font-family: monospace;background-color: #f0f8ff;border: 1px dotted black;border-radius: 0.25em;box-sizing: border-box;margin-bottom: 0.5em;}#sk-container-id-8 div.sk-estimator:hover {background-color: #d4ebff;}#sk-container-id-8 div.sk-parallel-item::after {content: \"\";width: 100%;border-bottom: 1px solid gray;flex-grow: 1;}#sk-container-id-8 div.sk-label:hover label.sk-toggleable__label {background-color: #d4ebff;}#sk-container-id-8 div.sk-serial::before {content: \"\";position: absolute;border-left: 1px solid gray;box-sizing: border-box;top: 0;bottom: 0;left: 50%;z-index: 0;}#sk-container-id-8 div.sk-serial {display: flex;flex-direction: column;align-items: center;background-color: white;padding-right: 0.2em;padding-left: 0.2em;position: relative;}#sk-container-id-8 div.sk-item {position: relative;z-index: 1;}#sk-container-id-8 div.sk-parallel {display: flex;align-items: stretch;justify-content: center;background-color: white;position: relative;}#sk-container-id-8 div.sk-item::before, #sk-container-id-8 div.sk-parallel-item::before {content: \"\";position: absolute;border-left: 1px solid gray;box-sizing: border-box;top: 0;bottom: 0;left: 50%;z-index: -1;}#sk-container-id-8 div.sk-parallel-item {display: flex;flex-direction: column;z-index: 1;position: relative;background-color: white;}#sk-container-id-8 div.sk-parallel-item:first-child::after {align-self: flex-end;width: 50%;}#sk-container-id-8 div.sk-parallel-item:last-child::after {align-self: flex-start;width: 50%;}#sk-container-id-8 div.sk-parallel-item:only-child::after {width: 0;}#sk-container-id-8 div.sk-dashed-wrapped {border: 1px dashed gray;margin: 0 0.4em 0.5em 0.4em;box-sizing: border-box;padding-bottom: 0.4em;background-color: white;}#sk-container-id-8 div.sk-label label {font-family: monospace;font-weight: bold;display: inline-block;line-height: 1.2em;}#sk-container-id-8 div.sk-label-container {text-align: center;}#sk-container-id-8 div.sk-container {/* jupyter's `normalize.less` sets `[hidden] { display: none; }` but bootstrap.min.css set `[hidden] { display: none !important; }` so we also need the `!important` here to be able to override the default hidden behavior on the sphinx rendered scikit-learn.org. See: https://github.com/scikit-learn/scikit-learn/issues/21755 */display: inline-block !important;position: relative;}#sk-container-id-8 div.sk-text-repr-fallback {display: none;}</style><div id=\"sk-container-id-8\" class=\"sk-top-container\"><div class=\"sk-text-repr-fallback\"><pre>GridSearchCV(cv=5,\n",
       "             estimator=BinaryRelevance(classifier=LGBMClassifier(n_estimators=80,\n",
       "                                                                 random_state=0),\n",
       "                                       require_dense=[True, True]),\n",
       "             param_grid={&#x27;classifier__max_depth&#x27;: range(4, 10, 2),\n",
       "                         &#x27;classifier__min_split_gain&#x27;: array([0. , 0.1, 0.2, 0.3])},\n",
       "             scoring=&#x27;f1_weighted&#x27;, verbose=3)</pre><b>In a Jupyter environment, please rerun this cell to show the HTML representation or trust the notebook. <br />On GitHub, the HTML representation is unable to render, please try loading this page with nbviewer.org.</b></div><div class=\"sk-container\" hidden><div class=\"sk-item sk-dashed-wrapped\"><div class=\"sk-label-container\"><div class=\"sk-label sk-toggleable\"><input class=\"sk-toggleable__control sk-hidden--visually\" id=\"sk-estimator-id-25\" type=\"checkbox\" ><label for=\"sk-estimator-id-25\" class=\"sk-toggleable__label sk-toggleable__label-arrow\">GridSearchCV</label><div class=\"sk-toggleable__content\"><pre>GridSearchCV(cv=5,\n",
       "             estimator=BinaryRelevance(classifier=LGBMClassifier(n_estimators=80,\n",
       "                                                                 random_state=0),\n",
       "                                       require_dense=[True, True]),\n",
       "             param_grid={&#x27;classifier__max_depth&#x27;: range(4, 10, 2),\n",
       "                         &#x27;classifier__min_split_gain&#x27;: array([0. , 0.1, 0.2, 0.3])},\n",
       "             scoring=&#x27;f1_weighted&#x27;, verbose=3)</pre></div></div></div><div class=\"sk-parallel\"><div class=\"sk-parallel-item\"><div class=\"sk-item\"><div class=\"sk-label-container\"><div class=\"sk-label sk-toggleable\"><input class=\"sk-toggleable__control sk-hidden--visually\" id=\"sk-estimator-id-26\" type=\"checkbox\" ><label for=\"sk-estimator-id-26\" class=\"sk-toggleable__label sk-toggleable__label-arrow\">estimator: BinaryRelevance</label><div class=\"sk-toggleable__content\"><pre>BinaryRelevance(classifier=LGBMClassifier(n_estimators=80, random_state=0),\n",
       "                require_dense=[True, True])</pre></div></div></div><div class=\"sk-serial\"><div class=\"sk-item sk-dashed-wrapped\"><div class=\"sk-parallel\"><div class=\"sk-parallel-item\"><div class=\"sk-item\"><div class=\"sk-label-container\"><div class=\"sk-label sk-toggleable\"><input class=\"sk-toggleable__control sk-hidden--visually\" id=\"sk-estimator-id-27\" type=\"checkbox\" ><label for=\"sk-estimator-id-27\" class=\"sk-toggleable__label sk-toggleable__label-arrow\">classifier: LGBMClassifier</label><div class=\"sk-toggleable__content\"><pre>LGBMClassifier(n_estimators=80, random_state=0)</pre></div></div></div><div class=\"sk-serial\"><div class=\"sk-item\"><div class=\"sk-estimator sk-toggleable\"><input class=\"sk-toggleable__control sk-hidden--visually\" id=\"sk-estimator-id-28\" type=\"checkbox\" ><label for=\"sk-estimator-id-28\" class=\"sk-toggleable__label sk-toggleable__label-arrow\">LGBMClassifier</label><div class=\"sk-toggleable__content\"><pre>LGBMClassifier(n_estimators=80, random_state=0)</pre></div></div></div></div></div></div></div></div></div></div></div></div></div></div></div>"
      ],
      "text/plain": [
       "GridSearchCV(cv=5,\n",
       "             estimator=BinaryRelevance(classifier=LGBMClassifier(n_estimators=80,\n",
       "                                                                 random_state=0),\n",
       "                                       require_dense=[True, True]),\n",
       "             param_grid={'classifier__max_depth': range(4, 10, 2),\n",
       "                         'classifier__min_split_gain': array([0. , 0.1, 0.2, 0.3])},\n",
       "             scoring='f1_weighted', verbose=3)"
      ]
     },
     "execution_count": 137,
     "metadata": {},
     "output_type": "execute_result"
    }
   ],
   "source": [
    "param_test = {'classifier__max_depth':range(4,10,2), 'classifier__min_split_gain':np.arange(0,0.4,0.1)}\n",
    "lgbm_tuned = BinaryRelevance(LGBMClassifier(random_state=0, n_estimators=80))\n",
    "\n",
    "gsearch = GridSearchCV(estimator=lgbm_tuned, param_grid=param_test, scoring='f1_weighted', cv=5, verbose=3)\n",
    "\n",
    "gsearch.fit(selected_train[features],selected_train[labels])"
   ]
  },
  {
   "cell_type": "code",
   "execution_count": 138,
   "id": "332a7501",
   "metadata": {},
   "outputs": [
    {
     "data": {
      "text/plain": [
       "({'classifier__max_depth': 6, 'classifier__min_split_gain': 0.2},\n",
       " 0.6900204063607662)"
      ]
     },
     "execution_count": 138,
     "metadata": {},
     "output_type": "execute_result"
    }
   ],
   "source": [
    "gsearch.best_params_, gsearch.best_score_"
   ]
  },
  {
   "cell_type": "markdown",
   "id": "4f52362c",
   "metadata": {},
   "source": [
    "max_depth = 6 & min_split_gain = 0.2 will be used for the subsequent tuning process."
   ]
  },
  {
   "cell_type": "code",
   "execution_count": null,
   "id": "3523d9b6",
   "metadata": {},
   "outputs": [],
   "source": [
    "### Tune min_child_samples"
   ]
  },
  {
   "cell_type": "code",
   "execution_count": 141,
   "id": "c33d0663",
   "metadata": {},
   "outputs": [
    {
     "name": "stdout",
     "output_type": "stream",
     "text": [
      "Fitting 5 folds for each of 6 candidates, totalling 30 fits\n",
      "[CV 1/5] END ..classifier__min_child_samples=20;, score=0.685 total time=   6.1s\n",
      "[CV 2/5] END ..classifier__min_child_samples=20;, score=0.690 total time=   6.0s\n",
      "[CV 3/5] END ..classifier__min_child_samples=20;, score=0.695 total time=   6.0s\n",
      "[CV 4/5] END ..classifier__min_child_samples=20;, score=0.696 total time=   5.9s\n",
      "[CV 5/5] END ..classifier__min_child_samples=20;, score=0.684 total time=   6.0s\n",
      "[CV 1/5] END ..classifier__min_child_samples=30;, score=0.689 total time=   6.0s\n",
      "[CV 2/5] END ..classifier__min_child_samples=30;, score=0.687 total time=   5.9s\n",
      "[CV 3/5] END ..classifier__min_child_samples=30;, score=0.693 total time=   5.9s\n",
      "[CV 4/5] END ..classifier__min_child_samples=30;, score=0.695 total time=   6.0s\n",
      "[CV 5/5] END ..classifier__min_child_samples=30;, score=0.684 total time=   6.0s\n",
      "[CV 1/5] END ..classifier__min_child_samples=40;, score=0.684 total time=   5.8s\n",
      "[CV 2/5] END ..classifier__min_child_samples=40;, score=0.691 total time=   6.0s\n",
      "[CV 3/5] END ..classifier__min_child_samples=40;, score=0.691 total time=   5.8s\n",
      "[CV 4/5] END ..classifier__min_child_samples=40;, score=0.698 total time=   5.8s\n",
      "[CV 5/5] END ..classifier__min_child_samples=40;, score=0.682 total time=   6.0s\n",
      "[CV 1/5] END ..classifier__min_child_samples=50;, score=0.686 total time=   5.9s\n",
      "[CV 2/5] END ..classifier__min_child_samples=50;, score=0.687 total time=   5.9s\n",
      "[CV 3/5] END ..classifier__min_child_samples=50;, score=0.692 total time=   6.0s\n",
      "[CV 4/5] END ..classifier__min_child_samples=50;, score=0.694 total time=   6.0s\n",
      "[CV 5/5] END ..classifier__min_child_samples=50;, score=0.686 total time=   6.0s\n",
      "[CV 1/5] END ..classifier__min_child_samples=60;, score=0.686 total time=   6.0s\n",
      "[CV 2/5] END ..classifier__min_child_samples=60;, score=0.689 total time=   5.9s\n",
      "[CV 3/5] END ..classifier__min_child_samples=60;, score=0.692 total time=   6.0s\n",
      "[CV 4/5] END ..classifier__min_child_samples=60;, score=0.695 total time=   5.9s\n",
      "[CV 5/5] END ..classifier__min_child_samples=60;, score=0.686 total time=   5.9s\n",
      "[CV 1/5] END ..classifier__min_child_samples=70;, score=0.684 total time=   5.9s\n",
      "[CV 2/5] END ..classifier__min_child_samples=70;, score=0.690 total time=   5.9s\n",
      "[CV 3/5] END ..classifier__min_child_samples=70;, score=0.691 total time=   6.0s\n",
      "[CV 4/5] END ..classifier__min_child_samples=70;, score=0.695 total time=   5.9s\n",
      "[CV 5/5] END ..classifier__min_child_samples=70;, score=0.685 total time=   6.0s\n"
     ]
    },
    {
     "data": {
      "text/html": [
       "<style>#sk-container-id-10 {color: black;background-color: white;}#sk-container-id-10 pre{padding: 0;}#sk-container-id-10 div.sk-toggleable {background-color: white;}#sk-container-id-10 label.sk-toggleable__label {cursor: pointer;display: block;width: 100%;margin-bottom: 0;padding: 0.3em;box-sizing: border-box;text-align: center;}#sk-container-id-10 label.sk-toggleable__label-arrow:before {content: \"▸\";float: left;margin-right: 0.25em;color: #696969;}#sk-container-id-10 label.sk-toggleable__label-arrow:hover:before {color: black;}#sk-container-id-10 div.sk-estimator:hover label.sk-toggleable__label-arrow:before {color: black;}#sk-container-id-10 div.sk-toggleable__content {max-height: 0;max-width: 0;overflow: hidden;text-align: left;background-color: #f0f8ff;}#sk-container-id-10 div.sk-toggleable__content pre {margin: 0.2em;color: black;border-radius: 0.25em;background-color: #f0f8ff;}#sk-container-id-10 input.sk-toggleable__control:checked~div.sk-toggleable__content {max-height: 200px;max-width: 100%;overflow: auto;}#sk-container-id-10 input.sk-toggleable__control:checked~label.sk-toggleable__label-arrow:before {content: \"▾\";}#sk-container-id-10 div.sk-estimator input.sk-toggleable__control:checked~label.sk-toggleable__label {background-color: #d4ebff;}#sk-container-id-10 div.sk-label input.sk-toggleable__control:checked~label.sk-toggleable__label {background-color: #d4ebff;}#sk-container-id-10 input.sk-hidden--visually {border: 0;clip: rect(1px 1px 1px 1px);clip: rect(1px, 1px, 1px, 1px);height: 1px;margin: -1px;overflow: hidden;padding: 0;position: absolute;width: 1px;}#sk-container-id-10 div.sk-estimator {font-family: monospace;background-color: #f0f8ff;border: 1px dotted black;border-radius: 0.25em;box-sizing: border-box;margin-bottom: 0.5em;}#sk-container-id-10 div.sk-estimator:hover {background-color: #d4ebff;}#sk-container-id-10 div.sk-parallel-item::after {content: \"\";width: 100%;border-bottom: 1px solid gray;flex-grow: 1;}#sk-container-id-10 div.sk-label:hover label.sk-toggleable__label {background-color: #d4ebff;}#sk-container-id-10 div.sk-serial::before {content: \"\";position: absolute;border-left: 1px solid gray;box-sizing: border-box;top: 0;bottom: 0;left: 50%;z-index: 0;}#sk-container-id-10 div.sk-serial {display: flex;flex-direction: column;align-items: center;background-color: white;padding-right: 0.2em;padding-left: 0.2em;position: relative;}#sk-container-id-10 div.sk-item {position: relative;z-index: 1;}#sk-container-id-10 div.sk-parallel {display: flex;align-items: stretch;justify-content: center;background-color: white;position: relative;}#sk-container-id-10 div.sk-item::before, #sk-container-id-10 div.sk-parallel-item::before {content: \"\";position: absolute;border-left: 1px solid gray;box-sizing: border-box;top: 0;bottom: 0;left: 50%;z-index: -1;}#sk-container-id-10 div.sk-parallel-item {display: flex;flex-direction: column;z-index: 1;position: relative;background-color: white;}#sk-container-id-10 div.sk-parallel-item:first-child::after {align-self: flex-end;width: 50%;}#sk-container-id-10 div.sk-parallel-item:last-child::after {align-self: flex-start;width: 50%;}#sk-container-id-10 div.sk-parallel-item:only-child::after {width: 0;}#sk-container-id-10 div.sk-dashed-wrapped {border: 1px dashed gray;margin: 0 0.4em 0.5em 0.4em;box-sizing: border-box;padding-bottom: 0.4em;background-color: white;}#sk-container-id-10 div.sk-label label {font-family: monospace;font-weight: bold;display: inline-block;line-height: 1.2em;}#sk-container-id-10 div.sk-label-container {text-align: center;}#sk-container-id-10 div.sk-container {/* jupyter's `normalize.less` sets `[hidden] { display: none; }` but bootstrap.min.css set `[hidden] { display: none !important; }` so we also need the `!important` here to be able to override the default hidden behavior on the sphinx rendered scikit-learn.org. See: https://github.com/scikit-learn/scikit-learn/issues/21755 */display: inline-block !important;position: relative;}#sk-container-id-10 div.sk-text-repr-fallback {display: none;}</style><div id=\"sk-container-id-10\" class=\"sk-top-container\"><div class=\"sk-text-repr-fallback\"><pre>GridSearchCV(cv=5,\n",
       "             estimator=BinaryRelevance(classifier=LGBMClassifier(max_depth=6,\n",
       "                                                                 min_split_gain=0.2,\n",
       "                                                                 n_estimators=80,\n",
       "                                                                 random_state=0),\n",
       "                                       require_dense=[True, True]),\n",
       "             param_grid={&#x27;classifier__min_child_samples&#x27;: range(20, 71, 10)},\n",
       "             scoring=&#x27;f1_weighted&#x27;, verbose=3)</pre><b>In a Jupyter environment, please rerun this cell to show the HTML representation or trust the notebook. <br />On GitHub, the HTML representation is unable to render, please try loading this page with nbviewer.org.</b></div><div class=\"sk-container\" hidden><div class=\"sk-item sk-dashed-wrapped\"><div class=\"sk-label-container\"><div class=\"sk-label sk-toggleable\"><input class=\"sk-toggleable__control sk-hidden--visually\" id=\"sk-estimator-id-33\" type=\"checkbox\" ><label for=\"sk-estimator-id-33\" class=\"sk-toggleable__label sk-toggleable__label-arrow\">GridSearchCV</label><div class=\"sk-toggleable__content\"><pre>GridSearchCV(cv=5,\n",
       "             estimator=BinaryRelevance(classifier=LGBMClassifier(max_depth=6,\n",
       "                                                                 min_split_gain=0.2,\n",
       "                                                                 n_estimators=80,\n",
       "                                                                 random_state=0),\n",
       "                                       require_dense=[True, True]),\n",
       "             param_grid={&#x27;classifier__min_child_samples&#x27;: range(20, 71, 10)},\n",
       "             scoring=&#x27;f1_weighted&#x27;, verbose=3)</pre></div></div></div><div class=\"sk-parallel\"><div class=\"sk-parallel-item\"><div class=\"sk-item\"><div class=\"sk-label-container\"><div class=\"sk-label sk-toggleable\"><input class=\"sk-toggleable__control sk-hidden--visually\" id=\"sk-estimator-id-34\" type=\"checkbox\" ><label for=\"sk-estimator-id-34\" class=\"sk-toggleable__label sk-toggleable__label-arrow\">estimator: BinaryRelevance</label><div class=\"sk-toggleable__content\"><pre>BinaryRelevance(classifier=LGBMClassifier(max_depth=6, min_split_gain=0.2,\n",
       "                                          n_estimators=80, random_state=0),\n",
       "                require_dense=[True, True])</pre></div></div></div><div class=\"sk-serial\"><div class=\"sk-item sk-dashed-wrapped\"><div class=\"sk-parallel\"><div class=\"sk-parallel-item\"><div class=\"sk-item\"><div class=\"sk-label-container\"><div class=\"sk-label sk-toggleable\"><input class=\"sk-toggleable__control sk-hidden--visually\" id=\"sk-estimator-id-35\" type=\"checkbox\" ><label for=\"sk-estimator-id-35\" class=\"sk-toggleable__label sk-toggleable__label-arrow\">classifier: LGBMClassifier</label><div class=\"sk-toggleable__content\"><pre>LGBMClassifier(max_depth=6, min_split_gain=0.2, n_estimators=80, random_state=0)</pre></div></div></div><div class=\"sk-serial\"><div class=\"sk-item\"><div class=\"sk-estimator sk-toggleable\"><input class=\"sk-toggleable__control sk-hidden--visually\" id=\"sk-estimator-id-36\" type=\"checkbox\" ><label for=\"sk-estimator-id-36\" class=\"sk-toggleable__label sk-toggleable__label-arrow\">LGBMClassifier</label><div class=\"sk-toggleable__content\"><pre>LGBMClassifier(max_depth=6, min_split_gain=0.2, n_estimators=80, random_state=0)</pre></div></div></div></div></div></div></div></div></div></div></div></div></div></div></div>"
      ],
      "text/plain": [
       "GridSearchCV(cv=5,\n",
       "             estimator=BinaryRelevance(classifier=LGBMClassifier(max_depth=6,\n",
       "                                                                 min_split_gain=0.2,\n",
       "                                                                 n_estimators=80,\n",
       "                                                                 random_state=0),\n",
       "                                       require_dense=[True, True]),\n",
       "             param_grid={'classifier__min_child_samples': range(20, 71, 10)},\n",
       "             scoring='f1_weighted', verbose=3)"
      ]
     },
     "execution_count": 141,
     "metadata": {},
     "output_type": "execute_result"
    }
   ],
   "source": [
    "param_test = {'classifier__min_child_samples': range(20,71,10)}\n",
    "lgbm_tuned = BinaryRelevance(LGBMClassifier(random_state=0, n_estimators=80, max_depth=6, min_split_gain=0.2))\n",
    "\n",
    "gsearch = GridSearchCV(estimator=lgbm_tuned, param_grid=param_test, scoring='f1_weighted', cv=5, verbose=3)\n",
    "\n",
    "gsearch.fit(selected_train[features],selected_train[labels])"
   ]
  },
  {
   "cell_type": "code",
   "execution_count": 143,
   "id": "33cc21a0",
   "metadata": {},
   "outputs": [
    {
     "data": {
      "text/plain": [
       "({'classifier__min_child_samples': 20}, 0.6900204063607662)"
      ]
     },
     "execution_count": 143,
     "metadata": {},
     "output_type": "execute_result"
    }
   ],
   "source": [
    "gsearch.best_params_, gsearch.best_score_"
   ]
  },
  {
   "cell_type": "markdown",
   "id": "b6bc601d",
   "metadata": {},
   "source": [
    "No adjustment on default min_child_samples needed, does not improve model performance."
   ]
  },
  {
   "cell_type": "markdown",
   "id": "b283407a",
   "metadata": {},
   "source": [
    "### Tune subsample"
   ]
  },
  {
   "cell_type": "code",
   "execution_count": 147,
   "id": "6d0ce5e0",
   "metadata": {},
   "outputs": [
    {
     "name": "stdout",
     "output_type": "stream",
     "text": [
      "Fitting 5 folds for each of 6 candidates, totalling 30 fits\n",
      "[CV 1/5] END .........classifier__subsample=0.6;, score=0.685 total time=   6.0s\n",
      "[CV 2/5] END .........classifier__subsample=0.6;, score=0.690 total time=   6.1s\n",
      "[CV 3/5] END .........classifier__subsample=0.6;, score=0.695 total time=   6.3s\n",
      "[CV 4/5] END .........classifier__subsample=0.6;, score=0.696 total time=   6.2s\n",
      "[CV 5/5] END .........classifier__subsample=0.6;, score=0.684 total time=   6.2s\n",
      "[CV 1/5] END .........classifier__subsample=0.7;, score=0.685 total time=   5.9s\n",
      "[CV 2/5] END .........classifier__subsample=0.7;, score=0.690 total time=   6.0s\n",
      "[CV 3/5] END .........classifier__subsample=0.7;, score=0.695 total time=   5.8s\n",
      "[CV 4/5] END .........classifier__subsample=0.7;, score=0.696 total time=   6.2s\n",
      "[CV 5/5] END .........classifier__subsample=0.7;, score=0.684 total time=   6.2s\n",
      "[CV 1/5] END ........classifier__subsample=0.75;, score=0.685 total time=   6.3s\n",
      "[CV 2/5] END ........classifier__subsample=0.75;, score=0.690 total time=   6.2s\n",
      "[CV 3/5] END ........classifier__subsample=0.75;, score=0.695 total time=   6.1s\n",
      "[CV 4/5] END ........classifier__subsample=0.75;, score=0.696 total time=   6.0s\n",
      "[CV 5/5] END ........classifier__subsample=0.75;, score=0.684 total time=   6.1s\n",
      "[CV 1/5] END .........classifier__subsample=0.8;, score=0.685 total time=   6.2s\n",
      "[CV 2/5] END .........classifier__subsample=0.8;, score=0.690 total time=   6.3s\n",
      "[CV 3/5] END .........classifier__subsample=0.8;, score=0.695 total time=   6.1s\n",
      "[CV 4/5] END .........classifier__subsample=0.8;, score=0.696 total time=   6.4s\n",
      "[CV 5/5] END .........classifier__subsample=0.8;, score=0.684 total time=   6.4s\n",
      "[CV 1/5] END ........classifier__subsample=0.85;, score=0.685 total time=   6.7s\n",
      "[CV 2/5] END ........classifier__subsample=0.85;, score=0.690 total time=   5.9s\n",
      "[CV 3/5] END ........classifier__subsample=0.85;, score=0.695 total time=   6.0s\n",
      "[CV 4/5] END ........classifier__subsample=0.85;, score=0.696 total time=   6.6s\n",
      "[CV 5/5] END ........classifier__subsample=0.85;, score=0.684 total time=   6.5s\n",
      "[CV 1/5] END .........classifier__subsample=0.9;, score=0.685 total time=   6.1s\n",
      "[CV 2/5] END .........classifier__subsample=0.9;, score=0.690 total time=   6.3s\n",
      "[CV 3/5] END .........classifier__subsample=0.9;, score=0.695 total time=   6.1s\n",
      "[CV 4/5] END .........classifier__subsample=0.9;, score=0.696 total time=   6.4s\n",
      "[CV 5/5] END .........classifier__subsample=0.9;, score=0.684 total time=   5.9s\n"
     ]
    },
    {
     "data": {
      "text/html": [
       "<style>#sk-container-id-12 {color: black;background-color: white;}#sk-container-id-12 pre{padding: 0;}#sk-container-id-12 div.sk-toggleable {background-color: white;}#sk-container-id-12 label.sk-toggleable__label {cursor: pointer;display: block;width: 100%;margin-bottom: 0;padding: 0.3em;box-sizing: border-box;text-align: center;}#sk-container-id-12 label.sk-toggleable__label-arrow:before {content: \"▸\";float: left;margin-right: 0.25em;color: #696969;}#sk-container-id-12 label.sk-toggleable__label-arrow:hover:before {color: black;}#sk-container-id-12 div.sk-estimator:hover label.sk-toggleable__label-arrow:before {color: black;}#sk-container-id-12 div.sk-toggleable__content {max-height: 0;max-width: 0;overflow: hidden;text-align: left;background-color: #f0f8ff;}#sk-container-id-12 div.sk-toggleable__content pre {margin: 0.2em;color: black;border-radius: 0.25em;background-color: #f0f8ff;}#sk-container-id-12 input.sk-toggleable__control:checked~div.sk-toggleable__content {max-height: 200px;max-width: 100%;overflow: auto;}#sk-container-id-12 input.sk-toggleable__control:checked~label.sk-toggleable__label-arrow:before {content: \"▾\";}#sk-container-id-12 div.sk-estimator input.sk-toggleable__control:checked~label.sk-toggleable__label {background-color: #d4ebff;}#sk-container-id-12 div.sk-label input.sk-toggleable__control:checked~label.sk-toggleable__label {background-color: #d4ebff;}#sk-container-id-12 input.sk-hidden--visually {border: 0;clip: rect(1px 1px 1px 1px);clip: rect(1px, 1px, 1px, 1px);height: 1px;margin: -1px;overflow: hidden;padding: 0;position: absolute;width: 1px;}#sk-container-id-12 div.sk-estimator {font-family: monospace;background-color: #f0f8ff;border: 1px dotted black;border-radius: 0.25em;box-sizing: border-box;margin-bottom: 0.5em;}#sk-container-id-12 div.sk-estimator:hover {background-color: #d4ebff;}#sk-container-id-12 div.sk-parallel-item::after {content: \"\";width: 100%;border-bottom: 1px solid gray;flex-grow: 1;}#sk-container-id-12 div.sk-label:hover label.sk-toggleable__label {background-color: #d4ebff;}#sk-container-id-12 div.sk-serial::before {content: \"\";position: absolute;border-left: 1px solid gray;box-sizing: border-box;top: 0;bottom: 0;left: 50%;z-index: 0;}#sk-container-id-12 div.sk-serial {display: flex;flex-direction: column;align-items: center;background-color: white;padding-right: 0.2em;padding-left: 0.2em;position: relative;}#sk-container-id-12 div.sk-item {position: relative;z-index: 1;}#sk-container-id-12 div.sk-parallel {display: flex;align-items: stretch;justify-content: center;background-color: white;position: relative;}#sk-container-id-12 div.sk-item::before, #sk-container-id-12 div.sk-parallel-item::before {content: \"\";position: absolute;border-left: 1px solid gray;box-sizing: border-box;top: 0;bottom: 0;left: 50%;z-index: -1;}#sk-container-id-12 div.sk-parallel-item {display: flex;flex-direction: column;z-index: 1;position: relative;background-color: white;}#sk-container-id-12 div.sk-parallel-item:first-child::after {align-self: flex-end;width: 50%;}#sk-container-id-12 div.sk-parallel-item:last-child::after {align-self: flex-start;width: 50%;}#sk-container-id-12 div.sk-parallel-item:only-child::after {width: 0;}#sk-container-id-12 div.sk-dashed-wrapped {border: 1px dashed gray;margin: 0 0.4em 0.5em 0.4em;box-sizing: border-box;padding-bottom: 0.4em;background-color: white;}#sk-container-id-12 div.sk-label label {font-family: monospace;font-weight: bold;display: inline-block;line-height: 1.2em;}#sk-container-id-12 div.sk-label-container {text-align: center;}#sk-container-id-12 div.sk-container {/* jupyter's `normalize.less` sets `[hidden] { display: none; }` but bootstrap.min.css set `[hidden] { display: none !important; }` so we also need the `!important` here to be able to override the default hidden behavior on the sphinx rendered scikit-learn.org. See: https://github.com/scikit-learn/scikit-learn/issues/21755 */display: inline-block !important;position: relative;}#sk-container-id-12 div.sk-text-repr-fallback {display: none;}</style><div id=\"sk-container-id-12\" class=\"sk-top-container\"><div class=\"sk-text-repr-fallback\"><pre>GridSearchCV(cv=5,\n",
       "             estimator=BinaryRelevance(classifier=LGBMClassifier(max_depth=6,\n",
       "                                                                 min_split_gain=0.2,\n",
       "                                                                 n_estimators=80,\n",
       "                                                                 random_state=0),\n",
       "                                       require_dense=[True, True]),\n",
       "             param_grid={&#x27;classifier__subsample&#x27;: [0.6, 0.7, 0.75, 0.8, 0.85,\n",
       "                                                   0.9]},\n",
       "             scoring=&#x27;f1_weighted&#x27;, verbose=3)</pre><b>In a Jupyter environment, please rerun this cell to show the HTML representation or trust the notebook. <br />On GitHub, the HTML representation is unable to render, please try loading this page with nbviewer.org.</b></div><div class=\"sk-container\" hidden><div class=\"sk-item sk-dashed-wrapped\"><div class=\"sk-label-container\"><div class=\"sk-label sk-toggleable\"><input class=\"sk-toggleable__control sk-hidden--visually\" id=\"sk-estimator-id-41\" type=\"checkbox\" ><label for=\"sk-estimator-id-41\" class=\"sk-toggleable__label sk-toggleable__label-arrow\">GridSearchCV</label><div class=\"sk-toggleable__content\"><pre>GridSearchCV(cv=5,\n",
       "             estimator=BinaryRelevance(classifier=LGBMClassifier(max_depth=6,\n",
       "                                                                 min_split_gain=0.2,\n",
       "                                                                 n_estimators=80,\n",
       "                                                                 random_state=0),\n",
       "                                       require_dense=[True, True]),\n",
       "             param_grid={&#x27;classifier__subsample&#x27;: [0.6, 0.7, 0.75, 0.8, 0.85,\n",
       "                                                   0.9]},\n",
       "             scoring=&#x27;f1_weighted&#x27;, verbose=3)</pre></div></div></div><div class=\"sk-parallel\"><div class=\"sk-parallel-item\"><div class=\"sk-item\"><div class=\"sk-label-container\"><div class=\"sk-label sk-toggleable\"><input class=\"sk-toggleable__control sk-hidden--visually\" id=\"sk-estimator-id-42\" type=\"checkbox\" ><label for=\"sk-estimator-id-42\" class=\"sk-toggleable__label sk-toggleable__label-arrow\">estimator: BinaryRelevance</label><div class=\"sk-toggleable__content\"><pre>BinaryRelevance(classifier=LGBMClassifier(max_depth=6, min_split_gain=0.2,\n",
       "                                          n_estimators=80, random_state=0),\n",
       "                require_dense=[True, True])</pre></div></div></div><div class=\"sk-serial\"><div class=\"sk-item sk-dashed-wrapped\"><div class=\"sk-parallel\"><div class=\"sk-parallel-item\"><div class=\"sk-item\"><div class=\"sk-label-container\"><div class=\"sk-label sk-toggleable\"><input class=\"sk-toggleable__control sk-hidden--visually\" id=\"sk-estimator-id-43\" type=\"checkbox\" ><label for=\"sk-estimator-id-43\" class=\"sk-toggleable__label sk-toggleable__label-arrow\">classifier: LGBMClassifier</label><div class=\"sk-toggleable__content\"><pre>LGBMClassifier(max_depth=6, min_split_gain=0.2, n_estimators=80, random_state=0)</pre></div></div></div><div class=\"sk-serial\"><div class=\"sk-item\"><div class=\"sk-estimator sk-toggleable\"><input class=\"sk-toggleable__control sk-hidden--visually\" id=\"sk-estimator-id-44\" type=\"checkbox\" ><label for=\"sk-estimator-id-44\" class=\"sk-toggleable__label sk-toggleable__label-arrow\">LGBMClassifier</label><div class=\"sk-toggleable__content\"><pre>LGBMClassifier(max_depth=6, min_split_gain=0.2, n_estimators=80, random_state=0)</pre></div></div></div></div></div></div></div></div></div></div></div></div></div></div></div>"
      ],
      "text/plain": [
       "GridSearchCV(cv=5,\n",
       "             estimator=BinaryRelevance(classifier=LGBMClassifier(max_depth=6,\n",
       "                                                                 min_split_gain=0.2,\n",
       "                                                                 n_estimators=80,\n",
       "                                                                 random_state=0),\n",
       "                                       require_dense=[True, True]),\n",
       "             param_grid={'classifier__subsample': [0.6, 0.7, 0.75, 0.8, 0.85,\n",
       "                                                   0.9]},\n",
       "             scoring='f1_weighted', verbose=3)"
      ]
     },
     "execution_count": 147,
     "metadata": {},
     "output_type": "execute_result"
    }
   ],
   "source": [
    "param_test = {\n",
    " 'classifier__subsample':[0.6,0.7,0.75,0.8,0.85,0.9]\n",
    "}\n",
    "\n",
    "lgbm_tuned = BinaryRelevance(LGBMClassifier(random_state=0, n_estimators=80, max_depth=6, min_split_gain=0.2))\n",
    "gsearch = GridSearchCV(estimator=lgbm_tuned, param_grid=param_test, scoring='f1_weighted', cv=5, verbose=3)\n",
    "gsearch.fit(selected_train[features], selected_train[labels])"
   ]
  },
  {
   "cell_type": "code",
   "execution_count": 145,
   "id": "11ab5242",
   "metadata": {},
   "outputs": [
    {
     "data": {
      "text/plain": [
       "({'classifier__subsample': 0.6}, 0.6900204063607662)"
      ]
     },
     "execution_count": 145,
     "metadata": {},
     "output_type": "execute_result"
    }
   ],
   "source": [
    "gsearch.best_params_, gsearch.best_score_"
   ]
  },
  {
   "cell_type": "markdown",
   "id": "98f57516",
   "metadata": {},
   "source": [
    "subsample = 0.6 will be used for the subsequent tuning process."
   ]
  },
  {
   "cell_type": "markdown",
   "id": "d5820b28",
   "metadata": {},
   "source": [
    "### Tune learning_rate"
   ]
  },
  {
   "cell_type": "code",
   "execution_count": 148,
   "id": "f4dc0d15",
   "metadata": {},
   "outputs": [
    {
     "name": "stdout",
     "output_type": "stream",
     "text": [
      "Fitting 5 folds for each of 5 candidates, totalling 25 fits\n",
      "[CV 1/5] END .....classifier__learning_rate=0.1;, score=0.685 total time=   5.9s\n",
      "[CV 2/5] END .....classifier__learning_rate=0.1;, score=0.690 total time=   5.9s\n",
      "[CV 3/5] END .....classifier__learning_rate=0.1;, score=0.695 total time=   6.0s\n",
      "[CV 4/5] END .....classifier__learning_rate=0.1;, score=0.696 total time=   6.0s\n",
      "[CV 5/5] END .....classifier__learning_rate=0.1;, score=0.684 total time=   5.9s\n",
      "[CV 1/5] END .....classifier__learning_rate=0.2;, score=0.682 total time=   5.5s\n",
      "[CV 2/5] END .....classifier__learning_rate=0.2;, score=0.683 total time=   5.5s\n",
      "[CV 3/5] END .....classifier__learning_rate=0.2;, score=0.687 total time=   5.6s\n",
      "[CV 4/5] END .....classifier__learning_rate=0.2;, score=0.685 total time=   5.7s\n",
      "[CV 5/5] END .....classifier__learning_rate=0.2;, score=0.675 total time=   5.6s\n",
      "[CV 1/5] END .....classifier__learning_rate=0.3;, score=0.671 total time=   5.1s\n",
      "[CV 2/5] END .....classifier__learning_rate=0.3;, score=0.667 total time=   5.2s\n",
      "[CV 3/5] END .....classifier__learning_rate=0.3;, score=0.679 total time=   5.4s\n",
      "[CV 4/5] END .....classifier__learning_rate=0.3;, score=0.685 total time=   5.2s\n",
      "[CV 5/5] END .....classifier__learning_rate=0.3;, score=0.666 total time=   5.1s\n",
      "[CV 1/5] END .....classifier__learning_rate=0.4;, score=0.653 total time=   5.2s\n",
      "[CV 2/5] END .....classifier__learning_rate=0.4;, score=0.659 total time=   4.9s\n",
      "[CV 3/5] END .....classifier__learning_rate=0.4;, score=0.666 total time=   5.1s\n",
      "[CV 4/5] END .....classifier__learning_rate=0.4;, score=0.668 total time=   5.2s\n",
      "[CV 5/5] END .....classifier__learning_rate=0.4;, score=0.655 total time=   5.2s\n",
      "[CV 1/5] END .....classifier__learning_rate=0.5;, score=0.644 total time=   4.8s\n",
      "[CV 2/5] END .....classifier__learning_rate=0.5;, score=0.638 total time=   4.5s\n",
      "[CV 3/5] END .....classifier__learning_rate=0.5;, score=0.649 total time=   4.6s\n",
      "[CV 4/5] END .....classifier__learning_rate=0.5;, score=0.638 total time=   4.6s\n",
      "[CV 5/5] END .....classifier__learning_rate=0.5;, score=0.639 total time=   4.7s\n"
     ]
    },
    {
     "data": {
      "text/html": [
       "<style>#sk-container-id-13 {color: black;background-color: white;}#sk-container-id-13 pre{padding: 0;}#sk-container-id-13 div.sk-toggleable {background-color: white;}#sk-container-id-13 label.sk-toggleable__label {cursor: pointer;display: block;width: 100%;margin-bottom: 0;padding: 0.3em;box-sizing: border-box;text-align: center;}#sk-container-id-13 label.sk-toggleable__label-arrow:before {content: \"▸\";float: left;margin-right: 0.25em;color: #696969;}#sk-container-id-13 label.sk-toggleable__label-arrow:hover:before {color: black;}#sk-container-id-13 div.sk-estimator:hover label.sk-toggleable__label-arrow:before {color: black;}#sk-container-id-13 div.sk-toggleable__content {max-height: 0;max-width: 0;overflow: hidden;text-align: left;background-color: #f0f8ff;}#sk-container-id-13 div.sk-toggleable__content pre {margin: 0.2em;color: black;border-radius: 0.25em;background-color: #f0f8ff;}#sk-container-id-13 input.sk-toggleable__control:checked~div.sk-toggleable__content {max-height: 200px;max-width: 100%;overflow: auto;}#sk-container-id-13 input.sk-toggleable__control:checked~label.sk-toggleable__label-arrow:before {content: \"▾\";}#sk-container-id-13 div.sk-estimator input.sk-toggleable__control:checked~label.sk-toggleable__label {background-color: #d4ebff;}#sk-container-id-13 div.sk-label input.sk-toggleable__control:checked~label.sk-toggleable__label {background-color: #d4ebff;}#sk-container-id-13 input.sk-hidden--visually {border: 0;clip: rect(1px 1px 1px 1px);clip: rect(1px, 1px, 1px, 1px);height: 1px;margin: -1px;overflow: hidden;padding: 0;position: absolute;width: 1px;}#sk-container-id-13 div.sk-estimator {font-family: monospace;background-color: #f0f8ff;border: 1px dotted black;border-radius: 0.25em;box-sizing: border-box;margin-bottom: 0.5em;}#sk-container-id-13 div.sk-estimator:hover {background-color: #d4ebff;}#sk-container-id-13 div.sk-parallel-item::after {content: \"\";width: 100%;border-bottom: 1px solid gray;flex-grow: 1;}#sk-container-id-13 div.sk-label:hover label.sk-toggleable__label {background-color: #d4ebff;}#sk-container-id-13 div.sk-serial::before {content: \"\";position: absolute;border-left: 1px solid gray;box-sizing: border-box;top: 0;bottom: 0;left: 50%;z-index: 0;}#sk-container-id-13 div.sk-serial {display: flex;flex-direction: column;align-items: center;background-color: white;padding-right: 0.2em;padding-left: 0.2em;position: relative;}#sk-container-id-13 div.sk-item {position: relative;z-index: 1;}#sk-container-id-13 div.sk-parallel {display: flex;align-items: stretch;justify-content: center;background-color: white;position: relative;}#sk-container-id-13 div.sk-item::before, #sk-container-id-13 div.sk-parallel-item::before {content: \"\";position: absolute;border-left: 1px solid gray;box-sizing: border-box;top: 0;bottom: 0;left: 50%;z-index: -1;}#sk-container-id-13 div.sk-parallel-item {display: flex;flex-direction: column;z-index: 1;position: relative;background-color: white;}#sk-container-id-13 div.sk-parallel-item:first-child::after {align-self: flex-end;width: 50%;}#sk-container-id-13 div.sk-parallel-item:last-child::after {align-self: flex-start;width: 50%;}#sk-container-id-13 div.sk-parallel-item:only-child::after {width: 0;}#sk-container-id-13 div.sk-dashed-wrapped {border: 1px dashed gray;margin: 0 0.4em 0.5em 0.4em;box-sizing: border-box;padding-bottom: 0.4em;background-color: white;}#sk-container-id-13 div.sk-label label {font-family: monospace;font-weight: bold;display: inline-block;line-height: 1.2em;}#sk-container-id-13 div.sk-label-container {text-align: center;}#sk-container-id-13 div.sk-container {/* jupyter's `normalize.less` sets `[hidden] { display: none; }` but bootstrap.min.css set `[hidden] { display: none !important; }` so we also need the `!important` here to be able to override the default hidden behavior on the sphinx rendered scikit-learn.org. See: https://github.com/scikit-learn/scikit-learn/issues/21755 */display: inline-block !important;position: relative;}#sk-container-id-13 div.sk-text-repr-fallback {display: none;}</style><div id=\"sk-container-id-13\" class=\"sk-top-container\"><div class=\"sk-text-repr-fallback\"><pre>GridSearchCV(cv=5,\n",
       "             estimator=BinaryRelevance(classifier=LGBMClassifier(max_depth=6,\n",
       "                                                                 min_split_gain=0.2,\n",
       "                                                                 n_estimators=80,\n",
       "                                                                 random_state=0,\n",
       "                                                                 subsample=0.6),\n",
       "                                       require_dense=[True, True]),\n",
       "             param_grid={&#x27;classifier__learning_rate&#x27;: [0.1, 0.2, 0.3, 0.4,\n",
       "                                                       0.5]},\n",
       "             scoring=&#x27;f1_weighted&#x27;, verbose=3)</pre><b>In a Jupyter environment, please rerun this cell to show the HTML representation or trust the notebook. <br />On GitHub, the HTML representation is unable to render, please try loading this page with nbviewer.org.</b></div><div class=\"sk-container\" hidden><div class=\"sk-item sk-dashed-wrapped\"><div class=\"sk-label-container\"><div class=\"sk-label sk-toggleable\"><input class=\"sk-toggleable__control sk-hidden--visually\" id=\"sk-estimator-id-45\" type=\"checkbox\" ><label for=\"sk-estimator-id-45\" class=\"sk-toggleable__label sk-toggleable__label-arrow\">GridSearchCV</label><div class=\"sk-toggleable__content\"><pre>GridSearchCV(cv=5,\n",
       "             estimator=BinaryRelevance(classifier=LGBMClassifier(max_depth=6,\n",
       "                                                                 min_split_gain=0.2,\n",
       "                                                                 n_estimators=80,\n",
       "                                                                 random_state=0,\n",
       "                                                                 subsample=0.6),\n",
       "                                       require_dense=[True, True]),\n",
       "             param_grid={&#x27;classifier__learning_rate&#x27;: [0.1, 0.2, 0.3, 0.4,\n",
       "                                                       0.5]},\n",
       "             scoring=&#x27;f1_weighted&#x27;, verbose=3)</pre></div></div></div><div class=\"sk-parallel\"><div class=\"sk-parallel-item\"><div class=\"sk-item\"><div class=\"sk-label-container\"><div class=\"sk-label sk-toggleable\"><input class=\"sk-toggleable__control sk-hidden--visually\" id=\"sk-estimator-id-46\" type=\"checkbox\" ><label for=\"sk-estimator-id-46\" class=\"sk-toggleable__label sk-toggleable__label-arrow\">estimator: BinaryRelevance</label><div class=\"sk-toggleable__content\"><pre>BinaryRelevance(classifier=LGBMClassifier(max_depth=6, min_split_gain=0.2,\n",
       "                                          n_estimators=80, random_state=0,\n",
       "                                          subsample=0.6),\n",
       "                require_dense=[True, True])</pre></div></div></div><div class=\"sk-serial\"><div class=\"sk-item sk-dashed-wrapped\"><div class=\"sk-parallel\"><div class=\"sk-parallel-item\"><div class=\"sk-item\"><div class=\"sk-label-container\"><div class=\"sk-label sk-toggleable\"><input class=\"sk-toggleable__control sk-hidden--visually\" id=\"sk-estimator-id-47\" type=\"checkbox\" ><label for=\"sk-estimator-id-47\" class=\"sk-toggleable__label sk-toggleable__label-arrow\">classifier: LGBMClassifier</label><div class=\"sk-toggleable__content\"><pre>LGBMClassifier(max_depth=6, min_split_gain=0.2, n_estimators=80, random_state=0,\n",
       "               subsample=0.6)</pre></div></div></div><div class=\"sk-serial\"><div class=\"sk-item\"><div class=\"sk-estimator sk-toggleable\"><input class=\"sk-toggleable__control sk-hidden--visually\" id=\"sk-estimator-id-48\" type=\"checkbox\" ><label for=\"sk-estimator-id-48\" class=\"sk-toggleable__label sk-toggleable__label-arrow\">LGBMClassifier</label><div class=\"sk-toggleable__content\"><pre>LGBMClassifier(max_depth=6, min_split_gain=0.2, n_estimators=80, random_state=0,\n",
       "               subsample=0.6)</pre></div></div></div></div></div></div></div></div></div></div></div></div></div></div></div>"
      ],
      "text/plain": [
       "GridSearchCV(cv=5,\n",
       "             estimator=BinaryRelevance(classifier=LGBMClassifier(max_depth=6,\n",
       "                                                                 min_split_gain=0.2,\n",
       "                                                                 n_estimators=80,\n",
       "                                                                 random_state=0,\n",
       "                                                                 subsample=0.6),\n",
       "                                       require_dense=[True, True]),\n",
       "             param_grid={'classifier__learning_rate': [0.1, 0.2, 0.3, 0.4,\n",
       "                                                       0.5]},\n",
       "             scoring='f1_weighted', verbose=3)"
      ]
     },
     "execution_count": 148,
     "metadata": {},
     "output_type": "execute_result"
    }
   ],
   "source": [
    "param_test = {\n",
    " 'classifier__learning_rate':[0.1, 0.2, 0.3, 0.4, 0.5]\n",
    "}\n",
    "\n",
    "lgbm_tuned = BinaryRelevance(LGBMClassifier(random_state=0, n_estimators=80, max_depth=6, min_split_gain=0.2, subsample=0.6))\n",
    "gsearch = GridSearchCV(estimator=lgbm_tuned, param_grid=param_test, scoring='f1_weighted', cv=5, verbose=3)\n",
    "gsearch.fit(selected_train[features], selected_train[labels])"
   ]
  },
  {
   "cell_type": "code",
   "execution_count": 149,
   "id": "e18113fd",
   "metadata": {},
   "outputs": [
    {
     "data": {
      "text/plain": [
       "({'classifier__learning_rate': 0.1}, 0.6900204063607662)"
      ]
     },
     "execution_count": 149,
     "metadata": {},
     "output_type": "execute_result"
    }
   ],
   "source": [
    "gsearch.best_params_, gsearch.best_score_"
   ]
  },
  {
   "cell_type": "markdown",
   "id": "c9dd3bea",
   "metadata": {},
   "source": [
    "No adjustment on default learning_rate needed, does not improve model performance."
   ]
  },
  {
   "cell_type": "markdown",
   "id": "70aef71d",
   "metadata": {},
   "source": [
    "## Tuned Light GBM (Binary Relevance)"
   ]
  },
  {
   "cell_type": "code",
   "execution_count": 151,
   "id": "2fa5cace",
   "metadata": {},
   "outputs": [],
   "source": [
    "classifier_tuned = BinaryRelevance(LGBMClassifier(random_state=0, n_estimators=80, max_depth=6, min_split_gain=0.2, subsample=0.6))\n",
    "# train\n",
    "classifier_tuned.fit(selected_train[features], selected_train[labels])\n",
    "# predict\n",
    "predictions_tuned = classifier_tuned.predict(selected_train[features])"
   ]
  },
  {
   "cell_type": "code",
   "execution_count": 152,
   "id": "a84bf774",
   "metadata": {},
   "outputs": [],
   "source": [
    "# predict probability\n",
    "predictions_proba_tuned = classifier_tuned.predict_proba(selected_train[features])"
   ]
  },
  {
   "cell_type": "code",
   "execution_count": 153,
   "id": "2194eb40",
   "metadata": {},
   "outputs": [
    {
     "name": "stdout",
     "output_type": "stream",
     "text": [
      "Accuracy score:  0.92831404202518\n",
      "Precision score:  0.8469211827544635\n",
      "Recall score:  0.6922331756795259\n",
      "F1 score:  0.7593649476566278\n",
      "Confusion matrix for label toxic:\n",
      "[[142791   1486]\n",
      " [  4696  10598]]\n",
      "Confusion matrix for label severe_toxic:\n",
      "[[157707    269]\n",
      " [   691    904]]\n",
      "Confusion matrix for label obscene:\n",
      "[[150017   1105]\n",
      " [  1976   6473]]\n",
      "Confusion matrix for label threat:\n",
      "[[159069     24]\n",
      " [    84    394]]\n",
      "Confusion matrix for label insult:\n",
      "[[150324   1370]\n",
      " [  2468   5409]]\n",
      "Confusion matrix for label identity_hate:\n",
      "[[158040    126]\n",
      " [   887    518]]\n",
      "Logarithmic Loss:  0.25086807424923746\n",
      "ROC AUC score:  0.982274361564088\n"
     ]
    }
   ],
   "source": [
    "# model evaluation\n",
    "get_evaluation_score(selected_train[labels], predictions_tuned, predictions_proba_tuned)"
   ]
  },
  {
   "cell_type": "code",
   "execution_count": 154,
   "id": "eb39f8c4",
   "metadata": {},
   "outputs": [
    {
     "name": "stdout",
     "output_type": "stream",
     "text": [
      "Accuracy score:  0.8824127043671262\n",
      "Precision score:  0.5898061325308035\n",
      "Recall score:  0.6630569733756381\n",
      "F1 score:  0.6210033648505818\n",
      "Confusion matrix for label toxic:\n",
      "[[54900  2988]\n",
      " [ 1544  4546]]\n",
      "Confusion matrix for label severe_toxic:\n",
      "[[63257   354]\n",
      " [  208   159]]\n",
      "Confusion matrix for label obscene:\n",
      "[[58659  1628]\n",
      " [ 1061  2630]]\n",
      "Confusion matrix for label threat:\n",
      "[[63565   202]\n",
      " [  157    54]]\n",
      "Confusion matrix for label insult:\n",
      "[[59355  1196]\n",
      " [ 1359  2068]]\n",
      "Confusion matrix for label identity_hate:\n",
      "[[63006   260]\n",
      " [  556   156]]\n",
      "Logarithmic Loss:  0.3029266280750555\n",
      "ROC AUC score:  0.958930392026325\n"
     ]
    }
   ],
   "source": [
    "# evaluation on test data\n",
    "predictions_tuned_test = classifier_tuned.predict(selected_test[features])\n",
    "predictions_proba_tuned_test = classifier_tuned.predict_proba(selected_test[features])\n",
    "get_evaluation_score(selected_test[labels], predictions_tuned_test, predictions_proba_tuned_test)"
   ]
  },
  {
   "cell_type": "code",
   "execution_count": 155,
   "id": "6e33d733",
   "metadata": {},
   "outputs": [
    {
     "data": {
      "text/html": [
       "<style>#sk-container-id-14 {color: black;background-color: white;}#sk-container-id-14 pre{padding: 0;}#sk-container-id-14 div.sk-toggleable {background-color: white;}#sk-container-id-14 label.sk-toggleable__label {cursor: pointer;display: block;width: 100%;margin-bottom: 0;padding: 0.3em;box-sizing: border-box;text-align: center;}#sk-container-id-14 label.sk-toggleable__label-arrow:before {content: \"▸\";float: left;margin-right: 0.25em;color: #696969;}#sk-container-id-14 label.sk-toggleable__label-arrow:hover:before {color: black;}#sk-container-id-14 div.sk-estimator:hover label.sk-toggleable__label-arrow:before {color: black;}#sk-container-id-14 div.sk-toggleable__content {max-height: 0;max-width: 0;overflow: hidden;text-align: left;background-color: #f0f8ff;}#sk-container-id-14 div.sk-toggleable__content pre {margin: 0.2em;color: black;border-radius: 0.25em;background-color: #f0f8ff;}#sk-container-id-14 input.sk-toggleable__control:checked~div.sk-toggleable__content {max-height: 200px;max-width: 100%;overflow: auto;}#sk-container-id-14 input.sk-toggleable__control:checked~label.sk-toggleable__label-arrow:before {content: \"▾\";}#sk-container-id-14 div.sk-estimator input.sk-toggleable__control:checked~label.sk-toggleable__label {background-color: #d4ebff;}#sk-container-id-14 div.sk-label input.sk-toggleable__control:checked~label.sk-toggleable__label {background-color: #d4ebff;}#sk-container-id-14 input.sk-hidden--visually {border: 0;clip: rect(1px 1px 1px 1px);clip: rect(1px, 1px, 1px, 1px);height: 1px;margin: -1px;overflow: hidden;padding: 0;position: absolute;width: 1px;}#sk-container-id-14 div.sk-estimator {font-family: monospace;background-color: #f0f8ff;border: 1px dotted black;border-radius: 0.25em;box-sizing: border-box;margin-bottom: 0.5em;}#sk-container-id-14 div.sk-estimator:hover {background-color: #d4ebff;}#sk-container-id-14 div.sk-parallel-item::after {content: \"\";width: 100%;border-bottom: 1px solid gray;flex-grow: 1;}#sk-container-id-14 div.sk-label:hover label.sk-toggleable__label {background-color: #d4ebff;}#sk-container-id-14 div.sk-serial::before {content: \"\";position: absolute;border-left: 1px solid gray;box-sizing: border-box;top: 0;bottom: 0;left: 50%;z-index: 0;}#sk-container-id-14 div.sk-serial {display: flex;flex-direction: column;align-items: center;background-color: white;padding-right: 0.2em;padding-left: 0.2em;position: relative;}#sk-container-id-14 div.sk-item {position: relative;z-index: 1;}#sk-container-id-14 div.sk-parallel {display: flex;align-items: stretch;justify-content: center;background-color: white;position: relative;}#sk-container-id-14 div.sk-item::before, #sk-container-id-14 div.sk-parallel-item::before {content: \"\";position: absolute;border-left: 1px solid gray;box-sizing: border-box;top: 0;bottom: 0;left: 50%;z-index: -1;}#sk-container-id-14 div.sk-parallel-item {display: flex;flex-direction: column;z-index: 1;position: relative;background-color: white;}#sk-container-id-14 div.sk-parallel-item:first-child::after {align-self: flex-end;width: 50%;}#sk-container-id-14 div.sk-parallel-item:last-child::after {align-self: flex-start;width: 50%;}#sk-container-id-14 div.sk-parallel-item:only-child::after {width: 0;}#sk-container-id-14 div.sk-dashed-wrapped {border: 1px dashed gray;margin: 0 0.4em 0.5em 0.4em;box-sizing: border-box;padding-bottom: 0.4em;background-color: white;}#sk-container-id-14 div.sk-label label {font-family: monospace;font-weight: bold;display: inline-block;line-height: 1.2em;}#sk-container-id-14 div.sk-label-container {text-align: center;}#sk-container-id-14 div.sk-container {/* jupyter's `normalize.less` sets `[hidden] { display: none; }` but bootstrap.min.css set `[hidden] { display: none !important; }` so we also need the `!important` here to be able to override the default hidden behavior on the sphinx rendered scikit-learn.org. See: https://github.com/scikit-learn/scikit-learn/issues/21755 */display: inline-block !important;position: relative;}#sk-container-id-14 div.sk-text-repr-fallback {display: none;}</style><div id=\"sk-container-id-14\" class=\"sk-top-container\"><div class=\"sk-text-repr-fallback\"><pre>BinaryRelevance(classifier=LGBMClassifier(max_depth=6, min_split_gain=0.2,\n",
       "                                          n_estimators=80, random_state=0,\n",
       "                                          subsample=0.6),\n",
       "                require_dense=[True, True])</pre><b>In a Jupyter environment, please rerun this cell to show the HTML representation or trust the notebook. <br />On GitHub, the HTML representation is unable to render, please try loading this page with nbviewer.org.</b></div><div class=\"sk-container\" hidden><div class=\"sk-item sk-dashed-wrapped\"><div class=\"sk-label-container\"><div class=\"sk-label sk-toggleable\"><input class=\"sk-toggleable__control sk-hidden--visually\" id=\"sk-estimator-id-49\" type=\"checkbox\" ><label for=\"sk-estimator-id-49\" class=\"sk-toggleable__label sk-toggleable__label-arrow\">BinaryRelevance</label><div class=\"sk-toggleable__content\"><pre>BinaryRelevance(classifier=LGBMClassifier(max_depth=6, min_split_gain=0.2,\n",
       "                                          n_estimators=80, random_state=0,\n",
       "                                          subsample=0.6),\n",
       "                require_dense=[True, True])</pre></div></div></div><div class=\"sk-parallel\"><div class=\"sk-parallel-item\"><div class=\"sk-item\"><div class=\"sk-label-container\"><div class=\"sk-label sk-toggleable\"><input class=\"sk-toggleable__control sk-hidden--visually\" id=\"sk-estimator-id-50\" type=\"checkbox\" ><label for=\"sk-estimator-id-50\" class=\"sk-toggleable__label sk-toggleable__label-arrow\">classifier: LGBMClassifier</label><div class=\"sk-toggleable__content\"><pre>LGBMClassifier(max_depth=6, min_split_gain=0.2, n_estimators=80, random_state=0,\n",
       "               subsample=0.6)</pre></div></div></div><div class=\"sk-serial\"><div class=\"sk-item\"><div class=\"sk-estimator sk-toggleable\"><input class=\"sk-toggleable__control sk-hidden--visually\" id=\"sk-estimator-id-51\" type=\"checkbox\" ><label for=\"sk-estimator-id-51\" class=\"sk-toggleable__label sk-toggleable__label-arrow\">LGBMClassifier</label><div class=\"sk-toggleable__content\"><pre>LGBMClassifier(max_depth=6, min_split_gain=0.2, n_estimators=80, random_state=0,\n",
       "               subsample=0.6)</pre></div></div></div></div></div></div></div></div></div></div>"
      ],
      "text/plain": [
       "BinaryRelevance(classifier=LGBMClassifier(max_depth=6, min_split_gain=0.2,\n",
       "                                          n_estimators=80, random_state=0,\n",
       "                                          subsample=0.6),\n",
       "                require_dense=[True, True])"
      ]
     },
     "execution_count": 155,
     "metadata": {},
     "output_type": "execute_result"
    }
   ],
   "source": [
    "classifier_tuned"
   ]
  },
  {
   "cell_type": "code",
   "execution_count": 156,
   "id": "6ecbc6eb",
   "metadata": {},
   "outputs": [
    {
     "data": {
      "text/plain": [
       "['lgbm_tuned.sav']"
      ]
     },
     "execution_count": 156,
     "metadata": {},
     "output_type": "execute_result"
    }
   ],
   "source": [
    "joblib.dump(classifier_tuned, 'lgbm_tuned.sav')"
   ]
  },
  {
   "cell_type": "markdown",
   "id": "3c27cc68",
   "metadata": {},
   "source": [
    "Tuned model performed better than baseline model."
   ]
  },
  {
   "cell_type": "markdown",
   "id": "b821d7dc",
   "metadata": {},
   "source": [
    "## Tuned Light GBM on Each Label"
   ]
  },
  {
   "cell_type": "code",
   "execution_count": 157,
   "id": "ed6a2821",
   "metadata": {},
   "outputs": [],
   "source": [
    "labels = ['toxic', 'severe_toxic', 'obscene', 'threat', 'insult', 'identity_hate']"
   ]
  },
  {
   "cell_type": "code",
   "execution_count": 170,
   "id": "7840627d",
   "metadata": {},
   "outputs": [],
   "source": [
    "def predictions(model):\n",
    "    predictions = model.predict(selected_train[features])\n",
    "    predictions_proba = model.predict_proba(selected_train[features])\n",
    "    print('Model Performance on training set:')\n",
    "    get_evaluation_score_single_class(selected_train[label], predictions, predictions_proba[:, 1])\n",
    "    \n",
    "    predictions_test = model.predict(selected_test[features])\n",
    "    predictions_proba_test = model.predict_proba(selected_test[features])\n",
    "    print('\\nModel Performance on test set:')\n",
    "    get_evaluation_score_single_class(selected_test[label], predictions_test, predictions_proba_test[:, 1])"
   ]
  },
  {
   "cell_type": "markdown",
   "id": "8b36eab3",
   "metadata": {},
   "source": [
    "### Toxic Label"
   ]
  },
  {
   "cell_type": "code",
   "execution_count": 171,
   "id": "f71e3c25",
   "metadata": {},
   "outputs": [
    {
     "name": "stdout",
     "output_type": "stream",
     "text": [
      "Fitting 5 folds for each of 18 candidates, totalling 90 fits\n",
      "[CV 1/5] END .max_depth=4, min_child_samples=20;, score=0.737 total time=   0.7s\n",
      "[CV 2/5] END .max_depth=4, min_child_samples=20;, score=0.746 total time=   0.7s\n",
      "[CV 3/5] END .max_depth=4, min_child_samples=20;, score=0.741 total time=   0.7s\n",
      "[CV 4/5] END .max_depth=4, min_child_samples=20;, score=0.738 total time=   0.7s\n",
      "[CV 5/5] END .max_depth=4, min_child_samples=20;, score=0.736 total time=   0.7s\n",
      "[CV 1/5] END .max_depth=4, min_child_samples=30;, score=0.737 total time=   0.7s\n",
      "[CV 2/5] END .max_depth=4, min_child_samples=30;, score=0.747 total time=   0.7s\n",
      "[CV 3/5] END .max_depth=4, min_child_samples=30;, score=0.741 total time=   0.7s\n",
      "[CV 4/5] END .max_depth=4, min_child_samples=30;, score=0.739 total time=   0.7s\n",
      "[CV 5/5] END .max_depth=4, min_child_samples=30;, score=0.735 total time=   0.7s\n",
      "[CV 1/5] END .max_depth=4, min_child_samples=40;, score=0.740 total time=   0.7s\n",
      "[CV 2/5] END .max_depth=4, min_child_samples=40;, score=0.743 total time=   0.7s\n",
      "[CV 3/5] END .max_depth=4, min_child_samples=40;, score=0.740 total time=   0.7s\n",
      "[CV 4/5] END .max_depth=4, min_child_samples=40;, score=0.740 total time=   0.7s\n",
      "[CV 5/5] END .max_depth=4, min_child_samples=40;, score=0.736 total time=   0.7s\n",
      "[CV 1/5] END .max_depth=4, min_child_samples=50;, score=0.738 total time=   0.6s\n",
      "[CV 2/5] END .max_depth=4, min_child_samples=50;, score=0.745 total time=   0.7s\n",
      "[CV 3/5] END .max_depth=4, min_child_samples=50;, score=0.742 total time=   0.7s\n",
      "[CV 4/5] END .max_depth=4, min_child_samples=50;, score=0.740 total time=   0.6s\n",
      "[CV 5/5] END .max_depth=4, min_child_samples=50;, score=0.736 total time=   0.7s\n",
      "[CV 1/5] END .max_depth=4, min_child_samples=60;, score=0.737 total time=   0.7s\n",
      "[CV 2/5] END .max_depth=4, min_child_samples=60;, score=0.748 total time=   0.7s\n",
      "[CV 3/5] END .max_depth=4, min_child_samples=60;, score=0.741 total time=   0.7s\n",
      "[CV 4/5] END .max_depth=4, min_child_samples=60;, score=0.737 total time=   0.6s\n",
      "[CV 5/5] END .max_depth=4, min_child_samples=60;, score=0.735 total time=   0.7s\n",
      "[CV 1/5] END .max_depth=4, min_child_samples=70;, score=0.739 total time=   0.7s\n",
      "[CV 2/5] END .max_depth=4, min_child_samples=70;, score=0.746 total time=   0.7s\n",
      "[CV 3/5] END .max_depth=4, min_child_samples=70;, score=0.742 total time=   0.7s\n",
      "[CV 4/5] END .max_depth=4, min_child_samples=70;, score=0.736 total time=   0.6s\n",
      "[CV 5/5] END .max_depth=4, min_child_samples=70;, score=0.737 total time=   0.7s\n",
      "[CV 1/5] END .max_depth=6, min_child_samples=20;, score=0.744 total time=   1.0s\n",
      "[CV 2/5] END .max_depth=6, min_child_samples=20;, score=0.753 total time=   1.0s\n",
      "[CV 3/5] END .max_depth=6, min_child_samples=20;, score=0.746 total time=   1.1s\n",
      "[CV 4/5] END .max_depth=6, min_child_samples=20;, score=0.742 total time=   1.0s\n",
      "[CV 5/5] END .max_depth=6, min_child_samples=20;, score=0.741 total time=   1.1s\n",
      "[CV 1/5] END .max_depth=6, min_child_samples=30;, score=0.743 total time=   1.1s\n",
      "[CV 2/5] END .max_depth=6, min_child_samples=30;, score=0.751 total time=   1.0s\n",
      "[CV 3/5] END .max_depth=6, min_child_samples=30;, score=0.748 total time=   1.0s\n",
      "[CV 4/5] END .max_depth=6, min_child_samples=30;, score=0.743 total time=   1.1s\n",
      "[CV 5/5] END .max_depth=6, min_child_samples=30;, score=0.744 total time=   1.0s\n",
      "[CV 1/5] END .max_depth=6, min_child_samples=40;, score=0.746 total time=   1.1s\n",
      "[CV 2/5] END .max_depth=6, min_child_samples=40;, score=0.751 total time=   1.0s\n",
      "[CV 3/5] END .max_depth=6, min_child_samples=40;, score=0.748 total time=   1.1s\n",
      "[CV 4/5] END .max_depth=6, min_child_samples=40;, score=0.745 total time=   1.1s\n",
      "[CV 5/5] END .max_depth=6, min_child_samples=40;, score=0.744 total time=   1.1s\n",
      "[CV 1/5] END .max_depth=6, min_child_samples=50;, score=0.743 total time=   1.1s\n",
      "[CV 2/5] END .max_depth=6, min_child_samples=50;, score=0.753 total time=   1.0s\n",
      "[CV 3/5] END .max_depth=6, min_child_samples=50;, score=0.749 total time=   1.0s\n",
      "[CV 4/5] END .max_depth=6, min_child_samples=50;, score=0.742 total time=   1.0s\n",
      "[CV 5/5] END .max_depth=6, min_child_samples=50;, score=0.744 total time=   0.9s\n",
      "[CV 1/5] END .max_depth=6, min_child_samples=60;, score=0.744 total time=   1.1s\n",
      "[CV 2/5] END .max_depth=6, min_child_samples=60;, score=0.752 total time=   1.0s\n",
      "[CV 3/5] END .max_depth=6, min_child_samples=60;, score=0.745 total time=   1.0s\n",
      "[CV 4/5] END .max_depth=6, min_child_samples=60;, score=0.746 total time=   0.9s\n",
      "[CV 5/5] END .max_depth=6, min_child_samples=60;, score=0.744 total time=   1.0s\n",
      "[CV 1/5] END .max_depth=6, min_child_samples=70;, score=0.743 total time=   1.0s\n",
      "[CV 2/5] END .max_depth=6, min_child_samples=70;, score=0.752 total time=   1.0s\n",
      "[CV 3/5] END .max_depth=6, min_child_samples=70;, score=0.749 total time=   1.0s\n",
      "[CV 4/5] END .max_depth=6, min_child_samples=70;, score=0.743 total time=   1.0s\n",
      "[CV 5/5] END .max_depth=6, min_child_samples=70;, score=0.745 total time=   0.9s\n",
      "[CV 1/5] END .max_depth=8, min_child_samples=20;, score=0.745 total time=   1.2s\n",
      "[CV 2/5] END .max_depth=8, min_child_samples=20;, score=0.750 total time=   1.1s\n",
      "[CV 3/5] END .max_depth=8, min_child_samples=20;, score=0.751 total time=   1.0s\n",
      "[CV 4/5] END .max_depth=8, min_child_samples=20;, score=0.747 total time=   1.1s\n",
      "[CV 5/5] END .max_depth=8, min_child_samples=20;, score=0.742 total time=   1.1s\n",
      "[CV 1/5] END .max_depth=8, min_child_samples=30;, score=0.743 total time=   1.0s\n",
      "[CV 2/5] END .max_depth=8, min_child_samples=30;, score=0.751 total time=   1.1s\n",
      "[CV 3/5] END .max_depth=8, min_child_samples=30;, score=0.754 total time=   1.1s\n",
      "[CV 4/5] END .max_depth=8, min_child_samples=30;, score=0.743 total time=   1.2s\n",
      "[CV 5/5] END .max_depth=8, min_child_samples=30;, score=0.744 total time=   1.1s\n",
      "[CV 1/5] END .max_depth=8, min_child_samples=40;, score=0.747 total time=   1.2s\n",
      "[CV 2/5] END .max_depth=8, min_child_samples=40;, score=0.748 total time=   1.2s\n",
      "[CV 3/5] END .max_depth=8, min_child_samples=40;, score=0.753 total time=   1.2s\n",
      "[CV 4/5] END .max_depth=8, min_child_samples=40;, score=0.745 total time=   1.1s\n",
      "[CV 5/5] END .max_depth=8, min_child_samples=40;, score=0.745 total time=   1.1s\n",
      "[CV 1/5] END .max_depth=8, min_child_samples=50;, score=0.746 total time=   1.2s\n",
      "[CV 2/5] END .max_depth=8, min_child_samples=50;, score=0.751 total time=   1.1s\n",
      "[CV 3/5] END .max_depth=8, min_child_samples=50;, score=0.752 total time=   1.1s\n",
      "[CV 4/5] END .max_depth=8, min_child_samples=50;, score=0.746 total time=   1.1s\n",
      "[CV 5/5] END .max_depth=8, min_child_samples=50;, score=0.743 total time=   1.2s\n",
      "[CV 1/5] END .max_depth=8, min_child_samples=60;, score=0.745 total time=   1.0s\n",
      "[CV 2/5] END .max_depth=8, min_child_samples=60;, score=0.751 total time=   1.1s\n",
      "[CV 3/5] END .max_depth=8, min_child_samples=60;, score=0.749 total time=   1.1s\n",
      "[CV 4/5] END .max_depth=8, min_child_samples=60;, score=0.746 total time=   1.0s\n",
      "[CV 5/5] END .max_depth=8, min_child_samples=60;, score=0.745 total time=   1.2s\n",
      "[CV 1/5] END .max_depth=8, min_child_samples=70;, score=0.745 total time=   1.2s\n",
      "[CV 2/5] END .max_depth=8, min_child_samples=70;, score=0.752 total time=   1.2s\n",
      "[CV 3/5] END .max_depth=8, min_child_samples=70;, score=0.751 total time=   1.1s\n",
      "[CV 4/5] END .max_depth=8, min_child_samples=70;, score=0.746 total time=   1.1s\n",
      "[CV 5/5] END .max_depth=8, min_child_samples=70;, score=0.744 total time=   1.0s\n"
     ]
    },
    {
     "data": {
      "text/html": [
       "<style>#sk-container-id-18 {color: black;background-color: white;}#sk-container-id-18 pre{padding: 0;}#sk-container-id-18 div.sk-toggleable {background-color: white;}#sk-container-id-18 label.sk-toggleable__label {cursor: pointer;display: block;width: 100%;margin-bottom: 0;padding: 0.3em;box-sizing: border-box;text-align: center;}#sk-container-id-18 label.sk-toggleable__label-arrow:before {content: \"▸\";float: left;margin-right: 0.25em;color: #696969;}#sk-container-id-18 label.sk-toggleable__label-arrow:hover:before {color: black;}#sk-container-id-18 div.sk-estimator:hover label.sk-toggleable__label-arrow:before {color: black;}#sk-container-id-18 div.sk-toggleable__content {max-height: 0;max-width: 0;overflow: hidden;text-align: left;background-color: #f0f8ff;}#sk-container-id-18 div.sk-toggleable__content pre {margin: 0.2em;color: black;border-radius: 0.25em;background-color: #f0f8ff;}#sk-container-id-18 input.sk-toggleable__control:checked~div.sk-toggleable__content {max-height: 200px;max-width: 100%;overflow: auto;}#sk-container-id-18 input.sk-toggleable__control:checked~label.sk-toggleable__label-arrow:before {content: \"▾\";}#sk-container-id-18 div.sk-estimator input.sk-toggleable__control:checked~label.sk-toggleable__label {background-color: #d4ebff;}#sk-container-id-18 div.sk-label input.sk-toggleable__control:checked~label.sk-toggleable__label {background-color: #d4ebff;}#sk-container-id-18 input.sk-hidden--visually {border: 0;clip: rect(1px 1px 1px 1px);clip: rect(1px, 1px, 1px, 1px);height: 1px;margin: -1px;overflow: hidden;padding: 0;position: absolute;width: 1px;}#sk-container-id-18 div.sk-estimator {font-family: monospace;background-color: #f0f8ff;border: 1px dotted black;border-radius: 0.25em;box-sizing: border-box;margin-bottom: 0.5em;}#sk-container-id-18 div.sk-estimator:hover {background-color: #d4ebff;}#sk-container-id-18 div.sk-parallel-item::after {content: \"\";width: 100%;border-bottom: 1px solid gray;flex-grow: 1;}#sk-container-id-18 div.sk-label:hover label.sk-toggleable__label {background-color: #d4ebff;}#sk-container-id-18 div.sk-serial::before {content: \"\";position: absolute;border-left: 1px solid gray;box-sizing: border-box;top: 0;bottom: 0;left: 50%;z-index: 0;}#sk-container-id-18 div.sk-serial {display: flex;flex-direction: column;align-items: center;background-color: white;padding-right: 0.2em;padding-left: 0.2em;position: relative;}#sk-container-id-18 div.sk-item {position: relative;z-index: 1;}#sk-container-id-18 div.sk-parallel {display: flex;align-items: stretch;justify-content: center;background-color: white;position: relative;}#sk-container-id-18 div.sk-item::before, #sk-container-id-18 div.sk-parallel-item::before {content: \"\";position: absolute;border-left: 1px solid gray;box-sizing: border-box;top: 0;bottom: 0;left: 50%;z-index: -1;}#sk-container-id-18 div.sk-parallel-item {display: flex;flex-direction: column;z-index: 1;position: relative;background-color: white;}#sk-container-id-18 div.sk-parallel-item:first-child::after {align-self: flex-end;width: 50%;}#sk-container-id-18 div.sk-parallel-item:last-child::after {align-self: flex-start;width: 50%;}#sk-container-id-18 div.sk-parallel-item:only-child::after {width: 0;}#sk-container-id-18 div.sk-dashed-wrapped {border: 1px dashed gray;margin: 0 0.4em 0.5em 0.4em;box-sizing: border-box;padding-bottom: 0.4em;background-color: white;}#sk-container-id-18 div.sk-label label {font-family: monospace;font-weight: bold;display: inline-block;line-height: 1.2em;}#sk-container-id-18 div.sk-label-container {text-align: center;}#sk-container-id-18 div.sk-container {/* jupyter's `normalize.less` sets `[hidden] { display: none; }` but bootstrap.min.css set `[hidden] { display: none !important; }` so we also need the `!important` here to be able to override the default hidden behavior on the sphinx rendered scikit-learn.org. See: https://github.com/scikit-learn/scikit-learn/issues/21755 */display: inline-block !important;position: relative;}#sk-container-id-18 div.sk-text-repr-fallback {display: none;}</style><div id=\"sk-container-id-18\" class=\"sk-top-container\"><div class=\"sk-text-repr-fallback\"><pre>GridSearchCV(cv=5,\n",
       "             estimator=LGBMClassifier(n_estimators=80, random_state=0,\n",
       "                                      subsample=0.6),\n",
       "             param_grid={&#x27;max_depth&#x27;: range(4, 10, 2),\n",
       "                         &#x27;min_child_samples&#x27;: range(20, 71, 10)},\n",
       "             scoring=&#x27;f1&#x27;, verbose=3)</pre><b>In a Jupyter environment, please rerun this cell to show the HTML representation or trust the notebook. <br />On GitHub, the HTML representation is unable to render, please try loading this page with nbviewer.org.</b></div><div class=\"sk-container\" hidden><div class=\"sk-item sk-dashed-wrapped\"><div class=\"sk-label-container\"><div class=\"sk-label sk-toggleable\"><input class=\"sk-toggleable__control sk-hidden--visually\" id=\"sk-estimator-id-61\" type=\"checkbox\" ><label for=\"sk-estimator-id-61\" class=\"sk-toggleable__label sk-toggleable__label-arrow\">GridSearchCV</label><div class=\"sk-toggleable__content\"><pre>GridSearchCV(cv=5,\n",
       "             estimator=LGBMClassifier(n_estimators=80, random_state=0,\n",
       "                                      subsample=0.6),\n",
       "             param_grid={&#x27;max_depth&#x27;: range(4, 10, 2),\n",
       "                         &#x27;min_child_samples&#x27;: range(20, 71, 10)},\n",
       "             scoring=&#x27;f1&#x27;, verbose=3)</pre></div></div></div><div class=\"sk-parallel\"><div class=\"sk-parallel-item\"><div class=\"sk-item\"><div class=\"sk-label-container\"><div class=\"sk-label sk-toggleable\"><input class=\"sk-toggleable__control sk-hidden--visually\" id=\"sk-estimator-id-62\" type=\"checkbox\" ><label for=\"sk-estimator-id-62\" class=\"sk-toggleable__label sk-toggleable__label-arrow\">estimator: LGBMClassifier</label><div class=\"sk-toggleable__content\"><pre>LGBMClassifier(n_estimators=80, random_state=0, subsample=0.6)</pre></div></div></div><div class=\"sk-serial\"><div class=\"sk-item\"><div class=\"sk-estimator sk-toggleable\"><input class=\"sk-toggleable__control sk-hidden--visually\" id=\"sk-estimator-id-63\" type=\"checkbox\" ><label for=\"sk-estimator-id-63\" class=\"sk-toggleable__label sk-toggleable__label-arrow\">LGBMClassifier</label><div class=\"sk-toggleable__content\"><pre>LGBMClassifier(n_estimators=80, random_state=0, subsample=0.6)</pre></div></div></div></div></div></div></div></div></div></div>"
      ],
      "text/plain": [
       "GridSearchCV(cv=5,\n",
       "             estimator=LGBMClassifier(n_estimators=80, random_state=0,\n",
       "                                      subsample=0.6),\n",
       "             param_grid={'max_depth': range(4, 10, 2),\n",
       "                         'min_child_samples': range(20, 71, 10)},\n",
       "             scoring='f1', verbose=3)"
      ]
     },
     "execution_count": 171,
     "metadata": {},
     "output_type": "execute_result"
    }
   ],
   "source": [
    "param_test_each_label = {\n",
    " 'max_depth':range(4,10,2),\n",
    " 'min_child_samples':range(20,71,10)\n",
    "}\n",
    "\n",
    "label = labels[0]\n",
    "LGBM_tuned_toxic = LGBMClassifier(random_state=0, n_estimators=80, subsample=0.6)\n",
    "gsearch_toxic = GridSearchCV(estimator=LGBM_tuned_toxic, param_grid=param_test_each_label, scoring='f1', cv=5, verbose=3)\n",
    "gsearch_toxic.fit(selected_train[features], selected_train[label])"
   ]
  },
  {
   "cell_type": "code",
   "execution_count": 172,
   "id": "bb1bc5e8",
   "metadata": {},
   "outputs": [
    {
     "data": {
      "text/plain": [
       "({'max_depth': 8, 'min_child_samples': 40}, 0.7478995266817143)"
      ]
     },
     "execution_count": 172,
     "metadata": {},
     "output_type": "execute_result"
    }
   ],
   "source": [
    "gsearch_toxic.best_params_, gsearch_toxic.best_score_"
   ]
  },
  {
   "cell_type": "code",
   "execution_count": 173,
   "id": "d760f455",
   "metadata": {},
   "outputs": [
    {
     "name": "stdout",
     "output_type": "stream",
     "text": [
      "Model Performance on training set:\n",
      "Accuracy score:  0.9616785004794104\n",
      "Precision score:  0.8766516208453016\n",
      "Recall score:  0.6984438341833399\n",
      "F1 score:  0.7774664289093489\n",
      "Confusion matrix:\n",
      "[[142774   1503]\n",
      " [  4612  10682]]\n",
      "Logarithmic Loss:  0.10499893360215283\n",
      "ROC AUC score:  0.9739857953396589\n",
      "\n",
      "Model Performance on test set:\n",
      "Accuracy score:  0.928491043796305\n",
      "Precision score:  0.5996579397447704\n",
      "Recall score:  0.7484400656814449\n",
      "F1 score:  0.6658388722518443\n",
      "Confusion matrix:\n",
      "[[54845  3043]\n",
      " [ 1532  4558]]\n",
      "Logarithmic Loss:  0.17421235234625868\n",
      "ROC AUC score:  0.9525780361443105\n"
     ]
    }
   ],
   "source": [
    "predictions(gsearch_toxic)"
   ]
  },
  {
   "cell_type": "code",
   "execution_count": 174,
   "id": "66a49172",
   "metadata": {},
   "outputs": [
    {
     "data": {
      "text/html": [
       "<style>#sk-container-id-19 {color: black;background-color: white;}#sk-container-id-19 pre{padding: 0;}#sk-container-id-19 div.sk-toggleable {background-color: white;}#sk-container-id-19 label.sk-toggleable__label {cursor: pointer;display: block;width: 100%;margin-bottom: 0;padding: 0.3em;box-sizing: border-box;text-align: center;}#sk-container-id-19 label.sk-toggleable__label-arrow:before {content: \"▸\";float: left;margin-right: 0.25em;color: #696969;}#sk-container-id-19 label.sk-toggleable__label-arrow:hover:before {color: black;}#sk-container-id-19 div.sk-estimator:hover label.sk-toggleable__label-arrow:before {color: black;}#sk-container-id-19 div.sk-toggleable__content {max-height: 0;max-width: 0;overflow: hidden;text-align: left;background-color: #f0f8ff;}#sk-container-id-19 div.sk-toggleable__content pre {margin: 0.2em;color: black;border-radius: 0.25em;background-color: #f0f8ff;}#sk-container-id-19 input.sk-toggleable__control:checked~div.sk-toggleable__content {max-height: 200px;max-width: 100%;overflow: auto;}#sk-container-id-19 input.sk-toggleable__control:checked~label.sk-toggleable__label-arrow:before {content: \"▾\";}#sk-container-id-19 div.sk-estimator input.sk-toggleable__control:checked~label.sk-toggleable__label {background-color: #d4ebff;}#sk-container-id-19 div.sk-label input.sk-toggleable__control:checked~label.sk-toggleable__label {background-color: #d4ebff;}#sk-container-id-19 input.sk-hidden--visually {border: 0;clip: rect(1px 1px 1px 1px);clip: rect(1px, 1px, 1px, 1px);height: 1px;margin: -1px;overflow: hidden;padding: 0;position: absolute;width: 1px;}#sk-container-id-19 div.sk-estimator {font-family: monospace;background-color: #f0f8ff;border: 1px dotted black;border-radius: 0.25em;box-sizing: border-box;margin-bottom: 0.5em;}#sk-container-id-19 div.sk-estimator:hover {background-color: #d4ebff;}#sk-container-id-19 div.sk-parallel-item::after {content: \"\";width: 100%;border-bottom: 1px solid gray;flex-grow: 1;}#sk-container-id-19 div.sk-label:hover label.sk-toggleable__label {background-color: #d4ebff;}#sk-container-id-19 div.sk-serial::before {content: \"\";position: absolute;border-left: 1px solid gray;box-sizing: border-box;top: 0;bottom: 0;left: 50%;z-index: 0;}#sk-container-id-19 div.sk-serial {display: flex;flex-direction: column;align-items: center;background-color: white;padding-right: 0.2em;padding-left: 0.2em;position: relative;}#sk-container-id-19 div.sk-item {position: relative;z-index: 1;}#sk-container-id-19 div.sk-parallel {display: flex;align-items: stretch;justify-content: center;background-color: white;position: relative;}#sk-container-id-19 div.sk-item::before, #sk-container-id-19 div.sk-parallel-item::before {content: \"\";position: absolute;border-left: 1px solid gray;box-sizing: border-box;top: 0;bottom: 0;left: 50%;z-index: -1;}#sk-container-id-19 div.sk-parallel-item {display: flex;flex-direction: column;z-index: 1;position: relative;background-color: white;}#sk-container-id-19 div.sk-parallel-item:first-child::after {align-self: flex-end;width: 50%;}#sk-container-id-19 div.sk-parallel-item:last-child::after {align-self: flex-start;width: 50%;}#sk-container-id-19 div.sk-parallel-item:only-child::after {width: 0;}#sk-container-id-19 div.sk-dashed-wrapped {border: 1px dashed gray;margin: 0 0.4em 0.5em 0.4em;box-sizing: border-box;padding-bottom: 0.4em;background-color: white;}#sk-container-id-19 div.sk-label label {font-family: monospace;font-weight: bold;display: inline-block;line-height: 1.2em;}#sk-container-id-19 div.sk-label-container {text-align: center;}#sk-container-id-19 div.sk-container {/* jupyter's `normalize.less` sets `[hidden] { display: none; }` but bootstrap.min.css set `[hidden] { display: none !important; }` so we also need the `!important` here to be able to override the default hidden behavior on the sphinx rendered scikit-learn.org. See: https://github.com/scikit-learn/scikit-learn/issues/21755 */display: inline-block !important;position: relative;}#sk-container-id-19 div.sk-text-repr-fallback {display: none;}</style><div id=\"sk-container-id-19\" class=\"sk-top-container\"><div class=\"sk-text-repr-fallback\"><pre>GridSearchCV(cv=5,\n",
       "             estimator=LGBMClassifier(n_estimators=80, random_state=0,\n",
       "                                      subsample=0.6),\n",
       "             param_grid={&#x27;max_depth&#x27;: range(4, 10, 2),\n",
       "                         &#x27;min_child_samples&#x27;: range(20, 71, 10)},\n",
       "             scoring=&#x27;f1&#x27;, verbose=3)</pre><b>In a Jupyter environment, please rerun this cell to show the HTML representation or trust the notebook. <br />On GitHub, the HTML representation is unable to render, please try loading this page with nbviewer.org.</b></div><div class=\"sk-container\" hidden><div class=\"sk-item sk-dashed-wrapped\"><div class=\"sk-label-container\"><div class=\"sk-label sk-toggleable\"><input class=\"sk-toggleable__control sk-hidden--visually\" id=\"sk-estimator-id-64\" type=\"checkbox\" ><label for=\"sk-estimator-id-64\" class=\"sk-toggleable__label sk-toggleable__label-arrow\">GridSearchCV</label><div class=\"sk-toggleable__content\"><pre>GridSearchCV(cv=5,\n",
       "             estimator=LGBMClassifier(n_estimators=80, random_state=0,\n",
       "                                      subsample=0.6),\n",
       "             param_grid={&#x27;max_depth&#x27;: range(4, 10, 2),\n",
       "                         &#x27;min_child_samples&#x27;: range(20, 71, 10)},\n",
       "             scoring=&#x27;f1&#x27;, verbose=3)</pre></div></div></div><div class=\"sk-parallel\"><div class=\"sk-parallel-item\"><div class=\"sk-item\"><div class=\"sk-label-container\"><div class=\"sk-label sk-toggleable\"><input class=\"sk-toggleable__control sk-hidden--visually\" id=\"sk-estimator-id-65\" type=\"checkbox\" ><label for=\"sk-estimator-id-65\" class=\"sk-toggleable__label sk-toggleable__label-arrow\">estimator: LGBMClassifier</label><div class=\"sk-toggleable__content\"><pre>LGBMClassifier(n_estimators=80, random_state=0, subsample=0.6)</pre></div></div></div><div class=\"sk-serial\"><div class=\"sk-item\"><div class=\"sk-estimator sk-toggleable\"><input class=\"sk-toggleable__control sk-hidden--visually\" id=\"sk-estimator-id-66\" type=\"checkbox\" ><label for=\"sk-estimator-id-66\" class=\"sk-toggleable__label sk-toggleable__label-arrow\">LGBMClassifier</label><div class=\"sk-toggleable__content\"><pre>LGBMClassifier(n_estimators=80, random_state=0, subsample=0.6)</pre></div></div></div></div></div></div></div></div></div></div>"
      ],
      "text/plain": [
       "GridSearchCV(cv=5,\n",
       "             estimator=LGBMClassifier(n_estimators=80, random_state=0,\n",
       "                                      subsample=0.6),\n",
       "             param_grid={'max_depth': range(4, 10, 2),\n",
       "                         'min_child_samples': range(20, 71, 10)},\n",
       "             scoring='f1', verbose=3)"
      ]
     },
     "execution_count": 174,
     "metadata": {},
     "output_type": "execute_result"
    }
   ],
   "source": [
    "gsearch_toxic"
   ]
  },
  {
   "cell_type": "code",
   "execution_count": 182,
   "id": "8a360c33",
   "metadata": {},
   "outputs": [
    {
     "data": {
      "text/plain": [
       "['lgbm_toxic.sav']"
      ]
     },
     "execution_count": 182,
     "metadata": {},
     "output_type": "execute_result"
    }
   ],
   "source": [
    "joblib.dump(gsearch_toxic, 'lgbm_toxic.sav')"
   ]
  },
  {
   "cell_type": "markdown",
   "id": "62da12dd",
   "metadata": {},
   "source": [
    "### Severe Toxic Label"
   ]
  },
  {
   "cell_type": "code",
   "execution_count": 176,
   "id": "a64193ab",
   "metadata": {},
   "outputs": [
    {
     "name": "stdout",
     "output_type": "stream",
     "text": [
      "Fitting 5 folds for each of 18 candidates, totalling 90 fits\n",
      "[CV 1/5] END .max_depth=4, min_child_samples=20;, score=0.421 total time=   0.7s\n",
      "[CV 2/5] END .max_depth=4, min_child_samples=20;, score=0.377 total time=   0.6s\n",
      "[CV 3/5] END .max_depth=4, min_child_samples=20;, score=0.348 total time=   0.7s\n",
      "[CV 4/5] END .max_depth=4, min_child_samples=20;, score=0.370 total time=   0.7s\n",
      "[CV 5/5] END .max_depth=4, min_child_samples=20;, score=0.347 total time=   0.6s\n",
      "[CV 1/5] END .max_depth=4, min_child_samples=30;, score=0.421 total time=   0.6s\n",
      "[CV 2/5] END .max_depth=4, min_child_samples=30;, score=0.388 total time=   0.7s\n",
      "[CV 3/5] END .max_depth=4, min_child_samples=30;, score=0.344 total time=   0.6s\n",
      "[CV 4/5] END .max_depth=4, min_child_samples=30;, score=0.372 total time=   0.6s\n",
      "[CV 5/5] END .max_depth=4, min_child_samples=30;, score=0.351 total time=   0.6s\n",
      "[CV 1/5] END .max_depth=4, min_child_samples=40;, score=0.416 total time=   0.6s\n",
      "[CV 2/5] END .max_depth=4, min_child_samples=40;, score=0.381 total time=   0.7s\n",
      "[CV 3/5] END .max_depth=4, min_child_samples=40;, score=0.346 total time=   0.7s\n",
      "[CV 4/5] END .max_depth=4, min_child_samples=40;, score=0.385 total time=   0.6s\n",
      "[CV 5/5] END .max_depth=4, min_child_samples=40;, score=0.353 total time=   0.6s\n",
      "[CV 1/5] END .max_depth=4, min_child_samples=50;, score=0.440 total time=   0.6s\n",
      "[CV 2/5] END .max_depth=4, min_child_samples=50;, score=0.365 total time=   0.6s\n",
      "[CV 3/5] END .max_depth=4, min_child_samples=50;, score=0.357 total time=   0.6s\n",
      "[CV 4/5] END .max_depth=4, min_child_samples=50;, score=0.371 total time=   0.6s\n",
      "[CV 5/5] END .max_depth=4, min_child_samples=50;, score=0.356 total time=   0.6s\n",
      "[CV 1/5] END .max_depth=4, min_child_samples=60;, score=0.430 total time=   0.6s\n",
      "[CV 2/5] END .max_depth=4, min_child_samples=60;, score=0.382 total time=   0.6s\n",
      "[CV 3/5] END .max_depth=4, min_child_samples=60;, score=0.347 total time=   0.6s\n",
      "[CV 4/5] END .max_depth=4, min_child_samples=60;, score=0.369 total time=   0.6s\n",
      "[CV 5/5] END .max_depth=4, min_child_samples=60;, score=0.348 total time=   0.6s\n",
      "[CV 1/5] END .max_depth=4, min_child_samples=70;, score=0.418 total time=   0.6s\n",
      "[CV 2/5] END .max_depth=4, min_child_samples=70;, score=0.378 total time=   0.6s\n",
      "[CV 3/5] END .max_depth=4, min_child_samples=70;, score=0.344 total time=   0.6s\n",
      "[CV 4/5] END .max_depth=4, min_child_samples=70;, score=0.372 total time=   0.6s\n",
      "[CV 5/5] END .max_depth=4, min_child_samples=70;, score=0.350 total time=   0.6s\n",
      "[CV 1/5] END .max_depth=6, min_child_samples=20;, score=0.363 total time=   1.0s\n",
      "[CV 2/5] END .max_depth=6, min_child_samples=20;, score=0.388 total time=   1.0s\n",
      "[CV 3/5] END .max_depth=6, min_child_samples=20;, score=0.309 total time=   1.0s\n",
      "[CV 4/5] END .max_depth=6, min_child_samples=20;, score=0.364 total time=   0.9s\n",
      "[CV 5/5] END .max_depth=6, min_child_samples=20;, score=0.369 total time=   1.0s\n",
      "[CV 1/5] END .max_depth=6, min_child_samples=30;, score=0.378 total time=   0.9s\n",
      "[CV 2/5] END .max_depth=6, min_child_samples=30;, score=0.381 total time=   1.0s\n",
      "[CV 3/5] END .max_depth=6, min_child_samples=30;, score=0.314 total time=   1.0s\n",
      "[CV 4/5] END .max_depth=6, min_child_samples=30;, score=0.351 total time=   0.9s\n",
      "[CV 5/5] END .max_depth=6, min_child_samples=30;, score=0.357 total time=   1.0s\n",
      "[CV 1/5] END .max_depth=6, min_child_samples=40;, score=0.389 total time=   0.9s\n",
      "[CV 2/5] END .max_depth=6, min_child_samples=40;, score=0.364 total time=   1.0s\n",
      "[CV 3/5] END .max_depth=6, min_child_samples=40;, score=0.302 total time=   0.9s\n",
      "[CV 4/5] END .max_depth=6, min_child_samples=40;, score=0.352 total time=   1.0s\n",
      "[CV 5/5] END .max_depth=6, min_child_samples=40;, score=0.355 total time=   1.0s\n",
      "[CV 1/5] END .max_depth=6, min_child_samples=50;, score=0.370 total time=   0.9s\n",
      "[CV 2/5] END .max_depth=6, min_child_samples=50;, score=0.331 total time=   0.9s\n",
      "[CV 3/5] END .max_depth=6, min_child_samples=50;, score=0.303 total time=   0.9s\n",
      "[CV 4/5] END .max_depth=6, min_child_samples=50;, score=0.341 total time=   0.9s\n",
      "[CV 5/5] END .max_depth=6, min_child_samples=50;, score=0.349 total time=   0.9s\n",
      "[CV 1/5] END .max_depth=6, min_child_samples=60;, score=0.349 total time=   0.9s\n",
      "[CV 2/5] END .max_depth=6, min_child_samples=60;, score=0.383 total time=   0.9s\n",
      "[CV 3/5] END .max_depth=6, min_child_samples=60;, score=0.312 total time=   0.9s\n",
      "[CV 4/5] END .max_depth=6, min_child_samples=60;, score=0.350 total time=   0.9s\n",
      "[CV 5/5] END .max_depth=6, min_child_samples=60;, score=0.344 total time=   0.9s\n",
      "[CV 1/5] END .max_depth=6, min_child_samples=70;, score=0.348 total time=   1.0s\n",
      "[CV 2/5] END .max_depth=6, min_child_samples=70;, score=0.363 total time=   0.9s\n",
      "[CV 3/5] END .max_depth=6, min_child_samples=70;, score=0.313 total time=   1.0s\n",
      "[CV 4/5] END .max_depth=6, min_child_samples=70;, score=0.361 total time=   0.9s\n",
      "[CV 5/5] END .max_depth=6, min_child_samples=70;, score=0.361 total time=   0.9s\n",
      "[CV 1/5] END .max_depth=8, min_child_samples=20;, score=0.325 total time=   0.9s\n",
      "[CV 2/5] END .max_depth=8, min_child_samples=20;, score=0.335 total time=   1.0s\n",
      "[CV 3/5] END .max_depth=8, min_child_samples=20;, score=0.289 total time=   1.0s\n",
      "[CV 4/5] END .max_depth=8, min_child_samples=20;, score=0.349 total time=   1.0s\n",
      "[CV 5/5] END .max_depth=8, min_child_samples=20;, score=0.396 total time=   1.0s\n",
      "[CV 1/5] END .max_depth=8, min_child_samples=30;, score=0.355 total time=   1.0s\n",
      "[CV 2/5] END .max_depth=8, min_child_samples=30;, score=0.361 total time=   1.0s\n",
      "[CV 3/5] END .max_depth=8, min_child_samples=30;, score=0.304 total time=   1.0s\n",
      "[CV 4/5] END .max_depth=8, min_child_samples=30;, score=0.350 total time=   1.0s\n",
      "[CV 5/5] END .max_depth=8, min_child_samples=30;, score=0.376 total time=   0.9s\n",
      "[CV 1/5] END .max_depth=8, min_child_samples=40;, score=0.338 total time=   1.0s\n",
      "[CV 2/5] END .max_depth=8, min_child_samples=40;, score=0.378 total time=   1.0s\n",
      "[CV 3/5] END .max_depth=8, min_child_samples=40;, score=0.302 total time=   1.0s\n",
      "[CV 4/5] END .max_depth=8, min_child_samples=40;, score=0.360 total time=   1.0s\n",
      "[CV 5/5] END .max_depth=8, min_child_samples=40;, score=0.398 total time=   1.0s\n",
      "[CV 1/5] END .max_depth=8, min_child_samples=50;, score=0.364 total time=   1.0s\n",
      "[CV 2/5] END .max_depth=8, min_child_samples=50;, score=0.350 total time=   1.0s\n",
      "[CV 3/5] END .max_depth=8, min_child_samples=50;, score=0.290 total time=   1.0s\n",
      "[CV 4/5] END .max_depth=8, min_child_samples=50;, score=0.350 total time=   1.0s\n",
      "[CV 5/5] END .max_depth=8, min_child_samples=50;, score=0.359 total time=   1.0s\n",
      "[CV 1/5] END .max_depth=8, min_child_samples=60;, score=0.327 total time=   1.0s\n",
      "[CV 2/5] END .max_depth=8, min_child_samples=60;, score=0.362 total time=   1.0s\n",
      "[CV 3/5] END .max_depth=8, min_child_samples=60;, score=0.325 total time=   1.0s\n",
      "[CV 4/5] END .max_depth=8, min_child_samples=60;, score=0.326 total time=   1.0s\n",
      "[CV 5/5] END .max_depth=8, min_child_samples=60;, score=0.375 total time=   1.0s\n",
      "[CV 1/5] END .max_depth=8, min_child_samples=70;, score=0.357 total time=   1.0s\n",
      "[CV 2/5] END .max_depth=8, min_child_samples=70;, score=0.392 total time=   0.9s\n",
      "[CV 3/5] END .max_depth=8, min_child_samples=70;, score=0.325 total time=   1.0s\n",
      "[CV 4/5] END .max_depth=8, min_child_samples=70;, score=0.309 total time=   1.0s\n",
      "[CV 5/5] END .max_depth=8, min_child_samples=70;, score=0.385 total time=   0.9s\n"
     ]
    },
    {
     "data": {
      "text/html": [
       "<style>#sk-container-id-20 {color: black;background-color: white;}#sk-container-id-20 pre{padding: 0;}#sk-container-id-20 div.sk-toggleable {background-color: white;}#sk-container-id-20 label.sk-toggleable__label {cursor: pointer;display: block;width: 100%;margin-bottom: 0;padding: 0.3em;box-sizing: border-box;text-align: center;}#sk-container-id-20 label.sk-toggleable__label-arrow:before {content: \"▸\";float: left;margin-right: 0.25em;color: #696969;}#sk-container-id-20 label.sk-toggleable__label-arrow:hover:before {color: black;}#sk-container-id-20 div.sk-estimator:hover label.sk-toggleable__label-arrow:before {color: black;}#sk-container-id-20 div.sk-toggleable__content {max-height: 0;max-width: 0;overflow: hidden;text-align: left;background-color: #f0f8ff;}#sk-container-id-20 div.sk-toggleable__content pre {margin: 0.2em;color: black;border-radius: 0.25em;background-color: #f0f8ff;}#sk-container-id-20 input.sk-toggleable__control:checked~div.sk-toggleable__content {max-height: 200px;max-width: 100%;overflow: auto;}#sk-container-id-20 input.sk-toggleable__control:checked~label.sk-toggleable__label-arrow:before {content: \"▾\";}#sk-container-id-20 div.sk-estimator input.sk-toggleable__control:checked~label.sk-toggleable__label {background-color: #d4ebff;}#sk-container-id-20 div.sk-label input.sk-toggleable__control:checked~label.sk-toggleable__label {background-color: #d4ebff;}#sk-container-id-20 input.sk-hidden--visually {border: 0;clip: rect(1px 1px 1px 1px);clip: rect(1px, 1px, 1px, 1px);height: 1px;margin: -1px;overflow: hidden;padding: 0;position: absolute;width: 1px;}#sk-container-id-20 div.sk-estimator {font-family: monospace;background-color: #f0f8ff;border: 1px dotted black;border-radius: 0.25em;box-sizing: border-box;margin-bottom: 0.5em;}#sk-container-id-20 div.sk-estimator:hover {background-color: #d4ebff;}#sk-container-id-20 div.sk-parallel-item::after {content: \"\";width: 100%;border-bottom: 1px solid gray;flex-grow: 1;}#sk-container-id-20 div.sk-label:hover label.sk-toggleable__label {background-color: #d4ebff;}#sk-container-id-20 div.sk-serial::before {content: \"\";position: absolute;border-left: 1px solid gray;box-sizing: border-box;top: 0;bottom: 0;left: 50%;z-index: 0;}#sk-container-id-20 div.sk-serial {display: flex;flex-direction: column;align-items: center;background-color: white;padding-right: 0.2em;padding-left: 0.2em;position: relative;}#sk-container-id-20 div.sk-item {position: relative;z-index: 1;}#sk-container-id-20 div.sk-parallel {display: flex;align-items: stretch;justify-content: center;background-color: white;position: relative;}#sk-container-id-20 div.sk-item::before, #sk-container-id-20 div.sk-parallel-item::before {content: \"\";position: absolute;border-left: 1px solid gray;box-sizing: border-box;top: 0;bottom: 0;left: 50%;z-index: -1;}#sk-container-id-20 div.sk-parallel-item {display: flex;flex-direction: column;z-index: 1;position: relative;background-color: white;}#sk-container-id-20 div.sk-parallel-item:first-child::after {align-self: flex-end;width: 50%;}#sk-container-id-20 div.sk-parallel-item:last-child::after {align-self: flex-start;width: 50%;}#sk-container-id-20 div.sk-parallel-item:only-child::after {width: 0;}#sk-container-id-20 div.sk-dashed-wrapped {border: 1px dashed gray;margin: 0 0.4em 0.5em 0.4em;box-sizing: border-box;padding-bottom: 0.4em;background-color: white;}#sk-container-id-20 div.sk-label label {font-family: monospace;font-weight: bold;display: inline-block;line-height: 1.2em;}#sk-container-id-20 div.sk-label-container {text-align: center;}#sk-container-id-20 div.sk-container {/* jupyter's `normalize.less` sets `[hidden] { display: none; }` but bootstrap.min.css set `[hidden] { display: none !important; }` so we also need the `!important` here to be able to override the default hidden behavior on the sphinx rendered scikit-learn.org. See: https://github.com/scikit-learn/scikit-learn/issues/21755 */display: inline-block !important;position: relative;}#sk-container-id-20 div.sk-text-repr-fallback {display: none;}</style><div id=\"sk-container-id-20\" class=\"sk-top-container\"><div class=\"sk-text-repr-fallback\"><pre>GridSearchCV(cv=5,\n",
       "             estimator=LGBMClassifier(n_estimators=80, random_state=0,\n",
       "                                      subsample=0.6),\n",
       "             param_grid={&#x27;max_depth&#x27;: range(4, 10, 2),\n",
       "                         &#x27;min_child_samples&#x27;: range(20, 71, 10)},\n",
       "             scoring=&#x27;f1&#x27;, verbose=3)</pre><b>In a Jupyter environment, please rerun this cell to show the HTML representation or trust the notebook. <br />On GitHub, the HTML representation is unable to render, please try loading this page with nbviewer.org.</b></div><div class=\"sk-container\" hidden><div class=\"sk-item sk-dashed-wrapped\"><div class=\"sk-label-container\"><div class=\"sk-label sk-toggleable\"><input class=\"sk-toggleable__control sk-hidden--visually\" id=\"sk-estimator-id-67\" type=\"checkbox\" ><label for=\"sk-estimator-id-67\" class=\"sk-toggleable__label sk-toggleable__label-arrow\">GridSearchCV</label><div class=\"sk-toggleable__content\"><pre>GridSearchCV(cv=5,\n",
       "             estimator=LGBMClassifier(n_estimators=80, random_state=0,\n",
       "                                      subsample=0.6),\n",
       "             param_grid={&#x27;max_depth&#x27;: range(4, 10, 2),\n",
       "                         &#x27;min_child_samples&#x27;: range(20, 71, 10)},\n",
       "             scoring=&#x27;f1&#x27;, verbose=3)</pre></div></div></div><div class=\"sk-parallel\"><div class=\"sk-parallel-item\"><div class=\"sk-item\"><div class=\"sk-label-container\"><div class=\"sk-label sk-toggleable\"><input class=\"sk-toggleable__control sk-hidden--visually\" id=\"sk-estimator-id-68\" type=\"checkbox\" ><label for=\"sk-estimator-id-68\" class=\"sk-toggleable__label sk-toggleable__label-arrow\">estimator: LGBMClassifier</label><div class=\"sk-toggleable__content\"><pre>LGBMClassifier(n_estimators=80, random_state=0, subsample=0.6)</pre></div></div></div><div class=\"sk-serial\"><div class=\"sk-item\"><div class=\"sk-estimator sk-toggleable\"><input class=\"sk-toggleable__control sk-hidden--visually\" id=\"sk-estimator-id-69\" type=\"checkbox\" ><label for=\"sk-estimator-id-69\" class=\"sk-toggleable__label sk-toggleable__label-arrow\">LGBMClassifier</label><div class=\"sk-toggleable__content\"><pre>LGBMClassifier(n_estimators=80, random_state=0, subsample=0.6)</pre></div></div></div></div></div></div></div></div></div></div>"
      ],
      "text/plain": [
       "GridSearchCV(cv=5,\n",
       "             estimator=LGBMClassifier(n_estimators=80, random_state=0,\n",
       "                                      subsample=0.6),\n",
       "             param_grid={'max_depth': range(4, 10, 2),\n",
       "                         'min_child_samples': range(20, 71, 10)},\n",
       "             scoring='f1', verbose=3)"
      ]
     },
     "execution_count": 176,
     "metadata": {},
     "output_type": "execute_result"
    }
   ],
   "source": [
    "label = labels[1]\n",
    "LGBM_tuned_severe_toxic = LGBMClassifier(random_state=0, n_estimators=80, subsample=0.6)\n",
    "gsearch_severe_toxic = GridSearchCV(estimator=LGBM_tuned_severe_toxic, param_grid=param_test_each_label, scoring='f1', cv=5, verbose=3)\n",
    "gsearch_severe_toxic.fit(selected_train[features], selected_train[label])"
   ]
  },
  {
   "cell_type": "code",
   "execution_count": 177,
   "id": "ddeafa6a",
   "metadata": {},
   "outputs": [
    {
     "data": {
      "text/plain": [
       "({'max_depth': 4, 'min_child_samples': 50}, 0.37754315383769904)"
      ]
     },
     "execution_count": 177,
     "metadata": {},
     "output_type": "execute_result"
    }
   ],
   "source": [
    "gsearch_severe_toxic.best_params_, gsearch_severe_toxic.best_score_"
   ]
  },
  {
   "cell_type": "code",
   "execution_count": 179,
   "id": "7107cfbe",
   "metadata": {},
   "outputs": [
    {
     "name": "stdout",
     "output_type": "stream",
     "text": [
      "Model Performance on training set:\n",
      "Accuracy score:  0.9917967550494764\n",
      "Precision score:  0.6388349514563106\n",
      "Recall score:  0.41253918495297803\n",
      "F1 score:  0.5013333333333332\n",
      "Confusion matrix:\n",
      "[[157604    372]\n",
      " [   937    658]]\n",
      "Logarithmic Loss:  0.019306911541052105\n",
      "ROC AUC score:  0.9930876111811278\n",
      "\n",
      "Model Performance on test set:\n",
      "Accuracy score:  0.9917159023414298\n",
      "Precision score:  0.3373253493013972\n",
      "Recall score:  0.4604904632152589\n",
      "F1 score:  0.38940092165898615\n",
      "Confusion matrix:\n",
      "[[63279   332]\n",
      " [  198   169]]\n",
      "Logarithmic Loss:  0.02075891428358873\n",
      "ROC AUC score:  0.9827884591619267\n"
     ]
    }
   ],
   "source": [
    "predictions(gsearch_severe_toxic)"
   ]
  },
  {
   "cell_type": "code",
   "execution_count": 180,
   "id": "0216dd36",
   "metadata": {},
   "outputs": [
    {
     "data": {
      "text/html": [
       "<style>#sk-container-id-21 {color: black;background-color: white;}#sk-container-id-21 pre{padding: 0;}#sk-container-id-21 div.sk-toggleable {background-color: white;}#sk-container-id-21 label.sk-toggleable__label {cursor: pointer;display: block;width: 100%;margin-bottom: 0;padding: 0.3em;box-sizing: border-box;text-align: center;}#sk-container-id-21 label.sk-toggleable__label-arrow:before {content: \"▸\";float: left;margin-right: 0.25em;color: #696969;}#sk-container-id-21 label.sk-toggleable__label-arrow:hover:before {color: black;}#sk-container-id-21 div.sk-estimator:hover label.sk-toggleable__label-arrow:before {color: black;}#sk-container-id-21 div.sk-toggleable__content {max-height: 0;max-width: 0;overflow: hidden;text-align: left;background-color: #f0f8ff;}#sk-container-id-21 div.sk-toggleable__content pre {margin: 0.2em;color: black;border-radius: 0.25em;background-color: #f0f8ff;}#sk-container-id-21 input.sk-toggleable__control:checked~div.sk-toggleable__content {max-height: 200px;max-width: 100%;overflow: auto;}#sk-container-id-21 input.sk-toggleable__control:checked~label.sk-toggleable__label-arrow:before {content: \"▾\";}#sk-container-id-21 div.sk-estimator input.sk-toggleable__control:checked~label.sk-toggleable__label {background-color: #d4ebff;}#sk-container-id-21 div.sk-label input.sk-toggleable__control:checked~label.sk-toggleable__label {background-color: #d4ebff;}#sk-container-id-21 input.sk-hidden--visually {border: 0;clip: rect(1px 1px 1px 1px);clip: rect(1px, 1px, 1px, 1px);height: 1px;margin: -1px;overflow: hidden;padding: 0;position: absolute;width: 1px;}#sk-container-id-21 div.sk-estimator {font-family: monospace;background-color: #f0f8ff;border: 1px dotted black;border-radius: 0.25em;box-sizing: border-box;margin-bottom: 0.5em;}#sk-container-id-21 div.sk-estimator:hover {background-color: #d4ebff;}#sk-container-id-21 div.sk-parallel-item::after {content: \"\";width: 100%;border-bottom: 1px solid gray;flex-grow: 1;}#sk-container-id-21 div.sk-label:hover label.sk-toggleable__label {background-color: #d4ebff;}#sk-container-id-21 div.sk-serial::before {content: \"\";position: absolute;border-left: 1px solid gray;box-sizing: border-box;top: 0;bottom: 0;left: 50%;z-index: 0;}#sk-container-id-21 div.sk-serial {display: flex;flex-direction: column;align-items: center;background-color: white;padding-right: 0.2em;padding-left: 0.2em;position: relative;}#sk-container-id-21 div.sk-item {position: relative;z-index: 1;}#sk-container-id-21 div.sk-parallel {display: flex;align-items: stretch;justify-content: center;background-color: white;position: relative;}#sk-container-id-21 div.sk-item::before, #sk-container-id-21 div.sk-parallel-item::before {content: \"\";position: absolute;border-left: 1px solid gray;box-sizing: border-box;top: 0;bottom: 0;left: 50%;z-index: -1;}#sk-container-id-21 div.sk-parallel-item {display: flex;flex-direction: column;z-index: 1;position: relative;background-color: white;}#sk-container-id-21 div.sk-parallel-item:first-child::after {align-self: flex-end;width: 50%;}#sk-container-id-21 div.sk-parallel-item:last-child::after {align-self: flex-start;width: 50%;}#sk-container-id-21 div.sk-parallel-item:only-child::after {width: 0;}#sk-container-id-21 div.sk-dashed-wrapped {border: 1px dashed gray;margin: 0 0.4em 0.5em 0.4em;box-sizing: border-box;padding-bottom: 0.4em;background-color: white;}#sk-container-id-21 div.sk-label label {font-family: monospace;font-weight: bold;display: inline-block;line-height: 1.2em;}#sk-container-id-21 div.sk-label-container {text-align: center;}#sk-container-id-21 div.sk-container {/* jupyter's `normalize.less` sets `[hidden] { display: none; }` but bootstrap.min.css set `[hidden] { display: none !important; }` so we also need the `!important` here to be able to override the default hidden behavior on the sphinx rendered scikit-learn.org. See: https://github.com/scikit-learn/scikit-learn/issues/21755 */display: inline-block !important;position: relative;}#sk-container-id-21 div.sk-text-repr-fallback {display: none;}</style><div id=\"sk-container-id-21\" class=\"sk-top-container\"><div class=\"sk-text-repr-fallback\"><pre>GridSearchCV(cv=5,\n",
       "             estimator=LGBMClassifier(n_estimators=80, random_state=0,\n",
       "                                      subsample=0.6),\n",
       "             param_grid={&#x27;max_depth&#x27;: range(4, 10, 2),\n",
       "                         &#x27;min_child_samples&#x27;: range(20, 71, 10)},\n",
       "             scoring=&#x27;f1&#x27;, verbose=3)</pre><b>In a Jupyter environment, please rerun this cell to show the HTML representation or trust the notebook. <br />On GitHub, the HTML representation is unable to render, please try loading this page with nbviewer.org.</b></div><div class=\"sk-container\" hidden><div class=\"sk-item sk-dashed-wrapped\"><div class=\"sk-label-container\"><div class=\"sk-label sk-toggleable\"><input class=\"sk-toggleable__control sk-hidden--visually\" id=\"sk-estimator-id-70\" type=\"checkbox\" ><label for=\"sk-estimator-id-70\" class=\"sk-toggleable__label sk-toggleable__label-arrow\">GridSearchCV</label><div class=\"sk-toggleable__content\"><pre>GridSearchCV(cv=5,\n",
       "             estimator=LGBMClassifier(n_estimators=80, random_state=0,\n",
       "                                      subsample=0.6),\n",
       "             param_grid={&#x27;max_depth&#x27;: range(4, 10, 2),\n",
       "                         &#x27;min_child_samples&#x27;: range(20, 71, 10)},\n",
       "             scoring=&#x27;f1&#x27;, verbose=3)</pre></div></div></div><div class=\"sk-parallel\"><div class=\"sk-parallel-item\"><div class=\"sk-item\"><div class=\"sk-label-container\"><div class=\"sk-label sk-toggleable\"><input class=\"sk-toggleable__control sk-hidden--visually\" id=\"sk-estimator-id-71\" type=\"checkbox\" ><label for=\"sk-estimator-id-71\" class=\"sk-toggleable__label sk-toggleable__label-arrow\">estimator: LGBMClassifier</label><div class=\"sk-toggleable__content\"><pre>LGBMClassifier(n_estimators=80, random_state=0, subsample=0.6)</pre></div></div></div><div class=\"sk-serial\"><div class=\"sk-item\"><div class=\"sk-estimator sk-toggleable\"><input class=\"sk-toggleable__control sk-hidden--visually\" id=\"sk-estimator-id-72\" type=\"checkbox\" ><label for=\"sk-estimator-id-72\" class=\"sk-toggleable__label sk-toggleable__label-arrow\">LGBMClassifier</label><div class=\"sk-toggleable__content\"><pre>LGBMClassifier(n_estimators=80, random_state=0, subsample=0.6)</pre></div></div></div></div></div></div></div></div></div></div>"
      ],
      "text/plain": [
       "GridSearchCV(cv=5,\n",
       "             estimator=LGBMClassifier(n_estimators=80, random_state=0,\n",
       "                                      subsample=0.6),\n",
       "             param_grid={'max_depth': range(4, 10, 2),\n",
       "                         'min_child_samples': range(20, 71, 10)},\n",
       "             scoring='f1', verbose=3)"
      ]
     },
     "execution_count": 180,
     "metadata": {},
     "output_type": "execute_result"
    }
   ],
   "source": [
    "gsearch_severe_toxic"
   ]
  },
  {
   "cell_type": "code",
   "execution_count": 183,
   "id": "138e332f",
   "metadata": {},
   "outputs": [
    {
     "data": {
      "text/plain": [
       "['lgbm_severe_toxic.sav']"
      ]
     },
     "execution_count": 183,
     "metadata": {},
     "output_type": "execute_result"
    }
   ],
   "source": [
    "joblib.dump(gsearch_severe_toxic, 'lgbm_severe_toxic.sav')"
   ]
  },
  {
   "cell_type": "markdown",
   "id": "8edf5198",
   "metadata": {},
   "source": [
    "### Obscene Label"
   ]
  },
  {
   "cell_type": "code",
   "execution_count": 184,
   "id": "92b76e66",
   "metadata": {},
   "outputs": [
    {
     "name": "stdout",
     "output_type": "stream",
     "text": [
      "Fitting 5 folds for each of 18 candidates, totalling 90 fits\n",
      "[CV 1/5] END .max_depth=4, min_child_samples=20;, score=0.748 total time=   0.7s\n",
      "[CV 2/5] END .max_depth=4, min_child_samples=20;, score=0.761 total time=   0.7s\n",
      "[CV 3/5] END .max_depth=4, min_child_samples=20;, score=0.762 total time=   0.7s\n",
      "[CV 4/5] END .max_depth=4, min_child_samples=20;, score=0.772 total time=   0.7s\n",
      "[CV 5/5] END .max_depth=4, min_child_samples=20;, score=0.756 total time=   0.6s\n",
      "[CV 1/5] END .max_depth=4, min_child_samples=30;, score=0.751 total time=   0.7s\n",
      "[CV 2/5] END .max_depth=4, min_child_samples=30;, score=0.761 total time=   0.7s\n",
      "[CV 3/5] END .max_depth=4, min_child_samples=30;, score=0.765 total time=   0.7s\n",
      "[CV 4/5] END .max_depth=4, min_child_samples=30;, score=0.772 total time=   0.7s\n",
      "[CV 5/5] END .max_depth=4, min_child_samples=30;, score=0.754 total time=   0.7s\n",
      "[CV 1/5] END .max_depth=4, min_child_samples=40;, score=0.747 total time=   0.7s\n",
      "[CV 2/5] END .max_depth=4, min_child_samples=40;, score=0.762 total time=   0.7s\n",
      "[CV 3/5] END .max_depth=4, min_child_samples=40;, score=0.762 total time=   0.7s\n",
      "[CV 4/5] END .max_depth=4, min_child_samples=40;, score=0.770 total time=   0.7s\n",
      "[CV 5/5] END .max_depth=4, min_child_samples=40;, score=0.755 total time=   0.7s\n",
      "[CV 1/5] END .max_depth=4, min_child_samples=50;, score=0.750 total time=   0.7s\n",
      "[CV 2/5] END .max_depth=4, min_child_samples=50;, score=0.763 total time=   0.7s\n",
      "[CV 3/5] END .max_depth=4, min_child_samples=50;, score=0.761 total time=   0.7s\n",
      "[CV 4/5] END .max_depth=4, min_child_samples=50;, score=0.772 total time=   0.7s\n",
      "[CV 5/5] END .max_depth=4, min_child_samples=50;, score=0.756 total time=   0.7s\n",
      "[CV 1/5] END .max_depth=4, min_child_samples=60;, score=0.748 total time=   0.7s\n",
      "[CV 2/5] END .max_depth=4, min_child_samples=60;, score=0.766 total time=   0.7s\n",
      "[CV 3/5] END .max_depth=4, min_child_samples=60;, score=0.760 total time=   0.7s\n",
      "[CV 4/5] END .max_depth=4, min_child_samples=60;, score=0.774 total time=   0.7s\n",
      "[CV 5/5] END .max_depth=4, min_child_samples=60;, score=0.753 total time=   0.7s\n",
      "[CV 1/5] END .max_depth=4, min_child_samples=70;, score=0.748 total time=   0.7s\n",
      "[CV 2/5] END .max_depth=4, min_child_samples=70;, score=0.763 total time=   0.7s\n",
      "[CV 3/5] END .max_depth=4, min_child_samples=70;, score=0.764 total time=   0.7s\n",
      "[CV 4/5] END .max_depth=4, min_child_samples=70;, score=0.773 total time=   0.7s\n",
      "[CV 5/5] END .max_depth=4, min_child_samples=70;, score=0.754 total time=   0.7s\n",
      "[CV 1/5] END .max_depth=6, min_child_samples=20;, score=0.759 total time=   1.0s\n",
      "[CV 2/5] END .max_depth=6, min_child_samples=20;, score=0.758 total time=   1.0s\n",
      "[CV 3/5] END .max_depth=6, min_child_samples=20;, score=0.767 total time=   1.0s\n",
      "[CV 4/5] END .max_depth=6, min_child_samples=20;, score=0.770 total time=   1.0s\n",
      "[CV 5/5] END .max_depth=6, min_child_samples=20;, score=0.758 total time=   1.0s\n",
      "[CV 1/5] END .max_depth=6, min_child_samples=30;, score=0.755 total time=   1.0s\n",
      "[CV 2/5] END .max_depth=6, min_child_samples=30;, score=0.763 total time=   1.0s\n",
      "[CV 3/5] END .max_depth=6, min_child_samples=30;, score=0.765 total time=   1.0s\n",
      "[CV 4/5] END .max_depth=6, min_child_samples=30;, score=0.775 total time=   1.0s\n",
      "[CV 5/5] END .max_depth=6, min_child_samples=30;, score=0.757 total time=   1.0s\n",
      "[CV 1/5] END .max_depth=6, min_child_samples=40;, score=0.753 total time=   1.0s\n",
      "[CV 2/5] END .max_depth=6, min_child_samples=40;, score=0.765 total time=   1.0s\n",
      "[CV 3/5] END .max_depth=6, min_child_samples=40;, score=0.767 total time=   1.0s\n",
      "[CV 4/5] END .max_depth=6, min_child_samples=40;, score=0.777 total time=   1.0s\n",
      "[CV 5/5] END .max_depth=6, min_child_samples=40;, score=0.756 total time=   1.0s\n",
      "[CV 1/5] END .max_depth=6, min_child_samples=50;, score=0.750 total time=   1.0s\n",
      "[CV 2/5] END .max_depth=6, min_child_samples=50;, score=0.765 total time=   1.0s\n",
      "[CV 3/5] END .max_depth=6, min_child_samples=50;, score=0.767 total time=   1.0s\n",
      "[CV 4/5] END .max_depth=6, min_child_samples=50;, score=0.775 total time=   1.0s\n",
      "[CV 5/5] END .max_depth=6, min_child_samples=50;, score=0.752 total time=   0.9s\n",
      "[CV 1/5] END .max_depth=6, min_child_samples=60;, score=0.754 total time=   1.0s\n",
      "[CV 2/5] END .max_depth=6, min_child_samples=60;, score=0.764 total time=   1.0s\n",
      "[CV 3/5] END .max_depth=6, min_child_samples=60;, score=0.766 total time=   1.0s\n",
      "[CV 4/5] END .max_depth=6, min_child_samples=60;, score=0.777 total time=   1.0s\n",
      "[CV 5/5] END .max_depth=6, min_child_samples=60;, score=0.755 total time=   1.0s\n",
      "[CV 1/5] END .max_depth=6, min_child_samples=70;, score=0.756 total time=   1.0s\n",
      "[CV 2/5] END .max_depth=6, min_child_samples=70;, score=0.764 total time=   1.0s\n",
      "[CV 3/5] END .max_depth=6, min_child_samples=70;, score=0.766 total time=   1.0s\n",
      "[CV 4/5] END .max_depth=6, min_child_samples=70;, score=0.775 total time=   1.0s\n",
      "[CV 5/5] END .max_depth=6, min_child_samples=70;, score=0.748 total time=   1.0s\n",
      "[CV 1/5] END .max_depth=8, min_child_samples=20;, score=0.755 total time=   1.1s\n",
      "[CV 2/5] END .max_depth=8, min_child_samples=20;, score=0.764 total time=   1.1s\n",
      "[CV 3/5] END .max_depth=8, min_child_samples=20;, score=0.765 total time=   1.1s\n",
      "[CV 4/5] END .max_depth=8, min_child_samples=20;, score=0.770 total time=   1.1s\n",
      "[CV 5/5] END .max_depth=8, min_child_samples=20;, score=0.753 total time=   1.1s\n",
      "[CV 1/5] END .max_depth=8, min_child_samples=30;, score=0.753 total time=   1.1s\n",
      "[CV 2/5] END .max_depth=8, min_child_samples=30;, score=0.761 total time=   1.1s\n",
      "[CV 3/5] END .max_depth=8, min_child_samples=30;, score=0.764 total time=   1.1s\n",
      "[CV 4/5] END .max_depth=8, min_child_samples=30;, score=0.773 total time=   1.1s\n",
      "[CV 5/5] END .max_depth=8, min_child_samples=30;, score=0.755 total time=   1.1s\n",
      "[CV 1/5] END .max_depth=8, min_child_samples=40;, score=0.754 total time=   1.1s\n",
      "[CV 2/5] END .max_depth=8, min_child_samples=40;, score=0.757 total time=   1.1s\n",
      "[CV 3/5] END .max_depth=8, min_child_samples=40;, score=0.762 total time=   1.1s\n",
      "[CV 4/5] END .max_depth=8, min_child_samples=40;, score=0.772 total time=   1.1s\n",
      "[CV 5/5] END .max_depth=8, min_child_samples=40;, score=0.754 total time=   1.1s\n",
      "[CV 1/5] END .max_depth=8, min_child_samples=50;, score=0.756 total time=   1.1s\n",
      "[CV 2/5] END .max_depth=8, min_child_samples=50;, score=0.758 total time=   1.1s\n",
      "[CV 3/5] END .max_depth=8, min_child_samples=50;, score=0.767 total time=   1.1s\n",
      "[CV 4/5] END .max_depth=8, min_child_samples=50;, score=0.772 total time=   1.1s\n",
      "[CV 5/5] END .max_depth=8, min_child_samples=50;, score=0.754 total time=   1.1s\n",
      "[CV 1/5] END .max_depth=8, min_child_samples=60;, score=0.754 total time=   1.1s\n",
      "[CV 2/5] END .max_depth=8, min_child_samples=60;, score=0.762 total time=   1.1s\n",
      "[CV 3/5] END .max_depth=8, min_child_samples=60;, score=0.764 total time=   1.1s\n",
      "[CV 4/5] END .max_depth=8, min_child_samples=60;, score=0.775 total time=   1.1s\n",
      "[CV 5/5] END .max_depth=8, min_child_samples=60;, score=0.753 total time=   1.1s\n",
      "[CV 1/5] END .max_depth=8, min_child_samples=70;, score=0.753 total time=   1.0s\n",
      "[CV 2/5] END .max_depth=8, min_child_samples=70;, score=0.761 total time=   1.0s\n",
      "[CV 3/5] END .max_depth=8, min_child_samples=70;, score=0.770 total time=   1.1s\n",
      "[CV 4/5] END .max_depth=8, min_child_samples=70;, score=0.772 total time=   1.1s\n",
      "[CV 5/5] END .max_depth=8, min_child_samples=70;, score=0.748 total time=   1.1s\n"
     ]
    },
    {
     "data": {
      "text/html": [
       "<style>#sk-container-id-22 {color: black;background-color: white;}#sk-container-id-22 pre{padding: 0;}#sk-container-id-22 div.sk-toggleable {background-color: white;}#sk-container-id-22 label.sk-toggleable__label {cursor: pointer;display: block;width: 100%;margin-bottom: 0;padding: 0.3em;box-sizing: border-box;text-align: center;}#sk-container-id-22 label.sk-toggleable__label-arrow:before {content: \"▸\";float: left;margin-right: 0.25em;color: #696969;}#sk-container-id-22 label.sk-toggleable__label-arrow:hover:before {color: black;}#sk-container-id-22 div.sk-estimator:hover label.sk-toggleable__label-arrow:before {color: black;}#sk-container-id-22 div.sk-toggleable__content {max-height: 0;max-width: 0;overflow: hidden;text-align: left;background-color: #f0f8ff;}#sk-container-id-22 div.sk-toggleable__content pre {margin: 0.2em;color: black;border-radius: 0.25em;background-color: #f0f8ff;}#sk-container-id-22 input.sk-toggleable__control:checked~div.sk-toggleable__content {max-height: 200px;max-width: 100%;overflow: auto;}#sk-container-id-22 input.sk-toggleable__control:checked~label.sk-toggleable__label-arrow:before {content: \"▾\";}#sk-container-id-22 div.sk-estimator input.sk-toggleable__control:checked~label.sk-toggleable__label {background-color: #d4ebff;}#sk-container-id-22 div.sk-label input.sk-toggleable__control:checked~label.sk-toggleable__label {background-color: #d4ebff;}#sk-container-id-22 input.sk-hidden--visually {border: 0;clip: rect(1px 1px 1px 1px);clip: rect(1px, 1px, 1px, 1px);height: 1px;margin: -1px;overflow: hidden;padding: 0;position: absolute;width: 1px;}#sk-container-id-22 div.sk-estimator {font-family: monospace;background-color: #f0f8ff;border: 1px dotted black;border-radius: 0.25em;box-sizing: border-box;margin-bottom: 0.5em;}#sk-container-id-22 div.sk-estimator:hover {background-color: #d4ebff;}#sk-container-id-22 div.sk-parallel-item::after {content: \"\";width: 100%;border-bottom: 1px solid gray;flex-grow: 1;}#sk-container-id-22 div.sk-label:hover label.sk-toggleable__label {background-color: #d4ebff;}#sk-container-id-22 div.sk-serial::before {content: \"\";position: absolute;border-left: 1px solid gray;box-sizing: border-box;top: 0;bottom: 0;left: 50%;z-index: 0;}#sk-container-id-22 div.sk-serial {display: flex;flex-direction: column;align-items: center;background-color: white;padding-right: 0.2em;padding-left: 0.2em;position: relative;}#sk-container-id-22 div.sk-item {position: relative;z-index: 1;}#sk-container-id-22 div.sk-parallel {display: flex;align-items: stretch;justify-content: center;background-color: white;position: relative;}#sk-container-id-22 div.sk-item::before, #sk-container-id-22 div.sk-parallel-item::before {content: \"\";position: absolute;border-left: 1px solid gray;box-sizing: border-box;top: 0;bottom: 0;left: 50%;z-index: -1;}#sk-container-id-22 div.sk-parallel-item {display: flex;flex-direction: column;z-index: 1;position: relative;background-color: white;}#sk-container-id-22 div.sk-parallel-item:first-child::after {align-self: flex-end;width: 50%;}#sk-container-id-22 div.sk-parallel-item:last-child::after {align-self: flex-start;width: 50%;}#sk-container-id-22 div.sk-parallel-item:only-child::after {width: 0;}#sk-container-id-22 div.sk-dashed-wrapped {border: 1px dashed gray;margin: 0 0.4em 0.5em 0.4em;box-sizing: border-box;padding-bottom: 0.4em;background-color: white;}#sk-container-id-22 div.sk-label label {font-family: monospace;font-weight: bold;display: inline-block;line-height: 1.2em;}#sk-container-id-22 div.sk-label-container {text-align: center;}#sk-container-id-22 div.sk-container {/* jupyter's `normalize.less` sets `[hidden] { display: none; }` but bootstrap.min.css set `[hidden] { display: none !important; }` so we also need the `!important` here to be able to override the default hidden behavior on the sphinx rendered scikit-learn.org. See: https://github.com/scikit-learn/scikit-learn/issues/21755 */display: inline-block !important;position: relative;}#sk-container-id-22 div.sk-text-repr-fallback {display: none;}</style><div id=\"sk-container-id-22\" class=\"sk-top-container\"><div class=\"sk-text-repr-fallback\"><pre>GridSearchCV(cv=5,\n",
       "             estimator=LGBMClassifier(n_estimators=80, random_state=0,\n",
       "                                      subsample=0.6),\n",
       "             param_grid={&#x27;max_depth&#x27;: range(4, 10, 2),\n",
       "                         &#x27;min_child_samples&#x27;: range(20, 71, 10)},\n",
       "             scoring=&#x27;f1&#x27;, verbose=3)</pre><b>In a Jupyter environment, please rerun this cell to show the HTML representation or trust the notebook. <br />On GitHub, the HTML representation is unable to render, please try loading this page with nbviewer.org.</b></div><div class=\"sk-container\" hidden><div class=\"sk-item sk-dashed-wrapped\"><div class=\"sk-label-container\"><div class=\"sk-label sk-toggleable\"><input class=\"sk-toggleable__control sk-hidden--visually\" id=\"sk-estimator-id-73\" type=\"checkbox\" ><label for=\"sk-estimator-id-73\" class=\"sk-toggleable__label sk-toggleable__label-arrow\">GridSearchCV</label><div class=\"sk-toggleable__content\"><pre>GridSearchCV(cv=5,\n",
       "             estimator=LGBMClassifier(n_estimators=80, random_state=0,\n",
       "                                      subsample=0.6),\n",
       "             param_grid={&#x27;max_depth&#x27;: range(4, 10, 2),\n",
       "                         &#x27;min_child_samples&#x27;: range(20, 71, 10)},\n",
       "             scoring=&#x27;f1&#x27;, verbose=3)</pre></div></div></div><div class=\"sk-parallel\"><div class=\"sk-parallel-item\"><div class=\"sk-item\"><div class=\"sk-label-container\"><div class=\"sk-label sk-toggleable\"><input class=\"sk-toggleable__control sk-hidden--visually\" id=\"sk-estimator-id-74\" type=\"checkbox\" ><label for=\"sk-estimator-id-74\" class=\"sk-toggleable__label sk-toggleable__label-arrow\">estimator: LGBMClassifier</label><div class=\"sk-toggleable__content\"><pre>LGBMClassifier(n_estimators=80, random_state=0, subsample=0.6)</pre></div></div></div><div class=\"sk-serial\"><div class=\"sk-item\"><div class=\"sk-estimator sk-toggleable\"><input class=\"sk-toggleable__control sk-hidden--visually\" id=\"sk-estimator-id-75\" type=\"checkbox\" ><label for=\"sk-estimator-id-75\" class=\"sk-toggleable__label sk-toggleable__label-arrow\">LGBMClassifier</label><div class=\"sk-toggleable__content\"><pre>LGBMClassifier(n_estimators=80, random_state=0, subsample=0.6)</pre></div></div></div></div></div></div></div></div></div></div>"
      ],
      "text/plain": [
       "GridSearchCV(cv=5,\n",
       "             estimator=LGBMClassifier(n_estimators=80, random_state=0,\n",
       "                                      subsample=0.6),\n",
       "             param_grid={'max_depth': range(4, 10, 2),\n",
       "                         'min_child_samples': range(20, 71, 10)},\n",
       "             scoring='f1', verbose=3)"
      ]
     },
     "execution_count": 184,
     "metadata": {},
     "output_type": "execute_result"
    }
   ],
   "source": [
    "label = labels[2]\n",
    "LGBM_tuned_obscene = LGBMClassifier(random_state=0, n_estimators=80, subsample=0.6)\n",
    "gsearch_obscene = GridSearchCV(estimator=LGBM_tuned_severe_toxic, param_grid=param_test_each_label, scoring='f1', cv=5, verbose=3)\n",
    "gsearch_obscene.fit(selected_train[features], selected_train[label])"
   ]
  },
  {
   "cell_type": "code",
   "execution_count": 185,
   "id": "1583d3a1",
   "metadata": {},
   "outputs": [
    {
     "data": {
      "text/plain": [
       "({'max_depth': 6, 'min_child_samples': 40}, 0.7636583840792126)"
      ]
     },
     "execution_count": 185,
     "metadata": {},
     "output_type": "execute_result"
    }
   ],
   "source": [
    "gsearch_obscene.best_params_, gsearch_obscene.best_score_"
   ]
  },
  {
   "cell_type": "code",
   "execution_count": 186,
   "id": "750e36f7",
   "metadata": {},
   "outputs": [
    {
     "name": "stdout",
     "output_type": "stream",
     "text": [
      "Model Performance on training set:\n",
      "Accuracy score:  0.9807671820067556\n",
      "Precision score:  0.8547876549723028\n",
      "Recall score:  0.767073026393656\n",
      "F1 score:  0.8085584180649991\n",
      "Confusion matrix:\n",
      "[[150021   1101]\n",
      " [  1968   6481]]\n",
      "Logarithmic Loss:  0.05145552473958767\n",
      "ROC AUC score:  0.9897485093741291\n",
      "\n",
      "Model Performance on test set:\n",
      "Accuracy score:  0.957563537466004\n",
      "Precision score:  0.6139654367118169\n",
      "Recall score:  0.7122730967217556\n",
      "F1 score:  0.6594757305907438\n",
      "Confusion matrix:\n",
      "[[58634  1653]\n",
      " [ 1062  2629]]\n",
      "Logarithmic Loss:  0.10232141433006615\n",
      "ROC AUC score:  0.9658726145559758\n"
     ]
    }
   ],
   "source": [
    "predictions(gsearch_obscene)"
   ]
  },
  {
   "cell_type": "code",
   "execution_count": 187,
   "id": "de4dacb5",
   "metadata": {},
   "outputs": [
    {
     "data": {
      "text/html": [
       "<style>#sk-container-id-23 {color: black;background-color: white;}#sk-container-id-23 pre{padding: 0;}#sk-container-id-23 div.sk-toggleable {background-color: white;}#sk-container-id-23 label.sk-toggleable__label {cursor: pointer;display: block;width: 100%;margin-bottom: 0;padding: 0.3em;box-sizing: border-box;text-align: center;}#sk-container-id-23 label.sk-toggleable__label-arrow:before {content: \"▸\";float: left;margin-right: 0.25em;color: #696969;}#sk-container-id-23 label.sk-toggleable__label-arrow:hover:before {color: black;}#sk-container-id-23 div.sk-estimator:hover label.sk-toggleable__label-arrow:before {color: black;}#sk-container-id-23 div.sk-toggleable__content {max-height: 0;max-width: 0;overflow: hidden;text-align: left;background-color: #f0f8ff;}#sk-container-id-23 div.sk-toggleable__content pre {margin: 0.2em;color: black;border-radius: 0.25em;background-color: #f0f8ff;}#sk-container-id-23 input.sk-toggleable__control:checked~div.sk-toggleable__content {max-height: 200px;max-width: 100%;overflow: auto;}#sk-container-id-23 input.sk-toggleable__control:checked~label.sk-toggleable__label-arrow:before {content: \"▾\";}#sk-container-id-23 div.sk-estimator input.sk-toggleable__control:checked~label.sk-toggleable__label {background-color: #d4ebff;}#sk-container-id-23 div.sk-label input.sk-toggleable__control:checked~label.sk-toggleable__label {background-color: #d4ebff;}#sk-container-id-23 input.sk-hidden--visually {border: 0;clip: rect(1px 1px 1px 1px);clip: rect(1px, 1px, 1px, 1px);height: 1px;margin: -1px;overflow: hidden;padding: 0;position: absolute;width: 1px;}#sk-container-id-23 div.sk-estimator {font-family: monospace;background-color: #f0f8ff;border: 1px dotted black;border-radius: 0.25em;box-sizing: border-box;margin-bottom: 0.5em;}#sk-container-id-23 div.sk-estimator:hover {background-color: #d4ebff;}#sk-container-id-23 div.sk-parallel-item::after {content: \"\";width: 100%;border-bottom: 1px solid gray;flex-grow: 1;}#sk-container-id-23 div.sk-label:hover label.sk-toggleable__label {background-color: #d4ebff;}#sk-container-id-23 div.sk-serial::before {content: \"\";position: absolute;border-left: 1px solid gray;box-sizing: border-box;top: 0;bottom: 0;left: 50%;z-index: 0;}#sk-container-id-23 div.sk-serial {display: flex;flex-direction: column;align-items: center;background-color: white;padding-right: 0.2em;padding-left: 0.2em;position: relative;}#sk-container-id-23 div.sk-item {position: relative;z-index: 1;}#sk-container-id-23 div.sk-parallel {display: flex;align-items: stretch;justify-content: center;background-color: white;position: relative;}#sk-container-id-23 div.sk-item::before, #sk-container-id-23 div.sk-parallel-item::before {content: \"\";position: absolute;border-left: 1px solid gray;box-sizing: border-box;top: 0;bottom: 0;left: 50%;z-index: -1;}#sk-container-id-23 div.sk-parallel-item {display: flex;flex-direction: column;z-index: 1;position: relative;background-color: white;}#sk-container-id-23 div.sk-parallel-item:first-child::after {align-self: flex-end;width: 50%;}#sk-container-id-23 div.sk-parallel-item:last-child::after {align-self: flex-start;width: 50%;}#sk-container-id-23 div.sk-parallel-item:only-child::after {width: 0;}#sk-container-id-23 div.sk-dashed-wrapped {border: 1px dashed gray;margin: 0 0.4em 0.5em 0.4em;box-sizing: border-box;padding-bottom: 0.4em;background-color: white;}#sk-container-id-23 div.sk-label label {font-family: monospace;font-weight: bold;display: inline-block;line-height: 1.2em;}#sk-container-id-23 div.sk-label-container {text-align: center;}#sk-container-id-23 div.sk-container {/* jupyter's `normalize.less` sets `[hidden] { display: none; }` but bootstrap.min.css set `[hidden] { display: none !important; }` so we also need the `!important` here to be able to override the default hidden behavior on the sphinx rendered scikit-learn.org. See: https://github.com/scikit-learn/scikit-learn/issues/21755 */display: inline-block !important;position: relative;}#sk-container-id-23 div.sk-text-repr-fallback {display: none;}</style><div id=\"sk-container-id-23\" class=\"sk-top-container\"><div class=\"sk-text-repr-fallback\"><pre>GridSearchCV(cv=5,\n",
       "             estimator=LGBMClassifier(n_estimators=80, random_state=0,\n",
       "                                      subsample=0.6),\n",
       "             param_grid={&#x27;max_depth&#x27;: range(4, 10, 2),\n",
       "                         &#x27;min_child_samples&#x27;: range(20, 71, 10)},\n",
       "             scoring=&#x27;f1&#x27;, verbose=3)</pre><b>In a Jupyter environment, please rerun this cell to show the HTML representation or trust the notebook. <br />On GitHub, the HTML representation is unable to render, please try loading this page with nbviewer.org.</b></div><div class=\"sk-container\" hidden><div class=\"sk-item sk-dashed-wrapped\"><div class=\"sk-label-container\"><div class=\"sk-label sk-toggleable\"><input class=\"sk-toggleable__control sk-hidden--visually\" id=\"sk-estimator-id-76\" type=\"checkbox\" ><label for=\"sk-estimator-id-76\" class=\"sk-toggleable__label sk-toggleable__label-arrow\">GridSearchCV</label><div class=\"sk-toggleable__content\"><pre>GridSearchCV(cv=5,\n",
       "             estimator=LGBMClassifier(n_estimators=80, random_state=0,\n",
       "                                      subsample=0.6),\n",
       "             param_grid={&#x27;max_depth&#x27;: range(4, 10, 2),\n",
       "                         &#x27;min_child_samples&#x27;: range(20, 71, 10)},\n",
       "             scoring=&#x27;f1&#x27;, verbose=3)</pre></div></div></div><div class=\"sk-parallel\"><div class=\"sk-parallel-item\"><div class=\"sk-item\"><div class=\"sk-label-container\"><div class=\"sk-label sk-toggleable\"><input class=\"sk-toggleable__control sk-hidden--visually\" id=\"sk-estimator-id-77\" type=\"checkbox\" ><label for=\"sk-estimator-id-77\" class=\"sk-toggleable__label sk-toggleable__label-arrow\">estimator: LGBMClassifier</label><div class=\"sk-toggleable__content\"><pre>LGBMClassifier(n_estimators=80, random_state=0, subsample=0.6)</pre></div></div></div><div class=\"sk-serial\"><div class=\"sk-item\"><div class=\"sk-estimator sk-toggleable\"><input class=\"sk-toggleable__control sk-hidden--visually\" id=\"sk-estimator-id-78\" type=\"checkbox\" ><label for=\"sk-estimator-id-78\" class=\"sk-toggleable__label sk-toggleable__label-arrow\">LGBMClassifier</label><div class=\"sk-toggleable__content\"><pre>LGBMClassifier(n_estimators=80, random_state=0, subsample=0.6)</pre></div></div></div></div></div></div></div></div></div></div>"
      ],
      "text/plain": [
       "GridSearchCV(cv=5,\n",
       "             estimator=LGBMClassifier(n_estimators=80, random_state=0,\n",
       "                                      subsample=0.6),\n",
       "             param_grid={'max_depth': range(4, 10, 2),\n",
       "                         'min_child_samples': range(20, 71, 10)},\n",
       "             scoring='f1', verbose=3)"
      ]
     },
     "execution_count": 187,
     "metadata": {},
     "output_type": "execute_result"
    }
   ],
   "source": [
    "gsearch_obscene"
   ]
  },
  {
   "cell_type": "code",
   "execution_count": 188,
   "id": "c02050d8",
   "metadata": {},
   "outputs": [
    {
     "data": {
      "text/plain": [
       "['lgbm_obscene.sav']"
      ]
     },
     "execution_count": 188,
     "metadata": {},
     "output_type": "execute_result"
    }
   ],
   "source": [
    "joblib.dump(gsearch_obscene, 'lgbm_obscene.sav')"
   ]
  },
  {
   "cell_type": "markdown",
   "id": "07c80a00",
   "metadata": {},
   "source": [
    "### Threat Label"
   ]
  },
  {
   "cell_type": "code",
   "execution_count": 189,
   "id": "4e08cc38",
   "metadata": {},
   "outputs": [
    {
     "name": "stdout",
     "output_type": "stream",
     "text": [
      "Fitting 5 folds for each of 18 candidates, totalling 90 fits\n",
      "[CV 1/5] END .max_depth=4, min_child_samples=20;, score=0.266 total time=   0.7s\n",
      "[CV 2/5] END .max_depth=4, min_child_samples=20;, score=0.258 total time=   0.7s\n",
      "[CV 3/5] END .max_depth=4, min_child_samples=20;, score=0.239 total time=   0.7s\n",
      "[CV 4/5] END .max_depth=4, min_child_samples=20;, score=0.117 total time=   0.7s\n",
      "[CV 5/5] END .max_depth=4, min_child_samples=20;, score=0.221 total time=   0.7s\n",
      "[CV 1/5] END .max_depth=4, min_child_samples=30;, score=0.252 total time=   0.7s\n",
      "[CV 2/5] END .max_depth=4, min_child_samples=30;, score=0.224 total time=   0.7s\n",
      "[CV 3/5] END .max_depth=4, min_child_samples=30;, score=0.237 total time=   0.6s\n",
      "[CV 4/5] END .max_depth=4, min_child_samples=30;, score=0.147 total time=   0.6s\n",
      "[CV 5/5] END .max_depth=4, min_child_samples=30;, score=0.217 total time=   0.7s\n",
      "[CV 1/5] END .max_depth=4, min_child_samples=40;, score=0.278 total time=   0.6s\n",
      "[CV 2/5] END .max_depth=4, min_child_samples=40;, score=0.280 total time=   0.6s\n",
      "[CV 3/5] END .max_depth=4, min_child_samples=40;, score=0.235 total time=   0.6s\n",
      "[CV 4/5] END .max_depth=4, min_child_samples=40;, score=0.163 total time=   0.7s\n",
      "[CV 5/5] END .max_depth=4, min_child_samples=40;, score=0.203 total time=   0.6s\n",
      "[CV 1/5] END .max_depth=4, min_child_samples=50;, score=0.276 total time=   0.6s\n",
      "[CV 2/5] END .max_depth=4, min_child_samples=50;, score=0.242 total time=   0.7s\n",
      "[CV 3/5] END .max_depth=4, min_child_samples=50;, score=0.238 total time=   0.6s\n",
      "[CV 4/5] END .max_depth=4, min_child_samples=50;, score=0.167 total time=   0.7s\n",
      "[CV 5/5] END .max_depth=4, min_child_samples=50;, score=0.209 total time=   0.6s\n",
      "[CV 1/5] END .max_depth=4, min_child_samples=60;, score=0.267 total time=   0.6s\n",
      "[CV 2/5] END .max_depth=4, min_child_samples=60;, score=0.274 total time=   0.6s\n",
      "[CV 3/5] END .max_depth=4, min_child_samples=60;, score=0.250 total time=   0.6s\n",
      "[CV 4/5] END .max_depth=4, min_child_samples=60;, score=0.186 total time=   0.6s\n",
      "[CV 5/5] END .max_depth=4, min_child_samples=60;, score=0.215 total time=   0.7s\n",
      "[CV 1/5] END .max_depth=4, min_child_samples=70;, score=0.276 total time=   0.6s\n",
      "[CV 2/5] END .max_depth=4, min_child_samples=70;, score=0.221 total time=   0.7s\n",
      "[CV 3/5] END .max_depth=4, min_child_samples=70;, score=0.227 total time=   0.6s\n",
      "[CV 4/5] END .max_depth=4, min_child_samples=70;, score=0.175 total time=   0.6s\n",
      "[CV 5/5] END .max_depth=4, min_child_samples=70;, score=0.237 total time=   0.7s\n",
      "[CV 1/5] END .max_depth=6, min_child_samples=20;, score=0.204 total time=   1.0s\n",
      "[CV 2/5] END .max_depth=6, min_child_samples=20;, score=0.240 total time=   0.9s\n",
      "[CV 3/5] END .max_depth=6, min_child_samples=20;, score=0.238 total time=   1.0s\n",
      "[CV 4/5] END .max_depth=6, min_child_samples=20;, score=0.190 total time=   1.0s\n",
      "[CV 5/5] END .max_depth=6, min_child_samples=20;, score=0.154 total time=   1.0s\n",
      "[CV 1/5] END .max_depth=6, min_child_samples=30;, score=0.238 total time=   1.0s\n",
      "[CV 2/5] END .max_depth=6, min_child_samples=30;, score=0.237 total time=   1.0s\n",
      "[CV 3/5] END .max_depth=6, min_child_samples=30;, score=0.163 total time=   1.0s\n",
      "[CV 4/5] END .max_depth=6, min_child_samples=30;, score=0.211 total time=   1.0s\n",
      "[CV 5/5] END .max_depth=6, min_child_samples=30;, score=0.250 total time=   1.0s\n",
      "[CV 1/5] END .max_depth=6, min_child_samples=40;, score=0.208 total time=   1.0s\n",
      "[CV 2/5] END .max_depth=6, min_child_samples=40;, score=0.256 total time=   1.0s\n",
      "[CV 3/5] END .max_depth=6, min_child_samples=40;, score=0.231 total time=   1.0s\n",
      "[CV 4/5] END .max_depth=6, min_child_samples=40;, score=0.189 total time=   1.0s\n",
      "[CV 5/5] END .max_depth=6, min_child_samples=40;, score=0.280 total time=   1.0s\n",
      "[CV 1/5] END .max_depth=6, min_child_samples=50;, score=0.266 total time=   1.0s\n",
      "[CV 2/5] END .max_depth=6, min_child_samples=50;, score=0.286 total time=   1.0s\n",
      "[CV 3/5] END .max_depth=6, min_child_samples=50;, score=0.257 total time=   1.0s\n",
      "[CV 4/5] END .max_depth=6, min_child_samples=50;, score=0.204 total time=   0.9s\n",
      "[CV 5/5] END .max_depth=6, min_child_samples=50;, score=0.248 total time=   1.0s\n",
      "[CV 1/5] END .max_depth=6, min_child_samples=60;, score=0.246 total time=   1.0s\n",
      "[CV 2/5] END .max_depth=6, min_child_samples=60;, score=0.259 total time=   1.0s\n",
      "[CV 3/5] END .max_depth=6, min_child_samples=60;, score=0.265 total time=   1.0s\n",
      "[CV 4/5] END .max_depth=6, min_child_samples=60;, score=0.170 total time=   1.0s\n",
      "[CV 5/5] END .max_depth=6, min_child_samples=60;, score=0.236 total time=   1.0s\n",
      "[CV 1/5] END .max_depth=6, min_child_samples=70;, score=0.239 total time=   1.0s\n",
      "[CV 2/5] END .max_depth=6, min_child_samples=70;, score=0.235 total time=   1.0s\n",
      "[CV 3/5] END .max_depth=6, min_child_samples=70;, score=0.235 total time=   1.0s\n",
      "[CV 4/5] END .max_depth=6, min_child_samples=70;, score=0.222 total time=   1.0s\n",
      "[CV 5/5] END .max_depth=6, min_child_samples=70;, score=0.210 total time=   1.0s\n",
      "[CV 1/5] END .max_depth=8, min_child_samples=20;, score=0.221 total time=   1.0s\n",
      "[CV 2/5] END .max_depth=8, min_child_samples=20;, score=0.206 total time=   1.0s\n",
      "[CV 3/5] END .max_depth=8, min_child_samples=20;, score=0.243 total time=   1.0s\n",
      "[CV 4/5] END .max_depth=8, min_child_samples=20;, score=0.183 total time=   1.0s\n",
      "[CV 5/5] END .max_depth=8, min_child_samples=20;, score=0.187 total time=   1.0s\n",
      "[CV 1/5] END .max_depth=8, min_child_samples=30;, score=0.215 total time=   1.0s\n",
      "[CV 2/5] END .max_depth=8, min_child_samples=30;, score=0.274 total time=   1.0s\n",
      "[CV 3/5] END .max_depth=8, min_child_samples=30;, score=0.259 total time=   1.0s\n",
      "[CV 4/5] END .max_depth=8, min_child_samples=30;, score=0.236 total time=   1.1s\n",
      "[CV 5/5] END .max_depth=8, min_child_samples=30;, score=0.220 total time=   1.0s\n",
      "[CV 1/5] END .max_depth=8, min_child_samples=40;, score=0.245 total time=   1.0s\n",
      "[CV 2/5] END .max_depth=8, min_child_samples=40;, score=0.267 total time=   1.0s\n",
      "[CV 3/5] END .max_depth=8, min_child_samples=40;, score=0.267 total time=   1.0s\n",
      "[CV 4/5] END .max_depth=8, min_child_samples=40;, score=0.211 total time=   1.0s\n",
      "[CV 5/5] END .max_depth=8, min_child_samples=40;, score=0.231 total time=   1.0s\n",
      "[CV 1/5] END .max_depth=8, min_child_samples=50;, score=0.247 total time=   1.0s\n",
      "[CV 2/5] END .max_depth=8, min_child_samples=50;, score=0.256 total time=   1.0s\n",
      "[CV 3/5] END .max_depth=8, min_child_samples=50;, score=0.299 total time=   1.0s\n",
      "[CV 4/5] END .max_depth=8, min_child_samples=50;, score=0.228 total time=   1.0s\n",
      "[CV 5/5] END .max_depth=8, min_child_samples=50;, score=0.219 total time=   1.1s\n",
      "[CV 1/5] END .max_depth=8, min_child_samples=60;, score=0.288 total time=   1.0s\n",
      "[CV 2/5] END .max_depth=8, min_child_samples=60;, score=0.286 total time=   1.1s\n",
      "[CV 3/5] END .max_depth=8, min_child_samples=60;, score=0.290 total time=   1.0s\n",
      "[CV 4/5] END .max_depth=8, min_child_samples=60;, score=0.205 total time=   1.0s\n",
      "[CV 5/5] END .max_depth=8, min_child_samples=60;, score=0.274 total time=   1.0s\n",
      "[CV 1/5] END .max_depth=8, min_child_samples=70;, score=0.274 total time=   1.0s\n",
      "[CV 2/5] END .max_depth=8, min_child_samples=70;, score=0.278 total time=   1.0s\n",
      "[CV 3/5] END .max_depth=8, min_child_samples=70;, score=0.239 total time=   1.0s\n",
      "[CV 4/5] END .max_depth=8, min_child_samples=70;, score=0.207 total time=   1.0s\n",
      "[CV 5/5] END .max_depth=8, min_child_samples=70;, score=0.243 total time=   1.0s\n"
     ]
    },
    {
     "data": {
      "text/html": [
       "<style>#sk-container-id-24 {color: black;background-color: white;}#sk-container-id-24 pre{padding: 0;}#sk-container-id-24 div.sk-toggleable {background-color: white;}#sk-container-id-24 label.sk-toggleable__label {cursor: pointer;display: block;width: 100%;margin-bottom: 0;padding: 0.3em;box-sizing: border-box;text-align: center;}#sk-container-id-24 label.sk-toggleable__label-arrow:before {content: \"▸\";float: left;margin-right: 0.25em;color: #696969;}#sk-container-id-24 label.sk-toggleable__label-arrow:hover:before {color: black;}#sk-container-id-24 div.sk-estimator:hover label.sk-toggleable__label-arrow:before {color: black;}#sk-container-id-24 div.sk-toggleable__content {max-height: 0;max-width: 0;overflow: hidden;text-align: left;background-color: #f0f8ff;}#sk-container-id-24 div.sk-toggleable__content pre {margin: 0.2em;color: black;border-radius: 0.25em;background-color: #f0f8ff;}#sk-container-id-24 input.sk-toggleable__control:checked~div.sk-toggleable__content {max-height: 200px;max-width: 100%;overflow: auto;}#sk-container-id-24 input.sk-toggleable__control:checked~label.sk-toggleable__label-arrow:before {content: \"▾\";}#sk-container-id-24 div.sk-estimator input.sk-toggleable__control:checked~label.sk-toggleable__label {background-color: #d4ebff;}#sk-container-id-24 div.sk-label input.sk-toggleable__control:checked~label.sk-toggleable__label {background-color: #d4ebff;}#sk-container-id-24 input.sk-hidden--visually {border: 0;clip: rect(1px 1px 1px 1px);clip: rect(1px, 1px, 1px, 1px);height: 1px;margin: -1px;overflow: hidden;padding: 0;position: absolute;width: 1px;}#sk-container-id-24 div.sk-estimator {font-family: monospace;background-color: #f0f8ff;border: 1px dotted black;border-radius: 0.25em;box-sizing: border-box;margin-bottom: 0.5em;}#sk-container-id-24 div.sk-estimator:hover {background-color: #d4ebff;}#sk-container-id-24 div.sk-parallel-item::after {content: \"\";width: 100%;border-bottom: 1px solid gray;flex-grow: 1;}#sk-container-id-24 div.sk-label:hover label.sk-toggleable__label {background-color: #d4ebff;}#sk-container-id-24 div.sk-serial::before {content: \"\";position: absolute;border-left: 1px solid gray;box-sizing: border-box;top: 0;bottom: 0;left: 50%;z-index: 0;}#sk-container-id-24 div.sk-serial {display: flex;flex-direction: column;align-items: center;background-color: white;padding-right: 0.2em;padding-left: 0.2em;position: relative;}#sk-container-id-24 div.sk-item {position: relative;z-index: 1;}#sk-container-id-24 div.sk-parallel {display: flex;align-items: stretch;justify-content: center;background-color: white;position: relative;}#sk-container-id-24 div.sk-item::before, #sk-container-id-24 div.sk-parallel-item::before {content: \"\";position: absolute;border-left: 1px solid gray;box-sizing: border-box;top: 0;bottom: 0;left: 50%;z-index: -1;}#sk-container-id-24 div.sk-parallel-item {display: flex;flex-direction: column;z-index: 1;position: relative;background-color: white;}#sk-container-id-24 div.sk-parallel-item:first-child::after {align-self: flex-end;width: 50%;}#sk-container-id-24 div.sk-parallel-item:last-child::after {align-self: flex-start;width: 50%;}#sk-container-id-24 div.sk-parallel-item:only-child::after {width: 0;}#sk-container-id-24 div.sk-dashed-wrapped {border: 1px dashed gray;margin: 0 0.4em 0.5em 0.4em;box-sizing: border-box;padding-bottom: 0.4em;background-color: white;}#sk-container-id-24 div.sk-label label {font-family: monospace;font-weight: bold;display: inline-block;line-height: 1.2em;}#sk-container-id-24 div.sk-label-container {text-align: center;}#sk-container-id-24 div.sk-container {/* jupyter's `normalize.less` sets `[hidden] { display: none; }` but bootstrap.min.css set `[hidden] { display: none !important; }` so we also need the `!important` here to be able to override the default hidden behavior on the sphinx rendered scikit-learn.org. See: https://github.com/scikit-learn/scikit-learn/issues/21755 */display: inline-block !important;position: relative;}#sk-container-id-24 div.sk-text-repr-fallback {display: none;}</style><div id=\"sk-container-id-24\" class=\"sk-top-container\"><div class=\"sk-text-repr-fallback\"><pre>GridSearchCV(cv=5,\n",
       "             estimator=LGBMClassifier(n_estimators=80, random_state=0,\n",
       "                                      subsample=0.6),\n",
       "             param_grid={&#x27;max_depth&#x27;: range(4, 10, 2),\n",
       "                         &#x27;min_child_samples&#x27;: range(20, 71, 10)},\n",
       "             scoring=&#x27;f1&#x27;, verbose=3)</pre><b>In a Jupyter environment, please rerun this cell to show the HTML representation or trust the notebook. <br />On GitHub, the HTML representation is unable to render, please try loading this page with nbviewer.org.</b></div><div class=\"sk-container\" hidden><div class=\"sk-item sk-dashed-wrapped\"><div class=\"sk-label-container\"><div class=\"sk-label sk-toggleable\"><input class=\"sk-toggleable__control sk-hidden--visually\" id=\"sk-estimator-id-79\" type=\"checkbox\" ><label for=\"sk-estimator-id-79\" class=\"sk-toggleable__label sk-toggleable__label-arrow\">GridSearchCV</label><div class=\"sk-toggleable__content\"><pre>GridSearchCV(cv=5,\n",
       "             estimator=LGBMClassifier(n_estimators=80, random_state=0,\n",
       "                                      subsample=0.6),\n",
       "             param_grid={&#x27;max_depth&#x27;: range(4, 10, 2),\n",
       "                         &#x27;min_child_samples&#x27;: range(20, 71, 10)},\n",
       "             scoring=&#x27;f1&#x27;, verbose=3)</pre></div></div></div><div class=\"sk-parallel\"><div class=\"sk-parallel-item\"><div class=\"sk-item\"><div class=\"sk-label-container\"><div class=\"sk-label sk-toggleable\"><input class=\"sk-toggleable__control sk-hidden--visually\" id=\"sk-estimator-id-80\" type=\"checkbox\" ><label for=\"sk-estimator-id-80\" class=\"sk-toggleable__label sk-toggleable__label-arrow\">estimator: LGBMClassifier</label><div class=\"sk-toggleable__content\"><pre>LGBMClassifier(n_estimators=80, random_state=0, subsample=0.6)</pre></div></div></div><div class=\"sk-serial\"><div class=\"sk-item\"><div class=\"sk-estimator sk-toggleable\"><input class=\"sk-toggleable__control sk-hidden--visually\" id=\"sk-estimator-id-81\" type=\"checkbox\" ><label for=\"sk-estimator-id-81\" class=\"sk-toggleable__label sk-toggleable__label-arrow\">LGBMClassifier</label><div class=\"sk-toggleable__content\"><pre>LGBMClassifier(n_estimators=80, random_state=0, subsample=0.6)</pre></div></div></div></div></div></div></div></div></div></div>"
      ],
      "text/plain": [
       "GridSearchCV(cv=5,\n",
       "             estimator=LGBMClassifier(n_estimators=80, random_state=0,\n",
       "                                      subsample=0.6),\n",
       "             param_grid={'max_depth': range(4, 10, 2),\n",
       "                         'min_child_samples': range(20, 71, 10)},\n",
       "             scoring='f1', verbose=3)"
      ]
     },
     "execution_count": 189,
     "metadata": {},
     "output_type": "execute_result"
    }
   ],
   "source": [
    "label = labels[3]\n",
    "LGBM_tuned_threat = LGBMClassifier(random_state=0, n_estimators=80, subsample=0.6)\n",
    "gsearch_threat = GridSearchCV(estimator=LGBM_tuned_threat, param_grid=param_test_each_label, scoring='f1', cv=5, verbose=3)\n",
    "gsearch_threat.fit(selected_train[features], selected_train[label])"
   ]
  },
  {
   "cell_type": "code",
   "execution_count": 190,
   "id": "eb11b90f",
   "metadata": {},
   "outputs": [
    {
     "data": {
      "text/plain": [
       "({'max_depth': 8, 'min_child_samples': 60}, 0.2684985491598624)"
      ]
     },
     "execution_count": 190,
     "metadata": {},
     "output_type": "execute_result"
    }
   ],
   "source": [
    "gsearch_threat.best_params_, gsearch_threat.best_score_"
   ]
  },
  {
   "cell_type": "code",
   "execution_count": 191,
   "id": "6418785f",
   "metadata": {},
   "outputs": [
    {
     "name": "stdout",
     "output_type": "stream",
     "text": [
      "Model Performance on training set:\n",
      "Accuracy score:  0.9995801242080328\n",
      "Precision score:  0.9812646370023419\n",
      "Recall score:  0.8765690376569037\n",
      "F1 score:  0.9259668508287293\n",
      "Confusion matrix:\n",
      "[[159085      8]\n",
      " [    59    419]]\n",
      "Logarithmic Loss:  0.002081896824715256\n",
      "ROC AUC score:  0.9999628582287348\n",
      "\n",
      "Model Performance on test set:\n",
      "Accuracy score:  0.9958266904248335\n",
      "Precision score:  0.325\n",
      "Recall score:  0.24644549763033174\n",
      "F1 score:  0.28032345013477084\n",
      "Confusion matrix:\n",
      "[[63659   108]\n",
      " [  159    52]]\n",
      "Logarithmic Loss:  0.01811735016793471\n",
      "ROC AUC score:  0.9615455393476711\n"
     ]
    }
   ],
   "source": [
    "predictions(gsearch_threat)"
   ]
  },
  {
   "cell_type": "code",
   "execution_count": 192,
   "id": "aa7bd879",
   "metadata": {},
   "outputs": [
    {
     "data": {
      "text/html": [
       "<style>#sk-container-id-25 {color: black;background-color: white;}#sk-container-id-25 pre{padding: 0;}#sk-container-id-25 div.sk-toggleable {background-color: white;}#sk-container-id-25 label.sk-toggleable__label {cursor: pointer;display: block;width: 100%;margin-bottom: 0;padding: 0.3em;box-sizing: border-box;text-align: center;}#sk-container-id-25 label.sk-toggleable__label-arrow:before {content: \"▸\";float: left;margin-right: 0.25em;color: #696969;}#sk-container-id-25 label.sk-toggleable__label-arrow:hover:before {color: black;}#sk-container-id-25 div.sk-estimator:hover label.sk-toggleable__label-arrow:before {color: black;}#sk-container-id-25 div.sk-toggleable__content {max-height: 0;max-width: 0;overflow: hidden;text-align: left;background-color: #f0f8ff;}#sk-container-id-25 div.sk-toggleable__content pre {margin: 0.2em;color: black;border-radius: 0.25em;background-color: #f0f8ff;}#sk-container-id-25 input.sk-toggleable__control:checked~div.sk-toggleable__content {max-height: 200px;max-width: 100%;overflow: auto;}#sk-container-id-25 input.sk-toggleable__control:checked~label.sk-toggleable__label-arrow:before {content: \"▾\";}#sk-container-id-25 div.sk-estimator input.sk-toggleable__control:checked~label.sk-toggleable__label {background-color: #d4ebff;}#sk-container-id-25 div.sk-label input.sk-toggleable__control:checked~label.sk-toggleable__label {background-color: #d4ebff;}#sk-container-id-25 input.sk-hidden--visually {border: 0;clip: rect(1px 1px 1px 1px);clip: rect(1px, 1px, 1px, 1px);height: 1px;margin: -1px;overflow: hidden;padding: 0;position: absolute;width: 1px;}#sk-container-id-25 div.sk-estimator {font-family: monospace;background-color: #f0f8ff;border: 1px dotted black;border-radius: 0.25em;box-sizing: border-box;margin-bottom: 0.5em;}#sk-container-id-25 div.sk-estimator:hover {background-color: #d4ebff;}#sk-container-id-25 div.sk-parallel-item::after {content: \"\";width: 100%;border-bottom: 1px solid gray;flex-grow: 1;}#sk-container-id-25 div.sk-label:hover label.sk-toggleable__label {background-color: #d4ebff;}#sk-container-id-25 div.sk-serial::before {content: \"\";position: absolute;border-left: 1px solid gray;box-sizing: border-box;top: 0;bottom: 0;left: 50%;z-index: 0;}#sk-container-id-25 div.sk-serial {display: flex;flex-direction: column;align-items: center;background-color: white;padding-right: 0.2em;padding-left: 0.2em;position: relative;}#sk-container-id-25 div.sk-item {position: relative;z-index: 1;}#sk-container-id-25 div.sk-parallel {display: flex;align-items: stretch;justify-content: center;background-color: white;position: relative;}#sk-container-id-25 div.sk-item::before, #sk-container-id-25 div.sk-parallel-item::before {content: \"\";position: absolute;border-left: 1px solid gray;box-sizing: border-box;top: 0;bottom: 0;left: 50%;z-index: -1;}#sk-container-id-25 div.sk-parallel-item {display: flex;flex-direction: column;z-index: 1;position: relative;background-color: white;}#sk-container-id-25 div.sk-parallel-item:first-child::after {align-self: flex-end;width: 50%;}#sk-container-id-25 div.sk-parallel-item:last-child::after {align-self: flex-start;width: 50%;}#sk-container-id-25 div.sk-parallel-item:only-child::after {width: 0;}#sk-container-id-25 div.sk-dashed-wrapped {border: 1px dashed gray;margin: 0 0.4em 0.5em 0.4em;box-sizing: border-box;padding-bottom: 0.4em;background-color: white;}#sk-container-id-25 div.sk-label label {font-family: monospace;font-weight: bold;display: inline-block;line-height: 1.2em;}#sk-container-id-25 div.sk-label-container {text-align: center;}#sk-container-id-25 div.sk-container {/* jupyter's `normalize.less` sets `[hidden] { display: none; }` but bootstrap.min.css set `[hidden] { display: none !important; }` so we also need the `!important` here to be able to override the default hidden behavior on the sphinx rendered scikit-learn.org. See: https://github.com/scikit-learn/scikit-learn/issues/21755 */display: inline-block !important;position: relative;}#sk-container-id-25 div.sk-text-repr-fallback {display: none;}</style><div id=\"sk-container-id-25\" class=\"sk-top-container\"><div class=\"sk-text-repr-fallback\"><pre>GridSearchCV(cv=5,\n",
       "             estimator=LGBMClassifier(n_estimators=80, random_state=0,\n",
       "                                      subsample=0.6),\n",
       "             param_grid={&#x27;max_depth&#x27;: range(4, 10, 2),\n",
       "                         &#x27;min_child_samples&#x27;: range(20, 71, 10)},\n",
       "             scoring=&#x27;f1&#x27;, verbose=3)</pre><b>In a Jupyter environment, please rerun this cell to show the HTML representation or trust the notebook. <br />On GitHub, the HTML representation is unable to render, please try loading this page with nbviewer.org.</b></div><div class=\"sk-container\" hidden><div class=\"sk-item sk-dashed-wrapped\"><div class=\"sk-label-container\"><div class=\"sk-label sk-toggleable\"><input class=\"sk-toggleable__control sk-hidden--visually\" id=\"sk-estimator-id-82\" type=\"checkbox\" ><label for=\"sk-estimator-id-82\" class=\"sk-toggleable__label sk-toggleable__label-arrow\">GridSearchCV</label><div class=\"sk-toggleable__content\"><pre>GridSearchCV(cv=5,\n",
       "             estimator=LGBMClassifier(n_estimators=80, random_state=0,\n",
       "                                      subsample=0.6),\n",
       "             param_grid={&#x27;max_depth&#x27;: range(4, 10, 2),\n",
       "                         &#x27;min_child_samples&#x27;: range(20, 71, 10)},\n",
       "             scoring=&#x27;f1&#x27;, verbose=3)</pre></div></div></div><div class=\"sk-parallel\"><div class=\"sk-parallel-item\"><div class=\"sk-item\"><div class=\"sk-label-container\"><div class=\"sk-label sk-toggleable\"><input class=\"sk-toggleable__control sk-hidden--visually\" id=\"sk-estimator-id-83\" type=\"checkbox\" ><label for=\"sk-estimator-id-83\" class=\"sk-toggleable__label sk-toggleable__label-arrow\">estimator: LGBMClassifier</label><div class=\"sk-toggleable__content\"><pre>LGBMClassifier(n_estimators=80, random_state=0, subsample=0.6)</pre></div></div></div><div class=\"sk-serial\"><div class=\"sk-item\"><div class=\"sk-estimator sk-toggleable\"><input class=\"sk-toggleable__control sk-hidden--visually\" id=\"sk-estimator-id-84\" type=\"checkbox\" ><label for=\"sk-estimator-id-84\" class=\"sk-toggleable__label sk-toggleable__label-arrow\">LGBMClassifier</label><div class=\"sk-toggleable__content\"><pre>LGBMClassifier(n_estimators=80, random_state=0, subsample=0.6)</pre></div></div></div></div></div></div></div></div></div></div>"
      ],
      "text/plain": [
       "GridSearchCV(cv=5,\n",
       "             estimator=LGBMClassifier(n_estimators=80, random_state=0,\n",
       "                                      subsample=0.6),\n",
       "             param_grid={'max_depth': range(4, 10, 2),\n",
       "                         'min_child_samples': range(20, 71, 10)},\n",
       "             scoring='f1', verbose=3)"
      ]
     },
     "execution_count": 192,
     "metadata": {},
     "output_type": "execute_result"
    }
   ],
   "source": [
    "gsearch_threat"
   ]
  },
  {
   "cell_type": "code",
   "execution_count": 193,
   "id": "4f823d72",
   "metadata": {},
   "outputs": [
    {
     "data": {
      "text/plain": [
       "['lgbm_threat.sav']"
      ]
     },
     "execution_count": 193,
     "metadata": {},
     "output_type": "execute_result"
    }
   ],
   "source": [
    "joblib.dump(gsearch_threat, 'lgbm_threat.sav')"
   ]
  },
  {
   "cell_type": "markdown",
   "id": "029c26be",
   "metadata": {},
   "source": [
    "### Insult Label"
   ]
  },
  {
   "cell_type": "code",
   "execution_count": 194,
   "id": "28acc3a6",
   "metadata": {},
   "outputs": [
    {
     "name": "stdout",
     "output_type": "stream",
     "text": [
      "Fitting 5 folds for each of 18 candidates, totalling 90 fits\n",
      "[CV 1/5] END .max_depth=4, min_child_samples=20;, score=0.678 total time=   0.7s\n",
      "[CV 2/5] END .max_depth=4, min_child_samples=20;, score=0.669 total time=   0.7s\n",
      "[CV 3/5] END .max_depth=4, min_child_samples=20;, score=0.684 total time=   0.7s\n",
      "[CV 4/5] END .max_depth=4, min_child_samples=20;, score=0.697 total time=   0.7s\n",
      "[CV 5/5] END .max_depth=4, min_child_samples=20;, score=0.673 total time=   0.7s\n",
      "[CV 1/5] END .max_depth=4, min_child_samples=30;, score=0.673 total time=   0.7s\n",
      "[CV 2/5] END .max_depth=4, min_child_samples=30;, score=0.667 total time=   0.7s\n",
      "[CV 3/5] END .max_depth=4, min_child_samples=30;, score=0.683 total time=   0.7s\n",
      "[CV 4/5] END .max_depth=4, min_child_samples=30;, score=0.696 total time=   0.7s\n",
      "[CV 5/5] END .max_depth=4, min_child_samples=30;, score=0.673 total time=   0.7s\n",
      "[CV 1/5] END .max_depth=4, min_child_samples=40;, score=0.678 total time=   0.7s\n",
      "[CV 2/5] END .max_depth=4, min_child_samples=40;, score=0.672 total time=   0.6s\n",
      "[CV 3/5] END .max_depth=4, min_child_samples=40;, score=0.679 total time=   0.7s\n",
      "[CV 4/5] END .max_depth=4, min_child_samples=40;, score=0.694 total time=   0.7s\n",
      "[CV 5/5] END .max_depth=4, min_child_samples=40;, score=0.668 total time=   0.7s\n",
      "[CV 1/5] END .max_depth=4, min_child_samples=50;, score=0.676 total time=   0.6s\n",
      "[CV 2/5] END .max_depth=4, min_child_samples=50;, score=0.669 total time=   0.6s\n",
      "[CV 3/5] END .max_depth=4, min_child_samples=50;, score=0.682 total time=   0.7s\n",
      "[CV 4/5] END .max_depth=4, min_child_samples=50;, score=0.699 total time=   0.7s\n",
      "[CV 5/5] END .max_depth=4, min_child_samples=50;, score=0.673 total time=   0.7s\n",
      "[CV 1/5] END .max_depth=4, min_child_samples=60;, score=0.676 total time=   0.7s\n",
      "[CV 2/5] END .max_depth=4, min_child_samples=60;, score=0.668 total time=   0.7s\n",
      "[CV 3/5] END .max_depth=4, min_child_samples=60;, score=0.679 total time=   0.7s\n",
      "[CV 4/5] END .max_depth=4, min_child_samples=60;, score=0.701 total time=   0.7s\n",
      "[CV 5/5] END .max_depth=4, min_child_samples=60;, score=0.675 total time=   0.6s\n",
      "[CV 1/5] END .max_depth=4, min_child_samples=70;, score=0.679 total time=   0.7s\n",
      "[CV 2/5] END .max_depth=4, min_child_samples=70;, score=0.669 total time=   0.7s\n",
      "[CV 3/5] END .max_depth=4, min_child_samples=70;, score=0.684 total time=   0.7s\n",
      "[CV 4/5] END .max_depth=4, min_child_samples=70;, score=0.697 total time=   0.7s\n",
      "[CV 5/5] END .max_depth=4, min_child_samples=70;, score=0.673 total time=   0.7s\n",
      "[CV 1/5] END .max_depth=6, min_child_samples=20;, score=0.677 total time=   1.0s\n",
      "[CV 2/5] END .max_depth=6, min_child_samples=20;, score=0.668 total time=   0.9s\n",
      "[CV 3/5] END .max_depth=6, min_child_samples=20;, score=0.686 total time=   1.1s\n",
      "[CV 4/5] END .max_depth=6, min_child_samples=20;, score=0.702 total time=   0.9s\n",
      "[CV 5/5] END .max_depth=6, min_child_samples=20;, score=0.674 total time=   1.0s\n",
      "[CV 1/5] END .max_depth=6, min_child_samples=30;, score=0.677 total time=   1.0s\n",
      "[CV 2/5] END .max_depth=6, min_child_samples=30;, score=0.673 total time=   1.0s\n",
      "[CV 3/5] END .max_depth=6, min_child_samples=30;, score=0.686 total time=   1.0s\n",
      "[CV 4/5] END .max_depth=6, min_child_samples=30;, score=0.703 total time=   1.0s\n",
      "[CV 5/5] END .max_depth=6, min_child_samples=30;, score=0.680 total time=   1.0s\n",
      "[CV 1/5] END .max_depth=6, min_child_samples=40;, score=0.675 total time=   1.1s\n",
      "[CV 2/5] END .max_depth=6, min_child_samples=40;, score=0.674 total time=   1.0s\n",
      "[CV 3/5] END .max_depth=6, min_child_samples=40;, score=0.695 total time=   1.1s\n",
      "[CV 4/5] END .max_depth=6, min_child_samples=40;, score=0.697 total time=   1.0s\n",
      "[CV 5/5] END .max_depth=6, min_child_samples=40;, score=0.682 total time=   1.0s\n",
      "[CV 1/5] END .max_depth=6, min_child_samples=50;, score=0.675 total time=   1.0s\n",
      "[CV 2/5] END .max_depth=6, min_child_samples=50;, score=0.672 total time=   1.1s\n",
      "[CV 3/5] END .max_depth=6, min_child_samples=50;, score=0.690 total time=   1.0s\n",
      "[CV 4/5] END .max_depth=6, min_child_samples=50;, score=0.702 total time=   1.0s\n",
      "[CV 5/5] END .max_depth=6, min_child_samples=50;, score=0.679 total time=   1.0s\n",
      "[CV 1/5] END .max_depth=6, min_child_samples=60;, score=0.678 total time=   0.9s\n",
      "[CV 2/5] END .max_depth=6, min_child_samples=60;, score=0.671 total time=   1.0s\n",
      "[CV 3/5] END .max_depth=6, min_child_samples=60;, score=0.691 total time=   1.0s\n",
      "[CV 4/5] END .max_depth=6, min_child_samples=60;, score=0.700 total time=   1.0s\n",
      "[CV 5/5] END .max_depth=6, min_child_samples=60;, score=0.678 total time=   1.1s\n",
      "[CV 1/5] END .max_depth=6, min_child_samples=70;, score=0.672 total time=   1.0s\n",
      "[CV 2/5] END .max_depth=6, min_child_samples=70;, score=0.675 total time=   1.0s\n",
      "[CV 3/5] END .max_depth=6, min_child_samples=70;, score=0.686 total time=   1.0s\n",
      "[CV 4/5] END .max_depth=6, min_child_samples=70;, score=0.696 total time=   1.0s\n",
      "[CV 5/5] END .max_depth=6, min_child_samples=70;, score=0.675 total time=   1.0s\n",
      "[CV 1/5] END .max_depth=8, min_child_samples=20;, score=0.673 total time=   1.0s\n",
      "[CV 2/5] END .max_depth=8, min_child_samples=20;, score=0.670 total time=   1.1s\n",
      "[CV 3/5] END .max_depth=8, min_child_samples=20;, score=0.690 total time=   1.1s\n",
      "[CV 4/5] END .max_depth=8, min_child_samples=20;, score=0.701 total time=   1.1s\n",
      "[CV 5/5] END .max_depth=8, min_child_samples=20;, score=0.679 total time=   1.1s\n",
      "[CV 1/5] END .max_depth=8, min_child_samples=30;, score=0.674 total time=   1.1s\n",
      "[CV 2/5] END .max_depth=8, min_child_samples=30;, score=0.670 total time=   1.0s\n",
      "[CV 3/5] END .max_depth=8, min_child_samples=30;, score=0.692 total time=   1.1s\n",
      "[CV 4/5] END .max_depth=8, min_child_samples=30;, score=0.698 total time=   1.0s\n",
      "[CV 5/5] END .max_depth=8, min_child_samples=30;, score=0.675 total time=   1.1s\n",
      "[CV 1/5] END .max_depth=8, min_child_samples=40;, score=0.675 total time=   1.0s\n",
      "[CV 2/5] END .max_depth=8, min_child_samples=40;, score=0.666 total time=   1.1s\n",
      "[CV 3/5] END .max_depth=8, min_child_samples=40;, score=0.696 total time=   1.0s\n",
      "[CV 4/5] END .max_depth=8, min_child_samples=40;, score=0.697 total time=   1.0s\n",
      "[CV 5/5] END .max_depth=8, min_child_samples=40;, score=0.668 total time=   1.1s\n",
      "[CV 1/5] END .max_depth=8, min_child_samples=50;, score=0.679 total time=   1.0s\n",
      "[CV 2/5] END .max_depth=8, min_child_samples=50;, score=0.674 total time=   1.1s\n",
      "[CV 3/5] END .max_depth=8, min_child_samples=50;, score=0.688 total time=   1.1s\n",
      "[CV 4/5] END .max_depth=8, min_child_samples=50;, score=0.703 total time=   1.1s\n",
      "[CV 5/5] END .max_depth=8, min_child_samples=50;, score=0.679 total time=   1.0s\n",
      "[CV 1/5] END .max_depth=8, min_child_samples=60;, score=0.675 total time=   1.1s\n",
      "[CV 2/5] END .max_depth=8, min_child_samples=60;, score=0.671 total time=   1.1s\n",
      "[CV 3/5] END .max_depth=8, min_child_samples=60;, score=0.690 total time=   1.1s\n",
      "[CV 4/5] END .max_depth=8, min_child_samples=60;, score=0.702 total time=   1.1s\n",
      "[CV 5/5] END .max_depth=8, min_child_samples=60;, score=0.675 total time=   1.0s\n",
      "[CV 1/5] END .max_depth=8, min_child_samples=70;, score=0.674 total time=   1.0s\n",
      "[CV 2/5] END .max_depth=8, min_child_samples=70;, score=0.671 total time=   1.1s\n",
      "[CV 3/5] END .max_depth=8, min_child_samples=70;, score=0.688 total time=   1.1s\n",
      "[CV 4/5] END .max_depth=8, min_child_samples=70;, score=0.701 total time=   1.0s\n",
      "[CV 5/5] END .max_depth=8, min_child_samples=70;, score=0.677 total time=   1.1s\n"
     ]
    },
    {
     "data": {
      "text/html": [
       "<style>#sk-container-id-26 {color: black;background-color: white;}#sk-container-id-26 pre{padding: 0;}#sk-container-id-26 div.sk-toggleable {background-color: white;}#sk-container-id-26 label.sk-toggleable__label {cursor: pointer;display: block;width: 100%;margin-bottom: 0;padding: 0.3em;box-sizing: border-box;text-align: center;}#sk-container-id-26 label.sk-toggleable__label-arrow:before {content: \"▸\";float: left;margin-right: 0.25em;color: #696969;}#sk-container-id-26 label.sk-toggleable__label-arrow:hover:before {color: black;}#sk-container-id-26 div.sk-estimator:hover label.sk-toggleable__label-arrow:before {color: black;}#sk-container-id-26 div.sk-toggleable__content {max-height: 0;max-width: 0;overflow: hidden;text-align: left;background-color: #f0f8ff;}#sk-container-id-26 div.sk-toggleable__content pre {margin: 0.2em;color: black;border-radius: 0.25em;background-color: #f0f8ff;}#sk-container-id-26 input.sk-toggleable__control:checked~div.sk-toggleable__content {max-height: 200px;max-width: 100%;overflow: auto;}#sk-container-id-26 input.sk-toggleable__control:checked~label.sk-toggleable__label-arrow:before {content: \"▾\";}#sk-container-id-26 div.sk-estimator input.sk-toggleable__control:checked~label.sk-toggleable__label {background-color: #d4ebff;}#sk-container-id-26 div.sk-label input.sk-toggleable__control:checked~label.sk-toggleable__label {background-color: #d4ebff;}#sk-container-id-26 input.sk-hidden--visually {border: 0;clip: rect(1px 1px 1px 1px);clip: rect(1px, 1px, 1px, 1px);height: 1px;margin: -1px;overflow: hidden;padding: 0;position: absolute;width: 1px;}#sk-container-id-26 div.sk-estimator {font-family: monospace;background-color: #f0f8ff;border: 1px dotted black;border-radius: 0.25em;box-sizing: border-box;margin-bottom: 0.5em;}#sk-container-id-26 div.sk-estimator:hover {background-color: #d4ebff;}#sk-container-id-26 div.sk-parallel-item::after {content: \"\";width: 100%;border-bottom: 1px solid gray;flex-grow: 1;}#sk-container-id-26 div.sk-label:hover label.sk-toggleable__label {background-color: #d4ebff;}#sk-container-id-26 div.sk-serial::before {content: \"\";position: absolute;border-left: 1px solid gray;box-sizing: border-box;top: 0;bottom: 0;left: 50%;z-index: 0;}#sk-container-id-26 div.sk-serial {display: flex;flex-direction: column;align-items: center;background-color: white;padding-right: 0.2em;padding-left: 0.2em;position: relative;}#sk-container-id-26 div.sk-item {position: relative;z-index: 1;}#sk-container-id-26 div.sk-parallel {display: flex;align-items: stretch;justify-content: center;background-color: white;position: relative;}#sk-container-id-26 div.sk-item::before, #sk-container-id-26 div.sk-parallel-item::before {content: \"\";position: absolute;border-left: 1px solid gray;box-sizing: border-box;top: 0;bottom: 0;left: 50%;z-index: -1;}#sk-container-id-26 div.sk-parallel-item {display: flex;flex-direction: column;z-index: 1;position: relative;background-color: white;}#sk-container-id-26 div.sk-parallel-item:first-child::after {align-self: flex-end;width: 50%;}#sk-container-id-26 div.sk-parallel-item:last-child::after {align-self: flex-start;width: 50%;}#sk-container-id-26 div.sk-parallel-item:only-child::after {width: 0;}#sk-container-id-26 div.sk-dashed-wrapped {border: 1px dashed gray;margin: 0 0.4em 0.5em 0.4em;box-sizing: border-box;padding-bottom: 0.4em;background-color: white;}#sk-container-id-26 div.sk-label label {font-family: monospace;font-weight: bold;display: inline-block;line-height: 1.2em;}#sk-container-id-26 div.sk-label-container {text-align: center;}#sk-container-id-26 div.sk-container {/* jupyter's `normalize.less` sets `[hidden] { display: none; }` but bootstrap.min.css set `[hidden] { display: none !important; }` so we also need the `!important` here to be able to override the default hidden behavior on the sphinx rendered scikit-learn.org. See: https://github.com/scikit-learn/scikit-learn/issues/21755 */display: inline-block !important;position: relative;}#sk-container-id-26 div.sk-text-repr-fallback {display: none;}</style><div id=\"sk-container-id-26\" class=\"sk-top-container\"><div class=\"sk-text-repr-fallback\"><pre>GridSearchCV(cv=5,\n",
       "             estimator=LGBMClassifier(n_estimators=80, random_state=0,\n",
       "                                      subsample=0.6),\n",
       "             param_grid={&#x27;max_depth&#x27;: range(4, 10, 2),\n",
       "                         &#x27;min_child_samples&#x27;: range(20, 71, 10)},\n",
       "             scoring=&#x27;f1&#x27;, verbose=3)</pre><b>In a Jupyter environment, please rerun this cell to show the HTML representation or trust the notebook. <br />On GitHub, the HTML representation is unable to render, please try loading this page with nbviewer.org.</b></div><div class=\"sk-container\" hidden><div class=\"sk-item sk-dashed-wrapped\"><div class=\"sk-label-container\"><div class=\"sk-label sk-toggleable\"><input class=\"sk-toggleable__control sk-hidden--visually\" id=\"sk-estimator-id-85\" type=\"checkbox\" ><label for=\"sk-estimator-id-85\" class=\"sk-toggleable__label sk-toggleable__label-arrow\">GridSearchCV</label><div class=\"sk-toggleable__content\"><pre>GridSearchCV(cv=5,\n",
       "             estimator=LGBMClassifier(n_estimators=80, random_state=0,\n",
       "                                      subsample=0.6),\n",
       "             param_grid={&#x27;max_depth&#x27;: range(4, 10, 2),\n",
       "                         &#x27;min_child_samples&#x27;: range(20, 71, 10)},\n",
       "             scoring=&#x27;f1&#x27;, verbose=3)</pre></div></div></div><div class=\"sk-parallel\"><div class=\"sk-parallel-item\"><div class=\"sk-item\"><div class=\"sk-label-container\"><div class=\"sk-label sk-toggleable\"><input class=\"sk-toggleable__control sk-hidden--visually\" id=\"sk-estimator-id-86\" type=\"checkbox\" ><label for=\"sk-estimator-id-86\" class=\"sk-toggleable__label sk-toggleable__label-arrow\">estimator: LGBMClassifier</label><div class=\"sk-toggleable__content\"><pre>LGBMClassifier(n_estimators=80, random_state=0, subsample=0.6)</pre></div></div></div><div class=\"sk-serial\"><div class=\"sk-item\"><div class=\"sk-estimator sk-toggleable\"><input class=\"sk-toggleable__control sk-hidden--visually\" id=\"sk-estimator-id-87\" type=\"checkbox\" ><label for=\"sk-estimator-id-87\" class=\"sk-toggleable__label sk-toggleable__label-arrow\">LGBMClassifier</label><div class=\"sk-toggleable__content\"><pre>LGBMClassifier(n_estimators=80, random_state=0, subsample=0.6)</pre></div></div></div></div></div></div></div></div></div></div>"
      ],
      "text/plain": [
       "GridSearchCV(cv=5,\n",
       "             estimator=LGBMClassifier(n_estimators=80, random_state=0,\n",
       "                                      subsample=0.6),\n",
       "             param_grid={'max_depth': range(4, 10, 2),\n",
       "                         'min_child_samples': range(20, 71, 10)},\n",
       "             scoring='f1', verbose=3)"
      ]
     },
     "execution_count": 194,
     "metadata": {},
     "output_type": "execute_result"
    }
   ],
   "source": [
    "label = labels[4]\n",
    "LGBM_tuned_insult = LGBMClassifier(random_state=0, n_estimators=80, subsample=0.6)\n",
    "gsearch_insult = GridSearchCV(estimator=LGBM_tuned_insult, param_grid=param_test_each_label, scoring='f1', cv=5, verbose=3)\n",
    "gsearch_insult.fit(selected_train[features], selected_train[label])"
   ]
  },
  {
   "cell_type": "code",
   "execution_count": 195,
   "id": "3a73e74c",
   "metadata": {},
   "outputs": [
    {
     "data": {
      "text/plain": [
       "({'max_depth': 8, 'min_child_samples': 50}, 0.6847354712161283)"
      ]
     },
     "execution_count": 195,
     "metadata": {},
     "output_type": "execute_result"
    }
   ],
   "source": [
    "gsearch_insult.best_params_, gsearch_insult.best_score_"
   ]
  },
  {
   "cell_type": "code",
   "execution_count": 196,
   "id": "21ca1db1",
   "metadata": {},
   "outputs": [
    {
     "name": "stdout",
     "output_type": "stream",
     "text": [
      "Model Performance on training set:\n",
      "Accuracy score:  0.9762801511552851\n",
      "Precision score:  0.8005287896592245\n",
      "Recall score:  0.6918877745334518\n",
      "F1 score:  0.742254000680967\n",
      "Confusion matrix:\n",
      "[[150336   1358]\n",
      " [  2427   5450]]\n",
      "Logarithmic Loss:  0.06063440716111601\n",
      "ROC AUC score:  0.985531557830589\n",
      "\n",
      "Model Performance on test set:\n",
      "Accuracy score:  0.960048766763575\n",
      "Precision score:  0.6354587869362364\n",
      "Recall score:  0.5961482346075284\n",
      "F1 score:  0.6151761517615175\n",
      "Confusion matrix:\n",
      "[[59379  1172]\n",
      " [ 1384  2043]]\n",
      "Logarithmic Loss:  0.09807094763477005\n",
      "ROC AUC score:  0.9627195714222041\n"
     ]
    }
   ],
   "source": [
    "predictions(gsearch_insult)"
   ]
  },
  {
   "cell_type": "code",
   "execution_count": 197,
   "id": "bb838ce4",
   "metadata": {},
   "outputs": [
    {
     "data": {
      "text/html": [
       "<style>#sk-container-id-27 {color: black;background-color: white;}#sk-container-id-27 pre{padding: 0;}#sk-container-id-27 div.sk-toggleable {background-color: white;}#sk-container-id-27 label.sk-toggleable__label {cursor: pointer;display: block;width: 100%;margin-bottom: 0;padding: 0.3em;box-sizing: border-box;text-align: center;}#sk-container-id-27 label.sk-toggleable__label-arrow:before {content: \"▸\";float: left;margin-right: 0.25em;color: #696969;}#sk-container-id-27 label.sk-toggleable__label-arrow:hover:before {color: black;}#sk-container-id-27 div.sk-estimator:hover label.sk-toggleable__label-arrow:before {color: black;}#sk-container-id-27 div.sk-toggleable__content {max-height: 0;max-width: 0;overflow: hidden;text-align: left;background-color: #f0f8ff;}#sk-container-id-27 div.sk-toggleable__content pre {margin: 0.2em;color: black;border-radius: 0.25em;background-color: #f0f8ff;}#sk-container-id-27 input.sk-toggleable__control:checked~div.sk-toggleable__content {max-height: 200px;max-width: 100%;overflow: auto;}#sk-container-id-27 input.sk-toggleable__control:checked~label.sk-toggleable__label-arrow:before {content: \"▾\";}#sk-container-id-27 div.sk-estimator input.sk-toggleable__control:checked~label.sk-toggleable__label {background-color: #d4ebff;}#sk-container-id-27 div.sk-label input.sk-toggleable__control:checked~label.sk-toggleable__label {background-color: #d4ebff;}#sk-container-id-27 input.sk-hidden--visually {border: 0;clip: rect(1px 1px 1px 1px);clip: rect(1px, 1px, 1px, 1px);height: 1px;margin: -1px;overflow: hidden;padding: 0;position: absolute;width: 1px;}#sk-container-id-27 div.sk-estimator {font-family: monospace;background-color: #f0f8ff;border: 1px dotted black;border-radius: 0.25em;box-sizing: border-box;margin-bottom: 0.5em;}#sk-container-id-27 div.sk-estimator:hover {background-color: #d4ebff;}#sk-container-id-27 div.sk-parallel-item::after {content: \"\";width: 100%;border-bottom: 1px solid gray;flex-grow: 1;}#sk-container-id-27 div.sk-label:hover label.sk-toggleable__label {background-color: #d4ebff;}#sk-container-id-27 div.sk-serial::before {content: \"\";position: absolute;border-left: 1px solid gray;box-sizing: border-box;top: 0;bottom: 0;left: 50%;z-index: 0;}#sk-container-id-27 div.sk-serial {display: flex;flex-direction: column;align-items: center;background-color: white;padding-right: 0.2em;padding-left: 0.2em;position: relative;}#sk-container-id-27 div.sk-item {position: relative;z-index: 1;}#sk-container-id-27 div.sk-parallel {display: flex;align-items: stretch;justify-content: center;background-color: white;position: relative;}#sk-container-id-27 div.sk-item::before, #sk-container-id-27 div.sk-parallel-item::before {content: \"\";position: absolute;border-left: 1px solid gray;box-sizing: border-box;top: 0;bottom: 0;left: 50%;z-index: -1;}#sk-container-id-27 div.sk-parallel-item {display: flex;flex-direction: column;z-index: 1;position: relative;background-color: white;}#sk-container-id-27 div.sk-parallel-item:first-child::after {align-self: flex-end;width: 50%;}#sk-container-id-27 div.sk-parallel-item:last-child::after {align-self: flex-start;width: 50%;}#sk-container-id-27 div.sk-parallel-item:only-child::after {width: 0;}#sk-container-id-27 div.sk-dashed-wrapped {border: 1px dashed gray;margin: 0 0.4em 0.5em 0.4em;box-sizing: border-box;padding-bottom: 0.4em;background-color: white;}#sk-container-id-27 div.sk-label label {font-family: monospace;font-weight: bold;display: inline-block;line-height: 1.2em;}#sk-container-id-27 div.sk-label-container {text-align: center;}#sk-container-id-27 div.sk-container {/* jupyter's `normalize.less` sets `[hidden] { display: none; }` but bootstrap.min.css set `[hidden] { display: none !important; }` so we also need the `!important` here to be able to override the default hidden behavior on the sphinx rendered scikit-learn.org. See: https://github.com/scikit-learn/scikit-learn/issues/21755 */display: inline-block !important;position: relative;}#sk-container-id-27 div.sk-text-repr-fallback {display: none;}</style><div id=\"sk-container-id-27\" class=\"sk-top-container\"><div class=\"sk-text-repr-fallback\"><pre>GridSearchCV(cv=5,\n",
       "             estimator=LGBMClassifier(n_estimators=80, random_state=0,\n",
       "                                      subsample=0.6),\n",
       "             param_grid={&#x27;max_depth&#x27;: range(4, 10, 2),\n",
       "                         &#x27;min_child_samples&#x27;: range(20, 71, 10)},\n",
       "             scoring=&#x27;f1&#x27;, verbose=3)</pre><b>In a Jupyter environment, please rerun this cell to show the HTML representation or trust the notebook. <br />On GitHub, the HTML representation is unable to render, please try loading this page with nbviewer.org.</b></div><div class=\"sk-container\" hidden><div class=\"sk-item sk-dashed-wrapped\"><div class=\"sk-label-container\"><div class=\"sk-label sk-toggleable\"><input class=\"sk-toggleable__control sk-hidden--visually\" id=\"sk-estimator-id-88\" type=\"checkbox\" ><label for=\"sk-estimator-id-88\" class=\"sk-toggleable__label sk-toggleable__label-arrow\">GridSearchCV</label><div class=\"sk-toggleable__content\"><pre>GridSearchCV(cv=5,\n",
       "             estimator=LGBMClassifier(n_estimators=80, random_state=0,\n",
       "                                      subsample=0.6),\n",
       "             param_grid={&#x27;max_depth&#x27;: range(4, 10, 2),\n",
       "                         &#x27;min_child_samples&#x27;: range(20, 71, 10)},\n",
       "             scoring=&#x27;f1&#x27;, verbose=3)</pre></div></div></div><div class=\"sk-parallel\"><div class=\"sk-parallel-item\"><div class=\"sk-item\"><div class=\"sk-label-container\"><div class=\"sk-label sk-toggleable\"><input class=\"sk-toggleable__control sk-hidden--visually\" id=\"sk-estimator-id-89\" type=\"checkbox\" ><label for=\"sk-estimator-id-89\" class=\"sk-toggleable__label sk-toggleable__label-arrow\">estimator: LGBMClassifier</label><div class=\"sk-toggleable__content\"><pre>LGBMClassifier(n_estimators=80, random_state=0, subsample=0.6)</pre></div></div></div><div class=\"sk-serial\"><div class=\"sk-item\"><div class=\"sk-estimator sk-toggleable\"><input class=\"sk-toggleable__control sk-hidden--visually\" id=\"sk-estimator-id-90\" type=\"checkbox\" ><label for=\"sk-estimator-id-90\" class=\"sk-toggleable__label sk-toggleable__label-arrow\">LGBMClassifier</label><div class=\"sk-toggleable__content\"><pre>LGBMClassifier(n_estimators=80, random_state=0, subsample=0.6)</pre></div></div></div></div></div></div></div></div></div></div>"
      ],
      "text/plain": [
       "GridSearchCV(cv=5,\n",
       "             estimator=LGBMClassifier(n_estimators=80, random_state=0,\n",
       "                                      subsample=0.6),\n",
       "             param_grid={'max_depth': range(4, 10, 2),\n",
       "                         'min_child_samples': range(20, 71, 10)},\n",
       "             scoring='f1', verbose=3)"
      ]
     },
     "execution_count": 197,
     "metadata": {},
     "output_type": "execute_result"
    }
   ],
   "source": [
    "gsearch_insult"
   ]
  },
  {
   "cell_type": "code",
   "execution_count": 198,
   "id": "d97df8f2",
   "metadata": {},
   "outputs": [
    {
     "data": {
      "text/plain": [
       "['lgbm_insult.sav']"
      ]
     },
     "execution_count": 198,
     "metadata": {},
     "output_type": "execute_result"
    }
   ],
   "source": [
    "joblib.dump(gsearch_insult, 'lgbm_insult.sav')"
   ]
  },
  {
   "cell_type": "markdown",
   "id": "834456ef",
   "metadata": {},
   "source": [
    "### Identity Hate Label"
   ]
  },
  {
   "cell_type": "code",
   "execution_count": 199,
   "id": "2460eb7a",
   "metadata": {},
   "outputs": [
    {
     "name": "stdout",
     "output_type": "stream",
     "text": [
      "Fitting 5 folds for each of 18 candidates, totalling 90 fits\n",
      "[CV 1/5] END .max_depth=4, min_child_samples=20;, score=0.198 total time=   0.7s\n",
      "[CV 2/5] END .max_depth=4, min_child_samples=20;, score=0.169 total time=   0.7s\n",
      "[CV 3/5] END .max_depth=4, min_child_samples=20;, score=0.198 total time=   0.7s\n",
      "[CV 4/5] END .max_depth=4, min_child_samples=20;, score=0.163 total time=   0.7s\n",
      "[CV 5/5] END .max_depth=4, min_child_samples=20;, score=0.144 total time=   0.7s\n",
      "[CV 1/5] END .max_depth=4, min_child_samples=30;, score=0.182 total time=   0.7s\n",
      "[CV 2/5] END .max_depth=4, min_child_samples=30;, score=0.134 total time=   0.7s\n",
      "[CV 3/5] END .max_depth=4, min_child_samples=30;, score=0.180 total time=   0.7s\n",
      "[CV 4/5] END .max_depth=4, min_child_samples=30;, score=0.181 total time=   0.6s\n",
      "[CV 5/5] END .max_depth=4, min_child_samples=30;, score=0.139 total time=   0.7s\n",
      "[CV 1/5] END .max_depth=4, min_child_samples=40;, score=0.203 total time=   0.7s\n",
      "[CV 2/5] END .max_depth=4, min_child_samples=40;, score=0.156 total time=   0.7s\n",
      "[CV 3/5] END .max_depth=4, min_child_samples=40;, score=0.171 total time=   0.7s\n",
      "[CV 4/5] END .max_depth=4, min_child_samples=40;, score=0.185 total time=   0.7s\n",
      "[CV 5/5] END .max_depth=4, min_child_samples=40;, score=0.134 total time=   0.6s\n",
      "[CV 1/5] END .max_depth=4, min_child_samples=50;, score=0.199 total time=   0.7s\n",
      "[CV 2/5] END .max_depth=4, min_child_samples=50;, score=0.150 total time=   0.7s\n",
      "[CV 3/5] END .max_depth=4, min_child_samples=50;, score=0.198 total time=   0.6s\n",
      "[CV 4/5] END .max_depth=4, min_child_samples=50;, score=0.179 total time=   0.7s\n",
      "[CV 5/5] END .max_depth=4, min_child_samples=50;, score=0.143 total time=   0.7s\n",
      "[CV 1/5] END .max_depth=4, min_child_samples=60;, score=0.172 total time=   0.7s\n",
      "[CV 2/5] END .max_depth=4, min_child_samples=60;, score=0.169 total time=   0.7s\n",
      "[CV 3/5] END .max_depth=4, min_child_samples=60;, score=0.170 total time=   0.7s\n",
      "[CV 4/5] END .max_depth=4, min_child_samples=60;, score=0.178 total time=   0.7s\n",
      "[CV 5/5] END .max_depth=4, min_child_samples=60;, score=0.154 total time=   0.6s\n",
      "[CV 1/5] END .max_depth=4, min_child_samples=70;, score=0.185 total time=   0.7s\n",
      "[CV 2/5] END .max_depth=4, min_child_samples=70;, score=0.155 total time=   0.7s\n",
      "[CV 3/5] END .max_depth=4, min_child_samples=70;, score=0.182 total time=   0.6s\n",
      "[CV 4/5] END .max_depth=4, min_child_samples=70;, score=0.182 total time=   0.6s\n",
      "[CV 5/5] END .max_depth=4, min_child_samples=70;, score=0.157 total time=   0.6s\n",
      "[CV 1/5] END .max_depth=6, min_child_samples=20;, score=0.227 total time=   0.9s\n",
      "[CV 2/5] END .max_depth=6, min_child_samples=20;, score=0.199 total time=   1.0s\n",
      "[CV 3/5] END .max_depth=6, min_child_samples=20;, score=0.255 total time=   1.0s\n",
      "[CV 4/5] END .max_depth=6, min_child_samples=20;, score=0.244 total time=   1.0s\n",
      "[CV 5/5] END .max_depth=6, min_child_samples=20;, score=0.204 total time=   1.0s\n",
      "[CV 1/5] END .max_depth=6, min_child_samples=30;, score=0.225 total time=   1.0s\n",
      "[CV 2/5] END .max_depth=6, min_child_samples=30;, score=0.179 total time=   1.0s\n",
      "[CV 3/5] END .max_depth=6, min_child_samples=30;, score=0.254 total time=   1.0s\n",
      "[CV 4/5] END .max_depth=6, min_child_samples=30;, score=0.242 total time=   1.0s\n",
      "[CV 5/5] END .max_depth=6, min_child_samples=30;, score=0.226 total time=   1.0s\n",
      "[CV 1/5] END .max_depth=6, min_child_samples=40;, score=0.223 total time=   1.0s\n",
      "[CV 2/5] END .max_depth=6, min_child_samples=40;, score=0.188 total time=   1.0s\n",
      "[CV 3/5] END .max_depth=6, min_child_samples=40;, score=0.227 total time=   0.9s\n",
      "[CV 4/5] END .max_depth=6, min_child_samples=40;, score=0.239 total time=   0.9s\n",
      "[CV 5/5] END .max_depth=6, min_child_samples=40;, score=0.257 total time=   1.0s\n",
      "[CV 1/5] END .max_depth=6, min_child_samples=50;, score=0.228 total time=   1.0s\n",
      "[CV 2/5] END .max_depth=6, min_child_samples=50;, score=0.193 total time=   1.0s\n",
      "[CV 3/5] END .max_depth=6, min_child_samples=50;, score=0.276 total time=   1.0s\n",
      "[CV 4/5] END .max_depth=6, min_child_samples=50;, score=0.211 total time=   1.0s\n",
      "[CV 5/5] END .max_depth=6, min_child_samples=50;, score=0.226 total time=   1.0s\n",
      "[CV 1/5] END .max_depth=6, min_child_samples=60;, score=0.239 total time=   1.0s\n",
      "[CV 2/5] END .max_depth=6, min_child_samples=60;, score=0.177 total time=   1.0s\n",
      "[CV 3/5] END .max_depth=6, min_child_samples=60;, score=0.251 total time=   1.0s\n",
      "[CV 4/5] END .max_depth=6, min_child_samples=60;, score=0.186 total time=   1.0s\n",
      "[CV 5/5] END .max_depth=6, min_child_samples=60;, score=0.210 total time=   1.0s\n",
      "[CV 1/5] END .max_depth=6, min_child_samples=70;, score=0.247 total time=   1.0s\n",
      "[CV 2/5] END .max_depth=6, min_child_samples=70;, score=0.181 total time=   1.0s\n",
      "[CV 3/5] END .max_depth=6, min_child_samples=70;, score=0.244 total time=   1.0s\n",
      "[CV 4/5] END .max_depth=6, min_child_samples=70;, score=0.197 total time=   1.0s\n",
      "[CV 5/5] END .max_depth=6, min_child_samples=70;, score=0.226 total time=   1.0s\n",
      "[CV 1/5] END .max_depth=8, min_child_samples=20;, score=0.240 total time=   1.0s\n",
      "[CV 2/5] END .max_depth=8, min_child_samples=20;, score=0.233 total time=   1.1s\n",
      "[CV 3/5] END .max_depth=8, min_child_samples=20;, score=0.259 total time=   1.1s\n",
      "[CV 4/5] END .max_depth=8, min_child_samples=20;, score=0.227 total time=   1.1s\n",
      "[CV 5/5] END .max_depth=8, min_child_samples=20;, score=0.201 total time=   1.1s\n",
      "[CV 1/5] END .max_depth=8, min_child_samples=30;, score=0.270 total time=   1.1s\n",
      "[CV 2/5] END .max_depth=8, min_child_samples=30;, score=0.209 total time=   1.0s\n",
      "[CV 3/5] END .max_depth=8, min_child_samples=30;, score=0.260 total time=   1.1s\n",
      "[CV 4/5] END .max_depth=8, min_child_samples=30;, score=0.233 total time=   1.0s\n",
      "[CV 5/5] END .max_depth=8, min_child_samples=30;, score=0.231 total time=   1.1s\n",
      "[CV 1/5] END .max_depth=8, min_child_samples=40;, score=0.249 total time=   1.1s\n",
      "[CV 2/5] END .max_depth=8, min_child_samples=40;, score=0.211 total time=   1.0s\n",
      "[CV 3/5] END .max_depth=8, min_child_samples=40;, score=0.243 total time=   1.1s\n",
      "[CV 4/5] END .max_depth=8, min_child_samples=40;, score=0.243 total time=   1.1s\n",
      "[CV 5/5] END .max_depth=8, min_child_samples=40;, score=0.246 total time=   1.1s\n",
      "[CV 1/5] END .max_depth=8, min_child_samples=50;, score=0.252 total time=   1.1s\n",
      "[CV 2/5] END .max_depth=8, min_child_samples=50;, score=0.221 total time=   1.1s\n",
      "[CV 3/5] END .max_depth=8, min_child_samples=50;, score=0.275 total time=   1.1s\n",
      "[CV 4/5] END .max_depth=8, min_child_samples=50;, score=0.218 total time=   1.1s\n",
      "[CV 5/5] END .max_depth=8, min_child_samples=50;, score=0.217 total time=   1.1s\n",
      "[CV 1/5] END .max_depth=8, min_child_samples=60;, score=0.248 total time=   1.1s\n",
      "[CV 2/5] END .max_depth=8, min_child_samples=60;, score=0.235 total time=   1.1s\n",
      "[CV 3/5] END .max_depth=8, min_child_samples=60;, score=0.251 total time=   1.1s\n",
      "[CV 4/5] END .max_depth=8, min_child_samples=60;, score=0.224 total time=   1.1s\n",
      "[CV 5/5] END .max_depth=8, min_child_samples=60;, score=0.232 total time=   1.1s\n",
      "[CV 1/5] END .max_depth=8, min_child_samples=70;, score=0.290 total time=   1.1s\n",
      "[CV 2/5] END .max_depth=8, min_child_samples=70;, score=0.215 total time=   1.1s\n",
      "[CV 3/5] END .max_depth=8, min_child_samples=70;, score=0.262 total time=   1.0s\n",
      "[CV 4/5] END .max_depth=8, min_child_samples=70;, score=0.202 total time=   1.1s\n",
      "[CV 5/5] END .max_depth=8, min_child_samples=70;, score=0.218 total time=   1.0s\n"
     ]
    },
    {
     "data": {
      "text/html": [
       "<style>#sk-container-id-28 {color: black;background-color: white;}#sk-container-id-28 pre{padding: 0;}#sk-container-id-28 div.sk-toggleable {background-color: white;}#sk-container-id-28 label.sk-toggleable__label {cursor: pointer;display: block;width: 100%;margin-bottom: 0;padding: 0.3em;box-sizing: border-box;text-align: center;}#sk-container-id-28 label.sk-toggleable__label-arrow:before {content: \"▸\";float: left;margin-right: 0.25em;color: #696969;}#sk-container-id-28 label.sk-toggleable__label-arrow:hover:before {color: black;}#sk-container-id-28 div.sk-estimator:hover label.sk-toggleable__label-arrow:before {color: black;}#sk-container-id-28 div.sk-toggleable__content {max-height: 0;max-width: 0;overflow: hidden;text-align: left;background-color: #f0f8ff;}#sk-container-id-28 div.sk-toggleable__content pre {margin: 0.2em;color: black;border-radius: 0.25em;background-color: #f0f8ff;}#sk-container-id-28 input.sk-toggleable__control:checked~div.sk-toggleable__content {max-height: 200px;max-width: 100%;overflow: auto;}#sk-container-id-28 input.sk-toggleable__control:checked~label.sk-toggleable__label-arrow:before {content: \"▾\";}#sk-container-id-28 div.sk-estimator input.sk-toggleable__control:checked~label.sk-toggleable__label {background-color: #d4ebff;}#sk-container-id-28 div.sk-label input.sk-toggleable__control:checked~label.sk-toggleable__label {background-color: #d4ebff;}#sk-container-id-28 input.sk-hidden--visually {border: 0;clip: rect(1px 1px 1px 1px);clip: rect(1px, 1px, 1px, 1px);height: 1px;margin: -1px;overflow: hidden;padding: 0;position: absolute;width: 1px;}#sk-container-id-28 div.sk-estimator {font-family: monospace;background-color: #f0f8ff;border: 1px dotted black;border-radius: 0.25em;box-sizing: border-box;margin-bottom: 0.5em;}#sk-container-id-28 div.sk-estimator:hover {background-color: #d4ebff;}#sk-container-id-28 div.sk-parallel-item::after {content: \"\";width: 100%;border-bottom: 1px solid gray;flex-grow: 1;}#sk-container-id-28 div.sk-label:hover label.sk-toggleable__label {background-color: #d4ebff;}#sk-container-id-28 div.sk-serial::before {content: \"\";position: absolute;border-left: 1px solid gray;box-sizing: border-box;top: 0;bottom: 0;left: 50%;z-index: 0;}#sk-container-id-28 div.sk-serial {display: flex;flex-direction: column;align-items: center;background-color: white;padding-right: 0.2em;padding-left: 0.2em;position: relative;}#sk-container-id-28 div.sk-item {position: relative;z-index: 1;}#sk-container-id-28 div.sk-parallel {display: flex;align-items: stretch;justify-content: center;background-color: white;position: relative;}#sk-container-id-28 div.sk-item::before, #sk-container-id-28 div.sk-parallel-item::before {content: \"\";position: absolute;border-left: 1px solid gray;box-sizing: border-box;top: 0;bottom: 0;left: 50%;z-index: -1;}#sk-container-id-28 div.sk-parallel-item {display: flex;flex-direction: column;z-index: 1;position: relative;background-color: white;}#sk-container-id-28 div.sk-parallel-item:first-child::after {align-self: flex-end;width: 50%;}#sk-container-id-28 div.sk-parallel-item:last-child::after {align-self: flex-start;width: 50%;}#sk-container-id-28 div.sk-parallel-item:only-child::after {width: 0;}#sk-container-id-28 div.sk-dashed-wrapped {border: 1px dashed gray;margin: 0 0.4em 0.5em 0.4em;box-sizing: border-box;padding-bottom: 0.4em;background-color: white;}#sk-container-id-28 div.sk-label label {font-family: monospace;font-weight: bold;display: inline-block;line-height: 1.2em;}#sk-container-id-28 div.sk-label-container {text-align: center;}#sk-container-id-28 div.sk-container {/* jupyter's `normalize.less` sets `[hidden] { display: none; }` but bootstrap.min.css set `[hidden] { display: none !important; }` so we also need the `!important` here to be able to override the default hidden behavior on the sphinx rendered scikit-learn.org. See: https://github.com/scikit-learn/scikit-learn/issues/21755 */display: inline-block !important;position: relative;}#sk-container-id-28 div.sk-text-repr-fallback {display: none;}</style><div id=\"sk-container-id-28\" class=\"sk-top-container\"><div class=\"sk-text-repr-fallback\"><pre>GridSearchCV(cv=5,\n",
       "             estimator=LGBMClassifier(n_estimators=80, random_state=0,\n",
       "                                      subsample=0.6),\n",
       "             param_grid={&#x27;max_depth&#x27;: range(4, 10, 2),\n",
       "                         &#x27;min_child_samples&#x27;: range(20, 71, 10)},\n",
       "             scoring=&#x27;f1&#x27;, verbose=3)</pre><b>In a Jupyter environment, please rerun this cell to show the HTML representation or trust the notebook. <br />On GitHub, the HTML representation is unable to render, please try loading this page with nbviewer.org.</b></div><div class=\"sk-container\" hidden><div class=\"sk-item sk-dashed-wrapped\"><div class=\"sk-label-container\"><div class=\"sk-label sk-toggleable\"><input class=\"sk-toggleable__control sk-hidden--visually\" id=\"sk-estimator-id-91\" type=\"checkbox\" ><label for=\"sk-estimator-id-91\" class=\"sk-toggleable__label sk-toggleable__label-arrow\">GridSearchCV</label><div class=\"sk-toggleable__content\"><pre>GridSearchCV(cv=5,\n",
       "             estimator=LGBMClassifier(n_estimators=80, random_state=0,\n",
       "                                      subsample=0.6),\n",
       "             param_grid={&#x27;max_depth&#x27;: range(4, 10, 2),\n",
       "                         &#x27;min_child_samples&#x27;: range(20, 71, 10)},\n",
       "             scoring=&#x27;f1&#x27;, verbose=3)</pre></div></div></div><div class=\"sk-parallel\"><div class=\"sk-parallel-item\"><div class=\"sk-item\"><div class=\"sk-label-container\"><div class=\"sk-label sk-toggleable\"><input class=\"sk-toggleable__control sk-hidden--visually\" id=\"sk-estimator-id-92\" type=\"checkbox\" ><label for=\"sk-estimator-id-92\" class=\"sk-toggleable__label sk-toggleable__label-arrow\">estimator: LGBMClassifier</label><div class=\"sk-toggleable__content\"><pre>LGBMClassifier(n_estimators=80, random_state=0, subsample=0.6)</pre></div></div></div><div class=\"sk-serial\"><div class=\"sk-item\"><div class=\"sk-estimator sk-toggleable\"><input class=\"sk-toggleable__control sk-hidden--visually\" id=\"sk-estimator-id-93\" type=\"checkbox\" ><label for=\"sk-estimator-id-93\" class=\"sk-toggleable__label sk-toggleable__label-arrow\">LGBMClassifier</label><div class=\"sk-toggleable__content\"><pre>LGBMClassifier(n_estimators=80, random_state=0, subsample=0.6)</pre></div></div></div></div></div></div></div></div></div></div>"
      ],
      "text/plain": [
       "GridSearchCV(cv=5,\n",
       "             estimator=LGBMClassifier(n_estimators=80, random_state=0,\n",
       "                                      subsample=0.6),\n",
       "             param_grid={'max_depth': range(4, 10, 2),\n",
       "                         'min_child_samples': range(20, 71, 10)},\n",
       "             scoring='f1', verbose=3)"
      ]
     },
     "execution_count": 199,
     "metadata": {},
     "output_type": "execute_result"
    }
   ],
   "source": [
    "label = labels[5]\n",
    "LGBM_tuned_hate = LGBMClassifier(random_state=0, n_estimators=80, subsample=0.6)\n",
    "gsearch_hate = GridSearchCV(estimator=LGBM_tuned_hate, param_grid=param_test_each_label, scoring='f1', cv=5, verbose=3)\n",
    "gsearch_hate.fit(selected_train[features], selected_train[label])"
   ]
  },
  {
   "cell_type": "code",
   "execution_count": 200,
   "id": "467b70d3",
   "metadata": {},
   "outputs": [
    {
     "data": {
      "text/plain": [
       "({'max_depth': 8, 'min_child_samples': 30}, 0.24064688260100464)"
      ]
     },
     "execution_count": 200,
     "metadata": {},
     "output_type": "execute_result"
    }
   ],
   "source": [
    "gsearch_hate.best_params_, gsearch_hate.best_score_"
   ]
  },
  {
   "cell_type": "code",
   "execution_count": 201,
   "id": "a280f6f8",
   "metadata": {},
   "outputs": [
    {
     "name": "stdout",
     "output_type": "stream",
     "text": [
      "Model Performance on training set:\n",
      "Accuracy score:  0.9940653376866724\n",
      "Precision score:  0.8347953216374269\n",
      "Recall score:  0.40640569395017795\n",
      "F1 score:  0.546673049305888\n",
      "Confusion matrix:\n",
      "[[158053    113]\n",
      " [   834    571]]\n",
      "Logarithmic Loss:  0.014040202796486696\n",
      "ROC AUC score:  0.9969117247553283\n",
      "\n",
      "Model Performance on test set:\n",
      "Accuracy score:  0.9878395698521367\n",
      "Precision score:  0.4175\n",
      "Recall score:  0.2345505617977528\n",
      "F1 score:  0.30035971223021585\n",
      "Confusion matrix:\n",
      "[[63033   233]\n",
      " [  545   167]]\n",
      "Logarithmic Loss:  0.03950818531908332\n",
      "ROC AUC score:  0.9583303215565313\n"
     ]
    }
   ],
   "source": [
    "predictions(gsearch_hate)"
   ]
  },
  {
   "cell_type": "code",
   "execution_count": 202,
   "id": "766f9579",
   "metadata": {},
   "outputs": [
    {
     "data": {
      "text/html": [
       "<style>#sk-container-id-29 {color: black;background-color: white;}#sk-container-id-29 pre{padding: 0;}#sk-container-id-29 div.sk-toggleable {background-color: white;}#sk-container-id-29 label.sk-toggleable__label {cursor: pointer;display: block;width: 100%;margin-bottom: 0;padding: 0.3em;box-sizing: border-box;text-align: center;}#sk-container-id-29 label.sk-toggleable__label-arrow:before {content: \"▸\";float: left;margin-right: 0.25em;color: #696969;}#sk-container-id-29 label.sk-toggleable__label-arrow:hover:before {color: black;}#sk-container-id-29 div.sk-estimator:hover label.sk-toggleable__label-arrow:before {color: black;}#sk-container-id-29 div.sk-toggleable__content {max-height: 0;max-width: 0;overflow: hidden;text-align: left;background-color: #f0f8ff;}#sk-container-id-29 div.sk-toggleable__content pre {margin: 0.2em;color: black;border-radius: 0.25em;background-color: #f0f8ff;}#sk-container-id-29 input.sk-toggleable__control:checked~div.sk-toggleable__content {max-height: 200px;max-width: 100%;overflow: auto;}#sk-container-id-29 input.sk-toggleable__control:checked~label.sk-toggleable__label-arrow:before {content: \"▾\";}#sk-container-id-29 div.sk-estimator input.sk-toggleable__control:checked~label.sk-toggleable__label {background-color: #d4ebff;}#sk-container-id-29 div.sk-label input.sk-toggleable__control:checked~label.sk-toggleable__label {background-color: #d4ebff;}#sk-container-id-29 input.sk-hidden--visually {border: 0;clip: rect(1px 1px 1px 1px);clip: rect(1px, 1px, 1px, 1px);height: 1px;margin: -1px;overflow: hidden;padding: 0;position: absolute;width: 1px;}#sk-container-id-29 div.sk-estimator {font-family: monospace;background-color: #f0f8ff;border: 1px dotted black;border-radius: 0.25em;box-sizing: border-box;margin-bottom: 0.5em;}#sk-container-id-29 div.sk-estimator:hover {background-color: #d4ebff;}#sk-container-id-29 div.sk-parallel-item::after {content: \"\";width: 100%;border-bottom: 1px solid gray;flex-grow: 1;}#sk-container-id-29 div.sk-label:hover label.sk-toggleable__label {background-color: #d4ebff;}#sk-container-id-29 div.sk-serial::before {content: \"\";position: absolute;border-left: 1px solid gray;box-sizing: border-box;top: 0;bottom: 0;left: 50%;z-index: 0;}#sk-container-id-29 div.sk-serial {display: flex;flex-direction: column;align-items: center;background-color: white;padding-right: 0.2em;padding-left: 0.2em;position: relative;}#sk-container-id-29 div.sk-item {position: relative;z-index: 1;}#sk-container-id-29 div.sk-parallel {display: flex;align-items: stretch;justify-content: center;background-color: white;position: relative;}#sk-container-id-29 div.sk-item::before, #sk-container-id-29 div.sk-parallel-item::before {content: \"\";position: absolute;border-left: 1px solid gray;box-sizing: border-box;top: 0;bottom: 0;left: 50%;z-index: -1;}#sk-container-id-29 div.sk-parallel-item {display: flex;flex-direction: column;z-index: 1;position: relative;background-color: white;}#sk-container-id-29 div.sk-parallel-item:first-child::after {align-self: flex-end;width: 50%;}#sk-container-id-29 div.sk-parallel-item:last-child::after {align-self: flex-start;width: 50%;}#sk-container-id-29 div.sk-parallel-item:only-child::after {width: 0;}#sk-container-id-29 div.sk-dashed-wrapped {border: 1px dashed gray;margin: 0 0.4em 0.5em 0.4em;box-sizing: border-box;padding-bottom: 0.4em;background-color: white;}#sk-container-id-29 div.sk-label label {font-family: monospace;font-weight: bold;display: inline-block;line-height: 1.2em;}#sk-container-id-29 div.sk-label-container {text-align: center;}#sk-container-id-29 div.sk-container {/* jupyter's `normalize.less` sets `[hidden] { display: none; }` but bootstrap.min.css set `[hidden] { display: none !important; }` so we also need the `!important` here to be able to override the default hidden behavior on the sphinx rendered scikit-learn.org. See: https://github.com/scikit-learn/scikit-learn/issues/21755 */display: inline-block !important;position: relative;}#sk-container-id-29 div.sk-text-repr-fallback {display: none;}</style><div id=\"sk-container-id-29\" class=\"sk-top-container\"><div class=\"sk-text-repr-fallback\"><pre>GridSearchCV(cv=5,\n",
       "             estimator=LGBMClassifier(n_estimators=80, random_state=0,\n",
       "                                      subsample=0.6),\n",
       "             param_grid={&#x27;max_depth&#x27;: range(4, 10, 2),\n",
       "                         &#x27;min_child_samples&#x27;: range(20, 71, 10)},\n",
       "             scoring=&#x27;f1&#x27;, verbose=3)</pre><b>In a Jupyter environment, please rerun this cell to show the HTML representation or trust the notebook. <br />On GitHub, the HTML representation is unable to render, please try loading this page with nbviewer.org.</b></div><div class=\"sk-container\" hidden><div class=\"sk-item sk-dashed-wrapped\"><div class=\"sk-label-container\"><div class=\"sk-label sk-toggleable\"><input class=\"sk-toggleable__control sk-hidden--visually\" id=\"sk-estimator-id-94\" type=\"checkbox\" ><label for=\"sk-estimator-id-94\" class=\"sk-toggleable__label sk-toggleable__label-arrow\">GridSearchCV</label><div class=\"sk-toggleable__content\"><pre>GridSearchCV(cv=5,\n",
       "             estimator=LGBMClassifier(n_estimators=80, random_state=0,\n",
       "                                      subsample=0.6),\n",
       "             param_grid={&#x27;max_depth&#x27;: range(4, 10, 2),\n",
       "                         &#x27;min_child_samples&#x27;: range(20, 71, 10)},\n",
       "             scoring=&#x27;f1&#x27;, verbose=3)</pre></div></div></div><div class=\"sk-parallel\"><div class=\"sk-parallel-item\"><div class=\"sk-item\"><div class=\"sk-label-container\"><div class=\"sk-label sk-toggleable\"><input class=\"sk-toggleable__control sk-hidden--visually\" id=\"sk-estimator-id-95\" type=\"checkbox\" ><label for=\"sk-estimator-id-95\" class=\"sk-toggleable__label sk-toggleable__label-arrow\">estimator: LGBMClassifier</label><div class=\"sk-toggleable__content\"><pre>LGBMClassifier(n_estimators=80, random_state=0, subsample=0.6)</pre></div></div></div><div class=\"sk-serial\"><div class=\"sk-item\"><div class=\"sk-estimator sk-toggleable\"><input class=\"sk-toggleable__control sk-hidden--visually\" id=\"sk-estimator-id-96\" type=\"checkbox\" ><label for=\"sk-estimator-id-96\" class=\"sk-toggleable__label sk-toggleable__label-arrow\">LGBMClassifier</label><div class=\"sk-toggleable__content\"><pre>LGBMClassifier(n_estimators=80, random_state=0, subsample=0.6)</pre></div></div></div></div></div></div></div></div></div></div>"
      ],
      "text/plain": [
       "GridSearchCV(cv=5,\n",
       "             estimator=LGBMClassifier(n_estimators=80, random_state=0,\n",
       "                                      subsample=0.6),\n",
       "             param_grid={'max_depth': range(4, 10, 2),\n",
       "                         'min_child_samples': range(20, 71, 10)},\n",
       "             scoring='f1', verbose=3)"
      ]
     },
     "execution_count": 202,
     "metadata": {},
     "output_type": "execute_result"
    }
   ],
   "source": [
    "gsearch_hate"
   ]
  },
  {
   "cell_type": "code",
   "execution_count": 203,
   "id": "926a55db",
   "metadata": {},
   "outputs": [
    {
     "data": {
      "text/plain": [
       "['lgbm_hate.sav']"
      ]
     },
     "execution_count": 203,
     "metadata": {},
     "output_type": "execute_result"
    }
   ],
   "source": [
    "joblib.dump(gsearch_hate, 'lgbm_hate.sav')"
   ]
  },
  {
   "cell_type": "markdown",
   "id": "541cab49",
   "metadata": {},
   "source": [
    "## -- end --"
   ]
  }
 ],
 "metadata": {
  "kernelspec": {
   "display_name": "Python 3 (ipykernel)",
   "language": "python",
   "name": "python3"
  },
  "language_info": {
   "codemirror_mode": {
    "name": "ipython",
    "version": 3
   },
   "file_extension": ".py",
   "mimetype": "text/x-python",
   "name": "python",
   "nbconvert_exporter": "python",
   "pygments_lexer": "ipython3",
   "version": "3.10.4"
  }
 },
 "nbformat": 4,
 "nbformat_minor": 5
}
